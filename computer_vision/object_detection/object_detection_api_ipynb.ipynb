{
  "nbformat": 4,
  "nbformat_minor": 0,
  "metadata": {
    "colab": {
      "name": "object_detection_api.ipynb.ipynb",
      "provenance": [],
      "collapsed_sections": [],
      "authorship_tag": "ABX9TyPtz83dq5ZhF4wiwa/xACAH",
      "include_colab_link": true
    },
    "kernelspec": {
      "name": "python3",
      "display_name": "Python 3"
    },
    "accelerator": "GPU"
  },
  "cells": [
    {
      "cell_type": "markdown",
      "metadata": {
        "id": "view-in-github",
        "colab_type": "text"
      },
      "source": [
        "<a href=\"https://colab.research.google.com/github/vasiliyeskin/MachineLearningExperiences/blob/master/computer_vision/object_detection/object_detection_api_ipynb.ipynb\" target=\"_parent\"><img src=\"https://colab.research.google.com/assets/colab-badge.svg\" alt=\"Open In Colab\"/></a>"
      ]
    },
    {
      "cell_type": "markdown",
      "metadata": {
        "id": "JlNYmXjGbLPa",
        "colab_type": "text"
      },
      "source": [
        "# **Пример поиска и распознавания объектов на изображении**"
      ]
    },
    {
      "cell_type": "markdown",
      "metadata": {
        "id": "IuozStQIbOHx",
        "colab_type": "text"
      },
      "source": [
        "Используется TensorFlow Object Detection API. Инструкции по установке:\n",
        "\n",
        "Linux.\n",
        "Windows.\n",
        "Видео на YouTube с демонстрацией распознавания объектов."
      ]
    },
    {
      "cell_type": "markdown",
      "metadata": {
        "id": "p7Cc_v8lfqc1",
        "colab_type": "text"
      },
      "source": [
        "\n",
        "**Imports and Setup of Object Detection**"
      ]
    },
    {
      "cell_type": "code",
      "metadata": {
        "id": "bqDFN5V_fsV7",
        "colab_type": "code",
        "colab": {}
      },
      "source": [
        "import os\n",
        "import pathlib\n",
        "\n",
        "# Clone the tensorflow models repository if it doesn't already exist\n",
        "if \"models\" in pathlib.Path.cwd().parts:\n",
        "  while \"models\" in pathlib.Path.cwd().parts:\n",
        "    os.chdir('..')\n",
        "elif not pathlib.Path('models').exists():\n",
        "  !git clone --depth 1 https://github.com/tensorflow/models"
      ],
      "execution_count": null,
      "outputs": []
    },
    {
      "cell_type": "code",
      "metadata": {
        "id": "m6yO8uIlf8Gd",
        "colab_type": "code",
        "colab": {}
      },
      "source": [
        "# Install the Object Detection API\n",
        "%%bash\n",
        "cd models/research/\n",
        "protoc object_detection/protos/*.proto --python_out=.\n",
        "cp object_detection/packages/tf2/setup.py .\n",
        "python -m pip install ."
      ],
      "execution_count": null,
      "outputs": []
    },
    {
      "cell_type": "markdown",
      "metadata": {
        "id": "ETGaP2cyf3-8",
        "colab_type": "text"
      },
      "source": [
        "**Сам код**"
      ]
    },
    {
      "cell_type": "code",
      "metadata": {
        "id": "4fbCDlGWa4hz",
        "colab_type": "code",
        "colab": {}
      },
      "source": [
        "import matplotlib\n",
        "import matplotlib.pyplot as plt\n",
        "\n",
        "import io\n",
        "import scipy.misc\n",
        "import numpy as np\n",
        "from six import BytesIO\n",
        "from PIL import Image, ImageDraw, ImageFont\n",
        "\n",
        "import tensorflow as tf\n",
        "\n",
        "from object_detection.utils import label_map_util\n",
        "from object_detection.utils import config_util\n",
        "from object_detection.utils import visualization_utils as viz_utils\n",
        "from object_detection.builders import model_builder\n",
        "%matplotlib inline"
      ],
      "execution_count": 3,
      "outputs": []
    },
    {
      "cell_type": "markdown",
      "metadata": {
        "id": "y_sNG34SbiA0",
        "colab_type": "text"
      },
      "source": [
        "# **Загружаем модель TensorFlow**\n",
        "Модель можно загрузить из Tensorflow detection model zoo. Из каталога с моделью нужен всего один файл - frozen_inference_graph.pb. Это \"замороженная\" предварительно обученная сеть, которую можно использовать для распознавания (inference).\n",
        "\n",
        "Есть два типа моделей, отличаются выходными данными, указано в слобце Outputs в таблице:\n",
        "\n",
        "    Boxes - модель выдает прямоугольник, внутри которого находится найденный объект\n",
        "    Masks - модель выдает маску пикселей, которые соответствуют объекту"
      ]
    },
    {
      "cell_type": "code",
      "metadata": {
        "id": "Ik_UXx56brRs",
        "colab_type": "code",
        "colab": {}
      },
      "source": [
        "# Тип выходных данных модели - Boxes\n",
        "model_file_name = 'faster_rcnn_inception_resnet_v2_atrous_coco_2018_01_28/frozen_inference_graph.pb'\n",
        "# Тип выходных данных модели - Masks\n",
        "# model_file_name = 'mask_rcnn_resnet101_atrous_coco_2018_01_28/frozen_inference_graph.pb'"
      ],
      "execution_count": null,
      "outputs": []
    }
  ]
}