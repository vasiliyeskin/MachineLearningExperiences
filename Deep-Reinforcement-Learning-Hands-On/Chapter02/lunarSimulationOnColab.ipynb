{
 "nbformat": 4,
 "nbformat_minor": 0,
 "metadata": {
  "colab": {
   "name": "Untitled4.ipynb",
   "provenance": [],
   "authorship_tag": "ABX9TyM61819Knvj4WBUeiwNLEgC",
   "include_colab_link": true
  },
  "kernelspec": {
   "name": "python3",
   "language": "python",
   "display_name": "Python 3"
  },
  "accelerator": "GPU"
 },
 "cells": [
  {
   "cell_type": "markdown",
   "metadata": {
    "id": "view-in-github",
    "colab_type": "text"
   },
   "source": [
    "<a href=\"https://colab.research.google.com/github/vasiliyeskin/MachineLearningExperiences/blob/master/Deep-Reinforcement-Learning-Hands-On/Chapter02/lunarSimulationOnColab.ipynb\" target=\"_parent\"><img src=\"https://colab.research.google.com/assets/colab-badge.svg\" alt=\"Open In Colab\"/></a>"
   ]
  },
  {
   "cell_type": "markdown",
   "metadata": {
    "id": "oXjb5XZaVxTw",
    "colab_type": "text"
   },
   "source": [
    "Взято с \n",
    "https://davidrpugh.github.io/stochastic-expatriate-descent/openai/binder/google-colab/2020/04/16/remote-rendering-gym-envs.html"
   ]
  },
  {
   "cell_type": "code",
   "metadata": {
    "id": "OBozm-WkOXGn",
    "colab_type": "code",
    "colab": {
     "base_uri": "https://localhost:8080/",
     "height": 167
    },
    "outputId": "0ed225b5-bc74-4c21-c274-97be4d77034c"
   },
   "source": [
    "!apt-get install -y xvfb x11-utils"
   ],
   "execution_count": null,
   "outputs": [
    {
     "output_type": "stream",
     "text": [
      "Reading package lists... Done\n",
      "Building dependency tree       \n",
      "Reading state information... Done\n",
      "x11-utils is already the newest version (7.7+3build1).\n",
      "xvfb is already the newest version (2:1.19.6-1ubuntu4.4).\n",
      "The following package was automatically installed and is no longer required:\n",
      "  libnvidia-common-440\n",
      "Use 'apt autoremove' to remove it.\n",
      "0 upgraded, 0 newly installed, 0 to remove and 35 not upgraded.\n"
     ],
     "name": "stdout"
    }
   ]
  },
  {
   "cell_type": "code",
   "metadata": {
    "id": "1SvBzD8IV_j6",
    "colab_type": "code",
    "colab": {
     "base_uri": "https://localhost:8080/",
     "height": 84
    },
    "outputId": "3030bf7f-b8ce-4891-906a-75c7adc522a6"
   },
   "source": [
    "!pip install pyvirtualdisplay==0.2.* PyOpenGL==3.1.* PyOpenGL-accelerate==3.1.*"
   ],
   "execution_count": null,
   "outputs": [
    {
     "output_type": "stream",
     "text": [
      "Requirement already satisfied: pyvirtualdisplay==0.2.* in /usr/local/lib/python3.6/dist-packages (0.2.5)\n",
      "Requirement already satisfied: PyOpenGL==3.1.* in /usr/local/lib/python3.6/dist-packages (3.1.5)\n",
      "Requirement already satisfied: PyOpenGL-accelerate==3.1.* in /usr/local/lib/python3.6/dist-packages (3.1.5)\n",
      "Requirement already satisfied: EasyProcess in /usr/local/lib/python3.6/dist-packages (from pyvirtualdisplay==0.2.*) (0.3)\n"
     ],
     "name": "stdout"
    }
   ]
  },
  {
   "cell_type": "code",
   "metadata": {
    "id": "_Ld3--c1ZCcP",
    "colab_type": "code",
    "colab": {
     "base_uri": "https://localhost:8080/",
     "height": 154
    },
    "outputId": "8c1277b5-1231-4514-86e4-1535ac272e6e"
   },
   "source": [
    "!pip install gym[box2d]==0.17.* "
   ],
   "execution_count": null,
   "outputs": [
    {
     "output_type": "stream",
     "text": [
      "Requirement already satisfied: gym[box2d]==0.17.* in /usr/local/lib/python3.6/dist-packages (0.17.2)\n",
      "Requirement already satisfied: numpy>=1.10.4 in /usr/local/lib/python3.6/dist-packages (from gym[box2d]==0.17.*) (1.18.5)\n",
      "Requirement already satisfied: scipy in /usr/local/lib/python3.6/dist-packages (from gym[box2d]==0.17.*) (1.4.1)\n",
      "Requirement already satisfied: cloudpickle<1.4.0,>=1.2.0 in /usr/local/lib/python3.6/dist-packages (from gym[box2d]==0.17.*) (1.3.0)\n",
      "Requirement already satisfied: pyglet<=1.5.0,>=1.4.0 in /usr/local/lib/python3.6/dist-packages (from gym[box2d]==0.17.*) (1.5.0)\n",
      "Requirement already satisfied: box2d-py~=2.3.5; extra == \"box2d\" in /usr/local/lib/python3.6/dist-packages (from gym[box2d]==0.17.*) (2.3.8)\n",
      "Requirement already satisfied: future in /usr/local/lib/python3.6/dist-packages (from pyglet<=1.5.0,>=1.4.0->gym[box2d]==0.17.*) (0.16.0)\n"
     ],
     "name": "stdout"
    }
   ]
  },
  {
   "cell_type": "code",
   "metadata": {
    "id": "8935yYrtWWYv",
    "colab_type": "code",
    "colab": {
     "base_uri": "https://localhost:8080/",
     "height": 33
    },
    "outputId": "8d189d94-213e-449e-b170-0ad7334ad056"
   },
   "source": [
    "!echo $DISPLAY"
   ],
   "execution_count": null,
   "outputs": [
    {
     "output_type": "stream",
     "text": [
      ":1005\n"
     ],
     "name": "stdout"
    }
   ]
  },
  {
   "cell_type": "code",
   "metadata": {
    "id": "TuKgKgGiWW0W",
    "colab_type": "code",
    "colab": {}
   },
   "source": [
    "import pyvirtualdisplay\n",
    "\n",
    "\n",
    "_display = pyvirtualdisplay.Display(visible=False,  # use False with Xvfb\n",
    "                                    size=(1400, 900))\n",
    "_ = _display.start()"
   ],
   "execution_count": null,
   "outputs": []
  },
  {
   "cell_type": "code",
   "metadata": {
    "id": "uNozbaXCWbjF",
    "colab_type": "code",
    "colab": {
     "base_uri": "https://localhost:8080/",
     "height": 33
    },
    "outputId": "8c6ca7e3-f568-4146-dc52-fe1ff6f860da"
   },
   "source": [
    "!echo $DISPLAY"
   ],
   "execution_count": null,
   "outputs": [
    {
     "output_type": "stream",
     "text": [
      ":1009\n"
     ],
     "name": "stdout"
    }
   ]
  },
  {
   "cell_type": "code",
   "metadata": {
    "id": "KBYi3PUgWe9p",
    "colab_type": "code",
    "colab": {}
   },
   "source": [
    "import typing\n",
    "\n",
    "import numpy as np\n",
    "\n",
    "\n",
    "# represent states as arrays and actions as ints\n",
    "State = np.array\n",
    "Action = int\n",
    "\n",
    "# agent is just a function! \n",
    "Agent = typing.Callable[[State], Action]\n",
    "\n",
    "\n",
    "def uniform_random_policy(state: State,\n",
    "                          number_actions: int,\n",
    "                          random_state: np.random.RandomState) -> Action:\n",
    "    \"\"\"Select an action at random from the set of feasible actions.\"\"\"\n",
    "    feasible_actions = np.arange(number_actions)\n",
    "    probs = np.ones(number_actions) / number_actions\n",
    "    action = random_state.choice(feasible_actions, p=probs)\n",
    "    return action\n",
    "\n",
    "\n",
    "def make_random_agent(number_actions: int,\n",
    "                      random_state: np.random.RandomState = None) -> Agent:\n",
    "    \"\"\"Factory for creating an Agent.\"\"\"\n",
    "    _random_state = np.random.RandomState() if random_state is None else random_state\n",
    "    return lambda state: uniform_random_policy(state, number_actions, _random_state)"
   ],
   "execution_count": 1,
   "outputs": []
  },
  {
   "cell_type": "code",
   "metadata": {
    "id": "pHR5EJkNWuNs",
    "colab_type": "code",
    "colab": {}
   },
   "source": [
    "import gym\n",
    "import matplotlib.pyplot as plt\n",
    "from IPython import display\n",
    "\n",
    "\n",
    "def simulate(agent: Agent, env: gym.Env) -> None:\n",
    "    state = env.reset()\n",
    "    img = plt.imshow(env.render(mode='rgb_array'))\n",
    "    done = False\n",
    "    while not done:\n",
    "        action = agent(state)\n",
    "        img.set_data(env.render(mode='rgb_array')) \n",
    "        plt.axis('off')\n",
    "        display.display(plt.gcf())\n",
    "        display.clear_output(wait=True)\n",
    "        state, reward, done, _ = env.step(action)       \n",
    "    env.close()"
   ],
   "execution_count": 3,
   "outputs": []
  },
  {
   "cell_type": "code",
   "metadata": {
    "id": "9Vxd5ZeiWxHA",
    "colab_type": "code",
    "colab": {}
   },
   "source": [
    "lunar_lander_v2 = gym.make('LunarLander-v2')\n",
    "lunar_lander_v2 = gym.wrappers.Monitor(lunar_lander_v2, \"recording\", force=True)\n",
    "_ = lunar_lander_v2.seed(42)"
   ],
   "execution_count": 8,
   "outputs": []
  },
  {
   "cell_type": "code",
   "metadata": {
    "id": "VvUhBTQgW1fQ",
    "colab_type": "code",
    "colab": {
     "base_uri": "https://localhost:8080/",
     "height": 248
    },
    "outputId": "bbc6a71e-b4f3-4740-9d00-b566495a4847"
   },
   "source": [
    "random_agent = make_random_agent(lunar_lander_v2.action_space.n, random_state=None)\n",
    "simulate(random_agent, lunar_lander_v2)"
   ],
   "execution_count": 9,
   "outputs": [
    {
     "data": {
      "text/plain": "<Figure size 432x288 with 1 Axes>",
      "image/png": "[encoded data removed]"
     },
     "metadata": {
      "needs_background": "light"
     },
     "output_type": "display_data"
    }
   ]
  }
 ]
}