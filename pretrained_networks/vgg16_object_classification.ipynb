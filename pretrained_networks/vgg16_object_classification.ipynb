{
  "nbformat": 4,
  "nbformat_minor": 0,
  "metadata": {
    "colab": {
      "name": "vgg16_object_classification.ipynb",
      "provenance": [],
      "collapsed_sections": [],
      "authorship_tag": "ABX9TyOfLve98ILfTa2MLKCiZ2as",
      "include_colab_link": true
    },
    "kernelspec": {
      "name": "python3",
      "display_name": "Python 3"
    },
    "accelerator": "GPU"
  },
  "cells": [
    {
      "cell_type": "markdown",
      "metadata": {
        "id": "view-in-github",
        "colab_type": "text"
      },
      "source": [
        "<a href=\"https://colab.research.google.com/github/vasiliyeskin/MachineLearningExperiences/blob/master/pretrained_networks/vgg16_object_classification.ipynb\" target=\"_parent\"><img src=\"https://colab.research.google.com/assets/colab-badge.svg\" alt=\"Open In Colab\"/></a>"
      ]
    },
    {
      "cell_type": "markdown",
      "metadata": {
        "id": "DQA8t_Q8COta",
        "colab_type": "text"
      },
      "source": [
        "# **Использование предобученной нейронной сети**"
      ]
    },
    {
      "cell_type": "code",
      "metadata": {
        "id": "ETc6k_awCJPN",
        "colab_type": "code",
        "colab": {}
      },
      "source": [
        "from tensorflow.keras.applications.vgg16 import VGG16\n",
        "from tensorflow.keras.preprocessing import image\n",
        "from tensorflow.keras.applications.vgg16 import preprocess_input, decode_predictions\n",
        "import numpy as np\n",
        "import matplotlib.pyplot as plt"
      ],
      "execution_count": 2,
      "outputs": []
    },
    {
      "cell_type": "code",
      "metadata": {
        "id": "LBAcI_EKDMb6",
        "colab_type": "code",
        "colab": {
          "base_uri": "https://localhost:8080/",
          "height": 52
        },
        "outputId": "c5de6dee-85c7-4f4f-a882-188374e3be23"
      },
      "source": [
        "# Создаем модель с архитектурой VGG16 и загружаем веса, обученные\n",
        "# на наборе данных ImageNet\n",
        "model = VGG16(weights='imagenet')"
      ],
      "execution_count": 3,
      "outputs": [
        {
          "output_type": "stream",
          "text": [
            "Downloading data from https://storage.googleapis.com/tensorflow/keras-applications/vgg16/vgg16_weights_tf_dim_ordering_tf_kernels.h5\n",
            "553467904/553467096 [==============================] - 25s 0us/step\n"
          ],
          "name": "stdout"
        }
      ]
    },
    {
      "cell_type": "code",
      "metadata": {
        "id": "0_AWQH_SDaxT",
        "colab_type": "code",
        "colab": {}
      },
      "source": [
        "# Загружаем изображение для распознавания, преобразовываем его в массив\n",
        "# numpy и выполняем предварительную обработку\n",
        "# img_path = 'cat.jpg'\n",
        "# img_path = 'ship.jpg'\n",
        "img_path = 'plane.jpg'\n",
        "# img_path = 'alien.jpg'\n",
        "# img_path = 'stranger.jpg'\n",
        "img = image.load_img(img_path, target_size=(224, 224))\n",
        "plt.imshow(img, cmap='gray')\n",
        "plt.show()"
      ],
      "execution_count": null,
      "outputs": []
    }
  ]
}