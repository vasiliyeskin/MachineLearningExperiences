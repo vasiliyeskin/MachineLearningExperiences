{
  "nbformat": 4,
  "nbformat_minor": 0,
  "metadata": {
    "colab": {
      "name": "cifar10.ipynb",
      "version": "0.3.2",
      "provenance": []
    },
    "kernelspec": {
      "name": "python3",
      "display_name": "Python 3"
    },
    "accelerator": "GPU"
  },
  "cells": [
    {
      "cell_type": "markdown",
      "metadata": {
        "id": "view-in-github",
        "colab_type": "text"
      },
      "source": [
        "[View in Colaboratory](https://colab.research.google.com/github/vasiliyeskin/MachineLearningExperiences/blob/master/cifar10.ipynb)"
      ]
    },
    {
      "metadata": {
        "id": "ps6VA4r1C_wm",
        "colab_type": "text"
      },
      "cell_type": "markdown",
      "source": [
        "# Распознавание объектов на изображениях из набора данных CIFAR-10\n",
        "\n",
        "Пример из курса [\"Программирование глубоких нейронных сетей на Python\"](https://www.asozykin.ru/courses/nnpython).\n",
        "\n",
        "Чтобы запускать и редактировать код, сохраните копию этого ноутбука себе (File->Save a copy in Drive...). Свою копию вы сможете изменять и запускать."
      ]
    },
    {
      "metadata": {
        "id": "T6hmBuIyjRUu",
        "colab_type": "code",
        "colab": {}
      },
      "cell_type": "code",
      "source": [
        "import numpy as np\n",
        "from keras.datasets import cifar10\n",
        "from keras.models import Sequential\n",
        "from keras.layers import Dense, Flatten\n",
        "from keras.layers import Dropout\n",
        "from keras.layers.convolutional import Conv2D, MaxPooling2D\n",
        "from keras.utils import np_utils\n",
        "from keras.preprocessing import image\n",
        "import matplotlib.pyplot as plt\n",
        "from scipy.misc import toimage\n",
        "%matplotlib inline "
      ],
      "execution_count": 0,
      "outputs": []
    },
    {
      "metadata": {
        "id": "PfEKaHglj2VL",
        "colab_type": "code",
        "colab": {}
      },
      "cell_type": "code",
      "source": [
        "# Размер мини-выборки\n",
        "batch_size = 32\n",
        "# Количество классов изображений\n",
        "nb_classes = 10\n",
        "# Количество эпох для обучения\n",
        "nb_epoch = 25\n",
        "# Размер изображений\n",
        "img_rows, img_cols = 32, 32\n",
        "# Количество каналов в изображении: RGB\n",
        "img_channels = 3\n",
        "# Названия классов из набора данных CIFAR-10\n",
        "classes=['самолет', 'автомобиль', 'птица', 'кот', 'олень', 'собака', 'лягушка', 'лошадь', 'корабль', 'грузовик']"
      ],
      "execution_count": 0,
      "outputs": []
    },
    {
      "metadata": {
        "id": "Tt2d0pKXDR1c",
        "colab_type": "text"
      },
      "cell_type": "markdown",
      "source": [
        "## Подготовка данных"
      ]
    },
    {
      "metadata": {
        "id": "kzQx_ZOZDNYV",
        "colab_type": "text"
      },
      "cell_type": "markdown",
      "source": [
        "**Загружаем данные**"
      ]
    },
    {
      "metadata": {
        "id": "ARLcknFUj4Oc",
        "colab_type": "code",
        "colab": {}
      },
      "cell_type": "code",
      "source": [
        "(X_train, y_train), (X_test, y_test) = cifar10.load_data()"
      ],
      "execution_count": 0,
      "outputs": []
    },
    {
      "metadata": {
        "id": "1EJSbfDoDrnV",
        "colab_type": "text"
      },
      "cell_type": "markdown",
      "source": [
        "**Просмотр примеров данных**"
      ]
    },
    {
      "metadata": {
        "id": "KCXgj92ckE-J",
        "colab_type": "code",
        "colab": {
          "base_uri": "https://localhost:8080/",
          "height": 302
        },
        "outputId": "b2ea36c8-b217-49ed-8913-765c7640b602"
      },
      "cell_type": "code",
      "source": [
        "n = 9545\n",
        "plt.imshow(toimage(X_train[n]))\n",
        "plt.show()\n",
        "print(\"Номер класса:\", y_train[n])\n",
        "print(\"Тип объекта:\", classes[y_train[n][0]])"
      ],
      "execution_count": 17,
      "outputs": [
        {
          "output_type": "display_data",
          "data": {
            "image/png": "[encoded data removed]",
            "text/plain": [
              "<matplotlib.figure.Figure at 0x7f26ed90d940>"
            ]
          },
          "metadata": {
            "tags": []
          }
        },
        {
          "output_type": "stream",
          "text": [
            "Номер класса: [8]\n",
            "Тип объекта: корабль\n"
          ],
          "name": "stdout"
        }
      ]
    },
    {
      "metadata": {
        "id": "2kyCZJECE5Vu",
        "colab_type": "text"
      },
      "cell_type": "markdown",
      "source": [
        "**Нормализуем данные**"
      ]
    },
    {
      "metadata": {
        "id": "C33r-0yNkJUA",
        "colab_type": "code",
        "colab": {}
      },
      "cell_type": "code",
      "source": [
        "X_train = X_train.astype('float32')\n",
        "X_test = X_test.astype('float32')\n",
        "X_train /= 255\n",
        "X_test /= 255"
      ],
      "execution_count": 0,
      "outputs": []
    },
    {
      "metadata": {
        "id": "qj07Mr7CE9Zt",
        "colab_type": "text"
      },
      "cell_type": "markdown",
      "source": [
        "**Преобразуем правильные ответы в формат one hot encoding**"
      ]
    },
    {
      "metadata": {
        "id": "VHzeTThQFEs1",
        "colab_type": "code",
        "colab": {}
      },
      "cell_type": "code",
      "source": [
        "Y_train = np_utils.to_categorical(y_train, nb_classes)\n",
        "Y_test = np_utils.to_categorical(y_test, nb_classes)"
      ],
      "execution_count": 0,
      "outputs": []
    },
    {
      "metadata": {
        "id": "mnT8h77PFLXu",
        "colab_type": "text"
      },
      "cell_type": "markdown",
      "source": [
        "## Создаем нейронную сеть"
      ]
    },
    {
      "metadata": {
        "id": "U0MLXRCqkPGC",
        "colab_type": "code",
        "colab": {}
      },
      "cell_type": "code",
      "source": [
        "# Создаем последовательную модель\n",
        "model = Sequential()\n",
        "# Первый сверточный слой\n",
        "model.add(Conv2D(32, (3, 3), padding='same',\n",
        "                        input_shape=(32, 32, 3), activation='relu'))\n",
        "# Второй сверточный слой\n",
        "model.add(Conv2D(32, (3, 3), activation='relu', padding='same'))\n",
        "# Первый слой подвыборки\n",
        "model.add(MaxPooling2D(pool_size=(2, 2)))\n",
        "# Слой регуляризации Dropout\n",
        "model.add(Dropout(0.25))\n",
        "\n",
        "# Третий сверточный слой\n",
        "model.add(Conv2D(64, (3, 3), padding='same', activation='relu'))\n",
        "# Четвертый сверточный слой\n",
        "model.add(Conv2D(64, (3, 3), activation='relu'))\n",
        "# Второй слой подвыборки\n",
        "model.add(MaxPooling2D(pool_size=(2, 2)))\n",
        "# Слой регуляризации Dropout\n",
        "model.add(Dropout(0.25))\n",
        "# Слой преобразования данных из 2D представления в плоское\n",
        "model.add(Flatten())\n",
        "# Полносвязный слой для классификации\n",
        "model.add(Dense(512, activation='relu'))\n",
        "# Слой регуляризации Dropout\n",
        "model.add(Dropout(0.5))\n",
        "# Выходной полносвязный слой\n",
        "model.add(Dense(nb_classes, activation='softmax'))"
      ],
      "execution_count": 0,
      "outputs": []
    },
    {
      "metadata": {
        "id": "hBCmSlqqFgvd",
        "colab_type": "text"
      },
      "cell_type": "markdown",
      "source": [
        "**Печатаем информацию о сети**"
      ]
    },
    {
      "metadata": {
        "id": "QwTq8WR1Frx9",
        "colab_type": "code",
        "colab": {
          "base_uri": "https://localhost:8080/",
          "height": 599
        },
        "outputId": "f1c816f1-4817-488f-ed94-0e9ab3e1456e"
      },
      "cell_type": "code",
      "source": [
        "print(model.summary())"
      ],
      "execution_count": 7,
      "outputs": [
        {
          "output_type": "stream",
          "text": [
            "_________________________________________________________________\n",
            "Layer (type)                 Output Shape              Param #   \n",
            "=================================================================\n",
            "conv2d_1 (Conv2D)            (None, 32, 32, 32)        896       \n",
            "_________________________________________________________________\n",
            "conv2d_2 (Conv2D)            (None, 32, 32, 32)        9248      \n",
            "_________________________________________________________________\n",
            "max_pooling2d_1 (MaxPooling2 (None, 16, 16, 32)        0         \n",
            "_________________________________________________________________\n",
            "dropout_1 (Dropout)          (None, 16, 16, 32)        0         \n",
            "_________________________________________________________________\n",
            "conv2d_3 (Conv2D)            (None, 16, 16, 64)        18496     \n",
            "_________________________________________________________________\n",
            "conv2d_4 (Conv2D)            (None, 14, 14, 64)        36928     \n",
            "_________________________________________________________________\n",
            "max_pooling2d_2 (MaxPooling2 (None, 7, 7, 64)          0         \n",
            "_________________________________________________________________\n",
            "dropout_2 (Dropout)          (None, 7, 7, 64)          0         \n",
            "_________________________________________________________________\n",
            "flatten_1 (Flatten)          (None, 3136)              0         \n",
            "_________________________________________________________________\n",
            "dense_1 (Dense)              (None, 512)               1606144   \n",
            "_________________________________________________________________\n",
            "dropout_3 (Dropout)          (None, 512)               0         \n",
            "_________________________________________________________________\n",
            "dense_2 (Dense)              (None, 10)                5130      \n",
            "=================================================================\n",
            "Total params: 1,676,842\n",
            "Trainable params: 1,676,842\n",
            "Non-trainable params: 0\n",
            "_________________________________________________________________\n",
            "None\n"
          ],
          "name": "stdout"
        }
      ]
    },
    {
      "metadata": {
        "id": "iZ8E1aF0FS1s",
        "colab_type": "text"
      },
      "cell_type": "markdown",
      "source": [
        "**Компилируем модель**"
      ]
    },
    {
      "metadata": {
        "id": "VyVlJMdGkrv-",
        "colab_type": "code",
        "colab": {}
      },
      "cell_type": "code",
      "source": [
        "model.compile(loss='categorical_crossentropy',\n",
        "              optimizer='adam',\n",
        "              metrics=['accuracy'])"
      ],
      "execution_count": 0,
      "outputs": []
    },
    {
      "metadata": {
        "id": "Aq23si1YFYhF",
        "colab_type": "text"
      },
      "cell_type": "markdown",
      "source": [
        "## Обучаем нейронную сеть"
      ]
    },
    {
      "metadata": {
        "id": "kyH5Ec9RkznF",
        "colab_type": "code",
        "colab": {
          "base_uri": "https://localhost:8080/",
          "height": 944
        },
        "outputId": "65b5c837-52aa-4459-99eb-67f0db83df66"
      },
      "cell_type": "code",
      "source": [
        "history = model.fit(X_train, Y_train,\n",
        "              batch_size=batch_size,\n",
        "              epochs=nb_epoch,\n",
        "              validation_split=0.1,\n",
        "              shuffle=True,\n",
        "              verbose=2)"
      ],
      "execution_count": 22,
      "outputs": [
        {
          "output_type": "stream",
          "text": [
            "Train on 45000 samples, validate on 5000 samples\n",
            "Epoch 1/25\n",
            " - 25s - loss: 1.5541 - acc: 0.4328 - val_loss: 1.1850 - val_acc: 0.5846\n",
            "Epoch 2/25\n",
            " - 24s - loss: 1.1328 - acc: 0.5988 - val_loss: 0.9571 - val_acc: 0.6638\n",
            "Epoch 3/25\n",
            " - 24s - loss: 0.9748 - acc: 0.6567 - val_loss: 0.8255 - val_acc: 0.7058\n",
            "Epoch 4/25\n",
            " - 25s - loss: 0.8732 - acc: 0.6924 - val_loss: 0.7750 - val_acc: 0.7388\n",
            "Epoch 5/25\n",
            " - 25s - loss: 0.8031 - acc: 0.7184 - val_loss: 0.7865 - val_acc: 0.7320\n",
            "Epoch 6/25\n",
            " - 25s - loss: 0.7567 - acc: 0.7342 - val_loss: 0.6900 - val_acc: 0.7646\n",
            "Epoch 7/25\n",
            " - 25s - loss: 0.7159 - acc: 0.7476 - val_loss: 0.6885 - val_acc: 0.7690\n",
            "Epoch 8/25\n",
            " - 25s - loss: 0.6785 - acc: 0.7629 - val_loss: 0.6633 - val_acc: 0.7774\n",
            "Epoch 9/25\n",
            " - 24s - loss: 0.6422 - acc: 0.7742 - val_loss: 0.6624 - val_acc: 0.7698\n",
            "Epoch 10/25\n",
            " - 25s - loss: 0.6196 - acc: 0.7804 - val_loss: 0.6660 - val_acc: 0.7812\n",
            "Epoch 11/25\n",
            " - 25s - loss: 0.5932 - acc: 0.7907 - val_loss: 0.6390 - val_acc: 0.7878\n",
            "Epoch 12/25\n",
            " - 25s - loss: 0.5731 - acc: 0.7965 - val_loss: 0.6246 - val_acc: 0.7914\n",
            "Epoch 13/25\n",
            " - 25s - loss: 0.5482 - acc: 0.8044 - val_loss: 0.6577 - val_acc: 0.7880\n",
            "Epoch 14/25\n",
            " - 24s - loss: 0.5441 - acc: 0.8076 - val_loss: 0.6814 - val_acc: 0.7764\n",
            "Epoch 15/25\n",
            " - 24s - loss: 0.5250 - acc: 0.8124 - val_loss: 0.6212 - val_acc: 0.7884\n",
            "Epoch 16/25\n",
            " - 24s - loss: 0.5066 - acc: 0.8208 - val_loss: 0.6346 - val_acc: 0.7900\n",
            "Epoch 17/25\n",
            " - 25s - loss: 0.4982 - acc: 0.8244 - val_loss: 0.6554 - val_acc: 0.7916\n",
            "Epoch 18/25\n",
            " - 25s - loss: 0.4929 - acc: 0.8246 - val_loss: 0.6377 - val_acc: 0.7910\n",
            "Epoch 19/25\n",
            " - 25s - loss: 0.4676 - acc: 0.8335 - val_loss: 0.6811 - val_acc: 0.7842\n",
            "Epoch 20/25\n",
            " - 25s - loss: 0.4673 - acc: 0.8362 - val_loss: 0.6438 - val_acc: 0.7968\n",
            "Epoch 21/25\n",
            " - 24s - loss: 0.4549 - acc: 0.8400 - val_loss: 0.6441 - val_acc: 0.7982\n",
            "Epoch 22/25\n",
            " - 25s - loss: 0.4453 - acc: 0.8447 - val_loss: 0.6343 - val_acc: 0.8018\n",
            "Epoch 23/25\n",
            " - 25s - loss: 0.4362 - acc: 0.8466 - val_loss: 0.6510 - val_acc: 0.7958\n",
            "Epoch 24/25\n",
            " - 24s - loss: 0.4202 - acc: 0.8526 - val_loss: 0.6654 - val_acc: 0.7948\n",
            "Epoch 25/25\n",
            " - 25s - loss: 0.4201 - acc: 0.8518 - val_loss: 0.7407 - val_acc: 0.7794\n"
          ],
          "name": "stdout"
        }
      ]
    },
    {
      "metadata": {
        "id": "bHssPqMqF9sv",
        "colab_type": "text"
      },
      "cell_type": "markdown",
      "source": [
        "## Оцениваем качетсво обучения сети"
      ]
    },
    {
      "metadata": {
        "id": "5y4AHwlNou5y",
        "colab_type": "code",
        "colab": {
          "base_uri": "https://localhost:8080/",
          "height": 35
        },
        "outputId": "1edc87b9-5a11-49f4-fbdc-9bbd8433141f"
      },
      "cell_type": "code",
      "source": [
        "# Оцениваем качество обучения модели на тестовых данных\n",
        "scores = model.evaluate(X_test, Y_test, verbose=0)\n",
        "print(\"Точность работы на тестовых данных: %.2f%%\" % (scores[1]*100))"
      ],
      "execution_count": 23,
      "outputs": [
        {
          "output_type": "stream",
          "text": [
            "Точность работы на тестовых данных: 77.18%\n"
          ],
          "name": "stdout"
        }
      ]
    },
    {
      "metadata": {
        "id": "Z_xxp2UrNJvz",
        "colab_type": "code",
        "colab": {
          "base_uri": "https://localhost:8080/",
          "height": 279
        },
        "outputId": "c9eeb820-46c6-4937-a0d1-d1ef5abaafab"
      },
      "cell_type": "code",
      "source": [
        "history_dict = history.history\n",
        "acc_values = history_dict['acc']\n",
        "val_acc_values = history_dict['val_acc']\n",
        "epochs = range(1, len(acc_values) + 1)\n",
        "plt.plot(epochs, acc_values, 'bo', label='Training acc')\n",
        "plt.plot(epochs, val_acc_values, 'b', label='Validation acc')\n",
        "plt.xlabel('Epochs')\n",
        "plt.ylabel('Accuracy')\n",
        "plt.legend()\n",
        "plt.show()"
      ],
      "execution_count": 24,
      "outputs": [
        {
          "output_type": "display_data",
          "data": {
            "image/png": "[encoded data removed]",
            "text/plain": [
              "<matplotlib.figure.Figure at 0x7f26cc8e5898>"
            ]
          },
          "metadata": {
            "tags": []
          }
        }
      ]
    },
    {
      "metadata": {
        "id": "9Ax2lw6hRDlm",
        "colab_type": "text"
      },
      "cell_type": "markdown",
      "source": [
        "## Сохраняем обученную нейронную сеть"
      ]
    },
    {
      "metadata": {
        "id": "uQhkelwPQ_PE",
        "colab_type": "code",
        "colab": {}
      },
      "cell_type": "code",
      "source": [
        "model_json = model.to_json()\n",
        "json_file = open(\"cifar10_model.json\", \"w\")\n",
        "json_file.write(model_json)\n",
        "json_file.close()\n",
        "model.save_weights(\"cifar10_model.h5\")"
      ],
      "execution_count": 0,
      "outputs": []
    },
    {
      "metadata": {
        "id": "bn4CEGiURBz7",
        "colab_type": "code",
        "colab": {
          "base_uri": "https://localhost:8080/",
          "height": 35
        },
        "outputId": "311f791e-3fb0-48fb-ca8f-4be4cf6caf90"
      },
      "cell_type": "code",
      "source": [
        "!ls"
      ],
      "execution_count": 26,
      "outputs": [
        {
          "output_type": "stream",
          "text": [
            "cifar10_model.h5  cifar10_model.json  datalab  horse.png\r\n"
          ],
          "name": "stdout"
        }
      ]
    },
    {
      "metadata": {
        "id": "rV8R1WhKVpZK",
        "colab_type": "code",
        "colab": {}
      },
      "cell_type": "code",
      "source": [
        "from google.colab import files"
      ],
      "execution_count": 0,
      "outputs": []
    },
    {
      "metadata": {
        "id": "udkAZlWbVi7C",
        "colab_type": "code",
        "colab": {}
      },
      "cell_type": "code",
      "source": [
        "files.download(\"cifar10_model.json\")"
      ],
      "execution_count": 0,
      "outputs": []
    },
    {
      "metadata": {
        "id": "Q1oY_XT2VvKp",
        "colab_type": "code",
        "colab": {}
      },
      "cell_type": "code",
      "source": [
        "files.download(\"cifar10_model.h5\")"
      ],
      "execution_count": 0,
      "outputs": []
    },
    {
      "metadata": {
        "id": "CDf9Gw19GIGO",
        "colab_type": "text"
      },
      "cell_type": "markdown",
      "source": [
        "## Применяем сеть для распознавания объектов на изображениях"
      ]
    },
    {
      "metadata": {
        "id": "wFujwhUEGWOG",
        "colab_type": "text"
      },
      "cell_type": "markdown",
      "source": [
        "**Просмотр изображения из набора данных для тестирования**"
      ]
    },
    {
      "metadata": {
        "id": "bxaxjSOAGOPX",
        "colab_type": "code",
        "colab": {
          "base_uri": "https://localhost:8080/",
          "height": 266
        },
        "outputId": "0fe17944-fbb9-4a8e-f82c-1b203273a43f"
      },
      "cell_type": "code",
      "source": [
        "index=11\n",
        "plt.imshow(toimage(X_test[index]))\n",
        "plt.show()"
      ],
      "execution_count": 59,
      "outputs": [
        {
          "output_type": "display_data",
          "data": {
            "image/png": "[encoded data removed]",
            "text/plain": [
              "<matplotlib.figure.Figure at 0x7f26cc8579e8>"
            ]
          },
          "metadata": {
            "tags": []
          }
        }
      ]
    },
    {
      "metadata": {
        "id": "ByO-DUMJGc32",
        "colab_type": "text"
      },
      "cell_type": "markdown",
      "source": [
        "**Преобразование тестового изображения**"
      ]
    },
    {
      "metadata": {
        "id": "kvZbyn6xGhUe",
        "colab_type": "code",
        "colab": {}
      },
      "cell_type": "code",
      "source": [
        "x = X_test[index]\n",
        "x = np.expand_dims(x, axis=0)"
      ],
      "execution_count": 0,
      "outputs": []
    },
    {
      "metadata": {
        "id": "hxcp2FfPGog1",
        "colab_type": "text"
      },
      "cell_type": "markdown",
      "source": [
        "**Запуск распознавания**"
      ]
    },
    {
      "metadata": {
        "id": "Ap72-9_kNKU2",
        "colab_type": "code",
        "colab": {}
      },
      "cell_type": "code",
      "source": [
        "prediction = model.predict(x)"
      ],
      "execution_count": 0,
      "outputs": []
    },
    {
      "metadata": {
        "id": "2Gldpmn2NQ6-",
        "colab_type": "text"
      },
      "cell_type": "markdown",
      "source": [
        "**Печатаем результаты распознавания**"
      ]
    },
    {
      "metadata": {
        "id": "P7opRiSZNUku",
        "colab_type": "code",
        "colab": {
          "base_uri": "https://localhost:8080/",
          "height": 53
        },
        "outputId": "4d8d97e0-6641-4a75-b935-b304e703738a"
      },
      "cell_type": "code",
      "source": [
        "print(prediction)"
      ],
      "execution_count": 62,
      "outputs": [
        {
          "output_type": "stream",
          "text": [
            "[[8.1685665e-12 3.7978654e-07 2.3843751e-17 1.1129013e-17 2.6797560e-21\n",
            "  1.3213343e-19 3.1908867e-19 1.5573232e-18 1.0378241e-11 9.9999964e-01]]\n"
          ],
          "name": "stdout"
        }
      ]
    },
    {
      "metadata": {
        "id": "LQTiyEM3NfRG",
        "colab_type": "text"
      },
      "cell_type": "markdown",
      "source": [
        "**Преобразуем результаты из формата one hot encoding**"
      ]
    },
    {
      "metadata": {
        "id": "XVC_dTGqNohG",
        "colab_type": "code",
        "colab": {
          "base_uri": "https://localhost:8080/",
          "height": 35
        },
        "outputId": "9e9e4374-4390-44e5-96e1-4b52b169f62b"
      },
      "cell_type": "code",
      "source": [
        "prediction = np.argmax(prediction)\n",
        "print(classes[prediction])"
      ],
      "execution_count": 63,
      "outputs": [
        {
          "output_type": "stream",
          "text": [
            "грузовик\n"
          ],
          "name": "stdout"
        }
      ]
    },
    {
      "metadata": {
        "id": "zJy8tKjuNyD2",
        "colab_type": "text"
      },
      "cell_type": "markdown",
      "source": [
        "**Печатаем правильный ответ**"
      ]
    },
    {
      "metadata": {
        "id": "0zoGlCZWN2Id",
        "colab_type": "code",
        "colab": {
          "base_uri": "https://localhost:8080/",
          "height": 35
        },
        "outputId": "9a2afe1b-d444-4be4-b689-f8c5b8a3b338"
      },
      "cell_type": "code",
      "source": [
        "print(classes[y_test[index][0]])"
      ],
      "execution_count": 64,
      "outputs": [
        {
          "output_type": "stream",
          "text": [
            "грузовик\n"
          ],
          "name": "stdout"
        }
      ]
    },
    {
      "metadata": {
        "id": "1QnZ1pfIA_jo",
        "colab_type": "text"
      },
      "cell_type": "markdown",
      "source": [
        "## Распознаем дополнительное изображение"
      ]
    },
    {
      "metadata": {
        "id": "UjfiJbX7BEtA",
        "colab_type": "code",
        "colab": {
          "resources": {
            "http://localhost:8080/nbextensions/google.colab/files.js": {
              "data": "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",
              "ok": true,
              "headers": [
                [
                  "content-type",
                  "application/javascript"
                ]
              ],
              "status": 200,
              "status_text": ""
            }
          },
          "base_uri": "https://localhost:8080/",
          "height": 111
        },
        "outputId": "e05563c4-18f2-49c8-dfc9-14b347598c72"
      },
      "cell_type": "code",
      "source": [
        "from google.colab import files\n",
        "\n",
        "files.upload()"
      ],
      "execution_count": 65,
      "outputs": [
        {
          "output_type": "display_data",
          "data": {
            "text/html": [
              "\n",
              "     <input type=\"file\" id=\"files-006d463f-2b41-4cfe-ba2e-18e1374226f5\" name=\"files[]\" multiple disabled />\n",
              "     <output id=\"result-006d463f-2b41-4cfe-ba2e-18e1374226f5\">\n",
              "      Upload widget is only available when the cell has been executed in the\n",
              "      current browser session. Please rerun this cell to enable.\n",
              "      </output>\n",
              "      <script src=\"/nbextensions/google.colab/files.js\"></script> "
            ],
            "text/plain": [
              "<IPython.core.display.HTML object>"
            ]
          },
          "metadata": {
            "tags": []
          }
        },
        {
          "output_type": "stream",
          "text": [
            "Saving plane.jpg to plane.jpg\n"
          ],
          "name": "stdout"
        },
        {
          "output_type": "execute_result",
          "data": {
            "text/plain": [
              "{'plane.jpg': b'\\xff\\xd8\\xff\\xe0\\x00\\x10JFIF\\x00\\x01\\x02\\x00\\x00d\\x00d\\x00\\x00\\xff\\xec\\x00\\x85Ducky\\x00\\x01\\x00\\x04\\x00\\x00\\x00<\\x00\\x03\\x00p\\x00\\x00\\x006\\x00 \\x00 \\x00 \\x00 \\x00 \\x00 \\x00 \\x00 \\x00 \\x00 \\x00 \\x00 \\x00 \\x00 \\x00 \\x00 \\x00 \\x00 \\x00 \\x00 \\x00 \\x00 \\x00 \\x00 \\x00 \\x00 \\x00 \\x00 \\x00 \\x00 \\x00 \\x00 \\x00 \\x00 \\x00 \\x00 \\x00 \\x00 \\x00 \\x00 \\x00 \\x00 \\x00 \\x00 \\x00 \\x00 \\x00 \\x00 \\x00 \\x00 \\x00 \\x00 \\x00 \\x00 \\x00\\x00\\xff\\xee\\x00\\x0eAdobe\\x00d\\xc0\\x00\\x00\\x00\\x01\\xff\\xdb\\x00\\x84\\x00\\x06\\x04\\x04\\x04\\x05\\x04\\x06\\x05\\x05\\x06\\t\\x06\\x05\\x06\\t\\x0b\\x08\\x06\\x06\\x08\\x0b\\x0c\\n\\n\\x0b\\n\\n\\x0c\\x10\\x0c\\x0c\\x0c\\x0c\\x0c\\x0c\\x10\\x0c\\x0e\\x0f\\x10\\x0f\\x0e\\x0c\\x13\\x13\\x14\\x14\\x13\\x13\\x1c\\x1b\\x1b\\x1b\\x1c\\x1f\\x1f\\x1f\\x1f\\x1f\\x1f\\x1f\\x1f\\x1f\\x1f\\x01\\x07\\x07\\x07\\r\\x0c\\r\\x18\\x10\\x10\\x18\\x1a\\x15\\x11\\x15\\x1a\\x1f\\x1f\\x1f\\x1f\\x1f\\x1f\\x1f\\x1f\\x1f\\x1f\\x1f\\x1f\\x1f\\x1f\\x1f\\x1f\\x1f\\x1f\\x1f\\x1f\\x1f\\x1f\\x1f\\x1f\\x1f\\x1f\\x1f\\x1f\\x1f\\x1f\\x1f\\x1f\\x1f\\x1f\\x1f\\x1f\\x1f\\x1f\\x1f\\x1f\\x1f\\x1f\\x1f\\x1f\\x1f\\x1f\\x1f\\x1f\\x1f\\xff\\xc0\\x00\\x11\\x08\\x01\\x90\\x02X\\x03\\x01\\x11\\x00\\x02\\x11\\x01\\x03\\x11\\x01\\xff\\xc4\\x00\\xa4\\x00\\x01\\x01\\x00\\x03\\x01\\x01\\x01\\x01\\x00\\x00\\x00\\x00\\x00\\x00\\x00\\x00\\x00\\x01\\x02\\x03\\x04\\x05\\x06\\x07\\x08\\x01\\x01\\x01\\x01\\x01\\x01\\x01\\x01\\x00\\x00\\x00\\x00\\x00\\x00\\x00\\x00\\x00\\x00\\x01\\x02\\x03\\x04\\x05\\x06\\x10\\x00\\x01\\x03\\x03\\x03\\x03\\x02\\x03\\x05\\x05\\x05\\x05\\x07\\x02\\x07\\x00\\x01\\x00\\x02\\x03\\x11\\x12\\x04!1\\x13AQ\\x05a\"q2\\x06\\x81\\x91B\\x14\\x07\\xa1\\xb1\\xc1R#br\\xa23\\x15\\xd1\\x82\\x92C4\\xe1\\xb2Sc\\x93$\\x085\\x16\\xf0\\xf1\\x83DT%\\x18\\x11\\x01\\x01\\x01\\x01\\x00\\x02\\x02\\x02\\x02\\x01\\x04\\x02\\x02\\x03\\x00\\x00\\x00\\x01\\x11\\x02\\x12\\x03!1A\\x13Q\\x04aq\\x91\"\\x14\\x812\\xc1#\\xe1B\\x05\\xff\\xda\\x00\\x0c\\x03\\x01\\x00\\x02\\x11\\x03\\x11\\x00?\\x00\\xfc\\xaa\\x8b\\xf4/\\x98Q\\x05\\xa2\\x05\\x10\\xd2\\x88\\x14QR\\x88\\x14A(\\x81D\\n Z\\x82Z\\x81j\\x05\\xa8\\x16\\xa0Z\\x81j\\x05\\xa8\\x16\\xa0Z\\x81j\\x05\\xa8-\\x11\\x0bQKP-@\\xb5\\r-D-EZ Q\\x10\\xa2\\x05\\x10(\\x81D4\\xa2\\x05\\x10(\\x81j\\x05\\x10(\\x82QUZ(%\\x10(\\x81D\\x12\\x88\\x16\\xa0Z\\x81j\\x05\\xa8\\x14EKTB\\xd4R\\xd4\\x0bP-D-E-D-E-@\\xa2\\x05\\xa8\\x14@\\xa2\\x05\\xaa\\x85\\xaa\\x05\\xaa\\x85\\xa8%\\xa8\\x16\\xa0Z\\x81j\\x05\\xa87\\xd1i\\x85\\xa2\\x05\\xa8\\x14@\\xa2\\x1aQEJ Q\\x04\\xa2\\x05\\x10(\\x81D\\x0bPJ QAh\\x82Q\\x02\\x88\\xbaQ\\x11h\\x81j!DR\\x88\\x85\\x11J Q\\x11h\\x82Z\\xa8Z\\x81D\\x16\\x88\\x14@\\xb4\\xa0Z\\x81j\\x05\\xa8\\x16\\xa0Z\\x81j\\x05\\xa8\\x16\\xa0Z\\x81j)j\\tD\\x0bP(\\x81D\\x0bP-P(\\x81j\\tD\\x0bP-CKQKP-D-@\\xb5\\x14\\xb5\\x10\\xb5\\x02\\xd4R\\xd4\\x0bP-@\\xb5\\x02\\xd4\\x0bP-@\\xb5\\x04\\xa2\\x05\\xa8\\x16\\xa0\\x96\\xa2\\xba-[s(\\x81D\\n \\xb6\\xa8%\\xa8\\xa5\\xa8%\\xa8\\x14P-T-@\\xb5A-@\\xb5\\x02\\x88ij\\x05\\xa8\\x16\\xa0Z\\x81j\\x05\\xa8\\x16\\xa0Z\\x82\\xda\\x81j\\x1aZ\\x81j\\x05\\xa8\\x16\\xa1\\xa5\\xa8\\x8bj\\x05\\xa8\\x16\\xaa\\x14@\\xa2`Z\\x81D\\x0bP(\\x98iD\\x0bS\\r-@\\xb5\\x02\\xd4\\x12\\xd5\\x14\\xb5\\x02\\xd4\\x12\\xd4\\x16\\xd4\\x0bPKP-@\\xb5\\x02\\x88\\xa5\\xaa!DR\\x88\\x14@\\xa2\\xa1E\\x02\\x88\\x85\\xa8\\x16\\xaa\\xa5\\xa8\\x14@\\xb5\\x14\\xb5\\x02\\x88\\x89D5mA-CJ\"\\xa5\\x11\\n\"\\x96\\xa0\\xe8\\xb5m\\xcc\\xb5\\x02\\x88\\x16\\xa8\\x16\\xa0Z\\x82Z\\x81DR\\xd4\\x12\\xd4E\\xa2b\\x96\\xa0Z\\xa0\\x96\\xa0Z\\x81j\\x05\\xa9\\x86\\x96\\xa0Z\\x81j\\x05\\xa8\\x14@\\xa2\"\\xda\\x81j\\x05\\xa8\\x16\\xa0Z\\x81j\\x05\\xa8\\x16\\xa0\\xb6\\xaa\\x16\\xa0Z\\x81j\\x05\\xa8\\x16\\xa0Z\\x81j\\x05\\xa8\\x16\\xa0\\x96\\xa0Z\\x81j\\x05\\xa8\\x16\\xa0QE-@\\xb5\\x02\\xd4\\x0bPKT\\x0bP-@\\xb5\\x02\\xd4R\\xd4\\x0bP-@\\xb5\\x13KP\\xd2\\xd44\\xb5\\x14\\xb5\\x02\\xd4\\x0bP-@\\xb5\\x02\\xd5B\\xd5\\x04\\xb5P\\xb5\\r-A-@\\xb5\\x07E\\x16\\x98J Q\\x02\\x88-\\x10-EKP-@\\xb5@\\xb5\\x02\\xd4\\x0bPKP\\xd2\\xd4\\x12\\xd4\\x0bP[P-P(\\x81j\\xa1j\\x81j\\xa1j\\x82\\xda\\x81j\\x05\\xaa\\x85\\xa8\\x16\\xa2\\x16\\xa0\\xb6\\xa2\\x96\\xa2\\x16\\xa0Z\\x81j\\x0bj\\tj\\xa1j\\x05\\xa8\\x16\\xa8\\x16\\xa0Z\\x81j\\x05\\xa8\\xa5\\xa8%\\xa8\\x16\\xa0Z\\x81j\\x05\\xa8\\x16\\xa0\\x96\\xa8\\x14@\\xb5\\x02\\x88\\x16\\xa2\\x96\\xa2\\x16\\xa0Z\\x81j\\x05\\xa8\\x16\\xa2\\x96\\xa2-\\xa8%\\xa8-\\xa8\\xa5\\xa8%\\x10(\\xa8QA-T-@\\xb5\\x02\\xd4\\x0bPKPo\\xb5i\\x92\\x88\\x16\\xa0Z\\x81j\\x05\\xaa\\x05\\xaa\\xa9j\\x81j\\x05\\xa8\\x85\\xa8\\x16\\xa2\\x96\\xa0\\x96\\xa0Z\\xa2\\x16\\xa2\\x96\\xa2\\x16\\xa0Z\\x82\\xda\\x81j\\x05\\xa8\\x16\\xa0Z\\x82\\xda\\x81j\\x05\\xa8\\x16\\xa0Z\\x81j\\xa2\\xda\\x81j\\x05\\xa8\\x16\\xa0Z\\x81j\\x05\\xa8\\x16\\xa0Z\\x81j\\x05\\xa8%\\xa8-\\xa8\\x16\\xa0\\x96\\xa0Z\\x81j\\x81j\\x05\\xa8%\\xa8\\x16\\xa2\\x96\\xa0Z\\x81j\\x05\\xa8\\x16\\xa0Z\\x81j\\x05\\xa8\\x16\\xa0Z\\x81j\\x05\\xa8\\x16\\xa0Z\\x81j\\x05\\xa8%\\xa8\\x16\\xa0Z\\x81j\\x05\\xa8%\\xaa\\x85\\xa8\\x16\\xa0\\xdfj\\xa8\\x96\\xa0Z\\x81j\\x0bj\\x05\\xa8%\\xa8-\\xa8\\x16\\xa0Z\\x81j\\x05\\xa8%\\xaa\\x05\\xa8%\\xa8\\x16\\xa0\\xb6\\xa0Z\\x81j\\x05\\xa8\\x16\\xa0\\xb6\\xa0Z\\x81j\\x05\\xa8\\x16\\xa0\\xb6\\xa0Z\\x81j\\x05\\xa8\\x16\\xa2\\x16\\xaa\\x16\\xa0Z\\x81j\\x0bj\\x05\\xa8%\\xa8\\xa5\\xa8\\x9a\\xb6\\xa2\\xa5\\xa8\\x16\\xa8\\x16\\xaa\\x16\\xa8\\x16\\xa0Z\\x81j\\x05\\xa8\\x16\\xa0\\x96\\xa0Z\\xa0\\x16\\xa0Z\\x81j\\x05\\xa8\\x16\\xa0Z\\x81j\\x05\\xa8\\x16\\xaa\\x16\\xa8\\x16\\xa0Z\\x81j\\xa1j)j\\tj\\x05\\xa8\\x16\\xa0Z\\x82Z\\x81j\\x05\\xaa\\x85\\xaa\\x05\\xa87Z\\xb4\\xc9j\\x81j\\x00j\\x1aZ\\x81j\\x0bj\\tj)j\\x05\\xa8\\x16\\xa2-\\xa8%\\xa8\\xa5\\xa8\\x16\\xa0X\\x81j\\x81j&\\x96\\xa2\\x96\\xa2\\x16\\xa0\\xb6\\xa0Z\\x81j\\x1aZ\\x82\\xda\\x89\\xa5\\xa8\\x16\\xaa\\x16\\xa0Z\\x81j\\x05\\xa8\\x16\\xa0Z\\x81j\\x05\\xa8\\x16\\xa0Z\\x81j\\x05\\xa8\\x16\\xa2\\x96\\xa0Z\\x81j\\x1aZ\\x86\\x96\\xa1\\xa5\\xa8ij\\x82Z\\x81j)j\\x05\\xa8\\x85\\xa8\\xa5\\xa8\\x85\\xa8\\xa5\\xa8\\x16\\xa0Z\\x81j!j)j!j)j\\x05\\xa8\\x16\\xa0Z\\x82Z\\xa8Z\\x81j\\x05\\xa8%\\xa8\\x16\\xa0Z\\x81j\\tj\\r\\xd6\\xaa\\xc9j\\x05\\xa8\\x16\\xa0Z\\x82\\xda\\x81j\\x81j\\x05\\xa8\\x16\\xa0ZP-@\\xb5\\x02\\xd4\\x0bP-@\\xb5\\x02\\xd4\\x0bP-Am@\\xb5\\x10\\xb5\\x02\\xd4\\x0bP[P-@\\xb5\\x02\\xd4\\x0bP\\xd2\\xd4\\x0bP,@\\xb5\\x02\\xd4B\\xd4R\\xd44\\xb5\\x02\\xd44\\xb5\\x02\\xd4\\x0b\\x10-E-@\\xb7\\xd1\\x02\\xd4\\x0bP-@\\xb5\\x02\\xd44\\xb5\\x04\\xb5\\r-AmCR\\xd5\\x02\\xc5M-CV\\xd4\\x0bP-CR\\xd4\\x0bP-@\\xb5\\x02\\xd4],@\\xb5\\x02\\xd4\\x12\\xd4\\x0bP\\xd2\\xd4\\x0b\\x10-A-@\\xb5\\x15\\xb6\\xd5X-@\\xb5\\x02\\xd4\\x0bP[T\\x0b\\x15R\\xd5\\x10\\xb1\\x02\\xd4R\\xd4\\x0bQ\\x16\\xd4\\x12\\xc4\\x02\\xd4\\x0bP-@\\xb5\\x05\\xb1\\x02\\xd4\\x0bP-@\\xb1\\x02\\xd4B\\xc4\\x16\\xd4\\x0bP\\xd2\\xd4\\x16\\xd4\\x0bP-@\\xb5\\x02\\xd4B\\xd4R\\xc4B\\xd4R\\xc4\\x0bP,@\\xb5\\x04\\xb5\\x02\\xd4R\\xd4\\x0bP-AlA-@\\xb5\\x02\\xd4\\x0b\\x10-@\\xb1\\x02\\xd4\\x0bP,@\\xb5\\x02\\xd4\\x0b\\x10-@\\xb5\\x02\\xd4\\x0bPK\\x10,AlE-@\\xb5\\x04\\xb1\\x02\\xd4\\x0bPKP-A-@\\xb5\\x02\\xd4V\\xdbU`\\xb5\\x02\\xd4\\x16\\xc4\\x0bP[\\x14R\\xd4\\x0bQ\\x0bP-E-@\\xb1\\x02\\xd4B\\xd4R\\xd4\\x0bP-D,@\\xb5\\x02\\xd4\\x16\\xc4\\x0bP,@\\xb1\\x11m@\\xb5\\x02\\xc4\\x0b\\x10,@\\xb5\\x02\\xd4\\x0bP[\\x10,@\\xb5\\x02\\xd4\\x0b\\x10K\\x10-@\\xb1\\x02\\xc4\\x0b\\x11KP,@\\xb5\\x02\\xd4\\x0b\\x10-@\\xb5\\x14\\xb5\\x10\\xb5\\x02\\xd4\\x12\\xd4\\x16\\xd4R\\xd4\\x0bQ\\x0b\\x11K\\x10,@\\xb5\\x02\\xd4\\x0b\\x10K\\x10-@\\xb1\\x05\\xb1\\x02\\xc4T\\xb1\\x10\\xb5\\x04-(\\xa5\\xa8\\x89b)j\\x05\\x88\\x16 \\xdbj\\xac\\x16\\xa0Z\\x81j\\x05\\x88\\xabb\\x05\\x8a\\x0bb\\x05\\x88\\x16 X\\x81b\\x0e\\x88\\xfcfc\\xf0\\xa4\\xcd\\x11\\xd3\\x12\"\\x1a\\xe9\\x9cmiq4\\rm~c\\xe8\\x16oss\\xf2\\xd4\\xe6\\xe6\\xfe\\x1c\\xf6-2X\\x81b\\x05\\x88\\x16 Z\\x82\\xd8\\x81b\\x05\\x88\\x85\\x88\\x16 \\xb6 X\\x81b\\x0bb\\x05\\xa8\\x16 X\\x81j\\x05\\x88\\x16 X\\x81b\\x05\\x88\\x16 X\\x82Z\\x81b\\x05\\x88\\x16 Z\\x8aX\\x81b\\x05\\x88\\x16 \\xa2\\'\\x90KZHo\\xcc@$\\x0f\\x8a\\x82Z\\x10,@\\xb1Q,AlP-@\\xb1\\x02\\xc4\\x0b\\x10-T,@\\xb1\\x02\\xc4R\\xc4D\\xb1\\x15l@\\xb1\\x04\\xb1\\x02\\xd4\\x0b\\x10K\\x10,A-@\\xb5\\x02\\xc4\\x12\\xc4\\x1b\\xacU\\x92\\xd5\\x02\\xc5B\\xd4\\x0bT\\x16\\xd5E\\xb1A,@\\xb1\\x05\\xb1\\x02\\xd4\\x1d\\xbe\\x18x\\xe6\\xf9\\\\S\\xe4\\xa3t\\xb8<\\x80O\\x1b4$\\x1d\\x06\\xd44\\xae\\xe0,{7\\xc6\\xe7\\xdb\\\\f\\xcd\\xfa~\\x8d\\xf5\\xaf\\xd1Y^G\\x16\\x19<\\x14\\xec\\xc8\\xc2\\xc3\\xb9\\x83\\x11\\x84\\x06\\xb5\\xc7}\\xa9k\\x80\\xd2\\x8e\\x01x?\\xad\\xef\\x92\\xdd\\xfb\\xafo\\xbf\\xd5l\\xf8\\xfc?1\\xc9\\xc3\\xc9\\xc5\\x99\\xd0d\\xc4\\xe8fo\\xcd\\x1b\\xc1\\x04/\\xa3,\\xbfO\\r\\x98\\xd5j\\xa8X\\x81b\\x05\\xaa\\x00b\\x0bb\\x05\\x88\\x16 X\\x82\\xd8\\x88X\\x81b\\x0bb\\x05\\x88\\x16 Z\\xa8X\\xa0X\\xa8X\\x82\\xd8\\x81b\\x05\\x88%\\x88\\x16 X\\x81b\\x05\\x88\\x16 X\\x8a\\x96(\\x85\\x88\\xa5\\x88\\x16 \\xdf\\x83\\xe3\\xf2s\\xb2\\xe2\\xc4\\xc6m\\xd3L\\xebZ:\\x0e\\xa4\\x93\\xd8\\rJ\\x9du$\\xd5\\x92\\xdb\\x8f\\xd5\\xfco\\x89\\xc7\\xf1~>,\\x0cP\\xd7\\x1d\\x0b\\xe4sA/q\\xf9\\x9e\\xe1\\xdc\\xf4\\xec\\x17\\xcd\\xf6\\xfbn\\xeb\\xdd\\xc7\\xae}?>\\xfa\\xce|Y\\xbc\\xdc\\xb1\\xe2\\xc4\\xc6E\\x8c8\\x9c\\xe646\\xe7\\x8d^M7\\xa1\\xd1z\\xff\\x00\\xad\\xbe;\\x7f/7\\xbe\\xcf,\\x9f\\x87\\x85b\\xf48\\x96 X\\x81b\\x05\\x88\\x16 X\\x82\\xd8\\x82X\\x82\\xd8\\x82X\\x81b\\x05\\x8a\\x85\\x8a)b\\tb\\xa6\\xad\\x88%\\xa8\\x16 X\\x82X\\x81b\\tb\\x05\\x88\\xa5\\x886\\xd8\\x8c-\\x88\\x16 X\\x81b\\x0bb)b\\x05\\x88\\x85\\x88\\xa5\\x88\\x16\"(i\\x04\\x11\\xa1\\x1a\\x83\\xea\\x11^\\x8f\\x8b\\xf3\\xfek\\xc6g\\xbb;\\x0b)\\xf1\\xe4\\xc8n\\x98\\x9fsd\\xae\\xa7\\x91\\xa7G.]\\xfa\\xb9\\xeae\\x8d\\xf3\\xec\\xeb\\x9b\\xb2\\xbe\\xef\\x13\\xeaO\\xa5>\\xac\\x85\\xb8~r\\x08\\xf0<\\x89\\xd1\\x92\\x9d!{\\xbf\\xb0\\xff\\x00\\x9a2{\\x1d\\x17\\x92\\xfa\\xfb\\xf5|\\xcf\\x98\\xf5Og\\x1e\\xcf\\x8b\\xf1^\\x0f\\xd4_\\xa6\\xdeS\\xc6\\xb8\\xc9\\x86\\x0eL\\x1b\\xb5\\x9arS\\xfb$h\\xff\\x00\\xb3_E\\xdb\\xd7\\xfd\\x99\\xd3\\x8f\\xb3\\xd1y\\xfa|\\x8b\\xa2s\\\\Z\\xe0Z\\xe6\\x9a9\\xa7B\\x0f\\xa8+\\xd3\\xae\\x05\\x88\\x16(\\x16 \\xb6\"\\x16 X\\x82\\xd8\\x81b\\x05\\x88-\\x89\\xa1b\\x05\\x88\\x16 X\\xa8X\\x88X\\x8aX\\x88\\xb6\"\\x96 \\x96 X\\x81b\\x05\\x88\\x16 X\\x81b\\x05\\x88\\x16 \\x96(-\\x88%\\x94E~\\x87\\xf4o\\xd3\\xe3\\xc7b\\x1c\\xdc\\x96\\xd33!\\xa0\\xdaw\\x8e#\\xa8o\\xc5\\xdb\\xbb\\xec\\x1d\\xd7\\x8f\\xdd\\xec\\xdf\\xf4z\\xbd\\\\g\\xfa\\xbd/+\\xe4\\x7f#\\xe3rs\\x9d\\xf3\\xb5\\xb6\\xc2;\\xbd\\xda4\\x7f\\x15\\xe3\\xe7\\x9f>\\xa4z/^<\\xda\\xfc\\xac\\xb5\\xce%\\xce5q$\\xb8\\x9e\\xa4\\xeaJ\\xfb\\x0f\\x9b\\xa9b\\x07\\x1a\\x05\\x88\\x16 X\\x81b\\x0bb\\x05\\x88\\x16 \\x96 X\\xa8X\\x81b\\x05\\x88\\x16\"\\xa5\\x88\\x16 X\\x81b\\x05\\x88%\\x88%\\x88\\x16 X\\x82X\\x83}\\x88\\xc9b\\x05\\x88\\x16 X\\x82\\xd8\\x81b)b\\x05\\x88\\x16 X\\x81b\\x0bb\\x05\\x9d\\xd4\\xd1\\xf4\\xbfM\\xfds\\xe5\\xbc;[\\x8b0\\xfc\\xff\\x00\\x8c\\xd8\\xe2LjZ?\\xf2\\xdej[\\xf0\\xd9y\\xfd\\xbf\\xd7\\x9d|\\xcf\\x8e\\x9d\\xfd~\\xfb\\xcf\\xc5\\xf9\\x8f\\xaf\\x93\\xc3}-\\xf5\\x8e3\\xb2<k\\xbf\\xf7m\\x15\\x92\\x13FeG\\xf7\\xfc\\xed\\xfb\\xc7\\xaa\\xf3\\xcfo^\\xbb\\x9d\\x7f\\xf8w\\xbcs\\xec\\x9b\\x1f\\x0b\\xe6\\xbe\\x90\\xf2\\x9e-\\xcfqa\\x9f\\x1d\\xbb\\xca\\xc0j\\xdf\\xef\\xb3v\\xfe\\xe5\\xeb\\xe3\\xdb+\\xcb\\xdf\\xaa\\xf2\\xf1m]\\x1c\\xcb\\x11\\x16\\xc4\\x0b\\x10,Al\\xf4@\\xb1\\x02\\xc4\\x0b\\x10[\\x10,@\\xb1P\\xb1\\x02\\xc4\\x0b\\x10,@\\xb1\\x02\\xc4\\x16\\xc4\\x12\\xc4\\x0b\\x15R\\xc5\\x02\\xc4B\\xc4\\x0b\\x10K\\x11V\\xc4\\x0b\\x10,P}\\x0f\\xd2\\x1e\\x00fd\\xfevvW\\x17\\x19\\xde\\xc6\\xb8i$\\xa3P\\x0f\\xf6Y\\xbb\\xbe\\xc0\\xb8\\xfb\\xbd\\x991\\xd7\\xd5\\xc6\\xfc\\xbe\\xe2W\\x97\\x1b+^\\xe7\\xb9_?\\xbe\\x9e\\xdec\\xe3\\xbe\\xb8\\xcf\\xbf\"\\x1f\\x1d\\x19\\xab \\x17\\xcdN\\xafp\\xd0}\\x8d\\xfd\\xeb\\xd3\\xfd>>/O?\\xf6\\xbb\\xf9\\xf1|\\xbd\\x8b\\xda\\xf2\\x96 X\\x81b\\x05\\x88\\x16 X\\x81b\\x05\\x88\\x16*%\\x88\\x16 X\\x81b\\x05\\x88\\x16\"\\x96 \\x96 X\\x81b\\x05\\x88%\\x88\\x16 \\x96 X\\x82X\\x9a7X\\xaa(b\\x05\\x88\\x16 X\\xa0\\xb6*\\x16\"\\x96(-\\x88\\x16 X\\x81b\\x05\\x88\\x1cj\\x05\\x886cM\\x91\\x8b;21\\xa4t3\\xc6k\\x1c\\xb1\\x92\\xd74\\xfa\\x10\\xa7RY\\x95e\\xb2\\xec~\\x81\\xe0\\x7fP`\\xf2\\x06,\\x1f\\xa8\\xa3\\xfe\\xb3\\x88d^J\\x11GT\\xe89\\x1a?x\\xfb\\x97\\x87\\xd9\\xe8\\xbc|\\xf3\\xf5\\xfc=~\\xbf|\\xeb\\xe3\\xaf\\xbf\\xe5\\xd1\\xf5\\x17\\xe9\\xe66D_\\x9d\\xc3\\xa0c\\xc5\\xcc\\xca\\x80\\x07F\\xef\\xef\\xb1\\xbf\\xbd\\xa9\\xe9\\xfe\\xd4\\xab\\xed\\xfe\\xb3\\xe0<\\x8f\\x85\\xcf\\xf1\\xcf\\xa6Lta\\xf9&o\\xb9\\x8e\\xf89{9\\xeeW\\x8f\\xae,q\\xd8\\xb4\\xc9b\\x05\\x88-\\x88\\x16 X\\x81b\\x0bb\\x05\\x8a\\x85\\x88-\\x88%\\x88-\\x88\\x16 X\\x81bhX\\x81b\\xa1\\xc6\\xa0X\\x82X\\x81b\\x05\\x88\\x16 X\\x81b\\x0e\\xaf\\x19\\xe2\\xe7\\xf29\\xb1\\xe2\\xc3\\xa1v\\xaf\\x90\\xec\\xc6\\x0f\\x99\\xe7\\xe1\\xff\\x00b\\xc7}\\xf8\\xcdk\\x9ev\\xe3\\xf4x`\\x83\\x0f\\x16<lv\\xd9\\x14m\\xb5\\x8d;\\xd3z\\x9fRu+\\xc1\\xdfOo\\x1c\\xb5K<X\\xd0K\\x95)\\xf6B\\xd2\\xe3\\xeb\\xd8}\\xab\\x86^\\xaeO\\xcb\\xae\\xc96\\xbf7\\xc8\\x96L\\x89\\xe4\\x9eSY%q{\\xbe%}~y\\xc9\\x91\\xf3z\\xbbu\\xaa\\xc5Y,E[\\x11\\x12\\xc4R\\xc40\\xb1Ql@\\xb1\\x0c,D\\xc2\\xc4\\x0b\\x11K\\x10\\xc4\\xb1\\x02\\xc4\\x0b\\x11K\\x10,@\\xb1\\x04\\xb1\\x02\\xc4\\x12\\xc4B\\xc4T\\xb1\\x02\\xc4\\x12\\xc4\\x0b\\x10o\\xb1\\x10\\xb1\\x05\\xb1\\x02\\xc4\\x0b\\x10,Al@\\xb1\\x02\\xc4R\\xc4\\x17\\x8d@\\xb1\\x03\\x8d\\x03\\x8c\\xa0q\\xa0q\\xa2\\x01\\x84\\x10F\\x84j\\x08E}\\x17\\x81\\xfa\\xd7\\xcdxw\\x93\\x13\\x84\\xcc\\x7f\\xf9\\x91<\\x9b\\x1f\\xfd\\xe6\\xed_Q\\xaa\\xf1{?\\xa3\\xc5\\xbb?\\xe2\\xf5q\\xfd\\xbe\\xa4\\xcb\\xf2\\xfbO\\x1d\\xe5\\xbe\\x9d\\xfa\\x9e3\\x13\\x03p|\\x94\\x83\\xfa\\x98R\\xd0\\xc7!\\xfe\\xcdtw\\xef\\\\\\xba\\x9d\\xfa\\xfe\\xfeg\\xf2\\xeb\\xcf\\\\\\xfb>\\xbe+\\xe7<\\xef\\xd0N\\x86G\\x1ca\\xf9yzB\\xf3X\\xdd\\xfd\\xc7\\xf4\\xf8\\x15\\xe9\\xf5\\xfb\\xf7\\xfc\\xb8{=\\x18\\xf9,\\x9c\\x1c\\x9cYL9\\x11\\xba)\\x07\\xe1p\\xa6\\x9d\\xc7u\\xe8\\x97^{,k\\xe3D8\\xd08\\xd0^$C\\x8dU8\\xd1\\x0e4\\x0e4\\x0e4S\\x8d\\x10\\xe3Ax\\xd08\\xd08\\xd08\\xd08\\xd1S\\x8d\\x02\\xc4\\x0e4B\\xc4\\x0e4S\\x8d\\x10\\xe3E8\\xc9\\xd8T\\xf6\\x08>\\xf3\\xc1\\xf8o\\xf4\\xac:H)\\x975\\x1d\\x92{SV\\xc5\\xfe\\xee\\xee\\xfe\\xd7\\xc1x\\xbd\\x9e\\xcd\\xbb\\xf8z\\xf8\\xe3#\\xad\\xee\\xb9\\xdf\\xbc\\xaf/U\\xdeG\\x83\\xf5~e\\xb0\\xc5\\x80\\xcd/\\xa4\\xb2\\xfc\\x07\\xca>\\xfdW\\xa3\\xfa\\x9cm\\xbd8\\xff\\x00g\\xaf\\x8f\\x17\\xcbq\\xaf{\\xc6q\\xa0q\\xa0\\x9c~\\x88/\\x1a\\x07\\x1a\\t\\xc6\\x82\\xf1\\xa0q\\xa2\\xa7\\x1a\\x07\\x1a!\\xc7\\xe8\\x81\\xc6\\x8aq\\x94\\x0e4\\x0e4\\x0e4\\x0e4\\x13\\x8d\\x02\\xc4\\x0e4\\x13\\x8d\\x04\\xe3@\\xb1\\x04\\xb1\\x03\\x8d\\x04\\xb1\\x06\\xf1\\x1a&/\\x19E^4\\x0e41x\\xd08\\xd08\\x90^4\\\\8\\xd0^5\\x0c8\\xd0\\xc3\\x8f\\xd1\\x0c8\\xd0\\xc5\\xe3M18\\xfd\\x13C\\x8d4\\xc3\\x8dM\\x0e4\\xd3\\x140\\x82\\x08\\xd0\\x8dA\\x1b\\x82\\x83\\xec<\\x0f\\xd7\\xd90\\xc40|\\xd3\\x0e~\\t\\xd3\\x94\\xd0\\xcc\\xc1\\xf1??\\xdb\\xaa\\xf2{?\\xad\\xf3\\xbc|W\\xab\\xd7\\xfd\\x8f\\xc7_/\\xa3\\xca\\xf0~?\\xcb`\\xfeg\\xc6\\xbd\\x9eG\\x04\\xef\\x11\\xff\\x001\\x87\\xd0\\xe8Z}\\n\\xe5\\xcf\\xba\\xcb\\x9d|WN\\xbdS\\xa9\\xb3\\xe6<\\x16\\xfe\\x96y\\x9c\\xb76L\\x1aE\\x8e\\xf3\\xff\\x00\\xee\\xaa\\xc77\\xee\\x04\\xbb\\xee]\\xaf\\xf6\\xf9\\x9fn?\\xf5\\xba\\xbfOV\\x0f\\xd1w\\x86\\x83\\x93\\xe5\\x00wV\\xc5\\x16\\x9f{\\x9d\\xfc\\x17\\x1b\\xfd\\xff\\x00\\xe2:O\\xe9\\xff\\x004\\x97\\xf4\\x8f\\x061\\xaf\\x92\\x96\\xbf\\xdcjO\\xee\\xdf\\xe1\\x7f\\xeaO\\xe5\\xe7d\\xfe\\x9e\\x0cX\\xe4\\x10\\xe75\\xc6F\\xd0J\\xf6|\\xa2\\xbe\\xe6\\xd1\\xa4\\x9d{\\xae\\x93\\xfb\\x17\\xaf\\xc3\\x17\\xd1\\xe3\\xf9y/\\xfa\\x0f\\xcc\\x81t/\\x82v\\xf4,\\x92\\x95\\xfb\\xc0]\\x7f\\xecO\\xcc\\xae_\\xa2\\xff\\x00\\x87\\x14\\xff\\x00J\\xf9\\xe8\\x05_\\x84\\xf2\\xdd\\xaa\\xda8k\\xf0+s\\xdf\\xcd\\xfc\\xb3\\xfaz\\xfe\\x1cR\\xf8\\xec\\xd8\\x7f\\xce\\xc7\\x96?\\xef1\\xc3\\xf8-\\xce\\xe5\\xfa\\xac\\xde,\\xfc4\\xd9\\xddi\\x9c8\\xd08\\xd0\\xc3\\x8d\\x03\\x8d\\x0c8\\xd08\\xd08\\xd08\\xd08\\xd08\\xd08\\xd08\\xd0N40\\xe3@\\xb1\\x07\\xd1\\xfd-\\xe1\\xcd\\xc3\\xc9\\xcc\\xdd\\x18H\\xc3i\\xea\\xf1\\xbc\\x9f\\x06t\\xfe\\xd7\\xc1p\\xf7w\\xff\\x00\\xea\\xed\\xea\\xe3\\xf2\\xf7\\xe5}\\x08mkE\\xe3\\xee\\xbd<\\xc6\\xb6\\x90.{\\xcd\\xac`.q\\xec\\x06\\xab\\x95t\\x8f\\x88\\xcf\\xc8~fd\\xb9.\\xff\\x00\\x98\\xefh\\xec\\xd1\\xa3G\\xdc\\xbe\\xaf\\xaf\\x8f\\x1ed|\\xfe\\xfa\\xf2\\xba\\xd1\\xc6\\xb6\\xce\\x1chab\"q\\xa1\\x85\\x88-\\x88\\xa7\\x1a\\x07\\x1a\\x05\\x88\\x1ch\\x98\\x9ch\\x16 q\\xa2\\x9cha\\xc6\\x81\\xc6\\x86\\x1ch%\\x88\\x1c~\\x88bX\\x81\\xc6\\x82q\\xa1\\x87\\x1a\\x18\\x9ch\\x064\\x13\\x8d\\x03\\x8d\\x07G\\x1a\\x9a/\\x1aj\\xe1\\xc6\\x9ab\\xf1\\xa6\\x98q\\xa6\\x8b\\xc6\\x9a\\x024\\xd1x\\xd1N4\\xd48\\xd3C\\x8d5N5\\x02\\xc4\\x0e4\\xd1x\\xd1\\x12\\xc4\\\\8\\xd1\\x0e4\\x17\\x8d\\x06\\xccl,\\x8c\\x99\\xd9\\x8f\\x8f\\x1b\\xa5\\x9aCFF\\xc1RJ\\x97\\xa9&\\xd5\\x92\\xdb\\xf0\\xfd3\\xf4\\xe7\\xc5x\\x1f\\x1b\\xe4\\xf21\\xe4\\xf2q\\xcd\\xf5\\x03[l\\xf8\\x11\\xc9\\xed\\x8c\\x1dKi\\xb4\\x8e\\x1d\\x7f\\x95|\\xdf\\xec\\xfb/Y\\xf1\\xff\\x00\\x17\\xbb\\xd1\\xeb\\x9c\\xfe~_y\\xe4\\xbc\\x96\\x1f\\x8f\\xc73\\xe5\\xc8#`\\xd0u$\\xf6\\x03r\\xbc\\xbc\\xf3z\\xb9\\x1e\\x8b\\xd4\\x9fo\\x95\\xf2_\\\\b5\\x84\\xc4M\\xbd4\\xd5z8\\xfe\\xb5\\xae]{\\xa4|o\\x91\\xfa\\xc7>i\\x1d\\xc4HoBW\\xb7\\xd7\\xfd^g\\xdb\\xcd\\xdf\\xf6-\\xfayRy\\x9f%!\\xab\\xa4?a\\xa2\\xef=|\\xc7\\x1b\\xdd\\xac#\\xcf\\xcck\\xael\\x8fi\\xdc\\xdaWL\\x8c\\xedvC\\xe7\\xfc\\x8ccII\\x03\\xa1S\\xf5\\xf3\\x7f\\x07\\x9fN\\xc8\\xfe\\xac\\xcf\\x03\\xdcZ\\xf1\\xd8\\xac_\\xebqZ\\x9e\\xee\\xa3o\\xff\\x00qbM\\xff\\x00Q\\x85\\x0c\\x9d\\xea\\xd6\\x9f\\xde\\x16?\\xea\\xcf\\xc5_\\xdf\\xfc\\xc6c7\\xe9)\\x85\\'\\xf1\\x10\\xd7\\xab\\x99V\\x1f\\xf0\\x90\\xa7\\xe8\\xee}t\\xbf\\xb3\\x9b\\xf7\\x18\\xbb\\xc5\\xfd\\t?\\xca\\xcc\\x8cbz\\xb2[\\x87\\xdc\\xf0\\xe4\\xf1\\xf6\\xc3\\xff\\x00\\xae\\xb5\\xbb\\xe8\\xdf\\xa7f\\xff\\x00\\xa6\\xf2\\xef\\x8c\\x9d\\x84\\xb1\\xb5\\xdf\\xb5\\xa5\\xaay\\xf7>\\xe1\\xe1\\xcd\\xfa\\xad2~\\x9fd\\x9dq\\xbc\\x96,\\xc3\\xa0q|g\\xf78\\'\\xef\\xfee?O\\xf1c\\x86O\\xa2>\\xa2d\\x8fc1\\x84\\xd6\\x00n\\x89\\xecsM\\x7f\\x94\\x92+\\xea\\xac\\xfe\\xc77\\xfc\\x1d\\x7f_\\xa9%\\xf8\\xba\\xe3\\xc8\\xfas\\xcec0\\xbe|\\t\\xe3`4\\xb8\\xb0\\xd2\\xbfeV\\xe7\\xb7\\x9b\\xf5X\\xbe\\xbe\\xa7\\xe1\\xc2\\xf8^\\xc3G\\xb4\\xb0\\xf6p#\\xf7\\xad\\xeb\\x0cl\\x07d\\x1e\\xee4?Oy8\\x99\\x03\\x9b\\xfe\\x95\\xe4\\x00\\xa3e\\x04\\xbb\\x1eC\\xfd\\xa0\\xe2K\\t\\xf8\\xae\\x1d^\\xb9\\xf9\\xfb\\x8e\\xdc\\xcez\\xff\\x00\\x15\\xc3\\xe4\\xbc\\x0f\\x92\\xf1\\xd2\\x06d\\xc2mw\\xc9+=\\xd1\\xb8z8.\\x9c\\xfb\\'_Lw\\xeb\\xbc\\xfd\\xb88\\xd6\\xf5\\x83\\x8d\\x03\\x8d48\\xd4\\xd1\\xdb\\xe2|S\\xb3\\xf2\\xc4d\\x96@\\xc1~D\\xa3\\xf0\\xb0\\x1e\\x9f\\xdaq\\xd1\\xbe\\xab\\x1d\\xf7\\xe3\\x1b\\xe3\\x9d\\xaf\\xb0u\\x8ch\\x0ch\\x8e642(\\xc6\\xcdkt\\r\\x0b\\xc9\\xd5zds\\xb5\\x8f\\x95\\xe00\\x17\\x1e\\xc3\\xba\\xe1\\xd5u\\x91\\xc1\\xf5\\x0c\\xce\\xc7\\xc48\\xbbK1\\xa3\\xc7P\\xd6\\xef\\xf7\\x9d\\x17o\\xebq\\xbdo\\xf0\\xe7\\xef\\xeb9\\xcf\\xe5\\xf3<k\\xde\\xf1\\x1ch\\xa9\\xc6\\x88\\xbch\\xa9\\xc6\\x9a\\x87\\x1ahq&\\xa9\\xc6\\x9a/\\x1ahq\\xa6\\x87\\x1a\\xba\\'\\x1ahq\\xa6\\x87\\x1ahq\\xa6\\x87\\x1ahq\\xa6\\x89\\xc6\\x9a\\x1ch\\xa7\\x1ahq\\xa6\\xa2q\\xa6\\xa9\\xc6\\xa0\\x9cj\\xe8\\x9ch\\x1ch\\'\\x1aj\\x1ci\\xa3\\xa3\\x8dgT\\xb1\\x05\\xb14,M\\x17\\x8d4,M\\x16\\xc4\\xd0\\xe3M\\x17\\x8d4N4\\xd1x\\xd3C\\x8d\\x03\\x8d48\\xd08\\xd4\\x0e4\\x0e4\\x0e4\\x1d>;\\xc5\\xe5y\\x1c\\xd8p\\xb1[|\\xf3\\xba\\xd6\\x0e\\x83\\xb9>\\x80jV{\\xees6\\xaf<\\xdbr?V\\xc7\\xfd>\\x87\\x0b\\xc0O\\x87\\xe3\\xf3\\x1d\\x89\\xe5r\\x19k\\xfc\\xabZ\\x1c\\xf0N\\xe1\\xa0\\xfc\\xad\\xe9\\xa6\\xbfj\\xf9\\xbd\\x7fb\\xf5\\xd6\\xd9\\xf1\\xfc>\\x87>\\x99\\xcc\\xc9\\xf7\\xfc\\xbf\\x1e\\xf2\\x9fA\\xf9_\\x002%\\xf2\\x8c\\x9b\\x0e\\x0c+\\xb2d\\xfa\\x8e\\x19k\\x04QFn/\\r\\r\\xbc\\xbe\\xda\\xda\\xd0n.+\\xdd\\xff\\x00k\\x9e\\xa7\\xc7\\xfbc\\xc9\\xfaz\\x97\\xff\\x00\\x97\\xe5\\x9eg\\xff\\x00\\x92\\x7fX\\xe6\\xf9\\xc92#\\x8e\\x19\\xfcDa\\xb1`\\xe2\\xe5\\x82\\xe9\\x84L\\x14\\x0e\\x92f\\x16\\xd6I>g\\x9aR\\xab\\xc9\\xc7^?OW\\\\y}\\xbe\\x93\\xe9_\\xd6\\xff\\x00\\x1d\\xe7\\xf2\\x86\\x06_\\x8d\\x97\\x06~9&|\\xec{e\\x81\\x91\\xc2\\xc2\\xf7\\xbd\\xc4\\x869\\xa04v+\\xd3\\xeb\\xf7m\\xccp\\xef\\xd5\\x93\\xed\\xf5\\xbe\\'\\xea\\x0f\\x01\\xe6 3x\\xdf!\\x0eL`\\x86\\x92\\xd7P\\x878U\\xad-u\\x08$\\r\\x97\\xa6u\\x1c/6=.\\x07QkYc&8sHp\\xa8\\xde\\x9f\\x05gE\\x8b\\x1ca\\x8e1\\x81\\xec\\xa5[]t\\xd8\\xee\\xae\\xa1\\xf9p\\x0e\\x83D\\xd3\\x19\\x08\\xa9\\xd1]1l \\xa6\\xa6\\x05\\x87\\xa2\\xba\\x98\\xc0d\\xb5\\xb2q\\x97\\x10\\xed\\xb64\\xd7\\xd7eGK2\\xa6o\\xca\\xf2>\\xd5>\\x07L~_5\\x94\\xb6W}\\xeb7\\x89W\\xca\\xba\\x99\\xf5/\\x90\\x02\\x8e}\\xc0tv\\xab\\x1f\\xa7\\x96\\xbfgN\\xe6}c\\x98\\xe1l\\xcdl\\xad\\xec\\xf6\\x87~\\xf5\\xce\\xff\\x00W\\x96\\xe7\\xbe\\xa3\\xbc\\xcf\\x82\\xc8?\\xfb\\x9f\\x17\\x8e\\xf2w<a\\xa7\\xfc4S\\xfe\\xbd\\x9fV\\xaf\\xee\\x9f\\x98\\xd6\\xec\\x7f\\xa2\\xb2>lG\\xe3\\x93\\xd6)\\\\\\x07\\xdc\\xeb\\x82~\\xbfd\\xfc\\x9e\\\\_\\xc3\\xd2\\xf1\\xdf\\xe8\\xd8\\xf1\\x1cff\\xcb6\\x13\\x85\\x0e>@k\\xc0\\xf4\\x1a7OE\\xc3\\xafW{\\xb8\\xeb\\xcf\\xb3\\x993\\xed\\xe7\\xf9\\x1f\\xa3\\xbcFK\\xb9|Vlp\\x93\\xbe<\\xd7Z?\\xbau#\\xe0\\xb7\\xcf\\xb3\\xb9\\xff\\x00\\xb4s\\xbe\\xbeo\\xd5yr\\xfd\\x0f\\xe7Y\\xacm\\x87 \\x7f\\xe5J\\xd2~\\xe7Z\\xb7\\xfb\\xa3?\\xaa\\xbc\\xec\\xaf\\x05\\xe5\\xf1jr0\\xa6\\x8cuqa#\\xef\\x15\\x0bS\\xd9\\xcd\\xfc\\xb3x\\xb3\\xf0\\xb8~\\x0f\\xc8e\\xc9k\",\\x8c|\\xf9\\x12U\\xb14w.;\\xfc\\x06\\xa9}\\x92,\\xf5\\xda\\xfaLl\\\\lLq\\x8b\\x8dS\\x187I+\\x85\\x1d#\\xf6\\xb8\\xf6\\x03\\xf0\\x8e\\x9f\\x15\\xc2\\xdbn\\xd7i2dk\\x95\\xfe\\xee\\xfd\\x02\\xe1\\xd5u\\xe6,%\\xe2Ac\\x8bH\\xd4\\x91\\xa6\\xcb\\x95n>o\\xcaNr\\xf3d\\x96\\xb5h6\\xb0\\xfa\\x0e\\xbfn\\xeb\\xe8\\xfax\\xf1\\xe7\\x1e/o^]k\\x97\\x8du\\xd73\\x8d\\x03\\x8d\\x04\\xe3@\\xe3@\\xb1\\x03\\x8d\\x03\\x8d\\x05\\xe3@\\xe3@\\xe3@\\xe3@\\xe3EN4\\x0e4C\\x8d\\x14\\xe3M\\x13\\x8d\\x03\\x8d\\x03\\x8d\\x04\\xe3@\\xe3M\\x0e4\\x13\\x8d4C\\x1a\\x07\\x1ah\\x9ch\\x1ci\\xa3\\x7f\\x1a\\x80\\x18\\x82\\xf1\\xa0X\\x82\\xf1\\xa0\\xbch\\x16 q\\xa0q\\xa2\\x9ce\\x05\\xe3@\\xe3M\\x0e5\\x03\\x8d4^4\\xd18\\xd3E\\xe3M\\x0e4\\xd1\\xfa\\'\\xe9_\\x86hfO\\x95\\x91\\xbe\\xe2\\x7f/\\x01=\\x00\\xa1y\\x1f\\x13@\\xbc?\\xdb\\xef\\xe6r\\xf5\\xff\\x00[\\x8f\\xcb\\xef2g\\x8e\\x18\\xcb\\xe4pkF\\xe4\\xaf\\x0f\\xdb\\xd6\\xf8\\xdf9\\xf5g\\x8cu\\xd1=\\xbf\\x99f\\xa2\\xc0\\x01o\\xdb]\\n\\xf5z\\xff\\x00\\xaf\\xd5\\xff\\x00\\x0e=\\xfb\\xb9\\x8f\\xc8\\xbe\\xa2\\xfd-\\xfd&\\xf3O\\x92a\\xe0\\xa5\\xf1\\xb9R\\x92\\xe3>\\x04\\xe6\\x1fq\\xd6\\xbcd>=\\xfb5z\\'\\xa2\\xff\\x001\\xca\\xfb\\xe7\\xf0\\xf8\\xcc\\xdf\\xd1\\xb7\\xe0xo-\\x8d\\xe0|\\x81\\x97+\\xc8F\\xc8a\\x931\\xadc\\x9b\\x00u\\xf2\\xc4_\\x18\\xdeB\\xd6\\x8a\\xd3a\\xea\\xbb~\\xbf\\x8cs\\xfd\\x9f/\\xce\\xb1~\\x9f\\xf3>7\\xc7y\\xff\\x00\\x0f\\xe5\\xb0\\xe4\\xc7\\xc8d\\x11\\xe6\\xc4\\x1c=\\x8ev,\\xa2\\xaec\\xc7\\xb4\\xff\\x00NGj\\n\\xbe\\xb9g\\xc5k\\xae\\xa6\\xec~\\xcf\\xfaM\\xe6\\xe7\\xf2\\xff\\x00Gc\\xbb\"S.F#\\xdf\\x8a\\xf9\\x1cj\\xe2#\\xa1e\\xc7\\xa9\\xb1\\xc3U\\xd2\\xb8\\xf5>_`\\xe0\\x14\\xd4\\xc6M\\x808\\xc6\\xed4\\xabM>\\x1a\\xad\\xeb-\\x9f\\x97MLbq\\xbd5M1\\x0c\\t\\xa610\\xd1]1\\xa5\\xf0\\xfb\\x8bz<P\\xfd\\x9f\\xfej\\xe9\\x8cbc\\x8b\\x1aN\\xfb\\x1f\\x88\\xd0\\xa6\\x8c\\xb8\\xca\\xba\\x98\\x96\\x15u0\\xb5\\xc9\\xa6-\\ni\\x89\\xa8\\xd5]Ld\\xd9\\x07c\\xf6\\x15\\x15\\xb1\\xb9\\x04l\\xe7\\x8f\\xb4\\x14\\x1b[\\xe4\\xa7g\\xcb#\\xff\\x00g\\xfbT\\xf1]\\xff\\x00.\\xc8~\\xa2\\xcb\\x8c\\x10\\'\\x92\\xde\\xa2\\x83_\\xda\\xb9\\xdfT\\xbf\\x86\\xa7y\\xf9L\\xef\\xa9\\xb2\\xf2\\x84a\\xcd/1\\xe9{\\x8fN\\x80\\r\\x82\\xc4\\xfe\\xbc\\x8d\\xfe\\xddr\\xff\\x00\\xaeJ=\\xb2c\\xb8\\xb7\\xf9\\x99J\\xfd\\xcb=\\x7f_~\\xab|\\xf6\\xce/-\\x83)\\xa0\\x7f\\x1b\\x87\\xe1\\x93\\xda\\x7fj\\xf3w\\xe9\\xea~\\x1d\\xa7Q\\xbf6a\\x0e\\x1b\\x8b\\x0f\\xbe_kH\\xecw\\xfd\\x8b\\x1e\\xae<\\xba\\xff\\x00C\\xd9\\xd7\\x8f/\\x0b\\x8d{\\xde\"\\xc4\\x0e4\\x0e4\\x13\\x8d]\\x0e5\\x03\\x8dP\\xe3@\\xe3@\\xe3Ax\\xd08\\xd0N4\\x0e4\\x0e4\\x0e4\\x0e4\\x13\\x8d\\x03\\x8d\\x03\\x8d\\x03\\x8d\\x041\\xa2\\x9ch\\x87\\x1a*q\\xa0\\x9ch\\x1ch\\'\\x1a\\x07\\x1a\\r\\xdck:/\\x1ai\\x87\\x1ah\\xbci\\xa6\\x1ci\\xa2\\xf1\\xa6\\x87\\x1ai\\x8b\\xc6\\x9a\\xa5\\x89\\xa1\\xc6\\xa6\\x87\\x1ah\\xbci\\xa0#M\\x0e4\\xd0\\xe3M\\x0e548\\xd3C\\x8d4\\xc7\\xeb_JO\\x89\\x81\\xf4\\xbe\\x08s\\xc3Zc/q\\xfe\\xd3\\x89q_/\\xdd\\xd6\\xf7_G\\xd33\\x98\\xf9\\xbf\\xa9\\xbe\\xa0\\x93\\xc8\\xcca\\x81\\xc4c\\xb4\\xd3O\\xc4\\xbbz9\\x93\\xe6\\xfd\\xb1\\xed\\xb6\\xfc>p\\xc0\\xee\\xcb\\xd9\\xe4\\xf3\\xf8\\xa0\\xc6v\\xbah\\x13\\xc9<X\\x9cU|\\xd3\\xc5\\xa6_\\x1e\\xc9Zc\\x91\\xa1\\xf1\\xb8\\x10\\xe68\\x02\\x08;\\x82\\n\\xb3\\xd8\\x9e-\\x1e3\\xc0x\\xef\\x18\\xc9c\\xc0\\xc6\\x8b\\x15\\x92\\xbf\\x96FD\\xd0\\xd0_@.\\xa0\\xd3`\\xad\\xf6C\\xc6\\xbbLMh%\\xc4\\x007X\\xbd\\xc6\\xbc[\\xd8\\xfc6\\xba\\xc6\\x90\\xdd\\x0b\\x8f\\xc4\\xe9U?e?[@\\xc3\\x8e\\x8c\\xb6F\\xe9f\\xce\\xfeW\\x17\\x7f\\x15\\xaf\\xda\\xcf\\xebV\\xe3Lchk\\xc8u\\x1bZ8\\x1f\\xc6I\\xfd\\x9b\\xab\\xfbS\\xc2\\xb1t9\\xa3\\xe5q=\\x00-\\xead\\xd3\\xfc*\\xfe\\xc8\\x9e5?\\xf7 \\xea\\x1a\\xe1\\xae\\xb4#w\\xd0\\x7f\\x85_8\\x9e5\\x91\\x89\\xc6&\\xc8\\x19q\\xb8\\xb6\\x8c=+m\\x7f\\x8a\\xbep\\xc4\\xe3\\x0c%\\xa5\\x84\\x8a\\xd6\\xa3\\xfbN\\xa2\\xd6\\xa2\\x0e3M\\x1c\\t\\xa5*;\\x92?\\x82\\xba\\x8a\\x1b\\x13\\x9a\\\\\\x1c)@I:hvWE8\\xe2\\xb4\\xa8\\xa8\\xd0\\x84\\xd1\\x0e2h\\xc5\\xd8\\xe6\\xd3M\\xfa+\\xa8\\xe7\\x8e\\t\\x1b@\\xe7\\x99.\\x15\\xa9\\x00\\x11\\xf7S\\xba\\xbacg\\x02\\x9ab\\x18\\n\\xbac\\x03\\x11WS\\x18\\xf1\\x90SLfX\\xe2\\xd3M\\x0fC\\xbai\\x8d\\xf1\\xe26Al\\x83\\x93M\\xdc\\x06\\xa0\\xa9\\xa7\\xcbc|4\\x11\\x90\\xf0\\x0bG\\xf2\\xd7\\xda~\\xc2\\xb3l\\xbf\\r\\xf9\\\\h\\xc9\\xc4\\xe2x\\xa6\\xad:\\x8a\\xae}|$\\xf9i\\xe3Y\\xd5\\xc3\\x8d48\\xd3L8\\xd3D\\xe3M\\x0e4\\xd3\\x17\\x8d4\\xc4\\xe3M\\x17\\x8d48\\xd3D\\xe3WC\\x8d48\\xd3C\\x8d48\\xd3C\\x8d4\\xc4\\xe3M\\x0e4\\xd3\\x0e54\\xc3\\x8c\\xa6\\x98q\\xa6\\xaaq\\xab\\xa6\\x1ci\\xa9\\x89\\xc6\\x9a\\xb8q\\xa6\\x98\\x9ci\\xa2q\\xa6\\x98q\\xa6\\x8d\\xfck\\x9e\\xb5\\x8b\\xc6\\x9ab\\xf1\\xa6\\x98q\\xa6\\x98\\xbca4\\xc3\\x8d4\\xc3\\x8d]0\\xe3M1x\\xd3L8\\xd3L8\\xd3L8\\xd4\\xd3\\x0e4\\xd3\\x0e4\\xd3\\x0e4\\xd0\\xe3M0\\xe3M\\x0e4\\xd3\\x1fK\\xe1>\\xa1\\xc0\\xcc\\x19\\x9fM\\\\\\x19\\xe4<\\\\qJ#;\\xc9\\x8f3\\x03\\x84\\x8d\\xefk\\xdcZ\\xef\\xb3\\xba\\xf9\\xde\\xfes\\xad\\xfe^\\xff\\x00M\\xff\\x00\\x8e<\\x1c\\xc7\\xbf\\x1ew0\\xe8AZ\\x95,ko\\x91x\\xd0\\x80B\\xdc\\xac\\xe36\\xf9\\x06\\xbbB(J\\xba\\x961~]\\xba\\xaa\\x8d_\\x9d\\x15\\xddQ\\x89\\xcd\\x00\\xee\\xab.<\\xdf;\\x87\\x0c\\xd1\\xe3\\xcd<qI+K\\xda$pmZ\\xd2\\x07\\xe2#\\xaa\\xd4J\\xe7\\x8b\\xc8\\xbeZ\\xe45\\xf7G \\x05\\x8e\\xe8X6\\xfb\\xf7U\\x1bFpEf3\\x05vDl\\x19\\xee\\x1dH\\xf8\\x15Lo\\x8f\\xcaM\\xff\\x00\\x88\\x7f\\xde\\xd5\\x05\\x1ei\\xecq\\xa9\\x16F5\\xf6\\xe9\\xdf\\xa2eM\\x8d\\xf1y6\\x96\\xb7\\x91\\xacs\\xa8\\r\\x1aH5\\x1a\\xeb_R\\x97L\\x8d\\x9f\\x9c\\xc7\\xd0\\xd8\\xe1Ju\\x07m\\xbfzyS\\xc62nN-\\x8e\\x04\\xb8\\x07\\x06\\x8dG\\xf2\\xady\\xd6|#>lI\\x1e]sA$;_@@\\xfd\\xeb_\\xb2\\xb3\\xfa\\xd7\\x8a\\x02\\xdbX\\xe1\\xb544\\xfc6\\xab\\xfbS\\xf5\\xa9\\x81\\xde\\xe2\\xd7\\x1e\\xb45\\xf5\\x1f\\xecW\\xf6\\xa7\\xeb\\xac\\x9b\\x8f\\xae\\xae\\x07G\\x11N\\xc6\\x94W\\xf6\\x1e\\x15\\x81\\x8a@6i4\\xf5\\x1a\\xd0\\x7f\\x12\\xb5\\xe7\\x19\\xf1\\xa1\\x8c\\xd6\\x96u\\xe8\\x7f\\xb5E|\\xe1\\x8de\\xa2\\x95,p\\xd2\\xbd\\xfaU]D1\\xb3cP}A\\xefEttcb\\xb5\\xe7G\\x03\\xa5tY\\xbd\\xac\\x8c\\x9d\\x97\\x81\\x89P\\xe3\\xcb3F\\xb13R*t\\xb8\\xec\\x17\\x1fg\\xb6GN=v\\xbeE\\x9fW\\xe4\\xe4yq\\x910k \\xa9lL&\\x8d\\x11m\\xf6\\x13\\xbaq\\xfa\\xef\\xcc\\xeb\\xe4\\xeb\\x9e\\xe7\\xc5\\x9f\\x0f\\xa1\\xfc\\xc6>hk\\xf1\\xe4d\\x8d\\x03@\\x1c+\\xfb\\xd7^\\xe5\\xff\\x00\\xc3\\x9f,]\\x0b\\x9b\\xf3\\x02>!r\\xd6\\x8e4\\xd18\\xd3E\\xe3WC\\x8d48\\xd3P\\xe3MS\\x8d4\\xc3\\x8d4\\xc3\\x8d4\\xc3\\x8d48\\xd3S\\x0e4\\xd58\\xbd\\x13LN2\\x9a\\x1ce48\\x8a\\x9a\\x1cE]0\\xe2*hq\\xab\\xaa\\x9cE48\\xcai\\x87\\x1aj\\'\\x19M\\\\N4\\xd3\\x0e4\\xd3\\x13\\x8d4\\xc4\\xe3M1\\xba\\xc2\\xb0\\xabb\\x05\\x88-\\x88-\\x8a\\x85\\x88\\x16)\\xa2\\xd8\\xae\\x85\\x8aj\\x96&\\x87\\x1aj\\x1ci\\xa1bj\\x9ci\\xa1\\xc6\\x9a\\x87\\x1a\\x9a\\xa5\\x89\\xa8q\\xa6\\xab\\xe2\\xff\\x00P<\\x0f\\x9f\\x1eG\\x07\\xea\\x9f\\xa6\\xa5t^g\\x05\\xa27\\xb5\\xa4U\\xedn\\x80P\\xe8\\xe6\\xb9\\xbe\\xd77\\xaa\\x9d\\xf1;\\x9f\\xe5\\xd3\\xd7\\xde;\\xbc\\x7f\\xd5syxb\\xff\\x00T\\xc3\\xff\\x00K\\xf2\\xce\\x07\\x93\\r\\xefi\\xad\\xbb\\xbd\\x80\\x12\\xe0\\xc3\\xd2\\xea\\x1f\\x8a\\xf3x^]\\xfc\\xe5v\\x07\\xc8=R\\x0b\\xcaB\\xb1\\x07LH\\xea\\xaa1\\xe4\\xea\\x83T\\xb2\\x1a\\xe8\\xae\\xa68r\\xa0\\xc7\\x9f\\xfc\\xe8\\x99-6\\xe4k]O\\xf8\\x81WS\\x033\\xc0\\xa7A\\xa0\\n\\xf9\\x1e(&=\\xb5MLd%\\xd3Z\\xab\\xa62\\x13;\\xa2jb\\xfej\\x9b\\xd7\\xe0\\xae\\x98\\xf31\\xb2\\xfc\\xc8!\\xb9\\xac\\xc7dM7I4R9\\xc5\\xfa\\xe8,s[o\\xdeU\\x9d%\\x91\\xeb@sr\\xa4\\x02\\x08\\xc3K\\xb62\\xba\\xda\\xfd\\x9a\\x9f\\xbdu\\x9fNu\\xdb\\xf9?#\\x18\\x04\\xcb\\t\\xa8\\xd89\\xc3\\xf7\\xb5nq\\xbf\\x84\\xbd\\xe2\\x893\\xa2\\x15\\x96\\'\\x16\\x7f;(\\xf1\\xfe\\x1a\\xfe\\xd0\\xb1\\xd7\\xaf\\x1a\\xe7\\xd8\\xd8\\xcc\\xab\\x85A\\x05\\xa7\\xaa\\xe5]\\x1b\\x04\\xad\\xde\\x88+gq 5\\xcei=A;,\\xd5\\x8e\\xa6g\\xe5\\x92I\\x99\\xc4V\\x8d\\xad\\x0e\\xdf\\x10\\xb1\\x91~],\\xf2\\xb9\\x03\\xe6\\x11\\xbf\\xe2\\xda\\x1f\\xd8B\\x7f\\xe5Y\\x1f&\\\\?\\xe9\\xd9^\\xe1\\xc7\\xf8\\x84\\xdb\\xfc\\xa6O\\xe1\\xa9\\xd9Q;Iq\\xc5\\x9bTk\\xff\\x00\\xe3e\\xaf:\\xcf\\x836\\xb7\\xc5<T\\xbeH\\x9cu\\xaf\\xf5\\x00\\xea\\x7f\\t=\\\\\\x9f\\xba\\xff\\x00\\x0b\\xfa\\xe3\\x10\\xdcv\\xba\\xe8c\\x96RA\\x1f\\xd4\\x91\\xf6\\xf4\\xfc$\\xfa%\\xf6\\xd4\\x9e\\xb6\\xa9\\xb0r\\xdf\\x14\\x85\\x8ddn-!\\xa3@\\xd0H\\xddyz\\xde\\xaf\\xf9z$\\xf1\\x8dX>\\x1b\\x0f\\x0f\\x1c\\xc4#l\\x85\\xdf\\xe6=\\xe2\\xb5>\\x95]\\xfd\\x7f\\xd7\\x93\\xe7\\xa7\\x1e\\xfd\\xf7\\xea5K\\xf4\\xdf\\x89y\\xb9\\xb0\\x08_\\xfc\\xf1\\x12\\xc3\\xfe\\x15\\xb9\\xe9\\x93\\xff\\x00[y\\xff\\x00F?u\\xbfyQ\\xbe+\\xc9\\xc1\\xff\\x00G\\xe4e\\r\\xe9\\x1c\\xc0H\\xdf\\xdb\\xaf\\xed[\\xf2\\xf6O\\xcc\\xeb\\xfdb\\x7f\\xf5\\xdf\\xc6\\x7f\\xa3/\\xccy\\xd8\\x7f\\xcf\\xc3\\x87)\\xbd_\\x03\\x8cn\\xff\\x00\\x84\\xd4\\'\\xed\\xfey\\xff\\x00d\\xfdr\\xfdu\\xfe\\xe3|\\xd6\\x13h2\\xa3\\x9f\\x11\\xddyc%\\xbf\\xf12\\xe0\\xac\\xf6q\\x7f?\\xef\\xf0\\x97\\xd5\\xd7\\xf1\\xfe\\xce\\xdcy\\xb1rEq\\xa6\\x8eq\\xff\\x00\\x96\\xe0\\xe3\\xf7n\\xb7\\x95\\x86\\xc3\\x19\\x06\\x84P\\xfa\\xa8\\x16&\\x85\\x8a\\x85\\x88\\x16(\\x16*\\x16 X\\x81j\\x05\\xa8\\x16\\xa2\\x96\\xa2\\x16\"\\xa5\\x88\\x16 X\\x81bhX\\x82X\\x81j\\tbhX\\x82X\\x9a\\x16 \\xce\\xc5\\x8dR\\xd2\\x9a-\\xa8-\\xa8\\x16&\\x8bj)b\\xbab\\xd8\\xa6\\x85\\x89\\xa6\\x16&\\x8bbhX\\x9a\\x01\\x89\\xa2\\xd8\\x9a\\x1cji\\x87\\x1aj\\xe1\\xc6\\x9aa\\xc6\\x9a\\x98\\x8e\\x85\\xafik\\xda\\x1c\\xd3\\xbbH\\xa8*h\\xf3O\\xd2\\x7fO\\x99\\x1f+pc\\x8eG\\xfc\\xee\\x8e\\xac\\'\\xe3B\\x14\\xc8\\xbb]0\\xf8l\\x08c\\xe3\\x8a;[\\xfd\\xe2H\\xfb\\xc9R\\xc8\\xbeu\\xaeO\\r_\\xf2\\xdf\\xf68\\x7f\\x10\\xb3\\xe0\\xdc\\xf6\\x7f.w\\xf8\\x9c\\xc6\\xec\\xc6\\xbf\\xe0\\x7f\\xdbE<k^q\\xa1\\xf8\\x19\\x83|w\\xfc@\\xaf\\xeeS*\\xf9F\\x87\\xe2\\xcc\\xdf\\x9a\\'\\x8f\\xf7O\\xfb\\x11v9\\xe4\\x8c\\r(G\\xc4QQ\\xa5\\xf1\\xb7\\xb8WQ\\xaf\\x8e\\xbbj\\x88\\xadj\\xa2\\x96\\xe9Z*\\x8f+\\xcb\\xf9\\xdf\\x15\\xe2\\xa03y\\x0c\\x86\\xc4\\xdf\\xc2\\xc2j\\xf7\\x1f\\xec\\xb4jU\\xd2M|G\\x8d\\xfdT\\xc7\\xcd\\xfa\\x91\\x98\\xc7\\x1cA\\x80\\xc0\\xe2\\x1f!\\xac\\x8ep\\xa5\\x0faAR\\xaf=m:\\xe3#\\xf4\\xff\\x00\\x19\\x96\\'\\x89\\xd9X\\xb2\\xb5\\xedk~]\\xc9.\\xedE\\xea\\xe2<\\xbd\\xbcO\\xaa\\xbc\\xe3\\xf0`\\x86.n9r\\tcd\\xecZ*i\\xbe\\xab\\xbd\\xf6N\\x7f\\xf6\\xf8s\\xe7\\x8b\\xd7\\xd3\\xcb\\xf1\\xdek\\xce\\xc0\\xf1$>BI\\x1au\\xb6[%\\x1f\\r\\x00+R\\xf1\\xd4\\xf8\\xa5\\xe6\\xcf\\xb8\\xfa\\\\_\\xac\\x19+C3\\xb0\\xc8\\x93\\xac\\xf8\\xc48W\\xb9a\\xa3\\x97\\x1fg\\xf5\\xad\\xf9\\x8e\\x9c{d\\xfbw\\xe3yo\\x17\\x92\\xe0\\xd8\\xb2[y\\xff\\x00\\x97\\'\\xf4\\xdd\\xf7:\\x8b\\xcd\\xd7\\xab\\xae~\\xe3\\xb4\\xeeWw\\xe4\\x84\\x94.\\xae\\x9f)\\x04\\x8d\\xfdB\\xe4\\xdb\\xa1\\xb0\\xb8\\x00\\x06\\x80l\\x16qu\\xb3\\x8d\\xeab\\xea\\xf1=LU\\x11I^\\xb4R\\xaco\\x8a7\\x93B*\\x16-jGH\\x8aK\\xa9\\xb3i\\xa1\\xaf\\xf0I\\xeb\\xbd\\x7f\\x88\\x9d{\\'?\\xe6\\xb6Xh\\x05t\\x1b/G\\x1c\\xce~\\x9en\\xba\\xbd}\\x9ckz\\xc1\\xc6\\x9a\\xa9\\xc6\\x9aa\\xc6S@\\xc5QB*=PrO\\xe1<l\\xe6\\xe91\\x98]\\xfc\\xe0Z\\xef\\xbc.\\x7f\\xaf\\x9f\\xf4o\\xf6t\\xd6\\xdf\\x11\\x91\\x10\\xff\\x00\\xda\\xe7O\\x10\\x1bF\\xf2&g\\xdc\\xfa\\xad\\x7f\\xcb\\xf9\\xff\\x00\\x7f\\x93\\xcb\\x9f\\xcc\\xff\\x00e\\xa7\\x9b\\x8b\\xe6d\\x19M\\xee\\xc2\\xe8_\\xfbojy_\\xe3\\xfd\\x939\\xfeY~y\\x8d\\xff\\x00?\\x1eh\\x0f\\xab/o\\xfcL\\xaay\\xcf\\xf4</\\xe1\\xd1\\x0b\\xe2\\x99\\x82H\\x9c\\x1e\\xc3\\xb1\\x1f\\xb9Y\\xd4\\xac\\xd9\\x9fl\\xecWP\\xb14,M\\x0b\\x13B\\xc5t,M\\x0b\\x14\\xd5,WQ,MR\\xc4\\xd0\\xb14\\xc2\\xc4\\xd1,M\\x0b\\x13B\\xc4\\xd1,M\\x0b\\x13LK\\x13L,M1,M1\\x9d\\x8b\\x1a\\xb8Z\\x9ac+\\x13W\\x0b\\x13L[\\x13L-WL[\\x13L-M1mSL-M\\x16\\xd4\\xd5-M\\x16\\xd54-M\\x0bBhZ\\xa6\\x98\\xb6\\xa6\\x98X\\x9aab\\x9ab\\xda\\x9a\\x16&\\x98\\xb6\\xa6\\x85\\xa9\\xa6-\\xa9\\xa6\\x16\\xa6\\xa6\\x16\\x03\\xb8\\xaf\\xc54\\xc6.\\xc6\\x81\\xdf4L?\\x16\\x82\\x9a\\xad/\\xf1^9\\xff\\x0064g\\xfd\\xd0?r\\x1bZ]\\xf4\\xf7\\x89w\\xfc\\x8b\\x7f\\xba\\xe7\\x0f\\xe2\\x8b\\xb5\\xc9\\x9f\\xf4\\x96.F;\\xe3\\xc6\\xc8\\x97\\x12g\\x02\\x193i%\\xa7\\xbd\\xaf\\xd0\\xa9Vt\\xfc\\x17\\xeb\\xdf\\xd1\\x0f\\xd482\\xe5\\xf28\\xd3\\x9f\\xa8b$\\xb8\\xbe3nCG\\xac$\\xff\\x00\\xdc\\\\\\xec\\xae\\xdc\\xf7\\x1f\\x95\\xe5\\xb3?\\x13 \\xc5\\x97\\x14\\x98\\xf91\\x9aY#Lr4\\x8fB\\x01Mm\\xea\\xf8\\x9f\\xad\\xfc\\xff\\x00\\x8b\\xd2\\x0c\\x87Y\\xfc\\xb5\\xd1t\\xe7\\xddc\\x1dz\\xe5z\\xbeO\\xeb\\xdc\\xaf9\\x03!\\xcc\\x14\\xe3\\xa3\\x98\\xfa\\x90C\\xc0\\xa5~\\xda\\xab\\xed\\xf7^\\xe6Vx\\xf5Nn\\xc76\\x1f\\x95\\xcb\\x07\\xfay\\xad\\x88\\x8d\\x83\\xdfJ\\xfe\\xf5\\xe6\\xfau\\xc7\\xbb\\x87\\xe7~\\xaae8l\\xcbh\\xe8\\xd9#y\\xfb\\x83\\xaa\\xbbq\\xfd\\x9e\\xf9\\xfc\\xb1\\xd7\\xa7\\x9b\\xf8z\\xf1\\xfds\\xe4`\\x01\\xbeS\\xc4\\xca\\x1a7%\\xa4\\x8f\\xf1\\x03\\xfb\\xd7\\xab\\x8f\\xff\\x00\\xa1\\x7f.\\x1d\\x7fR~\\x1e\\xdf\\x89\\xfdG\\xf07\\x06\\xc5\\x9d.\\x03\\xc6\\xec$\\x86\\x8f\\x8b]sWo\\xfb\\x1e\\xae\\xfe\\xe3\\x9f\\xe9\\xf6s\\xf4\\xfb?\\x17\\xf5\\x93\\xe6h1\\xcf\\x8d\\x9e\\xce\\xed<o\\xfb\\xdbsR\\xff\\x00_\\x8e\\xbf\\xf5\\xa9\\xfbz\\x9fq\\xefb\\xfdI\\xe2\\xe46\\xe42Lg\\r\\tp\\xbd\\x80\\xff\\x00y\\x95\\\\z\\xfe\\xafs\\xeb\\xe5\\xd3\\x9fw5\\xee\\xe1\\x8c\\x1c\\xa6\\xdd\\x04\\xec\\x98\\x7fa\\xc0\\x9f\\xbbu\\xe5\\xeb\\xca|X\\xed,\\xbf\\x97X\\xc7\\x8d\\xbd5Y\\xf1\\xb4\\xbd\\xc8\\xbcC\\xb5\\x16\\xe721z\\xb58\\xfd\\x16\\xf5\\x8c8\\xd3L8\\x93\\xc8\\xc3\\x89<\\x8c8\\xd3S\\x0e4\\xd3\\x13\\x8f\\xd14\\xc3\\x8d4\\xc3\\x8d]0\\xe3ML,M1\\x04@V\\x82\\x95\\xd4\\xd15p\\xe3ML8\\xd5\\xd3\\x0e4\\xd3\\x0e4\\xd3\\x0e4\\xd3\\x12\\xc4\\xd3\\x0e2\\x9aaaM1,M1l\\xf4M1,M0\\xb14\\xc2\\xc4\\xd3\\x13\\x8d4\\xc3\\x8d4\\xc4\\xb15p\\xe3WL8\\xd3D\\xe3M0\\xb14\\xc4\\xb5s\\xd6\\xb0\\xb54\\xc5\\xa2j\\xad\\x13LZ&\\x85\\x13LZ&\\x8a\\x02\\x05\\x13B\\x89\\xa2\\xd15KT\\xd4[QKSB\\xd0\\x9a-\\xa1M\\x0bBi\\x85\\xa14\\xc2\\xd4\\xd3\\x16\\xd4\\xd3\\x0bT\\xd3\\x16\\xd4\\xd4\\xc2\\xd4\\xd5\\xc5\\xb550\\xb54\\xc5\\xb54\\xc2\\xd4\\xd3\\x16\\xd5t\\xc2\\xd4\\xd3\\x16\\xd4\\xd3\\x0bSLy\\xdek\\xe9\\xbf\\x03\\xe7 0y\\x8f\\x1f\\x06|G\\xa4\\xec\\x0e#\\xe0\\xef\\x98}\\x85E\\x9b\\x1f\\x17\\x9b\\xff\\x00\\xc7\\xdf\\xd2\\xfc\\xa2\\\\\\xdf\\x1f>!?\\xff\\x00\\x1f&P>\\xc6\\xbc\\xc8\\x14\\xf1\\x8dy\\xd7\\x85\\'\\xff\\x00\\x19>\\x96\\x19\\xc2\\\\o-\\x9b\\x06\\x1e\\x97c\\x11\\x1b\\xdf\\xf6K\\xa7\\xedj\\x9e-~\\xca\\xef\\xff\\x00\\xfc\\xf1\\xf4\\xb0`ly\\xf9B\\x9d^\\xd8\\xdd_\\xd8\\x14\\xf0\\xff\\x00+\\xfbo\\xf0\\xd0\\x7f\\xf8\\xeb\\xe0\\x8c\\x95>A\\xc5\\x9d\\xb8\\x19_\\xfb\\xc9\\xe3\\xfeO\\xd9\\xfe\\x1fQ\\xf4\\xb7\\xe9\\'\\xd1\\x7fNM6T8\\xe7/&v\\xd8\\xf92\\xed\\x91\\x8doP\\xc8\\xc8\\xb1\\xb5\\xeb\\xb9Z\\x9c\\xc6/v\\xbd\\xc6\\xfd\\x15\\xf4\\xbelrI\\x0f\\x89\\xc6{\\x1bQ+\\xa0\\x8d\\xad\\xa7\\xc7\\x8e\\x89\\xd7\\x13\\xf3\\t\\xdfO\\xcc>\\xac\\xf0_\\xa7p\\xf9\\x07\\xe1\\xe0\\xf8\\xbc\\x87g\\xb3Yd\\xc7<\\r\\x8f\\xd4\\xbc\\xdaW\\xaf\\xd7\\xfd\\x0bg\\x95\\xeb\\xc69\\xf5\\xfd\\x9f\\xc6k\\xe7\\xbc_\\x93\\xc9\\x8e7\\xc3\\xe3\\x9b\\xeck\\xaf\\x97+;$\\x82\\xd6\\x9d\\x00\\xb8\\x82\\x1c(4^\\x9e:\\xe7\\x99\\x9b\\xae]\\xf3m\\xdc\\xc7<\\x9f\\xa8\\xc7\\x12s|Qe\\xb5\\x8f\\xb5\\xd2\\xe2\\xbe\\x8f\\x00u\\xd3O\\xb9\\xcb\\x8d\\xfe\\xe6\\\\\\xfb\\x8dO\\xeb\\x7f\\xe1\\xf5~\\x0b\\xf5w\\x07 [\\x1efD\\x0eh\\xab\\xa3\\xc8a\\x91\\xa0z\\x92\\x0e\\x9f\\xef\\'\\xec\\xf4\\xf5\\xf70\\xfd~\\xc9\\xfe_w\\xf4\\xf7\\xd6.\\xf2\\xd3\\xb2\\x08\\x7f-\\x94_\\xb3\\xe2\\x940\\xff\\x00\\xc2\\xea\\x8a\\xfd\\xab>\\xcfO\\x12l\\xa7=[r\\xc7\\xd4<::\\tX\\xe8\\x8fg\\x8a\\x0f\\xbfe\\xe6u\\xf1\\xab@u\\n!D\\n QP\\xa2\\tD\\x0bP-@\\xb5\\x13\\x12\\xd0\\x86\\x16\\x840\\xb4&\\x85\\xa8ahWLK\\x13B\\xd0\\x9a\\x16&\\x89jh\\xb6\\xa6\\x89hM\\x16\\xd4\\xd0\\xb5\\x15-M0\\xb54,\\x1d\\x93L,M1,M0\\xb14\\xc2\\xc4\\xd3\\x12\\xc4\\xd3\\x0b\\x13Li\\xa2\\xca\\xad\\x15\\x14\\x04\\x16\\x81\\x00\\x04\\x16\\x81\\x02\\x88-\\x10(\\xa0\\xb4M\\\\(\\x9a-\\x13B\\x8aj\\xe1D\\xd3\\x16\\x8ai\\x85\\x13L(\\x9ab\\xda\\xa6\\xa9D\\xd4\\xc2\\x89\\xa6-\\xa9\\xa6\\x14M1mM\\n&\\x8bj\\x18Q\\x0c[SW\\x0bQ\\n!\\x8bD\\n&\\x85\\x10Z!\\x85\\x13L(\\x9acFvd\\x188se\\xcei\\x0c\\r/\\x7f}:\\x0f\\x8a\\xa3\\xf9\\x8f\\xf5\\x1f\\xf5[\\xea/)\\x9d,8\\xf9/\\xc5\\xc4a!\\x91D\\xe2\\xd1A\\xdc\\x8d\\xd4\\xea\\xb7\\xccy_D\\xfe\\xb1}O\\xf4\\xc6sc\\xcb\\xcb\\x9b;\\xc5NG\\xe6\\xf1\\x9e\\xea\\xc9\\x18:r\\xc0\\xf3\\xabdn\\xf4\\xad\\x0e\\xc5s\\x97.\\xb6\\xfd\\xaa\\x1f#\\xfe\\xbf\\x86e\\x9aF\\xe51\\xe0\\x11%=\\xb21\\xe2\\xe6<u\\x175}\\xcf_\\x8d\\xe7\\xfc>Ww\\xa9\\xd3\\xe6<\\xf7\\xe9\\x9f\\x89\\xf2\\x11\\xb9\\xf0\\xdd\\x8f=*\\xd3[\\x9bQ\\xd0\\xb4\\xf4\\\\\\xfd\\x9f\\xd5\\xe3\\xaf\\xaf\\x8a\\xdf\\x1f\\xd9\\xee}\\xfc\\xbf(\\xf3\\xbfMyo\\x05$qM\\td\\x86B[\\x9a\\xc3\\xfd;E)\\xf0\\xa6\\xe6\\xab\\xe6{}]q~^\\xff\\x00_\\xb2u>\\x1f\\xb1\\xfe\\x92~\\x98\\xbf+\\xf2\\xbfTy\\xa7\\x13\\x8e@\\x7f\\x8c\\xc3\\x06\\xd3 \\xdb\\x9ajS\\xdaz3\\xaf]\\x163V\\xf5\\x8f\\xd3|\\x87\\xd0\\xbfIg\\xbc\\xc9?\\x8c\\x85\\xb3\\x7f\\xe3\\xc2\\x0c\\x12\\x03\\xde\\xf8\\x8bJ\\xb3\\xe3\\xe9\\x9d\\xad\\x10\\xfd+\\xe5\\xfc\\x7f\\xff\\x00E\\xfa\\x8b7\\x1a1\\xb66]\\xb9\\xb0\\xfc)%\\xaf\\xff\\x00\\x12\\xd6\\x9a\\xcc\\xe7\\xfdm\\x84\\x0b\\xb3<V\\x17\\x97\\x8d\\xa0\\x93.\\x04\\xae\\xc5\\x9c\\x81\\xff\\x00\\x95\\'\\xb0\\x9f@\\xe5|\\x87\\x17\\x8c\\xfdT\\xfa\\x1f9\\xac\\xe5\\xca\\x9f\\xc6=\\xe3F\\xe6\\xc4C?\\xf5\\x1b\\xa2\\xa9\\xe2\\xfa\\x9c\\x0c\\x8cO#\\x0bf\\xf1\\xf90\\xe6F\\xe1P\\xecy\\x1b&\\x9f\\x00k\\xfb\\x13\\x13\\x1b\\\\\\xc2\\xd3G\\x02\\xd3\\xd8\\xe8\\x7fj\\x99D\\xb5M0\\xb54\\xc4\\xb550\\xa2i\\x85\\xa9\\xa6\\x16\\xab\\xa6\\x16\\xa6\\x98Z\\x9a\\x98Z\\x9aaD\\xd3\\x0bU\\xd3\\x0bSL-M1(\\x9aaji\\x85\\xa9\\xa6\\x16\\xa6\\x98Z\\x9aajj\\xe1j\\x9aaj\\xba\\x98Z\\x9abZ\\x9aaB\\x9a\\xb8Q4\\xc2\\xd54\\xc2\\x8a\\xe9\\x8e@\\x88\\xa8*\\x00AP\\x10TQAPTQAQD\\x04\\x15AQJ(\\x14C\\x16\\x88`\\x82\\xd1\\x02\\x88\\x08\\x8a\\x82\\x80\\x81D\\x17D\\x16\\x88\\xab@\\x80\\x81@\\x81D\\x15\\x02\\x88\\x14A\\xf3\\x7f\\xa8bO\\xfe\\xd7\\xc8\\x11\\xfe\"+\\xf6\\x02G\\xedZ\\xe7\\xed+\\xf9\\x03\\xcb4\\x9c\\xa2\\x1d\\xd5\\xda\\xfd\\xeb=7\\x1eD\\xad.\\x9d\\xd7iW\\x1a\\x9f\\xb5a\\xa7\\xf4?\\xe8\\xdd\\xd2})\\x85{\\xb5k$\\x8c\\x1f\\xec\\xb2So\\xef^\\xff\\x00O\\xb39\\xc7\\x8f\\xdb\\xc6\\xf5\\xaf\\xd0\\x0e;Kt\\xb4\\xfe\\xc5\\xda{\\x1c\\xff\\x00[\\xcft\\xa3\\xc5\\xcd\\'\\x910\\x0c\\x86c1\\xef\\x92\\r=\\xec\\x00\\xdc(j6X\\xf6_)\\x8dq\\xce]}\\x97\\xd3\\xff\\x00Px\\x9f=\\xe3\\xdb\\x9b\\xe3d/\\x87\\xe5|nic\\xe3u+c\\xdav?\\xb1x,\\xb1\\xea\\x9f/J\\xd54\\xc2\\xd0\\x9aai\\xad{+\\xa6>\\x13\\xcb~\\x94\\xe0\\xcd\\x95>W\\x8a\\xccv\\t\\xc8\\x90\\xcb&\\x1c\\xac\\x13c^\\xf3W\\x166\\xad{.:\\xd0\\x1a%\\xc5\\xd7\\x0e\\x0f\\xe9>Ty\\xd1\\xcd,\\xd8\\xb0D\\xd3Y\\x1d\\x84&\\x8aG\\x0fJ[C\\xebT\\x97?+k\\xeb\\x19\\xe0\\xfe\\xa0\\xc3\\x14\\xf1\\x7fPd\\x18\\x86\\xd8\\xdeF6fG\\xf0\\xb8\\xd9 \\xfb\\xd5\\xf2F_\\xea?T\\xe3\\x7f\\xd6\\xf8h3\\x987\\x9b\\xc6O\\xc6\\xff\\x00\\x8f\\x06E\\x07\\xdc\\xe5\\xaf$\\xc5o\\xd5\\xbfO\\x89\\x04YsK\\xe2\\xe6?\\xf2\\xbc\\x94/\\xc7\\xfb\\xa4\\xa3\\xa3?zd1\\xecEd\\xf1\\x89q\\xde\\xcc\\x88\\x9d\\xf2\\xc9\\x0b\\x9b#O\\xda\\xc2T\\xc4\\xc2\\x9fz\\x96\\x05\\x14\\n*-\\xa8\\x85\\xa8%\\xa9\\xa2\\xda\\x82Z\\x81D\\xd0\\xa2hQ]\\x12\\x89\\xa1D\\n)\\xa1jhZ\\x9a\\xa5\\xa8\\x85\\xa8\\xa5\\xa9\\xa1jhZ\\x9a%\\xa9\\xa1j\\x05\\xa9\\xa3\\x85m\\x85@TT\\x04\\x15\\x02\\xa8((\\xa2\\x82\\x84\\x15E\\x10U\\x14U\\x16\\xa1E*\\xa0\\xa8\\xa2\\x81T\\n\\xa0U\\x10\\xaa\\xa1TE\\xaa\\x0bTR\\xa5\\x05\\xb9\\r.AC\\xca\\x98y-\\xca\\xe1\\xaa\\x1c\\xa6\\x1a\\\\\\x86\\xa8E_\\xb5\\x02\\xa1\\x077\\x93\\xf1\\xf1y\\x0c\\t\\xb0\\xe5\\xd1\\xb2\\xb6\\x81\\xdd\\x9c6*\\xcb\\x94\\xc7\\xf3\\x07\\xea\\x0f\\xe9\\xd7\\x94\\xf1\\xdeBn8\\\\\\xe6\\x82]kEt\\'q\\xdc.\\xbds\\xe5\\xf3\\x19\\x9dg\\xdb\\xe30\\xfe\\x9a\\xf2yy6\\xfe]\\xf1GZ\\xcb<\\xad-\\x8d\\x83\\xa9$\\xfe\\xe0\\xb9xWO\\'\\xec\\xdfH\\xe4\\x0f\\x15\\x8d\\x8d\\x85\\x8d\\t0\\x16\\x86\\x87\\x13idB\\xb4})\\xee2>\\xba\\x05\\xd2|9\\xd7\\xd5\\x1f8\\xc8\\xdc#7\\xed[\\x80\\xabG\\xc4\\xf4[\\xf2O\\x179\\x8b\\xce\\xfdE\\x89\\x99\\x85\\xe2\\x1d\\x19\\xc81\\xd8f\\x94\\xdb\\x1b\\x03\\xcd\\rH\\x04\\xd6\\x95\\xa0\\x0b\\x9f]5#\\xea\\xff\\x00N~\\x91\\xf2\\xff\\x00Nx\\xdc\\x98\\xbc\\xb6TYYY2\\x87\\x8e\\x00\\xe0\\xc61\\xad\\xb4\\n\\xb8\\x02I\\xf8.7\\xa7I\\xcb\\xeb\\x1dmtR-\\x88\\xae\\xb3\\x88\\x89\\x85U\\r(\\x862m\\xba\\xd5J\\xbc\\xc8\\x06\\xb6\\x84\\xd7\\xe0\\x14\\xd5\\xf1`\\xe6\\xb5\\xec,x\\x0ea\\xdd\\xae\\x15\\x07\\xec+L<\\x89\\xfe\\x92\\xfa~Iy\\xe3\\xc5\\xfc\\x9eEj\\'\\xc3{\\xb1\\x9f^\\xff\\x00\\xd2-\\x07\\xed\\n\\xcbG\\x85\\xf5o\\x9b\\xfa\\x87\\xe9X\\xf0r!\\xcf9\\xfe?\"c\\x04\\xdf\\xea16Q\\x11-\\xacu\\x9a1\\x1b\\xda\\x1cAm\\\\\\xb5(\\xb8\\x1f\\xa91\\xbc\\xb5\\xbeC\\xc4\\xcb\\x19v\\x9c\\xb8R6f\\x9a\\xff\\x00bK]\\xf7\\x15\\'R\\xae>\\x8e\\x1f\\xa8|\\x14\\xaf\\x11\\xbb0b\\xcc\\x7f\\xe4f1\\xd8\\xaf\\xaf\\xff\\x00\\xaa\\x03O\\xd8U\\xc4z|n\\xb0<\\n\\xb0\\xec\\xf6\\xfb\\x9a~\\xd1P\\xa6#\\x1d\\x14\\x04\\n \\x88-\\n\\x08\\xa8Q\\x01@T\\x10\\x14\\x16\\x88\\x14@\\xa2\\tD\\n\"\\xe1D\\n Q\\x02\\x88<\\xdakE\\xb6YS\\xb8!4\\xc3\\xe1UQ\\x11\\x16\\x84\\xec\\x13W\\x19Xz\\xa9\\xe4\\xbe!a\\x1dU\\x9d\\x17\\x964U1m?\\x14\\xd3\\x15\\xadqKI\\x19\\x16\\x1an>\\xf5\\x9f&\\xbcjQ\\xd5U\\x9c\\xa0\\xba\\xa8|\\xa8\\x0eR\\xd8\\xb2P\\x92\\x87\\xca\\xb5\\xa4\\xea\\xa5\\xab9(\\xe4\\xf8>J8\\x1a\\'\\xc1\\xf2Q\\xfb\\xd1O\\x83\\xe4\\xf7+\\xf0\\x8c\\xad\\x7fj)\\xb1r\\xa1\\x0f\\xec\\x9f\\teJ\\x95Q[R\\x94\\x8c\\x85\\xe7\\xa2\\x9f\\r|\\x86\\xa1\\x12\\xea\\xd1\\xd4C\\xe4\\xd4\\xaa-\\xae\\xea\\x14\\xd3+&\\xb1\\xce\\xd8h\\x96\\xe2\\xc9k!\\x1b\\xbb)\\xe4\\xbe5(A\\xa1ji\\x8aX\\xeaV\\x94\\t\\xa7\\x8au\\xd9Td\\xd6\\xb8\\xec\\rVmjE5\\x1a\\x11D\\x85r\\xf9/\\x15\\xe3\\xbc\\x9c\\x1c9\\xb0\\t\\xd8>S\\xa8sI\\xea\\xd76\\x8e\\x1faI\\xf0\\xb5\\xf1>K\\xf4w\\xc1\\xe4\\xcd\\xcd\\x06v\\\\N\\x06\\xad\\x8eg~a\\x83\\xe0\\x1di[\\xd6k\\x08\\xbfK3\\x1a\\xff\\x00\\xfe\\xb3\\xed\\xe9\\xfd\\r\\x7f\\xef\\xa7\\x92H\\xf5\\xf0\\x7fM\\xbcD\\x00\\x1c\\xf9\\xe7\\xcfujC\\xcf\\x14\\x7f\\xf0\\xb3_\\xf1,\\xf9kY\\x8f\\xa7\\xc2\\xc1\\xc3\\xc1\\xc7\\x10a@\\xccx\\x01\\xa8dm\\xb4W\\xb9\\xeeVZm/\\x1bWOUq\\x9f$/\\xd3O\\xbd0\\xf2\\x03\\x88\\xd7Ep\\x94/>\\x8aaj\\x83QT \\x0bI\\xd4\\xd1\\x00\\xd0~$\\x0b\\x87t\\xc3@QamF\\x9a\\xa6\\x98\\xc6H\\xd8\\xf6:9Z\\x1f\\x1b\\xc5\\x1e\\xc7\\x00ZGb\\x0e\\x85Vk\\x86\\x0f\\x01\\xe1 \\x94K\\x06\\x0c\\x11<\\x1a\\x82\\xd6\\x01C\\xdc\\r\\x82\\x0e\\xf9\\xa3\\x8eX\\xccs\\xc6\\xd9c:\\x16H\\x03\\x9a~\\xc3P\\xa3O8}=\\xe3\"y\\x93\\t\\xb2\\xf8\\xe9\\x0e\\xee\\xc3\\x91\\xf0\\x8f\\xf8\\x1ax\\xcf\\xda\\xd5\\xadEl~{\\x1cR,\\xd8\\xb3\\xd8?\\x06lV?\\xff\\x00Z\\x0b\\x7fk\\n\\xba\\x8c\\xc7\\x95\\x9e?\\xfa\\xdf\\x19<]\\xe5\\xc5-\\xcb\\x8f\\xeem\\x92\\xff\\x00\\x812\\r\\xb8\\xdeO\\xc6e?\\x8f\\x1f.\\'\\xcb\\xff\\x00\\x80\\xe2b\\x97\\xff\\x00N@\\xc7~\\xc4\\xc4\\xc7Y\\x0f\\x8c\\xfb\\xd8ZzT,\\xd8\\xb2\\xe2:W;r\\xa4\\xe6-\\xea\\xa0}\\x05(\\xb5\\x89(\\xd7\\xd0\\xd6\\x9a\\xa9a.)7kJ\\'\\xd2\\xdf\\x95h\\x14\\xa9\\xfb\\x94\\xb4\\x92!\\xa0V%\\x88\\x1c\\xa8\\xc8\\xb9\\xa3mT[\\x89pLM*\\x11V\\xacS\\xe4\\xf8P\\x1aF\\xea[Z\\x922-\\x8c7\\xbb\\x94\\x96\\xad\\x920\\xa5M\\x00+Lb\\x96z\\xeb\\xd9O&\\xbcR\\xd5u1\\xe75\\xf1\\x8al\\xb5efX\\x8f\\x95\\xa7`>*\\xf3\\xcau\\xd0\\xd6\\xbeCFo\\xd9[dI-\\xfadq\\xe4\\xad\\x08\\xa1\\xeb\\xaa\\x9eq|(\\x1dh\"\\xd4\\xcd7\\x02dp\\xa8i\\x01\\\\\\x86\\xd4\\x11\\xc9Z\\xd0\\xab\\xe5\\x12sOp\\xd0\\xd0\\'\\xc0\\x9a\\x8d\\x01\\xaf\\xc1T\\xfaV\\x82\\xe3\\xd6\\x89i&\\xb3\\xe2\\x07c\\xaa\\xcf\\x9b^\\x0cK(H\\xb8h\\xae\\xa7\\x8a\\xb44\\x1fw\\xd9\\xd9-$[\\x8dth\\xd1L]d\\xe0iR\\xe1^\\xa2\\x8b2\\xad\\x9f\\xe5\\x88s\\xb5\\xd7Er$\\xb5D\\x86\\x86\\xa9\\xe2N\\x98\\x99A\\xd0\\x85|S\\xc9\\x9b\\x08#\\xd1f\\xb5\\x14\\xb5\\xc0{k\\xf1R],\\xb1\\t\\x91\\xb4.\\xaa\\xb9\\x12\\xdb\\xf9d\\x1e\\xe7V\\x9b\\xf55S1\\xad\\xb5\\x0b\\\\{}\\xea\\xca\\x96V>\\xea\\xd3c\\xf1W\\xe1\\x9c\\xac\\xc1#w\\x85\\x9f\\xfc5\\xff\\x00\\x96m,\\xfej\\xa9u\\xa9\\x8ah\\xed\\x00)>\\x0b5\\x08-\\xa5\\x1a\\xac\\xba\\xcd\\x98\\x9c\\xc4iE|S\\xcd\\x9b%`\\xde\\xbf\\x05/5gQ\\x9be\\x88\\xeeh\\xb3y\\xad\\xce\\xa5f\\xd3\\x19\\x1f?\\xc2\\xab7Vb\\xbbc\\xef\\x06\\x81\\'\\xfa-\\xff\\x00W5\\xe0\\x1dE>\\x0b\\xae8\\xeb&N\\xd0v\\xfbIR\\xf0\\xb3\\xb8\\xd8&\\x8a\\x9a\\xd4\\xac\\xf8\\xd6\\xbc\\xe3-\\xc7\\xb5\\xc44\\xfa(\\xado\\x14\\xd0>\\xa1n_\\xf0\\xcd\\x9f\\xe4\\x8c\\x8d\\x89\\xd7\\xe2\\xa7K\\xcb:\\x82(+\\xa7u\\x96\\x96\\xc7\\x11Ri\\xfbSL\\xacCZ\\rN\\xbd\\xaa\\xae\\xa6E%\\xc4\\x12\\x1aHQX5\\xcd\\xba\\xa4\\x1a-V#2#\\x14 \\x11^\\xe1gkY\\x07\\xb9\\xda\\x11J\\x1d\\xe8\\x92-b\\xeb*+@;\\xadMf\\xc8\\xc5\\xa4|\\xcd\\x1a\\x03\\xa8V\\xff\\x00\\x94\\x9f\\xcclu\\\\\\x01\\xb8T\\xf4\\xec\\xb1\\x1b\\xbf(\\x03\\xae\\xd3\\xef\\n\\xeaH8\\x16\\x8b\\xaai\\xde\\x89>R\\xcc\\x00im\\\\\\xe2\\x0f@\\x9a`\\x07B\\xf1\\xf6+\\xbf\\xe0\\xcf\\xf2\\x95\\x03\\xad~\\xd4@9\\xbbV\\xa7\\xa2U\\x95\\\\\\xc26pI\\xd1ycv\\xa0TU\\\\gXdbc\\xe57\\x8f&8\\xe7gi\\x18\\x1e?h*j\\xe3\\x94x\\xb8\\xf1\\xab\\xf9\\x1c\\x99\\xf0\\xc7\\xf2E!1\\xff\\x00\\xe9I\\xc8\\xcf\\xd8\\xb7*[\\x8c\\'\\x97\\xea\\x18\\xe1\\x7f\\xe5\\xdd\\x87\\x97-+\\x18\\x9d\\x8f\\xc7\\xa9\\xec\\xe7D\\\\\\xdd{\\xda\\x96/\\x17\\x9d\\xff\\x00\\x97\\xd7\\xf8j\\xc3\\xf2^]\\xd1\\xff\\x00\\xfd\\x8f\\x88~,\\xc0\\xd1\\xdf\\x96\\x99\\x99Q\\x91\\xfc\\xcd4\\x8d\\xff\\x00{V\\xa4\\x9f\\xcb\\x15\\xd1\\x16l9otx\\xee%\\xac\\xff\\x009\\xe4\\x16\\x96\\x9f\\xe5\\x00\\xeb^\\xeb+\\xf4\\xeaioT\\xb1%\\x8bp\\'B\\x98\\xba\\xca\\xd7u!M\\\\\\x08\\xf5\\xaa\\x16 \\n\\xea(\\xafe\\x00\\xd7\\xb2*}\\x88\\x85J\\x06\\xa8\\xaa\\xd0\\xe3\\xb0R\\x93T\\x07l\\x9f\\x0b\\x95H#\\xaa\\x0e9p\\x0cl\\x04:\\xe7\\x9f\\xc1Mu\\xdbd\\xe7\\xdb\\xb5:\\xf5\\xe4n\\xc6\\xf1Y_3\\xe3\\x1f\\x07\\x15\\x9e\\xfd\\xd3\\xf1[\\xe3\\xd5\\x7f&\\\\f\\x1b}\\xc0\\x1a\\xfc\\xa0)\\xc5\\xd3\\xbf\\x86\\x978\\x9aQ\\xfa\\xec\\xb7\"Z\\xc1\\xc5\\xccu\\x1f\\xa8=\\x96\\xa7\\xcf\\xd3\\x17\\xe3\\xed\\x1d0;6\\x9a+9/Lo\\x90\\xedZ-dgk\\x13uuV2\\xd8\\xd8M\\xb79\\xc1\\xb5\\xd8uY\\xbd\\xfc\\xb78\\xf8(\\x1aG\\xbe\\x83\\xd3\\xb2o\\xf83\\x19\\x066\\xdb\\xae4SW\\x1a\\xc1\\x00\\xd7q\\xd8\\xad2\\xcb\\x96\\xba\\x11\\xa2\\x9e+\\xe4\\xc4\\xc8N\\xda+\\x89h\\x1ez\\xea\\x96\\x12\\xb3\\xb8\\x9f\\xeft\\x00)\\x8b\\xacK\\x89\\xd2\\xb4VD\\xb4\\xf6w\\xfd\\x8a|\\x9f\\n\\xd9\\x03v\\xaa\\x96j\\xcb\\x8b\\xc8\\xe3\\xadM:\\xa7\\x8c<\\xab#3\\x00\\xdc\\x93\\xea\\xb3\\xe3Z\\xf2\\x8du\\'e\\xd1\\xcd@q\\x1e\\x8a|\\x19R\\xa4uU\\x16\\xa8(%JF\\xcb\\xc8\\xd7Z~\\xc5\\x9co\\xc9\\x90\\x9d\\xfaS\\xa2\\x9e\\x11|\\xeb#{\\xabv\\xcaL\\x8bv\\xfd\\xa4q=\\xe4\\xd2\\x94\\x1a\\xd5k\\xae\\xb1\\x9ex\\xb5\\xbd\\xb8u\\x15s\\x80\\\\\\xef\\xb5\\xd2z\\x99K\\x04,\\x8cP\\xd4\\xf7S\\x9e\\xed\\xad^$\\x8eG\\x07\\xb7\\xa5\\x01\\xd9v\\x968Yb\\x86\\x80\\xdb\\x9c\\x7f\\xddS\\x7f\\x0b\\'\\xe6\\x8eq;\\x8a+\"Z\\xdb\\x0c7\\n\\xddj\\xc7]\\xe3|q\\xae\\x82\\x18\\xc6|\\xc4\\xf4\\xadz\\xae[mu\\xcc\\x8eYoi\\xf7\\x10\\xbbs\\x8e=l`\\xc9\\x1e\\xd3\\xed\\xddj\\xf3*N\\xacfg\\x90\\x8b\\x9cA\\xe9\\xae\\xeb3\\x88\\xd5\\xee\\xb6G\\x90\\xc0\\xda\\x16\\x85\\x9b\\xc5k\\x9e\\xe3\\tr\\x01\\xad4\\xf8+\\xcf\\t\\xd7l9\\xa5\\xe8M;-x\\xc6<\\xe8\\'\\x91\\xbe\\x9e\\x89\\xe1\\x17\\xce\\xc6_\\x9b}7S\\xf5\\xc5\\xfd\\xb4nS\\x81$\\xeaON\\x89}d\\xf61|\\xc5\\xe7P+\\xd3\\xd1Y\\xce%\\xefH\\xdfCBh:\\xa7Q9\\xad\\x8e\\x98\\xb9\\xe0\\xb5\\x94k}\\x16g9\\x1b\\xbdm\\xfam\\x86G5\\xae\\'C\\xd3\\xa2\\xc7S[\\xe6\\xb22\\n\\xb5\\x8f5\\x04T\\x90\\xa7\\x8f\\xe6/\\x97\\xe2\\xb5M#5\\x14\\xf8\\x15\\xbeec\\xab\\x181\\xf0iV\\xd3MuZ\\xb2\\xb3/(\\xe9Xth\\xa0VsR\\xf5\\x10H\\xd0~_\\x8e\\xaa\\xe5gb\\x93q.h?b\\x99\\x8b\\xa8\\xd72\\xb5p\\xaa\\xb6T\\x963\\x0f\\x8e\\xef\\xc5N\\xd5S+^QY\\x1b\\xe5q\\x0c\\x07\\xd2\\xa9l\\x9fd\\xe6\\xdf\\xa6n\\xc4\\x99\\x80\\x92\\x01#qU\\x99\\xec\\x95\\x7f]\\x8c\\x1c\\x1fJ\\x11\\xb7ef%\\xd7.\\x1f\\x8d\\xc9\\xc7~[\\xe4\\xa7\\xfe\\xe2c+-\\xe8\\xc2\\xd0\\x1a\\x0f\\xae\\xeas\\xdck\\xbe>\\xb3\\xf8t\\x06\\x8e\\xae\\xa1[\\xd60\\xb4\\xd3G\\x04\\xd3\\x12\\x9e\\xa83\\xb4[[\\xb5Y\\xd6\\xb1\\x9b8\\xed\\xf7\\x13_E.\\xfe\\x16I\\xf9\\x03nxld\\x92t\\x017>\\xcc\\xdf\\xa7Q\\xc2\\xb6-\\\\L\\xbf\\xca6\\\\\\xbfg\\xcf\\xf8t\\xfd\\x7f\\x1f\\xe5\\xa0cOZ\\x10[\\xdc\\x9d(\\xb7{\\x8c\\xce*\\xbb\\x19\\xe0\\xd0:\\xe2\\xa4\\xee/\\x85j\\rq$T\\x7f\\x05\\xbdc\\x16\\xd7V\\x97\\x0f\\x8a\\x9a\\xb8\\xcc6\\xb5\\xf7\\xfc(\\xb3\\xadb\\x1aV\\x80\\x91\\xddX\\x8e\\xacH\\x88\\x97\\xde(\\xe7\\x1fi+\\xcf\\xd5\\xf8v\\xe6|\\xb3\\xf2O\\x95\\x91\\x86D?\\xa8\\xe3B\\xa7\\xaeK~W\\xbbs\\xe1\\xe1\\xcf\\x87\\x92}\\xb2\\xc8\\x1aZtq\\xae\\xbfj\\xf5\\xf3\\xdc\\xfc<\\xfdq\\x7f(\\xdcg5\\xd5\\x91\\xbe\\xd1\\xd4\\x1d\\n\\xb7\\xbf\\xe1\\'\\x1f\\xca\\xca\\x1c\\xe7\\x87F6\\xd2\\xbd\\x14\\xe7\\xe2|\\x9d|\\xdf\\x84tS\\x1a9\\xc5\\xaa\\xce\\xa2Y@\\xe77\\xd8iQ\\xd93~VV/f\\x80\\xebq\\xeaV\\xa5f\\xc1\\xcdx\\xebT\\x96\\x16VX\\xf8\\xef\\x95\\xe2\\xe0C\\x0e\\xeeN\\xfb\\x92\\x1c\\xf1mu\\xbd\\x80c\\xf16\\x8d\\x15\\xa9q\\\\e\\xf9\\xd7k\\xcf\\xc68\\xc4Q\\x93@\\xfa\\x1fU\\xdb\\xca\\xb8\\xf8\\xc6\\xb2\\x03\\\\En\\xa7U\\xb9X\\xb3\\x18\\xd5Tt28\\xc3\\x03\\x88\\xba\\xbe\\xb4\\\\\\xafW]g3\\x1b\\x19\\x92\\xc8\\x98\\xe8\\xd8\\xd0\\x1c\\xed\\t\\xea\\xb3x\\xb7\\xe6\\xb5;\\x93\\xe1\\xa1\\xf1\\xd3\\xbd\\xdb\\x95\\xb9\\xd3\\x9d\\xe5\\x04G\\xa9\\xa0\\xe9\\xea\\xad\\xe9\\',iC\\xaa\\xa9\\x89UQ\\x98kH\\x00j\\xe3\\xf7\\x05\\x9bZ\\xc6r\\x061\\xa1\\xad\\xad\\xddOE\\x9e~W\\xa9#Uk\\xa2\\xdb\\n\\xd3C\\xb5h\\x95YV\\xa4\\x9a}\\xca\\r\\xf0O\\x1cm\"\\xd1wRW>\\xf9\\xb5\\xd3\\x8e\\xa4Yr\\xc4\\x94\\x0e\\x15h\\xd8l\\x13\\x9f^\\x1d{%j\\xa8&\\xb4\\xb5m\\x87DMq\\xa3\\xa4u\\x18\\xb9u\\x7f\\x87^e\\xfc\\xba\\xe3\\x11\\x1a\\x96\\x83A\\xadJ\\xe5mu\\x92$\\xd6\\xb8\\x079\\xbe\\xef\\x8d\\x15\\xe4\\xe9\\xc7\\x90^\\r\\xcd\\x046\\x9a\\xae\\xdcg\\xe5\\xc3\\xbd\\xfc4r\\x95\\xd3\\xc5\\xcf\\xc8\\xe45W\\xc4\\xf2nl\\xa2\\xd0\\x1cG\\xafu\\xce\\xf2\\xe9:m\\x8b%\\xadi\\x0c\\x8e\\xbe\\xab\\x1dq\\xfeZ\\xe7\\xbf\\xe2$\\xae|\\x84\\x12\\xdd\\xfa\\x05y\\xc8u\\xb5\\xaeX%h\\xa9\\x1at\\xd6\\xab|\\xf7\\x18\\xeb\\x8b\\x1a\\xfd\\xa3\\xf1WEYb\\xe2kE\\xa8\\x94!\\xe0j\\x08M\\x89eJ\\x95Q\\xb2\\x1f\\x9bWZ;\\xact\\xdf\\t+\\x8diu\\xc3\\xa1\\n\\xf3\\x13\\xaa\\xd7U\\xa6V\\xa9\\x81T\\x1b\"-\\xad\\x08\\x1f\\x12\\xb3\\xd4o\\x9a\\xdc\\xf9\\xc8%\\x91j\\xd2\\x06\\xcb\\x9c\\xe7\\xf3[\\xeb\\xbf\\xc4ks\\xe64&\\xb4+rFm\\xacny\\xa0\\xd4\\xd7\\xa2\\xb9\\x19\\xda\\xe9d\\xd2\\xb5\\xd6\\x98\\xe8N\\xcd\\x03u\\xca\\xf3?\\x97Y\\xd5\\xfe\\x1a\\xccr9\\xe5\\xf6\\x86\\xf6\\x05kd\\x98\\xcd\\xe6\\xdb\\xa0t!\\xb5\\xd4\\xbb\\xb0\\xee\\x9f&\\xc6\\xab\\x85v\\xd1tcY\\xb6g4PQf\\xf3\\xab:\\xc67kS\\xd5i\\x1b\\x9b, \\x01eORW;\\xcd\\xfe[\\x9dO\\xe1\\xba,\\x9e0KH\\x00\\xee\\x06\\xeb\\x1dq\\xae\\x9c\\xf7\\x8b&][\\xb8\\x05N}g^\\xc4\\x87!\\x82\\xa5\\xda\\xd4j\\x15\\xeb\\x8as\\xdcd\\xec\\xd7\\xd5\\xb4\\x04\\xb7\\xb2\\x93\\xd6\\xb7\\xd8\\xd5tD\\x93A\\xafu\\xbc\\xacl\\t\\x8c\\xb0\\r\\x07zn\\x9f:|cI\\xdf}\\x16\\xe3\\r\\xf8\\xb12Y(\\xf7Z\\xd1\\xbfr\\xb1\\xec\\xeb#|s\\xb5\\xbb#\\xf2\\xdc\\xa1\\xb4\\xf6\\xb4~\\x1d\\x17><\\xb1\\xbe\\xf3X\\xc5$L}Z(\\xe5z\\x96\\xc4\\xe6\\xc8\\xec\\x8eFV\\xaf4\\xae\\xcb\\x8d\\x9f\\xc3\\xb4\\xa9$\\xcd\\x04\\xd8A\\xafBz\\xab9\\xfeR\\xd7\\x19\\x9d\\xedq\\x04T\\xba\\xb7P\\xee\\xba\\xf8J\\xe7\\xe5\\x8c\\x1c\\xe6V\\xa1\\xa7\\xe0\\xb5%f\\xd8\\xc5\\xd2\\xb2\\x9f%=U\\x9c\\xd4\\xbdF\\x1c\\x83\\xa0W\\xc5\\x9f\"\\xe0v\\n\\xe1\\xae\\x98\\xf2\\x1f,\\xc1\\xa0\\xda[\\xa8\\'\\xa2\\xf2\\xder=\\x12\\xebc\\xb3.\\x1a\\xbd\\xa1\\xec:\\xbbsE\\'\\x0b\\xe4\\xf2\\xb2\\xf3\\xa3\\x908\\x91{\\xc1\\xf6\\x9dt^\\x8e=v8\\xf5\\xdcq\\xbb-\\xf2\\x87\\x03[\\x89\\xabh\\xba\\xf8c\\x9f\\x9e\\xb3a{G\\xb8\\xfd\\x9d\\xd4\\xb8\\xb1\\xd2\\xd9\\x1a\\xd6\\xb8\\x90\\t#J\\xacf\\xb7\\xaef\\xb8\\x92I4]+\\x9c\\xac\\xcc\\x8d\\xa7\\x7fT\\xc5\\xb5cis\\xb4\\xfb\\xd4\\xea\\xe1\\xcc\\xd7G!c~u\\xcf5\\xd3q\\xce\\xe7\\xb8\\x9a\\xdcu\\xe8\\xba\\xc8\\xe5j\\xb1\\xb5\\x04\\x97S\\xf7\\x94\\xb4\\x91\\x1fa\\xa0`\\xd7\\xbfuf\\xfeK\\x9f\\x86\\xd3\\x84x\\x04\\xcdu\\xc3\\xa8\\xa5(\\xb1\\xfb>q\\x7f_\\xc6\\xb0\\x95\\xe001\\xbaQ^g\\xce\\x9d_\\x8ca\\x19hu\\\\h\\xafL\\xf2\\xdf\\x1eC\\x19q\\x02\\xa7\\xd7u\\xcf\\xae-t\\x9d\\xc8\\xd6\\xf9\\x1c\\xf2t\\xf8z-\\xc9#6\\xeb\\x10\\xce\\xae*\\xf93\\xe3\\xfc\\xa0,k\\xaaEG@\\x9f\\'\\xc6\\xa1y&\\xa0S\\xe0\\xac\\x89h\\x1e\\xee\\xe9\\x86\\x82\\x9d\\xd1\\x00Pt\\x8cq\\xc4\\x1c^C\\x8e\\xb4\\xa7E\\xce\\xf7\\xf2\\xeb8\\xf8h\\xa2\\xe8\\xe5\\x8d\\x867\\xb6:\\x96hz\\x90\\xb3\\xb3Z\\xcb\\x83X\\xe0A\"\\x9f\\x14\\xbdBsYs\\x92}\\xda\\xd3a\\xd1O\\x06\\xbc\\xd4\\xe5\\xba\\x94\\x04\\x80\\xa7\\xeb?b~`\\x91\\xaf\\xc3U|\\x13\\xcd\\x81t\\xaf4\\x15+Y#;kY\\xa8\\xddi\\x95i\\xa9\\xec\\x94\\x8c\\x8d\\xa3cU\"\\xd8\\t\\\\6*\\xf8\\x9eL\\xff\\x005 m\\x06\\x8b?\\xae5\\xfb+[\\xa5s\\xb7%js\\x19\\xbdZ6\\xa4\\x8a%H\\xd9o[\\xc5J\\xce\\xb7\\x88j*\\x0b\\x92%^H\\xc0\\x06\\x95#\\xbe\\xc9\\x95v5\\xb9\\xf7\\x1a\\xfe\\xc0\\xb7#\\x16\\x81\\xc0n*\\x96\\x12\\xa5Q5j\\x8aU\\x06b\\xcbw\\xf7~\\xc5\\x9f\\x95\\xf8R\\x18\\xd1\\xa9\\xab\\xbb\\x05>j\\xfcD29\\xc2\\x84\\xd5_\\x14\\xbd6G;\\xe3u\\xc3zP\\x1e\\xcb7\\x9djw\\x8c\\xbf9 \\x06\\x9a8\\xfe%?Tk\\xf6\\xd6\\xb3$\\x87sZ\\xebU\\xaf\\x18\\xc7\\x95AUPD\\xc6\\xe7b\\xc8\\xd6\\x07\\x12*\\x7f\\x0fU\\x89\\xdc\\xd7K\\xeb\\xb8\\x08\\x1fi\\'Jt*\\xf9\\xc4\\x9cS\\x8e0\\xc0K\\xfd\\xc7\\xa0\\xe8\\x9bu|f6\\xcb4\\x0fh\\xb5\\xb4\\xd2\\x9ah\\xb1\\xcf67\\xd7R\\xb4\\x10\\xda\\njF\\xeb\\xa7\\xcb\\x95\\xc6\\xe6K\\x03Z+\\x1d]\\xddb\\xf3\\x7f\\x97I\\xd4\\xfe\\x11\\xf9\\x0f5\\xa1\\xddY\\xc4K\\xddVC\\xc8\\xd0\\xe7>\\x87\\xb2\\x97\\xacY\\xce\\xfd\\xb5\\xf1\\x9a\\xe8A\\x1bUk\\xc9\\x8f\\x16p\\xe3\\xcb1\"6\\x97SSN\\x8au\\xd4\\x8b\\xcf6\\xbaY\\x14\\xed$G\\x18s\\xb6\\xd0\\x1a\\xaeV\\xcb\\xf6\\xed%\\x8c\\xe6\\x8av4:Hm\\xa8\\xa8:h\\xa79\\xfc\\x97\\xfd\\x1c\\xc6kN\\xa0:\\xba\\xd7\\xaa\\xe9\\xe3\\xacyc\\'~d\\xc7S\\x13\\xad\\xdc:\\x87e$\\x9b\\xf6\\xb6\\xdc\\xfar\\x97\\xb8\\x9d\\xd7\\\\q\\xda\\xec\\xf1\\xf8\\xf0\\xca\\x1ce$\\xb8\\x1d\\x00;\\x0fU\\xc7\\xdb\\xdd\\x9fN\\xde\\xaee\\xfbl\\x9e\\x08\\xc1\\x02\\x1a\\xd4o]V9\\xea\\xfe[\\xea\\x7f\\x0e)\\x03\\xc0\\x17\\x1a\\xd7\\xa7e\\xdf\\x9cq\\xebX\\xd4vZg[cmH \\x01\\xeaV:\\xae\\x9c\\xc6\\xe1\\x15(\\xed\\x80\\x06\\xb5^}v\\xc7\\x9b\\x91 k\\x89\\x88R\\xbb\\xfa\\xae\\xfc\\xcd\\xfbq\\xea\\xff\\x00\\x0f9\\xf5$\\x95\\xe8\\x8e\\x15\\x1a\\xe1\\x1b\\xaaj=R\\xcd%\\xc6f@\\xedn\\xa9Rr\\xd5\\xac\\x81$jtPd\\x08=PtA\\x0b\\xa5\\xd0\\n\\x01\\xbb\\xbb,u\\xd67\\xcf:\\xebn\\x10i\\xb5\\xb2hz\\xd1r\\xbe\\xcdu\\x9cc\\xad\\xd0\\xe3q[h+\\x94\\xea\\xeb~3\\x1c&8X\\xf1]\\xab\\xb2\\xef\\xe5k\\x97\\x8c\\x8cf1\\xb8\\xd3Z\\r\\x01Nv\\x1dcf\\x1bbc\\x8c\\x95\\xd4\\r\\x1b\\xf1S\\xbbo\\xc2\\xf1$\\xf9t=\\xf1\\xb2\\x12\\xe6\\r\\x1d\\xbf\\xfd\\x8b\\x9c\\xdb[\\xfa\\x8f:I]#\\x85Y\\xf6\\x80\\xbd\\x1c\\xccp\\xb7X\\xd8w\\xd8z\\xab\\xac\\xe1b\\xba`[\\xa5j\\xa6\\x98\\xc4\\x8d7U\\x18^\\xae&\\x97&\\x1a\\xa0\\x8e\\xe8)-\\xa2\\x8b\\xf0\\xadu\\x08)R7:w\\xb8R\\xb5\\xee\\xb18\\x91\\xd2\\xf7YG+[\\xf8B^t\\xe7\\xa9\\x03+\\x9d\\xa5N\\xfd\\xd2s\\x85\\xea\\xd6\\x0e\\x12\\x13\\xa1\\xb8\\xf5\\n\\xcb\\x19\\xb2\\xb5\\x92\\xee\\xabl\\xabm?3\\xa8\\xa5\\xb4\\x923o\\r\\xdb\\xe8\\x14\\xba\\xd4\\xc5\\x93\"\\xba\\r)\\xd9Nx^\\xbbkt\\xafp\\xf4\\x0bs\\x9cb\\xf5\\xachi^\\x8a\\xeb%\\xc8\\x15\\n\\x85T\\x16\\xa1\\x00\\x1dt4J\\xb2\\xae\\xbb\\xf4A\\x8dUgJ\\xa0T T\"\\xa8\\xd7d\\x19\\x068\\x8a\\xf4Y\\xd5\\xc6F:\\n\\x93\\xaa\\x9eK\\xe2\\x9a\\x0e\\xaa\\x8bQ\\xdd\\x11+\\xadPn\\x8d\\x8cp\\xf7\\x1a\\x13\\xd5b\\xdb\\x1b\\x92WCq\\xe0\\xb6\\x83\\xde\\xef\\x8fE\\xce\\xf7]\\'\\x11\\x87\\x10\\xa1kX\\x07\\xa9\\xd5k\\xc9\\x9f\\x16\\xbeg\\xc4\\x0b-\\x15;\\xd4-x\\xef\\xcb>Y\\xf0\\xd7q.\\xafU\\xb6\\x1b\\x9b,\\xcfpn\\xe7\\xe0\\xb1\\xe3#~V\\xba\\x8e\\x0b\\xde\\xf0\\xd6\\xbb\\x7f\\x98\\x95\\xce{1\\xd2\\xfa\\xf5\\xb2O\\x10Z\\xdfk\\xc3\\x8f}\\x85Vg\\xbdo\\xa5\\xa8x\\xe7\\x89x\\xcb\\xdb\\xeaV\\xff\\x00l\\xcdg\\xf5|\\xb5?\\x15\\xcdqhp$\\x1aQjv\\xcf\\x82\\xc7\\x8a\\xf2\\xfa\\x13A\\xdc%\\xee,\\xe1\\xd2\\xdf\\x0f9\\xa3\\x8b\\xda\\x07\\xed\\xa2\\xc5\\xf7F\\xbfUv;\\xc7E\\x14Mc\\xfd\\xf4$\\xd7\\xd0\\xae?\\xb6\\xdb\\xae\\xbf\\xaeI\\x88\\xdf\\x15\\x8e\\xe9\\x03\\xa3$7\\xf9N\\xa1_\\xdds\\xe4\\xfdQ\\xdf\\x14-\\x89\\xb5h\\x00\\x91CA\\xfe\\xc5\\xca\\xddo1\\xcf3$m\\x0b]G\\x83v\\xbe\\x8bR\\xa5\\x88CrZ\\x0b\\xcf\\xcb\\xa1h\\xee\\x9b\\x86kA\\x83\\x1a<\\x80\\\\\\xca\\xdb\\xb1\\xe8=H\\xea\\xb7\\xe5lg\\xc6k\\x1c\\xdc\\xa9\\x0bK\\x03\\xc3\\x98\\xe1\\xad=S\\x8eN\\xbasA\\x03\\x1e\\xcaT\\x0fJk\\xf7\\xad\\xf5\\xd5\\x95\\x9ey\\x96+\\x1c\\xfcf\\xb85\\x95\\x07\\xf1\\x0f\\xe2\\xa5\\x9eK/\\x8bT\\x93\\xb2\\x94\\x04\\xd4\\xeeA[\\x9c\\xd6oQ\\xad\\x82\\xa7C\\xa2\\xb5\\x98\\xdf\\x06<%\\xde\\xedk\\xb5v\\x0b\\x1dwZ\\xe7\\x88\\xeb\\x87\\x16\\x16\\xb5\\xcd4\"\\xbfj\\xe5\\xd7v\\xbas\\xc4\\x8f L\\xf9ZXt\\x1d\\xeb\\xa2\\xe9\\x98\\xcc\\xba\\xd5 \\xc7n\\x8e\\xd4\\xfcV\\xe5\\xacY\\x1a_6;h\\x18\\xc1M\\xfb\\xadIY\\xf2\\x8ds\\xe4\\xc7(\\xf7\\x1f\\xb3J-s\\xcd\\x89\\xd7R\\xb8\\x89\\x03\\xe5\\xd9w\\x8e,\\x9a\\xed5*R2k\\x88;\\xe8\\x96,\\xae\\xb8\\xb3K\\x00\\x1d:\\x85\\xc6\\xfa\\xf5\\xd6{1\\xb9\\x9eC\\xa94\\xafE\\x8b\\xean{\\x19\\x1f!QA\\xf7\\xa9\\xfa\\x8f\\xd8\\xd4fk\\x81\\xb8\\xd6\\xbdV\\xf1\\x9f&.\\x90\\x80?\\x95Y\\x12\\xd6<\\xcd\\xd6\\x9b\\xab\\xe2\\x9eM\\x8d\\xc8\\x91\\xf4h\\xd4,\\xdedk\\xca\\xd6\\xc7\\x00\\xdd7pRU\\xb1\\x94X\\xee\\x94\\x1a\\xb80\\x01Z\\x95/x\\xb3\\x8dG\\xc4\\x01 \\x1a\\x80+^\\xea\\xce\\x92\\xf2\\xc3\\x92\\xc0@\\x1e\\xe2\\xaek;\\x8dF\\xd3\\xe8\\xb6\\xcb[\\xed\\xe8U\\x8c\\xd6\\x15Zej\\x82\\x87)\\x86\\xa8p\\x07d\\xc5\\x95\\x91\\x91\\xbb\\x01N\\xeab\\xecPE7\\xa2\\x8a\\xc9\\xa0w\\xaa\\x0c\\x9a\\x1c:\\xd1\\xa7p\\xa5X<6\\x9f2D\\xb1\\xac9\\xadwp\\xb7\\x8c\\xeb&\\x90\\xef@\\xb3Z\\x9f-\\xbf\\x97\\xb8TtY\\xf3[\\xc3O\\xbd\\xa4\\xb4i\\xf1[\\xf8g\\xe9\\x8b\\x8b\\xa9\\xa9\\xa8V%\\xd4\\xaa\\xac\\xabKI\\xf7h\\x12\\xacf]\\x11;P,\\xcdk\\xe1\\x93\\xe5\\x88\\xb6\\xd0)\\xea\\xa4\\x97V\\xd9\\x8d5[s+\\xd1\\x06V?_i\\xd3t\\xf2\\x8b\\xe3B\\xc7\\x01\\xaaJ\\x97\\x96&\\xa3p\\xaaa_D\\x19\\xb0\\xeb\\xd8,\\xd6\\xa3\\xa3\\x9a&\\xc6@i5\\xde\\xa5s\\xf1\\xb6\\xba\\xf9I\\x1a\\x9c\\xfa\\x8a\\xb5\\xa4\\x0e\\xebr1k\\x12\\n\\xac\\xd8u\\xd7D\\x01Z\\xe9\\xaa\\x0c\\xae \\xfb\\xaa\\xa2\\xebg+\\xc7\\xca\\x08%L\\x8dmm\\x8a\\xf2\\xd3s\\xe8V:k\\x95kauK\\xdcI\\xee\\x9bg\\xd2\\xc9/\\xdbt#\\x16\\x845\\x97;\\xb9X\\xb7\\xa6\\xa4\\xe5\\xbd\\x86\\x8f\\x07s\\xd5f\\xb5\\x1d\\x12M\\xec%\\x9f5V\\'-Z\\xc0d\\x970\\xb6\\xda\\xb8\\x8a\\x17+\\xe2y2\\xe3.n\\xae\\xb7\\xbf\\xad\\x13Q\\xd7\\x17\\xe5\\xe3\\x17\\x16\\x8b\\xa9\\xbd\\x16.\\xd6\\xe65\\x8e\"\\xf7uq\\xd6\\xea\\xff\\x00\\x04\\xf9674\\x11\\x1f\\xf4\\xf4\\xae\\xf5YV\\x14|\\x8e\\x15 \\x01\\xba\\xbf@r\\xdb\\x1b\\xada\\xd3\\xaax\\xe9\\xe4\\xdc\\xdc\\x91i\\xd7JV\\xab7\\x95\\xd74\\x99\\x02\\x95&\\xa5nr\\x9a\\xe7n]\\x8f4\\xd8\\xee\\xb7\\xe1\\xf0\\xcf\\x939f\\xacD4U\\xceS\\x99\\xf2Z\\xe4\\xbd\\x85\\xa0\\x1d\\\\:.\\x98\\xc6\\xc6N{\\x1a\\xda1\\xa4\\x13\\xa9*Eb\\xe9\\t?\\x1e\\x89\"kK\\xa9]\\x00\\xf8\\xad\\xc6\\x19E\\x15M\\x00\\xd5N\\xba^c\\xba\\x18!\\r\\xac\\x9a\\xbb\\xb2\\xe3z\\xbf\\x87i\\xccFq\\xddutV\\xe8\\xf9C\\x96\\xfd\\xb5\\xa2\\xf5\\xcf[\\xcb{\\x03\\xe5\\x93Z{{\\x95rD\\xdb[]\\x1b\\x04b\\xdd\\\\w%f_\\x95\\xb3\\xe1\\xcf\\xc6\\xf3\\xee!u\\xd8\\xc6R\\x91\\x81B*T\\xf9>\\x10\\x96SA\\xafu~S\\xe1\\x01TucF\\xc2\\xdb\\xdc+\\xfb\\x97.\\xfat\\xe7\\x92X\\xc6\\x85\\xa0\\x84\\x9d\\x17\\x96\\xbb\\xed$Qk5\\x9d\\xc6Ll\\x8e\\xf9EB\\x96\\xc5\\x92\\xa3\\xdcZhA\\xafb\\x92%\\xa7\\xbc\\xb7`\\x02\\xbf\\x07\\xca\\x97\\x96R\\x8e\\xd7\\xad\\x14\\xcd]\\xc6L\\xc8\\xb4\\xd6\\x9a\\xf7R\\xf0\\xb3\\xb6g9\\xfa\\xd0\\xeawS\\xf5-\\xf6\\xb5\\x19\\xc9\\xea\\xb7\\xe0\\xc5\\xe8\\x12\\x93\\xaf\\xedO\\x13\\xc9\\x1c\\xf2N\\xf5VD\\xb4h.4\\x1dR\\xdcI\\x15\\xecs7\\x06\\x89.\\xad\\x98\\xc2\\xe5YV\\xd4\\xa9V3-\\xf5SW\\x18\\x13B\\xab*\\x1eS\\rm\\x8b\\x91\\xdf(\\xaf\\xaa\\xcd\\xc6\\xe6\\xb6q\\x97>\\xd7<\\x0f]\\xd6up|p\\xb4\\x10^K\\xbb\\xab-,\\x88\\xc3\\x08m-\\x05\\xc7\\xa9K\\xa91\\x04`\\x9d6\\xed\\xd5<\\x8f\\x16|\\x93\\x01\\xa0\\xa0S#[Z\\xa42V\\xae\\x1fj\\xdf8\\xc5\\xd6$8\\x01\\xadk\\xd1]Lf\\xd0\\xdb=\\xdb\\xf7Y\\xbfk\\'\\xc1\\xc8\\xd6\\x8a\\x06\\x8a\\xf7W\\r\\x8duZa*\\xa8\\xd8\\xd74u!\\xdd\\xd6ljX\\x97\\x96\\x9b\\x81\\xa9L5y\\xdf\\xddO\\x18yT\\xe5wu|S\\xc82\\xb8\\xa6\\x1eJ\\xdb\\x9ch\\xd1Rz\\x04\\x15\\xd1\\xbd\\x9f0\\xa2N\\xa5[\\xcd\\x83D\\x8e\\xd8\\x12\\x9b\\x0c\\xabu\\xae\\xa5kE3M\\xc5t\\xb5\\x1b\\xea\\xa4\\xe5|\\x80\\xf6\\x8fT\\xc3]-~;#\\x00:\\xaf;\\x9a,e\\xb5\\xd2Y#6>\\x12.$\\x126\\xaa\\xcd\\xd5\\x98\\xc6Y\\x01\\xf74\\x81\\xd9Y\\x12\\xd6\\x97Jk\\xa6\\xb5\\xddt\\x91\\x8b\\xd25\\x92\\x1d\\x86\\xe9lI+ts\\xc8\\xc3m)\\xd0\\xac^enu]Mu\\x8c\\xdcT\\xf5\\\\\\xf1\\xbdc\\xc8k\\xba\\xb8\\x9a\\xdc\\xd9\\x1c6\\xe9\\xd1g\\x1a\\xd6\\xc6\\xc8is\\x8e\\xaab\\xeb`\\x9c;N\\xfd\\x14\\xc3V&\\x19\\x1fk]a\\xddKq\\xaef\\xba(\\xf6iu\\xdakE\\x8d\\x95\\xbf\\xa6\\xa7\\x17\\x12M\\xc7E\\xbcs\\xda\\xe4\\x90\\x80\\xea\\x82Mz.\\x915\\xb9\\xbc\\xcen\\x80\\x81\\xf6,\\\\nJ\\xa1\\x91\\x9a\\xde\\xe3]\\x80\\nZc\\x17G\\x89\\xee$\\x9a\\xf4\\n\\xcb\\xd2Y\\x18\\x80\\x03@a\\xa8\\xf5\\xe8\\xaa5:\\x1bN\\xa6\\xabZ\\xcb&\\x91MT\\xc6\\xb5\\x8b\\xdb]E\\x15\\x89k\\x16D\\xf7\\xba\\x81[q3[\\xa1\\x86VI\\xb5V:\\xeaX\\xdf2\\xb7\\xc8\\xd7\\x90@n\\xab\\x13\\x1b\\xaeq\\x03\\xa8A\\xabu\\xea\\xb7\\xe4\\xc7\\x8b\\xe5/\\x04Qz\\xf1\\xe5e\\xcaiJ\\xa7\\x8a\\xeb&=\\xee6\\x83\\xbaXJ\\xdacx\\xeb\\xf1X\\xd8\\xb9Y2&\\x00]!\\xa9\\xa6\\x81/_\\xc2\\xce\\x7f\\x96\\x89iq\"\\x80-\\xf2\\xc5`\\xd2+\\xae\\xcbU#\\xa9\\xb9\\x81r\\xbe\\xb7_4\\xe4\\x12\\x12\\\\\\xeaz&bn\\xb3c\\xb1\\xdau\\xd5K\\xad|\\x07 4\\x80\\xd2\\x00\\x1b$\\xe5/M/\\x99\\xc6K\\xcd\\t\\xe8\\xb79\\xf8b\\xf5\\xf2\\xc0\\xca\\xf3\\xb9Z\\xf1O*\\x17\\x07z\\x14O\\xb4:uVR\\xc0T\\x9a\\rQ\\x96\\xc6\\xc3!m\\xd4\\xa0\\x1dJ\\xcd\\xea59\\xaa\\xc8\\x9c\\xe7\\x86\\xb7\\xafT\\xbd,\\xe5\\xd3\\x1cQ\\x80\\x1b@]\\xd4\\xaeW\\xaa\\xe99\\x8e\\x98\\xa6\\x8e6\\x96\\x90>+\\x16Z\\xdc\\xb24d\\xcd\\x14\\x8e\\xb5\\x9a\\r\\xab\\xe8\\xb7\\xcc\\xb1\\x8e\\xec\\xbfNIX\\xd6l\\xea\\xae\\xbc\\xddq\\xea0\\x05i\\x19\\x80\\x08\\xd5\\xcb:\\xd6! \\x0e\\xea\\xa0\\t\\x1a\\xd1\\x06|\\xce\\xa5+\\xa2\\x9e+\\xe4\\xc7\\x95\\xd5\\xadU\\xf1O$/q5*\\xe2iza\\xad\\x8d\\x944i\\xb9\\xea\\xb3ynu\\x88f%<S\\xc8\\xe7u(\\x9e\\'\\x93\\x10\\xf7}\\xebX\\xce\\xb2!\\xe0k\\xb2\\x9b\\x17+\\x10\\xfa\\x10{+RVfPu\\xa6\\xab8\\xbeLC\\xdb]B\\xb5%l\\xd5\\xcd\\x047\\xda\\xa7\\xd3_l(\\xea\\xedEu\\x9cMU0\\xb9\\x10\\xaa\\r\\xd0\\xbd\\xed\\xf75c\\xa9\\x1d9\\xb5\\x93\\xe4y\\xf7<T)\\'\\xf0\\xb6\\xff\\x00#\\xf2\\t\\x14h $\\xe4\\xbd\\xb0\\x8eF\\xb4\\xd4\\x8dV\\xacbV\\xe0\\xe8\\xde5\\xeb\\xb1X\\xf9\\x8d\\xfc58P\\x91\\xf7-FlV6\\xa3z%\\xa4\\x8c\\xac4\\xa8*j\\xe2\\x07\\xb8\\x8an\\xae&\\xb3\\xe2\\x94P\\xd1M\\x8b\\x95\\xd4\\xdcY\\xf8\\xef\\xa1\\xf5\\xec\\xb9\\xde\\xe6\\xbaN+K\\xcc\\xacw\\xb8\\x1f\\x8a\\xd4\\xca\\xcd\\xd8\\xca\\x12\\xf9\\x1e\\x1a\\x0e\\x87\\xf7)\\xd7\\xc4^~k\\xb6F@\\x18\\x1a\\xd6\\x9b\\xf6\\xb9q\\x96\\xbbY\\x1a\\x83\\x0bjK\\xc5k@\\xb7\\xacx\\xb6=\\xd1\\x96\\x86\\x87P\\x8d\\xcfu&\\xb5q\\xb2\\t\\xa1\\x89\\xb4mK\\x8e\\xe5g\\xaem9\\xeaA\\xb9\\xd6\\xb8\\x96\\xef\\xdf\\xf8+\\xfa\\xcf\\xd8\\xcd\\xde@\\x9a\\x907Rz\\xd6\\xfb\\x1a\\x86n\\x84\\x11\\xbe\\xeb^\\x0c\\xf9\\xb5>aZ\\x8d\\xd6\\xa4g\\xc9\\xb7\\xf3\\xaf\\xb2\\xd1\\xb2\\xc7\\xebo\\xf65?,\\x9e\\x94+S\\x84\\xbe\\xc6M\\x0f T\\x1du\\xd5\\x13\\xe5\\xdf\\x8e\\xc8\\x04~\\xe1W|W.\\xad\\xd7^y\\x98\\xd7\\x94\\xc8\\x88\\x16\\x1dOP\\xaf6\\xa7R5\\xe3\\xe0\\xcb<\\x9cm \\x10*J\\xd7]\\xc8\\xcc\\xe2\\xd6\\xd7\\xe0\\xe4\\xb4\\xda\\xe6\\x9f\\xb3e\\x9f8\\xbe\\x15a\\xc1\\xc85-\\x05\\xa4){\\x8b9t;\\x13*8\\xc3\\x83\\x83\\x9d\\xd7\\xa5\\x16|\\xa3y\\\\s;)\\x82\\xba\\x10:\\x05\\xa9%f\\xda\\xc0\\xe4\\x17P;\\xda\\x16\\xbcS\\xc9\\xf1\\xa1\\xc5{\\x9e6A\\xc87G%\\x06\\x9b\\xac\\xd8\\xd4\\xa1\\x99\\xdd\\xd4\\xf1<\\x93\\x91\\xee\\n\\xe46\\xb1%\\xc3p\\xab%\\xc3\\xa2\\x06\\xa3Zh\\x82\\\\\\xa8UAn\\xd5Q\\xb29\"i\\xab\\x81q\\xe8\\x0e\\xcb\\x16Z\\xd4\\xb1\\xb4\\x03+C\\x9dF\\xb0i\\xea\\xb3\\xb8\\xd6k\\x07\\xb1\\xb7{toJ\\xadN\\x99\\xbc\\xb5\\xbb\\xdaw\\xa8Z\\x95\\x9b\\x192b\\xdd\\x94\\xbc\\xea\\xce\\xb1\\xb0\\xe5\\xbc\\x8a\\x15\\x9f\\x08\\xbf\\xb0fS\\xdaB^\\t\\xecfrj}\\xa2\\x8ax/\\x9bS\\xe7q\\xea\\xb79f\\xf4\\xc86j\\x02:\\xfa\\xa9\\xb0\\xca6\\'\\x12K\\xdd@7\\xea\\x9e_\\xc19\\xfeZ\\xdcm4\\x06\\xabQ\\x8a\\x81\\xe5\\\\\\x14?U1u\\xb3\\x95\\xa0h\\xb3\\x8b\\xact=uZD\\xa1D\\xc2\\x8e\\x06\\x84Q4\\xc5\\xd5\\x06E\\xe2\\xda\\x01\\xbe\\xeacZ\\x16\\x10\\xda\\xd4|\\x13K\\xcb\\rkE\\xa6Y\\xc7\\xa1\\xa9\\xfb\\x14\\xab\\x199\\xe0\\xe8T\\x91m`GeYK\\xa9\\xd1Q\\xb1\\x8fg]{\\x05\\x9b+R\\xc6\\xd10\\x1f\\xc1g\\xc5u\\xad\\xf2T\\xd7\\xaa\\xd4\\x89k\\x10I*\\xa4[I4\\x02\\xa9\\xa6)h\\xb6\\xb5\\xab\\xba\\x855q\\x90\\x92\\x82\\x8ab\\xea\\x87\\xd7s\\xa2\\x98h\\xe2\\x08\\xa5U\\x85J6\\x9e\\xa9\\xa9\\x8b\\x19#S\\xf6%#\\xa6!\\x1b\\x9an\\xd5\\xce\\xdc\\xd7a\\xe8\\xb9\\xf5k\\xaf2:`\\xc6\\xc5\\xb9\\xa6\\xb5\\x1d\\xabU\\xcf\\xae\\xeb\\xa7<F\\xf7\\xc7\\x15]cAm*\\xe3E\\x89kw\\x98\\xc2\\x00\\xc0mk\\x03^\\xfa\\xeb\\xe8\\xb5\\xd5g\\x99\\x18N\\xf9\\x04\\x9f\\xd5\\xa6\\x9dV\\xb9\\xcc\\xf8c\\xad\\xdf\\x94>M\\xcc\\x16\\xb4\\x82?b~\\xad?n9\\xe4\\xca{\\xcf\\xbbZ\\xf4]\\'\\x18\\xe7{\\xd6\\rs\\x81\\xd0\\xd1[\\x12WLSJ\\xf7\\xb5\\x80\\x8b\\x89\\xa0+\\x9d\\xe6GI\\xd5\\xae\\xb9\\xf0\\xa5 \\x08\\x8d\\xce\\xed\\xb5~\\x0b\\x9f=\\xcf\\xcb\\xa7\\\\VL\\xf0\\xb9T\\xbaB)\\xfc\\xa3\\xfd\\xa9}\\xd3\\xf0\\x93\\xd5\\x7f,\\x0f\\x8d\\x96\\xd3e\\xc5\\xfd\\x1b\\xb2\\xbf\\xb0\\xbe\\xb6\\x9f\\xc8f\\x83K5\\xeb\\xa8[\\xfd\\x9c\\xb1\\xfa\\xfal\\x9b\\x0b&\\x06\\x02@pu5\\x1d\\xd6gr\\xad\\xe2\\xc6\\x87\\xc7;kV\\x1d7\\xea\\xb7:\\x8c\\xdekQl\\xba\\x92\\x08\\x03u\\xad\\x8c\\xe5tcaeN\\xd2\\xe6\\x0fh\\xfd\\xbf\\x05\\x8e\\xbb\\x91\\xbex\\xb5\\xbe\\x1f\\x15\\x91%\\xf7\\xb4\\xb2\\xce\\xeb7\\xdb#S\\xd7^\\x9b\\xa0k`c\\x1fW\\x10\\xda\\x12w\\\\7\\xe7]\\xf3\\xe1&\\xf1\\xf0\\x98k\\x15C\\xce\\xd5&\\x89;\\xbb\\xf2\\x97\\x89\\x9f\\r-\\xf1\\x12\\x92\\x0f \\x03\\xadu[\\xfd\\xac~\\xb7\\xab\\x8d\\x8c\\xccpC)S\\xbb\\x97\\x1bu\\xd6LYnq\\xd0\\xed\\xad\\x14\\x8a\\xe5~A\\x87#\\x92\\xd3\\xc6E\\x1czz-I\\xb15\\xb6R\\xe9c\\x16u\\xd5A\\xcc\\xec:4\\xdc*\\xe2\\r\\rt\\xaa\\xd7\\x92c\\x9a\\x1f\\x1ad.l\\x8e5i\\xd8-\\xde\\xff\\x00\\x86g?\\xcb\\xe1\\x02\\xfa\\x0f\\x162\\xd1\\x05\\x0eE[\\xbe\\xf4E\\xb8\\xf7QB\\xee\\xe5\\x04\\x0eA\\xb1\\xf9\\x0f}\\x03\\xb6\\x1d\\x16g2-\\xebS\\x92:|\\xba\\xab\\x94\\xd8\\xc5\\xcfi\\xd8QY\\x19\\xb5\\x8d\\xc1T[\\x9a\\xa2\\xb2\\xe4\\xd2\\x95L5\\x0c\\x89\\x89\\xa9r\\xa1r\\r\\xa0\\xddF0k\\xfbV~\\x9a\\xfb\\xf8tE\\x8c\\xd6\\x96\\xf28T\\xf4\\x1a\\xae}w\\xfc78\\xfe[\\xdb\\xe3\\xc4\\xa5\\xc5\\x80\\x9d6\\x1f\\xc5g\\xf6\\xe3_\\xab\\\\r\\xc4\\xc6:\\x95-p\\xdc9u\\xe7\\xab\\\\\\xfa\\xe6F\\xbeG\\x01K\\xb4\\x0bX\\xce\\xa7!\\xd7]\\xd3\\x13R\\xe5P\\xaa\\x05Pwc\\xb2\\x18\\xd8_%\\x1e\\xe24o@\\xb8\\xf5\\xd5\\xb7#\\xb7\\x1c\\xc96\\xb4\\xc8\\xf8MKE\\x0fN\\xcbrV.3\\x86f\\xc6\\t:\\x93\\xa0S\\xa9\\xadsda<\\xcd\\x90\\xd4iM\\x02\\xbc\\xf3\\x8c\\xf5ej\\xb9m\\x82\\xa8\\x15@\\'T\\x0b\\xbdP[\\x90B\\xf3\\xd5\\\\B\\xa8(pPew\\xaa+(\\x9a\\x1e\\xf0\\xd2\\xebGR\\xa5\\xb8\\xbc\\xcdwb\\xe3\\xb4\\x11|\\xad\\x00\\xd6\\xe1\\xa5h\\xb8w\\xdf\\xf8w\\xe3\\x8f\\xf2\\xc5\\xf8\\xf0^\\xef\\xea\\xda\\rHVw\\x7f\\x84\\xbcO\\xe5\\xc8\\xea4\\xe8k^\\xab\\xacr\\xacn%VV\\xe2\\x81yW\\r/S\\rP\\xf4\\xc5\\xd6BM(\\x98j\\x89\\x08\\xd8\\xd3\\xe0\\xa6\\x1eN\\xb8\\xbc\\x93\\x98\\xc0\\xdal\\xb9_V\\xbbOn:\\xe3\\xce{\\x9bqi\\xdbq\\xa9\\\\\\xef\\x0e\\xb3\\xb6\\xac\\x9c\\xe7>3\\x13\\x99\\xab\\xba\\xecV\\xb8\\xf5\\xe5\\xd6;\\xeff8\\x8cr\\xd2\\xa5\\x84\\r\\xb6+\\xb7\\x94p\\xf1\\xae\\xcco\\x11\\x97/\\xb9\\xd4\\x8d\\xbd\\xdd\\xbf\\xdc\\xb9\\xf5\\xee\\xe6:s\\xe9\\xb5\\xd6<d\\r\\x8e\\xd2\\xe7>B~q\\xb0\\xfb\\x17/\\xdbu\\xd7\\xf5Lv\\xf8\\xef\\x1b\\x0b\\x0b\\x9cAq\\x1b8\\xef\\xf6\\x05\\xcf\\xd9\\xec\\xb5\\xbe=r;\\xa4ca\\rq\\x15%s\\x9f.\\x8c\\xa3yx\\x063\\xa1\\xee\\xa5\\x18Jd\\x8ep+\\xf3\\rJ\\xb3\\xe9\\x1a\\xdd\\x1f\\xf5\\x1d#\\x9d\\xef\"\\x8d\\x03\\xf8\\xab\\xa66M\\x85\\x91\\x91\\x1b\\x01xm5u\\x05Ru\"Y\\xa9>\\x1c10\\xd6\\xe2\\xf2)\\xa7\\x7f\\x82N\\x97\\x1c\\xf1b\\x12I{\\x08a\\xd9\\xbbV\\x8bW\\xa4\\x91\\xe8c\\xb45\\xadk\\xd9k\\x06\\x8c\\xa6\\x83\\xedX\\xaa\\xb5\\xa4\\x86\\xddG`\\xa2\\xb9\\xe6}\\\\A\\xe8\\xb5\\x11\\x9e8q\\xa8*Q\\xd4\\x03i@TV\\xca\\x12\\xd4\\x1a$pf\\x83~\\xe89\\'!\\xc3]\\xa9\\xaf\\xaa\\xd4F\\x18\\x0f\\x900\\xc7!\\xd8\\x9b>\\x1d\\x95\\xec\\x8e\\x87\\xbc\\x91gU\\x95i\\x91\\xa7\\x1d\\xbc\\xd5\\xa3\\xf6\\xaa\\xb3\\xe7\\xe1\\x1f\\x9f\\x1cy\\x1a\\xcb\\xdc-\\x1d\\x01\\xdd}\\x1f)\\xaf\\x1f\\x8d\\xc6\\xbdV\\x99Z\\xa2*\\x05PBPK\\x90*\\x80\\x81B\\x88\\xb4(`X\\xe1\\xb8!4\\xc6\\xc6\\xe3\\xe49\\xb7679\\xbf\\xcc\\x01\\xa2\\x97\\xa8\\xb3\\x9b]\\x11\\xf8\\x9c\\xd9!\\xe6\\x0c\\xa3\\x0f\\xcb]\\t\\xa7\\xa2\\xc5\\xf7s.7=V\\xcdk\\xc7\\xc1\\x9ei\\xf8\\xa9a\\xdc\\x97h\\x00\\n\\xf5\\xec\\x92js\\xeb\\xb6\\xe3\\xb6_\\x06\"\\x8c\\xb8\\xce\\x1c\\xff\\x00\\xc2\\xd07\\\\\\xa7\\xf66\\xfd:_F~\\\\O\\x82Xd\\xb1\\xc4\\x07\\x01]\\xfb\\xae\\xb3\\xa9c\\x95\\xe6\\xca\\xe8\\xc2d\\x82P\\xf7\\xb8\\x06\\ru\\xea\\xb9\\xfb,\\xc7O\\\\\\xba\\xf4\\xe3\\xf2Q1\\xa4T\\n|\\xcb\\x85\\xf5\\xda\\xef;\\x8f;;!\\xb36\\xe2Ez\\r6]\\xfd|\\xe3\\x8f\\xb2\\xca\\xf3\\xc9\\x15\\xd3e\\xe8y\\xe8\\x88 \\xa8\\x15QY\\\\iJ\\xa6\\x1a\\x95\\x1d\\xd0\\xd2\\xe1\\xddT\\xd2\\xe0\\x86\\xb6B\\xd8\\xdc\\xef{\\xeco\\xde\\xb3\\xd5\\xb1\\xaed\\xbfl\\xa7lMw\\xf4\\x9dV\\xf4\\xaa\\x9c\\xdb\\xf9^\\xa4\\xfc:1#\\xc5\\x03\\x92G\\\\i\\xf2\\x1d\\xaa\\xb1\\xdf]}F\\xf8\\xe6}\\xd6\\xe8\\xce\\x06\\xa5\\xed\\x15\\xe8\\x16/\\x93rr\\x8f8\\x91\\xb4\\x88\\x80\\xadk]\\xd5\\x9eW\\xec\\xbe3\\xe9\\xa9\\xed\\x82W4\\xd6\\x87\\xf1\\xadKc\\x16J\\xc2h\\xa1\\xbe\\x8c6\\x0f]U\\xe7\\xaa\\x9ds\\x1a\\x9f\\x11h\\xadA\\x1e\\x8bs\\xa6/,x\\xcd\\x97\\xf4\\xee\\xae\\xa7\\x8aU\\x94\\xa55\\xee\\xaa(-\\xae\\xf4\\n*\\xd4\\r\\x06\\xa8\\x15@\\xaa\\x02\\x0b\\xa7\\xaa\\x05\\x10Z  \\xba |\\x10d\\xd6\\xba\\x97SE-Y\\x1dX\\xf9\\xf2F\\x00\\xdd\\xa3`\\xb9u\\xeb\\xd7^}\\xb8\\xda3\\xee5\\xb5\\xb5\\xae\\x86\\x9a\\xac\\xfe\\xb6\\xbfch\\xcf\\x91\\xce\\x00\\x91\\xf0Y\\xfdq\\xaf\\xd8\\xf50\\x06L\\x91\\x97>\\xad\\x03_U\\xc3\\xbc\\x95\\xd7\\x8d\\xae\\x96\\xc9\\x1dlh\\x05\\xc7\\xaa\\xce4\\xe8\\x8c\\x88E\\xcf:\\x9dh\\xb3\\xf6\\xa9\\x93\\xc7#G\\xbf\\xd6\\x8a\\xcf\\x82\\xb4Dd\\x04\\xb6=\\x1awV\\xa3\\xa5\\x98\\xee{\\x85\\xce\\xad\\xbb\\x15\\x9d\\\\o\\xb2*R\\x9a\\xf4>\\xaah\\xde\\xdd\\x07\\xb7U\\x06\\x99\\xa4\\x04\\x10E\\x1e\\x15\\x82\\xc6\\xda3z\\x91\\xb5Pm\\x00\\x98\\xe8\\xef\\xb5\\x06\\x87\\xc0\\x01\\xb9\\xa3Et\\x19\\x8d\\x1b\\x01\\x91\\xc6\\xa4j=\\x13F\\x99\\xf2ZK\\x83]G\\x01P\\x7f\\x82\\xb2\\r\\x90d5\\xc4\\x03\\xf3~\\xc5,\\x1d7\\x91U\\x91\\xc14\\xa0\\xbc\\x90\\xb7\"9\\xe4\\x98\\xd3E\\xa9\\x0b\\\\\\xe7!\\xe1\\xdah{\\xad\\xf8\\xb3\\xae\\xa8\\xa6\\xba\\x8e?j\\xc5\\x8dJ\\xe7\\xf2S\\xc8\\xf6\\xda\\xc0KkWQk\\x88\\xcfU\\xe3g\\xe2\\xe2\\xcad\\xff\\x00\\x96\\xd6\\x8b\\x9a\\xe1\\xd8w[\\xf5\\xf5c=\\xf3+\\xe7\\x0b\\x85H\\x06\\xa3\\xa1^\\xd8\\xf2Z\\\\\\x82\\xd4\\xa0\\xa0\\xa0h\\x80\\x80O\\xa2\\x14\\x05\\x06\\xe81\\xe6\\x99\\xd4\\x8d\\xb5\\xee{,\\xf5\\xd4\\x9fmNm{0x\\xff\\x00\\x19\\x8eO\\xe6\\t\\x99\\xfa\\x7ft\\x1e\\xbb//^\\xde\\xaf\\xd3\\xd1\\xcf\\xaf\\x99\\xf6\\xd9\\x97\\x9b\\x8c\\x0b[\\x1cc\\x8c\\x005\\x03U\\x9ey\\xbf\\x96\\xba\\xea:!\\xf2p\\xb7\\x145\\xd6\\xe9P\\x184\\xd1b\\xfa\\xee\\xb5;\\x98\\xf3r<\\xcb\\xc4\\xb6\\x01\\xed\\xee\\x17~}?\\x0e]{~\\\\\\xdf\\xea\\x05\\xaf\\x06\\x85\\xcd\\xa9.\\x1f\\x15\\xbf\\xd7\\xac~\\xc5o\\x91\\x8d\\xf2\\x17HM\\xbd\\x07u/\\xaa\\xcf\\xa5\\x9e\\xc9Y\\xc7\\x97\\x80C\\xaf\\x15.:\\x02\\xa5\\xe3\\xa2u\\xcb^|\\xcc\\x906\\xd7\\n\\r\\x9a:-\\xfa\\xe63\\xec\\xba\\xe0\\x04\\\\+\\xa8\\xec\\xbb8\\xac\\xafk\\xddP\\x03G`\\xa4\\x85\\xba\\xc2\\xa1i\\x96U\\x08%OJ\\xaa\\x8c\\x9aMu\\xdb\\xaa\\x8a\\xcbU\\x15\\x9b\\xa2\\x91\\xad\\x0esHk\\xb6$n\\xa4\\xb1l\\xc6\\x1d+M;\\xaa\\x85:\\xd3uLV\\xb1\\xce\\xf9[_\\x82\\x9ac&\\x1b\\x1e.\\x1a\\r\\xc2_\\x98\\xb3\\xe1\\xb9\\xcf\\xc4p\\xa0a\\x1e\\xa0\\xacI\\xd3v\\xf2\\xe7;\\x9bv\\xe8\\xb6\\xe6\\x86\\xaa\\xa5\\x01(($\"\\xeb+\\x9cw*a\\xa9R\\xa8\\xda\\xdcy\\xdd\\x13\\xa5k\\t\\x8d\\xbb\\xbb\\xa2\\xcd\\xean59\\xb6k^\\xaa\\xb0\\x00\\xe3\\xb0\\xaf\\xc1P\\xaa\\n\\xd2+\\xae\\xcaU\\x8a\\x0b5\\xd7^\\x882\\xab\\x06\\xc4\\x92\\xa2\\xfc2w\\x18h\\xa1%\\xc5I\\xabqa\\x0c{\\xbd\\xee\\xb4uN\\xae\\x1c\\xc9]3E\\x88\\x188\\xden\\xf5 \\xea\\xb9\\xf3\\xd7_\\x97N\\xb9\\xe7\\xf0\\xe7\\x8d\\x81\\xce\\x00\\xb8\\x05\\xd2\\xdcbGtx\\x8f\\x91\\xb4\\x91\\xed\\r\\x1a3Mh\\xb8\\xde\\xe4\\xfau\\x9co\\xdbc\\xfcM\\xad\\xab\\x9e6\\xd0\\x0e\\xff\\x00\\x15\\'\\xb9o\\xa5\\xe7=\\x8fa\\xa3\\x81\\x0b\\xbc\\xb2\\xbc\\xf6b\\x00U\\x145\\xc7`J\\x9a\\xb8\\xdb\\x1b\\xdd\\x1b\\xabJ\\x1fU\\x9b5\\xa9q\\xeb`fe\\xcc\\xfe\\x16\\x10j5\\xf4\\x0b\\xcd\\xdf\\x12|\\xbd\\x1cwk\\xd4\\x8b\\x1d\\xf0\\xc6^H.\\x1a\\xed\\xd1q\\xb7]da4\\xce{\\xf4\\xd2\\x83T\\x90\\xac\\x03\\x9d\\xa0+H\\xe9\\x8d\\xce`\\xf6\\xea;\\x05\\x8a\\xd3|y\\x12=\\xe1\\x8c\\x14\\x00{\\x9cT\\xc3]\\x0c\\x16\\x02N\\xf5\\xea\\xa2\\xb6^(\\x08\\x1a\\x9d\\x94\\x18I\\x1b\\t\\xad5\\xee\\x15\\xd4i\\x1c\\xcd\\x93CP55Tu6\\xb4\\xaf\\xde\\xb2)\\x0e\\xb7N\\xbd\\x15\\x1a\\x0e<\\xc4P\\xb8\\x00{+\\xa3\\x82\\\\Y\\xd9%O\\xf5\\x1b]@4?\\xb5nu\\x13\\x1bq\\x9a\\x0b\\x83\\xc7\\xcakJ\\xfa,\\xd27\\xbaY\\rCh+\\xa0\\'\\xaa\\x8a\\xe7t2\\xfaT\\xadj\\x0e\\xc3\\x94\\xd2\\x94\\xd7s\\xd9\\'F5\\xbb\\xc5\\xcc\\xea\\xfb\\x85:\\x1d\\xd5\\xf3\\x89\\xe2\\xc2<iaq\\xbfV\\x8d*\\x15\\xbdi&6L\\x0b`q\\x84\\\\\\xed\\xed\\nO\\xbf\\x95\\xaf\\x99\\x99\\xce\\xcb\\x9cD\\xd1\\xa3\\x8d\\t\\x1d\\xbdWn\\x7f\\xe35\\xce\\xfc\\xbb]\\xe1|S\\x1bR\\xc1V\\xb6\\x84\\xf7\\xf5\\xf8\\xae\\x7f\\xbb\\xa6\\xbfW/\\x97\\xccl\\r\\xc9{!\\xa8\\x8d\\xa6\\x82\\xbb\\xaf\\x7f\\x16\\xe7\\xcb\\xc9\\xdc\\x9b\\xf0\\xd4+\\xddi\\x9ctA\\x8fp\\x0fy\\xf6\\xf4oR\\xb1\\xd7ms\\xcb\\xb6<\\x0cw3Wjz\\xf6\\\\o\\xb6\\xba\\xcf\\\\a&$\\r}#7Sz\\x9a-N\\xef\\xe5<#D\\xf3\\xb9\\xce\\xb0\\n\\x80iM\\xd6\\xb9\\xe5\\x9e\\xabY\\x8a@\\x0b\\x8b\\x08ou\\xaf(\\xceV\\xd8\\xb2\\x9c\\xc6\\xda\\t\\x03\\xd1g\\xaeu\\xa9\\xd0\\xfc\\xa7\\x1d\\xdcT\\x9c-\\xe9\\xa2L\\x99\\x08\\xa5t[\\x9c\\xc6/M\\\\\\xcf\\xe8uZ\\xf1gA+\\xfa\\x94\\xc3[\\x06L\\x9d\\xc1\\xf8\\x85<\"\\xf9\\xb5\\x97\\x12I=U\\xc6m\\x10.\\n\\xe1\\xaa\\x08@\\xaa\"\\xd4\\xa0\\xc9\\xa4TWn\\xa1C\\x1bN<\\xee\\x1767\\x06\\x9d\\xb7S\\xca\\x7f-xV\\x0ek\\xd8h\\xe0Z{\\x1d\\x15\\xddLe\\x13\\x80{]\\xd8\\xd5)\\x1e\\xb3\\xf2\\xe1\\x9d\\x82\\xefq\\xa5-\\xa2\\xf2\\xcelzoR\\xb4M<B.:\\x00\\xd1\\xf8{\\xae\\x9c\\xf3wX\\xea\\xcc\\xc6\\xa8[\\x88\\xf7\\xb48\\x10:\\xd4\\xaduz\\x8c\\xc9\\xcdu\\xc6\\xec\\x18\\xde\\xe75\\xb4p\\xd8\\x83\\xd9r\\xbeU\\xd2x\\xc7>Ca\\x9eWH\\xd7\\x86\\x8am\\xea\\xbasl\\x98\\xc7RZ\\xe2s^\\xdd\\xf6]eq\\xb2\\xb1\\xb9\\xca\\xa1ra\\xa0r\\x0c\\xaa\\xa2\\x80\\xaa\\x8d\\xb09\\xe1\\xf5n\\xfe\\xab=7\\xce\\xbd\\xacL\\xb8\\xa2\\x84Bht\\xeb\\xddy;\\xe6\\xdb\\xafW=I1\\xca\\xf1\\x1e[\\x8b\\x00k^6v\\xdaUt\\x96\\xf2\\xe7d\\xe8\\x18\\xd2\\xc5\\x1b\\xac{n\\xeai\\xbay\\xcbI\\xc5\\x91\\xc53\\x1d\\xc9\\xeep\\xad\\x17no\\xc3\\x8fS\\xe5\\xd3\\x81\\x80\\xd9e\\x1c\\xa7\\xfam\\xd4\\x8e\\xeb\\x1e\\xcffO\\x86\\xfd~\\xbd\\xbf/Z_\\x1d\\x83#@lA\\xa1\\xa7\\xf0\\xe9_\\xb5y\\xa7\\xb7\\xa9\\xf9z/\\xaf\\x9a\\xe6\\xcc\\xf0\\x16Fe\\x89\\xc4\\x9d\\xec\\xa6\\x83\\xd0.\\x9c\\x7fc\\xf1\\\\\\xfa\\xf4\\x7f\\x0f\\x1d\\xcc-%\\xae\\x048hA\\xdc/L\\xaf>\\x00 \\xcc\\xb4t5SW\\x00(~\\x08c\\xa1\\xb9\\x0f\\x04\\n\\xe9\\xdds\\xbc\\xbaN\\x9d\\x8e\\xc9c\\xa1\\xb5\\xa7\\xdd\\xd4\\x95\\xcas\\xf2\\xebz\\xf8p=\\xceq\\xd4\\xd5w\\x91\\xc2\\xd7V\\x0b\\x0b\\x9fQ\\x19\\x91\\xd4\\xd0\\x01Z.~\\xca\\xdf\\xae;\\x1b\\x92\\xd1k,\\rs\\x1d]\\xa9\\xa8\\\\\\xbc]|\\x99d\\xcd\\x8b;@\\x91\\x82\\xf1\\xf8\\x86\\xe9\\xcc\\xb3\\xe9z\\xca\\xb8.\\x82\\x02\\xe70\\xd0\\xf7\\xeaBw\\xb4\\xe2H\\xed\\x93\\xc90\\xb7J\\xd7\\xa2\\xe58o\\xc9\\xad\\xd2rA#\\xc8\\xb9\\xdd\\x15\\xcf\\x911r8\\xda] \\xa7ez\\x89+\\xaa<\\xc6\\x17\\x93m\\x1a\\xe1@\\x16/-k\\xa2,\\x88\\x86\\xad:\\x8e\\x85f\\xc5\\xd6\\xb9\\xbc\\x81\\xa5:\\xab9KY\\xc1\\x99#\\xc5KKi\\xd7\\xa2^VWX\\x9c\\x01Z\\x179g\\x15\\xb0\\x1a\\xef\\xb9Q\\x19\\xb0n\\x83;\\xc0\\xd1\\xdfz\\x0eYe\\x95\\xb2\\x96\\xb0\\xfbN\\xdd\\x95\\x1c\\xf9\\x0f\\x91\\xdaR\\x8e\\xeb\\xd9j\\r1\\xe1\\xb1\\xcf\\x89\\xe6\\xa1\\xd1\\xf5\\x04\\x8a\\xab\\xe4\\x98\\xcf)\\xcdf\\xddz\\xa9\\n\\xd1\\x06D\\x8e\\x91\\xdb\\xda\\x0e\\xebV$\\xad\\xe3!\\x8e\\xfcf\\xab8\\xd6\\x81\\xf2SGT\\x13\\xa5\\x11\\x1d0B\\\\\\xdb_\\xab{)j\\xba8\\x9a\\xc6\\x11J\\n(?5\\xc1\\xf3\\x8c\\x85\\xce\\xbbB\\xee\\xbd\\x97\\xbf\\xbfM\\xaf7>\\xd9\\x1a\\xb3<\\xfc\\xf30\\xc6\\xc3F\\xbb\\xafU\\xae?\\xaf\\'\\xcb=\\xfb\\xadp\\x07\\x13\\xa95\\xf5]\\xdc\\x99\\x87(6\\xb7 \\x81N\\x8b7\\x95\\xf2mnk\\x80\\xa1\\xd9f\\xfa\\xda\\x9d\\xb5\\xc9\\x93v\\xdb+9K\\xd3\\xa3\\xc7c\\xbb*j7\\xda\\x1a*\\xe7\\x9d\\x96=\\x9dx\\xc6\\xf8\\x9a\\xf7\\x99\\x0e.4A\\xb34=\\xf4\\xadN\\xba\\xaf%\\xea\\xdb\\xf0\\xf4d\\x91\\xe2eF&\\x99\\xc6\\x16\\x12\\xe3\\xa9kF\\x9a/W\\x17\\'\\xcb\\xcf\\xd4\\xdb\\xf0\\xe3{^\\xc7Z\\xe6\\x96\\xb8n\\x0e\\xeb\\xac\\xba\\xe7c[\\x95F5\\xe8\\xaa\\x08\\x08.\\xa8\\x15A\\x15EAn\\na\\xa0pD\\xd7\\xd0xL\\x08\\xce#\\xa7\\x9a0\\xe7<\\xff\\x00N\\xbf\\xca\\xbc\\x9e\\xefg\\xceG\\xab\\xd3\\xc7\\xc6\\xd7l\\xc6V\\x16\\xb2\\x16\\xde\\xeam\\xd0.S?.\\xb6\\xdf\\xc3\\xe7\\xf3];\\xa5.\\x99\\xae\\x0e\\xecB\\xf6q\\x92|<\\xbd\\xee\\xfc\\xb5\\xb5\\x92\\x86^6\\xed\\xd5k~q\\x9c\\xb8\\x95\\x9a\\xdb\\xe8CGU~\\x13\\xe5\\x8d\\xefv\\xf54LM\\xafC\\x03\\xc2\\xe7\\xe65\\x92F\\xcbbq\\xa7!=:\\x9a.]\\xfb\\xb9\\xe7\\xe1\\xd7\\x8fU\\xe9\\xf58\\x1e\\x1e\\x1cLGB)$\\xef>\\xe9H\\xdc\\x1e\\x9f\\x05\\xe2\\xef\\xdbz\\xba\\xf5\\xf1\\xeb\\xf1\\x8c2\\xfc>\\x03`.tM\\x92oAMH\\xa7Ey\\xf6\\xf5\\xbfi}q\\xf3G\\x1e<rfq$4\\xd00\\xeb\\xfbW\\xaf\\xca\\xdf\\x87\\x9f\\xc6O\\x95|\\xb8sP\\xbb\\xda\\xd1\\xd3b\\xa4\\x9dB\\xdekD\\x87\\x02\\xf7Z\\x08m(\\x16\\xe7\\x936r\\xe5p\\x04\\xfbN\\x9e\\xab\\xacr\\xb1\\x9cla\\xad\\xd2[\\xdb\\xaa\\x96\\xac\\x8c\\x00\\xd6\\x83Uu\\x9c{\\xfe\\x1f\\x11\\x8d\\x81\\xc6f4\\xb9\\xc6\\xa3\\xa9!y=\\xdd\\xfc\\xfc=~\\x9e>>]\\xb2acH\\xf0d\\r`\\xa5\\x00n\\x9b\\xaeS\\xbb>\\x9do\\x12\\xb9s\\xfc\\\\\\x1cC\\xf2\\x8d\\xa4\\xad=\\t5\\x0b~\\xbfm\\xdf\\x9f\\xa7>\\xfds>\\x1cc\\xc6d\\x98\\x8d\\xf3[!\\x15\\r5\\xa7\\xdaW_\\xdb7\\xe9\\x8f\\xd7s\\xed\\xe79\\xae\\x0e-:\\x90i\\xddv\\x95\\xc2\\xc6Lt\\x8c:\\x12\\x08R\\xe5Y\\xb1\\xe8by)9Z%\\xf7\\x01\\xb54\\x1fj\\xe3\\xdf\\xab\\xe3\\xe1\\xdb\\x8fo\\xcf\\xcb\\xdd\\xc7\\x96i\"\\'\\xe5\\x8c\\x9a4\\x9f\\xe0\\xbc\\xb7\\x99+\\xd3.\\xbe\\x7f>7:w\\x16\\xd0\\xfc7^\\xcf]\\xc8\\xf2\\xfb\\'\\xcb\\x9a&\\xb7\\x90\\t4\\x1dV\\xfa\\xbf\\x1f\\x0e|\\xcf\\x9f\\x97\\xb6\\xdc\\xacF\\xc2\\x03\\x03[AJP/\\'\\x8fZ\\xf5o8\\x98\\xc7\\x05\\xed\\xbd\\xecm\\xc2\\xb5\\'\\xd5^\\xbc\\xa1\\xcf\\x8dpf\\xc6\\xce`\\xd8h\\xea\\xf4h]\\xbdw\\xe3\\xe5\\xc7\\xd9>~\\x1b\\xfcO\\x89\\x933&\\xc9\\x03\\x99\\x0b?\\xccv\\xc7\\xe0+\\xd5Og\\xb7\\xc6\\x1cz\\xf6\\xbd\\x99~\\x98\\xc4\\xa0\\xb1\\xcfgz\\x90t\\\\\\'\\xf6+\\xb5\\xf4\\xc7\\xa1\\xe3\\xbct8X\\xee\\x8e3R\\xe2Iu=\\xc7\\xb0+\\x97}\\xde\\xab\\xa7\\x1cc\\x833\\xc4\\x99g\\xe4k\\x83.>\\xe7\\x1f\\xf6-\\xf3\\xec\\xc8\\xcd\\xe5\\xc1\\x95\\xe2\\xb2\\x18\\x1c\\xe6\\x96\\xba\\xde\\x9d\\xd7N}\\x91\\x9e\\xb8\\xaf9\\xa5\\xf7\\x11Z8\\x1d\\x97W(\\xd8\\xf7\\xb9\\x82\\xb5\\xa7\\xa2\\xcc\\x8dZ\\xb1\\xe6\\xc8=\\xa0\\x9dz%\\xe0\\x9d\\xba^r\\x1b\\x1b\\x1f -k\\xfeZ\\xacLo\\xe5\\xacH\\xea\\x8a\\x9d:\\x1a\\xec\\xae&\\xba\"\\x01\\xf2\\x0f\\xeah7+5\\xa8\\xf4\\xe0f07\\xbe\\xae h\\x0e\\xab\\x95\\xb5\\xb7k%\\x85\\xce\\x00m\\xd4|\\x16\\x15\\xae\\\\\\xf8\\x9a\\xfaT\\x02\\x0e\\x8a\\xceMf3\\x1a\\xf2\\x08\\x1e\\xd1\\xb9S\\rl3\\x90*\\xd2=S\\x15\\xab\\xf32R\\x8e\\xd4wW\\x13V<\\x96j\\x1cHS\\rh\\xc8\\xc9\\x16\\xed\\xa1Z\\x90\\xb5\"\\xcbm\\x94i\\xd6\\xbb\\x94\\xb0\\x95g\\r\\x91\\x97\\x1d\\\\6IJ\\xe4\\x96r\\xcfa\\x14\\xea\\xb7#:\\xcf\\x15\\xacy\\xb9\\xdf\\x00\\x02\\x9dU\\x8fR(\\xba\\x91\\xa7@\\xb9\\xea\\xba\\x98\\x1bJ\\xf6Pdu!\\x07\\xe2qc\\xcb#\\xc3\\x19\\xab\\x9d\\xa0\\x0b\\xed^\\xa4|\\xe9\\xcd\\xad\\xb2cK\\x0b\\xed}*;j\\x14\\x9d\\xca\\xb7\\x9b\\x12\\xb4U\\x95\\x0f)\\x83 \\xe2\\x82\\xd5JE\\xd1Ew\\xe2\\xf9\\x1e&\\xb5\\x83\\xda\\x06\\xe4u+\\x8f~\\xbdv\\xe7\\xd9\\x8d\\x92gJ\\xf3R\\xea\\xac\\xce$[\\xdd1<\\x8b\\xe0y\\rmo\\xd0\\x8e\\xe1^\\xfd{\\x0e{\\xc7\\xa61\\x0f\\x90\\x8b\\xfc\\xa1\\x1b\\xa9\\xab\\x88\\xd5p\\xf3\\xf0\\xbfn\\xb7\\x9f(\\xe2?Ne\\x97\\x90\\x1c\\xdb\\x7f\\x99u\\xff\\x00\\xb1\\x1c\\xff\\x00Erf\\xf8\\xb7\\xe3\\x83G\\t\\x1c\\xdf\\x9c7\\xa7\\xc1o\\x8fn\\xb1\\xd7\\xaf\\x1ap\\xa2\\x86IA\\x99\\xd4`\\xdcwZ\\xef\\xab\\'\\xc3<s-\\xf9zSc\\xe0L\\xc1h\\r#An\\x9a.\\x13\\xbe\\xa3\\xb5\\xe7\\x9a\\xe5\\x97\\x0b\\x1c:\\x8d\\x90\\x807\\xaa\\xe9=\\x95\\x8b\\xc4r\\x18tq\\x0e\\x1a\\x1d\\x01\\xea\\xba\\xf99\\xf8\\x8c\\x921\\x19k\\xa3\\x0eq\\xfcIg\\xcaK\\x06\\xe2e>3 \\x89\\xc5\\x83\\xf1Q_9\\xf4\\x9e\\x14\\xc7\\x8f\\x96A\\x1d)S\\xa9\\xea\\x02us\\xe4\\xe6o\\xc3\\xd3\\x8b\\xc4\\xc2eak\\xcb\\xa3\\x04^\\x08\\xddp\\xbe\\xeb\\x8e\\xd3\\xd35\\xf4\\x8dt\\x02\\x12\\xd6\\x00\\xda\\r\\x1b\\xe8\\xbcwu\\xeay\\xd2\\xe5\\xba7ThkE\\xd6s\\xac^\\xb1\\xbc\\xe2C\\x9c\\x0f;\\x0b@\\x1a\\x1d\\xb5Rwy\\xfa/3\\xaf\\xb7\\x937\\x8b\\x86\\xd7\\x98\\xa65f\\x96;\\xa9\\xf8\\xae\\xf3\\xdd\\x7f1\\xc6\\xfa\\xa7\\xe1\\xc9\\x93\\x89<-$\\x90YMhv]9\\xeeV:\\xe2\\xc3\\x170F\\xe0\\xd2\\xd1\\xc6H\\x0f\\xd3\\xa2\\xbd\\xf1\\xa9\\xc7x\\xfa\\x8c_0\\xc7D\\xd6\\xc0\\xd1h\\x14h\\x1a\\n/\\x0f^\\xbb/\\xcb\\xd7\\xcfr\\xfd:O\\x91--p4\\xee\\x16<\\x1a\\xd7\\x16g\\x92\\x06\\xe7\\rN\\xd4\\xe8\\xbas\\xc3=t\\xf9\\xdc\\xec\\xa9%u\\xae:\\r\\x9b\\xd1{=|\\xc8\\xf2\\xf7\\xd6\\xb9j{\\xae\\x8eh\\xaa*\\x81\\xaa\\xa3\\xbb\\x0b\\x06Y$\\x0cs\\x0bK\\x85jE4\\x1f\\x15\\xc7\\xbff:\\xf1\\xebz\\x1f\\x9c\\x82\\x06\\x88\\xa3\\xa8\\r\\xfd\\xeb\\x87\\x8d\\xbf.\\xfeR|\\'\\xe6y\\x9c\\x18\\xcdz\\xd5_\\x1cO-zQI\\x0b1\\xad\\x1f?W\\x0e\\xab\\x95\\x9f.\\x92\\xb5\\xe4\\xc9\\x1b\\xf1\\xc8.7\\x11@\\xd1\\xdf\\xa2\\xbc\\xfd\\xa7_L<f\\x1c8\\xf1\\x97\\xca\\xd1$\\x87]\\xabO\\x82\\xd7\\xb3\\xbb~\\x99\\xe3\\x8ch\\xf3M\\x89\\xeck\\x98\\x00\\x90\\x1d@\\x1d\\xd6\\xbd6\\xca\\xcf\\xb6|\\'\\x8b\\xf0\\xc5\\xef\\xe4\\xca64j\\xc6n\\\\}V\\xbd\\xbe\\xef\\xc4O_\\xab\\xf9zYy\\x0e\\x8a;\\x1cAf\\xd5\\x1a\\x00\\xbc\\xfc\\xf3\\xae\\xf6\\xe3\\xc4\\x99\\xf0r\\x82\\rEu#\\xaa\\xf4\\xf3\\xb8\\xe1s\\\\\\xd9N\\x8e\\xf0X(:\\xae\\x9ck\\x9fx\\xdd\\x06#\\xe5`q!\\xa0\\xec\\x0e\\xeb\\x1dw%k\\x9e-\\x8c\\x86-\\xae-\\x15q\\xd8\\x16\\xa7\\x9a\\xf8c\\xd6\\xf1\\x18\\xa7\\x14\\x19\\xa4\\x02\\xe7w\\xdc\\x05\\xc3\\xdb\\xde\\xfc:\\xfa\\xf9\\xc7\\xba$\\x89\\x8di\\x8c\\x80]\\xa9r\\xf3\\xba\\xb2\\x8f%\\x85\\xda\\x90}{\\xa6.\\xa8\\xc8`\\xd8\\xa9\\x83\\x9al\\x96\\x8a\\xb4\\x90\\xe6\\x1e\\xabR%y\\xa7<\\xb3\\xda\\xedI\\xa8\\x1a\\xf4]|X\\xf2yRW\\x91\\xf2\\x06\\x92\\xd3\\xf8\\x82\\xed>\\xb1\\xca\\xff\\x00,\\\\\\xd7L\\xc0\\x18\\x0e\\x83\\xafUe\\xc4\\xb3]\\x18\\x10\\xf1>\\xe7\\xc7W\\xfe\\x13Z\\xd0\\xacw\\xd6\\xfd7\\xc79\\xf6\\xea\\xcb\\xc8\\xfe\\x90\\x0f\\xf7\\x03\\xb0=\\x169\\x8d\\xf5^D\\xd3\\xbb\\x90\\x86\\x8a\\x0e\\x81z9\\xe5\\xc3\\xae\\xbeY\\xc3\\x97$u \\x81\\xd0\\x85:\\xe3I\\xd5\\x8d\\xa3\\xc8\\xbclH\\xf8,\\xfe\\xb6\\xbfcd^_!\\xb5\\xa1\\x02\\xbb\\x95/\\xaa,\\xf6#r\\x81q|\\x8e\\xbd\\xc7j\\xec\\x13\\xc4\\xf2ng\\x92\\r\\xa5\\r@\\xe8\\xb3}my\\xbd\\x1c\\x7f1\\x8eZo\\x14#n\\xa0\\xae]z\\xebs\\xb8\\xdc|\\x9c\\x0f\\x1e\\xcfu7S\\xc2\\xaf\\x94q\\xcd\\xe4\\x19w\\xb2\\xbe\\x85np\\xcd\\xe9\\xe7O\\x9c\\xf78\\x86\\x92@\\xdc\\x05\\xd2p\\xc5\\xe9 \\xf2%\\x84\\x8bI\\xa6\\xfe\\x8a\\xde\\x12v\\xef\\xc7\\xcc\\xc9\\x95\\xbe\\xd0\\x1a\\xcf]\\xff\\x00j\\xe5y\\x91\\xd2u\\xads\\x07=\\xd4{\\xa9\\xea;+\\x12\\xbb\\xb0ck\\r\\xedv\\xfb\\xdc{,uZ\\x91\\xebG\\x98\\xda\\xdaG\\xc0\\xf4\\\\\\xf1\\xa6\\xd6\\xba\\xe3\\xb8QQ\\xd2Y\\xf8\\x90~g\\x89\\x83\\x1c\\x11\\xb6i_\\xfdC\\xb3{/\\xa1\\xdf\\xb3~#\\xcb\\xcf\\x19\\xf2\\xd9\\x06$&C$\\xcf\\xb8T\\xd1\\x83j){\\xb9\\x90\\x9c\\xff\\x00,\\xe6\\x87\\xc7\\x00\\x1a\\xc8\\xc3G\\xf3nJN\\xba[\\xcf/?:(\\x1a\\xe6\\x98\\x05\\x1at\"\\xb5\\xd4.\\xde\\xbb\\x7f.=\\xf3?\\x0eZ\\xd1us[\\x94\\xc3P\\xb8\\xab\\x80\\x1cGU(\\xa6G\\x1e\\xaab\\xf9,3\\xba)\\x9b \\xd4\\xb4\\xa9\\xd7;\\x16u\\x95\\xf40\\xfdC\\x05\\xad\\xaf\\xb0\\x8d\\xc2\\xf1\\xdf\\xeb\\xd7\\xaa{\\xa2\\xbf\\xeaVZ@\"\\x87\\xefI\\xfdz_tx\\xd2\\xf9I]){I\\xeb\\xa9\\xf5^\\x9e}_\\x0e\\x17\\xd9\\xf2\\xe52\\x978\\xbbj\\xf4\\x0b\\xa69\\xeb6\\xe4\\xc8\\xdd\\x9dE/1gT3\\xbc\\x9a\\xd7T\\xf1O$\\xba\\xbb\\x92\\xae\\x1a\\xcd\\x8fk^\\x1dJ\\x81\\xad\\x0fU*\\xc7\\xa2\\xef!3c\\xaf\\x19k=A\\xa1\\\\\\'\\xaek\\xb5\\xf68\\x19+\\xa3\\x90\\xc8\\x06\\xa5w\\xb3f8\\xcb\\x97]\\x91\\xf9g\\xb5\\xa1\\xb4\\xd0.W\\xd2\\xe9=\\xafK\\x1b\\xc9^\\x01y\\xb5\\xbb\\x01\\xd5p\\xeb\\xd7\\x8e\\xdc\\xf7\\xad\\xae\\x97\\x0e`C\\xc0\\'\\xbdVr\\xc6\\xbe+d\\xdeU\\xaco\\x1b\\x1d\\xa6\\xc9=z^\\xde>Vac\\xcd\\x1c\\x08:\\x90\\x17\\xa7\\x8e5\\xc3\\xae\\xb1\\xcd&c\\xe5\\xafb(B\\xdc\\xe2G;\\xd6\\xb5U\\xd5Ze\\xeb\\xf8\\xaeW\\xb3M\\x0bv\\x03\\xf8\\xaf?\\xb7%w\\xf5m\\x8fNH\\xddASS\\xd5p\\x95\\xda\\xc7\\x06Hsju\\xf4]y\\xae}<\\xdc\\xb6\\xbd\\xa4\\\\>\\x05z8\\xae=G8!i\\x85APt\\xe0\\xb5\\x8e\\xc9e\\xe7\\xda\\r\\xc7\\xecX\\xf6\\\\\\x8d\\xf1>^\\xb6G\\x92\\x11\\xd5\\x91\\xecwr\\xf3\\xf3\\xeb\\xd7~\\xbb\\xc7\\x95\\x95-\\xef\\x1a\\xd6\\x81w\\xe28\\xf5L|\\x97D\\xf0N\\xddh\\xaf\\\\js\\xd6=\\x01\\xe4 sj\\xda\\x8an\\x17\\x0f\\xd7c\\xb7\\x9c\\xa32\\x015\\xad\\x02^I]\\x0c\\xc84\\xf7V\\xd5\\x8b\\xcbZ\\xd6\\'\\xe4}H\\x04\\x93\\xa5V\\xb3\\x13u\\xdb\\x88\\xdc\\x89\\x9cY\\x17\\xb9\\xcd\\x15\\xd7E\\xcf\\xacn=lO\\x14\\xdb\\x0b\\xf2\\xc3_#\\xcf\\xc9\\xb8\\x01s\\xeb\\xbf\\xe1\\xb9\\xcf\\xf2\\xe2\\xcf\\xf08\\xb2\\x19^\\xd6\\xd8\\xf0M\\xb6\\xe86\\xec\\xb7\\xc7\\xba\\xc6:\\xf5\\xca\\xf0\\xe0\\xf0\\xb9\\x92<r0\\xc7\\x1duq\\xf8\\xf6^\\x8e\\xbd\\xd2}8OU\\xbfm\\x9eC\\x1eLiZ\\xc8\\xdc\\xe9\\x05\\rM6!g\\x8e\\xa5o\\xb9g\\xd3\\x9a)^MK\\xa8\\xb7c\\x12\\xbb\\x99\\x1c\\xefh\\xb5\\xc5\\xe3\\xb5W+c\\xaeW\\xab\\xe3\\xbck\\xdf\\x1f.Ex\\xff\\x00\\x0cu5\\xf8\\x95\\xcb\\xbe\\xff\\x00\\x86\\xf9\\xe5\\xdf6\\x13\\x1d\\x1f\\xf4\\x00cF\\xc4\\xf5\\\\\\xe7_\\xcbX\\xf1|\\x8c\\xf2cZ\\xd1!s\\xbf\\x11\\xd9v\\xe3\\x9dc\\xae\\xb1\\xe4\\xcb\\x9d;\\xab\\xad\\x01\\xd6\\x81w\\x9cG\\x1b\\xddk\\x87(\\t\\x9ad5\\x03\\xa9W\\xae>>\\x13\\x9e\\xbe~^\\x83\\xb3\\xa2\\xb3JP\\xf4\\\\g\\x15\\xda\\xf7\\x16\\x19!s\\x01\\xa8\\xae\\xf4N\\xa5Y`\\xfc\\xa8\\xdaA.\\xa5:\\xa4\\xe6\\x97\\xa6\\x992\\x84\\xe7\\xdc\\xe0\\x03V\\xa78\\xc5\\xebS\\x820\\xe0\\xf78\\xd0P\\xd1_*\\x9e1\\xb9\\xd2`\\xbc\\xd1\\xcc\\x15#u\\x8f\\xf95\\xff\\x00\\x17,\\xb0@\\x19V<\\xdd\\xd2\\xab\\xa4\\xea\\xb1y\\x8e1%\\x1dB\\xba\\xe3\\x9c\\xac\\xf9@\\x15\\xa2\\x98\\xd6\\xb5:n\\xc5Y\\xcb>I\\xcc\\xe1\\xb3\\x8f\\xaa\\xbe)\\xe4\\xe8\\x8f\\xca\\xbe8\\xac\\x03S\\xb9X\\xbe\\xad\\xad\\xcff4K\\x9f#\\xc0\\x00\\xd0\\xf5[\\x9e\\xb9\\x19\\xbd\\xb2\\x8b=\\xec\\x1anT\\xbc,\\xed\\xb5\\x9eE\\xe3\\xed\\xdf\\xd5f\\xfa\\xd7\\xcd\\xd5\\x0efT\\x83\\xd9\\x1b\\x9c\\x06\\xa6\\xd0v\\xfb\\x16/\\x127:\\xac\\xbf\\xd4\\x9c\\x01m(z\\x825S\\xf5\\x9em\\xd8\\xde@\\x96\\xddJ\\xf4\\xaa\\xcf\\\\5;vC\\xe4\\x9c\\xd0np\\x1a\\xfcH\\\\\\xef\\r\\xce\\x9b\\xc7\\x98\\xd4\\x1d\\t\\xef\\xb2\\x9f\\xac\\xf2tE\\xe6\\x1a\\xf2\\x01h\\x0f\\xe8+\\xa2\\xcd\\xe1\\xaf\\'\\xc0G<\\xf380\\x02}{/}\\xe6G\\x96uk\\xd1\\xc6\\xc1\\x99\\xe0\\x99_dd{\\\\5\\xa9\\\\z\\xee~\\x1d9\\xe6\\xb5\\xe5x\\xee6\\xb5\\xc2k\\x894\"\\x94Z\\xe7\\xd9\\xbf\\x86z\\xe1\\xe5\\xca\\x08y\\x04\\xd4\\xafG.5\\xbe\\x1f\\x1b4\\x80\\x12\\xe6\\xb4\\x11Z\\x13\\xaa\\xcf^\\xd9\\x16z\\xed2p%\\x85\\xda\\x0b\\x9aEA\\t\\xcf\\xb2S\\xaf]\\x8eBH\\xe8\\xba9\\xb1.W\\x04\\xaa\\xa8]\\xe8\\xa0\\x17&\\x0cj\\xa8\\xb5\\x05@\\xfbU\\x1d\\x18\\xd8\\xed\\x98\\x90d\\x0c\\xa7\\xdbU\\x8e\\xbb\\xc6\\xb9\\xe7]\\xf8^\\x18K!\\xe4\\x92\\x91\\x8aU\\xc3s^\\x8b\\x8f~\\xecu\\xe7\\xd3\\xafNO\\x1b\\xe3\\xe3\\x8d\\xcc,n\\xa2\\x81\\xff\\x00\\x88.3\\xdb\\xd5\\xae\\xb7\\xd7\\xcb\\xcf\\x8f\\xc7\\xc0\\xe9A\\x8d\\xda4\\xfb\\x9a\\xedF\\x8b\\xad\\xf6\\\\s\\x9e\\xb9\\xae\\xb9\\xb3c\\xaf\\x0c\\xe0P\\x1d4\\xd1s\\x9c_\\xb8\\xe9z\\x9fU\\xe6g:)%\\x06:4\\x01@\\x02\\xef\\xeb\\xd9>\\\\;\\xca\\xe6:.\\x8cb\\x87\\x1e\\xea\\x07#\\xbb\\x95p\\xd0\\xbd\\xddILMV5\\x8e\\xf9\\x9dD\\xb5dz\\x0cv\\x00\\x840\\xb08\\xd3\\xe6\\xa6\\xab\\x85\\xf2\\xd7Y\\xe3\\x8c\\x7f$\\xd7\\x9f\\xe88\\x92vaW\\xf6g\\xdax\\x7f\\x0fC\\x163\\x8eH\\xbbCJ\\xd3M\\x97.\\xae\\xba\\xf30\\x9b\\xca\\xba7\\xb9\\x83V\\x9e\\x9f\\xecI\\xea\\xd2\\xfb1\\xa3\\xfdZ\\x10\\xc2\\xde;\\x8f\\xae\\xab_\\xaa\\xa7\\xed\\x8do\\xf2\\x11Jn\\x92:\\x81\\xb7`\\xb5=v3{\\x95\\xc8Cd.tM4n\\xae\\x1e\\x8b\\xa7\\xd7\\xdb\\x9f\\xdf\\xd3Qp=\\x16\\x99\\xa5Pd\\x1dC\\xbd\\x10de$\\xeaT\\xc5\\xd6l!\\xee\\x00\\x8a\\xa9~\\x16|\\xba\\xe4\\x823\\x19\\xb5\\x80\\x1e\\x8e\\x07\\xf8.S\\xab\\xae\\xb7\\x98\\xe4\\xa1a\\xd7E\\xd7\\xed\\xcb\\xe9\\xb6\\x014\\xf2Y\\x13K\\x9d\\xd8,\\xf5\\x93\\xed\\xaev\\xbd\\x98<w\\x91\\x926\\xb6H\\xc3\\x18\\x0f\\xb9\\xf5\\x15\\xfb\\x97\\x9a\\xf7\\xcb\\xbc\\xe6\\xbd\\x9f\\x1d\\xe2\\xe1\\x82\"\\x08\\x0e/?1\\x1a\\xe8\\xb8\\xf7\\xdd\\xae\\x9c\\xf3\\x8e\\x90\\x19\\x1c\\xf6\\x00\\x05\\xddF\\x85e\\xa6O\\x9e61\\xce\\x12R\\xdd\\xa8\\x989\\x99\\xe6\\xe2\\xb0\\x89iPu!k\\xf5\\xa7\\x93\\xce\\xca\\xf2\\x91\\xbeKbv\\x95\\xd0.\\x9c\\xf1\\xfc\\xb1{l\\xfc\\xfc|`\\xcbK\\x89\\xa1\\xefE\\x9f\\x05\\xf2xy\\xd9QI=\"hh\\x1b\\x91\\xd5zx\\xe6\\xc8\\xe1\\xdfS^\\xa7\\x84\\xc3\\x99\\xc0O#\\xec\\x8a\\xb4\\r\\xae\\xa5q\\xf6\\xf5>\\x9d=r\\xbd\\xf8\\xde\\x1a\\xe0\\x07]\\xd7\\x9d\\xd9\\x9eD\\xa5\\xcd\\xb5\\xb4os\\xfe\\xc4\\x90\\xaf\\x0f\\xc9\\xf8\\xb7Ze\\xa9s\\x9d\\xd0\\xae\\xfe\\xbfg\\xe1\\xcf\\xbe\\x1e\\x0c\\xf8\\x99QBfs\\x08\\x89\\xa6\\xd2\\xefU\\xe9\\xe7\\xa9n8^l\\xf9p\\xba@W\\\\r\\xd5\\xb8\\x8d\\xca\\n\\xd9\\x9c\\xd3V\\x9a%\\xe5|\\xb1\\xe8\\xe1\\xc9\\x8a\\xe65\\xd26\\xe7\\x8d\\xeb\\xb5W\\x9f\\xb9ev\\xe2\\xcb\\x1d\\xb1\\x1cV\\xc8e\\r\\x01\\xce55\\xd4\\x15\\xce\\xdb\\xf4\\xe9$\\xfbt\\xbf3\\x0eG\\x07\\xbd\\xa0\\x9d\\xa9\\xd9bsc[\\x1e\\'\\x90~8\\x98\\x984\\x1dGJ\\xafW\\xae\\\\\\xf9y\\xfd\\x99\\xbf\\x0e\\x7f\\xcc;\\xa8\\xaf\\xc5o\\xc5\\x8f&\\xba\\xf5Ze\\xd3\\x87\\x16L\\xf2\\x86\\xc4\\xdb\\xba\\x17\\x11\\xa0\\x07\\xba\\xc7vI\\xf2\\xdf\\x1b^\\xf3~\\x9c\\xc0tu\\x96g_\\xb0\\xb4Z\\x01^_\\xdf\\xd4\\xfaz?Tp\\x7f\\xf6\\xc4\\xee\\xcelM$\\xe3\\x9d_.\\x95\\x03\\xe0\\xba\\xff\\x00\\xd8\\x99\\xfe\\\\\\xbfO\\xcf\\xf8vyX|f\\x1e+\\xf1F8\\xb8\\xb4\\x06\\xc9Ow\\xc6\\xab\\x9f\\xaf\\xae\\xba\\xbb\\xae\\x9d\\xced\\xc7\\xcc\\xb6\\x1b\\x89\\xa3\\xa8:/e\\xaf,\\x89G\\x02B\\xa8\\xf6<\\x0c0\\x82\\xf9\\xa6`{\\x9aG\\x1du\\xa57+\\xcf\\xef\\xea\\xfdG\\x7fL\\xfc\\xd7\\xd0\\x0c\\xe8\\xb8\\xdc\\xe6Q\\xae\\xed\\xf0^O\\x17\\xa7_;\\xe4\\x9e\\xd7\\xce_\\xbb\\x8e\\xf4^\\xbf\\\\\\xf8y\\xfb\\xfbs\\n\\x81\\xa5EV\\x99R\\xe9F\\xad%>\\x17\\xe5\\xac\\xe5L\\xc3S\\xad\\x15\\xf1\\x95\\x9f+\\x193\\xcaL$\\x06\\x82\\x89}Q\\x7feq\\xe3\\xcb\\x0bK\\x83N\\xe7U:\\x95y\\xc7s\\xbc\\x8bb\\xc7\\xe2\\x06\\xb45\\x1e\\x8b\\x94\\xe3k\\xa7\\x9eG\\x97\\x93\\x96_\\xa5t\\x1b\\x05\\xe8\\xe3\\x8cq\\xeb\\xa7%\\xee%u\\xc7-n\\x8f.V6\\xd0tY\\xbcJ\\xd4\\xee\\xb29\\xb3\\x9f\\xc5\\xb6\\xcaxC\\xce\\xb5=\\xees\\x89;\\x9dJ\\xdc\\x8c\\xda\\xc3EP\\xa2i\\x87\\xd8\\xa0\\x11\\xd5]1\\x89\\x0551\\x08!4\\xa6\\xaa\\x8c\\xe3yi\\xa8\\xddK\\x16W~>t\\x8ci\\xa3\\x80\\xafBW\\x0e\\xbdq\\xd7\\x9e\\xd9I\\xe5\\x0b\\x98[n\\xa7r\\xa4\\xf5-\\xf65G\\x9c#uX\\x08\\xfej\\xf5Z\\xbck3\\xbca6W.\\xa4k\\xddk\\x9eq:\\xebX\\x89M\\x06\\x83M\\x95\\xc6t\\x8f\\xdf ot\\xbf\\x04\\xf9{X\\xbe?\\x11\\xa0:j8\\x9d\\x9a\\xbc\\xdd{/\\xe1\\xe8\\xe7\\xd7?.\\xf7b\\xf8\\xa6\\xb2\\xf3\\x1b] \\x1a\\x0e\\x8b\\x97\\x9fN\\x97\\x8e^\\\\\\xb81\\xe4\\xb9\\xee\\x8e\\xadw`=\\xab\\xbc\\xf6Y\\xf6\\xe3x\\x95\\xc5\\x93\\x89,\\x0e\\xa1\\x04\\xb7\\xf9\\xba.\\xdc\\xf7+\\x97\\\\X\\xd1y\\x1dV\\x93[\\xe3\\xcf\\x99\\x9b\\x15\\x8b\\xeb\\x8dN\\xeb3\\xe4e*~\\xa8\\xbf\\xb1\\xa9\\x8f\\x8d\\xf2\\x83)6\\xd7\\xddM\\xd6\\xac\\xc9\\xf0\\x92\\xcb~^\\xa0\\x9f\\xc7\\x81kahf\\x95\\x1dO\\xda\\xb8gN\\xdb\\xcbfG\\x91\\x8aX\\xf8C\\x00\\x8c\\xd2\\xe0\\xd0\\x06\\x8b<\\xf1g\\xca\\xde\\xe5\\xf8F\\xbf\\t\\x8d\\r\\x89\\xa07\\xaa\\xbf\\xf2\\xbfi\\xf1\\xf8rK\\x1c\\x0e|\\xaf\\x04Z~P:.\\x92\\xd6,\\x8e0\\xd7\\x13@\\t\\xf8.\\xaeX\\xf4\\xbcW\\x83\\xc9\\xcf\\xb9\\xc0\\x18\\xe3\\x00\\xda\\xf24q\\xec\\x17/g\\xbar\\xe9\\xc7\\xae\\xf4\\xcb7\\xe9\\xdc\\xfcH\\x8c\\xaf\\rs?\\xb2j~\\xe59\\xf7\\xf3n/^\\x9b\\x1e{ \\x94\\xb8\\x86\\xb1\\xc5\\xc3R\\x00;.\\xbeQ\\x89\\xcdK\\x9e**~\\t\\x82\\x17\\x93\\xba#\\xa7\\xc6e\\xbf\\x1b#\\x91\\xbb\\x91E\\x8fg;\\x1b\\xf5\\xf5\\x95\\xec\\xc1\\xe6\\xe6\\xe4\\xa1\\xf9O\\xcc\\xbc\\xd7\\xd4\\xef=\\x8e\\xa6y\\xc2\\xd1\\xabH\\x1d\\x16?S~o?;\\xcb\\xcb,\\xb5i-\\xec}\\x17^=n}{\\x1a\\x7f<\\xeb)RI\\xdc\\xf4\\xfb\\x95\\xf0O\\';\\xf3\\xe8\\xc7\\xb7r\\xed\\x16\\xe7\\x0c^\\xdc\\x8c\\x9d\\xedu\\xc0\\xea\\xba\\xdec\\x9f\\x937e\\xcc\\xf6\\xd0\\xbb^\\xfdT\\x9cH^\\xedF\\xd6\\xbe\\xaa\\xd4\\x8fg\\x0f\\xc9L\\xc6\\x08\\xcbM\\xc3c\\xd1y\\xbb\\xf5\\xc7\\xa7\\x9e\\xeb\\xd2\\x832i:\\x17;\\xa0\\\\o.\\x93\\xa7ik\\xf8\\x84\\x92|\\xc0\\xe8\\x01\\xd9a\\xa6\\x9c\\x8c\\xd7\\x16\\x1bM\\\\t\\x15\\xd5jr\\x96\\xbc\\x8c\\x9c\\xe9\\xf8\\x7f/#D\\x8d\\x0e\\xad\\xa7\\xaa\\xef\\xcf\\x13u\\xcb\\xae\\xaf\\xd3\\xcb\\xc8\\xf1\\xe5\\x8d|\\xb5k\\x7f\\x17\\x17Z\\x13\\xd1v\\xe7\\xd9\\xf8q\\xbc~\\\\\\x85\\xe1tcR\\xa3\\xba\\xa3 \\xea\\x0fi\\xf8\\xa9\\x82\\xf3\\xbe\\x94\\xb8\\xa9\\xe3\\x17\\xca\\xa1\\x99\\xff\\x00\\xccU\\xf1\\x87\\x92\\x07\\xaa\\x9a\\xc8\\x10N\\xa5A\\xd9\\x83\\x85\\xf9\\x87\\x0fp\\xa1\\xe9\\xd5s\\xef\\xd9\\x8e\\x9cq\\xafg\\r\\x8d\\xc2\\x85\\xd1\\xb6\\xae2:\\xa4\\xedJt^n\\xfa\\xf2\\xae\\xfc\\xf3\\xe3\\x19\\xfeu\\xad\\x0e/\\xab\\x87\\xf2\\xa9\\xe2\\xd7\\x92cy6D\\xdb\\xd9!\\x0ew\\xce;\\xf6K\\xc2N\\x9eW\\x97\\xcd\\x93\"P\\xe7\\xba\\xbaP.\\xfe\\xaeq\\xc7\\xd9\\xd6\\xbc\\xbb\\xe8t\\xd1z\\x1c]\\xd1`2H\\xc1\\xe4\\xa3\\xc8\\xfb\\x17.\\xbd\\x98\\xe9=z\\xee\\xc5\\xc5\\xc8\\x80\\x98\\xda\\x03\\xe2>\\xe3&\\xd4\\xf4\\\\{\\xee_\\x97^y\\xb3\\xe1\\xb2\\xba\\x90\\r(\\xb2\\xad.\\xc4\\x9a`\\\\\\xd6U\\xa3RGE\\xb9\\xdc\\x8c\\xdemj\\x8f\\x14\\x9c\\x82\\xd2\\x1c\\xe6\\x1d\\x1b]\\rV\\xaf_\\x0c\\xce~Y\\xe7\\xf8\\xf7\\xc1\\r\\xd1\\\\GQZ\\xd0)\\xeb\\xefo\\xca\\xf7\\xc6O\\x87\\x90\\xe78\\xee\\xbd28Z\\xd6\\xe2U\\xc4\\xd7\\x98$=\\xd5\\xc5\\xd5\\xe5q\\xea\\x98\\x9bR\\xf3Uq4\\x0e*\\xa3&\\xbb\\xba\\x98\\xabr`\\xb5A\\x98=j\\xa2\\x95P*\\xaaj\\x12\\x83\\x12OuF*\\xa1T\\x19\\x07)F@\\xa8\\xaa\\x05z\\xd1M1\\xd00\\'t\\x1c\\xcck\\x9c\\xcf\\xc4@\\xd3\\xefY\\xfd\\x93q\\xbf\\x0b\\x8c#\\xc5\\x99\\xff\\x00+O\\xc4\\xe8\\x12\\xf7\"N-Ia|N\\xb5\\xe3UgZ^qZ$\\x8c\\x87\\x01Jl\\x9fd\\xf8z\\x18\\xee\\xc8}\\x1d.\\x91\\xf4\\xee\\xb8\\xf5\\x93\\xe9\\xd7\\x9d\\xbfoN\\t1\\xf8\\xdfx\\xa9=\\xfb.7]c\\xaf\\x1elVB#\\r\\x01\\xa4\\xd4\\x81\\xd5b\\xcb\\xadLo\\x97#\\x14c\\xb9\\x8ch\\x15\\x07B5\\xfbVd\\xba\\xb6\\xcc|\\x9elt\\x95\\xcek-a=\\x06\\x95^\\xfe/\\xc3\\xc7\\xdc\\xf9s\\xecu\\x0blFLk\\xa4pk\\x1bRz\\x05-\\xc6\\xa4\\xd6scK\\t\\xf7\\x8az\\x8dB\\x93\\xa9V\\xf3\\x8cX\\xe0\\x0f\\xc5Z\\x91\\xd5\\x8b\\x83\\x91;\\x9aZ\\x0bcq\\xa7!\\xdbMW>\\xbb\\x91\\xbey\\xb5\\xea\\xcf\\xe0\\x9a\\x18\\xce\\t\\x9c\\x1e\\x07\\xbc\\xbchO\\xa5\\x17\\x19\\xee\\xfec\\xad\\xf5\\x7f\\x0cq\\xbe\\x9d\\xc8\\x95\\xf5\\x92v5\\xa2\\x85\\xd4\\xae\\xa3\\xaa\\xbd{\\xe4\\xfa\\x89=U\\xf4,\\x18L{b\\x81\\xac\\xa8\\x14\\x1a\\r\\x17\\x9a\\xdb\\xf9w\\x92+2\\xce;\\xf8O\\xc8\\xda\\xd0\\x8fU3Mr\\xe4\\xcd3\\xe3s.\\xfe\\x9dk]\\xa9\\xf0[\\xe6%h\\x19\\x10\\x0cg\\xc7\\x17\\xb6I>y\\x8d5?\\xf6+\\x97Sc\\xe6\\x1e\\xc7\\xde\\xfa\\xb8T\\x13R\\xbd\\xb2\\xc7\\x92\\xc6\\xab\\x96\\x90\\xbc!\\xafG\\x19\\xf0\\x96U\\xce\\x00\\x80)\\xf6/?r\\xeb\\xb78\\x93\\xe4\\x8b\\xa8\\xd3\\xed\\xec\\x9c\\xf2^\\x9c\\xef\\x94\\x13\\xbe\\xab\\xa4\\x8cZ\\xc0MM\\xd5\\xc4\\xd434\\xee\\x15\\x90\\xd6\\x15\\x1d\\x15ej\\x862k\\xa8R\\x91\\xe8be@\\xc6\\x92\\xe1W\\x95\\xc3\\xbemv\\xe7\\xa8\\xf5\\xf1\\xbc\\x8cM\\x0cv\\x95n\\x84z.\\x1dq]\\xa7N\\x89\\xfc\\x8b\\xa5n\\x94\\x03\\xa0X\\x9ccW\\xa6\\x86\\xc8(\\r\\x00p\\xd6\\xabl\\xb4\\xe5\\xe3\\xcca\\xe4kC\\xde\\xedh7\\x0b\\\\\\xf55\\x9e\\xa3\\xc5\\x9eyL\\x85\\xb2h\\xfd\\x8dW\\xa7\\x9eg\\xe1\\xc3\\xabZ&\\x0c\\x00R\\x97u!k\\x9a\\xcfQ\\xa9i\\x9cP=Qp\\xa2&\\x02\\xe4\\x12\\xa82i=\\x91^\\x96\\x04\\xa0Gh\\xe8kU\\xe7\\xf6O\\x97o]\\xf8v\\xcb\\x96-\\xdfU\\xcar\\xe9zpK\\x96Eu\\xddu\\x9c\\xb9\\xde\\x9c\\xaf\\x9c\\x9dk\\xa7e\\xd2r\\xc5\\xad/\\x90\\x93\\xa9[\\x91\\x9a\\xdd\\x89\\x1b\\x1e\\x1c_\\xb6\\xc1g\\xbbg\\xd2\\xf3\\xcco\\xa1\\x85\\xe4\\xb5\\xd5o@wX\\xddo1\\xd7\\x8d\\x9e\\x00!\\xef\\xa5z\\x05\\xcf\\xaf[|\\xf6\\xdb\\x15$\\x9f\\xfaf\\xea\\xec75R\\xfcF\\xa7\\xdb\\xd6\\x8f\\xc7g\\x16:\\xd8\\x88\\xee4\\x0b\\x8d\\xea:c(|^L\\x8f\\xd0Yg\\xb5\\xc4\\xfa%\\xec\\xc6\\x19\\xfe?$\\xca\\xd8\\x19Y\\x03\\xb4}(4W\\x8e\\xa7\\xdau\\x1a\\xf2~\\x99\\x85\\xcf\\xb0\\x1bCvu5\\xd7\\xbd\\x16\\xb9\\xf7\\xd8\\xc5\\xf5J\\xe8\\xf1\\xbe\\x07\\xc7b2F\\xc9L\\x8c\\x89G\\xb0\\xc8\\xd0(\\x00\\xd6\\xda\\xd5N\\xfd\\xddu\\xfe\\x17\\x8fT\\x8f\\xff\\xd9'}"
            ]
          },
          "metadata": {
            "tags": []
          },
          "execution_count": 65
        }
      ]
    },
    {
      "metadata": {
        "id": "eRy8lcOMXqi5",
        "colab_type": "text"
      },
      "cell_type": "markdown",
      "source": [
        "Проверяем загрузку файлов"
      ]
    },
    {
      "metadata": {
        "id": "Hig0d3VOBplC",
        "colab_type": "code",
        "colab": {
          "base_uri": "https://localhost:8080/",
          "height": 35
        },
        "outputId": "579d8783-429b-428d-9b97-32f4f3ad805d"
      },
      "cell_type": "code",
      "source": [
        "!ls"
      ],
      "execution_count": 66,
      "outputs": [
        {
          "output_type": "stream",
          "text": [
            "cifar10_model.h5  cifar10_model.json  datalab  horse.png  plane.jpg\r\n"
          ],
          "name": "stdout"
        }
      ]
    },
    {
      "metadata": {
        "id": "Ep-7TkvbXunR",
        "colab_type": "text"
      },
      "cell_type": "markdown",
      "source": [
        "**Смотрим загруженную картинку**"
      ]
    },
    {
      "metadata": {
        "id": "DpEJyRjDXUuh",
        "colab_type": "code",
        "colab": {
          "base_uri": "https://localhost:8080/",
          "height": 266
        },
        "outputId": "3b09eb1f-8b21-4bc1-aa10-e46097324c8f"
      },
      "cell_type": "code",
      "source": [
        "img_path = 'plane.jpg'\n",
        "img = image.load_img(img_path, target_size=(32, 32))\n",
        "plt.imshow(img)\n",
        "plt.show()"
      ],
      "execution_count": 67,
      "outputs": [
        {
          "output_type": "display_data",
          "data": {
            "image/png": "[encoded data removed]",
            "text/plain": [
              "<matplotlib.figure.Figure at 0x7f26cc83f5c0>"
            ]
          },
          "metadata": {
            "tags": []
          }
        }
      ]
    },
    {
      "metadata": {
        "id": "KTwbT6byXyrC",
        "colab_type": "text"
      },
      "cell_type": "markdown",
      "source": [
        "**Преобразуем картинку в массив для распознавания**"
      ]
    },
    {
      "metadata": {
        "id": "QTdXEhQ3X13R",
        "colab_type": "code",
        "colab": {}
      },
      "cell_type": "code",
      "source": [
        "x = image.img_to_array(img)\n",
        "x /= 255\n",
        "x = np.expand_dims(x, axis=0)"
      ],
      "execution_count": 0,
      "outputs": []
    },
    {
      "metadata": {
        "id": "oeeqy0cjX7j6",
        "colab_type": "text"
      },
      "cell_type": "markdown",
      "source": [
        "**Запускаем распознавание**"
      ]
    },
    {
      "metadata": {
        "id": "cVIxQljlX-LZ",
        "colab_type": "code",
        "colab": {
          "base_uri": "https://localhost:8080/",
          "height": 35
        },
        "outputId": "a7c881d2-af14-493c-a40c-ae404087a86d"
      },
      "cell_type": "code",
      "source": [
        "prediction = model.predict(x)\n",
        "prediction = np.argmax(prediction)\n",
        "print(classes[prediction])"
      ],
      "execution_count": 69,
      "outputs": [
        {
          "output_type": "stream",
          "text": [
            "самолет\n"
          ],
          "name": "stdout"
        }
      ]
    }
  ]
}