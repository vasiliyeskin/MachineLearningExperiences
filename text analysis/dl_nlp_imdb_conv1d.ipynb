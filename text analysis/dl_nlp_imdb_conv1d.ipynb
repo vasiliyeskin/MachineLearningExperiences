{
  "nbformat": 4,
  "nbformat_minor": 0,
  "metadata": {
    "colab": {
      "name": "dl_nlp_imdb_conv1d.ipynb",
      "provenance": [],
      "include_colab_link": true
    },
    "kernelspec": {
      "name": "python3",
      "display_name": "Python 3"
    },
    "accelerator": "GPU"
  },
  "cells": [
    {
      "cell_type": "markdown",
      "metadata": {
        "id": "view-in-github",
        "colab_type": "text"
      },
      "source": [
        "<a href=\"https://colab.research.google.com/github/vasiliyeskin/MachineLearningExperiences/blob/master/text%20analysis/dl_nlp_imdb_conv1d.ipynb\" target=\"_parent\"><img src=\"https://colab.research.google.com/assets/colab-badge.svg\" alt=\"Open In Colab\"/></a>"
      ]
    },
    {
      "cell_type": "markdown",
      "metadata": {
        "id": "Lv1nORvnYVQn",
        "colab_type": "text"
      },
      "source": [
        "## Определение тональности текста отзывов на фильмы IMDB с помощью одномерной сверточной нейросети\n",
        "\n",
        "Учебный курс \"[Нейросети для анализа текстов](https://www.asozykin.ru/courses/nnpython)\".\n",
        "\n",
        "Чтобы запускать и редактировать код, сохраните копию этого ноутбука себе (File->Save a copy in Drive...). Свою копию вы сможете изменять и запускать.\n",
        "\n",
        "Не забудьте подключить GPU, чтобы сеть обучалась быстрее (Runtime -> Change Runtime Type -> Hardware Accelerator -> GPU)."
      ]
    },
    {
      "cell_type": "code",
      "metadata": {
        "id": "lpsyhVlJX5XH",
        "colab_type": "code",
        "colab": {}
      },
      "source": [
        "%tensorflow_version 2.x\n",
        "from tensorflow.keras.datasets import imdb\n",
        "from tensorflow.keras.models import Sequential\n",
        "from tensorflow.keras.layers import Dense, Embedding, Conv1D, MaxPooling1D, Flatten\n",
        "from tensorflow.keras import utils\n",
        "from tensorflow.keras.preprocessing.sequence import pad_sequences\n",
        "import numpy as np\n",
        "import matplotlib.pyplot as plt\n",
        "%matplotlib inline "
      ],
      "execution_count": 1,
      "outputs": []
    },
    {
      "cell_type": "markdown",
      "metadata": {
        "id": "xGDJkdINNWVh",
        "colab_type": "text"
      },
      "source": [
        "## Загружаем данные"
      ]
    },
    {
      "cell_type": "code",
      "metadata": {
        "id": "kBUUyZ4cbxoM",
        "colab_type": "code",
        "colab": {}
      },
      "source": [
        "max_words=10000"
      ],
      "execution_count": 2,
      "outputs": []
    },
    {
      "cell_type": "code",
      "metadata": {
        "id": "toRj2Xs1NZgB",
        "colab_type": "code",
        "colab": {
          "base_uri": "https://localhost:8080/",
          "height": 50
        },
        "outputId": "3ea03ff5-d7ea-4341-8a79-30e67428d322"
      },
      "source": [
        "(x_train, y_train), (x_test, y_test) = imdb.load_data(num_words=max_words)"
      ],
      "execution_count": 3,
      "outputs": [
        {
          "output_type": "stream",
          "text": [
            "Downloading data from https://storage.googleapis.com/tensorflow/tf-keras-datasets/imdb.npz\n",
            "17465344/17464789 [==============================] - 0s 0us/step\n"
          ],
          "name": "stdout"
        }
      ]
    },
    {
      "cell_type": "markdown",
      "metadata": {
        "id": "kiA7X0oWaS9Z",
        "colab_type": "text"
      },
      "source": [
        "## Подготовка данных для обучения"
      ]
    },
    {
      "cell_type": "code",
      "metadata": {
        "id": "PiZZxRZhMVWv",
        "colab_type": "code",
        "colab": {}
      },
      "source": [
        "maxlen = 200"
      ],
      "execution_count": 4,
      "outputs": []
    },
    {
      "cell_type": "code",
      "metadata": {
        "id": "0YrjnapvMVwf",
        "colab_type": "code",
        "colab": {}
      },
      "source": [
        "x_train = pad_sequences(x_train, maxlen=maxlen)\n",
        "x_test = pad_sequences(x_test, maxlen=maxlen)"
      ],
      "execution_count": 5,
      "outputs": []
    },
    {
      "cell_type": "code",
      "metadata": {
        "id": "SnANlxwYMcNX",
        "colab_type": "code",
        "colab": {
          "base_uri": "https://localhost:8080/",
          "height": 334
        },
        "outputId": "12efc51f-ae57-41bd-ecd0-b6468f50ebe1"
      },
      "source": [
        "x_train[5002]"
      ],
      "execution_count": 6,
      "outputs": [
        {
          "output_type": "execute_result",
          "data": {
            "text/plain": [
              "array([   0,    0,    0,    0,    0,    0,    0,    0,    0,    0,    0,\n",
              "          0,    0,    0,    0,    0,    0,    0,    0,    0,    0,    0,\n",
              "          0,    0,    0,    0,    0,    0,    0,    0,    0,    0,    0,\n",
              "          0,    0,    0,    0,    0,    0,    0,    0,    0,    0,    0,\n",
              "          0,    0,    0,    0,    0,    0,    0,    0,    0,    0,    0,\n",
              "          0,    0,    0,    0,    0,    0,    0,    0,    0,    0,    0,\n",
              "          0,    0,    0,    1,  103,   51,   13,  197,   16,    6, 4796,\n",
              "        239,    7,  107,  555,   11,  132,   39, 8921, 1872,  138,   16,\n",
              "       4093, 1768, 2959,   34, 1620,    2,   11,    4,  755,   12,   43,\n",
              "        286,    4,  172,  209,    2,    5, 5938,   17, 1000,   34, 1768,\n",
              "        279,   29, 3892,   89,  338,    4,  114,   16, 1240, 1747,  103,\n",
              "       3844, 3819,    8,  169, 2875,  112, 7062,   34,  160,  132,   29,\n",
              "        100,   24,  535,  101,  250,    8,  858,   15,  196,   19,   57,\n",
              "       3154,   39,   90,    5,   24,  169, 3533,   18,    6,  910,   20,\n",
              "         14, 1367, 3939, 1101,  935,    4,  545, 1744,  173,   54, 1240,\n",
              "       2875,    2,   56,  209,  112, 1021,   55,  835,  179,   35, 2384,\n",
              "          8,  529, 1663, 1793,    8, 1066,    7,   61,  223,  637, 1231,\n",
              "         19,    4,   86,   31,    5,  353,    8,  859,   13,  126,  219,\n",
              "          4,  755], dtype=int32)"
            ]
          },
          "metadata": {
            "tags": []
          },
          "execution_count": 6
        }
      ]
    },
    {
      "cell_type": "markdown",
      "metadata": {
        "id": "rhSLT9WjTeMk",
        "colab_type": "text"
      },
      "source": [
        "## Создание нейронной сети"
      ]
    },
    {
      "cell_type": "code",
      "metadata": {
        "id": "Lrzx1e4xTgzL",
        "colab_type": "code",
        "colab": {}
      },
      "source": [
        "model = Sequential()\n",
        "model.add(Embedding(max_words, 8, input_length=maxlen))\n",
        "model.add(Conv1D(100, 5, activation='relu'))\n",
        "model.add(MaxPooling1D(pool_size=2))\n",
        "model.add(Conv1D(200, 5, activation='relu'))\n",
        "model.add(MaxPooling1D(pool_size=2))\n",
        "model.add(Flatten())\n",
        "model.add(Dense(128, activation='relu'))\n",
        "model.add(Dense(1, activation='sigmoid'))"
      ],
      "execution_count": 7,
      "outputs": []
    },
    {
      "cell_type": "code",
      "metadata": {
        "id": "u1yNam-uSunE",
        "colab_type": "code",
        "colab": {}
      },
      "source": [
        "model.compile(optimizer='adam', \n",
        "              loss='binary_crossentropy', \n",
        "              metrics=['accuracy'])"
      ],
      "execution_count": 8,
      "outputs": []
    },
    {
      "cell_type": "code",
      "metadata": {
        "id": "MMDnI04zuKPd",
        "colab_type": "code",
        "colab": {
          "base_uri": "https://localhost:8080/",
          "height": 418
        },
        "outputId": "2268366f-7cdd-4b91-b4a7-39e51b944644"
      },
      "source": [
        "model.summary()"
      ],
      "execution_count": 9,
      "outputs": [
        {
          "output_type": "stream",
          "text": [
            "Model: \"sequential\"\n",
            "_________________________________________________________________\n",
            "Layer (type)                 Output Shape              Param #   \n",
            "=================================================================\n",
            "embedding (Embedding)        (None, 200, 8)            80000     \n",
            "_________________________________________________________________\n",
            "conv1d (Conv1D)              (None, 196, 100)          4100      \n",
            "_________________________________________________________________\n",
            "max_pooling1d (MaxPooling1D) (None, 98, 100)           0         \n",
            "_________________________________________________________________\n",
            "conv1d_1 (Conv1D)            (None, 94, 200)           100200    \n",
            "_________________________________________________________________\n",
            "max_pooling1d_1 (MaxPooling1 (None, 47, 200)           0         \n",
            "_________________________________________________________________\n",
            "flatten (Flatten)            (None, 9400)              0         \n",
            "_________________________________________________________________\n",
            "dense (Dense)                (None, 128)               1203328   \n",
            "_________________________________________________________________\n",
            "dense_1 (Dense)              (None, 1)                 129       \n",
            "=================================================================\n",
            "Total params: 1,387,757\n",
            "Trainable params: 1,387,757\n",
            "Non-trainable params: 0\n",
            "_________________________________________________________________\n"
          ],
          "name": "stdout"
        }
      ]
    },
    {
      "cell_type": "markdown",
      "metadata": {
        "id": "9CHZwMttYMTb",
        "colab_type": "text"
      },
      "source": [
        "## Обучаем нейронную сеть"
      ]
    },
    {
      "cell_type": "code",
      "metadata": {
        "id": "AkmNH7ahYLyc",
        "colab_type": "code",
        "colab": {
          "base_uri": "https://localhost:8080/",
          "height": 184
        },
        "outputId": "6aadf8fa-1d38-4682-8f0c-570f0d44336d"
      },
      "source": [
        "history = model.fit(x_train, \n",
        "                    y_train, \n",
        "                    epochs=5,\n",
        "                    batch_size=128,\n",
        "                    validation_split=0.1)"
      ],
      "execution_count": 10,
      "outputs": [
        {
          "output_type": "stream",
          "text": [
            "Epoch 1/5\n",
            "176/176 [==============================] - 2s 14ms/step - loss: 0.5740 - accuracy: 0.6405 - val_loss: 0.3502 - val_accuracy: 0.8520\n",
            "Epoch 2/5\n",
            "176/176 [==============================] - 2s 10ms/step - loss: 0.2510 - accuracy: 0.8997 - val_loss: 0.2995 - val_accuracy: 0.8824\n",
            "Epoch 3/5\n",
            "176/176 [==============================] - 2s 10ms/step - loss: 0.1704 - accuracy: 0.9356 - val_loss: 0.3226 - val_accuracy: 0.8784\n",
            "Epoch 4/5\n",
            "176/176 [==============================] - 2s 10ms/step - loss: 0.1155 - accuracy: 0.9578 - val_loss: 0.3636 - val_accuracy: 0.8760\n",
            "Epoch 5/5\n",
            "176/176 [==============================] - 2s 10ms/step - loss: 0.0785 - accuracy: 0.9734 - val_loss: 0.4353 - val_accuracy: 0.8740\n"
          ],
          "name": "stdout"
        }
      ]
    },
    {
      "cell_type": "code",
      "metadata": {
        "id": "a19UCeAMDhQK",
        "colab_type": "code",
        "colab": {
          "base_uri": "https://localhost:8080/",
          "height": 279
        },
        "outputId": "26b2b2b2-9cee-4dd9-ae21-d2b8307b22e7"
      },
      "source": [
        "plt.plot(history.history['accuracy'], \n",
        "         label='Доля верных ответов на обучающем наборе')\n",
        "plt.plot(history.history['val_accuracy'], \n",
        "         label='Доля верных ответов на проверочном наборе')\n",
        "plt.xlabel('Эпоха обучения')\n",
        "plt.ylabel('Доля верных ответов')\n",
        "plt.legend()\n",
        "plt.show()"
      ],
      "execution_count": 11,
      "outputs": [
        {
          "output_type": "display_data",
          "data": {
            "image/png": "[encoded data removed]",
            "text/plain": [
              "<Figure size 432x288 with 1 Axes>"
            ]
          },
          "metadata": {
            "tags": [],
            "needs_background": "light"
          }
        }
      ]
    },
    {
      "cell_type": "markdown",
      "metadata": {
        "id": "HnnIy3JlEGqW",
        "colab_type": "text"
      },
      "source": [
        "## Проверяем работу сети на тестовом наборе данных"
      ]
    },
    {
      "cell_type": "code",
      "metadata": {
        "id": "J1_ilV14EKBO",
        "colab_type": "code",
        "colab": {
          "base_uri": "https://localhost:8080/",
          "height": 33
        },
        "outputId": "d5e4d9e6-a39c-453a-bbd0-4109056a54f2"
      },
      "source": [
        "scores = model.evaluate(x_test, y_test, verbose=1)"
      ],
      "execution_count": 12,
      "outputs": [
        {
          "output_type": "stream",
          "text": [
            "782/782 [==============================] - 2s 3ms/step - loss: 0.4750 - accuracy: 0.8548\n"
          ],
          "name": "stdout"
        }
      ]
    },
    {
      "cell_type": "markdown",
      "metadata": {
        "id": "ueXET5tXa-jB",
        "colab_type": "text"
      },
      "source": [
        "## Архитектуры нейронных сетей для анализа текстов\n",
        "\n",
        "1. [Определение тональности отзывов на фильмы из базы IMDB с помощью простых рекуррентных нейросетей](https://colab.research.google.com/drive/19RAxAnIV0fDXAcE1T23TPkzi4ZPFQXdB).\n",
        "2. [Определение тональности отзывов на фильмы из базы IMDB с помощью сетей LSTM](https://colab.research.google.com/drive/1FQjetRIkWYxmm87JKUbVSJrRS2vNLPpV).\n",
        "3. [Определение тональности отзывов на фильмы из базы IMDB с помощью сетей GRU](https://colab.research.google.com/drive/1IGJPwFkTdpbyagQ5jiIRJBA01xlfc18t)."
      ]
    }
  ]
}