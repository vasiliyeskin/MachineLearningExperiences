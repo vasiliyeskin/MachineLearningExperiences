{
  "nbformat": 4,
  "nbformat_minor": 0,
  "metadata": {
    "colab": {
      "name": "dl_nlp_imdb_gru.ipynb",
      "provenance": [],
      "include_colab_link": true
    },
    "kernelspec": {
      "name": "python3",
      "display_name": "Python 3"
    },
    "accelerator": "GPU"
  },
  "cells": [
    {
      "cell_type": "markdown",
      "metadata": {
        "id": "view-in-github",
        "colab_type": "text"
      },
      "source": [
        "<a href=\"https://colab.research.google.com/github/vasiliyeskin/MachineLearningExperiences/blob/master/text%20analysis/dl_nlp_imdb_gru.ipynb\" target=\"_parent\"><img src=\"https://colab.research.google.com/assets/colab-badge.svg\" alt=\"Open In Colab\"/></a>"
      ]
    },
    {
      "cell_type": "markdown",
      "metadata": {
        "id": "Lv1nORvnYVQn",
        "colab_type": "text"
      },
      "source": [
        "## Определение тональности текста отзывов на фильмы IMDB с помощью сети GRU\n",
        "\n",
        "Учебный курс \"[Нейросети для анализа текстов](https://www.asozykin.ru/courses/nnpython)\".\n",
        "\n",
        "Чтобы запускать и редактировать код, сохраните копию этого ноутбука себе (File->Save a copy in Drive...). Свою копию вы сможете изменять и запускать.\n",
        "\n",
        "Не забудьте подключить GPU, чтобы сеть обучалась быстрее (Runtime -> Change Runtime Type -> Hardware Accelerator -> GPU)."
      ]
    },
    {
      "cell_type": "code",
      "metadata": {
        "id": "lpsyhVlJX5XH",
        "colab_type": "code",
        "colab": {}
      },
      "source": [
        "%tensorflow_version 2.x\n",
        "from tensorflow.keras.datasets import imdb\n",
        "from tensorflow.keras.models import Sequential\n",
        "from tensorflow.keras.layers import Dense, Embedding, GRU \n",
        "from tensorflow.keras import utils\n",
        "from tensorflow.keras.preprocessing.sequence import pad_sequences\n",
        "import numpy as np\n",
        "import matplotlib.pyplot as plt\n",
        "%matplotlib inline "
      ],
      "execution_count": null,
      "outputs": []
    },
    {
      "cell_type": "markdown",
      "metadata": {
        "id": "xGDJkdINNWVh",
        "colab_type": "text"
      },
      "source": [
        "## Загружаем данные"
      ]
    },
    {
      "cell_type": "code",
      "metadata": {
        "id": "kBUUyZ4cbxoM",
        "colab_type": "code",
        "colab": {}
      },
      "source": [
        "max_words=10000"
      ],
      "execution_count": null,
      "outputs": []
    },
    {
      "cell_type": "code",
      "metadata": {
        "id": "toRj2Xs1NZgB",
        "colab_type": "code",
        "colab": {}
      },
      "source": [
        "(x_train, y_train), (x_test, y_test) = imdb.load_data(num_words=max_words)"
      ],
      "execution_count": null,
      "outputs": []
    },
    {
      "cell_type": "markdown",
      "metadata": {
        "id": "kiA7X0oWaS9Z",
        "colab_type": "text"
      },
      "source": [
        "## Подготовка данных для обучения"
      ]
    },
    {
      "cell_type": "code",
      "metadata": {
        "id": "PiZZxRZhMVWv",
        "colab_type": "code",
        "colab": {}
      },
      "source": [
        "maxlen = 200"
      ],
      "execution_count": null,
      "outputs": []
    },
    {
      "cell_type": "code",
      "metadata": {
        "id": "0YrjnapvMVwf",
        "colab_type": "code",
        "colab": {}
      },
      "source": [
        "x_train = pad_sequences(x_train, maxlen=maxlen)\n",
        "x_test = pad_sequences(x_test, maxlen=maxlen)"
      ],
      "execution_count": null,
      "outputs": []
    },
    {
      "cell_type": "code",
      "metadata": {
        "id": "SnANlxwYMcNX",
        "colab_type": "code",
        "colab": {
          "base_uri": "https://localhost:8080/",
          "height": 343
        },
        "outputId": "fc1f931f-1fef-41bb-f0c5-da2b02d9524d"
      },
      "source": [
        "x_train[5002]"
      ],
      "execution_count": null,
      "outputs": [
        {
          "output_type": "execute_result",
          "data": {
            "text/plain": [
              "array([   0,    0,    0,    0,    0,    0,    0,    0,    0,    0,    0,\n",
              "          0,    0,    0,    0,    0,    0,    0,    0,    0,    0,    0,\n",
              "          0,    0,    0,    0,    0,    0,    0,    0,    0,    0,    0,\n",
              "          0,    0,    0,    0,    0,    0,    0,    0,    0,    0,    0,\n",
              "          0,    0,    0,    0,    0,    0,    0,    0,    0,    0,    0,\n",
              "          0,    0,    0,    0,    0,    0,    0,    0,    0,    0,    0,\n",
              "          0,    0,    0,    1,  103,   51,   13,  197,   16,    6, 4796,\n",
              "        239,    7,  107,  555,   11,  132,   39, 8921, 1872,  138,   16,\n",
              "       4093, 1768, 2959,   34, 1620,    2,   11,    4,  755,   12,   43,\n",
              "        286,    4,  172,  209,    2,    5, 5938,   17, 1000,   34, 1768,\n",
              "        279,   29, 3892,   89,  338,    4,  114,   16, 1240, 1747,  103,\n",
              "       3844, 3819,    8,  169, 2875,  112, 7062,   34,  160,  132,   29,\n",
              "        100,   24,  535,  101,  250,    8,  858,   15,  196,   19,   57,\n",
              "       3154,   39,   90,    5,   24,  169, 3533,   18,    6,  910,   20,\n",
              "         14, 1367, 3939, 1101,  935,    4,  545, 1744,  173,   54, 1240,\n",
              "       2875,    2,   56,  209,  112, 1021,   55,  835,  179,   35, 2384,\n",
              "          8,  529, 1663, 1793,    8, 1066,    7,   61,  223,  637, 1231,\n",
              "         19,    4,   86,   31,    5,  353,    8,  859,   13,  126,  219,\n",
              "          4,  755], dtype=int32)"
            ]
          },
          "metadata": {
            "tags": []
          },
          "execution_count": 17
        }
      ]
    },
    {
      "cell_type": "markdown",
      "metadata": {
        "id": "rhSLT9WjTeMk",
        "colab_type": "text"
      },
      "source": [
        "## Создание нейронной сети"
      ]
    },
    {
      "cell_type": "code",
      "metadata": {
        "id": "Lrzx1e4xTgzL",
        "colab_type": "code",
        "colab": {}
      },
      "source": [
        "model = Sequential()\n",
        "model.add(Embedding(max_words, 8, input_length=maxlen))\n",
        "model.add(GRU(32))\n",
        "model.add(Dense(1, activation='sigmoid'))"
      ],
      "execution_count": null,
      "outputs": []
    },
    {
      "cell_type": "code",
      "metadata": {
        "id": "u1yNam-uSunE",
        "colab_type": "code",
        "colab": {}
      },
      "source": [
        "model.compile(optimizer='adam', \n",
        "              loss='binary_crossentropy', \n",
        "              metrics=['accuracy'])"
      ],
      "execution_count": null,
      "outputs": []
    },
    {
      "cell_type": "markdown",
      "metadata": {
        "id": "9CHZwMttYMTb",
        "colab_type": "text"
      },
      "source": [
        "## Обучаем нейронную сеть"
      ]
    },
    {
      "cell_type": "code",
      "metadata": {
        "id": "AkmNH7ahYLyc",
        "colab_type": "code",
        "colab": {
          "base_uri": "https://localhost:8080/",
          "height": 740
        },
        "outputId": "6c3aa43b-b05f-4d57-bc51-9e9978dbeb54"
      },
      "source": [
        "history = model.fit(x_train, \n",
        "                    y_train, \n",
        "                    epochs=20,\n",
        "                    batch_size=128,\n",
        "                    validation_split=0.1)"
      ],
      "execution_count": null,
      "outputs": [
        {
          "output_type": "stream",
          "text": [
            "Train on 22500 samples, validate on 2500 samples\n",
            "Epoch 1/20\n",
            "22500/22500 [==============================] - 5s 200us/sample - loss: 0.5596 - accuracy: 0.6806 - val_loss: 0.3535 - val_accuracy: 0.8464\n",
            "Epoch 2/20\n",
            "22500/22500 [==============================] - 3s 119us/sample - loss: 0.2856 - accuracy: 0.8849 - val_loss: 0.3355 - val_accuracy: 0.8552\n",
            "Epoch 3/20\n",
            "22500/22500 [==============================] - 3s 122us/sample - loss: 0.2091 - accuracy: 0.9210 - val_loss: 0.3226 - val_accuracy: 0.8632\n",
            "Epoch 4/20\n",
            "22500/22500 [==============================] - 3s 119us/sample - loss: 0.1717 - accuracy: 0.9382 - val_loss: 0.3608 - val_accuracy: 0.8656\n",
            "Epoch 5/20\n",
            "22500/22500 [==============================] - 3s 120us/sample - loss: 0.1445 - accuracy: 0.9491 - val_loss: 0.3588 - val_accuracy: 0.8588\n",
            "Epoch 6/20\n",
            "22500/22500 [==============================] - 3s 121us/sample - loss: 0.1229 - accuracy: 0.9590 - val_loss: 0.3950 - val_accuracy: 0.8644\n",
            "Epoch 7/20\n",
            "22500/22500 [==============================] - 3s 120us/sample - loss: 0.1068 - accuracy: 0.9644 - val_loss: 0.4348 - val_accuracy: 0.8616\n",
            "Epoch 8/20\n",
            "22500/22500 [==============================] - 3s 124us/sample - loss: 0.0941 - accuracy: 0.9693 - val_loss: 0.4450 - val_accuracy: 0.8632\n",
            "Epoch 9/20\n",
            "22500/22500 [==============================] - 3s 119us/sample - loss: 0.0845 - accuracy: 0.9734 - val_loss: 0.5212 - val_accuracy: 0.8612\n",
            "Epoch 10/20\n",
            "22500/22500 [==============================] - 3s 123us/sample - loss: 0.0701 - accuracy: 0.9794 - val_loss: 0.5433 - val_accuracy: 0.8564\n",
            "Epoch 11/20\n",
            "22500/22500 [==============================] - 3s 125us/sample - loss: 0.0616 - accuracy: 0.9824 - val_loss: 0.5488 - val_accuracy: 0.8540\n",
            "Epoch 12/20\n",
            "22500/22500 [==============================] - 3s 120us/sample - loss: 0.0672 - accuracy: 0.9788 - val_loss: 0.6247 - val_accuracy: 0.8512\n",
            "Epoch 13/20\n",
            "22500/22500 [==============================] - 3s 119us/sample - loss: 0.0602 - accuracy: 0.9802 - val_loss: 0.6337 - val_accuracy: 0.8588\n",
            "Epoch 14/20\n",
            "22500/22500 [==============================] - 3s 122us/sample - loss: 0.0532 - accuracy: 0.9829 - val_loss: 0.6126 - val_accuracy: 0.8556\n",
            "Epoch 15/20\n",
            "22500/22500 [==============================] - 3s 120us/sample - loss: 0.0401 - accuracy: 0.9891 - val_loss: 0.6632 - val_accuracy: 0.8516\n",
            "Epoch 16/20\n",
            "22500/22500 [==============================] - 3s 121us/sample - loss: 0.0360 - accuracy: 0.9901 - val_loss: 0.7201 - val_accuracy: 0.8496\n",
            "Epoch 17/20\n",
            "22500/22500 [==============================] - 3s 124us/sample - loss: 0.0299 - accuracy: 0.9923 - val_loss: 0.7591 - val_accuracy: 0.8456\n",
            "Epoch 18/20\n",
            "22500/22500 [==============================] - 3s 128us/sample - loss: 0.0317 - accuracy: 0.9913 - val_loss: 0.7741 - val_accuracy: 0.8488\n",
            "Epoch 19/20\n",
            "22500/22500 [==============================] - 3s 124us/sample - loss: 0.0383 - accuracy: 0.9882 - val_loss: 0.7704 - val_accuracy: 0.8448\n",
            "Epoch 20/20\n",
            "22500/22500 [==============================] - 3s 126us/sample - loss: 0.0343 - accuracy: 0.9895 - val_loss: 0.8225 - val_accuracy: 0.8472\n"
          ],
          "name": "stdout"
        }
      ]
    },
    {
      "cell_type": "code",
      "metadata": {
        "id": "a19UCeAMDhQK",
        "colab_type": "code",
        "colab": {
          "base_uri": "https://localhost:8080/",
          "height": 279
        },
        "outputId": "54c17ddc-21ac-4dd8-b737-5e2e00deba95"
      },
      "source": [
        "plt.plot(history.history['accuracy'], \n",
        "         label='Доля верных ответов на обучающем наборе')\n",
        "plt.plot(history.history['val_accuracy'], \n",
        "         label='Доля верных ответов на проверочном наборе')\n",
        "plt.xlabel('Эпоха обучения')\n",
        "plt.ylabel('Доля верных ответов')\n",
        "plt.legend()\n",
        "plt.show()"
      ],
      "execution_count": null,
      "outputs": [
        {
          "output_type": "display_data",
          "data": {
            "image/png": "[encoded data removed]",
            "text/plain": [
              "<Figure size 432x288 with 1 Axes>"
            ]
          },
          "metadata": {
            "tags": []
          }
        }
      ]
    },
    {
      "cell_type": "markdown",
      "metadata": {
        "id": "HnnIy3JlEGqW",
        "colab_type": "text"
      },
      "source": [
        "## Проверяем работу сети на тестовом наборе данных"
      ]
    },
    {
      "cell_type": "code",
      "metadata": {
        "id": "J1_ilV14EKBO",
        "colab_type": "code",
        "colab": {
          "base_uri": "https://localhost:8080/",
          "height": 34
        },
        "outputId": "6ad285f2-164c-4bca-8b13-4dc7d83e190b"
      },
      "source": [
        "scores = model.evaluate(x_test, y_test, verbose=1)"
      ],
      "execution_count": null,
      "outputs": [
        {
          "output_type": "stream",
          "text": [
            "25000/25000 [==============================] - 5s 186us/sample - loss: 0.9324 - accuracy: 0.8269\n"
          ],
          "name": "stdout"
        }
      ]
    },
    {
      "cell_type": "markdown",
      "metadata": {
        "id": "OdzGTAjoaUBo",
        "colab_type": "text"
      },
      "source": [
        "## Архитектуры нейронных сетей для анализа текстов\n",
        "\n",
        "1. [Определение тональности отзывов на фильмы из базы IMDB с помощью простых рекуррентных нейросетей](https://colab.research.google.com/drive/19RAxAnIV0fDXAcE1T23TPkzi4ZPFQXdB).\n",
        "2. [Определение тональности отзывов на фильмы из базы IMDB с помощью сетей LSTM](https://colab.research.google.com/drive/1FQjetRIkWYxmm87JKUbVSJrRS2vNLPpV).\n",
        "3. [Определение тональности отзывов на фильмы из базы IMDB с помощью сетей GRU](https://colab.research.google.com/drive/1IGJPwFkTdpbyagQ5jiIRJBA01xlfc18t)."
      ]
    }
  ]
}