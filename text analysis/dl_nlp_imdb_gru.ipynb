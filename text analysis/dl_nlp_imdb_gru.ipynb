{
  "nbformat": 4,
  "nbformat_minor": 0,
  "metadata": {
    "colab": {
      "name": "dl_nlp_imdb_gru.ipynb",
      "provenance": [],
      "include_colab_link": true
    },
    "kernelspec": {
      "name": "python3",
      "display_name": "Python 3"
    },
    "accelerator": "GPU"
  },
  "cells": [
    {
      "cell_type": "markdown",
      "metadata": {
        "id": "view-in-github",
        "colab_type": "text"
      },
      "source": [
        "<a href=\"https://colab.research.google.com/github/vasiliyeskin/MachineLearningExperiences/blob/master/text%20analysis/dl_nlp_imdb_gru.ipynb\" target=\"_parent\"><img src=\"https://colab.research.google.com/assets/colab-badge.svg\" alt=\"Open In Colab\"/></a>"
      ]
    },
    {
      "cell_type": "markdown",
      "metadata": {
        "id": "Lv1nORvnYVQn",
        "colab_type": "text"
      },
      "source": [
        "## Определение тональности текста отзывов на фильмы IMDB с помощью сети GRU\n",
        "\n",
        "Учебный курс \"[Нейросети для анализа текстов](https://www.asozykin.ru/courses/nnpython)\".\n",
        "\n",
        "Чтобы запускать и редактировать код, сохраните копию этого ноутбука себе (File->Save a copy in Drive...). Свою копию вы сможете изменять и запускать.\n",
        "\n",
        "Не забудьте подключить GPU, чтобы сеть обучалась быстрее (Runtime -> Change Runtime Type -> Hardware Accelerator -> GPU)."
      ]
    },
    {
      "cell_type": "code",
      "metadata": {
        "id": "lpsyhVlJX5XH",
        "colab_type": "code",
        "colab": {}
      },
      "source": [
        "%tensorflow_version 2.x\n",
        "from tensorflow.keras.datasets import imdb\n",
        "from tensorflow.keras.models import Sequential\n",
        "from tensorflow.keras.layers import Dense, Embedding, GRU \n",
        "from tensorflow.keras import utils\n",
        "from tensorflow.keras.preprocessing.sequence import pad_sequences\n",
        "import numpy as np\n",
        "import matplotlib.pyplot as plt\n",
        "%matplotlib inline "
      ],
      "execution_count": 1,
      "outputs": []
    },
    {
      "cell_type": "markdown",
      "metadata": {
        "id": "xGDJkdINNWVh",
        "colab_type": "text"
      },
      "source": [
        "## Загружаем данные"
      ]
    },
    {
      "cell_type": "code",
      "metadata": {
        "id": "kBUUyZ4cbxoM",
        "colab_type": "code",
        "colab": {}
      },
      "source": [
        "max_words=10000"
      ],
      "execution_count": 2,
      "outputs": []
    },
    {
      "cell_type": "code",
      "metadata": {
        "id": "toRj2Xs1NZgB",
        "colab_type": "code",
        "colab": {
          "base_uri": "https://localhost:8080/",
          "height": 50
        },
        "outputId": "a1b93a4d-f5e4-488d-9332-d93003483b90"
      },
      "source": [
        "(x_train, y_train), (x_test, y_test) = imdb.load_data(num_words=max_words)"
      ],
      "execution_count": 3,
      "outputs": [
        {
          "output_type": "stream",
          "text": [
            "Downloading data from https://storage.googleapis.com/tensorflow/tf-keras-datasets/imdb.npz\n",
            "17465344/17464789 [==============================] - 0s 0us/step\n"
          ],
          "name": "stdout"
        }
      ]
    },
    {
      "cell_type": "markdown",
      "metadata": {
        "id": "kiA7X0oWaS9Z",
        "colab_type": "text"
      },
      "source": [
        "## Подготовка данных для обучения"
      ]
    },
    {
      "cell_type": "code",
      "metadata": {
        "id": "PiZZxRZhMVWv",
        "colab_type": "code",
        "colab": {}
      },
      "source": [
        "maxlen = 200"
      ],
      "execution_count": 4,
      "outputs": []
    },
    {
      "cell_type": "code",
      "metadata": {
        "id": "0YrjnapvMVwf",
        "colab_type": "code",
        "colab": {}
      },
      "source": [
        "x_train = pad_sequences(x_train, maxlen=maxlen)\n",
        "x_test = pad_sequences(x_test, maxlen=maxlen)"
      ],
      "execution_count": 5,
      "outputs": []
    },
    {
      "cell_type": "code",
      "metadata": {
        "id": "SnANlxwYMcNX",
        "colab_type": "code",
        "colab": {
          "base_uri": "https://localhost:8080/",
          "height": 334
        },
        "outputId": "14ebd8af-51db-4623-ddf6-b66b9e504a63"
      },
      "source": [
        "x_train[5002]"
      ],
      "execution_count": 6,
      "outputs": [
        {
          "output_type": "execute_result",
          "data": {
            "text/plain": [
              "array([   0,    0,    0,    0,    0,    0,    0,    0,    0,    0,    0,\n",
              "          0,    0,    0,    0,    0,    0,    0,    0,    0,    0,    0,\n",
              "          0,    0,    0,    0,    0,    0,    0,    0,    0,    0,    0,\n",
              "          0,    0,    0,    0,    0,    0,    0,    0,    0,    0,    0,\n",
              "          0,    0,    0,    0,    0,    0,    0,    0,    0,    0,    0,\n",
              "          0,    0,    0,    0,    0,    0,    0,    0,    0,    0,    0,\n",
              "          0,    0,    0,    1,  103,   51,   13,  197,   16,    6, 4796,\n",
              "        239,    7,  107,  555,   11,  132,   39, 8921, 1872,  138,   16,\n",
              "       4093, 1768, 2959,   34, 1620,    2,   11,    4,  755,   12,   43,\n",
              "        286,    4,  172,  209,    2,    5, 5938,   17, 1000,   34, 1768,\n",
              "        279,   29, 3892,   89,  338,    4,  114,   16, 1240, 1747,  103,\n",
              "       3844, 3819,    8,  169, 2875,  112, 7062,   34,  160,  132,   29,\n",
              "        100,   24,  535,  101,  250,    8,  858,   15,  196,   19,   57,\n",
              "       3154,   39,   90,    5,   24,  169, 3533,   18,    6,  910,   20,\n",
              "         14, 1367, 3939, 1101,  935,    4,  545, 1744,  173,   54, 1240,\n",
              "       2875,    2,   56,  209,  112, 1021,   55,  835,  179,   35, 2384,\n",
              "          8,  529, 1663, 1793,    8, 1066,    7,   61,  223,  637, 1231,\n",
              "         19,    4,   86,   31,    5,  353,    8,  859,   13,  126,  219,\n",
              "          4,  755], dtype=int32)"
            ]
          },
          "metadata": {
            "tags": []
          },
          "execution_count": 6
        }
      ]
    },
    {
      "cell_type": "markdown",
      "metadata": {
        "id": "rhSLT9WjTeMk",
        "colab_type": "text"
      },
      "source": [
        "## Создание нейронной сети"
      ]
    },
    {
      "cell_type": "code",
      "metadata": {
        "id": "Lrzx1e4xTgzL",
        "colab_type": "code",
        "colab": {}
      },
      "source": [
        "model = Sequential()\n",
        "model.add(Embedding(max_words, 8, input_length=maxlen))\n",
        "model.add(GRU(32))\n",
        "model.add(Dense(1, activation='sigmoid'))"
      ],
      "execution_count": 7,
      "outputs": []
    },
    {
      "cell_type": "code",
      "metadata": {
        "id": "u1yNam-uSunE",
        "colab_type": "code",
        "colab": {}
      },
      "source": [
        "model.compile(optimizer='adam', \n",
        "              loss='binary_crossentropy', \n",
        "              metrics=['accuracy'])"
      ],
      "execution_count": 9,
      "outputs": []
    },
    {
      "cell_type": "markdown",
      "metadata": {
        "id": "9CHZwMttYMTb",
        "colab_type": "text"
      },
      "source": [
        "## Обучаем нейронную сеть"
      ]
    },
    {
      "cell_type": "code",
      "metadata": {
        "id": "AkmNH7ahYLyc",
        "colab_type": "code",
        "colab": {
          "base_uri": "https://localhost:8080/",
          "height": 686
        },
        "outputId": "1d7d4935-25f3-47d2-8448-6ae584afa97f"
      },
      "source": [
        "history = model.fit(x_train, \n",
        "                    y_train, \n",
        "                    epochs=20,\n",
        "                    batch_size=128,\n",
        "                    validation_split=0.1)"
      ],
      "execution_count": 10,
      "outputs": [
        {
          "output_type": "stream",
          "text": [
            "Epoch 1/20\n",
            "176/176 [==============================] - 2s 14ms/step - loss: 0.5267 - accuracy: 0.7118 - val_loss: 0.3335 - val_accuracy: 0.8624\n",
            "Epoch 2/20\n",
            "176/176 [==============================] - 2s 11ms/step - loss: 0.2706 - accuracy: 0.8928 - val_loss: 0.3079 - val_accuracy: 0.8804\n",
            "Epoch 3/20\n",
            "176/176 [==============================] - 2s 12ms/step - loss: 0.1987 - accuracy: 0.9253 - val_loss: 0.3086 - val_accuracy: 0.8744\n",
            "Epoch 4/20\n",
            "176/176 [==============================] - 2s 12ms/step - loss: 0.1655 - accuracy: 0.9380 - val_loss: 0.3208 - val_accuracy: 0.8804\n",
            "Epoch 5/20\n",
            "176/176 [==============================] - 2s 12ms/step - loss: 0.1294 - accuracy: 0.9568 - val_loss: 0.3560 - val_accuracy: 0.8704\n",
            "Epoch 6/20\n",
            "176/176 [==============================] - 2s 12ms/step - loss: 0.1110 - accuracy: 0.9638 - val_loss: 0.3728 - val_accuracy: 0.8648\n",
            "Epoch 7/20\n",
            "176/176 [==============================] - 2s 12ms/step - loss: 0.0892 - accuracy: 0.9723 - val_loss: 0.4416 - val_accuracy: 0.8584\n",
            "Epoch 8/20\n",
            "176/176 [==============================] - 2s 12ms/step - loss: 0.0776 - accuracy: 0.9758 - val_loss: 0.5111 - val_accuracy: 0.8608\n",
            "Epoch 9/20\n",
            "176/176 [==============================] - 2s 12ms/step - loss: 0.0808 - accuracy: 0.9729 - val_loss: 0.5339 - val_accuracy: 0.8528\n",
            "Epoch 10/20\n",
            "176/176 [==============================] - 2s 12ms/step - loss: 0.0661 - accuracy: 0.9802 - val_loss: 0.5592 - val_accuracy: 0.8600\n",
            "Epoch 11/20\n",
            "176/176 [==============================] - 2s 12ms/step - loss: 0.0506 - accuracy: 0.9853 - val_loss: 0.5780 - val_accuracy: 0.8520\n",
            "Epoch 12/20\n",
            "176/176 [==============================] - 2s 11ms/step - loss: 0.0508 - accuracy: 0.9851 - val_loss: 0.6315 - val_accuracy: 0.8576\n",
            "Epoch 13/20\n",
            "176/176 [==============================] - 2s 12ms/step - loss: 0.0542 - accuracy: 0.9827 - val_loss: 0.5847 - val_accuracy: 0.8552\n",
            "Epoch 14/20\n",
            "176/176 [==============================] - 2s 12ms/step - loss: 0.0429 - accuracy: 0.9875 - val_loss: 0.6141 - val_accuracy: 0.8552\n",
            "Epoch 15/20\n",
            "176/176 [==============================] - 2s 12ms/step - loss: 0.0275 - accuracy: 0.9936 - val_loss: 0.7069 - val_accuracy: 0.8520\n",
            "Epoch 16/20\n",
            "176/176 [==============================] - 2s 12ms/step - loss: 0.0288 - accuracy: 0.9922 - val_loss: 0.7482 - val_accuracy: 0.8560\n",
            "Epoch 17/20\n",
            "176/176 [==============================] - 2s 12ms/step - loss: 0.0412 - accuracy: 0.9864 - val_loss: 0.7757 - val_accuracy: 0.8576\n",
            "Epoch 18/20\n",
            "176/176 [==============================] - 2s 12ms/step - loss: 0.0296 - accuracy: 0.9919 - val_loss: 0.7929 - val_accuracy: 0.8568\n",
            "Epoch 19/20\n",
            "176/176 [==============================] - 2s 12ms/step - loss: 0.0207 - accuracy: 0.9945 - val_loss: 0.7410 - val_accuracy: 0.8548\n",
            "Epoch 20/20\n",
            "176/176 [==============================] - 2s 12ms/step - loss: 0.0413 - accuracy: 0.9862 - val_loss: 0.6750 - val_accuracy: 0.8564\n"
          ],
          "name": "stdout"
        }
      ]
    },
    {
      "cell_type": "code",
      "metadata": {
        "id": "a19UCeAMDhQK",
        "colab_type": "code",
        "colab": {
          "base_uri": "https://localhost:8080/",
          "height": 279
        },
        "outputId": "12e4e36c-dc31-4a4a-ad42-2688f12fe1a7"
      },
      "source": [
        "plt.plot(history.history['accuracy'], \n",
        "         label='Доля верных ответов на обучающем наборе')\n",
        "plt.plot(history.history['val_accuracy'], \n",
        "         label='Доля верных ответов на проверочном наборе')\n",
        "plt.xlabel('Эпоха обучения')\n",
        "plt.ylabel('Доля верных ответов')\n",
        "plt.legend()\n",
        "plt.show()"
      ],
      "execution_count": 11,
      "outputs": [
        {
          "output_type": "display_data",
          "data": {
            "image/png": "[encoded data removed]",
            "text/plain": [
              "<Figure size 432x288 with 1 Axes>"
            ]
          },
          "metadata": {
            "tags": [],
            "needs_background": "light"
          }
        }
      ]
    },
    {
      "cell_type": "markdown",
      "metadata": {
        "id": "HnnIy3JlEGqW",
        "colab_type": "text"
      },
      "source": [
        "## Проверяем работу сети на тестовом наборе данных"
      ]
    },
    {
      "cell_type": "code",
      "metadata": {
        "id": "J1_ilV14EKBO",
        "colab_type": "code",
        "colab": {
          "base_uri": "https://localhost:8080/",
          "height": 33
        },
        "outputId": "bea9745a-b992-4dd8-c7f6-8f4c8bf0e2fa"
      },
      "source": [
        "scores = model.evaluate(x_test, y_test, verbose=1)"
      ],
      "execution_count": 12,
      "outputs": [
        {
          "output_type": "stream",
          "text": [
            "782/782 [==============================] - 4s 5ms/step - loss: 0.7541 - accuracy: 0.8350\n"
          ],
          "name": "stdout"
        }
      ]
    },
    {
      "cell_type": "markdown",
      "metadata": {
        "id": "OdzGTAjoaUBo",
        "colab_type": "text"
      },
      "source": [
        "## Архитектуры нейронных сетей для анализа текстов\n",
        "\n",
        "1. [Определение тональности отзывов на фильмы из базы IMDB с помощью простых рекуррентных нейросетей](https://colab.research.google.com/drive/19RAxAnIV0fDXAcE1T23TPkzi4ZPFQXdB).\n",
        "2. [Определение тональности отзывов на фильмы из базы IMDB с помощью сетей LSTM](https://colab.research.google.com/drive/1FQjetRIkWYxmm87JKUbVSJrRS2vNLPpV).\n",
        "3. [Определение тональности отзывов на фильмы из базы IMDB с помощью сетей GRU](https://colab.research.google.com/drive/1IGJPwFkTdpbyagQ5jiIRJBA01xlfc18t)."
      ]
    }
  ]
}