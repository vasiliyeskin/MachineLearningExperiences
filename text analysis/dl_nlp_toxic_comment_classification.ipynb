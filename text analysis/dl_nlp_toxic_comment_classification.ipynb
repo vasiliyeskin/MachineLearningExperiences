{
  "nbformat": 4,
  "nbformat_minor": 0,
  "metadata": {
    "colab": {
      "name": "dl_nlp_toxic_comment_classification.ipynb",
      "provenance": [],
      "collapsed_sections": [],
      "include_colab_link": true
    },
    "kernelspec": {
      "name": "python3",
      "display_name": "Python 3"
    },
    "accelerator": "GPU"
  },
  "cells": [
    {
      "cell_type": "markdown",
      "metadata": {
        "id": "view-in-github",
        "colab_type": "text"
      },
      "source": [
        "<a href=\"https://colab.research.google.com/github/vasiliyeskin/MachineLearningExperiences/blob/master/text%20analysis/dl_nlp_toxic_comment_classification.ipynb\" target=\"_parent\"><img src=\"https://colab.research.google.com/assets/colab-badge.svg\" alt=\"Open In Colab\"/></a>"
      ]
    },
    {
      "cell_type": "markdown",
      "metadata": {
        "id": "K-BAqDEY4ldv",
        "colab_type": "text"
      },
      "source": [
        "## Классификация [токсичных комментариев](https://www.kaggle.com/c/jigsaw-toxic-comment-classification-challenge)\n",
        "\n",
        "Пример решения задачи многозначной классификации. Архитектура сети основывается на [описании решения](https://www.kaggle.com/c/jigsaw-toxic-comment-classification-challenge/discussion/52644) 3 места в конкурсе.\n",
        "\n",
        "Учебный курс \"[Нейросети для анализа текстов](https://www.asozykin.ru/courses/nnpython)\".\n",
        "\n",
        "Чтобы запускать и редактировать код, сохраните копию этого ноутбука себе (File->Save a copy in Drive...). Свою копию вы сможете изменять и запускать.\n",
        "\n",
        "Не забудьте подключить GPU, чтобы сеть обучалась быстрее (Runtime -> Change Runtime Type -> Hardware Accelerator -> GPU)."
      ]
    },
    {
      "cell_type": "code",
      "metadata": {
        "id": "fN251ib04idq",
        "colab_type": "code",
        "colab": {}
      },
      "source": [
        "%tensorflow_version 2.x\n",
        "from tensorflow.keras.models import Sequential\n",
        "from tensorflow.keras.layers import Dense, Embedding, MaxPooling1D, Dropout, LSTM, Bidirectional, SpatialDropout1D\n",
        "from tensorflow.keras import utils\n",
        "from tensorflow.keras.preprocessing.sequence import pad_sequences\n",
        "from tensorflow.keras.preprocessing.text import Tokenizer\n",
        "from tensorflow.keras.callbacks import ModelCheckpoint\n",
        "from tensorflow.keras import utils\n",
        "from google.colab import files\n",
        "import pandas as pd\n",
        "import numpy as np\n",
        "import matplotlib.pyplot as plt\n",
        "%matplotlib inline "
      ],
      "execution_count": null,
      "outputs": []
    },
    {
      "cell_type": "code",
      "metadata": {
        "id": "KVUY1PF0L_mF",
        "colab_type": "code",
        "colab": {}
      },
      "source": [
        "# Максимальное количество слов \n",
        "num_words = 10000\n",
        "# Максимальная длина комментария\n",
        "max_comment_len = 50"
      ],
      "execution_count": null,
      "outputs": []
    },
    {
      "cell_type": "markdown",
      "metadata": {
        "id": "tv_W3Xw2XKin",
        "colab_type": "text"
      },
      "source": [
        "## Настраиваем Kaggle API\n",
        "\n",
        "Загружаем [Kaggle API Tocken для аутентификации на Kaggle](https://www.kaggle.com/docs/api). Загрузите файл kaggle.json, который вы создали на сайте Kaggle (My Account -> API -> Create New API Token)\n",
        "\n"
      ]
    },
    {
      "cell_type": "code",
      "metadata": {
        "id": "_o5yFECWXbDb",
        "colab_type": "code",
        "colab": {
          "resources": {
            "http://localhost:8080/nbextensions/google.colab/files.js": {
              "data": "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",
              "ok": true,
              "headers": [
                [
                  "content-type",
                  "application/javascript"
                ]
              ],
              "status": 200,
              "status_text": ""
            }
          },
          "base_uri": "https://localhost:8080/",
          "height": 75
        },
        "outputId": "3fc15144-3017-4013-fc72-90dc886c7d7b"
      },
      "source": [
        "api_tocken = files.upload()"
      ],
      "execution_count": null,
      "outputs": [
        {
          "output_type": "display_data",
          "data": {
            "text/html": [
              "\n",
              "     <input type=\"file\" id=\"files-d0edd0b2-e023-4b85-8098-7933cf531d8b\" name=\"files[]\" multiple disabled />\n",
              "     <output id=\"result-d0edd0b2-e023-4b85-8098-7933cf531d8b\">\n",
              "      Upload widget is only available when the cell has been executed in the\n",
              "      current browser session. Please rerun this cell to enable.\n",
              "      </output>\n",
              "      <script src=\"/nbextensions/google.colab/files.js\"></script> "
            ],
            "text/plain": [
              "<IPython.core.display.HTML object>"
            ]
          },
          "metadata": {
            "tags": []
          }
        },
        {
          "output_type": "stream",
          "text": [
            "Saving kaggle.json to kaggle.json\n"
          ],
          "name": "stdout"
        }
      ]
    },
    {
      "cell_type": "code",
      "metadata": {
        "id": "YSQ_vuwWYSmr",
        "colab_type": "code",
        "colab": {}
      },
      "source": [
        "!mkdir /root/.kaggle\n",
        "!mv kaggle.json /root/.kaggle"
      ],
      "execution_count": null,
      "outputs": []
    },
    {
      "cell_type": "markdown",
      "metadata": {
        "id": "S6itvI2G5H1k",
        "colab_type": "text"
      },
      "source": [
        "## Загрузка набора данных"
      ]
    },
    {
      "cell_type": "code",
      "metadata": {
        "id": "D4u76N7ZYKiz",
        "colab_type": "code",
        "colab": {
          "base_uri": "https://localhost:8080/",
          "height": 277
        },
        "outputId": "ef87dd8b-9f56-4357-a3c2-d3cede08f2da"
      },
      "source": [
        "!kaggle competitions download -c jigsaw-toxic-comment-classification-challenge"
      ],
      "execution_count": null,
      "outputs": [
        {
          "output_type": "stream",
          "text": [
            "Warning: Your Kaggle API key is readable by other users on this system! To fix this, you can run 'chmod 600 /root/.kaggle/kaggle.json'\n",
            "Warning: Looks like you're using an outdated API Version, please consider updating (server 1.5.6 / client 1.5.4)\n",
            "Downloading test.csv.zip to /content\n",
            " 38% 9.00M/23.4M [00:01<00:01, 9.43MB/s]\n",
            "100% 23.4M/23.4M [00:01<00:00, 22.0MB/s]\n",
            "Downloading sample_submission.csv.zip to /content\n",
            "  0% 0.00/1.39M [00:00<?, ?B/s]\n",
            "100% 1.39M/1.39M [00:00<00:00, 45.4MB/s]\n",
            "Downloading train.csv.zip to /content\n",
            " 99% 26.0M/26.3M [00:00<00:00, 27.0MB/s]\n",
            "100% 26.3M/26.3M [00:00<00:00, 48.9MB/s]\n",
            "Downloading test_labels.csv.zip to /content\n",
            "  0% 0.00/1.46M [00:00<?, ?B/s]\n",
            "100% 1.46M/1.46M [00:00<00:00, 206MB/s]\n"
          ],
          "name": "stdout"
        }
      ]
    },
    {
      "cell_type": "code",
      "metadata": {
        "id": "rYUVPiydYfgk",
        "colab_type": "code",
        "colab": {
          "base_uri": "https://localhost:8080/",
          "height": 51
        },
        "outputId": "c71303c6-0070-4341-ea80-cb2b1988782f"
      },
      "source": [
        "!unzip train.csv.zip"
      ],
      "execution_count": null,
      "outputs": [
        {
          "output_type": "stream",
          "text": [
            "Archive:  train.csv.zip\n",
            "  inflating: train.csv               \n"
          ],
          "name": "stdout"
        }
      ]
    },
    {
      "cell_type": "code",
      "metadata": {
        "id": "JWa_PvcQYm9K",
        "colab_type": "code",
        "colab": {
          "base_uri": "https://localhost:8080/",
          "height": 86
        },
        "outputId": "b3d3686e-cb6b-41f2-c62c-f25d0238e177"
      },
      "source": [
        "!unzip test.csv.zip\n",
        "!unzip test_labels.csv.zip"
      ],
      "execution_count": null,
      "outputs": [
        {
          "output_type": "stream",
          "text": [
            "Archive:  test.csv.zip\n",
            "  inflating: test.csv                \n",
            "Archive:  test_labels.csv.zip\n",
            "  inflating: test_labels.csv         \n"
          ],
          "name": "stdout"
        }
      ]
    },
    {
      "cell_type": "markdown",
      "metadata": {
        "id": "131Gk9fzGVMg",
        "colab_type": "text"
      },
      "source": [
        "## Просматриваем данные"
      ]
    },
    {
      "cell_type": "code",
      "metadata": {
        "id": "V116c5A82IeD",
        "colab_type": "code",
        "colab": {
          "base_uri": "https://localhost:8080/",
          "height": 51
        },
        "outputId": "6939b8ab-d69d-4e28-e943-641316f51323"
      },
      "source": [
        "!ls"
      ],
      "execution_count": null,
      "outputs": [
        {
          "output_type": "stream",
          "text": [
            "sample_data\t\t   test.csv\t test_labels.csv      train.csv\n",
            "sample_submission.csv.zip  test.csv.zip  test_labels.csv.zip  train.csv.zip\n"
          ],
          "name": "stdout"
        }
      ]
    },
    {
      "cell_type": "code",
      "metadata": {
        "id": "uRj7M24mGRmH",
        "colab_type": "code",
        "colab": {
          "base_uri": "https://localhost:8080/",
          "height": 380
        },
        "outputId": "465ab6f1-171c-4f8b-b3a1-bcef619bfa8d"
      },
      "source": [
        "!head -20 train.csv"
      ],
      "execution_count": null,
      "outputs": [
        {
          "output_type": "stream",
          "text": [
            "\"id\",\"comment_text\",\"toxic\",\"severe_toxic\",\"obscene\",\"threat\",\"insult\",\"identity_hate\"\n",
            "\"0000997932d777bf\",\"Explanation\n",
            "Why the edits made under my username Hardcore Metallica Fan were reverted? They weren't vandalisms, just closure on some GAs after I voted at New York Dolls FAC. And please don't remove the template from the talk page since I'm retired now.89.205.38.27\",0,0,0,0,0,0\n",
            "\"000103f0d9cfb60f\",\"D'aww! He matches this background colour I'm seemingly stuck with. Thanks.  (talk) 21:51, January 11, 2016 (UTC)\",0,0,0,0,0,0\n",
            "\"000113f07ec002fd\",\"Hey man, I'm really not trying to edit war. It's just that this guy is constantly removing relevant information and talking to me through edits instead of my talk page. He seems to care more about the formatting than the actual info.\",0,0,0,0,0,0\n",
            "\"0001b41b1c6bb37e\",\"\"\"\n",
            "More\n",
            "I can't make any real suggestions on improvement - I wondered if the section statistics should be later on, or a subsection of \"\"\"\"types of accidents\"\"\"\"  -I think the references may need tidying so that they are all in the exact same format ie date format etc. I can do that later on, if no-one else does first - if you have any preferences for formatting style on references or want to do it yourself please let me know.\n",
            "\n",
            "There appears to be a backlog on articles for review so I guess there may be a delay until a reviewer turns up. It's listed in the relevant form eg Wikipedia:Good_article_nominations#Transport  \"\"\",0,0,0,0,0,0\n",
            "\"0001d958c54c6e35\",\"You, sir, are my hero. Any chance you remember what page that's on?\",0,0,0,0,0,0\n",
            "\"00025465d4725e87\",\"\"\"\n",
            "\n",
            "Congratulations from me as well, use the tools well.  · talk \"\"\",0,0,0,0,0,0\n",
            "\"0002bcb3da6cb337\",\"COCKSUCKER BEFORE YOU PISS AROUND ON MY WORK\",1,1,1,0,1,0\n",
            "\"00031b1e95af7921\",\"Your vandalism to the Matt Shirvington article has been reverted.  Please don't do it again, or you will be banned.\",0,0,0,0,0,0\n",
            "\"00037261f536c51d\",\"Sorry if the word 'nonsense' was offensive to you. Anyway, I'm not intending to write anything in the article(wow they would jump on me for vandalism), I'm merely requesting that it be more encyclopedic so one can use it for school as a reference. I have been to the selective breeding page but it's almost a stub. It points to 'animal breeding' which is a short messy article that gives you no info. There must be someone around with expertise in eugenics? 93.161.107.169\",0,0,0,0,0,0\n",
            "\"00040093b2687caa\",\"alignment on this subject and which are contrary to those of DuLithgow\",0,0,0,0,0,0\n",
            "\"0005300084f90edc\",\"\"\"\n",
            "Fair use rationale for Image:Wonju.jpg\n"
          ],
          "name": "stdout"
        }
      ]
    },
    {
      "cell_type": "markdown",
      "metadata": {
        "id": "9YjyMnJOHoSY",
        "colab_type": "text"
      },
      "source": [
        "## Загружаем данные в память"
      ]
    },
    {
      "cell_type": "markdown",
      "metadata": {
        "id": "C6Hs3NIKKqEB",
        "colab_type": "text"
      },
      "source": [
        "Читаем данные из файла"
      ]
    },
    {
      "cell_type": "code",
      "metadata": {
        "id": "viAteYU0HakW",
        "colab_type": "code",
        "colab": {}
      },
      "source": [
        "train = pd.read_csv('train.csv')"
      ],
      "execution_count": null,
      "outputs": []
    },
    {
      "cell_type": "code",
      "metadata": {
        "id": "QTbvoCJxKpdr",
        "colab_type": "code",
        "colab": {
          "base_uri": "https://localhost:8080/",
          "height": 503
        },
        "outputId": "77f243d5-137f-4b08-d8d1-07474e9471e4"
      },
      "source": [
        "train"
      ],
      "execution_count": null,
      "outputs": [
        {
          "output_type": "execute_result",
          "data": {
            "text/html": [
              "<div>\n",
              "<style scoped>\n",
              "    .dataframe tbody tr th:only-of-type {\n",
              "        vertical-align: middle;\n",
              "    }\n",
              "\n",
              "    .dataframe tbody tr th {\n",
              "        vertical-align: top;\n",
              "    }\n",
              "\n",
              "    .dataframe thead th {\n",
              "        text-align: right;\n",
              "    }\n",
              "</style>\n",
              "<table border=\"1\" class=\"dataframe\">\n",
              "  <thead>\n",
              "    <tr style=\"text-align: right;\">\n",
              "      <th></th>\n",
              "      <th>id</th>\n",
              "      <th>comment_text</th>\n",
              "      <th>toxic</th>\n",
              "      <th>severe_toxic</th>\n",
              "      <th>obscene</th>\n",
              "      <th>threat</th>\n",
              "      <th>insult</th>\n",
              "      <th>identity_hate</th>\n",
              "    </tr>\n",
              "  </thead>\n",
              "  <tbody>\n",
              "    <tr>\n",
              "      <th>0</th>\n",
              "      <td>0000997932d777bf</td>\n",
              "      <td>Explanation\\nWhy the edits made under my usern...</td>\n",
              "      <td>0</td>\n",
              "      <td>0</td>\n",
              "      <td>0</td>\n",
              "      <td>0</td>\n",
              "      <td>0</td>\n",
              "      <td>0</td>\n",
              "    </tr>\n",
              "    <tr>\n",
              "      <th>1</th>\n",
              "      <td>000103f0d9cfb60f</td>\n",
              "      <td>D'aww! He matches this background colour I'm s...</td>\n",
              "      <td>0</td>\n",
              "      <td>0</td>\n",
              "      <td>0</td>\n",
              "      <td>0</td>\n",
              "      <td>0</td>\n",
              "      <td>0</td>\n",
              "    </tr>\n",
              "    <tr>\n",
              "      <th>2</th>\n",
              "      <td>000113f07ec002fd</td>\n",
              "      <td>Hey man, I'm really not trying to edit war. It...</td>\n",
              "      <td>0</td>\n",
              "      <td>0</td>\n",
              "      <td>0</td>\n",
              "      <td>0</td>\n",
              "      <td>0</td>\n",
              "      <td>0</td>\n",
              "    </tr>\n",
              "    <tr>\n",
              "      <th>3</th>\n",
              "      <td>0001b41b1c6bb37e</td>\n",
              "      <td>\"\\nMore\\nI can't make any real suggestions on ...</td>\n",
              "      <td>0</td>\n",
              "      <td>0</td>\n",
              "      <td>0</td>\n",
              "      <td>0</td>\n",
              "      <td>0</td>\n",
              "      <td>0</td>\n",
              "    </tr>\n",
              "    <tr>\n",
              "      <th>4</th>\n",
              "      <td>0001d958c54c6e35</td>\n",
              "      <td>You, sir, are my hero. Any chance you remember...</td>\n",
              "      <td>0</td>\n",
              "      <td>0</td>\n",
              "      <td>0</td>\n",
              "      <td>0</td>\n",
              "      <td>0</td>\n",
              "      <td>0</td>\n",
              "    </tr>\n",
              "    <tr>\n",
              "      <th>...</th>\n",
              "      <td>...</td>\n",
              "      <td>...</td>\n",
              "      <td>...</td>\n",
              "      <td>...</td>\n",
              "      <td>...</td>\n",
              "      <td>...</td>\n",
              "      <td>...</td>\n",
              "      <td>...</td>\n",
              "    </tr>\n",
              "    <tr>\n",
              "      <th>159566</th>\n",
              "      <td>ffe987279560d7ff</td>\n",
              "      <td>\":::::And for the second time of asking, when ...</td>\n",
              "      <td>0</td>\n",
              "      <td>0</td>\n",
              "      <td>0</td>\n",
              "      <td>0</td>\n",
              "      <td>0</td>\n",
              "      <td>0</td>\n",
              "    </tr>\n",
              "    <tr>\n",
              "      <th>159567</th>\n",
              "      <td>ffea4adeee384e90</td>\n",
              "      <td>You should be ashamed of yourself \\n\\nThat is ...</td>\n",
              "      <td>0</td>\n",
              "      <td>0</td>\n",
              "      <td>0</td>\n",
              "      <td>0</td>\n",
              "      <td>0</td>\n",
              "      <td>0</td>\n",
              "    </tr>\n",
              "    <tr>\n",
              "      <th>159568</th>\n",
              "      <td>ffee36eab5c267c9</td>\n",
              "      <td>Spitzer \\n\\nUmm, theres no actual article for ...</td>\n",
              "      <td>0</td>\n",
              "      <td>0</td>\n",
              "      <td>0</td>\n",
              "      <td>0</td>\n",
              "      <td>0</td>\n",
              "      <td>0</td>\n",
              "    </tr>\n",
              "    <tr>\n",
              "      <th>159569</th>\n",
              "      <td>fff125370e4aaaf3</td>\n",
              "      <td>And it looks like it was actually you who put ...</td>\n",
              "      <td>0</td>\n",
              "      <td>0</td>\n",
              "      <td>0</td>\n",
              "      <td>0</td>\n",
              "      <td>0</td>\n",
              "      <td>0</td>\n",
              "    </tr>\n",
              "    <tr>\n",
              "      <th>159570</th>\n",
              "      <td>fff46fc426af1f9a</td>\n",
              "      <td>\"\\nAnd ... I really don't think you understand...</td>\n",
              "      <td>0</td>\n",
              "      <td>0</td>\n",
              "      <td>0</td>\n",
              "      <td>0</td>\n",
              "      <td>0</td>\n",
              "      <td>0</td>\n",
              "    </tr>\n",
              "  </tbody>\n",
              "</table>\n",
              "<p>159571 rows × 8 columns</p>\n",
              "</div>"
            ],
            "text/plain": [
              "                      id  ... identity_hate\n",
              "0       0000997932d777bf  ...             0\n",
              "1       000103f0d9cfb60f  ...             0\n",
              "2       000113f07ec002fd  ...             0\n",
              "3       0001b41b1c6bb37e  ...             0\n",
              "4       0001d958c54c6e35  ...             0\n",
              "...                  ...  ...           ...\n",
              "159566  ffe987279560d7ff  ...             0\n",
              "159567  ffea4adeee384e90  ...             0\n",
              "159568  ffee36eab5c267c9  ...             0\n",
              "159569  fff125370e4aaaf3  ...             0\n",
              "159570  fff46fc426af1f9a  ...             0\n",
              "\n",
              "[159571 rows x 8 columns]"
            ]
          },
          "metadata": {
            "tags": []
          },
          "execution_count": 24
        }
      ]
    },
    {
      "cell_type": "markdown",
      "metadata": {
        "id": "gA0GvoWDKulp",
        "colab_type": "text"
      },
      "source": [
        "Выделяем данные для обучения"
      ]
    },
    {
      "cell_type": "code",
      "metadata": {
        "id": "xKdpzAQKLUsh",
        "colab_type": "code",
        "colab": {}
      },
      "source": [
        "comments = train['comment_text']"
      ],
      "execution_count": null,
      "outputs": []
    },
    {
      "cell_type": "code",
      "metadata": {
        "id": "3-13xctTLesU",
        "colab_type": "code",
        "colab": {
          "base_uri": "https://localhost:8080/",
          "height": 120
        },
        "outputId": "36467096-c8a7-4d63-e1de-26ba14f31568"
      },
      "source": [
        "comments[:5]"
      ],
      "execution_count": null,
      "outputs": [
        {
          "output_type": "execute_result",
          "data": {
            "text/plain": [
              "0    Explanation\\nWhy the edits made under my usern...\n",
              "1    D'aww! He matches this background colour I'm s...\n",
              "2    Hey man, I'm really not trying to edit war. It...\n",
              "3    \"\\nMore\\nI can't make any real suggestions on ...\n",
              "4    You, sir, are my hero. Any chance you remember...\n",
              "Name: comment_text, dtype: object"
            ]
          },
          "metadata": {
            "tags": []
          },
          "execution_count": 26
        }
      ]
    },
    {
      "cell_type": "markdown",
      "metadata": {
        "id": "EyruZkQeLnPa",
        "colab_type": "text"
      },
      "source": [
        "Выделяем правильные ответы"
      ]
    },
    {
      "cell_type": "code",
      "metadata": {
        "id": "5t_vJBSyIUoG",
        "colab_type": "code",
        "colab": {}
      },
      "source": [
        "y_train = train[['toxic', 'severe_toxic', 'obscene',\t'threat',\t'insult',\t'identity_hate']]"
      ],
      "execution_count": null,
      "outputs": []
    },
    {
      "cell_type": "code",
      "metadata": {
        "id": "gmEgMdF5IbZR",
        "colab_type": "code",
        "colab": {
          "base_uri": "https://localhost:8080/",
          "height": 417
        },
        "outputId": "85152c15-793c-4726-8910-6f7b55898242"
      },
      "source": [
        "y_train"
      ],
      "execution_count": null,
      "outputs": [
        {
          "output_type": "execute_result",
          "data": {
            "text/html": [
              "<div>\n",
              "<style scoped>\n",
              "    .dataframe tbody tr th:only-of-type {\n",
              "        vertical-align: middle;\n",
              "    }\n",
              "\n",
              "    .dataframe tbody tr th {\n",
              "        vertical-align: top;\n",
              "    }\n",
              "\n",
              "    .dataframe thead th {\n",
              "        text-align: right;\n",
              "    }\n",
              "</style>\n",
              "<table border=\"1\" class=\"dataframe\">\n",
              "  <thead>\n",
              "    <tr style=\"text-align: right;\">\n",
              "      <th></th>\n",
              "      <th>toxic</th>\n",
              "      <th>severe_toxic</th>\n",
              "      <th>obscene</th>\n",
              "      <th>threat</th>\n",
              "      <th>insult</th>\n",
              "      <th>identity_hate</th>\n",
              "    </tr>\n",
              "  </thead>\n",
              "  <tbody>\n",
              "    <tr>\n",
              "      <th>0</th>\n",
              "      <td>0</td>\n",
              "      <td>0</td>\n",
              "      <td>0</td>\n",
              "      <td>0</td>\n",
              "      <td>0</td>\n",
              "      <td>0</td>\n",
              "    </tr>\n",
              "    <tr>\n",
              "      <th>1</th>\n",
              "      <td>0</td>\n",
              "      <td>0</td>\n",
              "      <td>0</td>\n",
              "      <td>0</td>\n",
              "      <td>0</td>\n",
              "      <td>0</td>\n",
              "    </tr>\n",
              "    <tr>\n",
              "      <th>2</th>\n",
              "      <td>0</td>\n",
              "      <td>0</td>\n",
              "      <td>0</td>\n",
              "      <td>0</td>\n",
              "      <td>0</td>\n",
              "      <td>0</td>\n",
              "    </tr>\n",
              "    <tr>\n",
              "      <th>3</th>\n",
              "      <td>0</td>\n",
              "      <td>0</td>\n",
              "      <td>0</td>\n",
              "      <td>0</td>\n",
              "      <td>0</td>\n",
              "      <td>0</td>\n",
              "    </tr>\n",
              "    <tr>\n",
              "      <th>4</th>\n",
              "      <td>0</td>\n",
              "      <td>0</td>\n",
              "      <td>0</td>\n",
              "      <td>0</td>\n",
              "      <td>0</td>\n",
              "      <td>0</td>\n",
              "    </tr>\n",
              "    <tr>\n",
              "      <th>...</th>\n",
              "      <td>...</td>\n",
              "      <td>...</td>\n",
              "      <td>...</td>\n",
              "      <td>...</td>\n",
              "      <td>...</td>\n",
              "      <td>...</td>\n",
              "    </tr>\n",
              "    <tr>\n",
              "      <th>159566</th>\n",
              "      <td>0</td>\n",
              "      <td>0</td>\n",
              "      <td>0</td>\n",
              "      <td>0</td>\n",
              "      <td>0</td>\n",
              "      <td>0</td>\n",
              "    </tr>\n",
              "    <tr>\n",
              "      <th>159567</th>\n",
              "      <td>0</td>\n",
              "      <td>0</td>\n",
              "      <td>0</td>\n",
              "      <td>0</td>\n",
              "      <td>0</td>\n",
              "      <td>0</td>\n",
              "    </tr>\n",
              "    <tr>\n",
              "      <th>159568</th>\n",
              "      <td>0</td>\n",
              "      <td>0</td>\n",
              "      <td>0</td>\n",
              "      <td>0</td>\n",
              "      <td>0</td>\n",
              "      <td>0</td>\n",
              "    </tr>\n",
              "    <tr>\n",
              "      <th>159569</th>\n",
              "      <td>0</td>\n",
              "      <td>0</td>\n",
              "      <td>0</td>\n",
              "      <td>0</td>\n",
              "      <td>0</td>\n",
              "      <td>0</td>\n",
              "    </tr>\n",
              "    <tr>\n",
              "      <th>159570</th>\n",
              "      <td>0</td>\n",
              "      <td>0</td>\n",
              "      <td>0</td>\n",
              "      <td>0</td>\n",
              "      <td>0</td>\n",
              "      <td>0</td>\n",
              "    </tr>\n",
              "  </tbody>\n",
              "</table>\n",
              "<p>159571 rows × 6 columns</p>\n",
              "</div>"
            ],
            "text/plain": [
              "        toxic  severe_toxic  obscene  threat  insult  identity_hate\n",
              "0           0             0        0       0       0              0\n",
              "1           0             0        0       0       0              0\n",
              "2           0             0        0       0       0              0\n",
              "3           0             0        0       0       0              0\n",
              "4           0             0        0       0       0              0\n",
              "...       ...           ...      ...     ...     ...            ...\n",
              "159566      0             0        0       0       0              0\n",
              "159567      0             0        0       0       0              0\n",
              "159568      0             0        0       0       0              0\n",
              "159569      0             0        0       0       0              0\n",
              "159570      0             0        0       0       0              0\n",
              "\n",
              "[159571 rows x 6 columns]"
            ]
          },
          "metadata": {
            "tags": []
          },
          "execution_count": 28
        }
      ]
    },
    {
      "cell_type": "markdown",
      "metadata": {
        "id": "7JuLOCqpLsNL",
        "colab_type": "text"
      },
      "source": [
        "## Токенизация текста"
      ]
    },
    {
      "cell_type": "code",
      "metadata": {
        "id": "wwF89PAestv0",
        "colab_type": "code",
        "colab": {
          "base_uri": "https://localhost:8080/",
          "height": 120
        },
        "outputId": "10b9f138-856c-4e84-8ceb-651666e48434"
      },
      "source": [
        "comments[:5]"
      ],
      "execution_count": null,
      "outputs": [
        {
          "output_type": "execute_result",
          "data": {
            "text/plain": [
              "0    Explanation\\nWhy the edits made under my usern...\n",
              "1    D'aww! He matches this background colour I'm s...\n",
              "2    Hey man, I'm really not trying to edit war. It...\n",
              "3    \"\\nMore\\nI can't make any real suggestions on ...\n",
              "4    You, sir, are my hero. Any chance you remember...\n",
              "Name: comment_text, dtype: object"
            ]
          },
          "metadata": {
            "tags": []
          },
          "execution_count": 29
        }
      ]
    },
    {
      "cell_type": "markdown",
      "metadata": {
        "id": "DTtBSvAfMusM",
        "colab_type": "text"
      },
      "source": [
        "Создаем токенизатор Keras"
      ]
    },
    {
      "cell_type": "code",
      "metadata": {
        "id": "x-AUMyjMLw5T",
        "colab_type": "code",
        "colab": {}
      },
      "source": [
        "tokenizer = Tokenizer(num_words=num_words)"
      ],
      "execution_count": null,
      "outputs": []
    },
    {
      "cell_type": "markdown",
      "metadata": {
        "id": "VIxY2pp-M2gw",
        "colab_type": "text"
      },
      "source": [
        "Обучаем токенизатор на новостях"
      ]
    },
    {
      "cell_type": "code",
      "metadata": {
        "id": "RfsqlGJZM7HR",
        "colab_type": "code",
        "colab": {}
      },
      "source": [
        "tokenizer.fit_on_texts(comments)"
      ],
      "execution_count": null,
      "outputs": []
    },
    {
      "cell_type": "markdown",
      "metadata": {
        "id": "y6PqC28PND82",
        "colab_type": "text"
      },
      "source": [
        "Просматриваем словарь токенизатора"
      ]
    },
    {
      "cell_type": "code",
      "metadata": {
        "id": "8mWcH0mUMcMU",
        "colab_type": "code",
        "colab": {
          "base_uri": "https://localhost:8080/",
          "height": 1000
        },
        "outputId": "c1d9b132-37e9-4d92-9384-5ce7a187f3bb"
      },
      "source": [
        "tokenizer.word_index"
      ],
      "execution_count": null,
      "outputs": [
        {
          "output_type": "execute_result",
          "data": {
            "text/plain": [
              "{'the': 1,\n",
              " 'to': 2,\n",
              " 'of': 3,\n",
              " 'and': 4,\n",
              " 'a': 5,\n",
              " 'you': 6,\n",
              " 'i': 7,\n",
              " 'is': 8,\n",
              " 'that': 9,\n",
              " 'in': 10,\n",
              " 'it': 11,\n",
              " 'for': 12,\n",
              " 'this': 13,\n",
              " 'not': 14,\n",
              " 'on': 15,\n",
              " 'be': 16,\n",
              " 'as': 17,\n",
              " 'have': 18,\n",
              " 'are': 19,\n",
              " 'your': 20,\n",
              " 'with': 21,\n",
              " 'if': 22,\n",
              " 'article': 23,\n",
              " 'was': 24,\n",
              " 'or': 25,\n",
              " 'but': 26,\n",
              " 'page': 27,\n",
              " 'wikipedia': 28,\n",
              " 'my': 29,\n",
              " 'an': 30,\n",
              " 'from': 31,\n",
              " 'by': 32,\n",
              " 'do': 33,\n",
              " 'at': 34,\n",
              " 'me': 35,\n",
              " 'about': 36,\n",
              " 'so': 37,\n",
              " 'talk': 38,\n",
              " 'what': 39,\n",
              " 'can': 40,\n",
              " 'there': 41,\n",
              " 'all': 42,\n",
              " 'has': 43,\n",
              " 'will': 44,\n",
              " 'please': 45,\n",
              " 'no': 46,\n",
              " 'would': 47,\n",
              " 'one': 48,\n",
              " 'like': 49,\n",
              " 'just': 50,\n",
              " 'they': 51,\n",
              " 'he': 52,\n",
              " 'which': 53,\n",
              " 'any': 54,\n",
              " 'been': 55,\n",
              " 'should': 56,\n",
              " 'more': 57,\n",
              " 'we': 58,\n",
              " \"don't\": 59,\n",
              " 'some': 60,\n",
              " 'other': 61,\n",
              " 'who': 62,\n",
              " 'here': 63,\n",
              " 'see': 64,\n",
              " 'also': 65,\n",
              " 'his': 66,\n",
              " 'think': 67,\n",
              " 'because': 68,\n",
              " 'know': 69,\n",
              " 'how': 70,\n",
              " 'edit': 71,\n",
              " 'am': 72,\n",
              " \"i'm\": 73,\n",
              " 'people': 74,\n",
              " 'why': 75,\n",
              " 'up': 76,\n",
              " 'only': 77,\n",
              " \"it's\": 78,\n",
              " 'out': 79,\n",
              " 'articles': 80,\n",
              " 'use': 81,\n",
              " 'when': 82,\n",
              " 'then': 83,\n",
              " 'time': 84,\n",
              " 'may': 85,\n",
              " 'were': 86,\n",
              " 'did': 87,\n",
              " 'them': 88,\n",
              " 'now': 89,\n",
              " 'being': 90,\n",
              " 'user': 91,\n",
              " 'their': 92,\n",
              " 'than': 93,\n",
              " 'thanks': 94,\n",
              " 'even': 95,\n",
              " 'get': 96,\n",
              " 'make': 97,\n",
              " 'good': 98,\n",
              " 'had': 99,\n",
              " 'well': 100,\n",
              " 'very': 101,\n",
              " 'information': 102,\n",
              " 'does': 103,\n",
              " 'could': 104,\n",
              " 'want': 105,\n",
              " 'deletion': 106,\n",
              " 'its': 107,\n",
              " 'such': 108,\n",
              " 'sources': 109,\n",
              " 'way': 110,\n",
              " 'name': 111,\n",
              " 'these': 112,\n",
              " 'first': 113,\n",
              " 'wp': 114,\n",
              " 'help': 115,\n",
              " 'pages': 116,\n",
              " 'new': 117,\n",
              " 'image': 118,\n",
              " 'source': 119,\n",
              " 'editing': 120,\n",
              " 'go': 121,\n",
              " 'need': 122,\n",
              " 'section': 123,\n",
              " 'say': 124,\n",
              " 'again': 125,\n",
              " 'edits': 126,\n",
              " 'thank': 127,\n",
              " 'where': 128,\n",
              " 'fuck': 129,\n",
              " 'made': 130,\n",
              " 'many': 131,\n",
              " 'much': 132,\n",
              " 'used': 133,\n",
              " 'really': 134,\n",
              " 'most': 135,\n",
              " 'deleted': 136,\n",
              " 'discussion': 137,\n",
              " 'same': 138,\n",
              " 'find': 139,\n",
              " 'into': 140,\n",
              " 'work': 141,\n",
              " 'those': 142,\n",
              " 'since': 143,\n",
              " \"i've\": 144,\n",
              " 'right': 145,\n",
              " 'point': 146,\n",
              " 'before': 147,\n",
              " 'after': 148,\n",
              " 'add': 149,\n",
              " 'read': 150,\n",
              " 'look': 151,\n",
              " 'over': 152,\n",
              " 'him': 153,\n",
              " 'take': 154,\n",
              " 'two': 155,\n",
              " 'still': 156,\n",
              " 'back': 157,\n",
              " 'wiki': 158,\n",
              " 'someone': 159,\n",
              " 'fact': 160,\n",
              " 'hi': 161,\n",
              " 'too': 162,\n",
              " 'list': 163,\n",
              " 'link': 164,\n",
              " 'own': 165,\n",
              " 'said': 166,\n",
              " 'something': 167,\n",
              " 'going': 168,\n",
              " 'blocked': 169,\n",
              " '1': 170,\n",
              " '2': 171,\n",
              " 'stop': 172,\n",
              " \"you're\": 173,\n",
              " 'content': 174,\n",
              " 'without': 175,\n",
              " 'block': 176,\n",
              " 'under': 177,\n",
              " 'history': 178,\n",
              " 'http': 179,\n",
              " 'our': 180,\n",
              " 'added': 181,\n",
              " 'utc': 182,\n",
              " 'editors': 183,\n",
              " 'another': 184,\n",
              " 'removed': 185,\n",
              " 'her': 186,\n",
              " 'might': 187,\n",
              " 'welcome': 188,\n",
              " 'note': 189,\n",
              " 'however': 190,\n",
              " 'free': 191,\n",
              " 'place': 192,\n",
              " 'sure': 193,\n",
              " 'case': 194,\n",
              " 'never': 195,\n",
              " \"doesn't\": 196,\n",
              " 'done': 197,\n",
              " 'us': 198,\n",
              " 'vandalism': 199,\n",
              " 'reason': 200,\n",
              " 'put': 201,\n",
              " 'comment': 202,\n",
              " 'personal': 203,\n",
              " 'better': 204,\n",
              " \"that's\": 205,\n",
              " 'yourself': 206,\n",
              " 'using': 207,\n",
              " 'seems': 208,\n",
              " 'ask': 209,\n",
              " 'actually': 210,\n",
              " 'question': 211,\n",
              " 'off': 212,\n",
              " 'while': 213,\n",
              " 'feel': 214,\n",
              " 'anything': 215,\n",
              " 'believe': 216,\n",
              " 'links': 217,\n",
              " 'person': 218,\n",
              " 'things': 219,\n",
              " 'both': 220,\n",
              " 'she': 221,\n",
              " 'best': 222,\n",
              " 'comments': 223,\n",
              " 'policy': 224,\n",
              " 'part': 225,\n",
              " 'hope': 226,\n",
              " 'against': 227,\n",
              " \"can't\": 228,\n",
              " 'already': 229,\n",
              " 'keep': 230,\n",
              " 'thing': 231,\n",
              " '3': 232,\n",
              " 'u': 233,\n",
              " \"didn't\": 234,\n",
              " 'questions': 235,\n",
              " \"i'll\": 236,\n",
              " 'com': 237,\n",
              " 'nothing': 238,\n",
              " 'change': 239,\n",
              " 'wrong': 240,\n",
              " 'though': 241,\n",
              " 'subject': 242,\n",
              " 'problem': 243,\n",
              " 'remove': 244,\n",
              " 'little': 245,\n",
              " 'copyright': 246,\n",
              " 'tag': 247,\n",
              " '•': 248,\n",
              " 'trying': 249,\n",
              " 'long': 250,\n",
              " 'must': 251,\n",
              " 'understand': 252,\n",
              " 'above': 253,\n",
              " 'speedy': 254,\n",
              " 'anyone': 255,\n",
              " 'few': 256,\n",
              " 'world': 257,\n",
              " 'issue': 258,\n",
              " 'last': 259,\n",
              " 'others': 260,\n",
              " 'give': 261,\n",
              " 'editor': 262,\n",
              " 'sorry': 263,\n",
              " 'agree': 264,\n",
              " 'reliable': 265,\n",
              " 'rather': 266,\n",
              " 'let': 267,\n",
              " 'years': 268,\n",
              " 'fair': 269,\n",
              " 'english': 270,\n",
              " 'different': 271,\n",
              " 'making': 272,\n",
              " 'reference': 273,\n",
              " 'come': 274,\n",
              " 'style': 275,\n",
              " 'text': 276,\n",
              " 'references': 277,\n",
              " 'mean': 278,\n",
              " 'try': 279,\n",
              " 'non': 280,\n",
              " 'continue': 281,\n",
              " 'doing': 282,\n",
              " 'great': 283,\n",
              " 'found': 284,\n",
              " 'leave': 285,\n",
              " 'word': 286,\n",
              " 'says': 287,\n",
              " 'got': 288,\n",
              " 'state': 289,\n",
              " 'original': 290,\n",
              " \"isn't\": 291,\n",
              " 'probably': 292,\n",
              " 'site': 293,\n",
              " 'adding': 294,\n",
              " 'every': 295,\n",
              " 'check': 296,\n",
              " 'day': 297,\n",
              " 'simply': 298,\n",
              " 'created': 299,\n",
              " 'life': 300,\n",
              " 'top': 301,\n",
              " 'hello': 302,\n",
              " 'show': 303,\n",
              " 'post': 304,\n",
              " 'either': 305,\n",
              " 'consensus': 306,\n",
              " 'ip': 307,\n",
              " 'least': 308,\n",
              " 'delete': 309,\n",
              " 'else': 310,\n",
              " 'e': 311,\n",
              " 'yes': 312,\n",
              " 'view': 313,\n",
              " 'war': 314,\n",
              " 'far': 315,\n",
              " 'notable': 316,\n",
              " 'enough': 317,\n",
              " 'request': 318,\n",
              " 'etc': 319,\n",
              " 'example': 320,\n",
              " 'opinion': 321,\n",
              " 'contributions': 322,\n",
              " 'called': 323,\n",
              " 'around': 324,\n",
              " 'through': 325,\n",
              " 'www': 326,\n",
              " 'between': 327,\n",
              " 'real': 328,\n",
              " 'yet': 329,\n",
              " 'write': 330,\n",
              " 'reverted': 331,\n",
              " 'book': 332,\n",
              " 'shit': 333,\n",
              " 'down': 334,\n",
              " 'matter': 335,\n",
              " 'admin': 336,\n",
              " 're': 337,\n",
              " 'thought': 338,\n",
              " 'given': 339,\n",
              " 'images': 340,\n",
              " 'account': 341,\n",
              " 'material': 342,\n",
              " 'users': 343,\n",
              " 'bad': 344,\n",
              " 'encyclopedia': 345,\n",
              " 'having': 346,\n",
              " 'clearly': 347,\n",
              " 'title': 348,\n",
              " 'message': 349,\n",
              " 'support': 350,\n",
              " 'needs': 351,\n",
              " 'lot': 352,\n",
              " 'old': 353,\n",
              " 'evidence': 354,\n",
              " '—': 355,\n",
              " 'ever': 356,\n",
              " 'maybe': 357,\n",
              " 's': 358,\n",
              " 'tell': 359,\n",
              " 'revert': 360,\n",
              " 'seem': 361,\n",
              " 'language': 362,\n",
              " 'instead': 363,\n",
              " 'correct': 364,\n",
              " 'template': 365,\n",
              " 'org': 366,\n",
              " 'number': 367,\n",
              " 'clear': 368,\n",
              " 'media': 369,\n",
              " 'important': 370,\n",
              " 'saying': 371,\n",
              " 'pov': 372,\n",
              " '5': 373,\n",
              " '4': 374,\n",
              " 'always': 375,\n",
              " 'written': 376,\n",
              " 'true': 377,\n",
              " 'oh': 378,\n",
              " 'term': 379,\n",
              " 'further': 380,\n",
              " 'states': 381,\n",
              " 'hate': 382,\n",
              " 'quite': 383,\n",
              " 'perhaps': 384,\n",
              " 'review': 385,\n",
              " 'until': 386,\n",
              " 'bit': 387,\n",
              " 'whether': 388,\n",
              " \"i'd\": 389,\n",
              " 'research': 390,\n",
              " 'consider': 391,\n",
              " 'claim': 392,\n",
              " 'guidelines': 393,\n",
              " 'fucking': 394,\n",
              " 'version': 395,\n",
              " 'once': 396,\n",
              " 'based': 397,\n",
              " 'criteria': 398,\n",
              " 'times': 399,\n",
              " 'nigger': 400,\n",
              " 'website': 401,\n",
              " 'getting': 402,\n",
              " 'suck': 403,\n",
              " 'mention': 404,\n",
              " 'three': 405,\n",
              " 'several': 406,\n",
              " 'makes': 407,\n",
              " 'considered': 408,\n",
              " 'words': 409,\n",
              " 'c': 410,\n",
              " 'year': 411,\n",
              " 'hey': 412,\n",
              " 'changes': 413,\n",
              " 'idea': 414,\n",
              " \"there's\": 415,\n",
              " 'cannot': 416,\n",
              " 'ass': 417,\n",
              " 'address': 418,\n",
              " 'notice': 419,\n",
              " 'current': 420,\n",
              " 'group': 421,\n",
              " 'left': 422,\n",
              " 'following': 423,\n",
              " 'listed': 424,\n",
              " 'each': 425,\n",
              " 'date': 426,\n",
              " 'second': 427,\n",
              " 'means': 428,\n",
              " 'facts': 429,\n",
              " 'rules': 430,\n",
              " 'general': 431,\n",
              " 'possible': 432,\n",
              " 'main': 433,\n",
              " 'care': 434,\n",
              " 'regarding': 435,\n",
              " 'american': 436,\n",
              " 'man': 437,\n",
              " 'start': 438,\n",
              " '10': 439,\n",
              " 'topic': 440,\n",
              " 'mentioned': 441,\n",
              " 'course': 442,\n",
              " 'attack': 443,\n",
              " 'kind': 444,\n",
              " 'whole': 445,\n",
              " 'statement': 446,\n",
              " 'known': 447,\n",
              " 'end': 448,\n",
              " 'include': 449,\n",
              " 'issues': 450,\n",
              " 'seen': 451,\n",
              " 'create': 452,\n",
              " 'jpg': 453,\n",
              " 'dont': 454,\n",
              " 'en': 455,\n",
              " 'gay': 456,\n",
              " 'less': 457,\n",
              " 'related': 458,\n",
              " 'call': 459,\n",
              " 'ok': 460,\n",
              " 'sense': 461,\n",
              " 'big': 462,\n",
              " 'suggest': 463,\n",
              " 'happy': 464,\n",
              " 'category': 465,\n",
              " 'including': 466,\n",
              " 'notability': 467,\n",
              " 'info': 468,\n",
              " '2005': 469,\n",
              " 'provide': 470,\n",
              " 'redirect': 471,\n",
              " 'days': 472,\n",
              " 'move': 473,\n",
              " 'myself': 474,\n",
              " 'sentence': 475,\n",
              " \"wikipedia's\": 476,\n",
              " 'love': 477,\n",
              " 'four': 478,\n",
              " 'appropriate': 479,\n",
              " 'school': 480,\n",
              " 'news': 481,\n",
              " 'project': 482,\n",
              " 'changed': 483,\n",
              " 'explain': 484,\n",
              " 'started': 485,\n",
              " 'neutral': 486,\n",
              " 'line': 487,\n",
              " 'mind': 488,\n",
              " 'anyway': 489,\n",
              " 'contribs': 490,\n",
              " 'included': 491,\n",
              " 'removing': 492,\n",
              " 'next': 493,\n",
              " 't': 494,\n",
              " 'looking': 495,\n",
              " 'picture': 496,\n",
              " 'specific': 497,\n",
              " 'community': 498,\n",
              " 'although': 499,\n",
              " 'per': 500,\n",
              " 'order': 501,\n",
              " 'relevant': 502,\n",
              " 'sign': 503,\n",
              " 'die': 504,\n",
              " 'answer': 505,\n",
              " 'away': 506,\n",
              " 'interest': 507,\n",
              " 'full': 508,\n",
              " 'warning': 509,\n",
              " 'lol': 510,\n",
              " 'summary': 511,\n",
              " 'recent': 512,\n",
              " 'later': 513,\n",
              " 'file': 514,\n",
              " 'policies': 515,\n",
              " \"you've\": 516,\n",
              " 'faith': 517,\n",
              " 'claims': 518,\n",
              " 'discuss': 519,\n",
              " 'attacks': 520,\n",
              " 'public': 521,\n",
              " '0': 522,\n",
              " 'currently': 523,\n",
              " 'wrote': 524,\n",
              " 'writing': 525,\n",
              " 'especially': 526,\n",
              " 'interested': 527,\n",
              " 'able': 528,\n",
              " 'wish': 529,\n",
              " 'taken': 530,\n",
              " '6': 531,\n",
              " 'names': 532,\n",
              " 'position': 533,\n",
              " 'single': 534,\n",
              " 'within': 535,\n",
              " 'stuff': 536,\n",
              " 'below': 537,\n",
              " '2006': 538,\n",
              " 'during': 539,\n",
              " 'wanted': 540,\n",
              " 'web': 541,\n",
              " 'appears': 542,\n",
              " 'official': 543,\n",
              " '20': 544,\n",
              " 'live': 545,\n",
              " 'certainly': 546,\n",
              " 'nice': 547,\n",
              " 'color': 548,\n",
              " 'self': 549,\n",
              " 'itself': 550,\n",
              " 'country': 551,\n",
              " 'everyone': 552,\n",
              " 'report': 553,\n",
              " 'anti': 554,\n",
              " 'background': 555,\n",
              " 'lead': 556,\n",
              " 'high': 557,\n",
              " 'common': 558,\n",
              " 'god': 559,\n",
              " 'unless': 560,\n",
              " 'according': 561,\n",
              " 'completely': 562,\n",
              " 'hard': 563,\n",
              " 'books': 564,\n",
              " 'pretty': 565,\n",
              " '7': 566,\n",
              " 'everything': 567,\n",
              " 'p': 568,\n",
              " 'published': 569,\n",
              " 'due': 570,\n",
              " '24': 571,\n",
              " 'process': 572,\n",
              " 'edited': 573,\n",
              " 'looks': 574,\n",
              " 'involved': 575,\n",
              " 'fat': 576,\n",
              " 'therefore': 577,\n",
              " \"won't\": 578,\n",
              " 'remember': 579,\n",
              " 'obviously': 580,\n",
              " 'power': 581,\n",
              " 'd': 582,\n",
              " 'future': 583,\n",
              " 'nor': 584,\n",
              " '100': 585,\n",
              " 'truth': 586,\n",
              " 'came': 587,\n",
              " 'sandbox': 588,\n",
              " '11': 589,\n",
              " 'response': 590,\n",
              " 'party': 591,\n",
              " 'reading': 592,\n",
              " 'stay': 593,\n",
              " 'past': 594,\n",
              " 'game': 595,\n",
              " 'learn': 596,\n",
              " 'admins': 597,\n",
              " 'quote': 598,\n",
              " 'asked': 599,\n",
              " \"wasn't\": 600,\n",
              " 'b': 601,\n",
              " 'city': 602,\n",
              " 'entry': 603,\n",
              " 'stupid': 604,\n",
              " \"he's\": 605,\n",
              " 'posted': 606,\n",
              " 'false': 607,\n",
              " 'faggot': 608,\n",
              " 'whatever': 609,\n",
              " 'google': 610,\n",
              " 'talking': 611,\n",
              " 'ago': 612,\n",
              " '8': 613,\n",
              " 'placed': 614,\n",
              " 'political': 615,\n",
              " 'similar': 616,\n",
              " 'today': 617,\n",
              " 'system': 618,\n",
              " 'administrator': 619,\n",
              " 'united': 620,\n",
              " 'argument': 621,\n",
              " 'paragraph': 622,\n",
              " 'working': 623,\n",
              " 'exactly': 624,\n",
              " '2007': 625,\n",
              " 'guy': 626,\n",
              " '12': 627,\n",
              " 'british': 628,\n",
              " 'took': 629,\n",
              " 'useful': 630,\n",
              " 'government': 631,\n",
              " 'search': 632,\n",
              " 'noticed': 633,\n",
              " 'moron': 634,\n",
              " 'regards': 635,\n",
              " 'small': 636,\n",
              " 'reasons': 637,\n",
              " 'side': 638,\n",
              " '2008': 639,\n",
              " 'form': 640,\n",
              " 'national': 641,\n",
              " 'dispute': 642,\n",
              " 'deleting': 643,\n",
              " 'five': 644,\n",
              " 'guess': 645,\n",
              " 'appreciate': 646,\n",
              " 'particular': 647,\n",
              " 'reverting': 648,\n",
              " 'major': 649,\n",
              " 'problems': 650,\n",
              " 'law': 651,\n",
              " '000': 652,\n",
              " '15': 653,\n",
              " 'npov': 654,\n",
              " 'bitch': 655,\n",
              " 'rule': 656,\n",
              " 'banned': 657,\n",
              " 'often': 658,\n",
              " 'provided': 659,\n",
              " 'music': 660,\n",
              " 'become': 661,\n",
              " 'wikiproject': 662,\n",
              " 'needed': 663,\n",
              " 'status': 664,\n",
              " 'reply': 665,\n",
              " 'knowledge': 666,\n",
              " 'tried': 667,\n",
              " 'along': 668,\n",
              " 'almost': 669,\n",
              " 'cheers': 670,\n",
              " 'stated': 671,\n",
              " 'username': 672,\n",
              " 'film': 673,\n",
              " '9': 674,\n",
              " 'taking': 675,\n",
              " 'fine': 676,\n",
              " '–': 677,\n",
              " 'company': 678,\n",
              " 'vandalize': 679,\n",
              " 'present': 680,\n",
              " 'certain': 681,\n",
              " 'white': 682,\n",
              " 'follow': 683,\n",
              " 'sort': 684,\n",
              " 'otherwise': 685,\n",
              " 'terms': 686,\n",
              " 'points': 687,\n",
              " 'explanation': 688,\n",
              " 'uploaded': 689,\n",
              " \"haven't\": 690,\n",
              " 'description': 691,\n",
              " 'generally': 692,\n",
              " 'recently': 693,\n",
              " 'entire': 694,\n",
              " 'open': 695,\n",
              " 'story': 696,\n",
              " 'tags': 697,\n",
              " 'shows': 698,\n",
              " 'alone': 699,\n",
              " 'ban': 700,\n",
              " 'citation': 701,\n",
              " 'short': 702,\n",
              " 'definition': 703,\n",
              " '14': 704,\n",
              " 'cited': 705,\n",
              " 'likely': 706,\n",
              " 'aware': 707,\n",
              " 'g': 708,\n",
              " 'saw': 709,\n",
              " 'class': 710,\n",
              " 'type': 711,\n",
              " 'soon': 712,\n",
              " 'set': 713,\n",
              " 'week': 714,\n",
              " 'indeed': 715,\n",
              " 'band': 716,\n",
              " 'cite': 717,\n",
              " 'decide': 718,\n",
              " 'mr': 719,\n",
              " 'views': 720,\n",
              " '2004': 721,\n",
              " 'appear': 722,\n",
              " 'family': 723,\n",
              " 'simple': 724,\n",
              " 'area': 725,\n",
              " 'guys': 726,\n",
              " 'theory': 727,\n",
              " 'piece': 728,\n",
              " 'contributing': 729,\n",
              " 'contact': 730,\n",
              " 'external': 731,\n",
              " 'result': 732,\n",
              " 'test': 733,\n",
              " 'internet': 734,\n",
              " 'interesting': 735,\n",
              " 'unblock': 736,\n",
              " 'actual': 737,\n",
              " 'improve': 738,\n",
              " 'copy': 739,\n",
              " '16': 740,\n",
              " 'sourced': 741,\n",
              " 'jew': 742,\n",
              " 'told': 743,\n",
              " 'attention': 744,\n",
              " 'proposed': 745,\n",
              " 'obvious': 746,\n",
              " 'moved': 747,\n",
              " 'email': 748,\n",
              " 'uk': 749,\n",
              " 'members': 750,\n",
              " 'various': 751,\n",
              " 'allowed': 752,\n",
              " 'themselves': 753,\n",
              " 'conflict': 754,\n",
              " 'context': 755,\n",
              " \"article's\": 756,\n",
              " 'black': 757,\n",
              " 'university': 758,\n",
              " 'author': 759,\n",
              " 'thus': 760,\n",
              " 'disagree': 761,\n",
              " 'cunt': 762,\n",
              " 'john': 763,\n",
              " 'went': 764,\n",
              " 'citations': 765,\n",
              " 'sites': 766,\n",
              " 'jews': 767,\n",
              " 'actions': 768,\n",
              " 'hand': 769,\n",
              " 'bias': 770,\n",
              " 'previous': 771,\n",
              " 'third': 772,\n",
              " 'hours': 773,\n",
              " 'human': 774,\n",
              " '18': 775,\n",
              " 'works': 776,\n",
              " 'nonsense': 777,\n",
              " 'science': 778,\n",
              " 'ones': 779,\n",
              " 'death': 780,\n",
              " 'action': 781,\n",
              " '17': 782,\n",
              " 'enjoy': 783,\n",
              " \"aren't\": 784,\n",
              " 'job': 785,\n",
              " 'proper': 786,\n",
              " 'longer': 787,\n",
              " 'large': 788,\n",
              " 'together': 789,\n",
              " 'sucks': 790,\n",
              " '\\xa0': 791,\n",
              " '13': 792,\n",
              " 'addition': 793,\n",
              " \"wouldn't\": 794,\n",
              " 'avoid': 795,\n",
              " 'creating': 796,\n",
              " 'happened': 797,\n",
              " '19': 798,\n",
              " 'valid': 799,\n",
              " 'jewish': 800,\n",
              " 'german': 801,\n",
              " 'deal': 802,\n",
              " '21': 803,\n",
              " 'automatically': 804,\n",
              " 'biased': 805,\n",
              " 'proof': 806,\n",
              " 'worked': 807,\n",
              " 'im': 808,\n",
              " 'series': 809,\n",
              " 'dick': 810,\n",
              " 'goes': 811,\n",
              " 'himself': 812,\n",
              " 'seriously': 813,\n",
              " \"what's\": 814,\n",
              " '23': 815,\n",
              " 'level': 816,\n",
              " 'standard': 817,\n",
              " 'f': 818,\n",
              " '2009': 819,\n",
              " 'accepted': 820,\n",
              " 'respect': 821,\n",
              " 'exist': 822,\n",
              " 'available': 823,\n",
              " 'de': 824,\n",
              " 'helpful': 825,\n",
              " 'video': 826,\n",
              " 'comes': 827,\n",
              " '22': 828,\n",
              " 'meaning': 829,\n",
              " \"shouldn't\": 830,\n",
              " 'manual': 831,\n",
              " 'living': 832,\n",
              " 'opinions': 833,\n",
              " 'sex': 834,\n",
              " 'rights': 835,\n",
              " 'act': 836,\n",
              " 'tildes': 837,\n",
              " 'criticism': 838,\n",
              " 'play': 839,\n",
              " '2010': 840,\n",
              " 'necessary': 841,\n",
              " 'calling': 842,\n",
              " 'accept': 843,\n",
              " 'sections': 844,\n",
              " 'indicate': 845,\n",
              " 'personally': 846,\n",
              " 'yeah': 847,\n",
              " '30': 848,\n",
              " 'july': 849,\n",
              " 'hell': 850,\n",
              " 'accurate': 851,\n",
              " 'violation': 852,\n",
              " 'statements': 853,\n",
              " 'pig': 854,\n",
              " 'attempt': 855,\n",
              " 'months': 856,\n",
              " 'assume': 857,\n",
              " 'afd': 858,\n",
              " 'upon': 859,\n",
              " 'historical': 860,\n",
              " 'usually': 861,\n",
              " 'debate': 862,\n",
              " \"let's\": 863,\n",
              " 'pro': 864,\n",
              " 'details': 865,\n",
              " 'multiple': 866,\n",
              " 'blocking': 867,\n",
              " 'south': 868,\n",
              " 'rest': 869,\n",
              " 'tagged': 870,\n",
              " 'width': 871,\n",
              " 'serious': 872,\n",
              " 'doubt': 873,\n",
              " 'record': 874,\n",
              " 'greek': 875,\n",
              " 'm': 876,\n",
              " 'r': 877,\n",
              " \"they're\": 878,\n",
              " 'separate': 879,\n",
              " 'v': 880,\n",
              " 'space': 881,\n",
              " 'situation': 882,\n",
              " 'cause': 883,\n",
              " \"you'll\": 884,\n",
              " 'speak': 885,\n",
              " 'heard': 886,\n",
              " 'explaining': 887,\n",
              " 'okay': 888,\n",
              " 'refer': 889,\n",
              " 'fix': 890,\n",
              " 'run': 891,\n",
              " 'quality': 892,\n",
              " 'data': 893,\n",
              " 'complete': 894,\n",
              " 'penis': 895,\n",
              " 'sock': 896,\n",
              " 'church': 897,\n",
              " 'w': 898,\n",
              " 'messages': 899,\n",
              " 'none': 900,\n",
              " 'india': 901,\n",
              " 'asking': 902,\n",
              " 'august': 903,\n",
              " 'online': 904,\n",
              " 'lack': 905,\n",
              " 'legal': 906,\n",
              " 'period': 907,\n",
              " 'freedom': 908,\n",
              " 'team': 909,\n",
              " 'military': 910,\n",
              " 'rationale': 911,\n",
              " 'behavior': 912,\n",
              " 'prove': 913,\n",
              " 'apparently': 914,\n",
              " 'access': 915,\n",
              " 'special': 916,\n",
              " 'close': 917,\n",
              " 'changing': 918,\n",
              " 'bullshit': 919,\n",
              " 'directly': 920,\n",
              " 'watch': 921,\n",
              " 'culture': 922,\n",
              " 'difference': 923,\n",
              " 'march': 924,\n",
              " 'early': 925,\n",
              " 'box': 926,\n",
              " 'contribute': 927,\n",
              " 'wikipedian': 928,\n",
              " 'existing': 929,\n",
              " 'huge': 930,\n",
              " 'gets': 931,\n",
              " 'html': 932,\n",
              " 'couple': 933,\n",
              " '25': 934,\n",
              " 'among': 935,\n",
              " 'civil': 936,\n",
              " 'warring': 937,\n",
              " 'supposed': 938,\n",
              " 'primary': 939,\n",
              " 'except': 940,\n",
              " 'head': 941,\n",
              " 'countries': 942,\n",
              " 'born': 943,\n",
              " 'meant': 944,\n",
              " 'modern': 945,\n",
              " '50': 946,\n",
              " 'photo': 947,\n",
              " 'described': 948,\n",
              " 'incorrect': 949,\n",
              " 'fish': 950,\n",
              " 'uses': 951,\n",
              " 'disruptive': 952,\n",
              " 'significant': 953,\n",
              " 'field': 954,\n",
              " 'specifically': 955,\n",
              " 'red': 956,\n",
              " 'purpose': 957,\n",
              " 'pillars': 958,\n",
              " 'friend': 959,\n",
              " 'release': 960,\n",
              " 'archive': 961,\n",
              " 'million': 962,\n",
              " 'produce': 963,\n",
              " 'tv': 964,\n",
              " 'error': 965,\n",
              " 'force': 966,\n",
              " 'table': 967,\n",
              " 'earlier': 968,\n",
              " 'business': 969,\n",
              " 'computer': 970,\n",
              " 'june': 971,\n",
              " 'sometimes': 972,\n",
              " 'half': 973,\n",
              " 'cases': 974,\n",
              " 'outside': 975,\n",
              " 'vote': 976,\n",
              " 'x': 977,\n",
              " 'inclusion': 978,\n",
              " 'particularly': 979,\n",
              " 'character': 980,\n",
              " 'pictures': 981,\n",
              " 'gave': 982,\n",
              " 'linked': 983,\n",
              " 'abuse': 984,\n",
              " '27': 985,\n",
              " 'control': 986,\n",
              " 'possibly': 987,\n",
              " 'numbers': 988,\n",
              " 'home': 989,\n",
              " 'anonymous': 990,\n",
              " 'member': 991,\n",
              " 'january': 992,\n",
              " 'christian': 993,\n",
              " 'scientific': 994,\n",
              " 'arguments': 995,\n",
              " 'tutorial': 996,\n",
              " '2012': 997,\n",
              " 'n': 998,\n",
              " 'reported': 999,\n",
              " 'border': 1000,\n",
              " ...}"
            ]
          },
          "metadata": {
            "tags": []
          },
          "execution_count": 45
        }
      ]
    },
    {
      "cell_type": "markdown",
      "metadata": {
        "id": "s_nyPsVLNW-f",
        "colab_type": "text"
      },
      "source": [
        "Преобразуем комментарии в числовое представление"
      ]
    },
    {
      "cell_type": "code",
      "metadata": {
        "id": "bMZ6e-zEJHr1",
        "colab_type": "code",
        "colab": {}
      },
      "source": [
        "sequences = tokenizer.texts_to_sequences(comments)"
      ],
      "execution_count": null,
      "outputs": []
    },
    {
      "cell_type": "markdown",
      "metadata": {
        "id": "aZ_NJ2SlNwMI",
        "colab_type": "text"
      },
      "source": [
        "Просматриваем новости в числовом представлении"
      ]
    },
    {
      "cell_type": "code",
      "metadata": {
        "id": "xIUJvjguN0S0",
        "colab_type": "code",
        "colab": {
          "base_uri": "https://localhost:8080/",
          "height": 51
        },
        "outputId": "b926ddc6-43c8-43cd-efb1-3ec1340ef317"
      },
      "source": [
        "index = 1\n",
        "print(comments[index])\n",
        "print(sequences[index])"
      ],
      "execution_count": null,
      "outputs": [
        {
          "output_type": "stream",
          "text": [
            "D'aww! He matches this background colour I'm seemingly stuck with. Thanks.  (talk) 21:51, January 11, 2016 (UTC)\n",
            "[52, 2635, 13, 555, 3809, 73, 4556, 2706, 21, 94, 38, 803, 2679, 992, 589, 8377, 182]\n"
          ],
          "name": "stdout"
        }
      ]
    },
    {
      "cell_type": "code",
      "metadata": {
        "id": "sQn0O5kBtmyJ",
        "colab_type": "code",
        "colab": {
          "base_uri": "https://localhost:8080/",
          "height": 34
        },
        "outputId": "7b95cea4-c99b-42a0-9f9d-8dcc66a71441"
      },
      "source": [
        "tokenizer.word_index['he']"
      ],
      "execution_count": null,
      "outputs": [
        {
          "output_type": "execute_result",
          "data": {
            "text/plain": [
              "52"
            ]
          },
          "metadata": {
            "tags": []
          },
          "execution_count": 48
        }
      ]
    },
    {
      "cell_type": "markdown",
      "metadata": {
        "id": "neSZfrw3OYPx",
        "colab_type": "text"
      },
      "source": [
        "Ограничиваем длину отзывов"
      ]
    },
    {
      "cell_type": "code",
      "metadata": {
        "id": "ZGLpcETkN3ex",
        "colab_type": "code",
        "colab": {}
      },
      "source": [
        "x_train = pad_sequences(sequences, maxlen=max_comment_len)"
      ],
      "execution_count": null,
      "outputs": []
    },
    {
      "cell_type": "code",
      "metadata": {
        "id": "mPW1VACmOrrm",
        "colab_type": "code",
        "colab": {
          "base_uri": "https://localhost:8080/",
          "height": 446
        },
        "outputId": "3231344e-3ab9-4138-a716-df7b7007f4ae"
      },
      "source": [
        "x_train[:5]"
      ],
      "execution_count": null,
      "outputs": [
        {
          "output_type": "execute_result",
          "data": {
            "text/plain": [
              "array([[   0,    0,    0,    0,    0,    0,  688,   75,    1,  126,  130,\n",
              "         177,   29,  672, 4511, 1116,   86,  331,   51, 2278,   50, 6864,\n",
              "          15,   60, 2756,  148,    7, 2937,   34,  117, 1221, 2825,    4,\n",
              "          45,   59,  244,    1,  365,   31,    1,   38,   27,  143,   73,\n",
              "        3462,   89, 3085, 4583, 2273,  985],\n",
              "       [   0,    0,    0,    0,    0,    0,    0,    0,    0,    0,    0,\n",
              "           0,    0,    0,    0,    0,    0,    0,    0,    0,    0,    0,\n",
              "           0,    0,    0,    0,    0,    0,    0,    0,    0,    0,    0,\n",
              "          52, 2635,   13,  555, 3809,   73, 4556, 2706,   21,   94,   38,\n",
              "         803, 2679,  992,  589, 8377,  182],\n",
              "       [   0,    0,    0,    0,    0,    0,    0,    0,  412,  437,   73,\n",
              "         134,   14,  249,    2,   71,  314,   78,   50,    9,   13,  626,\n",
              "           8, 2284,  492,  502,  102,    4,  611,    2,   35,  325,  126,\n",
              "         363,    3,   29,   38,   27,   52,  208,    2,  434,   57,   36,\n",
              "           1, 2394,   93,    1,  737,  468],\n",
              "       [  12, 2394,  275,   15,  277,   25,  105,    2,   33,   11,  206,\n",
              "          45,  267,   35,   69,   41,  542,    2,   16,    5, 5956,   15,\n",
              "          80,   12,  385,   37,    7,  645,   41,   85,   16,    5, 2024,\n",
              "         386,    5, 3057, 3245,   76,   78,  424,   10,    1,  502,  640,\n",
              "        3597,   28,   98,   23, 3542, 4901],\n",
              "       [   0,    0,    0,    0,    0,    0,    0,    0,    0,    0,    0,\n",
              "           0,    0,    0,    0,    0,    0,    0,    0,    0,    0,    0,\n",
              "           0,    0,    0,    0,    0,    0,    0,    0,    0,    0,    0,\n",
              "           0,    0,    0,    0,    6, 1677,   19,   29, 3516,   54, 1069,\n",
              "           6,  579,   39,   27,  205,   15]], dtype=int32)"
            ]
          },
          "metadata": {
            "tags": []
          },
          "execution_count": 35
        }
      ]
    },
    {
      "cell_type": "markdown",
      "metadata": {
        "colab_type": "text",
        "id": "VFUTMuKL8SNY"
      },
      "source": [
        "## Cеть LSTM"
      ]
    },
    {
      "cell_type": "code",
      "metadata": {
        "colab_type": "code",
        "id": "s_ZqIgqS8SNa",
        "colab": {}
      },
      "source": [
        "model_lstm = Sequential()\n",
        "model_lstm.add(Embedding(num_words, 128, input_length=max_comment_len))\n",
        "model_lstm.add(SpatialDropout1D(0.5))\n",
        "model_lstm.add(LSTM(40, return_sequences=True))\n",
        "model_lstm.add(LSTM(40))\n",
        "model_lstm.add(Dense(6, activation='sigmoid'))"
      ],
      "execution_count": null,
      "outputs": []
    },
    {
      "cell_type": "code",
      "metadata": {
        "colab_type": "code",
        "id": "IoxJ8kNf8SNc",
        "colab": {}
      },
      "source": [
        "model_lstm.compile(optimizer='adam', \n",
        "              loss='binary_crossentropy', \n",
        "              metrics=['accuracy', 'AUC'])"
      ],
      "execution_count": null,
      "outputs": []
    },
    {
      "cell_type": "code",
      "metadata": {
        "colab_type": "code",
        "id": "KNc2OK3j8SNe",
        "colab": {
          "base_uri": "https://localhost:8080/",
          "height": 326
        },
        "outputId": "423b9b06-37d7-4874-d34c-5d137b6fa23b"
      },
      "source": [
        "model_lstm.summary()"
      ],
      "execution_count": null,
      "outputs": [
        {
          "output_type": "stream",
          "text": [
            "Model: \"sequential_2\"\n",
            "_________________________________________________________________\n",
            "Layer (type)                 Output Shape              Param #   \n",
            "=================================================================\n",
            "embedding_2 (Embedding)      (None, 50, 128)           1280000   \n",
            "_________________________________________________________________\n",
            "spatial_dropout1d_2 (Spatial (None, 50, 128)           0         \n",
            "_________________________________________________________________\n",
            "lstm_4 (LSTM)                (None, 50, 40)            27040     \n",
            "_________________________________________________________________\n",
            "lstm_5 (LSTM)                (None, 40)                12960     \n",
            "_________________________________________________________________\n",
            "dense_2 (Dense)              (None, 6)                 246       \n",
            "=================================================================\n",
            "Total params: 1,320,246\n",
            "Trainable params: 1,320,246\n",
            "Non-trainable params: 0\n",
            "_________________________________________________________________\n"
          ],
          "name": "stdout"
        }
      ]
    },
    {
      "cell_type": "markdown",
      "metadata": {
        "colab_type": "text",
        "id": "KzJtvcIa8SNh"
      },
      "source": [
        "Создаем callback для сохранения нейронной сети на каждой эпохе, если качество работы на проверочном наборе данных улучшилось. Сеть сохраняется в файл `best_model.h5`"
      ]
    },
    {
      "cell_type": "code",
      "metadata": {
        "colab_type": "code",
        "id": "qCu0Xlyj8SNi",
        "colab": {}
      },
      "source": [
        "model_lstm_save_path = 'best_model_lstm.h5'\n",
        "checkpoint_callback_lstm = ModelCheckpoint(model_lstm_save_path, \n",
        "                                      monitor='val_accuracy',\n",
        "                                      save_best_only=True,\n",
        "                                      verbose=1)"
      ],
      "execution_count": null,
      "outputs": []
    },
    {
      "cell_type": "code",
      "metadata": {
        "colab_type": "code",
        "id": "znNeO0lO8SNk",
        "colab": {
          "base_uri": "https://localhost:8080/",
          "height": 431
        },
        "outputId": "7ccf222f-865a-45b2-ac70-80da905d0919"
      },
      "source": [
        "history_lstm = model_lstm.fit(x_train, \n",
        "                              y_train, \n",
        "                              epochs=5,\n",
        "                              batch_size=512,\n",
        "                              validation_split=0.2,\n",
        "                              callbacks=[checkpoint_callback_lstm])"
      ],
      "execution_count": null,
      "outputs": [
        {
          "output_type": "stream",
          "text": [
            "Epoch 1/5\n",
            "WARNING:tensorflow:From /usr/local/lib/python3.6/dist-packages/tensorflow/python/ops/resource_variable_ops.py:1817: calling BaseResourceVariable.__init__ (from tensorflow.python.ops.resource_variable_ops) with constraint is deprecated and will be removed in a future version.\n",
            "Instructions for updating:\n",
            "If using Keras pass *_constraint arguments to layers.\n",
            "249/250 [============================>.] - ETA: 0s - loss: 0.1800 - accuracy: 0.8829 - auc: 0.6921\n",
            "Epoch 00001: val_accuracy improved from -inf to 0.99348, saving model to best_model_lstm.h5\n",
            "250/250 [==============================] - 8s 33ms/step - loss: 0.1798 - accuracy: 0.8830 - auc: 0.6923 - val_loss: 0.1385 - val_accuracy: 0.9935 - val_auc: 0.7902\n",
            "Epoch 2/5\n",
            "249/250 [============================>.] - ETA: 0s - loss: 0.0969 - accuracy: 0.9929 - auc: 0.9224\n",
            "Epoch 00002: val_accuracy improved from 0.99348 to 0.99361, saving model to best_model_lstm.h5\n",
            "250/250 [==============================] - 7s 29ms/step - loss: 0.0967 - accuracy: 0.9929 - auc: 0.9224 - val_loss: 0.0621 - val_accuracy: 0.9936 - val_auc: 0.9696\n",
            "Epoch 3/5\n",
            "249/250 [============================>.] - ETA: 0s - loss: 0.0572 - accuracy: 0.9940 - auc: 0.9738\n",
            "Epoch 00003: val_accuracy improved from 0.99361 to 0.99408, saving model to best_model_lstm.h5\n",
            "250/250 [==============================] - 7s 29ms/step - loss: 0.0571 - accuracy: 0.9941 - auc: 0.9739 - val_loss: 0.0561 - val_accuracy: 0.9941 - val_auc: 0.9723\n",
            "Epoch 4/5\n",
            "249/250 [============================>.] - ETA: 0s - loss: 0.0521 - accuracy: 0.9942 - auc: 0.9774\n",
            "Epoch 00004: val_accuracy improved from 0.99408 to 0.99411, saving model to best_model_lstm.h5\n",
            "250/250 [==============================] - 7s 29ms/step - loss: 0.0520 - accuracy: 0.9942 - auc: 0.9775 - val_loss: 0.0553 - val_accuracy: 0.9941 - val_auc: 0.9711\n",
            "Epoch 5/5\n",
            "249/250 [============================>.] - ETA: 0s - loss: 0.0495 - accuracy: 0.9941 - auc: 0.9786\n",
            "Epoch 00005: val_accuracy did not improve from 0.99411\n",
            "250/250 [==============================] - 7s 29ms/step - loss: 0.0494 - accuracy: 0.9942 - auc: 0.9787 - val_loss: 0.0546 - val_accuracy: 0.9941 - val_auc: 0.9671\n"
          ],
          "name": "stdout"
        }
      ]
    },
    {
      "cell_type": "code",
      "metadata": {
        "colab_type": "code",
        "id": "iFTVTtcM8SNm",
        "colab": {
          "base_uri": "https://localhost:8080/",
          "height": 279
        },
        "outputId": "723c869e-4ed1-4c37-95bb-aa4ef7e37b01"
      },
      "source": [
        "plt.plot(history_lstm.history['accuracy'], \n",
        "         label='Доля верных ответов на обучающем наборе')\n",
        "plt.plot(history_lstm.history['val_accuracy'], \n",
        "         label='Доля верных ответов на проверочном наборе')\n",
        "plt.xlabel('Эпоха обучения')\n",
        "plt.ylabel('Доля верных ответов')\n",
        "plt.legend()\n",
        "plt.show()"
      ],
      "execution_count": null,
      "outputs": [
        {
          "output_type": "display_data",
          "data": {
            "image/png": "[encoded data removed]",
            "text/plain": [
              "<Figure size 432x288 with 1 Axes>"
            ]
          },
          "metadata": {
            "tags": [],
            "needs_background": "light"
          }
        }
      ]
    },
    {
      "cell_type": "markdown",
      "metadata": {
        "id": "Ma51nugyR5Ct",
        "colab_type": "text"
      },
      "source": [
        "## Загружаем набор данных для тестирования"
      ]
    },
    {
      "cell_type": "code",
      "metadata": {
        "id": "0OQ9iHYWYJ7G",
        "colab_type": "code",
        "colab": {}
      },
      "source": [
        "test_comments = pd.read_csv('test.csv')"
      ],
      "execution_count": null,
      "outputs": []
    },
    {
      "cell_type": "code",
      "metadata": {
        "id": "4W8Exe9nYYC6",
        "colab_type": "code",
        "colab": {
          "base_uri": "https://localhost:8080/",
          "height": 357
        },
        "outputId": "de1d4abe-d2ba-407e-f7b4-a24940947d55"
      },
      "source": [
        "test_comments[:10]"
      ],
      "execution_count": null,
      "outputs": [
        {
          "output_type": "execute_result",
          "data": {
            "text/html": [
              "<div>\n",
              "<style scoped>\n",
              "    .dataframe tbody tr th:only-of-type {\n",
              "        vertical-align: middle;\n",
              "    }\n",
              "\n",
              "    .dataframe tbody tr th {\n",
              "        vertical-align: top;\n",
              "    }\n",
              "\n",
              "    .dataframe thead th {\n",
              "        text-align: right;\n",
              "    }\n",
              "</style>\n",
              "<table border=\"1\" class=\"dataframe\">\n",
              "  <thead>\n",
              "    <tr style=\"text-align: right;\">\n",
              "      <th></th>\n",
              "      <th>id</th>\n",
              "      <th>comment_text</th>\n",
              "    </tr>\n",
              "  </thead>\n",
              "  <tbody>\n",
              "    <tr>\n",
              "      <th>0</th>\n",
              "      <td>00001cee341fdb12</td>\n",
              "      <td>Yo bitch Ja Rule is more succesful then you'll...</td>\n",
              "    </tr>\n",
              "    <tr>\n",
              "      <th>1</th>\n",
              "      <td>0000247867823ef7</td>\n",
              "      <td>== From RfC == \\n\\n The title is fine as it is...</td>\n",
              "    </tr>\n",
              "    <tr>\n",
              "      <th>2</th>\n",
              "      <td>00013b17ad220c46</td>\n",
              "      <td>\" \\n\\n == Sources == \\n\\n * Zawe Ashton on Lap...</td>\n",
              "    </tr>\n",
              "    <tr>\n",
              "      <th>3</th>\n",
              "      <td>00017563c3f7919a</td>\n",
              "      <td>:If you have a look back at the source, the in...</td>\n",
              "    </tr>\n",
              "    <tr>\n",
              "      <th>4</th>\n",
              "      <td>00017695ad8997eb</td>\n",
              "      <td>I don't anonymously edit articles at all.</td>\n",
              "    </tr>\n",
              "    <tr>\n",
              "      <th>5</th>\n",
              "      <td>0001ea8717f6de06</td>\n",
              "      <td>Thank you for understanding. I think very high...</td>\n",
              "    </tr>\n",
              "    <tr>\n",
              "      <th>6</th>\n",
              "      <td>00024115d4cbde0f</td>\n",
              "      <td>Please do not add nonsense to Wikipedia. Such ...</td>\n",
              "    </tr>\n",
              "    <tr>\n",
              "      <th>7</th>\n",
              "      <td>000247e83dcc1211</td>\n",
              "      <td>:Dear god this site is horrible.</td>\n",
              "    </tr>\n",
              "    <tr>\n",
              "      <th>8</th>\n",
              "      <td>00025358d4737918</td>\n",
              "      <td>\" \\n Only a fool can believe in such numbers. ...</td>\n",
              "    </tr>\n",
              "    <tr>\n",
              "      <th>9</th>\n",
              "      <td>00026d1092fe71cc</td>\n",
              "      <td>== Double Redirects == \\n\\n When fixing double...</td>\n",
              "    </tr>\n",
              "  </tbody>\n",
              "</table>\n",
              "</div>"
            ],
            "text/plain": [
              "                 id                                       comment_text\n",
              "0  00001cee341fdb12  Yo bitch Ja Rule is more succesful then you'll...\n",
              "1  0000247867823ef7  == From RfC == \\n\\n The title is fine as it is...\n",
              "2  00013b17ad220c46  \" \\n\\n == Sources == \\n\\n * Zawe Ashton on Lap...\n",
              "3  00017563c3f7919a  :If you have a look back at the source, the in...\n",
              "4  00017695ad8997eb          I don't anonymously edit articles at all.\n",
              "5  0001ea8717f6de06  Thank you for understanding. I think very high...\n",
              "6  00024115d4cbde0f  Please do not add nonsense to Wikipedia. Such ...\n",
              "7  000247e83dcc1211                   :Dear god this site is horrible.\n",
              "8  00025358d4737918  \" \\n Only a fool can believe in such numbers. ...\n",
              "9  00026d1092fe71cc  == Double Redirects == \\n\\n When fixing double..."
            ]
          },
          "metadata": {
            "tags": []
          },
          "execution_count": 48
        }
      ]
    },
    {
      "cell_type": "code",
      "metadata": {
        "id": "-kLrcGnBUYwo",
        "colab_type": "code",
        "colab": {}
      },
      "source": [
        "test_labels = pd.read_csv('test_labels.csv')"
      ],
      "execution_count": null,
      "outputs": []
    },
    {
      "cell_type": "code",
      "metadata": {
        "id": "o6aoulb_Uh6O",
        "colab_type": "code",
        "colab": {
          "base_uri": "https://localhost:8080/",
          "height": 357
        },
        "outputId": "79907572-27a7-4a27-a8ff-d1c3d0481c3c"
      },
      "source": [
        "test_labels[:10]"
      ],
      "execution_count": null,
      "outputs": [
        {
          "output_type": "execute_result",
          "data": {
            "text/html": [
              "<div>\n",
              "<style scoped>\n",
              "    .dataframe tbody tr th:only-of-type {\n",
              "        vertical-align: middle;\n",
              "    }\n",
              "\n",
              "    .dataframe tbody tr th {\n",
              "        vertical-align: top;\n",
              "    }\n",
              "\n",
              "    .dataframe thead th {\n",
              "        text-align: right;\n",
              "    }\n",
              "</style>\n",
              "<table border=\"1\" class=\"dataframe\">\n",
              "  <thead>\n",
              "    <tr style=\"text-align: right;\">\n",
              "      <th></th>\n",
              "      <th>id</th>\n",
              "      <th>toxic</th>\n",
              "      <th>severe_toxic</th>\n",
              "      <th>obscene</th>\n",
              "      <th>threat</th>\n",
              "      <th>insult</th>\n",
              "      <th>identity_hate</th>\n",
              "    </tr>\n",
              "  </thead>\n",
              "  <tbody>\n",
              "    <tr>\n",
              "      <th>0</th>\n",
              "      <td>00001cee341fdb12</td>\n",
              "      <td>-1</td>\n",
              "      <td>-1</td>\n",
              "      <td>-1</td>\n",
              "      <td>-1</td>\n",
              "      <td>-1</td>\n",
              "      <td>-1</td>\n",
              "    </tr>\n",
              "    <tr>\n",
              "      <th>1</th>\n",
              "      <td>0000247867823ef7</td>\n",
              "      <td>-1</td>\n",
              "      <td>-1</td>\n",
              "      <td>-1</td>\n",
              "      <td>-1</td>\n",
              "      <td>-1</td>\n",
              "      <td>-1</td>\n",
              "    </tr>\n",
              "    <tr>\n",
              "      <th>2</th>\n",
              "      <td>00013b17ad220c46</td>\n",
              "      <td>-1</td>\n",
              "      <td>-1</td>\n",
              "      <td>-1</td>\n",
              "      <td>-1</td>\n",
              "      <td>-1</td>\n",
              "      <td>-1</td>\n",
              "    </tr>\n",
              "    <tr>\n",
              "      <th>3</th>\n",
              "      <td>00017563c3f7919a</td>\n",
              "      <td>-1</td>\n",
              "      <td>-1</td>\n",
              "      <td>-1</td>\n",
              "      <td>-1</td>\n",
              "      <td>-1</td>\n",
              "      <td>-1</td>\n",
              "    </tr>\n",
              "    <tr>\n",
              "      <th>4</th>\n",
              "      <td>00017695ad8997eb</td>\n",
              "      <td>-1</td>\n",
              "      <td>-1</td>\n",
              "      <td>-1</td>\n",
              "      <td>-1</td>\n",
              "      <td>-1</td>\n",
              "      <td>-1</td>\n",
              "    </tr>\n",
              "    <tr>\n",
              "      <th>5</th>\n",
              "      <td>0001ea8717f6de06</td>\n",
              "      <td>0</td>\n",
              "      <td>0</td>\n",
              "      <td>0</td>\n",
              "      <td>0</td>\n",
              "      <td>0</td>\n",
              "      <td>0</td>\n",
              "    </tr>\n",
              "    <tr>\n",
              "      <th>6</th>\n",
              "      <td>00024115d4cbde0f</td>\n",
              "      <td>-1</td>\n",
              "      <td>-1</td>\n",
              "      <td>-1</td>\n",
              "      <td>-1</td>\n",
              "      <td>-1</td>\n",
              "      <td>-1</td>\n",
              "    </tr>\n",
              "    <tr>\n",
              "      <th>7</th>\n",
              "      <td>000247e83dcc1211</td>\n",
              "      <td>0</td>\n",
              "      <td>0</td>\n",
              "      <td>0</td>\n",
              "      <td>0</td>\n",
              "      <td>0</td>\n",
              "      <td>0</td>\n",
              "    </tr>\n",
              "    <tr>\n",
              "      <th>8</th>\n",
              "      <td>00025358d4737918</td>\n",
              "      <td>-1</td>\n",
              "      <td>-1</td>\n",
              "      <td>-1</td>\n",
              "      <td>-1</td>\n",
              "      <td>-1</td>\n",
              "      <td>-1</td>\n",
              "    </tr>\n",
              "    <tr>\n",
              "      <th>9</th>\n",
              "      <td>00026d1092fe71cc</td>\n",
              "      <td>-1</td>\n",
              "      <td>-1</td>\n",
              "      <td>-1</td>\n",
              "      <td>-1</td>\n",
              "      <td>-1</td>\n",
              "      <td>-1</td>\n",
              "    </tr>\n",
              "  </tbody>\n",
              "</table>\n",
              "</div>"
            ],
            "text/plain": [
              "                 id  toxic  severe_toxic  ...  threat  insult  identity_hate\n",
              "0  00001cee341fdb12     -1            -1  ...      -1      -1             -1\n",
              "1  0000247867823ef7     -1            -1  ...      -1      -1             -1\n",
              "2  00013b17ad220c46     -1            -1  ...      -1      -1             -1\n",
              "3  00017563c3f7919a     -1            -1  ...      -1      -1             -1\n",
              "4  00017695ad8997eb     -1            -1  ...      -1      -1             -1\n",
              "5  0001ea8717f6de06      0             0  ...       0       0              0\n",
              "6  00024115d4cbde0f     -1            -1  ...      -1      -1             -1\n",
              "7  000247e83dcc1211      0             0  ...       0       0              0\n",
              "8  00025358d4737918     -1            -1  ...      -1      -1             -1\n",
              "9  00026d1092fe71cc     -1            -1  ...      -1      -1             -1\n",
              "\n",
              "[10 rows x 7 columns]"
            ]
          },
          "metadata": {
            "tags": []
          },
          "execution_count": 50
        }
      ]
    },
    {
      "cell_type": "code",
      "metadata": {
        "id": "QsnX-eJqUyyY",
        "colab_type": "code",
        "colab": {}
      },
      "source": [
        "test_full = pd.merge(test_comments, test_labels, on='id')"
      ],
      "execution_count": null,
      "outputs": []
    },
    {
      "cell_type": "code",
      "metadata": {
        "id": "DNj9wMmkWDSG",
        "colab_type": "code",
        "colab": {
          "base_uri": "https://localhost:8080/",
          "height": 434
        },
        "outputId": "5d16024c-ea39-4801-9756-d9f80f008a9e"
      },
      "source": [
        "test_full"
      ],
      "execution_count": null,
      "outputs": [
        {
          "output_type": "execute_result",
          "data": {
            "text/html": [
              "<div>\n",
              "<style scoped>\n",
              "    .dataframe tbody tr th:only-of-type {\n",
              "        vertical-align: middle;\n",
              "    }\n",
              "\n",
              "    .dataframe tbody tr th {\n",
              "        vertical-align: top;\n",
              "    }\n",
              "\n",
              "    .dataframe thead th {\n",
              "        text-align: right;\n",
              "    }\n",
              "</style>\n",
              "<table border=\"1\" class=\"dataframe\">\n",
              "  <thead>\n",
              "    <tr style=\"text-align: right;\">\n",
              "      <th></th>\n",
              "      <th>id</th>\n",
              "      <th>comment_text</th>\n",
              "      <th>toxic</th>\n",
              "      <th>severe_toxic</th>\n",
              "      <th>obscene</th>\n",
              "      <th>threat</th>\n",
              "      <th>insult</th>\n",
              "      <th>identity_hate</th>\n",
              "    </tr>\n",
              "  </thead>\n",
              "  <tbody>\n",
              "    <tr>\n",
              "      <th>0</th>\n",
              "      <td>00001cee341fdb12</td>\n",
              "      <td>Yo bitch Ja Rule is more succesful then you'll...</td>\n",
              "      <td>-1</td>\n",
              "      <td>-1</td>\n",
              "      <td>-1</td>\n",
              "      <td>-1</td>\n",
              "      <td>-1</td>\n",
              "      <td>-1</td>\n",
              "    </tr>\n",
              "    <tr>\n",
              "      <th>1</th>\n",
              "      <td>0000247867823ef7</td>\n",
              "      <td>== From RfC == \\n\\n The title is fine as it is...</td>\n",
              "      <td>-1</td>\n",
              "      <td>-1</td>\n",
              "      <td>-1</td>\n",
              "      <td>-1</td>\n",
              "      <td>-1</td>\n",
              "      <td>-1</td>\n",
              "    </tr>\n",
              "    <tr>\n",
              "      <th>2</th>\n",
              "      <td>00013b17ad220c46</td>\n",
              "      <td>\" \\n\\n == Sources == \\n\\n * Zawe Ashton on Lap...</td>\n",
              "      <td>-1</td>\n",
              "      <td>-1</td>\n",
              "      <td>-1</td>\n",
              "      <td>-1</td>\n",
              "      <td>-1</td>\n",
              "      <td>-1</td>\n",
              "    </tr>\n",
              "    <tr>\n",
              "      <th>3</th>\n",
              "      <td>00017563c3f7919a</td>\n",
              "      <td>:If you have a look back at the source, the in...</td>\n",
              "      <td>-1</td>\n",
              "      <td>-1</td>\n",
              "      <td>-1</td>\n",
              "      <td>-1</td>\n",
              "      <td>-1</td>\n",
              "      <td>-1</td>\n",
              "    </tr>\n",
              "    <tr>\n",
              "      <th>4</th>\n",
              "      <td>00017695ad8997eb</td>\n",
              "      <td>I don't anonymously edit articles at all.</td>\n",
              "      <td>-1</td>\n",
              "      <td>-1</td>\n",
              "      <td>-1</td>\n",
              "      <td>-1</td>\n",
              "      <td>-1</td>\n",
              "      <td>-1</td>\n",
              "    </tr>\n",
              "    <tr>\n",
              "      <th>...</th>\n",
              "      <td>...</td>\n",
              "      <td>...</td>\n",
              "      <td>...</td>\n",
              "      <td>...</td>\n",
              "      <td>...</td>\n",
              "      <td>...</td>\n",
              "      <td>...</td>\n",
              "      <td>...</td>\n",
              "    </tr>\n",
              "    <tr>\n",
              "      <th>153159</th>\n",
              "      <td>fffcd0960ee309b5</td>\n",
              "      <td>. \\n i totally agree, this stuff is nothing bu...</td>\n",
              "      <td>-1</td>\n",
              "      <td>-1</td>\n",
              "      <td>-1</td>\n",
              "      <td>-1</td>\n",
              "      <td>-1</td>\n",
              "      <td>-1</td>\n",
              "    </tr>\n",
              "    <tr>\n",
              "      <th>153160</th>\n",
              "      <td>fffd7a9a6eb32c16</td>\n",
              "      <td>== Throw from out field to home plate. == \\n\\n...</td>\n",
              "      <td>-1</td>\n",
              "      <td>-1</td>\n",
              "      <td>-1</td>\n",
              "      <td>-1</td>\n",
              "      <td>-1</td>\n",
              "      <td>-1</td>\n",
              "    </tr>\n",
              "    <tr>\n",
              "      <th>153161</th>\n",
              "      <td>fffda9e8d6fafa9e</td>\n",
              "      <td>\" \\n\\n == Okinotorishima categories == \\n\\n I ...</td>\n",
              "      <td>-1</td>\n",
              "      <td>-1</td>\n",
              "      <td>-1</td>\n",
              "      <td>-1</td>\n",
              "      <td>-1</td>\n",
              "      <td>-1</td>\n",
              "    </tr>\n",
              "    <tr>\n",
              "      <th>153162</th>\n",
              "      <td>fffe8f1340a79fc2</td>\n",
              "      <td>\" \\n\\n == \"\"One of the founding nations of the...</td>\n",
              "      <td>-1</td>\n",
              "      <td>-1</td>\n",
              "      <td>-1</td>\n",
              "      <td>-1</td>\n",
              "      <td>-1</td>\n",
              "      <td>-1</td>\n",
              "    </tr>\n",
              "    <tr>\n",
              "      <th>153163</th>\n",
              "      <td>ffffce3fb183ee80</td>\n",
              "      <td>\" \\n :::Stop already. Your bullshit is not wel...</td>\n",
              "      <td>-1</td>\n",
              "      <td>-1</td>\n",
              "      <td>-1</td>\n",
              "      <td>-1</td>\n",
              "      <td>-1</td>\n",
              "      <td>-1</td>\n",
              "    </tr>\n",
              "  </tbody>\n",
              "</table>\n",
              "<p>153164 rows × 8 columns</p>\n",
              "</div>"
            ],
            "text/plain": [
              "                      id  ... identity_hate\n",
              "0       00001cee341fdb12  ...            -1\n",
              "1       0000247867823ef7  ...            -1\n",
              "2       00013b17ad220c46  ...            -1\n",
              "3       00017563c3f7919a  ...            -1\n",
              "4       00017695ad8997eb  ...            -1\n",
              "...                  ...  ...           ...\n",
              "153159  fffcd0960ee309b5  ...            -1\n",
              "153160  fffd7a9a6eb32c16  ...            -1\n",
              "153161  fffda9e8d6fafa9e  ...            -1\n",
              "153162  fffe8f1340a79fc2  ...            -1\n",
              "153163  ffffce3fb183ee80  ...            -1\n",
              "\n",
              "[153164 rows x 8 columns]"
            ]
          },
          "metadata": {
            "tags": []
          },
          "execution_count": 58
        }
      ]
    },
    {
      "cell_type": "code",
      "metadata": {
        "id": "ixakEYVyVaWV",
        "colab_type": "code",
        "colab": {}
      },
      "source": [
        "test = test_full[test_full['toxic']!=-1]"
      ],
      "execution_count": null,
      "outputs": []
    },
    {
      "cell_type": "code",
      "metadata": {
        "id": "6jvWJXHBWC34",
        "colab_type": "code",
        "colab": {
          "base_uri": "https://localhost:8080/",
          "height": 486
        },
        "outputId": "1fc4ebf3-2b17-4a1d-af8a-1513e943389e"
      },
      "source": [
        "test"
      ],
      "execution_count": null,
      "outputs": [
        {
          "output_type": "execute_result",
          "data": {
            "text/html": [
              "<div>\n",
              "<style scoped>\n",
              "    .dataframe tbody tr th:only-of-type {\n",
              "        vertical-align: middle;\n",
              "    }\n",
              "\n",
              "    .dataframe tbody tr th {\n",
              "        vertical-align: top;\n",
              "    }\n",
              "\n",
              "    .dataframe thead th {\n",
              "        text-align: right;\n",
              "    }\n",
              "</style>\n",
              "<table border=\"1\" class=\"dataframe\">\n",
              "  <thead>\n",
              "    <tr style=\"text-align: right;\">\n",
              "      <th></th>\n",
              "      <th>id</th>\n",
              "      <th>comment_text</th>\n",
              "      <th>toxic</th>\n",
              "      <th>severe_toxic</th>\n",
              "      <th>obscene</th>\n",
              "      <th>threat</th>\n",
              "      <th>insult</th>\n",
              "      <th>identity_hate</th>\n",
              "    </tr>\n",
              "  </thead>\n",
              "  <tbody>\n",
              "    <tr>\n",
              "      <th>5</th>\n",
              "      <td>0001ea8717f6de06</td>\n",
              "      <td>Thank you for understanding. I think very high...</td>\n",
              "      <td>0</td>\n",
              "      <td>0</td>\n",
              "      <td>0</td>\n",
              "      <td>0</td>\n",
              "      <td>0</td>\n",
              "      <td>0</td>\n",
              "    </tr>\n",
              "    <tr>\n",
              "      <th>7</th>\n",
              "      <td>000247e83dcc1211</td>\n",
              "      <td>:Dear god this site is horrible.</td>\n",
              "      <td>0</td>\n",
              "      <td>0</td>\n",
              "      <td>0</td>\n",
              "      <td>0</td>\n",
              "      <td>0</td>\n",
              "      <td>0</td>\n",
              "    </tr>\n",
              "    <tr>\n",
              "      <th>11</th>\n",
              "      <td>0002f87b16116a7f</td>\n",
              "      <td>\"::: Somebody will invariably try to add Relig...</td>\n",
              "      <td>0</td>\n",
              "      <td>0</td>\n",
              "      <td>0</td>\n",
              "      <td>0</td>\n",
              "      <td>0</td>\n",
              "      <td>0</td>\n",
              "    </tr>\n",
              "    <tr>\n",
              "      <th>13</th>\n",
              "      <td>0003e1cccfd5a40a</td>\n",
              "      <td>\" \\n\\n It says it right there that it IS a typ...</td>\n",
              "      <td>0</td>\n",
              "      <td>0</td>\n",
              "      <td>0</td>\n",
              "      <td>0</td>\n",
              "      <td>0</td>\n",
              "      <td>0</td>\n",
              "    </tr>\n",
              "    <tr>\n",
              "      <th>14</th>\n",
              "      <td>00059ace3e3e9a53</td>\n",
              "      <td>\" \\n\\n == Before adding a new product to the l...</td>\n",
              "      <td>0</td>\n",
              "      <td>0</td>\n",
              "      <td>0</td>\n",
              "      <td>0</td>\n",
              "      <td>0</td>\n",
              "      <td>0</td>\n",
              "    </tr>\n",
              "    <tr>\n",
              "      <th>...</th>\n",
              "      <td>...</td>\n",
              "      <td>...</td>\n",
              "      <td>...</td>\n",
              "      <td>...</td>\n",
              "      <td>...</td>\n",
              "      <td>...</td>\n",
              "      <td>...</td>\n",
              "      <td>...</td>\n",
              "    </tr>\n",
              "    <tr>\n",
              "      <th>153150</th>\n",
              "      <td>fff8f64043129fa2</td>\n",
              "      <td>:Jerome, I see you never got around to this…! ...</td>\n",
              "      <td>0</td>\n",
              "      <td>0</td>\n",
              "      <td>0</td>\n",
              "      <td>0</td>\n",
              "      <td>0</td>\n",
              "      <td>0</td>\n",
              "    </tr>\n",
              "    <tr>\n",
              "      <th>153151</th>\n",
              "      <td>fff9d70fe0722906</td>\n",
              "      <td>==Lucky bastard== \\n http://wikimediafoundatio...</td>\n",
              "      <td>0</td>\n",
              "      <td>0</td>\n",
              "      <td>0</td>\n",
              "      <td>0</td>\n",
              "      <td>0</td>\n",
              "      <td>0</td>\n",
              "    </tr>\n",
              "    <tr>\n",
              "      <th>153154</th>\n",
              "      <td>fffa8a11c4378854</td>\n",
              "      <td>==shame on you all!!!== \\n\\n You want to speak...</td>\n",
              "      <td>0</td>\n",
              "      <td>0</td>\n",
              "      <td>0</td>\n",
              "      <td>0</td>\n",
              "      <td>0</td>\n",
              "      <td>0</td>\n",
              "    </tr>\n",
              "    <tr>\n",
              "      <th>153155</th>\n",
              "      <td>fffac2a094c8e0e2</td>\n",
              "      <td>MEL GIBSON IS A NAZI BITCH WHO MAKES SHITTY MO...</td>\n",
              "      <td>1</td>\n",
              "      <td>0</td>\n",
              "      <td>1</td>\n",
              "      <td>0</td>\n",
              "      <td>1</td>\n",
              "      <td>0</td>\n",
              "    </tr>\n",
              "    <tr>\n",
              "      <th>153156</th>\n",
              "      <td>fffb5451268fb5ba</td>\n",
              "      <td>\" \\n\\n == Unicorn lair discovery == \\n\\n Suppo...</td>\n",
              "      <td>0</td>\n",
              "      <td>0</td>\n",
              "      <td>0</td>\n",
              "      <td>0</td>\n",
              "      <td>0</td>\n",
              "      <td>0</td>\n",
              "    </tr>\n",
              "  </tbody>\n",
              "</table>\n",
              "<p>63978 rows × 8 columns</p>\n",
              "</div>"
            ],
            "text/plain": [
              "                      id  ... identity_hate\n",
              "5       0001ea8717f6de06  ...             0\n",
              "7       000247e83dcc1211  ...             0\n",
              "11      0002f87b16116a7f  ...             0\n",
              "13      0003e1cccfd5a40a  ...             0\n",
              "14      00059ace3e3e9a53  ...             0\n",
              "...                  ...  ...           ...\n",
              "153150  fff8f64043129fa2  ...             0\n",
              "153151  fff9d70fe0722906  ...             0\n",
              "153154  fffa8a11c4378854  ...             0\n",
              "153155  fffac2a094c8e0e2  ...             0\n",
              "153156  fffb5451268fb5ba  ...             0\n",
              "\n",
              "[63978 rows x 8 columns]"
            ]
          },
          "metadata": {
            "tags": []
          },
          "execution_count": 59
        }
      ]
    },
    {
      "cell_type": "markdown",
      "metadata": {
        "id": "xgEjSpX5biaJ",
        "colab_type": "text"
      },
      "source": [
        "Преобразуем комментарии в числовое представление\n",
        "\n",
        "Обратите внимание, что нужно использовать токенизатор, обученный на наборе данных train."
      ]
    },
    {
      "cell_type": "code",
      "metadata": {
        "id": "wE8JtIgybvLx",
        "colab_type": "code",
        "colab": {}
      },
      "source": [
        "test_sequences = tokenizer.texts_to_sequences(test['comment_text'])"
      ],
      "execution_count": null,
      "outputs": []
    },
    {
      "cell_type": "code",
      "metadata": {
        "id": "haKQPtc-byBf",
        "colab_type": "code",
        "colab": {}
      },
      "source": [
        "x_test = pad_sequences(test_sequences, maxlen=max_comment_len)"
      ],
      "execution_count": null,
      "outputs": []
    },
    {
      "cell_type": "code",
      "metadata": {
        "id": "LQsqVZedb-Qf",
        "colab_type": "code",
        "colab": {
          "base_uri": "https://localhost:8080/",
          "height": 446
        },
        "outputId": "cd593a00-4840-4ee6-da3e-91b547eb1389"
      },
      "source": [
        "x_test[:5]"
      ],
      "execution_count": null,
      "outputs": [
        {
          "output_type": "execute_result",
          "data": {
            "text/plain": [
              "array([[   0,    0,    0,    0,    0,    0,    0,    0,    0,    0,    0,\n",
              "           0,    0,    0,    0,    0,    0,    0,    0,    0,    0,    0,\n",
              "           0,    0,    0,    0,    0,    0,    0,    0,    0,    0,    0,\n",
              "           0,  127,    6,   12, 1085,    7,   67,  101, 1092,    3,    6,\n",
              "           4,   47,   14,  360,  175,  137],\n",
              "       [   0,    0,    0,    0,    0,    0,    0,    0,    0,    0,    0,\n",
              "           0,    0,    0,    0,    0,    0,    0,    0,    0,    0,    0,\n",
              "           0,    0,    0,    0,    0,    0,    0,    0,    0,    0,    0,\n",
              "           0,    0,    0,    0,    0,    0,    0,    0,    0,    0,    0,\n",
              "        1050,  559,   13,  293,    8, 3327],\n",
              "       [  74,   18, 1315,  294, 1055,    2,    1, 5799, 1081,    4,   75,\n",
              "          33,    6, 1498, 2804,   76,    1,  250, 1071,  562,  280, 6796,\n",
              "        5670,  258,  173,   50,  272,   76, 1435,   15,    1, 4063,   12,\n",
              "        2326,    1,   77, 4101,   10,    1,  694,   23,    9,   52,    8,\n",
              "         846,  800,    8,   10,    1, 1202],\n",
              "       [1942,  758, 7432,    4, 4564,  289, 7019,  498, 7019,   11,    8,\n",
              "         663,   10,   13,  194,    2, 1836,    9,    8,    5, 1588,   11,\n",
              "         287,   11,   95,   10,  758,  758,   34,  289,  758,    3,  117,\n",
              "        1221,    4,  758,  172,  249,    2,  124,   78,   14,   68,    7,\n",
              "          72, 1031,  145,   10,   13,  194],\n",
              "       [1543,    2,    1,  163,   97,  193,   78,  502,  147,  294,    5,\n",
              "         117, 1543,    2,    1,  163,   97,  193,   11,   43,    5,   28,\n",
              "         603,  229, 4108,   78, 2923,    4, 1016,    1, 1117,    1, 2579,\n",
              "           2,  150,   57,   36,   11,  685,   11,  104,   16,  242,    2,\n",
              "         106,   64,   13,  756, 2033,  178]], dtype=int32)"
            ]
          },
          "metadata": {
            "tags": []
          },
          "execution_count": 67
        }
      ]
    },
    {
      "cell_type": "markdown",
      "metadata": {
        "id": "afswW4zVcPfT",
        "colab_type": "text"
      },
      "source": [
        "Правильные ответы"
      ]
    },
    {
      "cell_type": "code",
      "metadata": {
        "id": "PjySIzu4WRZG",
        "colab_type": "code",
        "colab": {}
      },
      "source": [
        "y_test = test[['toxic',\t'severe_toxic',\t'obscene', 'threat',\t'insult',\t'identity_hate']]"
      ],
      "execution_count": null,
      "outputs": []
    },
    {
      "cell_type": "code",
      "metadata": {
        "id": "KTVojov1WhQu",
        "colab_type": "code",
        "colab": {
          "base_uri": "https://localhost:8080/",
          "height": 357
        },
        "outputId": "0026bb7c-0350-40f1-9073-6aae52f11cad"
      },
      "source": [
        "y_test[:10]"
      ],
      "execution_count": null,
      "outputs": [
        {
          "output_type": "execute_result",
          "data": {
            "text/html": [
              "<div>\n",
              "<style scoped>\n",
              "    .dataframe tbody tr th:only-of-type {\n",
              "        vertical-align: middle;\n",
              "    }\n",
              "\n",
              "    .dataframe tbody tr th {\n",
              "        vertical-align: top;\n",
              "    }\n",
              "\n",
              "    .dataframe thead th {\n",
              "        text-align: right;\n",
              "    }\n",
              "</style>\n",
              "<table border=\"1\" class=\"dataframe\">\n",
              "  <thead>\n",
              "    <tr style=\"text-align: right;\">\n",
              "      <th></th>\n",
              "      <th>toxic</th>\n",
              "      <th>severe_toxic</th>\n",
              "      <th>obscene</th>\n",
              "      <th>threat</th>\n",
              "      <th>insult</th>\n",
              "      <th>identity_hate</th>\n",
              "    </tr>\n",
              "  </thead>\n",
              "  <tbody>\n",
              "    <tr>\n",
              "      <th>5</th>\n",
              "      <td>0</td>\n",
              "      <td>0</td>\n",
              "      <td>0</td>\n",
              "      <td>0</td>\n",
              "      <td>0</td>\n",
              "      <td>0</td>\n",
              "    </tr>\n",
              "    <tr>\n",
              "      <th>7</th>\n",
              "      <td>0</td>\n",
              "      <td>0</td>\n",
              "      <td>0</td>\n",
              "      <td>0</td>\n",
              "      <td>0</td>\n",
              "      <td>0</td>\n",
              "    </tr>\n",
              "    <tr>\n",
              "      <th>11</th>\n",
              "      <td>0</td>\n",
              "      <td>0</td>\n",
              "      <td>0</td>\n",
              "      <td>0</td>\n",
              "      <td>0</td>\n",
              "      <td>0</td>\n",
              "    </tr>\n",
              "    <tr>\n",
              "      <th>13</th>\n",
              "      <td>0</td>\n",
              "      <td>0</td>\n",
              "      <td>0</td>\n",
              "      <td>0</td>\n",
              "      <td>0</td>\n",
              "      <td>0</td>\n",
              "    </tr>\n",
              "    <tr>\n",
              "      <th>14</th>\n",
              "      <td>0</td>\n",
              "      <td>0</td>\n",
              "      <td>0</td>\n",
              "      <td>0</td>\n",
              "      <td>0</td>\n",
              "      <td>0</td>\n",
              "    </tr>\n",
              "    <tr>\n",
              "      <th>16</th>\n",
              "      <td>0</td>\n",
              "      <td>0</td>\n",
              "      <td>0</td>\n",
              "      <td>0</td>\n",
              "      <td>0</td>\n",
              "      <td>0</td>\n",
              "    </tr>\n",
              "    <tr>\n",
              "      <th>17</th>\n",
              "      <td>0</td>\n",
              "      <td>0</td>\n",
              "      <td>0</td>\n",
              "      <td>0</td>\n",
              "      <td>0</td>\n",
              "      <td>0</td>\n",
              "    </tr>\n",
              "    <tr>\n",
              "      <th>19</th>\n",
              "      <td>0</td>\n",
              "      <td>0</td>\n",
              "      <td>0</td>\n",
              "      <td>0</td>\n",
              "      <td>0</td>\n",
              "      <td>0</td>\n",
              "    </tr>\n",
              "    <tr>\n",
              "      <th>21</th>\n",
              "      <td>1</td>\n",
              "      <td>0</td>\n",
              "      <td>0</td>\n",
              "      <td>0</td>\n",
              "      <td>0</td>\n",
              "      <td>0</td>\n",
              "    </tr>\n",
              "    <tr>\n",
              "      <th>22</th>\n",
              "      <td>0</td>\n",
              "      <td>0</td>\n",
              "      <td>0</td>\n",
              "      <td>0</td>\n",
              "      <td>0</td>\n",
              "      <td>0</td>\n",
              "    </tr>\n",
              "  </tbody>\n",
              "</table>\n",
              "</div>"
            ],
            "text/plain": [
              "    toxic  severe_toxic  obscene  threat  insult  identity_hate\n",
              "5       0             0        0       0       0              0\n",
              "7       0             0        0       0       0              0\n",
              "11      0             0        0       0       0              0\n",
              "13      0             0        0       0       0              0\n",
              "14      0             0        0       0       0              0\n",
              "16      0             0        0       0       0              0\n",
              "17      0             0        0       0       0              0\n",
              "19      0             0        0       0       0              0\n",
              "21      1             0        0       0       0              0\n",
              "22      0             0        0       0       0              0"
            ]
          },
          "metadata": {
            "tags": []
          },
          "execution_count": 69
        }
      ]
    },
    {
      "cell_type": "markdown",
      "metadata": {
        "id": "3DJbzO3ucewV",
        "colab_type": "text"
      },
      "source": [
        "## Оцениваем качество работы сети на тестовом наборе данных"
      ]
    },
    {
      "cell_type": "code",
      "metadata": {
        "colab_type": "code",
        "id": "OEzSL_M-ApHx",
        "colab": {}
      },
      "source": [
        "model_lstm.load_weights(model_lstm_save_path)"
      ],
      "execution_count": null,
      "outputs": []
    },
    {
      "cell_type": "code",
      "metadata": {
        "colab_type": "code",
        "id": "fcGg4jA9AqN4",
        "colab": {
          "base_uri": "https://localhost:8080/",
          "height": 51
        },
        "outputId": "4079f201-82f3-416f-8ce3-dab93defbc85"
      },
      "source": [
        "model_lstm.evaluate(x_test, y_test, verbose=1)"
      ],
      "execution_count": null,
      "outputs": [
        {
          "output_type": "stream",
          "text": [
            "2000/2000 [==============================] - 10s 5ms/step - loss: 0.0744 - accuracy: 0.9976 - auc: 0.9645\n"
          ],
          "name": "stdout"
        },
        {
          "output_type": "execute_result",
          "data": {
            "text/plain": [
              "[0.07438363134860992, 0.9975616335868835, 0.9645270109176636]"
            ]
          },
          "metadata": {
            "tags": []
          },
          "execution_count": 120
        }
      ]
    },
    {
      "cell_type": "markdown",
      "metadata": {
        "id": "IO0qSZqYXmfW",
        "colab_type": "text"
      },
      "source": [
        "## Пробуем классифицировать комментарии"
      ]
    },
    {
      "cell_type": "code",
      "metadata": {
        "id": "v_KKPOpmXsMf",
        "colab_type": "code",
        "colab": {}
      },
      "source": [
        "  comment = \"X-BOX 360 SUKCS BIG BUMM AND LIKES IT UP THE ASS\""
      ],
      "execution_count": null,
      "outputs": []
    },
    {
      "cell_type": "code",
      "metadata": {
        "id": "sQKo5HZFX_4W",
        "colab_type": "code",
        "colab": {}
      },
      "source": [
        "sequence = tokenizer.texts_to_sequences([comment])"
      ],
      "execution_count": null,
      "outputs": []
    },
    {
      "cell_type": "code",
      "metadata": {
        "id": "JNHxPxo4YOZW",
        "colab_type": "code",
        "colab": {
          "base_uri": "https://localhost:8080/",
          "height": 34
        },
        "outputId": "2cee8079-ed77-4fd9-9d60-c1c49843d6db"
      },
      "source": [
        "sequence"
      ],
      "execution_count": null,
      "outputs": [
        {
          "output_type": "execute_result",
          "data": {
            "text/plain": [
              "[[977, 926, 7883, 462, 4, 2272, 11, 76, 1, 417]]"
            ]
          },
          "metadata": {
            "tags": []
          },
          "execution_count": 98
        }
      ]
    },
    {
      "cell_type": "code",
      "metadata": {
        "id": "bktdD9N_YS82",
        "colab_type": "code",
        "colab": {}
      },
      "source": [
        "data = pad_sequences(sequence, maxlen=max_comment_len)"
      ],
      "execution_count": null,
      "outputs": []
    },
    {
      "cell_type": "code",
      "metadata": {
        "id": "vo957T3cYWSO",
        "colab_type": "code",
        "colab": {
          "base_uri": "https://localhost:8080/",
          "height": 103
        },
        "outputId": "fd31aa45-b595-41fc-af75-75e42c8d8ba2"
      },
      "source": [
        "data"
      ],
      "execution_count": null,
      "outputs": [
        {
          "output_type": "execute_result",
          "data": {
            "text/plain": [
              "array([[   0,    0,    0,    0,    0,    0,    0,    0,    0,    0,    0,\n",
              "           0,    0,    0,    0,    0,    0,    0,    0,    0,    0,    0,\n",
              "           0,    0,    0,    0,    0,    0,    0,    0,    0,    0,    0,\n",
              "           0,    0,    0,    0,    0,    0,    0,  977,  926, 7883,  462,\n",
              "           4, 2272,   11,   76,    1,  417]], dtype=int32)"
            ]
          },
          "metadata": {
            "tags": []
          },
          "execution_count": 100
        }
      ]
    },
    {
      "cell_type": "code",
      "metadata": {
        "id": "Rv15L8JFYYmB",
        "colab_type": "code",
        "colab": {}
      },
      "source": [
        "result = model_lstm.predict(data)"
      ],
      "execution_count": null,
      "outputs": []
    },
    {
      "cell_type": "code",
      "metadata": {
        "id": "JZvwkQ6CYeHB",
        "colab_type": "code",
        "colab": {
          "base_uri": "https://localhost:8080/",
          "height": 51
        },
        "outputId": "fcacb501-77ca-432d-82e5-af3843203905"
      },
      "source": [
        "result"
      ],
      "execution_count": null,
      "outputs": [
        {
          "output_type": "execute_result",
          "data": {
            "text/plain": [
              "array([[0.93577635, 0.05646498, 0.63453263, 0.02494773, 0.59398603,\n",
              "        0.07905076]], dtype=float32)"
            ]
          },
          "metadata": {
            "tags": []
          },
          "execution_count": 102
        }
      ]
    }
  ]
}