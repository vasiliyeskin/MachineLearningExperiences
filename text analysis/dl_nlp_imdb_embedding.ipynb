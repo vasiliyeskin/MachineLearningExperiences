{
  "nbformat": 4,
  "nbformat_minor": 0,
  "metadata": {
    "colab": {
      "name": "dl_nlp_imdb_embedding.ipynb",
      "provenance": [],
      "include_colab_link": true
    },
    "kernelspec": {
      "name": "python3",
      "display_name": "Python 3"
    },
    "accelerator": "GPU"
  },
  "cells": [
    {
      "cell_type": "markdown",
      "metadata": {
        "id": "view-in-github",
        "colab_type": "text"
      },
      "source": [
        "<a href=\"https://colab.research.google.com/github/vasiliyeskin/MachineLearningExperiences/blob/master/text%20analysis/dl_nlp_imdb_embedding.ipynb\" target=\"_parent\"><img src=\"https://colab.research.google.com/assets/colab-badge.svg\" alt=\"Open In Colab\"/></a>"
      ]
    },
    {
      "cell_type": "markdown",
      "metadata": {
        "id": "Lv1nORvnYVQn",
        "colab_type": "text"
      },
      "source": [
        "# Плотное векторное представление слов для определения тональности текста отзывов на фильмы из IMDb (Internet Movie Database) \n",
        "\n",
        "Учебный курс \"[Нейросети для анализа текстов](https://www.asozykin.ru/courses/nnpython)\".\n",
        "\n",
        "Чтобы запускать и редактировать код, сохраните копию этого ноутбука себе (File->Save a copy in Drive...). Свою копию вы сможете изменять и запускать.\n",
        "\n",
        "Не забудьте подключить GPU, чтобы сеть обучалась быстрее (Runtime -> Change Runtime Type -> Hardware Accelerator -> GPU)."
      ]
    },
    {
      "cell_type": "markdown",
      "metadata": {
        "id": "sU_nuqLaTHYg",
        "colab_type": "text"
      },
      "source": [
        "## Набор данных IMDb movie review\n",
        "\n",
        "[Набор данных IMDb movie review](https://ai.stanford.edu/~amaas/data/sentiment/) создан для задач определения тональности текста. Набор включает отзывы на фильмы с сайта [IMDb](https://www.imdb.com). Отзывы только явно положительные (оценка >= 7) или отрицательные (оценка <= 4), нейтральные отзывы в набор данных не включались.\n",
        "\n",
        "Размер набора данных 50 тыс. отзывов:\n",
        "- Набор данных для обучения - 25 тыс. отзывов\n",
        "- Набор данных для тестирования - 25 тыс. отзывов\n",
        "\n",
        "Количество положительных и отрицательных отзывов одинаковое.\n",
        "\n",
        "Разметка набора данных:\n",
        "- 0 - отзыв отрицательный\n",
        "- 1 - отзыв положительный\n",
        "\n",
        "С точки зрения машинного обучения это задача бинарной классификации.\n",
        "\n",
        "Набор данных описан в статье: [Andrew L. Maas, Raymond E. Daly, Peter T. Pham, Dan Huang, Andrew Y. Ng, and Christopher Potts. (2011). Learning Word Vectors for Sentiment Analysis. The 49th Annual Meeting of the Association for Computational Linguistics (ACL 2011)](https://ai.stanford.edu/~amaas/papers/wvSent_acl2011.pdf)."
      ]
    },
    {
      "cell_type": "markdown",
      "metadata": {
        "id": "YbtGv1ePW6SF",
        "colab_type": "text"
      },
      "source": [
        "<img src=\"https://www.dropbox.com/s/grd17bkapocb92o/imdb_movie_reviews.png?dl=1\" width=\"600\">\n"
      ]
    },
    {
      "cell_type": "code",
      "metadata": {
        "id": "lpsyhVlJX5XH",
        "colab_type": "code",
        "colab": {}
      },
      "source": [
        "from tensorflow.keras.datasets import imdb\n",
        "from tensorflow.keras.models import Sequential\n",
        "from tensorflow.keras.layers import Dense, Embedding, Flatten, Dropout\n",
        "from tensorflow.keras import utils\n",
        "from tensorflow.keras.preprocessing.sequence import pad_sequences\n",
        "import numpy as np\n",
        "import matplotlib.pyplot as plt\n",
        "from google.colab import files\n",
        "%matplotlib inline "
      ],
      "execution_count": 1,
      "outputs": []
    },
    {
      "cell_type": "markdown",
      "metadata": {
        "id": "xGDJkdINNWVh",
        "colab_type": "text"
      },
      "source": [
        "## Загружаем данные"
      ]
    },
    {
      "cell_type": "code",
      "metadata": {
        "id": "kBUUyZ4cbxoM",
        "colab_type": "code",
        "colab": {}
      },
      "source": [
        "max_words=10000"
      ],
      "execution_count": 2,
      "outputs": []
    },
    {
      "cell_type": "code",
      "metadata": {
        "id": "toRj2Xs1NZgB",
        "colab_type": "code",
        "colab": {
          "base_uri": "https://localhost:8080/",
          "height": 50
        },
        "outputId": "57fa8fb9-186e-415f-80a6-dbe36491a096"
      },
      "source": [
        "(x_train, y_train), (x_test, y_test) = imdb.load_data(num_words=max_words)"
      ],
      "execution_count": 3,
      "outputs": [
        {
          "output_type": "stream",
          "text": [
            "Downloading data from https://storage.googleapis.com/tensorflow/tf-keras-datasets/imdb.npz\n",
            "17465344/17464789 [==============================] - 0s 0us/step\n"
          ],
          "name": "stdout"
        }
      ]
    },
    {
      "cell_type": "markdown",
      "metadata": {
        "id": "cLwFe4_aaXWP",
        "colab_type": "text"
      },
      "source": [
        "## Просмотр данных"
      ]
    },
    {
      "cell_type": "markdown",
      "metadata": {
        "id": "0bE25agXLwCp",
        "colab_type": "text"
      },
      "source": [
        "Рецензия"
      ]
    },
    {
      "cell_type": "code",
      "metadata": {
        "id": "_XeruR8UaZRm",
        "colab_type": "code",
        "colab": {
          "base_uri": "https://localhost:8080/",
          "height": 1000
        },
        "outputId": "87f4dbd8-44b6-4a1e-b7ca-696801c36693"
      },
      "source": [
        "x_train[3]"
      ],
      "execution_count": 4,
      "outputs": [
        {
          "output_type": "execute_result",
          "data": {
            "text/plain": [
              "[1,\n",
              " 4,\n",
              " 2,\n",
              " 2,\n",
              " 33,\n",
              " 2804,\n",
              " 4,\n",
              " 2040,\n",
              " 432,\n",
              " 111,\n",
              " 153,\n",
              " 103,\n",
              " 4,\n",
              " 1494,\n",
              " 13,\n",
              " 70,\n",
              " 131,\n",
              " 67,\n",
              " 11,\n",
              " 61,\n",
              " 2,\n",
              " 744,\n",
              " 35,\n",
              " 3715,\n",
              " 761,\n",
              " 61,\n",
              " 5766,\n",
              " 452,\n",
              " 9214,\n",
              " 4,\n",
              " 985,\n",
              " 7,\n",
              " 2,\n",
              " 59,\n",
              " 166,\n",
              " 4,\n",
              " 105,\n",
              " 216,\n",
              " 1239,\n",
              " 41,\n",
              " 1797,\n",
              " 9,\n",
              " 15,\n",
              " 7,\n",
              " 35,\n",
              " 744,\n",
              " 2413,\n",
              " 31,\n",
              " 8,\n",
              " 4,\n",
              " 687,\n",
              " 23,\n",
              " 4,\n",
              " 2,\n",
              " 7339,\n",
              " 6,\n",
              " 3693,\n",
              " 42,\n",
              " 38,\n",
              " 39,\n",
              " 121,\n",
              " 59,\n",
              " 456,\n",
              " 10,\n",
              " 10,\n",
              " 7,\n",
              " 265,\n",
              " 12,\n",
              " 575,\n",
              " 111,\n",
              " 153,\n",
              " 159,\n",
              " 59,\n",
              " 16,\n",
              " 1447,\n",
              " 21,\n",
              " 25,\n",
              " 586,\n",
              " 482,\n",
              " 39,\n",
              " 4,\n",
              " 96,\n",
              " 59,\n",
              " 716,\n",
              " 12,\n",
              " 4,\n",
              " 172,\n",
              " 65,\n",
              " 9,\n",
              " 579,\n",
              " 11,\n",
              " 6004,\n",
              " 4,\n",
              " 1615,\n",
              " 5,\n",
              " 2,\n",
              " 7,\n",
              " 5168,\n",
              " 17,\n",
              " 13,\n",
              " 7064,\n",
              " 12,\n",
              " 19,\n",
              " 6,\n",
              " 464,\n",
              " 31,\n",
              " 314,\n",
              " 11,\n",
              " 2,\n",
              " 6,\n",
              " 719,\n",
              " 605,\n",
              " 11,\n",
              " 8,\n",
              " 202,\n",
              " 27,\n",
              " 310,\n",
              " 4,\n",
              " 3772,\n",
              " 3501,\n",
              " 8,\n",
              " 2722,\n",
              " 58,\n",
              " 10,\n",
              " 10,\n",
              " 537,\n",
              " 2116,\n",
              " 180,\n",
              " 40,\n",
              " 14,\n",
              " 413,\n",
              " 173,\n",
              " 7,\n",
              " 263,\n",
              " 112,\n",
              " 37,\n",
              " 152,\n",
              " 377,\n",
              " 4,\n",
              " 537,\n",
              " 263,\n",
              " 846,\n",
              " 579,\n",
              " 178,\n",
              " 54,\n",
              " 75,\n",
              " 71,\n",
              " 476,\n",
              " 36,\n",
              " 413,\n",
              " 263,\n",
              " 2504,\n",
              " 182,\n",
              " 5,\n",
              " 17,\n",
              " 75,\n",
              " 2306,\n",
              " 922,\n",
              " 36,\n",
              " 279,\n",
              " 131,\n",
              " 2895,\n",
              " 17,\n",
              " 2867,\n",
              " 42,\n",
              " 17,\n",
              " 35,\n",
              " 921,\n",
              " 2,\n",
              " 192,\n",
              " 5,\n",
              " 1219,\n",
              " 3890,\n",
              " 19,\n",
              " 2,\n",
              " 217,\n",
              " 4122,\n",
              " 1710,\n",
              " 537,\n",
              " 2,\n",
              " 1236,\n",
              " 5,\n",
              " 736,\n",
              " 10,\n",
              " 10,\n",
              " 61,\n",
              " 403,\n",
              " 9,\n",
              " 2,\n",
              " 40,\n",
              " 61,\n",
              " 4494,\n",
              " 5,\n",
              " 27,\n",
              " 4494,\n",
              " 159,\n",
              " 90,\n",
              " 263,\n",
              " 2311,\n",
              " 4319,\n",
              " 309,\n",
              " 8,\n",
              " 178,\n",
              " 5,\n",
              " 82,\n",
              " 4319,\n",
              " 4,\n",
              " 65,\n",
              " 15,\n",
              " 9225,\n",
              " 145,\n",
              " 143,\n",
              " 5122,\n",
              " 12,\n",
              " 7039,\n",
              " 537,\n",
              " 746,\n",
              " 537,\n",
              " 537,\n",
              " 15,\n",
              " 7979,\n",
              " 4,\n",
              " 2,\n",
              " 594,\n",
              " 7,\n",
              " 5168,\n",
              " 94,\n",
              " 9096,\n",
              " 3987,\n",
              " 2,\n",
              " 11,\n",
              " 2,\n",
              " 4,\n",
              " 538,\n",
              " 7,\n",
              " 1795,\n",
              " 246,\n",
              " 2,\n",
              " 9,\n",
              " 2,\n",
              " 11,\n",
              " 635,\n",
              " 14,\n",
              " 9,\n",
              " 51,\n",
              " 408,\n",
              " 12,\n",
              " 94,\n",
              " 318,\n",
              " 1382,\n",
              " 12,\n",
              " 47,\n",
              " 6,\n",
              " 2683,\n",
              " 936,\n",
              " 5,\n",
              " 6307,\n",
              " 2,\n",
              " 19,\n",
              " 49,\n",
              " 7,\n",
              " 4,\n",
              " 1885,\n",
              " 2,\n",
              " 1118,\n",
              " 25,\n",
              " 80,\n",
              " 126,\n",
              " 842,\n",
              " 10,\n",
              " 10,\n",
              " 2,\n",
              " 2,\n",
              " 4726,\n",
              " 27,\n",
              " 4494,\n",
              " 11,\n",
              " 1550,\n",
              " 3633,\n",
              " 159,\n",
              " 27,\n",
              " 341,\n",
              " 29,\n",
              " 2733,\n",
              " 19,\n",
              " 4185,\n",
              " 173,\n",
              " 7,\n",
              " 90,\n",
              " 2,\n",
              " 8,\n",
              " 30,\n",
              " 11,\n",
              " 4,\n",
              " 1784,\n",
              " 86,\n",
              " 1117,\n",
              " 8,\n",
              " 3261,\n",
              " 46,\n",
              " 11,\n",
              " 2,\n",
              " 21,\n",
              " 29,\n",
              " 9,\n",
              " 2841,\n",
              " 23,\n",
              " 4,\n",
              " 1010,\n",
              " 2,\n",
              " 793,\n",
              " 6,\n",
              " 2,\n",
              " 1386,\n",
              " 1830,\n",
              " 10,\n",
              " 10,\n",
              " 246,\n",
              " 50,\n",
              " 9,\n",
              " 6,\n",
              " 2750,\n",
              " 1944,\n",
              " 746,\n",
              " 90,\n",
              " 29,\n",
              " 2,\n",
              " 8,\n",
              " 124,\n",
              " 4,\n",
              " 882,\n",
              " 4,\n",
              " 882,\n",
              " 496,\n",
              " 27,\n",
              " 2,\n",
              " 2213,\n",
              " 537,\n",
              " 121,\n",
              " 127,\n",
              " 1219,\n",
              " 130,\n",
              " 5,\n",
              " 29,\n",
              " 494,\n",
              " 8,\n",
              " 124,\n",
              " 4,\n",
              " 882,\n",
              " 496,\n",
              " 4,\n",
              " 341,\n",
              " 7,\n",
              " 27,\n",
              " 846,\n",
              " 10,\n",
              " 10,\n",
              " 29,\n",
              " 9,\n",
              " 1906,\n",
              " 8,\n",
              " 97,\n",
              " 6,\n",
              " 236,\n",
              " 2,\n",
              " 1311,\n",
              " 8,\n",
              " 4,\n",
              " 2,\n",
              " 7,\n",
              " 31,\n",
              " 7,\n",
              " 2,\n",
              " 91,\n",
              " 2,\n",
              " 3987,\n",
              " 70,\n",
              " 4,\n",
              " 882,\n",
              " 30,\n",
              " 579,\n",
              " 42,\n",
              " 9,\n",
              " 12,\n",
              " 32,\n",
              " 11,\n",
              " 537,\n",
              " 10,\n",
              " 10,\n",
              " 11,\n",
              " 14,\n",
              " 65,\n",
              " 44,\n",
              " 537,\n",
              " 75,\n",
              " 2,\n",
              " 1775,\n",
              " 3353,\n",
              " 2,\n",
              " 1846,\n",
              " 4,\n",
              " 2,\n",
              " 7,\n",
              " 154,\n",
              " 5,\n",
              " 4,\n",
              " 518,\n",
              " 53,\n",
              " 2,\n",
              " 2,\n",
              " 7,\n",
              " 3211,\n",
              " 882,\n",
              " 11,\n",
              " 399,\n",
              " 38,\n",
              " 75,\n",
              " 257,\n",
              " 3807,\n",
              " 19,\n",
              " 2,\n",
              " 17,\n",
              " 29,\n",
              " 456,\n",
              " 4,\n",
              " 65,\n",
              " 7,\n",
              " 27,\n",
              " 205,\n",
              " 113,\n",
              " 10,\n",
              " 10,\n",
              " 2,\n",
              " 4,\n",
              " 2,\n",
              " 2,\n",
              " 9,\n",
              " 242,\n",
              " 4,\n",
              " 91,\n",
              " 1202,\n",
              " 2,\n",
              " 5,\n",
              " 2070,\n",
              " 307,\n",
              " 22,\n",
              " 7,\n",
              " 5168,\n",
              " 126,\n",
              " 93,\n",
              " 40,\n",
              " 2,\n",
              " 13,\n",
              " 188,\n",
              " 1076,\n",
              " 3222,\n",
              " 19,\n",
              " 4,\n",
              " 2,\n",
              " 7,\n",
              " 2348,\n",
              " 537,\n",
              " 23,\n",
              " 53,\n",
              " 537,\n",
              " 21,\n",
              " 82,\n",
              " 40,\n",
              " 2,\n",
              " 13,\n",
              " 2,\n",
              " 14,\n",
              " 280,\n",
              " 13,\n",
              " 219,\n",
              " 4,\n",
              " 2,\n",
              " 431,\n",
              " 758,\n",
              " 859,\n",
              " 4,\n",
              " 953,\n",
              " 1052,\n",
              " 2,\n",
              " 7,\n",
              " 5991,\n",
              " 5,\n",
              " 94,\n",
              " 40,\n",
              " 25,\n",
              " 238,\n",
              " 60,\n",
              " 2,\n",
              " 4,\n",
              " 2,\n",
              " 804,\n",
              " 2,\n",
              " 7,\n",
              " 4,\n",
              " 9941,\n",
              " 132,\n",
              " 8,\n",
              " 67,\n",
              " 6,\n",
              " 22,\n",
              " 15,\n",
              " 9,\n",
              " 283,\n",
              " 8,\n",
              " 5168,\n",
              " 14,\n",
              " 31,\n",
              " 9,\n",
              " 242,\n",
              " 955,\n",
              " 48,\n",
              " 25,\n",
              " 279,\n",
              " 2,\n",
              " 23,\n",
              " 12,\n",
              " 1685,\n",
              " 195,\n",
              " 25,\n",
              " 238,\n",
              " 60,\n",
              " 796,\n",
              " 2,\n",
              " 4,\n",
              " 671,\n",
              " 7,\n",
              " 2804,\n",
              " 5,\n",
              " 4,\n",
              " 559,\n",
              " 154,\n",
              " 888,\n",
              " 7,\n",
              " 726,\n",
              " 50,\n",
              " 26,\n",
              " 49,\n",
              " 7008,\n",
              " 15,\n",
              " 566,\n",
              " 30,\n",
              " 579,\n",
              " 21,\n",
              " 64,\n",
              " 2574]"
            ]
          },
          "metadata": {
            "tags": []
          },
          "execution_count": 4
        }
      ]
    },
    {
      "cell_type": "markdown",
      "metadata": {
        "id": "Xdj6uFFaLzOx",
        "colab_type": "text"
      },
      "source": [
        "Правильный ответ"
      ]
    },
    {
      "cell_type": "code",
      "metadata": {
        "id": "1tUhNPuRL1Kc",
        "colab_type": "code",
        "colab": {
          "base_uri": "https://localhost:8080/",
          "height": 33
        },
        "outputId": "1761343a-ba0d-4c6d-9783-85a47b6c4e1f"
      },
      "source": [
        "y_train[3]"
      ],
      "execution_count": 5,
      "outputs": [
        {
          "output_type": "execute_result",
          "data": {
            "text/plain": [
              "1"
            ]
          },
          "metadata": {
            "tags": []
          },
          "execution_count": 5
        }
      ]
    },
    {
      "cell_type": "markdown",
      "metadata": {
        "id": "kiA7X0oWaS9Z",
        "colab_type": "text"
      },
      "source": [
        "## Подготовка данных для обучения"
      ]
    },
    {
      "cell_type": "code",
      "metadata": {
        "id": "PiZZxRZhMVWv",
        "colab_type": "code",
        "colab": {}
      },
      "source": [
        "maxlen = 200"
      ],
      "execution_count": 6,
      "outputs": []
    },
    {
      "cell_type": "code",
      "metadata": {
        "id": "0YrjnapvMVwf",
        "colab_type": "code",
        "colab": {}
      },
      "source": [
        "x_train = pad_sequences(x_train, maxlen=maxlen, padding='post')\n",
        "x_test = pad_sequences(x_test, maxlen=maxlen, padding='post')"
      ],
      "execution_count": 7,
      "outputs": []
    },
    {
      "cell_type": "code",
      "metadata": {
        "id": "SnANlxwYMcNX",
        "colab_type": "code",
        "colab": {
          "base_uri": "https://localhost:8080/",
          "height": 334
        },
        "outputId": "ddb08818-c78e-4fce-e4b0-43bbf2f10b6c"
      },
      "source": [
        "x_train[3]"
      ],
      "execution_count": 8,
      "outputs": [
        {
          "output_type": "execute_result",
          "data": {
            "text/plain": [
              "array([   4,  341,    7,   27,  846,   10,   10,   29,    9, 1906,    8,\n",
              "         97,    6,  236,    2, 1311,    8,    4,    2,    7,   31,    7,\n",
              "          2,   91,    2, 3987,   70,    4,  882,   30,  579,   42,    9,\n",
              "         12,   32,   11,  537,   10,   10,   11,   14,   65,   44,  537,\n",
              "         75,    2, 1775, 3353,    2, 1846,    4,    2,    7,  154,    5,\n",
              "          4,  518,   53,    2,    2,    7, 3211,  882,   11,  399,   38,\n",
              "         75,  257, 3807,   19,    2,   17,   29,  456,    4,   65,    7,\n",
              "         27,  205,  113,   10,   10,    2,    4,    2,    2,    9,  242,\n",
              "          4,   91, 1202,    2,    5, 2070,  307,   22,    7, 5168,  126,\n",
              "         93,   40,    2,   13,  188, 1076, 3222,   19,    4,    2,    7,\n",
              "       2348,  537,   23,   53,  537,   21,   82,   40,    2,   13,    2,\n",
              "         14,  280,   13,  219,    4,    2,  431,  758,  859,    4,  953,\n",
              "       1052,    2,    7, 5991,    5,   94,   40,   25,  238,   60,    2,\n",
              "          4,    2,  804,    2,    7,    4, 9941,  132,    8,   67,    6,\n",
              "         22,   15,    9,  283,    8, 5168,   14,   31,    9,  242,  955,\n",
              "         48,   25,  279,    2,   23,   12, 1685,  195,   25,  238,   60,\n",
              "        796,    2,    4,  671,    7, 2804,    5,    4,  559,  154,  888,\n",
              "          7,  726,   50,   26,   49, 7008,   15,  566,   30,  579,   21,\n",
              "         64, 2574], dtype=int32)"
            ]
          },
          "metadata": {
            "tags": []
          },
          "execution_count": 8
        }
      ]
    },
    {
      "cell_type": "code",
      "metadata": {
        "id": "Q-lsDYCcafBy",
        "colab_type": "code",
        "colab": {
          "base_uri": "https://localhost:8080/",
          "height": 33
        },
        "outputId": "0904f563-25ad-4fda-81b9-56b32afff9eb"
      },
      "source": [
        "y_train[3]"
      ],
      "execution_count": 9,
      "outputs": [
        {
          "output_type": "execute_result",
          "data": {
            "text/plain": [
              "1"
            ]
          },
          "metadata": {
            "tags": []
          },
          "execution_count": 9
        }
      ]
    },
    {
      "cell_type": "markdown",
      "metadata": {
        "id": "rhSLT9WjTeMk",
        "colab_type": "text"
      },
      "source": [
        "## Создание нейронной сети"
      ]
    },
    {
      "cell_type": "code",
      "metadata": {
        "id": "Lrzx1e4xTgzL",
        "colab_type": "code",
        "colab": {}
      },
      "source": [
        "model = Sequential()\n",
        "model.add(Embedding(max_words, 2, input_length=maxlen))\n",
        "model.add(Dropout(0.25))\n",
        "model.add(Flatten())\n",
        "model.add(Dense(1, activation='sigmoid'))"
      ],
      "execution_count": 10,
      "outputs": []
    },
    {
      "cell_type": "code",
      "metadata": {
        "id": "u1yNam-uSunE",
        "colab_type": "code",
        "colab": {}
      },
      "source": [
        "model.compile(optimizer='adam', \n",
        "              loss='binary_crossentropy', \n",
        "              metrics=['accuracy'])"
      ],
      "execution_count": 11,
      "outputs": []
    },
    {
      "cell_type": "markdown",
      "metadata": {
        "id": "9CHZwMttYMTb",
        "colab_type": "text"
      },
      "source": [
        "## Обучаем нейронную сеть"
      ]
    },
    {
      "cell_type": "code",
      "metadata": {
        "id": "AkmNH7ahYLyc",
        "colab_type": "code",
        "colab": {
          "base_uri": "https://localhost:8080/",
          "height": 518
        },
        "outputId": "0a3df824-857b-4a6f-eddd-3075c3f88a67"
      },
      "source": [
        "history = model.fit(x_train, \n",
        "                    y_train, \n",
        "                    epochs=15,\n",
        "                    batch_size=128,\n",
        "                    validation_split=0.1)"
      ],
      "execution_count": 12,
      "outputs": [
        {
          "output_type": "stream",
          "text": [
            "Epoch 1/15\n",
            "176/176 [==============================] - 1s 5ms/step - loss: 0.6890 - accuracy: 0.5466 - val_loss: 0.6727 - val_accuracy: 0.6620\n",
            "Epoch 2/15\n",
            "176/176 [==============================] - 1s 4ms/step - loss: 0.5973 - accuracy: 0.7421 - val_loss: 0.5088 - val_accuracy: 0.8032\n",
            "Epoch 3/15\n",
            "176/176 [==============================] - 1s 4ms/step - loss: 0.4314 - accuracy: 0.8338 - val_loss: 0.3927 - val_accuracy: 0.8484\n",
            "Epoch 4/15\n",
            "176/176 [==============================] - 1s 4ms/step - loss: 0.3403 - accuracy: 0.8727 - val_loss: 0.3446 - val_accuracy: 0.8596\n",
            "Epoch 5/15\n",
            "176/176 [==============================] - 1s 4ms/step - loss: 0.2938 - accuracy: 0.8886 - val_loss: 0.3199 - val_accuracy: 0.8728\n",
            "Epoch 6/15\n",
            "176/176 [==============================] - 1s 4ms/step - loss: 0.2628 - accuracy: 0.9007 - val_loss: 0.3061 - val_accuracy: 0.8800\n",
            "Epoch 7/15\n",
            "176/176 [==============================] - 1s 4ms/step - loss: 0.2416 - accuracy: 0.9104 - val_loss: 0.2973 - val_accuracy: 0.8820\n",
            "Epoch 8/15\n",
            "176/176 [==============================] - 1s 5ms/step - loss: 0.2243 - accuracy: 0.9162 - val_loss: 0.2909 - val_accuracy: 0.8868\n",
            "Epoch 9/15\n",
            "176/176 [==============================] - 1s 4ms/step - loss: 0.2113 - accuracy: 0.9211 - val_loss: 0.2884 - val_accuracy: 0.8812\n",
            "Epoch 10/15\n",
            "176/176 [==============================] - 1s 4ms/step - loss: 0.1972 - accuracy: 0.9283 - val_loss: 0.2863 - val_accuracy: 0.8824\n",
            "Epoch 11/15\n",
            "176/176 [==============================] - 1s 4ms/step - loss: 0.1858 - accuracy: 0.9328 - val_loss: 0.2877 - val_accuracy: 0.8820\n",
            "Epoch 12/15\n",
            "176/176 [==============================] - 1s 4ms/step - loss: 0.1791 - accuracy: 0.9337 - val_loss: 0.2861 - val_accuracy: 0.8828\n",
            "Epoch 13/15\n",
            "176/176 [==============================] - 1s 4ms/step - loss: 0.1711 - accuracy: 0.9401 - val_loss: 0.2850 - val_accuracy: 0.8864\n",
            "Epoch 14/15\n",
            "176/176 [==============================] - 1s 4ms/step - loss: 0.1634 - accuracy: 0.9417 - val_loss: 0.2896 - val_accuracy: 0.8820\n",
            "Epoch 15/15\n",
            "176/176 [==============================] - 1s 4ms/step - loss: 0.1546 - accuracy: 0.9470 - val_loss: 0.2903 - val_accuracy: 0.8816\n"
          ],
          "name": "stdout"
        }
      ]
    },
    {
      "cell_type": "code",
      "metadata": {
        "id": "bYsG9bOZSeOu",
        "colab_type": "code",
        "colab": {
          "base_uri": "https://localhost:8080/",
          "height": 279
        },
        "outputId": "0f35f0db-ad38-477b-a99a-2da6fee7f1a9"
      },
      "source": [
        "plt.plot(history.history['accuracy'], \n",
        "         label='Доля верных ответов на обучающем наборе')\n",
        "plt.plot(history.history['val_accuracy'], \n",
        "         label='Доля верных ответов на проверочном наборе')\n",
        "plt.xlabel('Эпоха обучения')\n",
        "plt.ylabel('Доля верных ответов')\n",
        "plt.legend()\n",
        "plt.show()"
      ],
      "execution_count": 13,
      "outputs": [
        {
          "output_type": "display_data",
          "data": {
            "image/png": "[encoded data removed]",
            "text/plain": [
              "<Figure size 432x288 with 1 Axes>"
            ]
          },
          "metadata": {
            "tags": [],
            "needs_background": "light"
          }
        }
      ]
    },
    {
      "cell_type": "markdown",
      "metadata": {
        "id": "HnnIy3JlEGqW",
        "colab_type": "text"
      },
      "source": [
        "## Проверяем работу сети на тестовом наборе данных"
      ]
    },
    {
      "cell_type": "code",
      "metadata": {
        "id": "J1_ilV14EKBO",
        "colab_type": "code",
        "colab": {
          "base_uri": "https://localhost:8080/",
          "height": 33
        },
        "outputId": "79192168-4ee2-4274-f624-0d525a49992e"
      },
      "source": [
        "scores = model.evaluate(x_test, y_test, verbose=1)"
      ],
      "execution_count": 14,
      "outputs": [
        {
          "output_type": "stream",
          "text": [
            "782/782 [==============================] - 1s 2ms/step - loss: 0.3035 - accuracy: 0.8719\n"
          ],
          "name": "stdout"
        }
      ]
    },
    {
      "cell_type": "markdown",
      "metadata": {
        "id": "faF79x7EX6K6",
        "colab_type": "text"
      },
      "source": [
        "## Исследуем обученное плотное векторное представление слов"
      ]
    },
    {
      "cell_type": "markdown",
      "metadata": {
        "id": "P1YSM6QqYQ4E",
        "colab_type": "text"
      },
      "source": [
        "**Получаем матрицу плотных векторных представлений слов**"
      ]
    },
    {
      "cell_type": "code",
      "metadata": {
        "id": "Kl239SWNX5lK",
        "colab_type": "code",
        "colab": {}
      },
      "source": [
        "embedding_matrix = model.layers[0].get_weights()[0]"
      ],
      "execution_count": 15,
      "outputs": []
    },
    {
      "cell_type": "code",
      "metadata": {
        "id": "AlkreMk-YPyE",
        "colab_type": "code",
        "colab": {
          "base_uri": "https://localhost:8080/",
          "height": 100
        },
        "outputId": "4626b53e-ac87-4b87-c5f9-6ad1e2356f55"
      },
      "source": [
        "embedding_matrix[:5]"
      ],
      "execution_count": 16,
      "outputs": [
        {
          "output_type": "execute_result",
          "data": {
            "text/plain": [
              "array([[ 0.01775278, -0.01071973],\n",
              "       [-0.08913716, -0.1398809 ],\n",
              "       [-0.01496352, -0.038607  ],\n",
              "       [ 0.04233198, -0.01149832],\n",
              "       [ 0.02856749,  0.01947595]], dtype=float32)"
            ]
          },
          "metadata": {
            "tags": []
          },
          "execution_count": 16
        }
      ]
    },
    {
      "cell_type": "markdown",
      "metadata": {
        "id": "LeKIWHmmZIHc",
        "colab_type": "text"
      },
      "source": [
        "**Загружаем словарь с номерами слов**"
      ]
    },
    {
      "cell_type": "code",
      "metadata": {
        "id": "WQTq41-XYZsA",
        "colab_type": "code",
        "colab": {
          "base_uri": "https://localhost:8080/",
          "height": 50
        },
        "outputId": "d1d1bde2-ac0d-4fd7-bffb-3eaba8166167"
      },
      "source": [
        "word_index_org = imdb.get_word_index()"
      ],
      "execution_count": 17,
      "outputs": [
        {
          "output_type": "stream",
          "text": [
            "Downloading data from https://storage.googleapis.com/tensorflow/tf-keras-datasets/imdb_word_index.json\n",
            "1646592/1641221 [==============================] - 0s 0us/step\n"
          ],
          "name": "stdout"
        }
      ]
    },
    {
      "cell_type": "markdown",
      "metadata": {
        "id": "1DT7yMugFFaO",
        "colab_type": "text"
      },
      "source": [
        "Дополняем словарь служебными символами"
      ]
    },
    {
      "cell_type": "code",
      "metadata": {
        "id": "KrslT0jyB0wn",
        "colab_type": "code",
        "colab": {}
      },
      "source": [
        "word_index = dict()\n",
        "for word,number in word_index_org.items():\n",
        "    word_index[word] = number + 3\n",
        "word_index[\"<Заполнитель>\"] = 0\n",
        "word_index[\"<Начало последовательности>\"] = 1\n",
        "word_index[\"<Неизвестное слово>\"] = 2  \n",
        "word_index[\"<Не используется>\"] = 3"
      ],
      "execution_count": 18,
      "outputs": []
    },
    {
      "cell_type": "markdown",
      "metadata": {
        "id": "y5bAAXxQZV7e",
        "colab_type": "text"
      },
      "source": [
        "**Ищем векторы для слов**"
      ]
    },
    {
      "cell_type": "code",
      "metadata": {
        "id": "AG3-ADPaZVeN",
        "colab_type": "code",
        "colab": {
          "base_uri": "https://localhost:8080/",
          "height": 50
        },
        "outputId": "9bbe1324-d3b4-4079-cc93-075678997672"
      },
      "source": [
        "word = 'good'\n",
        "word_number = word_index[word]\n",
        "print('Номер слова', word_number)\n",
        "print('Вектор для слова', embedding_matrix[word_number])"
      ],
      "execution_count": 19,
      "outputs": [
        {
          "output_type": "stream",
          "text": [
            "Номер слова 52\n",
            "Вектор для слова [0.13116442 0.19546132]\n"
          ],
          "name": "stdout"
        }
      ]
    },
    {
      "cell_type": "markdown",
      "metadata": {
        "id": "xeNCUiGqaAQp",
        "colab_type": "text"
      },
      "source": [
        "## Сохраняем обученные плотные векторные представления в файл"
      ]
    },
    {
      "cell_type": "markdown",
      "metadata": {
        "id": "s66eNJRFaJN4",
        "colab_type": "text"
      },
      "source": [
        "**Составляем реверсивный словарь токенов (слов)**"
      ]
    },
    {
      "cell_type": "code",
      "metadata": {
        "id": "BA7mR8OtaHpa",
        "colab_type": "code",
        "colab": {}
      },
      "source": [
        "reverse_word_index = dict()\n",
        "for key, value in word_index.items():\n",
        "    reverse_word_index[value] = key"
      ],
      "execution_count": 20,
      "outputs": []
    },
    {
      "cell_type": "markdown",
      "metadata": {
        "id": "2tRTW--baRaj",
        "colab_type": "text"
      },
      "source": [
        "**Записываем плотные векторные представления в файл**"
      ]
    },
    {
      "cell_type": "code",
      "metadata": {
        "id": "paNKJMEeD6Q5",
        "colab_type": "code",
        "colab": {}
      },
      "source": [
        "filename = 'imdb_embeddings.csv'"
      ],
      "execution_count": 21,
      "outputs": []
    },
    {
      "cell_type": "code",
      "metadata": {
        "id": "6W2Lr6vjD_8L",
        "colab_type": "code",
        "colab": {}
      },
      "source": [
        "with open(filename, 'w') as f:\n",
        "    for word_num in range(max_words):\n",
        "      word = reverse_word_index[word_num]\n",
        "      vec = embedding_matrix[word_num]\n",
        "      f.write(word + \",\")\n",
        "      f.write(','.join([str(x) for x in vec]) + \"\\n\")"
      ],
      "execution_count": 22,
      "outputs": []
    },
    {
      "cell_type": "code",
      "metadata": {
        "id": "cCk5inFYEQxh",
        "colab_type": "code",
        "colab": {
          "base_uri": "https://localhost:8080/",
          "height": 351
        },
        "outputId": "126bc7c2-2f20-4e96-f9ae-719c4d1bf65a"
      },
      "source": [
        "!head -n 20 $filename"
      ],
      "execution_count": 23,
      "outputs": [
        {
          "output_type": "stream",
          "text": [
            "<Заполнитель>,0.017752778,-0.010719729\n",
            "<Начало последовательности>,-0.08913716,-0.1398809\n",
            "<Неизвестное слово>,-0.014963522,-0.038606998\n",
            "<Не используется>,0.042331982,-0.011498321\n",
            "the,0.02856749,0.019475954\n",
            "and,0.058479123,0.06064102\n",
            "a,-0.008638257,0.01331944\n",
            "of,-0.017723743,-0.013953795\n",
            "to,0.04270513,-0.0253701\n",
            "is,0.045620985,0.058833215\n",
            "br,-0.033056214,-0.003944086\n",
            "in,-0.03195438,0.048740406\n",
            "it,0.03730634,0.08372279\n",
            "i,3.2071148e-05,0.040812496\n",
            "this,0.023553964,-0.04373561\n",
            "that,0.035391673,-0.032240175\n",
            "was,-0.04302964,-0.037608843\n",
            "as,0.0057052705,0.04240032\n",
            "for,-0.0038509467,-0.027508682\n",
            "with,-0.013370746,0.025065897\n"
          ],
          "name": "stdout"
        }
      ]
    },
    {
      "cell_type": "markdown",
      "metadata": {
        "id": "_NoZZWumbczs",
        "colab_type": "text"
      },
      "source": [
        "**Сохраняем файл на локальный компьютер**"
      ]
    },
    {
      "cell_type": "code",
      "metadata": {
        "id": "hM0mElLcbcRk",
        "colab_type": "code",
        "colab": {}
      },
      "source": [
        "files.download('imdb_embeddings.csv')"
      ],
      "execution_count": null,
      "outputs": []
    },
    {
      "cell_type": "markdown",
      "metadata": {
        "id": "A21EOGqYSaj-",
        "colab_type": "text"
      },
      "source": [
        "## Визуализация плотных векторных представлений слов"
      ]
    },
    {
      "cell_type": "code",
      "metadata": {
        "id": "N1Gm1nMhSFZY",
        "colab_type": "code",
        "colab": {
          "base_uri": "https://localhost:8080/",
          "height": 281
        },
        "outputId": "cbbdfa9e-4128-41cf-bfa7-91a56a1ff3fd"
      },
      "source": [
        "plt.scatter(embedding_matrix[:,0], embedding_matrix[:,1])"
      ],
      "execution_count": 24,
      "outputs": [
        {
          "output_type": "execute_result",
          "data": {
            "text/plain": [
              "<matplotlib.collections.PathCollection at 0x7fe20a353eb8>"
            ]
          },
          "metadata": {
            "tags": []
          },
          "execution_count": 24
        },
        {
          "output_type": "display_data",
          "data": {
            "image/png": "[encoded data removed]",
            "text/plain": [
              "<Figure size 432x288 with 1 Axes>"
            ]
          },
          "metadata": {
            "tags": [],
            "needs_background": "light"
          }
        }
      ]
    },
    {
      "cell_type": "markdown",
      "metadata": {
        "id": "yBnIvn28geiZ",
        "colab_type": "text"
      },
      "source": [
        "Выбираем коды слов, по которым можно определить тональность отзыва"
      ]
    },
    {
      "cell_type": "code",
      "metadata": {
        "id": "rBFWUSNqSha8",
        "colab_type": "code",
        "colab": {
          "base_uri": "https://localhost:8080/",
          "height": 33
        },
        "outputId": "88d8f90f-7b5a-4842-fb2c-94d62ed83a2a"
      },
      "source": [
        "review = ['brilliant', 'fantastic', 'amazing', 'good',\n",
        "          'bad', 'awful','crap', 'terrible', 'trash']\n",
        "enc_review = []\n",
        "for word in review:\n",
        "    enc_review.append(word_index[word])\n",
        "enc_review"
      ],
      "execution_count": 25,
      "outputs": [
        {
          "output_type": "execute_result",
          "data": {
            "text/plain": [
              "[530, 777, 480, 52, 78, 373, 595, 394, 1157]"
            ]
          },
          "metadata": {
            "tags": []
          },
          "execution_count": 25
        }
      ]
    },
    {
      "cell_type": "markdown",
      "metadata": {
        "id": "yBog52SfgmjD",
        "colab_type": "text"
      },
      "source": [
        "Получаем векторное представление интересующих нас слов"
      ]
    },
    {
      "cell_type": "code",
      "metadata": {
        "id": "4ssQqyD_S2Wv",
        "colab_type": "code",
        "colab": {
          "base_uri": "https://localhost:8080/",
          "height": 167
        },
        "outputId": "9280a9b3-e8dc-46bf-88f5-f1f67cb21e8c"
      },
      "source": [
        "review_vectors = embedding_matrix[enc_review]\n",
        "review_vectors"
      ],
      "execution_count": 26,
      "outputs": [
        {
          "output_type": "execute_result",
          "data": {
            "text/plain": [
              "array([[ 0.28043115,  0.5785911 ],\n",
              "       [ 0.57034874,  0.5601594 ],\n",
              "       [ 0.5643613 ,  0.58090097],\n",
              "       [ 0.13116442,  0.19546132],\n",
              "       [-0.41107452, -0.49755245],\n",
              "       [-1.0682771 , -1.0588523 ],\n",
              "       [-0.5276119 , -0.5401538 ],\n",
              "       [-0.6769368 , -0.7072396 ],\n",
              "       [-0.11419214, -0.3521741 ]], dtype=float32)"
            ]
          },
          "metadata": {
            "tags": []
          },
          "execution_count": 26
        }
      ]
    },
    {
      "cell_type": "markdown",
      "metadata": {
        "id": "CIqIGhrXgrP_",
        "colab_type": "text"
      },
      "source": [
        "Визуализация обученного плотного векторного представления слов, по которым можно определить эмоциональную окраску текста"
      ]
    },
    {
      "cell_type": "code",
      "metadata": {
        "id": "AfIMR56sTYT6",
        "colab_type": "code",
        "colab": {
          "base_uri": "https://localhost:8080/",
          "height": 265
        },
        "outputId": "8f7c9c30-99a4-4878-8d2e-daac1e9bc2d6"
      },
      "source": [
        "plt.scatter(review_vectors[:,0], review_vectors[:,1])\n",
        "for i, txt in enumerate(review):\n",
        "    plt.annotate(txt, (review_vectors[i,0], review_vectors[i,1]))"
      ],
      "execution_count": 27,
      "outputs": [
        {
          "output_type": "display_data",
          "data": {
            "image/png": "[encoded data removed]",
            "text/plain": [
              "<Figure size 432x288 with 1 Axes>"
            ]
          },
          "metadata": {
            "tags": [],
            "needs_background": "light"
          }
        }
      ]
    }
  ]
}