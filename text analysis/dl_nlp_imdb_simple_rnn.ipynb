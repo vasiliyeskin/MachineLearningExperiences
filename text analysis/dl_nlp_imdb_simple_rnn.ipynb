{
  "nbformat": 4,
  "nbformat_minor": 0,
  "metadata": {
    "colab": {
      "name": "dl_nlp_imdb_simple_rnn.ipynb",
      "provenance": [],
      "include_colab_link": true
    },
    "kernelspec": {
      "name": "python3",
      "display_name": "Python 3"
    },
    "accelerator": "GPU"
  },
  "cells": [
    {
      "cell_type": "markdown",
      "metadata": {
        "id": "view-in-github",
        "colab_type": "text"
      },
      "source": [
        "<a href=\"https://colab.research.google.com/github/vasiliyeskin/MachineLearningExperiences/blob/master/text%20analysis/dl_nlp_imdb_simple_rnn.ipynb\" target=\"_parent\"><img src=\"https://colab.research.google.com/assets/colab-badge.svg\" alt=\"Open In Colab\"/></a>"
      ]
    },
    {
      "cell_type": "markdown",
      "metadata": {
        "id": "Lv1nORvnYVQn",
        "colab_type": "text"
      },
      "source": [
        "## Определение тональности текста отзывов на фильмы IMDB с помощью рекуррентной нейронной сети\n",
        "\n",
        "Учебный курс \"[Нейросети для анализа текстов](https://www.asozykin.ru/courses/nnpython)\".\n",
        "\n",
        "Чтобы запускать и редактировать код, сохраните копию этого ноутбука себе (File->Save a copy in Drive...). Свою копию вы сможете изменять и запускать.\n",
        "\n",
        "Не забудьте подключить GPU, чтобы сеть обучалась быстрее (Runtime -> Change Runtime Type -> Hardware Accelerator -> GPU)."
      ]
    },
    {
      "cell_type": "code",
      "metadata": {
        "id": "lpsyhVlJX5XH",
        "colab_type": "code",
        "colab": {}
      },
      "source": [
        "%tensorflow_version 2.x\n",
        "from tensorflow.keras.datasets import imdb\n",
        "from tensorflow.keras.models import Sequential\n",
        "from tensorflow.keras.layers import Dense, Embedding, SimpleRNN \n",
        "from tensorflow.keras import utils\n",
        "from tensorflow.keras.preprocessing.sequence import pad_sequences\n",
        "import numpy as np\n",
        "import matplotlib.pyplot as plt\n",
        "%matplotlib inline "
      ],
      "execution_count": 1,
      "outputs": []
    },
    {
      "cell_type": "markdown",
      "metadata": {
        "id": "xGDJkdINNWVh",
        "colab_type": "text"
      },
      "source": [
        "## Загружаем данные"
      ]
    },
    {
      "cell_type": "code",
      "metadata": {
        "id": "kBUUyZ4cbxoM",
        "colab_type": "code",
        "colab": {}
      },
      "source": [
        "max_words=10000"
      ],
      "execution_count": 3,
      "outputs": []
    },
    {
      "cell_type": "code",
      "metadata": {
        "id": "toRj2Xs1NZgB",
        "colab_type": "code",
        "colab": {
          "base_uri": "https://localhost:8080/",
          "height": 50
        },
        "outputId": "86522c47-36db-4fc8-f5fc-271533739157"
      },
      "source": [
        "(x_train, y_train), (x_test, y_test) = imdb.load_data(num_words=max_words)"
      ],
      "execution_count": 4,
      "outputs": [
        {
          "output_type": "stream",
          "text": [
            "Downloading data from https://storage.googleapis.com/tensorflow/tf-keras-datasets/imdb.npz\n",
            "17465344/17464789 [==============================] - 0s 0us/step\n"
          ],
          "name": "stdout"
        }
      ]
    },
    {
      "cell_type": "markdown",
      "metadata": {
        "id": "kiA7X0oWaS9Z",
        "colab_type": "text"
      },
      "source": [
        "## Подготовка данных для обучения"
      ]
    },
    {
      "cell_type": "code",
      "metadata": {
        "id": "PiZZxRZhMVWv",
        "colab_type": "code",
        "colab": {}
      },
      "source": [
        "maxlen = 200"
      ],
      "execution_count": 5,
      "outputs": []
    },
    {
      "cell_type": "code",
      "metadata": {
        "id": "0YrjnapvMVwf",
        "colab_type": "code",
        "colab": {}
      },
      "source": [
        "x_train = pad_sequences(x_train, maxlen=maxlen)\n",
        "x_test = pad_sequences(x_test, maxlen=maxlen)"
      ],
      "execution_count": 6,
      "outputs": []
    },
    {
      "cell_type": "code",
      "metadata": {
        "id": "SnANlxwYMcNX",
        "colab_type": "code",
        "colab": {
          "base_uri": "https://localhost:8080/",
          "height": 334
        },
        "outputId": "59592320-9687-4d70-a59c-65f7c38c020e"
      },
      "source": [
        "x_train[5002]"
      ],
      "execution_count": 7,
      "outputs": [
        {
          "output_type": "execute_result",
          "data": {
            "text/plain": [
              "array([   0,    0,    0,    0,    0,    0,    0,    0,    0,    0,    0,\n",
              "          0,    0,    0,    0,    0,    0,    0,    0,    0,    0,    0,\n",
              "          0,    0,    0,    0,    0,    0,    0,    0,    0,    0,    0,\n",
              "          0,    0,    0,    0,    0,    0,    0,    0,    0,    0,    0,\n",
              "          0,    0,    0,    0,    0,    0,    0,    0,    0,    0,    0,\n",
              "          0,    0,    0,    0,    0,    0,    0,    0,    0,    0,    0,\n",
              "          0,    0,    0,    1,  103,   51,   13,  197,   16,    6, 4796,\n",
              "        239,    7,  107,  555,   11,  132,   39, 8921, 1872,  138,   16,\n",
              "       4093, 1768, 2959,   34, 1620,    2,   11,    4,  755,   12,   43,\n",
              "        286,    4,  172,  209,    2,    5, 5938,   17, 1000,   34, 1768,\n",
              "        279,   29, 3892,   89,  338,    4,  114,   16, 1240, 1747,  103,\n",
              "       3844, 3819,    8,  169, 2875,  112, 7062,   34,  160,  132,   29,\n",
              "        100,   24,  535,  101,  250,    8,  858,   15,  196,   19,   57,\n",
              "       3154,   39,   90,    5,   24,  169, 3533,   18,    6,  910,   20,\n",
              "         14, 1367, 3939, 1101,  935,    4,  545, 1744,  173,   54, 1240,\n",
              "       2875,    2,   56,  209,  112, 1021,   55,  835,  179,   35, 2384,\n",
              "          8,  529, 1663, 1793,    8, 1066,    7,   61,  223,  637, 1231,\n",
              "         19,    4,   86,   31,    5,  353,    8,  859,   13,  126,  219,\n",
              "          4,  755], dtype=int32)"
            ]
          },
          "metadata": {
            "tags": []
          },
          "execution_count": 7
        }
      ]
    },
    {
      "cell_type": "markdown",
      "metadata": {
        "id": "rhSLT9WjTeMk",
        "colab_type": "text"
      },
      "source": [
        "## Создание нейронной сети"
      ]
    },
    {
      "cell_type": "code",
      "metadata": {
        "id": "Lrzx1e4xTgzL",
        "colab_type": "code",
        "colab": {}
      },
      "source": [
        "model = Sequential()\n",
        "model.add(Embedding(max_words, 2, input_length=maxlen))\n",
        "model.add(SimpleRNN(8))\n",
        "model.add(Dense(1, activation='sigmoid'))"
      ],
      "execution_count": 8,
      "outputs": []
    },
    {
      "cell_type": "code",
      "metadata": {
        "id": "u1yNam-uSunE",
        "colab_type": "code",
        "colab": {}
      },
      "source": [
        "model.compile(optimizer='rmsprop', \n",
        "              loss='binary_crossentropy', \n",
        "              metrics=['accuracy'])"
      ],
      "execution_count": 9,
      "outputs": []
    },
    {
      "cell_type": "markdown",
      "metadata": {
        "id": "9CHZwMttYMTb",
        "colab_type": "text"
      },
      "source": [
        "## Обучаем нейронную сеть"
      ]
    },
    {
      "cell_type": "code",
      "metadata": {
        "id": "AkmNH7ahYLyc",
        "colab_type": "code",
        "colab": {
          "base_uri": "https://localhost:8080/",
          "height": 518
        },
        "outputId": "011a01d3-6dff-4d6b-d095-a60469aff2ac"
      },
      "source": [
        "history = model.fit(x_train, \n",
        "                    y_train, \n",
        "                    epochs=15,\n",
        "                    batch_size=128,\n",
        "                    validation_split=0.1)"
      ],
      "execution_count": 10,
      "outputs": [
        {
          "output_type": "stream",
          "text": [
            "Epoch 1/15\n",
            "176/176 [==============================] - 23s 129ms/step - loss: 0.5829 - accuracy: 0.7105 - val_loss: 0.4785 - val_accuracy: 0.8248\n",
            "Epoch 2/15\n",
            "176/176 [==============================] - 23s 128ms/step - loss: 0.4261 - accuracy: 0.8368 - val_loss: 0.3965 - val_accuracy: 0.8408\n",
            "Epoch 3/15\n",
            "176/176 [==============================] - 22s 127ms/step - loss: 0.3388 - accuracy: 0.8741 - val_loss: 0.3650 - val_accuracy: 0.8508\n",
            "Epoch 4/15\n",
            "176/176 [==============================] - 24s 134ms/step - loss: 0.2932 - accuracy: 0.8897 - val_loss: 0.3257 - val_accuracy: 0.8652\n",
            "Epoch 5/15\n",
            "176/176 [==============================] - 23s 130ms/step - loss: 0.2511 - accuracy: 0.9061 - val_loss: 0.3272 - val_accuracy: 0.8680\n",
            "Epoch 6/15\n",
            "176/176 [==============================] - 23s 128ms/step - loss: 0.2226 - accuracy: 0.9198 - val_loss: 0.3650 - val_accuracy: 0.8592\n",
            "Epoch 7/15\n",
            "176/176 [==============================] - 22s 127ms/step - loss: 0.2116 - accuracy: 0.9207 - val_loss: 0.3400 - val_accuracy: 0.8656\n",
            "Epoch 8/15\n",
            "176/176 [==============================] - 22s 125ms/step - loss: 0.1929 - accuracy: 0.9307 - val_loss: 0.3820 - val_accuracy: 0.8540\n",
            "Epoch 9/15\n",
            "176/176 [==============================] - 22s 127ms/step - loss: 0.1731 - accuracy: 0.9390 - val_loss: 0.3509 - val_accuracy: 0.8708\n",
            "Epoch 10/15\n",
            "176/176 [==============================] - 23s 131ms/step - loss: 0.1620 - accuracy: 0.9446 - val_loss: 0.3372 - val_accuracy: 0.8716\n",
            "Epoch 11/15\n",
            "176/176 [==============================] - 23s 130ms/step - loss: 0.1535 - accuracy: 0.9457 - val_loss: 0.3665 - val_accuracy: 0.8676\n",
            "Epoch 12/15\n",
            "176/176 [==============================] - 22s 124ms/step - loss: 0.1421 - accuracy: 0.9515 - val_loss: 0.3626 - val_accuracy: 0.8596\n",
            "Epoch 13/15\n",
            "176/176 [==============================] - 23s 129ms/step - loss: 0.1336 - accuracy: 0.9552 - val_loss: 0.3689 - val_accuracy: 0.8660\n",
            "Epoch 14/15\n",
            "176/176 [==============================] - 23s 128ms/step - loss: 0.1263 - accuracy: 0.9577 - val_loss: 0.3994 - val_accuracy: 0.8644\n",
            "Epoch 15/15\n",
            "176/176 [==============================] - 23s 130ms/step - loss: 0.1214 - accuracy: 0.9611 - val_loss: 0.3813 - val_accuracy: 0.8640\n"
          ],
          "name": "stdout"
        }
      ]
    },
    {
      "cell_type": "code",
      "metadata": {
        "id": "a19UCeAMDhQK",
        "colab_type": "code",
        "colab": {
          "base_uri": "https://localhost:8080/",
          "height": 279
        },
        "outputId": "c11f02cb-9a13-40f5-f45e-ce4f945571b3"
      },
      "source": [
        "plt.plot(history.history['accuracy'], \n",
        "         label='Доля верных ответов на обучающем наборе')\n",
        "plt.plot(history.history['val_accuracy'], \n",
        "         label='Доля верных ответов на проверочном наборе')\n",
        "plt.xlabel('Эпоха обучения')\n",
        "plt.ylabel('Доля верных ответов')\n",
        "plt.legend()\n",
        "plt.show()"
      ],
      "execution_count": 11,
      "outputs": [
        {
          "output_type": "display_data",
          "data": {
            "image/png": "[encoded data removed]",
            "text/plain": [
              "<Figure size 432x288 with 1 Axes>"
            ]
          },
          "metadata": {
            "tags": [],
            "needs_background": "light"
          }
        }
      ]
    },
    {
      "cell_type": "markdown",
      "metadata": {
        "id": "HnnIy3JlEGqW",
        "colab_type": "text"
      },
      "source": [
        "## Проверяем работу сети на тестовом наборе данных"
      ]
    },
    {
      "cell_type": "code",
      "metadata": {
        "id": "J1_ilV14EKBO",
        "colab_type": "code",
        "colab": {
          "base_uri": "https://localhost:8080/",
          "height": 33
        },
        "outputId": "cff6798c-bf62-4e65-c5a2-da7dac17e38a"
      },
      "source": [
        "scores = model.evaluate(x_test, y_test, verbose=1)"
      ],
      "execution_count": 12,
      "outputs": [
        {
          "output_type": "stream",
          "text": [
            "782/782 [==============================] - 11s 15ms/step - loss: 0.4188 - accuracy: 0.8507\n"
          ],
          "name": "stdout"
        }
      ]
    },
    {
      "cell_type": "markdown",
      "metadata": {
        "id": "O5Lfr6PlbChk",
        "colab_type": "text"
      },
      "source": [
        "## Архитектуры нейронных сетей для анализа текстов\n",
        "\n",
        "1. [Определение тональности отзывов на фильмы из базы IMDB с помощью простых рекуррентных нейросетей](https://colab.research.google.com/drive/19RAxAnIV0fDXAcE1T23TPkzi4ZPFQXdB).\n",
        "2. [Определение тональности отзывов на фильмы из базы IMDB с помощью сетей LSTM](https://colab.research.google.com/drive/1FQjetRIkWYxmm87JKUbVSJrRS2vNLPpV).\n",
        "3. [Определение тональности отзывов на фильмы из базы IMDB с помощью сетей GRU](https://colab.research.google.com/drive/1IGJPwFkTdpbyagQ5jiIRJBA01xlfc18t)."
      ]
    }
  ]
}