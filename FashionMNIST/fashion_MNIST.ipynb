{
  "nbformat": 4,
  "nbformat_minor": 0,
  "metadata": {
    "kernelspec": {
      "display_name": "Python 3",
      "language": "python",
      "name": "python3"
    },
    "language_info": {
      "codemirror_mode": {
        "name": "ipython",
        "version": 2
      },
      "file_extension": ".py",
      "mimetype": "text/x-python",
      "name": "python",
      "nbconvert_exporter": "python",
      "pygments_lexer": "ipython2",
      "version": "2.7.6"
    },
    "colab": {
      "name": "fashion_MNIST.ipynb",
      "provenance": [],
      "include_colab_link": true
    }
  },
  "cells": [
    {
      "cell_type": "markdown",
      "metadata": {
        "id": "view-in-github",
        "colab_type": "text"
      },
      "source": [
        "<a href=\"https://colab.research.google.com/github/vasiliyeskin/MachineLearningExperiences/blob/master/FashionMNIST/fashion_MNIST.ipynb\" target=\"_parent\"><img src=\"https://colab.research.google.com/assets/colab-badge.svg\" alt=\"Open In Colab\"/></a>"
      ]
    },
    {
      "cell_type": "markdown",
      "metadata": {
        "collapsed": true,
        "pycharm": {
          "name": "#%% md\n"
        },
        "id": "BBfrlwGjBron",
        "colab_type": "text"
      },
      "source": [
        "# Recognition of the fashion with Keras"
      ]
    },
    {
      "cell_type": "code",
      "metadata": {
        "pycharm": {
          "name": "#%%\n"
        },
        "id": "ZjxEBpIeBro4",
        "colab_type": "code",
        "colab": {}
      },
      "source": [
        "# dataset of models\n",
        "from tensorflow.keras.datasets import fashion_mnist\n",
        "# модель нейронной сети с последовательным соединением нейронов\n",
        "from tensorflow.keras.models import Sequential\n",
        "# подключаем полносвязную нейронную сеть (dense)\n",
        "from tensorflow.keras.layers import Dense\n",
        "# утилиты для keras\n",
        "from tensorflow.keras import utils\n",
        "from tensorflow.keras.preprocessing import image\n",
        "import numpy as np\n",
        "# отрисовка изображений\n",
        "import matplotlib.pyplot as plt\n",
        "\n",
        "from google.colab import files\n",
        "import numpy as np\n",
        "from PIL import Image"
      ],
      "execution_count": 1,
      "outputs": []
    },
    {
      "cell_type": "markdown",
      "metadata": {
        "collapsed": false,
        "pycharm": {
          "name": "#%% md\n"
        },
        "id": "eJlEP4NRBrp2",
        "colab_type": "text"
      },
      "source": [
        "## Подготовка данных для обучения сети"
      ]
    },
    {
      "cell_type": "code",
      "metadata": {
        "pycharm": {
          "name": "#%%\n"
        },
        "id": "IwgbceUoBrqO",
        "colab_type": "code",
        "colab": {
          "base_uri": "https://localhost:8080/",
          "height": 156
        },
        "outputId": "a9bbdec5-c177-4e2a-c5dc-1d14e110ede1"
      },
      "source": [
        "# Загрузка данных\n",
        "(x_train, y_train), (x_test, y_test) = fashion_mnist.load_data()"
      ],
      "execution_count": 2,
      "outputs": [
        {
          "output_type": "stream",
          "text": [
            "Downloading data from https://storage.googleapis.com/tensorflow/tf-keras-datasets/train-labels-idx1-ubyte.gz\n",
            "32768/29515 [=================================] - 0s 0us/step\n",
            "Downloading data from https://storage.googleapis.com/tensorflow/tf-keras-datasets/train-images-idx3-ubyte.gz\n",
            "26427392/26421880 [==============================] - 2s 0us/step\n",
            "Downloading data from https://storage.googleapis.com/tensorflow/tf-keras-datasets/t10k-labels-idx1-ubyte.gz\n",
            "8192/5148 [===============================================] - 0s 0us/step\n",
            "Downloading data from https://storage.googleapis.com/tensorflow/tf-keras-datasets/t10k-images-idx3-ubyte.gz\n",
            "4423680/4422102 [==============================] - 0s 0us/step\n"
          ],
          "name": "stdout"
        }
      ]
    },
    {
      "cell_type": "code",
      "metadata": {
        "pycharm": {
          "name": "#%%\n"
        },
        "id": "O-Q7YBGHBrq_",
        "colab_type": "code",
        "colab": {}
      },
      "source": [
        "# классификация выходных данных\n",
        "classes = ['футболка', 'брюки', 'свитер', 'платье', 'пальто', 'туфли', 'рубашка', 'кроссовки', 'сумка', 'ботинки']"
      ],
      "execution_count": 4,
      "outputs": []
    },
    {
      "cell_type": "markdown",
      "metadata": {
        "collapsed": false,
        "pycharm": {
          "name": "#%% md\n"
        },
        "id": "D3topKizBrrn",
        "colab_type": "text"
      },
      "source": [
        "Просматриваем примеры изображений"
      ]
    },
    {
      "cell_type": "code",
      "metadata": {
        "pycharm": {
          "name": "#%%\n"
        },
        "id": "rqjfYIB5Brrq",
        "colab_type": "code",
        "colab": {
          "base_uri": "https://localhost:8080/",
          "height": 542
        },
        "outputId": "195db5b8-ae96-48e7-bf3b-ae13ede3dcc8"
      },
      "source": [
        "# примеры изображений\n",
        "plt.figure(figsize=(10,10))\n",
        "for i in range(100,150):\n",
        "    plt.subplot(5,10,i-100+1)\n",
        "    plt.xticks([])\n",
        "    plt.yticks([])\n",
        "    plt.grid(False)\n",
        "    plt.imshow(x_train[i], cmap=plt.cm.binary)\n",
        "    plt.xlabel(classes[y_train[i]])"
      ],
      "execution_count": 5,
      "outputs": [
        {
          "output_type": "display_data",
          "data": {
            "image/png": "[encoded data removed]",
            "text/plain": [
              "<Figure size 720x720 with 50 Axes>"
            ]
          },
          "metadata": {
            "tags": []
          }
        }
      ]
    },
    {
      "cell_type": "markdown",
      "metadata": {
        "collapsed": false,
        "pycharm": {
          "name": "#%% md\n"
        },
        "id": "GIvdwfCqBrsZ",
        "colab_type": "text"
      },
      "source": [
        " ### Преобразование размерности изображения (из картинки в плоскую последовательность \"плоский вектор\")"
      ]
    },
    {
      "cell_type": "code",
      "metadata": {
        "pycharm": {
          "name": "#%%\n"
        },
        "id": "I7kplY7YBrsc",
        "colab_type": "code",
        "colab": {}
      },
      "source": [
        "x_train = x_train.reshape(60000, 784)\n",
        "x_test = x_test.reshape(10000, 784)"
      ],
      "execution_count": 7,
      "outputs": []
    },
    {
      "cell_type": "markdown",
      "metadata": {
        "collapsed": false,
        "pycharm": {
          "name": "#%% md\n"
        },
        "id": "o2vjypCDBrtI",
        "colab_type": "text"
      },
      "source": [
        "### Нормализуем данные: делим на 255 градаций серового. Таким образом данные будут в диапазоне от нуля до 1"
      ]
    },
    {
      "cell_type": "code",
      "metadata": {
        "pycharm": {
          "name": "#%%\n"
        },
        "id": "DvmELf7EBrtM",
        "colab_type": "code",
        "colab": {}
      },
      "source": [
        "x_train = x_train / 255\n",
        "x_test = x_test / 255"
      ],
      "execution_count": 8,
      "outputs": []
    },
    {
      "cell_type": "markdown",
      "metadata": {
        "collapsed": false,
        "pycharm": {
          "name": "#%% md\n"
        },
        "id": "nXFlBBieBrtj",
        "colab_type": "text"
      },
      "source": [
        "## Работа с правильными ответами"
      ]
    },
    {
      "cell_type": "markdown",
      "metadata": {
        "collapsed": false,
        "id": "EakaYW8mBrtw",
        "colab_type": "text"
      },
      "source": [
        "Просматриваем пример правильного ответа"
      ]
    },
    {
      "cell_type": "code",
      "metadata": {
        "pycharm": {
          "name": "#%%\n"
        },
        "id": "V3UZhQsfBrtz",
        "colab_type": "code",
        "colab": {
          "base_uri": "https://localhost:8080/",
          "height": 34
        },
        "outputId": "87719116-c1bf-40b0-ca86-887d86f88a21"
      },
      "source": [
        "print(y_train[0])\n"
      ],
      "execution_count": 9,
      "outputs": [
        {
          "output_type": "stream",
          "text": [
            "9\n"
          ],
          "name": "stdout"
        }
      ]
    },
    {
      "cell_type": "markdown",
      "metadata": {
        "collapsed": false,
        "pycharm": {
          "name": "#%% md\n"
        },
        "id": "xPepd_YZBruR",
        "colab_type": "text"
      },
      "source": [
        "### Преобразуем метки в формат one hot encoding"
      ]
    },
    {
      "cell_type": "code",
      "metadata": {
        "pycharm": {
          "name": "#%%\n"
        },
        "id": "NqCtHnr5Brua",
        "colab_type": "code",
        "colab": {}
      },
      "source": [
        "y_train = utils.to_categorical(y_train, 10)\n",
        "y_test = utils.to_categorical(y_test, 10)"
      ],
      "execution_count": 10,
      "outputs": []
    },
    {
      "cell_type": "markdown",
      "metadata": {
        "collapsed": false,
        "pycharm": {
          "name": "#%% md\n"
        },
        "id": "UilZwSc1Bru0",
        "colab_type": "text"
      },
      "source": [
        "### Правильный ответ в формате one hot encoding"
      ]
    },
    {
      "cell_type": "code",
      "metadata": {
        "pycharm": {
          "name": "#%%\n"
        },
        "id": "Qka4fEJCBru7",
        "colab_type": "code",
        "colab": {
          "base_uri": "https://localhost:8080/",
          "height": 34
        },
        "outputId": "23763f31-dcaf-45f2-8fc0-d5156ebe8ebf"
      },
      "source": [
        "print(y_train[0])\n"
      ],
      "execution_count": 11,
      "outputs": [
        {
          "output_type": "stream",
          "text": [
            "[0. 0. 0. 0. 0. 0. 0. 0. 0. 1.]\n"
          ],
          "name": "stdout"
        }
      ]
    },
    {
      "cell_type": "markdown",
      "metadata": {
        "collapsed": false,
        "pycharm": {
          "name": "#%% md\n"
        },
        "id": "QKXLUmHuBrvX",
        "colab_type": "text"
      },
      "source": [
        "## Создаем нейронную сеть\n",
        "\n",
        "Архитектура нейронной сети"
      ]
    },
    {
      "cell_type": "code",
      "metadata": {
        "pycharm": {
          "name": "#%%\n"
        },
        "id": "zaHhAZ7DBrvZ",
        "colab_type": "code",
        "colab": {}
      },
      "source": [
        "# Создаем последовательную модель\n",
        "model = Sequential()\n",
        "# Входной полносвязный слой, 800 нейронов, 784 входа в каждый нейрон\n",
        "model.add(Dense(800, input_dim=784, activation=\"relu\"))\n",
        "# Выходной полносвязный слой, 10 нейронов (по количеству рукописных цифр)\n",
        "model.add(Dense(10, activation=\"softmax\"))"
      ],
      "execution_count": 13,
      "outputs": []
    },
    {
      "cell_type": "markdown",
      "metadata": {
        "collapsed": false,
        "pycharm": {
          "name": "#%% md\n"
        },
        "id": "uV4g8-jVBrv2",
        "colab_type": "text"
      },
      "source": [
        "Компиляция сети"
      ]
    },
    {
      "cell_type": "code",
      "metadata": {
        "pycharm": {
          "name": "#%%\n"
        },
        "id": "ufQVOyLIBrv-",
        "colab_type": "code",
        "colab": {
          "base_uri": "https://localhost:8080/",
          "height": 243
        },
        "outputId": "750be90f-848e-4e8b-f2ba-a8fbe17cbe77"
      },
      "source": [
        "model.compile(loss=\"categorical_crossentropy\", optimizer=\"SGD\", metrics=[\"accuracy\"])\n",
        "\n",
        "print(model.summary())"
      ],
      "execution_count": 14,
      "outputs": [
        {
          "output_type": "stream",
          "text": [
            "Model: \"sequential_1\"\n",
            "_________________________________________________________________\n",
            "Layer (type)                 Output Shape              Param #   \n",
            "=================================================================\n",
            "dense_2 (Dense)              (None, 800)               628000    \n",
            "_________________________________________________________________\n",
            "dense_3 (Dense)              (None, 10)                8010      \n",
            "=================================================================\n",
            "Total params: 636,010\n",
            "Trainable params: 636,010\n",
            "Non-trainable params: 0\n",
            "_________________________________________________________________\n",
            "None\n"
          ],
          "name": "stdout"
        }
      ]
    },
    {
      "cell_type": "markdown",
      "metadata": {
        "collapsed": false,
        "pycharm": {
          "name": "#%% md\n"
        },
        "id": "cFiH0XLeBrwi",
        "colab_type": "text"
      },
      "source": [
        "## Обучение сети"
      ]
    },
    {
      "cell_type": "code",
      "metadata": {
        "pycharm": {
          "name": "#%%\n"
        },
        "id": "x_UNVFE6Brwk",
        "colab_type": "code",
        "colab": {
          "base_uri": "https://localhost:8080/",
          "height": 1000
        },
        "outputId": "adf9f4a5-ceff-4266-ef5f-bdf6fbc52968"
      },
      "source": [
        "history = model.fit(x_train, y_train,\n",
        "                    batch_size=200,\n",
        "                    epochs=100,\n",
        "                    validation_split=0.2,\n",
        "                    verbose=1)"
      ],
      "execution_count": 15,
      "outputs": [
        {
          "output_type": "stream",
          "text": [
            "Epoch 1/100\n",
            "240/240 [==============================] - 4s 16ms/step - loss: 1.2150 - accuracy: 0.6444 - val_loss: 0.8479 - val_accuracy: 0.7422\n",
            "Epoch 2/100\n",
            "240/240 [==============================] - 3s 15ms/step - loss: 0.7689 - accuracy: 0.7586 - val_loss: 0.7010 - val_accuracy: 0.7798\n",
            "Epoch 3/100\n",
            "240/240 [==============================] - 4s 15ms/step - loss: 0.6684 - accuracy: 0.7885 - val_loss: 0.6331 - val_accuracy: 0.7970\n",
            "Epoch 4/100\n",
            "240/240 [==============================] - 3s 14ms/step - loss: 0.6150 - accuracy: 0.8036 - val_loss: 0.5941 - val_accuracy: 0.8063\n",
            "Epoch 5/100\n",
            "240/240 [==============================] - 4s 15ms/step - loss: 0.5802 - accuracy: 0.8133 - val_loss: 0.5662 - val_accuracy: 0.8150\n",
            "Epoch 6/100\n",
            "240/240 [==============================] - 3s 14ms/step - loss: 0.5552 - accuracy: 0.8196 - val_loss: 0.5440 - val_accuracy: 0.8213\n",
            "Epoch 7/100\n",
            "240/240 [==============================] - 4s 15ms/step - loss: 0.5355 - accuracy: 0.8229 - val_loss: 0.5276 - val_accuracy: 0.8242\n",
            "Epoch 8/100\n",
            "240/240 [==============================] - 3s 15ms/step - loss: 0.5203 - accuracy: 0.8282 - val_loss: 0.5151 - val_accuracy: 0.8277\n",
            "Epoch 9/100\n",
            "240/240 [==============================] - 3s 14ms/step - loss: 0.5074 - accuracy: 0.8313 - val_loss: 0.5044 - val_accuracy: 0.8303\n",
            "Epoch 10/100\n",
            "240/240 [==============================] - 3s 14ms/step - loss: 0.4965 - accuracy: 0.8337 - val_loss: 0.4967 - val_accuracy: 0.8316\n",
            "Epoch 11/100\n",
            "240/240 [==============================] - 3s 14ms/step - loss: 0.4871 - accuracy: 0.8354 - val_loss: 0.4867 - val_accuracy: 0.8348\n",
            "Epoch 12/100\n",
            "240/240 [==============================] - 4s 15ms/step - loss: 0.4786 - accuracy: 0.8400 - val_loss: 0.4796 - val_accuracy: 0.8357\n",
            "Epoch 13/100\n",
            "240/240 [==============================] - 3s 14ms/step - loss: 0.4716 - accuracy: 0.8406 - val_loss: 0.4751 - val_accuracy: 0.8351\n",
            "Epoch 14/100\n",
            "240/240 [==============================] - 3s 14ms/step - loss: 0.4646 - accuracy: 0.8431 - val_loss: 0.4679 - val_accuracy: 0.8382\n",
            "Epoch 15/100\n",
            "240/240 [==============================] - 4s 15ms/step - loss: 0.4588 - accuracy: 0.8449 - val_loss: 0.4633 - val_accuracy: 0.8414\n",
            "Epoch 16/100\n",
            "240/240 [==============================] - 3s 14ms/step - loss: 0.4536 - accuracy: 0.8465 - val_loss: 0.4572 - val_accuracy: 0.8422\n",
            "Epoch 17/100\n",
            "240/240 [==============================] - 4s 15ms/step - loss: 0.4487 - accuracy: 0.8485 - val_loss: 0.4547 - val_accuracy: 0.8428\n",
            "Epoch 18/100\n",
            "240/240 [==============================] - 4s 15ms/step - loss: 0.4441 - accuracy: 0.8491 - val_loss: 0.4495 - val_accuracy: 0.8442\n",
            "Epoch 19/100\n",
            "240/240 [==============================] - 3s 14ms/step - loss: 0.4397 - accuracy: 0.8513 - val_loss: 0.4468 - val_accuracy: 0.8457\n",
            "Epoch 20/100\n",
            "240/240 [==============================] - 3s 15ms/step - loss: 0.4355 - accuracy: 0.8522 - val_loss: 0.4487 - val_accuracy: 0.8422\n",
            "Epoch 21/100\n",
            "240/240 [==============================] - 4s 15ms/step - loss: 0.4322 - accuracy: 0.8528 - val_loss: 0.4422 - val_accuracy: 0.8482\n",
            "Epoch 22/100\n",
            "240/240 [==============================] - 3s 15ms/step - loss: 0.4281 - accuracy: 0.8555 - val_loss: 0.4367 - val_accuracy: 0.8489\n",
            "Epoch 23/100\n",
            "240/240 [==============================] - 4s 15ms/step - loss: 0.4251 - accuracy: 0.8558 - val_loss: 0.4344 - val_accuracy: 0.8492\n",
            "Epoch 24/100\n",
            "240/240 [==============================] - 4s 15ms/step - loss: 0.4215 - accuracy: 0.8575 - val_loss: 0.4305 - val_accuracy: 0.8508\n",
            "Epoch 25/100\n",
            "240/240 [==============================] - 3s 14ms/step - loss: 0.4181 - accuracy: 0.8583 - val_loss: 0.4296 - val_accuracy: 0.8524\n",
            "Epoch 26/100\n",
            "240/240 [==============================] - 4s 15ms/step - loss: 0.4154 - accuracy: 0.8591 - val_loss: 0.4268 - val_accuracy: 0.8513\n",
            "Epoch 27/100\n",
            "240/240 [==============================] - 3s 15ms/step - loss: 0.4130 - accuracy: 0.8594 - val_loss: 0.4235 - val_accuracy: 0.8547\n",
            "Epoch 28/100\n",
            "240/240 [==============================] - 4s 15ms/step - loss: 0.4101 - accuracy: 0.8601 - val_loss: 0.4210 - val_accuracy: 0.8539\n",
            "Epoch 29/100\n",
            "240/240 [==============================] - 3s 15ms/step - loss: 0.4078 - accuracy: 0.8614 - val_loss: 0.4189 - val_accuracy: 0.8545\n",
            "Epoch 30/100\n",
            "240/240 [==============================] - 4s 15ms/step - loss: 0.4048 - accuracy: 0.8622 - val_loss: 0.4165 - val_accuracy: 0.8567\n",
            "Epoch 31/100\n",
            "240/240 [==============================] - 4s 15ms/step - loss: 0.4024 - accuracy: 0.8634 - val_loss: 0.4140 - val_accuracy: 0.8577\n",
            "Epoch 32/100\n",
            "240/240 [==============================] - 4s 15ms/step - loss: 0.4004 - accuracy: 0.8631 - val_loss: 0.4129 - val_accuracy: 0.8585\n",
            "Epoch 33/100\n",
            "240/240 [==============================] - 4s 15ms/step - loss: 0.3979 - accuracy: 0.8642 - val_loss: 0.4131 - val_accuracy: 0.8563\n",
            "Epoch 34/100\n",
            "240/240 [==============================] - 3s 15ms/step - loss: 0.3958 - accuracy: 0.8656 - val_loss: 0.4110 - val_accuracy: 0.8585\n",
            "Epoch 35/100\n",
            "240/240 [==============================] - 4s 15ms/step - loss: 0.3941 - accuracy: 0.8657 - val_loss: 0.4074 - val_accuracy: 0.8600\n",
            "Epoch 36/100\n",
            "240/240 [==============================] - 4s 15ms/step - loss: 0.3915 - accuracy: 0.8664 - val_loss: 0.4094 - val_accuracy: 0.8575\n",
            "Epoch 37/100\n",
            "240/240 [==============================] - 4s 15ms/step - loss: 0.3898 - accuracy: 0.8673 - val_loss: 0.4060 - val_accuracy: 0.8603\n",
            "Epoch 38/100\n",
            "240/240 [==============================] - 4s 15ms/step - loss: 0.3882 - accuracy: 0.8676 - val_loss: 0.4027 - val_accuracy: 0.8595\n",
            "Epoch 39/100\n",
            "240/240 [==============================] - 4s 15ms/step - loss: 0.3862 - accuracy: 0.8680 - val_loss: 0.4011 - val_accuracy: 0.8608\n",
            "Epoch 40/100\n",
            "240/240 [==============================] - 4s 15ms/step - loss: 0.3840 - accuracy: 0.8688 - val_loss: 0.4003 - val_accuracy: 0.8629\n",
            "Epoch 41/100\n",
            "240/240 [==============================] - 4s 15ms/step - loss: 0.3826 - accuracy: 0.8701 - val_loss: 0.3985 - val_accuracy: 0.8630\n",
            "Epoch 42/100\n",
            "240/240 [==============================] - 4s 15ms/step - loss: 0.3804 - accuracy: 0.8700 - val_loss: 0.3981 - val_accuracy: 0.8619\n",
            "Epoch 43/100\n",
            "240/240 [==============================] - 3s 14ms/step - loss: 0.3789 - accuracy: 0.8697 - val_loss: 0.3961 - val_accuracy: 0.8623\n",
            "Epoch 44/100\n",
            "240/240 [==============================] - 3s 14ms/step - loss: 0.3770 - accuracy: 0.8708 - val_loss: 0.4000 - val_accuracy: 0.8614\n",
            "Epoch 45/100\n",
            "240/240 [==============================] - 3s 14ms/step - loss: 0.3756 - accuracy: 0.8717 - val_loss: 0.3945 - val_accuracy: 0.8639\n",
            "Epoch 46/100\n",
            "240/240 [==============================] - 3s 14ms/step - loss: 0.3742 - accuracy: 0.8723 - val_loss: 0.3926 - val_accuracy: 0.8637\n",
            "Epoch 47/100\n",
            "240/240 [==============================] - 3s 14ms/step - loss: 0.3723 - accuracy: 0.8724 - val_loss: 0.3903 - val_accuracy: 0.8634\n",
            "Epoch 48/100\n",
            "240/240 [==============================] - 4s 15ms/step - loss: 0.3709 - accuracy: 0.8726 - val_loss: 0.3903 - val_accuracy: 0.8627\n",
            "Epoch 49/100\n",
            "240/240 [==============================] - 4s 15ms/step - loss: 0.3692 - accuracy: 0.8739 - val_loss: 0.3878 - val_accuracy: 0.8644\n",
            "Epoch 50/100\n",
            "240/240 [==============================] - 4s 15ms/step - loss: 0.3676 - accuracy: 0.8739 - val_loss: 0.3879 - val_accuracy: 0.8664\n",
            "Epoch 51/100\n",
            "240/240 [==============================] - 4s 15ms/step - loss: 0.3662 - accuracy: 0.8742 - val_loss: 0.3881 - val_accuracy: 0.8646\n",
            "Epoch 52/100\n",
            "240/240 [==============================] - 4s 15ms/step - loss: 0.3651 - accuracy: 0.8746 - val_loss: 0.3876 - val_accuracy: 0.8659\n",
            "Epoch 53/100\n",
            "240/240 [==============================] - 3s 15ms/step - loss: 0.3635 - accuracy: 0.8755 - val_loss: 0.3847 - val_accuracy: 0.8660\n",
            "Epoch 54/100\n",
            "240/240 [==============================] - 4s 15ms/step - loss: 0.3621 - accuracy: 0.8760 - val_loss: 0.3835 - val_accuracy: 0.8674\n",
            "Epoch 55/100\n",
            "240/240 [==============================] - 4s 15ms/step - loss: 0.3607 - accuracy: 0.8760 - val_loss: 0.3834 - val_accuracy: 0.8676\n",
            "Epoch 56/100\n",
            "240/240 [==============================] - 3s 15ms/step - loss: 0.3591 - accuracy: 0.8764 - val_loss: 0.3813 - val_accuracy: 0.8677\n",
            "Epoch 57/100\n",
            "240/240 [==============================] - 3s 15ms/step - loss: 0.3577 - accuracy: 0.8771 - val_loss: 0.3801 - val_accuracy: 0.8665\n",
            "Epoch 58/100\n",
            "240/240 [==============================] - 4s 15ms/step - loss: 0.3571 - accuracy: 0.8776 - val_loss: 0.3797 - val_accuracy: 0.8676\n",
            "Epoch 59/100\n",
            "240/240 [==============================] - 4s 15ms/step - loss: 0.3556 - accuracy: 0.8779 - val_loss: 0.3782 - val_accuracy: 0.8688\n",
            "Epoch 60/100\n",
            "240/240 [==============================] - 4s 15ms/step - loss: 0.3541 - accuracy: 0.8790 - val_loss: 0.3779 - val_accuracy: 0.8683\n",
            "Epoch 61/100\n",
            "240/240 [==============================] - 4s 15ms/step - loss: 0.3530 - accuracy: 0.8781 - val_loss: 0.3786 - val_accuracy: 0.8679\n",
            "Epoch 62/100\n",
            "240/240 [==============================] - 4s 15ms/step - loss: 0.3520 - accuracy: 0.8785 - val_loss: 0.3763 - val_accuracy: 0.8683\n",
            "Epoch 63/100\n",
            "240/240 [==============================] - 3s 15ms/step - loss: 0.3508 - accuracy: 0.8790 - val_loss: 0.3769 - val_accuracy: 0.8674\n",
            "Epoch 64/100\n",
            "240/240 [==============================] - 4s 15ms/step - loss: 0.3496 - accuracy: 0.8798 - val_loss: 0.3751 - val_accuracy: 0.8692\n",
            "Epoch 65/100\n",
            "240/240 [==============================] - 3s 15ms/step - loss: 0.3484 - accuracy: 0.8804 - val_loss: 0.3739 - val_accuracy: 0.8712\n",
            "Epoch 66/100\n",
            "240/240 [==============================] - 3s 15ms/step - loss: 0.3471 - accuracy: 0.8807 - val_loss: 0.3760 - val_accuracy: 0.8669\n",
            "Epoch 67/100\n",
            "240/240 [==============================] - 3s 15ms/step - loss: 0.3458 - accuracy: 0.8803 - val_loss: 0.3726 - val_accuracy: 0.8708\n",
            "Epoch 68/100\n",
            "240/240 [==============================] - 4s 15ms/step - loss: 0.3448 - accuracy: 0.8804 - val_loss: 0.3754 - val_accuracy: 0.8705\n",
            "Epoch 69/100\n",
            "240/240 [==============================] - 4s 15ms/step - loss: 0.3438 - accuracy: 0.8817 - val_loss: 0.3717 - val_accuracy: 0.8694\n",
            "Epoch 70/100\n",
            "240/240 [==============================] - 3s 15ms/step - loss: 0.3425 - accuracy: 0.8817 - val_loss: 0.3713 - val_accuracy: 0.8717\n",
            "Epoch 71/100\n",
            "240/240 [==============================] - 3s 15ms/step - loss: 0.3418 - accuracy: 0.8817 - val_loss: 0.3686 - val_accuracy: 0.8727\n",
            "Epoch 72/100\n",
            "240/240 [==============================] - 3s 14ms/step - loss: 0.3404 - accuracy: 0.8820 - val_loss: 0.3685 - val_accuracy: 0.8725\n",
            "Epoch 73/100\n",
            "240/240 [==============================] - 4s 15ms/step - loss: 0.3398 - accuracy: 0.8830 - val_loss: 0.3698 - val_accuracy: 0.8708\n",
            "Epoch 74/100\n",
            "240/240 [==============================] - 4s 15ms/step - loss: 0.3382 - accuracy: 0.8828 - val_loss: 0.3698 - val_accuracy: 0.8730\n",
            "Epoch 75/100\n",
            "240/240 [==============================] - 4s 15ms/step - loss: 0.3375 - accuracy: 0.8831 - val_loss: 0.3653 - val_accuracy: 0.8727\n",
            "Epoch 76/100\n",
            "240/240 [==============================] - 4s 15ms/step - loss: 0.3361 - accuracy: 0.8840 - val_loss: 0.3686 - val_accuracy: 0.8723\n",
            "Epoch 77/100\n",
            "240/240 [==============================] - 3s 15ms/step - loss: 0.3353 - accuracy: 0.8842 - val_loss: 0.3657 - val_accuracy: 0.8742\n",
            "Epoch 78/100\n",
            "240/240 [==============================] - 3s 14ms/step - loss: 0.3344 - accuracy: 0.8840 - val_loss: 0.3665 - val_accuracy: 0.8727\n",
            "Epoch 79/100\n",
            "240/240 [==============================] - 3s 14ms/step - loss: 0.3332 - accuracy: 0.8847 - val_loss: 0.3634 - val_accuracy: 0.8728\n",
            "Epoch 80/100\n",
            "240/240 [==============================] - 4s 15ms/step - loss: 0.3323 - accuracy: 0.8853 - val_loss: 0.3656 - val_accuracy: 0.8726\n",
            "Epoch 81/100\n",
            "240/240 [==============================] - 4s 15ms/step - loss: 0.3316 - accuracy: 0.8846 - val_loss: 0.3661 - val_accuracy: 0.8708\n",
            "Epoch 82/100\n",
            "240/240 [==============================] - 4s 15ms/step - loss: 0.3306 - accuracy: 0.8855 - val_loss: 0.3654 - val_accuracy: 0.8726\n",
            "Epoch 83/100\n",
            "240/240 [==============================] - 4s 15ms/step - loss: 0.3297 - accuracy: 0.8857 - val_loss: 0.3621 - val_accuracy: 0.8751\n",
            "Epoch 84/100\n",
            "240/240 [==============================] - 3s 15ms/step - loss: 0.3287 - accuracy: 0.8866 - val_loss: 0.3625 - val_accuracy: 0.8723\n",
            "Epoch 85/100\n",
            "240/240 [==============================] - 3s 14ms/step - loss: 0.3279 - accuracy: 0.8860 - val_loss: 0.3601 - val_accuracy: 0.8752\n",
            "Epoch 86/100\n",
            "240/240 [==============================] - 4s 15ms/step - loss: 0.3266 - accuracy: 0.8863 - val_loss: 0.3599 - val_accuracy: 0.8754\n",
            "Epoch 87/100\n",
            "240/240 [==============================] - 3s 14ms/step - loss: 0.3257 - accuracy: 0.8871 - val_loss: 0.3615 - val_accuracy: 0.8752\n",
            "Epoch 88/100\n",
            "240/240 [==============================] - 3s 14ms/step - loss: 0.3253 - accuracy: 0.8869 - val_loss: 0.3605 - val_accuracy: 0.8722\n",
            "Epoch 89/100\n",
            "240/240 [==============================] - 4s 15ms/step - loss: 0.3242 - accuracy: 0.8879 - val_loss: 0.3597 - val_accuracy: 0.8742\n",
            "Epoch 90/100\n",
            "240/240 [==============================] - 3s 15ms/step - loss: 0.3237 - accuracy: 0.8872 - val_loss: 0.3602 - val_accuracy: 0.8745\n",
            "Epoch 91/100\n",
            "240/240 [==============================] - 3s 14ms/step - loss: 0.3218 - accuracy: 0.8877 - val_loss: 0.3572 - val_accuracy: 0.8752\n",
            "Epoch 92/100\n",
            "240/240 [==============================] - 3s 14ms/step - loss: 0.3216 - accuracy: 0.8885 - val_loss: 0.3559 - val_accuracy: 0.8765\n",
            "Epoch 93/100\n",
            "240/240 [==============================] - 3s 14ms/step - loss: 0.3206 - accuracy: 0.8884 - val_loss: 0.3564 - val_accuracy: 0.8775\n",
            "Epoch 94/100\n",
            "240/240 [==============================] - 4s 15ms/step - loss: 0.3196 - accuracy: 0.8882 - val_loss: 0.3587 - val_accuracy: 0.8758\n",
            "Epoch 95/100\n",
            "240/240 [==============================] - 3s 14ms/step - loss: 0.3190 - accuracy: 0.8887 - val_loss: 0.3554 - val_accuracy: 0.8773\n",
            "Epoch 96/100\n",
            "240/240 [==============================] - 3s 14ms/step - loss: 0.3184 - accuracy: 0.8895 - val_loss: 0.3544 - val_accuracy: 0.8764\n",
            "Epoch 97/100\n",
            "240/240 [==============================] - 3s 14ms/step - loss: 0.3169 - accuracy: 0.8901 - val_loss: 0.3533 - val_accuracy: 0.8776\n",
            "Epoch 98/100\n",
            "240/240 [==============================] - 3s 14ms/step - loss: 0.3165 - accuracy: 0.8898 - val_loss: 0.3524 - val_accuracy: 0.8767\n",
            "Epoch 99/100\n",
            "240/240 [==============================] - 4s 15ms/step - loss: 0.3155 - accuracy: 0.8905 - val_loss: 0.3538 - val_accuracy: 0.8783\n",
            "Epoch 100/100\n",
            "240/240 [==============================] - 4s 15ms/step - loss: 0.3145 - accuracy: 0.8905 - val_loss: 0.3530 - val_accuracy: 0.8777\n"
          ],
          "name": "stdout"
        }
      ]
    },
    {
      "cell_type": "markdown",
      "metadata": {
        "collapsed": false,
        "pycharm": {
          "name": "#%% md\n"
        },
        "id": "Q8BM1DaPBrxE",
        "colab_type": "text"
      },
      "source": [
        "## Сохраняем нейронную сеть для последующего использования"
      ]
    },
    {
      "cell_type": "code",
      "metadata": {
        "pycharm": {
          "name": "#%%\n"
        },
        "id": "0s4SZ9aHBrxI",
        "colab_type": "code",
        "colab": {}
      },
      "source": [
        "model.save('fashion_mnist_dense.h5')"
      ],
      "execution_count": 17,
      "outputs": []
    },
    {
      "cell_type": "markdown",
      "metadata": {
        "collapsed": false,
        "pycharm": {
          "name": "#%% md\n"
        },
        "id": "YNxtyPgQBrxh",
        "colab_type": "text"
      },
      "source": [
        "## Оценка качества обучения\n",
        "### Проверка качества работы на наборе данных для тестирования"
      ]
    },
    {
      "cell_type": "code",
      "metadata": {
        "pycharm": {
          "name": "#%%\n"
        },
        "id": "UxFpDCcUBrxr",
        "colab_type": "code",
        "colab": {
          "base_uri": "https://localhost:8080/",
          "height": 34
        },
        "outputId": "fa38079b-c99e-4a72-b36a-077482f69b6d"
      },
      "source": [
        "scores = model.evaluate(x_test, y_test, verbose=1)"
      ],
      "execution_count": 18,
      "outputs": [
        {
          "output_type": "stream",
          "text": [
            "313/313 [==============================] - 1s 2ms/step - loss: 0.3774 - accuracy: 0.8666\n"
          ],
          "name": "stdout"
        }
      ]
    },
    {
      "cell_type": "markdown",
      "metadata": {
        "collapsed": false,
        "pycharm": {
          "name": "#%% md\n"
        },
        "id": "wk0Frwd7BryB",
        "colab_type": "text"
      },
      "source": [
        "## Используем сеть для распознавания моделей одежды"
      ]
    },
    {
      "cell_type": "code",
      "metadata": {
        "pycharm": {
          "name": "#%%\n"
        },
        "id": "DLPiIMmvBryF",
        "colab_type": "code",
        "colab": {}
      },
      "source": [
        "# Запускаем распознавание набора данных, на котором обучалась сеть\n",
        "predictions = model.predict(x_train)\n"
      ],
      "execution_count": 19,
      "outputs": []
    },
    {
      "cell_type": "markdown",
      "metadata": {
        "collapsed": false,
        "pycharm": {
          "name": "#%% md\n"
        },
        "id": "g2IrdpuVBryb",
        "colab_type": "text"
      },
      "source": [
        "### Проверяем качество распознавания"
      ]
    },
    {
      "cell_type": "code",
      "metadata": {
        "pycharm": {
          "name": "#%%\n"
        },
        "id": "LFv4UbqkBrym",
        "colab_type": "code",
        "colab": {
          "base_uri": "https://localhost:8080/",
          "height": 265
        },
        "outputId": "19a37db3-6d35-45ce-dbd2-d22c0a3b00b8"
      },
      "source": [
        "# Просматриваем пример изображения\n",
        "n = 0\n",
        "plt.imshow(x_train[n].reshape(28, 28), cmap=plt.cm.binary)\n",
        "plt.show()\n"
      ],
      "execution_count": 20,
      "outputs": [
        {
          "output_type": "display_data",
          "data": {
            "image/png": "[encoded data removed]",
            "text/plain": [
              "<Figure size 432x288 with 1 Axes>"
            ]
          },
          "metadata": {
            "tags": [],
            "needs_background": "light"
          }
        }
      ]
    },
    {
      "cell_type": "markdown",
      "metadata": {
        "collapsed": false,
        "id": "fz-Zz-ZPBry9",
        "colab_type": "text"
      },
      "source": [
        "### Данные на выходе из сети в формате one-hot-encoding"
      ]
    },
    {
      "cell_type": "code",
      "metadata": {
        "pycharm": {
          "name": "#%%\n"
        },
        "id": "aURDuxd_Bry_",
        "colab_type": "code",
        "colab": {
          "base_uri": "https://localhost:8080/",
          "height": 52
        },
        "outputId": "50dfc400-9a3d-416b-f6f8-573bb4c64936"
      },
      "source": [
        "print(predictions[n])\n"
      ],
      "execution_count": 21,
      "outputs": [
        {
          "output_type": "stream",
          "text": [
            "[2.6748532e-08 2.4840643e-10 8.6660207e-10 1.5798960e-09 3.0617051e-10\n",
            " 2.0874260e-04 7.7682671e-08 1.7484855e-03 4.9091832e-06 9.9803776e-01]\n"
          ],
          "name": "stdout"
        }
      ]
    },
    {
      "cell_type": "markdown",
      "metadata": {
        "collapsed": false,
        "id": "L0jaE7TlBrza",
        "colab_type": "text"
      },
      "source": [
        "### Определяем номер класса изображения, который предлагает сеть"
      ]
    },
    {
      "cell_type": "code",
      "metadata": {
        "pycharm": {
          "name": "#%%\n"
        },
        "id": "vPFFnHZgBrzh",
        "colab_type": "code",
        "colab": {
          "base_uri": "https://localhost:8080/",
          "height": 34
        },
        "outputId": "caeacddc-5c71-4191-aaec-da798332d7c2"
      },
      "source": [
        "np.argmax(predictions[n])\n"
      ],
      "execution_count": 22,
      "outputs": [
        {
          "output_type": "execute_result",
          "data": {
            "text/plain": [
              "9"
            ]
          },
          "metadata": {
            "tags": []
          },
          "execution_count": 22
        }
      ]
    },
    {
      "cell_type": "markdown",
      "metadata": {
        "collapsed": false,
        "id": "NAkjAjP0Brz1",
        "colab_type": "text"
      },
      "source": [
        "### Печатаем название класса"
      ]
    },
    {
      "cell_type": "code",
      "metadata": {
        "pycharm": {
          "name": "#%%\n"
        },
        "id": "rtfuwOmMBrz6",
        "colab_type": "code",
        "colab": {
          "base_uri": "https://localhost:8080/",
          "height": 35
        },
        "outputId": "8dff7d9a-6782-4e27-af8d-0c8f66bd775b"
      },
      "source": [
        "classes[np.argmax(predictions[n])]\n"
      ],
      "execution_count": 23,
      "outputs": [
        {
          "output_type": "execute_result",
          "data": {
            "application/vnd.google.colaboratory.intrinsic+json": {
              "type": "string"
            },
            "text/plain": [
              "'ботинки'"
            ]
          },
          "metadata": {
            "tags": []
          },
          "execution_count": 23
        }
      ]
    },
    {
      "cell_type": "markdown",
      "metadata": {
        "collapsed": false,
        "id": "_nemOLYOBr0T",
        "colab_type": "text"
      },
      "source": [
        "### Печатаем номер класса правильного ответа"
      ]
    },
    {
      "cell_type": "code",
      "metadata": {
        "pycharm": {
          "name": "#%%\n"
        },
        "id": "LKPRg3S1Br0W",
        "colab_type": "code",
        "colab": {
          "base_uri": "https://localhost:8080/",
          "height": 34
        },
        "outputId": "59ee8b92-6ec5-4b9f-e4f8-73fa9d3e3401"
      },
      "source": [
        "np.argmax(y_train[n])\n"
      ],
      "execution_count": 24,
      "outputs": [
        {
          "output_type": "execute_result",
          "data": {
            "text/plain": [
              "9"
            ]
          },
          "metadata": {
            "tags": []
          },
          "execution_count": 24
        }
      ]
    },
    {
      "cell_type": "markdown",
      "metadata": {
        "collapsed": false,
        "id": "HR-MLJFZBr0w",
        "colab_type": "text"
      },
      "source": [
        "### Печатаем название класса правильного ответа"
      ]
    },
    {
      "cell_type": "code",
      "metadata": {
        "pycharm": {
          "name": "#%%\n"
        },
        "id": "1FS6HRhRBr03",
        "colab_type": "code",
        "colab": {
          "base_uri": "https://localhost:8080/",
          "height": 35
        },
        "outputId": "5fc768dd-290f-4f41-d21c-d2c02f461f44"
      },
      "source": [
        "classes[np.argmax(y_train[n])]\n"
      ],
      "execution_count": 25,
      "outputs": [
        {
          "output_type": "execute_result",
          "data": {
            "application/vnd.google.colaboratory.intrinsic+json": {
              "type": "string"
            },
            "text/plain": [
              "'ботинки'"
            ]
          },
          "metadata": {
            "tags": []
          },
          "execution_count": 25
        }
      ]
    },
    {
      "cell_type": "code",
      "metadata": {
        "pycharm": {
          "name": "#%%\n"
        },
        "id": "NEdKnJI6Br1X",
        "colab_type": "code",
        "colab": {
          "base_uri": "https://localhost:8080/",
          "height": 334
        },
        "outputId": "3a220461-1455-44c5-e8b0-7fdcad675471"
      },
      "source": [
        "n_rec = 496\n",
        "plt.imshow(x_test[n_rec].reshape(28, 28), cmap=plt.cm.binary)\n",
        "plt.show()\n",
        "# Меняем размерность изображения и нормализуем его\n",
        "x = x_test[n_rec]\n",
        "x = np.expand_dims(x, axis=0)\n",
        "\n",
        "# Запускаем распознавание\n",
        "prediction = model.predict(x)\n",
        "\n",
        "# Печатаем результаты распознавания\n",
        "prediction\n",
        "\n",
        "# Преобразуем результаты из формата one hot encoding\n",
        "prediction = np.argmax(prediction[0])\n",
        "print(\"Номер класса:\", prediction)\n",
        "print(\"Название класса:\", classes[prediction])\n",
        "\n",
        "# Печатаем правильный ответ\n",
        "label = np.argmax(y_test[0])\n",
        "print(\"Номер класса:\", label)\n",
        "print(\"Название класса:\", classes[label])\n",
        "\n"
      ],
      "execution_count": 26,
      "outputs": [
        {
          "output_type": "display_data",
          "data": {
            "image/png": "[encoded data removed]",
            "text/plain": [
              "<Figure size 432x288 with 1 Axes>"
            ]
          },
          "metadata": {
            "tags": [],
            "needs_background": "light"
          }
        },
        {
          "output_type": "stream",
          "text": [
            "Номер класса: 1\n",
            "Название класса: брюки\n",
            "Номер класса: 9\n",
            "Название класса: ботинки\n"
          ],
          "name": "stdout"
        }
      ]
    },
    {
      "cell_type": "markdown",
      "metadata": {
        "collapsed": false,
        "pycharm": {
          "name": "#%% md\n"
        },
        "id": "61Zww0qYBr1w",
        "colab_type": "text"
      },
      "source": [
        "Загружаем свою картинку"
      ]
    },
    {
      "cell_type": "code",
      "metadata": {
        "pycharm": {
          "name": "#%%\n"
        },
        "id": "NGG48yjGBr1y",
        "colab_type": "code",
        "colab": {
          "resources": {
            "http://localhost:8080/nbextensions/google.colab/files.js": {
              "data": "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",
              "ok": true,
              "headers": [
                [
                  "content-type",
                  "application/javascript"
                ]
              ],
              "status": 200,
              "status_text": "OK"
            }
          },
          "base_uri": "https://localhost:8080/",
          "height": 118
        },
        "outputId": "6bc4ba69-21fa-4ff3-b1fb-31b7ced41e1e"
      },
      "source": [
        "files.upload()"
      ],
      "execution_count": 30,
      "outputs": [
        {
          "output_type": "display_data",
          "data": {
            "text/html": [
              "\n",
              "     <input type=\"file\" id=\"files-a4e3fd29-36aa-45cd-a38d-46b5868ca512\" name=\"files[]\" multiple disabled\n",
              "        style=\"border:none\" />\n",
              "     <output id=\"result-a4e3fd29-36aa-45cd-a38d-46b5868ca512\">\n",
              "      Upload widget is only available when the cell has been executed in the\n",
              "      current browser session. Please rerun this cell to enable.\n",
              "      </output>\n",
              "      <script src=\"/nbextensions/google.colab/files.js\"></script> "
            ],
            "text/plain": [
              "<IPython.core.display.HTML object>"
            ]
          },
          "metadata": {
            "tags": []
          }
        },
        {
          "output_type": "stream",
          "text": [
            "Saving index.jpg to index.jpg\n"
          ],
          "name": "stdout"
        },
        {
          "output_type": "execute_result",
          "data": {
            "text/plain": [
              "{'index.jpg': b'\\xff\\xd8\\xff\\xe0\\x00\\x10JFIF\\x00\\x01\\x01\\x00\\x00\\x01\\x00\\x01\\x00\\x00\\xff\\xdb\\x00C\\x00\\x08\\x06\\x06\\x07\\x06\\x05\\x08\\x07\\x07\\x07\\t\\t\\x08\\n\\x0c\\x14\\r\\x0c\\x0b\\x0b\\x0c\\x19\\x12\\x13\\x0f\\x14\\x1d\\x1a\\x1f\\x1e\\x1d\\x1a\\x1c\\x1c $.\\' \",#\\x1c\\x1c(7),01444\\x1f\\'9=82<.342\\xff\\xdb\\x00C\\x01\\t\\t\\t\\x0c\\x0b\\x0c\\x18\\r\\r\\x182!\\x1c!22222222222222222222222222222222222222222222222222\\xff\\xc0\\x00\\x11\\x08\\x00\\xfc\\x00\\xff\\x03\\x01\"\\x00\\x02\\x11\\x01\\x03\\x11\\x01\\xff\\xc4\\x00\\x1f\\x00\\x00\\x01\\x05\\x01\\x01\\x01\\x01\\x01\\x01\\x00\\x00\\x00\\x00\\x00\\x00\\x00\\x00\\x01\\x02\\x03\\x04\\x05\\x06\\x07\\x08\\t\\n\\x0b\\xff\\xc4\\x00\\xb5\\x10\\x00\\x02\\x01\\x03\\x03\\x02\\x04\\x03\\x05\\x05\\x04\\x04\\x00\\x00\\x01}\\x01\\x02\\x03\\x00\\x04\\x11\\x05\\x12!1A\\x06\\x13Qa\\x07\"q\\x142\\x81\\x91\\xa1\\x08#B\\xb1\\xc1\\x15R\\xd1\\xf0$3br\\x82\\t\\n\\x16\\x17\\x18\\x19\\x1a%&\\'()*456789:CDEFGHIJSTUVWXYZcdefghijstuvwxyz\\x83\\x84\\x85\\x86\\x87\\x88\\x89\\x8a\\x92\\x93\\x94\\x95\\x96\\x97\\x98\\x99\\x9a\\xa2\\xa3\\xa4\\xa5\\xa6\\xa7\\xa8\\xa9\\xaa\\xb2\\xb3\\xb4\\xb5\\xb6\\xb7\\xb8\\xb9\\xba\\xc2\\xc3\\xc4\\xc5\\xc6\\xc7\\xc8\\xc9\\xca\\xd2\\xd3\\xd4\\xd5\\xd6\\xd7\\xd8\\xd9\\xda\\xe1\\xe2\\xe3\\xe4\\xe5\\xe6\\xe7\\xe8\\xe9\\xea\\xf1\\xf2\\xf3\\xf4\\xf5\\xf6\\xf7\\xf8\\xf9\\xfa\\xff\\xc4\\x00\\x1f\\x01\\x00\\x03\\x01\\x01\\x01\\x01\\x01\\x01\\x01\\x01\\x01\\x00\\x00\\x00\\x00\\x00\\x00\\x01\\x02\\x03\\x04\\x05\\x06\\x07\\x08\\t\\n\\x0b\\xff\\xc4\\x00\\xb5\\x11\\x00\\x02\\x01\\x02\\x04\\x04\\x03\\x04\\x07\\x05\\x04\\x04\\x00\\x01\\x02w\\x00\\x01\\x02\\x03\\x11\\x04\\x05!1\\x06\\x12AQ\\x07aq\\x13\"2\\x81\\x08\\x14B\\x91\\xa1\\xb1\\xc1\\t#3R\\xf0\\x15br\\xd1\\n\\x16$4\\xe1%\\xf1\\x17\\x18\\x19\\x1a&\\'()*56789:CDEFGHIJSTUVWXYZcdefghijstuvwxyz\\x82\\x83\\x84\\x85\\x86\\x87\\x88\\x89\\x8a\\x92\\x93\\x94\\x95\\x96\\x97\\x98\\x99\\x9a\\xa2\\xa3\\xa4\\xa5\\xa6\\xa7\\xa8\\xa9\\xaa\\xb2\\xb3\\xb4\\xb5\\xb6\\xb7\\xb8\\xb9\\xba\\xc2\\xc3\\xc4\\xc5\\xc6\\xc7\\xc8\\xc9\\xca\\xd2\\xd3\\xd4\\xd5\\xd6\\xd7\\xd8\\xd9\\xda\\xe2\\xe3\\xe4\\xe5\\xe6\\xe7\\xe8\\xe9\\xea\\xf2\\xf3\\xf4\\xf5\\xf6\\xf7\\xf8\\xf9\\xfa\\xff\\xda\\x00\\x0c\\x03\\x01\\x00\\x02\\x11\\x03\\x11\\x00?\\x00\\xf7\\xfa(\\xaeo\\xc7\\xde%\\x9b\\xc2\\x1e\\x08\\xd4\\xf5\\xdb{x\\xee\\'\\xb6D\\x11\\xc7!!w;\\xaa\\x02q\\xc9\\x00\\xb6q\\xc6q\\x8c\\x8c\\xe6\\x80:J+\\x8b\\xf0O\\x89u\\xedO[\\xf1\\x0e\\x83\\xe2;}55\\r\\x1d\\xed\\xc9\\x9bN/\\xe5H\\xb3!p0\\xfc\\xe4c\\x93\\xdf=8\\xc9C\\xac]k\\xbe!\\xbb\\x8bO\\xd4\\xf5]>\\xd2\\xde\\xd2\\x06\\x11\\xbd\\x80\\x81\\x99\\xdd\\xe5\\x0cqq\\x0e\\xe20\\x8b\\xc8\\xe3\\x83\\xdf4\\x01\\xda\\xd1\\\\\\xaf\\xd8\\xf5_\\xfa\\x19\\xf5O\\xfb\\xf5k\\xff\\x00\\xc6i>\\xc9\\xaa\\xff\\x00\\xd0\\xcf\\xaa\\x7f\\xdf\\xab_\\xfe3@\\x1d]\\x15\\xca}\\x93U\\xff\\x00\\xa1\\x9fT\\xff\\x00\\xbfV\\xbf\\xfcf\\x8f\\xb2j\\xbf\\xf43\\xea\\x9f\\xf7\\xea\\xd7\\xff\\x00\\x8c\\xd0\\x07WEr\\x9fd\\xd5\\x7f\\xe8g\\xd5?\\xef\\xd5\\xaf\\xff\\x00\\x19\\xa3\\xec\\x9a\\xaf\\xfd\\x0c\\xfa\\xa7\\xfd\\xfa\\xb5\\xff\\x00\\xe34\\x01\\xd5\\xd1\\\\\\xa7\\xd95_\\xfa\\x19\\xf5O\\xfb\\xf5k\\xff\\x00\\xc6h\\xfb\\x1e\\xab\\xff\\x00C>\\xa9\\xff\\x00~\\xad\\x7f\\xf8\\xcd\\x00utW)\\xf6MW\\xfe\\x86}S\\xfe\\xfdZ\\xff\\x00\\xf1\\x9a>\\xc9\\xaa\\xff\\x00\\xd0\\xcf\\xaa\\x7f\\xdf\\xab_\\xfe3@\\x1d]\\x15\\xca}\\x93U\\xff\\x00\\xa1\\x9fT\\xff\\x00\\xbfV\\xbf\\xfcf\\x8f\\xb2j\\xbf\\xf43\\xea\\x9f\\xf7\\xea\\xd7\\xff\\x00\\x8c\\xd0\\x07WEr\\x9fd\\xd5\\x7f\\xe8g\\xd5?\\xef\\xd5\\xaf\\xff\\x00\\x19\\xa3\\xec\\x9a\\xaf\\xfd\\x0c\\xfa\\xa7\\xfd\\xfa\\xb5\\xff\\x00\\xe34\\x01\\xd5\\xd1\\\\\\x9f\\xd95_\\xfa\\x19\\xf5O\\xfb\\xf3k\\xff\\x00\\xc6i>\\xcb\\xab\\x7f\\xd0\\xcf\\xaa\\x7f\\xdf\\x9b_\\xfe3@\\x1dm\\x15\\xc9}\\x97V\\xff\\x00\\xa1\\x9fS\\xff\\x00\\xbf6\\xbf\\xfcf\\x8f\\xb2\\xea\\xdf\\xf43\\xea\\x7f\\xf7\\xe6\\xd7\\xff\\x00\\x8c\\xd0\\x07[Er?f\\xd5\\xbf\\xe8g\\xd4\\xff\\x00\\xef\\xcd\\xaf\\xff\\x00\\x19\\xa4\\xfb>\\xad\\xff\\x00C>\\xa7\\xff\\x00~m\\x7f\\xf8\\xcd\\x00u\\xf4W!\\xf6}[\\xfe\\x86}O\\xfe\\xfc\\xda\\xff\\x00\\xf1\\x9aO#W\\xff\\x00\\xa1\\x9fS\\xff\\x00\\xbf6\\xbf\\xfcf\\x80;\\n+\\x8e\\xf25\\x7f\\xfa\\x19\\xf5?\\xfb\\xf3k\\xff\\x00\\xc6h\\xf2u\\x7f\\xfa\\x19\\xb5?\\xfb\\xf3k\\xff\\x00\\xc6h\\x03\\xb1\\xa2\\xb8\\xef\\'W\\xff\\x00\\xa1\\x9bS\\xff\\x00\\xbf6\\xbf\\xfcf\\x90\\xc3\\xab\\xff\\x00\\xd0\\xcd\\xa9\\xff\\x00\\xdf\\x9b_\\xfe3@\\x1d\\x95\\x15\\xc9i\\x17\\x1a\\x9c^*\\xb7\\xb3\\xb9\\xd5\\xee\\xafm\\xe6\\xb2\\x9eR\\x93\\xc7\\n\\xe1\\x91\\xe1\\x00\\x82\\x91\\xa9\\xe8\\xed]m\\x00\\x15\\x97\\xe2=\\x02\\xc7\\xc5>\\x1f\\xbc\\xd1u%\\x90\\xda] W\\xf2\\xdbk)\\x042\\xb0>\\xa1\\x80<\\xe4q\\xc8#\\x8a\\xd4\\xa2\\x809\\xbf\\nx.\\xc7\\xc2o\\xa8O\\x05\\xee\\xa5\\xa8^j\\x0e\\x8dsy\\xa8\\xdcy\\xd2\\xb8E\\xda\\x8b\\x9c\\x01\\x80\\t\\xc7\\x19\\xe7\\xae\\x00\\x01\\xb3\\x0c\\xf8\\xdbP\\xff\\x00\\xb0u\\xa7\\xfe\\x8c\\xb9\\xae\\x9a\\xb9\\xa9\\x7f\\xe4u\\xd4?\\xec\\x1di\\xff\\x00\\xa3.h\\x02\\xe6\\x05&\\x058\\xd1@\\x0c#\\x9a)OZ1@\\tF)\\xd8\\x14`P\\x02`Q\\x81N\\xa2\\x80\\x1b\\x81I\\x8a}&\\x05\\x006\\x92\\x9f\\x81F\\xd1\\xe9@\\r\\xa4\\xa7RP\\x02RR\\xd1@\\r\\xa2\\x97\\x02\\x8a\\x00m&\\x05:\\x92\\x80\\x1aG\\x14\\x98\\xa7\\x11I\\x8a\\x00i\\x1cRS\\x88\\xa4\\xc5\\x006\\x8av)\\x08\\xa0\\n\\xd6_\\xf2;X\\xff\\x00\\xd8:\\xef\\xff\\x00F[\\xd7[\\\\\\x9d\\x97\\xfc\\x8e\\xd6?\\xf6\\x0e\\xbb\\xff\\x00\\xd1\\x96\\xf5\\xd6P\\x01E\\x14P\\x01\\\\\\xdb\\xff\\x00\\xc8\\xeb\\xa8\\xff\\x00\\xd8:\\xd3\\xff\\x00F\\\\\\xd7I\\\\\\xdb\\xff\\x00\\xc8\\xeb\\xa8\\xff\\x00\\xd8:\\xd3\\xff\\x00F\\\\\\xd0\\x05\\xe3IN\\xa44\\x00\\xda)\\xd4\\x94\\x00\\x94\\xb4\\xb4P\\x02QN\\xa4\\xa0\\x04\\xa2\\x96\\x92\\x80\\x12\\x8aZJ\\x00))h\\xa0\\x08\\xe8\\xa7RP\\x02QE\\x14\\x00RR\\xd1@\\r\\xa4\\xa7RP\\x02RR\\xd1@\\x0c\\xa44\\xf3I@\\x15l\\xff\\x00\\xe4v\\xb0\\xff\\x00\\xb0u\\xdf\\xfe\\x8c\\xb7\\xae\\xae\\xb9[O\\xf9\\x1d\\xac?\\xec\\x1dw\\xff\\x00\\xa3-\\xeb\\xaa\\xa0\\x02\\xb0\\xfcer\\xd6\\xbe\\n\\xd6\\xe5\\x8a\\xf2;9\\xfe\\xc5*A;\\xdc,\\x01%e+\\x1f\\xef\\x18\\x80\\xa7qP\\t#\\x92+r\\xab\\xdfXY\\xeavrY\\xdf\\xdaAwk&7\\xc3<bDl\\x10FT\\xf0p@?\\x85\\x00p\\xff\\x00\\x0b\\xf5\\xb7\\xb9\\x8bW\\xf0\\xe5\\xea\\xce\\xda\\xb6\\x87,p\\xde\\xdc\\xbe\\xa4\\xd7\\xa9p\\xe5q\\xe6+\\xb1\\xcad\\xc6\\xc4\\xc7\\x81\\xb78\\xeb\\xb8\\r\\x0b\\x0b\\xdb\\x8b\\xef\\x17jr\\\\i\\x97zs\\x8b\\x0bE\\x11]4L\\xcc<\\xcb\\x8f\\x98yn\\xe3\\x1c\\xe3\\x93\\x9e:WI\\xa6\\xe9:n\\x8dn\\xd6\\xfa^\\x9fic\\x039v\\x8e\\xd6\\x15\\x89K`\\x0c\\x90\\xa0\\x0c\\xe0\\x01\\x9faX\\xef\\xff\\x00#\\xae\\xa3\\xff\\x00`\\xebO\\xfd\\x19s@\\x1a\\x14\\x86\\x96\\x90\\xd0\\x02QE-\\x00%-\\x14\\x87\\xad\\x00\\x14W\\xcf\\xfe\"\\xf1\\x16\\xb7\\x07\\x89\\xb5X\\xa2\\xd6u\\x08\\xe3K\\xc9\\x95\\x11.\\x9c\\x05\\x01\\xc8\\x00\\x0c\\xf0+;\\xfe\\x12m\\x7f\\xfe\\x83\\x9a\\x97\\xfe\\x05\\xc9\\xfe4\\x01\\xf4\\x8d\\x15\\xf3w\\xfc$\\xda\\xff\\x00\\xfd\\x075/\\xfc\\x0b\\x93\\xfcjQ\\xe2]{h\\xff\\x00\\x89\\xde\\xa5\\xd3\\xfe~\\x9f\\xfch\\x03\\xe8\\xca*\\x97\\x87\\x9d\\xe7\\xf0\\xce\\x95,\\xac\\xd2H\\xf6p\\xb3\\xbb\\x9c\\x96%\\x01$\\x9e\\xe6\\xae\\xd0\\x02QE\\x14\\x00\\x94\\xdau!\\xe9@\\r\\xa2\\xb2\\xfcI,\\x90x_W\\x9a\\x19\\x1e9c\\xb2\\x99\\x91\\xd1\\x88e!\\t\\x04\\x11\\xd0\\xd7\\xcf)\\xe2\\x9f\\x10\\x97_\\xf8\\x9fj\\x9d\\x7f\\xe7\\xf2O\\xf1\\xa0\\x0f\\xa6h\\xaf\\x9cG\\x89u\\xed\\xc3\\xfe\\'z\\x97_\\xf9\\xfb\\x93\\xfck\\xa7\\xf0.\\xb7\\xab]\\xf8\\xca\\xc2\\x0b\\x9dR\\xf6h[\\xcc\\xdd\\x1c\\xb7\\x0e\\xcaq\\x1b\\x11\\x90O\\xad\\x00{=%\\x14\\xb4\\x00\\xda)i(\\x01)\\r:\\x90\\xd0\\x05K_\\xf9\\x1d\\xac?\\xec\\x1dw\\xff\\x00\\xa3-\\xeb\\xaa\\xaeV\\xd7\\xfeGk\\x0f\\xfb\\x07]\\xff\\x00\\xe8\\xcbz\\xea\\xa8\\x00\\xa2\\x8a(\\x00\\xaeq\\xff\\x00\\xe4u\\xd4\\x7f\\xec\\x1di\\xff\\x00\\xa3.k\\xa3\\xaeq\\xff\\x00\\xe4u\\xd4\\x7f\\xec\\x1di\\xff\\x00\\xa3.h\\x02\\xfd\\x14Q@\\tE\\x14\\xe1\\xd2\\x80\\x19^\\x0b\\xf1\\x17\\xfeG\\xcdK\\xfe\\xd9\\x7f\\xe8\\xa4\\xa7|F\\xff\\x00\\x91\\xf7R\\xff\\x00\\xb6_\\xfa)+\\x97\\x1d(\\x01\\xb4\\xc3\\xd6\\xa6\\xa2\\x80\\x10}\\xd1\\xf4\\xaa\\xed\\xf7\\xcf\\xd6\\xadTG\\xef\\x1f\\xad\\x000t\\x14R\\x1e\\xb4\\xfa\\x00)\\xd5\\x1d:\\x80\\x16\\xa3o\\xba~\\x94\\xb5\\x05\\xd7\\xfczM\\xff\\x00\\\\\\xdb\\xf9P\\x04r\\xff\\x00\\xaa\\x7f\\xf7MR\\x83\\xfe>#\\xff\\x00|\\x7f:\\xa1i\\xff\\x00\\x1f\\xb0\\x7f\\xd7E\\xfeu\\xd5P\\x03OCM\\x8f\\xfd`\\xa7\\xd2\\x1e\\x94\\x01\\xd5x\\x07\\xfeGm?\\xfe\\xda\\x7f\\xe8\\xb6\\xafpO\\xbe+\\xe6A\\xd6\\xba\\x9f\\x87\\xbf\\xf2<\\xe9\\xdf\\xf6\\xd7\\xff\\x00E=\\x00{\\xbd!\\xe9H:\\xd2\\xd0\\x03h\\x14\\xb4\\x1a\\x00\\xa9m\\xff\\x00#\\xb5\\x87\\xfd\\x83\\xae\\xff\\x00\\xf4e\\xb5u5\\xcb[\\x7f\\xc8\\xeda\\xff\\x00`\\xeb\\xbf\\xfd\\x19m]M\\x00\\x14Q_6iw>\\r\\xb6\\xd3WG\\xbb\\xbc\\xb4:L~=y#\\xb7K\\x88\\xdf6\\xc2\"\\xb1\\xbbo\\'t\\x1b\\xb6\\x06c\\x90Ww9\\xa0\\x0f\\xa4\\xeb\\x9b\\x7f\\xf9\\x1du\\x1f\\xfb\\x07Z\\x7f\\xe8\\xcb\\x9a\\xc7\\xf82!_\\x85::\\xdb\\xc9$\\x90\\x07\\xb9\\x11\\xbc\\x88\\x11\\x99~\\xd1&\\tPH\\x07\\x1d\\xb2q\\xeaj\\xe5\\x84\\xba\\x94\\xbe.\\xd4\\xdbT\\xb4\\xb4\\xb6\\x9b\\xec\\x16\\x81R\\xd6\\xe9\\xa7R\\xbee\\xc7%\\x9a4 \\xe7<c\\xf1\\xf4\\x00\\xdc\\x14\\x86\\x8a(\\x01+\\xc1\\xbe\"\\xff\\x00\\xc8\\xf9\\xa9\\x7f\\xdb/\\xfd\\x14\\x94\\xef\\x88\\x9f\\xf2=\\xea_\\xf6\\xcb\\xff\\x00E%rO\\xf7\\x8d\\x00#}\\xe3Va\\xff\\x00T*%\\xfb\\xa2\\xa3\\x7f\\xbeh\\x02\\xc9\\xebU\\xdb\\xef\\x1f\\xadJ\\xbft}*\\xa3\\xff\\x00\\xaco\\xa9\\xa0\\t\\xa9jX\\xff\\x00\\xd5\\xaf\\xd0SOS@\\t\\xda\\x96\\x99\\xde\\x99@\\r\\xa7\\xd4\\x95\\x05\\x00R\\xad\\x1aJ;P\\x02\\xb7\\xdd?J\\x84}\\xe1\\xf5\\xa7\\xf7\\xa7P\\x01\\xde\\x94\\xf4\\xa4\\xa4\\x7f\\xb8h\\x00\\xa0u\\xa8\\xd3\\xef\\x8a\\x9a\\x80:o\\x87\\xdf\\xf2<\\xe9\\xdf\\xf6\\xd7\\xff\\x00E={\\xa2\\xfd\\xea\\xf9\\x92\\xba_\\x87\\xdf\\xf2<i\\xdf\\xf6\\xd7\\xff\\x00E\\xb5\\x00{\\xc9\\xa45\\x1c\\x7f{\\xf0\\xa9(\\x02\\xa5\\xb7\\xfc\\x8e\\xd6\\x1f\\xf6\\x0e\\xbb\\xff\\x00\\xd1\\x96\\xd5\\xd4\\xd7-m\\xff\\x00#\\xb5\\x87\\xfd\\x83\\xae\\xff\\x00\\xf4e\\xb5u4\\x00QE\\x14\\x00W6\\xff\\x00\\xf2:\\xea?\\xf6\\x0e\\xb4\\xff\\x00\\xd1\\x975\\xd2W6\\xff\\x00\\xf2:\\xea?\\xf6\\x0e\\xb4\\xff\\x00\\xd1\\x974\\x01\\xa1IE\\x14\\x01Vdc)!I\\x1fJ\\xf0\\xcf\\x88\\x1e\\x1e\\xd6\\xaf|o\\xa8\\xdcZ\\xe8\\xfa\\x84\\xf0\\xbf\\x97\\xb6H\\xad\\x9d\\x94\\xe25\\x07\\x04\\x0cu\\x06\\xbd\\xf6\\x92\\x80>`\\x16\\x976C\\xec\\xf7v\\xf2\\xdb\\xce\\x9fz9P\\xa3.y\\x19\\x07\\x91\\xc1\\x06\\xa8\\xdcK\\x1a\\xce\\xc1\\x9dA\\xe3\\x82}\\xab\\xd1\\xbcw\\xa2j\\xd7\\x9e3\\xbf\\x9e\\xdbK\\xbd\\x9e\\x16\\xf2\\xf6\\xc9\\x15\\xbb\\xb2\\x9cF\\xa0\\xe0\\x81\\x8e\\xb5\\xe7\\xfa\\x8f\\x84\\xfcF\\xf7\\xf22x\\x7fUe8\\xc1\\x16r\\x11\\xd0{P\\x04\\xb1\\xb01!\\x04\\x11\\xb4TM\\xf7\\x8f\\xd6\\x9c\\x91Io\\x1a\\xc1:4R\\xc6\\x02<n6\\xb2\\xb0\\xe0\\x82\\x0fB\\r0\\x83\\x93\\xc1\\xa0\\x07\\x81\\xc0\\xa5\\xa5\\x04`sFh\\x01\\xe0\\xf0**vG\\xa8\\xa8\\xe8\\x01)\\xf9\\x1e\\xb4\\xda0}\\r\\x00\\x19\\x1e\\xb5!\\xfb\\xa7\\xe9P\\xe0\\xfa\\x1a\\x9b4\\x01\\x16\\x0f\\xa1\\xa5\\xa7\\x921M\\xc1\\xf44\\x00\\xb5WPV{\\x19\\x15\\x14\\xb3\\x1c`\\x01\\x93\\xd4U\\x9aJ\\x00\\xc5\\xd3\\xa0\\x96;\\xe8\\xd9\\xe2uQ\\x9c\\x92\\xa4\\x0e\\x86\\xba\\x08`\\x9a\\xeeQ\\x05\\xb4O4\\xcd\\xf7c\\x8dK1\\xc7<\\x01\\xedI\\x05\\xad\\xc5\\xdc\\xcb\\x05\\xb4\\x12\\xcd3}\\xd8\\xe3B\\xccq\\xc9\\xc0\\x1e\\xd5\\xd5\\xf8+B\\xd5\\xed|]c5\\xc6\\x95}\\x0cK\\xe6ny-\\xddT~\\xed\\x87$\\x8a\\x00\\xa7\\xe1\\xed\\x0fW\\x8b]\\xb6y4\\xab\\xe4A\\xbb,\\xd6\\xee\\x00\\xf9O\\xb5z6\\x97cw\\x1e\\xa3\\x13=\\xac\\xea\\xa39&2\\x07C]<\\x11\\xc8&RQ\\x80\\xe7\\xa8\\xab\\xa0\\x1c\\xf4\\xa0\\n\\xb6\\x88\\xeb),\\xa4\\r\\xbd\\xc5\\\\\\xa0\\xd2P\\x05Ko\\xf9\\x1d\\xac?\\xec\\x1dw\\xff\\x00\\xa3-\\xab\\xa9\\xaeZ\\xdb\\xfeGk\\x0f\\xfb\\x07]\\xff\\x00\\xe8\\xcbj\\xeah\\x00\\xa2\\x8a\\xc7\\xff\\x00\\x84\\xb3\\xc3\\x7f\\xd9\\xdf\\xda?\\xf0\\x90i_a\\xf3|\\x8f\\xb4\\xfd\\xb6?/\\xcc\\xc6\\xed\\x9b\\xb3\\x8d\\xd8\\xe7\\x1dq@\\x1b\\x15\\xcd\\xbf\\xfc\\x8e\\xba\\x8f\\xfd\\x83\\xad?\\xf4e\\xcdnX\\xdf\\xd9\\xeavq\\xdeX]\\xc1wk&vM\\x04\\x82Dl\\x12\\x0e\\x18ppA\\x1f\\x85a\\xbf\\xfc\\x8e\\xba\\x8f\\xfd\\x83\\xad?\\xf4e\\xcd\\x00_\\xa2\\x8a(\\x00\\xa2\\x8aJ\\x00)\\xa7\\xad-%\\x00|\\xd9\\xe2s\\xff\\x00\\x15f\\xb1\\xff\\x00_\\xd3\\xff\\x00\\xe8f\\xa8\\x026\\x8ej\\xef\\x89\\xc8\\xff\\x00\\x84\\xb7Y\\xe7\\xfe_\\xa7\\xff\\x00\\xd1\\x8dY\\xe3\\xee\\x8a\\x00S\\xd6\\x96\\x934\\xb4\\x00\\xc3\\xd6\\x96\\x83\\xd6\\x96\\x80\\x16\\x97#\\xd4RS(\\x01\\xf4\\x1e\\x94\\xday<\\x1a\\x00`\\xea*B\\xc0\\x83\\xc8\\xa8\\xa9\\x14|\\xc3\\xeb@\\x0e\\xc1\\xf44\\xe5\\xfb\\xc2\\x9cH\\xc7QMQ\\xf3\\n\\x00\\xea~\\x1f\\xff\\x00\\xc8\\xf1\\xa7\\x7f\\xdb_\\xfd\\x16\\xd5\\xeei\\xf7\\x85xg\\xc3\\xf0\\x7f\\xe18\\xd3\\xb8?\\xf2\\xd7\\xff\\x00E\\xb5{\\x9a}\\xe1@\\x12RR\\xd2P\\x02\\x1aJSI@\\x15-\\xbf\\xe4v\\xb0\\xff\\x00\\xb0u\\xdf\\xfe\\x8c\\xb6\\xae\\xa6\\xb9ko\\xf9\\x1d\\xac?\\xec\\x1dw\\xff\\x00\\xa3-\\xab\\xa9\\xa0\\x02\\xbe\\x7f\\xb6\\xd1\\x9a]&\\xf3N\\x8a\\xdf\\\\\\xd0\\xd9<a.\\xad\\xa7\\xcd\\x0f\\x86\\xee&H\\xa1X\\xcf\\x94\\xde^\\xd0\\x02\\xe4\\x00\\x17\\x928\\xca\\xe3$}\\x01E\\x00r\\xff\\x00\\x0e\\xefu\\xddC\\xc0\\x9am\\xd7\\x89Rt\\xd5\\xdf\\xcd\\xfb@\\x9e\\x01\\x0b\\x8cJ\\xe1r\\x80\\x0c|\\xa1{s\\xd6\\xab\\xd8E\\xa9E\\xe2\\xedMuK\\xbbK\\x99\\xbe\\xc1hU\\xedmZ\\x05\\x0b\\xe6\\\\pU\\xa4rNs\\xce\\x7f\\x0f^\\xc2\\xb9\\xb9?\\xe4u\\xd4\\x7f\\xec\\x1di\\xff\\x00\\xa3.h\\x02\\xfd\\x14f\\x8a\\x00))i\\xa7\\xad\\x00\\x14\\x86\\x96\\xb05/\\x19h\\x1aU\\xfc\\xb6W\\xb7\\xfeU\\xc4x\\xde\\x9eL\\x8d\\x8c\\x80G!H\\xe8E\\x00x\\x1f\\x8aH\\xff\\x00\\x84\\xbbZ\\xe4\\x7f\\xc7\\xfc\\xff\\x00\\xfa1\\xaa\\xa2\\x11\\xb1y\\x1d*O\\x10M\\x1d\\xe7\\x895K\\xa8\\x1b|3]\\xcb$m\\x8ceK\\x92\\x0e\\x0f=\\r@\\x8av/\\x1d\\xa8\\x01\\xc7\\xad<\\x11\\x8e\\xa2\\x99\\x9ai\\x074\\x00\\xf3\\xd6\\x8c\\x1fJ\\x00\\xe2\\x9d\\x91@\\x0bM\\xa3z\\xfa\\xd32(\\x01\\xf4R`\\xd0zP\\x01\\x9aS\\xd0\\xd3\\x07QO,6\\x9f\\xa5\\x000\\x1eEO\\x10\\xdd(\\x0b\\xc9\\xf4\\x15[\\xbd\\\\\\xd3\\x94\\xbd\\xfcJ\\xa3$\\xe7\\xf9\\x1a\\x00\\xea|\\x05\\x1b\\xaf\\x8dt\\xf2Q\\x80\\xfd\\xe7$\\x7f\\xd36\\xafm_\\xbc+\\xc9|\\x19\\x0c\\x89\\xe2\\xcb&e\\xc0\\x1eg\\x7f\\xfaf\\xd5\\xebC\\xad\\x00<\\xf4\\xa4\\xa2\\x8a\\x00)(\\xcd!#\\x14\\x01V\\xdb\\xfeGk\\x0f\\xfb\\x07]\\xff\\x00\\xe8\\xcbj\\xeak\\x95\\xb5\\xff\\x00\\x91\\xda\\xc3\\xfe\\xc1\\xd7\\x7f\\xfa2\\xde\\xba\\xaa\\x00(\\xa2\\x8a\\x00+\\x9a\\x97\\xfeG]C\\xfe\\xc1\\xd6\\x9f\\xfa2\\xe6\\xbaZ\\xe6f8\\xf1\\xb6\\xa1\\xff\\x00`\\xebO\\xfd\\x19s@\\x17\\xf3K\\x91L\\xc8\\xa3\"\\x80\\x1f\\x91I\\x9anE\\x1b\\x85\\x00)5\\xe1\\xff\\x00\\x10-f\\x97\\xc6\\xfa\\x8b\\xa2eO\\x97\\x83\\x91\\xff\\x00<\\xd6\\xbd\\xb8\\x91\\x9a\\xf1\\xef\\x1b\\xcf\\x1a\\xf8\\xbe\\xf9Y\\xb0G\\x97\\xdb\\xfe\\x99\\xad\\x00y\\xcc\\xa8\\xcb3\\xa9\\x1c\\x86 \\xd3\\xd4\\x80\\xa3\\xe9KrA\\xba\\x98\\x8e\\x85\\xdb\\xf9\\xd4y\\xa0\\x07S\\x808\\xa6\\xee\\x14\\xe0\\xeb\\x8e\\xb4\\x00dR\\xe0\\xd3\\t\\xe6\\xa4\\xc8\\xa0\\x08ii(\\xc8\\xa0\\t7\\xaf\\xad\\x07\\xa5G\\x83O,0y\\xa0\\x04\\x04f\\x94\\x8e\\r0u\\x14\\xf6 \\xa9\\xfaP\\x04`\\x8c\\xd5\\xed)\\x955(Y\\x8e\\x00\\xcf\\xf25\\x9e\\x01\\xc8\\xabVn\\xa9t\\x8c\\xc7\\x00g\\xf9P\\x07\\xa3\\xf8Bx\\xdf\\xc56j\\xad\\x92w\\xf6?\\xdcj\\xf5A\\xd6\\xbck\\xc0\\xd3\\xc6\\xfe1\\xb0Ul\\x93\\xe6v?\\xf3\\xcd\\xab\\xd9r(\\x01h\\xa4\\xc8\\xa3\"\\x80\\x03M4\\xa4\\xd3M\\x00V\\xb4\\xff\\x00\\x91\\xda\\xc3\\xfe\\xc1\\xd7\\x7f\\xfa2\\xde\\xba\\xba\\xe5-?\\xe4v\\xb0\\xff\\x00\\xb0u\\xdf\\xfe\\x8c\\xb7\\xae\\xae\\x80\\n\\xe1\\xff\\x00\\xe1o\\xf8\\x10A\\xe7>\\xbb\\xe5\\xc6b\\xf3\\x90\\xcbi:y\\x89\\xbf\\xcb\\xcae\\x06\\xff\\x00\\x9b#\\xe5\\xcf\\xddn\\xcaq\\xdcW\\x83\\xeb\\xbe\\x19\\xf1\\xbf\\x8a\\xae\\xaf5\\xbds\\xc2\\xb3\\xdcjpK\\x17\\xf66\\x98\\xd76\\xcfam\\x1a\\xca\\x8e\\xfeo\\xef\\x83H\\xce\\xaaU\\xbe\\\\\\x1f\\xfb\\xe4 \\x07\\xb2h~!\\xd3<Gos>\\x97<\\x92\\xa5\\xb5\\xc3Z\\xcc$\\x82H\\x9a9T\\x02\\xc8U\\xd4\\x10F\\xe1\\xda\\xb3\\'\\xff\\x00\\x91\\xdbP\\xff\\x00\\xb0u\\xa7\\xfe\\x8c\\xb9\\xaa\\xdf\\x0f\\xf4\\xcdGO\\x8b\\xc4S\\xea:W\\xf6cj\\x1a\\xdc\\xf7\\xb0\\xc0eW&7T\\x01\\x98\\xab\\xb8\\x0cJ\\x92Fp\\x0ep\\x00\\xc0\\xa8\\xedl\\xe7\\xb1\\xf1v\\xa5\\x1d\\xc6\\xa7w\\xa8\\xb9\\xb0\\xb5a-\\xd2\\xc4\\xac\\xa3\\xcc\\xb8\\xf9G\\x96\\x881\\xc6y\\x19\\xe7\\xad\\x00l\\xd1I\\x9aL\\xd0\\x03\\xb3I\\x9aL\\xd1\\x9a\\x00\\\\\\xd7\\x88\\xf8\\xfah\\xd7\\xc6\\xda\\x80-\\xcf\\xee\\xfb\\x7f\\xd35\\xafk\\'\\x9a\\xf0\\x9f\\x88l?\\xe1:\\xd4\\xbf\\xed\\x97\\xfe\\x8aJ\\x00\\xe5\\xa4R\\xd2\\xb9\\x03\\x82\\xc4\\x8a\\x8f\\xa5M\\xb8T,\\xc3q\\xfa\\xd0\\x02dR\\xd4&e\\x0cF\\x0fZ\\x95NT\\x1fQ@\\x0f\\xa7dSqE\\x007\\x06\\x8a7\\x8fz(\\x01\\xf4\\xda~\\xd3L\\xa0\\x02\\x8c\\xd2b\\x97\\x14\\x00b\\x9f\\x11\\xfd\\xe0\\xa6\\xf6\\xa2>$\\x14\\x01\\xd8x\\x00\\xff\\x00\\xc5o\\xa7\\x7f\\xdbO\\xfd\\x16\\xd5\\xed\\xf5\\xe1\\xbf\\x0f\\xd8\\x7f\\xc2o\\xa7\\x7f\\xdbO\\xfd\\x16\\xd5\\xee \\xf3@\\x0e\\xa4\\xa4\\'\\x8aL\\xd0\\x02\\x9aJ3Fh\\x02\\xbd\\x9f\\xfc\\x8e\\xd6\\x1f\\xf6\\x0e\\xbb\\xff\\x00\\xd1\\x96\\xf5\\xd5\\xd7\\'g\\xff\\x00#\\xb5\\x87\\xfd\\x83\\xae\\xff\\x00\\xf4e\\xbdu\\x94\\x00QE\\x14\\x00W/q\\xff\\x00#\\xb6\\xa1\\xff\\x00`\\xebO\\xfd\\x19s]Er\\xd7\\'\\x1e6\\xd4?\\xec\\x1di\\xff\\x00\\xa3.h\\x02\\xe5%\\x19\\xa34\\x00Rf\\x8a(\\x01\\x0fZ\\xf0\\x7f\\x88\\x87\\x1e:\\xd4\\xbf\\xed\\x97\\xfe\\x8aJ\\xf7s\\xd6\\xbc+\\xe2\\x1ce\\xbcu\\xa9\\x10G\\xfc\\xb2\\xff\\x00\\xd1I@\\x1c\\xbe*\\x06?1\\xfa\\xd5\\x8e\\x9czUvBX\\x9e:\\xd0\\x05Ga\\xbd\\xbe\\xb5r?\\xf5k\\xf4\\x15]\\xad\\xdc\\xb19^\\xb5e\\x06\\xd4P{\\x0cP\\x03\\xc7J))s@\\x11T\\x9bM3i\\xa9q@\\x0f\\xdc*=\\xa6\\x9dE\\x007\\x14\\xb8\\xa0\\x1ei\\xd4\\x00\\xdd\\xa6\\x85R\\x18\\x1a}\\n2q@\\x1d?\\xc3\\xf3\\xff\\x00\\x15\\xbe\\x9d\\xff\\x00m\\x7f\\xf4[W\\xb8\\x83\\xcdx\\x7f\\x80\\x10\\x8f\\x1b\\xe9\\xc7\\x8f\\xf9i\\xff\\x00\\xa2\\xda\\xbd\\xbcu\\xa0\\x07\\x13IE\\x19\\xa0\\x02\\x8a(\\xa0\\n\\xf6\\x7f\\xf2;X\\x7f\\xd8:\\xef\\xff\\x00F[\\xd7Y\\\\\\x9d\\x9f\\xfc\\x8e\\xd6\\x1f\\xf6\\x0e\\xbb\\xff\\x00\\xd1\\x96\\xf5\\xd6P\\x01E\\x15\\xe6\\xfa\\x9f\\xc6m\\x1fC\\x82)u\\x9f\\x0f\\xf8\\x8fM\\xf3\\xe22\\xdb\\xa5\\xdd\\x9a#M\\x87\\x08\\xca\\x06\\xfe\\x18gv\\x1bo\\xcb\\x83\\xfcK\\xb8\\x03\\xd2+\\x96\\xb9\\xff\\x00\\x91\\xda\\xff\\x00\\xfe\\xc1\\xd6\\x9f\\xfa2\\xe2\\xb7t\\xdb\\xd9\\xef\\xad\\xda[\\x8d2\\xefOp\\xe5DWM\\x131\\x18\\x1f0\\xf2\\xdd\\xc69\\xc7\\\\\\xf0x\\xe9\\x9c\\x1b\\xaf\\xf9\\x1d\\xaf\\xff\\x00\\xec\\x1di\\xff\\x00\\xa3.(\\x02\\xdeh\\xcd&i3@\\x0e\\xcd\\x19\\xa6\\xe6\\x8c\\xd0\\x00z\\xd7\\x9c\\xf8\\xa3\\xc0\\x1a\\xae\\xb7\\xe2;\\xbdF\\xda\\xe2\\xc9!\\x9bf\\xd5\\x91\\xd80\\xc2*\\x9c\\xe1Oq^\\x8d\\x9a3@\\x1e<~\\x13\\xeb\\xa4\\x93\\xf6\\xbd;\\xfe\\xfe?\\xff\\x00\\x11Q\\x9f\\x84\\xda\\xf6\\x7f\\xe3\\xefM\\xff\\x00\\xbf\\x8f\\xff\\x00\\xc4W\\xb2\\xe6\\x92\\x80<k\\xfe\\x15.\\xbd\\xff\\x00?zo\\xfd\\xfc\\x7f\\xfe\"\\x97\\xfe\\x156\\xbd\\xff\\x00?zo\\xfd\\xfc\\x7f\\xfe\"\\xbd\\x92\\x8a\\x00\\xf1\\xbf\\xf8T\\xfa\\xf7\\xfc\\xfd\\xe9\\xbf\\xf7\\xf1\\xff\\x00\\xf8\\x8ag\\xfc*\\xbds\\xfe~\\xb4\\xef\\xfb\\xf8\\xff\\x00\\xfcE{5E\\xe57\\xa8\\xa0\\x0f\\x11\\xff\\x00\\x85\\x7f\\xaa\\xff\\x00\\xcf\\xc5\\x97\\xfd\\xf6\\xdf\\xfcM]\\xff\\x00\\x85a\\xad\\x7f\\xcf\\xd6\\x9f\\xff\\x00\\x7f\\x1f\\xff\\x00\\x88\\xafK\\xfe\\xc6\\xb8\\xfe\\xfc_\\x99\\xff\\x00\\n\\xd2\\xfb;\\xfa\\xad\\x00y7\\xfc*\\xadw\\xfe~\\xf4\\xef\\xfb\\xf8\\xff\\x00\\xfcED~\\x18\\xeb@\\x13\\xf6\\xab\\x0f\\xfb\\xf8\\xff\\x00\\xfcE{.*\\xb1\\xb7r\\xa4ezP\\x07\\x8f\\x0f\\x86\\xba\\xce\\x7f\\xe3\\xe6\\xc3\\xfe\\xfe?\\xff\\x00\\x13O\\xff\\x00\\x85m\\xacg\\xfe>l?\\xef\\xe3\\xff\\x00\\xf15\\xeb?b\\x93\\xfb\\xc9\\xf9\\x9aQg&~\\xf2\\xfet\\x01\\xe4\\xff\\x00\\xf0\\xad5\\x9f\\xf9\\xf9\\xb0\\xff\\x00\\xbf\\x8f\\xff\\x00\\xc4\\xd2\\xc7\\xf0\\xd3Y\\xde?\\xd2l?\\xef\\xe3\\xff\\x00\\xf15\\xeb_e\\x7fU\\xa5[gV\\x04\\x95\\xa0\\x0e\\x0b\\xc2\\xfe\\x07\\xd4\\xf4\\x7f\\x11Z\\xdf\\xdcOh\\xd1E\\xbfp\\x8d\\xd8\\xb1\\xca0\\xe3*=k\\xd1\\x87Z\\x8dc*\\xc0\\x92*N\\x94\\x00\\xb4\\x94f\\x8c\\xd0\\x01Fi3A4\\x01\\r\\x91\\xcf\\x8d\\xac\\x7f\\xec\\x1dw\\xff\\x00\\xa3-\\xeb\\xac\\xaeJ\\xc4\\xff\\x00\\xc5mc\\xff\\x00`\\xeb\\xbf\\xfd\\x19o]m\\x00\\x15\\xe3r|4\\xf1.\\xaf{\\xa9j^+\\xd3\\xfc?\\xae\\xea\\x17\\xaf\\x1a#K\\xa9\\\\E\\x15\\xad\\xba\\xba\\xb1\\x8a\\x14Xr\\x84\\xe0\\x8d\\xfb\\xb3\\xcf \\xe5\\xf7\\xfb%\\x14\\x01\\xc5\\xfc5\\xf0}\\xcf\\x82\\xf4mN\\xc6\\xe1-\"K\\x9dN[\\xb8!\\xb5\\x99\\xe5Xbe@\\xa8]\\xd5K\\x11\\xb7\\x19\\xc7<\\x1ad\\x1aN\\x9b\\xa2\\xf8\\xbbQ\\xb7\\xd2\\xf4\\xebK\\x18^\\xc2\\xd5\\xda;XV%-\\xe6\\\\\\x0c\\x90\\xa0\\x0c\\xe0\\x0e}\\xab\\xb7\\xaeJ\\xf4\\xe3\\xc6\\xd7\\xdf\\xf6\\x0e\\xb4\\xff\\x00\\xd1\\x97\\x14\\x01o4f\\x98\\x1b\\xda\\x974\\x00\\xb9\\xa34\\x94P\\x02\\xe6\\x974\\xda(\\x01sFi(\\xa0\\x05\\xcd\\x19\\xa4\\xcd\\x14\\x00\\xb9\\xa34\\x94f\\x80\\x0c\\xd1\\x9aJ(\\x01sIFi3@\\x0e\\xa34\\xdd\\xde\\xd4f\\x80\\x174f\\x934\\x99\\xa0\\x07f\\x934\\x99\\xa4\\xcd\\x00.h\\xcd&i3@\\x0b\\x9a\\t\\xa6\\xe6\\x90\\xb7\\xb5\\x002\\xc0\\xe7\\xc6\\xd6?\\xf6\\x0e\\xba\\xff\\x00\\xd1\\x96\\xf5\\xd7W\\x1f\\xa7\\x1c\\xf8\\xda\\xc7\\xfe\\xc1\\xd7_\\xfa2\\xde\\xbb\\n\\x00(\\xa2\\x8a\\x00+\\x88\\xf1z\\xeb\\x1aE\\xde\\xa7\\xe2K;;\\x1b\\xab\\x184\\xc5i\\x92k\\xc7\\x86A\\xe4\\x99\\x9d\\xb6\\x81\\x13\\x03\\x90\\xe3\\x19#\\x91]\\xbdp\\xfe=\\xd7\\xb5\\x8bmOC\\xf0\\xce\\x89e\\xa5\\\\]k\\xbfiG:\\xa8v\\x80G\\x14{\\x99YW\\x93\\xb87\\xd3\\x8c`\\xe7 \\x02_\\xb2x\\xc3\\xfe\\x81:\\x1f\\xfe\\r\\xa6\\xff\\x00\\xe4j>\\xc9\\xe3\\x0f\\xfa\\x04\\xe8\\x7f\\xf86\\x9b\\xff\\x00\\x91\\xaa\\xff\\x00\\x80|K7\\x8b\\xfc\\x11\\xa6k\\xb7\\x16\\xf1\\xdb\\xcfr\\x8e$\\x8e2J\\xeeGd$g\\x90\\t\\\\\\xe3\\x9cg\\x198\\xcdt\\x94\\x01\\xc6\\xfd\\x97\\xc6\\x1f\\xf4\\t\\xd0\\xff\\x00\\xf0m7\\xff\\x00#Q\\xf6_\\x18\\x7f\\xd0\\'C\\xff\\x00\\xc1\\xb4\\xdf\\xfc\\x8d]\\x95\\x14\\x01\\xc0\\xeaw\\x1e*\\xd2\\xadR\\xe2}\\x1fFd{\\x88-\\xc0MZRwK*\\xc4\\xa7\\x9ba\\xc6\\xe7\\x04\\xfbg\\xafJ\\xb9\\xf6_\\x18\\x7f\\xd0\\'C\\xff\\x00\\xc1\\xb4\\xdf\\xfc\\x8dT~#\\xf8\\xb6\\x7f\\r\\xea:\\x1d\\xb3}\\x86-2\\xe7\\xce\\x9e\\xf6\\xf2\\xf2\\xc2[\\xb5\\xb5\\xf2LF\\'\\xd9\\x1b)\\xff\\x00X\\xe83\\xd9\\x8a\\x9a\\xef \\x9e\\x1b\\xabx\\xae-\\xe5\\x8eh%@\\xf1\\xc9\\x1b\\x06WR2\\x08#\\x82\\x08\\xe74\\x01\\xc8\\xfd\\x97\\xc6\\x1f\\xf4\\t\\xd0\\xff\\x00\\xf0m7\\xff\\x00#Q\\xf6_\\x18\\x7f\\xd0\\'C\\xff\\x00\\xc1\\xb4\\xdf\\xfc\\x8d]\\x95\\x14\\x01\\xc6\\xfd\\x97\\xc6\\x1f\\xf4\\t\\xd0\\xff\\x00\\xf0m7\\xff\\x00#U9.<U\\x16\\xb3m\\xa5\\xb6\\x8f\\xa3y\\xf7\\x16\\xf3\\\\#\\rZ]\\xa1ch\\xd5\\x81\\xff\\x00F\\xces*\\xe3\\x8e\\xc7\\xa7~\\xda\\xff\\x00\\xed\\x9f\\xd9\\xd7?\\xd9\\xdeG\\xdb\\xbc\\xa7\\xfb?\\xda3\\xe5\\xf9\\x98;w\\xe3\\x9d\\xb9\\xc6q\\xce+\\xc9\\xed<w\\xe2\\xcdo\\xc3\\x9e\\x1b\\xd6\\xb4\\xbd\\'J\\x9bS\\xba\\xd3\\xf5K\\x8b\\x83\\xf6W\\x90\\xa2@\\xea\\x15\"Q o\\xde8\\x89H\\x05\\xb9*q\\xf2\\xd0\\x07]\\xf6_\\x18\\x7f\\xd0\\'C\\xff\\x00\\xc1\\xb4\\xdf\\xfc\\x8dG\\xd9<a\\xff\\x00@\\x9d\\x0f\\xff\\x00\\x06\\xd3\\x7f\\xf25oxkR\\x9bY\\xf0\\xae\\x91\\xaa\\\\,k=\\xed\\x947\\x12,`\\x85\\x0c\\xe8\\x18\\x81\\x92N2}MjP\\x07\\x1b\\xf6O\\x18\\x7f\\xd0\\'C\\xff\\x00\\xc1\\xb4\\xdf\\xfc\\x8dG\\xd9<a\\xff\\x00@\\x9d\\x0f\\xff\\x00\\x06\\xd3\\x7f\\xf25vU\\x87\\xe3\\x1dKR\\xd1\\xbc\\x1d\\xaa\\xea\\x9aJ\\xda5\\xe5\\x95\\xbb\\\\*\\xdd\\x861\\x95O\\x99\\xc1\\xdaA\\xce\\xd0\\xd8\\xe4s\\x8c\\xf1@\\x1c\\xe4s\\xf8\\xaa]f\\xe7K]\\x1fF\\xf3\\xed\\xed\\xe1\\xb8v:\\xac\\xbbJ\\xc8\\xd2*\\x81\\xfe\\x8f\\x9c\\xe6&\\xcf\\x1d\\xc7^\\xd7>\\xc7\\xe3\\x0f\\xfa\\x04\\xe8\\x7f\\xf86\\x9b\\xff\\x00\\x91\\xab\\x8e\\xbf\\xf8\\xa5.\\x9b\\xac\\xe8\\xad\\x7fw\\xa3h\\xe9\\xaaxr\\xd7P\\x9a\\xf6]2k\\x96iY\\x9b\\x11\\x01\\x1c\\x80\\x84\\x1b\\x9c\\x8c\\xe7\\x1c\\xff\\x00z\\xbd\\x92\\x808\\xcf\\xb1\\xf8\\xc3\\xfe\\x81:\\x1f\\xfe\\r\\xa6\\xff\\x00\\xe4j>\\xc7\\xe3\\x0f\\xfa\\x04\\xe8\\x7f\\xf86\\x9b\\xff\\x00\\x91\\xab\\xb3\\xa2\\x808\\xcf\\xb1\\xf8\\xc3\\xfe\\x81:\\x1f\\xfe\\r\\xa6\\xff\\x00\\xe4j\\xa7g7\\x8a\\xaf\\xae\\xb5\\x1bx\\xb4}\\x18=\\x85\\xc0\\xb7\\x94\\xb6\\xab.\\x0b\\x18\\xa3\\x97+\\xfe\\x8f\\xd3l\\x8a9\\xc7 \\xfdOO\\xe2I\\xb5\\x8b}:9\\xf4\\x8b\\x9d*\\xd7\\xcb\\x94=\\xe4\\xfa\\x98s\\x1cV\\xe0\\x12\\xec\\x02\\x95\\xf9\\x87\\x07\\x92\\x06\\x01\\xc9\\x1dk\\xc6\\xec~*\\xf8\\xda\\xefI\\xd7um;B\\xd1\\xbc\\x8d>\\xddn\\xae.\\xa2\\xb4\\x98\\xad\\xf3\\x19\\xbc\\x91\"\\x02\\xea\\xe1\\x04q\\xb6X\\x86\\xc7\\x90A\\xdb\\xc0P\\x0fH\\xfb\\x17\\x8c?\\xe8\\x15\\xa1\\xff\\x00\\xe0\\xdao\\xfeF\\xa3\\xec^0\\xff\\x00\\xa0V\\x87\\xff\\x00\\x83i\\xbf\\xf9\\x1a\\xbbJ(\\x03\\x8b\\xfb\\x17\\x8c?\\xe8\\x15\\xa1\\xff\\x00\\xe0\\xdao\\xfeF\\xa4\\xfb\\x0f\\x8c?\\xe8\\x15\\xa1\\xff\\x00\\xe0\\xdao\\xfeF\\xae\\xd6\\xb8?\\x88\\xde%\\xf1\\x0f\\x84\\xac.5\\x8b;\\xbf\\x0f\\xc1\\xa6En\\xa28\\xef\\xe3\\x99\\xe7\\xb8\\xb9.\\x7fv\\xa1\\x18\\x0c\\x14\\xe4\\x1eNT\\xe7\\x0b\\x96P\\x08t\\xd7\\xf1V\\xabj\\xf7\\x10i\\x1a2\\xa2\\\\OnC\\xea\\xb2\\x83\\xba)Z&<[\\x9e7!#\\xdb\\x1d:U\\xcf\\xb0x\\xc3\\xfe\\x81Z\\x1f\\xfe\\r\\xa6\\xff\\x00\\xe4j\\xe6~\\x1d\\xfcM\\x97\\xc4> \\x93H\\xbfm7F\\xbbk\\xdb\\x95M\\x114\\xd9\\xbc\\xf2\\x00i\\x19\\x9am\\xc1\\x15\\xf7o\\xdd\\x94\\x04\\x95n\\x01n=r\\x809=\\x13I\\xd7\\x93\\xc4\\x91j\\x1a\\xa5\\xb6\\x9b\\x04\\x11ZM\\x02\\x8b[\\xc7\\x99\\x99\\x9d\\xe2nCD\\x80\\x00#=\\xcfQ]e\\x14P\\x01E\\x14P\\x01\\\\\\xdf\\x8a\\xfc\\x17c\\xe2\\xc7\\xd3\\xe7\\x9e\\xf7R\\xd3\\xef4\\xf7v\\xb6\\xbc\\xd3\\xae<\\x99P:\\xedu\\xce\\x08\\xc1\\x00g\\x8c\\xf1\\xd7\\x04\\x83\\xd2Q@\\x19~\\x1c\\xd0,|-\\xe1\\xfb=\\x17MY\\x05\\xa5\\xaa\\x15O1\\xb73\\x12K3\\x13\\xeaX\\x93\\xc6\\x07<\\x008\\xadJ(\\xa0\\x02\\x8a(\\xa0\\x0e_\\xc4\\xfe\\nO\\x14K1\\x9b_\\xd7,\\xad\\xe7\\xb4\\xfb$\\xd6\\xb6W*\\x90\\xc8\\x9b\\xb7\\x12U\\x91\\xbec\\xf7I\\x18\\xca\\xfc\\xbd\\t\\x07\\xa0\\xb0\\xb1\\xb7\\xd34\\xebk\\x0b8\\xfc\\xbb[X\\x92\\x18Sq;Q@\\n2y8\\x00u\\xab\\x14P\\x01E\\x14P\\x04s\\xc6\\xd3[\\xcb\\x12M$\\x0e\\xe8Ue\\x8c)d$}\\xe1\\xb8\\x11\\x91\\xd7\\x90G\\xa85\\xe7c\\xe0\\xd6\\x92\\xbau\\x85\\x80\\xd7\\xb5\\xcf\\xb2\\xe9\\xf1\\\\\\xc3l\\x9b\\xad\\xff\\x00v\\x97\\x00\\x89\\x86|\\x9c\\x9d\\xc1\\x8f\\\\\\xe3<b\\xbd\"\\x8a\\x00\\xa7\\xa4\\xe9\\xb0\\xe8\\xda5\\x8e\\x97n\\xd24\\x16V\\xf1\\xdb\\xc6\\xd2\\x10X\\xaa(PN\\x00\\x19\\xc0\\xf4\\x15r\\x8a(\\x00\\xac\\xfdsIM{C\\xbd\\xd2e\\xb9\\x9e\\xde\\x1b\\xc8\\x9a\\x19$\\x83n\\xfd\\x8d\\xc3\\x01\\xb9Xr2:w\\xe3\\x07\\x06\\xb4(\\xa0\\x0e\\x0e\\xef\\xe1u\\xbd\\xf7\\x87\\xce\\x83s\\xe2\\x7f\\x10I\\xa5\\x9bxm\\xbe\\xcc^\\xd8(\\x8e#\\x98\\xc0\\xc49\\x04\\x1ce\\x87-\\x81\\x92p+\\xbc\\xa2\\x8a\\x00(\\xa2\\x8a\\x00\\xe7\\xfcc\\xe1\\x1b?\\x1bh\\x7f\\xd9\\x17\\xf7\\x97\\xd6\\xd6\\xa6U\\x95\\xfe\\xc7(C&\\xdc\\xe1[*A\\\\\\x90q\\x8e\\xaa\\xa7\\xb5sz\\xa7\\xc2\\r/Y,ou\\xdde\\x83Y&\\x9f\\xb65\\xb5\\x89E\\xbaH$X\\xc2\\xa4\\x00\\x00\\x19A\\xe3\\x07\\x8ct\\xe2\\xbd\\x12\\x8a\\x00(\\xa2\\x8a\\x00+\\x93\\xf1\\x17\\x80l\\xbcG\\xe2];^\\x9fS\\xd4\\xad\\xee\\xf4\\xe4\\xc5\\xaaBbx\\xa3l\\x93\\xbc$\\xb1\\xb8\\xdf\\xc8\\xe7\\xfd\\x95\\xee\\xa0\\xd7YE\\x00rv\\xde\\x04\\x8a?\\x10iz\\xcd\\xe6\\xbf\\xac\\xea7\\x1ac\\xdc=\\xb2\\xdd\\xb4%T\\xcc\\x08|\\xec\\x89I\\x1c\\xf03\\x85\\xc0\\x03\\x00b\\xba\\xca(\\xa0\\x02\\x8a(\\xa0\\x0f\\xff\\xd9'}"
            ]
          },
          "metadata": {
            "tags": []
          },
          "execution_count": 30
        }
      ]
    },
    {
      "cell_type": "code",
      "metadata": {
        "pycharm": {
          "name": "#%%\n"
        },
        "id": "8qR-ASL7Br2C",
        "colab_type": "code",
        "colab": {
          "base_uri": "https://localhost:8080/",
          "height": 34
        },
        "outputId": "4a6d30d1-b8c0-4eb0-8ac5-dbe5c555ed1b"
      },
      "source": [
        "# Проверяем загрузку картинки\n",
        "!ls"
      ],
      "execution_count": 29,
      "outputs": [
        {
          "output_type": "stream",
          "text": [
            "fashion_mnist_dense.h5\tindex.png  sample_data\n"
          ],
          "name": "stdout"
        }
      ]
    },
    {
      "cell_type": "code",
      "metadata": {
        "pycharm": {
          "name": "#%%\n"
        },
        "id": "_XYS85kbBr2Y",
        "colab_type": "code",
        "colab": {}
      },
      "source": [
        "# Загружаем картинку из файла\n",
        "img_path = 'index.jpg'\n",
        "img = image.load_img(img_path, target_size=(28, 28), color_mode = \"grayscale\")"
      ],
      "execution_count": 31,
      "outputs": []
    },
    {
      "cell_type": "code",
      "metadata": {
        "pycharm": {
          "name": "#%%\n"
        },
        "id": "6-nKFzLnBr2r",
        "colab_type": "code",
        "colab": {
          "base_uri": "https://localhost:8080/",
          "height": 265
        },
        "outputId": "b41e60ac-947f-4eb8-e973-12367824896c"
      },
      "source": [
        "# Показываем картинку\n",
        "\n",
        "plt.imshow(img.convert('RGBA'))\n",
        "plt.show()"
      ],
      "execution_count": 32,
      "outputs": [
        {
          "output_type": "display_data",
          "data": {
            "image/png": "[encoded data removed]",
            "text/plain": [
              "<Figure size 432x288 with 1 Axes>"
            ]
          },
          "metadata": {
            "tags": [],
            "needs_background": "light"
          }
        }
      ]
    },
    {
      "cell_type": "code",
      "metadata": {
        "pycharm": {
          "name": "#%%\n"
        },
        "id": "ASJDKoDyBr2_",
        "colab_type": "code",
        "colab": {}
      },
      "source": [
        "# Преобразуем картинку для обработки нейронной сетью\n",
        "\n",
        "# Преобразуем картинку в массив\n",
        "x = image.img_to_array(img)\n",
        "# Меняем форму массива в плоский вектор\n",
        "x = x.reshape(1, 784)\n",
        "# Инвертируем изображение\n",
        "x = 255 - x\n",
        "# Нормализуем изображение\n",
        "x = x / 255"
      ],
      "execution_count": 33,
      "outputs": []
    },
    {
      "cell_type": "code",
      "metadata": {
        "pycharm": {
          "name": "#%%\n"
        },
        "id": "fjUd4YesBr3T",
        "colab_type": "code",
        "colab": {
          "base_uri": "https://localhost:8080/",
          "height": 52
        },
        "outputId": "28247c9e-4649-4d3b-d4cc-93c8be4cbda7"
      },
      "source": [
        "# Запускаем распознавание\n",
        "prediction = model.predict(x)\n",
        "\n",
        "# Результаты распознавания\n",
        "prediction\n",
        "\n",
        "prediction = np.argmax(prediction)\n",
        "print(\"Номер класса:\", prediction)\n",
        "print(\"Название класса:\", classes[prediction])"
      ],
      "execution_count": 34,
      "outputs": [
        {
          "output_type": "stream",
          "text": [
            "Номер класса: 6\n",
            "Название класса: рубашка\n"
          ],
          "name": "stdout"
        }
      ]
    }
  ]
}