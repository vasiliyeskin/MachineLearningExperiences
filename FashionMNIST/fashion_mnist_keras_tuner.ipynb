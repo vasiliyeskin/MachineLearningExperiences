{
  "nbformat": 4,
  "nbformat_minor": 0,
  "metadata": {
    "colab": {
      "name": "fashion_mnist_keras_tuner.ipynb",
      "provenance": [],
      "include_colab_link": true
    },
    "kernelspec": {
      "name": "python3",
      "display_name": "Python 3"
    },
    "accelerator": "GPU"
  },
  "cells": [
    {
      "cell_type": "markdown",
      "metadata": {
        "id": "view-in-github",
        "colab_type": "text"
      },
      "source": [
        "<a href=\"https://colab.research.google.com/github/vasiliyeskin/MachineLearningExperiences/blob/master/FashionMNIST/fashion_mnist_keras_tuner.ipynb\" target=\"_parent\"><img src=\"https://colab.research.google.com/assets/colab-badge.svg\" alt=\"Open In Colab\"/></a>"
      ]
    },
    {
      "cell_type": "markdown",
      "metadata": {
        "id": "Ah7dy1kFL2H9",
        "colab_type": "text"
      },
      "source": [
        "# Оптимизация гиперпараметров нейросети с помощью [Keras Tuner](https://github.com/keras-team/keras-tuner)\n",
        "\n",
        "Взято с https://www.youtube.com/watch?v=M08yHFPKTNI&list=PLtPJ9lKvJ4oiz9aaL_xcZd-x0qd8G0VN_&index=11.\n",
        "\n",
        "Чтобы запускать и редактировать код, сохраните копию этого ноутбука себе (File->Save a copy in Drive...). Свою копию вы сможете изменять и запускать.\n",
        "\n",
        "Не забудьте подключить GPU, чтобы сеть обучалась быстрее (Runtime -> Change Runtime Type -> Hardware Accelerator -> GPU).\n",
        "\n"
      ]
    },
    {
      "cell_type": "markdown",
      "metadata": {
        "id": "Om0LL5DEZfEo",
        "colab_type": "text"
      },
      "source": [
        "## Гиперпараметры обучения нейронной сети\n",
        "\n",
        "- Количество слоев нейронной сети\n",
        "- Количество нейронов в каждом слое\n",
        "- Функции активации, которые используются в слоях\n",
        "- Тип оптимизатора при обучении нейронной сети\n",
        "- Количество эпох обучения"
      ]
    },
    {
      "cell_type": "markdown",
      "metadata": {
        "id": "eVmxmhjuia9a",
        "colab_type": "text"
      },
      "source": [
        "## Установка Keras Tuner"
      ]
    },
    {
      "cell_type": "code",
      "metadata": {
        "id": "ftLg2Tt0Rejk",
        "colab_type": "code",
        "colab": {
          "base_uri": "https://localhost:8080/",
          "height": 296
        },
        "outputId": "a49556c4-0217-4f63-e3e6-ea188860fa4d"
      },
      "source": [
        "pip install -U keras-tuner"
      ],
      "execution_count": 23,
      "outputs": [
        {
          "output_type": "stream",
          "text": [
            "Requirement already up-to-date: keras-tuner in /usr/local/lib/python3.6/dist-packages (1.0.1)\n",
            "Requirement already satisfied, skipping upgrade: tqdm in /usr/local/lib/python3.6/dist-packages (from keras-tuner) (4.41.1)\n",
            "Requirement already satisfied, skipping upgrade: colorama in /usr/local/lib/python3.6/dist-packages (from keras-tuner) (0.4.3)\n",
            "Requirement already satisfied, skipping upgrade: future in /usr/local/lib/python3.6/dist-packages (from keras-tuner) (0.16.0)\n",
            "Requirement already satisfied, skipping upgrade: requests in /usr/local/lib/python3.6/dist-packages (from keras-tuner) (2.23.0)\n",
            "Requirement already satisfied, skipping upgrade: tabulate in /usr/local/lib/python3.6/dist-packages (from keras-tuner) (0.8.7)\n",
            "Requirement already satisfied, skipping upgrade: terminaltables in /usr/local/lib/python3.6/dist-packages (from keras-tuner) (3.1.0)\n",
            "Requirement already satisfied, skipping upgrade: scipy in /usr/local/lib/python3.6/dist-packages (from keras-tuner) (1.4.1)\n",
            "Requirement already satisfied, skipping upgrade: numpy in /usr/local/lib/python3.6/dist-packages (from keras-tuner) (1.18.5)\n",
            "Requirement already satisfied, skipping upgrade: scikit-learn in /usr/local/lib/python3.6/dist-packages (from keras-tuner) (0.22.2.post1)\n",
            "Requirement already satisfied, skipping upgrade: certifi>=2017.4.17 in /usr/local/lib/python3.6/dist-packages (from requests->keras-tuner) (2020.6.20)\n",
            "Requirement already satisfied, skipping upgrade: urllib3!=1.25.0,!=1.25.1,<1.26,>=1.21.1 in /usr/local/lib/python3.6/dist-packages (from requests->keras-tuner) (1.24.3)\n",
            "Requirement already satisfied, skipping upgrade: chardet<4,>=3.0.2 in /usr/local/lib/python3.6/dist-packages (from requests->keras-tuner) (3.0.4)\n",
            "Requirement already satisfied, skipping upgrade: idna<3,>=2.5 in /usr/local/lib/python3.6/dist-packages (from requests->keras-tuner) (2.10)\n",
            "Requirement already satisfied, skipping upgrade: joblib>=0.11 in /usr/local/lib/python3.6/dist-packages (from scikit-learn->keras-tuner) (0.16.0)\n"
          ],
          "name": "stdout"
        }
      ]
    },
    {
      "cell_type": "markdown",
      "metadata": {
        "id": "TRs9p254BLSu",
        "colab_type": "text"
      },
      "source": [
        "## Подключаем нужные пакеты"
      ]
    },
    {
      "cell_type": "code",
      "metadata": {
        "id": "qrfd6FzSLrE2",
        "colab_type": "code",
        "colab": {}
      },
      "source": [
        "%tensorflow_version 2.x\n",
        "from tensorflow.keras.datasets import fashion_mnist\n",
        "from tensorflow.keras.models import Sequential\n",
        "from tensorflow.keras.layers import Dense\n",
        "from tensorflow.keras import utils\n",
        "from google.colab import files\n",
        "from kerastuner.tuners import RandomSearch, Hyperband, BayesianOptimization\n",
        "import numpy as np"
      ],
      "execution_count": 31,
      "outputs": []
    },
    {
      "cell_type": "markdown",
      "metadata": {
        "id": "xiurjCBVMDTG",
        "colab_type": "text"
      },
      "source": [
        "## Подготовка данных для обучения сети"
      ]
    },
    {
      "cell_type": "code",
      "metadata": {
        "id": "E5L3LUIi8PDV",
        "colab_type": "code",
        "colab": {}
      },
      "source": [
        "(x_train, y_train), (x_test, y_test) = fashion_mnist.load_data()"
      ],
      "execution_count": 32,
      "outputs": []
    },
    {
      "cell_type": "code",
      "metadata": {
        "id": "6Z52YG_1kXbi",
        "colab_type": "code",
        "colab": {}
      },
      "source": [
        "x_train = x_train.reshape(60000, 784)\n",
        "x_test = x_test.reshape(10000, 784)\n",
        "x_train = x_train / 255 \n",
        "x_test = x_test / 255 \n",
        "y_train = utils.to_categorical(y_train, 10)\n",
        "y_test = utils.to_categorical(y_test, 10)"
      ],
      "execution_count": 33,
      "outputs": []
    },
    {
      "cell_type": "markdown",
      "metadata": {
        "id": "rpEltSGUkJAG",
        "colab_type": "text"
      },
      "source": [
        "## Задаем функцию создания нейронной сети"
      ]
    },
    {
      "cell_type": "code",
      "metadata": {
        "id": "Sd62W3GOQtKU",
        "colab_type": "code",
        "colab": {}
      },
      "source": [
        "def build_model(hp):\n",
        "    model = Sequential()\n",
        "    activation_choice = hp.Choice('activation', values=['relu', 'sigmoid', 'tanh', 'elu', 'selu'])    \n",
        "    model.add(Dense(units=hp.Int('units_input',    # Полносвязный слой с разным количеством нейронов\n",
        "                                   min_value=512,    # минимальное количество нейронов - 128\n",
        "                                   max_value=1024,   # максимальное количество - 1024\n",
        "                                   step=32),\n",
        "                    input_dim=784,\n",
        "                    activation=activation_choice))\n",
        "    model.add(Dense(units=hp.Int('units_hidden',        \n",
        "                                   min_value=128,   \n",
        "                                   max_value=600,   \n",
        "                                   step=32),\n",
        "                    activation=activation_choice))   \n",
        "    model.add(Dense(10, activation='softmax'))\n",
        "    model.compile(\n",
        "        optimizer=hp.Choice('optimizer', values=['adam','rmsprop','SGD']),\n",
        "        loss='categorical_crossentropy',\n",
        "        metrics=['accuracy'])\n",
        "    return model"
      ],
      "execution_count": 34,
      "outputs": []
    },
    {
      "cell_type": "markdown",
      "metadata": {
        "id": "lFw-0sZsmFOJ",
        "colab_type": "text"
      },
      "source": [
        "## Создаем tuner\n",
        "\n",
        "Доступные типы тюнеров: \n",
        "- RandomSearch - случайный поиск.\n",
        "- Hyperband - алгоритм оптимизации на основе многорукого бандита, Li, Lisha, and Kevin Jamieson. [\"Hyperband: A Novel Bandit-Based Approach to Hyperparameter Optimization.\"Journal of Machine Learning Research 18 (2018): 1-52](http://jmlr.org/papers/v18/16-558.html).\n",
        "- BayesianOptimization - [байесовская оптимизация](https://en.wikipedia.org/wiki/Bayesian_optimization)."
      ]
    },
    {
      "cell_type": "code",
      "metadata": {
        "id": "OZwA47cOQz4b",
        "colab_type": "code",
        "colab": {
          "base_uri": "https://localhost:8080/",
          "height": 52
        },
        "outputId": "9ab06398-1028-4256-84f8-295e4337fa4c"
      },
      "source": [
        "tuner = RandomSearch(\n",
        "    build_model,                 # функция создания модели\n",
        "    objective='val_accuracy',    # метрика, которую нужно оптимизировать - \n",
        "                                 # доля правильных ответов на проверочном наборе данных\n",
        "    max_trials=80,               # максимальное количество запусков обучения \n",
        "    directory='test_directory'   # каталог, куда сохраняются обученные сети  \n",
        "    )"
      ],
      "execution_count": 35,
      "outputs": [
        {
          "output_type": "stream",
          "text": [
            "INFO:tensorflow:Reloading Oracle from existing project test_directory/untitled_project/oracle.json\n",
            "INFO:tensorflow:Reloading Tuner from test_directory/untitled_project/tuner0.json\n"
          ],
          "name": "stdout"
        }
      ]
    },
    {
      "cell_type": "markdown",
      "metadata": {
        "id": "-znOiwDZB1C5",
        "colab_type": "text"
      },
      "source": [
        "## Запускаем подбор гиперпараметров"
      ]
    },
    {
      "cell_type": "markdown",
      "metadata": {
        "id": "63MVEBFYmdpB",
        "colab_type": "text"
      },
      "source": [
        "Пространство поиска"
      ]
    },
    {
      "cell_type": "code",
      "metadata": {
        "id": "JeJ87qoVB4PV",
        "colab_type": "code",
        "colab": {
          "base_uri": "https://localhost:8080/",
          "height": 497
        },
        "outputId": "1423829e-3fd3-4d56-eece-af2a6597201b"
      },
      "source": [
        "tuner.search_space_summary()"
      ],
      "execution_count": 36,
      "outputs": [
        {
          "output_type": "display_data",
          "data": {
            "text/html": [
              "<span style=\"color:#4527A0\"><h1 style=\"font-size:18px\">Search space summary</h1></span>"
            ],
            "text/plain": [
              "<IPython.core.display.HTML object>"
            ]
          },
          "metadata": {
            "tags": []
          }
        },
        {
          "output_type": "display_data",
          "data": {
            "text/html": [
              "<span style=\"color:cyan\"> |-Default search space size: 4</span>"
            ],
            "text/plain": [
              "<IPython.core.display.HTML object>"
            ]
          },
          "metadata": {
            "tags": []
          }
        },
        {
          "output_type": "display_data",
          "data": {
            "text/html": [
              "<span style=\"color:#7E57C2\"><h2 style=\"font-size:16px\">activation (Choice)</h2></span>"
            ],
            "text/plain": [
              "<IPython.core.display.HTML object>"
            ]
          },
          "metadata": {
            "tags": []
          }
        },
        {
          "output_type": "display_data",
          "data": {
            "text/html": [
              "<span style=\"color:cyan\"> |-default: relu</span>"
            ],
            "text/plain": [
              "<IPython.core.display.HTML object>"
            ]
          },
          "metadata": {
            "tags": []
          }
        },
        {
          "output_type": "display_data",
          "data": {
            "text/html": [
              "<span style=\"color:blue\"> |-ordered: False</span>"
            ],
            "text/plain": [
              "<IPython.core.display.HTML object>"
            ]
          },
          "metadata": {
            "tags": []
          }
        },
        {
          "output_type": "display_data",
          "data": {
            "text/html": [
              "<span style=\"color:cyan\"> |-values: ['relu', 'sigmoid', 'tanh', 'elu', 'selu']</span>"
            ],
            "text/plain": [
              "<IPython.core.display.HTML object>"
            ]
          },
          "metadata": {
            "tags": []
          }
        },
        {
          "output_type": "display_data",
          "data": {
            "text/html": [
              "<span style=\"color:#7E57C2\"><h2 style=\"font-size:16px\">units_input (Int)</h2></span>"
            ],
            "text/plain": [
              "<IPython.core.display.HTML object>"
            ]
          },
          "metadata": {
            "tags": []
          }
        },
        {
          "output_type": "display_data",
          "data": {
            "text/html": [
              "<span style=\"color:cyan\"> |-default: None</span>"
            ],
            "text/plain": [
              "<IPython.core.display.HTML object>"
            ]
          },
          "metadata": {
            "tags": []
          }
        },
        {
          "output_type": "display_data",
          "data": {
            "text/html": [
              "<span style=\"color:blue\"> |-max_value: 1024</span>"
            ],
            "text/plain": [
              "<IPython.core.display.HTML object>"
            ]
          },
          "metadata": {
            "tags": []
          }
        },
        {
          "output_type": "display_data",
          "data": {
            "text/html": [
              "<span style=\"color:cyan\"> |-min_value: 512</span>"
            ],
            "text/plain": [
              "<IPython.core.display.HTML object>"
            ]
          },
          "metadata": {
            "tags": []
          }
        },
        {
          "output_type": "display_data",
          "data": {
            "text/html": [
              "<span style=\"color:blue\"> |-sampling: None</span>"
            ],
            "text/plain": [
              "<IPython.core.display.HTML object>"
            ]
          },
          "metadata": {
            "tags": []
          }
        },
        {
          "output_type": "display_data",
          "data": {
            "text/html": [
              "<span style=\"color:cyan\"> |-step: 32</span>"
            ],
            "text/plain": [
              "<IPython.core.display.HTML object>"
            ]
          },
          "metadata": {
            "tags": []
          }
        },
        {
          "output_type": "display_data",
          "data": {
            "text/html": [
              "<span style=\"color:#7E57C2\"><h2 style=\"font-size:16px\">units_hidden (Int)</h2></span>"
            ],
            "text/plain": [
              "<IPython.core.display.HTML object>"
            ]
          },
          "metadata": {
            "tags": []
          }
        },
        {
          "output_type": "display_data",
          "data": {
            "text/html": [
              "<span style=\"color:cyan\"> |-default: None</span>"
            ],
            "text/plain": [
              "<IPython.core.display.HTML object>"
            ]
          },
          "metadata": {
            "tags": []
          }
        },
        {
          "output_type": "display_data",
          "data": {
            "text/html": [
              "<span style=\"color:blue\"> |-max_value: 600</span>"
            ],
            "text/plain": [
              "<IPython.core.display.HTML object>"
            ]
          },
          "metadata": {
            "tags": []
          }
        },
        {
          "output_type": "display_data",
          "data": {
            "text/html": [
              "<span style=\"color:cyan\"> |-min_value: 128</span>"
            ],
            "text/plain": [
              "<IPython.core.display.HTML object>"
            ]
          },
          "metadata": {
            "tags": []
          }
        },
        {
          "output_type": "display_data",
          "data": {
            "text/html": [
              "<span style=\"color:blue\"> |-sampling: None</span>"
            ],
            "text/plain": [
              "<IPython.core.display.HTML object>"
            ]
          },
          "metadata": {
            "tags": []
          }
        },
        {
          "output_type": "display_data",
          "data": {
            "text/html": [
              "<span style=\"color:cyan\"> |-step: 32</span>"
            ],
            "text/plain": [
              "<IPython.core.display.HTML object>"
            ]
          },
          "metadata": {
            "tags": []
          }
        },
        {
          "output_type": "display_data",
          "data": {
            "text/html": [
              "<span style=\"color:#7E57C2\"><h2 style=\"font-size:16px\">optimizer (Choice)</h2></span>"
            ],
            "text/plain": [
              "<IPython.core.display.HTML object>"
            ]
          },
          "metadata": {
            "tags": []
          }
        },
        {
          "output_type": "display_data",
          "data": {
            "text/html": [
              "<span style=\"color:cyan\"> |-default: adam</span>"
            ],
            "text/plain": [
              "<IPython.core.display.HTML object>"
            ]
          },
          "metadata": {
            "tags": []
          }
        },
        {
          "output_type": "display_data",
          "data": {
            "text/html": [
              "<span style=\"color:blue\"> |-ordered: False</span>"
            ],
            "text/plain": [
              "<IPython.core.display.HTML object>"
            ]
          },
          "metadata": {
            "tags": []
          }
        },
        {
          "output_type": "display_data",
          "data": {
            "text/html": [
              "<span style=\"color:cyan\"> |-values: ['adam', 'rmsprop', 'SGD']</span>"
            ],
            "text/plain": [
              "<IPython.core.display.HTML object>"
            ]
          },
          "metadata": {
            "tags": []
          }
        }
      ]
    },
    {
      "cell_type": "markdown",
      "metadata": {
        "id": "EfT4ecI8n5Ga",
        "colab_type": "text"
      },
      "source": [
        "Подбор гиперпараметров"
      ]
    },
    {
      "cell_type": "code",
      "metadata": {
        "id": "NEFHVKDBB-Z9",
        "colab_type": "code",
        "colab": {
          "base_uri": "https://localhost:8080/",
          "height": 1000
        },
        "outputId": "455550b0-c50f-4c1b-b8c9-3a094de6df89"
      },
      "source": [
        "tuner.search(x_train,                  # Данные для обучения\n",
        "             y_train,                  # Правильные ответы\n",
        "             batch_size=256,           # Размер мини-выборки\n",
        "             epochs=20,                # Количество эпох обучения \n",
        "             validation_split=0.2,     # Часть данных, которая будет использоваться для проверки\n",
        "             )"
      ],
      "execution_count": 37,
      "outputs": [
        {
          "output_type": "stream",
          "text": [
            "Epoch 1/20\n",
            "188/188 [==============================] - 2s 9ms/step - loss: 0.6341 - accuracy: 0.7696 - val_loss: 0.5599 - val_accuracy: 0.7902\n",
            "Epoch 2/20\n",
            "188/188 [==============================] - 1s 7ms/step - loss: 0.4195 - accuracy: 0.8424 - val_loss: 0.4258 - val_accuracy: 0.8422\n",
            "Epoch 3/20\n",
            "188/188 [==============================] - 2s 8ms/step - loss: 0.3632 - accuracy: 0.8650 - val_loss: 0.4097 - val_accuracy: 0.8518\n",
            "Epoch 4/20\n",
            "188/188 [==============================] - 1s 8ms/step - loss: 0.3298 - accuracy: 0.8775 - val_loss: 0.3688 - val_accuracy: 0.8712\n",
            "Epoch 5/20\n",
            "188/188 [==============================] - 2s 8ms/step - loss: 0.3031 - accuracy: 0.8854 - val_loss: 0.3859 - val_accuracy: 0.8704\n",
            "Epoch 6/20\n",
            "188/188 [==============================] - 1s 8ms/step - loss: 0.2846 - accuracy: 0.8926 - val_loss: 0.4103 - val_accuracy: 0.8613\n",
            "Epoch 7/20\n",
            "188/188 [==============================] - 1s 8ms/step - loss: 0.2711 - accuracy: 0.8979 - val_loss: 0.3620 - val_accuracy: 0.8733\n",
            "Epoch 8/20\n",
            "188/188 [==============================] - 1s 8ms/step - loss: 0.2555 - accuracy: 0.9034 - val_loss: 0.3225 - val_accuracy: 0.8839\n",
            "Epoch 9/20\n",
            "188/188 [==============================] - 1s 8ms/step - loss: 0.2417 - accuracy: 0.9093 - val_loss: 0.3872 - val_accuracy: 0.8651\n",
            "Epoch 10/20\n",
            "188/188 [==============================] - 1s 7ms/step - loss: 0.2327 - accuracy: 0.9109 - val_loss: 0.3937 - val_accuracy: 0.8780\n",
            "Epoch 11/20\n",
            "188/188 [==============================] - 1s 7ms/step - loss: 0.2213 - accuracy: 0.9155 - val_loss: 0.3588 - val_accuracy: 0.8783\n",
            "Epoch 12/20\n",
            "188/188 [==============================] - 1s 8ms/step - loss: 0.2117 - accuracy: 0.9197 - val_loss: 0.3408 - val_accuracy: 0.8957\n",
            "Epoch 13/20\n",
            "188/188 [==============================] - 1s 8ms/step - loss: 0.2060 - accuracy: 0.9221 - val_loss: 0.3400 - val_accuracy: 0.8924\n",
            "Epoch 14/20\n",
            "188/188 [==============================] - 1s 7ms/step - loss: 0.1973 - accuracy: 0.9249 - val_loss: 0.3818 - val_accuracy: 0.8788\n",
            "Epoch 15/20\n",
            "188/188 [==============================] - 1s 8ms/step - loss: 0.1889 - accuracy: 0.9294 - val_loss: 0.3436 - val_accuracy: 0.8950\n",
            "Epoch 16/20\n",
            "188/188 [==============================] - 1s 7ms/step - loss: 0.1821 - accuracy: 0.9313 - val_loss: 0.3821 - val_accuracy: 0.8913\n",
            "Epoch 17/20\n",
            "188/188 [==============================] - 1s 7ms/step - loss: 0.1758 - accuracy: 0.9326 - val_loss: 0.3638 - val_accuracy: 0.8913\n",
            "Epoch 18/20\n",
            "188/188 [==============================] - 1s 8ms/step - loss: 0.1706 - accuracy: 0.9353 - val_loss: 0.4491 - val_accuracy: 0.8823\n",
            "Epoch 19/20\n",
            "188/188 [==============================] - 1s 7ms/step - loss: 0.1632 - accuracy: 0.9387 - val_loss: 0.3661 - val_accuracy: 0.8932\n",
            "Epoch 20/20\n",
            "188/188 [==============================] - 1s 7ms/step - loss: 0.1589 - accuracy: 0.9398 - val_loss: 0.3868 - val_accuracy: 0.8956\n"
          ],
          "name": "stdout"
        },
        {
          "output_type": "display_data",
          "data": {
            "text/html": [
              "<span style=\"color:#4527A0\"><h1 style=\"font-size:18px\">Trial complete</h1></span>"
            ],
            "text/plain": [
              "<IPython.core.display.HTML object>"
            ]
          },
          "metadata": {
            "tags": []
          }
        },
        {
          "output_type": "display_data",
          "data": {
            "text/html": [
              "<span style=\"color:#4527A0\"><h1 style=\"font-size:18px\">Trial summary</h1></span>"
            ],
            "text/plain": [
              "<IPython.core.display.HTML object>"
            ]
          },
          "metadata": {
            "tags": []
          }
        },
        {
          "output_type": "display_data",
          "data": {
            "text/html": [
              "<span style=\"color:cyan\"> |-Trial ID: e46df6baa59a1208434a4e4d71b49860</span>"
            ],
            "text/plain": [
              "<IPython.core.display.HTML object>"
            ]
          },
          "metadata": {
            "tags": []
          }
        },
        {
          "output_type": "display_data",
          "data": {
            "text/html": [
              "<span style=\"color:cyan\"> |-Score: 0.8956666588783264</span>"
            ],
            "text/plain": [
              "<IPython.core.display.HTML object>"
            ]
          },
          "metadata": {
            "tags": []
          }
        },
        {
          "output_type": "display_data",
          "data": {
            "text/html": [
              "<span style=\"color:cyan\"> |-Best step: 0</span>"
            ],
            "text/plain": [
              "<IPython.core.display.HTML object>"
            ]
          },
          "metadata": {
            "tags": []
          }
        },
        {
          "output_type": "display_data",
          "data": {
            "text/html": [
              "<span style=\"color:#7E57C2\"><h2 style=\"font-size:16px\">Hyperparameters:</h2></span>"
            ],
            "text/plain": [
              "<IPython.core.display.HTML object>"
            ]
          },
          "metadata": {
            "tags": []
          }
        },
        {
          "output_type": "display_data",
          "data": {
            "text/html": [
              "<span style=\"color:cyan\"> |-activation: relu</span>"
            ],
            "text/plain": [
              "<IPython.core.display.HTML object>"
            ]
          },
          "metadata": {
            "tags": []
          }
        },
        {
          "output_type": "display_data",
          "data": {
            "text/html": [
              "<span style=\"color:blue\"> |-optimizer: rmsprop</span>"
            ],
            "text/plain": [
              "<IPython.core.display.HTML object>"
            ]
          },
          "metadata": {
            "tags": []
          }
        },
        {
          "output_type": "display_data",
          "data": {
            "text/html": [
              "<span style=\"color:cyan\"> |-units_hidden: 256</span>"
            ],
            "text/plain": [
              "<IPython.core.display.HTML object>"
            ]
          },
          "metadata": {
            "tags": []
          }
        },
        {
          "output_type": "display_data",
          "data": {
            "text/html": [
              "<span style=\"color:blue\"> |-units_input: 608</span>"
            ],
            "text/plain": [
              "<IPython.core.display.HTML object>"
            ]
          },
          "metadata": {
            "tags": []
          }
        },
        {
          "output_type": "stream",
          "text": [
            "Epoch 1/20\n",
            "188/188 [==============================] - 1s 8ms/step - loss: 0.5366 - accuracy: 0.8092 - val_loss: 0.4203 - val_accuracy: 0.8470\n",
            "Epoch 2/20\n",
            "188/188 [==============================] - 1s 7ms/step - loss: 0.3972 - accuracy: 0.8564 - val_loss: 0.3902 - val_accuracy: 0.8573\n",
            "Epoch 3/20\n",
            "188/188 [==============================] - 1s 7ms/step - loss: 0.3593 - accuracy: 0.8692 - val_loss: 0.3583 - val_accuracy: 0.8701\n",
            "Epoch 4/20\n",
            "188/188 [==============================] - 1s 7ms/step - loss: 0.3280 - accuracy: 0.8807 - val_loss: 0.3493 - val_accuracy: 0.8736\n",
            "Epoch 5/20\n",
            "188/188 [==============================] - 1s 7ms/step - loss: 0.3068 - accuracy: 0.8861 - val_loss: 0.3395 - val_accuracy: 0.8776\n",
            "Epoch 6/20\n",
            "188/188 [==============================] - 1s 7ms/step - loss: 0.2964 - accuracy: 0.8898 - val_loss: 0.3457 - val_accuracy: 0.8749\n",
            "Epoch 7/20\n",
            "188/188 [==============================] - 1s 7ms/step - loss: 0.2807 - accuracy: 0.8950 - val_loss: 0.3441 - val_accuracy: 0.8780\n",
            "Epoch 8/20\n",
            "188/188 [==============================] - 1s 7ms/step - loss: 0.2668 - accuracy: 0.8996 - val_loss: 0.3268 - val_accuracy: 0.8796\n",
            "Epoch 9/20\n",
            "188/188 [==============================] - 1s 7ms/step - loss: 0.2591 - accuracy: 0.9031 - val_loss: 0.3175 - val_accuracy: 0.8840\n",
            "Epoch 10/20\n",
            "188/188 [==============================] - 1s 7ms/step - loss: 0.2458 - accuracy: 0.9076 - val_loss: 0.3709 - val_accuracy: 0.8744\n",
            "Epoch 11/20\n",
            "188/188 [==============================] - 1s 7ms/step - loss: 0.2353 - accuracy: 0.9124 - val_loss: 0.3177 - val_accuracy: 0.8893\n",
            "Epoch 12/20\n",
            "188/188 [==============================] - 1s 7ms/step - loss: 0.2302 - accuracy: 0.9149 - val_loss: 0.3105 - val_accuracy: 0.8886\n",
            "Epoch 13/20\n",
            "188/188 [==============================] - 1s 7ms/step - loss: 0.2220 - accuracy: 0.9165 - val_loss: 0.3180 - val_accuracy: 0.8919\n",
            "Epoch 14/20\n",
            "188/188 [==============================] - 1s 7ms/step - loss: 0.2178 - accuracy: 0.9181 - val_loss: 0.3042 - val_accuracy: 0.8947\n",
            "Epoch 15/20\n",
            "188/188 [==============================] - 1s 7ms/step - loss: 0.2027 - accuracy: 0.9234 - val_loss: 0.3117 - val_accuracy: 0.8936\n",
            "Epoch 16/20\n",
            "188/188 [==============================] - 1s 7ms/step - loss: 0.1976 - accuracy: 0.9260 - val_loss: 0.3266 - val_accuracy: 0.8912\n",
            "Epoch 17/20\n",
            "188/188 [==============================] - 1s 7ms/step - loss: 0.1911 - accuracy: 0.9273 - val_loss: 0.3252 - val_accuracy: 0.8917\n",
            "Epoch 18/20\n",
            "188/188 [==============================] - 1s 7ms/step - loss: 0.1900 - accuracy: 0.9289 - val_loss: 0.3162 - val_accuracy: 0.8963\n",
            "Epoch 19/20\n",
            "188/188 [==============================] - 1s 7ms/step - loss: 0.1779 - accuracy: 0.9333 - val_loss: 0.3365 - val_accuracy: 0.8893\n",
            "Epoch 20/20\n",
            "188/188 [==============================] - 1s 7ms/step - loss: 0.1728 - accuracy: 0.9358 - val_loss: 0.3245 - val_accuracy: 0.8938\n"
          ],
          "name": "stdout"
        },
        {
          "output_type": "display_data",
          "data": {
            "text/html": [
              "<span style=\"color:#4527A0\"><h1 style=\"font-size:18px\">Trial complete</h1></span>"
            ],
            "text/plain": [
              "<IPython.core.display.HTML object>"
            ]
          },
          "metadata": {
            "tags": []
          }
        },
        {
          "output_type": "display_data",
          "data": {
            "text/html": [
              "<span style=\"color:#4527A0\"><h1 style=\"font-size:18px\">Trial summary</h1></span>"
            ],
            "text/plain": [
              "<IPython.core.display.HTML object>"
            ]
          },
          "metadata": {
            "tags": []
          }
        },
        {
          "output_type": "display_data",
          "data": {
            "text/html": [
              "<span style=\"color:cyan\"> |-Trial ID: 04e3670fd2b56528d579736da4546c66</span>"
            ],
            "text/plain": [
              "<IPython.core.display.HTML object>"
            ]
          },
          "metadata": {
            "tags": []
          }
        },
        {
          "output_type": "display_data",
          "data": {
            "text/html": [
              "<span style=\"color:cyan\"> |-Score: 0.8962500095367432</span>"
            ],
            "text/plain": [
              "<IPython.core.display.HTML object>"
            ]
          },
          "metadata": {
            "tags": []
          }
        },
        {
          "output_type": "display_data",
          "data": {
            "text/html": [
              "<span style=\"color:cyan\"> |-Best step: 0</span>"
            ],
            "text/plain": [
              "<IPython.core.display.HTML object>"
            ]
          },
          "metadata": {
            "tags": []
          }
        },
        {
          "output_type": "display_data",
          "data": {
            "text/html": [
              "<span style=\"color:#7E57C2\"><h2 style=\"font-size:16px\">Hyperparameters:</h2></span>"
            ],
            "text/plain": [
              "<IPython.core.display.HTML object>"
            ]
          },
          "metadata": {
            "tags": []
          }
        },
        {
          "output_type": "display_data",
          "data": {
            "text/html": [
              "<span style=\"color:cyan\"> |-activation: elu</span>"
            ],
            "text/plain": [
              "<IPython.core.display.HTML object>"
            ]
          },
          "metadata": {
            "tags": []
          }
        },
        {
          "output_type": "display_data",
          "data": {
            "text/html": [
              "<span style=\"color:blue\"> |-optimizer: adam</span>"
            ],
            "text/plain": [
              "<IPython.core.display.HTML object>"
            ]
          },
          "metadata": {
            "tags": []
          }
        },
        {
          "output_type": "display_data",
          "data": {
            "text/html": [
              "<span style=\"color:cyan\"> |-units_hidden: 128</span>"
            ],
            "text/plain": [
              "<IPython.core.display.HTML object>"
            ]
          },
          "metadata": {
            "tags": []
          }
        },
        {
          "output_type": "display_data",
          "data": {
            "text/html": [
              "<span style=\"color:blue\"> |-units_input: 832</span>"
            ],
            "text/plain": [
              "<IPython.core.display.HTML object>"
            ]
          },
          "metadata": {
            "tags": []
          }
        },
        {
          "output_type": "stream",
          "text": [
            "Epoch 1/20\n",
            "188/188 [==============================] - 1s 7ms/step - loss: 1.0759 - accuracy: 0.6749 - val_loss: 0.7606 - val_accuracy: 0.7538\n",
            "Epoch 2/20\n",
            "188/188 [==============================] - 1s 7ms/step - loss: 0.6991 - accuracy: 0.7733 - val_loss: 0.6408 - val_accuracy: 0.7854\n",
            "Epoch 3/20\n",
            "188/188 [==============================] - 1s 7ms/step - loss: 0.6140 - accuracy: 0.7977 - val_loss: 0.5854 - val_accuracy: 0.8023\n",
            "Epoch 4/20\n",
            "188/188 [==============================] - 1s 7ms/step - loss: 0.5673 - accuracy: 0.8105 - val_loss: 0.5532 - val_accuracy: 0.8099\n",
            "Epoch 5/20\n",
            "188/188 [==============================] - 1s 7ms/step - loss: 0.5373 - accuracy: 0.8190 - val_loss: 0.5276 - val_accuracy: 0.8161\n",
            "Epoch 6/20\n",
            "188/188 [==============================] - 1s 7ms/step - loss: 0.5161 - accuracy: 0.8245 - val_loss: 0.5087 - val_accuracy: 0.8213\n",
            "Epoch 7/20\n",
            "188/188 [==============================] - 1s 7ms/step - loss: 0.4996 - accuracy: 0.8289 - val_loss: 0.5016 - val_accuracy: 0.8206\n",
            "Epoch 8/20\n",
            "188/188 [==============================] - 1s 7ms/step - loss: 0.4869 - accuracy: 0.8335 - val_loss: 0.4851 - val_accuracy: 0.8286\n",
            "Epoch 9/20\n",
            "188/188 [==============================] - 1s 7ms/step - loss: 0.4765 - accuracy: 0.8352 - val_loss: 0.4777 - val_accuracy: 0.8310\n",
            "Epoch 10/20\n",
            "188/188 [==============================] - 1s 8ms/step - loss: 0.4674 - accuracy: 0.8386 - val_loss: 0.4690 - val_accuracy: 0.8343\n",
            "Epoch 11/20\n",
            "188/188 [==============================] - 1s 8ms/step - loss: 0.4599 - accuracy: 0.8411 - val_loss: 0.4653 - val_accuracy: 0.8339\n",
            "Epoch 12/20\n",
            "188/188 [==============================] - 1s 8ms/step - loss: 0.4533 - accuracy: 0.8428 - val_loss: 0.4576 - val_accuracy: 0.8390\n",
            "Epoch 13/20\n",
            "188/188 [==============================] - 1s 8ms/step - loss: 0.4472 - accuracy: 0.8443 - val_loss: 0.4529 - val_accuracy: 0.8384\n",
            "Epoch 14/20\n",
            "188/188 [==============================] - 2s 8ms/step - loss: 0.4422 - accuracy: 0.8457 - val_loss: 0.4469 - val_accuracy: 0.8404\n",
            "Epoch 15/20\n",
            "188/188 [==============================] - 1s 8ms/step - loss: 0.4374 - accuracy: 0.8478 - val_loss: 0.4439 - val_accuracy: 0.8419\n",
            "Epoch 16/20\n",
            "188/188 [==============================] - 1s 8ms/step - loss: 0.4329 - accuracy: 0.8490 - val_loss: 0.4400 - val_accuracy: 0.8438\n",
            "Epoch 17/20\n",
            "188/188 [==============================] - 1s 7ms/step - loss: 0.4290 - accuracy: 0.8510 - val_loss: 0.4424 - val_accuracy: 0.8411\n",
            "Epoch 18/20\n",
            "188/188 [==============================] - 1s 7ms/step - loss: 0.4254 - accuracy: 0.8510 - val_loss: 0.4324 - val_accuracy: 0.8445\n",
            "Epoch 19/20\n",
            "188/188 [==============================] - 1s 7ms/step - loss: 0.4220 - accuracy: 0.8536 - val_loss: 0.4325 - val_accuracy: 0.8452\n",
            "Epoch 20/20\n",
            "188/188 [==============================] - 1s 7ms/step - loss: 0.4188 - accuracy: 0.8544 - val_loss: 0.4319 - val_accuracy: 0.8458\n"
          ],
          "name": "stdout"
        },
        {
          "output_type": "display_data",
          "data": {
            "text/html": [
              "<span style=\"color:#4527A0\"><h1 style=\"font-size:18px\">Trial complete</h1></span>"
            ],
            "text/plain": [
              "<IPython.core.display.HTML object>"
            ]
          },
          "metadata": {
            "tags": []
          }
        },
        {
          "output_type": "display_data",
          "data": {
            "text/html": [
              "<span style=\"color:#4527A0\"><h1 style=\"font-size:18px\">Trial summary</h1></span>"
            ],
            "text/plain": [
              "<IPython.core.display.HTML object>"
            ]
          },
          "metadata": {
            "tags": []
          }
        },
        {
          "output_type": "display_data",
          "data": {
            "text/html": [
              "<span style=\"color:cyan\"> |-Trial ID: a6aab31375e0d7004e6f1c5aaaa3dbe0</span>"
            ],
            "text/plain": [
              "<IPython.core.display.HTML object>"
            ]
          },
          "metadata": {
            "tags": []
          }
        },
        {
          "output_type": "display_data",
          "data": {
            "text/html": [
              "<span style=\"color:cyan\"> |-Score: 0.8458333611488342</span>"
            ],
            "text/plain": [
              "<IPython.core.display.HTML object>"
            ]
          },
          "metadata": {
            "tags": []
          }
        },
        {
          "output_type": "display_data",
          "data": {
            "text/html": [
              "<span style=\"color:cyan\"> |-Best step: 0</span>"
            ],
            "text/plain": [
              "<IPython.core.display.HTML object>"
            ]
          },
          "metadata": {
            "tags": []
          }
        },
        {
          "output_type": "display_data",
          "data": {
            "text/html": [
              "<span style=\"color:#7E57C2\"><h2 style=\"font-size:16px\">Hyperparameters:</h2></span>"
            ],
            "text/plain": [
              "<IPython.core.display.HTML object>"
            ]
          },
          "metadata": {
            "tags": []
          }
        },
        {
          "output_type": "display_data",
          "data": {
            "text/html": [
              "<span style=\"color:cyan\"> |-activation: tanh</span>"
            ],
            "text/plain": [
              "<IPython.core.display.HTML object>"
            ]
          },
          "metadata": {
            "tags": []
          }
        },
        {
          "output_type": "display_data",
          "data": {
            "text/html": [
              "<span style=\"color:blue\"> |-optimizer: SGD</span>"
            ],
            "text/plain": [
              "<IPython.core.display.HTML object>"
            ]
          },
          "metadata": {
            "tags": []
          }
        },
        {
          "output_type": "display_data",
          "data": {
            "text/html": [
              "<span style=\"color:cyan\"> |-units_hidden: 352</span>"
            ],
            "text/plain": [
              "<IPython.core.display.HTML object>"
            ]
          },
          "metadata": {
            "tags": []
          }
        },
        {
          "output_type": "display_data",
          "data": {
            "text/html": [
              "<span style=\"color:blue\"> |-units_input: 736</span>"
            ],
            "text/plain": [
              "<IPython.core.display.HTML object>"
            ]
          },
          "metadata": {
            "tags": []
          }
        },
        {
          "output_type": "stream",
          "text": [
            "Epoch 1/20\n",
            "188/188 [==============================] - 2s 8ms/step - loss: 0.6241 - accuracy: 0.7946 - val_loss: 0.4417 - val_accuracy: 0.8422\n",
            "Epoch 2/20\n",
            "188/188 [==============================] - 1s 8ms/step - loss: 0.4071 - accuracy: 0.8538 - val_loss: 0.4196 - val_accuracy: 0.8485\n",
            "Epoch 3/20\n",
            "188/188 [==============================] - 1s 8ms/step - loss: 0.3649 - accuracy: 0.8671 - val_loss: 0.3719 - val_accuracy: 0.8675\n",
            "Epoch 4/20\n",
            "188/188 [==============================] - 2s 8ms/step - loss: 0.3311 - accuracy: 0.8787 - val_loss: 0.3625 - val_accuracy: 0.8703\n",
            "Epoch 5/20\n",
            "188/188 [==============================] - 1s 8ms/step - loss: 0.3217 - accuracy: 0.8826 - val_loss: 0.3748 - val_accuracy: 0.8647\n",
            "Epoch 6/20\n",
            "188/188 [==============================] - 1s 8ms/step - loss: 0.3036 - accuracy: 0.8879 - val_loss: 0.3415 - val_accuracy: 0.8747\n",
            "Epoch 7/20\n",
            "188/188 [==============================] - 1s 7ms/step - loss: 0.2823 - accuracy: 0.8950 - val_loss: 0.3193 - val_accuracy: 0.8849\n",
            "Epoch 8/20\n",
            "188/188 [==============================] - 1s 8ms/step - loss: 0.2750 - accuracy: 0.8992 - val_loss: 0.3489 - val_accuracy: 0.8741\n",
            "Epoch 9/20\n",
            "188/188 [==============================] - 1s 8ms/step - loss: 0.2672 - accuracy: 0.9004 - val_loss: 0.3250 - val_accuracy: 0.8857\n",
            "Epoch 10/20\n",
            "188/188 [==============================] - 1s 7ms/step - loss: 0.2565 - accuracy: 0.9044 - val_loss: 0.3452 - val_accuracy: 0.8811\n",
            "Epoch 11/20\n",
            "188/188 [==============================] - 1s 7ms/step - loss: 0.2515 - accuracy: 0.9061 - val_loss: 0.3439 - val_accuracy: 0.8772\n",
            "Epoch 12/20\n",
            "188/188 [==============================] - 1s 8ms/step - loss: 0.2346 - accuracy: 0.9136 - val_loss: 0.3240 - val_accuracy: 0.8896\n",
            "Epoch 13/20\n",
            "188/188 [==============================] - 1s 8ms/step - loss: 0.2247 - accuracy: 0.9161 - val_loss: 0.3242 - val_accuracy: 0.8867\n",
            "Epoch 14/20\n",
            "188/188 [==============================] - 1s 8ms/step - loss: 0.2200 - accuracy: 0.9182 - val_loss: 0.3076 - val_accuracy: 0.8920\n",
            "Epoch 15/20\n",
            "188/188 [==============================] - 1s 7ms/step - loss: 0.2149 - accuracy: 0.9199 - val_loss: 0.3375 - val_accuracy: 0.8825\n",
            "Epoch 16/20\n",
            "188/188 [==============================] - 1s 8ms/step - loss: 0.2093 - accuracy: 0.9206 - val_loss: 0.3421 - val_accuracy: 0.8849\n",
            "Epoch 17/20\n",
            "188/188 [==============================] - 1s 7ms/step - loss: 0.2006 - accuracy: 0.9257 - val_loss: 0.3296 - val_accuracy: 0.8900\n",
            "Epoch 18/20\n",
            "188/188 [==============================] - 1s 8ms/step - loss: 0.2038 - accuracy: 0.9234 - val_loss: 0.3178 - val_accuracy: 0.8949\n",
            "Epoch 19/20\n",
            "188/188 [==============================] - 1s 7ms/step - loss: 0.1903 - accuracy: 0.9280 - val_loss: 0.3388 - val_accuracy: 0.8886\n",
            "Epoch 20/20\n",
            "188/188 [==============================] - 1s 7ms/step - loss: 0.1962 - accuracy: 0.9268 - val_loss: 0.3491 - val_accuracy: 0.8817\n"
          ],
          "name": "stdout"
        },
        {
          "output_type": "display_data",
          "data": {
            "text/html": [
              "<span style=\"color:#4527A0\"><h1 style=\"font-size:18px\">Trial complete</h1></span>"
            ],
            "text/plain": [
              "<IPython.core.display.HTML object>"
            ]
          },
          "metadata": {
            "tags": []
          }
        },
        {
          "output_type": "display_data",
          "data": {
            "text/html": [
              "<span style=\"color:#4527A0\"><h1 style=\"font-size:18px\">Trial summary</h1></span>"
            ],
            "text/plain": [
              "<IPython.core.display.HTML object>"
            ]
          },
          "metadata": {
            "tags": []
          }
        },
        {
          "output_type": "display_data",
          "data": {
            "text/html": [
              "<span style=\"color:cyan\"> |-Trial ID: 9923162bde8cf370843d0a92f099fa36</span>"
            ],
            "text/plain": [
              "<IPython.core.display.HTML object>"
            ]
          },
          "metadata": {
            "tags": []
          }
        },
        {
          "output_type": "display_data",
          "data": {
            "text/html": [
              "<span style=\"color:cyan\"> |-Score: 0.8949166536331177</span>"
            ],
            "text/plain": [
              "<IPython.core.display.HTML object>"
            ]
          },
          "metadata": {
            "tags": []
          }
        },
        {
          "output_type": "display_data",
          "data": {
            "text/html": [
              "<span style=\"color:cyan\"> |-Best step: 0</span>"
            ],
            "text/plain": [
              "<IPython.core.display.HTML object>"
            ]
          },
          "metadata": {
            "tags": []
          }
        },
        {
          "output_type": "display_data",
          "data": {
            "text/html": [
              "<span style=\"color:#7E57C2\"><h2 style=\"font-size:16px\">Hyperparameters:</h2></span>"
            ],
            "text/plain": [
              "<IPython.core.display.HTML object>"
            ]
          },
          "metadata": {
            "tags": []
          }
        },
        {
          "output_type": "display_data",
          "data": {
            "text/html": [
              "<span style=\"color:cyan\"> |-activation: selu</span>"
            ],
            "text/plain": [
              "<IPython.core.display.HTML object>"
            ]
          },
          "metadata": {
            "tags": []
          }
        },
        {
          "output_type": "display_data",
          "data": {
            "text/html": [
              "<span style=\"color:blue\"> |-optimizer: adam</span>"
            ],
            "text/plain": [
              "<IPython.core.display.HTML object>"
            ]
          },
          "metadata": {
            "tags": []
          }
        },
        {
          "output_type": "display_data",
          "data": {
            "text/html": [
              "<span style=\"color:cyan\"> |-units_hidden: 160</span>"
            ],
            "text/plain": [
              "<IPython.core.display.HTML object>"
            ]
          },
          "metadata": {
            "tags": []
          }
        },
        {
          "output_type": "display_data",
          "data": {
            "text/html": [
              "<span style=\"color:blue\"> |-units_input: 992</span>"
            ],
            "text/plain": [
              "<IPython.core.display.HTML object>"
            ]
          },
          "metadata": {
            "tags": []
          }
        },
        {
          "output_type": "stream",
          "text": [
            "Epoch 1/20\n",
            "188/188 [==============================] - 2s 9ms/step - loss: 0.7911 - accuracy: 0.7299 - val_loss: 0.4542 - val_accuracy: 0.8338\n",
            "Epoch 2/20\n",
            "188/188 [==============================] - 2s 8ms/step - loss: 0.4725 - accuracy: 0.8235 - val_loss: 0.4152 - val_accuracy: 0.8442\n",
            "Epoch 3/20\n",
            "188/188 [==============================] - 2s 8ms/step - loss: 0.4021 - accuracy: 0.8490 - val_loss: 0.4390 - val_accuracy: 0.8361\n",
            "Epoch 4/20\n",
            "188/188 [==============================] - 2s 8ms/step - loss: 0.3653 - accuracy: 0.8629 - val_loss: 0.3786 - val_accuracy: 0.8572\n",
            "Epoch 5/20\n",
            "188/188 [==============================] - 2s 8ms/step - loss: 0.3362 - accuracy: 0.8731 - val_loss: 0.3307 - val_accuracy: 0.8802\n",
            "Epoch 6/20\n",
            "188/188 [==============================] - 2s 8ms/step - loss: 0.3157 - accuracy: 0.8804 - val_loss: 0.3539 - val_accuracy: 0.8695\n",
            "Epoch 7/20\n",
            "188/188 [==============================] - 2s 8ms/step - loss: 0.2947 - accuracy: 0.8888 - val_loss: 0.3310 - val_accuracy: 0.8777\n",
            "Epoch 8/20\n",
            "188/188 [==============================] - 2s 8ms/step - loss: 0.2803 - accuracy: 0.8948 - val_loss: 0.3311 - val_accuracy: 0.8750\n",
            "Epoch 9/20\n",
            "188/188 [==============================] - 2s 8ms/step - loss: 0.2666 - accuracy: 0.8988 - val_loss: 0.3579 - val_accuracy: 0.8680\n",
            "Epoch 10/20\n",
            "188/188 [==============================] - 2s 8ms/step - loss: 0.2559 - accuracy: 0.9025 - val_loss: 0.3142 - val_accuracy: 0.8869\n",
            "Epoch 11/20\n",
            "188/188 [==============================] - 2s 8ms/step - loss: 0.2446 - accuracy: 0.9084 - val_loss: 0.3259 - val_accuracy: 0.8775\n",
            "Epoch 12/20\n",
            "188/188 [==============================] - 2s 8ms/step - loss: 0.2352 - accuracy: 0.9107 - val_loss: 0.3262 - val_accuracy: 0.8839\n",
            "Epoch 13/20\n",
            "188/188 [==============================] - 2s 8ms/step - loss: 0.2278 - accuracy: 0.9129 - val_loss: 0.3108 - val_accuracy: 0.8903\n",
            "Epoch 14/20\n",
            "188/188 [==============================] - 2s 8ms/step - loss: 0.2163 - accuracy: 0.9182 - val_loss: 0.3375 - val_accuracy: 0.8767\n",
            "Epoch 15/20\n",
            "188/188 [==============================] - 2s 8ms/step - loss: 0.2082 - accuracy: 0.9210 - val_loss: 0.3263 - val_accuracy: 0.8855\n",
            "Epoch 16/20\n",
            "188/188 [==============================] - 2s 8ms/step - loss: 0.1996 - accuracy: 0.9242 - val_loss: 0.3392 - val_accuracy: 0.8815\n",
            "Epoch 17/20\n",
            "188/188 [==============================] - 1s 8ms/step - loss: 0.1910 - accuracy: 0.9277 - val_loss: 0.3305 - val_accuracy: 0.8859\n",
            "Epoch 18/20\n",
            "188/188 [==============================] - 2s 8ms/step - loss: 0.1820 - accuracy: 0.9304 - val_loss: 0.3057 - val_accuracy: 0.8943\n",
            "Epoch 19/20\n",
            "188/188 [==============================] - 2s 8ms/step - loss: 0.1774 - accuracy: 0.9339 - val_loss: 0.3205 - val_accuracy: 0.8888\n",
            "Epoch 20/20\n",
            "188/188 [==============================] - 1s 8ms/step - loss: 0.1706 - accuracy: 0.9368 - val_loss: 0.3144 - val_accuracy: 0.8920\n"
          ],
          "name": "stdout"
        },
        {
          "output_type": "display_data",
          "data": {
            "text/html": [
              "<span style=\"color:#4527A0\"><h1 style=\"font-size:18px\">Trial complete</h1></span>"
            ],
            "text/plain": [
              "<IPython.core.display.HTML object>"
            ]
          },
          "metadata": {
            "tags": []
          }
        },
        {
          "output_type": "display_data",
          "data": {
            "text/html": [
              "<span style=\"color:#4527A0\"><h1 style=\"font-size:18px\">Trial summary</h1></span>"
            ],
            "text/plain": [
              "<IPython.core.display.HTML object>"
            ]
          },
          "metadata": {
            "tags": []
          }
        },
        {
          "output_type": "display_data",
          "data": {
            "text/html": [
              "<span style=\"color:cyan\"> |-Trial ID: 16e7cfcb921aab2f055fc99b95d2d483</span>"
            ],
            "text/plain": [
              "<IPython.core.display.HTML object>"
            ]
          },
          "metadata": {
            "tags": []
          }
        },
        {
          "output_type": "display_data",
          "data": {
            "text/html": [
              "<span style=\"color:cyan\"> |-Score: 0.8943333625793457</span>"
            ],
            "text/plain": [
              "<IPython.core.display.HTML object>"
            ]
          },
          "metadata": {
            "tags": []
          }
        },
        {
          "output_type": "display_data",
          "data": {
            "text/html": [
              "<span style=\"color:cyan\"> |-Best step: 0</span>"
            ],
            "text/plain": [
              "<IPython.core.display.HTML object>"
            ]
          },
          "metadata": {
            "tags": []
          }
        },
        {
          "output_type": "display_data",
          "data": {
            "text/html": [
              "<span style=\"color:#7E57C2\"><h2 style=\"font-size:16px\">Hyperparameters:</h2></span>"
            ],
            "text/plain": [
              "<IPython.core.display.HTML object>"
            ]
          },
          "metadata": {
            "tags": []
          }
        },
        {
          "output_type": "display_data",
          "data": {
            "text/html": [
              "<span style=\"color:cyan\"> |-activation: tanh</span>"
            ],
            "text/plain": [
              "<IPython.core.display.HTML object>"
            ]
          },
          "metadata": {
            "tags": []
          }
        },
        {
          "output_type": "display_data",
          "data": {
            "text/html": [
              "<span style=\"color:blue\"> |-optimizer: rmsprop</span>"
            ],
            "text/plain": [
              "<IPython.core.display.HTML object>"
            ]
          },
          "metadata": {
            "tags": []
          }
        },
        {
          "output_type": "display_data",
          "data": {
            "text/html": [
              "<span style=\"color:cyan\"> |-units_hidden: 416</span>"
            ],
            "text/plain": [
              "<IPython.core.display.HTML object>"
            ]
          },
          "metadata": {
            "tags": []
          }
        },
        {
          "output_type": "display_data",
          "data": {
            "text/html": [
              "<span style=\"color:blue\"> |-units_input: 768</span>"
            ],
            "text/plain": [
              "<IPython.core.display.HTML object>"
            ]
          },
          "metadata": {
            "tags": []
          }
        },
        {
          "output_type": "stream",
          "text": [
            "Epoch 1/20\n",
            "188/188 [==============================] - 2s 9ms/step - loss: 0.8549 - accuracy: 0.6921 - val_loss: 0.5760 - val_accuracy: 0.7736\n",
            "Epoch 2/20\n",
            "188/188 [==============================] - 2s 8ms/step - loss: 0.4982 - accuracy: 0.8137 - val_loss: 0.4863 - val_accuracy: 0.8213\n",
            "Epoch 3/20\n",
            "188/188 [==============================] - 2s 9ms/step - loss: 0.4406 - accuracy: 0.8371 - val_loss: 0.4193 - val_accuracy: 0.8438\n",
            "Epoch 4/20\n",
            "188/188 [==============================] - 2s 8ms/step - loss: 0.4047 - accuracy: 0.8496 - val_loss: 0.3777 - val_accuracy: 0.8609\n",
            "Epoch 5/20\n",
            "188/188 [==============================] - 2s 8ms/step - loss: 0.3785 - accuracy: 0.8602 - val_loss: 0.3927 - val_accuracy: 0.8551\n",
            "Epoch 6/20\n",
            "188/188 [==============================] - 2s 8ms/step - loss: 0.3570 - accuracy: 0.8684 - val_loss: 0.3706 - val_accuracy: 0.8636\n",
            "Epoch 7/20\n",
            "188/188 [==============================] - 2s 9ms/step - loss: 0.3398 - accuracy: 0.8739 - val_loss: 0.3735 - val_accuracy: 0.8673\n",
            "Epoch 8/20\n",
            "188/188 [==============================] - 2s 9ms/step - loss: 0.3263 - accuracy: 0.8781 - val_loss: 0.3772 - val_accuracy: 0.8582\n",
            "Epoch 9/20\n",
            "188/188 [==============================] - 2s 9ms/step - loss: 0.3128 - accuracy: 0.8835 - val_loss: 0.3749 - val_accuracy: 0.8627\n",
            "Epoch 10/20\n",
            "188/188 [==============================] - 2s 9ms/step - loss: 0.3018 - accuracy: 0.8867 - val_loss: 0.3602 - val_accuracy: 0.8647\n",
            "Epoch 11/20\n",
            "188/188 [==============================] - 2s 9ms/step - loss: 0.2901 - accuracy: 0.8906 - val_loss: 0.3331 - val_accuracy: 0.8788\n",
            "Epoch 12/20\n",
            "188/188 [==============================] - 2s 9ms/step - loss: 0.2807 - accuracy: 0.8946 - val_loss: 0.3408 - val_accuracy: 0.8737\n",
            "Epoch 13/20\n",
            "188/188 [==============================] - 2s 9ms/step - loss: 0.2735 - accuracy: 0.8964 - val_loss: 0.3608 - val_accuracy: 0.8685\n",
            "Epoch 14/20\n",
            "188/188 [==============================] - 2s 9ms/step - loss: 0.2640 - accuracy: 0.9000 - val_loss: 0.3308 - val_accuracy: 0.8802\n",
            "Epoch 15/20\n",
            "188/188 [==============================] - 2s 9ms/step - loss: 0.2560 - accuracy: 0.9029 - val_loss: 0.3420 - val_accuracy: 0.8759\n",
            "Epoch 16/20\n",
            "188/188 [==============================] - 2s 9ms/step - loss: 0.2481 - accuracy: 0.9071 - val_loss: 0.3435 - val_accuracy: 0.8752\n",
            "Epoch 17/20\n",
            "188/188 [==============================] - 2s 9ms/step - loss: 0.2414 - accuracy: 0.9078 - val_loss: 0.3226 - val_accuracy: 0.8850\n",
            "Epoch 18/20\n",
            "188/188 [==============================] - 2s 9ms/step - loss: 0.2339 - accuracy: 0.9106 - val_loss: 0.3018 - val_accuracy: 0.8938\n",
            "Epoch 19/20\n",
            "188/188 [==============================] - 2s 9ms/step - loss: 0.2287 - accuracy: 0.9132 - val_loss: 0.3102 - val_accuracy: 0.8917\n",
            "Epoch 20/20\n",
            "188/188 [==============================] - 2s 9ms/step - loss: 0.2231 - accuracy: 0.9135 - val_loss: 0.3190 - val_accuracy: 0.8867\n"
          ],
          "name": "stdout"
        },
        {
          "output_type": "display_data",
          "data": {
            "text/html": [
              "<span style=\"color:#4527A0\"><h1 style=\"font-size:18px\">Trial complete</h1></span>"
            ],
            "text/plain": [
              "<IPython.core.display.HTML object>"
            ]
          },
          "metadata": {
            "tags": []
          }
        },
        {
          "output_type": "display_data",
          "data": {
            "text/html": [
              "<span style=\"color:#4527A0\"><h1 style=\"font-size:18px\">Trial summary</h1></span>"
            ],
            "text/plain": [
              "<IPython.core.display.HTML object>"
            ]
          },
          "metadata": {
            "tags": []
          }
        },
        {
          "output_type": "display_data",
          "data": {
            "text/html": [
              "<span style=\"color:cyan\"> |-Trial ID: c24683352e35614188d51ed860487c0b</span>"
            ],
            "text/plain": [
              "<IPython.core.display.HTML object>"
            ]
          },
          "metadata": {
            "tags": []
          }
        },
        {
          "output_type": "display_data",
          "data": {
            "text/html": [
              "<span style=\"color:cyan\"> |-Score: 0.893833339214325</span>"
            ],
            "text/plain": [
              "<IPython.core.display.HTML object>"
            ]
          },
          "metadata": {
            "tags": []
          }
        },
        {
          "output_type": "display_data",
          "data": {
            "text/html": [
              "<span style=\"color:cyan\"> |-Best step: 0</span>"
            ],
            "text/plain": [
              "<IPython.core.display.HTML object>"
            ]
          },
          "metadata": {
            "tags": []
          }
        },
        {
          "output_type": "display_data",
          "data": {
            "text/html": [
              "<span style=\"color:#7E57C2\"><h2 style=\"font-size:16px\">Hyperparameters:</h2></span>"
            ],
            "text/plain": [
              "<IPython.core.display.HTML object>"
            ]
          },
          "metadata": {
            "tags": []
          }
        },
        {
          "output_type": "display_data",
          "data": {
            "text/html": [
              "<span style=\"color:cyan\"> |-activation: sigmoid</span>"
            ],
            "text/plain": [
              "<IPython.core.display.HTML object>"
            ]
          },
          "metadata": {
            "tags": []
          }
        },
        {
          "output_type": "display_data",
          "data": {
            "text/html": [
              "<span style=\"color:blue\"> |-optimizer: rmsprop</span>"
            ],
            "text/plain": [
              "<IPython.core.display.HTML object>"
            ]
          },
          "metadata": {
            "tags": []
          }
        },
        {
          "output_type": "display_data",
          "data": {
            "text/html": [
              "<span style=\"color:cyan\"> |-units_hidden: 544</span>"
            ],
            "text/plain": [
              "<IPython.core.display.HTML object>"
            ]
          },
          "metadata": {
            "tags": []
          }
        },
        {
          "output_type": "display_data",
          "data": {
            "text/html": [
              "<span style=\"color:blue\"> |-units_input: 992</span>"
            ],
            "text/plain": [
              "<IPython.core.display.HTML object>"
            ]
          },
          "metadata": {
            "tags": []
          }
        },
        {
          "output_type": "stream",
          "text": [
            "Epoch 1/20\n",
            "188/188 [==============================] - 1s 8ms/step - loss: 0.6958 - accuracy: 0.7473 - val_loss: 0.5507 - val_accuracy: 0.7805\n",
            "Epoch 2/20\n",
            "188/188 [==============================] - 1s 7ms/step - loss: 0.4558 - accuracy: 0.8300 - val_loss: 0.4630 - val_accuracy: 0.8139\n",
            "Epoch 3/20\n",
            "188/188 [==============================] - 1s 7ms/step - loss: 0.3929 - accuracy: 0.8529 - val_loss: 0.3906 - val_accuracy: 0.8601\n",
            "Epoch 4/20\n",
            "188/188 [==============================] - 1s 7ms/step - loss: 0.3546 - accuracy: 0.8671 - val_loss: 0.3585 - val_accuracy: 0.8658\n",
            "Epoch 5/20\n",
            "188/188 [==============================] - 1s 7ms/step - loss: 0.3296 - accuracy: 0.8751 - val_loss: 0.3564 - val_accuracy: 0.8671\n",
            "Epoch 6/20\n",
            "188/188 [==============================] - 1s 7ms/step - loss: 0.3067 - accuracy: 0.8845 - val_loss: 0.3603 - val_accuracy: 0.8663\n",
            "Epoch 7/20\n",
            "188/188 [==============================] - 1s 7ms/step - loss: 0.2904 - accuracy: 0.8905 - val_loss: 0.3617 - val_accuracy: 0.8673\n",
            "Epoch 8/20\n",
            "188/188 [==============================] - 1s 7ms/step - loss: 0.2755 - accuracy: 0.8971 - val_loss: 0.3740 - val_accuracy: 0.8608\n",
            "Epoch 9/20\n",
            "188/188 [==============================] - 1s 7ms/step - loss: 0.2631 - accuracy: 0.8999 - val_loss: 0.3387 - val_accuracy: 0.8738\n",
            "Epoch 10/20\n",
            "188/188 [==============================] - 1s 7ms/step - loss: 0.2508 - accuracy: 0.9044 - val_loss: 0.3113 - val_accuracy: 0.8858\n",
            "Epoch 11/20\n",
            "188/188 [==============================] - 1s 7ms/step - loss: 0.2404 - accuracy: 0.9091 - val_loss: 0.3682 - val_accuracy: 0.8661\n",
            "Epoch 12/20\n",
            "188/188 [==============================] - 1s 7ms/step - loss: 0.2291 - accuracy: 0.9139 - val_loss: 0.3107 - val_accuracy: 0.8887\n",
            "Epoch 13/20\n",
            "188/188 [==============================] - 1s 7ms/step - loss: 0.2198 - accuracy: 0.9163 - val_loss: 0.3216 - val_accuracy: 0.8836\n",
            "Epoch 14/20\n",
            "188/188 [==============================] - 1s 7ms/step - loss: 0.2108 - accuracy: 0.9204 - val_loss: 0.2973 - val_accuracy: 0.8953\n",
            "Epoch 15/20\n",
            "188/188 [==============================] - 1s 7ms/step - loss: 0.2025 - accuracy: 0.9243 - val_loss: 0.3034 - val_accuracy: 0.8932\n",
            "Epoch 16/20\n",
            "188/188 [==============================] - 1s 7ms/step - loss: 0.1954 - accuracy: 0.9276 - val_loss: 0.3364 - val_accuracy: 0.8748\n",
            "Epoch 17/20\n",
            "188/188 [==============================] - 1s 7ms/step - loss: 0.1864 - accuracy: 0.9311 - val_loss: 0.3166 - val_accuracy: 0.8915\n",
            "Epoch 18/20\n",
            "188/188 [==============================] - 1s 7ms/step - loss: 0.1795 - accuracy: 0.9329 - val_loss: 0.3233 - val_accuracy: 0.8892\n",
            "Epoch 19/20\n",
            "188/188 [==============================] - 1s 7ms/step - loss: 0.1724 - accuracy: 0.9364 - val_loss: 0.4366 - val_accuracy: 0.8385\n",
            "Epoch 20/20\n",
            "188/188 [==============================] - 1s 7ms/step - loss: 0.1659 - accuracy: 0.9383 - val_loss: 0.3295 - val_accuracy: 0.8863\n"
          ],
          "name": "stdout"
        },
        {
          "output_type": "display_data",
          "data": {
            "text/html": [
              "<span style=\"color:#4527A0\"><h1 style=\"font-size:18px\">Trial complete</h1></span>"
            ],
            "text/plain": [
              "<IPython.core.display.HTML object>"
            ]
          },
          "metadata": {
            "tags": []
          }
        },
        {
          "output_type": "display_data",
          "data": {
            "text/html": [
              "<span style=\"color:#4527A0\"><h1 style=\"font-size:18px\">Trial summary</h1></span>"
            ],
            "text/plain": [
              "<IPython.core.display.HTML object>"
            ]
          },
          "metadata": {
            "tags": []
          }
        },
        {
          "output_type": "display_data",
          "data": {
            "text/html": [
              "<span style=\"color:cyan\"> |-Trial ID: e54bf6ff8ae2b1270aeb2c8834191864</span>"
            ],
            "text/plain": [
              "<IPython.core.display.HTML object>"
            ]
          },
          "metadata": {
            "tags": []
          }
        },
        {
          "output_type": "display_data",
          "data": {
            "text/html": [
              "<span style=\"color:cyan\"> |-Score: 0.8952500224113464</span>"
            ],
            "text/plain": [
              "<IPython.core.display.HTML object>"
            ]
          },
          "metadata": {
            "tags": []
          }
        },
        {
          "output_type": "display_data",
          "data": {
            "text/html": [
              "<span style=\"color:cyan\"> |-Best step: 0</span>"
            ],
            "text/plain": [
              "<IPython.core.display.HTML object>"
            ]
          },
          "metadata": {
            "tags": []
          }
        },
        {
          "output_type": "display_data",
          "data": {
            "text/html": [
              "<span style=\"color:#7E57C2\"><h2 style=\"font-size:16px\">Hyperparameters:</h2></span>"
            ],
            "text/plain": [
              "<IPython.core.display.HTML object>"
            ]
          },
          "metadata": {
            "tags": []
          }
        },
        {
          "output_type": "display_data",
          "data": {
            "text/html": [
              "<span style=\"color:cyan\"> |-activation: tanh</span>"
            ],
            "text/plain": [
              "<IPython.core.display.HTML object>"
            ]
          },
          "metadata": {
            "tags": []
          }
        },
        {
          "output_type": "display_data",
          "data": {
            "text/html": [
              "<span style=\"color:blue\"> |-optimizer: rmsprop</span>"
            ],
            "text/plain": [
              "<IPython.core.display.HTML object>"
            ]
          },
          "metadata": {
            "tags": []
          }
        },
        {
          "output_type": "display_data",
          "data": {
            "text/html": [
              "<span style=\"color:cyan\"> |-units_hidden: 288</span>"
            ],
            "text/plain": [
              "<IPython.core.display.HTML object>"
            ]
          },
          "metadata": {
            "tags": []
          }
        },
        {
          "output_type": "display_data",
          "data": {
            "text/html": [
              "<span style=\"color:blue\"> |-units_input: 512</span>"
            ],
            "text/plain": [
              "<IPython.core.display.HTML object>"
            ]
          },
          "metadata": {
            "tags": []
          }
        },
        {
          "output_type": "stream",
          "text": [
            "Epoch 1/20\n",
            "188/188 [==============================] - 2s 9ms/step - loss: 0.7604 - accuracy: 0.7327 - val_loss: 0.4880 - val_accuracy: 0.8226\n",
            "Epoch 2/20\n",
            "188/188 [==============================] - 1s 8ms/step - loss: 0.4468 - accuracy: 0.8394 - val_loss: 0.4194 - val_accuracy: 0.8471\n",
            "Epoch 3/20\n",
            "188/188 [==============================] - 2s 8ms/step - loss: 0.4037 - accuracy: 0.8536 - val_loss: 0.3984 - val_accuracy: 0.8537\n",
            "Epoch 4/20\n",
            "188/188 [==============================] - 1s 8ms/step - loss: 0.3821 - accuracy: 0.8627 - val_loss: 0.3786 - val_accuracy: 0.8608\n",
            "Epoch 5/20\n",
            "188/188 [==============================] - 2s 8ms/step - loss: 0.3589 - accuracy: 0.8697 - val_loss: 0.3742 - val_accuracy: 0.8615\n",
            "Epoch 6/20\n",
            "188/188 [==============================] - 2s 8ms/step - loss: 0.3400 - accuracy: 0.8765 - val_loss: 0.3512 - val_accuracy: 0.8719\n",
            "Epoch 7/20\n",
            "188/188 [==============================] - 2s 8ms/step - loss: 0.3288 - accuracy: 0.8793 - val_loss: 0.3889 - val_accuracy: 0.8515\n",
            "Epoch 8/20\n",
            "188/188 [==============================] - 2s 8ms/step - loss: 0.3164 - accuracy: 0.8841 - val_loss: 0.3459 - val_accuracy: 0.8761\n",
            "Epoch 9/20\n",
            "188/188 [==============================] - 2s 8ms/step - loss: 0.3031 - accuracy: 0.8887 - val_loss: 0.3258 - val_accuracy: 0.8821\n",
            "Epoch 10/20\n",
            "188/188 [==============================] - 1s 8ms/step - loss: 0.2913 - accuracy: 0.8934 - val_loss: 0.3391 - val_accuracy: 0.8758\n",
            "Epoch 11/20\n",
            "188/188 [==============================] - 2s 8ms/step - loss: 0.2880 - accuracy: 0.8936 - val_loss: 0.3319 - val_accuracy: 0.8810\n",
            "Epoch 12/20\n",
            "188/188 [==============================] - 2s 8ms/step - loss: 0.2737 - accuracy: 0.8982 - val_loss: 0.3143 - val_accuracy: 0.8844\n",
            "Epoch 13/20\n",
            "188/188 [==============================] - 2s 8ms/step - loss: 0.2685 - accuracy: 0.9007 - val_loss: 0.3083 - val_accuracy: 0.8867\n",
            "Epoch 14/20\n",
            "188/188 [==============================] - 2s 8ms/step - loss: 0.2555 - accuracy: 0.9053 - val_loss: 0.3059 - val_accuracy: 0.8885\n",
            "Epoch 15/20\n",
            "188/188 [==============================] - 1s 8ms/step - loss: 0.2481 - accuracy: 0.9065 - val_loss: 0.3323 - val_accuracy: 0.8808\n",
            "Epoch 16/20\n",
            "188/188 [==============================] - 2s 8ms/step - loss: 0.2400 - accuracy: 0.9107 - val_loss: 0.3190 - val_accuracy: 0.8836\n",
            "Epoch 17/20\n",
            "188/188 [==============================] - 1s 8ms/step - loss: 0.2371 - accuracy: 0.9115 - val_loss: 0.3216 - val_accuracy: 0.8843\n",
            "Epoch 18/20\n",
            "188/188 [==============================] - 1s 8ms/step - loss: 0.2271 - accuracy: 0.9154 - val_loss: 0.3138 - val_accuracy: 0.8858\n",
            "Epoch 19/20\n",
            "188/188 [==============================] - 1s 8ms/step - loss: 0.2188 - accuracy: 0.9184 - val_loss: 0.3099 - val_accuracy: 0.8884\n",
            "Epoch 20/20\n",
            "188/188 [==============================] - 2s 8ms/step - loss: 0.2156 - accuracy: 0.9187 - val_loss: 0.3036 - val_accuracy: 0.8915\n"
          ],
          "name": "stdout"
        },
        {
          "output_type": "display_data",
          "data": {
            "text/html": [
              "<span style=\"color:#4527A0\"><h1 style=\"font-size:18px\">Trial complete</h1></span>"
            ],
            "text/plain": [
              "<IPython.core.display.HTML object>"
            ]
          },
          "metadata": {
            "tags": []
          }
        },
        {
          "output_type": "display_data",
          "data": {
            "text/html": [
              "<span style=\"color:#4527A0\"><h1 style=\"font-size:18px\">Trial summary</h1></span>"
            ],
            "text/plain": [
              "<IPython.core.display.HTML object>"
            ]
          },
          "metadata": {
            "tags": []
          }
        },
        {
          "output_type": "display_data",
          "data": {
            "text/html": [
              "<span style=\"color:cyan\"> |-Trial ID: e47811fea381c087a022c0b18bf4a3d4</span>"
            ],
            "text/plain": [
              "<IPython.core.display.HTML object>"
            ]
          },
          "metadata": {
            "tags": []
          }
        },
        {
          "output_type": "display_data",
          "data": {
            "text/html": [
              "<span style=\"color:cyan\"> |-Score: 0.8914999961853027</span>"
            ],
            "text/plain": [
              "<IPython.core.display.HTML object>"
            ]
          },
          "metadata": {
            "tags": []
          }
        },
        {
          "output_type": "display_data",
          "data": {
            "text/html": [
              "<span style=\"color:cyan\"> |-Best step: 0</span>"
            ],
            "text/plain": [
              "<IPython.core.display.HTML object>"
            ]
          },
          "metadata": {
            "tags": []
          }
        },
        {
          "output_type": "display_data",
          "data": {
            "text/html": [
              "<span style=\"color:#7E57C2\"><h2 style=\"font-size:16px\">Hyperparameters:</h2></span>"
            ],
            "text/plain": [
              "<IPython.core.display.HTML object>"
            ]
          },
          "metadata": {
            "tags": []
          }
        },
        {
          "output_type": "display_data",
          "data": {
            "text/html": [
              "<span style=\"color:cyan\"> |-activation: sigmoid</span>"
            ],
            "text/plain": [
              "<IPython.core.display.HTML object>"
            ]
          },
          "metadata": {
            "tags": []
          }
        },
        {
          "output_type": "display_data",
          "data": {
            "text/html": [
              "<span style=\"color:blue\"> |-optimizer: adam</span>"
            ],
            "text/plain": [
              "<IPython.core.display.HTML object>"
            ]
          },
          "metadata": {
            "tags": []
          }
        },
        {
          "output_type": "display_data",
          "data": {
            "text/html": [
              "<span style=\"color:cyan\"> |-units_hidden: 576</span>"
            ],
            "text/plain": [
              "<IPython.core.display.HTML object>"
            ]
          },
          "metadata": {
            "tags": []
          }
        },
        {
          "output_type": "display_data",
          "data": {
            "text/html": [
              "<span style=\"color:blue\"> |-units_input: 960</span>"
            ],
            "text/plain": [
              "<IPython.core.display.HTML object>"
            ]
          },
          "metadata": {
            "tags": []
          }
        },
        {
          "output_type": "stream",
          "text": [
            "Epoch 1/20\n",
            "188/188 [==============================] - 2s 9ms/step - loss: 0.9706 - accuracy: 0.7158 - val_loss: 0.4773 - val_accuracy: 0.8314\n",
            "Epoch 2/20\n",
            "188/188 [==============================] - 2s 9ms/step - loss: 0.5132 - accuracy: 0.8089 - val_loss: 0.4269 - val_accuracy: 0.8502\n",
            "Epoch 3/20\n",
            "188/188 [==============================] - 2s 8ms/step - loss: 0.4354 - accuracy: 0.8364 - val_loss: 0.3988 - val_accuracy: 0.8537\n",
            "Epoch 4/20\n",
            "188/188 [==============================] - 1s 8ms/step - loss: 0.3840 - accuracy: 0.8556 - val_loss: 0.4408 - val_accuracy: 0.8322\n",
            "Epoch 5/20\n",
            "188/188 [==============================] - 2s 8ms/step - loss: 0.3618 - accuracy: 0.8636 - val_loss: 0.3643 - val_accuracy: 0.8678\n",
            "Epoch 6/20\n",
            "188/188 [==============================] - 2s 8ms/step - loss: 0.3382 - accuracy: 0.8720 - val_loss: 0.3524 - val_accuracy: 0.8702\n",
            "Epoch 7/20\n",
            "188/188 [==============================] - 2s 8ms/step - loss: 0.3224 - accuracy: 0.8792 - val_loss: 0.4230 - val_accuracy: 0.8531\n",
            "Epoch 8/20\n",
            "188/188 [==============================] - 1s 8ms/step - loss: 0.3085 - accuracy: 0.8838 - val_loss: 0.4372 - val_accuracy: 0.8372\n",
            "Epoch 9/20\n",
            "188/188 [==============================] - 2s 8ms/step - loss: 0.2962 - accuracy: 0.8876 - val_loss: 0.3475 - val_accuracy: 0.8782\n",
            "Epoch 10/20\n",
            "188/188 [==============================] - 2s 8ms/step - loss: 0.2849 - accuracy: 0.8923 - val_loss: 0.4573 - val_accuracy: 0.8496\n",
            "Epoch 11/20\n",
            "188/188 [==============================] - 2s 8ms/step - loss: 0.2757 - accuracy: 0.8958 - val_loss: 0.3558 - val_accuracy: 0.8814\n",
            "Epoch 12/20\n",
            "188/188 [==============================] - 1s 8ms/step - loss: 0.2638 - accuracy: 0.9011 - val_loss: 0.3845 - val_accuracy: 0.8678\n",
            "Epoch 13/20\n",
            "188/188 [==============================] - 2s 8ms/step - loss: 0.2566 - accuracy: 0.9030 - val_loss: 0.3705 - val_accuracy: 0.8740\n",
            "Epoch 14/20\n",
            "188/188 [==============================] - 2s 8ms/step - loss: 0.2492 - accuracy: 0.9054 - val_loss: 0.3444 - val_accuracy: 0.8822\n",
            "Epoch 15/20\n",
            "188/188 [==============================] - 2s 9ms/step - loss: 0.2418 - accuracy: 0.9069 - val_loss: 0.3582 - val_accuracy: 0.8813\n",
            "Epoch 16/20\n",
            "188/188 [==============================] - 2s 8ms/step - loss: 0.2321 - accuracy: 0.9125 - val_loss: 0.4076 - val_accuracy: 0.8671\n",
            "Epoch 17/20\n",
            "188/188 [==============================] - 2s 8ms/step - loss: 0.2276 - accuracy: 0.9124 - val_loss: 0.3431 - val_accuracy: 0.8877\n",
            "Epoch 18/20\n",
            "188/188 [==============================] - 2s 8ms/step - loss: 0.2205 - accuracy: 0.9167 - val_loss: 0.3589 - val_accuracy: 0.8805\n",
            "Epoch 19/20\n",
            "188/188 [==============================] - 2s 8ms/step - loss: 0.2159 - accuracy: 0.9172 - val_loss: 0.4255 - val_accuracy: 0.8670\n",
            "Epoch 20/20\n",
            "188/188 [==============================] - 2s 9ms/step - loss: 0.2119 - accuracy: 0.9200 - val_loss: 0.3967 - val_accuracy: 0.8802\n"
          ],
          "name": "stdout"
        },
        {
          "output_type": "display_data",
          "data": {
            "text/html": [
              "<span style=\"color:#4527A0\"><h1 style=\"font-size:18px\">Trial complete</h1></span>"
            ],
            "text/plain": [
              "<IPython.core.display.HTML object>"
            ]
          },
          "metadata": {
            "tags": []
          }
        },
        {
          "output_type": "display_data",
          "data": {
            "text/html": [
              "<span style=\"color:#4527A0\"><h1 style=\"font-size:18px\">Trial summary</h1></span>"
            ],
            "text/plain": [
              "<IPython.core.display.HTML object>"
            ]
          },
          "metadata": {
            "tags": []
          }
        },
        {
          "output_type": "display_data",
          "data": {
            "text/html": [
              "<span style=\"color:cyan\"> |-Trial ID: 6bfb7b4f596ef059ac69397f032becab</span>"
            ],
            "text/plain": [
              "<IPython.core.display.HTML object>"
            ]
          },
          "metadata": {
            "tags": []
          }
        },
        {
          "output_type": "display_data",
          "data": {
            "text/html": [
              "<span style=\"color:cyan\"> |-Score: 0.887666642665863</span>"
            ],
            "text/plain": [
              "<IPython.core.display.HTML object>"
            ]
          },
          "metadata": {
            "tags": []
          }
        },
        {
          "output_type": "display_data",
          "data": {
            "text/html": [
              "<span style=\"color:cyan\"> |-Best step: 0</span>"
            ],
            "text/plain": [
              "<IPython.core.display.HTML object>"
            ]
          },
          "metadata": {
            "tags": []
          }
        },
        {
          "output_type": "display_data",
          "data": {
            "text/html": [
              "<span style=\"color:#7E57C2\"><h2 style=\"font-size:16px\">Hyperparameters:</h2></span>"
            ],
            "text/plain": [
              "<IPython.core.display.HTML object>"
            ]
          },
          "metadata": {
            "tags": []
          }
        },
        {
          "output_type": "display_data",
          "data": {
            "text/html": [
              "<span style=\"color:cyan\"> |-activation: selu</span>"
            ],
            "text/plain": [
              "<IPython.core.display.HTML object>"
            ]
          },
          "metadata": {
            "tags": []
          }
        },
        {
          "output_type": "display_data",
          "data": {
            "text/html": [
              "<span style=\"color:blue\"> |-optimizer: rmsprop</span>"
            ],
            "text/plain": [
              "<IPython.core.display.HTML object>"
            ]
          },
          "metadata": {
            "tags": []
          }
        },
        {
          "output_type": "display_data",
          "data": {
            "text/html": [
              "<span style=\"color:cyan\"> |-units_hidden: 192</span>"
            ],
            "text/plain": [
              "<IPython.core.display.HTML object>"
            ]
          },
          "metadata": {
            "tags": []
          }
        },
        {
          "output_type": "display_data",
          "data": {
            "text/html": [
              "<span style=\"color:blue\"> |-units_input: 928</span>"
            ],
            "text/plain": [
              "<IPython.core.display.HTML object>"
            ]
          },
          "metadata": {
            "tags": []
          }
        },
        {
          "output_type": "stream",
          "text": [
            "Epoch 1/20\n",
            "188/188 [==============================] - 2s 9ms/step - loss: 0.5268 - accuracy: 0.8093 - val_loss: 0.4135 - val_accuracy: 0.8512\n",
            "Epoch 2/20\n",
            "188/188 [==============================] - 2s 9ms/step - loss: 0.3801 - accuracy: 0.8618 - val_loss: 0.3958 - val_accuracy: 0.8562\n",
            "Epoch 3/20\n",
            "188/188 [==============================] - 2s 9ms/step - loss: 0.3462 - accuracy: 0.8734 - val_loss: 0.3552 - val_accuracy: 0.8704\n",
            "Epoch 4/20\n",
            "188/188 [==============================] - 2s 8ms/step - loss: 0.3172 - accuracy: 0.8828 - val_loss: 0.3290 - val_accuracy: 0.8783\n",
            "Epoch 5/20\n",
            "188/188 [==============================] - 1s 7ms/step - loss: 0.2999 - accuracy: 0.8892 - val_loss: 0.3398 - val_accuracy: 0.8749\n",
            "Epoch 6/20\n",
            "188/188 [==============================] - 1s 8ms/step - loss: 0.2810 - accuracy: 0.8955 - val_loss: 0.3219 - val_accuracy: 0.8823\n",
            "Epoch 7/20\n",
            "188/188 [==============================] - 1s 8ms/step - loss: 0.2730 - accuracy: 0.9000 - val_loss: 0.3218 - val_accuracy: 0.8825\n",
            "Epoch 8/20\n",
            "188/188 [==============================] - 1s 8ms/step - loss: 0.2565 - accuracy: 0.9056 - val_loss: 0.3243 - val_accuracy: 0.8839\n",
            "Epoch 9/20\n",
            "188/188 [==============================] - 1s 8ms/step - loss: 0.2456 - accuracy: 0.9094 - val_loss: 0.3073 - val_accuracy: 0.8885\n",
            "Epoch 10/20\n",
            "188/188 [==============================] - 1s 7ms/step - loss: 0.2360 - accuracy: 0.9113 - val_loss: 0.3166 - val_accuracy: 0.8850\n",
            "Epoch 11/20\n",
            "188/188 [==============================] - 1s 8ms/step - loss: 0.2323 - accuracy: 0.9132 - val_loss: 0.3122 - val_accuracy: 0.8825\n",
            "Epoch 12/20\n",
            "188/188 [==============================] - 1s 7ms/step - loss: 0.2171 - accuracy: 0.9191 - val_loss: 0.3077 - val_accuracy: 0.8878\n",
            "Epoch 13/20\n",
            "188/188 [==============================] - 1s 7ms/step - loss: 0.2123 - accuracy: 0.9201 - val_loss: 0.3040 - val_accuracy: 0.8883\n",
            "Epoch 14/20\n",
            "188/188 [==============================] - 1s 8ms/step - loss: 0.2024 - accuracy: 0.9243 - val_loss: 0.3046 - val_accuracy: 0.8889\n",
            "Epoch 15/20\n",
            "188/188 [==============================] - 1s 8ms/step - loss: 0.1939 - accuracy: 0.9272 - val_loss: 0.3057 - val_accuracy: 0.8925\n",
            "Epoch 16/20\n",
            "188/188 [==============================] - 1s 7ms/step - loss: 0.1907 - accuracy: 0.9293 - val_loss: 0.3087 - val_accuracy: 0.8910\n",
            "Epoch 17/20\n",
            "188/188 [==============================] - 1s 7ms/step - loss: 0.1900 - accuracy: 0.9296 - val_loss: 0.3058 - val_accuracy: 0.8894\n",
            "Epoch 18/20\n",
            "188/188 [==============================] - 1s 7ms/step - loss: 0.1778 - accuracy: 0.9340 - val_loss: 0.3158 - val_accuracy: 0.8881\n",
            "Epoch 19/20\n",
            "188/188 [==============================] - 1s 8ms/step - loss: 0.1707 - accuracy: 0.9365 - val_loss: 0.3077 - val_accuracy: 0.8922\n",
            "Epoch 20/20\n",
            "188/188 [==============================] - 1s 7ms/step - loss: 0.1661 - accuracy: 0.9387 - val_loss: 0.3244 - val_accuracy: 0.8903\n"
          ],
          "name": "stdout"
        },
        {
          "output_type": "display_data",
          "data": {
            "text/html": [
              "<span style=\"color:#4527A0\"><h1 style=\"font-size:18px\">Trial complete</h1></span>"
            ],
            "text/plain": [
              "<IPython.core.display.HTML object>"
            ]
          },
          "metadata": {
            "tags": []
          }
        },
        {
          "output_type": "display_data",
          "data": {
            "text/html": [
              "<span style=\"color:#4527A0\"><h1 style=\"font-size:18px\">Trial summary</h1></span>"
            ],
            "text/plain": [
              "<IPython.core.display.HTML object>"
            ]
          },
          "metadata": {
            "tags": []
          }
        },
        {
          "output_type": "display_data",
          "data": {
            "text/html": [
              "<span style=\"color:cyan\"> |-Trial ID: 02b8d794d3efe32bdb3ff525e4ab1600</span>"
            ],
            "text/plain": [
              "<IPython.core.display.HTML object>"
            ]
          },
          "metadata": {
            "tags": []
          }
        },
        {
          "output_type": "display_data",
          "data": {
            "text/html": [
              "<span style=\"color:cyan\"> |-Score: 0.8924999833106995</span>"
            ],
            "text/plain": [
              "<IPython.core.display.HTML object>"
            ]
          },
          "metadata": {
            "tags": []
          }
        },
        {
          "output_type": "display_data",
          "data": {
            "text/html": [
              "<span style=\"color:cyan\"> |-Best step: 0</span>"
            ],
            "text/plain": [
              "<IPython.core.display.HTML object>"
            ]
          },
          "metadata": {
            "tags": []
          }
        },
        {
          "output_type": "display_data",
          "data": {
            "text/html": [
              "<span style=\"color:#7E57C2\"><h2 style=\"font-size:16px\">Hyperparameters:</h2></span>"
            ],
            "text/plain": [
              "<IPython.core.display.HTML object>"
            ]
          },
          "metadata": {
            "tags": []
          }
        },
        {
          "output_type": "display_data",
          "data": {
            "text/html": [
              "<span style=\"color:cyan\"> |-activation: tanh</span>"
            ],
            "text/plain": [
              "<IPython.core.display.HTML object>"
            ]
          },
          "metadata": {
            "tags": []
          }
        },
        {
          "output_type": "display_data",
          "data": {
            "text/html": [
              "<span style=\"color:blue\"> |-optimizer: adam</span>"
            ],
            "text/plain": [
              "<IPython.core.display.HTML object>"
            ]
          },
          "metadata": {
            "tags": []
          }
        },
        {
          "output_type": "display_data",
          "data": {
            "text/html": [
              "<span style=\"color:cyan\"> |-units_hidden: 224</span>"
            ],
            "text/plain": [
              "<IPython.core.display.HTML object>"
            ]
          },
          "metadata": {
            "tags": []
          }
        },
        {
          "output_type": "display_data",
          "data": {
            "text/html": [
              "<span style=\"color:blue\"> |-units_input: 960</span>"
            ],
            "text/plain": [
              "<IPython.core.display.HTML object>"
            ]
          },
          "metadata": {
            "tags": []
          }
        },
        {
          "output_type": "stream",
          "text": [
            "Epoch 1/20\n",
            "188/188 [==============================] - 2s 8ms/step - loss: 0.5787 - accuracy: 0.7993 - val_loss: 0.4532 - val_accuracy: 0.8340\n",
            "Epoch 2/20\n",
            "188/188 [==============================] - 1s 8ms/step - loss: 0.4017 - accuracy: 0.8555 - val_loss: 0.3891 - val_accuracy: 0.8576\n",
            "Epoch 3/20\n",
            "188/188 [==============================] - 1s 7ms/step - loss: 0.3683 - accuracy: 0.8667 - val_loss: 0.4110 - val_accuracy: 0.8549\n",
            "Epoch 4/20\n",
            "188/188 [==============================] - 1s 7ms/step - loss: 0.3430 - accuracy: 0.8745 - val_loss: 0.3578 - val_accuracy: 0.8691\n",
            "Epoch 5/20\n",
            "188/188 [==============================] - 1s 7ms/step - loss: 0.3148 - accuracy: 0.8827 - val_loss: 0.3460 - val_accuracy: 0.8785\n",
            "Epoch 6/20\n",
            "188/188 [==============================] - 1s 7ms/step - loss: 0.2962 - accuracy: 0.8902 - val_loss: 0.3272 - val_accuracy: 0.8811\n",
            "Epoch 7/20\n",
            "188/188 [==============================] - 1s 7ms/step - loss: 0.2831 - accuracy: 0.8951 - val_loss: 0.3401 - val_accuracy: 0.8782\n",
            "Epoch 8/20\n",
            "188/188 [==============================] - 1s 7ms/step - loss: 0.2740 - accuracy: 0.8976 - val_loss: 0.3568 - val_accuracy: 0.8712\n",
            "Epoch 9/20\n",
            "188/188 [==============================] - 1s 7ms/step - loss: 0.2676 - accuracy: 0.9003 - val_loss: 0.3209 - val_accuracy: 0.8851\n",
            "Epoch 10/20\n",
            "188/188 [==============================] - 1s 7ms/step - loss: 0.2533 - accuracy: 0.9048 - val_loss: 0.3208 - val_accuracy: 0.8870\n",
            "Epoch 11/20\n",
            "188/188 [==============================] - 1s 7ms/step - loss: 0.2386 - accuracy: 0.9110 - val_loss: 0.3142 - val_accuracy: 0.8905\n",
            "Epoch 12/20\n",
            "188/188 [==============================] - 1s 7ms/step - loss: 0.2312 - accuracy: 0.9123 - val_loss: 0.3244 - val_accuracy: 0.8823\n",
            "Epoch 13/20\n",
            "188/188 [==============================] - 1s 7ms/step - loss: 0.2255 - accuracy: 0.9161 - val_loss: 0.3264 - val_accuracy: 0.8814\n",
            "Epoch 14/20\n",
            "188/188 [==============================] - 1s 7ms/step - loss: 0.2141 - accuracy: 0.9181 - val_loss: 0.3247 - val_accuracy: 0.8913\n",
            "Epoch 15/20\n",
            "188/188 [==============================] - 1s 7ms/step - loss: 0.2024 - accuracy: 0.9236 - val_loss: 0.3403 - val_accuracy: 0.8877\n",
            "Epoch 16/20\n",
            "188/188 [==============================] - 1s 7ms/step - loss: 0.1949 - accuracy: 0.9264 - val_loss: 0.3317 - val_accuracy: 0.8892\n",
            "Epoch 17/20\n",
            "188/188 [==============================] - 1s 7ms/step - loss: 0.1931 - accuracy: 0.9266 - val_loss: 0.3301 - val_accuracy: 0.8890\n",
            "Epoch 18/20\n",
            "188/188 [==============================] - 1s 8ms/step - loss: 0.1871 - accuracy: 0.9291 - val_loss: 0.3119 - val_accuracy: 0.8941\n",
            "Epoch 19/20\n",
            "188/188 [==============================] - 1s 7ms/step - loss: 0.1768 - accuracy: 0.9325 - val_loss: 0.3280 - val_accuracy: 0.8965\n",
            "Epoch 20/20\n",
            "188/188 [==============================] - 1s 7ms/step - loss: 0.1679 - accuracy: 0.9360 - val_loss: 0.3417 - val_accuracy: 0.8893\n"
          ],
          "name": "stdout"
        },
        {
          "output_type": "display_data",
          "data": {
            "text/html": [
              "<span style=\"color:#4527A0\"><h1 style=\"font-size:18px\">Trial complete</h1></span>"
            ],
            "text/plain": [
              "<IPython.core.display.HTML object>"
            ]
          },
          "metadata": {
            "tags": []
          }
        },
        {
          "output_type": "display_data",
          "data": {
            "text/html": [
              "<span style=\"color:#4527A0\"><h1 style=\"font-size:18px\">Trial summary</h1></span>"
            ],
            "text/plain": [
              "<IPython.core.display.HTML object>"
            ]
          },
          "metadata": {
            "tags": []
          }
        },
        {
          "output_type": "display_data",
          "data": {
            "text/html": [
              "<span style=\"color:cyan\"> |-Trial ID: b275e2566df370521c9ad898b93a1942</span>"
            ],
            "text/plain": [
              "<IPython.core.display.HTML object>"
            ]
          },
          "metadata": {
            "tags": []
          }
        },
        {
          "output_type": "display_data",
          "data": {
            "text/html": [
              "<span style=\"color:cyan\"> |-Score: 0.8964999914169312</span>"
            ],
            "text/plain": [
              "<IPython.core.display.HTML object>"
            ]
          },
          "metadata": {
            "tags": []
          }
        },
        {
          "output_type": "display_data",
          "data": {
            "text/html": [
              "<span style=\"color:cyan\"> |-Best step: 0</span>"
            ],
            "text/plain": [
              "<IPython.core.display.HTML object>"
            ]
          },
          "metadata": {
            "tags": []
          }
        },
        {
          "output_type": "display_data",
          "data": {
            "text/html": [
              "<span style=\"color:#7E57C2\"><h2 style=\"font-size:16px\">Hyperparameters:</h2></span>"
            ],
            "text/plain": [
              "<IPython.core.display.HTML object>"
            ]
          },
          "metadata": {
            "tags": []
          }
        },
        {
          "output_type": "display_data",
          "data": {
            "text/html": [
              "<span style=\"color:cyan\"> |-activation: elu</span>"
            ],
            "text/plain": [
              "<IPython.core.display.HTML object>"
            ]
          },
          "metadata": {
            "tags": []
          }
        },
        {
          "output_type": "display_data",
          "data": {
            "text/html": [
              "<span style=\"color:blue\"> |-optimizer: adam</span>"
            ],
            "text/plain": [
              "<IPython.core.display.HTML object>"
            ]
          },
          "metadata": {
            "tags": []
          }
        },
        {
          "output_type": "display_data",
          "data": {
            "text/html": [
              "<span style=\"color:cyan\"> |-units_hidden: 384</span>"
            ],
            "text/plain": [
              "<IPython.core.display.HTML object>"
            ]
          },
          "metadata": {
            "tags": []
          }
        },
        {
          "output_type": "display_data",
          "data": {
            "text/html": [
              "<span style=\"color:blue\"> |-units_input: 832</span>"
            ],
            "text/plain": [
              "<IPython.core.display.HTML object>"
            ]
          },
          "metadata": {
            "tags": []
          }
        },
        {
          "output_type": "stream",
          "text": [
            "Epoch 1/20\n",
            "188/188 [==============================] - 1s 8ms/step - loss: 0.8660 - accuracy: 0.7210 - val_loss: 0.6201 - val_accuracy: 0.7926\n",
            "Epoch 2/20\n",
            "188/188 [==============================] - 1s 7ms/step - loss: 0.5790 - accuracy: 0.8065 - val_loss: 0.5523 - val_accuracy: 0.8099\n",
            "Epoch 3/20\n",
            "188/188 [==============================] - 1s 7ms/step - loss: 0.5219 - accuracy: 0.8215 - val_loss: 0.5091 - val_accuracy: 0.8216\n",
            "Epoch 4/20\n",
            "188/188 [==============================] - 1s 7ms/step - loss: 0.4934 - accuracy: 0.8304 - val_loss: 0.4992 - val_accuracy: 0.8201\n",
            "Epoch 5/20\n",
            "188/188 [==============================] - 1s 7ms/step - loss: 0.4739 - accuracy: 0.8375 - val_loss: 0.4758 - val_accuracy: 0.8313\n",
            "Epoch 6/20\n",
            "188/188 [==============================] - 1s 7ms/step - loss: 0.4607 - accuracy: 0.8403 - val_loss: 0.4613 - val_accuracy: 0.8361\n",
            "Epoch 7/20\n",
            "188/188 [==============================] - 1s 7ms/step - loss: 0.4499 - accuracy: 0.8440 - val_loss: 0.4622 - val_accuracy: 0.8351\n",
            "Epoch 8/20\n",
            "188/188 [==============================] - 1s 7ms/step - loss: 0.4406 - accuracy: 0.8464 - val_loss: 0.4753 - val_accuracy: 0.8283\n",
            "Epoch 9/20\n",
            "188/188 [==============================] - 1s 7ms/step - loss: 0.4334 - accuracy: 0.8493 - val_loss: 0.4484 - val_accuracy: 0.8403\n",
            "Epoch 10/20\n",
            "188/188 [==============================] - 1s 7ms/step - loss: 0.4263 - accuracy: 0.8511 - val_loss: 0.4388 - val_accuracy: 0.8459\n",
            "Epoch 11/20\n",
            "188/188 [==============================] - 1s 7ms/step - loss: 0.4212 - accuracy: 0.8526 - val_loss: 0.4327 - val_accuracy: 0.8461\n",
            "Epoch 12/20\n",
            "188/188 [==============================] - 1s 7ms/step - loss: 0.4157 - accuracy: 0.8564 - val_loss: 0.4414 - val_accuracy: 0.8420\n",
            "Epoch 13/20\n",
            "188/188 [==============================] - 1s 7ms/step - loss: 0.4121 - accuracy: 0.8558 - val_loss: 0.4263 - val_accuracy: 0.8465\n",
            "Epoch 14/20\n",
            "188/188 [==============================] - 1s 7ms/step - loss: 0.4069 - accuracy: 0.8579 - val_loss: 0.4283 - val_accuracy: 0.8468\n",
            "Epoch 15/20\n",
            "188/188 [==============================] - 1s 7ms/step - loss: 0.4047 - accuracy: 0.8582 - val_loss: 0.4288 - val_accuracy: 0.8461\n",
            "Epoch 16/20\n",
            "188/188 [==============================] - 1s 7ms/step - loss: 0.3994 - accuracy: 0.8605 - val_loss: 0.4241 - val_accuracy: 0.8481\n",
            "Epoch 17/20\n",
            "188/188 [==============================] - 1s 7ms/step - loss: 0.3956 - accuracy: 0.8621 - val_loss: 0.4090 - val_accuracy: 0.8540\n",
            "Epoch 18/20\n",
            "188/188 [==============================] - 1s 7ms/step - loss: 0.3925 - accuracy: 0.8629 - val_loss: 0.4233 - val_accuracy: 0.8497\n",
            "Epoch 19/20\n",
            "188/188 [==============================] - 1s 7ms/step - loss: 0.3899 - accuracy: 0.8640 - val_loss: 0.4102 - val_accuracy: 0.8514\n",
            "Epoch 20/20\n",
            "188/188 [==============================] - 1s 7ms/step - loss: 0.3880 - accuracy: 0.8640 - val_loss: 0.4154 - val_accuracy: 0.8511\n"
          ],
          "name": "stdout"
        },
        {
          "output_type": "display_data",
          "data": {
            "text/html": [
              "<span style=\"color:#4527A0\"><h1 style=\"font-size:18px\">Trial complete</h1></span>"
            ],
            "text/plain": [
              "<IPython.core.display.HTML object>"
            ]
          },
          "metadata": {
            "tags": []
          }
        },
        {
          "output_type": "display_data",
          "data": {
            "text/html": [
              "<span style=\"color:#4527A0\"><h1 style=\"font-size:18px\">Trial summary</h1></span>"
            ],
            "text/plain": [
              "<IPython.core.display.HTML object>"
            ]
          },
          "metadata": {
            "tags": []
          }
        },
        {
          "output_type": "display_data",
          "data": {
            "text/html": [
              "<span style=\"color:cyan\"> |-Trial ID: 6d8a363af5b96c5e359326ed5ac154e4</span>"
            ],
            "text/plain": [
              "<IPython.core.display.HTML object>"
            ]
          },
          "metadata": {
            "tags": []
          }
        },
        {
          "output_type": "display_data",
          "data": {
            "text/html": [
              "<span style=\"color:cyan\"> |-Score: 0.8539999723434448</span>"
            ],
            "text/plain": [
              "<IPython.core.display.HTML object>"
            ]
          },
          "metadata": {
            "tags": []
          }
        },
        {
          "output_type": "display_data",
          "data": {
            "text/html": [
              "<span style=\"color:cyan\"> |-Best step: 0</span>"
            ],
            "text/plain": [
              "<IPython.core.display.HTML object>"
            ]
          },
          "metadata": {
            "tags": []
          }
        },
        {
          "output_type": "display_data",
          "data": {
            "text/html": [
              "<span style=\"color:#7E57C2\"><h2 style=\"font-size:16px\">Hyperparameters:</h2></span>"
            ],
            "text/plain": [
              "<IPython.core.display.HTML object>"
            ]
          },
          "metadata": {
            "tags": []
          }
        },
        {
          "output_type": "display_data",
          "data": {
            "text/html": [
              "<span style=\"color:cyan\"> |-activation: selu</span>"
            ],
            "text/plain": [
              "<IPython.core.display.HTML object>"
            ]
          },
          "metadata": {
            "tags": []
          }
        },
        {
          "output_type": "display_data",
          "data": {
            "text/html": [
              "<span style=\"color:blue\"> |-optimizer: SGD</span>"
            ],
            "text/plain": [
              "<IPython.core.display.HTML object>"
            ]
          },
          "metadata": {
            "tags": []
          }
        },
        {
          "output_type": "display_data",
          "data": {
            "text/html": [
              "<span style=\"color:cyan\"> |-units_hidden: 512</span>"
            ],
            "text/plain": [
              "<IPython.core.display.HTML object>"
            ]
          },
          "metadata": {
            "tags": []
          }
        },
        {
          "output_type": "display_data",
          "data": {
            "text/html": [
              "<span style=\"color:blue\"> |-units_input: 544</span>"
            ],
            "text/plain": [
              "<IPython.core.display.HTML object>"
            ]
          },
          "metadata": {
            "tags": []
          }
        },
        {
          "output_type": "stream",
          "text": [
            "Epoch 1/20\n",
            "188/188 [==============================] - 1s 7ms/step - loss: 1.0971 - accuracy: 0.6639 - val_loss: 0.7698 - val_accuracy: 0.7558\n",
            "Epoch 2/20\n",
            "188/188 [==============================] - 1s 7ms/step - loss: 0.7026 - accuracy: 0.7767 - val_loss: 0.6473 - val_accuracy: 0.7918\n",
            "Epoch 3/20\n",
            "188/188 [==============================] - 1s 6ms/step - loss: 0.6149 - accuracy: 0.8018 - val_loss: 0.5865 - val_accuracy: 0.8050\n",
            "Epoch 4/20\n",
            "188/188 [==============================] - 1s 7ms/step - loss: 0.5675 - accuracy: 0.8137 - val_loss: 0.5533 - val_accuracy: 0.8131\n",
            "Epoch 5/20\n",
            "188/188 [==============================] - 1s 7ms/step - loss: 0.5366 - accuracy: 0.8217 - val_loss: 0.5285 - val_accuracy: 0.8188\n",
            "Epoch 6/20\n",
            "188/188 [==============================] - 1s 6ms/step - loss: 0.5148 - accuracy: 0.8263 - val_loss: 0.5110 - val_accuracy: 0.8223\n",
            "Epoch 7/20\n",
            "188/188 [==============================] - 1s 7ms/step - loss: 0.4978 - accuracy: 0.8308 - val_loss: 0.4964 - val_accuracy: 0.8271\n",
            "Epoch 8/20\n",
            "188/188 [==============================] - 1s 6ms/step - loss: 0.4850 - accuracy: 0.8344 - val_loss: 0.4857 - val_accuracy: 0.8272\n",
            "Epoch 9/20\n",
            "188/188 [==============================] - 1s 6ms/step - loss: 0.4743 - accuracy: 0.8373 - val_loss: 0.4842 - val_accuracy: 0.8256\n",
            "Epoch 10/20\n",
            "188/188 [==============================] - 1s 7ms/step - loss: 0.4650 - accuracy: 0.8406 - val_loss: 0.4701 - val_accuracy: 0.8323\n",
            "Epoch 11/20\n",
            "188/188 [==============================] - 1s 7ms/step - loss: 0.4572 - accuracy: 0.8428 - val_loss: 0.4613 - val_accuracy: 0.8357\n",
            "Epoch 12/20\n",
            "188/188 [==============================] - 1s 7ms/step - loss: 0.4505 - accuracy: 0.8444 - val_loss: 0.4568 - val_accuracy: 0.8370\n",
            "Epoch 13/20\n",
            "188/188 [==============================] - 1s 7ms/step - loss: 0.4443 - accuracy: 0.8468 - val_loss: 0.4514 - val_accuracy: 0.8399\n",
            "Epoch 14/20\n",
            "188/188 [==============================] - 1s 7ms/step - loss: 0.4389 - accuracy: 0.8476 - val_loss: 0.4469 - val_accuracy: 0.8397\n",
            "Epoch 15/20\n",
            "188/188 [==============================] - 1s 7ms/step - loss: 0.4342 - accuracy: 0.8496 - val_loss: 0.4415 - val_accuracy: 0.8424\n",
            "Epoch 16/20\n",
            "188/188 [==============================] - 1s 8ms/step - loss: 0.4294 - accuracy: 0.8502 - val_loss: 0.4387 - val_accuracy: 0.8444\n",
            "Epoch 17/20\n",
            "188/188 [==============================] - 1s 7ms/step - loss: 0.4256 - accuracy: 0.8515 - val_loss: 0.4366 - val_accuracy: 0.8454\n",
            "Epoch 18/20\n",
            "188/188 [==============================] - 1s 7ms/step - loss: 0.4217 - accuracy: 0.8523 - val_loss: 0.4324 - val_accuracy: 0.8447\n",
            "Epoch 19/20\n",
            "188/188 [==============================] - 1s 7ms/step - loss: 0.4181 - accuracy: 0.8538 - val_loss: 0.4357 - val_accuracy: 0.8434\n",
            "Epoch 20/20\n",
            "188/188 [==============================] - 1s 8ms/step - loss: 0.4147 - accuracy: 0.8544 - val_loss: 0.4260 - val_accuracy: 0.8478\n"
          ],
          "name": "stdout"
        },
        {
          "output_type": "display_data",
          "data": {
            "text/html": [
              "<span style=\"color:#4527A0\"><h1 style=\"font-size:18px\">Trial complete</h1></span>"
            ],
            "text/plain": [
              "<IPython.core.display.HTML object>"
            ]
          },
          "metadata": {
            "tags": []
          }
        },
        {
          "output_type": "display_data",
          "data": {
            "text/html": [
              "<span style=\"color:#4527A0\"><h1 style=\"font-size:18px\">Trial summary</h1></span>"
            ],
            "text/plain": [
              "<IPython.core.display.HTML object>"
            ]
          },
          "metadata": {
            "tags": []
          }
        },
        {
          "output_type": "display_data",
          "data": {
            "text/html": [
              "<span style=\"color:cyan\"> |-Trial ID: e9c3af2dd41f292f86de11a5708fad95</span>"
            ],
            "text/plain": [
              "<IPython.core.display.HTML object>"
            ]
          },
          "metadata": {
            "tags": []
          }
        },
        {
          "output_type": "display_data",
          "data": {
            "text/html": [
              "<span style=\"color:cyan\"> |-Score: 0.8478333353996277</span>"
            ],
            "text/plain": [
              "<IPython.core.display.HTML object>"
            ]
          },
          "metadata": {
            "tags": []
          }
        },
        {
          "output_type": "display_data",
          "data": {
            "text/html": [
              "<span style=\"color:cyan\"> |-Best step: 0</span>"
            ],
            "text/plain": [
              "<IPython.core.display.HTML object>"
            ]
          },
          "metadata": {
            "tags": []
          }
        },
        {
          "output_type": "display_data",
          "data": {
            "text/html": [
              "<span style=\"color:#7E57C2\"><h2 style=\"font-size:16px\">Hyperparameters:</h2></span>"
            ],
            "text/plain": [
              "<IPython.core.display.HTML object>"
            ]
          },
          "metadata": {
            "tags": []
          }
        },
        {
          "output_type": "display_data",
          "data": {
            "text/html": [
              "<span style=\"color:cyan\"> |-activation: tanh</span>"
            ],
            "text/plain": [
              "<IPython.core.display.HTML object>"
            ]
          },
          "metadata": {
            "tags": []
          }
        },
        {
          "output_type": "display_data",
          "data": {
            "text/html": [
              "<span style=\"color:blue\"> |-optimizer: SGD</span>"
            ],
            "text/plain": [
              "<IPython.core.display.HTML object>"
            ]
          },
          "metadata": {
            "tags": []
          }
        },
        {
          "output_type": "display_data",
          "data": {
            "text/html": [
              "<span style=\"color:cyan\"> |-units_hidden: 160</span>"
            ],
            "text/plain": [
              "<IPython.core.display.HTML object>"
            ]
          },
          "metadata": {
            "tags": []
          }
        },
        {
          "output_type": "display_data",
          "data": {
            "text/html": [
              "<span style=\"color:blue\"> |-units_input: 704</span>"
            ],
            "text/plain": [
              "<IPython.core.display.HTML object>"
            ]
          },
          "metadata": {
            "tags": []
          }
        },
        {
          "output_type": "stream",
          "text": [
            "Epoch 1/20\n",
            "188/188 [==============================] - 2s 8ms/step - loss: 1.3511 - accuracy: 0.6020 - val_loss: 0.9158 - val_accuracy: 0.7073\n",
            "Epoch 2/20\n",
            "188/188 [==============================] - 1s 7ms/step - loss: 0.8126 - accuracy: 0.7404 - val_loss: 0.7244 - val_accuracy: 0.7676\n",
            "Epoch 3/20\n",
            "188/188 [==============================] - 1s 7ms/step - loss: 0.6864 - accuracy: 0.7809 - val_loss: 0.6452 - val_accuracy: 0.7918\n",
            "Epoch 4/20\n",
            "188/188 [==============================] - 1s 7ms/step - loss: 0.6204 - accuracy: 0.8001 - val_loss: 0.5978 - val_accuracy: 0.8043\n",
            "Epoch 5/20\n",
            "188/188 [==============================] - 1s 7ms/step - loss: 0.5783 - accuracy: 0.8118 - val_loss: 0.5606 - val_accuracy: 0.8156\n",
            "Epoch 6/20\n",
            "188/188 [==============================] - 1s 7ms/step - loss: 0.5482 - accuracy: 0.8194 - val_loss: 0.5375 - val_accuracy: 0.8226\n",
            "Epoch 7/20\n",
            "188/188 [==============================] - 1s 7ms/step - loss: 0.5262 - accuracy: 0.8244 - val_loss: 0.5225 - val_accuracy: 0.8223\n",
            "Epoch 8/20\n",
            "188/188 [==============================] - 1s 7ms/step - loss: 0.5085 - accuracy: 0.8294 - val_loss: 0.5063 - val_accuracy: 0.8297\n",
            "Epoch 9/20\n",
            "188/188 [==============================] - 1s 7ms/step - loss: 0.4947 - accuracy: 0.8327 - val_loss: 0.4912 - val_accuracy: 0.8336\n",
            "Epoch 10/20\n",
            "188/188 [==============================] - 1s 7ms/step - loss: 0.4826 - accuracy: 0.8371 - val_loss: 0.4824 - val_accuracy: 0.8353\n",
            "Epoch 11/20\n",
            "188/188 [==============================] - 1s 7ms/step - loss: 0.4723 - accuracy: 0.8389 - val_loss: 0.4732 - val_accuracy: 0.8372\n",
            "Epoch 12/20\n",
            "188/188 [==============================] - 1s 7ms/step - loss: 0.4642 - accuracy: 0.8411 - val_loss: 0.4781 - val_accuracy: 0.8344\n",
            "Epoch 13/20\n",
            "188/188 [==============================] - 1s 7ms/step - loss: 0.4569 - accuracy: 0.8434 - val_loss: 0.4620 - val_accuracy: 0.8385\n",
            "Epoch 14/20\n",
            "188/188 [==============================] - 1s 7ms/step - loss: 0.4498 - accuracy: 0.8441 - val_loss: 0.4575 - val_accuracy: 0.8410\n",
            "Epoch 15/20\n",
            "188/188 [==============================] - 1s 7ms/step - loss: 0.4433 - accuracy: 0.8476 - val_loss: 0.4662 - val_accuracy: 0.8378\n",
            "Epoch 16/20\n",
            "188/188 [==============================] - 1s 7ms/step - loss: 0.4386 - accuracy: 0.8485 - val_loss: 0.4437 - val_accuracy: 0.8460\n",
            "Epoch 17/20\n",
            "188/188 [==============================] - 1s 7ms/step - loss: 0.4325 - accuracy: 0.8511 - val_loss: 0.4495 - val_accuracy: 0.8431\n",
            "Epoch 18/20\n",
            "188/188 [==============================] - 1s 7ms/step - loss: 0.4277 - accuracy: 0.8520 - val_loss: 0.4345 - val_accuracy: 0.8497\n",
            "Epoch 19/20\n",
            "188/188 [==============================] - 1s 7ms/step - loss: 0.4237 - accuracy: 0.8550 - val_loss: 0.4306 - val_accuracy: 0.8502\n",
            "Epoch 20/20\n",
            "188/188 [==============================] - 1s 6ms/step - loss: 0.4187 - accuracy: 0.8559 - val_loss: 0.4305 - val_accuracy: 0.8499\n"
          ],
          "name": "stdout"
        },
        {
          "output_type": "display_data",
          "data": {
            "text/html": [
              "<span style=\"color:#4527A0\"><h1 style=\"font-size:18px\">Trial complete</h1></span>"
            ],
            "text/plain": [
              "<IPython.core.display.HTML object>"
            ]
          },
          "metadata": {
            "tags": []
          }
        },
        {
          "output_type": "display_data",
          "data": {
            "text/html": [
              "<span style=\"color:#4527A0\"><h1 style=\"font-size:18px\">Trial summary</h1></span>"
            ],
            "text/plain": [
              "<IPython.core.display.HTML object>"
            ]
          },
          "metadata": {
            "tags": []
          }
        },
        {
          "output_type": "display_data",
          "data": {
            "text/html": [
              "<span style=\"color:cyan\"> |-Trial ID: 0ad43b4ef54b879c29a2d59896b8e7ec</span>"
            ],
            "text/plain": [
              "<IPython.core.display.HTML object>"
            ]
          },
          "metadata": {
            "tags": []
          }
        },
        {
          "output_type": "display_data",
          "data": {
            "text/html": [
              "<span style=\"color:cyan\"> |-Score: 0.8501666784286499</span>"
            ],
            "text/plain": [
              "<IPython.core.display.HTML object>"
            ]
          },
          "metadata": {
            "tags": []
          }
        },
        {
          "output_type": "display_data",
          "data": {
            "text/html": [
              "<span style=\"color:cyan\"> |-Best step: 0</span>"
            ],
            "text/plain": [
              "<IPython.core.display.HTML object>"
            ]
          },
          "metadata": {
            "tags": []
          }
        },
        {
          "output_type": "display_data",
          "data": {
            "text/html": [
              "<span style=\"color:#7E57C2\"><h2 style=\"font-size:16px\">Hyperparameters:</h2></span>"
            ],
            "text/plain": [
              "<IPython.core.display.HTML object>"
            ]
          },
          "metadata": {
            "tags": []
          }
        },
        {
          "output_type": "display_data",
          "data": {
            "text/html": [
              "<span style=\"color:cyan\"> |-activation: relu</span>"
            ],
            "text/plain": [
              "<IPython.core.display.HTML object>"
            ]
          },
          "metadata": {
            "tags": []
          }
        },
        {
          "output_type": "display_data",
          "data": {
            "text/html": [
              "<span style=\"color:blue\"> |-optimizer: SGD</span>"
            ],
            "text/plain": [
              "<IPython.core.display.HTML object>"
            ]
          },
          "metadata": {
            "tags": []
          }
        },
        {
          "output_type": "display_data",
          "data": {
            "text/html": [
              "<span style=\"color:cyan\"> |-units_hidden: 128</span>"
            ],
            "text/plain": [
              "<IPython.core.display.HTML object>"
            ]
          },
          "metadata": {
            "tags": []
          }
        },
        {
          "output_type": "display_data",
          "data": {
            "text/html": [
              "<span style=\"color:blue\"> |-units_input: 672</span>"
            ],
            "text/plain": [
              "<IPython.core.display.HTML object>"
            ]
          },
          "metadata": {
            "tags": []
          }
        },
        {
          "output_type": "stream",
          "text": [
            "Epoch 1/20\n",
            "188/188 [==============================] - 2s 8ms/step - loss: 1.0496 - accuracy: 0.6832 - val_loss: 0.7397 - val_accuracy: 0.7539\n",
            "Epoch 2/20\n",
            "188/188 [==============================] - 1s 8ms/step - loss: 0.6772 - accuracy: 0.7800 - val_loss: 0.6217 - val_accuracy: 0.7922\n",
            "Epoch 3/20\n",
            "188/188 [==============================] - 1s 8ms/step - loss: 0.5974 - accuracy: 0.8037 - val_loss: 0.5723 - val_accuracy: 0.8057\n",
            "Epoch 4/20\n",
            "188/188 [==============================] - 1s 8ms/step - loss: 0.5548 - accuracy: 0.8139 - val_loss: 0.5448 - val_accuracy: 0.8124\n",
            "Epoch 5/20\n",
            "188/188 [==============================] - 1s 8ms/step - loss: 0.5269 - accuracy: 0.8211 - val_loss: 0.5171 - val_accuracy: 0.8207\n",
            "Epoch 6/20\n",
            "188/188 [==============================] - 2s 8ms/step - loss: 0.5072 - accuracy: 0.8270 - val_loss: 0.5012 - val_accuracy: 0.8260\n",
            "Epoch 7/20\n",
            "188/188 [==============================] - 1s 8ms/step - loss: 0.4917 - accuracy: 0.8312 - val_loss: 0.4890 - val_accuracy: 0.8293\n",
            "Epoch 8/20\n",
            "188/188 [==============================] - 1s 8ms/step - loss: 0.4798 - accuracy: 0.8342 - val_loss: 0.4808 - val_accuracy: 0.8309\n",
            "Epoch 9/20\n",
            "188/188 [==============================] - 1s 8ms/step - loss: 0.4701 - accuracy: 0.8381 - val_loss: 0.4793 - val_accuracy: 0.8309\n",
            "Epoch 10/20\n",
            "188/188 [==============================] - 1s 8ms/step - loss: 0.4618 - accuracy: 0.8406 - val_loss: 0.4647 - val_accuracy: 0.8353\n",
            "Epoch 11/20\n",
            "188/188 [==============================] - 2s 8ms/step - loss: 0.4544 - accuracy: 0.8428 - val_loss: 0.4613 - val_accuracy: 0.8357\n",
            "Epoch 12/20\n",
            "188/188 [==============================] - 1s 8ms/step - loss: 0.4483 - accuracy: 0.8443 - val_loss: 0.4549 - val_accuracy: 0.8384\n",
            "Epoch 13/20\n",
            "188/188 [==============================] - 1s 8ms/step - loss: 0.4427 - accuracy: 0.8460 - val_loss: 0.4494 - val_accuracy: 0.8405\n",
            "Epoch 14/20\n",
            "188/188 [==============================] - 1s 8ms/step - loss: 0.4375 - accuracy: 0.8479 - val_loss: 0.4446 - val_accuracy: 0.8428\n",
            "Epoch 15/20\n",
            "188/188 [==============================] - 1s 8ms/step - loss: 0.4334 - accuracy: 0.8488 - val_loss: 0.4455 - val_accuracy: 0.8404\n",
            "Epoch 16/20\n",
            "188/188 [==============================] - 1s 8ms/step - loss: 0.4293 - accuracy: 0.8510 - val_loss: 0.4428 - val_accuracy: 0.8420\n",
            "Epoch 17/20\n",
            "188/188 [==============================] - 1s 7ms/step - loss: 0.4253 - accuracy: 0.8515 - val_loss: 0.4327 - val_accuracy: 0.8478\n",
            "Epoch 18/20\n",
            "188/188 [==============================] - 1s 8ms/step - loss: 0.4212 - accuracy: 0.8530 - val_loss: 0.4316 - val_accuracy: 0.8469\n",
            "Epoch 19/20\n",
            "188/188 [==============================] - 1s 7ms/step - loss: 0.4185 - accuracy: 0.8535 - val_loss: 0.4279 - val_accuracy: 0.8475\n",
            "Epoch 20/20\n",
            "188/188 [==============================] - 1s 8ms/step - loss: 0.4155 - accuracy: 0.8552 - val_loss: 0.4270 - val_accuracy: 0.8493\n"
          ],
          "name": "stdout"
        },
        {
          "output_type": "display_data",
          "data": {
            "text/html": [
              "<span style=\"color:#4527A0\"><h1 style=\"font-size:18px\">Trial complete</h1></span>"
            ],
            "text/plain": [
              "<IPython.core.display.HTML object>"
            ]
          },
          "metadata": {
            "tags": []
          }
        },
        {
          "output_type": "display_data",
          "data": {
            "text/html": [
              "<span style=\"color:#4527A0\"><h1 style=\"font-size:18px\">Trial summary</h1></span>"
            ],
            "text/plain": [
              "<IPython.core.display.HTML object>"
            ]
          },
          "metadata": {
            "tags": []
          }
        },
        {
          "output_type": "display_data",
          "data": {
            "text/html": [
              "<span style=\"color:cyan\"> |-Trial ID: 3b2c74c037f10a24f5b3df4716eeafa3</span>"
            ],
            "text/plain": [
              "<IPython.core.display.HTML object>"
            ]
          },
          "metadata": {
            "tags": []
          }
        },
        {
          "output_type": "display_data",
          "data": {
            "text/html": [
              "<span style=\"color:cyan\"> |-Score: 0.8492500185966492</span>"
            ],
            "text/plain": [
              "<IPython.core.display.HTML object>"
            ]
          },
          "metadata": {
            "tags": []
          }
        },
        {
          "output_type": "display_data",
          "data": {
            "text/html": [
              "<span style=\"color:cyan\"> |-Best step: 0</span>"
            ],
            "text/plain": [
              "<IPython.core.display.HTML object>"
            ]
          },
          "metadata": {
            "tags": []
          }
        },
        {
          "output_type": "display_data",
          "data": {
            "text/html": [
              "<span style=\"color:#7E57C2\"><h2 style=\"font-size:16px\">Hyperparameters:</h2></span>"
            ],
            "text/plain": [
              "<IPython.core.display.HTML object>"
            ]
          },
          "metadata": {
            "tags": []
          }
        },
        {
          "output_type": "display_data",
          "data": {
            "text/html": [
              "<span style=\"color:cyan\"> |-activation: tanh</span>"
            ],
            "text/plain": [
              "<IPython.core.display.HTML object>"
            ]
          },
          "metadata": {
            "tags": []
          }
        },
        {
          "output_type": "display_data",
          "data": {
            "text/html": [
              "<span style=\"color:blue\"> |-optimizer: SGD</span>"
            ],
            "text/plain": [
              "<IPython.core.display.HTML object>"
            ]
          },
          "metadata": {
            "tags": []
          }
        },
        {
          "output_type": "display_data",
          "data": {
            "text/html": [
              "<span style=\"color:cyan\"> |-units_hidden: 480</span>"
            ],
            "text/plain": [
              "<IPython.core.display.HTML object>"
            ]
          },
          "metadata": {
            "tags": []
          }
        },
        {
          "output_type": "display_data",
          "data": {
            "text/html": [
              "<span style=\"color:blue\"> |-units_input: 960</span>"
            ],
            "text/plain": [
              "<IPython.core.display.HTML object>"
            ]
          },
          "metadata": {
            "tags": []
          }
        },
        {
          "output_type": "stream",
          "text": [
            "Epoch 1/20\n",
            "188/188 [==============================] - 1s 8ms/step - loss: 0.5357 - accuracy: 0.8076 - val_loss: 0.4182 - val_accuracy: 0.8472\n",
            "Epoch 2/20\n",
            "188/188 [==============================] - 1s 7ms/step - loss: 0.3842 - accuracy: 0.8592 - val_loss: 0.3935 - val_accuracy: 0.8564\n",
            "Epoch 3/20\n",
            "188/188 [==============================] - 1s 7ms/step - loss: 0.3443 - accuracy: 0.8739 - val_loss: 0.3495 - val_accuracy: 0.8726\n",
            "Epoch 4/20\n",
            "188/188 [==============================] - 1s 7ms/step - loss: 0.3180 - accuracy: 0.8840 - val_loss: 0.3483 - val_accuracy: 0.8731\n",
            "Epoch 5/20\n",
            "188/188 [==============================] - 1s 7ms/step - loss: 0.3057 - accuracy: 0.8882 - val_loss: 0.3575 - val_accuracy: 0.8762\n",
            "Epoch 6/20\n",
            "188/188 [==============================] - 1s 7ms/step - loss: 0.2882 - accuracy: 0.8935 - val_loss: 0.3420 - val_accuracy: 0.8756\n",
            "Epoch 7/20\n",
            "188/188 [==============================] - 1s 7ms/step - loss: 0.2766 - accuracy: 0.8978 - val_loss: 0.3315 - val_accuracy: 0.8778\n",
            "Epoch 8/20\n",
            "188/188 [==============================] - 1s 7ms/step - loss: 0.2596 - accuracy: 0.9056 - val_loss: 0.3208 - val_accuracy: 0.8837\n",
            "Epoch 9/20\n",
            "188/188 [==============================] - 1s 7ms/step - loss: 0.2510 - accuracy: 0.9069 - val_loss: 0.3174 - val_accuracy: 0.8847\n",
            "Epoch 10/20\n",
            "188/188 [==============================] - 1s 7ms/step - loss: 0.2429 - accuracy: 0.9102 - val_loss: 0.3087 - val_accuracy: 0.8872\n",
            "Epoch 11/20\n",
            "188/188 [==============================] - 1s 7ms/step - loss: 0.2324 - accuracy: 0.9141 - val_loss: 0.3162 - val_accuracy: 0.8863\n",
            "Epoch 12/20\n",
            "188/188 [==============================] - 1s 7ms/step - loss: 0.2261 - accuracy: 0.9151 - val_loss: 0.3068 - val_accuracy: 0.8891\n",
            "Epoch 13/20\n",
            "188/188 [==============================] - 1s 7ms/step - loss: 0.2208 - accuracy: 0.9175 - val_loss: 0.3342 - val_accuracy: 0.8799\n",
            "Epoch 14/20\n",
            "188/188 [==============================] - 1s 7ms/step - loss: 0.2085 - accuracy: 0.9226 - val_loss: 0.3033 - val_accuracy: 0.8907\n",
            "Epoch 15/20\n",
            "188/188 [==============================] - 1s 7ms/step - loss: 0.2037 - accuracy: 0.9250 - val_loss: 0.3019 - val_accuracy: 0.8933\n",
            "Epoch 16/20\n",
            "188/188 [==============================] - 1s 7ms/step - loss: 0.2003 - accuracy: 0.9265 - val_loss: 0.3117 - val_accuracy: 0.8900\n",
            "Epoch 17/20\n",
            "188/188 [==============================] - 1s 7ms/step - loss: 0.1895 - accuracy: 0.9304 - val_loss: 0.3055 - val_accuracy: 0.8917\n",
            "Epoch 18/20\n",
            "188/188 [==============================] - 1s 7ms/step - loss: 0.1846 - accuracy: 0.9327 - val_loss: 0.3145 - val_accuracy: 0.8901\n",
            "Epoch 19/20\n",
            "188/188 [==============================] - 1s 7ms/step - loss: 0.1749 - accuracy: 0.9359 - val_loss: 0.3128 - val_accuracy: 0.8907\n",
            "Epoch 20/20\n",
            "188/188 [==============================] - 1s 7ms/step - loss: 0.1713 - accuracy: 0.9371 - val_loss: 0.3166 - val_accuracy: 0.8914\n"
          ],
          "name": "stdout"
        },
        {
          "output_type": "display_data",
          "data": {
            "text/html": [
              "<span style=\"color:#4527A0\"><h1 style=\"font-size:18px\">Trial complete</h1></span>"
            ],
            "text/plain": [
              "<IPython.core.display.HTML object>"
            ]
          },
          "metadata": {
            "tags": []
          }
        },
        {
          "output_type": "display_data",
          "data": {
            "text/html": [
              "<span style=\"color:#4527A0\"><h1 style=\"font-size:18px\">Trial summary</h1></span>"
            ],
            "text/plain": [
              "<IPython.core.display.HTML object>"
            ]
          },
          "metadata": {
            "tags": []
          }
        },
        {
          "output_type": "display_data",
          "data": {
            "text/html": [
              "<span style=\"color:cyan\"> |-Trial ID: 8d4be394ab0bfa38acfcb2a6ade10bea</span>"
            ],
            "text/plain": [
              "<IPython.core.display.HTML object>"
            ]
          },
          "metadata": {
            "tags": []
          }
        },
        {
          "output_type": "display_data",
          "data": {
            "text/html": [
              "<span style=\"color:cyan\"> |-Score: 0.8933333158493042</span>"
            ],
            "text/plain": [
              "<IPython.core.display.HTML object>"
            ]
          },
          "metadata": {
            "tags": []
          }
        },
        {
          "output_type": "display_data",
          "data": {
            "text/html": [
              "<span style=\"color:cyan\"> |-Best step: 0</span>"
            ],
            "text/plain": [
              "<IPython.core.display.HTML object>"
            ]
          },
          "metadata": {
            "tags": []
          }
        },
        {
          "output_type": "display_data",
          "data": {
            "text/html": [
              "<span style=\"color:#7E57C2\"><h2 style=\"font-size:16px\">Hyperparameters:</h2></span>"
            ],
            "text/plain": [
              "<IPython.core.display.HTML object>"
            ]
          },
          "metadata": {
            "tags": []
          }
        },
        {
          "output_type": "display_data",
          "data": {
            "text/html": [
              "<span style=\"color:cyan\"> |-activation: tanh</span>"
            ],
            "text/plain": [
              "<IPython.core.display.HTML object>"
            ]
          },
          "metadata": {
            "tags": []
          }
        },
        {
          "output_type": "display_data",
          "data": {
            "text/html": [
              "<span style=\"color:blue\"> |-optimizer: adam</span>"
            ],
            "text/plain": [
              "<IPython.core.display.HTML object>"
            ]
          },
          "metadata": {
            "tags": []
          }
        },
        {
          "output_type": "display_data",
          "data": {
            "text/html": [
              "<span style=\"color:cyan\"> |-units_hidden: 160</span>"
            ],
            "text/plain": [
              "<IPython.core.display.HTML object>"
            ]
          },
          "metadata": {
            "tags": []
          }
        },
        {
          "output_type": "display_data",
          "data": {
            "text/html": [
              "<span style=\"color:blue\"> |-units_input: 832</span>"
            ],
            "text/plain": [
              "<IPython.core.display.HTML object>"
            ]
          },
          "metadata": {
            "tags": []
          }
        },
        {
          "output_type": "stream",
          "text": [
            "Epoch 1/20\n",
            "188/188 [==============================] - 2s 9ms/step - loss: 0.6378 - accuracy: 0.7677 - val_loss: 0.5844 - val_accuracy: 0.7912\n",
            "Epoch 2/20\n",
            "188/188 [==============================] - 2s 8ms/step - loss: 0.4185 - accuracy: 0.8435 - val_loss: 0.3938 - val_accuracy: 0.8501\n",
            "Epoch 3/20\n",
            "188/188 [==============================] - 2s 8ms/step - loss: 0.3612 - accuracy: 0.8652 - val_loss: 0.4389 - val_accuracy: 0.8322\n",
            "Epoch 4/20\n",
            "188/188 [==============================] - 2s 8ms/step - loss: 0.3280 - accuracy: 0.8784 - val_loss: 0.3823 - val_accuracy: 0.8608\n",
            "Epoch 5/20\n",
            "188/188 [==============================] - 2s 8ms/step - loss: 0.3020 - accuracy: 0.8863 - val_loss: 0.3817 - val_accuracy: 0.8638\n",
            "Epoch 6/20\n",
            "188/188 [==============================] - 2s 8ms/step - loss: 0.2848 - accuracy: 0.8931 - val_loss: 0.3884 - val_accuracy: 0.8724\n",
            "Epoch 7/20\n",
            "188/188 [==============================] - 2s 9ms/step - loss: 0.2685 - accuracy: 0.8989 - val_loss: 0.3446 - val_accuracy: 0.8773\n",
            "Epoch 8/20\n",
            "188/188 [==============================] - 2s 8ms/step - loss: 0.2534 - accuracy: 0.9043 - val_loss: 0.3936 - val_accuracy: 0.8730\n",
            "Epoch 9/20\n",
            "188/188 [==============================] - 2s 8ms/step - loss: 0.2429 - accuracy: 0.9085 - val_loss: 0.4049 - val_accuracy: 0.8613\n",
            "Epoch 10/20\n",
            "188/188 [==============================] - 2s 9ms/step - loss: 0.2328 - accuracy: 0.9107 - val_loss: 0.3475 - val_accuracy: 0.8803\n",
            "Epoch 11/20\n",
            "188/188 [==============================] - 2s 9ms/step - loss: 0.2235 - accuracy: 0.9152 - val_loss: 0.4210 - val_accuracy: 0.8723\n",
            "Epoch 12/20\n",
            "188/188 [==============================] - 2s 8ms/step - loss: 0.2172 - accuracy: 0.9173 - val_loss: 0.3471 - val_accuracy: 0.8896\n",
            "Epoch 13/20\n",
            "188/188 [==============================] - 2s 8ms/step - loss: 0.2070 - accuracy: 0.9217 - val_loss: 0.3325 - val_accuracy: 0.8946\n",
            "Epoch 14/20\n",
            "188/188 [==============================] - 2s 8ms/step - loss: 0.2010 - accuracy: 0.9236 - val_loss: 0.3593 - val_accuracy: 0.8880\n",
            "Epoch 15/20\n",
            "188/188 [==============================] - 2s 8ms/step - loss: 0.1898 - accuracy: 0.9275 - val_loss: 0.3560 - val_accuracy: 0.8944\n",
            "Epoch 16/20\n",
            "188/188 [==============================] - 2s 8ms/step - loss: 0.1825 - accuracy: 0.9313 - val_loss: 0.4653 - val_accuracy: 0.8897\n",
            "Epoch 17/20\n",
            "188/188 [==============================] - 2s 8ms/step - loss: 0.1806 - accuracy: 0.9313 - val_loss: 0.4312 - val_accuracy: 0.8895\n",
            "Epoch 18/20\n",
            "188/188 [==============================] - 2s 8ms/step - loss: 0.1739 - accuracy: 0.9333 - val_loss: 0.4280 - val_accuracy: 0.8835\n",
            "Epoch 19/20\n",
            "188/188 [==============================] - 2s 8ms/step - loss: 0.1703 - accuracy: 0.9350 - val_loss: 0.4318 - val_accuracy: 0.8889\n",
            "Epoch 20/20\n",
            "188/188 [==============================] - 2s 8ms/step - loss: 0.1633 - accuracy: 0.9374 - val_loss: 0.4515 - val_accuracy: 0.8878\n"
          ],
          "name": "stdout"
        },
        {
          "output_type": "display_data",
          "data": {
            "text/html": [
              "<span style=\"color:#4527A0\"><h1 style=\"font-size:18px\">Trial complete</h1></span>"
            ],
            "text/plain": [
              "<IPython.core.display.HTML object>"
            ]
          },
          "metadata": {
            "tags": []
          }
        },
        {
          "output_type": "display_data",
          "data": {
            "text/html": [
              "<span style=\"color:#4527A0\"><h1 style=\"font-size:18px\">Trial summary</h1></span>"
            ],
            "text/plain": [
              "<IPython.core.display.HTML object>"
            ]
          },
          "metadata": {
            "tags": []
          }
        },
        {
          "output_type": "display_data",
          "data": {
            "text/html": [
              "<span style=\"color:cyan\"> |-Trial ID: e9bca07ceeac5eb0b5504bb72ea91d18</span>"
            ],
            "text/plain": [
              "<IPython.core.display.HTML object>"
            ]
          },
          "metadata": {
            "tags": []
          }
        },
        {
          "output_type": "display_data",
          "data": {
            "text/html": [
              "<span style=\"color:cyan\"> |-Score: 0.8945833444595337</span>"
            ],
            "text/plain": [
              "<IPython.core.display.HTML object>"
            ]
          },
          "metadata": {
            "tags": []
          }
        },
        {
          "output_type": "display_data",
          "data": {
            "text/html": [
              "<span style=\"color:cyan\"> |-Best step: 0</span>"
            ],
            "text/plain": [
              "<IPython.core.display.HTML object>"
            ]
          },
          "metadata": {
            "tags": []
          }
        },
        {
          "output_type": "display_data",
          "data": {
            "text/html": [
              "<span style=\"color:#7E57C2\"><h2 style=\"font-size:16px\">Hyperparameters:</h2></span>"
            ],
            "text/plain": [
              "<IPython.core.display.HTML object>"
            ]
          },
          "metadata": {
            "tags": []
          }
        },
        {
          "output_type": "display_data",
          "data": {
            "text/html": [
              "<span style=\"color:cyan\"> |-activation: relu</span>"
            ],
            "text/plain": [
              "<IPython.core.display.HTML object>"
            ]
          },
          "metadata": {
            "tags": []
          }
        },
        {
          "output_type": "display_data",
          "data": {
            "text/html": [
              "<span style=\"color:blue\"> |-optimizer: rmsprop</span>"
            ],
            "text/plain": [
              "<IPython.core.display.HTML object>"
            ]
          },
          "metadata": {
            "tags": []
          }
        },
        {
          "output_type": "display_data",
          "data": {
            "text/html": [
              "<span style=\"color:cyan\"> |-units_hidden: 416</span>"
            ],
            "text/plain": [
              "<IPython.core.display.HTML object>"
            ]
          },
          "metadata": {
            "tags": []
          }
        },
        {
          "output_type": "display_data",
          "data": {
            "text/html": [
              "<span style=\"color:blue\"> |-units_input: 832</span>"
            ],
            "text/plain": [
              "<IPython.core.display.HTML object>"
            ]
          },
          "metadata": {
            "tags": []
          }
        },
        {
          "output_type": "stream",
          "text": [
            "Epoch 1/20\n",
            "188/188 [==============================] - 1s 7ms/step - loss: 0.7807 - accuracy: 0.7271 - val_loss: 0.5259 - val_accuracy: 0.8013\n",
            "Epoch 2/20\n",
            "188/188 [==============================] - 1s 7ms/step - loss: 0.4587 - accuracy: 0.8336 - val_loss: 0.4430 - val_accuracy: 0.8394\n",
            "Epoch 3/20\n",
            "188/188 [==============================] - 1s 7ms/step - loss: 0.4117 - accuracy: 0.8526 - val_loss: 0.4046 - val_accuracy: 0.8518\n",
            "Epoch 4/20\n",
            "188/188 [==============================] - 1s 7ms/step - loss: 0.3810 - accuracy: 0.8634 - val_loss: 0.3852 - val_accuracy: 0.8600\n",
            "Epoch 5/20\n",
            "188/188 [==============================] - 1s 7ms/step - loss: 0.3627 - accuracy: 0.8692 - val_loss: 0.3621 - val_accuracy: 0.8690\n",
            "Epoch 6/20\n",
            "188/188 [==============================] - 1s 7ms/step - loss: 0.3447 - accuracy: 0.8755 - val_loss: 0.3620 - val_accuracy: 0.8670\n",
            "Epoch 7/20\n",
            "188/188 [==============================] - 1s 7ms/step - loss: 0.3326 - accuracy: 0.8792 - val_loss: 0.3542 - val_accuracy: 0.8728\n",
            "Epoch 8/20\n",
            "188/188 [==============================] - 1s 7ms/step - loss: 0.3217 - accuracy: 0.8834 - val_loss: 0.3398 - val_accuracy: 0.8772\n",
            "Epoch 9/20\n",
            "188/188 [==============================] - 1s 7ms/step - loss: 0.3095 - accuracy: 0.8876 - val_loss: 0.3376 - val_accuracy: 0.8765\n",
            "Epoch 10/20\n",
            "188/188 [==============================] - 1s 8ms/step - loss: 0.3009 - accuracy: 0.8891 - val_loss: 0.3334 - val_accuracy: 0.8783\n",
            "Epoch 11/20\n",
            "188/188 [==============================] - 1s 7ms/step - loss: 0.2890 - accuracy: 0.8942 - val_loss: 0.3335 - val_accuracy: 0.8767\n",
            "Epoch 12/20\n",
            "188/188 [==============================] - 1s 7ms/step - loss: 0.2791 - accuracy: 0.8976 - val_loss: 0.3287 - val_accuracy: 0.8782\n",
            "Epoch 13/20\n",
            "188/188 [==============================] - 1s 7ms/step - loss: 0.2726 - accuracy: 0.8996 - val_loss: 0.3198 - val_accuracy: 0.8834\n",
            "Epoch 14/20\n",
            "188/188 [==============================] - 1s 7ms/step - loss: 0.2677 - accuracy: 0.8996 - val_loss: 0.3112 - val_accuracy: 0.8867\n",
            "Epoch 15/20\n",
            "188/188 [==============================] - 1s 7ms/step - loss: 0.2555 - accuracy: 0.9056 - val_loss: 0.3134 - val_accuracy: 0.8881\n",
            "Epoch 16/20\n",
            "188/188 [==============================] - 1s 7ms/step - loss: 0.2454 - accuracy: 0.9089 - val_loss: 0.3257 - val_accuracy: 0.8823\n",
            "Epoch 17/20\n",
            "188/188 [==============================] - 1s 7ms/step - loss: 0.2394 - accuracy: 0.9117 - val_loss: 0.3132 - val_accuracy: 0.8863\n",
            "Epoch 18/20\n",
            "188/188 [==============================] - 1s 7ms/step - loss: 0.2327 - accuracy: 0.9139 - val_loss: 0.3016 - val_accuracy: 0.8919\n",
            "Epoch 19/20\n",
            "188/188 [==============================] - 1s 7ms/step - loss: 0.2269 - accuracy: 0.9153 - val_loss: 0.3017 - val_accuracy: 0.8907\n",
            "Epoch 20/20\n",
            "188/188 [==============================] - 1s 7ms/step - loss: 0.2170 - accuracy: 0.9194 - val_loss: 0.3040 - val_accuracy: 0.8902\n"
          ],
          "name": "stdout"
        },
        {
          "output_type": "display_data",
          "data": {
            "text/html": [
              "<span style=\"color:#4527A0\"><h1 style=\"font-size:18px\">Trial complete</h1></span>"
            ],
            "text/plain": [
              "<IPython.core.display.HTML object>"
            ]
          },
          "metadata": {
            "tags": []
          }
        },
        {
          "output_type": "display_data",
          "data": {
            "text/html": [
              "<span style=\"color:#4527A0\"><h1 style=\"font-size:18px\">Trial summary</h1></span>"
            ],
            "text/plain": [
              "<IPython.core.display.HTML object>"
            ]
          },
          "metadata": {
            "tags": []
          }
        },
        {
          "output_type": "display_data",
          "data": {
            "text/html": [
              "<span style=\"color:cyan\"> |-Trial ID: 8088c8b1d65294a38c8c217dbf05478d</span>"
            ],
            "text/plain": [
              "<IPython.core.display.HTML object>"
            ]
          },
          "metadata": {
            "tags": []
          }
        },
        {
          "output_type": "display_data",
          "data": {
            "text/html": [
              "<span style=\"color:cyan\"> |-Score: 0.8919166922569275</span>"
            ],
            "text/plain": [
              "<IPython.core.display.HTML object>"
            ]
          },
          "metadata": {
            "tags": []
          }
        },
        {
          "output_type": "display_data",
          "data": {
            "text/html": [
              "<span style=\"color:cyan\"> |-Best step: 0</span>"
            ],
            "text/plain": [
              "<IPython.core.display.HTML object>"
            ]
          },
          "metadata": {
            "tags": []
          }
        },
        {
          "output_type": "display_data",
          "data": {
            "text/html": [
              "<span style=\"color:#7E57C2\"><h2 style=\"font-size:16px\">Hyperparameters:</h2></span>"
            ],
            "text/plain": [
              "<IPython.core.display.HTML object>"
            ]
          },
          "metadata": {
            "tags": []
          }
        },
        {
          "output_type": "display_data",
          "data": {
            "text/html": [
              "<span style=\"color:cyan\"> |-activation: sigmoid</span>"
            ],
            "text/plain": [
              "<IPython.core.display.HTML object>"
            ]
          },
          "metadata": {
            "tags": []
          }
        },
        {
          "output_type": "display_data",
          "data": {
            "text/html": [
              "<span style=\"color:blue\"> |-optimizer: adam</span>"
            ],
            "text/plain": [
              "<IPython.core.display.HTML object>"
            ]
          },
          "metadata": {
            "tags": []
          }
        },
        {
          "output_type": "display_data",
          "data": {
            "text/html": [
              "<span style=\"color:cyan\"> |-units_hidden: 448</span>"
            ],
            "text/plain": [
              "<IPython.core.display.HTML object>"
            ]
          },
          "metadata": {
            "tags": []
          }
        },
        {
          "output_type": "display_data",
          "data": {
            "text/html": [
              "<span style=\"color:blue\"> |-units_input: 576</span>"
            ],
            "text/plain": [
              "<IPython.core.display.HTML object>"
            ]
          },
          "metadata": {
            "tags": []
          }
        },
        {
          "output_type": "stream",
          "text": [
            "Epoch 1/20\n",
            "188/188 [==============================] - 2s 9ms/step - loss: 1.1463 - accuracy: 0.7006 - val_loss: 0.5244 - val_accuracy: 0.8069\n",
            "Epoch 2/20\n",
            "188/188 [==============================] - 1s 8ms/step - loss: 0.5456 - accuracy: 0.8006 - val_loss: 0.6057 - val_accuracy: 0.7650\n",
            "Epoch 3/20\n",
            "188/188 [==============================] - 2s 8ms/step - loss: 0.4491 - accuracy: 0.8339 - val_loss: 0.5380 - val_accuracy: 0.8105\n",
            "Epoch 4/20\n",
            "188/188 [==============================] - 2s 8ms/step - loss: 0.4003 - accuracy: 0.8489 - val_loss: 0.4663 - val_accuracy: 0.8317\n",
            "Epoch 5/20\n",
            "188/188 [==============================] - 2s 8ms/step - loss: 0.3669 - accuracy: 0.8635 - val_loss: 0.4437 - val_accuracy: 0.8328\n",
            "Epoch 6/20\n",
            "188/188 [==============================] - 2s 8ms/step - loss: 0.3470 - accuracy: 0.8702 - val_loss: 0.3784 - val_accuracy: 0.8698\n",
            "Epoch 7/20\n",
            "188/188 [==============================] - 2s 8ms/step - loss: 0.3243 - accuracy: 0.8783 - val_loss: 0.4373 - val_accuracy: 0.8508\n",
            "Epoch 8/20\n",
            "188/188 [==============================] - 2s 8ms/step - loss: 0.3137 - accuracy: 0.8823 - val_loss: 0.4309 - val_accuracy: 0.8557\n",
            "Epoch 9/20\n",
            "188/188 [==============================] - 2s 8ms/step - loss: 0.2968 - accuracy: 0.8874 - val_loss: 0.4334 - val_accuracy: 0.8459\n",
            "Epoch 10/20\n",
            "188/188 [==============================] - 2s 8ms/step - loss: 0.2886 - accuracy: 0.8900 - val_loss: 0.3484 - val_accuracy: 0.8798\n",
            "Epoch 11/20\n",
            "188/188 [==============================] - 2s 8ms/step - loss: 0.2741 - accuracy: 0.8959 - val_loss: 0.3853 - val_accuracy: 0.8675\n",
            "Epoch 12/20\n",
            "188/188 [==============================] - 1s 8ms/step - loss: 0.2658 - accuracy: 0.8991 - val_loss: 0.6234 - val_accuracy: 0.8173\n",
            "Epoch 13/20\n",
            "188/188 [==============================] - 2s 8ms/step - loss: 0.2595 - accuracy: 0.9015 - val_loss: 0.3555 - val_accuracy: 0.8810\n",
            "Epoch 14/20\n",
            "188/188 [==============================] - 2s 9ms/step - loss: 0.2466 - accuracy: 0.9058 - val_loss: 0.3520 - val_accuracy: 0.8841\n",
            "Epoch 15/20\n",
            "188/188 [==============================] - 2s 9ms/step - loss: 0.2424 - accuracy: 0.9083 - val_loss: 0.3778 - val_accuracy: 0.8741\n",
            "Epoch 16/20\n",
            "188/188 [==============================] - 2s 9ms/step - loss: 0.2321 - accuracy: 0.9118 - val_loss: 0.4563 - val_accuracy: 0.8614\n",
            "Epoch 17/20\n",
            "188/188 [==============================] - 2s 9ms/step - loss: 0.2279 - accuracy: 0.9132 - val_loss: 0.4568 - val_accuracy: 0.8746\n",
            "Epoch 18/20\n",
            "188/188 [==============================] - 2s 8ms/step - loss: 0.2211 - accuracy: 0.9147 - val_loss: 0.4293 - val_accuracy: 0.8652\n",
            "Epoch 19/20\n",
            "188/188 [==============================] - 2s 9ms/step - loss: 0.2174 - accuracy: 0.9164 - val_loss: 0.4165 - val_accuracy: 0.8789\n",
            "Epoch 20/20\n",
            "188/188 [==============================] - 2s 9ms/step - loss: 0.2115 - accuracy: 0.9199 - val_loss: 0.4002 - val_accuracy: 0.8748\n"
          ],
          "name": "stdout"
        },
        {
          "output_type": "display_data",
          "data": {
            "text/html": [
              "<span style=\"color:#4527A0\"><h1 style=\"font-size:18px\">Trial complete</h1></span>"
            ],
            "text/plain": [
              "<IPython.core.display.HTML object>"
            ]
          },
          "metadata": {
            "tags": []
          }
        },
        {
          "output_type": "display_data",
          "data": {
            "text/html": [
              "<span style=\"color:#4527A0\"><h1 style=\"font-size:18px\">Trial summary</h1></span>"
            ],
            "text/plain": [
              "<IPython.core.display.HTML object>"
            ]
          },
          "metadata": {
            "tags": []
          }
        },
        {
          "output_type": "display_data",
          "data": {
            "text/html": [
              "<span style=\"color:cyan\"> |-Trial ID: 91469c55211e78fe34c4f7b1e4ad3a4a</span>"
            ],
            "text/plain": [
              "<IPython.core.display.HTML object>"
            ]
          },
          "metadata": {
            "tags": []
          }
        },
        {
          "output_type": "display_data",
          "data": {
            "text/html": [
              "<span style=\"color:cyan\"> |-Score: 0.8840833306312561</span>"
            ],
            "text/plain": [
              "<IPython.core.display.HTML object>"
            ]
          },
          "metadata": {
            "tags": []
          }
        },
        {
          "output_type": "display_data",
          "data": {
            "text/html": [
              "<span style=\"color:cyan\"> |-Best step: 0</span>"
            ],
            "text/plain": [
              "<IPython.core.display.HTML object>"
            ]
          },
          "metadata": {
            "tags": []
          }
        },
        {
          "output_type": "display_data",
          "data": {
            "text/html": [
              "<span style=\"color:#7E57C2\"><h2 style=\"font-size:16px\">Hyperparameters:</h2></span>"
            ],
            "text/plain": [
              "<IPython.core.display.HTML object>"
            ]
          },
          "metadata": {
            "tags": []
          }
        },
        {
          "output_type": "display_data",
          "data": {
            "text/html": [
              "<span style=\"color:cyan\"> |-activation: selu</span>"
            ],
            "text/plain": [
              "<IPython.core.display.HTML object>"
            ]
          },
          "metadata": {
            "tags": []
          }
        },
        {
          "output_type": "display_data",
          "data": {
            "text/html": [
              "<span style=\"color:blue\"> |-optimizer: rmsprop</span>"
            ],
            "text/plain": [
              "<IPython.core.display.HTML object>"
            ]
          },
          "metadata": {
            "tags": []
          }
        },
        {
          "output_type": "display_data",
          "data": {
            "text/html": [
              "<span style=\"color:cyan\"> |-units_hidden: 320</span>"
            ],
            "text/plain": [
              "<IPython.core.display.HTML object>"
            ]
          },
          "metadata": {
            "tags": []
          }
        },
        {
          "output_type": "display_data",
          "data": {
            "text/html": [
              "<span style=\"color:blue\"> |-units_input: 928</span>"
            ],
            "text/plain": [
              "<IPython.core.display.HTML object>"
            ]
          },
          "metadata": {
            "tags": []
          }
        },
        {
          "output_type": "stream",
          "text": [
            "Epoch 1/20\n",
            "188/188 [==============================] - 2s 9ms/step - loss: 0.5492 - accuracy: 0.8045 - val_loss: 0.4175 - val_accuracy: 0.8513\n",
            "Epoch 2/20\n",
            "188/188 [==============================] - 2s 8ms/step - loss: 0.3976 - accuracy: 0.8559 - val_loss: 0.3944 - val_accuracy: 0.8555\n",
            "Epoch 3/20\n",
            "188/188 [==============================] - 2s 8ms/step - loss: 0.3615 - accuracy: 0.8671 - val_loss: 0.3729 - val_accuracy: 0.8618\n",
            "Epoch 4/20\n",
            "188/188 [==============================] - 2s 8ms/step - loss: 0.3370 - accuracy: 0.8762 - val_loss: 0.3578 - val_accuracy: 0.8741\n",
            "Epoch 5/20\n",
            "188/188 [==============================] - 2s 8ms/step - loss: 0.3084 - accuracy: 0.8856 - val_loss: 0.3478 - val_accuracy: 0.8755\n",
            "Epoch 6/20\n",
            "188/188 [==============================] - 2s 8ms/step - loss: 0.2948 - accuracy: 0.8896 - val_loss: 0.3365 - val_accuracy: 0.8779\n",
            "Epoch 7/20\n",
            "188/188 [==============================] - 2s 8ms/step - loss: 0.2757 - accuracy: 0.8972 - val_loss: 0.3454 - val_accuracy: 0.8727\n",
            "Epoch 8/20\n",
            "188/188 [==============================] - 2s 8ms/step - loss: 0.2715 - accuracy: 0.8991 - val_loss: 0.3365 - val_accuracy: 0.8823\n",
            "Epoch 9/20\n",
            "188/188 [==============================] - 1s 8ms/step - loss: 0.2643 - accuracy: 0.9011 - val_loss: 0.3563 - val_accuracy: 0.8758\n",
            "Epoch 10/20\n",
            "188/188 [==============================] - 2s 8ms/step - loss: 0.2449 - accuracy: 0.9081 - val_loss: 0.3136 - val_accuracy: 0.8907\n",
            "Epoch 11/20\n",
            "188/188 [==============================] - 2s 9ms/step - loss: 0.2367 - accuracy: 0.9111 - val_loss: 0.3379 - val_accuracy: 0.8840\n",
            "Epoch 12/20\n",
            "188/188 [==============================] - 2s 9ms/step - loss: 0.2205 - accuracy: 0.9173 - val_loss: 0.3309 - val_accuracy: 0.8854\n",
            "Epoch 13/20\n",
            "188/188 [==============================] - 2s 8ms/step - loss: 0.2184 - accuracy: 0.9171 - val_loss: 0.3080 - val_accuracy: 0.8909\n",
            "Epoch 14/20\n",
            "188/188 [==============================] - 1s 8ms/step - loss: 0.2106 - accuracy: 0.9204 - val_loss: 0.3423 - val_accuracy: 0.8851\n",
            "Epoch 15/20\n",
            "188/188 [==============================] - 1s 8ms/step - loss: 0.2093 - accuracy: 0.9202 - val_loss: 0.3326 - val_accuracy: 0.8899\n",
            "Epoch 16/20\n",
            "188/188 [==============================] - 2s 8ms/step - loss: 0.1920 - accuracy: 0.9272 - val_loss: 0.3397 - val_accuracy: 0.8874\n",
            "Epoch 17/20\n",
            "188/188 [==============================] - 1s 8ms/step - loss: 0.1855 - accuracy: 0.9304 - val_loss: 0.3365 - val_accuracy: 0.8907\n",
            "Epoch 18/20\n",
            "188/188 [==============================] - 2s 8ms/step - loss: 0.1829 - accuracy: 0.9297 - val_loss: 0.3354 - val_accuracy: 0.8927\n",
            "Epoch 19/20\n",
            "188/188 [==============================] - 1s 8ms/step - loss: 0.1679 - accuracy: 0.9366 - val_loss: 0.3373 - val_accuracy: 0.8954\n",
            "Epoch 20/20\n",
            "188/188 [==============================] - 1s 8ms/step - loss: 0.1643 - accuracy: 0.9370 - val_loss: 0.3415 - val_accuracy: 0.8933\n"
          ],
          "name": "stdout"
        },
        {
          "output_type": "display_data",
          "data": {
            "text/html": [
              "<span style=\"color:#4527A0\"><h1 style=\"font-size:18px\">Trial complete</h1></span>"
            ],
            "text/plain": [
              "<IPython.core.display.HTML object>"
            ]
          },
          "metadata": {
            "tags": []
          }
        },
        {
          "output_type": "display_data",
          "data": {
            "text/html": [
              "<span style=\"color:#4527A0\"><h1 style=\"font-size:18px\">Trial summary</h1></span>"
            ],
            "text/plain": [
              "<IPython.core.display.HTML object>"
            ]
          },
          "metadata": {
            "tags": []
          }
        },
        {
          "output_type": "display_data",
          "data": {
            "text/html": [
              "<span style=\"color:cyan\"> |-Trial ID: a416508bc0c8d2f5a23e504428b6da5b</span>"
            ],
            "text/plain": [
              "<IPython.core.display.HTML object>"
            ]
          },
          "metadata": {
            "tags": []
          }
        },
        {
          "output_type": "display_data",
          "data": {
            "text/html": [
              "<span style=\"color:cyan\"> |-Score: 0.8954166769981384</span>"
            ],
            "text/plain": [
              "<IPython.core.display.HTML object>"
            ]
          },
          "metadata": {
            "tags": []
          }
        },
        {
          "output_type": "display_data",
          "data": {
            "text/html": [
              "<span style=\"color:cyan\"> |-Best step: 0</span>"
            ],
            "text/plain": [
              "<IPython.core.display.HTML object>"
            ]
          },
          "metadata": {
            "tags": []
          }
        },
        {
          "output_type": "display_data",
          "data": {
            "text/html": [
              "<span style=\"color:#7E57C2\"><h2 style=\"font-size:16px\">Hyperparameters:</h2></span>"
            ],
            "text/plain": [
              "<IPython.core.display.HTML object>"
            ]
          },
          "metadata": {
            "tags": []
          }
        },
        {
          "output_type": "display_data",
          "data": {
            "text/html": [
              "<span style=\"color:cyan\"> |-activation: elu</span>"
            ],
            "text/plain": [
              "<IPython.core.display.HTML object>"
            ]
          },
          "metadata": {
            "tags": []
          }
        },
        {
          "output_type": "display_data",
          "data": {
            "text/html": [
              "<span style=\"color:blue\"> |-optimizer: adam</span>"
            ],
            "text/plain": [
              "<IPython.core.display.HTML object>"
            ]
          },
          "metadata": {
            "tags": []
          }
        },
        {
          "output_type": "display_data",
          "data": {
            "text/html": [
              "<span style=\"color:cyan\"> |-units_hidden: 416</span>"
            ],
            "text/plain": [
              "<IPython.core.display.HTML object>"
            ]
          },
          "metadata": {
            "tags": []
          }
        },
        {
          "output_type": "display_data",
          "data": {
            "text/html": [
              "<span style=\"color:blue\"> |-units_input: 992</span>"
            ],
            "text/plain": [
              "<IPython.core.display.HTML object>"
            ]
          },
          "metadata": {
            "tags": []
          }
        },
        {
          "output_type": "stream",
          "text": [
            "Epoch 1/20\n",
            "188/188 [==============================] - 2s 8ms/step - loss: 0.7024 - accuracy: 0.7480 - val_loss: 0.5053 - val_accuracy: 0.8019\n",
            "Epoch 2/20\n",
            "188/188 [==============================] - 1s 7ms/step - loss: 0.4538 - accuracy: 0.8316 - val_loss: 0.4784 - val_accuracy: 0.8255\n",
            "Epoch 3/20\n",
            "188/188 [==============================] - 1s 8ms/step - loss: 0.3916 - accuracy: 0.8528 - val_loss: 0.4012 - val_accuracy: 0.8510\n",
            "Epoch 4/20\n",
            "188/188 [==============================] - 1s 8ms/step - loss: 0.3542 - accuracy: 0.8667 - val_loss: 0.3860 - val_accuracy: 0.8597\n",
            "Epoch 5/20\n",
            "188/188 [==============================] - 1s 8ms/step - loss: 0.3252 - accuracy: 0.8778 - val_loss: 0.3557 - val_accuracy: 0.8687\n",
            "Epoch 6/20\n",
            "188/188 [==============================] - 1s 8ms/step - loss: 0.3082 - accuracy: 0.8850 - val_loss: 0.3553 - val_accuracy: 0.8724\n",
            "Epoch 7/20\n",
            "188/188 [==============================] - 1s 8ms/step - loss: 0.2883 - accuracy: 0.8904 - val_loss: 0.3525 - val_accuracy: 0.8723\n",
            "Epoch 8/20\n",
            "188/188 [==============================] - 1s 7ms/step - loss: 0.2747 - accuracy: 0.8966 - val_loss: 0.3922 - val_accuracy: 0.8576\n",
            "Epoch 9/20\n",
            "188/188 [==============================] - 1s 8ms/step - loss: 0.2608 - accuracy: 0.9011 - val_loss: 0.3340 - val_accuracy: 0.8738\n",
            "Epoch 10/20\n",
            "188/188 [==============================] - 1s 8ms/step - loss: 0.2518 - accuracy: 0.9047 - val_loss: 0.3335 - val_accuracy: 0.8788\n",
            "Epoch 11/20\n",
            "188/188 [==============================] - 1s 8ms/step - loss: 0.2392 - accuracy: 0.9086 - val_loss: 0.3287 - val_accuracy: 0.8806\n",
            "Epoch 12/20\n",
            "188/188 [==============================] - 1s 7ms/step - loss: 0.2290 - accuracy: 0.9137 - val_loss: 0.3790 - val_accuracy: 0.8612\n",
            "Epoch 13/20\n",
            "188/188 [==============================] - 2s 8ms/step - loss: 0.2201 - accuracy: 0.9166 - val_loss: 0.3172 - val_accuracy: 0.8854\n",
            "Epoch 14/20\n",
            "188/188 [==============================] - 2s 8ms/step - loss: 0.2118 - accuracy: 0.9206 - val_loss: 0.3159 - val_accuracy: 0.8873\n",
            "Epoch 15/20\n",
            "188/188 [==============================] - 1s 8ms/step - loss: 0.2043 - accuracy: 0.9233 - val_loss: 0.3056 - val_accuracy: 0.8904\n",
            "Epoch 16/20\n",
            "188/188 [==============================] - 1s 8ms/step - loss: 0.1934 - accuracy: 0.9272 - val_loss: 0.3188 - val_accuracy: 0.8875\n",
            "Epoch 17/20\n",
            "188/188 [==============================] - 1s 8ms/step - loss: 0.1860 - accuracy: 0.9307 - val_loss: 0.3688 - val_accuracy: 0.8695\n",
            "Epoch 18/20\n",
            "188/188 [==============================] - 1s 8ms/step - loss: 0.1791 - accuracy: 0.9330 - val_loss: 0.3145 - val_accuracy: 0.8896\n",
            "Epoch 19/20\n",
            "188/188 [==============================] - 1s 8ms/step - loss: 0.1728 - accuracy: 0.9347 - val_loss: 0.3262 - val_accuracy: 0.8875\n",
            "Epoch 20/20\n",
            "188/188 [==============================] - 1s 7ms/step - loss: 0.1649 - accuracy: 0.9390 - val_loss: 0.3418 - val_accuracy: 0.8838\n"
          ],
          "name": "stdout"
        },
        {
          "output_type": "display_data",
          "data": {
            "text/html": [
              "<span style=\"color:#4527A0\"><h1 style=\"font-size:18px\">Trial complete</h1></span>"
            ],
            "text/plain": [
              "<IPython.core.display.HTML object>"
            ]
          },
          "metadata": {
            "tags": []
          }
        },
        {
          "output_type": "display_data",
          "data": {
            "text/html": [
              "<span style=\"color:#4527A0\"><h1 style=\"font-size:18px\">Trial summary</h1></span>"
            ],
            "text/plain": [
              "<IPython.core.display.HTML object>"
            ]
          },
          "metadata": {
            "tags": []
          }
        },
        {
          "output_type": "display_data",
          "data": {
            "text/html": [
              "<span style=\"color:cyan\"> |-Trial ID: c36c8ee6c9f11548ffb1190d81c330a6</span>"
            ],
            "text/plain": [
              "<IPython.core.display.HTML object>"
            ]
          },
          "metadata": {
            "tags": []
          }
        },
        {
          "output_type": "display_data",
          "data": {
            "text/html": [
              "<span style=\"color:cyan\"> |-Score: 0.89041668176651</span>"
            ],
            "text/plain": [
              "<IPython.core.display.HTML object>"
            ]
          },
          "metadata": {
            "tags": []
          }
        },
        {
          "output_type": "display_data",
          "data": {
            "text/html": [
              "<span style=\"color:cyan\"> |-Best step: 0</span>"
            ],
            "text/plain": [
              "<IPython.core.display.HTML object>"
            ]
          },
          "metadata": {
            "tags": []
          }
        },
        {
          "output_type": "display_data",
          "data": {
            "text/html": [
              "<span style=\"color:#7E57C2\"><h2 style=\"font-size:16px\">Hyperparameters:</h2></span>"
            ],
            "text/plain": [
              "<IPython.core.display.HTML object>"
            ]
          },
          "metadata": {
            "tags": []
          }
        },
        {
          "output_type": "display_data",
          "data": {
            "text/html": [
              "<span style=\"color:cyan\"> |-activation: tanh</span>"
            ],
            "text/plain": [
              "<IPython.core.display.HTML object>"
            ]
          },
          "metadata": {
            "tags": []
          }
        },
        {
          "output_type": "display_data",
          "data": {
            "text/html": [
              "<span style=\"color:blue\"> |-optimizer: rmsprop</span>"
            ],
            "text/plain": [
              "<IPython.core.display.HTML object>"
            ]
          },
          "metadata": {
            "tags": []
          }
        },
        {
          "output_type": "display_data",
          "data": {
            "text/html": [
              "<span style=\"color:cyan\"> |-units_hidden: 288</span>"
            ],
            "text/plain": [
              "<IPython.core.display.HTML object>"
            ]
          },
          "metadata": {
            "tags": []
          }
        },
        {
          "output_type": "display_data",
          "data": {
            "text/html": [
              "<span style=\"color:blue\"> |-units_input: 576</span>"
            ],
            "text/plain": [
              "<IPython.core.display.HTML object>"
            ]
          },
          "metadata": {
            "tags": []
          }
        },
        {
          "output_type": "stream",
          "text": [
            "Epoch 1/20\n",
            "188/188 [==============================] - 2s 8ms/step - loss: 0.7650 - accuracy: 0.7337 - val_loss: 0.4956 - val_accuracy: 0.8194\n",
            "Epoch 2/20\n",
            "188/188 [==============================] - 1s 8ms/step - loss: 0.4538 - accuracy: 0.8379 - val_loss: 0.4235 - val_accuracy: 0.8467\n",
            "Epoch 3/20\n",
            "188/188 [==============================] - 1s 8ms/step - loss: 0.4069 - accuracy: 0.8534 - val_loss: 0.4128 - val_accuracy: 0.8497\n",
            "Epoch 4/20\n",
            "188/188 [==============================] - 1s 8ms/step - loss: 0.3804 - accuracy: 0.8636 - val_loss: 0.3941 - val_accuracy: 0.8591\n",
            "Epoch 5/20\n",
            "188/188 [==============================] - 1s 8ms/step - loss: 0.3609 - accuracy: 0.8696 - val_loss: 0.3685 - val_accuracy: 0.8678\n",
            "Epoch 6/20\n",
            "188/188 [==============================] - 1s 7ms/step - loss: 0.3433 - accuracy: 0.8761 - val_loss: 0.3572 - val_accuracy: 0.8671\n",
            "Epoch 7/20\n",
            "188/188 [==============================] - 1s 8ms/step - loss: 0.3364 - accuracy: 0.8764 - val_loss: 0.3577 - val_accuracy: 0.8727\n",
            "Epoch 8/20\n",
            "188/188 [==============================] - 1s 8ms/step - loss: 0.3195 - accuracy: 0.8828 - val_loss: 0.3442 - val_accuracy: 0.8763\n",
            "Epoch 9/20\n",
            "188/188 [==============================] - 1s 8ms/step - loss: 0.3111 - accuracy: 0.8856 - val_loss: 0.3383 - val_accuracy: 0.8763\n",
            "Epoch 10/20\n",
            "188/188 [==============================] - 1s 8ms/step - loss: 0.3004 - accuracy: 0.8891 - val_loss: 0.3253 - val_accuracy: 0.8823\n",
            "Epoch 11/20\n",
            "188/188 [==============================] - 1s 8ms/step - loss: 0.2879 - accuracy: 0.8941 - val_loss: 0.3280 - val_accuracy: 0.8805\n",
            "Epoch 12/20\n",
            "188/188 [==============================] - 1s 7ms/step - loss: 0.2781 - accuracy: 0.8983 - val_loss: 0.3270 - val_accuracy: 0.8812\n",
            "Epoch 13/20\n",
            "188/188 [==============================] - 1s 8ms/step - loss: 0.2729 - accuracy: 0.8994 - val_loss: 0.3282 - val_accuracy: 0.8789\n",
            "Epoch 14/20\n",
            "188/188 [==============================] - 1s 8ms/step - loss: 0.2651 - accuracy: 0.9009 - val_loss: 0.3306 - val_accuracy: 0.8760\n",
            "Epoch 15/20\n",
            "188/188 [==============================] - 2s 8ms/step - loss: 0.2572 - accuracy: 0.9053 - val_loss: 0.3300 - val_accuracy: 0.8838\n",
            "Epoch 16/20\n",
            "188/188 [==============================] - 1s 8ms/step - loss: 0.2464 - accuracy: 0.9091 - val_loss: 0.3118 - val_accuracy: 0.8873\n",
            "Epoch 17/20\n",
            "188/188 [==============================] - 2s 8ms/step - loss: 0.2395 - accuracy: 0.9107 - val_loss: 0.3119 - val_accuracy: 0.8900\n",
            "Epoch 18/20\n",
            "188/188 [==============================] - 1s 8ms/step - loss: 0.2322 - accuracy: 0.9122 - val_loss: 0.3093 - val_accuracy: 0.8921\n",
            "Epoch 19/20\n",
            "188/188 [==============================] - 1s 8ms/step - loss: 0.2308 - accuracy: 0.9140 - val_loss: 0.3195 - val_accuracy: 0.8871\n",
            "Epoch 20/20\n",
            "188/188 [==============================] - 1s 8ms/step - loss: 0.2186 - accuracy: 0.9192 - val_loss: 0.3021 - val_accuracy: 0.8906\n"
          ],
          "name": "stdout"
        },
        {
          "output_type": "display_data",
          "data": {
            "text/html": [
              "<span style=\"color:#4527A0\"><h1 style=\"font-size:18px\">Trial complete</h1></span>"
            ],
            "text/plain": [
              "<IPython.core.display.HTML object>"
            ]
          },
          "metadata": {
            "tags": []
          }
        },
        {
          "output_type": "display_data",
          "data": {
            "text/html": [
              "<span style=\"color:#4527A0\"><h1 style=\"font-size:18px\">Trial summary</h1></span>"
            ],
            "text/plain": [
              "<IPython.core.display.HTML object>"
            ]
          },
          "metadata": {
            "tags": []
          }
        },
        {
          "output_type": "display_data",
          "data": {
            "text/html": [
              "<span style=\"color:cyan\"> |-Trial ID: 3015b922b3ba878d8f23ad9bf9c7600d</span>"
            ],
            "text/plain": [
              "<IPython.core.display.HTML object>"
            ]
          },
          "metadata": {
            "tags": []
          }
        },
        {
          "output_type": "display_data",
          "data": {
            "text/html": [
              "<span style=\"color:cyan\"> |-Score: 0.8920833468437195</span>"
            ],
            "text/plain": [
              "<IPython.core.display.HTML object>"
            ]
          },
          "metadata": {
            "tags": []
          }
        },
        {
          "output_type": "display_data",
          "data": {
            "text/html": [
              "<span style=\"color:cyan\"> |-Best step: 0</span>"
            ],
            "text/plain": [
              "<IPython.core.display.HTML object>"
            ]
          },
          "metadata": {
            "tags": []
          }
        },
        {
          "output_type": "display_data",
          "data": {
            "text/html": [
              "<span style=\"color:#7E57C2\"><h2 style=\"font-size:16px\">Hyperparameters:</h2></span>"
            ],
            "text/plain": [
              "<IPython.core.display.HTML object>"
            ]
          },
          "metadata": {
            "tags": []
          }
        },
        {
          "output_type": "display_data",
          "data": {
            "text/html": [
              "<span style=\"color:cyan\"> |-activation: sigmoid</span>"
            ],
            "text/plain": [
              "<IPython.core.display.HTML object>"
            ]
          },
          "metadata": {
            "tags": []
          }
        },
        {
          "output_type": "display_data",
          "data": {
            "text/html": [
              "<span style=\"color:blue\"> |-optimizer: adam</span>"
            ],
            "text/plain": [
              "<IPython.core.display.HTML object>"
            ]
          },
          "metadata": {
            "tags": []
          }
        },
        {
          "output_type": "display_data",
          "data": {
            "text/html": [
              "<span style=\"color:cyan\"> |-units_hidden: 448</span>"
            ],
            "text/plain": [
              "<IPython.core.display.HTML object>"
            ]
          },
          "metadata": {
            "tags": []
          }
        },
        {
          "output_type": "display_data",
          "data": {
            "text/html": [
              "<span style=\"color:blue\"> |-units_input: 800</span>"
            ],
            "text/plain": [
              "<IPython.core.display.HTML object>"
            ]
          },
          "metadata": {
            "tags": []
          }
        },
        {
          "output_type": "stream",
          "text": [
            "Epoch 1/20\n",
            "188/188 [==============================] - 2s 9ms/step - loss: 0.6588 - accuracy: 0.7911 - val_loss: 0.4815 - val_accuracy: 0.8283\n",
            "Epoch 2/20\n",
            "188/188 [==============================] - 2s 8ms/step - loss: 0.4153 - accuracy: 0.8503 - val_loss: 0.4115 - val_accuracy: 0.8461\n",
            "Epoch 3/20\n",
            "188/188 [==============================] - 2s 8ms/step - loss: 0.3797 - accuracy: 0.8607 - val_loss: 0.3793 - val_accuracy: 0.8622\n",
            "Epoch 4/20\n",
            "188/188 [==============================] - 2s 8ms/step - loss: 0.3456 - accuracy: 0.8741 - val_loss: 0.3609 - val_accuracy: 0.8676\n",
            "Epoch 5/20\n",
            "188/188 [==============================] - 2s 8ms/step - loss: 0.3373 - accuracy: 0.8753 - val_loss: 0.3692 - val_accuracy: 0.8685\n",
            "Epoch 6/20\n",
            "188/188 [==============================] - 1s 8ms/step - loss: 0.3095 - accuracy: 0.8854 - val_loss: 0.3980 - val_accuracy: 0.8658\n",
            "Epoch 7/20\n",
            "188/188 [==============================] - 2s 8ms/step - loss: 0.2968 - accuracy: 0.8889 - val_loss: 0.3289 - val_accuracy: 0.8820\n",
            "Epoch 8/20\n",
            "188/188 [==============================] - 2s 8ms/step - loss: 0.2807 - accuracy: 0.8962 - val_loss: 0.3403 - val_accuracy: 0.8796\n",
            "Epoch 9/20\n",
            "188/188 [==============================] - 1s 8ms/step - loss: 0.2690 - accuracy: 0.9011 - val_loss: 0.3438 - val_accuracy: 0.8784\n",
            "Epoch 10/20\n",
            "188/188 [==============================] - 1s 8ms/step - loss: 0.2623 - accuracy: 0.9013 - val_loss: 0.3470 - val_accuracy: 0.8777\n",
            "Epoch 11/20\n",
            "188/188 [==============================] - 1s 8ms/step - loss: 0.2516 - accuracy: 0.9058 - val_loss: 0.3448 - val_accuracy: 0.8788\n",
            "Epoch 12/20\n",
            "188/188 [==============================] - 2s 8ms/step - loss: 0.2394 - accuracy: 0.9102 - val_loss: 0.3191 - val_accuracy: 0.8883\n",
            "Epoch 13/20\n",
            "188/188 [==============================] - 1s 8ms/step - loss: 0.2263 - accuracy: 0.9155 - val_loss: 0.3538 - val_accuracy: 0.8819\n",
            "Epoch 14/20\n",
            "188/188 [==============================] - 1s 8ms/step - loss: 0.2239 - accuracy: 0.9155 - val_loss: 0.3505 - val_accuracy: 0.8815\n",
            "Epoch 15/20\n",
            "188/188 [==============================] - 2s 8ms/step - loss: 0.2172 - accuracy: 0.9187 - val_loss: 0.3131 - val_accuracy: 0.8913\n",
            "Epoch 16/20\n",
            "188/188 [==============================] - 2s 8ms/step - loss: 0.2063 - accuracy: 0.9226 - val_loss: 0.3986 - val_accuracy: 0.8783\n",
            "Epoch 17/20\n",
            "188/188 [==============================] - 1s 8ms/step - loss: 0.1998 - accuracy: 0.9252 - val_loss: 0.3449 - val_accuracy: 0.8819\n",
            "Epoch 18/20\n",
            "188/188 [==============================] - 1s 8ms/step - loss: 0.1958 - accuracy: 0.9248 - val_loss: 0.3287 - val_accuracy: 0.8907\n",
            "Epoch 19/20\n",
            "188/188 [==============================] - 2s 8ms/step - loss: 0.1845 - accuracy: 0.9299 - val_loss: 0.3609 - val_accuracy: 0.8900\n",
            "Epoch 20/20\n",
            "188/188 [==============================] - 2s 8ms/step - loss: 0.1976 - accuracy: 0.9250 - val_loss: 0.3376 - val_accuracy: 0.8911\n"
          ],
          "name": "stdout"
        },
        {
          "output_type": "display_data",
          "data": {
            "text/html": [
              "<span style=\"color:#4527A0\"><h1 style=\"font-size:18px\">Trial complete</h1></span>"
            ],
            "text/plain": [
              "<IPython.core.display.HTML object>"
            ]
          },
          "metadata": {
            "tags": []
          }
        },
        {
          "output_type": "display_data",
          "data": {
            "text/html": [
              "<span style=\"color:#4527A0\"><h1 style=\"font-size:18px\">Trial summary</h1></span>"
            ],
            "text/plain": [
              "<IPython.core.display.HTML object>"
            ]
          },
          "metadata": {
            "tags": []
          }
        },
        {
          "output_type": "display_data",
          "data": {
            "text/html": [
              "<span style=\"color:cyan\"> |-Trial ID: 9f596f06c84181e2520d92ead8980b9a</span>"
            ],
            "text/plain": [
              "<IPython.core.display.HTML object>"
            ]
          },
          "metadata": {
            "tags": []
          }
        },
        {
          "output_type": "display_data",
          "data": {
            "text/html": [
              "<span style=\"color:cyan\"> |-Score: 0.8912500143051147</span>"
            ],
            "text/plain": [
              "<IPython.core.display.HTML object>"
            ]
          },
          "metadata": {
            "tags": []
          }
        },
        {
          "output_type": "display_data",
          "data": {
            "text/html": [
              "<span style=\"color:cyan\"> |-Best step: 0</span>"
            ],
            "text/plain": [
              "<IPython.core.display.HTML object>"
            ]
          },
          "metadata": {
            "tags": []
          }
        },
        {
          "output_type": "display_data",
          "data": {
            "text/html": [
              "<span style=\"color:#7E57C2\"><h2 style=\"font-size:16px\">Hyperparameters:</h2></span>"
            ],
            "text/plain": [
              "<IPython.core.display.HTML object>"
            ]
          },
          "metadata": {
            "tags": []
          }
        },
        {
          "output_type": "display_data",
          "data": {
            "text/html": [
              "<span style=\"color:cyan\"> |-activation: selu</span>"
            ],
            "text/plain": [
              "<IPython.core.display.HTML object>"
            ]
          },
          "metadata": {
            "tags": []
          }
        },
        {
          "output_type": "display_data",
          "data": {
            "text/html": [
              "<span style=\"color:blue\"> |-optimizer: adam</span>"
            ],
            "text/plain": [
              "<IPython.core.display.HTML object>"
            ]
          },
          "metadata": {
            "tags": []
          }
        },
        {
          "output_type": "display_data",
          "data": {
            "text/html": [
              "<span style=\"color:cyan\"> |-units_hidden: 576</span>"
            ],
            "text/plain": [
              "<IPython.core.display.HTML object>"
            ]
          },
          "metadata": {
            "tags": []
          }
        },
        {
          "output_type": "display_data",
          "data": {
            "text/html": [
              "<span style=\"color:blue\"> |-units_input: 992</span>"
            ],
            "text/plain": [
              "<IPython.core.display.HTML object>"
            ]
          },
          "metadata": {
            "tags": []
          }
        },
        {
          "output_type": "stream",
          "text": [
            "Epoch 1/20\n",
            "188/188 [==============================] - 2s 9ms/step - loss: 0.7357 - accuracy: 0.7404 - val_loss: 0.4971 - val_accuracy: 0.8188\n",
            "Epoch 2/20\n",
            "188/188 [==============================] - 2s 9ms/step - loss: 0.4599 - accuracy: 0.8273 - val_loss: 0.4393 - val_accuracy: 0.8343\n",
            "Epoch 3/20\n",
            "188/188 [==============================] - 2s 9ms/step - loss: 0.3924 - accuracy: 0.8523 - val_loss: 0.4186 - val_accuracy: 0.8414\n",
            "Epoch 4/20\n",
            "188/188 [==============================] - 2s 9ms/step - loss: 0.3540 - accuracy: 0.8662 - val_loss: 0.3665 - val_accuracy: 0.8611\n",
            "Epoch 5/20\n",
            "188/188 [==============================] - 2s 9ms/step - loss: 0.3324 - accuracy: 0.8758 - val_loss: 0.3984 - val_accuracy: 0.8443\n",
            "Epoch 6/20\n",
            "188/188 [==============================] - 2s 9ms/step - loss: 0.3085 - accuracy: 0.8832 - val_loss: 0.3656 - val_accuracy: 0.8668\n",
            "Epoch 7/20\n",
            "188/188 [==============================] - 2s 9ms/step - loss: 0.2938 - accuracy: 0.8885 - val_loss: 0.3505 - val_accuracy: 0.8639\n",
            "Epoch 8/20\n",
            "188/188 [==============================] - 2s 8ms/step - loss: 0.2787 - accuracy: 0.8945 - val_loss: 0.3657 - val_accuracy: 0.8668\n",
            "Epoch 9/20\n",
            "188/188 [==============================] - 2s 8ms/step - loss: 0.2666 - accuracy: 0.8989 - val_loss: 0.4372 - val_accuracy: 0.8281\n",
            "Epoch 10/20\n",
            "188/188 [==============================] - 2s 8ms/step - loss: 0.2577 - accuracy: 0.9029 - val_loss: 0.3406 - val_accuracy: 0.8754\n",
            "Epoch 11/20\n",
            "188/188 [==============================] - 2s 8ms/step - loss: 0.2450 - accuracy: 0.9076 - val_loss: 0.3766 - val_accuracy: 0.8602\n",
            "Epoch 12/20\n",
            "188/188 [==============================] - 1s 8ms/step - loss: 0.2374 - accuracy: 0.9103 - val_loss: 0.3676 - val_accuracy: 0.8628\n",
            "Epoch 13/20\n",
            "188/188 [==============================] - 2s 8ms/step - loss: 0.2304 - accuracy: 0.9131 - val_loss: 0.3242 - val_accuracy: 0.8819\n",
            "Epoch 14/20\n",
            "188/188 [==============================] - 2s 8ms/step - loss: 0.2202 - accuracy: 0.9172 - val_loss: 0.3412 - val_accuracy: 0.8716\n",
            "Epoch 15/20\n",
            "188/188 [==============================] - 2s 8ms/step - loss: 0.2127 - accuracy: 0.9202 - val_loss: 0.3253 - val_accuracy: 0.8814\n",
            "Epoch 16/20\n",
            "188/188 [==============================] - 2s 8ms/step - loss: 0.2037 - accuracy: 0.9231 - val_loss: 0.3109 - val_accuracy: 0.8898\n",
            "Epoch 17/20\n",
            "188/188 [==============================] - 2s 8ms/step - loss: 0.1976 - accuracy: 0.9255 - val_loss: 0.2980 - val_accuracy: 0.8964\n",
            "Epoch 18/20\n",
            "188/188 [==============================] - 1s 8ms/step - loss: 0.1897 - accuracy: 0.9288 - val_loss: 0.3441 - val_accuracy: 0.8798\n",
            "Epoch 19/20\n",
            "188/188 [==============================] - 2s 8ms/step - loss: 0.1837 - accuracy: 0.9315 - val_loss: 0.3199 - val_accuracy: 0.8901\n",
            "Epoch 20/20\n",
            "188/188 [==============================] - 2s 8ms/step - loss: 0.1766 - accuracy: 0.9334 - val_loss: 0.3265 - val_accuracy: 0.8855\n"
          ],
          "name": "stdout"
        },
        {
          "output_type": "display_data",
          "data": {
            "text/html": [
              "<span style=\"color:#4527A0\"><h1 style=\"font-size:18px\">Trial complete</h1></span>"
            ],
            "text/plain": [
              "<IPython.core.display.HTML object>"
            ]
          },
          "metadata": {
            "tags": []
          }
        },
        {
          "output_type": "display_data",
          "data": {
            "text/html": [
              "<span style=\"color:#4527A0\"><h1 style=\"font-size:18px\">Trial summary</h1></span>"
            ],
            "text/plain": [
              "<IPython.core.display.HTML object>"
            ]
          },
          "metadata": {
            "tags": []
          }
        },
        {
          "output_type": "display_data",
          "data": {
            "text/html": [
              "<span style=\"color:cyan\"> |-Trial ID: 3e5e67d276fd4638e6c9e13adc3c353e</span>"
            ],
            "text/plain": [
              "<IPython.core.display.HTML object>"
            ]
          },
          "metadata": {
            "tags": []
          }
        },
        {
          "output_type": "display_data",
          "data": {
            "text/html": [
              "<span style=\"color:cyan\"> |-Score: 0.8964166641235352</span>"
            ],
            "text/plain": [
              "<IPython.core.display.HTML object>"
            ]
          },
          "metadata": {
            "tags": []
          }
        },
        {
          "output_type": "display_data",
          "data": {
            "text/html": [
              "<span style=\"color:cyan\"> |-Best step: 0</span>"
            ],
            "text/plain": [
              "<IPython.core.display.HTML object>"
            ]
          },
          "metadata": {
            "tags": []
          }
        },
        {
          "output_type": "display_data",
          "data": {
            "text/html": [
              "<span style=\"color:#7E57C2\"><h2 style=\"font-size:16px\">Hyperparameters:</h2></span>"
            ],
            "text/plain": [
              "<IPython.core.display.HTML object>"
            ]
          },
          "metadata": {
            "tags": []
          }
        },
        {
          "output_type": "display_data",
          "data": {
            "text/html": [
              "<span style=\"color:cyan\"> |-activation: tanh</span>"
            ],
            "text/plain": [
              "<IPython.core.display.HTML object>"
            ]
          },
          "metadata": {
            "tags": []
          }
        },
        {
          "output_type": "display_data",
          "data": {
            "text/html": [
              "<span style=\"color:blue\"> |-optimizer: rmsprop</span>"
            ],
            "text/plain": [
              "<IPython.core.display.HTML object>"
            ]
          },
          "metadata": {
            "tags": []
          }
        },
        {
          "output_type": "display_data",
          "data": {
            "text/html": [
              "<span style=\"color:cyan\"> |-units_hidden: 288</span>"
            ],
            "text/plain": [
              "<IPython.core.display.HTML object>"
            ]
          },
          "metadata": {
            "tags": []
          }
        },
        {
          "output_type": "display_data",
          "data": {
            "text/html": [
              "<span style=\"color:blue\"> |-units_input: 832</span>"
            ],
            "text/plain": [
              "<IPython.core.display.HTML object>"
            ]
          },
          "metadata": {
            "tags": []
          }
        },
        {
          "output_type": "stream",
          "text": [
            "Epoch 1/20\n",
            "188/188 [==============================] - 1s 8ms/step - loss: 2.2652 - accuracy: 0.2854 - val_loss: 2.2199 - val_accuracy: 0.3909\n",
            "Epoch 2/20\n",
            "188/188 [==============================] - 1s 7ms/step - loss: 2.1785 - accuracy: 0.5050 - val_loss: 2.1325 - val_accuracy: 0.4473\n",
            "Epoch 3/20\n",
            "188/188 [==============================] - 1s 7ms/step - loss: 2.0848 - accuracy: 0.5643 - val_loss: 2.0300 - val_accuracy: 0.5468\n",
            "Epoch 4/20\n",
            "188/188 [==============================] - 1s 7ms/step - loss: 1.9726 - accuracy: 0.5829 - val_loss: 1.9081 - val_accuracy: 0.6386\n",
            "Epoch 5/20\n",
            "188/188 [==============================] - 1s 7ms/step - loss: 1.8425 - accuracy: 0.6101 - val_loss: 1.7702 - val_accuracy: 0.6158\n",
            "Epoch 6/20\n",
            "188/188 [==============================] - 1s 7ms/step - loss: 1.7049 - accuracy: 0.6196 - val_loss: 1.6331 - val_accuracy: 0.6386\n",
            "Epoch 7/20\n",
            "188/188 [==============================] - 1s 7ms/step - loss: 1.5747 - accuracy: 0.6358 - val_loss: 1.5098 - val_accuracy: 0.6342\n",
            "Epoch 8/20\n",
            "188/188 [==============================] - 1s 7ms/step - loss: 1.4610 - accuracy: 0.6518 - val_loss: 1.4049 - val_accuracy: 0.6504\n",
            "Epoch 9/20\n",
            "188/188 [==============================] - 1s 7ms/step - loss: 1.3654 - accuracy: 0.6610 - val_loss: 1.3174 - val_accuracy: 0.6752\n",
            "Epoch 10/20\n",
            "188/188 [==============================] - 1s 7ms/step - loss: 1.2861 - accuracy: 0.6739 - val_loss: 1.2440 - val_accuracy: 0.6814\n",
            "Epoch 11/20\n",
            "188/188 [==============================] - 1s 7ms/step - loss: 1.2196 - accuracy: 0.6800 - val_loss: 1.1827 - val_accuracy: 0.6868\n",
            "Epoch 12/20\n",
            "188/188 [==============================] - 1s 7ms/step - loss: 1.1632 - accuracy: 0.6880 - val_loss: 1.1321 - val_accuracy: 0.6914\n",
            "Epoch 13/20\n",
            "188/188 [==============================] - 1s 7ms/step - loss: 1.1148 - accuracy: 0.6925 - val_loss: 1.0848 - val_accuracy: 0.6906\n",
            "Epoch 14/20\n",
            "188/188 [==============================] - 1s 7ms/step - loss: 1.0725 - accuracy: 0.6975 - val_loss: 1.0447 - val_accuracy: 0.7032\n",
            "Epoch 15/20\n",
            "188/188 [==============================] - 1s 7ms/step - loss: 1.0353 - accuracy: 0.7029 - val_loss: 1.0091 - val_accuracy: 0.7104\n",
            "Epoch 16/20\n",
            "188/188 [==============================] - 1s 7ms/step - loss: 1.0020 - accuracy: 0.7071 - val_loss: 0.9771 - val_accuracy: 0.7141\n",
            "Epoch 17/20\n",
            "188/188 [==============================] - 1s 7ms/step - loss: 0.9718 - accuracy: 0.7100 - val_loss: 0.9485 - val_accuracy: 0.7133\n",
            "Epoch 18/20\n",
            "188/188 [==============================] - 1s 7ms/step - loss: 0.9447 - accuracy: 0.7149 - val_loss: 0.9227 - val_accuracy: 0.7188\n",
            "Epoch 19/20\n",
            "188/188 [==============================] - 1s 7ms/step - loss: 0.9199 - accuracy: 0.7168 - val_loss: 0.8985 - val_accuracy: 0.7262\n",
            "Epoch 20/20\n",
            "188/188 [==============================] - 1s 7ms/step - loss: 0.8972 - accuracy: 0.7218 - val_loss: 0.8768 - val_accuracy: 0.7287\n"
          ],
          "name": "stdout"
        },
        {
          "output_type": "display_data",
          "data": {
            "text/html": [
              "<span style=\"color:#4527A0\"><h1 style=\"font-size:18px\">Trial complete</h1></span>"
            ],
            "text/plain": [
              "<IPython.core.display.HTML object>"
            ]
          },
          "metadata": {
            "tags": []
          }
        },
        {
          "output_type": "display_data",
          "data": {
            "text/html": [
              "<span style=\"color:#4527A0\"><h1 style=\"font-size:18px\">Trial summary</h1></span>"
            ],
            "text/plain": [
              "<IPython.core.display.HTML object>"
            ]
          },
          "metadata": {
            "tags": []
          }
        },
        {
          "output_type": "display_data",
          "data": {
            "text/html": [
              "<span style=\"color:cyan\"> |-Trial ID: ab4a6f5135754654db15a0bef040b6ca</span>"
            ],
            "text/plain": [
              "<IPython.core.display.HTML object>"
            ]
          },
          "metadata": {
            "tags": []
          }
        },
        {
          "output_type": "display_data",
          "data": {
            "text/html": [
              "<span style=\"color:cyan\"> |-Score: 0.7286666631698608</span>"
            ],
            "text/plain": [
              "<IPython.core.display.HTML object>"
            ]
          },
          "metadata": {
            "tags": []
          }
        },
        {
          "output_type": "display_data",
          "data": {
            "text/html": [
              "<span style=\"color:cyan\"> |-Best step: 0</span>"
            ],
            "text/plain": [
              "<IPython.core.display.HTML object>"
            ]
          },
          "metadata": {
            "tags": []
          }
        },
        {
          "output_type": "display_data",
          "data": {
            "text/html": [
              "<span style=\"color:#7E57C2\"><h2 style=\"font-size:16px\">Hyperparameters:</h2></span>"
            ],
            "text/plain": [
              "<IPython.core.display.HTML object>"
            ]
          },
          "metadata": {
            "tags": []
          }
        },
        {
          "output_type": "display_data",
          "data": {
            "text/html": [
              "<span style=\"color:cyan\"> |-activation: sigmoid</span>"
            ],
            "text/plain": [
              "<IPython.core.display.HTML object>"
            ]
          },
          "metadata": {
            "tags": []
          }
        },
        {
          "output_type": "display_data",
          "data": {
            "text/html": [
              "<span style=\"color:blue\"> |-optimizer: SGD</span>"
            ],
            "text/plain": [
              "<IPython.core.display.HTML object>"
            ]
          },
          "metadata": {
            "tags": []
          }
        },
        {
          "output_type": "display_data",
          "data": {
            "text/html": [
              "<span style=\"color:cyan\"> |-units_hidden: 288</span>"
            ],
            "text/plain": [
              "<IPython.core.display.HTML object>"
            ]
          },
          "metadata": {
            "tags": []
          }
        },
        {
          "output_type": "display_data",
          "data": {
            "text/html": [
              "<span style=\"color:blue\"> |-units_input: 736</span>"
            ],
            "text/plain": [
              "<IPython.core.display.HTML object>"
            ]
          },
          "metadata": {
            "tags": []
          }
        },
        {
          "output_type": "stream",
          "text": [
            "Epoch 1/20\n",
            "188/188 [==============================] - 1s 8ms/step - loss: 1.3156 - accuracy: 0.6282 - val_loss: 0.8855 - val_accuracy: 0.7188\n",
            "Epoch 2/20\n",
            "188/188 [==============================] - 1s 7ms/step - loss: 0.7916 - accuracy: 0.7476 - val_loss: 0.7161 - val_accuracy: 0.7564\n",
            "Epoch 3/20\n",
            "188/188 [==============================] - 1s 7ms/step - loss: 0.6735 - accuracy: 0.7850 - val_loss: 0.6296 - val_accuracy: 0.7954\n",
            "Epoch 4/20\n",
            "188/188 [==============================] - 1s 7ms/step - loss: 0.6103 - accuracy: 0.8027 - val_loss: 0.5861 - val_accuracy: 0.8051\n",
            "Epoch 5/20\n",
            "188/188 [==============================] - 1s 7ms/step - loss: 0.5694 - accuracy: 0.8143 - val_loss: 0.5576 - val_accuracy: 0.8158\n",
            "Epoch 6/20\n",
            "188/188 [==============================] - 1s 7ms/step - loss: 0.5408 - accuracy: 0.8223 - val_loss: 0.5364 - val_accuracy: 0.8171\n",
            "Epoch 7/20\n",
            "188/188 [==============================] - 1s 7ms/step - loss: 0.5191 - accuracy: 0.8280 - val_loss: 0.5105 - val_accuracy: 0.8283\n",
            "Epoch 8/20\n",
            "188/188 [==============================] - 1s 7ms/step - loss: 0.5022 - accuracy: 0.8309 - val_loss: 0.5033 - val_accuracy: 0.8273\n",
            "Epoch 9/20\n",
            "188/188 [==============================] - 1s 7ms/step - loss: 0.4883 - accuracy: 0.8361 - val_loss: 0.4872 - val_accuracy: 0.8309\n",
            "Epoch 10/20\n",
            "188/188 [==============================] - 1s 7ms/step - loss: 0.4777 - accuracy: 0.8383 - val_loss: 0.4842 - val_accuracy: 0.8310\n",
            "Epoch 11/20\n",
            "188/188 [==============================] - 1s 7ms/step - loss: 0.4675 - accuracy: 0.8417 - val_loss: 0.4682 - val_accuracy: 0.8367\n",
            "Epoch 12/20\n",
            "188/188 [==============================] - 1s 7ms/step - loss: 0.4585 - accuracy: 0.8444 - val_loss: 0.4605 - val_accuracy: 0.8406\n",
            "Epoch 13/20\n",
            "188/188 [==============================] - 1s 7ms/step - loss: 0.4516 - accuracy: 0.8469 - val_loss: 0.4585 - val_accuracy: 0.8390\n",
            "Epoch 14/20\n",
            "188/188 [==============================] - 1s 7ms/step - loss: 0.4457 - accuracy: 0.8478 - val_loss: 0.4510 - val_accuracy: 0.8431\n",
            "Epoch 15/20\n",
            "188/188 [==============================] - 1s 7ms/step - loss: 0.4393 - accuracy: 0.8501 - val_loss: 0.4512 - val_accuracy: 0.8403\n",
            "Epoch 16/20\n",
            "188/188 [==============================] - 1s 7ms/step - loss: 0.4331 - accuracy: 0.8514 - val_loss: 0.4693 - val_accuracy: 0.8345\n",
            "Epoch 17/20\n",
            "188/188 [==============================] - 1s 7ms/step - loss: 0.4289 - accuracy: 0.8540 - val_loss: 0.4451 - val_accuracy: 0.8410\n",
            "Epoch 18/20\n",
            "188/188 [==============================] - 1s 7ms/step - loss: 0.4238 - accuracy: 0.8551 - val_loss: 0.4365 - val_accuracy: 0.8461\n",
            "Epoch 19/20\n",
            "188/188 [==============================] - 1s 7ms/step - loss: 0.4194 - accuracy: 0.8552 - val_loss: 0.4271 - val_accuracy: 0.8501\n",
            "Epoch 20/20\n",
            "188/188 [==============================] - 1s 7ms/step - loss: 0.4154 - accuracy: 0.8567 - val_loss: 0.4220 - val_accuracy: 0.8517\n"
          ],
          "name": "stdout"
        },
        {
          "output_type": "display_data",
          "data": {
            "text/html": [
              "<span style=\"color:#4527A0\"><h1 style=\"font-size:18px\">Trial complete</h1></span>"
            ],
            "text/plain": [
              "<IPython.core.display.HTML object>"
            ]
          },
          "metadata": {
            "tags": []
          }
        },
        {
          "output_type": "display_data",
          "data": {
            "text/html": [
              "<span style=\"color:#4527A0\"><h1 style=\"font-size:18px\">Trial summary</h1></span>"
            ],
            "text/plain": [
              "<IPython.core.display.HTML object>"
            ]
          },
          "metadata": {
            "tags": []
          }
        },
        {
          "output_type": "display_data",
          "data": {
            "text/html": [
              "<span style=\"color:cyan\"> |-Trial ID: 193fc7c8a289357effe44b1ab842eea8</span>"
            ],
            "text/plain": [
              "<IPython.core.display.HTML object>"
            ]
          },
          "metadata": {
            "tags": []
          }
        },
        {
          "output_type": "display_data",
          "data": {
            "text/html": [
              "<span style=\"color:cyan\"> |-Score: 0.8516666889190674</span>"
            ],
            "text/plain": [
              "<IPython.core.display.HTML object>"
            ]
          },
          "metadata": {
            "tags": []
          }
        },
        {
          "output_type": "display_data",
          "data": {
            "text/html": [
              "<span style=\"color:cyan\"> |-Best step: 0</span>"
            ],
            "text/plain": [
              "<IPython.core.display.HTML object>"
            ]
          },
          "metadata": {
            "tags": []
          }
        },
        {
          "output_type": "display_data",
          "data": {
            "text/html": [
              "<span style=\"color:#7E57C2\"><h2 style=\"font-size:16px\">Hyperparameters:</h2></span>"
            ],
            "text/plain": [
              "<IPython.core.display.HTML object>"
            ]
          },
          "metadata": {
            "tags": []
          }
        },
        {
          "output_type": "display_data",
          "data": {
            "text/html": [
              "<span style=\"color:cyan\"> |-activation: relu</span>"
            ],
            "text/plain": [
              "<IPython.core.display.HTML object>"
            ]
          },
          "metadata": {
            "tags": []
          }
        },
        {
          "output_type": "display_data",
          "data": {
            "text/html": [
              "<span style=\"color:blue\"> |-optimizer: SGD</span>"
            ],
            "text/plain": [
              "<IPython.core.display.HTML object>"
            ]
          },
          "metadata": {
            "tags": []
          }
        },
        {
          "output_type": "display_data",
          "data": {
            "text/html": [
              "<span style=\"color:cyan\"> |-units_hidden: 512</span>"
            ],
            "text/plain": [
              "<IPython.core.display.HTML object>"
            ]
          },
          "metadata": {
            "tags": []
          }
        },
        {
          "output_type": "display_data",
          "data": {
            "text/html": [
              "<span style=\"color:blue\"> |-units_input: 736</span>"
            ],
            "text/plain": [
              "<IPython.core.display.HTML object>"
            ]
          },
          "metadata": {
            "tags": []
          }
        },
        {
          "output_type": "stream",
          "text": [
            "Epoch 1/20\n",
            "188/188 [==============================] - 2s 8ms/step - loss: 0.7155 - accuracy: 0.7464 - val_loss: 0.6426 - val_accuracy: 0.7506\n",
            "Epoch 2/20\n",
            "188/188 [==============================] - 1s 8ms/step - loss: 0.4556 - accuracy: 0.8289 - val_loss: 0.4097 - val_accuracy: 0.8501\n",
            "Epoch 3/20\n",
            "188/188 [==============================] - 1s 8ms/step - loss: 0.3925 - accuracy: 0.8519 - val_loss: 0.4538 - val_accuracy: 0.8328\n",
            "Epoch 4/20\n",
            "188/188 [==============================] - 1s 8ms/step - loss: 0.3543 - accuracy: 0.8672 - val_loss: 0.4064 - val_accuracy: 0.8457\n",
            "Epoch 5/20\n",
            "188/188 [==============================] - 2s 8ms/step - loss: 0.3291 - accuracy: 0.8759 - val_loss: 0.3777 - val_accuracy: 0.8588\n",
            "Epoch 6/20\n",
            "188/188 [==============================] - 2s 8ms/step - loss: 0.3063 - accuracy: 0.8840 - val_loss: 0.3654 - val_accuracy: 0.8589\n",
            "Epoch 7/20\n",
            "188/188 [==============================] - 1s 8ms/step - loss: 0.2922 - accuracy: 0.8899 - val_loss: 0.3715 - val_accuracy: 0.8653\n",
            "Epoch 8/20\n",
            "188/188 [==============================] - 2s 8ms/step - loss: 0.2772 - accuracy: 0.8959 - val_loss: 0.3840 - val_accuracy: 0.8565\n",
            "Epoch 9/20\n",
            "188/188 [==============================] - 2s 8ms/step - loss: 0.2626 - accuracy: 0.9009 - val_loss: 0.3175 - val_accuracy: 0.8835\n",
            "Epoch 10/20\n",
            "188/188 [==============================] - 1s 8ms/step - loss: 0.2544 - accuracy: 0.9031 - val_loss: 0.3223 - val_accuracy: 0.8807\n",
            "Epoch 11/20\n",
            "188/188 [==============================] - 1s 8ms/step - loss: 0.2421 - accuracy: 0.9072 - val_loss: 0.3387 - val_accuracy: 0.8808\n",
            "Epoch 12/20\n",
            "188/188 [==============================] - 1s 8ms/step - loss: 0.2320 - accuracy: 0.9124 - val_loss: 0.3435 - val_accuracy: 0.8762\n",
            "Epoch 13/20\n",
            "188/188 [==============================] - 1s 8ms/step - loss: 0.2223 - accuracy: 0.9165 - val_loss: 0.3457 - val_accuracy: 0.8763\n",
            "Epoch 14/20\n",
            "188/188 [==============================] - 2s 8ms/step - loss: 0.2155 - accuracy: 0.9189 - val_loss: 0.3375 - val_accuracy: 0.8773\n",
            "Epoch 15/20\n",
            "188/188 [==============================] - 1s 8ms/step - loss: 0.2077 - accuracy: 0.9224 - val_loss: 0.3606 - val_accuracy: 0.8735\n",
            "Epoch 16/20\n",
            "188/188 [==============================] - 1s 8ms/step - loss: 0.1964 - accuracy: 0.9264 - val_loss: 0.3054 - val_accuracy: 0.8916\n",
            "Epoch 17/20\n",
            "188/188 [==============================] - 2s 8ms/step - loss: 0.1903 - accuracy: 0.9290 - val_loss: 0.3435 - val_accuracy: 0.8762\n",
            "Epoch 18/20\n",
            "188/188 [==============================] - 1s 8ms/step - loss: 0.1856 - accuracy: 0.9310 - val_loss: 0.3313 - val_accuracy: 0.8892\n",
            "Epoch 19/20\n",
            "188/188 [==============================] - 2s 9ms/step - loss: 0.1766 - accuracy: 0.9333 - val_loss: 0.3231 - val_accuracy: 0.8903\n",
            "Epoch 20/20\n",
            "188/188 [==============================] - 2s 8ms/step - loss: 0.1714 - accuracy: 0.9365 - val_loss: 0.2948 - val_accuracy: 0.8965\n"
          ],
          "name": "stdout"
        },
        {
          "output_type": "display_data",
          "data": {
            "text/html": [
              "<span style=\"color:#4527A0\"><h1 style=\"font-size:18px\">Trial complete</h1></span>"
            ],
            "text/plain": [
              "<IPython.core.display.HTML object>"
            ]
          },
          "metadata": {
            "tags": []
          }
        },
        {
          "output_type": "display_data",
          "data": {
            "text/html": [
              "<span style=\"color:#4527A0\"><h1 style=\"font-size:18px\">Trial summary</h1></span>"
            ],
            "text/plain": [
              "<IPython.core.display.HTML object>"
            ]
          },
          "metadata": {
            "tags": []
          }
        },
        {
          "output_type": "display_data",
          "data": {
            "text/html": [
              "<span style=\"color:cyan\"> |-Trial ID: 9cf3bd65893e79314257642dc4e087eb</span>"
            ],
            "text/plain": [
              "<IPython.core.display.HTML object>"
            ]
          },
          "metadata": {
            "tags": []
          }
        },
        {
          "output_type": "display_data",
          "data": {
            "text/html": [
              "<span style=\"color:cyan\"> |-Score: 0.8964999914169312</span>"
            ],
            "text/plain": [
              "<IPython.core.display.HTML object>"
            ]
          },
          "metadata": {
            "tags": []
          }
        },
        {
          "output_type": "display_data",
          "data": {
            "text/html": [
              "<span style=\"color:cyan\"> |-Best step: 0</span>"
            ],
            "text/plain": [
              "<IPython.core.display.HTML object>"
            ]
          },
          "metadata": {
            "tags": []
          }
        },
        {
          "output_type": "display_data",
          "data": {
            "text/html": [
              "<span style=\"color:#7E57C2\"><h2 style=\"font-size:16px\">Hyperparameters:</h2></span>"
            ],
            "text/plain": [
              "<IPython.core.display.HTML object>"
            ]
          },
          "metadata": {
            "tags": []
          }
        },
        {
          "output_type": "display_data",
          "data": {
            "text/html": [
              "<span style=\"color:cyan\"> |-activation: tanh</span>"
            ],
            "text/plain": [
              "<IPython.core.display.HTML object>"
            ]
          },
          "metadata": {
            "tags": []
          }
        },
        {
          "output_type": "display_data",
          "data": {
            "text/html": [
              "<span style=\"color:blue\"> |-optimizer: rmsprop</span>"
            ],
            "text/plain": [
              "<IPython.core.display.HTML object>"
            ]
          },
          "metadata": {
            "tags": []
          }
        },
        {
          "output_type": "display_data",
          "data": {
            "text/html": [
              "<span style=\"color:cyan\"> |-units_hidden: 256</span>"
            ],
            "text/plain": [
              "<IPython.core.display.HTML object>"
            ]
          },
          "metadata": {
            "tags": []
          }
        },
        {
          "output_type": "display_data",
          "data": {
            "text/html": [
              "<span style=\"color:blue\"> |-units_input: 672</span>"
            ],
            "text/plain": [
              "<IPython.core.display.HTML object>"
            ]
          },
          "metadata": {
            "tags": []
          }
        },
        {
          "output_type": "stream",
          "text": [
            "Epoch 1/20\n",
            "188/188 [==============================] - 1s 8ms/step - loss: 0.8054 - accuracy: 0.7286 - val_loss: 0.5208 - val_accuracy: 0.8115\n",
            "Epoch 2/20\n",
            "188/188 [==============================] - 1s 7ms/step - loss: 0.4850 - accuracy: 0.8232 - val_loss: 0.4495 - val_accuracy: 0.8338\n",
            "Epoch 3/20\n",
            "188/188 [==============================] - 1s 7ms/step - loss: 0.4305 - accuracy: 0.8439 - val_loss: 0.4380 - val_accuracy: 0.8378\n",
            "Epoch 4/20\n",
            "188/188 [==============================] - 1s 7ms/step - loss: 0.4010 - accuracy: 0.8527 - val_loss: 0.4016 - val_accuracy: 0.8505\n",
            "Epoch 5/20\n",
            "188/188 [==============================] - 1s 7ms/step - loss: 0.3810 - accuracy: 0.8606 - val_loss: 0.4216 - val_accuracy: 0.8436\n",
            "Epoch 6/20\n",
            "188/188 [==============================] - 1s 7ms/step - loss: 0.3642 - accuracy: 0.8671 - val_loss: 0.3895 - val_accuracy: 0.8524\n",
            "Epoch 7/20\n",
            "188/188 [==============================] - 1s 7ms/step - loss: 0.3493 - accuracy: 0.8726 - val_loss: 0.3820 - val_accuracy: 0.8644\n",
            "Epoch 8/20\n",
            "188/188 [==============================] - 1s 7ms/step - loss: 0.3358 - accuracy: 0.8772 - val_loss: 0.3729 - val_accuracy: 0.8669\n",
            "Epoch 9/20\n",
            "188/188 [==============================] - 1s 7ms/step - loss: 0.3261 - accuracy: 0.8799 - val_loss: 0.3601 - val_accuracy: 0.8702\n",
            "Epoch 10/20\n",
            "188/188 [==============================] - 1s 7ms/step - loss: 0.3167 - accuracy: 0.8846 - val_loss: 0.3649 - val_accuracy: 0.8687\n",
            "Epoch 11/20\n",
            "188/188 [==============================] - 1s 7ms/step - loss: 0.3079 - accuracy: 0.8872 - val_loss: 0.3694 - val_accuracy: 0.8652\n",
            "Epoch 12/20\n",
            "188/188 [==============================] - 1s 7ms/step - loss: 0.2987 - accuracy: 0.8900 - val_loss: 0.3292 - val_accuracy: 0.8798\n",
            "Epoch 13/20\n",
            "188/188 [==============================] - 1s 7ms/step - loss: 0.2913 - accuracy: 0.8911 - val_loss: 0.3276 - val_accuracy: 0.8811\n",
            "Epoch 14/20\n",
            "188/188 [==============================] - 1s 7ms/step - loss: 0.2833 - accuracy: 0.8941 - val_loss: 0.3395 - val_accuracy: 0.8769\n",
            "Epoch 15/20\n",
            "188/188 [==============================] - 1s 7ms/step - loss: 0.2751 - accuracy: 0.8993 - val_loss: 0.3277 - val_accuracy: 0.8798\n",
            "Epoch 16/20\n",
            "188/188 [==============================] - 1s 7ms/step - loss: 0.2676 - accuracy: 0.9012 - val_loss: 0.3242 - val_accuracy: 0.8808\n",
            "Epoch 17/20\n",
            "188/188 [==============================] - 1s 7ms/step - loss: 0.2623 - accuracy: 0.9020 - val_loss: 0.3502 - val_accuracy: 0.8721\n",
            "Epoch 18/20\n",
            "188/188 [==============================] - 1s 7ms/step - loss: 0.2577 - accuracy: 0.9036 - val_loss: 0.3686 - val_accuracy: 0.8661\n",
            "Epoch 19/20\n",
            "188/188 [==============================] - 1s 7ms/step - loss: 0.2512 - accuracy: 0.9063 - val_loss: 0.3427 - val_accuracy: 0.8773\n",
            "Epoch 20/20\n",
            "188/188 [==============================] - 1s 7ms/step - loss: 0.2443 - accuracy: 0.9079 - val_loss: 0.3168 - val_accuracy: 0.8859\n"
          ],
          "name": "stdout"
        },
        {
          "output_type": "display_data",
          "data": {
            "text/html": [
              "<span style=\"color:#4527A0\"><h1 style=\"font-size:18px\">Trial complete</h1></span>"
            ],
            "text/plain": [
              "<IPython.core.display.HTML object>"
            ]
          },
          "metadata": {
            "tags": []
          }
        },
        {
          "output_type": "display_data",
          "data": {
            "text/html": [
              "<span style=\"color:#4527A0\"><h1 style=\"font-size:18px\">Trial summary</h1></span>"
            ],
            "text/plain": [
              "<IPython.core.display.HTML object>"
            ]
          },
          "metadata": {
            "tags": []
          }
        },
        {
          "output_type": "display_data",
          "data": {
            "text/html": [
              "<span style=\"color:cyan\"> |-Trial ID: 4beb5e1ac4dd6f89175e77e357ff7f9d</span>"
            ],
            "text/plain": [
              "<IPython.core.display.HTML object>"
            ]
          },
          "metadata": {
            "tags": []
          }
        },
        {
          "output_type": "display_data",
          "data": {
            "text/html": [
              "<span style=\"color:cyan\"> |-Score: 0.8859166502952576</span>"
            ],
            "text/plain": [
              "<IPython.core.display.HTML object>"
            ]
          },
          "metadata": {
            "tags": []
          }
        },
        {
          "output_type": "display_data",
          "data": {
            "text/html": [
              "<span style=\"color:cyan\"> |-Best step: 0</span>"
            ],
            "text/plain": [
              "<IPython.core.display.HTML object>"
            ]
          },
          "metadata": {
            "tags": []
          }
        },
        {
          "output_type": "display_data",
          "data": {
            "text/html": [
              "<span style=\"color:#7E57C2\"><h2 style=\"font-size:16px\">Hyperparameters:</h2></span>"
            ],
            "text/plain": [
              "<IPython.core.display.HTML object>"
            ]
          },
          "metadata": {
            "tags": []
          }
        },
        {
          "output_type": "display_data",
          "data": {
            "text/html": [
              "<span style=\"color:cyan\"> |-activation: sigmoid</span>"
            ],
            "text/plain": [
              "<IPython.core.display.HTML object>"
            ]
          },
          "metadata": {
            "tags": []
          }
        },
        {
          "output_type": "display_data",
          "data": {
            "text/html": [
              "<span style=\"color:blue\"> |-optimizer: rmsprop</span>"
            ],
            "text/plain": [
              "<IPython.core.display.HTML object>"
            ]
          },
          "metadata": {
            "tags": []
          }
        },
        {
          "output_type": "display_data",
          "data": {
            "text/html": [
              "<span style=\"color:cyan\"> |-units_hidden: 160</span>"
            ],
            "text/plain": [
              "<IPython.core.display.HTML object>"
            ]
          },
          "metadata": {
            "tags": []
          }
        },
        {
          "output_type": "display_data",
          "data": {
            "text/html": [
              "<span style=\"color:blue\"> |-units_input: 512</span>"
            ],
            "text/plain": [
              "<IPython.core.display.HTML object>"
            ]
          },
          "metadata": {
            "tags": []
          }
        },
        {
          "output_type": "stream",
          "text": [
            "Epoch 1/20\n",
            "188/188 [==============================] - 2s 8ms/step - loss: 0.6341 - accuracy: 0.7967 - val_loss: 0.4543 - val_accuracy: 0.8341\n",
            "Epoch 2/20\n",
            "188/188 [==============================] - 1s 7ms/step - loss: 0.4062 - accuracy: 0.8534 - val_loss: 0.4444 - val_accuracy: 0.8408\n",
            "Epoch 3/20\n",
            "188/188 [==============================] - 1s 7ms/step - loss: 0.3668 - accuracy: 0.8655 - val_loss: 0.3786 - val_accuracy: 0.8615\n",
            "Epoch 4/20\n",
            "188/188 [==============================] - 1s 7ms/step - loss: 0.3417 - accuracy: 0.8743 - val_loss: 0.3885 - val_accuracy: 0.8547\n",
            "Epoch 5/20\n",
            "188/188 [==============================] - 1s 7ms/step - loss: 0.3175 - accuracy: 0.8839 - val_loss: 0.3570 - val_accuracy: 0.8724\n",
            "Epoch 6/20\n",
            "188/188 [==============================] - 1s 7ms/step - loss: 0.3033 - accuracy: 0.8884 - val_loss: 0.3829 - val_accuracy: 0.8652\n",
            "Epoch 7/20\n",
            "188/188 [==============================] - 1s 7ms/step - loss: 0.2895 - accuracy: 0.8929 - val_loss: 0.3426 - val_accuracy: 0.8752\n",
            "Epoch 8/20\n",
            "188/188 [==============================] - 1s 7ms/step - loss: 0.2758 - accuracy: 0.8964 - val_loss: 0.3199 - val_accuracy: 0.8829\n",
            "Epoch 9/20\n",
            "188/188 [==============================] - 1s 8ms/step - loss: 0.2600 - accuracy: 0.9038 - val_loss: 0.3312 - val_accuracy: 0.8802\n",
            "Epoch 10/20\n",
            "188/188 [==============================] - 1s 7ms/step - loss: 0.2483 - accuracy: 0.9072 - val_loss: 0.3277 - val_accuracy: 0.8847\n",
            "Epoch 11/20\n",
            "188/188 [==============================] - 1s 7ms/step - loss: 0.2383 - accuracy: 0.9122 - val_loss: 0.3194 - val_accuracy: 0.8876\n",
            "Epoch 12/20\n",
            "188/188 [==============================] - 1s 7ms/step - loss: 0.2365 - accuracy: 0.9107 - val_loss: 0.3301 - val_accuracy: 0.8838\n",
            "Epoch 13/20\n",
            "188/188 [==============================] - 1s 7ms/step - loss: 0.2281 - accuracy: 0.9141 - val_loss: 0.3577 - val_accuracy: 0.8733\n",
            "Epoch 14/20\n",
            "188/188 [==============================] - 1s 7ms/step - loss: 0.2188 - accuracy: 0.9178 - val_loss: 0.3410 - val_accuracy: 0.8776\n",
            "Epoch 15/20\n",
            "188/188 [==============================] - 1s 7ms/step - loss: 0.2128 - accuracy: 0.9212 - val_loss: 0.3514 - val_accuracy: 0.8836\n",
            "Epoch 16/20\n",
            "188/188 [==============================] - 1s 8ms/step - loss: 0.2047 - accuracy: 0.9229 - val_loss: 0.3192 - val_accuracy: 0.8923\n",
            "Epoch 17/20\n",
            "188/188 [==============================] - 1s 7ms/step - loss: 0.2022 - accuracy: 0.9234 - val_loss: 0.3214 - val_accuracy: 0.8917\n",
            "Epoch 18/20\n",
            "188/188 [==============================] - 1s 7ms/step - loss: 0.1976 - accuracy: 0.9250 - val_loss: 0.3335 - val_accuracy: 0.8852\n",
            "Epoch 19/20\n",
            "188/188 [==============================] - 1s 7ms/step - loss: 0.1868 - accuracy: 0.9290 - val_loss: 0.3317 - val_accuracy: 0.8877\n",
            "Epoch 20/20\n",
            "188/188 [==============================] - 1s 7ms/step - loss: 0.1821 - accuracy: 0.9306 - val_loss: 0.3385 - val_accuracy: 0.8921\n"
          ],
          "name": "stdout"
        },
        {
          "output_type": "display_data",
          "data": {
            "text/html": [
              "<span style=\"color:#4527A0\"><h1 style=\"font-size:18px\">Trial complete</h1></span>"
            ],
            "text/plain": [
              "<IPython.core.display.HTML object>"
            ]
          },
          "metadata": {
            "tags": []
          }
        },
        {
          "output_type": "display_data",
          "data": {
            "text/html": [
              "<span style=\"color:#4527A0\"><h1 style=\"font-size:18px\">Trial summary</h1></span>"
            ],
            "text/plain": [
              "<IPython.core.display.HTML object>"
            ]
          },
          "metadata": {
            "tags": []
          }
        },
        {
          "output_type": "display_data",
          "data": {
            "text/html": [
              "<span style=\"color:cyan\"> |-Trial ID: 0a1b103c2be38990e53b1ab49d3e3844</span>"
            ],
            "text/plain": [
              "<IPython.core.display.HTML object>"
            ]
          },
          "metadata": {
            "tags": []
          }
        },
        {
          "output_type": "display_data",
          "data": {
            "text/html": [
              "<span style=\"color:cyan\"> |-Score: 0.8923333287239075</span>"
            ],
            "text/plain": [
              "<IPython.core.display.HTML object>"
            ]
          },
          "metadata": {
            "tags": []
          }
        },
        {
          "output_type": "display_data",
          "data": {
            "text/html": [
              "<span style=\"color:cyan\"> |-Best step: 0</span>"
            ],
            "text/plain": [
              "<IPython.core.display.HTML object>"
            ]
          },
          "metadata": {
            "tags": []
          }
        },
        {
          "output_type": "display_data",
          "data": {
            "text/html": [
              "<span style=\"color:#7E57C2\"><h2 style=\"font-size:16px\">Hyperparameters:</h2></span>"
            ],
            "text/plain": [
              "<IPython.core.display.HTML object>"
            ]
          },
          "metadata": {
            "tags": []
          }
        },
        {
          "output_type": "display_data",
          "data": {
            "text/html": [
              "<span style=\"color:cyan\"> |-activation: selu</span>"
            ],
            "text/plain": [
              "<IPython.core.display.HTML object>"
            ]
          },
          "metadata": {
            "tags": []
          }
        },
        {
          "output_type": "display_data",
          "data": {
            "text/html": [
              "<span style=\"color:blue\"> |-optimizer: adam</span>"
            ],
            "text/plain": [
              "<IPython.core.display.HTML object>"
            ]
          },
          "metadata": {
            "tags": []
          }
        },
        {
          "output_type": "display_data",
          "data": {
            "text/html": [
              "<span style=\"color:cyan\"> |-units_hidden: 256</span>"
            ],
            "text/plain": [
              "<IPython.core.display.HTML object>"
            ]
          },
          "metadata": {
            "tags": []
          }
        },
        {
          "output_type": "display_data",
          "data": {
            "text/html": [
              "<span style=\"color:blue\"> |-units_input: 864</span>"
            ],
            "text/plain": [
              "<IPython.core.display.HTML object>"
            ]
          },
          "metadata": {
            "tags": []
          }
        },
        {
          "output_type": "stream",
          "text": [
            "Epoch 1/20\n",
            "188/188 [==============================] - 2s 9ms/step - loss: 0.6518 - accuracy: 0.7668 - val_loss: 0.5338 - val_accuracy: 0.7988\n",
            "Epoch 2/20\n",
            "188/188 [==============================] - 2s 8ms/step - loss: 0.4169 - accuracy: 0.8465 - val_loss: 0.4632 - val_accuracy: 0.8239\n",
            "Epoch 3/20\n",
            "188/188 [==============================] - 2s 8ms/step - loss: 0.3616 - accuracy: 0.8656 - val_loss: 0.3945 - val_accuracy: 0.8533\n",
            "Epoch 4/20\n",
            "188/188 [==============================] - 2s 8ms/step - loss: 0.3276 - accuracy: 0.8764 - val_loss: 0.4280 - val_accuracy: 0.8532\n",
            "Epoch 5/20\n",
            "188/188 [==============================] - 2s 8ms/step - loss: 0.3036 - accuracy: 0.8858 - val_loss: 0.3836 - val_accuracy: 0.8664\n",
            "Epoch 6/20\n",
            "188/188 [==============================] - 1s 8ms/step - loss: 0.2852 - accuracy: 0.8928 - val_loss: 0.3724 - val_accuracy: 0.8649\n",
            "Epoch 7/20\n",
            "188/188 [==============================] - 2s 8ms/step - loss: 0.2705 - accuracy: 0.8969 - val_loss: 0.3684 - val_accuracy: 0.8693\n",
            "Epoch 8/20\n",
            "188/188 [==============================] - 2s 9ms/step - loss: 0.2547 - accuracy: 0.9025 - val_loss: 0.3513 - val_accuracy: 0.8765\n",
            "Epoch 9/20\n",
            "188/188 [==============================] - 2s 9ms/step - loss: 0.2474 - accuracy: 0.9064 - val_loss: 0.3252 - val_accuracy: 0.8919\n",
            "Epoch 10/20\n",
            "188/188 [==============================] - 2s 9ms/step - loss: 0.2331 - accuracy: 0.9112 - val_loss: 0.3630 - val_accuracy: 0.8810\n",
            "Epoch 11/20\n",
            "188/188 [==============================] - 2s 8ms/step - loss: 0.2250 - accuracy: 0.9136 - val_loss: 0.3704 - val_accuracy: 0.8887\n",
            "Epoch 12/20\n",
            "188/188 [==============================] - 2s 9ms/step - loss: 0.2134 - accuracy: 0.9186 - val_loss: 0.3630 - val_accuracy: 0.8908\n",
            "Epoch 13/20\n",
            "188/188 [==============================] - 2s 9ms/step - loss: 0.2082 - accuracy: 0.9213 - val_loss: 0.3804 - val_accuracy: 0.8832\n",
            "Epoch 14/20\n",
            "188/188 [==============================] - 2s 9ms/step - loss: 0.1988 - accuracy: 0.9236 - val_loss: 0.3617 - val_accuracy: 0.8863\n",
            "Epoch 15/20\n",
            "188/188 [==============================] - 2s 10ms/step - loss: 0.1918 - accuracy: 0.9269 - val_loss: 0.3764 - val_accuracy: 0.8892\n",
            "Epoch 16/20\n",
            "188/188 [==============================] - 2s 9ms/step - loss: 0.1898 - accuracy: 0.9278 - val_loss: 0.4024 - val_accuracy: 0.8907\n",
            "Epoch 17/20\n",
            "188/188 [==============================] - 2s 9ms/step - loss: 0.1823 - accuracy: 0.9308 - val_loss: 0.4092 - val_accuracy: 0.8905\n",
            "Epoch 18/20\n",
            "188/188 [==============================] - 2s 8ms/step - loss: 0.1780 - accuracy: 0.9330 - val_loss: 0.4381 - val_accuracy: 0.8787\n",
            "Epoch 19/20\n",
            "188/188 [==============================] - 2s 8ms/step - loss: 0.1721 - accuracy: 0.9357 - val_loss: 0.4041 - val_accuracy: 0.8904\n",
            "Epoch 20/20\n",
            "188/188 [==============================] - 2s 9ms/step - loss: 0.1646 - accuracy: 0.9379 - val_loss: 0.4324 - val_accuracy: 0.8881\n"
          ],
          "name": "stdout"
        },
        {
          "output_type": "display_data",
          "data": {
            "text/html": [
              "<span style=\"color:#4527A0\"><h1 style=\"font-size:18px\">Trial complete</h1></span>"
            ],
            "text/plain": [
              "<IPython.core.display.HTML object>"
            ]
          },
          "metadata": {
            "tags": []
          }
        },
        {
          "output_type": "display_data",
          "data": {
            "text/html": [
              "<span style=\"color:#4527A0\"><h1 style=\"font-size:18px\">Trial summary</h1></span>"
            ],
            "text/plain": [
              "<IPython.core.display.HTML object>"
            ]
          },
          "metadata": {
            "tags": []
          }
        },
        {
          "output_type": "display_data",
          "data": {
            "text/html": [
              "<span style=\"color:cyan\"> |-Trial ID: f0f43f7f808e14ded80d561aee2604a0</span>"
            ],
            "text/plain": [
              "<IPython.core.display.HTML object>"
            ]
          },
          "metadata": {
            "tags": []
          }
        },
        {
          "output_type": "display_data",
          "data": {
            "text/html": [
              "<span style=\"color:cyan\"> |-Score: 0.8919166922569275</span>"
            ],
            "text/plain": [
              "<IPython.core.display.HTML object>"
            ]
          },
          "metadata": {
            "tags": []
          }
        },
        {
          "output_type": "display_data",
          "data": {
            "text/html": [
              "<span style=\"color:cyan\"> |-Best step: 0</span>"
            ],
            "text/plain": [
              "<IPython.core.display.HTML object>"
            ]
          },
          "metadata": {
            "tags": []
          }
        },
        {
          "output_type": "display_data",
          "data": {
            "text/html": [
              "<span style=\"color:#7E57C2\"><h2 style=\"font-size:16px\">Hyperparameters:</h2></span>"
            ],
            "text/plain": [
              "<IPython.core.display.HTML object>"
            ]
          },
          "metadata": {
            "tags": []
          }
        },
        {
          "output_type": "display_data",
          "data": {
            "text/html": [
              "<span style=\"color:cyan\"> |-activation: relu</span>"
            ],
            "text/plain": [
              "<IPython.core.display.HTML object>"
            ]
          },
          "metadata": {
            "tags": []
          }
        },
        {
          "output_type": "display_data",
          "data": {
            "text/html": [
              "<span style=\"color:blue\"> |-optimizer: rmsprop</span>"
            ],
            "text/plain": [
              "<IPython.core.display.HTML object>"
            ]
          },
          "metadata": {
            "tags": []
          }
        },
        {
          "output_type": "display_data",
          "data": {
            "text/html": [
              "<span style=\"color:cyan\"> |-units_hidden: 576</span>"
            ],
            "text/plain": [
              "<IPython.core.display.HTML object>"
            ]
          },
          "metadata": {
            "tags": []
          }
        },
        {
          "output_type": "display_data",
          "data": {
            "text/html": [
              "<span style=\"color:blue\"> |-units_input: 736</span>"
            ],
            "text/plain": [
              "<IPython.core.display.HTML object>"
            ]
          },
          "metadata": {
            "tags": []
          }
        },
        {
          "output_type": "stream",
          "text": [
            "Epoch 1/20\n",
            "188/188 [==============================] - 1s 8ms/step - loss: 0.9381 - accuracy: 0.7206 - val_loss: 0.6612 - val_accuracy: 0.7563\n",
            "Epoch 2/20\n",
            "188/188 [==============================] - 1s 7ms/step - loss: 0.5283 - accuracy: 0.8072 - val_loss: 0.6698 - val_accuracy: 0.7620\n",
            "Epoch 3/20\n",
            "188/188 [==============================] - 1s 7ms/step - loss: 0.4401 - accuracy: 0.8359 - val_loss: 0.4028 - val_accuracy: 0.8496\n",
            "Epoch 4/20\n",
            "188/188 [==============================] - 1s 7ms/step - loss: 0.3913 - accuracy: 0.8524 - val_loss: 0.5828 - val_accuracy: 0.7704\n",
            "Epoch 5/20\n",
            "188/188 [==============================] - 1s 8ms/step - loss: 0.3608 - accuracy: 0.8637 - val_loss: 0.4667 - val_accuracy: 0.8386\n",
            "Epoch 6/20\n",
            "188/188 [==============================] - 1s 7ms/step - loss: 0.3333 - accuracy: 0.8750 - val_loss: 0.5046 - val_accuracy: 0.8094\n",
            "Epoch 7/20\n",
            "188/188 [==============================] - 1s 8ms/step - loss: 0.3131 - accuracy: 0.8815 - val_loss: 0.3996 - val_accuracy: 0.8502\n",
            "Epoch 8/20\n",
            "188/188 [==============================] - 1s 8ms/step - loss: 0.2997 - accuracy: 0.8863 - val_loss: 0.3387 - val_accuracy: 0.8776\n",
            "Epoch 9/20\n",
            "188/188 [==============================] - 1s 7ms/step - loss: 0.2860 - accuracy: 0.8922 - val_loss: 0.3870 - val_accuracy: 0.8566\n",
            "Epoch 10/20\n",
            "188/188 [==============================] - 1s 7ms/step - loss: 0.2738 - accuracy: 0.8959 - val_loss: 0.3514 - val_accuracy: 0.8752\n",
            "Epoch 11/20\n",
            "188/188 [==============================] - 1s 7ms/step - loss: 0.2616 - accuracy: 0.8995 - val_loss: 0.3955 - val_accuracy: 0.8612\n",
            "Epoch 12/20\n",
            "188/188 [==============================] - 1s 7ms/step - loss: 0.2524 - accuracy: 0.9026 - val_loss: 0.3638 - val_accuracy: 0.8700\n",
            "Epoch 13/20\n",
            "188/188 [==============================] - 1s 7ms/step - loss: 0.2417 - accuracy: 0.9075 - val_loss: 0.3365 - val_accuracy: 0.8843\n",
            "Epoch 14/20\n",
            "188/188 [==============================] - 1s 7ms/step - loss: 0.2333 - accuracy: 0.9119 - val_loss: 0.3783 - val_accuracy: 0.8759\n",
            "Epoch 15/20\n",
            "188/188 [==============================] - 1s 7ms/step - loss: 0.2256 - accuracy: 0.9139 - val_loss: 0.3754 - val_accuracy: 0.8750\n",
            "Epoch 16/20\n",
            "188/188 [==============================] - 1s 7ms/step - loss: 0.2186 - accuracy: 0.9175 - val_loss: 0.3471 - val_accuracy: 0.8795\n",
            "Epoch 17/20\n",
            "188/188 [==============================] - 1s 8ms/step - loss: 0.2113 - accuracy: 0.9197 - val_loss: 0.3925 - val_accuracy: 0.8580\n",
            "Epoch 18/20\n",
            "188/188 [==============================] - 1s 7ms/step - loss: 0.2064 - accuracy: 0.9208 - val_loss: 0.3804 - val_accuracy: 0.8703\n",
            "Epoch 19/20\n",
            "188/188 [==============================] - 1s 7ms/step - loss: 0.1978 - accuracy: 0.9247 - val_loss: 0.4404 - val_accuracy: 0.8643\n",
            "Epoch 20/20\n",
            "188/188 [==============================] - 1s 8ms/step - loss: 0.1929 - accuracy: 0.9266 - val_loss: 0.3914 - val_accuracy: 0.8722\n"
          ],
          "name": "stdout"
        },
        {
          "output_type": "display_data",
          "data": {
            "text/html": [
              "<span style=\"color:#4527A0\"><h1 style=\"font-size:18px\">Trial complete</h1></span>"
            ],
            "text/plain": [
              "<IPython.core.display.HTML object>"
            ]
          },
          "metadata": {
            "tags": []
          }
        },
        {
          "output_type": "display_data",
          "data": {
            "text/html": [
              "<span style=\"color:#4527A0\"><h1 style=\"font-size:18px\">Trial summary</h1></span>"
            ],
            "text/plain": [
              "<IPython.core.display.HTML object>"
            ]
          },
          "metadata": {
            "tags": []
          }
        },
        {
          "output_type": "display_data",
          "data": {
            "text/html": [
              "<span style=\"color:cyan\"> |-Trial ID: a886c58de19a485d71985ff5d9eb0e69</span>"
            ],
            "text/plain": [
              "<IPython.core.display.HTML object>"
            ]
          },
          "metadata": {
            "tags": []
          }
        },
        {
          "output_type": "display_data",
          "data": {
            "text/html": [
              "<span style=\"color:cyan\"> |-Score: 0.8843333125114441</span>"
            ],
            "text/plain": [
              "<IPython.core.display.HTML object>"
            ]
          },
          "metadata": {
            "tags": []
          }
        },
        {
          "output_type": "display_data",
          "data": {
            "text/html": [
              "<span style=\"color:cyan\"> |-Best step: 0</span>"
            ],
            "text/plain": [
              "<IPython.core.display.HTML object>"
            ]
          },
          "metadata": {
            "tags": []
          }
        },
        {
          "output_type": "display_data",
          "data": {
            "text/html": [
              "<span style=\"color:#7E57C2\"><h2 style=\"font-size:16px\">Hyperparameters:</h2></span>"
            ],
            "text/plain": [
              "<IPython.core.display.HTML object>"
            ]
          },
          "metadata": {
            "tags": []
          }
        },
        {
          "output_type": "display_data",
          "data": {
            "text/html": [
              "<span style=\"color:cyan\"> |-activation: selu</span>"
            ],
            "text/plain": [
              "<IPython.core.display.HTML object>"
            ]
          },
          "metadata": {
            "tags": []
          }
        },
        {
          "output_type": "display_data",
          "data": {
            "text/html": [
              "<span style=\"color:blue\"> |-optimizer: rmsprop</span>"
            ],
            "text/plain": [
              "<IPython.core.display.HTML object>"
            ]
          },
          "metadata": {
            "tags": []
          }
        },
        {
          "output_type": "display_data",
          "data": {
            "text/html": [
              "<span style=\"color:cyan\"> |-units_hidden: 256</span>"
            ],
            "text/plain": [
              "<IPython.core.display.HTML object>"
            ]
          },
          "metadata": {
            "tags": []
          }
        },
        {
          "output_type": "display_data",
          "data": {
            "text/html": [
              "<span style=\"color:blue\"> |-units_input: 544</span>"
            ],
            "text/plain": [
              "<IPython.core.display.HTML object>"
            ]
          },
          "metadata": {
            "tags": []
          }
        },
        {
          "output_type": "stream",
          "text": [
            "Epoch 1/20\n",
            "188/188 [==============================] - 2s 9ms/step - loss: 1.2873 - accuracy: 0.6872 - val_loss: 0.8002 - val_accuracy: 0.7372\n",
            "Epoch 2/20\n",
            "188/188 [==============================] - 2s 8ms/step - loss: 0.6394 - accuracy: 0.7842 - val_loss: 0.6668 - val_accuracy: 0.7480\n",
            "Epoch 3/20\n",
            "188/188 [==============================] - 2s 8ms/step - loss: 0.5124 - accuracy: 0.8158 - val_loss: 0.4225 - val_accuracy: 0.8497\n",
            "Epoch 4/20\n",
            "188/188 [==============================] - 2s 8ms/step - loss: 0.4311 - accuracy: 0.8412 - val_loss: 0.4486 - val_accuracy: 0.8388\n",
            "Epoch 5/20\n",
            "188/188 [==============================] - 2s 8ms/step - loss: 0.3953 - accuracy: 0.8524 - val_loss: 0.5556 - val_accuracy: 0.8033\n",
            "Epoch 6/20\n",
            "188/188 [==============================] - 2s 8ms/step - loss: 0.3613 - accuracy: 0.8658 - val_loss: 0.3428 - val_accuracy: 0.8785\n",
            "Epoch 7/20\n",
            "188/188 [==============================] - 2s 8ms/step - loss: 0.3379 - accuracy: 0.8735 - val_loss: 0.4853 - val_accuracy: 0.8106\n",
            "Epoch 8/20\n",
            "188/188 [==============================] - 2s 8ms/step - loss: 0.3211 - accuracy: 0.8798 - val_loss: 0.3752 - val_accuracy: 0.8682\n",
            "Epoch 9/20\n",
            "188/188 [==============================] - 2s 8ms/step - loss: 0.3035 - accuracy: 0.8851 - val_loss: 0.3714 - val_accuracy: 0.8701\n",
            "Epoch 10/20\n",
            "188/188 [==============================] - 2s 8ms/step - loss: 0.2898 - accuracy: 0.8893 - val_loss: 0.3398 - val_accuracy: 0.8816\n",
            "Epoch 11/20\n",
            "188/188 [==============================] - 2s 8ms/step - loss: 0.2799 - accuracy: 0.8937 - val_loss: 0.3242 - val_accuracy: 0.8862\n",
            "Epoch 12/20\n",
            "188/188 [==============================] - 2s 8ms/step - loss: 0.2651 - accuracy: 0.8988 - val_loss: 0.4191 - val_accuracy: 0.8569\n",
            "Epoch 13/20\n",
            "188/188 [==============================] - 2s 8ms/step - loss: 0.2568 - accuracy: 0.9017 - val_loss: 0.3694 - val_accuracy: 0.8768\n",
            "Epoch 14/20\n",
            "188/188 [==============================] - 2s 8ms/step - loss: 0.2486 - accuracy: 0.9053 - val_loss: 0.4822 - val_accuracy: 0.8439\n",
            "Epoch 15/20\n",
            "188/188 [==============================] - 2s 8ms/step - loss: 0.2428 - accuracy: 0.9075 - val_loss: 0.3715 - val_accuracy: 0.8745\n",
            "Epoch 16/20\n",
            "188/188 [==============================] - 2s 8ms/step - loss: 0.2319 - accuracy: 0.9111 - val_loss: 0.3578 - val_accuracy: 0.8780\n",
            "Epoch 17/20\n",
            "188/188 [==============================] - 2s 8ms/step - loss: 0.2226 - accuracy: 0.9146 - val_loss: 0.4040 - val_accuracy: 0.8761\n",
            "Epoch 18/20\n",
            "188/188 [==============================] - 2s 8ms/step - loss: 0.2169 - accuracy: 0.9161 - val_loss: 0.4189 - val_accuracy: 0.8796\n",
            "Epoch 19/20\n",
            "188/188 [==============================] - 2s 9ms/step - loss: 0.2122 - accuracy: 0.9188 - val_loss: 0.4267 - val_accuracy: 0.8657\n",
            "Epoch 20/20\n",
            "188/188 [==============================] - 2s 8ms/step - loss: 0.2045 - accuracy: 0.9222 - val_loss: 0.4154 - val_accuracy: 0.8703\n"
          ],
          "name": "stdout"
        },
        {
          "output_type": "display_data",
          "data": {
            "text/html": [
              "<span style=\"color:#4527A0\"><h1 style=\"font-size:18px\">Trial complete</h1></span>"
            ],
            "text/plain": [
              "<IPython.core.display.HTML object>"
            ]
          },
          "metadata": {
            "tags": []
          }
        },
        {
          "output_type": "display_data",
          "data": {
            "text/html": [
              "<span style=\"color:#4527A0\"><h1 style=\"font-size:18px\">Trial summary</h1></span>"
            ],
            "text/plain": [
              "<IPython.core.display.HTML object>"
            ]
          },
          "metadata": {
            "tags": []
          }
        },
        {
          "output_type": "display_data",
          "data": {
            "text/html": [
              "<span style=\"color:cyan\"> |-Trial ID: 19b5750a1baa830000380080d4411e31</span>"
            ],
            "text/plain": [
              "<IPython.core.display.HTML object>"
            ]
          },
          "metadata": {
            "tags": []
          }
        },
        {
          "output_type": "display_data",
          "data": {
            "text/html": [
              "<span style=\"color:cyan\"> |-Score: 0.8861666917800903</span>"
            ],
            "text/plain": [
              "<IPython.core.display.HTML object>"
            ]
          },
          "metadata": {
            "tags": []
          }
        },
        {
          "output_type": "display_data",
          "data": {
            "text/html": [
              "<span style=\"color:cyan\"> |-Best step: 0</span>"
            ],
            "text/plain": [
              "<IPython.core.display.HTML object>"
            ]
          },
          "metadata": {
            "tags": []
          }
        },
        {
          "output_type": "display_data",
          "data": {
            "text/html": [
              "<span style=\"color:#7E57C2\"><h2 style=\"font-size:16px\">Hyperparameters:</h2></span>"
            ],
            "text/plain": [
              "<IPython.core.display.HTML object>"
            ]
          },
          "metadata": {
            "tags": []
          }
        },
        {
          "output_type": "display_data",
          "data": {
            "text/html": [
              "<span style=\"color:cyan\"> |-activation: selu</span>"
            ],
            "text/plain": [
              "<IPython.core.display.HTML object>"
            ]
          },
          "metadata": {
            "tags": []
          }
        },
        {
          "output_type": "display_data",
          "data": {
            "text/html": [
              "<span style=\"color:blue\"> |-optimizer: rmsprop</span>"
            ],
            "text/plain": [
              "<IPython.core.display.HTML object>"
            ]
          },
          "metadata": {
            "tags": []
          }
        },
        {
          "output_type": "display_data",
          "data": {
            "text/html": [
              "<span style=\"color:cyan\"> |-units_hidden: 576</span>"
            ],
            "text/plain": [
              "<IPython.core.display.HTML object>"
            ]
          },
          "metadata": {
            "tags": []
          }
        },
        {
          "output_type": "display_data",
          "data": {
            "text/html": [
              "<span style=\"color:blue\"> |-units_input: 736</span>"
            ],
            "text/plain": [
              "<IPython.core.display.HTML object>"
            ]
          },
          "metadata": {
            "tags": []
          }
        },
        {
          "output_type": "stream",
          "text": [
            "Epoch 1/20\n",
            "188/188 [==============================] - 1s 8ms/step - loss: 0.5401 - accuracy: 0.8058 - val_loss: 0.4229 - val_accuracy: 0.8510\n",
            "Epoch 2/20\n",
            "188/188 [==============================] - 1s 7ms/step - loss: 0.3892 - accuracy: 0.8578 - val_loss: 0.3738 - val_accuracy: 0.8618\n",
            "Epoch 3/20\n",
            "188/188 [==============================] - 1s 7ms/step - loss: 0.3458 - accuracy: 0.8739 - val_loss: 0.3526 - val_accuracy: 0.8714\n",
            "Epoch 4/20\n",
            "188/188 [==============================] - 1s 7ms/step - loss: 0.3193 - accuracy: 0.8832 - val_loss: 0.3358 - val_accuracy: 0.8781\n",
            "Epoch 5/20\n",
            "188/188 [==============================] - 1s 7ms/step - loss: 0.3070 - accuracy: 0.8861 - val_loss: 0.3389 - val_accuracy: 0.8762\n",
            "Epoch 6/20\n",
            "188/188 [==============================] - 1s 7ms/step - loss: 0.2872 - accuracy: 0.8941 - val_loss: 0.3309 - val_accuracy: 0.8814\n",
            "Epoch 7/20\n",
            "188/188 [==============================] - 1s 7ms/step - loss: 0.2694 - accuracy: 0.9005 - val_loss: 0.3059 - val_accuracy: 0.8893\n",
            "Epoch 8/20\n",
            "188/188 [==============================] - 1s 7ms/step - loss: 0.2554 - accuracy: 0.9043 - val_loss: 0.2998 - val_accuracy: 0.8906\n",
            "Epoch 9/20\n",
            "188/188 [==============================] - 1s 7ms/step - loss: 0.2506 - accuracy: 0.9071 - val_loss: 0.3156 - val_accuracy: 0.8837\n",
            "Epoch 10/20\n",
            "188/188 [==============================] - 1s 7ms/step - loss: 0.2311 - accuracy: 0.9137 - val_loss: 0.3186 - val_accuracy: 0.8839\n",
            "Epoch 11/20\n",
            "188/188 [==============================] - 1s 7ms/step - loss: 0.2261 - accuracy: 0.9168 - val_loss: 0.3017 - val_accuracy: 0.8881\n",
            "Epoch 12/20\n",
            "188/188 [==============================] - 1s 7ms/step - loss: 0.2141 - accuracy: 0.9208 - val_loss: 0.3008 - val_accuracy: 0.8898\n",
            "Epoch 13/20\n",
            "188/188 [==============================] - 1s 7ms/step - loss: 0.2041 - accuracy: 0.9238 - val_loss: 0.3001 - val_accuracy: 0.8932\n",
            "Epoch 14/20\n",
            "188/188 [==============================] - 1s 7ms/step - loss: 0.1996 - accuracy: 0.9265 - val_loss: 0.2970 - val_accuracy: 0.8922\n",
            "Epoch 15/20\n",
            "188/188 [==============================] - 1s 7ms/step - loss: 0.1936 - accuracy: 0.9277 - val_loss: 0.3012 - val_accuracy: 0.8911\n",
            "Epoch 16/20\n",
            "188/188 [==============================] - 1s 7ms/step - loss: 0.1784 - accuracy: 0.9338 - val_loss: 0.3025 - val_accuracy: 0.8948\n",
            "Epoch 17/20\n",
            "188/188 [==============================] - 1s 7ms/step - loss: 0.1764 - accuracy: 0.9345 - val_loss: 0.3036 - val_accuracy: 0.8968\n",
            "Epoch 18/20\n",
            "188/188 [==============================] - 1s 7ms/step - loss: 0.1637 - accuracy: 0.9398 - val_loss: 0.2998 - val_accuracy: 0.8947\n",
            "Epoch 19/20\n",
            "188/188 [==============================] - 1s 7ms/step - loss: 0.1567 - accuracy: 0.9422 - val_loss: 0.3167 - val_accuracy: 0.8905\n",
            "Epoch 20/20\n",
            "188/188 [==============================] - 1s 7ms/step - loss: 0.1544 - accuracy: 0.9431 - val_loss: 0.3094 - val_accuracy: 0.8928\n"
          ],
          "name": "stdout"
        },
        {
          "output_type": "display_data",
          "data": {
            "text/html": [
              "<span style=\"color:#4527A0\"><h1 style=\"font-size:18px\">Trial complete</h1></span>"
            ],
            "text/plain": [
              "<IPython.core.display.HTML object>"
            ]
          },
          "metadata": {
            "tags": []
          }
        },
        {
          "output_type": "display_data",
          "data": {
            "text/html": [
              "<span style=\"color:#4527A0\"><h1 style=\"font-size:18px\">Trial summary</h1></span>"
            ],
            "text/plain": [
              "<IPython.core.display.HTML object>"
            ]
          },
          "metadata": {
            "tags": []
          }
        },
        {
          "output_type": "display_data",
          "data": {
            "text/html": [
              "<span style=\"color:cyan\"> |-Trial ID: d94b54e19103dbd5b30d815c7d6d88fe</span>"
            ],
            "text/plain": [
              "<IPython.core.display.HTML object>"
            ]
          },
          "metadata": {
            "tags": []
          }
        },
        {
          "output_type": "display_data",
          "data": {
            "text/html": [
              "<span style=\"color:cyan\"> |-Score: 0.8968333601951599</span>"
            ],
            "text/plain": [
              "<IPython.core.display.HTML object>"
            ]
          },
          "metadata": {
            "tags": []
          }
        },
        {
          "output_type": "display_data",
          "data": {
            "text/html": [
              "<span style=\"color:cyan\"> |-Best step: 0</span>"
            ],
            "text/plain": [
              "<IPython.core.display.HTML object>"
            ]
          },
          "metadata": {
            "tags": []
          }
        },
        {
          "output_type": "display_data",
          "data": {
            "text/html": [
              "<span style=\"color:#7E57C2\"><h2 style=\"font-size:16px\">Hyperparameters:</h2></span>"
            ],
            "text/plain": [
              "<IPython.core.display.HTML object>"
            ]
          },
          "metadata": {
            "tags": []
          }
        },
        {
          "output_type": "display_data",
          "data": {
            "text/html": [
              "<span style=\"color:cyan\"> |-activation: tanh</span>"
            ],
            "text/plain": [
              "<IPython.core.display.HTML object>"
            ]
          },
          "metadata": {
            "tags": []
          }
        },
        {
          "output_type": "display_data",
          "data": {
            "text/html": [
              "<span style=\"color:blue\"> |-optimizer: adam</span>"
            ],
            "text/plain": [
              "<IPython.core.display.HTML object>"
            ]
          },
          "metadata": {
            "tags": []
          }
        },
        {
          "output_type": "display_data",
          "data": {
            "text/html": [
              "<span style=\"color:cyan\"> |-units_hidden: 288</span>"
            ],
            "text/plain": [
              "<IPython.core.display.HTML object>"
            ]
          },
          "metadata": {
            "tags": []
          }
        },
        {
          "output_type": "display_data",
          "data": {
            "text/html": [
              "<span style=\"color:blue\"> |-units_input: 704</span>"
            ],
            "text/plain": [
              "<IPython.core.display.HTML object>"
            ]
          },
          "metadata": {
            "tags": []
          }
        },
        {
          "output_type": "stream",
          "text": [
            "Epoch 1/20\n",
            "188/188 [==============================] - 1s 8ms/step - loss: 0.7870 - accuracy: 0.7303 - val_loss: 0.4900 - val_accuracy: 0.8210\n",
            "Epoch 2/20\n",
            "188/188 [==============================] - 1s 7ms/step - loss: 0.4568 - accuracy: 0.8370 - val_loss: 0.4296 - val_accuracy: 0.8426\n",
            "Epoch 3/20\n",
            "188/188 [==============================] - 1s 7ms/step - loss: 0.4075 - accuracy: 0.8544 - val_loss: 0.3948 - val_accuracy: 0.8564\n",
            "Epoch 4/20\n",
            "188/188 [==============================] - 1s 7ms/step - loss: 0.3846 - accuracy: 0.8603 - val_loss: 0.3809 - val_accuracy: 0.8583\n",
            "Epoch 5/20\n",
            "188/188 [==============================] - 1s 7ms/step - loss: 0.3663 - accuracy: 0.8673 - val_loss: 0.3873 - val_accuracy: 0.8588\n",
            "Epoch 6/20\n",
            "188/188 [==============================] - 1s 7ms/step - loss: 0.3481 - accuracy: 0.8735 - val_loss: 0.4251 - val_accuracy: 0.8421\n",
            "Epoch 7/20\n",
            "188/188 [==============================] - 1s 7ms/step - loss: 0.3365 - accuracy: 0.8763 - val_loss: 0.3568 - val_accuracy: 0.8677\n",
            "Epoch 8/20\n",
            "188/188 [==============================] - 1s 7ms/step - loss: 0.3193 - accuracy: 0.8844 - val_loss: 0.3370 - val_accuracy: 0.8775\n",
            "Epoch 9/20\n",
            "188/188 [==============================] - 1s 8ms/step - loss: 0.3101 - accuracy: 0.8866 - val_loss: 0.3340 - val_accuracy: 0.8781\n",
            "Epoch 10/20\n",
            "188/188 [==============================] - 2s 8ms/step - loss: 0.2987 - accuracy: 0.8908 - val_loss: 0.3587 - val_accuracy: 0.8642\n",
            "Epoch 11/20\n",
            "188/188 [==============================] - 2s 8ms/step - loss: 0.2894 - accuracy: 0.8932 - val_loss: 0.3265 - val_accuracy: 0.8826\n",
            "Epoch 12/20\n",
            "188/188 [==============================] - 1s 8ms/step - loss: 0.2782 - accuracy: 0.8969 - val_loss: 0.3249 - val_accuracy: 0.8802\n",
            "Epoch 13/20\n",
            "188/188 [==============================] - 2s 8ms/step - loss: 0.2772 - accuracy: 0.8979 - val_loss: 0.3241 - val_accuracy: 0.8838\n",
            "Epoch 14/20\n",
            "188/188 [==============================] - 1s 8ms/step - loss: 0.2661 - accuracy: 0.9014 - val_loss: 0.3132 - val_accuracy: 0.8852\n",
            "Epoch 15/20\n",
            "188/188 [==============================] - 2s 8ms/step - loss: 0.2548 - accuracy: 0.9065 - val_loss: 0.3173 - val_accuracy: 0.8863\n",
            "Epoch 16/20\n",
            "188/188 [==============================] - 1s 7ms/step - loss: 0.2497 - accuracy: 0.9072 - val_loss: 0.3034 - val_accuracy: 0.8897\n",
            "Epoch 17/20\n",
            "188/188 [==============================] - 1s 7ms/step - loss: 0.2401 - accuracy: 0.9113 - val_loss: 0.3022 - val_accuracy: 0.8917\n",
            "Epoch 18/20\n",
            "188/188 [==============================] - 1s 7ms/step - loss: 0.2381 - accuracy: 0.9109 - val_loss: 0.3031 - val_accuracy: 0.8892\n",
            "Epoch 19/20\n",
            "188/188 [==============================] - 1s 7ms/step - loss: 0.2261 - accuracy: 0.9161 - val_loss: 0.3040 - val_accuracy: 0.8902\n",
            "Epoch 20/20\n",
            "188/188 [==============================] - 1s 7ms/step - loss: 0.2224 - accuracy: 0.9174 - val_loss: 0.2976 - val_accuracy: 0.8941\n"
          ],
          "name": "stdout"
        },
        {
          "output_type": "display_data",
          "data": {
            "text/html": [
              "<span style=\"color:#4527A0\"><h1 style=\"font-size:18px\">Trial complete</h1></span>"
            ],
            "text/plain": [
              "<IPython.core.display.HTML object>"
            ]
          },
          "metadata": {
            "tags": []
          }
        },
        {
          "output_type": "display_data",
          "data": {
            "text/html": [
              "<span style=\"color:#4527A0\"><h1 style=\"font-size:18px\">Trial summary</h1></span>"
            ],
            "text/plain": [
              "<IPython.core.display.HTML object>"
            ]
          },
          "metadata": {
            "tags": []
          }
        },
        {
          "output_type": "display_data",
          "data": {
            "text/html": [
              "<span style=\"color:cyan\"> |-Trial ID: b5992df7d2999814a1ea7370ad51cc97</span>"
            ],
            "text/plain": [
              "<IPython.core.display.HTML object>"
            ]
          },
          "metadata": {
            "tags": []
          }
        },
        {
          "output_type": "display_data",
          "data": {
            "text/html": [
              "<span style=\"color:cyan\"> |-Score: 0.8940833210945129</span>"
            ],
            "text/plain": [
              "<IPython.core.display.HTML object>"
            ]
          },
          "metadata": {
            "tags": []
          }
        },
        {
          "output_type": "display_data",
          "data": {
            "text/html": [
              "<span style=\"color:cyan\"> |-Best step: 0</span>"
            ],
            "text/plain": [
              "<IPython.core.display.HTML object>"
            ]
          },
          "metadata": {
            "tags": []
          }
        },
        {
          "output_type": "display_data",
          "data": {
            "text/html": [
              "<span style=\"color:#7E57C2\"><h2 style=\"font-size:16px\">Hyperparameters:</h2></span>"
            ],
            "text/plain": [
              "<IPython.core.display.HTML object>"
            ]
          },
          "metadata": {
            "tags": []
          }
        },
        {
          "output_type": "display_data",
          "data": {
            "text/html": [
              "<span style=\"color:cyan\"> |-activation: sigmoid</span>"
            ],
            "text/plain": [
              "<IPython.core.display.HTML object>"
            ]
          },
          "metadata": {
            "tags": []
          }
        },
        {
          "output_type": "display_data",
          "data": {
            "text/html": [
              "<span style=\"color:blue\"> |-optimizer: adam</span>"
            ],
            "text/plain": [
              "<IPython.core.display.HTML object>"
            ]
          },
          "metadata": {
            "tags": []
          }
        },
        {
          "output_type": "display_data",
          "data": {
            "text/html": [
              "<span style=\"color:cyan\"> |-units_hidden: 384</span>"
            ],
            "text/plain": [
              "<IPython.core.display.HTML object>"
            ]
          },
          "metadata": {
            "tags": []
          }
        },
        {
          "output_type": "display_data",
          "data": {
            "text/html": [
              "<span style=\"color:blue\"> |-units_input: 768</span>"
            ],
            "text/plain": [
              "<IPython.core.display.HTML object>"
            ]
          },
          "metadata": {
            "tags": []
          }
        },
        {
          "output_type": "stream",
          "text": [
            "Epoch 1/20\n",
            "188/188 [==============================] - 2s 9ms/step - loss: 0.7875 - accuracy: 0.7189 - val_loss: 0.5245 - val_accuracy: 0.8034\n",
            "Epoch 2/20\n",
            "188/188 [==============================] - 2s 8ms/step - loss: 0.4897 - accuracy: 0.8191 - val_loss: 0.4591 - val_accuracy: 0.8328\n",
            "Epoch 3/20\n",
            "188/188 [==============================] - 2s 8ms/step - loss: 0.4334 - accuracy: 0.8405 - val_loss: 0.4297 - val_accuracy: 0.8397\n",
            "Epoch 4/20\n",
            "188/188 [==============================] - 2s 8ms/step - loss: 0.3992 - accuracy: 0.8537 - val_loss: 0.4032 - val_accuracy: 0.8513\n",
            "Epoch 5/20\n",
            "188/188 [==============================] - 2s 8ms/step - loss: 0.3771 - accuracy: 0.8614 - val_loss: 0.3722 - val_accuracy: 0.8668\n",
            "Epoch 6/20\n",
            "188/188 [==============================] - 2s 9ms/step - loss: 0.3589 - accuracy: 0.8680 - val_loss: 0.3774 - val_accuracy: 0.8618\n",
            "Epoch 7/20\n",
            "188/188 [==============================] - 2s 8ms/step - loss: 0.3440 - accuracy: 0.8720 - val_loss: 0.3509 - val_accuracy: 0.8734\n",
            "Epoch 8/20\n",
            "188/188 [==============================] - 2s 8ms/step - loss: 0.3309 - accuracy: 0.8774 - val_loss: 0.3650 - val_accuracy: 0.8677\n",
            "Epoch 9/20\n",
            "188/188 [==============================] - 2s 8ms/step - loss: 0.3178 - accuracy: 0.8827 - val_loss: 0.3653 - val_accuracy: 0.8649\n",
            "Epoch 10/20\n",
            "188/188 [==============================] - 2s 9ms/step - loss: 0.3072 - accuracy: 0.8853 - val_loss: 0.3302 - val_accuracy: 0.8782\n",
            "Epoch 11/20\n",
            "188/188 [==============================] - 2s 9ms/step - loss: 0.2959 - accuracy: 0.8894 - val_loss: 0.3216 - val_accuracy: 0.8822\n",
            "Epoch 12/20\n",
            "188/188 [==============================] - 2s 9ms/step - loss: 0.2871 - accuracy: 0.8934 - val_loss: 0.3244 - val_accuracy: 0.8827\n",
            "Epoch 13/20\n",
            "188/188 [==============================] - 2s 8ms/step - loss: 0.2771 - accuracy: 0.8949 - val_loss: 0.3361 - val_accuracy: 0.8759\n",
            "Epoch 14/20\n",
            "188/188 [==============================] - 2s 8ms/step - loss: 0.2722 - accuracy: 0.8987 - val_loss: 0.3901 - val_accuracy: 0.8590\n",
            "Epoch 15/20\n",
            "188/188 [==============================] - 2s 8ms/step - loss: 0.2633 - accuracy: 0.9009 - val_loss: 0.3125 - val_accuracy: 0.8861\n",
            "Epoch 16/20\n",
            "188/188 [==============================] - 2s 8ms/step - loss: 0.2574 - accuracy: 0.9034 - val_loss: 0.3262 - val_accuracy: 0.8802\n",
            "Epoch 17/20\n",
            "188/188 [==============================] - 2s 9ms/step - loss: 0.2484 - accuracy: 0.9053 - val_loss: 0.3280 - val_accuracy: 0.8817\n",
            "Epoch 18/20\n",
            "188/188 [==============================] - 2s 9ms/step - loss: 0.2440 - accuracy: 0.9078 - val_loss: 0.3058 - val_accuracy: 0.8897\n",
            "Epoch 19/20\n",
            "188/188 [==============================] - 2s 8ms/step - loss: 0.2370 - accuracy: 0.9107 - val_loss: 0.3456 - val_accuracy: 0.8730\n",
            "Epoch 20/20\n",
            "188/188 [==============================] - 2s 8ms/step - loss: 0.2307 - accuracy: 0.9127 - val_loss: 0.3143 - val_accuracy: 0.8899\n"
          ],
          "name": "stdout"
        },
        {
          "output_type": "display_data",
          "data": {
            "text/html": [
              "<span style=\"color:#4527A0\"><h1 style=\"font-size:18px\">Trial complete</h1></span>"
            ],
            "text/plain": [
              "<IPython.core.display.HTML object>"
            ]
          },
          "metadata": {
            "tags": []
          }
        },
        {
          "output_type": "display_data",
          "data": {
            "text/html": [
              "<span style=\"color:#4527A0\"><h1 style=\"font-size:18px\">Trial summary</h1></span>"
            ],
            "text/plain": [
              "<IPython.core.display.HTML object>"
            ]
          },
          "metadata": {
            "tags": []
          }
        },
        {
          "output_type": "display_data",
          "data": {
            "text/html": [
              "<span style=\"color:cyan\"> |-Trial ID: 58d8101202de39907c67877a818666b3</span>"
            ],
            "text/plain": [
              "<IPython.core.display.HTML object>"
            ]
          },
          "metadata": {
            "tags": []
          }
        },
        {
          "output_type": "display_data",
          "data": {
            "text/html": [
              "<span style=\"color:cyan\"> |-Score: 0.8899166584014893</span>"
            ],
            "text/plain": [
              "<IPython.core.display.HTML object>"
            ]
          },
          "metadata": {
            "tags": []
          }
        },
        {
          "output_type": "display_data",
          "data": {
            "text/html": [
              "<span style=\"color:cyan\"> |-Best step: 0</span>"
            ],
            "text/plain": [
              "<IPython.core.display.HTML object>"
            ]
          },
          "metadata": {
            "tags": []
          }
        },
        {
          "output_type": "display_data",
          "data": {
            "text/html": [
              "<span style=\"color:#7E57C2\"><h2 style=\"font-size:16px\">Hyperparameters:</h2></span>"
            ],
            "text/plain": [
              "<IPython.core.display.HTML object>"
            ]
          },
          "metadata": {
            "tags": []
          }
        },
        {
          "output_type": "display_data",
          "data": {
            "text/html": [
              "<span style=\"color:cyan\"> |-activation: sigmoid</span>"
            ],
            "text/plain": [
              "<IPython.core.display.HTML object>"
            ]
          },
          "metadata": {
            "tags": []
          }
        },
        {
          "output_type": "display_data",
          "data": {
            "text/html": [
              "<span style=\"color:blue\"> |-optimizer: rmsprop</span>"
            ],
            "text/plain": [
              "<IPython.core.display.HTML object>"
            ]
          },
          "metadata": {
            "tags": []
          }
        },
        {
          "output_type": "display_data",
          "data": {
            "text/html": [
              "<span style=\"color:cyan\"> |-units_hidden: 224</span>"
            ],
            "text/plain": [
              "<IPython.core.display.HTML object>"
            ]
          },
          "metadata": {
            "tags": []
          }
        },
        {
          "output_type": "display_data",
          "data": {
            "text/html": [
              "<span style=\"color:blue\"> |-units_input: 928</span>"
            ],
            "text/plain": [
              "<IPython.core.display.HTML object>"
            ]
          },
          "metadata": {
            "tags": []
          }
        },
        {
          "output_type": "stream",
          "text": [
            "Epoch 1/20\n",
            "188/188 [==============================] - 2s 9ms/step - loss: 0.6419 - accuracy: 0.7697 - val_loss: 0.5176 - val_accuracy: 0.8173\n",
            "Epoch 2/20\n",
            "188/188 [==============================] - 2s 9ms/step - loss: 0.4177 - accuracy: 0.8434 - val_loss: 0.4074 - val_accuracy: 0.8531\n",
            "Epoch 3/20\n",
            "188/188 [==============================] - 2s 9ms/step - loss: 0.3665 - accuracy: 0.8633 - val_loss: 0.4103 - val_accuracy: 0.8566\n",
            "Epoch 4/20\n",
            "188/188 [==============================] - 2s 9ms/step - loss: 0.3264 - accuracy: 0.8773 - val_loss: 0.4327 - val_accuracy: 0.8456\n",
            "Epoch 5/20\n",
            "188/188 [==============================] - 2s 9ms/step - loss: 0.3035 - accuracy: 0.8866 - val_loss: 0.3945 - val_accuracy: 0.8643\n",
            "Epoch 6/20\n",
            "188/188 [==============================] - 2s 9ms/step - loss: 0.2852 - accuracy: 0.8936 - val_loss: 0.3294 - val_accuracy: 0.8818\n",
            "Epoch 7/20\n",
            "188/188 [==============================] - 2s 9ms/step - loss: 0.2688 - accuracy: 0.8984 - val_loss: 0.3368 - val_accuracy: 0.8818\n",
            "Epoch 8/20\n",
            "188/188 [==============================] - 2s 9ms/step - loss: 0.2539 - accuracy: 0.9048 - val_loss: 0.4007 - val_accuracy: 0.8635\n",
            "Epoch 9/20\n",
            "188/188 [==============================] - 2s 9ms/step - loss: 0.2422 - accuracy: 0.9080 - val_loss: 0.3478 - val_accuracy: 0.8838\n",
            "Epoch 10/20\n",
            "188/188 [==============================] - 2s 9ms/step - loss: 0.2314 - accuracy: 0.9120 - val_loss: 0.3934 - val_accuracy: 0.8797\n",
            "Epoch 11/20\n",
            "188/188 [==============================] - 2s 9ms/step - loss: 0.2246 - accuracy: 0.9148 - val_loss: 0.3804 - val_accuracy: 0.8880\n",
            "Epoch 12/20\n",
            "188/188 [==============================] - 2s 9ms/step - loss: 0.2153 - accuracy: 0.9183 - val_loss: 0.4111 - val_accuracy: 0.8842\n",
            "Epoch 13/20\n",
            "188/188 [==============================] - 2s 9ms/step - loss: 0.2060 - accuracy: 0.9218 - val_loss: 0.3917 - val_accuracy: 0.8809\n",
            "Epoch 14/20\n",
            "188/188 [==============================] - 2s 9ms/step - loss: 0.1984 - accuracy: 0.9245 - val_loss: 0.4119 - val_accuracy: 0.8894\n",
            "Epoch 15/20\n",
            "188/188 [==============================] - 2s 9ms/step - loss: 0.1924 - accuracy: 0.9273 - val_loss: 0.4145 - val_accuracy: 0.8882\n",
            "Epoch 16/20\n",
            "188/188 [==============================] - 2s 9ms/step - loss: 0.1884 - accuracy: 0.9296 - val_loss: 0.3543 - val_accuracy: 0.8948\n",
            "Epoch 17/20\n",
            "188/188 [==============================] - 2s 9ms/step - loss: 0.1818 - accuracy: 0.9305 - val_loss: 0.4910 - val_accuracy: 0.8780\n",
            "Epoch 18/20\n",
            "188/188 [==============================] - 2s 9ms/step - loss: 0.1782 - accuracy: 0.9324 - val_loss: 0.3969 - val_accuracy: 0.8882\n",
            "Epoch 19/20\n",
            "188/188 [==============================] - 2s 8ms/step - loss: 0.1723 - accuracy: 0.9350 - val_loss: 0.4292 - val_accuracy: 0.8858\n",
            "Epoch 20/20\n",
            "188/188 [==============================] - 2s 8ms/step - loss: 0.1695 - accuracy: 0.9362 - val_loss: 0.5362 - val_accuracy: 0.8717\n"
          ],
          "name": "stdout"
        },
        {
          "output_type": "display_data",
          "data": {
            "text/html": [
              "<span style=\"color:#4527A0\"><h1 style=\"font-size:18px\">Trial complete</h1></span>"
            ],
            "text/plain": [
              "<IPython.core.display.HTML object>"
            ]
          },
          "metadata": {
            "tags": []
          }
        },
        {
          "output_type": "display_data",
          "data": {
            "text/html": [
              "<span style=\"color:#4527A0\"><h1 style=\"font-size:18px\">Trial summary</h1></span>"
            ],
            "text/plain": [
              "<IPython.core.display.HTML object>"
            ]
          },
          "metadata": {
            "tags": []
          }
        },
        {
          "output_type": "display_data",
          "data": {
            "text/html": [
              "<span style=\"color:cyan\"> |-Trial ID: 5a65d42f9b0f840d14bd4ed55691f67b</span>"
            ],
            "text/plain": [
              "<IPython.core.display.HTML object>"
            ]
          },
          "metadata": {
            "tags": []
          }
        },
        {
          "output_type": "display_data",
          "data": {
            "text/html": [
              "<span style=\"color:cyan\"> |-Score: 0.8948333263397217</span>"
            ],
            "text/plain": [
              "<IPython.core.display.HTML object>"
            ]
          },
          "metadata": {
            "tags": []
          }
        },
        {
          "output_type": "display_data",
          "data": {
            "text/html": [
              "<span style=\"color:cyan\"> |-Best step: 0</span>"
            ],
            "text/plain": [
              "<IPython.core.display.HTML object>"
            ]
          },
          "metadata": {
            "tags": []
          }
        },
        {
          "output_type": "display_data",
          "data": {
            "text/html": [
              "<span style=\"color:#7E57C2\"><h2 style=\"font-size:16px\">Hyperparameters:</h2></span>"
            ],
            "text/plain": [
              "<IPython.core.display.HTML object>"
            ]
          },
          "metadata": {
            "tags": []
          }
        },
        {
          "output_type": "display_data",
          "data": {
            "text/html": [
              "<span style=\"color:cyan\"> |-activation: relu</span>"
            ],
            "text/plain": [
              "<IPython.core.display.HTML object>"
            ]
          },
          "metadata": {
            "tags": []
          }
        },
        {
          "output_type": "display_data",
          "data": {
            "text/html": [
              "<span style=\"color:blue\"> |-optimizer: rmsprop</span>"
            ],
            "text/plain": [
              "<IPython.core.display.HTML object>"
            ]
          },
          "metadata": {
            "tags": []
          }
        },
        {
          "output_type": "display_data",
          "data": {
            "text/html": [
              "<span style=\"color:cyan\"> |-units_hidden: 544</span>"
            ],
            "text/plain": [
              "<IPython.core.display.HTML object>"
            ]
          },
          "metadata": {
            "tags": []
          }
        },
        {
          "output_type": "display_data",
          "data": {
            "text/html": [
              "<span style=\"color:blue\"> |-units_input: 832</span>"
            ],
            "text/plain": [
              "<IPython.core.display.HTML object>"
            ]
          },
          "metadata": {
            "tags": []
          }
        },
        {
          "output_type": "stream",
          "text": [
            "Epoch 1/20\n",
            "188/188 [==============================] - 2s 8ms/step - loss: 0.5685 - accuracy: 0.7999 - val_loss: 0.4368 - val_accuracy: 0.8412\n",
            "Epoch 2/20\n",
            "188/188 [==============================] - 1s 7ms/step - loss: 0.4093 - accuracy: 0.8534 - val_loss: 0.3842 - val_accuracy: 0.8626\n",
            "Epoch 3/20\n",
            "188/188 [==============================] - 1s 7ms/step - loss: 0.3753 - accuracy: 0.8631 - val_loss: 0.3928 - val_accuracy: 0.8617\n",
            "Epoch 4/20\n",
            "188/188 [==============================] - 1s 7ms/step - loss: 0.3445 - accuracy: 0.8729 - val_loss: 0.3598 - val_accuracy: 0.8708\n",
            "Epoch 5/20\n",
            "188/188 [==============================] - 1s 8ms/step - loss: 0.3247 - accuracy: 0.8791 - val_loss: 0.3999 - val_accuracy: 0.8566\n",
            "Epoch 6/20\n",
            "188/188 [==============================] - 1s 7ms/step - loss: 0.3079 - accuracy: 0.8854 - val_loss: 0.3355 - val_accuracy: 0.8772\n",
            "Epoch 7/20\n",
            "188/188 [==============================] - 1s 7ms/step - loss: 0.2938 - accuracy: 0.8905 - val_loss: 0.3294 - val_accuracy: 0.8806\n",
            "Epoch 8/20\n",
            "188/188 [==============================] - 1s 7ms/step - loss: 0.2775 - accuracy: 0.8963 - val_loss: 0.3435 - val_accuracy: 0.8760\n",
            "Epoch 9/20\n",
            "188/188 [==============================] - 1s 7ms/step - loss: 0.2653 - accuracy: 0.9021 - val_loss: 0.3304 - val_accuracy: 0.8819\n",
            "Epoch 10/20\n",
            "188/188 [==============================] - 1s 7ms/step - loss: 0.2622 - accuracy: 0.9016 - val_loss: 0.3506 - val_accuracy: 0.8793\n",
            "Epoch 11/20\n",
            "188/188 [==============================] - 1s 7ms/step - loss: 0.2532 - accuracy: 0.9056 - val_loss: 0.3310 - val_accuracy: 0.8827\n",
            "Epoch 12/20\n",
            "188/188 [==============================] - 1s 8ms/step - loss: 0.2354 - accuracy: 0.9118 - val_loss: 0.3214 - val_accuracy: 0.8878\n",
            "Epoch 13/20\n",
            "188/188 [==============================] - 1s 8ms/step - loss: 0.2290 - accuracy: 0.9135 - val_loss: 0.3190 - val_accuracy: 0.8873\n",
            "Epoch 14/20\n",
            "188/188 [==============================] - 1s 7ms/step - loss: 0.2216 - accuracy: 0.9152 - val_loss: 0.3433 - val_accuracy: 0.8814\n",
            "Epoch 15/20\n",
            "188/188 [==============================] - 1s 8ms/step - loss: 0.2156 - accuracy: 0.9185 - val_loss: 0.3258 - val_accuracy: 0.8856\n",
            "Epoch 16/20\n",
            "188/188 [==============================] - 1s 8ms/step - loss: 0.2026 - accuracy: 0.9233 - val_loss: 0.3152 - val_accuracy: 0.8907\n",
            "Epoch 17/20\n",
            "188/188 [==============================] - 1s 7ms/step - loss: 0.1962 - accuracy: 0.9247 - val_loss: 0.3200 - val_accuracy: 0.8899\n",
            "Epoch 18/20\n",
            "188/188 [==============================] - 1s 7ms/step - loss: 0.1948 - accuracy: 0.9262 - val_loss: 0.3175 - val_accuracy: 0.8890\n",
            "Epoch 19/20\n",
            "188/188 [==============================] - 1s 8ms/step - loss: 0.1757 - accuracy: 0.9340 - val_loss: 0.3143 - val_accuracy: 0.8961\n",
            "Epoch 20/20\n",
            "188/188 [==============================] - 1s 7ms/step - loss: 0.1734 - accuracy: 0.9347 - val_loss: 0.3212 - val_accuracy: 0.8953\n"
          ],
          "name": "stdout"
        },
        {
          "output_type": "display_data",
          "data": {
            "text/html": [
              "<span style=\"color:#4527A0\"><h1 style=\"font-size:18px\">Trial complete</h1></span>"
            ],
            "text/plain": [
              "<IPython.core.display.HTML object>"
            ]
          },
          "metadata": {
            "tags": []
          }
        },
        {
          "output_type": "display_data",
          "data": {
            "text/html": [
              "<span style=\"color:#4527A0\"><h1 style=\"font-size:18px\">Trial summary</h1></span>"
            ],
            "text/plain": [
              "<IPython.core.display.HTML object>"
            ]
          },
          "metadata": {
            "tags": []
          }
        },
        {
          "output_type": "display_data",
          "data": {
            "text/html": [
              "<span style=\"color:cyan\"> |-Trial ID: c0764e1bfddf17ea982c5ed490f57c71</span>"
            ],
            "text/plain": [
              "<IPython.core.display.HTML object>"
            ]
          },
          "metadata": {
            "tags": []
          }
        },
        {
          "output_type": "display_data",
          "data": {
            "text/html": [
              "<span style=\"color:cyan\"> |-Score: 0.8960833549499512</span>"
            ],
            "text/plain": [
              "<IPython.core.display.HTML object>"
            ]
          },
          "metadata": {
            "tags": []
          }
        },
        {
          "output_type": "display_data",
          "data": {
            "text/html": [
              "<span style=\"color:cyan\"> |-Best step: 0</span>"
            ],
            "text/plain": [
              "<IPython.core.display.HTML object>"
            ]
          },
          "metadata": {
            "tags": []
          }
        },
        {
          "output_type": "display_data",
          "data": {
            "text/html": [
              "<span style=\"color:#7E57C2\"><h2 style=\"font-size:16px\">Hyperparameters:</h2></span>"
            ],
            "text/plain": [
              "<IPython.core.display.HTML object>"
            ]
          },
          "metadata": {
            "tags": []
          }
        },
        {
          "output_type": "display_data",
          "data": {
            "text/html": [
              "<span style=\"color:cyan\"> |-activation: elu</span>"
            ],
            "text/plain": [
              "<IPython.core.display.HTML object>"
            ]
          },
          "metadata": {
            "tags": []
          }
        },
        {
          "output_type": "display_data",
          "data": {
            "text/html": [
              "<span style=\"color:blue\"> |-optimizer: adam</span>"
            ],
            "text/plain": [
              "<IPython.core.display.HTML object>"
            ]
          },
          "metadata": {
            "tags": []
          }
        },
        {
          "output_type": "display_data",
          "data": {
            "text/html": [
              "<span style=\"color:cyan\"> |-units_hidden: 512</span>"
            ],
            "text/plain": [
              "<IPython.core.display.HTML object>"
            ]
          },
          "metadata": {
            "tags": []
          }
        },
        {
          "output_type": "display_data",
          "data": {
            "text/html": [
              "<span style=\"color:blue\"> |-units_input: 608</span>"
            ],
            "text/plain": [
              "<IPython.core.display.HTML object>"
            ]
          },
          "metadata": {
            "tags": []
          }
        },
        {
          "output_type": "stream",
          "text": [
            "Epoch 1/20\n",
            "188/188 [==============================] - 1s 7ms/step - loss: 0.5424 - accuracy: 0.8068 - val_loss: 0.4077 - val_accuracy: 0.8537\n",
            "Epoch 2/20\n",
            "188/188 [==============================] - 1s 7ms/step - loss: 0.3844 - accuracy: 0.8616 - val_loss: 0.3734 - val_accuracy: 0.8652\n",
            "Epoch 3/20\n",
            "188/188 [==============================] - 1s 7ms/step - loss: 0.3484 - accuracy: 0.8732 - val_loss: 0.3704 - val_accuracy: 0.8658\n",
            "Epoch 4/20\n",
            "188/188 [==============================] - 1s 7ms/step - loss: 0.3203 - accuracy: 0.8826 - val_loss: 0.3351 - val_accuracy: 0.8801\n",
            "Epoch 5/20\n",
            "188/188 [==============================] - 1s 7ms/step - loss: 0.3062 - accuracy: 0.8874 - val_loss: 0.3294 - val_accuracy: 0.8815\n",
            "Epoch 6/20\n",
            "188/188 [==============================] - 1s 7ms/step - loss: 0.2870 - accuracy: 0.8940 - val_loss: 0.3146 - val_accuracy: 0.8855\n",
            "Epoch 7/20\n",
            "188/188 [==============================] - 1s 7ms/step - loss: 0.2707 - accuracy: 0.9005 - val_loss: 0.3200 - val_accuracy: 0.8833\n",
            "Epoch 8/20\n",
            "188/188 [==============================] - 1s 7ms/step - loss: 0.2622 - accuracy: 0.9026 - val_loss: 0.3265 - val_accuracy: 0.8823\n",
            "Epoch 9/20\n",
            "188/188 [==============================] - 1s 7ms/step - loss: 0.2484 - accuracy: 0.9088 - val_loss: 0.3253 - val_accuracy: 0.8813\n",
            "Epoch 10/20\n",
            "188/188 [==============================] - 1s 7ms/step - loss: 0.2428 - accuracy: 0.9107 - val_loss: 0.3088 - val_accuracy: 0.8874\n",
            "Epoch 11/20\n",
            "188/188 [==============================] - 1s 7ms/step - loss: 0.2329 - accuracy: 0.9144 - val_loss: 0.3094 - val_accuracy: 0.8892\n",
            "Epoch 12/20\n",
            "188/188 [==============================] - 1s 7ms/step - loss: 0.2205 - accuracy: 0.9185 - val_loss: 0.3067 - val_accuracy: 0.8856\n",
            "Epoch 13/20\n",
            "188/188 [==============================] - 1s 7ms/step - loss: 0.2153 - accuracy: 0.9198 - val_loss: 0.3003 - val_accuracy: 0.8920\n",
            "Epoch 14/20\n",
            "188/188 [==============================] - 1s 7ms/step - loss: 0.2071 - accuracy: 0.9248 - val_loss: 0.3127 - val_accuracy: 0.8890\n",
            "Epoch 15/20\n",
            "188/188 [==============================] - 1s 7ms/step - loss: 0.2015 - accuracy: 0.9252 - val_loss: 0.3101 - val_accuracy: 0.8889\n",
            "Epoch 16/20\n",
            "188/188 [==============================] - 1s 7ms/step - loss: 0.1947 - accuracy: 0.9279 - val_loss: 0.3186 - val_accuracy: 0.8858\n",
            "Epoch 17/20\n",
            "188/188 [==============================] - 1s 7ms/step - loss: 0.1828 - accuracy: 0.9336 - val_loss: 0.3158 - val_accuracy: 0.8889\n",
            "Epoch 18/20\n",
            "188/188 [==============================] - 1s 7ms/step - loss: 0.1826 - accuracy: 0.9327 - val_loss: 0.3032 - val_accuracy: 0.8953\n",
            "Epoch 19/20\n",
            "188/188 [==============================] - 1s 7ms/step - loss: 0.1704 - accuracy: 0.9384 - val_loss: 0.3137 - val_accuracy: 0.8913\n",
            "Epoch 20/20\n",
            "188/188 [==============================] - 1s 7ms/step - loss: 0.1658 - accuracy: 0.9396 - val_loss: 0.3039 - val_accuracy: 0.8943\n"
          ],
          "name": "stdout"
        },
        {
          "output_type": "display_data",
          "data": {
            "text/html": [
              "<span style=\"color:#4527A0\"><h1 style=\"font-size:18px\">Trial complete</h1></span>"
            ],
            "text/plain": [
              "<IPython.core.display.HTML object>"
            ]
          },
          "metadata": {
            "tags": []
          }
        },
        {
          "output_type": "display_data",
          "data": {
            "text/html": [
              "<span style=\"color:#4527A0\"><h1 style=\"font-size:18px\">Trial summary</h1></span>"
            ],
            "text/plain": [
              "<IPython.core.display.HTML object>"
            ]
          },
          "metadata": {
            "tags": []
          }
        },
        {
          "output_type": "display_data",
          "data": {
            "text/html": [
              "<span style=\"color:cyan\"> |-Trial ID: 7a73fdd818045ccba799fd5bd769ac04</span>"
            ],
            "text/plain": [
              "<IPython.core.display.HTML object>"
            ]
          },
          "metadata": {
            "tags": []
          }
        },
        {
          "output_type": "display_data",
          "data": {
            "text/html": [
              "<span style=\"color:cyan\"> |-Score: 0.8952500224113464</span>"
            ],
            "text/plain": [
              "<IPython.core.display.HTML object>"
            ]
          },
          "metadata": {
            "tags": []
          }
        },
        {
          "output_type": "display_data",
          "data": {
            "text/html": [
              "<span style=\"color:cyan\"> |-Best step: 0</span>"
            ],
            "text/plain": [
              "<IPython.core.display.HTML object>"
            ]
          },
          "metadata": {
            "tags": []
          }
        },
        {
          "output_type": "display_data",
          "data": {
            "text/html": [
              "<span style=\"color:#7E57C2\"><h2 style=\"font-size:16px\">Hyperparameters:</h2></span>"
            ],
            "text/plain": [
              "<IPython.core.display.HTML object>"
            ]
          },
          "metadata": {
            "tags": []
          }
        },
        {
          "output_type": "display_data",
          "data": {
            "text/html": [
              "<span style=\"color:cyan\"> |-activation: tanh</span>"
            ],
            "text/plain": [
              "<IPython.core.display.HTML object>"
            ]
          },
          "metadata": {
            "tags": []
          }
        },
        {
          "output_type": "display_data",
          "data": {
            "text/html": [
              "<span style=\"color:blue\"> |-optimizer: adam</span>"
            ],
            "text/plain": [
              "<IPython.core.display.HTML object>"
            ]
          },
          "metadata": {
            "tags": []
          }
        },
        {
          "output_type": "display_data",
          "data": {
            "text/html": [
              "<span style=\"color:cyan\"> |-units_hidden: 160</span>"
            ],
            "text/plain": [
              "<IPython.core.display.HTML object>"
            ]
          },
          "metadata": {
            "tags": []
          }
        },
        {
          "output_type": "display_data",
          "data": {
            "text/html": [
              "<span style=\"color:blue\"> |-units_input: 608</span>"
            ],
            "text/plain": [
              "<IPython.core.display.HTML object>"
            ]
          },
          "metadata": {
            "tags": []
          }
        },
        {
          "output_type": "stream",
          "text": [
            "Epoch 1/20\n",
            "188/188 [==============================] - 1s 7ms/step - loss: 1.0545 - accuracy: 0.6842 - val_loss: 0.7427 - val_accuracy: 0.7653\n",
            "Epoch 2/20\n",
            "188/188 [==============================] - 1s 7ms/step - loss: 0.6817 - accuracy: 0.7836 - val_loss: 0.6267 - val_accuracy: 0.7957\n",
            "Epoch 3/20\n",
            "188/188 [==============================] - 1s 7ms/step - loss: 0.5996 - accuracy: 0.8060 - val_loss: 0.5708 - val_accuracy: 0.8108\n",
            "Epoch 4/20\n",
            "188/188 [==============================] - 1s 7ms/step - loss: 0.5566 - accuracy: 0.8173 - val_loss: 0.5416 - val_accuracy: 0.8193\n",
            "Epoch 5/20\n",
            "188/188 [==============================] - 1s 7ms/step - loss: 0.5290 - accuracy: 0.8241 - val_loss: 0.5206 - val_accuracy: 0.8209\n",
            "Epoch 6/20\n",
            "188/188 [==============================] - 1s 7ms/step - loss: 0.5094 - accuracy: 0.8291 - val_loss: 0.5082 - val_accuracy: 0.8247\n",
            "Epoch 7/20\n",
            "188/188 [==============================] - 1s 7ms/step - loss: 0.4946 - accuracy: 0.8323 - val_loss: 0.4986 - val_accuracy: 0.8267\n",
            "Epoch 8/20\n",
            "188/188 [==============================] - 1s 7ms/step - loss: 0.4833 - accuracy: 0.8364 - val_loss: 0.4844 - val_accuracy: 0.8302\n",
            "Epoch 9/20\n",
            "188/188 [==============================] - 1s 6ms/step - loss: 0.4735 - accuracy: 0.8385 - val_loss: 0.4776 - val_accuracy: 0.8348\n",
            "Epoch 10/20\n",
            "188/188 [==============================] - 1s 6ms/step - loss: 0.4652 - accuracy: 0.8406 - val_loss: 0.4681 - val_accuracy: 0.8361\n",
            "Epoch 11/20\n",
            "188/188 [==============================] - 1s 6ms/step - loss: 0.4583 - accuracy: 0.8423 - val_loss: 0.4680 - val_accuracy: 0.8334\n",
            "Epoch 12/20\n",
            "188/188 [==============================] - 1s 7ms/step - loss: 0.4520 - accuracy: 0.8453 - val_loss: 0.4566 - val_accuracy: 0.8407\n",
            "Epoch 13/20\n",
            "188/188 [==============================] - 1s 6ms/step - loss: 0.4468 - accuracy: 0.8466 - val_loss: 0.4558 - val_accuracy: 0.8382\n",
            "Epoch 14/20\n",
            "188/188 [==============================] - 1s 7ms/step - loss: 0.4414 - accuracy: 0.8479 - val_loss: 0.4503 - val_accuracy: 0.8422\n",
            "Epoch 15/20\n",
            "188/188 [==============================] - 1s 7ms/step - loss: 0.4378 - accuracy: 0.8486 - val_loss: 0.4441 - val_accuracy: 0.8449\n",
            "Epoch 16/20\n",
            "188/188 [==============================] - 1s 6ms/step - loss: 0.4337 - accuracy: 0.8498 - val_loss: 0.4430 - val_accuracy: 0.8436\n",
            "Epoch 17/20\n",
            "188/188 [==============================] - 1s 6ms/step - loss: 0.4292 - accuracy: 0.8520 - val_loss: 0.4392 - val_accuracy: 0.8453\n",
            "Epoch 18/20\n",
            "188/188 [==============================] - 1s 7ms/step - loss: 0.4259 - accuracy: 0.8530 - val_loss: 0.4381 - val_accuracy: 0.8446\n",
            "Epoch 19/20\n",
            "188/188 [==============================] - 1s 8ms/step - loss: 0.4226 - accuracy: 0.8533 - val_loss: 0.4323 - val_accuracy: 0.8495\n",
            "Epoch 20/20\n",
            "188/188 [==============================] - 1s 7ms/step - loss: 0.4189 - accuracy: 0.8545 - val_loss: 0.4410 - val_accuracy: 0.8441\n"
          ],
          "name": "stdout"
        },
        {
          "output_type": "display_data",
          "data": {
            "text/html": [
              "<span style=\"color:#4527A0\"><h1 style=\"font-size:18px\">Trial complete</h1></span>"
            ],
            "text/plain": [
              "<IPython.core.display.HTML object>"
            ]
          },
          "metadata": {
            "tags": []
          }
        },
        {
          "output_type": "display_data",
          "data": {
            "text/html": [
              "<span style=\"color:#4527A0\"><h1 style=\"font-size:18px\">Trial summary</h1></span>"
            ],
            "text/plain": [
              "<IPython.core.display.HTML object>"
            ]
          },
          "metadata": {
            "tags": []
          }
        },
        {
          "output_type": "display_data",
          "data": {
            "text/html": [
              "<span style=\"color:cyan\"> |-Trial ID: ea8610a94d2b29da88f614639f67ce28</span>"
            ],
            "text/plain": [
              "<IPython.core.display.HTML object>"
            ]
          },
          "metadata": {
            "tags": []
          }
        },
        {
          "output_type": "display_data",
          "data": {
            "text/html": [
              "<span style=\"color:cyan\"> |-Score: 0.8495000004768372</span>"
            ],
            "text/plain": [
              "<IPython.core.display.HTML object>"
            ]
          },
          "metadata": {
            "tags": []
          }
        },
        {
          "output_type": "display_data",
          "data": {
            "text/html": [
              "<span style=\"color:cyan\"> |-Best step: 0</span>"
            ],
            "text/plain": [
              "<IPython.core.display.HTML object>"
            ]
          },
          "metadata": {
            "tags": []
          }
        },
        {
          "output_type": "display_data",
          "data": {
            "text/html": [
              "<span style=\"color:#7E57C2\"><h2 style=\"font-size:16px\">Hyperparameters:</h2></span>"
            ],
            "text/plain": [
              "<IPython.core.display.HTML object>"
            ]
          },
          "metadata": {
            "tags": []
          }
        },
        {
          "output_type": "display_data",
          "data": {
            "text/html": [
              "<span style=\"color:cyan\"> |-activation: elu</span>"
            ],
            "text/plain": [
              "<IPython.core.display.HTML object>"
            ]
          },
          "metadata": {
            "tags": []
          }
        },
        {
          "output_type": "display_data",
          "data": {
            "text/html": [
              "<span style=\"color:blue\"> |-optimizer: SGD</span>"
            ],
            "text/plain": [
              "<IPython.core.display.HTML object>"
            ]
          },
          "metadata": {
            "tags": []
          }
        },
        {
          "output_type": "display_data",
          "data": {
            "text/html": [
              "<span style=\"color:cyan\"> |-units_hidden: 192</span>"
            ],
            "text/plain": [
              "<IPython.core.display.HTML object>"
            ]
          },
          "metadata": {
            "tags": []
          }
        },
        {
          "output_type": "display_data",
          "data": {
            "text/html": [
              "<span style=\"color:blue\"> |-units_input: 736</span>"
            ],
            "text/plain": [
              "<IPython.core.display.HTML object>"
            ]
          },
          "metadata": {
            "tags": []
          }
        },
        {
          "output_type": "stream",
          "text": [
            "Epoch 1/20\n",
            "188/188 [==============================] - 2s 9ms/step - loss: 0.8176 - accuracy: 0.7283 - val_loss: 0.5118 - val_accuracy: 0.8108\n",
            "Epoch 2/20\n",
            "188/188 [==============================] - 2s 9ms/step - loss: 0.4881 - accuracy: 0.8152 - val_loss: 0.4528 - val_accuracy: 0.8347\n",
            "Epoch 3/20\n",
            "188/188 [==============================] - 2s 9ms/step - loss: 0.4159 - accuracy: 0.8424 - val_loss: 0.4833 - val_accuracy: 0.8283\n",
            "Epoch 4/20\n",
            "188/188 [==============================] - 2s 8ms/step - loss: 0.3705 - accuracy: 0.8610 - val_loss: 0.4238 - val_accuracy: 0.8435\n",
            "Epoch 5/20\n",
            "188/188 [==============================] - 2s 8ms/step - loss: 0.3422 - accuracy: 0.8706 - val_loss: 0.4070 - val_accuracy: 0.8372\n",
            "Epoch 6/20\n",
            "188/188 [==============================] - 2s 8ms/step - loss: 0.3222 - accuracy: 0.8773 - val_loss: 0.3441 - val_accuracy: 0.8777\n",
            "Epoch 7/20\n",
            "188/188 [==============================] - 2s 8ms/step - loss: 0.3037 - accuracy: 0.8848 - val_loss: 0.3587 - val_accuracy: 0.8685\n",
            "Epoch 8/20\n",
            "188/188 [==============================] - 2s 9ms/step - loss: 0.2869 - accuracy: 0.8897 - val_loss: 0.3400 - val_accuracy: 0.8812\n",
            "Epoch 9/20\n",
            "188/188 [==============================] - 2s 9ms/step - loss: 0.2759 - accuracy: 0.8948 - val_loss: 0.3785 - val_accuracy: 0.8669\n",
            "Epoch 10/20\n",
            "188/188 [==============================] - 2s 8ms/step - loss: 0.2624 - accuracy: 0.8993 - val_loss: 0.3595 - val_accuracy: 0.8777\n",
            "Epoch 11/20\n",
            "188/188 [==============================] - 2s 8ms/step - loss: 0.2521 - accuracy: 0.9028 - val_loss: 0.3523 - val_accuracy: 0.8787\n",
            "Epoch 12/20\n",
            "188/188 [==============================] - 2s 8ms/step - loss: 0.2418 - accuracy: 0.9073 - val_loss: 0.3472 - val_accuracy: 0.8812\n",
            "Epoch 13/20\n",
            "188/188 [==============================] - 2s 8ms/step - loss: 0.2323 - accuracy: 0.9100 - val_loss: 0.3523 - val_accuracy: 0.8839\n",
            "Epoch 14/20\n",
            "188/188 [==============================] - 2s 8ms/step - loss: 0.2264 - accuracy: 0.9137 - val_loss: 0.3981 - val_accuracy: 0.8662\n",
            "Epoch 15/20\n",
            "188/188 [==============================] - 2s 9ms/step - loss: 0.2165 - accuracy: 0.9175 - val_loss: 0.3475 - val_accuracy: 0.8856\n",
            "Epoch 16/20\n",
            "188/188 [==============================] - 2s 9ms/step - loss: 0.2103 - accuracy: 0.9194 - val_loss: 0.3967 - val_accuracy: 0.8669\n",
            "Epoch 17/20\n",
            "188/188 [==============================] - 2s 9ms/step - loss: 0.2034 - accuracy: 0.9226 - val_loss: 0.3716 - val_accuracy: 0.8842\n",
            "Epoch 18/20\n",
            "188/188 [==============================] - 2s 8ms/step - loss: 0.1956 - accuracy: 0.9246 - val_loss: 0.4193 - val_accuracy: 0.8732\n",
            "Epoch 19/20\n",
            "188/188 [==============================] - 2s 8ms/step - loss: 0.1915 - accuracy: 0.9269 - val_loss: 0.4365 - val_accuracy: 0.8698\n",
            "Epoch 20/20\n",
            "188/188 [==============================] - 2s 9ms/step - loss: 0.1808 - accuracy: 0.9293 - val_loss: 0.4030 - val_accuracy: 0.8789\n"
          ],
          "name": "stdout"
        },
        {
          "output_type": "display_data",
          "data": {
            "text/html": [
              "<span style=\"color:#4527A0\"><h1 style=\"font-size:18px\">Trial complete</h1></span>"
            ],
            "text/plain": [
              "<IPython.core.display.HTML object>"
            ]
          },
          "metadata": {
            "tags": []
          }
        },
        {
          "output_type": "display_data",
          "data": {
            "text/html": [
              "<span style=\"color:#4527A0\"><h1 style=\"font-size:18px\">Trial summary</h1></span>"
            ],
            "text/plain": [
              "<IPython.core.display.HTML object>"
            ]
          },
          "metadata": {
            "tags": []
          }
        },
        {
          "output_type": "display_data",
          "data": {
            "text/html": [
              "<span style=\"color:cyan\"> |-Trial ID: eb9cb945e1b7d920d5ba56d84f0bfe70</span>"
            ],
            "text/plain": [
              "<IPython.core.display.HTML object>"
            ]
          },
          "metadata": {
            "tags": []
          }
        },
        {
          "output_type": "display_data",
          "data": {
            "text/html": [
              "<span style=\"color:cyan\"> |-Score: 0.8855833411216736</span>"
            ],
            "text/plain": [
              "<IPython.core.display.HTML object>"
            ]
          },
          "metadata": {
            "tags": []
          }
        },
        {
          "output_type": "display_data",
          "data": {
            "text/html": [
              "<span style=\"color:cyan\"> |-Best step: 0</span>"
            ],
            "text/plain": [
              "<IPython.core.display.HTML object>"
            ]
          },
          "metadata": {
            "tags": []
          }
        },
        {
          "output_type": "display_data",
          "data": {
            "text/html": [
              "<span style=\"color:#7E57C2\"><h2 style=\"font-size:16px\">Hyperparameters:</h2></span>"
            ],
            "text/plain": [
              "<IPython.core.display.HTML object>"
            ]
          },
          "metadata": {
            "tags": []
          }
        },
        {
          "output_type": "display_data",
          "data": {
            "text/html": [
              "<span style=\"color:cyan\"> |-activation: elu</span>"
            ],
            "text/plain": [
              "<IPython.core.display.HTML object>"
            ]
          },
          "metadata": {
            "tags": []
          }
        },
        {
          "output_type": "display_data",
          "data": {
            "text/html": [
              "<span style=\"color:blue\"> |-optimizer: rmsprop</span>"
            ],
            "text/plain": [
              "<IPython.core.display.HTML object>"
            ]
          },
          "metadata": {
            "tags": []
          }
        },
        {
          "output_type": "display_data",
          "data": {
            "text/html": [
              "<span style=\"color:cyan\"> |-units_hidden: 320</span>"
            ],
            "text/plain": [
              "<IPython.core.display.HTML object>"
            ]
          },
          "metadata": {
            "tags": []
          }
        },
        {
          "output_type": "display_data",
          "data": {
            "text/html": [
              "<span style=\"color:blue\"> |-units_input: 896</span>"
            ],
            "text/plain": [
              "<IPython.core.display.HTML object>"
            ]
          },
          "metadata": {
            "tags": []
          }
        },
        {
          "output_type": "stream",
          "text": [
            "Epoch 1/20\n",
            "188/188 [==============================] - 2s 9ms/step - loss: 0.5224 - accuracy: 0.8165 - val_loss: 0.4311 - val_accuracy: 0.8369\n",
            "Epoch 2/20\n",
            "188/188 [==============================] - 2s 8ms/step - loss: 0.3648 - accuracy: 0.8674 - val_loss: 0.3481 - val_accuracy: 0.8710\n",
            "Epoch 3/20\n",
            "188/188 [==============================] - 2s 8ms/step - loss: 0.3178 - accuracy: 0.8826 - val_loss: 0.3245 - val_accuracy: 0.8827\n",
            "Epoch 4/20\n",
            "188/188 [==============================] - 2s 8ms/step - loss: 0.2934 - accuracy: 0.8915 - val_loss: 0.3482 - val_accuracy: 0.8734\n",
            "Epoch 5/20\n",
            "188/188 [==============================] - 2s 8ms/step - loss: 0.2765 - accuracy: 0.8966 - val_loss: 0.3220 - val_accuracy: 0.8871\n",
            "Epoch 6/20\n",
            "188/188 [==============================] - 2s 8ms/step - loss: 0.2637 - accuracy: 0.9018 - val_loss: 0.3189 - val_accuracy: 0.8837\n",
            "Epoch 7/20\n",
            "188/188 [==============================] - 2s 9ms/step - loss: 0.2476 - accuracy: 0.9065 - val_loss: 0.3219 - val_accuracy: 0.8823\n",
            "Epoch 8/20\n",
            "188/188 [==============================] - 2s 8ms/step - loss: 0.2350 - accuracy: 0.9114 - val_loss: 0.3022 - val_accuracy: 0.8910\n",
            "Epoch 9/20\n",
            "188/188 [==============================] - 2s 8ms/step - loss: 0.2220 - accuracy: 0.9162 - val_loss: 0.3179 - val_accuracy: 0.8888\n",
            "Epoch 10/20\n",
            "188/188 [==============================] - 2s 8ms/step - loss: 0.2142 - accuracy: 0.9187 - val_loss: 0.3251 - val_accuracy: 0.8865\n",
            "Epoch 11/20\n",
            "188/188 [==============================] - 2s 8ms/step - loss: 0.2064 - accuracy: 0.9216 - val_loss: 0.3130 - val_accuracy: 0.8937\n",
            "Epoch 12/20\n",
            "188/188 [==============================] - 2s 8ms/step - loss: 0.1982 - accuracy: 0.9252 - val_loss: 0.3051 - val_accuracy: 0.8948\n",
            "Epoch 13/20\n",
            "188/188 [==============================] - 2s 8ms/step - loss: 0.1819 - accuracy: 0.9319 - val_loss: 0.3305 - val_accuracy: 0.8867\n",
            "Epoch 14/20\n",
            "188/188 [==============================] - 2s 9ms/step - loss: 0.1805 - accuracy: 0.9311 - val_loss: 0.3079 - val_accuracy: 0.8986\n",
            "Epoch 15/20\n",
            "188/188 [==============================] - 2s 8ms/step - loss: 0.1778 - accuracy: 0.9323 - val_loss: 0.3194 - val_accuracy: 0.8950\n",
            "Epoch 16/20\n",
            "188/188 [==============================] - 2s 8ms/step - loss: 0.1657 - accuracy: 0.9374 - val_loss: 0.3278 - val_accuracy: 0.8943\n",
            "Epoch 17/20\n",
            "188/188 [==============================] - 2s 8ms/step - loss: 0.1588 - accuracy: 0.9392 - val_loss: 0.3491 - val_accuracy: 0.8905\n",
            "Epoch 18/20\n",
            "188/188 [==============================] - 2s 8ms/step - loss: 0.1561 - accuracy: 0.9409 - val_loss: 0.3280 - val_accuracy: 0.8971\n",
            "Epoch 19/20\n",
            "188/188 [==============================] - 2s 8ms/step - loss: 0.1463 - accuracy: 0.9433 - val_loss: 0.3589 - val_accuracy: 0.8936\n",
            "Epoch 20/20\n",
            "188/188 [==============================] - 2s 8ms/step - loss: 0.1432 - accuracy: 0.9452 - val_loss: 0.3520 - val_accuracy: 0.8938\n"
          ],
          "name": "stdout"
        },
        {
          "output_type": "display_data",
          "data": {
            "text/html": [
              "<span style=\"color:#4527A0\"><h1 style=\"font-size:18px\">Trial complete</h1></span>"
            ],
            "text/plain": [
              "<IPython.core.display.HTML object>"
            ]
          },
          "metadata": {
            "tags": []
          }
        },
        {
          "output_type": "display_data",
          "data": {
            "text/html": [
              "<span style=\"color:#4527A0\"><h1 style=\"font-size:18px\">Trial summary</h1></span>"
            ],
            "text/plain": [
              "<IPython.core.display.HTML object>"
            ]
          },
          "metadata": {
            "tags": []
          }
        },
        {
          "output_type": "display_data",
          "data": {
            "text/html": [
              "<span style=\"color:cyan\"> |-Trial ID: 629a7584da332eabd867abbca03d0d54</span>"
            ],
            "text/plain": [
              "<IPython.core.display.HTML object>"
            ]
          },
          "metadata": {
            "tags": []
          }
        },
        {
          "output_type": "display_data",
          "data": {
            "text/html": [
              "<span style=\"color:cyan\"> |-Score: 0.8985833525657654</span>"
            ],
            "text/plain": [
              "<IPython.core.display.HTML object>"
            ]
          },
          "metadata": {
            "tags": []
          }
        },
        {
          "output_type": "display_data",
          "data": {
            "text/html": [
              "<span style=\"color:cyan\"> |-Best step: 0</span>"
            ],
            "text/plain": [
              "<IPython.core.display.HTML object>"
            ]
          },
          "metadata": {
            "tags": []
          }
        },
        {
          "output_type": "display_data",
          "data": {
            "text/html": [
              "<span style=\"color:#7E57C2\"><h2 style=\"font-size:16px\">Hyperparameters:</h2></span>"
            ],
            "text/plain": [
              "<IPython.core.display.HTML object>"
            ]
          },
          "metadata": {
            "tags": []
          }
        },
        {
          "output_type": "display_data",
          "data": {
            "text/html": [
              "<span style=\"color:cyan\"> |-activation: relu</span>"
            ],
            "text/plain": [
              "<IPython.core.display.HTML object>"
            ]
          },
          "metadata": {
            "tags": []
          }
        },
        {
          "output_type": "display_data",
          "data": {
            "text/html": [
              "<span style=\"color:blue\"> |-optimizer: adam</span>"
            ],
            "text/plain": [
              "<IPython.core.display.HTML object>"
            ]
          },
          "metadata": {
            "tags": []
          }
        },
        {
          "output_type": "display_data",
          "data": {
            "text/html": [
              "<span style=\"color:cyan\"> |-units_hidden: 480</span>"
            ],
            "text/plain": [
              "<IPython.core.display.HTML object>"
            ]
          },
          "metadata": {
            "tags": []
          }
        },
        {
          "output_type": "display_data",
          "data": {
            "text/html": [
              "<span style=\"color:blue\"> |-units_input: 992</span>"
            ],
            "text/plain": [
              "<IPython.core.display.HTML object>"
            ]
          },
          "metadata": {
            "tags": []
          }
        },
        {
          "output_type": "stream",
          "text": [
            "Epoch 1/20\n",
            "188/188 [==============================] - 1s 7ms/step - loss: 0.5501 - accuracy: 0.8035 - val_loss: 0.4265 - val_accuracy: 0.8472\n",
            "Epoch 2/20\n",
            "188/188 [==============================] - 1s 7ms/step - loss: 0.4020 - accuracy: 0.8540 - val_loss: 0.4171 - val_accuracy: 0.8514\n",
            "Epoch 3/20\n",
            "188/188 [==============================] - 1s 7ms/step - loss: 0.3601 - accuracy: 0.8690 - val_loss: 0.3602 - val_accuracy: 0.8720\n",
            "Epoch 4/20\n",
            "188/188 [==============================] - 1s 7ms/step - loss: 0.3384 - accuracy: 0.8755 - val_loss: 0.3414 - val_accuracy: 0.8768\n",
            "Epoch 5/20\n",
            "188/188 [==============================] - 1s 7ms/step - loss: 0.3121 - accuracy: 0.8839 - val_loss: 0.3496 - val_accuracy: 0.8727\n",
            "Epoch 6/20\n",
            "188/188 [==============================] - 1s 7ms/step - loss: 0.2979 - accuracy: 0.8894 - val_loss: 0.3698 - val_accuracy: 0.8706\n",
            "Epoch 7/20\n",
            "188/188 [==============================] - 1s 7ms/step - loss: 0.2830 - accuracy: 0.8957 - val_loss: 0.3347 - val_accuracy: 0.8757\n",
            "Epoch 8/20\n",
            "188/188 [==============================] - 1s 7ms/step - loss: 0.2686 - accuracy: 0.9010 - val_loss: 0.3361 - val_accuracy: 0.8817\n",
            "Epoch 9/20\n",
            "188/188 [==============================] - 1s 7ms/step - loss: 0.2609 - accuracy: 0.9021 - val_loss: 0.3161 - val_accuracy: 0.8868\n",
            "Epoch 10/20\n",
            "188/188 [==============================] - 1s 7ms/step - loss: 0.2499 - accuracy: 0.9060 - val_loss: 0.3370 - val_accuracy: 0.8792\n",
            "Epoch 11/20\n",
            "188/188 [==============================] - 1s 7ms/step - loss: 0.2402 - accuracy: 0.9084 - val_loss: 0.3216 - val_accuracy: 0.8845\n",
            "Epoch 12/20\n",
            "188/188 [==============================] - 1s 7ms/step - loss: 0.2336 - accuracy: 0.9117 - val_loss: 0.3169 - val_accuracy: 0.8865\n",
            "Epoch 13/20\n",
            "188/188 [==============================] - 1s 7ms/step - loss: 0.2273 - accuracy: 0.9141 - val_loss: 0.3227 - val_accuracy: 0.8857\n",
            "Epoch 14/20\n",
            "188/188 [==============================] - 1s 7ms/step - loss: 0.2143 - accuracy: 0.9201 - val_loss: 0.3243 - val_accuracy: 0.8907\n",
            "Epoch 15/20\n",
            "188/188 [==============================] - 1s 7ms/step - loss: 0.2044 - accuracy: 0.9233 - val_loss: 0.3116 - val_accuracy: 0.8895\n",
            "Epoch 16/20\n",
            "188/188 [==============================] - 1s 7ms/step - loss: 0.1981 - accuracy: 0.9256 - val_loss: 0.3044 - val_accuracy: 0.8938\n",
            "Epoch 17/20\n",
            "188/188 [==============================] - 1s 7ms/step - loss: 0.1976 - accuracy: 0.9244 - val_loss: 0.3407 - val_accuracy: 0.8830\n",
            "Epoch 18/20\n",
            "188/188 [==============================] - 1s 7ms/step - loss: 0.1889 - accuracy: 0.9286 - val_loss: 0.3328 - val_accuracy: 0.8885\n",
            "Epoch 19/20\n",
            "188/188 [==============================] - 1s 7ms/step - loss: 0.1822 - accuracy: 0.9311 - val_loss: 0.3166 - val_accuracy: 0.8939\n",
            "Epoch 20/20\n",
            "188/188 [==============================] - 1s 7ms/step - loss: 0.1668 - accuracy: 0.9375 - val_loss: 0.3410 - val_accuracy: 0.8916\n"
          ],
          "name": "stdout"
        },
        {
          "output_type": "display_data",
          "data": {
            "text/html": [
              "<span style=\"color:#4527A0\"><h1 style=\"font-size:18px\">Trial complete</h1></span>"
            ],
            "text/plain": [
              "<IPython.core.display.HTML object>"
            ]
          },
          "metadata": {
            "tags": []
          }
        },
        {
          "output_type": "display_data",
          "data": {
            "text/html": [
              "<span style=\"color:#4527A0\"><h1 style=\"font-size:18px\">Trial summary</h1></span>"
            ],
            "text/plain": [
              "<IPython.core.display.HTML object>"
            ]
          },
          "metadata": {
            "tags": []
          }
        },
        {
          "output_type": "display_data",
          "data": {
            "text/html": [
              "<span style=\"color:cyan\"> |-Trial ID: bf378043d643a0971fcecd55771977a9</span>"
            ],
            "text/plain": [
              "<IPython.core.display.HTML object>"
            ]
          },
          "metadata": {
            "tags": []
          }
        },
        {
          "output_type": "display_data",
          "data": {
            "text/html": [
              "<span style=\"color:cyan\"> |-Score: 0.893916666507721</span>"
            ],
            "text/plain": [
              "<IPython.core.display.HTML object>"
            ]
          },
          "metadata": {
            "tags": []
          }
        },
        {
          "output_type": "display_data",
          "data": {
            "text/html": [
              "<span style=\"color:cyan\"> |-Best step: 0</span>"
            ],
            "text/plain": [
              "<IPython.core.display.HTML object>"
            ]
          },
          "metadata": {
            "tags": []
          }
        },
        {
          "output_type": "display_data",
          "data": {
            "text/html": [
              "<span style=\"color:#7E57C2\"><h2 style=\"font-size:16px\">Hyperparameters:</h2></span>"
            ],
            "text/plain": [
              "<IPython.core.display.HTML object>"
            ]
          },
          "metadata": {
            "tags": []
          }
        },
        {
          "output_type": "display_data",
          "data": {
            "text/html": [
              "<span style=\"color:cyan\"> |-activation: elu</span>"
            ],
            "text/plain": [
              "<IPython.core.display.HTML object>"
            ]
          },
          "metadata": {
            "tags": []
          }
        },
        {
          "output_type": "display_data",
          "data": {
            "text/html": [
              "<span style=\"color:blue\"> |-optimizer: adam</span>"
            ],
            "text/plain": [
              "<IPython.core.display.HTML object>"
            ]
          },
          "metadata": {
            "tags": []
          }
        },
        {
          "output_type": "display_data",
          "data": {
            "text/html": [
              "<span style=\"color:cyan\"> |-units_hidden: 192</span>"
            ],
            "text/plain": [
              "<IPython.core.display.HTML object>"
            ]
          },
          "metadata": {
            "tags": []
          }
        },
        {
          "output_type": "display_data",
          "data": {
            "text/html": [
              "<span style=\"color:blue\"> |-units_input: 640</span>"
            ],
            "text/plain": [
              "<IPython.core.display.HTML object>"
            ]
          },
          "metadata": {
            "tags": []
          }
        },
        {
          "output_type": "stream",
          "text": [
            "Epoch 1/20\n",
            "188/188 [==============================] - 1s 8ms/step - loss: 0.8179 - accuracy: 0.7349 - val_loss: 0.6118 - val_accuracy: 0.7947\n",
            "Epoch 2/20\n",
            "188/188 [==============================] - 1s 7ms/step - loss: 0.5675 - accuracy: 0.8079 - val_loss: 0.5412 - val_accuracy: 0.8136\n",
            "Epoch 3/20\n",
            "188/188 [==============================] - 1s 7ms/step - loss: 0.5146 - accuracy: 0.8235 - val_loss: 0.5031 - val_accuracy: 0.8207\n",
            "Epoch 4/20\n",
            "188/188 [==============================] - 1s 7ms/step - loss: 0.4872 - accuracy: 0.8313 - val_loss: 0.5096 - val_accuracy: 0.8133\n",
            "Epoch 5/20\n",
            "188/188 [==============================] - 1s 7ms/step - loss: 0.4687 - accuracy: 0.8370 - val_loss: 0.4769 - val_accuracy: 0.8266\n",
            "Epoch 6/20\n",
            "188/188 [==============================] - 1s 7ms/step - loss: 0.4544 - accuracy: 0.8420 - val_loss: 0.4537 - val_accuracy: 0.8394\n",
            "Epoch 7/20\n",
            "188/188 [==============================] - 1s 7ms/step - loss: 0.4447 - accuracy: 0.8468 - val_loss: 0.4509 - val_accuracy: 0.8388\n",
            "Epoch 8/20\n",
            "188/188 [==============================] - 1s 7ms/step - loss: 0.4340 - accuracy: 0.8486 - val_loss: 0.4515 - val_accuracy: 0.8362\n",
            "Epoch 9/20\n",
            "188/188 [==============================] - 1s 7ms/step - loss: 0.4278 - accuracy: 0.8506 - val_loss: 0.4360 - val_accuracy: 0.8441\n",
            "Epoch 10/20\n",
            "188/188 [==============================] - 1s 7ms/step - loss: 0.4210 - accuracy: 0.8538 - val_loss: 0.4304 - val_accuracy: 0.8450\n",
            "Epoch 11/20\n",
            "188/188 [==============================] - 1s 7ms/step - loss: 0.4155 - accuracy: 0.8550 - val_loss: 0.4341 - val_accuracy: 0.8438\n",
            "Epoch 12/20\n",
            "188/188 [==============================] - 1s 7ms/step - loss: 0.4118 - accuracy: 0.8562 - val_loss: 0.4294 - val_accuracy: 0.8482\n",
            "Epoch 13/20\n",
            "188/188 [==============================] - 1s 7ms/step - loss: 0.4073 - accuracy: 0.8572 - val_loss: 0.4135 - val_accuracy: 0.8516\n",
            "Epoch 14/20\n",
            "188/188 [==============================] - 1s 7ms/step - loss: 0.4024 - accuracy: 0.8603 - val_loss: 0.4153 - val_accuracy: 0.8523\n",
            "Epoch 15/20\n",
            "188/188 [==============================] - 1s 7ms/step - loss: 0.3982 - accuracy: 0.8612 - val_loss: 0.4197 - val_accuracy: 0.8512\n",
            "Epoch 16/20\n",
            "188/188 [==============================] - 1s 7ms/step - loss: 0.3941 - accuracy: 0.8625 - val_loss: 0.4066 - val_accuracy: 0.8562\n",
            "Epoch 17/20\n",
            "188/188 [==============================] - 1s 7ms/step - loss: 0.3915 - accuracy: 0.8631 - val_loss: 0.4021 - val_accuracy: 0.8545\n",
            "Epoch 18/20\n",
            "188/188 [==============================] - 1s 7ms/step - loss: 0.3883 - accuracy: 0.8644 - val_loss: 0.4156 - val_accuracy: 0.8497\n",
            "Epoch 19/20\n",
            "188/188 [==============================] - 1s 8ms/step - loss: 0.3853 - accuracy: 0.8647 - val_loss: 0.4069 - val_accuracy: 0.8551\n",
            "Epoch 20/20\n",
            "188/188 [==============================] - 1s 7ms/step - loss: 0.3830 - accuracy: 0.8666 - val_loss: 0.4046 - val_accuracy: 0.8577\n"
          ],
          "name": "stdout"
        },
        {
          "output_type": "display_data",
          "data": {
            "text/html": [
              "<span style=\"color:#4527A0\"><h1 style=\"font-size:18px\">Trial complete</h1></span>"
            ],
            "text/plain": [
              "<IPython.core.display.HTML object>"
            ]
          },
          "metadata": {
            "tags": []
          }
        },
        {
          "output_type": "display_data",
          "data": {
            "text/html": [
              "<span style=\"color:#4527A0\"><h1 style=\"font-size:18px\">Trial summary</h1></span>"
            ],
            "text/plain": [
              "<IPython.core.display.HTML object>"
            ]
          },
          "metadata": {
            "tags": []
          }
        },
        {
          "output_type": "display_data",
          "data": {
            "text/html": [
              "<span style=\"color:cyan\"> |-Trial ID: 7b407f686b83a57c94fab932e9fe1cc3</span>"
            ],
            "text/plain": [
              "<IPython.core.display.HTML object>"
            ]
          },
          "metadata": {
            "tags": []
          }
        },
        {
          "output_type": "display_data",
          "data": {
            "text/html": [
              "<span style=\"color:cyan\"> |-Score: 0.8577499985694885</span>"
            ],
            "text/plain": [
              "<IPython.core.display.HTML object>"
            ]
          },
          "metadata": {
            "tags": []
          }
        },
        {
          "output_type": "display_data",
          "data": {
            "text/html": [
              "<span style=\"color:cyan\"> |-Best step: 0</span>"
            ],
            "text/plain": [
              "<IPython.core.display.HTML object>"
            ]
          },
          "metadata": {
            "tags": []
          }
        },
        {
          "output_type": "display_data",
          "data": {
            "text/html": [
              "<span style=\"color:#7E57C2\"><h2 style=\"font-size:16px\">Hyperparameters:</h2></span>"
            ],
            "text/plain": [
              "<IPython.core.display.HTML object>"
            ]
          },
          "metadata": {
            "tags": []
          }
        },
        {
          "output_type": "display_data",
          "data": {
            "text/html": [
              "<span style=\"color:cyan\"> |-activation: selu</span>"
            ],
            "text/plain": [
              "<IPython.core.display.HTML object>"
            ]
          },
          "metadata": {
            "tags": []
          }
        },
        {
          "output_type": "display_data",
          "data": {
            "text/html": [
              "<span style=\"color:blue\"> |-optimizer: SGD</span>"
            ],
            "text/plain": [
              "<IPython.core.display.HTML object>"
            ]
          },
          "metadata": {
            "tags": []
          }
        },
        {
          "output_type": "display_data",
          "data": {
            "text/html": [
              "<span style=\"color:cyan\"> |-units_hidden: 288</span>"
            ],
            "text/plain": [
              "<IPython.core.display.HTML object>"
            ]
          },
          "metadata": {
            "tags": []
          }
        },
        {
          "output_type": "display_data",
          "data": {
            "text/html": [
              "<span style=\"color:blue\"> |-units_input: 896</span>"
            ],
            "text/plain": [
              "<IPython.core.display.HTML object>"
            ]
          },
          "metadata": {
            "tags": []
          }
        },
        {
          "output_type": "stream",
          "text": [
            "Epoch 1/20\n",
            "188/188 [==============================] - 2s 9ms/step - loss: 0.9042 - accuracy: 0.7171 - val_loss: 0.7562 - val_accuracy: 0.7372\n",
            "Epoch 2/20\n",
            "188/188 [==============================] - 2s 9ms/step - loss: 0.5142 - accuracy: 0.8076 - val_loss: 0.5438 - val_accuracy: 0.7922\n",
            "Epoch 3/20\n",
            "188/188 [==============================] - 2s 9ms/step - loss: 0.4329 - accuracy: 0.8366 - val_loss: 0.4981 - val_accuracy: 0.8172\n",
            "Epoch 4/20\n",
            "188/188 [==============================] - 2s 9ms/step - loss: 0.3869 - accuracy: 0.8537 - val_loss: 0.4305 - val_accuracy: 0.8457\n",
            "Epoch 5/20\n",
            "188/188 [==============================] - 2s 8ms/step - loss: 0.3525 - accuracy: 0.8660 - val_loss: 0.4028 - val_accuracy: 0.8539\n",
            "Epoch 6/20\n",
            "188/188 [==============================] - 2s 8ms/step - loss: 0.3342 - accuracy: 0.8725 - val_loss: 0.4725 - val_accuracy: 0.8319\n",
            "Epoch 7/20\n",
            "188/188 [==============================] - 2s 9ms/step - loss: 0.3105 - accuracy: 0.8821 - val_loss: 0.3407 - val_accuracy: 0.8793\n",
            "Epoch 8/20\n",
            "188/188 [==============================] - 2s 9ms/step - loss: 0.2990 - accuracy: 0.8847 - val_loss: 0.3468 - val_accuracy: 0.8763\n",
            "Epoch 9/20\n",
            "188/188 [==============================] - 2s 9ms/step - loss: 0.2813 - accuracy: 0.8917 - val_loss: 0.3695 - val_accuracy: 0.8733\n",
            "Epoch 10/20\n",
            "188/188 [==============================] - 2s 8ms/step - loss: 0.2688 - accuracy: 0.8958 - val_loss: 0.3388 - val_accuracy: 0.8832\n",
            "Epoch 11/20\n",
            "188/188 [==============================] - 2s 9ms/step - loss: 0.2605 - accuracy: 0.8998 - val_loss: 0.4365 - val_accuracy: 0.8542\n",
            "Epoch 12/20\n",
            "188/188 [==============================] - 2s 9ms/step - loss: 0.2458 - accuracy: 0.9058 - val_loss: 0.3218 - val_accuracy: 0.8919\n",
            "Epoch 13/20\n",
            "188/188 [==============================] - 2s 8ms/step - loss: 0.2361 - accuracy: 0.9104 - val_loss: 0.3352 - val_accuracy: 0.8857\n",
            "Epoch 14/20\n",
            "188/188 [==============================] - 2s 9ms/step - loss: 0.2294 - accuracy: 0.9118 - val_loss: 0.3345 - val_accuracy: 0.8881\n",
            "Epoch 15/20\n",
            "188/188 [==============================] - 2s 9ms/step - loss: 0.2199 - accuracy: 0.9151 - val_loss: 0.3575 - val_accuracy: 0.8833\n",
            "Epoch 16/20\n",
            "188/188 [==============================] - 2s 9ms/step - loss: 0.2093 - accuracy: 0.9187 - val_loss: 0.4239 - val_accuracy: 0.8650\n",
            "Epoch 17/20\n",
            "188/188 [==============================] - 2s 9ms/step - loss: 0.2030 - accuracy: 0.9226 - val_loss: 0.3437 - val_accuracy: 0.8932\n",
            "Epoch 18/20\n",
            "188/188 [==============================] - 2s 9ms/step - loss: 0.1996 - accuracy: 0.9228 - val_loss: 0.4238 - val_accuracy: 0.8659\n",
            "Epoch 19/20\n",
            "188/188 [==============================] - 2s 9ms/step - loss: 0.1898 - accuracy: 0.9266 - val_loss: 0.3643 - val_accuracy: 0.8871\n",
            "Epoch 20/20\n",
            "188/188 [==============================] - 2s 8ms/step - loss: 0.1848 - accuracy: 0.9294 - val_loss: 0.4075 - val_accuracy: 0.8798\n"
          ],
          "name": "stdout"
        },
        {
          "output_type": "display_data",
          "data": {
            "text/html": [
              "<span style=\"color:#4527A0\"><h1 style=\"font-size:18px\">Trial complete</h1></span>"
            ],
            "text/plain": [
              "<IPython.core.display.HTML object>"
            ]
          },
          "metadata": {
            "tags": []
          }
        },
        {
          "output_type": "display_data",
          "data": {
            "text/html": [
              "<span style=\"color:#4527A0\"><h1 style=\"font-size:18px\">Trial summary</h1></span>"
            ],
            "text/plain": [
              "<IPython.core.display.HTML object>"
            ]
          },
          "metadata": {
            "tags": []
          }
        },
        {
          "output_type": "display_data",
          "data": {
            "text/html": [
              "<span style=\"color:cyan\"> |-Trial ID: d820ff998033dd62be18e9ca261fec9b</span>"
            ],
            "text/plain": [
              "<IPython.core.display.HTML object>"
            ]
          },
          "metadata": {
            "tags": []
          }
        },
        {
          "output_type": "display_data",
          "data": {
            "text/html": [
              "<span style=\"color:cyan\"> |-Score: 0.8932499885559082</span>"
            ],
            "text/plain": [
              "<IPython.core.display.HTML object>"
            ]
          },
          "metadata": {
            "tags": []
          }
        },
        {
          "output_type": "display_data",
          "data": {
            "text/html": [
              "<span style=\"color:cyan\"> |-Best step: 0</span>"
            ],
            "text/plain": [
              "<IPython.core.display.HTML object>"
            ]
          },
          "metadata": {
            "tags": []
          }
        },
        {
          "output_type": "display_data",
          "data": {
            "text/html": [
              "<span style=\"color:#7E57C2\"><h2 style=\"font-size:16px\">Hyperparameters:</h2></span>"
            ],
            "text/plain": [
              "<IPython.core.display.HTML object>"
            ]
          },
          "metadata": {
            "tags": []
          }
        },
        {
          "output_type": "display_data",
          "data": {
            "text/html": [
              "<span style=\"color:cyan\"> |-activation: elu</span>"
            ],
            "text/plain": [
              "<IPython.core.display.HTML object>"
            ]
          },
          "metadata": {
            "tags": []
          }
        },
        {
          "output_type": "display_data",
          "data": {
            "text/html": [
              "<span style=\"color:blue\"> |-optimizer: rmsprop</span>"
            ],
            "text/plain": [
              "<IPython.core.display.HTML object>"
            ]
          },
          "metadata": {
            "tags": []
          }
        },
        {
          "output_type": "display_data",
          "data": {
            "text/html": [
              "<span style=\"color:cyan\"> |-units_hidden: 512</span>"
            ],
            "text/plain": [
              "<IPython.core.display.HTML object>"
            ]
          },
          "metadata": {
            "tags": []
          }
        },
        {
          "output_type": "display_data",
          "data": {
            "text/html": [
              "<span style=\"color:blue\"> |-units_input: 864</span>"
            ],
            "text/plain": [
              "<IPython.core.display.HTML object>"
            ]
          },
          "metadata": {
            "tags": []
          }
        },
        {
          "output_type": "stream",
          "text": [
            "Epoch 1/20\n",
            "188/188 [==============================] - 1s 7ms/step - loss: 2.2691 - accuracy: 0.2847 - val_loss: 2.2134 - val_accuracy: 0.5318\n",
            "Epoch 2/20\n",
            "188/188 [==============================] - 1s 7ms/step - loss: 2.1684 - accuracy: 0.5153 - val_loss: 2.1173 - val_accuracy: 0.6074\n",
            "Epoch 3/20\n",
            "188/188 [==============================] - 1s 7ms/step - loss: 2.0650 - accuracy: 0.5789 - val_loss: 2.0041 - val_accuracy: 0.6294\n",
            "Epoch 4/20\n",
            "188/188 [==============================] - 1s 7ms/step - loss: 1.9423 - accuracy: 0.5873 - val_loss: 1.8716 - val_accuracy: 0.5901\n",
            "Epoch 5/20\n",
            "188/188 [==============================] - 1s 7ms/step - loss: 1.8041 - accuracy: 0.5910 - val_loss: 1.7279 - val_accuracy: 0.6079\n",
            "Epoch 6/20\n",
            "188/188 [==============================] - 1s 7ms/step - loss: 1.6629 - accuracy: 0.6037 - val_loss: 1.5901 - val_accuracy: 0.6154\n",
            "Epoch 7/20\n",
            "188/188 [==============================] - 1s 7ms/step - loss: 1.5338 - accuracy: 0.6185 - val_loss: 1.4695 - val_accuracy: 0.6196\n",
            "Epoch 8/20\n",
            "188/188 [==============================] - 1s 7ms/step - loss: 1.4242 - accuracy: 0.6306 - val_loss: 1.3692 - val_accuracy: 0.6375\n",
            "Epoch 9/20\n",
            "188/188 [==============================] - 1s 7ms/step - loss: 1.3330 - accuracy: 0.6439 - val_loss: 1.2861 - val_accuracy: 0.6619\n",
            "Epoch 10/20\n",
            "188/188 [==============================] - 1s 7ms/step - loss: 1.2583 - accuracy: 0.6575 - val_loss: 1.2171 - val_accuracy: 0.6614\n",
            "Epoch 11/20\n",
            "188/188 [==============================] - 1s 7ms/step - loss: 1.1958 - accuracy: 0.6685 - val_loss: 1.1601 - val_accuracy: 0.6862\n",
            "Epoch 12/20\n",
            "188/188 [==============================] - 1s 7ms/step - loss: 1.1427 - accuracy: 0.6777 - val_loss: 1.1098 - val_accuracy: 0.6883\n",
            "Epoch 13/20\n",
            "188/188 [==============================] - 1s 7ms/step - loss: 1.0970 - accuracy: 0.6851 - val_loss: 1.0677 - val_accuracy: 0.7038\n",
            "Epoch 14/20\n",
            "188/188 [==============================] - 1s 8ms/step - loss: 1.0572 - accuracy: 0.6939 - val_loss: 1.0299 - val_accuracy: 0.7082\n",
            "Epoch 15/20\n",
            "188/188 [==============================] - 1s 7ms/step - loss: 1.0219 - accuracy: 0.6999 - val_loss: 0.9956 - val_accuracy: 0.7093\n",
            "Epoch 16/20\n",
            "188/188 [==============================] - 1s 7ms/step - loss: 0.9903 - accuracy: 0.7061 - val_loss: 0.9658 - val_accuracy: 0.7099\n",
            "Epoch 17/20\n",
            "188/188 [==============================] - 1s 7ms/step - loss: 0.9619 - accuracy: 0.7103 - val_loss: 0.9394 - val_accuracy: 0.7114\n",
            "Epoch 18/20\n",
            "188/188 [==============================] - 1s 7ms/step - loss: 0.9361 - accuracy: 0.7138 - val_loss: 0.9137 - val_accuracy: 0.7195\n",
            "Epoch 19/20\n",
            "188/188 [==============================] - 1s 7ms/step - loss: 0.9123 - accuracy: 0.7175 - val_loss: 0.8909 - val_accuracy: 0.7232\n",
            "Epoch 20/20\n",
            "188/188 [==============================] - 1s 7ms/step - loss: 0.8906 - accuracy: 0.7217 - val_loss: 0.8697 - val_accuracy: 0.7284\n"
          ],
          "name": "stdout"
        },
        {
          "output_type": "display_data",
          "data": {
            "text/html": [
              "<span style=\"color:#4527A0\"><h1 style=\"font-size:18px\">Trial complete</h1></span>"
            ],
            "text/plain": [
              "<IPython.core.display.HTML object>"
            ]
          },
          "metadata": {
            "tags": []
          }
        },
        {
          "output_type": "display_data",
          "data": {
            "text/html": [
              "<span style=\"color:#4527A0\"><h1 style=\"font-size:18px\">Trial summary</h1></span>"
            ],
            "text/plain": [
              "<IPython.core.display.HTML object>"
            ]
          },
          "metadata": {
            "tags": []
          }
        },
        {
          "output_type": "display_data",
          "data": {
            "text/html": [
              "<span style=\"color:cyan\"> |-Trial ID: 1ac1da81592c4e816f68be64a78e13ad</span>"
            ],
            "text/plain": [
              "<IPython.core.display.HTML object>"
            ]
          },
          "metadata": {
            "tags": []
          }
        },
        {
          "output_type": "display_data",
          "data": {
            "text/html": [
              "<span style=\"color:cyan\"> |-Score: 0.7284166812896729</span>"
            ],
            "text/plain": [
              "<IPython.core.display.HTML object>"
            ]
          },
          "metadata": {
            "tags": []
          }
        },
        {
          "output_type": "display_data",
          "data": {
            "text/html": [
              "<span style=\"color:cyan\"> |-Best step: 0</span>"
            ],
            "text/plain": [
              "<IPython.core.display.HTML object>"
            ]
          },
          "metadata": {
            "tags": []
          }
        },
        {
          "output_type": "display_data",
          "data": {
            "text/html": [
              "<span style=\"color:#7E57C2\"><h2 style=\"font-size:16px\">Hyperparameters:</h2></span>"
            ],
            "text/plain": [
              "<IPython.core.display.HTML object>"
            ]
          },
          "metadata": {
            "tags": []
          }
        },
        {
          "output_type": "display_data",
          "data": {
            "text/html": [
              "<span style=\"color:cyan\"> |-activation: sigmoid</span>"
            ],
            "text/plain": [
              "<IPython.core.display.HTML object>"
            ]
          },
          "metadata": {
            "tags": []
          }
        },
        {
          "output_type": "display_data",
          "data": {
            "text/html": [
              "<span style=\"color:blue\"> |-optimizer: SGD</span>"
            ],
            "text/plain": [
              "<IPython.core.display.HTML object>"
            ]
          },
          "metadata": {
            "tags": []
          }
        },
        {
          "output_type": "display_data",
          "data": {
            "text/html": [
              "<span style=\"color:cyan\"> |-units_hidden: 224</span>"
            ],
            "text/plain": [
              "<IPython.core.display.HTML object>"
            ]
          },
          "metadata": {
            "tags": []
          }
        },
        {
          "output_type": "display_data",
          "data": {
            "text/html": [
              "<span style=\"color:blue\"> |-units_input: 928</span>"
            ],
            "text/plain": [
              "<IPython.core.display.HTML object>"
            ]
          },
          "metadata": {
            "tags": []
          }
        },
        {
          "output_type": "stream",
          "text": [
            "Epoch 1/20\n",
            "188/188 [==============================] - 1s 7ms/step - loss: 2.2738 - accuracy: 0.2758 - val_loss: 2.2174 - val_accuracy: 0.3976\n",
            "Epoch 2/20\n",
            "188/188 [==============================] - 1s 6ms/step - loss: 2.1721 - accuracy: 0.4534 - val_loss: 2.1231 - val_accuracy: 0.4060\n",
            "Epoch 3/20\n",
            "188/188 [==============================] - 1s 6ms/step - loss: 2.0713 - accuracy: 0.5167 - val_loss: 2.0131 - val_accuracy: 0.4946\n",
            "Epoch 4/20\n",
            "188/188 [==============================] - 1s 6ms/step - loss: 1.9538 - accuracy: 0.5689 - val_loss: 1.8879 - val_accuracy: 0.5521\n",
            "Epoch 5/20\n",
            "188/188 [==============================] - 1s 6ms/step - loss: 1.8257 - accuracy: 0.6070 - val_loss: 1.7571 - val_accuracy: 0.6294\n",
            "Epoch 6/20\n",
            "188/188 [==============================] - 1s 6ms/step - loss: 1.6984 - accuracy: 0.6297 - val_loss: 1.6343 - val_accuracy: 0.6399\n",
            "Epoch 7/20\n",
            "188/188 [==============================] - 1s 7ms/step - loss: 1.5828 - accuracy: 0.6449 - val_loss: 1.5251 - val_accuracy: 0.6570\n",
            "Epoch 8/20\n",
            "188/188 [==============================] - 1s 6ms/step - loss: 1.4822 - accuracy: 0.6544 - val_loss: 1.4320 - val_accuracy: 0.6680\n",
            "Epoch 9/20\n",
            "188/188 [==============================] - 1s 7ms/step - loss: 1.3968 - accuracy: 0.6607 - val_loss: 1.3535 - val_accuracy: 0.6814\n",
            "Epoch 10/20\n",
            "188/188 [==============================] - 1s 6ms/step - loss: 1.3243 - accuracy: 0.6711 - val_loss: 1.2852 - val_accuracy: 0.6756\n",
            "Epoch 11/20\n",
            "188/188 [==============================] - 1s 6ms/step - loss: 1.2623 - accuracy: 0.6739 - val_loss: 1.2275 - val_accuracy: 0.6832\n",
            "Epoch 12/20\n",
            "188/188 [==============================] - 1s 6ms/step - loss: 1.2087 - accuracy: 0.6806 - val_loss: 1.1769 - val_accuracy: 0.6900\n",
            "Epoch 13/20\n",
            "188/188 [==============================] - 1s 6ms/step - loss: 1.1619 - accuracy: 0.6862 - val_loss: 1.1331 - val_accuracy: 0.6905\n",
            "Epoch 14/20\n",
            "188/188 [==============================] - 1s 6ms/step - loss: 1.1205 - accuracy: 0.6899 - val_loss: 1.0935 - val_accuracy: 0.6972\n",
            "Epoch 15/20\n",
            "188/188 [==============================] - 1s 6ms/step - loss: 1.0834 - accuracy: 0.6944 - val_loss: 1.0582 - val_accuracy: 0.7043\n",
            "Epoch 16/20\n",
            "188/188 [==============================] - 1s 6ms/step - loss: 1.0497 - accuracy: 0.7006 - val_loss: 1.0255 - val_accuracy: 0.7055\n",
            "Epoch 17/20\n",
            "188/188 [==============================] - 1s 7ms/step - loss: 1.0190 - accuracy: 0.7028 - val_loss: 0.9965 - val_accuracy: 0.7135\n",
            "Epoch 18/20\n",
            "188/188 [==============================] - 1s 7ms/step - loss: 0.9909 - accuracy: 0.7080 - val_loss: 0.9688 - val_accuracy: 0.7089\n",
            "Epoch 19/20\n",
            "188/188 [==============================] - 1s 6ms/step - loss: 0.9648 - accuracy: 0.7103 - val_loss: 0.9434 - val_accuracy: 0.7202\n",
            "Epoch 20/20\n",
            "188/188 [==============================] - 1s 6ms/step - loss: 0.9407 - accuracy: 0.7149 - val_loss: 0.9204 - val_accuracy: 0.7193\n"
          ],
          "name": "stdout"
        },
        {
          "output_type": "display_data",
          "data": {
            "text/html": [
              "<span style=\"color:#4527A0\"><h1 style=\"font-size:18px\">Trial complete</h1></span>"
            ],
            "text/plain": [
              "<IPython.core.display.HTML object>"
            ]
          },
          "metadata": {
            "tags": []
          }
        },
        {
          "output_type": "display_data",
          "data": {
            "text/html": [
              "<span style=\"color:#4527A0\"><h1 style=\"font-size:18px\">Trial summary</h1></span>"
            ],
            "text/plain": [
              "<IPython.core.display.HTML object>"
            ]
          },
          "metadata": {
            "tags": []
          }
        },
        {
          "output_type": "display_data",
          "data": {
            "text/html": [
              "<span style=\"color:cyan\"> |-Trial ID: b52d77e34c9b2fba00a15235f2611ea4</span>"
            ],
            "text/plain": [
              "<IPython.core.display.HTML object>"
            ]
          },
          "metadata": {
            "tags": []
          }
        },
        {
          "output_type": "display_data",
          "data": {
            "text/html": [
              "<span style=\"color:cyan\"> |-Score: 0.7201666831970215</span>"
            ],
            "text/plain": [
              "<IPython.core.display.HTML object>"
            ]
          },
          "metadata": {
            "tags": []
          }
        },
        {
          "output_type": "display_data",
          "data": {
            "text/html": [
              "<span style=\"color:cyan\"> |-Best step: 0</span>"
            ],
            "text/plain": [
              "<IPython.core.display.HTML object>"
            ]
          },
          "metadata": {
            "tags": []
          }
        },
        {
          "output_type": "display_data",
          "data": {
            "text/html": [
              "<span style=\"color:#7E57C2\"><h2 style=\"font-size:16px\">Hyperparameters:</h2></span>"
            ],
            "text/plain": [
              "<IPython.core.display.HTML object>"
            ]
          },
          "metadata": {
            "tags": []
          }
        },
        {
          "output_type": "display_data",
          "data": {
            "text/html": [
              "<span style=\"color:cyan\"> |-activation: sigmoid</span>"
            ],
            "text/plain": [
              "<IPython.core.display.HTML object>"
            ]
          },
          "metadata": {
            "tags": []
          }
        },
        {
          "output_type": "display_data",
          "data": {
            "text/html": [
              "<span style=\"color:blue\"> |-optimizer: SGD</span>"
            ],
            "text/plain": [
              "<IPython.core.display.HTML object>"
            ]
          },
          "metadata": {
            "tags": []
          }
        },
        {
          "output_type": "display_data",
          "data": {
            "text/html": [
              "<span style=\"color:cyan\"> |-units_hidden: 128</span>"
            ],
            "text/plain": [
              "<IPython.core.display.HTML object>"
            ]
          },
          "metadata": {
            "tags": []
          }
        },
        {
          "output_type": "display_data",
          "data": {
            "text/html": [
              "<span style=\"color:blue\"> |-units_input: 672</span>"
            ],
            "text/plain": [
              "<IPython.core.display.HTML object>"
            ]
          },
          "metadata": {
            "tags": []
          }
        },
        {
          "output_type": "stream",
          "text": [
            "Epoch 1/20\n",
            "188/188 [==============================] - 1s 8ms/step - loss: 1.2887 - accuracy: 0.6386 - val_loss: 0.8653 - val_accuracy: 0.7380\n",
            "Epoch 2/20\n",
            "188/188 [==============================] - 1s 7ms/step - loss: 0.7719 - accuracy: 0.7582 - val_loss: 0.6907 - val_accuracy: 0.7824\n",
            "Epoch 3/20\n",
            "188/188 [==============================] - 1s 7ms/step - loss: 0.6567 - accuracy: 0.7934 - val_loss: 0.6224 - val_accuracy: 0.7947\n",
            "Epoch 4/20\n",
            "188/188 [==============================] - 1s 7ms/step - loss: 0.5968 - accuracy: 0.8092 - val_loss: 0.5763 - val_accuracy: 0.8097\n",
            "Epoch 5/20\n",
            "188/188 [==============================] - 1s 7ms/step - loss: 0.5582 - accuracy: 0.8185 - val_loss: 0.5457 - val_accuracy: 0.8184\n",
            "Epoch 6/20\n",
            "188/188 [==============================] - 1s 7ms/step - loss: 0.5320 - accuracy: 0.8253 - val_loss: 0.5204 - val_accuracy: 0.8256\n",
            "Epoch 7/20\n",
            "188/188 [==============================] - 1s 7ms/step - loss: 0.5110 - accuracy: 0.8299 - val_loss: 0.5119 - val_accuracy: 0.8260\n",
            "Epoch 8/20\n",
            "188/188 [==============================] - 1s 7ms/step - loss: 0.4951 - accuracy: 0.8339 - val_loss: 0.4953 - val_accuracy: 0.8299\n",
            "Epoch 9/20\n",
            "188/188 [==============================] - 1s 7ms/step - loss: 0.4823 - accuracy: 0.8374 - val_loss: 0.4845 - val_accuracy: 0.8339\n",
            "Epoch 10/20\n",
            "188/188 [==============================] - 1s 7ms/step - loss: 0.4711 - accuracy: 0.8394 - val_loss: 0.4751 - val_accuracy: 0.8355\n",
            "Epoch 11/20\n",
            "188/188 [==============================] - 1s 7ms/step - loss: 0.4610 - accuracy: 0.8426 - val_loss: 0.4712 - val_accuracy: 0.8349\n",
            "Epoch 12/20\n",
            "188/188 [==============================] - 1s 7ms/step - loss: 0.4533 - accuracy: 0.8449 - val_loss: 0.4897 - val_accuracy: 0.8244\n",
            "Epoch 13/20\n",
            "188/188 [==============================] - 1s 7ms/step - loss: 0.4463 - accuracy: 0.8473 - val_loss: 0.4638 - val_accuracy: 0.8393\n",
            "Epoch 14/20\n",
            "188/188 [==============================] - 1s 7ms/step - loss: 0.4395 - accuracy: 0.8488 - val_loss: 0.4590 - val_accuracy: 0.8362\n",
            "Epoch 15/20\n",
            "188/188 [==============================] - 1s 7ms/step - loss: 0.4333 - accuracy: 0.8509 - val_loss: 0.4413 - val_accuracy: 0.8479\n",
            "Epoch 16/20\n",
            "188/188 [==============================] - 1s 7ms/step - loss: 0.4274 - accuracy: 0.8526 - val_loss: 0.4382 - val_accuracy: 0.8470\n",
            "Epoch 17/20\n",
            "188/188 [==============================] - 1s 7ms/step - loss: 0.4224 - accuracy: 0.8542 - val_loss: 0.4358 - val_accuracy: 0.8479\n",
            "Epoch 18/20\n",
            "188/188 [==============================] - 1s 7ms/step - loss: 0.4188 - accuracy: 0.8552 - val_loss: 0.4328 - val_accuracy: 0.8493\n",
            "Epoch 19/20\n",
            "188/188 [==============================] - 1s 7ms/step - loss: 0.4131 - accuracy: 0.8574 - val_loss: 0.4319 - val_accuracy: 0.8511\n",
            "Epoch 20/20\n",
            "188/188 [==============================] - 1s 7ms/step - loss: 0.4100 - accuracy: 0.8581 - val_loss: 0.4236 - val_accuracy: 0.8547\n"
          ],
          "name": "stdout"
        },
        {
          "output_type": "display_data",
          "data": {
            "text/html": [
              "<span style=\"color:#4527A0\"><h1 style=\"font-size:18px\">Trial complete</h1></span>"
            ],
            "text/plain": [
              "<IPython.core.display.HTML object>"
            ]
          },
          "metadata": {
            "tags": []
          }
        },
        {
          "output_type": "display_data",
          "data": {
            "text/html": [
              "<span style=\"color:#4527A0\"><h1 style=\"font-size:18px\">Trial summary</h1></span>"
            ],
            "text/plain": [
              "<IPython.core.display.HTML object>"
            ]
          },
          "metadata": {
            "tags": []
          }
        },
        {
          "output_type": "display_data",
          "data": {
            "text/html": [
              "<span style=\"color:cyan\"> |-Trial ID: e0d51d20634ba20b86fffdecdbddbb61</span>"
            ],
            "text/plain": [
              "<IPython.core.display.HTML object>"
            ]
          },
          "metadata": {
            "tags": []
          }
        },
        {
          "output_type": "display_data",
          "data": {
            "text/html": [
              "<span style=\"color:cyan\"> |-Score: 0.8546666502952576</span>"
            ],
            "text/plain": [
              "<IPython.core.display.HTML object>"
            ]
          },
          "metadata": {
            "tags": []
          }
        },
        {
          "output_type": "display_data",
          "data": {
            "text/html": [
              "<span style=\"color:cyan\"> |-Best step: 0</span>"
            ],
            "text/plain": [
              "<IPython.core.display.HTML object>"
            ]
          },
          "metadata": {
            "tags": []
          }
        },
        {
          "output_type": "display_data",
          "data": {
            "text/html": [
              "<span style=\"color:#7E57C2\"><h2 style=\"font-size:16px\">Hyperparameters:</h2></span>"
            ],
            "text/plain": [
              "<IPython.core.display.HTML object>"
            ]
          },
          "metadata": {
            "tags": []
          }
        },
        {
          "output_type": "display_data",
          "data": {
            "text/html": [
              "<span style=\"color:cyan\"> |-activation: relu</span>"
            ],
            "text/plain": [
              "<IPython.core.display.HTML object>"
            ]
          },
          "metadata": {
            "tags": []
          }
        },
        {
          "output_type": "display_data",
          "data": {
            "text/html": [
              "<span style=\"color:blue\"> |-optimizer: SGD</span>"
            ],
            "text/plain": [
              "<IPython.core.display.HTML object>"
            ]
          },
          "metadata": {
            "tags": []
          }
        },
        {
          "output_type": "display_data",
          "data": {
            "text/html": [
              "<span style=\"color:cyan\"> |-units_hidden: 288</span>"
            ],
            "text/plain": [
              "<IPython.core.display.HTML object>"
            ]
          },
          "metadata": {
            "tags": []
          }
        },
        {
          "output_type": "display_data",
          "data": {
            "text/html": [
              "<span style=\"color:blue\"> |-units_input: 896</span>"
            ],
            "text/plain": [
              "<IPython.core.display.HTML object>"
            ]
          },
          "metadata": {
            "tags": []
          }
        },
        {
          "output_type": "stream",
          "text": [
            "Epoch 1/20\n",
            "188/188 [==============================] - 1s 7ms/step - loss: 1.0583 - accuracy: 0.6749 - val_loss: 0.7481 - val_accuracy: 0.7498\n",
            "Epoch 2/20\n",
            "188/188 [==============================] - 1s 7ms/step - loss: 0.6877 - accuracy: 0.7737 - val_loss: 0.6361 - val_accuracy: 0.7873\n",
            "Epoch 3/20\n",
            "188/188 [==============================] - 1s 7ms/step - loss: 0.6066 - accuracy: 0.7975 - val_loss: 0.5793 - val_accuracy: 0.8034\n",
            "Epoch 4/20\n",
            "188/188 [==============================] - 1s 7ms/step - loss: 0.5633 - accuracy: 0.8107 - val_loss: 0.5519 - val_accuracy: 0.8071\n",
            "Epoch 5/20\n",
            "188/188 [==============================] - 1s 7ms/step - loss: 0.5346 - accuracy: 0.8195 - val_loss: 0.5327 - val_accuracy: 0.8129\n",
            "Epoch 6/20\n",
            "188/188 [==============================] - 1s 7ms/step - loss: 0.5148 - accuracy: 0.8254 - val_loss: 0.5109 - val_accuracy: 0.8208\n",
            "Epoch 7/20\n",
            "188/188 [==============================] - 1s 7ms/step - loss: 0.4994 - accuracy: 0.8304 - val_loss: 0.4998 - val_accuracy: 0.8239\n",
            "Epoch 8/20\n",
            "188/188 [==============================] - 1s 7ms/step - loss: 0.4871 - accuracy: 0.8333 - val_loss: 0.4947 - val_accuracy: 0.8244\n",
            "Epoch 9/20\n",
            "188/188 [==============================] - 1s 7ms/step - loss: 0.4778 - accuracy: 0.8365 - val_loss: 0.4798 - val_accuracy: 0.8314\n",
            "Epoch 10/20\n",
            "188/188 [==============================] - 1s 7ms/step - loss: 0.4694 - accuracy: 0.8386 - val_loss: 0.4757 - val_accuracy: 0.8336\n",
            "Epoch 11/20\n",
            "188/188 [==============================] - 1s 7ms/step - loss: 0.4618 - accuracy: 0.8415 - val_loss: 0.4786 - val_accuracy: 0.8291\n",
            "Epoch 12/20\n",
            "188/188 [==============================] - 1s 7ms/step - loss: 0.4558 - accuracy: 0.8433 - val_loss: 0.4845 - val_accuracy: 0.8255\n",
            "Epoch 13/20\n",
            "188/188 [==============================] - 1s 7ms/step - loss: 0.4498 - accuracy: 0.8448 - val_loss: 0.4586 - val_accuracy: 0.8380\n",
            "Epoch 14/20\n",
            "188/188 [==============================] - 1s 7ms/step - loss: 0.4458 - accuracy: 0.8466 - val_loss: 0.4537 - val_accuracy: 0.8380\n",
            "Epoch 15/20\n",
            "188/188 [==============================] - 1s 7ms/step - loss: 0.4417 - accuracy: 0.8472 - val_loss: 0.4531 - val_accuracy: 0.8377\n",
            "Epoch 16/20\n",
            "188/188 [==============================] - 1s 7ms/step - loss: 0.4370 - accuracy: 0.8487 - val_loss: 0.4476 - val_accuracy: 0.8397\n",
            "Epoch 17/20\n",
            "188/188 [==============================] - 1s 7ms/step - loss: 0.4336 - accuracy: 0.8498 - val_loss: 0.4543 - val_accuracy: 0.8379\n",
            "Epoch 18/20\n",
            "188/188 [==============================] - 1s 7ms/step - loss: 0.4300 - accuracy: 0.8514 - val_loss: 0.4402 - val_accuracy: 0.8432\n",
            "Epoch 19/20\n",
            "188/188 [==============================] - 1s 7ms/step - loss: 0.4266 - accuracy: 0.8525 - val_loss: 0.4386 - val_accuracy: 0.8448\n",
            "Epoch 20/20\n",
            "188/188 [==============================] - 1s 7ms/step - loss: 0.4238 - accuracy: 0.8531 - val_loss: 0.4370 - val_accuracy: 0.8436\n"
          ],
          "name": "stdout"
        },
        {
          "output_type": "display_data",
          "data": {
            "text/html": [
              "<span style=\"color:#4527A0\"><h1 style=\"font-size:18px\">Trial complete</h1></span>"
            ],
            "text/plain": [
              "<IPython.core.display.HTML object>"
            ]
          },
          "metadata": {
            "tags": []
          }
        },
        {
          "output_type": "display_data",
          "data": {
            "text/html": [
              "<span style=\"color:#4527A0\"><h1 style=\"font-size:18px\">Trial summary</h1></span>"
            ],
            "text/plain": [
              "<IPython.core.display.HTML object>"
            ]
          },
          "metadata": {
            "tags": []
          }
        },
        {
          "output_type": "display_data",
          "data": {
            "text/html": [
              "<span style=\"color:cyan\"> |-Trial ID: c8f155889b5dffb69808bb49a60311c3</span>"
            ],
            "text/plain": [
              "<IPython.core.display.HTML object>"
            ]
          },
          "metadata": {
            "tags": []
          }
        },
        {
          "output_type": "display_data",
          "data": {
            "text/html": [
              "<span style=\"color:cyan\"> |-Score: 0.8448333144187927</span>"
            ],
            "text/plain": [
              "<IPython.core.display.HTML object>"
            ]
          },
          "metadata": {
            "tags": []
          }
        },
        {
          "output_type": "display_data",
          "data": {
            "text/html": [
              "<span style=\"color:cyan\"> |-Best step: 0</span>"
            ],
            "text/plain": [
              "<IPython.core.display.HTML object>"
            ]
          },
          "metadata": {
            "tags": []
          }
        },
        {
          "output_type": "display_data",
          "data": {
            "text/html": [
              "<span style=\"color:#7E57C2\"><h2 style=\"font-size:16px\">Hyperparameters:</h2></span>"
            ],
            "text/plain": [
              "<IPython.core.display.HTML object>"
            ]
          },
          "metadata": {
            "tags": []
          }
        },
        {
          "output_type": "display_data",
          "data": {
            "text/html": [
              "<span style=\"color:cyan\"> |-activation: elu</span>"
            ],
            "text/plain": [
              "<IPython.core.display.HTML object>"
            ]
          },
          "metadata": {
            "tags": []
          }
        },
        {
          "output_type": "display_data",
          "data": {
            "text/html": [
              "<span style=\"color:blue\"> |-optimizer: SGD</span>"
            ],
            "text/plain": [
              "<IPython.core.display.HTML object>"
            ]
          },
          "metadata": {
            "tags": []
          }
        },
        {
          "output_type": "display_data",
          "data": {
            "text/html": [
              "<span style=\"color:cyan\"> |-units_hidden: 480</span>"
            ],
            "text/plain": [
              "<IPython.core.display.HTML object>"
            ]
          },
          "metadata": {
            "tags": []
          }
        },
        {
          "output_type": "display_data",
          "data": {
            "text/html": [
              "<span style=\"color:blue\"> |-units_input: 672</span>"
            ],
            "text/plain": [
              "<IPython.core.display.HTML object>"
            ]
          },
          "metadata": {
            "tags": []
          }
        },
        {
          "output_type": "stream",
          "text": [
            "Epoch 1/20\n",
            "188/188 [==============================] - 1s 7ms/step - loss: 1.1362 - accuracy: 0.6647 - val_loss: 0.7849 - val_accuracy: 0.7560\n",
            "Epoch 2/20\n",
            "188/188 [==============================] - 1s 6ms/step - loss: 0.7158 - accuracy: 0.7735 - val_loss: 0.6547 - val_accuracy: 0.7830\n",
            "Epoch 3/20\n",
            "188/188 [==============================] - 1s 6ms/step - loss: 0.6252 - accuracy: 0.7946 - val_loss: 0.5971 - val_accuracy: 0.7993\n",
            "Epoch 4/20\n",
            "188/188 [==============================] - 1s 6ms/step - loss: 0.5763 - accuracy: 0.8087 - val_loss: 0.5606 - val_accuracy: 0.8077\n",
            "Epoch 5/20\n",
            "188/188 [==============================] - 1s 6ms/step - loss: 0.5446 - accuracy: 0.8170 - val_loss: 0.5337 - val_accuracy: 0.8152\n",
            "Epoch 6/20\n",
            "188/188 [==============================] - 1s 7ms/step - loss: 0.5218 - accuracy: 0.8234 - val_loss: 0.5169 - val_accuracy: 0.8186\n",
            "Epoch 7/20\n",
            "188/188 [==============================] - 1s 7ms/step - loss: 0.5047 - accuracy: 0.8280 - val_loss: 0.5022 - val_accuracy: 0.8242\n",
            "Epoch 8/20\n",
            "188/188 [==============================] - 1s 6ms/step - loss: 0.4910 - accuracy: 0.8313 - val_loss: 0.4906 - val_accuracy: 0.8267\n",
            "Epoch 9/20\n",
            "188/188 [==============================] - 1s 7ms/step - loss: 0.4802 - accuracy: 0.8350 - val_loss: 0.4818 - val_accuracy: 0.8300\n",
            "Epoch 10/20\n",
            "188/188 [==============================] - 1s 6ms/step - loss: 0.4707 - accuracy: 0.8374 - val_loss: 0.4730 - val_accuracy: 0.8324\n",
            "Epoch 11/20\n",
            "188/188 [==============================] - 1s 6ms/step - loss: 0.4626 - accuracy: 0.8395 - val_loss: 0.4688 - val_accuracy: 0.8343\n",
            "Epoch 12/20\n",
            "188/188 [==============================] - 1s 6ms/step - loss: 0.4557 - accuracy: 0.8423 - val_loss: 0.4612 - val_accuracy: 0.8376\n",
            "Epoch 13/20\n",
            "188/188 [==============================] - 1s 6ms/step - loss: 0.4494 - accuracy: 0.8440 - val_loss: 0.4573 - val_accuracy: 0.8371\n",
            "Epoch 14/20\n",
            "188/188 [==============================] - 1s 7ms/step - loss: 0.4440 - accuracy: 0.8454 - val_loss: 0.4502 - val_accuracy: 0.8413\n",
            "Epoch 15/20\n",
            "188/188 [==============================] - 1s 6ms/step - loss: 0.4390 - accuracy: 0.8465 - val_loss: 0.4481 - val_accuracy: 0.8391\n",
            "Epoch 16/20\n",
            "188/188 [==============================] - 1s 6ms/step - loss: 0.4345 - accuracy: 0.8477 - val_loss: 0.4436 - val_accuracy: 0.8409\n",
            "Epoch 17/20\n",
            "188/188 [==============================] - 1s 7ms/step - loss: 0.4301 - accuracy: 0.8492 - val_loss: 0.4389 - val_accuracy: 0.8473\n",
            "Epoch 18/20\n",
            "188/188 [==============================] - 1s 7ms/step - loss: 0.4264 - accuracy: 0.8508 - val_loss: 0.4355 - val_accuracy: 0.8449\n",
            "Epoch 19/20\n",
            "188/188 [==============================] - 1s 7ms/step - loss: 0.4228 - accuracy: 0.8526 - val_loss: 0.4334 - val_accuracy: 0.8480\n",
            "Epoch 20/20\n",
            "188/188 [==============================] - 1s 6ms/step - loss: 0.4191 - accuracy: 0.8529 - val_loss: 0.4302 - val_accuracy: 0.8458\n"
          ],
          "name": "stdout"
        },
        {
          "output_type": "display_data",
          "data": {
            "text/html": [
              "<span style=\"color:#4527A0\"><h1 style=\"font-size:18px\">Trial complete</h1></span>"
            ],
            "text/plain": [
              "<IPython.core.display.HTML object>"
            ]
          },
          "metadata": {
            "tags": []
          }
        },
        {
          "output_type": "display_data",
          "data": {
            "text/html": [
              "<span style=\"color:#4527A0\"><h1 style=\"font-size:18px\">Trial summary</h1></span>"
            ],
            "text/plain": [
              "<IPython.core.display.HTML object>"
            ]
          },
          "metadata": {
            "tags": []
          }
        },
        {
          "output_type": "display_data",
          "data": {
            "text/html": [
              "<span style=\"color:cyan\"> |-Trial ID: c1a0e59fa1f8222eb2a9f4b4531491bc</span>"
            ],
            "text/plain": [
              "<IPython.core.display.HTML object>"
            ]
          },
          "metadata": {
            "tags": []
          }
        },
        {
          "output_type": "display_data",
          "data": {
            "text/html": [
              "<span style=\"color:cyan\"> |-Score: 0.8479999899864197</span>"
            ],
            "text/plain": [
              "<IPython.core.display.HTML object>"
            ]
          },
          "metadata": {
            "tags": []
          }
        },
        {
          "output_type": "display_data",
          "data": {
            "text/html": [
              "<span style=\"color:cyan\"> |-Best step: 0</span>"
            ],
            "text/plain": [
              "<IPython.core.display.HTML object>"
            ]
          },
          "metadata": {
            "tags": []
          }
        },
        {
          "output_type": "display_data",
          "data": {
            "text/html": [
              "<span style=\"color:#7E57C2\"><h2 style=\"font-size:16px\">Hyperparameters:</h2></span>"
            ],
            "text/plain": [
              "<IPython.core.display.HTML object>"
            ]
          },
          "metadata": {
            "tags": []
          }
        },
        {
          "output_type": "display_data",
          "data": {
            "text/html": [
              "<span style=\"color:cyan\"> |-activation: tanh</span>"
            ],
            "text/plain": [
              "<IPython.core.display.HTML object>"
            ]
          },
          "metadata": {
            "tags": []
          }
        },
        {
          "output_type": "display_data",
          "data": {
            "text/html": [
              "<span style=\"color:blue\"> |-optimizer: SGD</span>"
            ],
            "text/plain": [
              "<IPython.core.display.HTML object>"
            ]
          },
          "metadata": {
            "tags": []
          }
        },
        {
          "output_type": "display_data",
          "data": {
            "text/html": [
              "<span style=\"color:cyan\"> |-units_hidden: 320</span>"
            ],
            "text/plain": [
              "<IPython.core.display.HTML object>"
            ]
          },
          "metadata": {
            "tags": []
          }
        },
        {
          "output_type": "display_data",
          "data": {
            "text/html": [
              "<span style=\"color:blue\"> |-units_input: 544</span>"
            ],
            "text/plain": [
              "<IPython.core.display.HTML object>"
            ]
          },
          "metadata": {
            "tags": []
          }
        },
        {
          "output_type": "stream",
          "text": [
            "Epoch 1/20\n",
            "188/188 [==============================] - 1s 8ms/step - loss: 0.7978 - accuracy: 0.7173 - val_loss: 0.5679 - val_accuracy: 0.7881\n",
            "Epoch 2/20\n",
            "188/188 [==============================] - 1s 7ms/step - loss: 0.4875 - accuracy: 0.8215 - val_loss: 0.4833 - val_accuracy: 0.8192\n",
            "Epoch 3/20\n",
            "188/188 [==============================] - 1s 7ms/step - loss: 0.4314 - accuracy: 0.8421 - val_loss: 0.4789 - val_accuracy: 0.8161\n",
            "Epoch 4/20\n",
            "188/188 [==============================] - 1s 7ms/step - loss: 0.4008 - accuracy: 0.8539 - val_loss: 0.3982 - val_accuracy: 0.8528\n",
            "Epoch 5/20\n",
            "188/188 [==============================] - 1s 7ms/step - loss: 0.3794 - accuracy: 0.8608 - val_loss: 0.3816 - val_accuracy: 0.8614\n",
            "Epoch 6/20\n",
            "188/188 [==============================] - 1s 7ms/step - loss: 0.3628 - accuracy: 0.8675 - val_loss: 0.4148 - val_accuracy: 0.8482\n",
            "Epoch 7/20\n",
            "188/188 [==============================] - 1s 7ms/step - loss: 0.3459 - accuracy: 0.8733 - val_loss: 0.3869 - val_accuracy: 0.8570\n",
            "Epoch 8/20\n",
            "188/188 [==============================] - 1s 8ms/step - loss: 0.3337 - accuracy: 0.8771 - val_loss: 0.3498 - val_accuracy: 0.8722\n",
            "Epoch 9/20\n",
            "188/188 [==============================] - 1s 7ms/step - loss: 0.3226 - accuracy: 0.8808 - val_loss: 0.3506 - val_accuracy: 0.8694\n",
            "Epoch 10/20\n",
            "188/188 [==============================] - 1s 8ms/step - loss: 0.3105 - accuracy: 0.8848 - val_loss: 0.3792 - val_accuracy: 0.8600\n",
            "Epoch 11/20\n",
            "188/188 [==============================] - 1s 7ms/step - loss: 0.3026 - accuracy: 0.8875 - val_loss: 0.3677 - val_accuracy: 0.8657\n",
            "Epoch 12/20\n",
            "188/188 [==============================] - 1s 8ms/step - loss: 0.2939 - accuracy: 0.8905 - val_loss: 0.3966 - val_accuracy: 0.8591\n",
            "Epoch 13/20\n",
            "188/188 [==============================] - 1s 8ms/step - loss: 0.2856 - accuracy: 0.8936 - val_loss: 0.3147 - val_accuracy: 0.8867\n",
            "Epoch 14/20\n",
            "188/188 [==============================] - 1s 7ms/step - loss: 0.2758 - accuracy: 0.8971 - val_loss: 0.3325 - val_accuracy: 0.8784\n",
            "Epoch 15/20\n",
            "188/188 [==============================] - 1s 8ms/step - loss: 0.2685 - accuracy: 0.8995 - val_loss: 0.3505 - val_accuracy: 0.8718\n",
            "Epoch 16/20\n",
            "188/188 [==============================] - 1s 7ms/step - loss: 0.2633 - accuracy: 0.9014 - val_loss: 0.3109 - val_accuracy: 0.8860\n",
            "Epoch 17/20\n",
            "188/188 [==============================] - 1s 7ms/step - loss: 0.2560 - accuracy: 0.9043 - val_loss: 0.3305 - val_accuracy: 0.8814\n",
            "Epoch 18/20\n",
            "188/188 [==============================] - 1s 7ms/step - loss: 0.2494 - accuracy: 0.9065 - val_loss: 0.3282 - val_accuracy: 0.8796\n",
            "Epoch 19/20\n",
            "188/188 [==============================] - 1s 8ms/step - loss: 0.2435 - accuracy: 0.9091 - val_loss: 0.3100 - val_accuracy: 0.8880\n",
            "Epoch 20/20\n",
            "188/188 [==============================] - 1s 7ms/step - loss: 0.2380 - accuracy: 0.9094 - val_loss: 0.3356 - val_accuracy: 0.8808\n"
          ],
          "name": "stdout"
        },
        {
          "output_type": "display_data",
          "data": {
            "text/html": [
              "<span style=\"color:#4527A0\"><h1 style=\"font-size:18px\">Trial complete</h1></span>"
            ],
            "text/plain": [
              "<IPython.core.display.HTML object>"
            ]
          },
          "metadata": {
            "tags": []
          }
        },
        {
          "output_type": "display_data",
          "data": {
            "text/html": [
              "<span style=\"color:#4527A0\"><h1 style=\"font-size:18px\">Trial summary</h1></span>"
            ],
            "text/plain": [
              "<IPython.core.display.HTML object>"
            ]
          },
          "metadata": {
            "tags": []
          }
        },
        {
          "output_type": "display_data",
          "data": {
            "text/html": [
              "<span style=\"color:cyan\"> |-Trial ID: ece3d533d6661444d902cf566bc88276</span>"
            ],
            "text/plain": [
              "<IPython.core.display.HTML object>"
            ]
          },
          "metadata": {
            "tags": []
          }
        },
        {
          "output_type": "display_data",
          "data": {
            "text/html": [
              "<span style=\"color:cyan\"> |-Score: 0.8880000114440918</span>"
            ],
            "text/plain": [
              "<IPython.core.display.HTML object>"
            ]
          },
          "metadata": {
            "tags": []
          }
        },
        {
          "output_type": "display_data",
          "data": {
            "text/html": [
              "<span style=\"color:cyan\"> |-Best step: 0</span>"
            ],
            "text/plain": [
              "<IPython.core.display.HTML object>"
            ]
          },
          "metadata": {
            "tags": []
          }
        },
        {
          "output_type": "display_data",
          "data": {
            "text/html": [
              "<span style=\"color:#7E57C2\"><h2 style=\"font-size:16px\">Hyperparameters:</h2></span>"
            ],
            "text/plain": [
              "<IPython.core.display.HTML object>"
            ]
          },
          "metadata": {
            "tags": []
          }
        },
        {
          "output_type": "display_data",
          "data": {
            "text/html": [
              "<span style=\"color:cyan\"> |-activation: sigmoid</span>"
            ],
            "text/plain": [
              "<IPython.core.display.HTML object>"
            ]
          },
          "metadata": {
            "tags": []
          }
        },
        {
          "output_type": "display_data",
          "data": {
            "text/html": [
              "<span style=\"color:blue\"> |-optimizer: rmsprop</span>"
            ],
            "text/plain": [
              "<IPython.core.display.HTML object>"
            ]
          },
          "metadata": {
            "tags": []
          }
        },
        {
          "output_type": "display_data",
          "data": {
            "text/html": [
              "<span style=\"color:cyan\"> |-units_hidden: 288</span>"
            ],
            "text/plain": [
              "<IPython.core.display.HTML object>"
            ]
          },
          "metadata": {
            "tags": []
          }
        },
        {
          "output_type": "display_data",
          "data": {
            "text/html": [
              "<span style=\"color:blue\"> |-units_input: 576</span>"
            ],
            "text/plain": [
              "<IPython.core.display.HTML object>"
            ]
          },
          "metadata": {
            "tags": []
          }
        },
        {
          "output_type": "stream",
          "text": [
            "Epoch 1/20\n",
            "188/188 [==============================] - 1s 8ms/step - loss: 0.5614 - accuracy: 0.8033 - val_loss: 0.4407 - val_accuracy: 0.8416\n",
            "Epoch 2/20\n",
            "188/188 [==============================] - 1s 7ms/step - loss: 0.4032 - accuracy: 0.8548 - val_loss: 0.3793 - val_accuracy: 0.8668\n",
            "Epoch 3/20\n",
            "188/188 [==============================] - 1s 7ms/step - loss: 0.3718 - accuracy: 0.8634 - val_loss: 0.3741 - val_accuracy: 0.8667\n",
            "Epoch 4/20\n",
            "188/188 [==============================] - 1s 7ms/step - loss: 0.3403 - accuracy: 0.8755 - val_loss: 0.3400 - val_accuracy: 0.8764\n",
            "Epoch 5/20\n",
            "188/188 [==============================] - 1s 7ms/step - loss: 0.3182 - accuracy: 0.8833 - val_loss: 0.3382 - val_accuracy: 0.8783\n",
            "Epoch 6/20\n",
            "188/188 [==============================] - 1s 7ms/step - loss: 0.3015 - accuracy: 0.8872 - val_loss: 0.3497 - val_accuracy: 0.8765\n",
            "Epoch 7/20\n",
            "188/188 [==============================] - 1s 7ms/step - loss: 0.2874 - accuracy: 0.8942 - val_loss: 0.3180 - val_accuracy: 0.8857\n",
            "Epoch 8/20\n",
            "188/188 [==============================] - 1s 7ms/step - loss: 0.2745 - accuracy: 0.8975 - val_loss: 0.3327 - val_accuracy: 0.8793\n",
            "Epoch 9/20\n",
            "188/188 [==============================] - 1s 7ms/step - loss: 0.2665 - accuracy: 0.9007 - val_loss: 0.3357 - val_accuracy: 0.8817\n",
            "Epoch 10/20\n",
            "188/188 [==============================] - 1s 7ms/step - loss: 0.2549 - accuracy: 0.9042 - val_loss: 0.3459 - val_accuracy: 0.8788\n",
            "Epoch 11/20\n",
            "188/188 [==============================] - 1s 7ms/step - loss: 0.2477 - accuracy: 0.9064 - val_loss: 0.3163 - val_accuracy: 0.8882\n",
            "Epoch 12/20\n",
            "188/188 [==============================] - 1s 7ms/step - loss: 0.2336 - accuracy: 0.9125 - val_loss: 0.3105 - val_accuracy: 0.8892\n",
            "Epoch 13/20\n",
            "188/188 [==============================] - 1s 7ms/step - loss: 0.2235 - accuracy: 0.9158 - val_loss: 0.3098 - val_accuracy: 0.8918\n",
            "Epoch 14/20\n",
            "188/188 [==============================] - 1s 7ms/step - loss: 0.2213 - accuracy: 0.9168 - val_loss: 0.3198 - val_accuracy: 0.8898\n",
            "Epoch 15/20\n",
            "188/188 [==============================] - 1s 7ms/step - loss: 0.2079 - accuracy: 0.9218 - val_loss: 0.3248 - val_accuracy: 0.8852\n",
            "Epoch 16/20\n",
            "188/188 [==============================] - 1s 7ms/step - loss: 0.2029 - accuracy: 0.9234 - val_loss: 0.3374 - val_accuracy: 0.8826\n",
            "Epoch 17/20\n",
            "188/188 [==============================] - 1s 7ms/step - loss: 0.1977 - accuracy: 0.9252 - val_loss: 0.3095 - val_accuracy: 0.8954\n",
            "Epoch 18/20\n",
            "188/188 [==============================] - 1s 7ms/step - loss: 0.1895 - accuracy: 0.9281 - val_loss: 0.3216 - val_accuracy: 0.8925\n",
            "Epoch 19/20\n",
            "188/188 [==============================] - 1s 7ms/step - loss: 0.1777 - accuracy: 0.9325 - val_loss: 0.3293 - val_accuracy: 0.8930\n",
            "Epoch 20/20\n",
            "188/188 [==============================] - 1s 7ms/step - loss: 0.1757 - accuracy: 0.9328 - val_loss: 0.3258 - val_accuracy: 0.8943\n"
          ],
          "name": "stdout"
        },
        {
          "output_type": "display_data",
          "data": {
            "text/html": [
              "<span style=\"color:#4527A0\"><h1 style=\"font-size:18px\">Trial complete</h1></span>"
            ],
            "text/plain": [
              "<IPython.core.display.HTML object>"
            ]
          },
          "metadata": {
            "tags": []
          }
        },
        {
          "output_type": "display_data",
          "data": {
            "text/html": [
              "<span style=\"color:#4527A0\"><h1 style=\"font-size:18px\">Trial summary</h1></span>"
            ],
            "text/plain": [
              "<IPython.core.display.HTML object>"
            ]
          },
          "metadata": {
            "tags": []
          }
        },
        {
          "output_type": "display_data",
          "data": {
            "text/html": [
              "<span style=\"color:cyan\"> |-Trial ID: 8d92d8b81f4e271ac3059147c4e7a4b8</span>"
            ],
            "text/plain": [
              "<IPython.core.display.HTML object>"
            ]
          },
          "metadata": {
            "tags": []
          }
        },
        {
          "output_type": "display_data",
          "data": {
            "text/html": [
              "<span style=\"color:cyan\"> |-Score: 0.8954166769981384</span>"
            ],
            "text/plain": [
              "<IPython.core.display.HTML object>"
            ]
          },
          "metadata": {
            "tags": []
          }
        },
        {
          "output_type": "display_data",
          "data": {
            "text/html": [
              "<span style=\"color:cyan\"> |-Best step: 0</span>"
            ],
            "text/plain": [
              "<IPython.core.display.HTML object>"
            ]
          },
          "metadata": {
            "tags": []
          }
        },
        {
          "output_type": "display_data",
          "data": {
            "text/html": [
              "<span style=\"color:#7E57C2\"><h2 style=\"font-size:16px\">Hyperparameters:</h2></span>"
            ],
            "text/plain": [
              "<IPython.core.display.HTML object>"
            ]
          },
          "metadata": {
            "tags": []
          }
        },
        {
          "output_type": "display_data",
          "data": {
            "text/html": [
              "<span style=\"color:cyan\"> |-activation: elu</span>"
            ],
            "text/plain": [
              "<IPython.core.display.HTML object>"
            ]
          },
          "metadata": {
            "tags": []
          }
        },
        {
          "output_type": "display_data",
          "data": {
            "text/html": [
              "<span style=\"color:blue\"> |-optimizer: adam</span>"
            ],
            "text/plain": [
              "<IPython.core.display.HTML object>"
            ]
          },
          "metadata": {
            "tags": []
          }
        },
        {
          "output_type": "display_data",
          "data": {
            "text/html": [
              "<span style=\"color:cyan\"> |-units_hidden: 320</span>"
            ],
            "text/plain": [
              "<IPython.core.display.HTML object>"
            ]
          },
          "metadata": {
            "tags": []
          }
        },
        {
          "output_type": "display_data",
          "data": {
            "text/html": [
              "<span style=\"color:blue\"> |-units_input: 544</span>"
            ],
            "text/plain": [
              "<IPython.core.display.HTML object>"
            ]
          },
          "metadata": {
            "tags": []
          }
        },
        {
          "output_type": "stream",
          "text": [
            "Epoch 1/20\n",
            "188/188 [==============================] - 2s 9ms/step - loss: 1.0671 - accuracy: 0.7035 - val_loss: 0.6933 - val_accuracy: 0.7975\n",
            "Epoch 2/20\n",
            "188/188 [==============================] - 2s 8ms/step - loss: 0.5495 - accuracy: 0.8018 - val_loss: 0.4712 - val_accuracy: 0.8324\n",
            "Epoch 3/20\n",
            "188/188 [==============================] - 2s 9ms/step - loss: 0.4572 - accuracy: 0.8322 - val_loss: 0.3906 - val_accuracy: 0.8512\n",
            "Epoch 4/20\n",
            "188/188 [==============================] - 2s 8ms/step - loss: 0.3991 - accuracy: 0.8499 - val_loss: 0.5865 - val_accuracy: 0.7977\n",
            "Epoch 5/20\n",
            "188/188 [==============================] - 2s 8ms/step - loss: 0.3638 - accuracy: 0.8634 - val_loss: 0.4290 - val_accuracy: 0.8503\n",
            "Epoch 6/20\n",
            "188/188 [==============================] - 2s 8ms/step - loss: 0.3415 - accuracy: 0.8728 - val_loss: 0.3749 - val_accuracy: 0.8714\n",
            "Epoch 7/20\n",
            "188/188 [==============================] - 2s 8ms/step - loss: 0.3214 - accuracy: 0.8784 - val_loss: 0.3435 - val_accuracy: 0.8735\n",
            "Epoch 8/20\n",
            "188/188 [==============================] - 2s 9ms/step - loss: 0.3058 - accuracy: 0.8846 - val_loss: 0.3651 - val_accuracy: 0.8676\n",
            "Epoch 9/20\n",
            "188/188 [==============================] - 2s 8ms/step - loss: 0.2947 - accuracy: 0.8880 - val_loss: 0.4070 - val_accuracy: 0.8594\n",
            "Epoch 10/20\n",
            "188/188 [==============================] - 2s 9ms/step - loss: 0.2768 - accuracy: 0.8951 - val_loss: 0.4115 - val_accuracy: 0.8633\n",
            "Epoch 11/20\n",
            "188/188 [==============================] - 2s 8ms/step - loss: 0.2673 - accuracy: 0.8992 - val_loss: 0.4391 - val_accuracy: 0.8536\n",
            "Epoch 12/20\n",
            "188/188 [==============================] - 2s 8ms/step - loss: 0.2576 - accuracy: 0.9035 - val_loss: 0.3401 - val_accuracy: 0.8814\n",
            "Epoch 13/20\n",
            "188/188 [==============================] - 2s 9ms/step - loss: 0.2454 - accuracy: 0.9061 - val_loss: 0.3344 - val_accuracy: 0.8874\n",
            "Epoch 14/20\n",
            "188/188 [==============================] - 2s 8ms/step - loss: 0.2412 - accuracy: 0.9081 - val_loss: 0.3843 - val_accuracy: 0.8804\n",
            "Epoch 15/20\n",
            "188/188 [==============================] - 2s 8ms/step - loss: 0.2327 - accuracy: 0.9120 - val_loss: 0.4367 - val_accuracy: 0.8577\n",
            "Epoch 16/20\n",
            "188/188 [==============================] - 2s 8ms/step - loss: 0.2268 - accuracy: 0.9140 - val_loss: 0.4532 - val_accuracy: 0.8556\n",
            "Epoch 17/20\n",
            "188/188 [==============================] - 2s 8ms/step - loss: 0.2165 - accuracy: 0.9175 - val_loss: 0.4099 - val_accuracy: 0.8659\n",
            "Epoch 18/20\n",
            "188/188 [==============================] - 2s 9ms/step - loss: 0.2102 - accuracy: 0.9180 - val_loss: 0.4548 - val_accuracy: 0.8652\n",
            "Epoch 19/20\n",
            "188/188 [==============================] - 2s 8ms/step - loss: 0.2069 - accuracy: 0.9212 - val_loss: 0.3682 - val_accuracy: 0.8849\n",
            "Epoch 20/20\n",
            "188/188 [==============================] - 2s 8ms/step - loss: 0.2000 - accuracy: 0.9231 - val_loss: 0.4003 - val_accuracy: 0.8765\n"
          ],
          "name": "stdout"
        },
        {
          "output_type": "display_data",
          "data": {
            "text/html": [
              "<span style=\"color:#4527A0\"><h1 style=\"font-size:18px\">Trial complete</h1></span>"
            ],
            "text/plain": [
              "<IPython.core.display.HTML object>"
            ]
          },
          "metadata": {
            "tags": []
          }
        },
        {
          "output_type": "display_data",
          "data": {
            "text/html": [
              "<span style=\"color:#4527A0\"><h1 style=\"font-size:18px\">Trial summary</h1></span>"
            ],
            "text/plain": [
              "<IPython.core.display.HTML object>"
            ]
          },
          "metadata": {
            "tags": []
          }
        },
        {
          "output_type": "display_data",
          "data": {
            "text/html": [
              "<span style=\"color:cyan\"> |-Trial ID: db5db9aea72868d721d1c5ddb0f73dd5</span>"
            ],
            "text/plain": [
              "<IPython.core.display.HTML object>"
            ]
          },
          "metadata": {
            "tags": []
          }
        },
        {
          "output_type": "display_data",
          "data": {
            "text/html": [
              "<span style=\"color:cyan\"> |-Score: 0.887416660785675</span>"
            ],
            "text/plain": [
              "<IPython.core.display.HTML object>"
            ]
          },
          "metadata": {
            "tags": []
          }
        },
        {
          "output_type": "display_data",
          "data": {
            "text/html": [
              "<span style=\"color:cyan\"> |-Best step: 0</span>"
            ],
            "text/plain": [
              "<IPython.core.display.HTML object>"
            ]
          },
          "metadata": {
            "tags": []
          }
        },
        {
          "output_type": "display_data",
          "data": {
            "text/html": [
              "<span style=\"color:#7E57C2\"><h2 style=\"font-size:16px\">Hyperparameters:</h2></span>"
            ],
            "text/plain": [
              "<IPython.core.display.HTML object>"
            ]
          },
          "metadata": {
            "tags": []
          }
        },
        {
          "output_type": "display_data",
          "data": {
            "text/html": [
              "<span style=\"color:cyan\"> |-activation: selu</span>"
            ],
            "text/plain": [
              "<IPython.core.display.HTML object>"
            ]
          },
          "metadata": {
            "tags": []
          }
        },
        {
          "output_type": "display_data",
          "data": {
            "text/html": [
              "<span style=\"color:blue\"> |-optimizer: rmsprop</span>"
            ],
            "text/plain": [
              "<IPython.core.display.HTML object>"
            ]
          },
          "metadata": {
            "tags": []
          }
        },
        {
          "output_type": "display_data",
          "data": {
            "text/html": [
              "<span style=\"color:cyan\"> |-units_hidden: 288</span>"
            ],
            "text/plain": [
              "<IPython.core.display.HTML object>"
            ]
          },
          "metadata": {
            "tags": []
          }
        },
        {
          "output_type": "display_data",
          "data": {
            "text/html": [
              "<span style=\"color:blue\"> |-units_input: 864</span>"
            ],
            "text/plain": [
              "<IPython.core.display.HTML object>"
            ]
          },
          "metadata": {
            "tags": []
          }
        },
        {
          "output_type": "stream",
          "text": [
            "Epoch 1/20\n",
            "188/188 [==============================] - 2s 8ms/step - loss: 1.3204 - accuracy: 0.6326 - val_loss: 0.8767 - val_accuracy: 0.7359\n",
            "Epoch 2/20\n",
            "188/188 [==============================] - 1s 8ms/step - loss: 0.7745 - accuracy: 0.7620 - val_loss: 0.7042 - val_accuracy: 0.7697\n",
            "Epoch 3/20\n",
            "188/188 [==============================] - 1s 8ms/step - loss: 0.6577 - accuracy: 0.7934 - val_loss: 0.6178 - val_accuracy: 0.8027\n",
            "Epoch 4/20\n",
            "188/188 [==============================] - 1s 8ms/step - loss: 0.5970 - accuracy: 0.8083 - val_loss: 0.5769 - val_accuracy: 0.8103\n",
            "Epoch 5/20\n",
            "188/188 [==============================] - 2s 8ms/step - loss: 0.5586 - accuracy: 0.8177 - val_loss: 0.5521 - val_accuracy: 0.8136\n",
            "Epoch 6/20\n",
            "188/188 [==============================] - 1s 8ms/step - loss: 0.5316 - accuracy: 0.8252 - val_loss: 0.5297 - val_accuracy: 0.8190\n",
            "Epoch 7/20\n",
            "188/188 [==============================] - 1s 8ms/step - loss: 0.5109 - accuracy: 0.8312 - val_loss: 0.5211 - val_accuracy: 0.8190\n",
            "Epoch 8/20\n",
            "188/188 [==============================] - 1s 8ms/step - loss: 0.4962 - accuracy: 0.8338 - val_loss: 0.4999 - val_accuracy: 0.8268\n",
            "Epoch 9/20\n",
            "188/188 [==============================] - 1s 8ms/step - loss: 0.4825 - accuracy: 0.8363 - val_loss: 0.4983 - val_accuracy: 0.8242\n",
            "Epoch 10/20\n",
            "188/188 [==============================] - 1s 8ms/step - loss: 0.4728 - accuracy: 0.8399 - val_loss: 0.4738 - val_accuracy: 0.8349\n",
            "Epoch 11/20\n",
            "188/188 [==============================] - 1s 8ms/step - loss: 0.4642 - accuracy: 0.8425 - val_loss: 0.4643 - val_accuracy: 0.8393\n",
            "Epoch 12/20\n",
            "188/188 [==============================] - 1s 8ms/step - loss: 0.4555 - accuracy: 0.8458 - val_loss: 0.4668 - val_accuracy: 0.8371\n",
            "Epoch 13/20\n",
            "188/188 [==============================] - 1s 8ms/step - loss: 0.4485 - accuracy: 0.8463 - val_loss: 0.4536 - val_accuracy: 0.8419\n",
            "Epoch 14/20\n",
            "188/188 [==============================] - 1s 8ms/step - loss: 0.4415 - accuracy: 0.8497 - val_loss: 0.4615 - val_accuracy: 0.8403\n",
            "Epoch 15/20\n",
            "188/188 [==============================] - 2s 8ms/step - loss: 0.4353 - accuracy: 0.8520 - val_loss: 0.4446 - val_accuracy: 0.8451\n",
            "Epoch 16/20\n",
            "188/188 [==============================] - 2s 8ms/step - loss: 0.4294 - accuracy: 0.8544 - val_loss: 0.4585 - val_accuracy: 0.8382\n",
            "Epoch 17/20\n",
            "188/188 [==============================] - 1s 8ms/step - loss: 0.4256 - accuracy: 0.8544 - val_loss: 0.4312 - val_accuracy: 0.8508\n",
            "Epoch 18/20\n",
            "188/188 [==============================] - 1s 8ms/step - loss: 0.4208 - accuracy: 0.8547 - val_loss: 0.4439 - val_accuracy: 0.8455\n",
            "Epoch 19/20\n",
            "188/188 [==============================] - 1s 8ms/step - loss: 0.4164 - accuracy: 0.8579 - val_loss: 0.4279 - val_accuracy: 0.8509\n",
            "Epoch 20/20\n",
            "188/188 [==============================] - 1s 8ms/step - loss: 0.4136 - accuracy: 0.8583 - val_loss: 0.4277 - val_accuracy: 0.8512\n"
          ],
          "name": "stdout"
        },
        {
          "output_type": "display_data",
          "data": {
            "text/html": [
              "<span style=\"color:#4527A0\"><h1 style=\"font-size:18px\">Trial complete</h1></span>"
            ],
            "text/plain": [
              "<IPython.core.display.HTML object>"
            ]
          },
          "metadata": {
            "tags": []
          }
        },
        {
          "output_type": "display_data",
          "data": {
            "text/html": [
              "<span style=\"color:#4527A0\"><h1 style=\"font-size:18px\">Trial summary</h1></span>"
            ],
            "text/plain": [
              "<IPython.core.display.HTML object>"
            ]
          },
          "metadata": {
            "tags": []
          }
        },
        {
          "output_type": "display_data",
          "data": {
            "text/html": [
              "<span style=\"color:cyan\"> |-Trial ID: b6053e492976aca761830286d7f20c7d</span>"
            ],
            "text/plain": [
              "<IPython.core.display.HTML object>"
            ]
          },
          "metadata": {
            "tags": []
          }
        },
        {
          "output_type": "display_data",
          "data": {
            "text/html": [
              "<span style=\"color:cyan\"> |-Score: 0.8512499928474426</span>"
            ],
            "text/plain": [
              "<IPython.core.display.HTML object>"
            ]
          },
          "metadata": {
            "tags": []
          }
        },
        {
          "output_type": "display_data",
          "data": {
            "text/html": [
              "<span style=\"color:cyan\"> |-Best step: 0</span>"
            ],
            "text/plain": [
              "<IPython.core.display.HTML object>"
            ]
          },
          "metadata": {
            "tags": []
          }
        },
        {
          "output_type": "display_data",
          "data": {
            "text/html": [
              "<span style=\"color:#7E57C2\"><h2 style=\"font-size:16px\">Hyperparameters:</h2></span>"
            ],
            "text/plain": [
              "<IPython.core.display.HTML object>"
            ]
          },
          "metadata": {
            "tags": []
          }
        },
        {
          "output_type": "display_data",
          "data": {
            "text/html": [
              "<span style=\"color:cyan\"> |-activation: relu</span>"
            ],
            "text/plain": [
              "<IPython.core.display.HTML object>"
            ]
          },
          "metadata": {
            "tags": []
          }
        },
        {
          "output_type": "display_data",
          "data": {
            "text/html": [
              "<span style=\"color:blue\"> |-optimizer: SGD</span>"
            ],
            "text/plain": [
              "<IPython.core.display.HTML object>"
            ]
          },
          "metadata": {
            "tags": []
          }
        },
        {
          "output_type": "display_data",
          "data": {
            "text/html": [
              "<span style=\"color:cyan\"> |-units_hidden: 576</span>"
            ],
            "text/plain": [
              "<IPython.core.display.HTML object>"
            ]
          },
          "metadata": {
            "tags": []
          }
        },
        {
          "output_type": "display_data",
          "data": {
            "text/html": [
              "<span style=\"color:blue\"> |-units_input: 960</span>"
            ],
            "text/plain": [
              "<IPython.core.display.HTML object>"
            ]
          },
          "metadata": {
            "tags": []
          }
        },
        {
          "output_type": "stream",
          "text": [
            "Epoch 1/20\n",
            "188/188 [==============================] - 1s 8ms/step - loss: 0.8279 - accuracy: 0.7197 - val_loss: 0.5133 - val_accuracy: 0.8154\n",
            "Epoch 2/20\n",
            "188/188 [==============================] - 1s 7ms/step - loss: 0.4600 - accuracy: 0.8351 - val_loss: 0.4446 - val_accuracy: 0.8396\n",
            "Epoch 3/20\n",
            "188/188 [==============================] - 1s 7ms/step - loss: 0.4118 - accuracy: 0.8521 - val_loss: 0.4352 - val_accuracy: 0.8400\n",
            "Epoch 4/20\n",
            "188/188 [==============================] - 1s 7ms/step - loss: 0.3848 - accuracy: 0.8605 - val_loss: 0.3772 - val_accuracy: 0.8633\n",
            "Epoch 5/20\n",
            "188/188 [==============================] - 1s 7ms/step - loss: 0.3665 - accuracy: 0.8677 - val_loss: 0.3648 - val_accuracy: 0.8659\n",
            "Epoch 6/20\n",
            "188/188 [==============================] - 1s 7ms/step - loss: 0.3439 - accuracy: 0.8759 - val_loss: 0.3538 - val_accuracy: 0.8722\n",
            "Epoch 7/20\n",
            "188/188 [==============================] - 1s 7ms/step - loss: 0.3334 - accuracy: 0.8797 - val_loss: 0.3534 - val_accuracy: 0.8707\n",
            "Epoch 8/20\n",
            "188/188 [==============================] - 1s 7ms/step - loss: 0.3257 - accuracy: 0.8822 - val_loss: 0.3432 - val_accuracy: 0.8763\n",
            "Epoch 9/20\n",
            "188/188 [==============================] - 1s 7ms/step - loss: 0.3116 - accuracy: 0.8855 - val_loss: 0.3566 - val_accuracy: 0.8668\n",
            "Epoch 10/20\n",
            "188/188 [==============================] - 1s 7ms/step - loss: 0.3081 - accuracy: 0.8874 - val_loss: 0.3343 - val_accuracy: 0.8794\n",
            "Epoch 11/20\n",
            "188/188 [==============================] - 1s 7ms/step - loss: 0.2902 - accuracy: 0.8948 - val_loss: 0.3422 - val_accuracy: 0.8742\n",
            "Epoch 12/20\n",
            "188/188 [==============================] - 1s 7ms/step - loss: 0.2821 - accuracy: 0.8972 - val_loss: 0.3318 - val_accuracy: 0.8788\n",
            "Epoch 13/20\n",
            "188/188 [==============================] - 1s 7ms/step - loss: 0.2769 - accuracy: 0.8979 - val_loss: 0.3197 - val_accuracy: 0.8824\n",
            "Epoch 14/20\n",
            "188/188 [==============================] - 1s 7ms/step - loss: 0.2683 - accuracy: 0.9015 - val_loss: 0.3322 - val_accuracy: 0.8793\n",
            "Epoch 15/20\n",
            "188/188 [==============================] - 1s 7ms/step - loss: 0.2624 - accuracy: 0.9030 - val_loss: 0.3281 - val_accuracy: 0.8798\n",
            "Epoch 16/20\n",
            "188/188 [==============================] - 1s 7ms/step - loss: 0.2523 - accuracy: 0.9070 - val_loss: 0.3056 - val_accuracy: 0.8877\n",
            "Epoch 17/20\n",
            "188/188 [==============================] - 1s 7ms/step - loss: 0.2471 - accuracy: 0.9090 - val_loss: 0.3060 - val_accuracy: 0.8877\n",
            "Epoch 18/20\n",
            "188/188 [==============================] - 1s 7ms/step - loss: 0.2389 - accuracy: 0.9121 - val_loss: 0.3095 - val_accuracy: 0.8859\n",
            "Epoch 19/20\n",
            "188/188 [==============================] - 1s 7ms/step - loss: 0.2306 - accuracy: 0.9140 - val_loss: 0.3199 - val_accuracy: 0.8829\n",
            "Epoch 20/20\n",
            "188/188 [==============================] - 1s 7ms/step - loss: 0.2273 - accuracy: 0.9162 - val_loss: 0.3170 - val_accuracy: 0.8868\n"
          ],
          "name": "stdout"
        },
        {
          "output_type": "display_data",
          "data": {
            "text/html": [
              "<span style=\"color:#4527A0\"><h1 style=\"font-size:18px\">Trial complete</h1></span>"
            ],
            "text/plain": [
              "<IPython.core.display.HTML object>"
            ]
          },
          "metadata": {
            "tags": []
          }
        },
        {
          "output_type": "display_data",
          "data": {
            "text/html": [
              "<span style=\"color:#4527A0\"><h1 style=\"font-size:18px\">Trial summary</h1></span>"
            ],
            "text/plain": [
              "<IPython.core.display.HTML object>"
            ]
          },
          "metadata": {
            "tags": []
          }
        },
        {
          "output_type": "display_data",
          "data": {
            "text/html": [
              "<span style=\"color:cyan\"> |-Trial ID: 5b09fb34f70bd644c1a7515da58e4d72</span>"
            ],
            "text/plain": [
              "<IPython.core.display.HTML object>"
            ]
          },
          "metadata": {
            "tags": []
          }
        },
        {
          "output_type": "display_data",
          "data": {
            "text/html": [
              "<span style=\"color:cyan\"> |-Score: 0.887666642665863</span>"
            ],
            "text/plain": [
              "<IPython.core.display.HTML object>"
            ]
          },
          "metadata": {
            "tags": []
          }
        },
        {
          "output_type": "display_data",
          "data": {
            "text/html": [
              "<span style=\"color:cyan\"> |-Best step: 0</span>"
            ],
            "text/plain": [
              "<IPython.core.display.HTML object>"
            ]
          },
          "metadata": {
            "tags": []
          }
        },
        {
          "output_type": "display_data",
          "data": {
            "text/html": [
              "<span style=\"color:#7E57C2\"><h2 style=\"font-size:16px\">Hyperparameters:</h2></span>"
            ],
            "text/plain": [
              "<IPython.core.display.HTML object>"
            ]
          },
          "metadata": {
            "tags": []
          }
        },
        {
          "output_type": "display_data",
          "data": {
            "text/html": [
              "<span style=\"color:cyan\"> |-activation: sigmoid</span>"
            ],
            "text/plain": [
              "<IPython.core.display.HTML object>"
            ]
          },
          "metadata": {
            "tags": []
          }
        },
        {
          "output_type": "display_data",
          "data": {
            "text/html": [
              "<span style=\"color:blue\"> |-optimizer: adam</span>"
            ],
            "text/plain": [
              "<IPython.core.display.HTML object>"
            ]
          },
          "metadata": {
            "tags": []
          }
        },
        {
          "output_type": "display_data",
          "data": {
            "text/html": [
              "<span style=\"color:cyan\"> |-units_hidden: 320</span>"
            ],
            "text/plain": [
              "<IPython.core.display.HTML object>"
            ]
          },
          "metadata": {
            "tags": []
          }
        },
        {
          "output_type": "display_data",
          "data": {
            "text/html": [
              "<span style=\"color:blue\"> |-units_input: 544</span>"
            ],
            "text/plain": [
              "<IPython.core.display.HTML object>"
            ]
          },
          "metadata": {
            "tags": []
          }
        },
        {
          "output_type": "stream",
          "text": [
            "Epoch 1/20\n",
            "188/188 [==============================] - 1s 7ms/step - loss: 0.5410 - accuracy: 0.8104 - val_loss: 0.4211 - val_accuracy: 0.8522\n",
            "Epoch 2/20\n",
            "188/188 [==============================] - 1s 7ms/step - loss: 0.3754 - accuracy: 0.8651 - val_loss: 0.3520 - val_accuracy: 0.8712\n",
            "Epoch 3/20\n",
            "188/188 [==============================] - 1s 7ms/step - loss: 0.3367 - accuracy: 0.8764 - val_loss: 0.3634 - val_accuracy: 0.8657\n",
            "Epoch 4/20\n",
            "188/188 [==============================] - 1s 7ms/step - loss: 0.3036 - accuracy: 0.8893 - val_loss: 0.3233 - val_accuracy: 0.8815\n",
            "Epoch 5/20\n",
            "188/188 [==============================] - 1s 7ms/step - loss: 0.2809 - accuracy: 0.8954 - val_loss: 0.3559 - val_accuracy: 0.8687\n",
            "Epoch 6/20\n",
            "188/188 [==============================] - 1s 7ms/step - loss: 0.2702 - accuracy: 0.8990 - val_loss: 0.3003 - val_accuracy: 0.8910\n",
            "Epoch 7/20\n",
            "188/188 [==============================] - 1s 7ms/step - loss: 0.2531 - accuracy: 0.9065 - val_loss: 0.3047 - val_accuracy: 0.8901\n",
            "Epoch 8/20\n",
            "188/188 [==============================] - 1s 7ms/step - loss: 0.2410 - accuracy: 0.9095 - val_loss: 0.3205 - val_accuracy: 0.8889\n",
            "Epoch 9/20\n",
            "188/188 [==============================] - 1s 7ms/step - loss: 0.2303 - accuracy: 0.9135 - val_loss: 0.2929 - val_accuracy: 0.8972\n",
            "Epoch 10/20\n",
            "188/188 [==============================] - 1s 7ms/step - loss: 0.2175 - accuracy: 0.9187 - val_loss: 0.3136 - val_accuracy: 0.8909\n",
            "Epoch 11/20\n",
            "188/188 [==============================] - 1s 7ms/step - loss: 0.2160 - accuracy: 0.9194 - val_loss: 0.3076 - val_accuracy: 0.8918\n",
            "Epoch 12/20\n",
            "188/188 [==============================] - 1s 7ms/step - loss: 0.2014 - accuracy: 0.9233 - val_loss: 0.3231 - val_accuracy: 0.8907\n",
            "Epoch 13/20\n",
            "188/188 [==============================] - 1s 7ms/step - loss: 0.1949 - accuracy: 0.9259 - val_loss: 0.3216 - val_accuracy: 0.8862\n",
            "Epoch 14/20\n",
            "188/188 [==============================] - 1s 8ms/step - loss: 0.1855 - accuracy: 0.9301 - val_loss: 0.3259 - val_accuracy: 0.8860\n",
            "Epoch 15/20\n",
            "188/188 [==============================] - 1s 8ms/step - loss: 0.1807 - accuracy: 0.9334 - val_loss: 0.3142 - val_accuracy: 0.8940\n",
            "Epoch 16/20\n",
            "188/188 [==============================] - 1s 8ms/step - loss: 0.1728 - accuracy: 0.9350 - val_loss: 0.3343 - val_accuracy: 0.8898\n",
            "Epoch 17/20\n",
            "188/188 [==============================] - 1s 8ms/step - loss: 0.1658 - accuracy: 0.9373 - val_loss: 0.3420 - val_accuracy: 0.8877\n",
            "Epoch 18/20\n",
            "188/188 [==============================] - 1s 8ms/step - loss: 0.1638 - accuracy: 0.9378 - val_loss: 0.3274 - val_accuracy: 0.8923\n",
            "Epoch 19/20\n",
            "188/188 [==============================] - 1s 8ms/step - loss: 0.1534 - accuracy: 0.9424 - val_loss: 0.3196 - val_accuracy: 0.8921\n",
            "Epoch 20/20\n",
            "188/188 [==============================] - 1s 8ms/step - loss: 0.1483 - accuracy: 0.9437 - val_loss: 0.3268 - val_accuracy: 0.8970\n"
          ],
          "name": "stdout"
        },
        {
          "output_type": "display_data",
          "data": {
            "text/html": [
              "<span style=\"color:#4527A0\"><h1 style=\"font-size:18px\">Trial complete</h1></span>"
            ],
            "text/plain": [
              "<IPython.core.display.HTML object>"
            ]
          },
          "metadata": {
            "tags": []
          }
        },
        {
          "output_type": "display_data",
          "data": {
            "text/html": [
              "<span style=\"color:#4527A0\"><h1 style=\"font-size:18px\">Trial summary</h1></span>"
            ],
            "text/plain": [
              "<IPython.core.display.HTML object>"
            ]
          },
          "metadata": {
            "tags": []
          }
        },
        {
          "output_type": "display_data",
          "data": {
            "text/html": [
              "<span style=\"color:cyan\"> |-Trial ID: dfb050a3490b17d2e5c4208ee950d91c</span>"
            ],
            "text/plain": [
              "<IPython.core.display.HTML object>"
            ]
          },
          "metadata": {
            "tags": []
          }
        },
        {
          "output_type": "display_data",
          "data": {
            "text/html": [
              "<span style=\"color:cyan\"> |-Score: 0.8971666693687439</span>"
            ],
            "text/plain": [
              "<IPython.core.display.HTML object>"
            ]
          },
          "metadata": {
            "tags": []
          }
        },
        {
          "output_type": "display_data",
          "data": {
            "text/html": [
              "<span style=\"color:cyan\"> |-Best step: 0</span>"
            ],
            "text/plain": [
              "<IPython.core.display.HTML object>"
            ]
          },
          "metadata": {
            "tags": []
          }
        },
        {
          "output_type": "display_data",
          "data": {
            "text/html": [
              "<span style=\"color:#7E57C2\"><h2 style=\"font-size:16px\">Hyperparameters:</h2></span>"
            ],
            "text/plain": [
              "<IPython.core.display.HTML object>"
            ]
          },
          "metadata": {
            "tags": []
          }
        },
        {
          "output_type": "display_data",
          "data": {
            "text/html": [
              "<span style=\"color:cyan\"> |-activation: relu</span>"
            ],
            "text/plain": [
              "<IPython.core.display.HTML object>"
            ]
          },
          "metadata": {
            "tags": []
          }
        },
        {
          "output_type": "display_data",
          "data": {
            "text/html": [
              "<span style=\"color:blue\"> |-optimizer: adam</span>"
            ],
            "text/plain": [
              "<IPython.core.display.HTML object>"
            ]
          },
          "metadata": {
            "tags": []
          }
        },
        {
          "output_type": "display_data",
          "data": {
            "text/html": [
              "<span style=\"color:cyan\"> |-units_hidden: 192</span>"
            ],
            "text/plain": [
              "<IPython.core.display.HTML object>"
            ]
          },
          "metadata": {
            "tags": []
          }
        },
        {
          "output_type": "display_data",
          "data": {
            "text/html": [
              "<span style=\"color:blue\"> |-units_input: 832</span>"
            ],
            "text/plain": [
              "<IPython.core.display.HTML object>"
            ]
          },
          "metadata": {
            "tags": []
          }
        },
        {
          "output_type": "stream",
          "text": [
            "Epoch 1/20\n",
            "188/188 [==============================] - 1s 8ms/step - loss: 0.5695 - accuracy: 0.7990 - val_loss: 0.4356 - val_accuracy: 0.8416\n",
            "Epoch 2/20\n",
            "188/188 [==============================] - 1s 7ms/step - loss: 0.4052 - accuracy: 0.8531 - val_loss: 0.3966 - val_accuracy: 0.8595\n",
            "Epoch 3/20\n",
            "188/188 [==============================] - 1s 7ms/step - loss: 0.3671 - accuracy: 0.8653 - val_loss: 0.4603 - val_accuracy: 0.8313\n",
            "Epoch 4/20\n",
            "188/188 [==============================] - 1s 7ms/step - loss: 0.3372 - accuracy: 0.8755 - val_loss: 0.3603 - val_accuracy: 0.8681\n",
            "Epoch 5/20\n",
            "188/188 [==============================] - 1s 7ms/step - loss: 0.3171 - accuracy: 0.8829 - val_loss: 0.3613 - val_accuracy: 0.8655\n",
            "Epoch 6/20\n",
            "188/188 [==============================] - 1s 7ms/step - loss: 0.3030 - accuracy: 0.8870 - val_loss: 0.3528 - val_accuracy: 0.8727\n",
            "Epoch 7/20\n",
            "188/188 [==============================] - 1s 7ms/step - loss: 0.2878 - accuracy: 0.8914 - val_loss: 0.3410 - val_accuracy: 0.8733\n",
            "Epoch 8/20\n",
            "188/188 [==============================] - 1s 7ms/step - loss: 0.2716 - accuracy: 0.8992 - val_loss: 0.3178 - val_accuracy: 0.8839\n",
            "Epoch 9/20\n",
            "188/188 [==============================] - 1s 7ms/step - loss: 0.2624 - accuracy: 0.9026 - val_loss: 0.3358 - val_accuracy: 0.8799\n",
            "Epoch 10/20\n",
            "188/188 [==============================] - 1s 8ms/step - loss: 0.2524 - accuracy: 0.9045 - val_loss: 0.3217 - val_accuracy: 0.8842\n",
            "Epoch 11/20\n",
            "188/188 [==============================] - 1s 7ms/step - loss: 0.2431 - accuracy: 0.9087 - val_loss: 0.3145 - val_accuracy: 0.8832\n",
            "Epoch 12/20\n",
            "188/188 [==============================] - 1s 7ms/step - loss: 0.2297 - accuracy: 0.9142 - val_loss: 0.3392 - val_accuracy: 0.8811\n",
            "Epoch 13/20\n",
            "188/188 [==============================] - 1s 7ms/step - loss: 0.2294 - accuracy: 0.9137 - val_loss: 0.3107 - val_accuracy: 0.8921\n",
            "Epoch 14/20\n",
            "188/188 [==============================] - 1s 7ms/step - loss: 0.2148 - accuracy: 0.9188 - val_loss: 0.3201 - val_accuracy: 0.8876\n",
            "Epoch 15/20\n",
            "188/188 [==============================] - 1s 7ms/step - loss: 0.2078 - accuracy: 0.9227 - val_loss: 0.3100 - val_accuracy: 0.8932\n",
            "Epoch 16/20\n",
            "188/188 [==============================] - 1s 7ms/step - loss: 0.1972 - accuracy: 0.9255 - val_loss: 0.3208 - val_accuracy: 0.8896\n",
            "Epoch 17/20\n",
            "188/188 [==============================] - 1s 7ms/step - loss: 0.1968 - accuracy: 0.9246 - val_loss: 0.3424 - val_accuracy: 0.8826\n",
            "Epoch 18/20\n",
            "188/188 [==============================] - 1s 7ms/step - loss: 0.1919 - accuracy: 0.9291 - val_loss: 0.3057 - val_accuracy: 0.8944\n",
            "Epoch 19/20\n",
            "188/188 [==============================] - 1s 7ms/step - loss: 0.1788 - accuracy: 0.9315 - val_loss: 0.3310 - val_accuracy: 0.8908\n",
            "Epoch 20/20\n",
            "188/188 [==============================] - 1s 7ms/step - loss: 0.1711 - accuracy: 0.9357 - val_loss: 0.3197 - val_accuracy: 0.8909\n"
          ],
          "name": "stdout"
        },
        {
          "output_type": "display_data",
          "data": {
            "text/html": [
              "<span style=\"color:#4527A0\"><h1 style=\"font-size:18px\">Trial complete</h1></span>"
            ],
            "text/plain": [
              "<IPython.core.display.HTML object>"
            ]
          },
          "metadata": {
            "tags": []
          }
        },
        {
          "output_type": "display_data",
          "data": {
            "text/html": [
              "<span style=\"color:#4527A0\"><h1 style=\"font-size:18px\">Trial summary</h1></span>"
            ],
            "text/plain": [
              "<IPython.core.display.HTML object>"
            ]
          },
          "metadata": {
            "tags": []
          }
        },
        {
          "output_type": "display_data",
          "data": {
            "text/html": [
              "<span style=\"color:cyan\"> |-Trial ID: 8a2588d866c59e2ac74e89d3d4508a94</span>"
            ],
            "text/plain": [
              "<IPython.core.display.HTML object>"
            ]
          },
          "metadata": {
            "tags": []
          }
        },
        {
          "output_type": "display_data",
          "data": {
            "text/html": [
              "<span style=\"color:cyan\"> |-Score: 0.8944166898727417</span>"
            ],
            "text/plain": [
              "<IPython.core.display.HTML object>"
            ]
          },
          "metadata": {
            "tags": []
          }
        },
        {
          "output_type": "display_data",
          "data": {
            "text/html": [
              "<span style=\"color:cyan\"> |-Best step: 0</span>"
            ],
            "text/plain": [
              "<IPython.core.display.HTML object>"
            ]
          },
          "metadata": {
            "tags": []
          }
        },
        {
          "output_type": "display_data",
          "data": {
            "text/html": [
              "<span style=\"color:#7E57C2\"><h2 style=\"font-size:16px\">Hyperparameters:</h2></span>"
            ],
            "text/plain": [
              "<IPython.core.display.HTML object>"
            ]
          },
          "metadata": {
            "tags": []
          }
        },
        {
          "output_type": "display_data",
          "data": {
            "text/html": [
              "<span style=\"color:cyan\"> |-activation: elu</span>"
            ],
            "text/plain": [
              "<IPython.core.display.HTML object>"
            ]
          },
          "metadata": {
            "tags": []
          }
        },
        {
          "output_type": "display_data",
          "data": {
            "text/html": [
              "<span style=\"color:blue\"> |-optimizer: adam</span>"
            ],
            "text/plain": [
              "<IPython.core.display.HTML object>"
            ]
          },
          "metadata": {
            "tags": []
          }
        },
        {
          "output_type": "display_data",
          "data": {
            "text/html": [
              "<span style=\"color:cyan\"> |-units_hidden: 288</span>"
            ],
            "text/plain": [
              "<IPython.core.display.HTML object>"
            ]
          },
          "metadata": {
            "tags": []
          }
        },
        {
          "output_type": "display_data",
          "data": {
            "text/html": [
              "<span style=\"color:blue\"> |-units_input: 608</span>"
            ],
            "text/plain": [
              "<IPython.core.display.HTML object>"
            ]
          },
          "metadata": {
            "tags": []
          }
        },
        {
          "output_type": "stream",
          "text": [
            "Epoch 1/20\n",
            "188/188 [==============================] - 2s 10ms/step - loss: 0.6579 - accuracy: 0.7612 - val_loss: 0.4150 - val_accuracy: 0.8457\n",
            "Epoch 2/20\n",
            "188/188 [==============================] - 2s 9ms/step - loss: 0.4221 - accuracy: 0.8439 - val_loss: 0.3992 - val_accuracy: 0.8476\n",
            "Epoch 3/20\n",
            "188/188 [==============================] - 2s 9ms/step - loss: 0.3649 - accuracy: 0.8640 - val_loss: 0.3825 - val_accuracy: 0.8636\n",
            "Epoch 4/20\n",
            "188/188 [==============================] - 2s 9ms/step - loss: 0.3307 - accuracy: 0.8785 - val_loss: 0.3605 - val_accuracy: 0.8723\n",
            "Epoch 5/20\n",
            "188/188 [==============================] - 2s 9ms/step - loss: 0.3050 - accuracy: 0.8857 - val_loss: 0.3464 - val_accuracy: 0.8737\n",
            "Epoch 6/20\n",
            "188/188 [==============================] - 2s 9ms/step - loss: 0.2878 - accuracy: 0.8909 - val_loss: 0.5230 - val_accuracy: 0.8498\n",
            "Epoch 7/20\n",
            "188/188 [==============================] - 2s 9ms/step - loss: 0.2720 - accuracy: 0.8974 - val_loss: 0.4191 - val_accuracy: 0.8571\n",
            "Epoch 8/20\n",
            "188/188 [==============================] - 2s 9ms/step - loss: 0.2550 - accuracy: 0.9043 - val_loss: 0.4265 - val_accuracy: 0.8712\n",
            "Epoch 9/20\n",
            "188/188 [==============================] - 2s 9ms/step - loss: 0.2457 - accuracy: 0.9066 - val_loss: 0.3385 - val_accuracy: 0.8874\n",
            "Epoch 10/20\n",
            "188/188 [==============================] - 2s 9ms/step - loss: 0.2348 - accuracy: 0.9113 - val_loss: 0.3657 - val_accuracy: 0.8833\n",
            "Epoch 11/20\n",
            "188/188 [==============================] - 2s 9ms/step - loss: 0.2224 - accuracy: 0.9154 - val_loss: 0.4112 - val_accuracy: 0.8845\n",
            "Epoch 12/20\n",
            "188/188 [==============================] - 2s 9ms/step - loss: 0.2158 - accuracy: 0.9178 - val_loss: 0.3848 - val_accuracy: 0.8889\n",
            "Epoch 13/20\n",
            "188/188 [==============================] - 2s 10ms/step - loss: 0.2085 - accuracy: 0.9217 - val_loss: 0.3528 - val_accuracy: 0.8897\n",
            "Epoch 14/20\n",
            "188/188 [==============================] - 2s 9ms/step - loss: 0.2001 - accuracy: 0.9222 - val_loss: 0.4428 - val_accuracy: 0.8687\n",
            "Epoch 15/20\n",
            "188/188 [==============================] - 2s 9ms/step - loss: 0.1966 - accuracy: 0.9245 - val_loss: 0.3892 - val_accuracy: 0.8882\n",
            "Epoch 16/20\n",
            "188/188 [==============================] - 2s 9ms/step - loss: 0.1906 - accuracy: 0.9265 - val_loss: 0.3887 - val_accuracy: 0.8912\n",
            "Epoch 17/20\n",
            "188/188 [==============================] - 2s 9ms/step - loss: 0.1875 - accuracy: 0.9286 - val_loss: 0.4611 - val_accuracy: 0.8839\n",
            "Epoch 18/20\n",
            "188/188 [==============================] - 2s 9ms/step - loss: 0.1797 - accuracy: 0.9319 - val_loss: 0.4327 - val_accuracy: 0.8773\n",
            "Epoch 19/20\n",
            "188/188 [==============================] - 2s 9ms/step - loss: 0.1769 - accuracy: 0.9336 - val_loss: 0.4453 - val_accuracy: 0.8879\n",
            "Epoch 20/20\n",
            "188/188 [==============================] - 2s 9ms/step - loss: 0.1756 - accuracy: 0.9345 - val_loss: 0.4586 - val_accuracy: 0.8903\n"
          ],
          "name": "stdout"
        },
        {
          "output_type": "display_data",
          "data": {
            "text/html": [
              "<span style=\"color:#4527A0\"><h1 style=\"font-size:18px\">Trial complete</h1></span>"
            ],
            "text/plain": [
              "<IPython.core.display.HTML object>"
            ]
          },
          "metadata": {
            "tags": []
          }
        },
        {
          "output_type": "display_data",
          "data": {
            "text/html": [
              "<span style=\"color:#4527A0\"><h1 style=\"font-size:18px\">Trial summary</h1></span>"
            ],
            "text/plain": [
              "<IPython.core.display.HTML object>"
            ]
          },
          "metadata": {
            "tags": []
          }
        },
        {
          "output_type": "display_data",
          "data": {
            "text/html": [
              "<span style=\"color:cyan\"> |-Trial ID: fa275c4b36048c7e3e63523fc0dfa793</span>"
            ],
            "text/plain": [
              "<IPython.core.display.HTML object>"
            ]
          },
          "metadata": {
            "tags": []
          }
        },
        {
          "output_type": "display_data",
          "data": {
            "text/html": [
              "<span style=\"color:cyan\"> |-Score: 0.8911666870117188</span>"
            ],
            "text/plain": [
              "<IPython.core.display.HTML object>"
            ]
          },
          "metadata": {
            "tags": []
          }
        },
        {
          "output_type": "display_data",
          "data": {
            "text/html": [
              "<span style=\"color:cyan\"> |-Best step: 0</span>"
            ],
            "text/plain": [
              "<IPython.core.display.HTML object>"
            ]
          },
          "metadata": {
            "tags": []
          }
        },
        {
          "output_type": "display_data",
          "data": {
            "text/html": [
              "<span style=\"color:#7E57C2\"><h2 style=\"font-size:16px\">Hyperparameters:</h2></span>"
            ],
            "text/plain": [
              "<IPython.core.display.HTML object>"
            ]
          },
          "metadata": {
            "tags": []
          }
        },
        {
          "output_type": "display_data",
          "data": {
            "text/html": [
              "<span style=\"color:cyan\"> |-activation: relu</span>"
            ],
            "text/plain": [
              "<IPython.core.display.HTML object>"
            ]
          },
          "metadata": {
            "tags": []
          }
        },
        {
          "output_type": "display_data",
          "data": {
            "text/html": [
              "<span style=\"color:blue\"> |-optimizer: rmsprop</span>"
            ],
            "text/plain": [
              "<IPython.core.display.HTML object>"
            ]
          },
          "metadata": {
            "tags": []
          }
        },
        {
          "output_type": "display_data",
          "data": {
            "text/html": [
              "<span style=\"color:cyan\"> |-units_hidden: 576</span>"
            ],
            "text/plain": [
              "<IPython.core.display.HTML object>"
            ]
          },
          "metadata": {
            "tags": []
          }
        },
        {
          "output_type": "display_data",
          "data": {
            "text/html": [
              "<span style=\"color:blue\"> |-units_input: 928</span>"
            ],
            "text/plain": [
              "<IPython.core.display.HTML object>"
            ]
          },
          "metadata": {
            "tags": []
          }
        },
        {
          "output_type": "stream",
          "text": [
            "Epoch 1/20\n",
            "188/188 [==============================] - 2s 9ms/step - loss: 0.7569 - accuracy: 0.7332 - val_loss: 0.6435 - val_accuracy: 0.7794\n",
            "Epoch 2/20\n",
            "188/188 [==============================] - 2s 8ms/step - loss: 0.4702 - accuracy: 0.8234 - val_loss: 0.5234 - val_accuracy: 0.8000\n",
            "Epoch 3/20\n",
            "188/188 [==============================] - 2s 9ms/step - loss: 0.4025 - accuracy: 0.8489 - val_loss: 0.3838 - val_accuracy: 0.8547\n",
            "Epoch 4/20\n",
            "188/188 [==============================] - 2s 8ms/step - loss: 0.3617 - accuracy: 0.8647 - val_loss: 0.4269 - val_accuracy: 0.8367\n",
            "Epoch 5/20\n",
            "188/188 [==============================] - 2s 8ms/step - loss: 0.3340 - accuracy: 0.8743 - val_loss: 0.3790 - val_accuracy: 0.8534\n",
            "Epoch 6/20\n",
            "188/188 [==============================] - 2s 9ms/step - loss: 0.3113 - accuracy: 0.8809 - val_loss: 0.3476 - val_accuracy: 0.8745\n",
            "Epoch 7/20\n",
            "188/188 [==============================] - 2s 8ms/step - loss: 0.2929 - accuracy: 0.8894 - val_loss: 0.3543 - val_accuracy: 0.8711\n",
            "Epoch 8/20\n",
            "188/188 [==============================] - 2s 9ms/step - loss: 0.2784 - accuracy: 0.8943 - val_loss: 0.3340 - val_accuracy: 0.8734\n",
            "Epoch 9/20\n",
            "188/188 [==============================] - 2s 8ms/step - loss: 0.2646 - accuracy: 0.8999 - val_loss: 0.3457 - val_accuracy: 0.8730\n",
            "Epoch 10/20\n",
            "188/188 [==============================] - 2s 8ms/step - loss: 0.2540 - accuracy: 0.9042 - val_loss: 0.3568 - val_accuracy: 0.8723\n",
            "Epoch 11/20\n",
            "188/188 [==============================] - 2s 8ms/step - loss: 0.2417 - accuracy: 0.9080 - val_loss: 0.3272 - val_accuracy: 0.8826\n",
            "Epoch 12/20\n",
            "188/188 [==============================] - 2s 8ms/step - loss: 0.2316 - accuracy: 0.9110 - val_loss: 0.3984 - val_accuracy: 0.8624\n",
            "Epoch 13/20\n",
            "188/188 [==============================] - 2s 8ms/step - loss: 0.2206 - accuracy: 0.9164 - val_loss: 0.3359 - val_accuracy: 0.8783\n",
            "Epoch 14/20\n",
            "188/188 [==============================] - 2s 8ms/step - loss: 0.2124 - accuracy: 0.9193 - val_loss: 0.3110 - val_accuracy: 0.8902\n",
            "Epoch 15/20\n",
            "188/188 [==============================] - 2s 8ms/step - loss: 0.2024 - accuracy: 0.9221 - val_loss: 0.3448 - val_accuracy: 0.8777\n",
            "Epoch 16/20\n",
            "188/188 [==============================] - 2s 8ms/step - loss: 0.1940 - accuracy: 0.9259 - val_loss: 0.3220 - val_accuracy: 0.8859\n",
            "Epoch 17/20\n",
            "188/188 [==============================] - 2s 8ms/step - loss: 0.1864 - accuracy: 0.9295 - val_loss: 0.3797 - val_accuracy: 0.8660\n",
            "Epoch 18/20\n",
            "188/188 [==============================] - 2s 8ms/step - loss: 0.1801 - accuracy: 0.9326 - val_loss: 0.3098 - val_accuracy: 0.8909\n",
            "Epoch 19/20\n",
            "188/188 [==============================] - 2s 9ms/step - loss: 0.1702 - accuracy: 0.9364 - val_loss: 0.3111 - val_accuracy: 0.8923\n",
            "Epoch 20/20\n",
            "188/188 [==============================] - 2s 8ms/step - loss: 0.1641 - accuracy: 0.9380 - val_loss: 0.3288 - val_accuracy: 0.8882\n"
          ],
          "name": "stdout"
        },
        {
          "output_type": "display_data",
          "data": {
            "text/html": [
              "<span style=\"color:#4527A0\"><h1 style=\"font-size:18px\">Trial complete</h1></span>"
            ],
            "text/plain": [
              "<IPython.core.display.HTML object>"
            ]
          },
          "metadata": {
            "tags": []
          }
        },
        {
          "output_type": "display_data",
          "data": {
            "text/html": [
              "<span style=\"color:#4527A0\"><h1 style=\"font-size:18px\">Trial summary</h1></span>"
            ],
            "text/plain": [
              "<IPython.core.display.HTML object>"
            ]
          },
          "metadata": {
            "tags": []
          }
        },
        {
          "output_type": "display_data",
          "data": {
            "text/html": [
              "<span style=\"color:cyan\"> |-Trial ID: fadbaaf0e0e38636ad3eda683b2cfd4f</span>"
            ],
            "text/plain": [
              "<IPython.core.display.HTML object>"
            ]
          },
          "metadata": {
            "tags": []
          }
        },
        {
          "output_type": "display_data",
          "data": {
            "text/html": [
              "<span style=\"color:cyan\"> |-Score: 0.8923333287239075</span>"
            ],
            "text/plain": [
              "<IPython.core.display.HTML object>"
            ]
          },
          "metadata": {
            "tags": []
          }
        },
        {
          "output_type": "display_data",
          "data": {
            "text/html": [
              "<span style=\"color:cyan\"> |-Best step: 0</span>"
            ],
            "text/plain": [
              "<IPython.core.display.HTML object>"
            ]
          },
          "metadata": {
            "tags": []
          }
        },
        {
          "output_type": "display_data",
          "data": {
            "text/html": [
              "<span style=\"color:#7E57C2\"><h2 style=\"font-size:16px\">Hyperparameters:</h2></span>"
            ],
            "text/plain": [
              "<IPython.core.display.HTML object>"
            ]
          },
          "metadata": {
            "tags": []
          }
        },
        {
          "output_type": "display_data",
          "data": {
            "text/html": [
              "<span style=\"color:cyan\"> |-activation: tanh</span>"
            ],
            "text/plain": [
              "<IPython.core.display.HTML object>"
            ]
          },
          "metadata": {
            "tags": []
          }
        },
        {
          "output_type": "display_data",
          "data": {
            "text/html": [
              "<span style=\"color:blue\"> |-optimizer: rmsprop</span>"
            ],
            "text/plain": [
              "<IPython.core.display.HTML object>"
            ]
          },
          "metadata": {
            "tags": []
          }
        },
        {
          "output_type": "display_data",
          "data": {
            "text/html": [
              "<span style=\"color:cyan\"> |-units_hidden: 416</span>"
            ],
            "text/plain": [
              "<IPython.core.display.HTML object>"
            ]
          },
          "metadata": {
            "tags": []
          }
        },
        {
          "output_type": "display_data",
          "data": {
            "text/html": [
              "<span style=\"color:blue\"> |-units_input: 736</span>"
            ],
            "text/plain": [
              "<IPython.core.display.HTML object>"
            ]
          },
          "metadata": {
            "tags": []
          }
        },
        {
          "output_type": "stream",
          "text": [
            "Epoch 1/20\n",
            "188/188 [==============================] - 2s 8ms/step - loss: 0.5296 - accuracy: 0.8129 - val_loss: 0.4128 - val_accuracy: 0.8472\n",
            "Epoch 2/20\n",
            "188/188 [==============================] - 1s 8ms/step - loss: 0.3751 - accuracy: 0.8627 - val_loss: 0.3577 - val_accuracy: 0.8704\n",
            "Epoch 3/20\n",
            "188/188 [==============================] - 1s 7ms/step - loss: 0.3318 - accuracy: 0.8784 - val_loss: 0.3559 - val_accuracy: 0.8678\n",
            "Epoch 4/20\n",
            "188/188 [==============================] - 1s 7ms/step - loss: 0.3023 - accuracy: 0.8879 - val_loss: 0.3531 - val_accuracy: 0.8684\n",
            "Epoch 5/20\n",
            "188/188 [==============================] - 1s 7ms/step - loss: 0.2808 - accuracy: 0.8953 - val_loss: 0.3122 - val_accuracy: 0.8867\n",
            "Epoch 6/20\n",
            "188/188 [==============================] - 1s 7ms/step - loss: 0.2651 - accuracy: 0.9009 - val_loss: 0.3162 - val_accuracy: 0.8862\n",
            "Epoch 7/20\n",
            "188/188 [==============================] - 1s 7ms/step - loss: 0.2520 - accuracy: 0.9064 - val_loss: 0.3147 - val_accuracy: 0.8882\n",
            "Epoch 8/20\n",
            "188/188 [==============================] - 1s 8ms/step - loss: 0.2412 - accuracy: 0.9090 - val_loss: 0.3033 - val_accuracy: 0.8935\n",
            "Epoch 9/20\n",
            "188/188 [==============================] - 1s 7ms/step - loss: 0.2253 - accuracy: 0.9146 - val_loss: 0.3132 - val_accuracy: 0.8876\n",
            "Epoch 10/20\n",
            "188/188 [==============================] - 1s 7ms/step - loss: 0.2142 - accuracy: 0.9187 - val_loss: 0.3047 - val_accuracy: 0.8891\n",
            "Epoch 11/20\n",
            "188/188 [==============================] - 1s 7ms/step - loss: 0.2082 - accuracy: 0.9211 - val_loss: 0.3212 - val_accuracy: 0.8884\n",
            "Epoch 12/20\n",
            "188/188 [==============================] - 1s 7ms/step - loss: 0.1990 - accuracy: 0.9251 - val_loss: 0.3401 - val_accuracy: 0.8851\n",
            "Epoch 13/20\n",
            "188/188 [==============================] - 1s 8ms/step - loss: 0.1930 - accuracy: 0.9271 - val_loss: 0.3096 - val_accuracy: 0.8930\n",
            "Epoch 14/20\n",
            "188/188 [==============================] - 1s 7ms/step - loss: 0.1827 - accuracy: 0.9309 - val_loss: 0.3129 - val_accuracy: 0.8949\n",
            "Epoch 15/20\n",
            "188/188 [==============================] - 1s 7ms/step - loss: 0.1768 - accuracy: 0.9334 - val_loss: 0.3387 - val_accuracy: 0.8848\n",
            "Epoch 16/20\n",
            "188/188 [==============================] - 1s 7ms/step - loss: 0.1721 - accuracy: 0.9349 - val_loss: 0.3215 - val_accuracy: 0.8966\n",
            "Epoch 17/20\n",
            "188/188 [==============================] - 1s 8ms/step - loss: 0.1630 - accuracy: 0.9391 - val_loss: 0.3080 - val_accuracy: 0.8964\n",
            "Epoch 18/20\n",
            "188/188 [==============================] - 1s 8ms/step - loss: 0.1592 - accuracy: 0.9392 - val_loss: 0.3075 - val_accuracy: 0.8964\n",
            "Epoch 19/20\n",
            "188/188 [==============================] - 1s 8ms/step - loss: 0.1498 - accuracy: 0.9435 - val_loss: 0.3300 - val_accuracy: 0.8978\n",
            "Epoch 20/20\n",
            "188/188 [==============================] - 1s 8ms/step - loss: 0.1493 - accuracy: 0.9421 - val_loss: 0.3332 - val_accuracy: 0.8966\n"
          ],
          "name": "stdout"
        },
        {
          "output_type": "display_data",
          "data": {
            "text/html": [
              "<span style=\"color:#4527A0\"><h1 style=\"font-size:18px\">Trial complete</h1></span>"
            ],
            "text/plain": [
              "<IPython.core.display.HTML object>"
            ]
          },
          "metadata": {
            "tags": []
          }
        },
        {
          "output_type": "display_data",
          "data": {
            "text/html": [
              "<span style=\"color:#4527A0\"><h1 style=\"font-size:18px\">Trial summary</h1></span>"
            ],
            "text/plain": [
              "<IPython.core.display.HTML object>"
            ]
          },
          "metadata": {
            "tags": []
          }
        },
        {
          "output_type": "display_data",
          "data": {
            "text/html": [
              "<span style=\"color:cyan\"> |-Trial ID: c53a801b5d99b70808222d4339e6e027</span>"
            ],
            "text/plain": [
              "<IPython.core.display.HTML object>"
            ]
          },
          "metadata": {
            "tags": []
          }
        },
        {
          "output_type": "display_data",
          "data": {
            "text/html": [
              "<span style=\"color:cyan\"> |-Score: 0.8977500200271606</span>"
            ],
            "text/plain": [
              "<IPython.core.display.HTML object>"
            ]
          },
          "metadata": {
            "tags": []
          }
        },
        {
          "output_type": "display_data",
          "data": {
            "text/html": [
              "<span style=\"color:cyan\"> |-Best step: 0</span>"
            ],
            "text/plain": [
              "<IPython.core.display.HTML object>"
            ]
          },
          "metadata": {
            "tags": []
          }
        },
        {
          "output_type": "display_data",
          "data": {
            "text/html": [
              "<span style=\"color:#7E57C2\"><h2 style=\"font-size:16px\">Hyperparameters:</h2></span>"
            ],
            "text/plain": [
              "<IPython.core.display.HTML object>"
            ]
          },
          "metadata": {
            "tags": []
          }
        },
        {
          "output_type": "display_data",
          "data": {
            "text/html": [
              "<span style=\"color:cyan\"> |-activation: relu</span>"
            ],
            "text/plain": [
              "<IPython.core.display.HTML object>"
            ]
          },
          "metadata": {
            "tags": []
          }
        },
        {
          "output_type": "display_data",
          "data": {
            "text/html": [
              "<span style=\"color:blue\"> |-optimizer: adam</span>"
            ],
            "text/plain": [
              "<IPython.core.display.HTML object>"
            ]
          },
          "metadata": {
            "tags": []
          }
        },
        {
          "output_type": "display_data",
          "data": {
            "text/html": [
              "<span style=\"color:cyan\"> |-units_hidden: 192</span>"
            ],
            "text/plain": [
              "<IPython.core.display.HTML object>"
            ]
          },
          "metadata": {
            "tags": []
          }
        },
        {
          "output_type": "display_data",
          "data": {
            "text/html": [
              "<span style=\"color:blue\"> |-units_input: 928</span>"
            ],
            "text/plain": [
              "<IPython.core.display.HTML object>"
            ]
          },
          "metadata": {
            "tags": []
          }
        },
        {
          "output_type": "stream",
          "text": [
            "Epoch 1/20\n",
            "188/188 [==============================] - 1s 7ms/step - loss: 0.5669 - accuracy: 0.8025 - val_loss: 0.4529 - val_accuracy: 0.8335\n",
            "Epoch 2/20\n",
            "188/188 [==============================] - 1s 7ms/step - loss: 0.4007 - accuracy: 0.8560 - val_loss: 0.4460 - val_accuracy: 0.8376\n",
            "Epoch 3/20\n",
            "188/188 [==============================] - 1s 7ms/step - loss: 0.3695 - accuracy: 0.8647 - val_loss: 0.4022 - val_accuracy: 0.8538\n",
            "Epoch 4/20\n",
            "188/188 [==============================] - 1s 7ms/step - loss: 0.3371 - accuracy: 0.8760 - val_loss: 0.3666 - val_accuracy: 0.8692\n",
            "Epoch 5/20\n",
            "188/188 [==============================] - 1s 7ms/step - loss: 0.3168 - accuracy: 0.8842 - val_loss: 0.3431 - val_accuracy: 0.8779\n",
            "Epoch 6/20\n",
            "188/188 [==============================] - 1s 7ms/step - loss: 0.2982 - accuracy: 0.8897 - val_loss: 0.3316 - val_accuracy: 0.8823\n",
            "Epoch 7/20\n",
            "188/188 [==============================] - 1s 7ms/step - loss: 0.2913 - accuracy: 0.8926 - val_loss: 0.3430 - val_accuracy: 0.8777\n",
            "Epoch 8/20\n",
            "188/188 [==============================] - 1s 7ms/step - loss: 0.2800 - accuracy: 0.8963 - val_loss: 0.3492 - val_accuracy: 0.8792\n",
            "Epoch 9/20\n",
            "188/188 [==============================] - 1s 7ms/step - loss: 0.2693 - accuracy: 0.8999 - val_loss: 0.3255 - val_accuracy: 0.8837\n",
            "Epoch 10/20\n",
            "188/188 [==============================] - 1s 7ms/step - loss: 0.2576 - accuracy: 0.9032 - val_loss: 0.3291 - val_accuracy: 0.8833\n",
            "Epoch 11/20\n",
            "188/188 [==============================] - 1s 7ms/step - loss: 0.2487 - accuracy: 0.9068 - val_loss: 0.3272 - val_accuracy: 0.8840\n",
            "Epoch 12/20\n",
            "188/188 [==============================] - 1s 7ms/step - loss: 0.2380 - accuracy: 0.9109 - val_loss: 0.3515 - val_accuracy: 0.8775\n",
            "Epoch 13/20\n",
            "188/188 [==============================] - 1s 7ms/step - loss: 0.2328 - accuracy: 0.9127 - val_loss: 0.3278 - val_accuracy: 0.8842\n",
            "Epoch 14/20\n",
            "188/188 [==============================] - 1s 7ms/step - loss: 0.2225 - accuracy: 0.9171 - val_loss: 0.3485 - val_accuracy: 0.8805\n",
            "Epoch 15/20\n",
            "188/188 [==============================] - 1s 7ms/step - loss: 0.2182 - accuracy: 0.9182 - val_loss: 0.3306 - val_accuracy: 0.8858\n",
            "Epoch 16/20\n",
            "188/188 [==============================] - 1s 7ms/step - loss: 0.2112 - accuracy: 0.9202 - val_loss: 0.3140 - val_accuracy: 0.8905\n",
            "Epoch 17/20\n",
            "188/188 [==============================] - 1s 7ms/step - loss: 0.2098 - accuracy: 0.9209 - val_loss: 0.3406 - val_accuracy: 0.8878\n",
            "Epoch 18/20\n",
            "188/188 [==============================] - 1s 7ms/step - loss: 0.2073 - accuracy: 0.9217 - val_loss: 0.3502 - val_accuracy: 0.8838\n",
            "Epoch 19/20\n",
            "188/188 [==============================] - 1s 7ms/step - loss: 0.2017 - accuracy: 0.9247 - val_loss: 0.3301 - val_accuracy: 0.8892\n",
            "Epoch 20/20\n",
            "188/188 [==============================] - 1s 7ms/step - loss: 0.2003 - accuracy: 0.9256 - val_loss: 0.3464 - val_accuracy: 0.8849\n"
          ],
          "name": "stdout"
        },
        {
          "output_type": "display_data",
          "data": {
            "text/html": [
              "<span style=\"color:#4527A0\"><h1 style=\"font-size:18px\">Trial complete</h1></span>"
            ],
            "text/plain": [
              "<IPython.core.display.HTML object>"
            ]
          },
          "metadata": {
            "tags": []
          }
        },
        {
          "output_type": "display_data",
          "data": {
            "text/html": [
              "<span style=\"color:#4527A0\"><h1 style=\"font-size:18px\">Trial summary</h1></span>"
            ],
            "text/plain": [
              "<IPython.core.display.HTML object>"
            ]
          },
          "metadata": {
            "tags": []
          }
        },
        {
          "output_type": "display_data",
          "data": {
            "text/html": [
              "<span style=\"color:cyan\"> |-Trial ID: c2ee19e43fc7580c56312faa68956dd5</span>"
            ],
            "text/plain": [
              "<IPython.core.display.HTML object>"
            ]
          },
          "metadata": {
            "tags": []
          }
        },
        {
          "output_type": "display_data",
          "data": {
            "text/html": [
              "<span style=\"color:cyan\"> |-Score: 0.890500009059906</span>"
            ],
            "text/plain": [
              "<IPython.core.display.HTML object>"
            ]
          },
          "metadata": {
            "tags": []
          }
        },
        {
          "output_type": "display_data",
          "data": {
            "text/html": [
              "<span style=\"color:cyan\"> |-Best step: 0</span>"
            ],
            "text/plain": [
              "<IPython.core.display.HTML object>"
            ]
          },
          "metadata": {
            "tags": []
          }
        },
        {
          "output_type": "display_data",
          "data": {
            "text/html": [
              "<span style=\"color:#7E57C2\"><h2 style=\"font-size:16px\">Hyperparameters:</h2></span>"
            ],
            "text/plain": [
              "<IPython.core.display.HTML object>"
            ]
          },
          "metadata": {
            "tags": []
          }
        },
        {
          "output_type": "display_data",
          "data": {
            "text/html": [
              "<span style=\"color:cyan\"> |-activation: selu</span>"
            ],
            "text/plain": [
              "<IPython.core.display.HTML object>"
            ]
          },
          "metadata": {
            "tags": []
          }
        },
        {
          "output_type": "display_data",
          "data": {
            "text/html": [
              "<span style=\"color:blue\"> |-optimizer: adam</span>"
            ],
            "text/plain": [
              "<IPython.core.display.HTML object>"
            ]
          },
          "metadata": {
            "tags": []
          }
        },
        {
          "output_type": "display_data",
          "data": {
            "text/html": [
              "<span style=\"color:cyan\"> |-units_hidden: 128</span>"
            ],
            "text/plain": [
              "<IPython.core.display.HTML object>"
            ]
          },
          "metadata": {
            "tags": []
          }
        },
        {
          "output_type": "display_data",
          "data": {
            "text/html": [
              "<span style=\"color:blue\"> |-units_input: 832</span>"
            ],
            "text/plain": [
              "<IPython.core.display.HTML object>"
            ]
          },
          "metadata": {
            "tags": []
          }
        },
        {
          "output_type": "stream",
          "text": [
            "Epoch 1/20\n",
            "188/188 [==============================] - 1s 7ms/step - loss: 0.8227 - accuracy: 0.7279 - val_loss: 0.6256 - val_accuracy: 0.7844\n",
            "Epoch 2/20\n",
            "188/188 [==============================] - 1s 7ms/step - loss: 0.5636 - accuracy: 0.8100 - val_loss: 0.5465 - val_accuracy: 0.8106\n",
            "Epoch 3/20\n",
            "188/188 [==============================] - 1s 7ms/step - loss: 0.5123 - accuracy: 0.8252 - val_loss: 0.5013 - val_accuracy: 0.8245\n",
            "Epoch 4/20\n",
            "188/188 [==============================] - 1s 7ms/step - loss: 0.4853 - accuracy: 0.8325 - val_loss: 0.4827 - val_accuracy: 0.8303\n",
            "Epoch 5/20\n",
            "188/188 [==============================] - 1s 7ms/step - loss: 0.4660 - accuracy: 0.8391 - val_loss: 0.4775 - val_accuracy: 0.8330\n",
            "Epoch 6/20\n",
            "188/188 [==============================] - 1s 7ms/step - loss: 0.4536 - accuracy: 0.8420 - val_loss: 0.4567 - val_accuracy: 0.8391\n",
            "Epoch 7/20\n",
            "188/188 [==============================] - 1s 7ms/step - loss: 0.4429 - accuracy: 0.8455 - val_loss: 0.4978 - val_accuracy: 0.8304\n",
            "Epoch 8/20\n",
            "188/188 [==============================] - 1s 7ms/step - loss: 0.4341 - accuracy: 0.8497 - val_loss: 0.4503 - val_accuracy: 0.8425\n",
            "Epoch 9/20\n",
            "188/188 [==============================] - 1s 7ms/step - loss: 0.4255 - accuracy: 0.8520 - val_loss: 0.4344 - val_accuracy: 0.8451\n",
            "Epoch 10/20\n",
            "188/188 [==============================] - 1s 7ms/step - loss: 0.4206 - accuracy: 0.8545 - val_loss: 0.4395 - val_accuracy: 0.8421\n",
            "Epoch 11/20\n",
            "188/188 [==============================] - 1s 7ms/step - loss: 0.4153 - accuracy: 0.8560 - val_loss: 0.4237 - val_accuracy: 0.8504\n",
            "Epoch 12/20\n",
            "188/188 [==============================] - 1s 7ms/step - loss: 0.4101 - accuracy: 0.8571 - val_loss: 0.4377 - val_accuracy: 0.8443\n",
            "Epoch 13/20\n",
            "188/188 [==============================] - 1s 7ms/step - loss: 0.4055 - accuracy: 0.8583 - val_loss: 0.4307 - val_accuracy: 0.8472\n",
            "Epoch 14/20\n",
            "188/188 [==============================] - 1s 8ms/step - loss: 0.4012 - accuracy: 0.8609 - val_loss: 0.4149 - val_accuracy: 0.8557\n",
            "Epoch 15/20\n",
            "188/188 [==============================] - 1s 7ms/step - loss: 0.3976 - accuracy: 0.8612 - val_loss: 0.4069 - val_accuracy: 0.8571\n",
            "Epoch 16/20\n",
            "188/188 [==============================] - 1s 7ms/step - loss: 0.3947 - accuracy: 0.8618 - val_loss: 0.4171 - val_accuracy: 0.8528\n",
            "Epoch 17/20\n",
            "188/188 [==============================] - 1s 7ms/step - loss: 0.3909 - accuracy: 0.8638 - val_loss: 0.4082 - val_accuracy: 0.8573\n",
            "Epoch 18/20\n",
            "188/188 [==============================] - 1s 7ms/step - loss: 0.3878 - accuracy: 0.8642 - val_loss: 0.4140 - val_accuracy: 0.8553\n",
            "Epoch 19/20\n",
            "188/188 [==============================] - 1s 7ms/step - loss: 0.3836 - accuracy: 0.8661 - val_loss: 0.4214 - val_accuracy: 0.8517\n",
            "Epoch 20/20\n",
            "188/188 [==============================] - 1s 7ms/step - loss: 0.3807 - accuracy: 0.8661 - val_loss: 0.3992 - val_accuracy: 0.8577\n"
          ],
          "name": "stdout"
        },
        {
          "output_type": "display_data",
          "data": {
            "text/html": [
              "<span style=\"color:#4527A0\"><h1 style=\"font-size:18px\">Trial complete</h1></span>"
            ],
            "text/plain": [
              "<IPython.core.display.HTML object>"
            ]
          },
          "metadata": {
            "tags": []
          }
        },
        {
          "output_type": "display_data",
          "data": {
            "text/html": [
              "<span style=\"color:#4527A0\"><h1 style=\"font-size:18px\">Trial summary</h1></span>"
            ],
            "text/plain": [
              "<IPython.core.display.HTML object>"
            ]
          },
          "metadata": {
            "tags": []
          }
        },
        {
          "output_type": "display_data",
          "data": {
            "text/html": [
              "<span style=\"color:cyan\"> |-Trial ID: bb553258eef86658ef5f91bfad81ea2a</span>"
            ],
            "text/plain": [
              "<IPython.core.display.HTML object>"
            ]
          },
          "metadata": {
            "tags": []
          }
        },
        {
          "output_type": "display_data",
          "data": {
            "text/html": [
              "<span style=\"color:cyan\"> |-Score: 0.8577499985694885</span>"
            ],
            "text/plain": [
              "<IPython.core.display.HTML object>"
            ]
          },
          "metadata": {
            "tags": []
          }
        },
        {
          "output_type": "display_data",
          "data": {
            "text/html": [
              "<span style=\"color:cyan\"> |-Best step: 0</span>"
            ],
            "text/plain": [
              "<IPython.core.display.HTML object>"
            ]
          },
          "metadata": {
            "tags": []
          }
        },
        {
          "output_type": "display_data",
          "data": {
            "text/html": [
              "<span style=\"color:#7E57C2\"><h2 style=\"font-size:16px\">Hyperparameters:</h2></span>"
            ],
            "text/plain": [
              "<IPython.core.display.HTML object>"
            ]
          },
          "metadata": {
            "tags": []
          }
        },
        {
          "output_type": "display_data",
          "data": {
            "text/html": [
              "<span style=\"color:cyan\"> |-activation: selu</span>"
            ],
            "text/plain": [
              "<IPython.core.display.HTML object>"
            ]
          },
          "metadata": {
            "tags": []
          }
        },
        {
          "output_type": "display_data",
          "data": {
            "text/html": [
              "<span style=\"color:blue\"> |-optimizer: SGD</span>"
            ],
            "text/plain": [
              "<IPython.core.display.HTML object>"
            ]
          },
          "metadata": {
            "tags": []
          }
        },
        {
          "output_type": "display_data",
          "data": {
            "text/html": [
              "<span style=\"color:cyan\"> |-units_hidden: 256</span>"
            ],
            "text/plain": [
              "<IPython.core.display.HTML object>"
            ]
          },
          "metadata": {
            "tags": []
          }
        },
        {
          "output_type": "display_data",
          "data": {
            "text/html": [
              "<span style=\"color:blue\"> |-units_input: 992</span>"
            ],
            "text/plain": [
              "<IPython.core.display.HTML object>"
            ]
          },
          "metadata": {
            "tags": []
          }
        },
        {
          "output_type": "stream",
          "text": [
            "Epoch 1/20\n",
            "188/188 [==============================] - 1s 8ms/step - loss: 0.9104 - accuracy: 0.7220 - val_loss: 0.5050 - val_accuracy: 0.8118\n",
            "Epoch 2/20\n",
            "188/188 [==============================] - 1s 7ms/step - loss: 0.5013 - accuracy: 0.8166 - val_loss: 0.5546 - val_accuracy: 0.7905\n",
            "Epoch 3/20\n",
            "188/188 [==============================] - 1s 8ms/step - loss: 0.4252 - accuracy: 0.8424 - val_loss: 0.4359 - val_accuracy: 0.8346\n",
            "Epoch 4/20\n",
            "188/188 [==============================] - 1s 7ms/step - loss: 0.3803 - accuracy: 0.8583 - val_loss: 0.3898 - val_accuracy: 0.8574\n",
            "Epoch 5/20\n",
            "188/188 [==============================] - 1s 7ms/step - loss: 0.3482 - accuracy: 0.8691 - val_loss: 0.4317 - val_accuracy: 0.8250\n",
            "Epoch 6/20\n",
            "188/188 [==============================] - 1s 7ms/step - loss: 0.3288 - accuracy: 0.8760 - val_loss: 0.4146 - val_accuracy: 0.8528\n",
            "Epoch 7/20\n",
            "188/188 [==============================] - 1s 7ms/step - loss: 0.3107 - accuracy: 0.8821 - val_loss: 0.3606 - val_accuracy: 0.8712\n",
            "Epoch 8/20\n",
            "188/188 [==============================] - 1s 7ms/step - loss: 0.2950 - accuracy: 0.8884 - val_loss: 0.3420 - val_accuracy: 0.8751\n",
            "Epoch 9/20\n",
            "188/188 [==============================] - 1s 7ms/step - loss: 0.2840 - accuracy: 0.8934 - val_loss: 0.3839 - val_accuracy: 0.8545\n",
            "Epoch 10/20\n",
            "188/188 [==============================] - 1s 7ms/step - loss: 0.2726 - accuracy: 0.8972 - val_loss: 0.3921 - val_accuracy: 0.8559\n",
            "Epoch 11/20\n",
            "188/188 [==============================] - 1s 7ms/step - loss: 0.2623 - accuracy: 0.8998 - val_loss: 0.4299 - val_accuracy: 0.8508\n",
            "Epoch 12/20\n",
            "188/188 [==============================] - 1s 7ms/step - loss: 0.2510 - accuracy: 0.9038 - val_loss: 0.3813 - val_accuracy: 0.8711\n",
            "Epoch 13/20\n",
            "188/188 [==============================] - 1s 7ms/step - loss: 0.2448 - accuracy: 0.9081 - val_loss: 0.3431 - val_accuracy: 0.8857\n",
            "Epoch 14/20\n",
            "188/188 [==============================] - 1s 7ms/step - loss: 0.2336 - accuracy: 0.9110 - val_loss: 0.3419 - val_accuracy: 0.8802\n",
            "Epoch 15/20\n",
            "188/188 [==============================] - 1s 7ms/step - loss: 0.2287 - accuracy: 0.9132 - val_loss: 0.3523 - val_accuracy: 0.8792\n",
            "Epoch 16/20\n",
            "188/188 [==============================] - 1s 7ms/step - loss: 0.2225 - accuracy: 0.9147 - val_loss: 0.3571 - val_accuracy: 0.8818\n",
            "Epoch 17/20\n",
            "188/188 [==============================] - 1s 7ms/step - loss: 0.2149 - accuracy: 0.9191 - val_loss: 0.3754 - val_accuracy: 0.8765\n",
            "Epoch 18/20\n",
            "188/188 [==============================] - 1s 7ms/step - loss: 0.2083 - accuracy: 0.9204 - val_loss: 0.3516 - val_accuracy: 0.8825\n",
            "Epoch 19/20\n",
            "188/188 [==============================] - 1s 7ms/step - loss: 0.2011 - accuracy: 0.9236 - val_loss: 0.3348 - val_accuracy: 0.8897\n",
            "Epoch 20/20\n",
            "188/188 [==============================] - 1s 7ms/step - loss: 0.1957 - accuracy: 0.9260 - val_loss: 0.3579 - val_accuracy: 0.8793\n"
          ],
          "name": "stdout"
        },
        {
          "output_type": "display_data",
          "data": {
            "text/html": [
              "<span style=\"color:#4527A0\"><h1 style=\"font-size:18px\">Trial complete</h1></span>"
            ],
            "text/plain": [
              "<IPython.core.display.HTML object>"
            ]
          },
          "metadata": {
            "tags": []
          }
        },
        {
          "output_type": "display_data",
          "data": {
            "text/html": [
              "<span style=\"color:#4527A0\"><h1 style=\"font-size:18px\">Trial summary</h1></span>"
            ],
            "text/plain": [
              "<IPython.core.display.HTML object>"
            ]
          },
          "metadata": {
            "tags": []
          }
        },
        {
          "output_type": "display_data",
          "data": {
            "text/html": [
              "<span style=\"color:cyan\"> |-Trial ID: 34a9325b76fb6c35ae830c732267a5cc</span>"
            ],
            "text/plain": [
              "<IPython.core.display.HTML object>"
            ]
          },
          "metadata": {
            "tags": []
          }
        },
        {
          "output_type": "display_data",
          "data": {
            "text/html": [
              "<span style=\"color:cyan\"> |-Score: 0.8896666765213013</span>"
            ],
            "text/plain": [
              "<IPython.core.display.HTML object>"
            ]
          },
          "metadata": {
            "tags": []
          }
        },
        {
          "output_type": "display_data",
          "data": {
            "text/html": [
              "<span style=\"color:cyan\"> |-Best step: 0</span>"
            ],
            "text/plain": [
              "<IPython.core.display.HTML object>"
            ]
          },
          "metadata": {
            "tags": []
          }
        },
        {
          "output_type": "display_data",
          "data": {
            "text/html": [
              "<span style=\"color:#7E57C2\"><h2 style=\"font-size:16px\">Hyperparameters:</h2></span>"
            ],
            "text/plain": [
              "<IPython.core.display.HTML object>"
            ]
          },
          "metadata": {
            "tags": []
          }
        },
        {
          "output_type": "display_data",
          "data": {
            "text/html": [
              "<span style=\"color:cyan\"> |-activation: selu</span>"
            ],
            "text/plain": [
              "<IPython.core.display.HTML object>"
            ]
          },
          "metadata": {
            "tags": []
          }
        },
        {
          "output_type": "display_data",
          "data": {
            "text/html": [
              "<span style=\"color:blue\"> |-optimizer: rmsprop</span>"
            ],
            "text/plain": [
              "<IPython.core.display.HTML object>"
            ]
          },
          "metadata": {
            "tags": []
          }
        },
        {
          "output_type": "display_data",
          "data": {
            "text/html": [
              "<span style=\"color:cyan\"> |-units_hidden: 160</span>"
            ],
            "text/plain": [
              "<IPython.core.display.HTML object>"
            ]
          },
          "metadata": {
            "tags": []
          }
        },
        {
          "output_type": "display_data",
          "data": {
            "text/html": [
              "<span style=\"color:blue\"> |-units_input: 576</span>"
            ],
            "text/plain": [
              "<IPython.core.display.HTML object>"
            ]
          },
          "metadata": {
            "tags": []
          }
        },
        {
          "output_type": "stream",
          "text": [
            "Epoch 1/20\n",
            "188/188 [==============================] - 2s 8ms/step - loss: 0.7909 - accuracy: 0.7295 - val_loss: 0.5253 - val_accuracy: 0.8148\n",
            "Epoch 2/20\n",
            "188/188 [==============================] - 2s 8ms/step - loss: 0.4829 - accuracy: 0.8181 - val_loss: 0.4447 - val_accuracy: 0.8234\n",
            "Epoch 3/20\n",
            "188/188 [==============================] - 2s 8ms/step - loss: 0.4060 - accuracy: 0.8479 - val_loss: 0.3940 - val_accuracy: 0.8520\n",
            "Epoch 4/20\n",
            "188/188 [==============================] - 2s 8ms/step - loss: 0.3642 - accuracy: 0.8621 - val_loss: 0.3776 - val_accuracy: 0.8607\n",
            "Epoch 5/20\n",
            "188/188 [==============================] - 2s 8ms/step - loss: 0.3372 - accuracy: 0.8739 - val_loss: 0.3663 - val_accuracy: 0.8692\n",
            "Epoch 6/20\n",
            "188/188 [==============================] - 1s 8ms/step - loss: 0.3103 - accuracy: 0.8838 - val_loss: 0.3263 - val_accuracy: 0.8788\n",
            "Epoch 7/20\n",
            "188/188 [==============================] - 2s 8ms/step - loss: 0.2929 - accuracy: 0.8896 - val_loss: 0.3535 - val_accuracy: 0.8692\n",
            "Epoch 8/20\n",
            "188/188 [==============================] - 2s 8ms/step - loss: 0.2775 - accuracy: 0.8942 - val_loss: 0.3499 - val_accuracy: 0.8730\n",
            "Epoch 9/20\n",
            "188/188 [==============================] - 2s 8ms/step - loss: 0.2632 - accuracy: 0.9011 - val_loss: 0.3834 - val_accuracy: 0.8576\n",
            "Epoch 10/20\n",
            "188/188 [==============================] - 2s 8ms/step - loss: 0.2493 - accuracy: 0.9044 - val_loss: 0.3128 - val_accuracy: 0.8856\n",
            "Epoch 11/20\n",
            "188/188 [==============================] - 2s 8ms/step - loss: 0.2362 - accuracy: 0.9097 - val_loss: 0.3549 - val_accuracy: 0.8709\n",
            "Epoch 12/20\n",
            "188/188 [==============================] - 2s 9ms/step - loss: 0.2276 - accuracy: 0.9137 - val_loss: 0.3149 - val_accuracy: 0.8903\n",
            "Epoch 13/20\n",
            "188/188 [==============================] - 2s 8ms/step - loss: 0.2166 - accuracy: 0.9166 - val_loss: 0.4160 - val_accuracy: 0.8519\n",
            "Epoch 14/20\n",
            "188/188 [==============================] - 2s 8ms/step - loss: 0.2072 - accuracy: 0.9216 - val_loss: 0.3196 - val_accuracy: 0.8867\n",
            "Epoch 15/20\n",
            "188/188 [==============================] - 2s 8ms/step - loss: 0.1979 - accuracy: 0.9246 - val_loss: 0.3442 - val_accuracy: 0.8763\n",
            "Epoch 16/20\n",
            "188/188 [==============================] - 2s 8ms/step - loss: 0.1918 - accuracy: 0.9272 - val_loss: 0.3472 - val_accuracy: 0.8817\n",
            "Epoch 17/20\n",
            "188/188 [==============================] - 2s 8ms/step - loss: 0.1805 - accuracy: 0.9310 - val_loss: 0.3306 - val_accuracy: 0.8869\n",
            "Epoch 18/20\n",
            "188/188 [==============================] - 2s 8ms/step - loss: 0.1733 - accuracy: 0.9341 - val_loss: 0.3305 - val_accuracy: 0.8882\n",
            "Epoch 19/20\n",
            "188/188 [==============================] - 2s 8ms/step - loss: 0.1632 - accuracy: 0.9387 - val_loss: 0.3327 - val_accuracy: 0.8888\n",
            "Epoch 20/20\n",
            "188/188 [==============================] - 1s 8ms/step - loss: 0.1562 - accuracy: 0.9416 - val_loss: 0.3743 - val_accuracy: 0.8760\n"
          ],
          "name": "stdout"
        },
        {
          "output_type": "display_data",
          "data": {
            "text/html": [
              "<span style=\"color:#4527A0\"><h1 style=\"font-size:18px\">Trial complete</h1></span>"
            ],
            "text/plain": [
              "<IPython.core.display.HTML object>"
            ]
          },
          "metadata": {
            "tags": []
          }
        },
        {
          "output_type": "display_data",
          "data": {
            "text/html": [
              "<span style=\"color:#4527A0\"><h1 style=\"font-size:18px\">Trial summary</h1></span>"
            ],
            "text/plain": [
              "<IPython.core.display.HTML object>"
            ]
          },
          "metadata": {
            "tags": []
          }
        },
        {
          "output_type": "display_data",
          "data": {
            "text/html": [
              "<span style=\"color:cyan\"> |-Trial ID: 2e0835d205baaaa1af83151a7c787e6e</span>"
            ],
            "text/plain": [
              "<IPython.core.display.HTML object>"
            ]
          },
          "metadata": {
            "tags": []
          }
        },
        {
          "output_type": "display_data",
          "data": {
            "text/html": [
              "<span style=\"color:cyan\"> |-Score: 0.890333354473114</span>"
            ],
            "text/plain": [
              "<IPython.core.display.HTML object>"
            ]
          },
          "metadata": {
            "tags": []
          }
        },
        {
          "output_type": "display_data",
          "data": {
            "text/html": [
              "<span style=\"color:cyan\"> |-Best step: 0</span>"
            ],
            "text/plain": [
              "<IPython.core.display.HTML object>"
            ]
          },
          "metadata": {
            "tags": []
          }
        },
        {
          "output_type": "display_data",
          "data": {
            "text/html": [
              "<span style=\"color:#7E57C2\"><h2 style=\"font-size:16px\">Hyperparameters:</h2></span>"
            ],
            "text/plain": [
              "<IPython.core.display.HTML object>"
            ]
          },
          "metadata": {
            "tags": []
          }
        },
        {
          "output_type": "display_data",
          "data": {
            "text/html": [
              "<span style=\"color:cyan\"> |-activation: tanh</span>"
            ],
            "text/plain": [
              "<IPython.core.display.HTML object>"
            ]
          },
          "metadata": {
            "tags": []
          }
        },
        {
          "output_type": "display_data",
          "data": {
            "text/html": [
              "<span style=\"color:blue\"> |-optimizer: rmsprop</span>"
            ],
            "text/plain": [
              "<IPython.core.display.HTML object>"
            ]
          },
          "metadata": {
            "tags": []
          }
        },
        {
          "output_type": "display_data",
          "data": {
            "text/html": [
              "<span style=\"color:cyan\"> |-units_hidden: 512</span>"
            ],
            "text/plain": [
              "<IPython.core.display.HTML object>"
            ]
          },
          "metadata": {
            "tags": []
          }
        },
        {
          "output_type": "display_data",
          "data": {
            "text/html": [
              "<span style=\"color:blue\"> |-units_input: 704</span>"
            ],
            "text/plain": [
              "<IPython.core.display.HTML object>"
            ]
          },
          "metadata": {
            "tags": []
          }
        },
        {
          "output_type": "stream",
          "text": [
            "Epoch 1/20\n",
            "188/188 [==============================] - 1s 8ms/step - loss: 0.6382 - accuracy: 0.7939 - val_loss: 0.4297 - val_accuracy: 0.8478\n",
            "Epoch 2/20\n",
            "188/188 [==============================] - 1s 7ms/step - loss: 0.4139 - accuracy: 0.8506 - val_loss: 0.4175 - val_accuracy: 0.8524\n",
            "Epoch 3/20\n",
            "188/188 [==============================] - 1s 7ms/step - loss: 0.3708 - accuracy: 0.8650 - val_loss: 0.4068 - val_accuracy: 0.8478\n",
            "Epoch 4/20\n",
            "188/188 [==============================] - 1s 7ms/step - loss: 0.3442 - accuracy: 0.8731 - val_loss: 0.3539 - val_accuracy: 0.8736\n",
            "Epoch 5/20\n",
            "188/188 [==============================] - 1s 7ms/step - loss: 0.3213 - accuracy: 0.8823 - val_loss: 0.3581 - val_accuracy: 0.8705\n",
            "Epoch 6/20\n",
            "188/188 [==============================] - 1s 7ms/step - loss: 0.3040 - accuracy: 0.8887 - val_loss: 0.3696 - val_accuracy: 0.8637\n",
            "Epoch 7/20\n",
            "188/188 [==============================] - 1s 8ms/step - loss: 0.2883 - accuracy: 0.8938 - val_loss: 0.3374 - val_accuracy: 0.8799\n",
            "Epoch 8/20\n",
            "188/188 [==============================] - 1s 7ms/step - loss: 0.2826 - accuracy: 0.8952 - val_loss: 0.3297 - val_accuracy: 0.8800\n",
            "Epoch 9/20\n",
            "188/188 [==============================] - 2s 8ms/step - loss: 0.2720 - accuracy: 0.8986 - val_loss: 0.3333 - val_accuracy: 0.8830\n",
            "Epoch 10/20\n",
            "188/188 [==============================] - 1s 7ms/step - loss: 0.2549 - accuracy: 0.9051 - val_loss: 0.3233 - val_accuracy: 0.8845\n",
            "Epoch 11/20\n",
            "188/188 [==============================] - 1s 7ms/step - loss: 0.2487 - accuracy: 0.9060 - val_loss: 0.3237 - val_accuracy: 0.8878\n",
            "Epoch 12/20\n",
            "188/188 [==============================] - 1s 7ms/step - loss: 0.2412 - accuracy: 0.9095 - val_loss: 0.3535 - val_accuracy: 0.8765\n",
            "Epoch 13/20\n",
            "188/188 [==============================] - 1s 7ms/step - loss: 0.2243 - accuracy: 0.9158 - val_loss: 0.3229 - val_accuracy: 0.8877\n",
            "Epoch 14/20\n",
            "188/188 [==============================] - 1s 7ms/step - loss: 0.2202 - accuracy: 0.9175 - val_loss: 0.3397 - val_accuracy: 0.8829\n",
            "Epoch 15/20\n",
            "188/188 [==============================] - 1s 7ms/step - loss: 0.2128 - accuracy: 0.9209 - val_loss: 0.3389 - val_accuracy: 0.8854\n",
            "Epoch 16/20\n",
            "188/188 [==============================] - 1s 7ms/step - loss: 0.2093 - accuracy: 0.9221 - val_loss: 0.3234 - val_accuracy: 0.8857\n",
            "Epoch 17/20\n",
            "188/188 [==============================] - 1s 7ms/step - loss: 0.2083 - accuracy: 0.9202 - val_loss: 0.3475 - val_accuracy: 0.8825\n",
            "Epoch 18/20\n",
            "188/188 [==============================] - 1s 7ms/step - loss: 0.1970 - accuracy: 0.9255 - val_loss: 0.3458 - val_accuracy: 0.8867\n",
            "Epoch 19/20\n",
            "188/188 [==============================] - 1s 8ms/step - loss: 0.1949 - accuracy: 0.9268 - val_loss: 0.3281 - val_accuracy: 0.8925\n",
            "Epoch 20/20\n",
            "188/188 [==============================] - 1s 8ms/step - loss: 0.1763 - accuracy: 0.9333 - val_loss: 0.3501 - val_accuracy: 0.8856\n"
          ],
          "name": "stdout"
        },
        {
          "output_type": "display_data",
          "data": {
            "text/html": [
              "<span style=\"color:#4527A0\"><h1 style=\"font-size:18px\">Trial complete</h1></span>"
            ],
            "text/plain": [
              "<IPython.core.display.HTML object>"
            ]
          },
          "metadata": {
            "tags": []
          }
        },
        {
          "output_type": "display_data",
          "data": {
            "text/html": [
              "<span style=\"color:#4527A0\"><h1 style=\"font-size:18px\">Trial summary</h1></span>"
            ],
            "text/plain": [
              "<IPython.core.display.HTML object>"
            ]
          },
          "metadata": {
            "tags": []
          }
        },
        {
          "output_type": "display_data",
          "data": {
            "text/html": [
              "<span style=\"color:cyan\"> |-Trial ID: b5010af17ac8e3804054fb0802cafed9</span>"
            ],
            "text/plain": [
              "<IPython.core.display.HTML object>"
            ]
          },
          "metadata": {
            "tags": []
          }
        },
        {
          "output_type": "display_data",
          "data": {
            "text/html": [
              "<span style=\"color:cyan\"> |-Score: 0.8924999833106995</span>"
            ],
            "text/plain": [
              "<IPython.core.display.HTML object>"
            ]
          },
          "metadata": {
            "tags": []
          }
        },
        {
          "output_type": "display_data",
          "data": {
            "text/html": [
              "<span style=\"color:cyan\"> |-Best step: 0</span>"
            ],
            "text/plain": [
              "<IPython.core.display.HTML object>"
            ]
          },
          "metadata": {
            "tags": []
          }
        },
        {
          "output_type": "display_data",
          "data": {
            "text/html": [
              "<span style=\"color:#7E57C2\"><h2 style=\"font-size:16px\">Hyperparameters:</h2></span>"
            ],
            "text/plain": [
              "<IPython.core.display.HTML object>"
            ]
          },
          "metadata": {
            "tags": []
          }
        },
        {
          "output_type": "display_data",
          "data": {
            "text/html": [
              "<span style=\"color:cyan\"> |-activation: selu</span>"
            ],
            "text/plain": [
              "<IPython.core.display.HTML object>"
            ]
          },
          "metadata": {
            "tags": []
          }
        },
        {
          "output_type": "display_data",
          "data": {
            "text/html": [
              "<span style=\"color:blue\"> |-optimizer: adam</span>"
            ],
            "text/plain": [
              "<IPython.core.display.HTML object>"
            ]
          },
          "metadata": {
            "tags": []
          }
        },
        {
          "output_type": "display_data",
          "data": {
            "text/html": [
              "<span style=\"color:cyan\"> |-units_hidden: 416</span>"
            ],
            "text/plain": [
              "<IPython.core.display.HTML object>"
            ]
          },
          "metadata": {
            "tags": []
          }
        },
        {
          "output_type": "display_data",
          "data": {
            "text/html": [
              "<span style=\"color:blue\"> |-units_input: 832</span>"
            ],
            "text/plain": [
              "<IPython.core.display.HTML object>"
            ]
          },
          "metadata": {
            "tags": []
          }
        },
        {
          "output_type": "stream",
          "text": [
            "Epoch 1/20\n",
            "188/188 [==============================] - 1s 7ms/step - loss: 0.7891 - accuracy: 0.7367 - val_loss: 0.5360 - val_accuracy: 0.7990\n",
            "Epoch 2/20\n",
            "188/188 [==============================] - 1s 7ms/step - loss: 0.4630 - accuracy: 0.8345 - val_loss: 0.4247 - val_accuracy: 0.8449\n",
            "Epoch 3/20\n",
            "188/188 [==============================] - 1s 7ms/step - loss: 0.4078 - accuracy: 0.8544 - val_loss: 0.4060 - val_accuracy: 0.8503\n",
            "Epoch 4/20\n",
            "188/188 [==============================] - 1s 7ms/step - loss: 0.3850 - accuracy: 0.8604 - val_loss: 0.3969 - val_accuracy: 0.8537\n",
            "Epoch 5/20\n",
            "188/188 [==============================] - 1s 7ms/step - loss: 0.3641 - accuracy: 0.8688 - val_loss: 0.3797 - val_accuracy: 0.8612\n",
            "Epoch 6/20\n",
            "188/188 [==============================] - 1s 7ms/step - loss: 0.3464 - accuracy: 0.8743 - val_loss: 0.3659 - val_accuracy: 0.8649\n",
            "Epoch 7/20\n",
            "188/188 [==============================] - 1s 7ms/step - loss: 0.3341 - accuracy: 0.8793 - val_loss: 0.3533 - val_accuracy: 0.8696\n",
            "Epoch 8/20\n",
            "188/188 [==============================] - 1s 7ms/step - loss: 0.3207 - accuracy: 0.8826 - val_loss: 0.3398 - val_accuracy: 0.8763\n",
            "Epoch 9/20\n",
            "188/188 [==============================] - 1s 7ms/step - loss: 0.3116 - accuracy: 0.8878 - val_loss: 0.3376 - val_accuracy: 0.8763\n",
            "Epoch 10/20\n",
            "188/188 [==============================] - 1s 7ms/step - loss: 0.3005 - accuracy: 0.8904 - val_loss: 0.3285 - val_accuracy: 0.8808\n",
            "Epoch 11/20\n",
            "188/188 [==============================] - 1s 7ms/step - loss: 0.2926 - accuracy: 0.8930 - val_loss: 0.3318 - val_accuracy: 0.8760\n",
            "Epoch 12/20\n",
            "188/188 [==============================] - 1s 7ms/step - loss: 0.2853 - accuracy: 0.8949 - val_loss: 0.3313 - val_accuracy: 0.8770\n",
            "Epoch 13/20\n",
            "188/188 [==============================] - 1s 7ms/step - loss: 0.2764 - accuracy: 0.8976 - val_loss: 0.3166 - val_accuracy: 0.8837\n",
            "Epoch 14/20\n",
            "188/188 [==============================] - 1s 7ms/step - loss: 0.2678 - accuracy: 0.9015 - val_loss: 0.3248 - val_accuracy: 0.8836\n",
            "Epoch 15/20\n",
            "188/188 [==============================] - 1s 7ms/step - loss: 0.2615 - accuracy: 0.9040 - val_loss: 0.3130 - val_accuracy: 0.8868\n",
            "Epoch 16/20\n",
            "188/188 [==============================] - 1s 7ms/step - loss: 0.2544 - accuracy: 0.9051 - val_loss: 0.3146 - val_accuracy: 0.8839\n",
            "Epoch 17/20\n",
            "188/188 [==============================] - 1s 7ms/step - loss: 0.2452 - accuracy: 0.9090 - val_loss: 0.3117 - val_accuracy: 0.8852\n",
            "Epoch 18/20\n",
            "188/188 [==============================] - 1s 7ms/step - loss: 0.2409 - accuracy: 0.9099 - val_loss: 0.3009 - val_accuracy: 0.8895\n",
            "Epoch 19/20\n",
            "188/188 [==============================] - 1s 7ms/step - loss: 0.2350 - accuracy: 0.9133 - val_loss: 0.3168 - val_accuracy: 0.8835\n",
            "Epoch 20/20\n",
            "188/188 [==============================] - 1s 7ms/step - loss: 0.2271 - accuracy: 0.9159 - val_loss: 0.2967 - val_accuracy: 0.8917\n"
          ],
          "name": "stdout"
        },
        {
          "output_type": "display_data",
          "data": {
            "text/html": [
              "<span style=\"color:#4527A0\"><h1 style=\"font-size:18px\">Trial complete</h1></span>"
            ],
            "text/plain": [
              "<IPython.core.display.HTML object>"
            ]
          },
          "metadata": {
            "tags": []
          }
        },
        {
          "output_type": "display_data",
          "data": {
            "text/html": [
              "<span style=\"color:#4527A0\"><h1 style=\"font-size:18px\">Trial summary</h1></span>"
            ],
            "text/plain": [
              "<IPython.core.display.HTML object>"
            ]
          },
          "metadata": {
            "tags": []
          }
        },
        {
          "output_type": "display_data",
          "data": {
            "text/html": [
              "<span style=\"color:cyan\"> |-Trial ID: 36cc57f3d40397b2a62046181eca0f6b</span>"
            ],
            "text/plain": [
              "<IPython.core.display.HTML object>"
            ]
          },
          "metadata": {
            "tags": []
          }
        },
        {
          "output_type": "display_data",
          "data": {
            "text/html": [
              "<span style=\"color:cyan\"> |-Score: 0.8917499780654907</span>"
            ],
            "text/plain": [
              "<IPython.core.display.HTML object>"
            ]
          },
          "metadata": {
            "tags": []
          }
        },
        {
          "output_type": "display_data",
          "data": {
            "text/html": [
              "<span style=\"color:cyan\"> |-Best step: 0</span>"
            ],
            "text/plain": [
              "<IPython.core.display.HTML object>"
            ]
          },
          "metadata": {
            "tags": []
          }
        },
        {
          "output_type": "display_data",
          "data": {
            "text/html": [
              "<span style=\"color:#7E57C2\"><h2 style=\"font-size:16px\">Hyperparameters:</h2></span>"
            ],
            "text/plain": [
              "<IPython.core.display.HTML object>"
            ]
          },
          "metadata": {
            "tags": []
          }
        },
        {
          "output_type": "display_data",
          "data": {
            "text/html": [
              "<span style=\"color:cyan\"> |-activation: sigmoid</span>"
            ],
            "text/plain": [
              "<IPython.core.display.HTML object>"
            ]
          },
          "metadata": {
            "tags": []
          }
        },
        {
          "output_type": "display_data",
          "data": {
            "text/html": [
              "<span style=\"color:blue\"> |-optimizer: adam</span>"
            ],
            "text/plain": [
              "<IPython.core.display.HTML object>"
            ]
          },
          "metadata": {
            "tags": []
          }
        },
        {
          "output_type": "display_data",
          "data": {
            "text/html": [
              "<span style=\"color:cyan\"> |-units_hidden: 192</span>"
            ],
            "text/plain": [
              "<IPython.core.display.HTML object>"
            ]
          },
          "metadata": {
            "tags": []
          }
        },
        {
          "output_type": "display_data",
          "data": {
            "text/html": [
              "<span style=\"color:blue\"> |-units_input: 832</span>"
            ],
            "text/plain": [
              "<IPython.core.display.HTML object>"
            ]
          },
          "metadata": {
            "tags": []
          }
        },
        {
          "output_type": "stream",
          "text": [
            "Epoch 1/20\n",
            "188/188 [==============================] - 1s 8ms/step - loss: 0.5176 - accuracy: 0.8151 - val_loss: 0.3963 - val_accuracy: 0.8558\n",
            "Epoch 2/20\n",
            "188/188 [==============================] - 1s 7ms/step - loss: 0.3890 - accuracy: 0.8581 - val_loss: 0.3805 - val_accuracy: 0.8626\n",
            "Epoch 3/20\n",
            "188/188 [==============================] - 1s 7ms/step - loss: 0.3560 - accuracy: 0.8686 - val_loss: 0.3794 - val_accuracy: 0.8640\n",
            "Epoch 4/20\n",
            "188/188 [==============================] - 1s 7ms/step - loss: 0.3202 - accuracy: 0.8823 - val_loss: 0.3601 - val_accuracy: 0.8695\n",
            "Epoch 5/20\n",
            "188/188 [==============================] - 1s 8ms/step - loss: 0.3022 - accuracy: 0.8876 - val_loss: 0.3364 - val_accuracy: 0.8758\n",
            "Epoch 6/20\n",
            "188/188 [==============================] - 1s 8ms/step - loss: 0.2849 - accuracy: 0.8939 - val_loss: 0.3344 - val_accuracy: 0.8785\n",
            "Epoch 7/20\n",
            "188/188 [==============================] - 1s 8ms/step - loss: 0.2689 - accuracy: 0.9012 - val_loss: 0.3152 - val_accuracy: 0.8863\n",
            "Epoch 8/20\n",
            "188/188 [==============================] - 1s 7ms/step - loss: 0.2547 - accuracy: 0.9066 - val_loss: 0.3117 - val_accuracy: 0.8878\n",
            "Epoch 9/20\n",
            "188/188 [==============================] - 1s 7ms/step - loss: 0.2463 - accuracy: 0.9085 - val_loss: 0.3054 - val_accuracy: 0.8898\n",
            "Epoch 10/20\n",
            "188/188 [==============================] - 1s 7ms/step - loss: 0.2350 - accuracy: 0.9118 - val_loss: 0.3092 - val_accuracy: 0.8881\n",
            "Epoch 11/20\n",
            "188/188 [==============================] - 1s 7ms/step - loss: 0.2269 - accuracy: 0.9154 - val_loss: 0.3032 - val_accuracy: 0.8869\n",
            "Epoch 12/20\n",
            "188/188 [==============================] - 1s 7ms/step - loss: 0.2140 - accuracy: 0.9206 - val_loss: 0.3063 - val_accuracy: 0.8887\n",
            "Epoch 13/20\n",
            "188/188 [==============================] - 1s 7ms/step - loss: 0.2062 - accuracy: 0.9227 - val_loss: 0.3198 - val_accuracy: 0.8843\n",
            "Epoch 14/20\n",
            "188/188 [==============================] - 1s 7ms/step - loss: 0.2016 - accuracy: 0.9243 - val_loss: 0.3081 - val_accuracy: 0.8888\n",
            "Epoch 15/20\n",
            "188/188 [==============================] - 1s 7ms/step - loss: 0.1930 - accuracy: 0.9285 - val_loss: 0.3103 - val_accuracy: 0.8902\n",
            "Epoch 16/20\n",
            "188/188 [==============================] - 1s 7ms/step - loss: 0.1854 - accuracy: 0.9316 - val_loss: 0.2993 - val_accuracy: 0.8913\n",
            "Epoch 17/20\n",
            "188/188 [==============================] - 1s 7ms/step - loss: 0.1786 - accuracy: 0.9336 - val_loss: 0.3053 - val_accuracy: 0.8938\n",
            "Epoch 18/20\n",
            "188/188 [==============================] - 1s 7ms/step - loss: 0.1689 - accuracy: 0.9375 - val_loss: 0.2949 - val_accuracy: 0.8957\n",
            "Epoch 19/20\n",
            "188/188 [==============================] - 1s 7ms/step - loss: 0.1590 - accuracy: 0.9424 - val_loss: 0.3050 - val_accuracy: 0.8913\n",
            "Epoch 20/20\n",
            "188/188 [==============================] - 1s 7ms/step - loss: 0.1516 - accuracy: 0.9448 - val_loss: 0.3188 - val_accuracy: 0.8903\n"
          ],
          "name": "stdout"
        },
        {
          "output_type": "display_data",
          "data": {
            "text/html": [
              "<span style=\"color:#4527A0\"><h1 style=\"font-size:18px\">Trial complete</h1></span>"
            ],
            "text/plain": [
              "<IPython.core.display.HTML object>"
            ]
          },
          "metadata": {
            "tags": []
          }
        },
        {
          "output_type": "display_data",
          "data": {
            "text/html": [
              "<span style=\"color:#4527A0\"><h1 style=\"font-size:18px\">Trial summary</h1></span>"
            ],
            "text/plain": [
              "<IPython.core.display.HTML object>"
            ]
          },
          "metadata": {
            "tags": []
          }
        },
        {
          "output_type": "display_data",
          "data": {
            "text/html": [
              "<span style=\"color:cyan\"> |-Trial ID: db0d3ac3f7b138706dda96a72ef58fe9</span>"
            ],
            "text/plain": [
              "<IPython.core.display.HTML object>"
            ]
          },
          "metadata": {
            "tags": []
          }
        },
        {
          "output_type": "display_data",
          "data": {
            "text/html": [
              "<span style=\"color:cyan\"> |-Score: 0.8957499861717224</span>"
            ],
            "text/plain": [
              "<IPython.core.display.HTML object>"
            ]
          },
          "metadata": {
            "tags": []
          }
        },
        {
          "output_type": "display_data",
          "data": {
            "text/html": [
              "<span style=\"color:cyan\"> |-Best step: 0</span>"
            ],
            "text/plain": [
              "<IPython.core.display.HTML object>"
            ]
          },
          "metadata": {
            "tags": []
          }
        },
        {
          "output_type": "display_data",
          "data": {
            "text/html": [
              "<span style=\"color:#7E57C2\"><h2 style=\"font-size:16px\">Hyperparameters:</h2></span>"
            ],
            "text/plain": [
              "<IPython.core.display.HTML object>"
            ]
          },
          "metadata": {
            "tags": []
          }
        },
        {
          "output_type": "display_data",
          "data": {
            "text/html": [
              "<span style=\"color:cyan\"> |-activation: tanh</span>"
            ],
            "text/plain": [
              "<IPython.core.display.HTML object>"
            ]
          },
          "metadata": {
            "tags": []
          }
        },
        {
          "output_type": "display_data",
          "data": {
            "text/html": [
              "<span style=\"color:blue\"> |-optimizer: adam</span>"
            ],
            "text/plain": [
              "<IPython.core.display.HTML object>"
            ]
          },
          "metadata": {
            "tags": []
          }
        },
        {
          "output_type": "display_data",
          "data": {
            "text/html": [
              "<span style=\"color:cyan\"> |-units_hidden: 256</span>"
            ],
            "text/plain": [
              "<IPython.core.display.HTML object>"
            ]
          },
          "metadata": {
            "tags": []
          }
        },
        {
          "output_type": "display_data",
          "data": {
            "text/html": [
              "<span style=\"color:blue\"> |-units_input: 576</span>"
            ],
            "text/plain": [
              "<IPython.core.display.HTML object>"
            ]
          },
          "metadata": {
            "tags": []
          }
        },
        {
          "output_type": "stream",
          "text": [
            "INFO:tensorflow:Oracle triggered exit\n"
          ],
          "name": "stdout"
        }
      ]
    },
    {
      "cell_type": "markdown",
      "metadata": {
        "id": "KlPTC0r3pLyB",
        "colab_type": "text"
      },
      "source": [
        "## Выбираем лучшую модель"
      ]
    },
    {
      "cell_type": "code",
      "metadata": {
        "id": "i1TDBMF6ORNW",
        "colab_type": "code",
        "colab": {
          "base_uri": "https://localhost:8080/",
          "height": 1000
        },
        "outputId": "8e51ef57-dfc1-4f25-bad1-6431c8fdedf6"
      },
      "source": [
        "tuner.results_summary()"
      ],
      "execution_count": 38,
      "outputs": [
        {
          "output_type": "display_data",
          "data": {
            "text/html": [
              "<span style=\"color:#4527A0\"><h1 style=\"font-size:18px\">Results summary</h1></span>"
            ],
            "text/plain": [
              "<IPython.core.display.HTML object>"
            ]
          },
          "metadata": {
            "tags": []
          }
        },
        {
          "output_type": "display_data",
          "data": {
            "text/html": [
              "<span style=\"color:cyan\"> |-Results in test_directory/untitled_project</span>"
            ],
            "text/plain": [
              "<IPython.core.display.HTML object>"
            ]
          },
          "metadata": {
            "tags": []
          }
        },
        {
          "output_type": "display_data",
          "data": {
            "text/html": [
              "<span style=\"color:cyan\"> |-Showing 10 best trials</span>"
            ],
            "text/plain": [
              "<IPython.core.display.HTML object>"
            ]
          },
          "metadata": {
            "tags": []
          }
        },
        {
          "output_type": "display_data",
          "data": {
            "text/html": [
              "<span style=\"color:cyan\"> |-Objective(name='val_accuracy', direction='max')</span>"
            ],
            "text/plain": [
              "<IPython.core.display.HTML object>"
            ]
          },
          "metadata": {
            "tags": []
          }
        },
        {
          "output_type": "display_data",
          "data": {
            "text/html": [
              "<span style=\"color:#4527A0\"><h1 style=\"font-size:18px\">Trial summary</h1></span>"
            ],
            "text/plain": [
              "<IPython.core.display.HTML object>"
            ]
          },
          "metadata": {
            "tags": []
          }
        },
        {
          "output_type": "display_data",
          "data": {
            "text/html": [
              "<span style=\"color:cyan\"> |-Trial ID: 27bfc8f8b63defdea577c6b29627c487</span>"
            ],
            "text/plain": [
              "<IPython.core.display.HTML object>"
            ]
          },
          "metadata": {
            "tags": []
          }
        },
        {
          "output_type": "display_data",
          "data": {
            "text/html": [
              "<span style=\"color:cyan\"> |-Score: 0.8986666798591614</span>"
            ],
            "text/plain": [
              "<IPython.core.display.HTML object>"
            ]
          },
          "metadata": {
            "tags": []
          }
        },
        {
          "output_type": "display_data",
          "data": {
            "text/html": [
              "<span style=\"color:cyan\"> |-Best step: 0</span>"
            ],
            "text/plain": [
              "<IPython.core.display.HTML object>"
            ]
          },
          "metadata": {
            "tags": []
          }
        },
        {
          "output_type": "display_data",
          "data": {
            "text/html": [
              "<span style=\"color:#7E57C2\"><h2 style=\"font-size:16px\">Hyperparameters:</h2></span>"
            ],
            "text/plain": [
              "<IPython.core.display.HTML object>"
            ]
          },
          "metadata": {
            "tags": []
          }
        },
        {
          "output_type": "display_data",
          "data": {
            "text/html": [
              "<span style=\"color:cyan\"> |-activation: relu</span>"
            ],
            "text/plain": [
              "<IPython.core.display.HTML object>"
            ]
          },
          "metadata": {
            "tags": []
          }
        },
        {
          "output_type": "display_data",
          "data": {
            "text/html": [
              "<span style=\"color:blue\"> |-optimizer: adam</span>"
            ],
            "text/plain": [
              "<IPython.core.display.HTML object>"
            ]
          },
          "metadata": {
            "tags": []
          }
        },
        {
          "output_type": "display_data",
          "data": {
            "text/html": [
              "<span style=\"color:cyan\"> |-units_hidden: 256</span>"
            ],
            "text/plain": [
              "<IPython.core.display.HTML object>"
            ]
          },
          "metadata": {
            "tags": []
          }
        },
        {
          "output_type": "display_data",
          "data": {
            "text/html": [
              "<span style=\"color:blue\"> |-units_input: 736</span>"
            ],
            "text/plain": [
              "<IPython.core.display.HTML object>"
            ]
          },
          "metadata": {
            "tags": []
          }
        },
        {
          "output_type": "display_data",
          "data": {
            "text/html": [
              "<span style=\"color:#4527A0\"><h1 style=\"font-size:18px\">Trial summary</h1></span>"
            ],
            "text/plain": [
              "<IPython.core.display.HTML object>"
            ]
          },
          "metadata": {
            "tags": []
          }
        },
        {
          "output_type": "display_data",
          "data": {
            "text/html": [
              "<span style=\"color:cyan\"> |-Trial ID: 3af3a8d87df4fe123cbbef741c8a85d4</span>"
            ],
            "text/plain": [
              "<IPython.core.display.HTML object>"
            ]
          },
          "metadata": {
            "tags": []
          }
        },
        {
          "output_type": "display_data",
          "data": {
            "text/html": [
              "<span style=\"color:cyan\"> |-Score: 0.8985833525657654</span>"
            ],
            "text/plain": [
              "<IPython.core.display.HTML object>"
            ]
          },
          "metadata": {
            "tags": []
          }
        },
        {
          "output_type": "display_data",
          "data": {
            "text/html": [
              "<span style=\"color:cyan\"> |-Best step: 0</span>"
            ],
            "text/plain": [
              "<IPython.core.display.HTML object>"
            ]
          },
          "metadata": {
            "tags": []
          }
        },
        {
          "output_type": "display_data",
          "data": {
            "text/html": [
              "<span style=\"color:#7E57C2\"><h2 style=\"font-size:16px\">Hyperparameters:</h2></span>"
            ],
            "text/plain": [
              "<IPython.core.display.HTML object>"
            ]
          },
          "metadata": {
            "tags": []
          }
        },
        {
          "output_type": "display_data",
          "data": {
            "text/html": [
              "<span style=\"color:cyan\"> |-activation: relu</span>"
            ],
            "text/plain": [
              "<IPython.core.display.HTML object>"
            ]
          },
          "metadata": {
            "tags": []
          }
        },
        {
          "output_type": "display_data",
          "data": {
            "text/html": [
              "<span style=\"color:blue\"> |-optimizer: adam</span>"
            ],
            "text/plain": [
              "<IPython.core.display.HTML object>"
            ]
          },
          "metadata": {
            "tags": []
          }
        },
        {
          "output_type": "display_data",
          "data": {
            "text/html": [
              "<span style=\"color:cyan\"> |-units_hidden: 256</span>"
            ],
            "text/plain": [
              "<IPython.core.display.HTML object>"
            ]
          },
          "metadata": {
            "tags": []
          }
        },
        {
          "output_type": "display_data",
          "data": {
            "text/html": [
              "<span style=\"color:blue\"> |-units_input: 672</span>"
            ],
            "text/plain": [
              "<IPython.core.display.HTML object>"
            ]
          },
          "metadata": {
            "tags": []
          }
        },
        {
          "output_type": "display_data",
          "data": {
            "text/html": [
              "<span style=\"color:#4527A0\"><h1 style=\"font-size:18px\">Trial summary</h1></span>"
            ],
            "text/plain": [
              "<IPython.core.display.HTML object>"
            ]
          },
          "metadata": {
            "tags": []
          }
        },
        {
          "output_type": "display_data",
          "data": {
            "text/html": [
              "<span style=\"color:cyan\"> |-Trial ID: 629a7584da332eabd867abbca03d0d54</span>"
            ],
            "text/plain": [
              "<IPython.core.display.HTML object>"
            ]
          },
          "metadata": {
            "tags": []
          }
        },
        {
          "output_type": "display_data",
          "data": {
            "text/html": [
              "<span style=\"color:cyan\"> |-Score: 0.8985833525657654</span>"
            ],
            "text/plain": [
              "<IPython.core.display.HTML object>"
            ]
          },
          "metadata": {
            "tags": []
          }
        },
        {
          "output_type": "display_data",
          "data": {
            "text/html": [
              "<span style=\"color:cyan\"> |-Best step: 0</span>"
            ],
            "text/plain": [
              "<IPython.core.display.HTML object>"
            ]
          },
          "metadata": {
            "tags": []
          }
        },
        {
          "output_type": "display_data",
          "data": {
            "text/html": [
              "<span style=\"color:#7E57C2\"><h2 style=\"font-size:16px\">Hyperparameters:</h2></span>"
            ],
            "text/plain": [
              "<IPython.core.display.HTML object>"
            ]
          },
          "metadata": {
            "tags": []
          }
        },
        {
          "output_type": "display_data",
          "data": {
            "text/html": [
              "<span style=\"color:cyan\"> |-activation: relu</span>"
            ],
            "text/plain": [
              "<IPython.core.display.HTML object>"
            ]
          },
          "metadata": {
            "tags": []
          }
        },
        {
          "output_type": "display_data",
          "data": {
            "text/html": [
              "<span style=\"color:blue\"> |-optimizer: adam</span>"
            ],
            "text/plain": [
              "<IPython.core.display.HTML object>"
            ]
          },
          "metadata": {
            "tags": []
          }
        },
        {
          "output_type": "display_data",
          "data": {
            "text/html": [
              "<span style=\"color:cyan\"> |-units_hidden: 480</span>"
            ],
            "text/plain": [
              "<IPython.core.display.HTML object>"
            ]
          },
          "metadata": {
            "tags": []
          }
        },
        {
          "output_type": "display_data",
          "data": {
            "text/html": [
              "<span style=\"color:blue\"> |-units_input: 992</span>"
            ],
            "text/plain": [
              "<IPython.core.display.HTML object>"
            ]
          },
          "metadata": {
            "tags": []
          }
        },
        {
          "output_type": "display_data",
          "data": {
            "text/html": [
              "<span style=\"color:#4527A0\"><h1 style=\"font-size:18px\">Trial summary</h1></span>"
            ],
            "text/plain": [
              "<IPython.core.display.HTML object>"
            ]
          },
          "metadata": {
            "tags": []
          }
        },
        {
          "output_type": "display_data",
          "data": {
            "text/html": [
              "<span style=\"color:cyan\"> |-Trial ID: c53a801b5d99b70808222d4339e6e027</span>"
            ],
            "text/plain": [
              "<IPython.core.display.HTML object>"
            ]
          },
          "metadata": {
            "tags": []
          }
        },
        {
          "output_type": "display_data",
          "data": {
            "text/html": [
              "<span style=\"color:cyan\"> |-Score: 0.8977500200271606</span>"
            ],
            "text/plain": [
              "<IPython.core.display.HTML object>"
            ]
          },
          "metadata": {
            "tags": []
          }
        },
        {
          "output_type": "display_data",
          "data": {
            "text/html": [
              "<span style=\"color:cyan\"> |-Best step: 0</span>"
            ],
            "text/plain": [
              "<IPython.core.display.HTML object>"
            ]
          },
          "metadata": {
            "tags": []
          }
        },
        {
          "output_type": "display_data",
          "data": {
            "text/html": [
              "<span style=\"color:#7E57C2\"><h2 style=\"font-size:16px\">Hyperparameters:</h2></span>"
            ],
            "text/plain": [
              "<IPython.core.display.HTML object>"
            ]
          },
          "metadata": {
            "tags": []
          }
        },
        {
          "output_type": "display_data",
          "data": {
            "text/html": [
              "<span style=\"color:cyan\"> |-activation: relu</span>"
            ],
            "text/plain": [
              "<IPython.core.display.HTML object>"
            ]
          },
          "metadata": {
            "tags": []
          }
        },
        {
          "output_type": "display_data",
          "data": {
            "text/html": [
              "<span style=\"color:blue\"> |-optimizer: adam</span>"
            ],
            "text/plain": [
              "<IPython.core.display.HTML object>"
            ]
          },
          "metadata": {
            "tags": []
          }
        },
        {
          "output_type": "display_data",
          "data": {
            "text/html": [
              "<span style=\"color:cyan\"> |-units_hidden: 192</span>"
            ],
            "text/plain": [
              "<IPython.core.display.HTML object>"
            ]
          },
          "metadata": {
            "tags": []
          }
        },
        {
          "output_type": "display_data",
          "data": {
            "text/html": [
              "<span style=\"color:blue\"> |-units_input: 928</span>"
            ],
            "text/plain": [
              "<IPython.core.display.HTML object>"
            ]
          },
          "metadata": {
            "tags": []
          }
        },
        {
          "output_type": "display_data",
          "data": {
            "text/html": [
              "<span style=\"color:#4527A0\"><h1 style=\"font-size:18px\">Trial summary</h1></span>"
            ],
            "text/plain": [
              "<IPython.core.display.HTML object>"
            ]
          },
          "metadata": {
            "tags": []
          }
        },
        {
          "output_type": "display_data",
          "data": {
            "text/html": [
              "<span style=\"color:cyan\"> |-Trial ID: dfb050a3490b17d2e5c4208ee950d91c</span>"
            ],
            "text/plain": [
              "<IPython.core.display.HTML object>"
            ]
          },
          "metadata": {
            "tags": []
          }
        },
        {
          "output_type": "display_data",
          "data": {
            "text/html": [
              "<span style=\"color:cyan\"> |-Score: 0.8971666693687439</span>"
            ],
            "text/plain": [
              "<IPython.core.display.HTML object>"
            ]
          },
          "metadata": {
            "tags": []
          }
        },
        {
          "output_type": "display_data",
          "data": {
            "text/html": [
              "<span style=\"color:cyan\"> |-Best step: 0</span>"
            ],
            "text/plain": [
              "<IPython.core.display.HTML object>"
            ]
          },
          "metadata": {
            "tags": []
          }
        },
        {
          "output_type": "display_data",
          "data": {
            "text/html": [
              "<span style=\"color:#7E57C2\"><h2 style=\"font-size:16px\">Hyperparameters:</h2></span>"
            ],
            "text/plain": [
              "<IPython.core.display.HTML object>"
            ]
          },
          "metadata": {
            "tags": []
          }
        },
        {
          "output_type": "display_data",
          "data": {
            "text/html": [
              "<span style=\"color:cyan\"> |-activation: relu</span>"
            ],
            "text/plain": [
              "<IPython.core.display.HTML object>"
            ]
          },
          "metadata": {
            "tags": []
          }
        },
        {
          "output_type": "display_data",
          "data": {
            "text/html": [
              "<span style=\"color:blue\"> |-optimizer: adam</span>"
            ],
            "text/plain": [
              "<IPython.core.display.HTML object>"
            ]
          },
          "metadata": {
            "tags": []
          }
        },
        {
          "output_type": "display_data",
          "data": {
            "text/html": [
              "<span style=\"color:cyan\"> |-units_hidden: 192</span>"
            ],
            "text/plain": [
              "<IPython.core.display.HTML object>"
            ]
          },
          "metadata": {
            "tags": []
          }
        },
        {
          "output_type": "display_data",
          "data": {
            "text/html": [
              "<span style=\"color:blue\"> |-units_input: 832</span>"
            ],
            "text/plain": [
              "<IPython.core.display.HTML object>"
            ]
          },
          "metadata": {
            "tags": []
          }
        },
        {
          "output_type": "display_data",
          "data": {
            "text/html": [
              "<span style=\"color:#4527A0\"><h1 style=\"font-size:18px\">Trial summary</h1></span>"
            ],
            "text/plain": [
              "<IPython.core.display.HTML object>"
            ]
          },
          "metadata": {
            "tags": []
          }
        },
        {
          "output_type": "display_data",
          "data": {
            "text/html": [
              "<span style=\"color:cyan\"> |-Trial ID: d94b54e19103dbd5b30d815c7d6d88fe</span>"
            ],
            "text/plain": [
              "<IPython.core.display.HTML object>"
            ]
          },
          "metadata": {
            "tags": []
          }
        },
        {
          "output_type": "display_data",
          "data": {
            "text/html": [
              "<span style=\"color:cyan\"> |-Score: 0.8968333601951599</span>"
            ],
            "text/plain": [
              "<IPython.core.display.HTML object>"
            ]
          },
          "metadata": {
            "tags": []
          }
        },
        {
          "output_type": "display_data",
          "data": {
            "text/html": [
              "<span style=\"color:cyan\"> |-Best step: 0</span>"
            ],
            "text/plain": [
              "<IPython.core.display.HTML object>"
            ]
          },
          "metadata": {
            "tags": []
          }
        },
        {
          "output_type": "display_data",
          "data": {
            "text/html": [
              "<span style=\"color:#7E57C2\"><h2 style=\"font-size:16px\">Hyperparameters:</h2></span>"
            ],
            "text/plain": [
              "<IPython.core.display.HTML object>"
            ]
          },
          "metadata": {
            "tags": []
          }
        },
        {
          "output_type": "display_data",
          "data": {
            "text/html": [
              "<span style=\"color:cyan\"> |-activation: tanh</span>"
            ],
            "text/plain": [
              "<IPython.core.display.HTML object>"
            ]
          },
          "metadata": {
            "tags": []
          }
        },
        {
          "output_type": "display_data",
          "data": {
            "text/html": [
              "<span style=\"color:blue\"> |-optimizer: adam</span>"
            ],
            "text/plain": [
              "<IPython.core.display.HTML object>"
            ]
          },
          "metadata": {
            "tags": []
          }
        },
        {
          "output_type": "display_data",
          "data": {
            "text/html": [
              "<span style=\"color:cyan\"> |-units_hidden: 288</span>"
            ],
            "text/plain": [
              "<IPython.core.display.HTML object>"
            ]
          },
          "metadata": {
            "tags": []
          }
        },
        {
          "output_type": "display_data",
          "data": {
            "text/html": [
              "<span style=\"color:blue\"> |-units_input: 704</span>"
            ],
            "text/plain": [
              "<IPython.core.display.HTML object>"
            ]
          },
          "metadata": {
            "tags": []
          }
        },
        {
          "output_type": "display_data",
          "data": {
            "text/html": [
              "<span style=\"color:#4527A0\"><h1 style=\"font-size:18px\">Trial summary</h1></span>"
            ],
            "text/plain": [
              "<IPython.core.display.HTML object>"
            ]
          },
          "metadata": {
            "tags": []
          }
        },
        {
          "output_type": "display_data",
          "data": {
            "text/html": [
              "<span style=\"color:cyan\"> |-Trial ID: b275e2566df370521c9ad898b93a1942</span>"
            ],
            "text/plain": [
              "<IPython.core.display.HTML object>"
            ]
          },
          "metadata": {
            "tags": []
          }
        },
        {
          "output_type": "display_data",
          "data": {
            "text/html": [
              "<span style=\"color:cyan\"> |-Score: 0.8964999914169312</span>"
            ],
            "text/plain": [
              "<IPython.core.display.HTML object>"
            ]
          },
          "metadata": {
            "tags": []
          }
        },
        {
          "output_type": "display_data",
          "data": {
            "text/html": [
              "<span style=\"color:cyan\"> |-Best step: 0</span>"
            ],
            "text/plain": [
              "<IPython.core.display.HTML object>"
            ]
          },
          "metadata": {
            "tags": []
          }
        },
        {
          "output_type": "display_data",
          "data": {
            "text/html": [
              "<span style=\"color:#7E57C2\"><h2 style=\"font-size:16px\">Hyperparameters:</h2></span>"
            ],
            "text/plain": [
              "<IPython.core.display.HTML object>"
            ]
          },
          "metadata": {
            "tags": []
          }
        },
        {
          "output_type": "display_data",
          "data": {
            "text/html": [
              "<span style=\"color:cyan\"> |-activation: elu</span>"
            ],
            "text/plain": [
              "<IPython.core.display.HTML object>"
            ]
          },
          "metadata": {
            "tags": []
          }
        },
        {
          "output_type": "display_data",
          "data": {
            "text/html": [
              "<span style=\"color:blue\"> |-optimizer: adam</span>"
            ],
            "text/plain": [
              "<IPython.core.display.HTML object>"
            ]
          },
          "metadata": {
            "tags": []
          }
        },
        {
          "output_type": "display_data",
          "data": {
            "text/html": [
              "<span style=\"color:cyan\"> |-units_hidden: 384</span>"
            ],
            "text/plain": [
              "<IPython.core.display.HTML object>"
            ]
          },
          "metadata": {
            "tags": []
          }
        },
        {
          "output_type": "display_data",
          "data": {
            "text/html": [
              "<span style=\"color:blue\"> |-units_input: 832</span>"
            ],
            "text/plain": [
              "<IPython.core.display.HTML object>"
            ]
          },
          "metadata": {
            "tags": []
          }
        },
        {
          "output_type": "display_data",
          "data": {
            "text/html": [
              "<span style=\"color:#4527A0\"><h1 style=\"font-size:18px\">Trial summary</h1></span>"
            ],
            "text/plain": [
              "<IPython.core.display.HTML object>"
            ]
          },
          "metadata": {
            "tags": []
          }
        },
        {
          "output_type": "display_data",
          "data": {
            "text/html": [
              "<span style=\"color:cyan\"> |-Trial ID: 9cf3bd65893e79314257642dc4e087eb</span>"
            ],
            "text/plain": [
              "<IPython.core.display.HTML object>"
            ]
          },
          "metadata": {
            "tags": []
          }
        },
        {
          "output_type": "display_data",
          "data": {
            "text/html": [
              "<span style=\"color:cyan\"> |-Score: 0.8964999914169312</span>"
            ],
            "text/plain": [
              "<IPython.core.display.HTML object>"
            ]
          },
          "metadata": {
            "tags": []
          }
        },
        {
          "output_type": "display_data",
          "data": {
            "text/html": [
              "<span style=\"color:cyan\"> |-Best step: 0</span>"
            ],
            "text/plain": [
              "<IPython.core.display.HTML object>"
            ]
          },
          "metadata": {
            "tags": []
          }
        },
        {
          "output_type": "display_data",
          "data": {
            "text/html": [
              "<span style=\"color:#7E57C2\"><h2 style=\"font-size:16px\">Hyperparameters:</h2></span>"
            ],
            "text/plain": [
              "<IPython.core.display.HTML object>"
            ]
          },
          "metadata": {
            "tags": []
          }
        },
        {
          "output_type": "display_data",
          "data": {
            "text/html": [
              "<span style=\"color:cyan\"> |-activation: tanh</span>"
            ],
            "text/plain": [
              "<IPython.core.display.HTML object>"
            ]
          },
          "metadata": {
            "tags": []
          }
        },
        {
          "output_type": "display_data",
          "data": {
            "text/html": [
              "<span style=\"color:blue\"> |-optimizer: rmsprop</span>"
            ],
            "text/plain": [
              "<IPython.core.display.HTML object>"
            ]
          },
          "metadata": {
            "tags": []
          }
        },
        {
          "output_type": "display_data",
          "data": {
            "text/html": [
              "<span style=\"color:cyan\"> |-units_hidden: 256</span>"
            ],
            "text/plain": [
              "<IPython.core.display.HTML object>"
            ]
          },
          "metadata": {
            "tags": []
          }
        },
        {
          "output_type": "display_data",
          "data": {
            "text/html": [
              "<span style=\"color:blue\"> |-units_input: 672</span>"
            ],
            "text/plain": [
              "<IPython.core.display.HTML object>"
            ]
          },
          "metadata": {
            "tags": []
          }
        },
        {
          "output_type": "display_data",
          "data": {
            "text/html": [
              "<span style=\"color:#4527A0\"><h1 style=\"font-size:18px\">Trial summary</h1></span>"
            ],
            "text/plain": [
              "<IPython.core.display.HTML object>"
            ]
          },
          "metadata": {
            "tags": []
          }
        },
        {
          "output_type": "display_data",
          "data": {
            "text/html": [
              "<span style=\"color:cyan\"> |-Trial ID: 3e5e67d276fd4638e6c9e13adc3c353e</span>"
            ],
            "text/plain": [
              "<IPython.core.display.HTML object>"
            ]
          },
          "metadata": {
            "tags": []
          }
        },
        {
          "output_type": "display_data",
          "data": {
            "text/html": [
              "<span style=\"color:cyan\"> |-Score: 0.8964166641235352</span>"
            ],
            "text/plain": [
              "<IPython.core.display.HTML object>"
            ]
          },
          "metadata": {
            "tags": []
          }
        },
        {
          "output_type": "display_data",
          "data": {
            "text/html": [
              "<span style=\"color:cyan\"> |-Best step: 0</span>"
            ],
            "text/plain": [
              "<IPython.core.display.HTML object>"
            ]
          },
          "metadata": {
            "tags": []
          }
        },
        {
          "output_type": "display_data",
          "data": {
            "text/html": [
              "<span style=\"color:#7E57C2\"><h2 style=\"font-size:16px\">Hyperparameters:</h2></span>"
            ],
            "text/plain": [
              "<IPython.core.display.HTML object>"
            ]
          },
          "metadata": {
            "tags": []
          }
        },
        {
          "output_type": "display_data",
          "data": {
            "text/html": [
              "<span style=\"color:cyan\"> |-activation: tanh</span>"
            ],
            "text/plain": [
              "<IPython.core.display.HTML object>"
            ]
          },
          "metadata": {
            "tags": []
          }
        },
        {
          "output_type": "display_data",
          "data": {
            "text/html": [
              "<span style=\"color:blue\"> |-optimizer: rmsprop</span>"
            ],
            "text/plain": [
              "<IPython.core.display.HTML object>"
            ]
          },
          "metadata": {
            "tags": []
          }
        },
        {
          "output_type": "display_data",
          "data": {
            "text/html": [
              "<span style=\"color:cyan\"> |-units_hidden: 288</span>"
            ],
            "text/plain": [
              "<IPython.core.display.HTML object>"
            ]
          },
          "metadata": {
            "tags": []
          }
        },
        {
          "output_type": "display_data",
          "data": {
            "text/html": [
              "<span style=\"color:blue\"> |-units_input: 832</span>"
            ],
            "text/plain": [
              "<IPython.core.display.HTML object>"
            ]
          },
          "metadata": {
            "tags": []
          }
        },
        {
          "output_type": "display_data",
          "data": {
            "text/html": [
              "<span style=\"color:#4527A0\"><h1 style=\"font-size:18px\">Trial summary</h1></span>"
            ],
            "text/plain": [
              "<IPython.core.display.HTML object>"
            ]
          },
          "metadata": {
            "tags": []
          }
        },
        {
          "output_type": "display_data",
          "data": {
            "text/html": [
              "<span style=\"color:cyan\"> |-Trial ID: 04e3670fd2b56528d579736da4546c66</span>"
            ],
            "text/plain": [
              "<IPython.core.display.HTML object>"
            ]
          },
          "metadata": {
            "tags": []
          }
        },
        {
          "output_type": "display_data",
          "data": {
            "text/html": [
              "<span style=\"color:cyan\"> |-Score: 0.8962500095367432</span>"
            ],
            "text/plain": [
              "<IPython.core.display.HTML object>"
            ]
          },
          "metadata": {
            "tags": []
          }
        },
        {
          "output_type": "display_data",
          "data": {
            "text/html": [
              "<span style=\"color:cyan\"> |-Best step: 0</span>"
            ],
            "text/plain": [
              "<IPython.core.display.HTML object>"
            ]
          },
          "metadata": {
            "tags": []
          }
        },
        {
          "output_type": "display_data",
          "data": {
            "text/html": [
              "<span style=\"color:#7E57C2\"><h2 style=\"font-size:16px\">Hyperparameters:</h2></span>"
            ],
            "text/plain": [
              "<IPython.core.display.HTML object>"
            ]
          },
          "metadata": {
            "tags": []
          }
        },
        {
          "output_type": "display_data",
          "data": {
            "text/html": [
              "<span style=\"color:cyan\"> |-activation: elu</span>"
            ],
            "text/plain": [
              "<IPython.core.display.HTML object>"
            ]
          },
          "metadata": {
            "tags": []
          }
        },
        {
          "output_type": "display_data",
          "data": {
            "text/html": [
              "<span style=\"color:blue\"> |-optimizer: adam</span>"
            ],
            "text/plain": [
              "<IPython.core.display.HTML object>"
            ]
          },
          "metadata": {
            "tags": []
          }
        },
        {
          "output_type": "display_data",
          "data": {
            "text/html": [
              "<span style=\"color:cyan\"> |-units_hidden: 128</span>"
            ],
            "text/plain": [
              "<IPython.core.display.HTML object>"
            ]
          },
          "metadata": {
            "tags": []
          }
        },
        {
          "output_type": "display_data",
          "data": {
            "text/html": [
              "<span style=\"color:blue\"> |-units_input: 832</span>"
            ],
            "text/plain": [
              "<IPython.core.display.HTML object>"
            ]
          },
          "metadata": {
            "tags": []
          }
        }
      ]
    },
    {
      "cell_type": "markdown",
      "metadata": {
        "id": "_it8FZ8epSue",
        "colab_type": "text"
      },
      "source": [
        "Получаем три лучших модели"
      ]
    },
    {
      "cell_type": "code",
      "metadata": {
        "id": "31_zCfjqQVL6",
        "colab_type": "code",
        "colab": {}
      },
      "source": [
        "models = tuner.get_best_models(num_models=8)"
      ],
      "execution_count": 39,
      "outputs": []
    },
    {
      "cell_type": "markdown",
      "metadata": {
        "id": "Oje7bSQppVkF",
        "colab_type": "text"
      },
      "source": [
        "Оцениваем качество модели на тестовых данных"
      ]
    },
    {
      "cell_type": "code",
      "metadata": {
        "id": "CUoo7iM-bBht",
        "colab_type": "code",
        "colab": {
          "base_uri": "https://localhost:8080/",
          "height": 1000
        },
        "outputId": "a0b95564-77e4-4c8f-9502-4ad0dc2cb0fd"
      },
      "source": [
        "for model in models:\n",
        "  model.summary()\n",
        "  model.evaluate(x_test, y_test)\n",
        "  print() "
      ],
      "execution_count": 40,
      "outputs": [
        {
          "output_type": "stream",
          "text": [
            "Model: \"sequential\"\n",
            "_________________________________________________________________\n",
            "Layer (type)                 Output Shape              Param #   \n",
            "=================================================================\n",
            "dense (Dense)                (None, 736)               577760    \n",
            "_________________________________________________________________\n",
            "dense_1 (Dense)              (None, 256)               188672    \n",
            "_________________________________________________________________\n",
            "dense_2 (Dense)              (None, 10)                2570      \n",
            "=================================================================\n",
            "Total params: 769,002\n",
            "Trainable params: 769,002\n",
            "Non-trainable params: 0\n",
            "_________________________________________________________________\n",
            "313/313 [==============================] - 1s 4ms/step - loss: 0.3647 - accuracy: 0.8909\n",
            "\n",
            "Model: \"sequential\"\n",
            "_________________________________________________________________\n",
            "Layer (type)                 Output Shape              Param #   \n",
            "=================================================================\n",
            "dense (Dense)                (None, 672)               527520    \n",
            "_________________________________________________________________\n",
            "dense_1 (Dense)              (None, 256)               172288    \n",
            "_________________________________________________________________\n",
            "dense_2 (Dense)              (None, 10)                2570      \n",
            "=================================================================\n",
            "Total params: 702,378\n",
            "Trainable params: 702,378\n",
            "Non-trainable params: 0\n",
            "_________________________________________________________________\n",
            "313/313 [==============================] - 1s 4ms/step - loss: 0.3520 - accuracy: 0.8912\n",
            "\n",
            "Model: \"sequential\"\n",
            "_________________________________________________________________\n",
            "Layer (type)                 Output Shape              Param #   \n",
            "=================================================================\n",
            "dense (Dense)                (None, 992)               778720    \n",
            "_________________________________________________________________\n",
            "dense_1 (Dense)              (None, 480)               476640    \n",
            "_________________________________________________________________\n",
            "dense_2 (Dense)              (None, 10)                4810      \n",
            "=================================================================\n",
            "Total params: 1,260,170\n",
            "Trainable params: 1,260,170\n",
            "Non-trainable params: 0\n",
            "_________________________________________________________________\n",
            "313/313 [==============================] - 1s 4ms/step - loss: 0.3435 - accuracy: 0.8879\n",
            "\n",
            "Model: \"sequential\"\n",
            "_________________________________________________________________\n",
            "Layer (type)                 Output Shape              Param #   \n",
            "=================================================================\n",
            "dense (Dense)                (None, 928)               728480    \n",
            "_________________________________________________________________\n",
            "dense_1 (Dense)              (None, 192)               178368    \n",
            "_________________________________________________________________\n",
            "dense_2 (Dense)              (None, 10)                1930      \n",
            "=================================================================\n",
            "Total params: 908,778\n",
            "Trainable params: 908,778\n",
            "Non-trainable params: 0\n",
            "_________________________________________________________________\n",
            "313/313 [==============================] - 1s 4ms/step - loss: 0.3728 - accuracy: 0.8880\n",
            "\n",
            "Model: \"sequential\"\n",
            "_________________________________________________________________\n",
            "Layer (type)                 Output Shape              Param #   \n",
            "=================================================================\n",
            "dense (Dense)                (None, 832)               653120    \n",
            "_________________________________________________________________\n",
            "dense_1 (Dense)              (None, 192)               159936    \n",
            "_________________________________________________________________\n",
            "dense_2 (Dense)              (None, 10)                1930      \n",
            "=================================================================\n",
            "Total params: 814,986\n",
            "Trainable params: 814,986\n",
            "Non-trainable params: 0\n",
            "_________________________________________________________________\n",
            "313/313 [==============================] - 1s 4ms/step - loss: 0.3173 - accuracy: 0.8891\n",
            "\n",
            "Model: \"sequential\"\n",
            "_________________________________________________________________\n",
            "Layer (type)                 Output Shape              Param #   \n",
            "=================================================================\n",
            "dense (Dense)                (None, 704)               552640    \n",
            "_________________________________________________________________\n",
            "dense_1 (Dense)              (None, 288)               203040    \n",
            "_________________________________________________________________\n",
            "dense_2 (Dense)              (None, 10)                2890      \n",
            "=================================================================\n",
            "Total params: 758,570\n",
            "Trainable params: 758,570\n",
            "Non-trainable params: 0\n",
            "_________________________________________________________________\n",
            "313/313 [==============================] - 1s 4ms/step - loss: 0.3237 - accuracy: 0.8897\n",
            "\n",
            "Model: \"sequential\"\n",
            "_________________________________________________________________\n",
            "Layer (type)                 Output Shape              Param #   \n",
            "=================================================================\n",
            "dense (Dense)                (None, 832)               653120    \n",
            "_________________________________________________________________\n",
            "dense_1 (Dense)              (None, 384)               319872    \n",
            "_________________________________________________________________\n",
            "dense_2 (Dense)              (None, 10)                3850      \n",
            "=================================================================\n",
            "Total params: 976,842\n",
            "Trainable params: 976,842\n",
            "Non-trainable params: 0\n",
            "_________________________________________________________________\n",
            "313/313 [==============================] - 1s 4ms/step - loss: 0.3577 - accuracy: 0.8898\n",
            "\n",
            "Model: \"sequential\"\n",
            "_________________________________________________________________\n",
            "Layer (type)                 Output Shape              Param #   \n",
            "=================================================================\n",
            "dense (Dense)                (None, 672)               527520    \n",
            "_________________________________________________________________\n",
            "dense_1 (Dense)              (None, 256)               172288    \n",
            "_________________________________________________________________\n",
            "dense_2 (Dense)              (None, 10)                2570      \n",
            "=================================================================\n",
            "Total params: 702,378\n",
            "Trainable params: 702,378\n",
            "Non-trainable params: 0\n",
            "_________________________________________________________________\n",
            "313/313 [==============================] - 1s 4ms/step - loss: 0.3186 - accuracy: 0.8896\n",
            "\n"
          ],
          "name": "stdout"
        }
      ]
    }
  ]
}