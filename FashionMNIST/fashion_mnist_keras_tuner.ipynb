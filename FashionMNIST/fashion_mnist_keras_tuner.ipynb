{
  "nbformat": 4,
  "nbformat_minor": 0,
  "metadata": {
    "colab": {
      "name": "fashion_mnist_keras_tuner.ipynb",
      "provenance": [],
      "include_colab_link": true
    },
    "kernelspec": {
      "name": "python3",
      "display_name": "Python 3"
    },
    "accelerator": "GPU"
  },
  "cells": [
    {
      "cell_type": "markdown",
      "metadata": {
        "id": "view-in-github",
        "colab_type": "text"
      },
      "source": [
        "<a href=\"https://colab.research.google.com/github/vasiliyeskin/MachineLearningExperiences/blob/master/FashionMNIST/fashion_mnist_keras_tuner.ipynb\" target=\"_parent\"><img src=\"https://colab.research.google.com/assets/colab-badge.svg\" alt=\"Open In Colab\"/></a>"
      ]
    },
    {
      "cell_type": "markdown",
      "metadata": {
        "id": "Ah7dy1kFL2H9",
        "colab_type": "text"
      },
      "source": [
        "# Оптимизация гиперпараметров нейросети с помощью [Keras Tuner](https://github.com/keras-team/keras-tuner)\n",
        "\n",
        "Взято с https://www.youtube.com/watch?v=M08yHFPKTNI&list=PLtPJ9lKvJ4oiz9aaL_xcZd-x0qd8G0VN_&index=11.\n",
        "\n",
        "Чтобы запускать и редактировать код, сохраните копию этого ноутбука себе (File->Save a copy in Drive...). Свою копию вы сможете изменять и запускать.\n",
        "\n",
        "Не забудьте подключить GPU, чтобы сеть обучалась быстрее (Runtime -> Change Runtime Type -> Hardware Accelerator -> GPU).\n",
        "\n"
      ]
    },
    {
      "cell_type": "markdown",
      "metadata": {
        "id": "Om0LL5DEZfEo",
        "colab_type": "text"
      },
      "source": [
        "## Гиперпараметры обучения нейронной сети\n",
        "\n",
        "- Количество слоев нейронной сети\n",
        "- Количество нейронов в каждом слое\n",
        "- Функции активации, которые используются в слоях\n",
        "- Тип оптимизатора при обучении нейронной сети\n",
        "- Количество эпох обучения"
      ]
    },
    {
      "cell_type": "markdown",
      "metadata": {
        "id": "eVmxmhjuia9a",
        "colab_type": "text"
      },
      "source": [
        "## Установка Keras Tuner"
      ]
    },
    {
      "cell_type": "code",
      "metadata": {
        "id": "ftLg2Tt0Rejk",
        "colab_type": "code",
        "colab": {
          "base_uri": "https://localhost:8080/",
          "height": 294
        },
        "outputId": "9ac06e0f-5bb1-4da3-9d72-db0fd3775d42"
      },
      "source": [
        "pip install -U keras-tuner"
      ],
      "execution_count": null,
      "outputs": [
        {
          "output_type": "stream",
          "text": [
            "Requirement already up-to-date: keras-tuner in /usr/local/lib/python3.6/dist-packages (1.0.1)\n",
            "Requirement already satisfied, skipping upgrade: numpy in /usr/local/lib/python3.6/dist-packages (from keras-tuner) (1.17.5)\n",
            "Requirement already satisfied, skipping upgrade: tabulate in /usr/local/lib/python3.6/dist-packages (from keras-tuner) (0.8.6)\n",
            "Requirement already satisfied, skipping upgrade: terminaltables in /usr/local/lib/python3.6/dist-packages (from keras-tuner) (3.1.0)\n",
            "Requirement already satisfied, skipping upgrade: scikit-learn in /usr/local/lib/python3.6/dist-packages (from keras-tuner) (0.22.1)\n",
            "Requirement already satisfied, skipping upgrade: colorama in /usr/local/lib/python3.6/dist-packages (from keras-tuner) (0.4.3)\n",
            "Requirement already satisfied, skipping upgrade: requests in /usr/local/lib/python3.6/dist-packages (from keras-tuner) (2.21.0)\n",
            "Requirement already satisfied, skipping upgrade: scipy in /usr/local/lib/python3.6/dist-packages (from keras-tuner) (1.4.1)\n",
            "Requirement already satisfied, skipping upgrade: future in /usr/local/lib/python3.6/dist-packages (from keras-tuner) (0.16.0)\n",
            "Requirement already satisfied, skipping upgrade: tqdm in /usr/local/lib/python3.6/dist-packages (from keras-tuner) (4.28.1)\n",
            "Requirement already satisfied, skipping upgrade: joblib>=0.11 in /usr/local/lib/python3.6/dist-packages (from scikit-learn->keras-tuner) (0.14.1)\n",
            "Requirement already satisfied, skipping upgrade: certifi>=2017.4.17 in /usr/local/lib/python3.6/dist-packages (from requests->keras-tuner) (2019.11.28)\n",
            "Requirement already satisfied, skipping upgrade: chardet<3.1.0,>=3.0.2 in /usr/local/lib/python3.6/dist-packages (from requests->keras-tuner) (3.0.4)\n",
            "Requirement already satisfied, skipping upgrade: idna<2.9,>=2.5 in /usr/local/lib/python3.6/dist-packages (from requests->keras-tuner) (2.8)\n",
            "Requirement already satisfied, skipping upgrade: urllib3<1.25,>=1.21.1 in /usr/local/lib/python3.6/dist-packages (from requests->keras-tuner) (1.24.3)\n"
          ],
          "name": "stdout"
        }
      ]
    },
    {
      "cell_type": "markdown",
      "metadata": {
        "id": "TRs9p254BLSu",
        "colab_type": "text"
      },
      "source": [
        "## Подключаем нужные пакеты"
      ]
    },
    {
      "cell_type": "code",
      "metadata": {
        "id": "qrfd6FzSLrE2",
        "colab_type": "code",
        "colab": {
          "base_uri": "https://localhost:8080/",
          "height": 34
        },
        "outputId": "dd3d06be-15bc-4f40-c5c6-e288f7504c45"
      },
      "source": [
        "%tensorflow_version 2.x\n",
        "from tensorflow.keras.datasets import fashion_mnist\n",
        "from tensorflow.keras.models import Sequential\n",
        "from tensorflow.keras.layers import Dense\n",
        "from tensorflow.keras import utils\n",
        "from google.colab import files\n",
        "from kerastuner.tuners import RandomSearch, Hyperband, BayesianOptimization\n",
        "import numpy as np"
      ],
      "execution_count": null,
      "outputs": [
        {
          "output_type": "stream",
          "text": [
            "TensorFlow 2.x selected.\n"
          ],
          "name": "stdout"
        }
      ]
    },
    {
      "cell_type": "markdown",
      "metadata": {
        "id": "xiurjCBVMDTG",
        "colab_type": "text"
      },
      "source": [
        "## Подготовка данных для обучения сети"
      ]
    },
    {
      "cell_type": "code",
      "metadata": {
        "id": "E5L3LUIi8PDV",
        "colab_type": "code",
        "colab": {
          "base_uri": "https://localhost:8080/",
          "height": 154
        },
        "outputId": "be5f2e94-54fe-4fe1-de2a-9e6b9905c0ac"
      },
      "source": [
        "(x_train, y_train), (x_test, y_test) = fashion_mnist.load_data()"
      ],
      "execution_count": null,
      "outputs": [
        {
          "output_type": "stream",
          "text": [
            "Downloading data from https://storage.googleapis.com/tensorflow/tf-keras-datasets/train-labels-idx1-ubyte.gz\n",
            "32768/29515 [=================================] - 0s 0us/step\n",
            "Downloading data from https://storage.googleapis.com/tensorflow/tf-keras-datasets/train-images-idx3-ubyte.gz\n",
            "26427392/26421880 [==============================] - 1s 0us/step\n",
            "Downloading data from https://storage.googleapis.com/tensorflow/tf-keras-datasets/t10k-labels-idx1-ubyte.gz\n",
            "8192/5148 [===============================================] - 0s 0us/step\n",
            "Downloading data from https://storage.googleapis.com/tensorflow/tf-keras-datasets/t10k-images-idx3-ubyte.gz\n",
            "4423680/4422102 [==============================] - 0s 0us/step\n"
          ],
          "name": "stdout"
        }
      ]
    },
    {
      "cell_type": "code",
      "metadata": {
        "id": "6Z52YG_1kXbi",
        "colab_type": "code",
        "colab": {}
      },
      "source": [
        "x_train = x_train.reshape(60000, 784)\n",
        "x_test = x_test.reshape(10000, 784)\n",
        "x_train = x_train / 255 \n",
        "x_test = x_test / 255 \n",
        "y_train = utils.to_categorical(y_train, 10)\n",
        "y_test = utils.to_categorical(y_test, 10)"
      ],
      "execution_count": null,
      "outputs": []
    },
    {
      "cell_type": "markdown",
      "metadata": {
        "id": "rpEltSGUkJAG",
        "colab_type": "text"
      },
      "source": [
        "## Задаем функцию создания нейронной сети"
      ]
    },
    {
      "cell_type": "code",
      "metadata": {
        "id": "Sd62W3GOQtKU",
        "colab_type": "code",
        "colab": {}
      },
      "source": [
        "def build_model(hp):\n",
        "    model = Sequential()\n",
        "    activation_choice = hp.Choice('activation', values=['relu', 'sigmoid', 'tanh', 'elu', 'selu'])    \n",
        "    model.add(Dense(units=hp.Int('units_input',    # Полносвязный слой с разным количеством нейронов\n",
        "                                   min_value=512,    # минимальное количество нейронов - 128\n",
        "                                   max_value=1024,   # максимальное количество - 1024\n",
        "                                   step=32),\n",
        "                    input_dim=784,\n",
        "                    activation=activation_choice))\n",
        "    model.add(Dense(units=hp.Int('units_hidden',        \n",
        "                                   min_value=128,   \n",
        "                                   max_value=600,   \n",
        "                                   step=32),\n",
        "                    activation=activation_choice))   \n",
        "    model.add(Dense(10, activation='softmax'))\n",
        "    model.compile(\n",
        "        optimizer=hp.Choice('optimizer', values=['adam','rmsprop','SGD']),\n",
        "        loss='categorical_crossentropy',\n",
        "        metrics=['accuracy'])\n",
        "    return model"
      ],
      "execution_count": null,
      "outputs": []
    },
    {
      "cell_type": "markdown",
      "metadata": {
        "id": "lFw-0sZsmFOJ",
        "colab_type": "text"
      },
      "source": [
        "## Создаем tuner\n",
        "\n",
        "Доступные типы тюнеров: \n",
        "- RandomSearch - случайный поиск.\n",
        "- Hyperband - алгоритм оптимизации на основе многорукого бандита, Li, Lisha, and Kevin Jamieson. [\"Hyperband: A Novel Bandit-Based Approach to Hyperparameter Optimization.\"Journal of Machine Learning Research 18 (2018): 1-52](http://jmlr.org/papers/v18/16-558.html).\n",
        "- BayesianOptimization - [байесовская оптимизация](https://en.wikipedia.org/wiki/Bayesian_optimization)."
      ]
    },
    {
      "cell_type": "code",
      "metadata": {
        "id": "OZwA47cOQz4b",
        "colab_type": "code",
        "colab": {}
      },
      "source": [
        "tuner = RandomSearch(\n",
        "    build_model,                 # функция создания модели\n",
        "    objective='val_accuracy',    # метрика, которую нужно оптимизировать - \n",
        "                                 # доля правильных ответов на проверочном наборе данных\n",
        "    max_trials=80,               # максимальное количество запусков обучения \n",
        "    directory='test_directory'   # каталог, куда сохраняются обученные сети  \n",
        "    )"
      ],
      "execution_count": null,
      "outputs": []
    },
    {
      "cell_type": "markdown",
      "metadata": {
        "id": "-znOiwDZB1C5",
        "colab_type": "text"
      },
      "source": [
        "## Запускаем подбор гиперпараметров"
      ]
    },
    {
      "cell_type": "markdown",
      "metadata": {
        "id": "63MVEBFYmdpB",
        "colab_type": "text"
      },
      "source": [
        "Пространство поиска"
      ]
    },
    {
      "cell_type": "code",
      "metadata": {
        "id": "JeJ87qoVB4PV",
        "colab_type": "code",
        "colab": {
          "base_uri": "https://localhost:8080/",
          "height": 494
        },
        "outputId": "c61ff26e-79b7-4b12-80c5-692d78f2d583"
      },
      "source": [
        "tuner.search_space_summary()"
      ],
      "execution_count": null,
      "outputs": [
        {
          "output_type": "display_data",
          "data": {
            "text/html": [
              "<span style=\"color:#4527A0\"><h1 style=\"font-size:18px\">Search space summary</h1></span>"
            ],
            "text/plain": [
              "<IPython.core.display.HTML object>"
            ]
          },
          "metadata": {
            "tags": []
          }
        },
        {
          "output_type": "display_data",
          "data": {
            "text/html": [
              "<span style=\"color:cyan\"> |-Default search space size: 4</span>"
            ],
            "text/plain": [
              "<IPython.core.display.HTML object>"
            ]
          },
          "metadata": {
            "tags": []
          }
        },
        {
          "output_type": "display_data",
          "data": {
            "text/html": [
              "<span style=\"color:#7E57C2\"><h2 style=\"font-size:16px\">activation (Choice)</h2></span>"
            ],
            "text/plain": [
              "<IPython.core.display.HTML object>"
            ]
          },
          "metadata": {
            "tags": []
          }
        },
        {
          "output_type": "display_data",
          "data": {
            "text/html": [
              "<span style=\"color:cyan\"> |-default: relu</span>"
            ],
            "text/plain": [
              "<IPython.core.display.HTML object>"
            ]
          },
          "metadata": {
            "tags": []
          }
        },
        {
          "output_type": "display_data",
          "data": {
            "text/html": [
              "<span style=\"color:blue\"> |-ordered: False</span>"
            ],
            "text/plain": [
              "<IPython.core.display.HTML object>"
            ]
          },
          "metadata": {
            "tags": []
          }
        },
        {
          "output_type": "display_data",
          "data": {
            "text/html": [
              "<span style=\"color:cyan\"> |-values: ['relu', 'sigmoid', 'tanh', 'elu', 'selu']</span>"
            ],
            "text/plain": [
              "<IPython.core.display.HTML object>"
            ]
          },
          "metadata": {
            "tags": []
          }
        },
        {
          "output_type": "display_data",
          "data": {
            "text/html": [
              "<span style=\"color:#7E57C2\"><h2 style=\"font-size:16px\">units_input (Int)</h2></span>"
            ],
            "text/plain": [
              "<IPython.core.display.HTML object>"
            ]
          },
          "metadata": {
            "tags": []
          }
        },
        {
          "output_type": "display_data",
          "data": {
            "text/html": [
              "<span style=\"color:cyan\"> |-default: None</span>"
            ],
            "text/plain": [
              "<IPython.core.display.HTML object>"
            ]
          },
          "metadata": {
            "tags": []
          }
        },
        {
          "output_type": "display_data",
          "data": {
            "text/html": [
              "<span style=\"color:blue\"> |-max_value: 1024</span>"
            ],
            "text/plain": [
              "<IPython.core.display.HTML object>"
            ]
          },
          "metadata": {
            "tags": []
          }
        },
        {
          "output_type": "display_data",
          "data": {
            "text/html": [
              "<span style=\"color:cyan\"> |-min_value: 512</span>"
            ],
            "text/plain": [
              "<IPython.core.display.HTML object>"
            ]
          },
          "metadata": {
            "tags": []
          }
        },
        {
          "output_type": "display_data",
          "data": {
            "text/html": [
              "<span style=\"color:blue\"> |-sampling: None</span>"
            ],
            "text/plain": [
              "<IPython.core.display.HTML object>"
            ]
          },
          "metadata": {
            "tags": []
          }
        },
        {
          "output_type": "display_data",
          "data": {
            "text/html": [
              "<span style=\"color:cyan\"> |-step: 32</span>"
            ],
            "text/plain": [
              "<IPython.core.display.HTML object>"
            ]
          },
          "metadata": {
            "tags": []
          }
        },
        {
          "output_type": "display_data",
          "data": {
            "text/html": [
              "<span style=\"color:#7E57C2\"><h2 style=\"font-size:16px\">units_hidden (Int)</h2></span>"
            ],
            "text/plain": [
              "<IPython.core.display.HTML object>"
            ]
          },
          "metadata": {
            "tags": []
          }
        },
        {
          "output_type": "display_data",
          "data": {
            "text/html": [
              "<span style=\"color:cyan\"> |-default: None</span>"
            ],
            "text/plain": [
              "<IPython.core.display.HTML object>"
            ]
          },
          "metadata": {
            "tags": []
          }
        },
        {
          "output_type": "display_data",
          "data": {
            "text/html": [
              "<span style=\"color:blue\"> |-max_value: 600</span>"
            ],
            "text/plain": [
              "<IPython.core.display.HTML object>"
            ]
          },
          "metadata": {
            "tags": []
          }
        },
        {
          "output_type": "display_data",
          "data": {
            "text/html": [
              "<span style=\"color:cyan\"> |-min_value: 128</span>"
            ],
            "text/plain": [
              "<IPython.core.display.HTML object>"
            ]
          },
          "metadata": {
            "tags": []
          }
        },
        {
          "output_type": "display_data",
          "data": {
            "text/html": [
              "<span style=\"color:blue\"> |-sampling: None</span>"
            ],
            "text/plain": [
              "<IPython.core.display.HTML object>"
            ]
          },
          "metadata": {
            "tags": []
          }
        },
        {
          "output_type": "display_data",
          "data": {
            "text/html": [
              "<span style=\"color:cyan\"> |-step: 32</span>"
            ],
            "text/plain": [
              "<IPython.core.display.HTML object>"
            ]
          },
          "metadata": {
            "tags": []
          }
        },
        {
          "output_type": "display_data",
          "data": {
            "text/html": [
              "<span style=\"color:#7E57C2\"><h2 style=\"font-size:16px\">optimizer (Choice)</h2></span>"
            ],
            "text/plain": [
              "<IPython.core.display.HTML object>"
            ]
          },
          "metadata": {
            "tags": []
          }
        },
        {
          "output_type": "display_data",
          "data": {
            "text/html": [
              "<span style=\"color:cyan\"> |-default: adam</span>"
            ],
            "text/plain": [
              "<IPython.core.display.HTML object>"
            ]
          },
          "metadata": {
            "tags": []
          }
        },
        {
          "output_type": "display_data",
          "data": {
            "text/html": [
              "<span style=\"color:blue\"> |-ordered: False</span>"
            ],
            "text/plain": [
              "<IPython.core.display.HTML object>"
            ]
          },
          "metadata": {
            "tags": []
          }
        },
        {
          "output_type": "display_data",
          "data": {
            "text/html": [
              "<span style=\"color:cyan\"> |-values: ['adam', 'rmsprop', 'SGD']</span>"
            ],
            "text/plain": [
              "<IPython.core.display.HTML object>"
            ]
          },
          "metadata": {
            "tags": []
          }
        }
      ]
    },
    {
      "cell_type": "markdown",
      "metadata": {
        "id": "EfT4ecI8n5Ga",
        "colab_type": "text"
      },
      "source": [
        "Подбор гиперпараметров"
      ]
    },
    {
      "cell_type": "code",
      "metadata": {
        "id": "NEFHVKDBB-Z9",
        "colab_type": "code",
        "colab": {
          "base_uri": "https://localhost:8080/",
          "height": 1000
        },
        "outputId": "c32cdaec-9777-4587-f265-5519a09219ac"
      },
      "source": [
        "tuner.search(x_train,                  # Данные для обучения\n",
        "             y_train,                  # Правильные ответы\n",
        "             batch_size=256,           # Размер мини-выборки\n",
        "             epochs=20,                # Количество эпох обучения \n",
        "             validation_split=0.2,     # Часть данных, которая будет использоваться для проверки\n",
        "             )"
      ],
      "execution_count": null,
      "outputs": [
        {
          "output_type": "stream",
          "text": [
            "Train on 48000 samples, validate on 12000 samples\n",
            "Epoch 1/20\n",
            "48000/48000 [==============================] - 3s 68us/sample - loss: 0.6393 - accuracy: 0.7679 - val_loss: 0.4416 - val_accuracy: 0.8418\n",
            "Epoch 2/20\n",
            "48000/48000 [==============================] - 1s 21us/sample - loss: 0.4150 - accuracy: 0.8459 - val_loss: 0.3811 - val_accuracy: 0.8628\n",
            "Epoch 3/20\n",
            "48000/48000 [==============================] - 1s 22us/sample - loss: 0.3632 - accuracy: 0.8643 - val_loss: 0.3496 - val_accuracy: 0.8755\n",
            "Epoch 4/20\n",
            "48000/48000 [==============================] - 1s 21us/sample - loss: 0.3296 - accuracy: 0.8760 - val_loss: 0.4933 - val_accuracy: 0.8196\n",
            "Epoch 5/20\n",
            "48000/48000 [==============================] - 1s 21us/sample - loss: 0.3034 - accuracy: 0.8850 - val_loss: 0.3554 - val_accuracy: 0.8677\n",
            "Epoch 6/20\n",
            "48000/48000 [==============================] - 1s 22us/sample - loss: 0.2858 - accuracy: 0.8917 - val_loss: 0.3314 - val_accuracy: 0.8823\n",
            "Epoch 7/20\n",
            "48000/48000 [==============================] - 1s 22us/sample - loss: 0.2699 - accuracy: 0.8976 - val_loss: 0.3107 - val_accuracy: 0.8901\n",
            "Epoch 8/20\n",
            "48000/48000 [==============================] - 1s 24us/sample - loss: 0.2525 - accuracy: 0.9043 - val_loss: 0.3939 - val_accuracy: 0.8646\n",
            "Epoch 9/20\n",
            "48000/48000 [==============================] - 1s 23us/sample - loss: 0.2427 - accuracy: 0.9072 - val_loss: 0.3482 - val_accuracy: 0.8772\n",
            "Epoch 10/20\n",
            "48000/48000 [==============================] - 1s 21us/sample - loss: 0.2313 - accuracy: 0.9107 - val_loss: 0.4308 - val_accuracy: 0.8685\n",
            "Epoch 11/20\n",
            "48000/48000 [==============================] - 1s 22us/sample - loss: 0.2187 - accuracy: 0.9156 - val_loss: 0.3432 - val_accuracy: 0.8921\n",
            "Epoch 12/20\n",
            "48000/48000 [==============================] - 1s 21us/sample - loss: 0.2099 - accuracy: 0.9208 - val_loss: 0.3612 - val_accuracy: 0.8765\n",
            "Epoch 13/20\n",
            "48000/48000 [==============================] - 1s 21us/sample - loss: 0.2030 - accuracy: 0.9221 - val_loss: 0.3402 - val_accuracy: 0.8888\n",
            "Epoch 14/20\n",
            "48000/48000 [==============================] - 1s 22us/sample - loss: 0.1944 - accuracy: 0.9254 - val_loss: 0.3395 - val_accuracy: 0.8951\n",
            "Epoch 15/20\n",
            "48000/48000 [==============================] - 1s 21us/sample - loss: 0.1865 - accuracy: 0.9294 - val_loss: 0.3564 - val_accuracy: 0.8925\n",
            "Epoch 16/20\n",
            "48000/48000 [==============================] - 1s 21us/sample - loss: 0.1819 - accuracy: 0.9308 - val_loss: 0.3468 - val_accuracy: 0.8938\n",
            "Epoch 17/20\n",
            "48000/48000 [==============================] - 1s 21us/sample - loss: 0.1730 - accuracy: 0.9339 - val_loss: 0.4542 - val_accuracy: 0.8737\n",
            "Epoch 18/20\n",
            "48000/48000 [==============================] - 1s 22us/sample - loss: 0.1679 - accuracy: 0.9351 - val_loss: 0.4294 - val_accuracy: 0.8902\n",
            "Epoch 19/20\n",
            "48000/48000 [==============================] - 1s 21us/sample - loss: 0.1635 - accuracy: 0.9374 - val_loss: 0.4328 - val_accuracy: 0.8882\n",
            "Epoch 20/20\n",
            "48000/48000 [==============================] - 1s 21us/sample - loss: 0.1599 - accuracy: 0.9391 - val_loss: 0.4016 - val_accuracy: 0.8881\n"
          ],
          "name": "stdout"
        },
        {
          "output_type": "display_data",
          "data": {
            "text/html": [
              "<span style=\"color:#4527A0\"><h1 style=\"font-size:18px\">Trial complete</h1></span>"
            ],
            "text/plain": [
              "<IPython.core.display.HTML object>"
            ]
          },
          "metadata": {
            "tags": []
          }
        },
        {
          "output_type": "display_data",
          "data": {
            "text/html": [
              "<span style=\"color:#4527A0\"><h1 style=\"font-size:18px\">Trial summary</h1></span>"
            ],
            "text/plain": [
              "<IPython.core.display.HTML object>"
            ]
          },
          "metadata": {
            "tags": []
          }
        },
        {
          "output_type": "display_data",
          "data": {
            "text/html": [
              "<span style=\"color:cyan\"> |-Trial ID: 763b55f1aa749cc7769ff1a64e67b82b</span>"
            ],
            "text/plain": [
              "<IPython.core.display.HTML object>"
            ]
          },
          "metadata": {
            "tags": []
          }
        },
        {
          "output_type": "display_data",
          "data": {
            "text/html": [
              "<span style=\"color:cyan\"> |-Score: 0.8950833082199097</span>"
            ],
            "text/plain": [
              "<IPython.core.display.HTML object>"
            ]
          },
          "metadata": {
            "tags": []
          }
        },
        {
          "output_type": "display_data",
          "data": {
            "text/html": [
              "<span style=\"color:cyan\"> |-Best step: 0</span>"
            ],
            "text/plain": [
              "<IPython.core.display.HTML object>"
            ]
          },
          "metadata": {
            "tags": []
          }
        },
        {
          "output_type": "display_data",
          "data": {
            "text/html": [
              "<span style=\"color:#7E57C2\"><h2 style=\"font-size:16px\">Hyperparameters:</h2></span>"
            ],
            "text/plain": [
              "<IPython.core.display.HTML object>"
            ]
          },
          "metadata": {
            "tags": []
          }
        },
        {
          "output_type": "display_data",
          "data": {
            "text/html": [
              "<span style=\"color:cyan\"> |-activation: relu</span>"
            ],
            "text/plain": [
              "<IPython.core.display.HTML object>"
            ]
          },
          "metadata": {
            "tags": []
          }
        },
        {
          "output_type": "display_data",
          "data": {
            "text/html": [
              "<span style=\"color:blue\"> |-optimizer: rmsprop</span>"
            ],
            "text/plain": [
              "<IPython.core.display.HTML object>"
            ]
          },
          "metadata": {
            "tags": []
          }
        },
        {
          "output_type": "display_data",
          "data": {
            "text/html": [
              "<span style=\"color:cyan\"> |-units_hidden: 320</span>"
            ],
            "text/plain": [
              "<IPython.core.display.HTML object>"
            ]
          },
          "metadata": {
            "tags": []
          }
        },
        {
          "output_type": "display_data",
          "data": {
            "text/html": [
              "<span style=\"color:blue\"> |-units_input: 512</span>"
            ],
            "text/plain": [
              "<IPython.core.display.HTML object>"
            ]
          },
          "metadata": {
            "tags": []
          }
        },
        {
          "output_type": "stream",
          "text": [
            "Train on 48000 samples, validate on 12000 samples\n",
            "Epoch 1/20\n",
            "48000/48000 [==============================] - 1s 29us/sample - loss: 0.7928 - accuracy: 0.7337 - val_loss: 0.5612 - val_accuracy: 0.7797\n",
            "Epoch 2/20\n",
            "48000/48000 [==============================] - 1s 22us/sample - loss: 0.4829 - accuracy: 0.8243 - val_loss: 0.4492 - val_accuracy: 0.8372\n",
            "Epoch 3/20\n",
            "48000/48000 [==============================] - 1s 22us/sample - loss: 0.4288 - accuracy: 0.8435 - val_loss: 0.4463 - val_accuracy: 0.8371\n",
            "Epoch 4/20\n",
            "48000/48000 [==============================] - 1s 22us/sample - loss: 0.3998 - accuracy: 0.8551 - val_loss: 0.4435 - val_accuracy: 0.8342\n",
            "Epoch 5/20\n",
            "48000/48000 [==============================] - 1s 22us/sample - loss: 0.3795 - accuracy: 0.8615 - val_loss: 0.3872 - val_accuracy: 0.8603\n",
            "Epoch 6/20\n",
            "48000/48000 [==============================] - 1s 22us/sample - loss: 0.3625 - accuracy: 0.8660 - val_loss: 0.4199 - val_accuracy: 0.8396\n",
            "Epoch 7/20\n",
            "48000/48000 [==============================] - 1s 22us/sample - loss: 0.3467 - accuracy: 0.8731 - val_loss: 0.3648 - val_accuracy: 0.8673\n",
            "Epoch 8/20\n",
            "48000/48000 [==============================] - 1s 22us/sample - loss: 0.3341 - accuracy: 0.8774 - val_loss: 0.3772 - val_accuracy: 0.8577\n",
            "Epoch 9/20\n",
            "48000/48000 [==============================] - 1s 21us/sample - loss: 0.3239 - accuracy: 0.8808 - val_loss: 0.3575 - val_accuracy: 0.8729\n",
            "Epoch 10/20\n",
            "48000/48000 [==============================] - 1s 21us/sample - loss: 0.3135 - accuracy: 0.8839 - val_loss: 0.3583 - val_accuracy: 0.8647\n",
            "Epoch 11/20\n",
            "48000/48000 [==============================] - 1s 20us/sample - loss: 0.3048 - accuracy: 0.8875 - val_loss: 0.3672 - val_accuracy: 0.8633\n",
            "Epoch 12/20\n",
            "48000/48000 [==============================] - 1s 21us/sample - loss: 0.2962 - accuracy: 0.8905 - val_loss: 0.3553 - val_accuracy: 0.8628\n",
            "Epoch 13/20\n",
            "48000/48000 [==============================] - 1s 21us/sample - loss: 0.2890 - accuracy: 0.8925 - val_loss: 0.3648 - val_accuracy: 0.8667\n",
            "Epoch 14/20\n",
            "48000/48000 [==============================] - 1s 22us/sample - loss: 0.2811 - accuracy: 0.8963 - val_loss: 0.3658 - val_accuracy: 0.8686\n",
            "Epoch 15/20\n",
            "48000/48000 [==============================] - 1s 21us/sample - loss: 0.2734 - accuracy: 0.8984 - val_loss: 0.3275 - val_accuracy: 0.8814\n",
            "Epoch 16/20\n",
            "48000/48000 [==============================] - 1s 23us/sample - loss: 0.2664 - accuracy: 0.9011 - val_loss: 0.3160 - val_accuracy: 0.8864\n",
            "Epoch 17/20\n",
            "48000/48000 [==============================] - 1s 22us/sample - loss: 0.2604 - accuracy: 0.9022 - val_loss: 0.3239 - val_accuracy: 0.8814\n",
            "Epoch 18/20\n",
            "48000/48000 [==============================] - 1s 22us/sample - loss: 0.2543 - accuracy: 0.9057 - val_loss: 0.3186 - val_accuracy: 0.8824\n",
            "Epoch 19/20\n",
            "48000/48000 [==============================] - 1s 21us/sample - loss: 0.2475 - accuracy: 0.9074 - val_loss: 0.3269 - val_accuracy: 0.8838\n",
            "Epoch 20/20\n",
            "48000/48000 [==============================] - 1s 22us/sample - loss: 0.2417 - accuracy: 0.9099 - val_loss: 0.3127 - val_accuracy: 0.8866\n"
          ],
          "name": "stdout"
        },
        {
          "output_type": "display_data",
          "data": {
            "text/html": [
              "<span style=\"color:#4527A0\"><h1 style=\"font-size:18px\">Trial complete</h1></span>"
            ],
            "text/plain": [
              "<IPython.core.display.HTML object>"
            ]
          },
          "metadata": {
            "tags": []
          }
        },
        {
          "output_type": "display_data",
          "data": {
            "text/html": [
              "<span style=\"color:#4527A0\"><h1 style=\"font-size:18px\">Trial summary</h1></span>"
            ],
            "text/plain": [
              "<IPython.core.display.HTML object>"
            ]
          },
          "metadata": {
            "tags": []
          }
        },
        {
          "output_type": "display_data",
          "data": {
            "text/html": [
              "<span style=\"color:cyan\"> |-Trial ID: e230bef0c28bb34ac3e91ec10e9e5f0c</span>"
            ],
            "text/plain": [
              "<IPython.core.display.HTML object>"
            ]
          },
          "metadata": {
            "tags": []
          }
        },
        {
          "output_type": "display_data",
          "data": {
            "text/html": [
              "<span style=\"color:cyan\"> |-Score: 0.8865833282470703</span>"
            ],
            "text/plain": [
              "<IPython.core.display.HTML object>"
            ]
          },
          "metadata": {
            "tags": []
          }
        },
        {
          "output_type": "display_data",
          "data": {
            "text/html": [
              "<span style=\"color:cyan\"> |-Best step: 0</span>"
            ],
            "text/plain": [
              "<IPython.core.display.HTML object>"
            ]
          },
          "metadata": {
            "tags": []
          }
        },
        {
          "output_type": "display_data",
          "data": {
            "text/html": [
              "<span style=\"color:#7E57C2\"><h2 style=\"font-size:16px\">Hyperparameters:</h2></span>"
            ],
            "text/plain": [
              "<IPython.core.display.HTML object>"
            ]
          },
          "metadata": {
            "tags": []
          }
        },
        {
          "output_type": "display_data",
          "data": {
            "text/html": [
              "<span style=\"color:cyan\"> |-activation: sigmoid</span>"
            ],
            "text/plain": [
              "<IPython.core.display.HTML object>"
            ]
          },
          "metadata": {
            "tags": []
          }
        },
        {
          "output_type": "display_data",
          "data": {
            "text/html": [
              "<span style=\"color:blue\"> |-optimizer: rmsprop</span>"
            ],
            "text/plain": [
              "<IPython.core.display.HTML object>"
            ]
          },
          "metadata": {
            "tags": []
          }
        },
        {
          "output_type": "display_data",
          "data": {
            "text/html": [
              "<span style=\"color:cyan\"> |-units_hidden: 128</span>"
            ],
            "text/plain": [
              "<IPython.core.display.HTML object>"
            ]
          },
          "metadata": {
            "tags": []
          }
        },
        {
          "output_type": "display_data",
          "data": {
            "text/html": [
              "<span style=\"color:blue\"> |-units_input: 736</span>"
            ],
            "text/plain": [
              "<IPython.core.display.HTML object>"
            ]
          },
          "metadata": {
            "tags": []
          }
        },
        {
          "output_type": "stream",
          "text": [
            "Train on 48000 samples, validate on 12000 samples\n",
            "Epoch 1/20\n",
            "48000/48000 [==============================] - 2s 33us/sample - loss: 0.8770 - accuracy: 0.7216 - val_loss: 0.6018 - val_accuracy: 0.7872\n",
            "Epoch 2/20\n",
            "48000/48000 [==============================] - 1s 23us/sample - loss: 0.5098 - accuracy: 0.8116 - val_loss: 0.4332 - val_accuracy: 0.8406\n",
            "Epoch 3/20\n",
            "48000/48000 [==============================] - 1s 24us/sample - loss: 0.4270 - accuracy: 0.8396 - val_loss: 0.4261 - val_accuracy: 0.8353\n",
            "Epoch 4/20\n",
            "48000/48000 [==============================] - 1s 25us/sample - loss: 0.3794 - accuracy: 0.8570 - val_loss: 0.5458 - val_accuracy: 0.7934\n",
            "Epoch 5/20\n",
            "48000/48000 [==============================] - 1s 25us/sample - loss: 0.3501 - accuracy: 0.8679 - val_loss: 0.4572 - val_accuracy: 0.8296\n",
            "Epoch 6/20\n",
            "48000/48000 [==============================] - 1s 22us/sample - loss: 0.3295 - accuracy: 0.8749 - val_loss: 0.3596 - val_accuracy: 0.8705\n",
            "Epoch 7/20\n",
            "48000/48000 [==============================] - 1s 23us/sample - loss: 0.3089 - accuracy: 0.8824 - val_loss: 0.3769 - val_accuracy: 0.8597\n",
            "Epoch 8/20\n",
            "48000/48000 [==============================] - 1s 26us/sample - loss: 0.2928 - accuracy: 0.8886 - val_loss: 0.4241 - val_accuracy: 0.8513\n",
            "Epoch 9/20\n",
            "48000/48000 [==============================] - 1s 22us/sample - loss: 0.2805 - accuracy: 0.8934 - val_loss: 0.3690 - val_accuracy: 0.8668\n",
            "Epoch 10/20\n",
            "48000/48000 [==============================] - 1s 22us/sample - loss: 0.2688 - accuracy: 0.8970 - val_loss: 0.4399 - val_accuracy: 0.8491\n",
            "Epoch 11/20\n",
            "48000/48000 [==============================] - 1s 24us/sample - loss: 0.2525 - accuracy: 0.9037 - val_loss: 0.3627 - val_accuracy: 0.8785\n",
            "Epoch 12/20\n",
            "48000/48000 [==============================] - 1s 22us/sample - loss: 0.2465 - accuracy: 0.9054 - val_loss: 0.4420 - val_accuracy: 0.8474\n",
            "Epoch 13/20\n",
            "48000/48000 [==============================] - 1s 23us/sample - loss: 0.2336 - accuracy: 0.9105 - val_loss: 0.4115 - val_accuracy: 0.8639\n",
            "Epoch 14/20\n",
            "48000/48000 [==============================] - 1s 23us/sample - loss: 0.2239 - accuracy: 0.9134 - val_loss: 0.3927 - val_accuracy: 0.8691\n",
            "Epoch 15/20\n",
            "48000/48000 [==============================] - 1s 23us/sample - loss: 0.2176 - accuracy: 0.9164 - val_loss: 0.3674 - val_accuracy: 0.8814\n",
            "Epoch 16/20\n",
            "48000/48000 [==============================] - 1s 24us/sample - loss: 0.2087 - accuracy: 0.9185 - val_loss: 0.3552 - val_accuracy: 0.8866\n",
            "Epoch 17/20\n",
            "48000/48000 [==============================] - 1s 24us/sample - loss: 0.1995 - accuracy: 0.9241 - val_loss: 0.3638 - val_accuracy: 0.8813\n",
            "Epoch 18/20\n",
            "48000/48000 [==============================] - 1s 23us/sample - loss: 0.1941 - accuracy: 0.9254 - val_loss: 0.3670 - val_accuracy: 0.8817\n",
            "Epoch 19/20\n",
            "48000/48000 [==============================] - 1s 22us/sample - loss: 0.1861 - accuracy: 0.9284 - val_loss: 0.3440 - val_accuracy: 0.8916\n",
            "Epoch 20/20\n",
            "48000/48000 [==============================] - 1s 23us/sample - loss: 0.1781 - accuracy: 0.9317 - val_loss: 0.3725 - val_accuracy: 0.8880\n"
          ],
          "name": "stdout"
        },
        {
          "output_type": "display_data",
          "data": {
            "text/html": [
              "<span style=\"color:#4527A0\"><h1 style=\"font-size:18px\">Trial complete</h1></span>"
            ],
            "text/plain": [
              "<IPython.core.display.HTML object>"
            ]
          },
          "metadata": {
            "tags": []
          }
        },
        {
          "output_type": "display_data",
          "data": {
            "text/html": [
              "<span style=\"color:#4527A0\"><h1 style=\"font-size:18px\">Trial summary</h1></span>"
            ],
            "text/plain": [
              "<IPython.core.display.HTML object>"
            ]
          },
          "metadata": {
            "tags": []
          }
        },
        {
          "output_type": "display_data",
          "data": {
            "text/html": [
              "<span style=\"color:cyan\"> |-Trial ID: c148f02853add722457e40fc8e550bdb</span>"
            ],
            "text/plain": [
              "<IPython.core.display.HTML object>"
            ]
          },
          "metadata": {
            "tags": []
          }
        },
        {
          "output_type": "display_data",
          "data": {
            "text/html": [
              "<span style=\"color:cyan\"> |-Score: 0.8915833234786987</span>"
            ],
            "text/plain": [
              "<IPython.core.display.HTML object>"
            ]
          },
          "metadata": {
            "tags": []
          }
        },
        {
          "output_type": "display_data",
          "data": {
            "text/html": [
              "<span style=\"color:cyan\"> |-Best step: 0</span>"
            ],
            "text/plain": [
              "<IPython.core.display.HTML object>"
            ]
          },
          "metadata": {
            "tags": []
          }
        },
        {
          "output_type": "display_data",
          "data": {
            "text/html": [
              "<span style=\"color:#7E57C2\"><h2 style=\"font-size:16px\">Hyperparameters:</h2></span>"
            ],
            "text/plain": [
              "<IPython.core.display.HTML object>"
            ]
          },
          "metadata": {
            "tags": []
          }
        },
        {
          "output_type": "display_data",
          "data": {
            "text/html": [
              "<span style=\"color:cyan\"> |-activation: elu</span>"
            ],
            "text/plain": [
              "<IPython.core.display.HTML object>"
            ]
          },
          "metadata": {
            "tags": []
          }
        },
        {
          "output_type": "display_data",
          "data": {
            "text/html": [
              "<span style=\"color:blue\"> |-optimizer: rmsprop</span>"
            ],
            "text/plain": [
              "<IPython.core.display.HTML object>"
            ]
          },
          "metadata": {
            "tags": []
          }
        },
        {
          "output_type": "display_data",
          "data": {
            "text/html": [
              "<span style=\"color:cyan\"> |-units_hidden: 448</span>"
            ],
            "text/plain": [
              "<IPython.core.display.HTML object>"
            ]
          },
          "metadata": {
            "tags": []
          }
        },
        {
          "output_type": "display_data",
          "data": {
            "text/html": [
              "<span style=\"color:blue\"> |-units_input: 768</span>"
            ],
            "text/plain": [
              "<IPython.core.display.HTML object>"
            ]
          },
          "metadata": {
            "tags": []
          }
        },
        {
          "output_type": "stream",
          "text": [
            "Train on 48000 samples, validate on 12000 samples\n",
            "Epoch 1/20\n",
            "48000/48000 [==============================] - 1s 30us/sample - loss: 0.6634 - accuracy: 0.7602 - val_loss: 0.4849 - val_accuracy: 0.8262\n",
            "Epoch 2/20\n",
            "48000/48000 [==============================] - 1s 24us/sample - loss: 0.4228 - accuracy: 0.8441 - val_loss: 0.4226 - val_accuracy: 0.8443\n",
            "Epoch 3/20\n",
            "48000/48000 [==============================] - 1s 22us/sample - loss: 0.3620 - accuracy: 0.8648 - val_loss: 0.4347 - val_accuracy: 0.8419\n",
            "Epoch 4/20\n",
            "48000/48000 [==============================] - 1s 23us/sample - loss: 0.3266 - accuracy: 0.8788 - val_loss: 0.3910 - val_accuracy: 0.8592\n",
            "Epoch 5/20\n",
            "48000/48000 [==============================] - 1s 22us/sample - loss: 0.3043 - accuracy: 0.8860 - val_loss: 0.3357 - val_accuracy: 0.8833\n",
            "Epoch 6/20\n",
            "48000/48000 [==============================] - 1s 22us/sample - loss: 0.2840 - accuracy: 0.8914 - val_loss: 0.3380 - val_accuracy: 0.8781\n",
            "Epoch 7/20\n",
            "48000/48000 [==============================] - 1s 21us/sample - loss: 0.2671 - accuracy: 0.8991 - val_loss: 0.3814 - val_accuracy: 0.8601\n",
            "Epoch 8/20\n",
            "48000/48000 [==============================] - 1s 22us/sample - loss: 0.2547 - accuracy: 0.9025 - val_loss: 0.3551 - val_accuracy: 0.8738\n",
            "Epoch 9/20\n",
            "48000/48000 [==============================] - 1s 23us/sample - loss: 0.2423 - accuracy: 0.9087 - val_loss: 0.3315 - val_accuracy: 0.8894\n",
            "Epoch 10/20\n",
            "48000/48000 [==============================] - 1s 22us/sample - loss: 0.2316 - accuracy: 0.9107 - val_loss: 0.3362 - val_accuracy: 0.8845\n",
            "Epoch 11/20\n",
            "48000/48000 [==============================] - 1s 22us/sample - loss: 0.2209 - accuracy: 0.9153 - val_loss: 0.3612 - val_accuracy: 0.8888\n",
            "Epoch 12/20\n",
            "48000/48000 [==============================] - 1s 22us/sample - loss: 0.2119 - accuracy: 0.9186 - val_loss: 0.3709 - val_accuracy: 0.8768\n",
            "Epoch 13/20\n",
            "48000/48000 [==============================] - 1s 21us/sample - loss: 0.2047 - accuracy: 0.9223 - val_loss: 0.3775 - val_accuracy: 0.8751\n",
            "Epoch 14/20\n",
            "48000/48000 [==============================] - 1s 21us/sample - loss: 0.1974 - accuracy: 0.9247 - val_loss: 0.4022 - val_accuracy: 0.8865\n",
            "Epoch 15/20\n",
            "48000/48000 [==============================] - 1s 23us/sample - loss: 0.1916 - accuracy: 0.9272 - val_loss: 0.3465 - val_accuracy: 0.8972\n",
            "Epoch 16/20\n",
            "48000/48000 [==============================] - 1s 22us/sample - loss: 0.1829 - accuracy: 0.9301 - val_loss: 0.3818 - val_accuracy: 0.8898\n",
            "Epoch 17/20\n",
            "48000/48000 [==============================] - 1s 21us/sample - loss: 0.1750 - accuracy: 0.9329 - val_loss: 0.3756 - val_accuracy: 0.8848\n",
            "Epoch 18/20\n",
            "48000/48000 [==============================] - 1s 22us/sample - loss: 0.1700 - accuracy: 0.9353 - val_loss: 0.3666 - val_accuracy: 0.8930\n",
            "Epoch 19/20\n",
            "48000/48000 [==============================] - 1s 22us/sample - loss: 0.1647 - accuracy: 0.9363 - val_loss: 0.4908 - val_accuracy: 0.8547\n",
            "Epoch 20/20\n",
            "48000/48000 [==============================] - 1s 21us/sample - loss: 0.1600 - accuracy: 0.9389 - val_loss: 0.4036 - val_accuracy: 0.8781\n"
          ],
          "name": "stdout"
        },
        {
          "output_type": "display_data",
          "data": {
            "text/html": [
              "<span style=\"color:#4527A0\"><h1 style=\"font-size:18px\">Trial complete</h1></span>"
            ],
            "text/plain": [
              "<IPython.core.display.HTML object>"
            ]
          },
          "metadata": {
            "tags": []
          }
        },
        {
          "output_type": "display_data",
          "data": {
            "text/html": [
              "<span style=\"color:#4527A0\"><h1 style=\"font-size:18px\">Trial summary</h1></span>"
            ],
            "text/plain": [
              "<IPython.core.display.HTML object>"
            ]
          },
          "metadata": {
            "tags": []
          }
        },
        {
          "output_type": "display_data",
          "data": {
            "text/html": [
              "<span style=\"color:cyan\"> |-Trial ID: e58c593d7f67d9594db8eb3b670a841a</span>"
            ],
            "text/plain": [
              "<IPython.core.display.HTML object>"
            ]
          },
          "metadata": {
            "tags": []
          }
        },
        {
          "output_type": "display_data",
          "data": {
            "text/html": [
              "<span style=\"color:cyan\"> |-Score: 0.8972499966621399</span>"
            ],
            "text/plain": [
              "<IPython.core.display.HTML object>"
            ]
          },
          "metadata": {
            "tags": []
          }
        },
        {
          "output_type": "display_data",
          "data": {
            "text/html": [
              "<span style=\"color:cyan\"> |-Best step: 0</span>"
            ],
            "text/plain": [
              "<IPython.core.display.HTML object>"
            ]
          },
          "metadata": {
            "tags": []
          }
        },
        {
          "output_type": "display_data",
          "data": {
            "text/html": [
              "<span style=\"color:#7E57C2\"><h2 style=\"font-size:16px\">Hyperparameters:</h2></span>"
            ],
            "text/plain": [
              "<IPython.core.display.HTML object>"
            ]
          },
          "metadata": {
            "tags": []
          }
        },
        {
          "output_type": "display_data",
          "data": {
            "text/html": [
              "<span style=\"color:cyan\"> |-activation: relu</span>"
            ],
            "text/plain": [
              "<IPython.core.display.HTML object>"
            ]
          },
          "metadata": {
            "tags": []
          }
        },
        {
          "output_type": "display_data",
          "data": {
            "text/html": [
              "<span style=\"color:blue\"> |-optimizer: rmsprop</span>"
            ],
            "text/plain": [
              "<IPython.core.display.HTML object>"
            ]
          },
          "metadata": {
            "tags": []
          }
        },
        {
          "output_type": "display_data",
          "data": {
            "text/html": [
              "<span style=\"color:cyan\"> |-units_hidden: 256</span>"
            ],
            "text/plain": [
              "<IPython.core.display.HTML object>"
            ]
          },
          "metadata": {
            "tags": []
          }
        },
        {
          "output_type": "display_data",
          "data": {
            "text/html": [
              "<span style=\"color:blue\"> |-units_input: 672</span>"
            ],
            "text/plain": [
              "<IPython.core.display.HTML object>"
            ]
          },
          "metadata": {
            "tags": []
          }
        },
        {
          "output_type": "stream",
          "text": [
            "Train on 48000 samples, validate on 12000 samples\n",
            "Epoch 1/20\n",
            "48000/48000 [==============================] - 1s 31us/sample - loss: 0.7598 - accuracy: 0.7378 - val_loss: 0.4825 - val_accuracy: 0.8259\n",
            "Epoch 2/20\n",
            "48000/48000 [==============================] - 1s 23us/sample - loss: 0.4605 - accuracy: 0.8261 - val_loss: 0.3831 - val_accuracy: 0.8601\n",
            "Epoch 3/20\n",
            "48000/48000 [==============================] - 1s 23us/sample - loss: 0.3934 - accuracy: 0.8538 - val_loss: 0.4124 - val_accuracy: 0.8565\n",
            "Epoch 4/20\n",
            "48000/48000 [==============================] - 1s 22us/sample - loss: 0.3577 - accuracy: 0.8653 - val_loss: 0.3613 - val_accuracy: 0.8642\n",
            "Epoch 5/20\n",
            "48000/48000 [==============================] - 1s 22us/sample - loss: 0.3332 - accuracy: 0.8741 - val_loss: 0.3737 - val_accuracy: 0.8576\n",
            "Epoch 6/20\n",
            "48000/48000 [==============================] - 1s 22us/sample - loss: 0.3122 - accuracy: 0.8838 - val_loss: 0.3705 - val_accuracy: 0.8612\n",
            "Epoch 7/20\n",
            "48000/48000 [==============================] - 1s 23us/sample - loss: 0.2965 - accuracy: 0.8885 - val_loss: 0.3321 - val_accuracy: 0.8758\n",
            "Epoch 8/20\n",
            "48000/48000 [==============================] - 1s 22us/sample - loss: 0.2810 - accuracy: 0.8944 - val_loss: 0.3768 - val_accuracy: 0.8662\n",
            "Epoch 9/20\n",
            "48000/48000 [==============================] - 1s 23us/sample - loss: 0.2702 - accuracy: 0.8981 - val_loss: 0.3351 - val_accuracy: 0.8759\n",
            "Epoch 10/20\n",
            "48000/48000 [==============================] - 1s 23us/sample - loss: 0.2567 - accuracy: 0.9027 - val_loss: 0.3567 - val_accuracy: 0.8723\n",
            "Epoch 11/20\n",
            "48000/48000 [==============================] - 1s 24us/sample - loss: 0.2459 - accuracy: 0.9071 - val_loss: 0.3150 - val_accuracy: 0.8859\n",
            "Epoch 12/20\n",
            "48000/48000 [==============================] - 1s 23us/sample - loss: 0.2367 - accuracy: 0.9104 - val_loss: 0.3794 - val_accuracy: 0.8679\n",
            "Epoch 13/20\n",
            "48000/48000 [==============================] - 1s 24us/sample - loss: 0.2276 - accuracy: 0.9146 - val_loss: 0.3393 - val_accuracy: 0.8833\n",
            "Epoch 14/20\n",
            "48000/48000 [==============================] - 1s 23us/sample - loss: 0.2198 - accuracy: 0.9175 - val_loss: 0.3133 - val_accuracy: 0.8871\n",
            "Epoch 15/20\n",
            "48000/48000 [==============================] - 1s 23us/sample - loss: 0.2149 - accuracy: 0.9187 - val_loss: 0.3456 - val_accuracy: 0.8766\n",
            "Epoch 16/20\n",
            "48000/48000 [==============================] - 1s 22us/sample - loss: 0.2052 - accuracy: 0.9223 - val_loss: 0.3439 - val_accuracy: 0.8748\n",
            "Epoch 17/20\n",
            "48000/48000 [==============================] - 1s 27us/sample - loss: 0.1999 - accuracy: 0.9247 - val_loss: 0.3542 - val_accuracy: 0.8767\n",
            "Epoch 18/20\n",
            "48000/48000 [==============================] - 1s 25us/sample - loss: 0.1928 - accuracy: 0.9268 - val_loss: 0.3740 - val_accuracy: 0.8677\n",
            "Epoch 19/20\n",
            "48000/48000 [==============================] - 1s 24us/sample - loss: 0.1854 - accuracy: 0.9300 - val_loss: 0.3498 - val_accuracy: 0.8805\n",
            "Epoch 20/20\n",
            "48000/48000 [==============================] - 1s 23us/sample - loss: 0.1793 - accuracy: 0.9320 - val_loss: 0.3047 - val_accuracy: 0.8931\n"
          ],
          "name": "stdout"
        },
        {
          "output_type": "display_data",
          "data": {
            "text/html": [
              "<span style=\"color:#4527A0\"><h1 style=\"font-size:18px\">Trial complete</h1></span>"
            ],
            "text/plain": [
              "<IPython.core.display.HTML object>"
            ]
          },
          "metadata": {
            "tags": []
          }
        },
        {
          "output_type": "display_data",
          "data": {
            "text/html": [
              "<span style=\"color:#4527A0\"><h1 style=\"font-size:18px\">Trial summary</h1></span>"
            ],
            "text/plain": [
              "<IPython.core.display.HTML object>"
            ]
          },
          "metadata": {
            "tags": []
          }
        },
        {
          "output_type": "display_data",
          "data": {
            "text/html": [
              "<span style=\"color:cyan\"> |-Trial ID: c79f4e265327d5ced386f82ee3fd6bfa</span>"
            ],
            "text/plain": [
              "<IPython.core.display.HTML object>"
            ]
          },
          "metadata": {
            "tags": []
          }
        },
        {
          "output_type": "display_data",
          "data": {
            "text/html": [
              "<span style=\"color:cyan\"> |-Score: 0.8930833339691162</span>"
            ],
            "text/plain": [
              "<IPython.core.display.HTML object>"
            ]
          },
          "metadata": {
            "tags": []
          }
        },
        {
          "output_type": "display_data",
          "data": {
            "text/html": [
              "<span style=\"color:cyan\"> |-Best step: 0</span>"
            ],
            "text/plain": [
              "<IPython.core.display.HTML object>"
            ]
          },
          "metadata": {
            "tags": []
          }
        },
        {
          "output_type": "display_data",
          "data": {
            "text/html": [
              "<span style=\"color:#7E57C2\"><h2 style=\"font-size:16px\">Hyperparameters:</h2></span>"
            ],
            "text/plain": [
              "<IPython.core.display.HTML object>"
            ]
          },
          "metadata": {
            "tags": []
          }
        },
        {
          "output_type": "display_data",
          "data": {
            "text/html": [
              "<span style=\"color:cyan\"> |-activation: tanh</span>"
            ],
            "text/plain": [
              "<IPython.core.display.HTML object>"
            ]
          },
          "metadata": {
            "tags": []
          }
        },
        {
          "output_type": "display_data",
          "data": {
            "text/html": [
              "<span style=\"color:blue\"> |-optimizer: rmsprop</span>"
            ],
            "text/plain": [
              "<IPython.core.display.HTML object>"
            ]
          },
          "metadata": {
            "tags": []
          }
        },
        {
          "output_type": "display_data",
          "data": {
            "text/html": [
              "<span style=\"color:cyan\"> |-units_hidden: 288</span>"
            ],
            "text/plain": [
              "<IPython.core.display.HTML object>"
            ]
          },
          "metadata": {
            "tags": []
          }
        },
        {
          "output_type": "display_data",
          "data": {
            "text/html": [
              "<span style=\"color:blue\"> |-units_input: 896</span>"
            ],
            "text/plain": [
              "<IPython.core.display.HTML object>"
            ]
          },
          "metadata": {
            "tags": []
          }
        },
        {
          "output_type": "stream",
          "text": [
            "Train on 48000 samples, validate on 12000 samples\n",
            "Epoch 1/20\n",
            "48000/48000 [==============================] - 1s 31us/sample - loss: 0.5375 - accuracy: 0.8072 - val_loss: 0.4516 - val_accuracy: 0.8307\n",
            "Epoch 2/20\n",
            "48000/48000 [==============================] - 1s 20us/sample - loss: 0.3946 - accuracy: 0.8576 - val_loss: 0.3922 - val_accuracy: 0.8588\n",
            "Epoch 3/20\n",
            "48000/48000 [==============================] - 1s 20us/sample - loss: 0.3543 - accuracy: 0.8701 - val_loss: 0.3710 - val_accuracy: 0.8659\n",
            "Epoch 4/20\n",
            "48000/48000 [==============================] - 1s 20us/sample - loss: 0.3269 - accuracy: 0.8785 - val_loss: 0.3382 - val_accuracy: 0.8740\n",
            "Epoch 5/20\n",
            "48000/48000 [==============================] - 1s 21us/sample - loss: 0.3089 - accuracy: 0.8864 - val_loss: 0.3438 - val_accuracy: 0.8750\n",
            "Epoch 6/20\n",
            "48000/48000 [==============================] - 1s 21us/sample - loss: 0.2892 - accuracy: 0.8918 - val_loss: 0.3192 - val_accuracy: 0.8829\n",
            "Epoch 7/20\n",
            "48000/48000 [==============================] - 1s 21us/sample - loss: 0.2692 - accuracy: 0.9005 - val_loss: 0.3093 - val_accuracy: 0.8863\n",
            "Epoch 8/20\n",
            "48000/48000 [==============================] - 1s 20us/sample - loss: 0.2592 - accuracy: 0.9042 - val_loss: 0.3156 - val_accuracy: 0.8848\n",
            "Epoch 9/20\n",
            "48000/48000 [==============================] - 1s 20us/sample - loss: 0.2444 - accuracy: 0.9094 - val_loss: 0.3099 - val_accuracy: 0.8863\n",
            "Epoch 10/20\n",
            "48000/48000 [==============================] - 1s 21us/sample - loss: 0.2353 - accuracy: 0.9123 - val_loss: 0.3027 - val_accuracy: 0.8890\n",
            "Epoch 11/20\n",
            "48000/48000 [==============================] - 1s 21us/sample - loss: 0.2252 - accuracy: 0.9148 - val_loss: 0.3054 - val_accuracy: 0.8889\n",
            "Epoch 12/20\n",
            "48000/48000 [==============================] - 1s 20us/sample - loss: 0.2195 - accuracy: 0.9192 - val_loss: 0.3014 - val_accuracy: 0.8874\n",
            "Epoch 13/20\n",
            "48000/48000 [==============================] - 1s 20us/sample - loss: 0.2077 - accuracy: 0.9225 - val_loss: 0.3054 - val_accuracy: 0.8874\n",
            "Epoch 14/20\n",
            "48000/48000 [==============================] - 1s 21us/sample - loss: 0.1975 - accuracy: 0.9265 - val_loss: 0.3005 - val_accuracy: 0.8950\n",
            "Epoch 15/20\n",
            "48000/48000 [==============================] - 1s 20us/sample - loss: 0.1909 - accuracy: 0.9284 - val_loss: 0.3119 - val_accuracy: 0.8908\n",
            "Epoch 16/20\n",
            "48000/48000 [==============================] - 1s 21us/sample - loss: 0.1831 - accuracy: 0.9331 - val_loss: 0.3020 - val_accuracy: 0.8926\n",
            "Epoch 17/20\n",
            "48000/48000 [==============================] - 1s 21us/sample - loss: 0.1755 - accuracy: 0.9348 - val_loss: 0.2915 - val_accuracy: 0.8950\n",
            "Epoch 18/20\n",
            "48000/48000 [==============================] - 1s 21us/sample - loss: 0.1699 - accuracy: 0.9377 - val_loss: 0.3073 - val_accuracy: 0.8923\n",
            "Epoch 19/20\n",
            "48000/48000 [==============================] - 1s 21us/sample - loss: 0.1641 - accuracy: 0.9399 - val_loss: 0.2965 - val_accuracy: 0.8957\n",
            "Epoch 20/20\n",
            "48000/48000 [==============================] - 1s 21us/sample - loss: 0.1507 - accuracy: 0.9453 - val_loss: 0.3009 - val_accuracy: 0.8968\n"
          ],
          "name": "stdout"
        },
        {
          "output_type": "display_data",
          "data": {
            "text/html": [
              "<span style=\"color:#4527A0\"><h1 style=\"font-size:18px\">Trial complete</h1></span>"
            ],
            "text/plain": [
              "<IPython.core.display.HTML object>"
            ]
          },
          "metadata": {
            "tags": []
          }
        },
        {
          "output_type": "display_data",
          "data": {
            "text/html": [
              "<span style=\"color:#4527A0\"><h1 style=\"font-size:18px\">Trial summary</h1></span>"
            ],
            "text/plain": [
              "<IPython.core.display.HTML object>"
            ]
          },
          "metadata": {
            "tags": []
          }
        },
        {
          "output_type": "display_data",
          "data": {
            "text/html": [
              "<span style=\"color:cyan\"> |-Trial ID: a4e75220b2d51dbdf0560806a71becfd</span>"
            ],
            "text/plain": [
              "<IPython.core.display.HTML object>"
            ]
          },
          "metadata": {
            "tags": []
          }
        },
        {
          "output_type": "display_data",
          "data": {
            "text/html": [
              "<span style=\"color:cyan\"> |-Score: 0.8968333601951599</span>"
            ],
            "text/plain": [
              "<IPython.core.display.HTML object>"
            ]
          },
          "metadata": {
            "tags": []
          }
        },
        {
          "output_type": "display_data",
          "data": {
            "text/html": [
              "<span style=\"color:cyan\"> |-Best step: 0</span>"
            ],
            "text/plain": [
              "<IPython.core.display.HTML object>"
            ]
          },
          "metadata": {
            "tags": []
          }
        },
        {
          "output_type": "display_data",
          "data": {
            "text/html": [
              "<span style=\"color:#7E57C2\"><h2 style=\"font-size:16px\">Hyperparameters:</h2></span>"
            ],
            "text/plain": [
              "<IPython.core.display.HTML object>"
            ]
          },
          "metadata": {
            "tags": []
          }
        },
        {
          "output_type": "display_data",
          "data": {
            "text/html": [
              "<span style=\"color:cyan\"> |-activation: tanh</span>"
            ],
            "text/plain": [
              "<IPython.core.display.HTML object>"
            ]
          },
          "metadata": {
            "tags": []
          }
        },
        {
          "output_type": "display_data",
          "data": {
            "text/html": [
              "<span style=\"color:blue\"> |-optimizer: adam</span>"
            ],
            "text/plain": [
              "<IPython.core.display.HTML object>"
            ]
          },
          "metadata": {
            "tags": []
          }
        },
        {
          "output_type": "display_data",
          "data": {
            "text/html": [
              "<span style=\"color:cyan\"> |-units_hidden: 288</span>"
            ],
            "text/plain": [
              "<IPython.core.display.HTML object>"
            ]
          },
          "metadata": {
            "tags": []
          }
        },
        {
          "output_type": "display_data",
          "data": {
            "text/html": [
              "<span style=\"color:blue\"> |-units_input: 544</span>"
            ],
            "text/plain": [
              "<IPython.core.display.HTML object>"
            ]
          },
          "metadata": {
            "tags": []
          }
        },
        {
          "output_type": "stream",
          "text": [
            "Train on 48000 samples, validate on 12000 samples\n",
            "Epoch 1/20\n",
            "48000/48000 [==============================] - 1s 27us/sample - loss: 1.0688 - accuracy: 0.6704 - val_loss: 0.7543 - val_accuracy: 0.7560\n",
            "Epoch 2/20\n",
            "48000/48000 [==============================] - 1s 21us/sample - loss: 0.6887 - accuracy: 0.7760 - val_loss: 0.6330 - val_accuracy: 0.7913\n",
            "Epoch 3/20\n",
            "48000/48000 [==============================] - 1s 21us/sample - loss: 0.6063 - accuracy: 0.7991 - val_loss: 0.5816 - val_accuracy: 0.8044\n",
            "Epoch 4/20\n",
            "48000/48000 [==============================] - 1s 22us/sample - loss: 0.5616 - accuracy: 0.8106 - val_loss: 0.5476 - val_accuracy: 0.8111\n",
            "Epoch 5/20\n",
            "48000/48000 [==============================] - 1s 22us/sample - loss: 0.5330 - accuracy: 0.8174 - val_loss: 0.5290 - val_accuracy: 0.8174\n",
            "Epoch 6/20\n",
            "48000/48000 [==============================] - 1s 21us/sample - loss: 0.5122 - accuracy: 0.8249 - val_loss: 0.5079 - val_accuracy: 0.8227\n",
            "Epoch 7/20\n",
            "48000/48000 [==============================] - 1s 21us/sample - loss: 0.4966 - accuracy: 0.8298 - val_loss: 0.4961 - val_accuracy: 0.8247\n",
            "Epoch 8/20\n",
            "48000/48000 [==============================] - 1s 22us/sample - loss: 0.4844 - accuracy: 0.8331 - val_loss: 0.4889 - val_accuracy: 0.8277\n",
            "Epoch 9/20\n",
            "48000/48000 [==============================] - 1s 21us/sample - loss: 0.4744 - accuracy: 0.8367 - val_loss: 0.4773 - val_accuracy: 0.8311\n",
            "Epoch 10/20\n",
            "48000/48000 [==============================] - 1s 22us/sample - loss: 0.4660 - accuracy: 0.8382 - val_loss: 0.4700 - val_accuracy: 0.8344\n",
            "Epoch 11/20\n",
            "48000/48000 [==============================] - 1s 20us/sample - loss: 0.4584 - accuracy: 0.8410 - val_loss: 0.4637 - val_accuracy: 0.8344\n",
            "Epoch 12/20\n",
            "48000/48000 [==============================] - 1s 21us/sample - loss: 0.4520 - accuracy: 0.8436 - val_loss: 0.4577 - val_accuracy: 0.8363\n",
            "Epoch 13/20\n",
            "48000/48000 [==============================] - 1s 21us/sample - loss: 0.4462 - accuracy: 0.8448 - val_loss: 0.4523 - val_accuracy: 0.8387\n",
            "Epoch 14/20\n",
            "48000/48000 [==============================] - 1s 21us/sample - loss: 0.4412 - accuracy: 0.8463 - val_loss: 0.4508 - val_accuracy: 0.8395\n",
            "Epoch 15/20\n",
            "48000/48000 [==============================] - 1s 22us/sample - loss: 0.4367 - accuracy: 0.8478 - val_loss: 0.4445 - val_accuracy: 0.8431\n",
            "Epoch 16/20\n",
            "48000/48000 [==============================] - 1s 21us/sample - loss: 0.4328 - accuracy: 0.8499 - val_loss: 0.4427 - val_accuracy: 0.8404\n",
            "Epoch 17/20\n",
            "48000/48000 [==============================] - 1s 21us/sample - loss: 0.4283 - accuracy: 0.8517 - val_loss: 0.4413 - val_accuracy: 0.8434\n",
            "Epoch 18/20\n",
            "48000/48000 [==============================] - 1s 21us/sample - loss: 0.4249 - accuracy: 0.8519 - val_loss: 0.4339 - val_accuracy: 0.8453\n",
            "Epoch 19/20\n",
            "48000/48000 [==============================] - 1s 21us/sample - loss: 0.4216 - accuracy: 0.8539 - val_loss: 0.4340 - val_accuracy: 0.8451\n",
            "Epoch 20/20\n",
            "48000/48000 [==============================] - 1s 22us/sample - loss: 0.4183 - accuracy: 0.8546 - val_loss: 0.4290 - val_accuracy: 0.8490\n"
          ],
          "name": "stdout"
        },
        {
          "output_type": "display_data",
          "data": {
            "text/html": [
              "<span style=\"color:#4527A0\"><h1 style=\"font-size:18px\">Trial complete</h1></span>"
            ],
            "text/plain": [
              "<IPython.core.display.HTML object>"
            ]
          },
          "metadata": {
            "tags": []
          }
        },
        {
          "output_type": "display_data",
          "data": {
            "text/html": [
              "<span style=\"color:#4527A0\"><h1 style=\"font-size:18px\">Trial summary</h1></span>"
            ],
            "text/plain": [
              "<IPython.core.display.HTML object>"
            ]
          },
          "metadata": {
            "tags": []
          }
        },
        {
          "output_type": "display_data",
          "data": {
            "text/html": [
              "<span style=\"color:cyan\"> |-Trial ID: 75ed8999eb7343758ac1f0cb0073de8b</span>"
            ],
            "text/plain": [
              "<IPython.core.display.HTML object>"
            ]
          },
          "metadata": {
            "tags": []
          }
        },
        {
          "output_type": "display_data",
          "data": {
            "text/html": [
              "<span style=\"color:cyan\"> |-Score: 0.8489999771118164</span>"
            ],
            "text/plain": [
              "<IPython.core.display.HTML object>"
            ]
          },
          "metadata": {
            "tags": []
          }
        },
        {
          "output_type": "display_data",
          "data": {
            "text/html": [
              "<span style=\"color:cyan\"> |-Best step: 0</span>"
            ],
            "text/plain": [
              "<IPython.core.display.HTML object>"
            ]
          },
          "metadata": {
            "tags": []
          }
        },
        {
          "output_type": "display_data",
          "data": {
            "text/html": [
              "<span style=\"color:#7E57C2\"><h2 style=\"font-size:16px\">Hyperparameters:</h2></span>"
            ],
            "text/plain": [
              "<IPython.core.display.HTML object>"
            ]
          },
          "metadata": {
            "tags": []
          }
        },
        {
          "output_type": "display_data",
          "data": {
            "text/html": [
              "<span style=\"color:cyan\"> |-activation: tanh</span>"
            ],
            "text/plain": [
              "<IPython.core.display.HTML object>"
            ]
          },
          "metadata": {
            "tags": []
          }
        },
        {
          "output_type": "display_data",
          "data": {
            "text/html": [
              "<span style=\"color:blue\"> |-optimizer: SGD</span>"
            ],
            "text/plain": [
              "<IPython.core.display.HTML object>"
            ]
          },
          "metadata": {
            "tags": []
          }
        },
        {
          "output_type": "display_data",
          "data": {
            "text/html": [
              "<span style=\"color:cyan\"> |-units_hidden: 448</span>"
            ],
            "text/plain": [
              "<IPython.core.display.HTML object>"
            ]
          },
          "metadata": {
            "tags": []
          }
        },
        {
          "output_type": "display_data",
          "data": {
            "text/html": [
              "<span style=\"color:blue\"> |-units_input: 832</span>"
            ],
            "text/plain": [
              "<IPython.core.display.HTML object>"
            ]
          },
          "metadata": {
            "tags": []
          }
        },
        {
          "output_type": "stream",
          "text": [
            "Train on 48000 samples, validate on 12000 samples\n",
            "Epoch 1/20\n",
            "48000/48000 [==============================] - 1s 28us/sample - loss: 1.0400 - accuracy: 0.6813 - val_loss: 0.7370 - val_accuracy: 0.7643\n",
            "Epoch 2/20\n",
            "48000/48000 [==============================] - 1s 23us/sample - loss: 0.6762 - accuracy: 0.7818 - val_loss: 0.6236 - val_accuracy: 0.7974\n",
            "Epoch 3/20\n",
            "48000/48000 [==============================] - 1s 22us/sample - loss: 0.5962 - accuracy: 0.8054 - val_loss: 0.5728 - val_accuracy: 0.8053\n",
            "Epoch 4/20\n",
            "48000/48000 [==============================] - 1s 22us/sample - loss: 0.5531 - accuracy: 0.8169 - val_loss: 0.5408 - val_accuracy: 0.8150\n",
            "Epoch 5/20\n",
            "48000/48000 [==============================] - 1s 23us/sample - loss: 0.5251 - accuracy: 0.8241 - val_loss: 0.5185 - val_accuracy: 0.8227\n",
            "Epoch 6/20\n",
            "48000/48000 [==============================] - 1s 23us/sample - loss: 0.5050 - accuracy: 0.8291 - val_loss: 0.5042 - val_accuracy: 0.8247\n",
            "Epoch 7/20\n",
            "48000/48000 [==============================] - 1s 22us/sample - loss: 0.4898 - accuracy: 0.8329 - val_loss: 0.4964 - val_accuracy: 0.8245\n",
            "Epoch 8/20\n",
            "48000/48000 [==============================] - 1s 22us/sample - loss: 0.4784 - accuracy: 0.8361 - val_loss: 0.4793 - val_accuracy: 0.8317\n",
            "Epoch 9/20\n",
            "48000/48000 [==============================] - 1s 23us/sample - loss: 0.4682 - accuracy: 0.8388 - val_loss: 0.4730 - val_accuracy: 0.8338\n",
            "Epoch 10/20\n",
            "48000/48000 [==============================] - 1s 22us/sample - loss: 0.4602 - accuracy: 0.8417 - val_loss: 0.4677 - val_accuracy: 0.8340\n",
            "Epoch 11/20\n",
            "48000/48000 [==============================] - 1s 22us/sample - loss: 0.4528 - accuracy: 0.8435 - val_loss: 0.4585 - val_accuracy: 0.8393\n",
            "Epoch 12/20\n",
            "48000/48000 [==============================] - 1s 22us/sample - loss: 0.4469 - accuracy: 0.8462 - val_loss: 0.4545 - val_accuracy: 0.8411\n",
            "Epoch 13/20\n",
            "48000/48000 [==============================] - 1s 25us/sample - loss: 0.4416 - accuracy: 0.8460 - val_loss: 0.4511 - val_accuracy: 0.8418\n",
            "Epoch 14/20\n",
            "48000/48000 [==============================] - 1s 25us/sample - loss: 0.4367 - accuracy: 0.8487 - val_loss: 0.4441 - val_accuracy: 0.8428\n",
            "Epoch 15/20\n",
            "48000/48000 [==============================] - 1s 22us/sample - loss: 0.4319 - accuracy: 0.8499 - val_loss: 0.4419 - val_accuracy: 0.8442\n",
            "Epoch 16/20\n",
            "48000/48000 [==============================] - 1s 22us/sample - loss: 0.4280 - accuracy: 0.8514 - val_loss: 0.4383 - val_accuracy: 0.8465\n",
            "Epoch 17/20\n",
            "48000/48000 [==============================] - 1s 23us/sample - loss: 0.4244 - accuracy: 0.8526 - val_loss: 0.4362 - val_accuracy: 0.8462\n",
            "Epoch 18/20\n",
            "48000/48000 [==============================] - 1s 22us/sample - loss: 0.4212 - accuracy: 0.8534 - val_loss: 0.4303 - val_accuracy: 0.8479\n",
            "Epoch 19/20\n",
            "48000/48000 [==============================] - 1s 21us/sample - loss: 0.4178 - accuracy: 0.8541 - val_loss: 0.4289 - val_accuracy: 0.8493\n",
            "Epoch 20/20\n",
            "48000/48000 [==============================] - 1s 21us/sample - loss: 0.4144 - accuracy: 0.8560 - val_loss: 0.4253 - val_accuracy: 0.8492\n"
          ],
          "name": "stdout"
        },
        {
          "output_type": "display_data",
          "data": {
            "text/html": [
              "<span style=\"color:#4527A0\"><h1 style=\"font-size:18px\">Trial complete</h1></span>"
            ],
            "text/plain": [
              "<IPython.core.display.HTML object>"
            ]
          },
          "metadata": {
            "tags": []
          }
        },
        {
          "output_type": "display_data",
          "data": {
            "text/html": [
              "<span style=\"color:#4527A0\"><h1 style=\"font-size:18px\">Trial summary</h1></span>"
            ],
            "text/plain": [
              "<IPython.core.display.HTML object>"
            ]
          },
          "metadata": {
            "tags": []
          }
        },
        {
          "output_type": "display_data",
          "data": {
            "text/html": [
              "<span style=\"color:cyan\"> |-Trial ID: 111f1a18b6d66a20f82aa565f71b9659</span>"
            ],
            "text/plain": [
              "<IPython.core.display.HTML object>"
            ]
          },
          "metadata": {
            "tags": []
          }
        },
        {
          "output_type": "display_data",
          "data": {
            "text/html": [
              "<span style=\"color:cyan\"> |-Score: 0.8492500185966492</span>"
            ],
            "text/plain": [
              "<IPython.core.display.HTML object>"
            ]
          },
          "metadata": {
            "tags": []
          }
        },
        {
          "output_type": "display_data",
          "data": {
            "text/html": [
              "<span style=\"color:cyan\"> |-Best step: 0</span>"
            ],
            "text/plain": [
              "<IPython.core.display.HTML object>"
            ]
          },
          "metadata": {
            "tags": []
          }
        },
        {
          "output_type": "display_data",
          "data": {
            "text/html": [
              "<span style=\"color:#7E57C2\"><h2 style=\"font-size:16px\">Hyperparameters:</h2></span>"
            ],
            "text/plain": [
              "<IPython.core.display.HTML object>"
            ]
          },
          "metadata": {
            "tags": []
          }
        },
        {
          "output_type": "display_data",
          "data": {
            "text/html": [
              "<span style=\"color:cyan\"> |-activation: tanh</span>"
            ],
            "text/plain": [
              "<IPython.core.display.HTML object>"
            ]
          },
          "metadata": {
            "tags": []
          }
        },
        {
          "output_type": "display_data",
          "data": {
            "text/html": [
              "<span style=\"color:blue\"> |-optimizer: SGD</span>"
            ],
            "text/plain": [
              "<IPython.core.display.HTML object>"
            ]
          },
          "metadata": {
            "tags": []
          }
        },
        {
          "output_type": "display_data",
          "data": {
            "text/html": [
              "<span style=\"color:cyan\"> |-units_hidden: 512</span>"
            ],
            "text/plain": [
              "<IPython.core.display.HTML object>"
            ]
          },
          "metadata": {
            "tags": []
          }
        },
        {
          "output_type": "display_data",
          "data": {
            "text/html": [
              "<span style=\"color:blue\"> |-units_input: 928</span>"
            ],
            "text/plain": [
              "<IPython.core.display.HTML object>"
            ]
          },
          "metadata": {
            "tags": []
          }
        },
        {
          "output_type": "stream",
          "text": [
            "Train on 48000 samples, validate on 12000 samples\n",
            "Epoch 1/20\n",
            "48000/48000 [==============================] - 1s 27us/sample - loss: 1.0344 - accuracy: 0.6921 - val_loss: 0.7335 - val_accuracy: 0.7664\n",
            "Epoch 2/20\n",
            "48000/48000 [==============================] - 1s 21us/sample - loss: 0.6735 - accuracy: 0.7849 - val_loss: 0.6236 - val_accuracy: 0.7956\n",
            "Epoch 3/20\n",
            "48000/48000 [==============================] - 1s 22us/sample - loss: 0.5942 - accuracy: 0.8065 - val_loss: 0.5699 - val_accuracy: 0.8105\n",
            "Epoch 4/20\n",
            "48000/48000 [==============================] - 1s 21us/sample - loss: 0.5518 - accuracy: 0.8177 - val_loss: 0.5384 - val_accuracy: 0.8175\n",
            "Epoch 5/20\n",
            "48000/48000 [==============================] - 1s 21us/sample - loss: 0.5244 - accuracy: 0.8254 - val_loss: 0.5200 - val_accuracy: 0.8220\n",
            "Epoch 6/20\n",
            "48000/48000 [==============================] - 1s 22us/sample - loss: 0.5050 - accuracy: 0.8291 - val_loss: 0.5011 - val_accuracy: 0.8278\n",
            "Epoch 7/20\n",
            "48000/48000 [==============================] - 1s 21us/sample - loss: 0.4905 - accuracy: 0.8329 - val_loss: 0.4889 - val_accuracy: 0.8286\n",
            "Epoch 8/20\n",
            "48000/48000 [==============================] - 1s 21us/sample - loss: 0.4782 - accuracy: 0.8366 - val_loss: 0.4819 - val_accuracy: 0.8299\n",
            "Epoch 9/20\n",
            "48000/48000 [==============================] - 1s 21us/sample - loss: 0.4687 - accuracy: 0.8385 - val_loss: 0.4699 - val_accuracy: 0.8333\n",
            "Epoch 10/20\n",
            "48000/48000 [==============================] - 1s 21us/sample - loss: 0.4602 - accuracy: 0.8415 - val_loss: 0.4638 - val_accuracy: 0.8353\n",
            "Epoch 11/20\n",
            "48000/48000 [==============================] - 1s 21us/sample - loss: 0.4528 - accuracy: 0.8440 - val_loss: 0.4581 - val_accuracy: 0.8362\n",
            "Epoch 12/20\n",
            "48000/48000 [==============================] - 1s 21us/sample - loss: 0.4467 - accuracy: 0.8456 - val_loss: 0.4535 - val_accuracy: 0.8414\n",
            "Epoch 13/20\n",
            "48000/48000 [==============================] - 1s 24us/sample - loss: 0.4412 - accuracy: 0.8461 - val_loss: 0.4510 - val_accuracy: 0.8383\n",
            "Epoch 14/20\n",
            "48000/48000 [==============================] - 1s 22us/sample - loss: 0.4365 - accuracy: 0.8477 - val_loss: 0.4438 - val_accuracy: 0.8433\n",
            "Epoch 15/20\n",
            "48000/48000 [==============================] - 1s 21us/sample - loss: 0.4315 - accuracy: 0.8490 - val_loss: 0.4409 - val_accuracy: 0.8429\n",
            "Epoch 16/20\n",
            "48000/48000 [==============================] - 1s 22us/sample - loss: 0.4277 - accuracy: 0.8504 - val_loss: 0.4366 - val_accuracy: 0.8450\n",
            "Epoch 17/20\n",
            "48000/48000 [==============================] - 1s 22us/sample - loss: 0.4236 - accuracy: 0.8524 - val_loss: 0.4387 - val_accuracy: 0.8453\n",
            "Epoch 18/20\n",
            "48000/48000 [==============================] - 1s 22us/sample - loss: 0.4205 - accuracy: 0.8535 - val_loss: 0.4333 - val_accuracy: 0.8456\n",
            "Epoch 19/20\n",
            "48000/48000 [==============================] - 1s 21us/sample - loss: 0.4171 - accuracy: 0.8544 - val_loss: 0.4282 - val_accuracy: 0.8497\n",
            "Epoch 20/20\n",
            "48000/48000 [==============================] - 1s 22us/sample - loss: 0.4139 - accuracy: 0.8556 - val_loss: 0.4275 - val_accuracy: 0.8497\n"
          ],
          "name": "stdout"
        },
        {
          "output_type": "display_data",
          "data": {
            "text/html": [
              "<span style=\"color:#4527A0\"><h1 style=\"font-size:18px\">Trial complete</h1></span>"
            ],
            "text/plain": [
              "<IPython.core.display.HTML object>"
            ]
          },
          "metadata": {
            "tags": []
          }
        },
        {
          "output_type": "display_data",
          "data": {
            "text/html": [
              "<span style=\"color:#4527A0\"><h1 style=\"font-size:18px\">Trial summary</h1></span>"
            ],
            "text/plain": [
              "<IPython.core.display.HTML object>"
            ]
          },
          "metadata": {
            "tags": []
          }
        },
        {
          "output_type": "display_data",
          "data": {
            "text/html": [
              "<span style=\"color:cyan\"> |-Trial ID: 17f11ae8e1b181b58f9d88ac5cb391a2</span>"
            ],
            "text/plain": [
              "<IPython.core.display.HTML object>"
            ]
          },
          "metadata": {
            "tags": []
          }
        },
        {
          "output_type": "display_data",
          "data": {
            "text/html": [
              "<span style=\"color:cyan\"> |-Score: 0.8497499823570251</span>"
            ],
            "text/plain": [
              "<IPython.core.display.HTML object>"
            ]
          },
          "metadata": {
            "tags": []
          }
        },
        {
          "output_type": "display_data",
          "data": {
            "text/html": [
              "<span style=\"color:cyan\"> |-Best step: 0</span>"
            ],
            "text/plain": [
              "<IPython.core.display.HTML object>"
            ]
          },
          "metadata": {
            "tags": []
          }
        },
        {
          "output_type": "display_data",
          "data": {
            "text/html": [
              "<span style=\"color:#7E57C2\"><h2 style=\"font-size:16px\">Hyperparameters:</h2></span>"
            ],
            "text/plain": [
              "<IPython.core.display.HTML object>"
            ]
          },
          "metadata": {
            "tags": []
          }
        },
        {
          "output_type": "display_data",
          "data": {
            "text/html": [
              "<span style=\"color:cyan\"> |-activation: tanh</span>"
            ],
            "text/plain": [
              "<IPython.core.display.HTML object>"
            ]
          },
          "metadata": {
            "tags": []
          }
        },
        {
          "output_type": "display_data",
          "data": {
            "text/html": [
              "<span style=\"color:blue\"> |-optimizer: SGD</span>"
            ],
            "text/plain": [
              "<IPython.core.display.HTML object>"
            ]
          },
          "metadata": {
            "tags": []
          }
        },
        {
          "output_type": "display_data",
          "data": {
            "text/html": [
              "<span style=\"color:cyan\"> |-units_hidden: 448</span>"
            ],
            "text/plain": [
              "<IPython.core.display.HTML object>"
            ]
          },
          "metadata": {
            "tags": []
          }
        },
        {
          "output_type": "display_data",
          "data": {
            "text/html": [
              "<span style=\"color:blue\"> |-units_input: 960</span>"
            ],
            "text/plain": [
              "<IPython.core.display.HTML object>"
            ]
          },
          "metadata": {
            "tags": []
          }
        },
        {
          "output_type": "stream",
          "text": [
            "Train on 48000 samples, validate on 12000 samples\n",
            "Epoch 1/20\n",
            "48000/48000 [==============================] - 1s 29us/sample - loss: 0.7997 - accuracy: 0.7285 - val_loss: 0.5394 - val_accuracy: 0.8013\n",
            "Epoch 2/20\n",
            "48000/48000 [==============================] - 1s 21us/sample - loss: 0.4836 - accuracy: 0.8239 - val_loss: 0.5318 - val_accuracy: 0.7987\n",
            "Epoch 3/20\n",
            "48000/48000 [==============================] - 1s 21us/sample - loss: 0.4303 - accuracy: 0.8440 - val_loss: 0.4540 - val_accuracy: 0.8312\n",
            "Epoch 4/20\n",
            "48000/48000 [==============================] - 1s 21us/sample - loss: 0.4035 - accuracy: 0.8522 - val_loss: 0.4123 - val_accuracy: 0.8474\n",
            "Epoch 5/20\n",
            "48000/48000 [==============================] - 1s 20us/sample - loss: 0.3821 - accuracy: 0.8602 - val_loss: 0.3937 - val_accuracy: 0.8572\n",
            "Epoch 6/20\n",
            "48000/48000 [==============================] - 1s 22us/sample - loss: 0.3658 - accuracy: 0.8672 - val_loss: 0.3749 - val_accuracy: 0.8611\n",
            "Epoch 7/20\n",
            "48000/48000 [==============================] - 1s 21us/sample - loss: 0.3510 - accuracy: 0.8711 - val_loss: 0.3546 - val_accuracy: 0.8690\n",
            "Epoch 8/20\n",
            "48000/48000 [==============================] - 1s 20us/sample - loss: 0.3390 - accuracy: 0.8753 - val_loss: 0.3730 - val_accuracy: 0.8668\n",
            "Epoch 9/20\n",
            "48000/48000 [==============================] - 1s 22us/sample - loss: 0.3261 - accuracy: 0.8801 - val_loss: 0.3480 - val_accuracy: 0.8703\n",
            "Epoch 10/20\n",
            "48000/48000 [==============================] - 1s 21us/sample - loss: 0.3190 - accuracy: 0.8838 - val_loss: 0.3415 - val_accuracy: 0.8742\n",
            "Epoch 11/20\n",
            "48000/48000 [==============================] - 1s 21us/sample - loss: 0.3094 - accuracy: 0.8865 - val_loss: 0.3877 - val_accuracy: 0.8562\n",
            "Epoch 12/20\n",
            "48000/48000 [==============================] - 1s 21us/sample - loss: 0.3003 - accuracy: 0.8897 - val_loss: 0.3508 - val_accuracy: 0.8689\n",
            "Epoch 13/20\n",
            "48000/48000 [==============================] - 1s 20us/sample - loss: 0.2922 - accuracy: 0.8919 - val_loss: 0.3624 - val_accuracy: 0.8715\n",
            "Epoch 14/20\n",
            "48000/48000 [==============================] - 1s 21us/sample - loss: 0.2852 - accuracy: 0.8933 - val_loss: 0.3420 - val_accuracy: 0.8756\n",
            "Epoch 15/20\n",
            "48000/48000 [==============================] - 1s 20us/sample - loss: 0.2784 - accuracy: 0.8970 - val_loss: 0.3565 - val_accuracy: 0.8705\n",
            "Epoch 16/20\n",
            "48000/48000 [==============================] - 1s 21us/sample - loss: 0.2717 - accuracy: 0.8992 - val_loss: 0.3229 - val_accuracy: 0.8823\n",
            "Epoch 17/20\n",
            "48000/48000 [==============================] - 1s 20us/sample - loss: 0.2648 - accuracy: 0.9006 - val_loss: 0.3436 - val_accuracy: 0.8761\n",
            "Epoch 18/20\n",
            "48000/48000 [==============================] - 1s 20us/sample - loss: 0.2587 - accuracy: 0.9031 - val_loss: 0.3250 - val_accuracy: 0.8790\n",
            "Epoch 19/20\n",
            "48000/48000 [==============================] - 1s 20us/sample - loss: 0.2523 - accuracy: 0.9052 - val_loss: 0.3282 - val_accuracy: 0.8813\n",
            "Epoch 20/20\n",
            "48000/48000 [==============================] - 1s 20us/sample - loss: 0.2478 - accuracy: 0.9079 - val_loss: 0.3390 - val_accuracy: 0.8781\n"
          ],
          "name": "stdout"
        },
        {
          "output_type": "display_data",
          "data": {
            "text/html": [
              "<span style=\"color:#4527A0\"><h1 style=\"font-size:18px\">Trial complete</h1></span>"
            ],
            "text/plain": [
              "<IPython.core.display.HTML object>"
            ]
          },
          "metadata": {
            "tags": []
          }
        },
        {
          "output_type": "display_data",
          "data": {
            "text/html": [
              "<span style=\"color:#4527A0\"><h1 style=\"font-size:18px\">Trial summary</h1></span>"
            ],
            "text/plain": [
              "<IPython.core.display.HTML object>"
            ]
          },
          "metadata": {
            "tags": []
          }
        },
        {
          "output_type": "display_data",
          "data": {
            "text/html": [
              "<span style=\"color:cyan\"> |-Trial ID: 4b62b59c5ba50af79e2f79e276129032</span>"
            ],
            "text/plain": [
              "<IPython.core.display.HTML object>"
            ]
          },
          "metadata": {
            "tags": []
          }
        },
        {
          "output_type": "display_data",
          "data": {
            "text/html": [
              "<span style=\"color:cyan\"> |-Score: 0.8822500109672546</span>"
            ],
            "text/plain": [
              "<IPython.core.display.HTML object>"
            ]
          },
          "metadata": {
            "tags": []
          }
        },
        {
          "output_type": "display_data",
          "data": {
            "text/html": [
              "<span style=\"color:cyan\"> |-Best step: 0</span>"
            ],
            "text/plain": [
              "<IPython.core.display.HTML object>"
            ]
          },
          "metadata": {
            "tags": []
          }
        },
        {
          "output_type": "display_data",
          "data": {
            "text/html": [
              "<span style=\"color:#7E57C2\"><h2 style=\"font-size:16px\">Hyperparameters:</h2></span>"
            ],
            "text/plain": [
              "<IPython.core.display.HTML object>"
            ]
          },
          "metadata": {
            "tags": []
          }
        },
        {
          "output_type": "display_data",
          "data": {
            "text/html": [
              "<span style=\"color:cyan\"> |-activation: sigmoid</span>"
            ],
            "text/plain": [
              "<IPython.core.display.HTML object>"
            ]
          },
          "metadata": {
            "tags": []
          }
        },
        {
          "output_type": "display_data",
          "data": {
            "text/html": [
              "<span style=\"color:blue\"> |-optimizer: rmsprop</span>"
            ],
            "text/plain": [
              "<IPython.core.display.HTML object>"
            ]
          },
          "metadata": {
            "tags": []
          }
        },
        {
          "output_type": "display_data",
          "data": {
            "text/html": [
              "<span style=\"color:cyan\"> |-units_hidden: 160</span>"
            ],
            "text/plain": [
              "<IPython.core.display.HTML object>"
            ]
          },
          "metadata": {
            "tags": []
          }
        },
        {
          "output_type": "display_data",
          "data": {
            "text/html": [
              "<span style=\"color:blue\"> |-units_input: 544</span>"
            ],
            "text/plain": [
              "<IPython.core.display.HTML object>"
            ]
          },
          "metadata": {
            "tags": []
          }
        },
        {
          "output_type": "stream",
          "text": [
            "Train on 48000 samples, validate on 12000 samples\n",
            "Epoch 1/20\n",
            "48000/48000 [==============================] - 1s 25us/sample - loss: 0.8368 - accuracy: 0.7228 - val_loss: 0.6178 - val_accuracy: 0.7923\n",
            "Epoch 2/20\n",
            "48000/48000 [==============================] - 1s 20us/sample - loss: 0.5702 - accuracy: 0.8071 - val_loss: 0.5385 - val_accuracy: 0.8152\n",
            "Epoch 3/20\n",
            "48000/48000 [==============================] - 1s 20us/sample - loss: 0.5165 - accuracy: 0.8242 - val_loss: 0.5155 - val_accuracy: 0.8152\n",
            "Epoch 4/20\n",
            "48000/48000 [==============================] - 1s 20us/sample - loss: 0.4872 - accuracy: 0.8322 - val_loss: 0.4873 - val_accuracy: 0.8284\n",
            "Epoch 5/20\n",
            "48000/48000 [==============================] - 1s 20us/sample - loss: 0.4676 - accuracy: 0.8390 - val_loss: 0.4626 - val_accuracy: 0.8381\n",
            "Epoch 6/20\n",
            "48000/48000 [==============================] - 1s 21us/sample - loss: 0.4531 - accuracy: 0.8434 - val_loss: 0.4578 - val_accuracy: 0.8389\n",
            "Epoch 7/20\n",
            "48000/48000 [==============================] - 1s 22us/sample - loss: 0.4427 - accuracy: 0.8474 - val_loss: 0.4472 - val_accuracy: 0.8414\n",
            "Epoch 8/20\n",
            "48000/48000 [==============================] - 1s 21us/sample - loss: 0.4329 - accuracy: 0.8497 - val_loss: 0.4461 - val_accuracy: 0.8423\n",
            "Epoch 9/20\n",
            "48000/48000 [==============================] - 1s 21us/sample - loss: 0.4253 - accuracy: 0.8514 - val_loss: 0.4327 - val_accuracy: 0.8473\n",
            "Epoch 10/20\n",
            "48000/48000 [==============================] - 1s 23us/sample - loss: 0.4190 - accuracy: 0.8535 - val_loss: 0.4421 - val_accuracy: 0.8416\n",
            "Epoch 11/20\n",
            "48000/48000 [==============================] - 1s 23us/sample - loss: 0.4143 - accuracy: 0.8547 - val_loss: 0.4263 - val_accuracy: 0.8482\n",
            "Epoch 12/20\n",
            "48000/48000 [==============================] - 1s 20us/sample - loss: 0.4084 - accuracy: 0.8574 - val_loss: 0.4277 - val_accuracy: 0.8511\n",
            "Epoch 13/20\n",
            "48000/48000 [==============================] - 1s 20us/sample - loss: 0.4039 - accuracy: 0.8594 - val_loss: 0.4191 - val_accuracy: 0.8528\n",
            "Epoch 14/20\n",
            "48000/48000 [==============================] - 1s 20us/sample - loss: 0.4001 - accuracy: 0.8598 - val_loss: 0.4287 - val_accuracy: 0.8462\n",
            "Epoch 15/20\n",
            "48000/48000 [==============================] - 1s 22us/sample - loss: 0.3960 - accuracy: 0.8621 - val_loss: 0.4062 - val_accuracy: 0.8572\n",
            "Epoch 16/20\n",
            "48000/48000 [==============================] - 1s 20us/sample - loss: 0.3924 - accuracy: 0.8621 - val_loss: 0.4079 - val_accuracy: 0.8553\n",
            "Epoch 17/20\n",
            "48000/48000 [==============================] - 1s 20us/sample - loss: 0.3891 - accuracy: 0.8641 - val_loss: 0.4026 - val_accuracy: 0.8590\n",
            "Epoch 18/20\n",
            "48000/48000 [==============================] - 1s 20us/sample - loss: 0.3851 - accuracy: 0.8649 - val_loss: 0.3986 - val_accuracy: 0.8587\n",
            "Epoch 19/20\n",
            "48000/48000 [==============================] - 1s 20us/sample - loss: 0.3822 - accuracy: 0.8664 - val_loss: 0.4070 - val_accuracy: 0.8558\n",
            "Epoch 20/20\n",
            "48000/48000 [==============================] - 1s 20us/sample - loss: 0.3802 - accuracy: 0.8673 - val_loss: 0.4039 - val_accuracy: 0.8568\n"
          ],
          "name": "stdout"
        },
        {
          "output_type": "display_data",
          "data": {
            "text/html": [
              "<span style=\"color:#4527A0\"><h1 style=\"font-size:18px\">Trial complete</h1></span>"
            ],
            "text/plain": [
              "<IPython.core.display.HTML object>"
            ]
          },
          "metadata": {
            "tags": []
          }
        },
        {
          "output_type": "display_data",
          "data": {
            "text/html": [
              "<span style=\"color:#4527A0\"><h1 style=\"font-size:18px\">Trial summary</h1></span>"
            ],
            "text/plain": [
              "<IPython.core.display.HTML object>"
            ]
          },
          "metadata": {
            "tags": []
          }
        },
        {
          "output_type": "display_data",
          "data": {
            "text/html": [
              "<span style=\"color:cyan\"> |-Trial ID: 6c2ed8076272aba393795b5eda5dc369</span>"
            ],
            "text/plain": [
              "<IPython.core.display.HTML object>"
            ]
          },
          "metadata": {
            "tags": []
          }
        },
        {
          "output_type": "display_data",
          "data": {
            "text/html": [
              "<span style=\"color:cyan\"> |-Score: 0.859000027179718</span>"
            ],
            "text/plain": [
              "<IPython.core.display.HTML object>"
            ]
          },
          "metadata": {
            "tags": []
          }
        },
        {
          "output_type": "display_data",
          "data": {
            "text/html": [
              "<span style=\"color:cyan\"> |-Best step: 0</span>"
            ],
            "text/plain": [
              "<IPython.core.display.HTML object>"
            ]
          },
          "metadata": {
            "tags": []
          }
        },
        {
          "output_type": "display_data",
          "data": {
            "text/html": [
              "<span style=\"color:#7E57C2\"><h2 style=\"font-size:16px\">Hyperparameters:</h2></span>"
            ],
            "text/plain": [
              "<IPython.core.display.HTML object>"
            ]
          },
          "metadata": {
            "tags": []
          }
        },
        {
          "output_type": "display_data",
          "data": {
            "text/html": [
              "<span style=\"color:cyan\"> |-activation: selu</span>"
            ],
            "text/plain": [
              "<IPython.core.display.HTML object>"
            ]
          },
          "metadata": {
            "tags": []
          }
        },
        {
          "output_type": "display_data",
          "data": {
            "text/html": [
              "<span style=\"color:blue\"> |-optimizer: SGD</span>"
            ],
            "text/plain": [
              "<IPython.core.display.HTML object>"
            ]
          },
          "metadata": {
            "tags": []
          }
        },
        {
          "output_type": "display_data",
          "data": {
            "text/html": [
              "<span style=\"color:cyan\"> |-units_hidden: 160</span>"
            ],
            "text/plain": [
              "<IPython.core.display.HTML object>"
            ]
          },
          "metadata": {
            "tags": []
          }
        },
        {
          "output_type": "display_data",
          "data": {
            "text/html": [
              "<span style=\"color:blue\"> |-units_input: 864</span>"
            ],
            "text/plain": [
              "<IPython.core.display.HTML object>"
            ]
          },
          "metadata": {
            "tags": []
          }
        },
        {
          "output_type": "stream",
          "text": [
            "Train on 48000 samples, validate on 12000 samples\n",
            "Epoch 1/20\n",
            "48000/48000 [==============================] - 1s 28us/sample - loss: 0.7792 - accuracy: 0.7339 - val_loss: 0.5076 - val_accuracy: 0.8155\n",
            "Epoch 2/20\n",
            "48000/48000 [==============================] - 1s 21us/sample - loss: 0.4577 - accuracy: 0.8359 - val_loss: 0.4296 - val_accuracy: 0.8446\n",
            "Epoch 3/20\n",
            "48000/48000 [==============================] - 1s 21us/sample - loss: 0.4076 - accuracy: 0.8538 - val_loss: 0.4151 - val_accuracy: 0.8462\n",
            "Epoch 4/20\n",
            "48000/48000 [==============================] - 1s 20us/sample - loss: 0.3847 - accuracy: 0.8624 - val_loss: 0.3786 - val_accuracy: 0.8621\n",
            "Epoch 5/20\n",
            "48000/48000 [==============================] - 1s 21us/sample - loss: 0.3667 - accuracy: 0.8680 - val_loss: 0.3713 - val_accuracy: 0.8643\n",
            "Epoch 6/20\n",
            "48000/48000 [==============================] - 1s 20us/sample - loss: 0.3490 - accuracy: 0.8741 - val_loss: 0.3673 - val_accuracy: 0.8659\n",
            "Epoch 7/20\n",
            "48000/48000 [==============================] - 1s 21us/sample - loss: 0.3333 - accuracy: 0.8800 - val_loss: 0.3491 - val_accuracy: 0.8716\n",
            "Epoch 8/20\n",
            "48000/48000 [==============================] - 1s 20us/sample - loss: 0.3218 - accuracy: 0.8825 - val_loss: 0.3529 - val_accuracy: 0.8682\n",
            "Epoch 9/20\n",
            "48000/48000 [==============================] - 1s 21us/sample - loss: 0.3126 - accuracy: 0.8863 - val_loss: 0.3431 - val_accuracy: 0.8722\n",
            "Epoch 10/20\n",
            "48000/48000 [==============================] - 1s 20us/sample - loss: 0.3039 - accuracy: 0.8891 - val_loss: 0.3295 - val_accuracy: 0.8796\n",
            "Epoch 11/20\n",
            "48000/48000 [==============================] - 1s 23us/sample - loss: 0.2960 - accuracy: 0.8914 - val_loss: 0.3202 - val_accuracy: 0.8819\n",
            "Epoch 12/20\n",
            "48000/48000 [==============================] - 1s 20us/sample - loss: 0.2824 - accuracy: 0.8963 - val_loss: 0.3259 - val_accuracy: 0.8807\n",
            "Epoch 13/20\n",
            "48000/48000 [==============================] - 1s 21us/sample - loss: 0.2754 - accuracy: 0.8985 - val_loss: 0.3192 - val_accuracy: 0.8826\n",
            "Epoch 14/20\n",
            "48000/48000 [==============================] - 1s 21us/sample - loss: 0.2675 - accuracy: 0.9012 - val_loss: 0.3138 - val_accuracy: 0.8859\n",
            "Epoch 15/20\n",
            "48000/48000 [==============================] - 1s 20us/sample - loss: 0.2623 - accuracy: 0.9019 - val_loss: 0.3362 - val_accuracy: 0.8790\n",
            "Epoch 16/20\n",
            "48000/48000 [==============================] - 1s 23us/sample - loss: 0.2542 - accuracy: 0.9062 - val_loss: 0.3055 - val_accuracy: 0.8889\n",
            "Epoch 17/20\n",
            "48000/48000 [==============================] - 1s 20us/sample - loss: 0.2432 - accuracy: 0.9103 - val_loss: 0.3237 - val_accuracy: 0.8847\n",
            "Epoch 18/20\n",
            "48000/48000 [==============================] - 1s 20us/sample - loss: 0.2399 - accuracy: 0.9110 - val_loss: 0.3078 - val_accuracy: 0.8902\n",
            "Epoch 19/20\n",
            "48000/48000 [==============================] - 1s 21us/sample - loss: 0.2356 - accuracy: 0.9121 - val_loss: 0.3234 - val_accuracy: 0.8852\n",
            "Epoch 20/20\n",
            "48000/48000 [==============================] - 1s 20us/sample - loss: 0.2306 - accuracy: 0.9144 - val_loss: 0.3234 - val_accuracy: 0.8868\n"
          ],
          "name": "stdout"
        },
        {
          "output_type": "display_data",
          "data": {
            "text/html": [
              "<span style=\"color:#4527A0\"><h1 style=\"font-size:18px\">Trial complete</h1></span>"
            ],
            "text/plain": [
              "<IPython.core.display.HTML object>"
            ]
          },
          "metadata": {
            "tags": []
          }
        },
        {
          "output_type": "display_data",
          "data": {
            "text/html": [
              "<span style=\"color:#4527A0\"><h1 style=\"font-size:18px\">Trial summary</h1></span>"
            ],
            "text/plain": [
              "<IPython.core.display.HTML object>"
            ]
          },
          "metadata": {
            "tags": []
          }
        },
        {
          "output_type": "display_data",
          "data": {
            "text/html": [
              "<span style=\"color:cyan\"> |-Trial ID: 99d9fbff74e0432a840c443cc7b75ee8</span>"
            ],
            "text/plain": [
              "<IPython.core.display.HTML object>"
            ]
          },
          "metadata": {
            "tags": []
          }
        },
        {
          "output_type": "display_data",
          "data": {
            "text/html": [
              "<span style=\"color:cyan\"> |-Score: 0.8901666402816772</span>"
            ],
            "text/plain": [
              "<IPython.core.display.HTML object>"
            ]
          },
          "metadata": {
            "tags": []
          }
        },
        {
          "output_type": "display_data",
          "data": {
            "text/html": [
              "<span style=\"color:cyan\"> |-Best step: 0</span>"
            ],
            "text/plain": [
              "<IPython.core.display.HTML object>"
            ]
          },
          "metadata": {
            "tags": []
          }
        },
        {
          "output_type": "display_data",
          "data": {
            "text/html": [
              "<span style=\"color:#7E57C2\"><h2 style=\"font-size:16px\">Hyperparameters:</h2></span>"
            ],
            "text/plain": [
              "<IPython.core.display.HTML object>"
            ]
          },
          "metadata": {
            "tags": []
          }
        },
        {
          "output_type": "display_data",
          "data": {
            "text/html": [
              "<span style=\"color:cyan\"> |-activation: sigmoid</span>"
            ],
            "text/plain": [
              "<IPython.core.display.HTML object>"
            ]
          },
          "metadata": {
            "tags": []
          }
        },
        {
          "output_type": "display_data",
          "data": {
            "text/html": [
              "<span style=\"color:blue\"> |-optimizer: adam</span>"
            ],
            "text/plain": [
              "<IPython.core.display.HTML object>"
            ]
          },
          "metadata": {
            "tags": []
          }
        },
        {
          "output_type": "display_data",
          "data": {
            "text/html": [
              "<span style=\"color:cyan\"> |-units_hidden: 352</span>"
            ],
            "text/plain": [
              "<IPython.core.display.HTML object>"
            ]
          },
          "metadata": {
            "tags": []
          }
        },
        {
          "output_type": "display_data",
          "data": {
            "text/html": [
              "<span style=\"color:blue\"> |-units_input: 544</span>"
            ],
            "text/plain": [
              "<IPython.core.display.HTML object>"
            ]
          },
          "metadata": {
            "tags": []
          }
        },
        {
          "output_type": "stream",
          "text": [
            "Train on 48000 samples, validate on 12000 samples\n",
            "Epoch 1/20\n",
            "48000/48000 [==============================] - 1s 27us/sample - loss: 0.5309 - accuracy: 0.8090 - val_loss: 0.4308 - val_accuracy: 0.8515\n",
            "Epoch 2/20\n",
            "48000/48000 [==============================] - 1s 21us/sample - loss: 0.3903 - accuracy: 0.8585 - val_loss: 0.4045 - val_accuracy: 0.8505\n",
            "Epoch 3/20\n",
            "48000/48000 [==============================] - 1s 20us/sample - loss: 0.3504 - accuracy: 0.8731 - val_loss: 0.3644 - val_accuracy: 0.8677\n",
            "Epoch 4/20\n",
            "48000/48000 [==============================] - 1s 20us/sample - loss: 0.3246 - accuracy: 0.8810 - val_loss: 0.3378 - val_accuracy: 0.8753\n",
            "Epoch 5/20\n",
            "48000/48000 [==============================] - 1s 22us/sample - loss: 0.3090 - accuracy: 0.8858 - val_loss: 0.3346 - val_accuracy: 0.8766\n",
            "Epoch 6/20\n",
            "48000/48000 [==============================] - 1s 21us/sample - loss: 0.2877 - accuracy: 0.8940 - val_loss: 0.3215 - val_accuracy: 0.8833\n",
            "Epoch 7/20\n",
            "48000/48000 [==============================] - 1s 22us/sample - loss: 0.2713 - accuracy: 0.9009 - val_loss: 0.3169 - val_accuracy: 0.8840\n",
            "Epoch 8/20\n",
            "48000/48000 [==============================] - 1s 21us/sample - loss: 0.2590 - accuracy: 0.9044 - val_loss: 0.3250 - val_accuracy: 0.8838\n",
            "Epoch 9/20\n",
            "48000/48000 [==============================] - 1s 21us/sample - loss: 0.2499 - accuracy: 0.9074 - val_loss: 0.3264 - val_accuracy: 0.8817\n",
            "Epoch 10/20\n",
            "48000/48000 [==============================] - 1s 21us/sample - loss: 0.2389 - accuracy: 0.9115 - val_loss: 0.3106 - val_accuracy: 0.8873\n",
            "Epoch 11/20\n",
            "48000/48000 [==============================] - 1s 21us/sample - loss: 0.2254 - accuracy: 0.9165 - val_loss: 0.3021 - val_accuracy: 0.8904\n",
            "Epoch 12/20\n",
            "48000/48000 [==============================] - 1s 21us/sample - loss: 0.2176 - accuracy: 0.9198 - val_loss: 0.3268 - val_accuracy: 0.8774\n",
            "Epoch 13/20\n",
            "48000/48000 [==============================] - 1s 21us/sample - loss: 0.2094 - accuracy: 0.9215 - val_loss: 0.3039 - val_accuracy: 0.8923\n",
            "Epoch 14/20\n",
            "48000/48000 [==============================] - 1s 20us/sample - loss: 0.1981 - accuracy: 0.9265 - val_loss: 0.3011 - val_accuracy: 0.8903\n",
            "Epoch 15/20\n",
            "48000/48000 [==============================] - 1s 20us/sample - loss: 0.1950 - accuracy: 0.9273 - val_loss: 0.2962 - val_accuracy: 0.8959\n",
            "Epoch 16/20\n",
            "48000/48000 [==============================] - 1s 20us/sample - loss: 0.1833 - accuracy: 0.9323 - val_loss: 0.3038 - val_accuracy: 0.8921\n",
            "Epoch 17/20\n",
            "48000/48000 [==============================] - 1s 21us/sample - loss: 0.1806 - accuracy: 0.9326 - val_loss: 0.3169 - val_accuracy: 0.8895\n",
            "Epoch 18/20\n",
            "48000/48000 [==============================] - 1s 20us/sample - loss: 0.1740 - accuracy: 0.9361 - val_loss: 0.2986 - val_accuracy: 0.8934\n",
            "Epoch 19/20\n",
            "48000/48000 [==============================] - 1s 21us/sample - loss: 0.1644 - accuracy: 0.9394 - val_loss: 0.3171 - val_accuracy: 0.8860\n",
            "Epoch 20/20\n",
            "48000/48000 [==============================] - 1s 20us/sample - loss: 0.1621 - accuracy: 0.9410 - val_loss: 0.3154 - val_accuracy: 0.8938\n"
          ],
          "name": "stdout"
        },
        {
          "output_type": "display_data",
          "data": {
            "text/html": [
              "<span style=\"color:#4527A0\"><h1 style=\"font-size:18px\">Trial complete</h1></span>"
            ],
            "text/plain": [
              "<IPython.core.display.HTML object>"
            ]
          },
          "metadata": {
            "tags": []
          }
        },
        {
          "output_type": "display_data",
          "data": {
            "text/html": [
              "<span style=\"color:#4527A0\"><h1 style=\"font-size:18px\">Trial summary</h1></span>"
            ],
            "text/plain": [
              "<IPython.core.display.HTML object>"
            ]
          },
          "metadata": {
            "tags": []
          }
        },
        {
          "output_type": "display_data",
          "data": {
            "text/html": [
              "<span style=\"color:cyan\"> |-Trial ID: e5ce5f90e0518d58a38f1f678b08c738</span>"
            ],
            "text/plain": [
              "<IPython.core.display.HTML object>"
            ]
          },
          "metadata": {
            "tags": []
          }
        },
        {
          "output_type": "display_data",
          "data": {
            "text/html": [
              "<span style=\"color:cyan\"> |-Score: 0.8959166407585144</span>"
            ],
            "text/plain": [
              "<IPython.core.display.HTML object>"
            ]
          },
          "metadata": {
            "tags": []
          }
        },
        {
          "output_type": "display_data",
          "data": {
            "text/html": [
              "<span style=\"color:cyan\"> |-Best step: 0</span>"
            ],
            "text/plain": [
              "<IPython.core.display.HTML object>"
            ]
          },
          "metadata": {
            "tags": []
          }
        },
        {
          "output_type": "display_data",
          "data": {
            "text/html": [
              "<span style=\"color:#7E57C2\"><h2 style=\"font-size:16px\">Hyperparameters:</h2></span>"
            ],
            "text/plain": [
              "<IPython.core.display.HTML object>"
            ]
          },
          "metadata": {
            "tags": []
          }
        },
        {
          "output_type": "display_data",
          "data": {
            "text/html": [
              "<span style=\"color:cyan\"> |-activation: tanh</span>"
            ],
            "text/plain": [
              "<IPython.core.display.HTML object>"
            ]
          },
          "metadata": {
            "tags": []
          }
        },
        {
          "output_type": "display_data",
          "data": {
            "text/html": [
              "<span style=\"color:blue\"> |-optimizer: adam</span>"
            ],
            "text/plain": [
              "<IPython.core.display.HTML object>"
            ]
          },
          "metadata": {
            "tags": []
          }
        },
        {
          "output_type": "display_data",
          "data": {
            "text/html": [
              "<span style=\"color:cyan\"> |-units_hidden: 224</span>"
            ],
            "text/plain": [
              "<IPython.core.display.HTML object>"
            ]
          },
          "metadata": {
            "tags": []
          }
        },
        {
          "output_type": "display_data",
          "data": {
            "text/html": [
              "<span style=\"color:blue\"> |-units_input: 704</span>"
            ],
            "text/plain": [
              "<IPython.core.display.HTML object>"
            ]
          },
          "metadata": {
            "tags": []
          }
        },
        {
          "output_type": "stream",
          "text": [
            "Train on 48000 samples, validate on 12000 samples\n",
            "Epoch 1/20\n",
            "48000/48000 [==============================] - 2s 33us/sample - loss: 0.8213 - accuracy: 0.7009 - val_loss: 0.6078 - val_accuracy: 0.7866\n",
            "Epoch 2/20\n",
            "48000/48000 [==============================] - 1s 25us/sample - loss: 0.4964 - accuracy: 0.8155 - val_loss: 0.4421 - val_accuracy: 0.8378\n",
            "Epoch 3/20\n",
            "48000/48000 [==============================] - 1s 25us/sample - loss: 0.4334 - accuracy: 0.8402 - val_loss: 0.4396 - val_accuracy: 0.8343\n",
            "Epoch 4/20\n",
            "48000/48000 [==============================] - 1s 24us/sample - loss: 0.4029 - accuracy: 0.8525 - val_loss: 0.4240 - val_accuracy: 0.8394\n",
            "Epoch 5/20\n",
            "48000/48000 [==============================] - 1s 24us/sample - loss: 0.3762 - accuracy: 0.8613 - val_loss: 0.4433 - val_accuracy: 0.8381\n",
            "Epoch 6/20\n",
            "48000/48000 [==============================] - 1s 24us/sample - loss: 0.3556 - accuracy: 0.8685 - val_loss: 0.3965 - val_accuracy: 0.8568\n",
            "Epoch 7/20\n",
            "48000/48000 [==============================] - 1s 27us/sample - loss: 0.3407 - accuracy: 0.8748 - val_loss: 0.3486 - val_accuracy: 0.8737\n",
            "Epoch 8/20\n",
            "48000/48000 [==============================] - 1s 27us/sample - loss: 0.3256 - accuracy: 0.8793 - val_loss: 0.3728 - val_accuracy: 0.8648\n",
            "Epoch 9/20\n",
            "48000/48000 [==============================] - 1s 23us/sample - loss: 0.3141 - accuracy: 0.8838 - val_loss: 0.3450 - val_accuracy: 0.8732\n",
            "Epoch 10/20\n",
            "48000/48000 [==============================] - 1s 23us/sample - loss: 0.3021 - accuracy: 0.8869 - val_loss: 0.3597 - val_accuracy: 0.8650\n",
            "Epoch 11/20\n",
            "48000/48000 [==============================] - 1s 27us/sample - loss: 0.2927 - accuracy: 0.8907 - val_loss: 0.3287 - val_accuracy: 0.8804\n",
            "Epoch 12/20\n",
            "48000/48000 [==============================] - 1s 24us/sample - loss: 0.2829 - accuracy: 0.8949 - val_loss: 0.3355 - val_accuracy: 0.8774\n",
            "Epoch 13/20\n",
            "48000/48000 [==============================] - 1s 23us/sample - loss: 0.2751 - accuracy: 0.8964 - val_loss: 0.3665 - val_accuracy: 0.8631\n",
            "Epoch 14/20\n",
            "48000/48000 [==============================] - 1s 24us/sample - loss: 0.2677 - accuracy: 0.8993 - val_loss: 0.3138 - val_accuracy: 0.8849\n",
            "Epoch 15/20\n",
            "48000/48000 [==============================] - 1s 24us/sample - loss: 0.2596 - accuracy: 0.9028 - val_loss: 0.3346 - val_accuracy: 0.8804\n",
            "Epoch 16/20\n",
            "48000/48000 [==============================] - 1s 24us/sample - loss: 0.2523 - accuracy: 0.9049 - val_loss: 0.3513 - val_accuracy: 0.8708\n",
            "Epoch 17/20\n",
            "48000/48000 [==============================] - 1s 23us/sample - loss: 0.2445 - accuracy: 0.9079 - val_loss: 0.3195 - val_accuracy: 0.8822\n",
            "Epoch 18/20\n",
            "48000/48000 [==============================] - 1s 24us/sample - loss: 0.2381 - accuracy: 0.9112 - val_loss: 0.3147 - val_accuracy: 0.8879\n",
            "Epoch 19/20\n",
            "48000/48000 [==============================] - 1s 24us/sample - loss: 0.2314 - accuracy: 0.9128 - val_loss: 0.3234 - val_accuracy: 0.8832\n",
            "Epoch 20/20\n",
            "48000/48000 [==============================] - 1s 24us/sample - loss: 0.2258 - accuracy: 0.9138 - val_loss: 0.3110 - val_accuracy: 0.8882\n"
          ],
          "name": "stdout"
        },
        {
          "output_type": "display_data",
          "data": {
            "text/html": [
              "<span style=\"color:#4527A0\"><h1 style=\"font-size:18px\">Trial complete</h1></span>"
            ],
            "text/plain": [
              "<IPython.core.display.HTML object>"
            ]
          },
          "metadata": {
            "tags": []
          }
        },
        {
          "output_type": "display_data",
          "data": {
            "text/html": [
              "<span style=\"color:#4527A0\"><h1 style=\"font-size:18px\">Trial summary</h1></span>"
            ],
            "text/plain": [
              "<IPython.core.display.HTML object>"
            ]
          },
          "metadata": {
            "tags": []
          }
        },
        {
          "output_type": "display_data",
          "data": {
            "text/html": [
              "<span style=\"color:cyan\"> |-Trial ID: 1ad34ca7a15839ca94d78f9ccb0d8fd5</span>"
            ],
            "text/plain": [
              "<IPython.core.display.HTML object>"
            ]
          },
          "metadata": {
            "tags": []
          }
        },
        {
          "output_type": "display_data",
          "data": {
            "text/html": [
              "<span style=\"color:cyan\"> |-Score: 0.8882499933242798</span>"
            ],
            "text/plain": [
              "<IPython.core.display.HTML object>"
            ]
          },
          "metadata": {
            "tags": []
          }
        },
        {
          "output_type": "display_data",
          "data": {
            "text/html": [
              "<span style=\"color:cyan\"> |-Best step: 0</span>"
            ],
            "text/plain": [
              "<IPython.core.display.HTML object>"
            ]
          },
          "metadata": {
            "tags": []
          }
        },
        {
          "output_type": "display_data",
          "data": {
            "text/html": [
              "<span style=\"color:#7E57C2\"><h2 style=\"font-size:16px\">Hyperparameters:</h2></span>"
            ],
            "text/plain": [
              "<IPython.core.display.HTML object>"
            ]
          },
          "metadata": {
            "tags": []
          }
        },
        {
          "output_type": "display_data",
          "data": {
            "text/html": [
              "<span style=\"color:cyan\"> |-activation: sigmoid</span>"
            ],
            "text/plain": [
              "<IPython.core.display.HTML object>"
            ]
          },
          "metadata": {
            "tags": []
          }
        },
        {
          "output_type": "display_data",
          "data": {
            "text/html": [
              "<span style=\"color:blue\"> |-optimizer: rmsprop</span>"
            ],
            "text/plain": [
              "<IPython.core.display.HTML object>"
            ]
          },
          "metadata": {
            "tags": []
          }
        },
        {
          "output_type": "display_data",
          "data": {
            "text/html": [
              "<span style=\"color:cyan\"> |-units_hidden: 448</span>"
            ],
            "text/plain": [
              "<IPython.core.display.HTML object>"
            ]
          },
          "metadata": {
            "tags": []
          }
        },
        {
          "output_type": "display_data",
          "data": {
            "text/html": [
              "<span style=\"color:blue\"> |-units_input: 928</span>"
            ],
            "text/plain": [
              "<IPython.core.display.HTML object>"
            ]
          },
          "metadata": {
            "tags": []
          }
        },
        {
          "output_type": "stream",
          "text": [
            "Train on 48000 samples, validate on 12000 samples\n",
            "Epoch 1/20\n",
            "48000/48000 [==============================] - 2s 31us/sample - loss: 0.7564 - accuracy: 0.7349 - val_loss: 0.7017 - val_accuracy: 0.7255\n",
            "Epoch 2/20\n",
            "48000/48000 [==============================] - 1s 23us/sample - loss: 0.4647 - accuracy: 0.8240 - val_loss: 0.4574 - val_accuracy: 0.8236\n",
            "Epoch 3/20\n",
            "48000/48000 [==============================] - 1s 24us/sample - loss: 0.4009 - accuracy: 0.8504 - val_loss: 0.4362 - val_accuracy: 0.8401\n",
            "Epoch 4/20\n",
            "48000/48000 [==============================] - 1s 26us/sample - loss: 0.3587 - accuracy: 0.8666 - val_loss: 0.3975 - val_accuracy: 0.8568\n",
            "Epoch 5/20\n",
            "48000/48000 [==============================] - 1s 26us/sample - loss: 0.3326 - accuracy: 0.8751 - val_loss: 0.3316 - val_accuracy: 0.8805\n",
            "Epoch 6/20\n",
            "48000/48000 [==============================] - 1s 24us/sample - loss: 0.3122 - accuracy: 0.8827 - val_loss: 0.4110 - val_accuracy: 0.8447\n",
            "Epoch 7/20\n",
            "48000/48000 [==============================] - 1s 24us/sample - loss: 0.2983 - accuracy: 0.8866 - val_loss: 0.4153 - val_accuracy: 0.8528\n",
            "Epoch 8/20\n",
            "48000/48000 [==============================] - 1s 24us/sample - loss: 0.2843 - accuracy: 0.8941 - val_loss: 0.3427 - val_accuracy: 0.8774\n",
            "Epoch 9/20\n",
            "48000/48000 [==============================] - 1s 24us/sample - loss: 0.2698 - accuracy: 0.8979 - val_loss: 0.3183 - val_accuracy: 0.8815\n",
            "Epoch 10/20\n",
            "48000/48000 [==============================] - 1s 24us/sample - loss: 0.2583 - accuracy: 0.9021 - val_loss: 0.3324 - val_accuracy: 0.8802\n",
            "Epoch 11/20\n",
            "48000/48000 [==============================] - 1s 24us/sample - loss: 0.2497 - accuracy: 0.9054 - val_loss: 0.3579 - val_accuracy: 0.8727\n",
            "Epoch 12/20\n",
            "48000/48000 [==============================] - 1s 24us/sample - loss: 0.2371 - accuracy: 0.9104 - val_loss: 0.3764 - val_accuracy: 0.8678\n",
            "Epoch 13/20\n",
            "48000/48000 [==============================] - 1s 24us/sample - loss: 0.2306 - accuracy: 0.9125 - val_loss: 0.3161 - val_accuracy: 0.8870\n",
            "Epoch 14/20\n",
            "48000/48000 [==============================] - 1s 24us/sample - loss: 0.2224 - accuracy: 0.9170 - val_loss: 0.3275 - val_accuracy: 0.8816\n",
            "Epoch 15/20\n",
            "48000/48000 [==============================] - 1s 24us/sample - loss: 0.2125 - accuracy: 0.9204 - val_loss: 0.2981 - val_accuracy: 0.8942\n",
            "Epoch 16/20\n",
            "48000/48000 [==============================] - 1s 24us/sample - loss: 0.2072 - accuracy: 0.9214 - val_loss: 0.3404 - val_accuracy: 0.8803\n",
            "Epoch 17/20\n",
            "48000/48000 [==============================] - 1s 24us/sample - loss: 0.2008 - accuracy: 0.9247 - val_loss: 0.3346 - val_accuracy: 0.8810\n",
            "Epoch 18/20\n",
            "48000/48000 [==============================] - 1s 24us/sample - loss: 0.1933 - accuracy: 0.9270 - val_loss: 0.3271 - val_accuracy: 0.8846\n",
            "Epoch 19/20\n",
            "48000/48000 [==============================] - 1s 24us/sample - loss: 0.1877 - accuracy: 0.9291 - val_loss: 0.3229 - val_accuracy: 0.8850\n",
            "Epoch 20/20\n",
            "48000/48000 [==============================] - 1s 24us/sample - loss: 0.1810 - accuracy: 0.9322 - val_loss: 0.3088 - val_accuracy: 0.8951\n"
          ],
          "name": "stdout"
        },
        {
          "output_type": "display_data",
          "data": {
            "text/html": [
              "<span style=\"color:#4527A0\"><h1 style=\"font-size:18px\">Trial complete</h1></span>"
            ],
            "text/plain": [
              "<IPython.core.display.HTML object>"
            ]
          },
          "metadata": {
            "tags": []
          }
        },
        {
          "output_type": "display_data",
          "data": {
            "text/html": [
              "<span style=\"color:#4527A0\"><h1 style=\"font-size:18px\">Trial summary</h1></span>"
            ],
            "text/plain": [
              "<IPython.core.display.HTML object>"
            ]
          },
          "metadata": {
            "tags": []
          }
        },
        {
          "output_type": "display_data",
          "data": {
            "text/html": [
              "<span style=\"color:cyan\"> |-Trial ID: ffaed1684d1315187c1ed452fb6e206a</span>"
            ],
            "text/plain": [
              "<IPython.core.display.HTML object>"
            ]
          },
          "metadata": {
            "tags": []
          }
        },
        {
          "output_type": "display_data",
          "data": {
            "text/html": [
              "<span style=\"color:cyan\"> |-Score: 0.8950833082199097</span>"
            ],
            "text/plain": [
              "<IPython.core.display.HTML object>"
            ]
          },
          "metadata": {
            "tags": []
          }
        },
        {
          "output_type": "display_data",
          "data": {
            "text/html": [
              "<span style=\"color:cyan\"> |-Best step: 0</span>"
            ],
            "text/plain": [
              "<IPython.core.display.HTML object>"
            ]
          },
          "metadata": {
            "tags": []
          }
        },
        {
          "output_type": "display_data",
          "data": {
            "text/html": [
              "<span style=\"color:#7E57C2\"><h2 style=\"font-size:16px\">Hyperparameters:</h2></span>"
            ],
            "text/plain": [
              "<IPython.core.display.HTML object>"
            ]
          },
          "metadata": {
            "tags": []
          }
        },
        {
          "output_type": "display_data",
          "data": {
            "text/html": [
              "<span style=\"color:cyan\"> |-activation: tanh</span>"
            ],
            "text/plain": [
              "<IPython.core.display.HTML object>"
            ]
          },
          "metadata": {
            "tags": []
          }
        },
        {
          "output_type": "display_data",
          "data": {
            "text/html": [
              "<span style=\"color:blue\"> |-optimizer: rmsprop</span>"
            ],
            "text/plain": [
              "<IPython.core.display.HTML object>"
            ]
          },
          "metadata": {
            "tags": []
          }
        },
        {
          "output_type": "display_data",
          "data": {
            "text/html": [
              "<span style=\"color:cyan\"> |-units_hidden: 352</span>"
            ],
            "text/plain": [
              "<IPython.core.display.HTML object>"
            ]
          },
          "metadata": {
            "tags": []
          }
        },
        {
          "output_type": "display_data",
          "data": {
            "text/html": [
              "<span style=\"color:blue\"> |-units_input: 1024</span>"
            ],
            "text/plain": [
              "<IPython.core.display.HTML object>"
            ]
          },
          "metadata": {
            "tags": []
          }
        },
        {
          "output_type": "stream",
          "text": [
            "Train on 48000 samples, validate on 12000 samples\n",
            "Epoch 1/20\n",
            "48000/48000 [==============================] - 2s 31us/sample - loss: 0.7948 - accuracy: 0.7291 - val_loss: 0.5482 - val_accuracy: 0.7980\n",
            "Epoch 2/20\n",
            "48000/48000 [==============================] - 1s 22us/sample - loss: 0.4854 - accuracy: 0.8183 - val_loss: 0.4025 - val_accuracy: 0.8508\n",
            "Epoch 3/20\n",
            "48000/48000 [==============================] - 1s 22us/sample - loss: 0.4150 - accuracy: 0.8444 - val_loss: 0.4348 - val_accuracy: 0.8348\n",
            "Epoch 4/20\n",
            "48000/48000 [==============================] - 1s 22us/sample - loss: 0.3731 - accuracy: 0.8583 - val_loss: 0.4589 - val_accuracy: 0.8298\n",
            "Epoch 5/20\n",
            "48000/48000 [==============================] - 1s 22us/sample - loss: 0.3437 - accuracy: 0.8705 - val_loss: 0.4028 - val_accuracy: 0.8593\n",
            "Epoch 6/20\n",
            "48000/48000 [==============================] - 1s 22us/sample - loss: 0.3202 - accuracy: 0.8790 - val_loss: 0.4122 - val_accuracy: 0.8633\n",
            "Epoch 7/20\n",
            "48000/48000 [==============================] - 1s 22us/sample - loss: 0.3007 - accuracy: 0.8864 - val_loss: 0.3664 - val_accuracy: 0.8665\n",
            "Epoch 8/20\n",
            "48000/48000 [==============================] - 1s 22us/sample - loss: 0.2856 - accuracy: 0.8918 - val_loss: 0.3809 - val_accuracy: 0.8725\n",
            "Epoch 9/20\n",
            "48000/48000 [==============================] - 1s 21us/sample - loss: 0.2725 - accuracy: 0.8953 - val_loss: 0.4142 - val_accuracy: 0.8556\n",
            "Epoch 10/20\n",
            "48000/48000 [==============================] - 1s 23us/sample - loss: 0.2609 - accuracy: 0.8977 - val_loss: 0.4079 - val_accuracy: 0.8618\n",
            "Epoch 11/20\n",
            "48000/48000 [==============================] - 1s 22us/sample - loss: 0.2490 - accuracy: 0.9032 - val_loss: 0.3547 - val_accuracy: 0.8742\n",
            "Epoch 12/20\n",
            "48000/48000 [==============================] - 1s 23us/sample - loss: 0.2426 - accuracy: 0.9067 - val_loss: 0.3356 - val_accuracy: 0.8806\n",
            "Epoch 13/20\n",
            "48000/48000 [==============================] - 1s 22us/sample - loss: 0.2294 - accuracy: 0.9116 - val_loss: 0.3781 - val_accuracy: 0.8748\n",
            "Epoch 14/20\n",
            "48000/48000 [==============================] - 1s 22us/sample - loss: 0.2229 - accuracy: 0.9135 - val_loss: 0.4304 - val_accuracy: 0.8553\n",
            "Epoch 15/20\n",
            "48000/48000 [==============================] - 1s 22us/sample - loss: 0.2146 - accuracy: 0.9175 - val_loss: 0.3533 - val_accuracy: 0.8762\n",
            "Epoch 16/20\n",
            "48000/48000 [==============================] - 1s 23us/sample - loss: 0.2053 - accuracy: 0.9201 - val_loss: 0.3719 - val_accuracy: 0.8808\n",
            "Epoch 17/20\n",
            "48000/48000 [==============================] - 1s 22us/sample - loss: 0.1985 - accuracy: 0.9250 - val_loss: 0.3991 - val_accuracy: 0.8781\n",
            "Epoch 18/20\n",
            "48000/48000 [==============================] - 1s 25us/sample - loss: 0.1906 - accuracy: 0.9257 - val_loss: 0.3493 - val_accuracy: 0.8929\n",
            "Epoch 19/20\n",
            "48000/48000 [==============================] - 1s 25us/sample - loss: 0.1842 - accuracy: 0.9291 - val_loss: 0.3825 - val_accuracy: 0.8797\n",
            "Epoch 20/20\n",
            "48000/48000 [==============================] - 1s 23us/sample - loss: 0.1787 - accuracy: 0.9308 - val_loss: 0.3490 - val_accuracy: 0.8938\n"
          ],
          "name": "stdout"
        },
        {
          "output_type": "display_data",
          "data": {
            "text/html": [
              "<span style=\"color:#4527A0\"><h1 style=\"font-size:18px\">Trial complete</h1></span>"
            ],
            "text/plain": [
              "<IPython.core.display.HTML object>"
            ]
          },
          "metadata": {
            "tags": []
          }
        },
        {
          "output_type": "display_data",
          "data": {
            "text/html": [
              "<span style=\"color:#4527A0\"><h1 style=\"font-size:18px\">Trial summary</h1></span>"
            ],
            "text/plain": [
              "<IPython.core.display.HTML object>"
            ]
          },
          "metadata": {
            "tags": []
          }
        },
        {
          "output_type": "display_data",
          "data": {
            "text/html": [
              "<span style=\"color:cyan\"> |-Trial ID: a3484955ee130fe34dbca4b42eb41dd9</span>"
            ],
            "text/plain": [
              "<IPython.core.display.HTML object>"
            ]
          },
          "metadata": {
            "tags": []
          }
        },
        {
          "output_type": "display_data",
          "data": {
            "text/html": [
              "<span style=\"color:cyan\"> |-Score: 0.893750011920929</span>"
            ],
            "text/plain": [
              "<IPython.core.display.HTML object>"
            ]
          },
          "metadata": {
            "tags": []
          }
        },
        {
          "output_type": "display_data",
          "data": {
            "text/html": [
              "<span style=\"color:cyan\"> |-Best step: 0</span>"
            ],
            "text/plain": [
              "<IPython.core.display.HTML object>"
            ]
          },
          "metadata": {
            "tags": []
          }
        },
        {
          "output_type": "display_data",
          "data": {
            "text/html": [
              "<span style=\"color:#7E57C2\"><h2 style=\"font-size:16px\">Hyperparameters:</h2></span>"
            ],
            "text/plain": [
              "<IPython.core.display.HTML object>"
            ]
          },
          "metadata": {
            "tags": []
          }
        },
        {
          "output_type": "display_data",
          "data": {
            "text/html": [
              "<span style=\"color:cyan\"> |-activation: elu</span>"
            ],
            "text/plain": [
              "<IPython.core.display.HTML object>"
            ]
          },
          "metadata": {
            "tags": []
          }
        },
        {
          "output_type": "display_data",
          "data": {
            "text/html": [
              "<span style=\"color:blue\"> |-optimizer: rmsprop</span>"
            ],
            "text/plain": [
              "<IPython.core.display.HTML object>"
            ]
          },
          "metadata": {
            "tags": []
          }
        },
        {
          "output_type": "display_data",
          "data": {
            "text/html": [
              "<span style=\"color:cyan\"> |-units_hidden: 320</span>"
            ],
            "text/plain": [
              "<IPython.core.display.HTML object>"
            ]
          },
          "metadata": {
            "tags": []
          }
        },
        {
          "output_type": "display_data",
          "data": {
            "text/html": [
              "<span style=\"color:blue\"> |-units_input: 736</span>"
            ],
            "text/plain": [
              "<IPython.core.display.HTML object>"
            ]
          },
          "metadata": {
            "tags": []
          }
        },
        {
          "output_type": "stream",
          "text": [
            "Train on 48000 samples, validate on 12000 samples\n",
            "Epoch 1/20\n",
            "48000/48000 [==============================] - 1s 27us/sample - loss: 0.5436 - accuracy: 0.8119 - val_loss: 0.4412 - val_accuracy: 0.8469\n",
            "Epoch 2/20\n",
            "48000/48000 [==============================] - 1s 23us/sample - loss: 0.3781 - accuracy: 0.8648 - val_loss: 0.3701 - val_accuracy: 0.8662\n",
            "Epoch 3/20\n",
            "48000/48000 [==============================] - 1s 21us/sample - loss: 0.3362 - accuracy: 0.8766 - val_loss: 0.3539 - val_accuracy: 0.8727\n",
            "Epoch 4/20\n",
            "48000/48000 [==============================] - 1s 20us/sample - loss: 0.3079 - accuracy: 0.8864 - val_loss: 0.3280 - val_accuracy: 0.8836\n",
            "Epoch 5/20\n",
            "48000/48000 [==============================] - 1s 20us/sample - loss: 0.2889 - accuracy: 0.8932 - val_loss: 0.3299 - val_accuracy: 0.8808\n",
            "Epoch 6/20\n",
            "48000/48000 [==============================] - 1s 21us/sample - loss: 0.2678 - accuracy: 0.9012 - val_loss: 0.3159 - val_accuracy: 0.8856\n",
            "Epoch 7/20\n",
            "48000/48000 [==============================] - 1s 20us/sample - loss: 0.2560 - accuracy: 0.9043 - val_loss: 0.3291 - val_accuracy: 0.8814\n",
            "Epoch 8/20\n",
            "48000/48000 [==============================] - 1s 21us/sample - loss: 0.2457 - accuracy: 0.9085 - val_loss: 0.3096 - val_accuracy: 0.8878\n",
            "Epoch 9/20\n",
            "48000/48000 [==============================] - 1s 22us/sample - loss: 0.2322 - accuracy: 0.9133 - val_loss: 0.3154 - val_accuracy: 0.8881\n",
            "Epoch 10/20\n",
            "48000/48000 [==============================] - 1s 20us/sample - loss: 0.2270 - accuracy: 0.9162 - val_loss: 0.3378 - val_accuracy: 0.8807\n",
            "Epoch 11/20\n",
            "48000/48000 [==============================] - 1s 21us/sample - loss: 0.2146 - accuracy: 0.9198 - val_loss: 0.3135 - val_accuracy: 0.8892\n",
            "Epoch 12/20\n",
            "48000/48000 [==============================] - 1s 21us/sample - loss: 0.2062 - accuracy: 0.9225 - val_loss: 0.3297 - val_accuracy: 0.8865\n",
            "Epoch 13/20\n",
            "48000/48000 [==============================] - 1s 21us/sample - loss: 0.1948 - accuracy: 0.9281 - val_loss: 0.3240 - val_accuracy: 0.8902\n",
            "Epoch 14/20\n",
            "48000/48000 [==============================] - 1s 20us/sample - loss: 0.1909 - accuracy: 0.9270 - val_loss: 0.3203 - val_accuracy: 0.8938\n",
            "Epoch 15/20\n",
            "48000/48000 [==============================] - 1s 21us/sample - loss: 0.1840 - accuracy: 0.9309 - val_loss: 0.3130 - val_accuracy: 0.8945\n",
            "Epoch 16/20\n",
            "48000/48000 [==============================] - 1s 20us/sample - loss: 0.1800 - accuracy: 0.9331 - val_loss: 0.3312 - val_accuracy: 0.8901\n",
            "Epoch 17/20\n",
            "48000/48000 [==============================] - 1s 21us/sample - loss: 0.1715 - accuracy: 0.9358 - val_loss: 0.3175 - val_accuracy: 0.8967\n",
            "Epoch 18/20\n",
            "48000/48000 [==============================] - 1s 22us/sample - loss: 0.1628 - accuracy: 0.9398 - val_loss: 0.3231 - val_accuracy: 0.8934\n",
            "Epoch 19/20\n",
            "48000/48000 [==============================] - 1s 22us/sample - loss: 0.1540 - accuracy: 0.9427 - val_loss: 0.3232 - val_accuracy: 0.8975\n",
            "Epoch 20/20\n",
            "48000/48000 [==============================] - 1s 20us/sample - loss: 0.1493 - accuracy: 0.9442 - val_loss: 0.3357 - val_accuracy: 0.8898\n"
          ],
          "name": "stdout"
        },
        {
          "output_type": "display_data",
          "data": {
            "text/html": [
              "<span style=\"color:#4527A0\"><h1 style=\"font-size:18px\">Trial complete</h1></span>"
            ],
            "text/plain": [
              "<IPython.core.display.HTML object>"
            ]
          },
          "metadata": {
            "tags": []
          }
        },
        {
          "output_type": "display_data",
          "data": {
            "text/html": [
              "<span style=\"color:#4527A0\"><h1 style=\"font-size:18px\">Trial summary</h1></span>"
            ],
            "text/plain": [
              "<IPython.core.display.HTML object>"
            ]
          },
          "metadata": {
            "tags": []
          }
        },
        {
          "output_type": "display_data",
          "data": {
            "text/html": [
              "<span style=\"color:cyan\"> |-Trial ID: e72389ba72530ce2494c2f3cce590cfe</span>"
            ],
            "text/plain": [
              "<IPython.core.display.HTML object>"
            ]
          },
          "metadata": {
            "tags": []
          }
        },
        {
          "output_type": "display_data",
          "data": {
            "text/html": [
              "<span style=\"color:cyan\"> |-Score: 0.8974999785423279</span>"
            ],
            "text/plain": [
              "<IPython.core.display.HTML object>"
            ]
          },
          "metadata": {
            "tags": []
          }
        },
        {
          "output_type": "display_data",
          "data": {
            "text/html": [
              "<span style=\"color:cyan\"> |-Best step: 0</span>"
            ],
            "text/plain": [
              "<IPython.core.display.HTML object>"
            ]
          },
          "metadata": {
            "tags": []
          }
        },
        {
          "output_type": "display_data",
          "data": {
            "text/html": [
              "<span style=\"color:#7E57C2\"><h2 style=\"font-size:16px\">Hyperparameters:</h2></span>"
            ],
            "text/plain": [
              "<IPython.core.display.HTML object>"
            ]
          },
          "metadata": {
            "tags": []
          }
        },
        {
          "output_type": "display_data",
          "data": {
            "text/html": [
              "<span style=\"color:cyan\"> |-activation: relu</span>"
            ],
            "text/plain": [
              "<IPython.core.display.HTML object>"
            ]
          },
          "metadata": {
            "tags": []
          }
        },
        {
          "output_type": "display_data",
          "data": {
            "text/html": [
              "<span style=\"color:blue\"> |-optimizer: adam</span>"
            ],
            "text/plain": [
              "<IPython.core.display.HTML object>"
            ]
          },
          "metadata": {
            "tags": []
          }
        },
        {
          "output_type": "display_data",
          "data": {
            "text/html": [
              "<span style=\"color:cyan\"> |-units_hidden: 128</span>"
            ],
            "text/plain": [
              "<IPython.core.display.HTML object>"
            ]
          },
          "metadata": {
            "tags": []
          }
        },
        {
          "output_type": "display_data",
          "data": {
            "text/html": [
              "<span style=\"color:blue\"> |-units_input: 768</span>"
            ],
            "text/plain": [
              "<IPython.core.display.HTML object>"
            ]
          },
          "metadata": {
            "tags": []
          }
        },
        {
          "output_type": "stream",
          "text": [
            "Train on 48000 samples, validate on 12000 samples\n",
            "Epoch 1/20\n",
            "48000/48000 [==============================] - 1s 27us/sample - loss: 1.0423 - accuracy: 0.6773 - val_loss: 0.7405 - val_accuracy: 0.7576\n",
            "Epoch 2/20\n",
            "48000/48000 [==============================] - 1s 22us/sample - loss: 0.6797 - accuracy: 0.7800 - val_loss: 0.6262 - val_accuracy: 0.7923\n",
            "Epoch 3/20\n",
            "48000/48000 [==============================] - 1s 22us/sample - loss: 0.6006 - accuracy: 0.8020 - val_loss: 0.5746 - val_accuracy: 0.8064\n",
            "Epoch 4/20\n",
            "48000/48000 [==============================] - 1s 22us/sample - loss: 0.5578 - accuracy: 0.8138 - val_loss: 0.5446 - val_accuracy: 0.8158\n",
            "Epoch 5/20\n",
            "48000/48000 [==============================] - 1s 22us/sample - loss: 0.5299 - accuracy: 0.8220 - val_loss: 0.5207 - val_accuracy: 0.8191\n",
            "Epoch 6/20\n",
            "48000/48000 [==============================] - 1s 21us/sample - loss: 0.5100 - accuracy: 0.8260 - val_loss: 0.5044 - val_accuracy: 0.8242\n",
            "Epoch 7/20\n",
            "48000/48000 [==============================] - 1s 22us/sample - loss: 0.4944 - accuracy: 0.8299 - val_loss: 0.4941 - val_accuracy: 0.8265\n",
            "Epoch 8/20\n",
            "48000/48000 [==============================] - 1s 22us/sample - loss: 0.4823 - accuracy: 0.8330 - val_loss: 0.4848 - val_accuracy: 0.8307\n",
            "Epoch 9/20\n",
            "48000/48000 [==============================] - 1s 22us/sample - loss: 0.4723 - accuracy: 0.8363 - val_loss: 0.4739 - val_accuracy: 0.8341\n",
            "Epoch 10/20\n",
            "48000/48000 [==============================] - 1s 21us/sample - loss: 0.4635 - accuracy: 0.8385 - val_loss: 0.4668 - val_accuracy: 0.8345\n",
            "Epoch 11/20\n",
            "48000/48000 [==============================] - 1s 21us/sample - loss: 0.4562 - accuracy: 0.8412 - val_loss: 0.4597 - val_accuracy: 0.8362\n",
            "Epoch 12/20\n",
            "48000/48000 [==============================] - 1s 21us/sample - loss: 0.4500 - accuracy: 0.8432 - val_loss: 0.4541 - val_accuracy: 0.8396\n",
            "Epoch 13/20\n",
            "48000/48000 [==============================] - 1s 21us/sample - loss: 0.4444 - accuracy: 0.8445 - val_loss: 0.4491 - val_accuracy: 0.8402\n",
            "Epoch 14/20\n",
            "48000/48000 [==============================] - 1s 21us/sample - loss: 0.4391 - accuracy: 0.8475 - val_loss: 0.4462 - val_accuracy: 0.8421\n",
            "Epoch 15/20\n",
            "48000/48000 [==============================] - 1s 21us/sample - loss: 0.4341 - accuracy: 0.8478 - val_loss: 0.4498 - val_accuracy: 0.8386\n",
            "Epoch 16/20\n",
            "48000/48000 [==============================] - 1s 24us/sample - loss: 0.4303 - accuracy: 0.8501 - val_loss: 0.4373 - val_accuracy: 0.8458\n",
            "Epoch 17/20\n",
            "48000/48000 [==============================] - 1s 22us/sample - loss: 0.4265 - accuracy: 0.8506 - val_loss: 0.4336 - val_accuracy: 0.8452\n",
            "Epoch 18/20\n",
            "48000/48000 [==============================] - 1s 21us/sample - loss: 0.4226 - accuracy: 0.8521 - val_loss: 0.4328 - val_accuracy: 0.8454\n",
            "Epoch 19/20\n",
            "48000/48000 [==============================] - 1s 21us/sample - loss: 0.4192 - accuracy: 0.8531 - val_loss: 0.4287 - val_accuracy: 0.8496\n",
            "Epoch 20/20\n",
            "48000/48000 [==============================] - 1s 21us/sample - loss: 0.4159 - accuracy: 0.8549 - val_loss: 0.4266 - val_accuracy: 0.8497\n"
          ],
          "name": "stdout"
        },
        {
          "output_type": "display_data",
          "data": {
            "text/html": [
              "<span style=\"color:#4527A0\"><h1 style=\"font-size:18px\">Trial complete</h1></span>"
            ],
            "text/plain": [
              "<IPython.core.display.HTML object>"
            ]
          },
          "metadata": {
            "tags": []
          }
        },
        {
          "output_type": "display_data",
          "data": {
            "text/html": [
              "<span style=\"color:#4527A0\"><h1 style=\"font-size:18px\">Trial summary</h1></span>"
            ],
            "text/plain": [
              "<IPython.core.display.HTML object>"
            ]
          },
          "metadata": {
            "tags": []
          }
        },
        {
          "output_type": "display_data",
          "data": {
            "text/html": [
              "<span style=\"color:cyan\"> |-Trial ID: b5a611fef2db56ed6c75acdca7d6ba38</span>"
            ],
            "text/plain": [
              "<IPython.core.display.HTML object>"
            ]
          },
          "metadata": {
            "tags": []
          }
        },
        {
          "output_type": "display_data",
          "data": {
            "text/html": [
              "<span style=\"color:cyan\"> |-Score: 0.8496666550636292</span>"
            ],
            "text/plain": [
              "<IPython.core.display.HTML object>"
            ]
          },
          "metadata": {
            "tags": []
          }
        },
        {
          "output_type": "display_data",
          "data": {
            "text/html": [
              "<span style=\"color:cyan\"> |-Best step: 0</span>"
            ],
            "text/plain": [
              "<IPython.core.display.HTML object>"
            ]
          },
          "metadata": {
            "tags": []
          }
        },
        {
          "output_type": "display_data",
          "data": {
            "text/html": [
              "<span style=\"color:#7E57C2\"><h2 style=\"font-size:16px\">Hyperparameters:</h2></span>"
            ],
            "text/plain": [
              "<IPython.core.display.HTML object>"
            ]
          },
          "metadata": {
            "tags": []
          }
        },
        {
          "output_type": "display_data",
          "data": {
            "text/html": [
              "<span style=\"color:cyan\"> |-activation: tanh</span>"
            ],
            "text/plain": [
              "<IPython.core.display.HTML object>"
            ]
          },
          "metadata": {
            "tags": []
          }
        },
        {
          "output_type": "display_data",
          "data": {
            "text/html": [
              "<span style=\"color:blue\"> |-optimizer: SGD</span>"
            ],
            "text/plain": [
              "<IPython.core.display.HTML object>"
            ]
          },
          "metadata": {
            "tags": []
          }
        },
        {
          "output_type": "display_data",
          "data": {
            "text/html": [
              "<span style=\"color:cyan\"> |-units_hidden: 416</span>"
            ],
            "text/plain": [
              "<IPython.core.display.HTML object>"
            ]
          },
          "metadata": {
            "tags": []
          }
        },
        {
          "output_type": "display_data",
          "data": {
            "text/html": [
              "<span style=\"color:blue\"> |-units_input: 928</span>"
            ],
            "text/plain": [
              "<IPython.core.display.HTML object>"
            ]
          },
          "metadata": {
            "tags": []
          }
        },
        {
          "output_type": "stream",
          "text": [
            "Train on 48000 samples, validate on 12000 samples\n",
            "Epoch 1/20\n",
            "48000/48000 [==============================] - 1s 26us/sample - loss: 0.8527 - accuracy: 0.7172 - val_loss: 0.6162 - val_accuracy: 0.7908\n",
            "Epoch 2/20\n",
            "48000/48000 [==============================] - 1s 20us/sample - loss: 0.5683 - accuracy: 0.8095 - val_loss: 0.5396 - val_accuracy: 0.8144\n",
            "Epoch 3/20\n",
            "48000/48000 [==============================] - 1s 21us/sample - loss: 0.5132 - accuracy: 0.8256 - val_loss: 0.5119 - val_accuracy: 0.8210\n",
            "Epoch 4/20\n",
            "48000/48000 [==============================] - 1s 20us/sample - loss: 0.4866 - accuracy: 0.8333 - val_loss: 0.4924 - val_accuracy: 0.8241\n",
            "Epoch 5/20\n",
            "48000/48000 [==============================] - 1s 21us/sample - loss: 0.4657 - accuracy: 0.8400 - val_loss: 0.4711 - val_accuracy: 0.8332\n",
            "Epoch 6/20\n",
            "48000/48000 [==============================] - 1s 21us/sample - loss: 0.4532 - accuracy: 0.8431 - val_loss: 0.4876 - val_accuracy: 0.8245\n",
            "Epoch 7/20\n",
            "48000/48000 [==============================] - 1s 20us/sample - loss: 0.4433 - accuracy: 0.8459 - val_loss: 0.4532 - val_accuracy: 0.8383\n",
            "Epoch 8/20\n",
            "48000/48000 [==============================] - 1s 21us/sample - loss: 0.4339 - accuracy: 0.8495 - val_loss: 0.4614 - val_accuracy: 0.8368\n",
            "Epoch 9/20\n",
            "48000/48000 [==============================] - 1s 20us/sample - loss: 0.4271 - accuracy: 0.8512 - val_loss: 0.4493 - val_accuracy: 0.8393\n",
            "Epoch 10/20\n",
            "48000/48000 [==============================] - 1s 22us/sample - loss: 0.4211 - accuracy: 0.8527 - val_loss: 0.4449 - val_accuracy: 0.8401\n",
            "Epoch 11/20\n",
            "48000/48000 [==============================] - 1s 22us/sample - loss: 0.4151 - accuracy: 0.8547 - val_loss: 0.4357 - val_accuracy: 0.8465\n",
            "Epoch 12/20\n",
            "48000/48000 [==============================] - 1s 21us/sample - loss: 0.4100 - accuracy: 0.8574 - val_loss: 0.4289 - val_accuracy: 0.8496\n",
            "Epoch 13/20\n",
            "48000/48000 [==============================] - 1s 20us/sample - loss: 0.4073 - accuracy: 0.8573 - val_loss: 0.4423 - val_accuracy: 0.8418\n",
            "Epoch 14/20\n",
            "48000/48000 [==============================] - 1s 21us/sample - loss: 0.4022 - accuracy: 0.8597 - val_loss: 0.4194 - val_accuracy: 0.8522\n",
            "Epoch 15/20\n",
            "48000/48000 [==============================] - 1s 24us/sample - loss: 0.3988 - accuracy: 0.8612 - val_loss: 0.4162 - val_accuracy: 0.8535\n",
            "Epoch 16/20\n",
            "48000/48000 [==============================] - 1s 23us/sample - loss: 0.3954 - accuracy: 0.8622 - val_loss: 0.4105 - val_accuracy: 0.8529\n",
            "Epoch 17/20\n",
            "48000/48000 [==============================] - 1s 20us/sample - loss: 0.3919 - accuracy: 0.8629 - val_loss: 0.4286 - val_accuracy: 0.8461\n",
            "Epoch 18/20\n",
            "48000/48000 [==============================] - 1s 20us/sample - loss: 0.3900 - accuracy: 0.8625 - val_loss: 0.4078 - val_accuracy: 0.8538\n",
            "Epoch 19/20\n",
            "48000/48000 [==============================] - 1s 21us/sample - loss: 0.3862 - accuracy: 0.8638 - val_loss: 0.4129 - val_accuracy: 0.8525\n",
            "Epoch 20/20\n",
            "48000/48000 [==============================] - 1s 23us/sample - loss: 0.3836 - accuracy: 0.8661 - val_loss: 0.4009 - val_accuracy: 0.8561\n"
          ],
          "name": "stdout"
        },
        {
          "output_type": "display_data",
          "data": {
            "text/html": [
              "<span style=\"color:#4527A0\"><h1 style=\"font-size:18px\">Trial complete</h1></span>"
            ],
            "text/plain": [
              "<IPython.core.display.HTML object>"
            ]
          },
          "metadata": {
            "tags": []
          }
        },
        {
          "output_type": "display_data",
          "data": {
            "text/html": [
              "<span style=\"color:#4527A0\"><h1 style=\"font-size:18px\">Trial summary</h1></span>"
            ],
            "text/plain": [
              "<IPython.core.display.HTML object>"
            ]
          },
          "metadata": {
            "tags": []
          }
        },
        {
          "output_type": "display_data",
          "data": {
            "text/html": [
              "<span style=\"color:cyan\"> |-Trial ID: f522e5e06554b9e0edacdd9566db601d</span>"
            ],
            "text/plain": [
              "<IPython.core.display.HTML object>"
            ]
          },
          "metadata": {
            "tags": []
          }
        },
        {
          "output_type": "display_data",
          "data": {
            "text/html": [
              "<span style=\"color:cyan\"> |-Score: 0.856083333492279</span>"
            ],
            "text/plain": [
              "<IPython.core.display.HTML object>"
            ]
          },
          "metadata": {
            "tags": []
          }
        },
        {
          "output_type": "display_data",
          "data": {
            "text/html": [
              "<span style=\"color:cyan\"> |-Best step: 0</span>"
            ],
            "text/plain": [
              "<IPython.core.display.HTML object>"
            ]
          },
          "metadata": {
            "tags": []
          }
        },
        {
          "output_type": "display_data",
          "data": {
            "text/html": [
              "<span style=\"color:#7E57C2\"><h2 style=\"font-size:16px\">Hyperparameters:</h2></span>"
            ],
            "text/plain": [
              "<IPython.core.display.HTML object>"
            ]
          },
          "metadata": {
            "tags": []
          }
        },
        {
          "output_type": "display_data",
          "data": {
            "text/html": [
              "<span style=\"color:cyan\"> |-activation: selu</span>"
            ],
            "text/plain": [
              "<IPython.core.display.HTML object>"
            ]
          },
          "metadata": {
            "tags": []
          }
        },
        {
          "output_type": "display_data",
          "data": {
            "text/html": [
              "<span style=\"color:blue\"> |-optimizer: SGD</span>"
            ],
            "text/plain": [
              "<IPython.core.display.HTML object>"
            ]
          },
          "metadata": {
            "tags": []
          }
        },
        {
          "output_type": "display_data",
          "data": {
            "text/html": [
              "<span style=\"color:cyan\"> |-units_hidden: 384</span>"
            ],
            "text/plain": [
              "<IPython.core.display.HTML object>"
            ]
          },
          "metadata": {
            "tags": []
          }
        },
        {
          "output_type": "display_data",
          "data": {
            "text/html": [
              "<span style=\"color:blue\"> |-units_input: 768</span>"
            ],
            "text/plain": [
              "<IPython.core.display.HTML object>"
            ]
          },
          "metadata": {
            "tags": []
          }
        },
        {
          "output_type": "stream",
          "text": [
            "Train on 48000 samples, validate on 12000 samples\n",
            "Epoch 1/20\n",
            "48000/48000 [==============================] - 1s 27us/sample - loss: 0.7827 - accuracy: 0.7312 - val_loss: 0.4859 - val_accuracy: 0.8279\n",
            "Epoch 2/20\n",
            "48000/48000 [==============================] - 1s 21us/sample - loss: 0.4589 - accuracy: 0.8337 - val_loss: 0.4286 - val_accuracy: 0.8465\n",
            "Epoch 3/20\n",
            "48000/48000 [==============================] - 1s 21us/sample - loss: 0.4133 - accuracy: 0.8503 - val_loss: 0.4087 - val_accuracy: 0.8518\n",
            "Epoch 4/20\n",
            "48000/48000 [==============================] - 1s 21us/sample - loss: 0.3838 - accuracy: 0.8612 - val_loss: 0.3797 - val_accuracy: 0.8613\n",
            "Epoch 5/20\n",
            "48000/48000 [==============================] - 1s 21us/sample - loss: 0.3628 - accuracy: 0.8690 - val_loss: 0.3847 - val_accuracy: 0.8598\n",
            "Epoch 6/20\n",
            "48000/48000 [==============================] - 1s 21us/sample - loss: 0.3484 - accuracy: 0.8723 - val_loss: 0.3570 - val_accuracy: 0.8694\n",
            "Epoch 7/20\n",
            "48000/48000 [==============================] - 1s 21us/sample - loss: 0.3328 - accuracy: 0.8797 - val_loss: 0.3466 - val_accuracy: 0.8719\n",
            "Epoch 8/20\n",
            "48000/48000 [==============================] - 1s 21us/sample - loss: 0.3219 - accuracy: 0.8823 - val_loss: 0.3444 - val_accuracy: 0.8733\n",
            "Epoch 9/20\n",
            "48000/48000 [==============================] - 1s 21us/sample - loss: 0.3098 - accuracy: 0.8881 - val_loss: 0.3409 - val_accuracy: 0.8747\n",
            "Epoch 10/20\n",
            "48000/48000 [==============================] - 1s 21us/sample - loss: 0.2988 - accuracy: 0.8915 - val_loss: 0.3489 - val_accuracy: 0.8754\n",
            "Epoch 11/20\n",
            "48000/48000 [==============================] - 1s 20us/sample - loss: 0.2907 - accuracy: 0.8930 - val_loss: 0.3257 - val_accuracy: 0.8828\n",
            "Epoch 12/20\n",
            "48000/48000 [==============================] - 1s 21us/sample - loss: 0.2784 - accuracy: 0.8972 - val_loss: 0.3261 - val_accuracy: 0.8801\n",
            "Epoch 13/20\n",
            "48000/48000 [==============================] - 1s 20us/sample - loss: 0.2728 - accuracy: 0.8989 - val_loss: 0.3122 - val_accuracy: 0.8879\n",
            "Epoch 14/20\n",
            "48000/48000 [==============================] - 1s 20us/sample - loss: 0.2646 - accuracy: 0.9023 - val_loss: 0.3256 - val_accuracy: 0.8793\n",
            "Epoch 15/20\n",
            "48000/48000 [==============================] - 1s 22us/sample - loss: 0.2575 - accuracy: 0.9046 - val_loss: 0.3281 - val_accuracy: 0.8788\n",
            "Epoch 16/20\n",
            "48000/48000 [==============================] - 1s 23us/sample - loss: 0.2509 - accuracy: 0.9065 - val_loss: 0.3116 - val_accuracy: 0.8899\n",
            "Epoch 17/20\n",
            "48000/48000 [==============================] - 1s 21us/sample - loss: 0.2416 - accuracy: 0.9110 - val_loss: 0.2993 - val_accuracy: 0.8910\n",
            "Epoch 18/20\n",
            "48000/48000 [==============================] - 1s 20us/sample - loss: 0.2334 - accuracy: 0.9136 - val_loss: 0.3210 - val_accuracy: 0.8836\n",
            "Epoch 19/20\n",
            "48000/48000 [==============================] - 1s 20us/sample - loss: 0.2300 - accuracy: 0.9148 - val_loss: 0.3218 - val_accuracy: 0.8847\n",
            "Epoch 20/20\n",
            "48000/48000 [==============================] - 1s 21us/sample - loss: 0.2265 - accuracy: 0.9158 - val_loss: 0.3006 - val_accuracy: 0.8941\n"
          ],
          "name": "stdout"
        },
        {
          "output_type": "display_data",
          "data": {
            "text/html": [
              "<span style=\"color:#4527A0\"><h1 style=\"font-size:18px\">Trial complete</h1></span>"
            ],
            "text/plain": [
              "<IPython.core.display.HTML object>"
            ]
          },
          "metadata": {
            "tags": []
          }
        },
        {
          "output_type": "display_data",
          "data": {
            "text/html": [
              "<span style=\"color:#4527A0\"><h1 style=\"font-size:18px\">Trial summary</h1></span>"
            ],
            "text/plain": [
              "<IPython.core.display.HTML object>"
            ]
          },
          "metadata": {
            "tags": []
          }
        },
        {
          "output_type": "display_data",
          "data": {
            "text/html": [
              "<span style=\"color:cyan\"> |-Trial ID: 442d43c196d2840c9c44e0d82368398a</span>"
            ],
            "text/plain": [
              "<IPython.core.display.HTML object>"
            ]
          },
          "metadata": {
            "tags": []
          }
        },
        {
          "output_type": "display_data",
          "data": {
            "text/html": [
              "<span style=\"color:cyan\"> |-Score: 0.8940833210945129</span>"
            ],
            "text/plain": [
              "<IPython.core.display.HTML object>"
            ]
          },
          "metadata": {
            "tags": []
          }
        },
        {
          "output_type": "display_data",
          "data": {
            "text/html": [
              "<span style=\"color:cyan\"> |-Best step: 0</span>"
            ],
            "text/plain": [
              "<IPython.core.display.HTML object>"
            ]
          },
          "metadata": {
            "tags": []
          }
        },
        {
          "output_type": "display_data",
          "data": {
            "text/html": [
              "<span style=\"color:#7E57C2\"><h2 style=\"font-size:16px\">Hyperparameters:</h2></span>"
            ],
            "text/plain": [
              "<IPython.core.display.HTML object>"
            ]
          },
          "metadata": {
            "tags": []
          }
        },
        {
          "output_type": "display_data",
          "data": {
            "text/html": [
              "<span style=\"color:cyan\"> |-activation: sigmoid</span>"
            ],
            "text/plain": [
              "<IPython.core.display.HTML object>"
            ]
          },
          "metadata": {
            "tags": []
          }
        },
        {
          "output_type": "display_data",
          "data": {
            "text/html": [
              "<span style=\"color:blue\"> |-optimizer: adam</span>"
            ],
            "text/plain": [
              "<IPython.core.display.HTML object>"
            ]
          },
          "metadata": {
            "tags": []
          }
        },
        {
          "output_type": "display_data",
          "data": {
            "text/html": [
              "<span style=\"color:cyan\"> |-units_hidden: 416</span>"
            ],
            "text/plain": [
              "<IPython.core.display.HTML object>"
            ]
          },
          "metadata": {
            "tags": []
          }
        },
        {
          "output_type": "display_data",
          "data": {
            "text/html": [
              "<span style=\"color:blue\"> |-units_input: 544</span>"
            ],
            "text/plain": [
              "<IPython.core.display.HTML object>"
            ]
          },
          "metadata": {
            "tags": []
          }
        },
        {
          "output_type": "stream",
          "text": [
            "Train on 48000 samples, validate on 12000 samples\n",
            "Epoch 1/20\n",
            "48000/48000 [==============================] - 1s 30us/sample - loss: 0.6135 - accuracy: 0.7971 - val_loss: 0.4723 - val_accuracy: 0.8392\n",
            "Epoch 2/20\n",
            "48000/48000 [==============================] - 1s 22us/sample - loss: 0.4145 - accuracy: 0.8515 - val_loss: 0.4015 - val_accuracy: 0.8593\n",
            "Epoch 3/20\n",
            "48000/48000 [==============================] - 1s 22us/sample - loss: 0.3764 - accuracy: 0.8648 - val_loss: 0.3754 - val_accuracy: 0.8674\n",
            "Epoch 4/20\n",
            "48000/48000 [==============================] - 1s 22us/sample - loss: 0.3459 - accuracy: 0.8726 - val_loss: 0.3766 - val_accuracy: 0.8649\n",
            "Epoch 5/20\n",
            "48000/48000 [==============================] - 1s 22us/sample - loss: 0.3253 - accuracy: 0.8799 - val_loss: 0.3763 - val_accuracy: 0.8658\n",
            "Epoch 6/20\n",
            "48000/48000 [==============================] - 1s 23us/sample - loss: 0.3070 - accuracy: 0.8875 - val_loss: 0.3540 - val_accuracy: 0.8753\n",
            "Epoch 7/20\n",
            "48000/48000 [==============================] - 1s 23us/sample - loss: 0.2992 - accuracy: 0.8880 - val_loss: 0.3415 - val_accuracy: 0.8793\n",
            "Epoch 8/20\n",
            "48000/48000 [==============================] - 1s 22us/sample - loss: 0.2842 - accuracy: 0.8955 - val_loss: 0.3281 - val_accuracy: 0.8799\n",
            "Epoch 9/20\n",
            "48000/48000 [==============================] - 1s 22us/sample - loss: 0.2732 - accuracy: 0.8979 - val_loss: 0.3436 - val_accuracy: 0.8799\n",
            "Epoch 10/20\n",
            "48000/48000 [==============================] - 1s 22us/sample - loss: 0.2577 - accuracy: 0.9035 - val_loss: 0.3380 - val_accuracy: 0.8812\n",
            "Epoch 11/20\n",
            "48000/48000 [==============================] - 1s 23us/sample - loss: 0.2522 - accuracy: 0.9062 - val_loss: 0.3370 - val_accuracy: 0.8796\n",
            "Epoch 12/20\n",
            "48000/48000 [==============================] - 1s 23us/sample - loss: 0.2366 - accuracy: 0.9127 - val_loss: 0.3206 - val_accuracy: 0.8864\n",
            "Epoch 13/20\n",
            "48000/48000 [==============================] - 1s 22us/sample - loss: 0.2320 - accuracy: 0.9123 - val_loss: 0.3261 - val_accuracy: 0.8846\n",
            "Epoch 14/20\n",
            "48000/48000 [==============================] - 1s 22us/sample - loss: 0.2244 - accuracy: 0.9172 - val_loss: 0.3177 - val_accuracy: 0.8858\n",
            "Epoch 15/20\n",
            "48000/48000 [==============================] - 1s 23us/sample - loss: 0.2129 - accuracy: 0.9202 - val_loss: 0.3218 - val_accuracy: 0.8886\n",
            "Epoch 16/20\n",
            "48000/48000 [==============================] - 1s 23us/sample - loss: 0.2101 - accuracy: 0.9211 - val_loss: 0.3173 - val_accuracy: 0.8898\n",
            "Epoch 17/20\n",
            "48000/48000 [==============================] - 1s 22us/sample - loss: 0.2007 - accuracy: 0.9247 - val_loss: 0.3353 - val_accuracy: 0.8873\n",
            "Epoch 18/20\n",
            "48000/48000 [==============================] - 1s 22us/sample - loss: 0.1967 - accuracy: 0.9256 - val_loss: 0.3285 - val_accuracy: 0.8863\n",
            "Epoch 19/20\n",
            "48000/48000 [==============================] - 1s 22us/sample - loss: 0.1911 - accuracy: 0.9277 - val_loss: 0.3209 - val_accuracy: 0.8932\n",
            "Epoch 20/20\n",
            "48000/48000 [==============================] - 1s 22us/sample - loss: 0.1828 - accuracy: 0.9308 - val_loss: 0.3298 - val_accuracy: 0.8923\n"
          ],
          "name": "stdout"
        },
        {
          "output_type": "display_data",
          "data": {
            "text/html": [
              "<span style=\"color:#4527A0\"><h1 style=\"font-size:18px\">Trial complete</h1></span>"
            ],
            "text/plain": [
              "<IPython.core.display.HTML object>"
            ]
          },
          "metadata": {
            "tags": []
          }
        },
        {
          "output_type": "display_data",
          "data": {
            "text/html": [
              "<span style=\"color:#4527A0\"><h1 style=\"font-size:18px\">Trial summary</h1></span>"
            ],
            "text/plain": [
              "<IPython.core.display.HTML object>"
            ]
          },
          "metadata": {
            "tags": []
          }
        },
        {
          "output_type": "display_data",
          "data": {
            "text/html": [
              "<span style=\"color:cyan\"> |-Trial ID: 04f93499d459d2bf310275a2d055419d</span>"
            ],
            "text/plain": [
              "<IPython.core.display.HTML object>"
            ]
          },
          "metadata": {
            "tags": []
          }
        },
        {
          "output_type": "display_data",
          "data": {
            "text/html": [
              "<span style=\"color:cyan\"> |-Score: 0.8931666612625122</span>"
            ],
            "text/plain": [
              "<IPython.core.display.HTML object>"
            ]
          },
          "metadata": {
            "tags": []
          }
        },
        {
          "output_type": "display_data",
          "data": {
            "text/html": [
              "<span style=\"color:cyan\"> |-Best step: 0</span>"
            ],
            "text/plain": [
              "<IPython.core.display.HTML object>"
            ]
          },
          "metadata": {
            "tags": []
          }
        },
        {
          "output_type": "display_data",
          "data": {
            "text/html": [
              "<span style=\"color:#7E57C2\"><h2 style=\"font-size:16px\">Hyperparameters:</h2></span>"
            ],
            "text/plain": [
              "<IPython.core.display.HTML object>"
            ]
          },
          "metadata": {
            "tags": []
          }
        },
        {
          "output_type": "display_data",
          "data": {
            "text/html": [
              "<span style=\"color:cyan\"> |-activation: selu</span>"
            ],
            "text/plain": [
              "<IPython.core.display.HTML object>"
            ]
          },
          "metadata": {
            "tags": []
          }
        },
        {
          "output_type": "display_data",
          "data": {
            "text/html": [
              "<span style=\"color:blue\"> |-optimizer: adam</span>"
            ],
            "text/plain": [
              "<IPython.core.display.HTML object>"
            ]
          },
          "metadata": {
            "tags": []
          }
        },
        {
          "output_type": "display_data",
          "data": {
            "text/html": [
              "<span style=\"color:cyan\"> |-units_hidden: 480</span>"
            ],
            "text/plain": [
              "<IPython.core.display.HTML object>"
            ]
          },
          "metadata": {
            "tags": []
          }
        },
        {
          "output_type": "display_data",
          "data": {
            "text/html": [
              "<span style=\"color:blue\"> |-units_input: 832</span>"
            ],
            "text/plain": [
              "<IPython.core.display.HTML object>"
            ]
          },
          "metadata": {
            "tags": []
          }
        },
        {
          "output_type": "stream",
          "text": [
            "Train on 48000 samples, validate on 12000 samples\n",
            "Epoch 1/20\n",
            "48000/48000 [==============================] - 1s 27us/sample - loss: 0.6099 - accuracy: 0.7990 - val_loss: 0.4530 - val_accuracy: 0.8417\n",
            "Epoch 2/20\n",
            "48000/48000 [==============================] - 1s 21us/sample - loss: 0.4075 - accuracy: 0.8536 - val_loss: 0.3824 - val_accuracy: 0.8598\n",
            "Epoch 3/20\n",
            "48000/48000 [==============================] - 1s 21us/sample - loss: 0.3707 - accuracy: 0.8643 - val_loss: 0.3720 - val_accuracy: 0.8662\n",
            "Epoch 4/20\n",
            "48000/48000 [==============================] - 1s 21us/sample - loss: 0.3410 - accuracy: 0.8746 - val_loss: 0.3418 - val_accuracy: 0.8749\n",
            "Epoch 5/20\n",
            "48000/48000 [==============================] - 1s 20us/sample - loss: 0.3159 - accuracy: 0.8830 - val_loss: 0.3713 - val_accuracy: 0.8669\n",
            "Epoch 6/20\n",
            "48000/48000 [==============================] - 1s 21us/sample - loss: 0.3087 - accuracy: 0.8856 - val_loss: 0.3609 - val_accuracy: 0.8727\n",
            "Epoch 7/20\n",
            "48000/48000 [==============================] - 1s 21us/sample - loss: 0.2890 - accuracy: 0.8920 - val_loss: 0.3561 - val_accuracy: 0.8742\n",
            "Epoch 8/20\n",
            "48000/48000 [==============================] - 1s 23us/sample - loss: 0.2789 - accuracy: 0.8958 - val_loss: 0.3301 - val_accuracy: 0.8815\n",
            "Epoch 9/20\n",
            "48000/48000 [==============================] - 1s 22us/sample - loss: 0.2658 - accuracy: 0.9031 - val_loss: 0.3371 - val_accuracy: 0.8837\n",
            "Epoch 10/20\n",
            "48000/48000 [==============================] - 1s 23us/sample - loss: 0.2554 - accuracy: 0.9044 - val_loss: 0.3264 - val_accuracy: 0.8796\n",
            "Epoch 11/20\n",
            "48000/48000 [==============================] - 1s 25us/sample - loss: 0.2459 - accuracy: 0.9088 - val_loss: 0.3244 - val_accuracy: 0.8842\n",
            "Epoch 12/20\n",
            "48000/48000 [==============================] - 1s 25us/sample - loss: 0.2412 - accuracy: 0.9101 - val_loss: 0.3349 - val_accuracy: 0.8855\n",
            "Epoch 13/20\n",
            "48000/48000 [==============================] - 1s 21us/sample - loss: 0.2315 - accuracy: 0.9132 - val_loss: 0.3362 - val_accuracy: 0.8816\n",
            "Epoch 14/20\n",
            "48000/48000 [==============================] - 1s 21us/sample - loss: 0.2208 - accuracy: 0.9176 - val_loss: 0.3241 - val_accuracy: 0.8850\n",
            "Epoch 15/20\n",
            "48000/48000 [==============================] - 1s 24us/sample - loss: 0.2163 - accuracy: 0.9179 - val_loss: 0.3534 - val_accuracy: 0.8806\n",
            "Epoch 16/20\n",
            "48000/48000 [==============================] - 1s 23us/sample - loss: 0.2150 - accuracy: 0.9192 - val_loss: 0.3203 - val_accuracy: 0.8878\n",
            "Epoch 17/20\n",
            "48000/48000 [==============================] - 1s 21us/sample - loss: 0.2042 - accuracy: 0.9235 - val_loss: 0.3226 - val_accuracy: 0.8908\n",
            "Epoch 18/20\n",
            "48000/48000 [==============================] - 1s 21us/sample - loss: 0.2016 - accuracy: 0.9244 - val_loss: 0.3412 - val_accuracy: 0.8883\n",
            "Epoch 19/20\n",
            "48000/48000 [==============================] - 1s 21us/sample - loss: 0.1938 - accuracy: 0.9277 - val_loss: 0.3590 - val_accuracy: 0.8815\n",
            "Epoch 20/20\n",
            "48000/48000 [==============================] - 1s 20us/sample - loss: 0.1829 - accuracy: 0.9301 - val_loss: 0.3421 - val_accuracy: 0.8900\n"
          ],
          "name": "stdout"
        },
        {
          "output_type": "display_data",
          "data": {
            "text/html": [
              "<span style=\"color:#4527A0\"><h1 style=\"font-size:18px\">Trial complete</h1></span>"
            ],
            "text/plain": [
              "<IPython.core.display.HTML object>"
            ]
          },
          "metadata": {
            "tags": []
          }
        },
        {
          "output_type": "display_data",
          "data": {
            "text/html": [
              "<span style=\"color:#4527A0\"><h1 style=\"font-size:18px\">Trial summary</h1></span>"
            ],
            "text/plain": [
              "<IPython.core.display.HTML object>"
            ]
          },
          "metadata": {
            "tags": []
          }
        },
        {
          "output_type": "display_data",
          "data": {
            "text/html": [
              "<span style=\"color:cyan\"> |-Trial ID: a5f0e53a9fb55735c981367567508c54</span>"
            ],
            "text/plain": [
              "<IPython.core.display.HTML object>"
            ]
          },
          "metadata": {
            "tags": []
          }
        },
        {
          "output_type": "display_data",
          "data": {
            "text/html": [
              "<span style=\"color:cyan\"> |-Score: 0.89083331823349</span>"
            ],
            "text/plain": [
              "<IPython.core.display.HTML object>"
            ]
          },
          "metadata": {
            "tags": []
          }
        },
        {
          "output_type": "display_data",
          "data": {
            "text/html": [
              "<span style=\"color:cyan\"> |-Best step: 0</span>"
            ],
            "text/plain": [
              "<IPython.core.display.HTML object>"
            ]
          },
          "metadata": {
            "tags": []
          }
        },
        {
          "output_type": "display_data",
          "data": {
            "text/html": [
              "<span style=\"color:#7E57C2\"><h2 style=\"font-size:16px\">Hyperparameters:</h2></span>"
            ],
            "text/plain": [
              "<IPython.core.display.HTML object>"
            ]
          },
          "metadata": {
            "tags": []
          }
        },
        {
          "output_type": "display_data",
          "data": {
            "text/html": [
              "<span style=\"color:cyan\"> |-activation: selu</span>"
            ],
            "text/plain": [
              "<IPython.core.display.HTML object>"
            ]
          },
          "metadata": {
            "tags": []
          }
        },
        {
          "output_type": "display_data",
          "data": {
            "text/html": [
              "<span style=\"color:blue\"> |-optimizer: adam</span>"
            ],
            "text/plain": [
              "<IPython.core.display.HTML object>"
            ]
          },
          "metadata": {
            "tags": []
          }
        },
        {
          "output_type": "display_data",
          "data": {
            "text/html": [
              "<span style=\"color:cyan\"> |-units_hidden: 160</span>"
            ],
            "text/plain": [
              "<IPython.core.display.HTML object>"
            ]
          },
          "metadata": {
            "tags": []
          }
        },
        {
          "output_type": "display_data",
          "data": {
            "text/html": [
              "<span style=\"color:blue\"> |-units_input: 832</span>"
            ],
            "text/plain": [
              "<IPython.core.display.HTML object>"
            ]
          },
          "metadata": {
            "tags": []
          }
        },
        {
          "output_type": "stream",
          "text": [
            "Train on 48000 samples, validate on 12000 samples\n",
            "Epoch 1/20\n",
            "48000/48000 [==============================] - 1s 29us/sample - loss: 0.5251 - accuracy: 0.8154 - val_loss: 0.4039 - val_accuracy: 0.8568\n",
            "Epoch 2/20\n",
            "48000/48000 [==============================] - 1s 21us/sample - loss: 0.3659 - accuracy: 0.8674 - val_loss: 0.3487 - val_accuracy: 0.8746\n",
            "Epoch 3/20\n",
            "48000/48000 [==============================] - 1s 21us/sample - loss: 0.3242 - accuracy: 0.8817 - val_loss: 0.3465 - val_accuracy: 0.8736\n",
            "Epoch 4/20\n",
            "48000/48000 [==============================] - 1s 21us/sample - loss: 0.2976 - accuracy: 0.8890 - val_loss: 0.3556 - val_accuracy: 0.8712\n",
            "Epoch 5/20\n",
            "48000/48000 [==============================] - 1s 22us/sample - loss: 0.2808 - accuracy: 0.8968 - val_loss: 0.3192 - val_accuracy: 0.8852\n",
            "Epoch 6/20\n",
            "48000/48000 [==============================] - 1s 20us/sample - loss: 0.2592 - accuracy: 0.9046 - val_loss: 0.3129 - val_accuracy: 0.8847\n",
            "Epoch 7/20\n",
            "48000/48000 [==============================] - 1s 22us/sample - loss: 0.2539 - accuracy: 0.9055 - val_loss: 0.3073 - val_accuracy: 0.8874\n",
            "Epoch 8/20\n",
            "48000/48000 [==============================] - 1s 21us/sample - loss: 0.2365 - accuracy: 0.9117 - val_loss: 0.3131 - val_accuracy: 0.8872\n",
            "Epoch 9/20\n",
            "48000/48000 [==============================] - 1s 21us/sample - loss: 0.2291 - accuracy: 0.9139 - val_loss: 0.3052 - val_accuracy: 0.8911\n",
            "Epoch 10/20\n",
            "48000/48000 [==============================] - 1s 22us/sample - loss: 0.2120 - accuracy: 0.9203 - val_loss: 0.3005 - val_accuracy: 0.8947\n",
            "Epoch 11/20\n",
            "48000/48000 [==============================] - 1s 22us/sample - loss: 0.2048 - accuracy: 0.9227 - val_loss: 0.3084 - val_accuracy: 0.8923\n",
            "Epoch 12/20\n",
            "48000/48000 [==============================] - 1s 21us/sample - loss: 0.2037 - accuracy: 0.9230 - val_loss: 0.3399 - val_accuracy: 0.8835\n",
            "Epoch 13/20\n",
            "48000/48000 [==============================] - 1s 21us/sample - loss: 0.1939 - accuracy: 0.9253 - val_loss: 0.3124 - val_accuracy: 0.8932\n",
            "Epoch 14/20\n",
            "48000/48000 [==============================] - 1s 22us/sample - loss: 0.1827 - accuracy: 0.9316 - val_loss: 0.3238 - val_accuracy: 0.8878\n",
            "Epoch 15/20\n",
            "48000/48000 [==============================] - 1s 21us/sample - loss: 0.1708 - accuracy: 0.9351 - val_loss: 0.3134 - val_accuracy: 0.8941\n",
            "Epoch 16/20\n",
            "48000/48000 [==============================] - 1s 21us/sample - loss: 0.1696 - accuracy: 0.9359 - val_loss: 0.3305 - val_accuracy: 0.8905\n",
            "Epoch 17/20\n",
            "48000/48000 [==============================] - 1s 21us/sample - loss: 0.1639 - accuracy: 0.9370 - val_loss: 0.3262 - val_accuracy: 0.8945\n",
            "Epoch 18/20\n",
            "48000/48000 [==============================] - 1s 21us/sample - loss: 0.1576 - accuracy: 0.9398 - val_loss: 0.3259 - val_accuracy: 0.8967\n",
            "Epoch 19/20\n",
            "48000/48000 [==============================] - 1s 22us/sample - loss: 0.1476 - accuracy: 0.9441 - val_loss: 0.3244 - val_accuracy: 0.8975\n",
            "Epoch 20/20\n",
            "48000/48000 [==============================] - 1s 21us/sample - loss: 0.1418 - accuracy: 0.9454 - val_loss: 0.3278 - val_accuracy: 0.8965\n"
          ],
          "name": "stdout"
        },
        {
          "output_type": "display_data",
          "data": {
            "text/html": [
              "<span style=\"color:#4527A0\"><h1 style=\"font-size:18px\">Trial complete</h1></span>"
            ],
            "text/plain": [
              "<IPython.core.display.HTML object>"
            ]
          },
          "metadata": {
            "tags": []
          }
        },
        {
          "output_type": "display_data",
          "data": {
            "text/html": [
              "<span style=\"color:#4527A0\"><h1 style=\"font-size:18px\">Trial summary</h1></span>"
            ],
            "text/plain": [
              "<IPython.core.display.HTML object>"
            ]
          },
          "metadata": {
            "tags": []
          }
        },
        {
          "output_type": "display_data",
          "data": {
            "text/html": [
              "<span style=\"color:cyan\"> |-Trial ID: 37595f617531845c5520a5ff1002d16c</span>"
            ],
            "text/plain": [
              "<IPython.core.display.HTML object>"
            ]
          },
          "metadata": {
            "tags": []
          }
        },
        {
          "output_type": "display_data",
          "data": {
            "text/html": [
              "<span style=\"color:cyan\"> |-Score: 0.8974999785423279</span>"
            ],
            "text/plain": [
              "<IPython.core.display.HTML object>"
            ]
          },
          "metadata": {
            "tags": []
          }
        },
        {
          "output_type": "display_data",
          "data": {
            "text/html": [
              "<span style=\"color:cyan\"> |-Best step: 0</span>"
            ],
            "text/plain": [
              "<IPython.core.display.HTML object>"
            ]
          },
          "metadata": {
            "tags": []
          }
        },
        {
          "output_type": "display_data",
          "data": {
            "text/html": [
              "<span style=\"color:#7E57C2\"><h2 style=\"font-size:16px\">Hyperparameters:</h2></span>"
            ],
            "text/plain": [
              "<IPython.core.display.HTML object>"
            ]
          },
          "metadata": {
            "tags": []
          }
        },
        {
          "output_type": "display_data",
          "data": {
            "text/html": [
              "<span style=\"color:cyan\"> |-activation: relu</span>"
            ],
            "text/plain": [
              "<IPython.core.display.HTML object>"
            ]
          },
          "metadata": {
            "tags": []
          }
        },
        {
          "output_type": "display_data",
          "data": {
            "text/html": [
              "<span style=\"color:blue\"> |-optimizer: adam</span>"
            ],
            "text/plain": [
              "<IPython.core.display.HTML object>"
            ]
          },
          "metadata": {
            "tags": []
          }
        },
        {
          "output_type": "display_data",
          "data": {
            "text/html": [
              "<span style=\"color:cyan\"> |-units_hidden: 480</span>"
            ],
            "text/plain": [
              "<IPython.core.display.HTML object>"
            ]
          },
          "metadata": {
            "tags": []
          }
        },
        {
          "output_type": "display_data",
          "data": {
            "text/html": [
              "<span style=\"color:blue\"> |-units_input: 576</span>"
            ],
            "text/plain": [
              "<IPython.core.display.HTML object>"
            ]
          },
          "metadata": {
            "tags": []
          }
        },
        {
          "output_type": "stream",
          "text": [
            "Train on 48000 samples, validate on 12000 samples\n",
            "Epoch 1/20\n",
            "48000/48000 [==============================] - 1s 29us/sample - loss: 0.5523 - accuracy: 0.8026 - val_loss: 0.4330 - val_accuracy: 0.8468\n",
            "Epoch 2/20\n",
            "48000/48000 [==============================] - 1s 22us/sample - loss: 0.3931 - accuracy: 0.8584 - val_loss: 0.3855 - val_accuracy: 0.8605\n",
            "Epoch 3/20\n",
            "48000/48000 [==============================] - 1s 22us/sample - loss: 0.3578 - accuracy: 0.8696 - val_loss: 0.3525 - val_accuracy: 0.8708\n",
            "Epoch 4/20\n",
            "48000/48000 [==============================] - 1s 22us/sample - loss: 0.3264 - accuracy: 0.8783 - val_loss: 0.3284 - val_accuracy: 0.8813\n",
            "Epoch 5/20\n",
            "48000/48000 [==============================] - 1s 21us/sample - loss: 0.3059 - accuracy: 0.8859 - val_loss: 0.3546 - val_accuracy: 0.8727\n",
            "Epoch 6/20\n",
            "48000/48000 [==============================] - 1s 21us/sample - loss: 0.2867 - accuracy: 0.8943 - val_loss: 0.3514 - val_accuracy: 0.8720\n",
            "Epoch 7/20\n",
            "48000/48000 [==============================] - 1s 22us/sample - loss: 0.2689 - accuracy: 0.8983 - val_loss: 0.3155 - val_accuracy: 0.8855\n",
            "Epoch 8/20\n",
            "48000/48000 [==============================] - 1s 22us/sample - loss: 0.2581 - accuracy: 0.9038 - val_loss: 0.3280 - val_accuracy: 0.8793\n",
            "Epoch 9/20\n",
            "48000/48000 [==============================] - 1s 22us/sample - loss: 0.2428 - accuracy: 0.9086 - val_loss: 0.2983 - val_accuracy: 0.8908\n",
            "Epoch 10/20\n",
            "48000/48000 [==============================] - 1s 21us/sample - loss: 0.2385 - accuracy: 0.9109 - val_loss: 0.3489 - val_accuracy: 0.8684\n",
            "Epoch 11/20\n",
            "48000/48000 [==============================] - 1s 23us/sample - loss: 0.2229 - accuracy: 0.9170 - val_loss: 0.2942 - val_accuracy: 0.8921\n",
            "Epoch 12/20\n",
            "48000/48000 [==============================] - 1s 21us/sample - loss: 0.2100 - accuracy: 0.9212 - val_loss: 0.3054 - val_accuracy: 0.8916\n",
            "Epoch 13/20\n",
            "48000/48000 [==============================] - 1s 22us/sample - loss: 0.2057 - accuracy: 0.9221 - val_loss: 0.2980 - val_accuracy: 0.8928\n",
            "Epoch 14/20\n",
            "48000/48000 [==============================] - 1s 22us/sample - loss: 0.1923 - accuracy: 0.9273 - val_loss: 0.3174 - val_accuracy: 0.8888\n",
            "Epoch 15/20\n",
            "48000/48000 [==============================] - 1s 22us/sample - loss: 0.1809 - accuracy: 0.9321 - val_loss: 0.2993 - val_accuracy: 0.8947\n",
            "Epoch 16/20\n",
            "48000/48000 [==============================] - 1s 22us/sample - loss: 0.1788 - accuracy: 0.9336 - val_loss: 0.3084 - val_accuracy: 0.8942\n",
            "Epoch 17/20\n",
            "48000/48000 [==============================] - 1s 21us/sample - loss: 0.1676 - accuracy: 0.9360 - val_loss: 0.3136 - val_accuracy: 0.8919\n",
            "Epoch 18/20\n",
            "48000/48000 [==============================] - 1s 22us/sample - loss: 0.1542 - accuracy: 0.9433 - val_loss: 0.3389 - val_accuracy: 0.8878\n",
            "Epoch 19/20\n",
            "48000/48000 [==============================] - 1s 22us/sample - loss: 0.1471 - accuracy: 0.9452 - val_loss: 0.3425 - val_accuracy: 0.8865\n",
            "Epoch 20/20\n",
            "48000/48000 [==============================] - 1s 22us/sample - loss: 0.1464 - accuracy: 0.9451 - val_loss: 0.3184 - val_accuracy: 0.8935\n"
          ],
          "name": "stdout"
        },
        {
          "output_type": "display_data",
          "data": {
            "text/html": [
              "<span style=\"color:#4527A0\"><h1 style=\"font-size:18px\">Trial complete</h1></span>"
            ],
            "text/plain": [
              "<IPython.core.display.HTML object>"
            ]
          },
          "metadata": {
            "tags": []
          }
        },
        {
          "output_type": "display_data",
          "data": {
            "text/html": [
              "<span style=\"color:#4527A0\"><h1 style=\"font-size:18px\">Trial summary</h1></span>"
            ],
            "text/plain": [
              "<IPython.core.display.HTML object>"
            ]
          },
          "metadata": {
            "tags": []
          }
        },
        {
          "output_type": "display_data",
          "data": {
            "text/html": [
              "<span style=\"color:cyan\"> |-Trial ID: 2fd77766e5fbf5cc88180127e3d4cb94</span>"
            ],
            "text/plain": [
              "<IPython.core.display.HTML object>"
            ]
          },
          "metadata": {
            "tags": []
          }
        },
        {
          "output_type": "display_data",
          "data": {
            "text/html": [
              "<span style=\"color:cyan\"> |-Score: 0.8947499990463257</span>"
            ],
            "text/plain": [
              "<IPython.core.display.HTML object>"
            ]
          },
          "metadata": {
            "tags": []
          }
        },
        {
          "output_type": "display_data",
          "data": {
            "text/html": [
              "<span style=\"color:cyan\"> |-Best step: 0</span>"
            ],
            "text/plain": [
              "<IPython.core.display.HTML object>"
            ]
          },
          "metadata": {
            "tags": []
          }
        },
        {
          "output_type": "display_data",
          "data": {
            "text/html": [
              "<span style=\"color:#7E57C2\"><h2 style=\"font-size:16px\">Hyperparameters:</h2></span>"
            ],
            "text/plain": [
              "<IPython.core.display.HTML object>"
            ]
          },
          "metadata": {
            "tags": []
          }
        },
        {
          "output_type": "display_data",
          "data": {
            "text/html": [
              "<span style=\"color:cyan\"> |-activation: tanh</span>"
            ],
            "text/plain": [
              "<IPython.core.display.HTML object>"
            ]
          },
          "metadata": {
            "tags": []
          }
        },
        {
          "output_type": "display_data",
          "data": {
            "text/html": [
              "<span style=\"color:blue\"> |-optimizer: adam</span>"
            ],
            "text/plain": [
              "<IPython.core.display.HTML object>"
            ]
          },
          "metadata": {
            "tags": []
          }
        },
        {
          "output_type": "display_data",
          "data": {
            "text/html": [
              "<span style=\"color:cyan\"> |-units_hidden: 576</span>"
            ],
            "text/plain": [
              "<IPython.core.display.HTML object>"
            ]
          },
          "metadata": {
            "tags": []
          }
        },
        {
          "output_type": "display_data",
          "data": {
            "text/html": [
              "<span style=\"color:blue\"> |-units_input: 704</span>"
            ],
            "text/plain": [
              "<IPython.core.display.HTML object>"
            ]
          },
          "metadata": {
            "tags": []
          }
        },
        {
          "output_type": "stream",
          "text": [
            "Train on 48000 samples, validate on 12000 samples\n",
            "Epoch 1/20\n",
            "48000/48000 [==============================] - 1s 25us/sample - loss: 1.3072 - accuracy: 0.6369 - val_loss: 0.8880 - val_accuracy: 0.7208\n",
            "Epoch 2/20\n",
            "48000/48000 [==============================] - 1s 21us/sample - loss: 0.7937 - accuracy: 0.7501 - val_loss: 0.7069 - val_accuracy: 0.7756\n",
            "Epoch 3/20\n",
            "48000/48000 [==============================] - 1s 19us/sample - loss: 0.6725 - accuracy: 0.7862 - val_loss: 0.6272 - val_accuracy: 0.7974\n",
            "Epoch 4/20\n",
            "48000/48000 [==============================] - 1s 20us/sample - loss: 0.6079 - accuracy: 0.8039 - val_loss: 0.5872 - val_accuracy: 0.8055\n",
            "Epoch 5/20\n",
            "48000/48000 [==============================] - 1s 20us/sample - loss: 0.5681 - accuracy: 0.8141 - val_loss: 0.5524 - val_accuracy: 0.8151\n",
            "Epoch 6/20\n",
            "48000/48000 [==============================] - 1s 22us/sample - loss: 0.5404 - accuracy: 0.8213 - val_loss: 0.5282 - val_accuracy: 0.8237\n",
            "Epoch 7/20\n",
            "48000/48000 [==============================] - 1s 23us/sample - loss: 0.5201 - accuracy: 0.8254 - val_loss: 0.5176 - val_accuracy: 0.8241\n",
            "Epoch 8/20\n",
            "48000/48000 [==============================] - 1s 22us/sample - loss: 0.5039 - accuracy: 0.8311 - val_loss: 0.4995 - val_accuracy: 0.8282\n",
            "Epoch 9/20\n",
            "48000/48000 [==============================] - 1s 20us/sample - loss: 0.4909 - accuracy: 0.8351 - val_loss: 0.4876 - val_accuracy: 0.8320\n",
            "Epoch 10/20\n",
            "48000/48000 [==============================] - 1s 20us/sample - loss: 0.4799 - accuracy: 0.8387 - val_loss: 0.4810 - val_accuracy: 0.8358\n",
            "Epoch 11/20\n",
            "48000/48000 [==============================] - 1s 22us/sample - loss: 0.4705 - accuracy: 0.8402 - val_loss: 0.4720 - val_accuracy: 0.8382\n",
            "Epoch 12/20\n",
            "48000/48000 [==============================] - 1s 20us/sample - loss: 0.4636 - accuracy: 0.8413 - val_loss: 0.4704 - val_accuracy: 0.8378\n",
            "Epoch 13/20\n",
            "48000/48000 [==============================] - 1s 19us/sample - loss: 0.4547 - accuracy: 0.8451 - val_loss: 0.4593 - val_accuracy: 0.8412\n",
            "Epoch 14/20\n",
            "48000/48000 [==============================] - 1s 19us/sample - loss: 0.4488 - accuracy: 0.8462 - val_loss: 0.4605 - val_accuracy: 0.8379\n",
            "Epoch 15/20\n",
            "48000/48000 [==============================] - 1s 19us/sample - loss: 0.4429 - accuracy: 0.8478 - val_loss: 0.4603 - val_accuracy: 0.8370\n",
            "Epoch 16/20\n",
            "48000/48000 [==============================] - 1s 19us/sample - loss: 0.4382 - accuracy: 0.8499 - val_loss: 0.4456 - val_accuracy: 0.8439\n",
            "Epoch 17/20\n",
            "48000/48000 [==============================] - 1s 19us/sample - loss: 0.4330 - accuracy: 0.8516 - val_loss: 0.4492 - val_accuracy: 0.8408\n",
            "Epoch 18/20\n",
            "48000/48000 [==============================] - 1s 19us/sample - loss: 0.4294 - accuracy: 0.8528 - val_loss: 0.4369 - val_accuracy: 0.8491\n",
            "Epoch 19/20\n",
            "48000/48000 [==============================] - 1s 19us/sample - loss: 0.4241 - accuracy: 0.8541 - val_loss: 0.4319 - val_accuracy: 0.8490\n",
            "Epoch 20/20\n",
            "48000/48000 [==============================] - 1s 19us/sample - loss: 0.4204 - accuracy: 0.8554 - val_loss: 0.4316 - val_accuracy: 0.8504\n"
          ],
          "name": "stdout"
        },
        {
          "output_type": "display_data",
          "data": {
            "text/html": [
              "<span style=\"color:#4527A0\"><h1 style=\"font-size:18px\">Trial complete</h1></span>"
            ],
            "text/plain": [
              "<IPython.core.display.HTML object>"
            ]
          },
          "metadata": {
            "tags": []
          }
        },
        {
          "output_type": "display_data",
          "data": {
            "text/html": [
              "<span style=\"color:#4527A0\"><h1 style=\"font-size:18px\">Trial summary</h1></span>"
            ],
            "text/plain": [
              "<IPython.core.display.HTML object>"
            ]
          },
          "metadata": {
            "tags": []
          }
        },
        {
          "output_type": "display_data",
          "data": {
            "text/html": [
              "<span style=\"color:cyan\"> |-Trial ID: b63867f8b44a59c12d04ca4791e0fd5c</span>"
            ],
            "text/plain": [
              "<IPython.core.display.HTML object>"
            ]
          },
          "metadata": {
            "tags": []
          }
        },
        {
          "output_type": "display_data",
          "data": {
            "text/html": [
              "<span style=\"color:cyan\"> |-Score: 0.8504166603088379</span>"
            ],
            "text/plain": [
              "<IPython.core.display.HTML object>"
            ]
          },
          "metadata": {
            "tags": []
          }
        },
        {
          "output_type": "display_data",
          "data": {
            "text/html": [
              "<span style=\"color:cyan\"> |-Best step: 0</span>"
            ],
            "text/plain": [
              "<IPython.core.display.HTML object>"
            ]
          },
          "metadata": {
            "tags": []
          }
        },
        {
          "output_type": "display_data",
          "data": {
            "text/html": [
              "<span style=\"color:#7E57C2\"><h2 style=\"font-size:16px\">Hyperparameters:</h2></span>"
            ],
            "text/plain": [
              "<IPython.core.display.HTML object>"
            ]
          },
          "metadata": {
            "tags": []
          }
        },
        {
          "output_type": "display_data",
          "data": {
            "text/html": [
              "<span style=\"color:cyan\"> |-activation: relu</span>"
            ],
            "text/plain": [
              "<IPython.core.display.HTML object>"
            ]
          },
          "metadata": {
            "tags": []
          }
        },
        {
          "output_type": "display_data",
          "data": {
            "text/html": [
              "<span style=\"color:blue\"> |-optimizer: SGD</span>"
            ],
            "text/plain": [
              "<IPython.core.display.HTML object>"
            ]
          },
          "metadata": {
            "tags": []
          }
        },
        {
          "output_type": "display_data",
          "data": {
            "text/html": [
              "<span style=\"color:cyan\"> |-units_hidden: 192</span>"
            ],
            "text/plain": [
              "<IPython.core.display.HTML object>"
            ]
          },
          "metadata": {
            "tags": []
          }
        },
        {
          "output_type": "display_data",
          "data": {
            "text/html": [
              "<span style=\"color:blue\"> |-units_input: 544</span>"
            ],
            "text/plain": [
              "<IPython.core.display.HTML object>"
            ]
          },
          "metadata": {
            "tags": []
          }
        },
        {
          "output_type": "stream",
          "text": [
            "Train on 48000 samples, validate on 12000 samples\n",
            "Epoch 1/20\n",
            "48000/48000 [==============================] - 1s 27us/sample - loss: 0.6429 - accuracy: 0.7893 - val_loss: 0.4264 - val_accuracy: 0.8502\n",
            "Epoch 2/20\n",
            "48000/48000 [==============================] - 1s 21us/sample - loss: 0.4127 - accuracy: 0.8515 - val_loss: 0.3783 - val_accuracy: 0.8632\n",
            "Epoch 3/20\n",
            "48000/48000 [==============================] - 1s 21us/sample - loss: 0.3765 - accuracy: 0.8636 - val_loss: 0.3654 - val_accuracy: 0.8675\n",
            "Epoch 4/20\n",
            "48000/48000 [==============================] - 1s 20us/sample - loss: 0.3405 - accuracy: 0.8746 - val_loss: 0.4005 - val_accuracy: 0.8627\n",
            "Epoch 5/20\n",
            "48000/48000 [==============================] - 1s 20us/sample - loss: 0.3201 - accuracy: 0.8831 - val_loss: 0.3489 - val_accuracy: 0.8744\n",
            "Epoch 6/20\n",
            "48000/48000 [==============================] - 1s 22us/sample - loss: 0.3075 - accuracy: 0.8863 - val_loss: 0.3478 - val_accuracy: 0.8766\n",
            "Epoch 7/20\n",
            "48000/48000 [==============================] - 1s 20us/sample - loss: 0.2910 - accuracy: 0.8923 - val_loss: 0.3445 - val_accuracy: 0.8765\n",
            "Epoch 8/20\n",
            "48000/48000 [==============================] - 1s 24us/sample - loss: 0.2823 - accuracy: 0.8954 - val_loss: 0.3354 - val_accuracy: 0.8819\n",
            "Epoch 9/20\n",
            "48000/48000 [==============================] - 1s 22us/sample - loss: 0.2684 - accuracy: 0.8995 - val_loss: 0.3379 - val_accuracy: 0.8774\n",
            "Epoch 10/20\n",
            "48000/48000 [==============================] - 1s 22us/sample - loss: 0.2637 - accuracy: 0.9026 - val_loss: 0.3199 - val_accuracy: 0.8856\n",
            "Epoch 11/20\n",
            "48000/48000 [==============================] - 1s 22us/sample - loss: 0.2531 - accuracy: 0.9048 - val_loss: 0.3268 - val_accuracy: 0.8858\n",
            "Epoch 12/20\n",
            "48000/48000 [==============================] - 1s 21us/sample - loss: 0.2386 - accuracy: 0.9109 - val_loss: 0.3397 - val_accuracy: 0.8810\n",
            "Epoch 13/20\n",
            "48000/48000 [==============================] - 1s 21us/sample - loss: 0.2396 - accuracy: 0.9112 - val_loss: 0.3525 - val_accuracy: 0.8772\n",
            "Epoch 14/20\n",
            "48000/48000 [==============================] - 1s 21us/sample - loss: 0.2282 - accuracy: 0.9150 - val_loss: 0.3316 - val_accuracy: 0.8826\n",
            "Epoch 15/20\n",
            "48000/48000 [==============================] - 1s 21us/sample - loss: 0.2145 - accuracy: 0.9191 - val_loss: 0.3506 - val_accuracy: 0.8782\n",
            "Epoch 16/20\n",
            "48000/48000 [==============================] - 1s 21us/sample - loss: 0.2140 - accuracy: 0.9198 - val_loss: 0.3593 - val_accuracy: 0.8785\n",
            "Epoch 17/20\n",
            "48000/48000 [==============================] - 1s 21us/sample - loss: 0.2045 - accuracy: 0.9239 - val_loss: 0.3809 - val_accuracy: 0.8703\n",
            "Epoch 18/20\n",
            "48000/48000 [==============================] - 1s 21us/sample - loss: 0.2036 - accuracy: 0.9231 - val_loss: 0.3307 - val_accuracy: 0.8866\n",
            "Epoch 19/20\n",
            "48000/48000 [==============================] - 1s 21us/sample - loss: 0.1951 - accuracy: 0.9260 - val_loss: 0.3590 - val_accuracy: 0.8864\n",
            "Epoch 20/20\n",
            "48000/48000 [==============================] - 1s 20us/sample - loss: 0.1926 - accuracy: 0.9266 - val_loss: 0.3743 - val_accuracy: 0.8750\n"
          ],
          "name": "stdout"
        },
        {
          "output_type": "display_data",
          "data": {
            "text/html": [
              "<span style=\"color:#4527A0\"><h1 style=\"font-size:18px\">Trial complete</h1></span>"
            ],
            "text/plain": [
              "<IPython.core.display.HTML object>"
            ]
          },
          "metadata": {
            "tags": []
          }
        },
        {
          "output_type": "display_data",
          "data": {
            "text/html": [
              "<span style=\"color:#4527A0\"><h1 style=\"font-size:18px\">Trial summary</h1></span>"
            ],
            "text/plain": [
              "<IPython.core.display.HTML object>"
            ]
          },
          "metadata": {
            "tags": []
          }
        },
        {
          "output_type": "display_data",
          "data": {
            "text/html": [
              "<span style=\"color:cyan\"> |-Trial ID: 38e11e3f231c0ef22d869951156dbbf6</span>"
            ],
            "text/plain": [
              "<IPython.core.display.HTML object>"
            ]
          },
          "metadata": {
            "tags": []
          }
        },
        {
          "output_type": "display_data",
          "data": {
            "text/html": [
              "<span style=\"color:cyan\"> |-Score: 0.8865833282470703</span>"
            ],
            "text/plain": [
              "<IPython.core.display.HTML object>"
            ]
          },
          "metadata": {
            "tags": []
          }
        },
        {
          "output_type": "display_data",
          "data": {
            "text/html": [
              "<span style=\"color:cyan\"> |-Best step: 0</span>"
            ],
            "text/plain": [
              "<IPython.core.display.HTML object>"
            ]
          },
          "metadata": {
            "tags": []
          }
        },
        {
          "output_type": "display_data",
          "data": {
            "text/html": [
              "<span style=\"color:#7E57C2\"><h2 style=\"font-size:16px\">Hyperparameters:</h2></span>"
            ],
            "text/plain": [
              "<IPython.core.display.HTML object>"
            ]
          },
          "metadata": {
            "tags": []
          }
        },
        {
          "output_type": "display_data",
          "data": {
            "text/html": [
              "<span style=\"color:cyan\"> |-activation: selu</span>"
            ],
            "text/plain": [
              "<IPython.core.display.HTML object>"
            ]
          },
          "metadata": {
            "tags": []
          }
        },
        {
          "output_type": "display_data",
          "data": {
            "text/html": [
              "<span style=\"color:blue\"> |-optimizer: adam</span>"
            ],
            "text/plain": [
              "<IPython.core.display.HTML object>"
            ]
          },
          "metadata": {
            "tags": []
          }
        },
        {
          "output_type": "display_data",
          "data": {
            "text/html": [
              "<span style=\"color:cyan\"> |-units_hidden: 192</span>"
            ],
            "text/plain": [
              "<IPython.core.display.HTML object>"
            ]
          },
          "metadata": {
            "tags": []
          }
        },
        {
          "output_type": "display_data",
          "data": {
            "text/html": [
              "<span style=\"color:blue\"> |-units_input: 864</span>"
            ],
            "text/plain": [
              "<IPython.core.display.HTML object>"
            ]
          },
          "metadata": {
            "tags": []
          }
        },
        {
          "output_type": "stream",
          "text": [
            "Train on 48000 samples, validate on 12000 samples\n",
            "Epoch 1/20\n",
            "48000/48000 [==============================] - 1s 25us/sample - loss: 1.3200 - accuracy: 0.6305 - val_loss: 0.8910 - val_accuracy: 0.7259\n",
            "Epoch 2/20\n",
            "48000/48000 [==============================] - 1s 20us/sample - loss: 0.7966 - accuracy: 0.7537 - val_loss: 0.7116 - val_accuracy: 0.7778\n",
            "Epoch 3/20\n",
            "48000/48000 [==============================] - 1s 20us/sample - loss: 0.6756 - accuracy: 0.7854 - val_loss: 0.6325 - val_accuracy: 0.7982\n",
            "Epoch 4/20\n",
            "48000/48000 [==============================] - 1s 20us/sample - loss: 0.6127 - accuracy: 0.8025 - val_loss: 0.5855 - val_accuracy: 0.8069\n",
            "Epoch 5/20\n",
            "48000/48000 [==============================] - 1s 20us/sample - loss: 0.5718 - accuracy: 0.8116 - val_loss: 0.5517 - val_accuracy: 0.8182\n",
            "Epoch 6/20\n",
            "48000/48000 [==============================] - 1s 20us/sample - loss: 0.5432 - accuracy: 0.8189 - val_loss: 0.5400 - val_accuracy: 0.8159\n",
            "Epoch 7/20\n",
            "48000/48000 [==============================] - 1s 20us/sample - loss: 0.5218 - accuracy: 0.8252 - val_loss: 0.5201 - val_accuracy: 0.8227\n",
            "Epoch 8/20\n",
            "48000/48000 [==============================] - 1s 19us/sample - loss: 0.5059 - accuracy: 0.8293 - val_loss: 0.4980 - val_accuracy: 0.8309\n",
            "Epoch 9/20\n",
            "48000/48000 [==============================] - 1s 20us/sample - loss: 0.4924 - accuracy: 0.8326 - val_loss: 0.4913 - val_accuracy: 0.8311\n",
            "Epoch 10/20\n",
            "48000/48000 [==============================] - 1s 20us/sample - loss: 0.4805 - accuracy: 0.8374 - val_loss: 0.4841 - val_accuracy: 0.8307\n",
            "Epoch 11/20\n",
            "48000/48000 [==============================] - 1s 19us/sample - loss: 0.4715 - accuracy: 0.8378 - val_loss: 0.4717 - val_accuracy: 0.8363\n",
            "Epoch 12/20\n",
            "48000/48000 [==============================] - 1s 19us/sample - loss: 0.4639 - accuracy: 0.8409 - val_loss: 0.4680 - val_accuracy: 0.8357\n",
            "Epoch 13/20\n",
            "48000/48000 [==============================] - 1s 20us/sample - loss: 0.4556 - accuracy: 0.8441 - val_loss: 0.4657 - val_accuracy: 0.8389\n",
            "Epoch 14/20\n",
            "48000/48000 [==============================] - 1s 20us/sample - loss: 0.4500 - accuracy: 0.8449 - val_loss: 0.4514 - val_accuracy: 0.8438\n",
            "Epoch 15/20\n",
            "48000/48000 [==============================] - 1s 20us/sample - loss: 0.4432 - accuracy: 0.8464 - val_loss: 0.4468 - val_accuracy: 0.8447\n",
            "Epoch 16/20\n",
            "48000/48000 [==============================] - 1s 19us/sample - loss: 0.4381 - accuracy: 0.8490 - val_loss: 0.4418 - val_accuracy: 0.8458\n",
            "Epoch 17/20\n",
            "48000/48000 [==============================] - 1s 20us/sample - loss: 0.4336 - accuracy: 0.8507 - val_loss: 0.4401 - val_accuracy: 0.8449\n",
            "Epoch 18/20\n",
            "48000/48000 [==============================] - 1s 19us/sample - loss: 0.4284 - accuracy: 0.8529 - val_loss: 0.4367 - val_accuracy: 0.8482\n",
            "Epoch 19/20\n",
            "48000/48000 [==============================] - 1s 19us/sample - loss: 0.4244 - accuracy: 0.8537 - val_loss: 0.4378 - val_accuracy: 0.8467\n",
            "Epoch 20/20\n",
            "48000/48000 [==============================] - 1s 19us/sample - loss: 0.4195 - accuracy: 0.8546 - val_loss: 0.4313 - val_accuracy: 0.8508\n"
          ],
          "name": "stdout"
        },
        {
          "output_type": "display_data",
          "data": {
            "text/html": [
              "<span style=\"color:#4527A0\"><h1 style=\"font-size:18px\">Trial complete</h1></span>"
            ],
            "text/plain": [
              "<IPython.core.display.HTML object>"
            ]
          },
          "metadata": {
            "tags": []
          }
        },
        {
          "output_type": "display_data",
          "data": {
            "text/html": [
              "<span style=\"color:#4527A0\"><h1 style=\"font-size:18px\">Trial summary</h1></span>"
            ],
            "text/plain": [
              "<IPython.core.display.HTML object>"
            ]
          },
          "metadata": {
            "tags": []
          }
        },
        {
          "output_type": "display_data",
          "data": {
            "text/html": [
              "<span style=\"color:cyan\"> |-Trial ID: 666eaf0a46b125269c4f43e8b4e992f7</span>"
            ],
            "text/plain": [
              "<IPython.core.display.HTML object>"
            ]
          },
          "metadata": {
            "tags": []
          }
        },
        {
          "output_type": "display_data",
          "data": {
            "text/html": [
              "<span style=\"color:cyan\"> |-Score: 0.8507500290870667</span>"
            ],
            "text/plain": [
              "<IPython.core.display.HTML object>"
            ]
          },
          "metadata": {
            "tags": []
          }
        },
        {
          "output_type": "display_data",
          "data": {
            "text/html": [
              "<span style=\"color:cyan\"> |-Best step: 0</span>"
            ],
            "text/plain": [
              "<IPython.core.display.HTML object>"
            ]
          },
          "metadata": {
            "tags": []
          }
        },
        {
          "output_type": "display_data",
          "data": {
            "text/html": [
              "<span style=\"color:#7E57C2\"><h2 style=\"font-size:16px\">Hyperparameters:</h2></span>"
            ],
            "text/plain": [
              "<IPython.core.display.HTML object>"
            ]
          },
          "metadata": {
            "tags": []
          }
        },
        {
          "output_type": "display_data",
          "data": {
            "text/html": [
              "<span style=\"color:cyan\"> |-activation: relu</span>"
            ],
            "text/plain": [
              "<IPython.core.display.HTML object>"
            ]
          },
          "metadata": {
            "tags": []
          }
        },
        {
          "output_type": "display_data",
          "data": {
            "text/html": [
              "<span style=\"color:blue\"> |-optimizer: SGD</span>"
            ],
            "text/plain": [
              "<IPython.core.display.HTML object>"
            ]
          },
          "metadata": {
            "tags": []
          }
        },
        {
          "output_type": "display_data",
          "data": {
            "text/html": [
              "<span style=\"color:cyan\"> |-units_hidden: 288</span>"
            ],
            "text/plain": [
              "<IPython.core.display.HTML object>"
            ]
          },
          "metadata": {
            "tags": []
          }
        },
        {
          "output_type": "display_data",
          "data": {
            "text/html": [
              "<span style=\"color:blue\"> |-units_input: 512</span>"
            ],
            "text/plain": [
              "<IPython.core.display.HTML object>"
            ]
          },
          "metadata": {
            "tags": []
          }
        },
        {
          "output_type": "stream",
          "text": [
            "Train on 48000 samples, validate on 12000 samples\n",
            "Epoch 1/20\n",
            "48000/48000 [==============================] - 1s 29us/sample - loss: 0.5683 - accuracy: 0.8000 - val_loss: 0.4834 - val_accuracy: 0.8264\n",
            "Epoch 2/20\n",
            "48000/48000 [==============================] - 1s 23us/sample - loss: 0.4121 - accuracy: 0.8528 - val_loss: 0.4032 - val_accuracy: 0.8531\n",
            "Epoch 3/20\n",
            "48000/48000 [==============================] - 1s 23us/sample - loss: 0.3696 - accuracy: 0.8659 - val_loss: 0.3677 - val_accuracy: 0.8668\n",
            "Epoch 4/20\n",
            "48000/48000 [==============================] - 1s 23us/sample - loss: 0.3427 - accuracy: 0.8743 - val_loss: 0.4022 - val_accuracy: 0.8569\n",
            "Epoch 5/20\n",
            "48000/48000 [==============================] - 1s 25us/sample - loss: 0.3239 - accuracy: 0.8806 - val_loss: 0.3320 - val_accuracy: 0.8775\n",
            "Epoch 6/20\n",
            "48000/48000 [==============================] - 1s 26us/sample - loss: 0.3060 - accuracy: 0.8873 - val_loss: 0.3355 - val_accuracy: 0.8798\n",
            "Epoch 7/20\n",
            "48000/48000 [==============================] - 1s 24us/sample - loss: 0.2918 - accuracy: 0.8912 - val_loss: 0.3314 - val_accuracy: 0.8838\n",
            "Epoch 8/20\n",
            "48000/48000 [==============================] - 1s 21us/sample - loss: 0.2782 - accuracy: 0.8972 - val_loss: 0.3355 - val_accuracy: 0.8783\n",
            "Epoch 9/20\n",
            "48000/48000 [==============================] - 1s 24us/sample - loss: 0.2661 - accuracy: 0.8999 - val_loss: 0.3248 - val_accuracy: 0.8827\n",
            "Epoch 10/20\n",
            "48000/48000 [==============================] - 1s 23us/sample - loss: 0.2572 - accuracy: 0.9035 - val_loss: 0.3244 - val_accuracy: 0.8852\n",
            "Epoch 11/20\n",
            "48000/48000 [==============================] - 1s 21us/sample - loss: 0.2501 - accuracy: 0.9070 - val_loss: 0.3293 - val_accuracy: 0.8825\n",
            "Epoch 12/20\n",
            "48000/48000 [==============================] - 1s 21us/sample - loss: 0.2365 - accuracy: 0.9118 - val_loss: 0.3330 - val_accuracy: 0.8813\n",
            "Epoch 13/20\n",
            "48000/48000 [==============================] - 1s 22us/sample - loss: 0.2280 - accuracy: 0.9140 - val_loss: 0.3371 - val_accuracy: 0.8853\n",
            "Epoch 14/20\n",
            "48000/48000 [==============================] - 1s 22us/sample - loss: 0.2203 - accuracy: 0.9174 - val_loss: 0.3037 - val_accuracy: 0.8930\n",
            "Epoch 15/20\n",
            "48000/48000 [==============================] - 1s 21us/sample - loss: 0.2155 - accuracy: 0.9187 - val_loss: 0.3233 - val_accuracy: 0.8873\n",
            "Epoch 16/20\n",
            "48000/48000 [==============================] - 1s 22us/sample - loss: 0.2039 - accuracy: 0.9226 - val_loss: 0.3230 - val_accuracy: 0.8892\n",
            "Epoch 17/20\n",
            "48000/48000 [==============================] - 1s 21us/sample - loss: 0.1945 - accuracy: 0.9265 - val_loss: 0.3469 - val_accuracy: 0.8838\n",
            "Epoch 18/20\n",
            "48000/48000 [==============================] - 1s 21us/sample - loss: 0.1890 - accuracy: 0.9284 - val_loss: 0.3205 - val_accuracy: 0.8928\n",
            "Epoch 19/20\n",
            "48000/48000 [==============================] - 1s 21us/sample - loss: 0.1816 - accuracy: 0.9309 - val_loss: 0.3197 - val_accuracy: 0.8917\n",
            "Epoch 20/20\n",
            "48000/48000 [==============================] - 1s 21us/sample - loss: 0.1750 - accuracy: 0.9327 - val_loss: 0.3400 - val_accuracy: 0.8904\n"
          ],
          "name": "stdout"
        },
        {
          "output_type": "display_data",
          "data": {
            "text/html": [
              "<span style=\"color:#4527A0\"><h1 style=\"font-size:18px\">Trial complete</h1></span>"
            ],
            "text/plain": [
              "<IPython.core.display.HTML object>"
            ]
          },
          "metadata": {
            "tags": []
          }
        },
        {
          "output_type": "display_data",
          "data": {
            "text/html": [
              "<span style=\"color:#4527A0\"><h1 style=\"font-size:18px\">Trial summary</h1></span>"
            ],
            "text/plain": [
              "<IPython.core.display.HTML object>"
            ]
          },
          "metadata": {
            "tags": []
          }
        },
        {
          "output_type": "display_data",
          "data": {
            "text/html": [
              "<span style=\"color:cyan\"> |-Trial ID: 43826a033487ec2218b1664f1d702bea</span>"
            ],
            "text/plain": [
              "<IPython.core.display.HTML object>"
            ]
          },
          "metadata": {
            "tags": []
          }
        },
        {
          "output_type": "display_data",
          "data": {
            "text/html": [
              "<span style=\"color:cyan\"> |-Score: 0.8930000066757202</span>"
            ],
            "text/plain": [
              "<IPython.core.display.HTML object>"
            ]
          },
          "metadata": {
            "tags": []
          }
        },
        {
          "output_type": "display_data",
          "data": {
            "text/html": [
              "<span style=\"color:cyan\"> |-Best step: 0</span>"
            ],
            "text/plain": [
              "<IPython.core.display.HTML object>"
            ]
          },
          "metadata": {
            "tags": []
          }
        },
        {
          "output_type": "display_data",
          "data": {
            "text/html": [
              "<span style=\"color:#7E57C2\"><h2 style=\"font-size:16px\">Hyperparameters:</h2></span>"
            ],
            "text/plain": [
              "<IPython.core.display.HTML object>"
            ]
          },
          "metadata": {
            "tags": []
          }
        },
        {
          "output_type": "display_data",
          "data": {
            "text/html": [
              "<span style=\"color:cyan\"> |-activation: elu</span>"
            ],
            "text/plain": [
              "<IPython.core.display.HTML object>"
            ]
          },
          "metadata": {
            "tags": []
          }
        },
        {
          "output_type": "display_data",
          "data": {
            "text/html": [
              "<span style=\"color:blue\"> |-optimizer: adam</span>"
            ],
            "text/plain": [
              "<IPython.core.display.HTML object>"
            ]
          },
          "metadata": {
            "tags": []
          }
        },
        {
          "output_type": "display_data",
          "data": {
            "text/html": [
              "<span style=\"color:cyan\"> |-units_hidden: 544</span>"
            ],
            "text/plain": [
              "<IPython.core.display.HTML object>"
            ]
          },
          "metadata": {
            "tags": []
          }
        },
        {
          "output_type": "display_data",
          "data": {
            "text/html": [
              "<span style=\"color:blue\"> |-units_input: 576</span>"
            ],
            "text/plain": [
              "<IPython.core.display.HTML object>"
            ]
          },
          "metadata": {
            "tags": []
          }
        },
        {
          "output_type": "stream",
          "text": [
            "Train on 48000 samples, validate on 12000 samples\n",
            "Epoch 1/20\n",
            "48000/48000 [==============================] - 1s 30us/sample - loss: 0.7043 - accuracy: 0.7486 - val_loss: 0.4686 - val_accuracy: 0.8253\n",
            "Epoch 2/20\n",
            "48000/48000 [==============================] - 1s 22us/sample - loss: 0.4512 - accuracy: 0.8320 - val_loss: 0.3777 - val_accuracy: 0.8591\n",
            "Epoch 3/20\n",
            "48000/48000 [==============================] - 1s 22us/sample - loss: 0.3907 - accuracy: 0.8543 - val_loss: 0.4301 - val_accuracy: 0.8416\n",
            "Epoch 4/20\n",
            "48000/48000 [==============================] - 1s 22us/sample - loss: 0.3539 - accuracy: 0.8676 - val_loss: 0.3740 - val_accuracy: 0.8568\n",
            "Epoch 5/20\n",
            "48000/48000 [==============================] - 1s 24us/sample - loss: 0.3275 - accuracy: 0.8766 - val_loss: 0.3720 - val_accuracy: 0.8643\n",
            "Epoch 6/20\n",
            "48000/48000 [==============================] - 1s 21us/sample - loss: 0.3082 - accuracy: 0.8851 - val_loss: 0.3773 - val_accuracy: 0.8633\n",
            "Epoch 7/20\n",
            "48000/48000 [==============================] - 1s 22us/sample - loss: 0.2921 - accuracy: 0.8888 - val_loss: 0.3725 - val_accuracy: 0.8639\n",
            "Epoch 8/20\n",
            "48000/48000 [==============================] - 1s 21us/sample - loss: 0.2780 - accuracy: 0.8957 - val_loss: 0.3845 - val_accuracy: 0.8515\n",
            "Epoch 9/20\n",
            "48000/48000 [==============================] - 1s 23us/sample - loss: 0.2647 - accuracy: 0.9006 - val_loss: 0.3408 - val_accuracy: 0.8781\n",
            "Epoch 10/20\n",
            "48000/48000 [==============================] - 1s 22us/sample - loss: 0.2549 - accuracy: 0.9040 - val_loss: 0.3619 - val_accuracy: 0.8581\n",
            "Epoch 11/20\n",
            "48000/48000 [==============================] - 1s 22us/sample - loss: 0.2444 - accuracy: 0.9068 - val_loss: 0.3291 - val_accuracy: 0.8830\n",
            "Epoch 12/20\n",
            "48000/48000 [==============================] - 1s 22us/sample - loss: 0.2327 - accuracy: 0.9119 - val_loss: 0.3274 - val_accuracy: 0.8859\n",
            "Epoch 13/20\n",
            "48000/48000 [==============================] - 1s 21us/sample - loss: 0.2236 - accuracy: 0.9151 - val_loss: 0.3158 - val_accuracy: 0.8827\n",
            "Epoch 14/20\n",
            "48000/48000 [==============================] - 1s 22us/sample - loss: 0.2151 - accuracy: 0.9187 - val_loss: 0.3666 - val_accuracy: 0.8708\n",
            "Epoch 15/20\n",
            "48000/48000 [==============================] - 1s 21us/sample - loss: 0.2079 - accuracy: 0.9200 - val_loss: 0.3403 - val_accuracy: 0.8763\n",
            "Epoch 16/20\n",
            "48000/48000 [==============================] - 1s 22us/sample - loss: 0.1991 - accuracy: 0.9248 - val_loss: 0.2999 - val_accuracy: 0.8942\n",
            "Epoch 17/20\n",
            "48000/48000 [==============================] - 1s 22us/sample - loss: 0.1921 - accuracy: 0.9279 - val_loss: 0.2929 - val_accuracy: 0.8977\n",
            "Epoch 18/20\n",
            "48000/48000 [==============================] - 1s 22us/sample - loss: 0.1853 - accuracy: 0.9304 - val_loss: 0.3534 - val_accuracy: 0.8771\n",
            "Epoch 19/20\n",
            "48000/48000 [==============================] - 1s 21us/sample - loss: 0.1781 - accuracy: 0.9341 - val_loss: 0.3865 - val_accuracy: 0.8676\n",
            "Epoch 20/20\n",
            "48000/48000 [==============================] - 1s 21us/sample - loss: 0.1710 - accuracy: 0.9351 - val_loss: 0.3187 - val_accuracy: 0.8890\n"
          ],
          "name": "stdout"
        },
        {
          "output_type": "display_data",
          "data": {
            "text/html": [
              "<span style=\"color:#4527A0\"><h1 style=\"font-size:18px\">Trial complete</h1></span>"
            ],
            "text/plain": [
              "<IPython.core.display.HTML object>"
            ]
          },
          "metadata": {
            "tags": []
          }
        },
        {
          "output_type": "display_data",
          "data": {
            "text/html": [
              "<span style=\"color:#4527A0\"><h1 style=\"font-size:18px\">Trial summary</h1></span>"
            ],
            "text/plain": [
              "<IPython.core.display.HTML object>"
            ]
          },
          "metadata": {
            "tags": []
          }
        },
        {
          "output_type": "display_data",
          "data": {
            "text/html": [
              "<span style=\"color:cyan\"> |-Trial ID: 498f6ab33c99a00910b1d4684b68c5e3</span>"
            ],
            "text/plain": [
              "<IPython.core.display.HTML object>"
            ]
          },
          "metadata": {
            "tags": []
          }
        },
        {
          "output_type": "display_data",
          "data": {
            "text/html": [
              "<span style=\"color:cyan\"> |-Score: 0.8976666927337646</span>"
            ],
            "text/plain": [
              "<IPython.core.display.HTML object>"
            ]
          },
          "metadata": {
            "tags": []
          }
        },
        {
          "output_type": "display_data",
          "data": {
            "text/html": [
              "<span style=\"color:cyan\"> |-Best step: 0</span>"
            ],
            "text/plain": [
              "<IPython.core.display.HTML object>"
            ]
          },
          "metadata": {
            "tags": []
          }
        },
        {
          "output_type": "display_data",
          "data": {
            "text/html": [
              "<span style=\"color:#7E57C2\"><h2 style=\"font-size:16px\">Hyperparameters:</h2></span>"
            ],
            "text/plain": [
              "<IPython.core.display.HTML object>"
            ]
          },
          "metadata": {
            "tags": []
          }
        },
        {
          "output_type": "display_data",
          "data": {
            "text/html": [
              "<span style=\"color:cyan\"> |-activation: tanh</span>"
            ],
            "text/plain": [
              "<IPython.core.display.HTML object>"
            ]
          },
          "metadata": {
            "tags": []
          }
        },
        {
          "output_type": "display_data",
          "data": {
            "text/html": [
              "<span style=\"color:blue\"> |-optimizer: rmsprop</span>"
            ],
            "text/plain": [
              "<IPython.core.display.HTML object>"
            ]
          },
          "metadata": {
            "tags": []
          }
        },
        {
          "output_type": "display_data",
          "data": {
            "text/html": [
              "<span style=\"color:cyan\"> |-units_hidden: 256</span>"
            ],
            "text/plain": [
              "<IPython.core.display.HTML object>"
            ]
          },
          "metadata": {
            "tags": []
          }
        },
        {
          "output_type": "display_data",
          "data": {
            "text/html": [
              "<span style=\"color:blue\"> |-units_input: 608</span>"
            ],
            "text/plain": [
              "<IPython.core.display.HTML object>"
            ]
          },
          "metadata": {
            "tags": []
          }
        },
        {
          "output_type": "stream",
          "text": [
            "Train on 48000 samples, validate on 12000 samples\n",
            "Epoch 1/20\n",
            "48000/48000 [==============================] - 1s 31us/sample - loss: 0.8104 - accuracy: 0.7058 - val_loss: 0.5659 - val_accuracy: 0.7847\n",
            "Epoch 2/20\n",
            "48000/48000 [==============================] - 1s 24us/sample - loss: 0.4936 - accuracy: 0.8164 - val_loss: 0.5276 - val_accuracy: 0.7952\n",
            "Epoch 3/20\n",
            "48000/48000 [==============================] - 1s 23us/sample - loss: 0.4377 - accuracy: 0.8394 - val_loss: 0.4219 - val_accuracy: 0.8486\n",
            "Epoch 4/20\n",
            "48000/48000 [==============================] - 1s 23us/sample - loss: 0.4029 - accuracy: 0.8517 - val_loss: 0.4496 - val_accuracy: 0.8380\n",
            "Epoch 5/20\n",
            "48000/48000 [==============================] - 1s 23us/sample - loss: 0.3785 - accuracy: 0.8600 - val_loss: 0.3916 - val_accuracy: 0.8504\n",
            "Epoch 6/20\n",
            "48000/48000 [==============================] - 1s 23us/sample - loss: 0.3595 - accuracy: 0.8678 - val_loss: 0.4018 - val_accuracy: 0.8487\n",
            "Epoch 7/20\n",
            "48000/48000 [==============================] - 1s 23us/sample - loss: 0.3436 - accuracy: 0.8739 - val_loss: 0.3688 - val_accuracy: 0.8686\n",
            "Epoch 8/20\n",
            "48000/48000 [==============================] - 1s 23us/sample - loss: 0.3294 - accuracy: 0.8780 - val_loss: 0.3564 - val_accuracy: 0.8698\n",
            "Epoch 9/20\n",
            "48000/48000 [==============================] - 1s 23us/sample - loss: 0.3162 - accuracy: 0.8829 - val_loss: 0.3521 - val_accuracy: 0.8731\n",
            "Epoch 10/20\n",
            "48000/48000 [==============================] - 1s 22us/sample - loss: 0.3062 - accuracy: 0.8860 - val_loss: 0.3562 - val_accuracy: 0.8747\n",
            "Epoch 11/20\n",
            "48000/48000 [==============================] - 1s 23us/sample - loss: 0.2968 - accuracy: 0.8901 - val_loss: 0.3493 - val_accuracy: 0.8723\n",
            "Epoch 12/20\n",
            "48000/48000 [==============================] - 1s 24us/sample - loss: 0.2856 - accuracy: 0.8923 - val_loss: 0.3241 - val_accuracy: 0.8823\n",
            "Epoch 13/20\n",
            "48000/48000 [==============================] - 1s 24us/sample - loss: 0.2782 - accuracy: 0.8960 - val_loss: 0.3309 - val_accuracy: 0.8783\n",
            "Epoch 14/20\n",
            "48000/48000 [==============================] - 1s 23us/sample - loss: 0.2687 - accuracy: 0.9003 - val_loss: 0.3543 - val_accuracy: 0.8743\n",
            "Epoch 15/20\n",
            "48000/48000 [==============================] - 1s 23us/sample - loss: 0.2624 - accuracy: 0.9010 - val_loss: 0.3523 - val_accuracy: 0.8753\n",
            "Epoch 16/20\n",
            "48000/48000 [==============================] - 1s 23us/sample - loss: 0.2535 - accuracy: 0.9045 - val_loss: 0.3388 - val_accuracy: 0.8817\n",
            "Epoch 17/20\n",
            "48000/48000 [==============================] - 1s 24us/sample - loss: 0.2477 - accuracy: 0.9067 - val_loss: 0.3093 - val_accuracy: 0.8886\n",
            "Epoch 18/20\n",
            "48000/48000 [==============================] - 1s 23us/sample - loss: 0.2396 - accuracy: 0.9093 - val_loss: 0.3301 - val_accuracy: 0.8826\n",
            "Epoch 19/20\n",
            "48000/48000 [==============================] - 1s 25us/sample - loss: 0.2349 - accuracy: 0.9105 - val_loss: 0.3661 - val_accuracy: 0.8692\n",
            "Epoch 20/20\n",
            "48000/48000 [==============================] - 1s 26us/sample - loss: 0.2263 - accuracy: 0.9139 - val_loss: 0.3392 - val_accuracy: 0.8839\n"
          ],
          "name": "stdout"
        },
        {
          "output_type": "display_data",
          "data": {
            "text/html": [
              "<span style=\"color:#4527A0\"><h1 style=\"font-size:18px\">Trial complete</h1></span>"
            ],
            "text/plain": [
              "<IPython.core.display.HTML object>"
            ]
          },
          "metadata": {
            "tags": []
          }
        },
        {
          "output_type": "display_data",
          "data": {
            "text/html": [
              "<span style=\"color:#4527A0\"><h1 style=\"font-size:18px\">Trial summary</h1></span>"
            ],
            "text/plain": [
              "<IPython.core.display.HTML object>"
            ]
          },
          "metadata": {
            "tags": []
          }
        },
        {
          "output_type": "display_data",
          "data": {
            "text/html": [
              "<span style=\"color:cyan\"> |-Trial ID: 6a656b6f36d5bde291b4a698d10403e6</span>"
            ],
            "text/plain": [
              "<IPython.core.display.HTML object>"
            ]
          },
          "metadata": {
            "tags": []
          }
        },
        {
          "output_type": "display_data",
          "data": {
            "text/html": [
              "<span style=\"color:cyan\"> |-Score: 0.8885833621025085</span>"
            ],
            "text/plain": [
              "<IPython.core.display.HTML object>"
            ]
          },
          "metadata": {
            "tags": []
          }
        },
        {
          "output_type": "display_data",
          "data": {
            "text/html": [
              "<span style=\"color:cyan\"> |-Best step: 0</span>"
            ],
            "text/plain": [
              "<IPython.core.display.HTML object>"
            ]
          },
          "metadata": {
            "tags": []
          }
        },
        {
          "output_type": "display_data",
          "data": {
            "text/html": [
              "<span style=\"color:#7E57C2\"><h2 style=\"font-size:16px\">Hyperparameters:</h2></span>"
            ],
            "text/plain": [
              "<IPython.core.display.HTML object>"
            ]
          },
          "metadata": {
            "tags": []
          }
        },
        {
          "output_type": "display_data",
          "data": {
            "text/html": [
              "<span style=\"color:cyan\"> |-activation: sigmoid</span>"
            ],
            "text/plain": [
              "<IPython.core.display.HTML object>"
            ]
          },
          "metadata": {
            "tags": []
          }
        },
        {
          "output_type": "display_data",
          "data": {
            "text/html": [
              "<span style=\"color:blue\"> |-optimizer: rmsprop</span>"
            ],
            "text/plain": [
              "<IPython.core.display.HTML object>"
            ]
          },
          "metadata": {
            "tags": []
          }
        },
        {
          "output_type": "display_data",
          "data": {
            "text/html": [
              "<span style=\"color:cyan\"> |-units_hidden: 416</span>"
            ],
            "text/plain": [
              "<IPython.core.display.HTML object>"
            ]
          },
          "metadata": {
            "tags": []
          }
        },
        {
          "output_type": "display_data",
          "data": {
            "text/html": [
              "<span style=\"color:blue\"> |-units_input: 800</span>"
            ],
            "text/plain": [
              "<IPython.core.display.HTML object>"
            ]
          },
          "metadata": {
            "tags": []
          }
        },
        {
          "output_type": "stream",
          "text": [
            "Train on 48000 samples, validate on 12000 samples\n",
            "Epoch 1/20\n",
            "48000/48000 [==============================] - 1s 29us/sample - loss: 0.5359 - accuracy: 0.8062 - val_loss: 0.4074 - val_accuracy: 0.8547\n",
            "Epoch 2/20\n",
            "48000/48000 [==============================] - 1s 21us/sample - loss: 0.3838 - accuracy: 0.8598 - val_loss: 0.3838 - val_accuracy: 0.8637\n",
            "Epoch 3/20\n",
            "48000/48000 [==============================] - 1s 23us/sample - loss: 0.3412 - accuracy: 0.8756 - val_loss: 0.3601 - val_accuracy: 0.8712\n",
            "Epoch 4/20\n",
            "48000/48000 [==============================] - 1s 23us/sample - loss: 0.3235 - accuracy: 0.8810 - val_loss: 0.3310 - val_accuracy: 0.8785\n",
            "Epoch 5/20\n",
            "48000/48000 [==============================] - 1s 22us/sample - loss: 0.3036 - accuracy: 0.8891 - val_loss: 0.3644 - val_accuracy: 0.8711\n",
            "Epoch 6/20\n",
            "48000/48000 [==============================] - 1s 22us/sample - loss: 0.2860 - accuracy: 0.8948 - val_loss: 0.3211 - val_accuracy: 0.8830\n",
            "Epoch 7/20\n",
            "48000/48000 [==============================] - 1s 21us/sample - loss: 0.2768 - accuracy: 0.8974 - val_loss: 0.3150 - val_accuracy: 0.8857\n",
            "Epoch 8/20\n",
            "48000/48000 [==============================] - 1s 21us/sample - loss: 0.2576 - accuracy: 0.9051 - val_loss: 0.3138 - val_accuracy: 0.8878\n",
            "Epoch 9/20\n",
            "48000/48000 [==============================] - 1s 21us/sample - loss: 0.2471 - accuracy: 0.9100 - val_loss: 0.3175 - val_accuracy: 0.8867\n",
            "Epoch 10/20\n",
            "48000/48000 [==============================] - 1s 20us/sample - loss: 0.2427 - accuracy: 0.9088 - val_loss: 0.3141 - val_accuracy: 0.8841\n",
            "Epoch 11/20\n",
            "48000/48000 [==============================] - 1s 22us/sample - loss: 0.2319 - accuracy: 0.9141 - val_loss: 0.3056 - val_accuracy: 0.8910\n",
            "Epoch 12/20\n",
            "48000/48000 [==============================] - 1s 22us/sample - loss: 0.2219 - accuracy: 0.9179 - val_loss: 0.3036 - val_accuracy: 0.8882\n",
            "Epoch 13/20\n",
            "48000/48000 [==============================] - 1s 21us/sample - loss: 0.2137 - accuracy: 0.9221 - val_loss: 0.3088 - val_accuracy: 0.8888\n",
            "Epoch 14/20\n",
            "48000/48000 [==============================] - 1s 21us/sample - loss: 0.2101 - accuracy: 0.9214 - val_loss: 0.3093 - val_accuracy: 0.8909\n",
            "Epoch 15/20\n",
            "48000/48000 [==============================] - 1s 20us/sample - loss: 0.2049 - accuracy: 0.9246 - val_loss: 0.3195 - val_accuracy: 0.8872\n",
            "Epoch 16/20\n",
            "48000/48000 [==============================] - 1s 20us/sample - loss: 0.1986 - accuracy: 0.9269 - val_loss: 0.3092 - val_accuracy: 0.8905\n",
            "Epoch 17/20\n",
            "48000/48000 [==============================] - 1s 22us/sample - loss: 0.1886 - accuracy: 0.9291 - val_loss: 0.2978 - val_accuracy: 0.8947\n",
            "Epoch 18/20\n",
            "48000/48000 [==============================] - 1s 21us/sample - loss: 0.1793 - accuracy: 0.9336 - val_loss: 0.2921 - val_accuracy: 0.8963\n",
            "Epoch 19/20\n",
            "48000/48000 [==============================] - 1s 22us/sample - loss: 0.1809 - accuracy: 0.9328 - val_loss: 0.3041 - val_accuracy: 0.8921\n",
            "Epoch 20/20\n",
            "48000/48000 [==============================] - 1s 22us/sample - loss: 0.1748 - accuracy: 0.9350 - val_loss: 0.3036 - val_accuracy: 0.8936\n"
          ],
          "name": "stdout"
        },
        {
          "output_type": "display_data",
          "data": {
            "text/html": [
              "<span style=\"color:#4527A0\"><h1 style=\"font-size:18px\">Trial complete</h1></span>"
            ],
            "text/plain": [
              "<IPython.core.display.HTML object>"
            ]
          },
          "metadata": {
            "tags": []
          }
        },
        {
          "output_type": "display_data",
          "data": {
            "text/html": [
              "<span style=\"color:#4527A0\"><h1 style=\"font-size:18px\">Trial summary</h1></span>"
            ],
            "text/plain": [
              "<IPython.core.display.HTML object>"
            ]
          },
          "metadata": {
            "tags": []
          }
        },
        {
          "output_type": "display_data",
          "data": {
            "text/html": [
              "<span style=\"color:cyan\"> |-Trial ID: bb76f496b43ed6aaa5d22fa4f618decf</span>"
            ],
            "text/plain": [
              "<IPython.core.display.HTML object>"
            ]
          },
          "metadata": {
            "tags": []
          }
        },
        {
          "output_type": "display_data",
          "data": {
            "text/html": [
              "<span style=\"color:cyan\"> |-Score: 0.8963333368301392</span>"
            ],
            "text/plain": [
              "<IPython.core.display.HTML object>"
            ]
          },
          "metadata": {
            "tags": []
          }
        },
        {
          "output_type": "display_data",
          "data": {
            "text/html": [
              "<span style=\"color:cyan\"> |-Best step: 0</span>"
            ],
            "text/plain": [
              "<IPython.core.display.HTML object>"
            ]
          },
          "metadata": {
            "tags": []
          }
        },
        {
          "output_type": "display_data",
          "data": {
            "text/html": [
              "<span style=\"color:#7E57C2\"><h2 style=\"font-size:16px\">Hyperparameters:</h2></span>"
            ],
            "text/plain": [
              "<IPython.core.display.HTML object>"
            ]
          },
          "metadata": {
            "tags": []
          }
        },
        {
          "output_type": "display_data",
          "data": {
            "text/html": [
              "<span style=\"color:cyan\"> |-activation: tanh</span>"
            ],
            "text/plain": [
              "<IPython.core.display.HTML object>"
            ]
          },
          "metadata": {
            "tags": []
          }
        },
        {
          "output_type": "display_data",
          "data": {
            "text/html": [
              "<span style=\"color:blue\"> |-optimizer: adam</span>"
            ],
            "text/plain": [
              "<IPython.core.display.HTML object>"
            ]
          },
          "metadata": {
            "tags": []
          }
        },
        {
          "output_type": "display_data",
          "data": {
            "text/html": [
              "<span style=\"color:cyan\"> |-units_hidden: 192</span>"
            ],
            "text/plain": [
              "<IPython.core.display.HTML object>"
            ]
          },
          "metadata": {
            "tags": []
          }
        },
        {
          "output_type": "display_data",
          "data": {
            "text/html": [
              "<span style=\"color:blue\"> |-units_input: 896</span>"
            ],
            "text/plain": [
              "<IPython.core.display.HTML object>"
            ]
          },
          "metadata": {
            "tags": []
          }
        },
        {
          "output_type": "stream",
          "text": [
            "Train on 48000 samples, validate on 12000 samples\n",
            "Epoch 1/20\n",
            "48000/48000 [==============================] - 1s 27us/sample - loss: 1.0655 - accuracy: 0.6670 - val_loss: 0.7495 - val_accuracy: 0.7617\n",
            "Epoch 2/20\n",
            "48000/48000 [==============================] - 1s 22us/sample - loss: 0.6839 - accuracy: 0.7816 - val_loss: 0.6276 - val_accuracy: 0.7918\n",
            "Epoch 3/20\n",
            "48000/48000 [==============================] - 1s 22us/sample - loss: 0.6002 - accuracy: 0.8020 - val_loss: 0.5746 - val_accuracy: 0.8047\n",
            "Epoch 4/20\n",
            "48000/48000 [==============================] - 1s 21us/sample - loss: 0.5563 - accuracy: 0.8134 - val_loss: 0.5419 - val_accuracy: 0.8142\n",
            "Epoch 5/20\n",
            "48000/48000 [==============================] - 1s 23us/sample - loss: 0.5279 - accuracy: 0.8216 - val_loss: 0.5208 - val_accuracy: 0.8188\n",
            "Epoch 6/20\n",
            "48000/48000 [==============================] - 1s 22us/sample - loss: 0.5081 - accuracy: 0.8261 - val_loss: 0.5037 - val_accuracy: 0.8255\n",
            "Epoch 7/20\n",
            "48000/48000 [==============================] - 1s 22us/sample - loss: 0.4927 - accuracy: 0.8313 - val_loss: 0.4909 - val_accuracy: 0.8277\n",
            "Epoch 8/20\n",
            "48000/48000 [==============================] - 1s 23us/sample - loss: 0.4807 - accuracy: 0.8346 - val_loss: 0.4836 - val_accuracy: 0.8287\n",
            "Epoch 9/20\n",
            "48000/48000 [==============================] - 1s 22us/sample - loss: 0.4711 - accuracy: 0.8378 - val_loss: 0.4728 - val_accuracy: 0.8322\n",
            "Epoch 10/20\n",
            "48000/48000 [==============================] - 1s 22us/sample - loss: 0.4629 - accuracy: 0.8404 - val_loss: 0.4655 - val_accuracy: 0.8336\n",
            "Epoch 11/20\n",
            "48000/48000 [==============================] - 1s 22us/sample - loss: 0.4560 - accuracy: 0.8428 - val_loss: 0.4612 - val_accuracy: 0.8369\n",
            "Epoch 12/20\n",
            "48000/48000 [==============================] - 1s 22us/sample - loss: 0.4493 - accuracy: 0.8455 - val_loss: 0.4594 - val_accuracy: 0.8358\n",
            "Epoch 13/20\n",
            "48000/48000 [==============================] - 1s 22us/sample - loss: 0.4443 - accuracy: 0.8466 - val_loss: 0.4509 - val_accuracy: 0.8381\n",
            "Epoch 14/20\n",
            "48000/48000 [==============================] - 1s 22us/sample - loss: 0.4389 - accuracy: 0.8477 - val_loss: 0.4471 - val_accuracy: 0.8404\n",
            "Epoch 15/20\n",
            "48000/48000 [==============================] - 1s 22us/sample - loss: 0.4347 - accuracy: 0.8496 - val_loss: 0.4428 - val_accuracy: 0.8432\n",
            "Epoch 16/20\n",
            "48000/48000 [==============================] - 1s 22us/sample - loss: 0.4310 - accuracy: 0.8495 - val_loss: 0.4376 - val_accuracy: 0.8445\n",
            "Epoch 17/20\n",
            "48000/48000 [==============================] - 1s 22us/sample - loss: 0.4266 - accuracy: 0.8519 - val_loss: 0.4372 - val_accuracy: 0.8448\n",
            "Epoch 18/20\n",
            "48000/48000 [==============================] - 1s 22us/sample - loss: 0.4229 - accuracy: 0.8526 - val_loss: 0.4388 - val_accuracy: 0.8436\n",
            "Epoch 19/20\n",
            "48000/48000 [==============================] - 1s 22us/sample - loss: 0.4200 - accuracy: 0.8539 - val_loss: 0.4308 - val_accuracy: 0.8460\n",
            "Epoch 20/20\n",
            "48000/48000 [==============================] - 1s 22us/sample - loss: 0.4165 - accuracy: 0.8546 - val_loss: 0.4289 - val_accuracy: 0.8468\n"
          ],
          "name": "stdout"
        },
        {
          "output_type": "display_data",
          "data": {
            "text/html": [
              "<span style=\"color:#4527A0\"><h1 style=\"font-size:18px\">Trial complete</h1></span>"
            ],
            "text/plain": [
              "<IPython.core.display.HTML object>"
            ]
          },
          "metadata": {
            "tags": []
          }
        },
        {
          "output_type": "display_data",
          "data": {
            "text/html": [
              "<span style=\"color:#4527A0\"><h1 style=\"font-size:18px\">Trial summary</h1></span>"
            ],
            "text/plain": [
              "<IPython.core.display.HTML object>"
            ]
          },
          "metadata": {
            "tags": []
          }
        },
        {
          "output_type": "display_data",
          "data": {
            "text/html": [
              "<span style=\"color:cyan\"> |-Trial ID: ca7bcbd004b4843463300e3ef784360f</span>"
            ],
            "text/plain": [
              "<IPython.core.display.HTML object>"
            ]
          },
          "metadata": {
            "tags": []
          }
        },
        {
          "output_type": "display_data",
          "data": {
            "text/html": [
              "<span style=\"color:cyan\"> |-Score: 0.846750020980835</span>"
            ],
            "text/plain": [
              "<IPython.core.display.HTML object>"
            ]
          },
          "metadata": {
            "tags": []
          }
        },
        {
          "output_type": "display_data",
          "data": {
            "text/html": [
              "<span style=\"color:cyan\"> |-Best step: 0</span>"
            ],
            "text/plain": [
              "<IPython.core.display.HTML object>"
            ]
          },
          "metadata": {
            "tags": []
          }
        },
        {
          "output_type": "display_data",
          "data": {
            "text/html": [
              "<span style=\"color:#7E57C2\"><h2 style=\"font-size:16px\">Hyperparameters:</h2></span>"
            ],
            "text/plain": [
              "<IPython.core.display.HTML object>"
            ]
          },
          "metadata": {
            "tags": []
          }
        },
        {
          "output_type": "display_data",
          "data": {
            "text/html": [
              "<span style=\"color:cyan\"> |-activation: tanh</span>"
            ],
            "text/plain": [
              "<IPython.core.display.HTML object>"
            ]
          },
          "metadata": {
            "tags": []
          }
        },
        {
          "output_type": "display_data",
          "data": {
            "text/html": [
              "<span style=\"color:blue\"> |-optimizer: SGD</span>"
            ],
            "text/plain": [
              "<IPython.core.display.HTML object>"
            ]
          },
          "metadata": {
            "tags": []
          }
        },
        {
          "output_type": "display_data",
          "data": {
            "text/html": [
              "<span style=\"color:cyan\"> |-units_hidden: 544</span>"
            ],
            "text/plain": [
              "<IPython.core.display.HTML object>"
            ]
          },
          "metadata": {
            "tags": []
          }
        },
        {
          "output_type": "display_data",
          "data": {
            "text/html": [
              "<span style=\"color:blue\"> |-units_input: 864</span>"
            ],
            "text/plain": [
              "<IPython.core.display.HTML object>"
            ]
          },
          "metadata": {
            "tags": []
          }
        },
        {
          "output_type": "stream",
          "text": [
            "Train on 48000 samples, validate on 12000 samples\n",
            "Epoch 1/20\n",
            "48000/48000 [==============================] - 1s 30us/sample - loss: 0.8183 - accuracy: 0.7067 - val_loss: 0.5284 - val_accuracy: 0.8058\n",
            "Epoch 2/20\n",
            "48000/48000 [==============================] - 1s 22us/sample - loss: 0.4932 - accuracy: 0.8177 - val_loss: 0.4401 - val_accuracy: 0.8398\n",
            "Epoch 3/20\n",
            "48000/48000 [==============================] - 1s 21us/sample - loss: 0.4377 - accuracy: 0.8396 - val_loss: 0.4547 - val_accuracy: 0.8308\n",
            "Epoch 4/20\n",
            "48000/48000 [==============================] - 1s 22us/sample - loss: 0.4069 - accuracy: 0.8499 - val_loss: 0.4039 - val_accuracy: 0.8537\n",
            "Epoch 5/20\n",
            "48000/48000 [==============================] - 1s 21us/sample - loss: 0.3823 - accuracy: 0.8594 - val_loss: 0.4301 - val_accuracy: 0.8389\n",
            "Epoch 6/20\n",
            "48000/48000 [==============================] - 1s 21us/sample - loss: 0.3661 - accuracy: 0.8658 - val_loss: 0.4192 - val_accuracy: 0.8430\n",
            "Epoch 7/20\n",
            "48000/48000 [==============================] - 1s 21us/sample - loss: 0.3492 - accuracy: 0.8708 - val_loss: 0.3963 - val_accuracy: 0.8583\n",
            "Epoch 8/20\n",
            "48000/48000 [==============================] - 1s 21us/sample - loss: 0.3348 - accuracy: 0.8764 - val_loss: 0.3682 - val_accuracy: 0.8630\n",
            "Epoch 9/20\n",
            "48000/48000 [==============================] - 1s 21us/sample - loss: 0.3242 - accuracy: 0.8809 - val_loss: 0.3945 - val_accuracy: 0.8587\n",
            "Epoch 10/20\n",
            "48000/48000 [==============================] - 1s 22us/sample - loss: 0.3118 - accuracy: 0.8840 - val_loss: 0.3344 - val_accuracy: 0.8792\n",
            "Epoch 11/20\n",
            "48000/48000 [==============================] - 1s 23us/sample - loss: 0.3028 - accuracy: 0.8876 - val_loss: 0.3311 - val_accuracy: 0.8783\n",
            "Epoch 12/20\n",
            "48000/48000 [==============================] - 1s 22us/sample - loss: 0.2936 - accuracy: 0.8892 - val_loss: 0.3419 - val_accuracy: 0.8767\n",
            "Epoch 13/20\n",
            "48000/48000 [==============================] - 1s 22us/sample - loss: 0.2854 - accuracy: 0.8931 - val_loss: 0.3816 - val_accuracy: 0.8568\n",
            "Epoch 14/20\n",
            "48000/48000 [==============================] - 1s 23us/sample - loss: 0.2756 - accuracy: 0.8977 - val_loss: 0.3262 - val_accuracy: 0.8793\n",
            "Epoch 15/20\n",
            "48000/48000 [==============================] - 1s 25us/sample - loss: 0.2682 - accuracy: 0.8990 - val_loss: 0.3452 - val_accuracy: 0.8754\n",
            "Epoch 16/20\n",
            "48000/48000 [==============================] - 1s 26us/sample - loss: 0.2599 - accuracy: 0.9012 - val_loss: 0.3289 - val_accuracy: 0.8824\n",
            "Epoch 17/20\n",
            "48000/48000 [==============================] - 1s 21us/sample - loss: 0.2561 - accuracy: 0.9038 - val_loss: 0.3419 - val_accuracy: 0.8787\n",
            "Epoch 18/20\n",
            "48000/48000 [==============================] - 1s 21us/sample - loss: 0.2485 - accuracy: 0.9062 - val_loss: 0.3410 - val_accuracy: 0.8742\n",
            "Epoch 19/20\n",
            "48000/48000 [==============================] - 1s 25us/sample - loss: 0.2422 - accuracy: 0.9078 - val_loss: 0.3398 - val_accuracy: 0.8762\n",
            "Epoch 20/20\n",
            "48000/48000 [==============================] - 1s 24us/sample - loss: 0.2365 - accuracy: 0.9102 - val_loss: 0.3173 - val_accuracy: 0.8857\n"
          ],
          "name": "stdout"
        },
        {
          "output_type": "display_data",
          "data": {
            "text/html": [
              "<span style=\"color:#4527A0\"><h1 style=\"font-size:18px\">Trial complete</h1></span>"
            ],
            "text/plain": [
              "<IPython.core.display.HTML object>"
            ]
          },
          "metadata": {
            "tags": []
          }
        },
        {
          "output_type": "display_data",
          "data": {
            "text/html": [
              "<span style=\"color:#4527A0\"><h1 style=\"font-size:18px\">Trial summary</h1></span>"
            ],
            "text/plain": [
              "<IPython.core.display.HTML object>"
            ]
          },
          "metadata": {
            "tags": []
          }
        },
        {
          "output_type": "display_data",
          "data": {
            "text/html": [
              "<span style=\"color:cyan\"> |-Trial ID: 651de8a72a2c9b220817af22a1e1f023</span>"
            ],
            "text/plain": [
              "<IPython.core.display.HTML object>"
            ]
          },
          "metadata": {
            "tags": []
          }
        },
        {
          "output_type": "display_data",
          "data": {
            "text/html": [
              "<span style=\"color:cyan\"> |-Score: 0.8857499957084656</span>"
            ],
            "text/plain": [
              "<IPython.core.display.HTML object>"
            ]
          },
          "metadata": {
            "tags": []
          }
        },
        {
          "output_type": "display_data",
          "data": {
            "text/html": [
              "<span style=\"color:cyan\"> |-Best step: 0</span>"
            ],
            "text/plain": [
              "<IPython.core.display.HTML object>"
            ]
          },
          "metadata": {
            "tags": []
          }
        },
        {
          "output_type": "display_data",
          "data": {
            "text/html": [
              "<span style=\"color:#7E57C2\"><h2 style=\"font-size:16px\">Hyperparameters:</h2></span>"
            ],
            "text/plain": [
              "<IPython.core.display.HTML object>"
            ]
          },
          "metadata": {
            "tags": []
          }
        },
        {
          "output_type": "display_data",
          "data": {
            "text/html": [
              "<span style=\"color:cyan\"> |-activation: sigmoid</span>"
            ],
            "text/plain": [
              "<IPython.core.display.HTML object>"
            ]
          },
          "metadata": {
            "tags": []
          }
        },
        {
          "output_type": "display_data",
          "data": {
            "text/html": [
              "<span style=\"color:blue\"> |-optimizer: rmsprop</span>"
            ],
            "text/plain": [
              "<IPython.core.display.HTML object>"
            ]
          },
          "metadata": {
            "tags": []
          }
        },
        {
          "output_type": "display_data",
          "data": {
            "text/html": [
              "<span style=\"color:cyan\"> |-units_hidden: 416</span>"
            ],
            "text/plain": [
              "<IPython.core.display.HTML object>"
            ]
          },
          "metadata": {
            "tags": []
          }
        },
        {
          "output_type": "display_data",
          "data": {
            "text/html": [
              "<span style=\"color:blue\"> |-units_input: 544</span>"
            ],
            "text/plain": [
              "<IPython.core.display.HTML object>"
            ]
          },
          "metadata": {
            "tags": []
          }
        },
        {
          "output_type": "stream",
          "text": [
            "Train on 48000 samples, validate on 12000 samples\n",
            "Epoch 1/20\n",
            "48000/48000 [==============================] - 1s 27us/sample - loss: 2.2613 - accuracy: 0.2574 - val_loss: 2.2138 - val_accuracy: 0.3137\n",
            "Epoch 2/20\n",
            "48000/48000 [==============================] - 1s 22us/sample - loss: 2.1677 - accuracy: 0.4752 - val_loss: 2.1179 - val_accuracy: 0.5081\n",
            "Epoch 3/20\n",
            "48000/48000 [==============================] - 1s 21us/sample - loss: 2.0640 - accuracy: 0.5405 - val_loss: 2.0034 - val_accuracy: 0.5988\n",
            "Epoch 4/20\n",
            "48000/48000 [==============================] - 1s 22us/sample - loss: 1.9418 - accuracy: 0.5694 - val_loss: 1.8730 - val_accuracy: 0.6170\n",
            "Epoch 5/20\n",
            "48000/48000 [==============================] - 1s 21us/sample - loss: 1.8056 - accuracy: 0.5924 - val_loss: 1.7338 - val_accuracy: 0.6178\n",
            "Epoch 6/20\n",
            "48000/48000 [==============================] - 1s 21us/sample - loss: 1.6677 - accuracy: 0.6157 - val_loss: 1.5990 - val_accuracy: 0.5853\n",
            "Epoch 7/20\n",
            "48000/48000 [==============================] - 1s 21us/sample - loss: 1.5410 - accuracy: 0.6271 - val_loss: 1.4770 - val_accuracy: 0.6541\n",
            "Epoch 8/20\n",
            "48000/48000 [==============================] - 1s 21us/sample - loss: 1.4307 - accuracy: 0.6438 - val_loss: 1.3755 - val_accuracy: 0.6578\n",
            "Epoch 9/20\n",
            "48000/48000 [==============================] - 1s 21us/sample - loss: 1.3377 - accuracy: 0.6599 - val_loss: 1.2903 - val_accuracy: 0.6569\n",
            "Epoch 10/20\n",
            "48000/48000 [==============================] - 1s 21us/sample - loss: 1.2598 - accuracy: 0.6710 - val_loss: 1.2174 - val_accuracy: 0.6922\n",
            "Epoch 11/20\n",
            "48000/48000 [==============================] - 1s 21us/sample - loss: 1.1942 - accuracy: 0.6819 - val_loss: 1.1575 - val_accuracy: 0.6951\n",
            "Epoch 12/20\n",
            "48000/48000 [==============================] - 1s 21us/sample - loss: 1.1385 - accuracy: 0.6911 - val_loss: 1.1054 - val_accuracy: 0.6992\n",
            "Epoch 13/20\n",
            "48000/48000 [==============================] - 1s 21us/sample - loss: 1.0907 - accuracy: 0.6976 - val_loss: 1.0606 - val_accuracy: 0.7017\n",
            "Epoch 14/20\n",
            "48000/48000 [==============================] - 1s 22us/sample - loss: 1.0491 - accuracy: 0.7037 - val_loss: 1.0221 - val_accuracy: 0.6947\n",
            "Epoch 15/20\n",
            "48000/48000 [==============================] - 1s 21us/sample - loss: 1.0125 - accuracy: 0.7082 - val_loss: 0.9873 - val_accuracy: 0.7155\n",
            "Epoch 16/20\n",
            "48000/48000 [==============================] - 1s 22us/sample - loss: 0.9799 - accuracy: 0.7131 - val_loss: 0.9563 - val_accuracy: 0.7184\n",
            "Epoch 17/20\n",
            "48000/48000 [==============================] - 1s 21us/sample - loss: 0.9509 - accuracy: 0.7156 - val_loss: 0.9283 - val_accuracy: 0.7228\n",
            "Epoch 18/20\n",
            "48000/48000 [==============================] - 1s 21us/sample - loss: 0.9245 - accuracy: 0.7191 - val_loss: 0.9028 - val_accuracy: 0.7271\n",
            "Epoch 19/20\n",
            "48000/48000 [==============================] - 1s 21us/sample - loss: 0.9005 - accuracy: 0.7227 - val_loss: 0.8798 - val_accuracy: 0.7292\n",
            "Epoch 20/20\n",
            "48000/48000 [==============================] - 1s 22us/sample - loss: 0.8787 - accuracy: 0.7263 - val_loss: 0.8586 - val_accuracy: 0.7301\n"
          ],
          "name": "stdout"
        },
        {
          "output_type": "display_data",
          "data": {
            "text/html": [
              "<span style=\"color:#4527A0\"><h1 style=\"font-size:18px\">Trial complete</h1></span>"
            ],
            "text/plain": [
              "<IPython.core.display.HTML object>"
            ]
          },
          "metadata": {
            "tags": []
          }
        },
        {
          "output_type": "display_data",
          "data": {
            "text/html": [
              "<span style=\"color:#4527A0\"><h1 style=\"font-size:18px\">Trial summary</h1></span>"
            ],
            "text/plain": [
              "<IPython.core.display.HTML object>"
            ]
          },
          "metadata": {
            "tags": []
          }
        },
        {
          "output_type": "display_data",
          "data": {
            "text/html": [
              "<span style=\"color:cyan\"> |-Trial ID: 6767bad08d9aeea117ac79334bf6a53e</span>"
            ],
            "text/plain": [
              "<IPython.core.display.HTML object>"
            ]
          },
          "metadata": {
            "tags": []
          }
        },
        {
          "output_type": "display_data",
          "data": {
            "text/html": [
              "<span style=\"color:cyan\"> |-Score: 0.7300833463668823</span>"
            ],
            "text/plain": [
              "<IPython.core.display.HTML object>"
            ]
          },
          "metadata": {
            "tags": []
          }
        },
        {
          "output_type": "display_data",
          "data": {
            "text/html": [
              "<span style=\"color:cyan\"> |-Best step: 0</span>"
            ],
            "text/plain": [
              "<IPython.core.display.HTML object>"
            ]
          },
          "metadata": {
            "tags": []
          }
        },
        {
          "output_type": "display_data",
          "data": {
            "text/html": [
              "<span style=\"color:#7E57C2\"><h2 style=\"font-size:16px\">Hyperparameters:</h2></span>"
            ],
            "text/plain": [
              "<IPython.core.display.HTML object>"
            ]
          },
          "metadata": {
            "tags": []
          }
        },
        {
          "output_type": "display_data",
          "data": {
            "text/html": [
              "<span style=\"color:cyan\"> |-activation: sigmoid</span>"
            ],
            "text/plain": [
              "<IPython.core.display.HTML object>"
            ]
          },
          "metadata": {
            "tags": []
          }
        },
        {
          "output_type": "display_data",
          "data": {
            "text/html": [
              "<span style=\"color:blue\"> |-optimizer: SGD</span>"
            ],
            "text/plain": [
              "<IPython.core.display.HTML object>"
            ]
          },
          "metadata": {
            "tags": []
          }
        },
        {
          "output_type": "display_data",
          "data": {
            "text/html": [
              "<span style=\"color:cyan\"> |-units_hidden: 288</span>"
            ],
            "text/plain": [
              "<IPython.core.display.HTML object>"
            ]
          },
          "metadata": {
            "tags": []
          }
        },
        {
          "output_type": "display_data",
          "data": {
            "text/html": [
              "<span style=\"color:blue\"> |-units_input: 992</span>"
            ],
            "text/plain": [
              "<IPython.core.display.HTML object>"
            ]
          },
          "metadata": {
            "tags": []
          }
        },
        {
          "output_type": "stream",
          "text": [
            "Train on 48000 samples, validate on 12000 samples\n",
            "Epoch 1/20\n",
            "48000/48000 [==============================] - 1s 30us/sample - loss: 0.8102 - accuracy: 0.7088 - val_loss: 0.5580 - val_accuracy: 0.7900\n",
            "Epoch 2/20\n",
            "48000/48000 [==============================] - 1s 22us/sample - loss: 0.4898 - accuracy: 0.8198 - val_loss: 0.4958 - val_accuracy: 0.8133\n",
            "Epoch 3/20\n",
            "48000/48000 [==============================] - 1s 23us/sample - loss: 0.4341 - accuracy: 0.8399 - val_loss: 0.4620 - val_accuracy: 0.8235\n",
            "Epoch 4/20\n",
            "48000/48000 [==============================] - 1s 23us/sample - loss: 0.4026 - accuracy: 0.8524 - val_loss: 0.3959 - val_accuracy: 0.8535\n",
            "Epoch 5/20\n",
            "48000/48000 [==============================] - 1s 23us/sample - loss: 0.3783 - accuracy: 0.8602 - val_loss: 0.4108 - val_accuracy: 0.8456\n",
            "Epoch 6/20\n",
            "48000/48000 [==============================] - 1s 23us/sample - loss: 0.3587 - accuracy: 0.8682 - val_loss: 0.3817 - val_accuracy: 0.8558\n",
            "Epoch 7/20\n",
            "48000/48000 [==============================] - 1s 22us/sample - loss: 0.3447 - accuracy: 0.8739 - val_loss: 0.4064 - val_accuracy: 0.8486\n",
            "Epoch 8/20\n",
            "48000/48000 [==============================] - 1s 22us/sample - loss: 0.3288 - accuracy: 0.8781 - val_loss: 0.3504 - val_accuracy: 0.8720\n",
            "Epoch 9/20\n",
            "48000/48000 [==============================] - 1s 22us/sample - loss: 0.3178 - accuracy: 0.8813 - val_loss: 0.3589 - val_accuracy: 0.8639\n",
            "Epoch 10/20\n",
            "48000/48000 [==============================] - 1s 23us/sample - loss: 0.3083 - accuracy: 0.8855 - val_loss: 0.3571 - val_accuracy: 0.8725\n",
            "Epoch 11/20\n",
            "48000/48000 [==============================] - 1s 23us/sample - loss: 0.2966 - accuracy: 0.8887 - val_loss: 0.3428 - val_accuracy: 0.8723\n",
            "Epoch 12/20\n",
            "48000/48000 [==============================] - 1s 23us/sample - loss: 0.2854 - accuracy: 0.8925 - val_loss: 0.3145 - val_accuracy: 0.8838\n",
            "Epoch 13/20\n",
            "48000/48000 [==============================] - 1s 22us/sample - loss: 0.2801 - accuracy: 0.8955 - val_loss: 0.3375 - val_accuracy: 0.8755\n",
            "Epoch 14/20\n",
            "48000/48000 [==============================] - 1s 23us/sample - loss: 0.2708 - accuracy: 0.8972 - val_loss: 0.3511 - val_accuracy: 0.8692\n",
            "Epoch 15/20\n",
            "48000/48000 [==============================] - 1s 23us/sample - loss: 0.2630 - accuracy: 0.9012 - val_loss: 0.3754 - val_accuracy: 0.8659\n",
            "Epoch 16/20\n",
            "48000/48000 [==============================] - 1s 22us/sample - loss: 0.2564 - accuracy: 0.9048 - val_loss: 0.3316 - val_accuracy: 0.8787\n",
            "Epoch 17/20\n",
            "48000/48000 [==============================] - 1s 22us/sample - loss: 0.2473 - accuracy: 0.9062 - val_loss: 0.3445 - val_accuracy: 0.8752\n",
            "Epoch 18/20\n",
            "48000/48000 [==============================] - 1s 22us/sample - loss: 0.2418 - accuracy: 0.9102 - val_loss: 0.3310 - val_accuracy: 0.8819\n",
            "Epoch 19/20\n",
            "48000/48000 [==============================] - 1s 22us/sample - loss: 0.2373 - accuracy: 0.9103 - val_loss: 0.3295 - val_accuracy: 0.8835\n",
            "Epoch 20/20\n",
            "48000/48000 [==============================] - 1s 22us/sample - loss: 0.2314 - accuracy: 0.9118 - val_loss: 0.3143 - val_accuracy: 0.8894\n"
          ],
          "name": "stdout"
        },
        {
          "output_type": "display_data",
          "data": {
            "text/html": [
              "<span style=\"color:#4527A0\"><h1 style=\"font-size:18px\">Trial complete</h1></span>"
            ],
            "text/plain": [
              "<IPython.core.display.HTML object>"
            ]
          },
          "metadata": {
            "tags": []
          }
        },
        {
          "output_type": "display_data",
          "data": {
            "text/html": [
              "<span style=\"color:#4527A0\"><h1 style=\"font-size:18px\">Trial summary</h1></span>"
            ],
            "text/plain": [
              "<IPython.core.display.HTML object>"
            ]
          },
          "metadata": {
            "tags": []
          }
        },
        {
          "output_type": "display_data",
          "data": {
            "text/html": [
              "<span style=\"color:cyan\"> |-Trial ID: 1a8089cdd10b96d1abb4fb6a3d37e4a7</span>"
            ],
            "text/plain": [
              "<IPython.core.display.HTML object>"
            ]
          },
          "metadata": {
            "tags": []
          }
        },
        {
          "output_type": "display_data",
          "data": {
            "text/html": [
              "<span style=\"color:cyan\"> |-Score: 0.8894166946411133</span>"
            ],
            "text/plain": [
              "<IPython.core.display.HTML object>"
            ]
          },
          "metadata": {
            "tags": []
          }
        },
        {
          "output_type": "display_data",
          "data": {
            "text/html": [
              "<span style=\"color:cyan\"> |-Best step: 0</span>"
            ],
            "text/plain": [
              "<IPython.core.display.HTML object>"
            ]
          },
          "metadata": {
            "tags": []
          }
        },
        {
          "output_type": "display_data",
          "data": {
            "text/html": [
              "<span style=\"color:#7E57C2\"><h2 style=\"font-size:16px\">Hyperparameters:</h2></span>"
            ],
            "text/plain": [
              "<IPython.core.display.HTML object>"
            ]
          },
          "metadata": {
            "tags": []
          }
        },
        {
          "output_type": "display_data",
          "data": {
            "text/html": [
              "<span style=\"color:cyan\"> |-activation: sigmoid</span>"
            ],
            "text/plain": [
              "<IPython.core.display.HTML object>"
            ]
          },
          "metadata": {
            "tags": []
          }
        },
        {
          "output_type": "display_data",
          "data": {
            "text/html": [
              "<span style=\"color:blue\"> |-optimizer: rmsprop</span>"
            ],
            "text/plain": [
              "<IPython.core.display.HTML object>"
            ]
          },
          "metadata": {
            "tags": []
          }
        },
        {
          "output_type": "display_data",
          "data": {
            "text/html": [
              "<span style=\"color:cyan\"> |-units_hidden: 320</span>"
            ],
            "text/plain": [
              "<IPython.core.display.HTML object>"
            ]
          },
          "metadata": {
            "tags": []
          }
        },
        {
          "output_type": "display_data",
          "data": {
            "text/html": [
              "<span style=\"color:blue\"> |-units_input: 832</span>"
            ],
            "text/plain": [
              "<IPython.core.display.HTML object>"
            ]
          },
          "metadata": {
            "tags": []
          }
        },
        {
          "output_type": "stream",
          "text": [
            "Train on 48000 samples, validate on 12000 samples\n",
            "Epoch 1/20\n",
            "48000/48000 [==============================] - 1s 30us/sample - loss: 0.7917 - accuracy: 0.7344 - val_loss: 0.6473 - val_accuracy: 0.7664\n",
            "Epoch 2/20\n",
            "48000/48000 [==============================] - 1s 22us/sample - loss: 0.4718 - accuracy: 0.8226 - val_loss: 0.4377 - val_accuracy: 0.8403\n",
            "Epoch 3/20\n",
            "48000/48000 [==============================] - 1s 22us/sample - loss: 0.4066 - accuracy: 0.8489 - val_loss: 0.4112 - val_accuracy: 0.8409\n",
            "Epoch 4/20\n",
            "48000/48000 [==============================] - 1s 22us/sample - loss: 0.3655 - accuracy: 0.8626 - val_loss: 0.3988 - val_accuracy: 0.8502\n",
            "Epoch 5/20\n",
            "48000/48000 [==============================] - 1s 23us/sample - loss: 0.3374 - accuracy: 0.8724 - val_loss: 0.4247 - val_accuracy: 0.8424\n",
            "Epoch 6/20\n",
            "48000/48000 [==============================] - 1s 22us/sample - loss: 0.3161 - accuracy: 0.8794 - val_loss: 0.3925 - val_accuracy: 0.8505\n",
            "Epoch 7/20\n",
            "48000/48000 [==============================] - 1s 22us/sample - loss: 0.2987 - accuracy: 0.8856 - val_loss: 0.3778 - val_accuracy: 0.8631\n",
            "Epoch 8/20\n",
            "48000/48000 [==============================] - 1s 23us/sample - loss: 0.2855 - accuracy: 0.8902 - val_loss: 0.3772 - val_accuracy: 0.8635\n",
            "Epoch 9/20\n",
            "48000/48000 [==============================] - 1s 26us/sample - loss: 0.2715 - accuracy: 0.8965 - val_loss: 0.3862 - val_accuracy: 0.8717\n",
            "Epoch 10/20\n",
            "48000/48000 [==============================] - 1s 26us/sample - loss: 0.2593 - accuracy: 0.9016 - val_loss: 0.3744 - val_accuracy: 0.8567\n",
            "Epoch 11/20\n",
            "48000/48000 [==============================] - 1s 21us/sample - loss: 0.2499 - accuracy: 0.9051 - val_loss: 0.3909 - val_accuracy: 0.8539\n",
            "Epoch 12/20\n",
            "48000/48000 [==============================] - 1s 22us/sample - loss: 0.2382 - accuracy: 0.9090 - val_loss: 0.3586 - val_accuracy: 0.8758\n",
            "Epoch 13/20\n",
            "48000/48000 [==============================] - 1s 25us/sample - loss: 0.2303 - accuracy: 0.9122 - val_loss: 0.3288 - val_accuracy: 0.8867\n",
            "Epoch 14/20\n",
            "48000/48000 [==============================] - 1s 22us/sample - loss: 0.2240 - accuracy: 0.9145 - val_loss: 0.3322 - val_accuracy: 0.8862\n",
            "Epoch 15/20\n",
            "48000/48000 [==============================] - 1s 23us/sample - loss: 0.2163 - accuracy: 0.9178 - val_loss: 0.3904 - val_accuracy: 0.8727\n",
            "Epoch 16/20\n",
            "48000/48000 [==============================] - 1s 23us/sample - loss: 0.2072 - accuracy: 0.9201 - val_loss: 0.3450 - val_accuracy: 0.8870\n",
            "Epoch 17/20\n",
            "48000/48000 [==============================] - 1s 22us/sample - loss: 0.2018 - accuracy: 0.9227 - val_loss: 0.3774 - val_accuracy: 0.8743\n",
            "Epoch 18/20\n",
            "48000/48000 [==============================] - 1s 23us/sample - loss: 0.1964 - accuracy: 0.9247 - val_loss: 0.3504 - val_accuracy: 0.8903\n",
            "Epoch 19/20\n",
            "48000/48000 [==============================] - 1s 23us/sample - loss: 0.1873 - accuracy: 0.9287 - val_loss: 0.3713 - val_accuracy: 0.8812\n",
            "Epoch 20/20\n",
            "48000/48000 [==============================] - 1s 24us/sample - loss: 0.1854 - accuracy: 0.9289 - val_loss: 0.3720 - val_accuracy: 0.8741\n"
          ],
          "name": "stdout"
        },
        {
          "output_type": "display_data",
          "data": {
            "text/html": [
              "<span style=\"color:#4527A0\"><h1 style=\"font-size:18px\">Trial complete</h1></span>"
            ],
            "text/plain": [
              "<IPython.core.display.HTML object>"
            ]
          },
          "metadata": {
            "tags": []
          }
        },
        {
          "output_type": "display_data",
          "data": {
            "text/html": [
              "<span style=\"color:#4527A0\"><h1 style=\"font-size:18px\">Trial summary</h1></span>"
            ],
            "text/plain": [
              "<IPython.core.display.HTML object>"
            ]
          },
          "metadata": {
            "tags": []
          }
        },
        {
          "output_type": "display_data",
          "data": {
            "text/html": [
              "<span style=\"color:cyan\"> |-Trial ID: 2b4d9a4a93226b7bd3559bdf5ed1caf2</span>"
            ],
            "text/plain": [
              "<IPython.core.display.HTML object>"
            ]
          },
          "metadata": {
            "tags": []
          }
        },
        {
          "output_type": "display_data",
          "data": {
            "text/html": [
              "<span style=\"color:cyan\"> |-Score: 0.890250027179718</span>"
            ],
            "text/plain": [
              "<IPython.core.display.HTML object>"
            ]
          },
          "metadata": {
            "tags": []
          }
        },
        {
          "output_type": "display_data",
          "data": {
            "text/html": [
              "<span style=\"color:cyan\"> |-Best step: 0</span>"
            ],
            "text/plain": [
              "<IPython.core.display.HTML object>"
            ]
          },
          "metadata": {
            "tags": []
          }
        },
        {
          "output_type": "display_data",
          "data": {
            "text/html": [
              "<span style=\"color:#7E57C2\"><h2 style=\"font-size:16px\">Hyperparameters:</h2></span>"
            ],
            "text/plain": [
              "<IPython.core.display.HTML object>"
            ]
          },
          "metadata": {
            "tags": []
          }
        },
        {
          "output_type": "display_data",
          "data": {
            "text/html": [
              "<span style=\"color:cyan\"> |-activation: elu</span>"
            ],
            "text/plain": [
              "<IPython.core.display.HTML object>"
            ]
          },
          "metadata": {
            "tags": []
          }
        },
        {
          "output_type": "display_data",
          "data": {
            "text/html": [
              "<span style=\"color:blue\"> |-optimizer: rmsprop</span>"
            ],
            "text/plain": [
              "<IPython.core.display.HTML object>"
            ]
          },
          "metadata": {
            "tags": []
          }
        },
        {
          "output_type": "display_data",
          "data": {
            "text/html": [
              "<span style=\"color:cyan\"> |-units_hidden: 192</span>"
            ],
            "text/plain": [
              "<IPython.core.display.HTML object>"
            ]
          },
          "metadata": {
            "tags": []
          }
        },
        {
          "output_type": "display_data",
          "data": {
            "text/html": [
              "<span style=\"color:blue\"> |-units_input: 736</span>"
            ],
            "text/plain": [
              "<IPython.core.display.HTML object>"
            ]
          },
          "metadata": {
            "tags": []
          }
        },
        {
          "output_type": "stream",
          "text": [
            "Train on 48000 samples, validate on 12000 samples\n",
            "Epoch 1/20\n",
            "48000/48000 [==============================] - 1s 30us/sample - loss: 0.5233 - accuracy: 0.8130 - val_loss: 0.3891 - val_accuracy: 0.8582\n",
            "Epoch 2/20\n",
            "48000/48000 [==============================] - 1s 23us/sample - loss: 0.3648 - accuracy: 0.8678 - val_loss: 0.3549 - val_accuracy: 0.8698\n",
            "Epoch 3/20\n",
            "48000/48000 [==============================] - 1s 23us/sample - loss: 0.3212 - accuracy: 0.8829 - val_loss: 0.3623 - val_accuracy: 0.8713\n",
            "Epoch 4/20\n",
            "48000/48000 [==============================] - 1s 22us/sample - loss: 0.2962 - accuracy: 0.8905 - val_loss: 0.3482 - val_accuracy: 0.8734\n",
            "Epoch 5/20\n",
            "48000/48000 [==============================] - 1s 23us/sample - loss: 0.2748 - accuracy: 0.8994 - val_loss: 0.3332 - val_accuracy: 0.8784\n",
            "Epoch 6/20\n",
            "48000/48000 [==============================] - 1s 22us/sample - loss: 0.2626 - accuracy: 0.9019 - val_loss: 0.3369 - val_accuracy: 0.8785\n",
            "Epoch 7/20\n",
            "48000/48000 [==============================] - 1s 24us/sample - loss: 0.2485 - accuracy: 0.9070 - val_loss: 0.3100 - val_accuracy: 0.8917\n",
            "Epoch 8/20\n",
            "48000/48000 [==============================] - 1s 23us/sample - loss: 0.2354 - accuracy: 0.9115 - val_loss: 0.2993 - val_accuracy: 0.8919\n",
            "Epoch 9/20\n",
            "48000/48000 [==============================] - 1s 22us/sample - loss: 0.2207 - accuracy: 0.9172 - val_loss: 0.3034 - val_accuracy: 0.8945\n",
            "Epoch 10/20\n",
            "48000/48000 [==============================] - 1s 21us/sample - loss: 0.2151 - accuracy: 0.9186 - val_loss: 0.3179 - val_accuracy: 0.8914\n",
            "Epoch 11/20\n",
            "48000/48000 [==============================] - 1s 22us/sample - loss: 0.2058 - accuracy: 0.9221 - val_loss: 0.3159 - val_accuracy: 0.8917\n",
            "Epoch 12/20\n",
            "48000/48000 [==============================] - 1s 22us/sample - loss: 0.1961 - accuracy: 0.9254 - val_loss: 0.3280 - val_accuracy: 0.8873\n",
            "Epoch 13/20\n",
            "48000/48000 [==============================] - 1s 21us/sample - loss: 0.1901 - accuracy: 0.9286 - val_loss: 0.3220 - val_accuracy: 0.8924\n",
            "Epoch 14/20\n",
            "48000/48000 [==============================] - 1s 22us/sample - loss: 0.1775 - accuracy: 0.9333 - val_loss: 0.3069 - val_accuracy: 0.8981\n",
            "Epoch 15/20\n",
            "48000/48000 [==============================] - 1s 22us/sample - loss: 0.1715 - accuracy: 0.9353 - val_loss: 0.3113 - val_accuracy: 0.8968\n",
            "Epoch 16/20\n",
            "48000/48000 [==============================] - 1s 22us/sample - loss: 0.1654 - accuracy: 0.9380 - val_loss: 0.3280 - val_accuracy: 0.8924\n",
            "Epoch 17/20\n",
            "48000/48000 [==============================] - 1s 22us/sample - loss: 0.1616 - accuracy: 0.9390 - val_loss: 0.3225 - val_accuracy: 0.8948\n",
            "Epoch 18/20\n",
            "48000/48000 [==============================] - 1s 22us/sample - loss: 0.1523 - accuracy: 0.9423 - val_loss: 0.3396 - val_accuracy: 0.8882\n",
            "Epoch 19/20\n",
            "48000/48000 [==============================] - 1s 22us/sample - loss: 0.1465 - accuracy: 0.9449 - val_loss: 0.3340 - val_accuracy: 0.8965\n",
            "Epoch 20/20\n",
            "48000/48000 [==============================] - 1s 21us/sample - loss: 0.1389 - accuracy: 0.9468 - val_loss: 0.3493 - val_accuracy: 0.8928\n"
          ],
          "name": "stdout"
        },
        {
          "output_type": "display_data",
          "data": {
            "text/html": [
              "<span style=\"color:#4527A0\"><h1 style=\"font-size:18px\">Trial complete</h1></span>"
            ],
            "text/plain": [
              "<IPython.core.display.HTML object>"
            ]
          },
          "metadata": {
            "tags": []
          }
        },
        {
          "output_type": "display_data",
          "data": {
            "text/html": [
              "<span style=\"color:#4527A0\"><h1 style=\"font-size:18px\">Trial summary</h1></span>"
            ],
            "text/plain": [
              "<IPython.core.display.HTML object>"
            ]
          },
          "metadata": {
            "tags": []
          }
        },
        {
          "output_type": "display_data",
          "data": {
            "text/html": [
              "<span style=\"color:cyan\"> |-Trial ID: 8fc6e6dd3efafc3ce25b41acad85e8f2</span>"
            ],
            "text/plain": [
              "<IPython.core.display.HTML object>"
            ]
          },
          "metadata": {
            "tags": []
          }
        },
        {
          "output_type": "display_data",
          "data": {
            "text/html": [
              "<span style=\"color:cyan\"> |-Score: 0.8980833292007446</span>"
            ],
            "text/plain": [
              "<IPython.core.display.HTML object>"
            ]
          },
          "metadata": {
            "tags": []
          }
        },
        {
          "output_type": "display_data",
          "data": {
            "text/html": [
              "<span style=\"color:cyan\"> |-Best step: 0</span>"
            ],
            "text/plain": [
              "<IPython.core.display.HTML object>"
            ]
          },
          "metadata": {
            "tags": []
          }
        },
        {
          "output_type": "display_data",
          "data": {
            "text/html": [
              "<span style=\"color:#7E57C2\"><h2 style=\"font-size:16px\">Hyperparameters:</h2></span>"
            ],
            "text/plain": [
              "<IPython.core.display.HTML object>"
            ]
          },
          "metadata": {
            "tags": []
          }
        },
        {
          "output_type": "display_data",
          "data": {
            "text/html": [
              "<span style=\"color:cyan\"> |-activation: relu</span>"
            ],
            "text/plain": [
              "<IPython.core.display.HTML object>"
            ]
          },
          "metadata": {
            "tags": []
          }
        },
        {
          "output_type": "display_data",
          "data": {
            "text/html": [
              "<span style=\"color:blue\"> |-optimizer: adam</span>"
            ],
            "text/plain": [
              "<IPython.core.display.HTML object>"
            ]
          },
          "metadata": {
            "tags": []
          }
        },
        {
          "output_type": "display_data",
          "data": {
            "text/html": [
              "<span style=\"color:cyan\"> |-units_hidden: 384</span>"
            ],
            "text/plain": [
              "<IPython.core.display.HTML object>"
            ]
          },
          "metadata": {
            "tags": []
          }
        },
        {
          "output_type": "display_data",
          "data": {
            "text/html": [
              "<span style=\"color:blue\"> |-units_input: 992</span>"
            ],
            "text/plain": [
              "<IPython.core.display.HTML object>"
            ]
          },
          "metadata": {
            "tags": []
          }
        },
        {
          "output_type": "stream",
          "text": [
            "Train on 48000 samples, validate on 12000 samples\n",
            "Epoch 1/20\n",
            "48000/48000 [==============================] - 1s 28us/sample - loss: 0.5286 - accuracy: 0.8095 - val_loss: 0.3948 - val_accuracy: 0.8596\n",
            "Epoch 2/20\n",
            "48000/48000 [==============================] - 1s 21us/sample - loss: 0.3891 - accuracy: 0.8586 - val_loss: 0.3960 - val_accuracy: 0.8550\n",
            "Epoch 3/20\n",
            "48000/48000 [==============================] - 1s 22us/sample - loss: 0.3549 - accuracy: 0.8692 - val_loss: 0.3631 - val_accuracy: 0.8698\n",
            "Epoch 4/20\n",
            "48000/48000 [==============================] - 1s 22us/sample - loss: 0.3210 - accuracy: 0.8808 - val_loss: 0.3455 - val_accuracy: 0.8715\n",
            "Epoch 5/20\n",
            "48000/48000 [==============================] - 1s 22us/sample - loss: 0.3024 - accuracy: 0.8875 - val_loss: 0.3372 - val_accuracy: 0.8794\n",
            "Epoch 6/20\n",
            "48000/48000 [==============================] - 1s 22us/sample - loss: 0.2802 - accuracy: 0.8956 - val_loss: 0.3198 - val_accuracy: 0.8853\n",
            "Epoch 7/20\n",
            "48000/48000 [==============================] - 1s 21us/sample - loss: 0.2666 - accuracy: 0.9013 - val_loss: 0.3210 - val_accuracy: 0.8808\n",
            "Epoch 8/20\n",
            "48000/48000 [==============================] - 1s 21us/sample - loss: 0.2596 - accuracy: 0.9036 - val_loss: 0.3262 - val_accuracy: 0.8816\n",
            "Epoch 9/20\n",
            "48000/48000 [==============================] - 1s 21us/sample - loss: 0.2410 - accuracy: 0.9107 - val_loss: 0.3122 - val_accuracy: 0.8913\n",
            "Epoch 10/20\n",
            "48000/48000 [==============================] - 1s 22us/sample - loss: 0.2343 - accuracy: 0.9129 - val_loss: 0.3003 - val_accuracy: 0.8889\n",
            "Epoch 11/20\n",
            "48000/48000 [==============================] - 1s 21us/sample - loss: 0.2242 - accuracy: 0.9162 - val_loss: 0.3057 - val_accuracy: 0.8898\n",
            "Epoch 12/20\n",
            "48000/48000 [==============================] - 1s 22us/sample - loss: 0.2119 - accuracy: 0.9213 - val_loss: 0.3090 - val_accuracy: 0.8914\n",
            "Epoch 13/20\n",
            "48000/48000 [==============================] - 1s 21us/sample - loss: 0.1980 - accuracy: 0.9270 - val_loss: 0.3010 - val_accuracy: 0.8928\n",
            "Epoch 14/20\n",
            "48000/48000 [==============================] - 1s 21us/sample - loss: 0.1914 - accuracy: 0.9289 - val_loss: 0.2982 - val_accuracy: 0.8917\n",
            "Epoch 15/20\n",
            "48000/48000 [==============================] - 1s 22us/sample - loss: 0.1848 - accuracy: 0.9312 - val_loss: 0.2986 - val_accuracy: 0.8948\n",
            "Epoch 16/20\n",
            "48000/48000 [==============================] - 1s 21us/sample - loss: 0.1764 - accuracy: 0.9349 - val_loss: 0.3170 - val_accuracy: 0.8918\n",
            "Epoch 17/20\n",
            "48000/48000 [==============================] - 1s 21us/sample - loss: 0.1647 - accuracy: 0.9395 - val_loss: 0.3013 - val_accuracy: 0.8917\n",
            "Epoch 18/20\n",
            "48000/48000 [==============================] - 1s 21us/sample - loss: 0.1630 - accuracy: 0.9401 - val_loss: 0.3112 - val_accuracy: 0.8932\n",
            "Epoch 19/20\n",
            "48000/48000 [==============================] - 1s 21us/sample - loss: 0.1515 - accuracy: 0.9442 - val_loss: 0.3117 - val_accuracy: 0.8936\n",
            "Epoch 20/20\n",
            "48000/48000 [==============================] - 1s 22us/sample - loss: 0.1506 - accuracy: 0.9439 - val_loss: 0.3100 - val_accuracy: 0.8930\n"
          ],
          "name": "stdout"
        },
        {
          "output_type": "display_data",
          "data": {
            "text/html": [
              "<span style=\"color:#4527A0\"><h1 style=\"font-size:18px\">Trial complete</h1></span>"
            ],
            "text/plain": [
              "<IPython.core.display.HTML object>"
            ]
          },
          "metadata": {
            "tags": []
          }
        },
        {
          "output_type": "display_data",
          "data": {
            "text/html": [
              "<span style=\"color:#4527A0\"><h1 style=\"font-size:18px\">Trial summary</h1></span>"
            ],
            "text/plain": [
              "<IPython.core.display.HTML object>"
            ]
          },
          "metadata": {
            "tags": []
          }
        },
        {
          "output_type": "display_data",
          "data": {
            "text/html": [
              "<span style=\"color:cyan\"> |-Trial ID: e4775d7783f9f1723ce6b1afc4954dc6</span>"
            ],
            "text/plain": [
              "<IPython.core.display.HTML object>"
            ]
          },
          "metadata": {
            "tags": []
          }
        },
        {
          "output_type": "display_data",
          "data": {
            "text/html": [
              "<span style=\"color:cyan\"> |-Score: 0.8948333263397217</span>"
            ],
            "text/plain": [
              "<IPython.core.display.HTML object>"
            ]
          },
          "metadata": {
            "tags": []
          }
        },
        {
          "output_type": "display_data",
          "data": {
            "text/html": [
              "<span style=\"color:cyan\"> |-Best step: 0</span>"
            ],
            "text/plain": [
              "<IPython.core.display.HTML object>"
            ]
          },
          "metadata": {
            "tags": []
          }
        },
        {
          "output_type": "display_data",
          "data": {
            "text/html": [
              "<span style=\"color:#7E57C2\"><h2 style=\"font-size:16px\">Hyperparameters:</h2></span>"
            ],
            "text/plain": [
              "<IPython.core.display.HTML object>"
            ]
          },
          "metadata": {
            "tags": []
          }
        },
        {
          "output_type": "display_data",
          "data": {
            "text/html": [
              "<span style=\"color:cyan\"> |-activation: tanh</span>"
            ],
            "text/plain": [
              "<IPython.core.display.HTML object>"
            ]
          },
          "metadata": {
            "tags": []
          }
        },
        {
          "output_type": "display_data",
          "data": {
            "text/html": [
              "<span style=\"color:blue\"> |-optimizer: adam</span>"
            ],
            "text/plain": [
              "<IPython.core.display.HTML object>"
            ]
          },
          "metadata": {
            "tags": []
          }
        },
        {
          "output_type": "display_data",
          "data": {
            "text/html": [
              "<span style=\"color:cyan\"> |-units_hidden: 416</span>"
            ],
            "text/plain": [
              "<IPython.core.display.HTML object>"
            ]
          },
          "metadata": {
            "tags": []
          }
        },
        {
          "output_type": "display_data",
          "data": {
            "text/html": [
              "<span style=\"color:blue\"> |-units_input: 768</span>"
            ],
            "text/plain": [
              "<IPython.core.display.HTML object>"
            ]
          },
          "metadata": {
            "tags": []
          }
        },
        {
          "output_type": "stream",
          "text": [
            "Train on 48000 samples, validate on 12000 samples\n",
            "Epoch 1/20\n",
            "48000/48000 [==============================] - 1s 27us/sample - loss: 1.0991 - accuracy: 0.6684 - val_loss: 0.7591 - val_accuracy: 0.7533\n",
            "Epoch 2/20\n",
            "48000/48000 [==============================] - 1s 21us/sample - loss: 0.6896 - accuracy: 0.7765 - val_loss: 0.6332 - val_accuracy: 0.7906\n",
            "Epoch 3/20\n",
            "48000/48000 [==============================] - 1s 22us/sample - loss: 0.6047 - accuracy: 0.8012 - val_loss: 0.5816 - val_accuracy: 0.8024\n",
            "Epoch 4/20\n",
            "48000/48000 [==============================] - 1s 23us/sample - loss: 0.5599 - accuracy: 0.8136 - val_loss: 0.5468 - val_accuracy: 0.8143\n",
            "Epoch 5/20\n",
            "48000/48000 [==============================] - 1s 23us/sample - loss: 0.5311 - accuracy: 0.8204 - val_loss: 0.5221 - val_accuracy: 0.8198\n",
            "Epoch 6/20\n",
            "48000/48000 [==============================] - 1s 21us/sample - loss: 0.5104 - accuracy: 0.8255 - val_loss: 0.5085 - val_accuracy: 0.8235\n",
            "Epoch 7/20\n",
            "48000/48000 [==============================] - 1s 20us/sample - loss: 0.4947 - accuracy: 0.8308 - val_loss: 0.4934 - val_accuracy: 0.8287\n",
            "Epoch 8/20\n",
            "48000/48000 [==============================] - 1s 23us/sample - loss: 0.4821 - accuracy: 0.8331 - val_loss: 0.4916 - val_accuracy: 0.8242\n",
            "Epoch 9/20\n",
            "48000/48000 [==============================] - 1s 21us/sample - loss: 0.4722 - accuracy: 0.8380 - val_loss: 0.4750 - val_accuracy: 0.8317\n",
            "Epoch 10/20\n",
            "48000/48000 [==============================] - 1s 21us/sample - loss: 0.4635 - accuracy: 0.8394 - val_loss: 0.4662 - val_accuracy: 0.8347\n",
            "Epoch 11/20\n",
            "48000/48000 [==============================] - 1s 21us/sample - loss: 0.4561 - accuracy: 0.8423 - val_loss: 0.4605 - val_accuracy: 0.8376\n",
            "Epoch 12/20\n",
            "48000/48000 [==============================] - 1s 21us/sample - loss: 0.4496 - accuracy: 0.8444 - val_loss: 0.4548 - val_accuracy: 0.8382\n",
            "Epoch 13/20\n",
            "48000/48000 [==============================] - 1s 21us/sample - loss: 0.4441 - accuracy: 0.8464 - val_loss: 0.4510 - val_accuracy: 0.8413\n",
            "Epoch 14/20\n",
            "48000/48000 [==============================] - 1s 21us/sample - loss: 0.4391 - accuracy: 0.8478 - val_loss: 0.4455 - val_accuracy: 0.8424\n",
            "Epoch 15/20\n",
            "48000/48000 [==============================] - 1s 21us/sample - loss: 0.4344 - accuracy: 0.8495 - val_loss: 0.4428 - val_accuracy: 0.8426\n",
            "Epoch 16/20\n",
            "48000/48000 [==============================] - 1s 21us/sample - loss: 0.4301 - accuracy: 0.8501 - val_loss: 0.4379 - val_accuracy: 0.8457\n",
            "Epoch 17/20\n",
            "48000/48000 [==============================] - 1s 21us/sample - loss: 0.4261 - accuracy: 0.8520 - val_loss: 0.4366 - val_accuracy: 0.8461\n",
            "Epoch 18/20\n",
            "48000/48000 [==============================] - 1s 21us/sample - loss: 0.4228 - accuracy: 0.8530 - val_loss: 0.4315 - val_accuracy: 0.8485\n",
            "Epoch 19/20\n",
            "48000/48000 [==============================] - 1s 21us/sample - loss: 0.4196 - accuracy: 0.8547 - val_loss: 0.4290 - val_accuracy: 0.8487\n",
            "Epoch 20/20\n",
            "48000/48000 [==============================] - 1s 21us/sample - loss: 0.4164 - accuracy: 0.8549 - val_loss: 0.4283 - val_accuracy: 0.8503\n"
          ],
          "name": "stdout"
        },
        {
          "output_type": "display_data",
          "data": {
            "text/html": [
              "<span style=\"color:#4527A0\"><h1 style=\"font-size:18px\">Trial complete</h1></span>"
            ],
            "text/plain": [
              "<IPython.core.display.HTML object>"
            ]
          },
          "metadata": {
            "tags": []
          }
        },
        {
          "output_type": "display_data",
          "data": {
            "text/html": [
              "<span style=\"color:#4527A0\"><h1 style=\"font-size:18px\">Trial summary</h1></span>"
            ],
            "text/plain": [
              "<IPython.core.display.HTML object>"
            ]
          },
          "metadata": {
            "tags": []
          }
        },
        {
          "output_type": "display_data",
          "data": {
            "text/html": [
              "<span style=\"color:cyan\"> |-Trial ID: 6eaccddd9e0f6ba7fc973d64e0c27241</span>"
            ],
            "text/plain": [
              "<IPython.core.display.HTML object>"
            ]
          },
          "metadata": {
            "tags": []
          }
        },
        {
          "output_type": "display_data",
          "data": {
            "text/html": [
              "<span style=\"color:cyan\"> |-Score: 0.8503333330154419</span>"
            ],
            "text/plain": [
              "<IPython.core.display.HTML object>"
            ]
          },
          "metadata": {
            "tags": []
          }
        },
        {
          "output_type": "display_data",
          "data": {
            "text/html": [
              "<span style=\"color:cyan\"> |-Best step: 0</span>"
            ],
            "text/plain": [
              "<IPython.core.display.HTML object>"
            ]
          },
          "metadata": {
            "tags": []
          }
        },
        {
          "output_type": "display_data",
          "data": {
            "text/html": [
              "<span style=\"color:#7E57C2\"><h2 style=\"font-size:16px\">Hyperparameters:</h2></span>"
            ],
            "text/plain": [
              "<IPython.core.display.HTML object>"
            ]
          },
          "metadata": {
            "tags": []
          }
        },
        {
          "output_type": "display_data",
          "data": {
            "text/html": [
              "<span style=\"color:cyan\"> |-activation: tanh</span>"
            ],
            "text/plain": [
              "<IPython.core.display.HTML object>"
            ]
          },
          "metadata": {
            "tags": []
          }
        },
        {
          "output_type": "display_data",
          "data": {
            "text/html": [
              "<span style=\"color:blue\"> |-optimizer: SGD</span>"
            ],
            "text/plain": [
              "<IPython.core.display.HTML object>"
            ]
          },
          "metadata": {
            "tags": []
          }
        },
        {
          "output_type": "display_data",
          "data": {
            "text/html": [
              "<span style=\"color:cyan\"> |-units_hidden: 544</span>"
            ],
            "text/plain": [
              "<IPython.core.display.HTML object>"
            ]
          },
          "metadata": {
            "tags": []
          }
        },
        {
          "output_type": "display_data",
          "data": {
            "text/html": [
              "<span style=\"color:blue\"> |-units_input: 736</span>"
            ],
            "text/plain": [
              "<IPython.core.display.HTML object>"
            ]
          },
          "metadata": {
            "tags": []
          }
        },
        {
          "output_type": "stream",
          "text": [
            "Train on 48000 samples, validate on 12000 samples\n",
            "Epoch 1/20\n",
            "48000/48000 [==============================] - 1s 30us/sample - loss: 0.5416 - accuracy: 0.8064 - val_loss: 0.4254 - val_accuracy: 0.8452\n",
            "Epoch 2/20\n",
            "48000/48000 [==============================] - 1s 23us/sample - loss: 0.3830 - accuracy: 0.8616 - val_loss: 0.3857 - val_accuracy: 0.8592\n",
            "Epoch 3/20\n",
            "48000/48000 [==============================] - 1s 24us/sample - loss: 0.3449 - accuracy: 0.8737 - val_loss: 0.3700 - val_accuracy: 0.8608\n",
            "Epoch 4/20\n",
            "48000/48000 [==============================] - 1s 25us/sample - loss: 0.3194 - accuracy: 0.8820 - val_loss: 0.3494 - val_accuracy: 0.8720\n",
            "Epoch 5/20\n",
            "48000/48000 [==============================] - 1s 23us/sample - loss: 0.2933 - accuracy: 0.8917 - val_loss: 0.3172 - val_accuracy: 0.8840\n",
            "Epoch 6/20\n",
            "48000/48000 [==============================] - 1s 22us/sample - loss: 0.2799 - accuracy: 0.8939 - val_loss: 0.3513 - val_accuracy: 0.8725\n",
            "Epoch 7/20\n",
            "48000/48000 [==============================] - 1s 23us/sample - loss: 0.2677 - accuracy: 0.8993 - val_loss: 0.3109 - val_accuracy: 0.8857\n",
            "Epoch 8/20\n",
            "48000/48000 [==============================] - 1s 23us/sample - loss: 0.2504 - accuracy: 0.9058 - val_loss: 0.3052 - val_accuracy: 0.8896\n",
            "Epoch 9/20\n",
            "48000/48000 [==============================] - 1s 24us/sample - loss: 0.2412 - accuracy: 0.9101 - val_loss: 0.3030 - val_accuracy: 0.8866\n",
            "Epoch 10/20\n",
            "48000/48000 [==============================] - 1s 24us/sample - loss: 0.2332 - accuracy: 0.9131 - val_loss: 0.3059 - val_accuracy: 0.8914\n",
            "Epoch 11/20\n",
            "48000/48000 [==============================] - 1s 23us/sample - loss: 0.2183 - accuracy: 0.9182 - val_loss: 0.3013 - val_accuracy: 0.8912\n",
            "Epoch 12/20\n",
            "48000/48000 [==============================] - 1s 24us/sample - loss: 0.2086 - accuracy: 0.9228 - val_loss: 0.3027 - val_accuracy: 0.8928\n",
            "Epoch 13/20\n",
            "48000/48000 [==============================] - 1s 24us/sample - loss: 0.2044 - accuracy: 0.9229 - val_loss: 0.3067 - val_accuracy: 0.8906\n",
            "Epoch 14/20\n",
            "48000/48000 [==============================] - 1s 22us/sample - loss: 0.1938 - accuracy: 0.9280 - val_loss: 0.3240 - val_accuracy: 0.8849\n",
            "Epoch 15/20\n",
            "48000/48000 [==============================] - 1s 23us/sample - loss: 0.1865 - accuracy: 0.9299 - val_loss: 0.3043 - val_accuracy: 0.8942\n",
            "Epoch 16/20\n",
            "48000/48000 [==============================] - 1s 24us/sample - loss: 0.1744 - accuracy: 0.9347 - val_loss: 0.2990 - val_accuracy: 0.8953\n",
            "Epoch 17/20\n",
            "48000/48000 [==============================] - 1s 23us/sample - loss: 0.1764 - accuracy: 0.9343 - val_loss: 0.3036 - val_accuracy: 0.8956\n",
            "Epoch 18/20\n",
            "48000/48000 [==============================] - 1s 22us/sample - loss: 0.1633 - accuracy: 0.9396 - val_loss: 0.3240 - val_accuracy: 0.8911\n",
            "Epoch 19/20\n",
            "48000/48000 [==============================] - 1s 23us/sample - loss: 0.1556 - accuracy: 0.9421 - val_loss: 0.3189 - val_accuracy: 0.8878\n",
            "Epoch 20/20\n",
            "48000/48000 [==============================] - 1s 23us/sample - loss: 0.1492 - accuracy: 0.9457 - val_loss: 0.3089 - val_accuracy: 0.8961\n"
          ],
          "name": "stdout"
        },
        {
          "output_type": "display_data",
          "data": {
            "text/html": [
              "<span style=\"color:#4527A0\"><h1 style=\"font-size:18px\">Trial complete</h1></span>"
            ],
            "text/plain": [
              "<IPython.core.display.HTML object>"
            ]
          },
          "metadata": {
            "tags": []
          }
        },
        {
          "output_type": "display_data",
          "data": {
            "text/html": [
              "<span style=\"color:#4527A0\"><h1 style=\"font-size:18px\">Trial summary</h1></span>"
            ],
            "text/plain": [
              "<IPython.core.display.HTML object>"
            ]
          },
          "metadata": {
            "tags": []
          }
        },
        {
          "output_type": "display_data",
          "data": {
            "text/html": [
              "<span style=\"color:cyan\"> |-Trial ID: c13b1dcc828d367d09d1537e092d2e6c</span>"
            ],
            "text/plain": [
              "<IPython.core.display.HTML object>"
            ]
          },
          "metadata": {
            "tags": []
          }
        },
        {
          "output_type": "display_data",
          "data": {
            "text/html": [
              "<span style=\"color:cyan\"> |-Score: 0.8960833549499512</span>"
            ],
            "text/plain": [
              "<IPython.core.display.HTML object>"
            ]
          },
          "metadata": {
            "tags": []
          }
        },
        {
          "output_type": "display_data",
          "data": {
            "text/html": [
              "<span style=\"color:cyan\"> |-Best step: 0</span>"
            ],
            "text/plain": [
              "<IPython.core.display.HTML object>"
            ]
          },
          "metadata": {
            "tags": []
          }
        },
        {
          "output_type": "display_data",
          "data": {
            "text/html": [
              "<span style=\"color:#7E57C2\"><h2 style=\"font-size:16px\">Hyperparameters:</h2></span>"
            ],
            "text/plain": [
              "<IPython.core.display.HTML object>"
            ]
          },
          "metadata": {
            "tags": []
          }
        },
        {
          "output_type": "display_data",
          "data": {
            "text/html": [
              "<span style=\"color:cyan\"> |-activation: tanh</span>"
            ],
            "text/plain": [
              "<IPython.core.display.HTML object>"
            ]
          },
          "metadata": {
            "tags": []
          }
        },
        {
          "output_type": "display_data",
          "data": {
            "text/html": [
              "<span style=\"color:blue\"> |-optimizer: adam</span>"
            ],
            "text/plain": [
              "<IPython.core.display.HTML object>"
            ]
          },
          "metadata": {
            "tags": []
          }
        },
        {
          "output_type": "display_data",
          "data": {
            "text/html": [
              "<span style=\"color:cyan\"> |-units_hidden: 416</span>"
            ],
            "text/plain": [
              "<IPython.core.display.HTML object>"
            ]
          },
          "metadata": {
            "tags": []
          }
        },
        {
          "output_type": "display_data",
          "data": {
            "text/html": [
              "<span style=\"color:blue\"> |-units_input: 960</span>"
            ],
            "text/plain": [
              "<IPython.core.display.HTML object>"
            ]
          },
          "metadata": {
            "tags": []
          }
        },
        {
          "output_type": "stream",
          "text": [
            "Train on 48000 samples, validate on 12000 samples\n",
            "Epoch 1/20\n",
            "48000/48000 [==============================] - 1s 30us/sample - loss: 0.7826 - accuracy: 0.7391 - val_loss: 0.6642 - val_accuracy: 0.7605\n",
            "Epoch 2/20\n",
            "48000/48000 [==============================] - 1s 22us/sample - loss: 0.4780 - accuracy: 0.8206 - val_loss: 0.4505 - val_accuracy: 0.8348\n",
            "Epoch 3/20\n",
            "48000/48000 [==============================] - 1s 22us/sample - loss: 0.4091 - accuracy: 0.8462 - val_loss: 0.5558 - val_accuracy: 0.7983\n",
            "Epoch 4/20\n",
            "48000/48000 [==============================] - 1s 22us/sample - loss: 0.3699 - accuracy: 0.8602 - val_loss: 0.4071 - val_accuracy: 0.8546\n",
            "Epoch 5/20\n",
            "48000/48000 [==============================] - 1s 22us/sample - loss: 0.3416 - accuracy: 0.8713 - val_loss: 0.3936 - val_accuracy: 0.8620\n",
            "Epoch 6/20\n",
            "48000/48000 [==============================] - 1s 22us/sample - loss: 0.3188 - accuracy: 0.8791 - val_loss: 0.4277 - val_accuracy: 0.8520\n",
            "Epoch 7/20\n",
            "48000/48000 [==============================] - 1s 23us/sample - loss: 0.3020 - accuracy: 0.8861 - val_loss: 0.3670 - val_accuracy: 0.8663\n",
            "Epoch 8/20\n",
            "48000/48000 [==============================] - 1s 22us/sample - loss: 0.2882 - accuracy: 0.8913 - val_loss: 0.3273 - val_accuracy: 0.8827\n",
            "Epoch 9/20\n",
            "48000/48000 [==============================] - 1s 21us/sample - loss: 0.2731 - accuracy: 0.8971 - val_loss: 0.3486 - val_accuracy: 0.8744\n",
            "Epoch 10/20\n",
            "48000/48000 [==============================] - 1s 21us/sample - loss: 0.2630 - accuracy: 0.9016 - val_loss: 0.4387 - val_accuracy: 0.8434\n",
            "Epoch 11/20\n",
            "48000/48000 [==============================] - 1s 21us/sample - loss: 0.2502 - accuracy: 0.9043 - val_loss: 0.3674 - val_accuracy: 0.8728\n",
            "Epoch 12/20\n",
            "48000/48000 [==============================] - 1s 21us/sample - loss: 0.2410 - accuracy: 0.9069 - val_loss: 0.3567 - val_accuracy: 0.8776\n",
            "Epoch 13/20\n",
            "48000/48000 [==============================] - 1s 22us/sample - loss: 0.2330 - accuracy: 0.9115 - val_loss: 0.3272 - val_accuracy: 0.8860\n",
            "Epoch 14/20\n",
            "48000/48000 [==============================] - 1s 22us/sample - loss: 0.2223 - accuracy: 0.9160 - val_loss: 0.3657 - val_accuracy: 0.8767\n",
            "Epoch 15/20\n",
            "48000/48000 [==============================] - 1s 21us/sample - loss: 0.2139 - accuracy: 0.9183 - val_loss: 0.4031 - val_accuracy: 0.8704\n",
            "Epoch 16/20\n",
            "48000/48000 [==============================] - 1s 21us/sample - loss: 0.2057 - accuracy: 0.9208 - val_loss: 0.3648 - val_accuracy: 0.8832\n",
            "Epoch 17/20\n",
            "48000/48000 [==============================] - 1s 22us/sample - loss: 0.2009 - accuracy: 0.9224 - val_loss: 0.3386 - val_accuracy: 0.8887\n",
            "Epoch 18/20\n",
            "48000/48000 [==============================] - 1s 25us/sample - loss: 0.1933 - accuracy: 0.9257 - val_loss: 0.3314 - val_accuracy: 0.8924\n",
            "Epoch 19/20\n",
            "48000/48000 [==============================] - 1s 24us/sample - loss: 0.1876 - accuracy: 0.9281 - val_loss: 0.3493 - val_accuracy: 0.8844\n",
            "Epoch 20/20\n",
            "48000/48000 [==============================] - 1s 23us/sample - loss: 0.1821 - accuracy: 0.9296 - val_loss: 0.4045 - val_accuracy: 0.8802\n"
          ],
          "name": "stdout"
        },
        {
          "output_type": "display_data",
          "data": {
            "text/html": [
              "<span style=\"color:#4527A0\"><h1 style=\"font-size:18px\">Trial complete</h1></span>"
            ],
            "text/plain": [
              "<IPython.core.display.HTML object>"
            ]
          },
          "metadata": {
            "tags": []
          }
        },
        {
          "output_type": "display_data",
          "data": {
            "text/html": [
              "<span style=\"color:#4527A0\"><h1 style=\"font-size:18px\">Trial summary</h1></span>"
            ],
            "text/plain": [
              "<IPython.core.display.HTML object>"
            ]
          },
          "metadata": {
            "tags": []
          }
        },
        {
          "output_type": "display_data",
          "data": {
            "text/html": [
              "<span style=\"color:cyan\"> |-Trial ID: 82b5b5ce98a37244839b61c479340593</span>"
            ],
            "text/plain": [
              "<IPython.core.display.HTML object>"
            ]
          },
          "metadata": {
            "tags": []
          }
        },
        {
          "output_type": "display_data",
          "data": {
            "text/html": [
              "<span style=\"color:cyan\"> |-Score: 0.8924166560173035</span>"
            ],
            "text/plain": [
              "<IPython.core.display.HTML object>"
            ]
          },
          "metadata": {
            "tags": []
          }
        },
        {
          "output_type": "display_data",
          "data": {
            "text/html": [
              "<span style=\"color:cyan\"> |-Best step: 0</span>"
            ],
            "text/plain": [
              "<IPython.core.display.HTML object>"
            ]
          },
          "metadata": {
            "tags": []
          }
        },
        {
          "output_type": "display_data",
          "data": {
            "text/html": [
              "<span style=\"color:#7E57C2\"><h2 style=\"font-size:16px\">Hyperparameters:</h2></span>"
            ],
            "text/plain": [
              "<IPython.core.display.HTML object>"
            ]
          },
          "metadata": {
            "tags": []
          }
        },
        {
          "output_type": "display_data",
          "data": {
            "text/html": [
              "<span style=\"color:cyan\"> |-activation: elu</span>"
            ],
            "text/plain": [
              "<IPython.core.display.HTML object>"
            ]
          },
          "metadata": {
            "tags": []
          }
        },
        {
          "output_type": "display_data",
          "data": {
            "text/html": [
              "<span style=\"color:blue\"> |-optimizer: rmsprop</span>"
            ],
            "text/plain": [
              "<IPython.core.display.HTML object>"
            ]
          },
          "metadata": {
            "tags": []
          }
        },
        {
          "output_type": "display_data",
          "data": {
            "text/html": [
              "<span style=\"color:cyan\"> |-units_hidden: 224</span>"
            ],
            "text/plain": [
              "<IPython.core.display.HTML object>"
            ]
          },
          "metadata": {
            "tags": []
          }
        },
        {
          "output_type": "display_data",
          "data": {
            "text/html": [
              "<span style=\"color:blue\"> |-units_input: 704</span>"
            ],
            "text/plain": [
              "<IPython.core.display.HTML object>"
            ]
          },
          "metadata": {
            "tags": []
          }
        },
        {
          "output_type": "stream",
          "text": [
            "Train on 48000 samples, validate on 12000 samples\n",
            "Epoch 1/20\n",
            "48000/48000 [==============================] - 1s 28us/sample - loss: 0.8415 - accuracy: 0.7229 - val_loss: 0.6256 - val_accuracy: 0.7821\n",
            "Epoch 2/20\n",
            "48000/48000 [==============================] - 1s 24us/sample - loss: 0.5733 - accuracy: 0.8066 - val_loss: 0.5409 - val_accuracy: 0.8122\n",
            "Epoch 3/20\n",
            "48000/48000 [==============================] - 1s 22us/sample - loss: 0.5175 - accuracy: 0.8234 - val_loss: 0.5459 - val_accuracy: 0.8068\n",
            "Epoch 4/20\n",
            "48000/48000 [==============================] - 1s 21us/sample - loss: 0.4889 - accuracy: 0.8308 - val_loss: 0.4877 - val_accuracy: 0.8277\n",
            "Epoch 5/20\n",
            "48000/48000 [==============================] - 1s 21us/sample - loss: 0.4695 - accuracy: 0.8370 - val_loss: 0.4654 - val_accuracy: 0.8356\n",
            "Epoch 6/20\n",
            "48000/48000 [==============================] - 1s 20us/sample - loss: 0.4563 - accuracy: 0.8419 - val_loss: 0.4749 - val_accuracy: 0.8267\n",
            "Epoch 7/20\n",
            "48000/48000 [==============================] - 1s 21us/sample - loss: 0.4450 - accuracy: 0.8455 - val_loss: 0.4555 - val_accuracy: 0.8357\n",
            "Epoch 8/20\n",
            "48000/48000 [==============================] - 1s 20us/sample - loss: 0.4366 - accuracy: 0.8486 - val_loss: 0.4627 - val_accuracy: 0.8354\n",
            "Epoch 9/20\n",
            "48000/48000 [==============================] - 1s 21us/sample - loss: 0.4284 - accuracy: 0.8501 - val_loss: 0.4685 - val_accuracy: 0.8302\n",
            "Epoch 10/20\n",
            "48000/48000 [==============================] - 1s 21us/sample - loss: 0.4226 - accuracy: 0.8508 - val_loss: 0.4306 - val_accuracy: 0.8472\n",
            "Epoch 11/20\n",
            "48000/48000 [==============================] - 1s 21us/sample - loss: 0.4168 - accuracy: 0.8548 - val_loss: 0.4268 - val_accuracy: 0.8487\n",
            "Epoch 12/20\n",
            "48000/48000 [==============================] - 1s 21us/sample - loss: 0.4116 - accuracy: 0.8562 - val_loss: 0.4221 - val_accuracy: 0.8524\n",
            "Epoch 13/20\n",
            "48000/48000 [==============================] - 1s 21us/sample - loss: 0.4073 - accuracy: 0.8582 - val_loss: 0.4345 - val_accuracy: 0.8425\n",
            "Epoch 14/20\n",
            "48000/48000 [==============================] - 1s 20us/sample - loss: 0.4036 - accuracy: 0.8596 - val_loss: 0.4264 - val_accuracy: 0.8478\n",
            "Epoch 15/20\n",
            "48000/48000 [==============================] - 1s 21us/sample - loss: 0.3998 - accuracy: 0.8600 - val_loss: 0.4170 - val_accuracy: 0.8527\n",
            "Epoch 16/20\n",
            "48000/48000 [==============================] - 1s 21us/sample - loss: 0.3961 - accuracy: 0.8621 - val_loss: 0.4184 - val_accuracy: 0.8521\n",
            "Epoch 17/20\n",
            "48000/48000 [==============================] - 1s 21us/sample - loss: 0.3926 - accuracy: 0.8625 - val_loss: 0.4211 - val_accuracy: 0.8485\n",
            "Epoch 18/20\n",
            "48000/48000 [==============================] - 1s 22us/sample - loss: 0.3889 - accuracy: 0.8650 - val_loss: 0.4072 - val_accuracy: 0.8555\n",
            "Epoch 19/20\n",
            "48000/48000 [==============================] - 1s 21us/sample - loss: 0.3866 - accuracy: 0.8646 - val_loss: 0.4286 - val_accuracy: 0.8474\n",
            "Epoch 20/20\n",
            "48000/48000 [==============================] - 1s 20us/sample - loss: 0.3841 - accuracy: 0.8656 - val_loss: 0.4097 - val_accuracy: 0.8550\n"
          ],
          "name": "stdout"
        },
        {
          "output_type": "display_data",
          "data": {
            "text/html": [
              "<span style=\"color:#4527A0\"><h1 style=\"font-size:18px\">Trial complete</h1></span>"
            ],
            "text/plain": [
              "<IPython.core.display.HTML object>"
            ]
          },
          "metadata": {
            "tags": []
          }
        },
        {
          "output_type": "display_data",
          "data": {
            "text/html": [
              "<span style=\"color:#4527A0\"><h1 style=\"font-size:18px\">Trial summary</h1></span>"
            ],
            "text/plain": [
              "<IPython.core.display.HTML object>"
            ]
          },
          "metadata": {
            "tags": []
          }
        },
        {
          "output_type": "display_data",
          "data": {
            "text/html": [
              "<span style=\"color:cyan\"> |-Trial ID: 463eb540d4c1b9f9799be96df4487efc</span>"
            ],
            "text/plain": [
              "<IPython.core.display.HTML object>"
            ]
          },
          "metadata": {
            "tags": []
          }
        },
        {
          "output_type": "display_data",
          "data": {
            "text/html": [
              "<span style=\"color:cyan\"> |-Score: 0.8554999828338623</span>"
            ],
            "text/plain": [
              "<IPython.core.display.HTML object>"
            ]
          },
          "metadata": {
            "tags": []
          }
        },
        {
          "output_type": "display_data",
          "data": {
            "text/html": [
              "<span style=\"color:cyan\"> |-Best step: 0</span>"
            ],
            "text/plain": [
              "<IPython.core.display.HTML object>"
            ]
          },
          "metadata": {
            "tags": []
          }
        },
        {
          "output_type": "display_data",
          "data": {
            "text/html": [
              "<span style=\"color:#7E57C2\"><h2 style=\"font-size:16px\">Hyperparameters:</h2></span>"
            ],
            "text/plain": [
              "<IPython.core.display.HTML object>"
            ]
          },
          "metadata": {
            "tags": []
          }
        },
        {
          "output_type": "display_data",
          "data": {
            "text/html": [
              "<span style=\"color:cyan\"> |-activation: selu</span>"
            ],
            "text/plain": [
              "<IPython.core.display.HTML object>"
            ]
          },
          "metadata": {
            "tags": []
          }
        },
        {
          "output_type": "display_data",
          "data": {
            "text/html": [
              "<span style=\"color:blue\"> |-optimizer: SGD</span>"
            ],
            "text/plain": [
              "<IPython.core.display.HTML object>"
            ]
          },
          "metadata": {
            "tags": []
          }
        },
        {
          "output_type": "display_data",
          "data": {
            "text/html": [
              "<span style=\"color:cyan\"> |-units_hidden: 512</span>"
            ],
            "text/plain": [
              "<IPython.core.display.HTML object>"
            ]
          },
          "metadata": {
            "tags": []
          }
        },
        {
          "output_type": "display_data",
          "data": {
            "text/html": [
              "<span style=\"color:blue\"> |-units_input: 704</span>"
            ],
            "text/plain": [
              "<IPython.core.display.HTML object>"
            ]
          },
          "metadata": {
            "tags": []
          }
        },
        {
          "output_type": "stream",
          "text": [
            "Train on 48000 samples, validate on 12000 samples\n",
            "Epoch 1/20\n",
            "48000/48000 [==============================] - 1s 30us/sample - loss: 0.6398 - accuracy: 0.7679 - val_loss: 0.4849 - val_accuracy: 0.8248\n",
            "Epoch 2/20\n",
            "48000/48000 [==============================] - 1s 23us/sample - loss: 0.4183 - accuracy: 0.8444 - val_loss: 0.4068 - val_accuracy: 0.8419\n",
            "Epoch 3/20\n",
            "48000/48000 [==============================] - 1s 22us/sample - loss: 0.3615 - accuracy: 0.8653 - val_loss: 0.4091 - val_accuracy: 0.8481\n",
            "Epoch 4/20\n",
            "48000/48000 [==============================] - 1s 22us/sample - loss: 0.3283 - accuracy: 0.8771 - val_loss: 0.4177 - val_accuracy: 0.8489\n",
            "Epoch 5/20\n",
            "48000/48000 [==============================] - 1s 23us/sample - loss: 0.3066 - accuracy: 0.8852 - val_loss: 0.3679 - val_accuracy: 0.8722\n",
            "Epoch 6/20\n",
            "48000/48000 [==============================] - 1s 21us/sample - loss: 0.2854 - accuracy: 0.8911 - val_loss: 0.3944 - val_accuracy: 0.8621\n",
            "Epoch 7/20\n",
            "48000/48000 [==============================] - 1s 22us/sample - loss: 0.2684 - accuracy: 0.8987 - val_loss: 0.3894 - val_accuracy: 0.8468\n",
            "Epoch 8/20\n",
            "48000/48000 [==============================] - 1s 22us/sample - loss: 0.2538 - accuracy: 0.9039 - val_loss: 0.3542 - val_accuracy: 0.8736\n",
            "Epoch 9/20\n",
            "48000/48000 [==============================] - 1s 21us/sample - loss: 0.2432 - accuracy: 0.9072 - val_loss: 0.3410 - val_accuracy: 0.8835\n",
            "Epoch 10/20\n",
            "48000/48000 [==============================] - 1s 22us/sample - loss: 0.2290 - accuracy: 0.9119 - val_loss: 0.3968 - val_accuracy: 0.8711\n",
            "Epoch 11/20\n",
            "48000/48000 [==============================] - 1s 22us/sample - loss: 0.2228 - accuracy: 0.9153 - val_loss: 0.3552 - val_accuracy: 0.8802\n",
            "Epoch 12/20\n",
            "48000/48000 [==============================] - 1s 22us/sample - loss: 0.2114 - accuracy: 0.9182 - val_loss: 0.3629 - val_accuracy: 0.8889\n",
            "Epoch 13/20\n",
            "48000/48000 [==============================] - 1s 22us/sample - loss: 0.2033 - accuracy: 0.9222 - val_loss: 0.3679 - val_accuracy: 0.8828\n",
            "Epoch 14/20\n",
            "48000/48000 [==============================] - 1s 23us/sample - loss: 0.1981 - accuracy: 0.9250 - val_loss: 0.3536 - val_accuracy: 0.8901\n",
            "Epoch 15/20\n",
            "48000/48000 [==============================] - 1s 22us/sample - loss: 0.1889 - accuracy: 0.9271 - val_loss: 0.3847 - val_accuracy: 0.8850\n",
            "Epoch 16/20\n",
            "48000/48000 [==============================] - 1s 23us/sample - loss: 0.1821 - accuracy: 0.9306 - val_loss: 0.3532 - val_accuracy: 0.8932\n",
            "Epoch 17/20\n",
            "48000/48000 [==============================] - 1s 22us/sample - loss: 0.1781 - accuracy: 0.9329 - val_loss: 0.3685 - val_accuracy: 0.8952\n",
            "Epoch 18/20\n",
            "48000/48000 [==============================] - 1s 21us/sample - loss: 0.1699 - accuracy: 0.9347 - val_loss: 0.4013 - val_accuracy: 0.8826\n",
            "Epoch 19/20\n",
            "48000/48000 [==============================] - 1s 22us/sample - loss: 0.1662 - accuracy: 0.9370 - val_loss: 0.4100 - val_accuracy: 0.8915\n",
            "Epoch 20/20\n",
            "48000/48000 [==============================] - 1s 21us/sample - loss: 0.1592 - accuracy: 0.9381 - val_loss: 0.4519 - val_accuracy: 0.8891\n"
          ],
          "name": "stdout"
        },
        {
          "output_type": "display_data",
          "data": {
            "text/html": [
              "<span style=\"color:#4527A0\"><h1 style=\"font-size:18px\">Trial complete</h1></span>"
            ],
            "text/plain": [
              "<IPython.core.display.HTML object>"
            ]
          },
          "metadata": {
            "tags": []
          }
        },
        {
          "output_type": "display_data",
          "data": {
            "text/html": [
              "<span style=\"color:#4527A0\"><h1 style=\"font-size:18px\">Trial summary</h1></span>"
            ],
            "text/plain": [
              "<IPython.core.display.HTML object>"
            ]
          },
          "metadata": {
            "tags": []
          }
        },
        {
          "output_type": "display_data",
          "data": {
            "text/html": [
              "<span style=\"color:cyan\"> |-Trial ID: 61ad910618ea3a335766f58885351460</span>"
            ],
            "text/plain": [
              "<IPython.core.display.HTML object>"
            ]
          },
          "metadata": {
            "tags": []
          }
        },
        {
          "output_type": "display_data",
          "data": {
            "text/html": [
              "<span style=\"color:cyan\"> |-Score: 0.8951666951179504</span>"
            ],
            "text/plain": [
              "<IPython.core.display.HTML object>"
            ]
          },
          "metadata": {
            "tags": []
          }
        },
        {
          "output_type": "display_data",
          "data": {
            "text/html": [
              "<span style=\"color:cyan\"> |-Best step: 0</span>"
            ],
            "text/plain": [
              "<IPython.core.display.HTML object>"
            ]
          },
          "metadata": {
            "tags": []
          }
        },
        {
          "output_type": "display_data",
          "data": {
            "text/html": [
              "<span style=\"color:#7E57C2\"><h2 style=\"font-size:16px\">Hyperparameters:</h2></span>"
            ],
            "text/plain": [
              "<IPython.core.display.HTML object>"
            ]
          },
          "metadata": {
            "tags": []
          }
        },
        {
          "output_type": "display_data",
          "data": {
            "text/html": [
              "<span style=\"color:cyan\"> |-activation: relu</span>"
            ],
            "text/plain": [
              "<IPython.core.display.HTML object>"
            ]
          },
          "metadata": {
            "tags": []
          }
        },
        {
          "output_type": "display_data",
          "data": {
            "text/html": [
              "<span style=\"color:blue\"> |-optimizer: rmsprop</span>"
            ],
            "text/plain": [
              "<IPython.core.display.HTML object>"
            ]
          },
          "metadata": {
            "tags": []
          }
        },
        {
          "output_type": "display_data",
          "data": {
            "text/html": [
              "<span style=\"color:cyan\"> |-units_hidden: 320</span>"
            ],
            "text/plain": [
              "<IPython.core.display.HTML object>"
            ]
          },
          "metadata": {
            "tags": []
          }
        },
        {
          "output_type": "display_data",
          "data": {
            "text/html": [
              "<span style=\"color:blue\"> |-units_input: 576</span>"
            ],
            "text/plain": [
              "<IPython.core.display.HTML object>"
            ]
          },
          "metadata": {
            "tags": []
          }
        },
        {
          "output_type": "stream",
          "text": [
            "Train on 48000 samples, validate on 12000 samples\n",
            "Epoch 1/20\n",
            "48000/48000 [==============================] - 1s 31us/sample - loss: 0.7932 - accuracy: 0.7107 - val_loss: 0.5966 - val_accuracy: 0.7824\n",
            "Epoch 2/20\n",
            "48000/48000 [==============================] - 1s 23us/sample - loss: 0.4881 - accuracy: 0.8197 - val_loss: 0.4873 - val_accuracy: 0.8179\n",
            "Epoch 3/20\n",
            "48000/48000 [==============================] - 1s 24us/sample - loss: 0.4334 - accuracy: 0.8397 - val_loss: 0.4339 - val_accuracy: 0.8322\n",
            "Epoch 4/20\n",
            "48000/48000 [==============================] - 1s 24us/sample - loss: 0.4006 - accuracy: 0.8534 - val_loss: 0.4036 - val_accuracy: 0.8481\n",
            "Epoch 5/20\n",
            "48000/48000 [==============================] - 1s 23us/sample - loss: 0.3758 - accuracy: 0.8619 - val_loss: 0.4235 - val_accuracy: 0.8422\n",
            "Epoch 6/20\n",
            "48000/48000 [==============================] - 1s 23us/sample - loss: 0.3567 - accuracy: 0.8689 - val_loss: 0.4243 - val_accuracy: 0.8405\n",
            "Epoch 7/20\n",
            "48000/48000 [==============================] - 1s 23us/sample - loss: 0.3411 - accuracy: 0.8738 - val_loss: 0.3759 - val_accuracy: 0.8597\n",
            "Epoch 8/20\n",
            "48000/48000 [==============================] - 1s 22us/sample - loss: 0.3265 - accuracy: 0.8785 - val_loss: 0.3848 - val_accuracy: 0.8594\n",
            "Epoch 9/20\n",
            "48000/48000 [==============================] - 1s 24us/sample - loss: 0.3144 - accuracy: 0.8826 - val_loss: 0.3370 - val_accuracy: 0.8773\n",
            "Epoch 10/20\n",
            "48000/48000 [==============================] - 1s 23us/sample - loss: 0.3031 - accuracy: 0.8866 - val_loss: 0.3721 - val_accuracy: 0.8665\n",
            "Epoch 11/20\n",
            "48000/48000 [==============================] - 1s 23us/sample - loss: 0.2934 - accuracy: 0.8898 - val_loss: 0.3670 - val_accuracy: 0.8673\n",
            "Epoch 12/20\n",
            "48000/48000 [==============================] - 1s 24us/sample - loss: 0.2831 - accuracy: 0.8943 - val_loss: 0.3302 - val_accuracy: 0.8782\n",
            "Epoch 13/20\n",
            "48000/48000 [==============================] - 1s 27us/sample - loss: 0.2741 - accuracy: 0.8976 - val_loss: 0.3534 - val_accuracy: 0.8673\n",
            "Epoch 14/20\n",
            "48000/48000 [==============================] - 1s 25us/sample - loss: 0.2668 - accuracy: 0.9011 - val_loss: 0.3365 - val_accuracy: 0.8767\n",
            "Epoch 15/20\n",
            "48000/48000 [==============================] - 1s 24us/sample - loss: 0.2580 - accuracy: 0.9019 - val_loss: 0.3378 - val_accuracy: 0.8801\n",
            "Epoch 16/20\n",
            "48000/48000 [==============================] - 1s 23us/sample - loss: 0.2509 - accuracy: 0.9063 - val_loss: 0.2968 - val_accuracy: 0.8906\n",
            "Epoch 17/20\n",
            "48000/48000 [==============================] - 1s 26us/sample - loss: 0.2460 - accuracy: 0.9075 - val_loss: 0.3059 - val_accuracy: 0.8898\n",
            "Epoch 18/20\n",
            "48000/48000 [==============================] - 1s 23us/sample - loss: 0.2377 - accuracy: 0.9098 - val_loss: 0.3227 - val_accuracy: 0.8844\n",
            "Epoch 19/20\n",
            "48000/48000 [==============================] - 1s 23us/sample - loss: 0.2304 - accuracy: 0.9129 - val_loss: 0.3086 - val_accuracy: 0.8913\n",
            "Epoch 20/20\n",
            "48000/48000 [==============================] - 1s 23us/sample - loss: 0.2266 - accuracy: 0.9137 - val_loss: 0.3524 - val_accuracy: 0.8743\n"
          ],
          "name": "stdout"
        },
        {
          "output_type": "display_data",
          "data": {
            "text/html": [
              "<span style=\"color:#4527A0\"><h1 style=\"font-size:18px\">Trial complete</h1></span>"
            ],
            "text/plain": [
              "<IPython.core.display.HTML object>"
            ]
          },
          "metadata": {
            "tags": []
          }
        },
        {
          "output_type": "display_data",
          "data": {
            "text/html": [
              "<span style=\"color:#4527A0\"><h1 style=\"font-size:18px\">Trial summary</h1></span>"
            ],
            "text/plain": [
              "<IPython.core.display.HTML object>"
            ]
          },
          "metadata": {
            "tags": []
          }
        },
        {
          "output_type": "display_data",
          "data": {
            "text/html": [
              "<span style=\"color:cyan\"> |-Trial ID: 8f709c12acfb161d1665cb2651b01a57</span>"
            ],
            "text/plain": [
              "<IPython.core.display.HTML object>"
            ]
          },
          "metadata": {
            "tags": []
          }
        },
        {
          "output_type": "display_data",
          "data": {
            "text/html": [
              "<span style=\"color:cyan\"> |-Score: 0.8912500143051147</span>"
            ],
            "text/plain": [
              "<IPython.core.display.HTML object>"
            ]
          },
          "metadata": {
            "tags": []
          }
        },
        {
          "output_type": "display_data",
          "data": {
            "text/html": [
              "<span style=\"color:cyan\"> |-Best step: 0</span>"
            ],
            "text/plain": [
              "<IPython.core.display.HTML object>"
            ]
          },
          "metadata": {
            "tags": []
          }
        },
        {
          "output_type": "display_data",
          "data": {
            "text/html": [
              "<span style=\"color:#7E57C2\"><h2 style=\"font-size:16px\">Hyperparameters:</h2></span>"
            ],
            "text/plain": [
              "<IPython.core.display.HTML object>"
            ]
          },
          "metadata": {
            "tags": []
          }
        },
        {
          "output_type": "display_data",
          "data": {
            "text/html": [
              "<span style=\"color:cyan\"> |-activation: sigmoid</span>"
            ],
            "text/plain": [
              "<IPython.core.display.HTML object>"
            ]
          },
          "metadata": {
            "tags": []
          }
        },
        {
          "output_type": "display_data",
          "data": {
            "text/html": [
              "<span style=\"color:blue\"> |-optimizer: rmsprop</span>"
            ],
            "text/plain": [
              "<IPython.core.display.HTML object>"
            ]
          },
          "metadata": {
            "tags": []
          }
        },
        {
          "output_type": "display_data",
          "data": {
            "text/html": [
              "<span style=\"color:cyan\"> |-units_hidden: 320</span>"
            ],
            "text/plain": [
              "<IPython.core.display.HTML object>"
            ]
          },
          "metadata": {
            "tags": []
          }
        },
        {
          "output_type": "display_data",
          "data": {
            "text/html": [
              "<span style=\"color:blue\"> |-units_input: 928</span>"
            ],
            "text/plain": [
              "<IPython.core.display.HTML object>"
            ]
          },
          "metadata": {
            "tags": []
          }
        },
        {
          "output_type": "stream",
          "text": [
            "Train on 48000 samples, validate on 12000 samples\n",
            "Epoch 1/20\n",
            "48000/48000 [==============================] - 1s 27us/sample - loss: 0.6237 - accuracy: 0.7936 - val_loss: 0.4131 - val_accuracy: 0.8564\n",
            "Epoch 2/20\n",
            "48000/48000 [==============================] - 1s 21us/sample - loss: 0.4093 - accuracy: 0.8531 - val_loss: 0.4905 - val_accuracy: 0.8155\n",
            "Epoch 3/20\n",
            "48000/48000 [==============================] - 1s 21us/sample - loss: 0.3679 - accuracy: 0.8657 - val_loss: 0.3919 - val_accuracy: 0.8577\n",
            "Epoch 4/20\n",
            "48000/48000 [==============================] - 1s 21us/sample - loss: 0.3490 - accuracy: 0.8731 - val_loss: 0.3493 - val_accuracy: 0.8741\n",
            "Epoch 5/20\n",
            "48000/48000 [==============================] - 1s 20us/sample - loss: 0.3268 - accuracy: 0.8793 - val_loss: 0.3397 - val_accuracy: 0.8717\n",
            "Epoch 6/20\n",
            "48000/48000 [==============================] - 1s 20us/sample - loss: 0.3129 - accuracy: 0.8836 - val_loss: 0.3659 - val_accuracy: 0.8680\n",
            "Epoch 7/20\n",
            "48000/48000 [==============================] - 1s 21us/sample - loss: 0.2939 - accuracy: 0.8911 - val_loss: 0.3438 - val_accuracy: 0.8778\n",
            "Epoch 8/20\n",
            "48000/48000 [==============================] - 1s 21us/sample - loss: 0.2777 - accuracy: 0.8974 - val_loss: 0.3341 - val_accuracy: 0.8788\n",
            "Epoch 9/20\n",
            "48000/48000 [==============================] - 1s 21us/sample - loss: 0.2683 - accuracy: 0.8999 - val_loss: 0.3509 - val_accuracy: 0.8753\n",
            "Epoch 10/20\n",
            "48000/48000 [==============================] - 1s 21us/sample - loss: 0.2564 - accuracy: 0.9049 - val_loss: 0.3352 - val_accuracy: 0.8796\n",
            "Epoch 11/20\n",
            "48000/48000 [==============================] - 1s 21us/sample - loss: 0.2534 - accuracy: 0.9059 - val_loss: 0.3396 - val_accuracy: 0.8836\n",
            "Epoch 12/20\n",
            "48000/48000 [==============================] - 1s 23us/sample - loss: 0.2462 - accuracy: 0.9090 - val_loss: 0.3162 - val_accuracy: 0.8880\n",
            "Epoch 13/20\n",
            "48000/48000 [==============================] - 1s 21us/sample - loss: 0.2336 - accuracy: 0.9126 - val_loss: 0.3315 - val_accuracy: 0.8827\n",
            "Epoch 14/20\n",
            "48000/48000 [==============================] - 1s 21us/sample - loss: 0.2334 - accuracy: 0.9129 - val_loss: 0.3526 - val_accuracy: 0.8775\n",
            "Epoch 15/20\n",
            "48000/48000 [==============================] - 1s 23us/sample - loss: 0.2232 - accuracy: 0.9157 - val_loss: 0.3276 - val_accuracy: 0.8891\n",
            "Epoch 16/20\n",
            "48000/48000 [==============================] - 1s 23us/sample - loss: 0.2158 - accuracy: 0.9193 - val_loss: 0.3386 - val_accuracy: 0.8826\n",
            "Epoch 17/20\n",
            "48000/48000 [==============================] - 1s 20us/sample - loss: 0.2038 - accuracy: 0.9228 - val_loss: 0.3578 - val_accuracy: 0.8798\n",
            "Epoch 18/20\n",
            "48000/48000 [==============================] - 1s 21us/sample - loss: 0.2101 - accuracy: 0.9207 - val_loss: 0.3719 - val_accuracy: 0.8759\n",
            "Epoch 19/20\n",
            "48000/48000 [==============================] - 1s 21us/sample - loss: 0.1991 - accuracy: 0.9264 - val_loss: 0.3262 - val_accuracy: 0.8924\n",
            "Epoch 20/20\n",
            "48000/48000 [==============================] - 1s 21us/sample - loss: 0.1949 - accuracy: 0.9264 - val_loss: 0.3563 - val_accuracy: 0.8820\n"
          ],
          "name": "stdout"
        },
        {
          "output_type": "display_data",
          "data": {
            "text/html": [
              "<span style=\"color:#4527A0\"><h1 style=\"font-size:18px\">Trial complete</h1></span>"
            ],
            "text/plain": [
              "<IPython.core.display.HTML object>"
            ]
          },
          "metadata": {
            "tags": []
          }
        },
        {
          "output_type": "display_data",
          "data": {
            "text/html": [
              "<span style=\"color:#4527A0\"><h1 style=\"font-size:18px\">Trial summary</h1></span>"
            ],
            "text/plain": [
              "<IPython.core.display.HTML object>"
            ]
          },
          "metadata": {
            "tags": []
          }
        },
        {
          "output_type": "display_data",
          "data": {
            "text/html": [
              "<span style=\"color:cyan\"> |-Trial ID: 12b6ddf6b06a923e3f160a4629133f54</span>"
            ],
            "text/plain": [
              "<IPython.core.display.HTML object>"
            ]
          },
          "metadata": {
            "tags": []
          }
        },
        {
          "output_type": "display_data",
          "data": {
            "text/html": [
              "<span style=\"color:cyan\"> |-Score: 0.8924166560173035</span>"
            ],
            "text/plain": [
              "<IPython.core.display.HTML object>"
            ]
          },
          "metadata": {
            "tags": []
          }
        },
        {
          "output_type": "display_data",
          "data": {
            "text/html": [
              "<span style=\"color:cyan\"> |-Best step: 0</span>"
            ],
            "text/plain": [
              "<IPython.core.display.HTML object>"
            ]
          },
          "metadata": {
            "tags": []
          }
        },
        {
          "output_type": "display_data",
          "data": {
            "text/html": [
              "<span style=\"color:#7E57C2\"><h2 style=\"font-size:16px\">Hyperparameters:</h2></span>"
            ],
            "text/plain": [
              "<IPython.core.display.HTML object>"
            ]
          },
          "metadata": {
            "tags": []
          }
        },
        {
          "output_type": "display_data",
          "data": {
            "text/html": [
              "<span style=\"color:cyan\"> |-activation: selu</span>"
            ],
            "text/plain": [
              "<IPython.core.display.HTML object>"
            ]
          },
          "metadata": {
            "tags": []
          }
        },
        {
          "output_type": "display_data",
          "data": {
            "text/html": [
              "<span style=\"color:blue\"> |-optimizer: adam</span>"
            ],
            "text/plain": [
              "<IPython.core.display.HTML object>"
            ]
          },
          "metadata": {
            "tags": []
          }
        },
        {
          "output_type": "display_data",
          "data": {
            "text/html": [
              "<span style=\"color:cyan\"> |-units_hidden: 160</span>"
            ],
            "text/plain": [
              "<IPython.core.display.HTML object>"
            ]
          },
          "metadata": {
            "tags": []
          }
        },
        {
          "output_type": "display_data",
          "data": {
            "text/html": [
              "<span style=\"color:blue\"> |-units_input: 864</span>"
            ],
            "text/plain": [
              "<IPython.core.display.HTML object>"
            ]
          },
          "metadata": {
            "tags": []
          }
        },
        {
          "output_type": "stream",
          "text": [
            "Train on 48000 samples, validate on 12000 samples\n",
            "Epoch 1/20\n",
            "48000/48000 [==============================] - 1s 30us/sample - loss: 0.6853 - accuracy: 0.7517 - val_loss: 0.5799 - val_accuracy: 0.7517\n",
            "Epoch 2/20\n",
            "48000/48000 [==============================] - 1s 21us/sample - loss: 0.4460 - accuracy: 0.8314 - val_loss: 0.4146 - val_accuracy: 0.8456\n",
            "Epoch 3/20\n",
            "48000/48000 [==============================] - 1s 22us/sample - loss: 0.3858 - accuracy: 0.8568 - val_loss: 0.4111 - val_accuracy: 0.8422\n",
            "Epoch 4/20\n",
            "48000/48000 [==============================] - 1s 21us/sample - loss: 0.3515 - accuracy: 0.8666 - val_loss: 0.4284 - val_accuracy: 0.8442\n",
            "Epoch 5/20\n",
            "48000/48000 [==============================] - 1s 21us/sample - loss: 0.3254 - accuracy: 0.8793 - val_loss: 0.3892 - val_accuracy: 0.8530\n",
            "Epoch 6/20\n",
            "48000/48000 [==============================] - 1s 21us/sample - loss: 0.3066 - accuracy: 0.8855 - val_loss: 0.3365 - val_accuracy: 0.8769\n",
            "Epoch 7/20\n",
            "48000/48000 [==============================] - 1s 22us/sample - loss: 0.2935 - accuracy: 0.8920 - val_loss: 0.3310 - val_accuracy: 0.8808\n",
            "Epoch 8/20\n",
            "48000/48000 [==============================] - 1s 22us/sample - loss: 0.2799 - accuracy: 0.8944 - val_loss: 0.3144 - val_accuracy: 0.8834\n",
            "Epoch 9/20\n",
            "48000/48000 [==============================] - 1s 21us/sample - loss: 0.2667 - accuracy: 0.8996 - val_loss: 0.3460 - val_accuracy: 0.8752\n",
            "Epoch 10/20\n",
            "48000/48000 [==============================] - 1s 21us/sample - loss: 0.2569 - accuracy: 0.9029 - val_loss: 0.3469 - val_accuracy: 0.8731\n",
            "Epoch 11/20\n",
            "48000/48000 [==============================] - 1s 21us/sample - loss: 0.2472 - accuracy: 0.9072 - val_loss: 0.3276 - val_accuracy: 0.8796\n",
            "Epoch 12/20\n",
            "48000/48000 [==============================] - 1s 21us/sample - loss: 0.2363 - accuracy: 0.9119 - val_loss: 0.3282 - val_accuracy: 0.8825\n",
            "Epoch 13/20\n",
            "48000/48000 [==============================] - 1s 21us/sample - loss: 0.2266 - accuracy: 0.9139 - val_loss: 0.3563 - val_accuracy: 0.8706\n",
            "Epoch 14/20\n",
            "48000/48000 [==============================] - 1s 21us/sample - loss: 0.2212 - accuracy: 0.9163 - val_loss: 0.3319 - val_accuracy: 0.8821\n",
            "Epoch 15/20\n",
            "48000/48000 [==============================] - 1s 21us/sample - loss: 0.2118 - accuracy: 0.9187 - val_loss: 0.3793 - val_accuracy: 0.8644\n",
            "Epoch 16/20\n",
            "48000/48000 [==============================] - 1s 21us/sample - loss: 0.2052 - accuracy: 0.9234 - val_loss: 0.3137 - val_accuracy: 0.8853\n",
            "Epoch 17/20\n",
            "48000/48000 [==============================] - 1s 21us/sample - loss: 0.1994 - accuracy: 0.9260 - val_loss: 0.3092 - val_accuracy: 0.8884\n",
            "Epoch 18/20\n",
            "48000/48000 [==============================] - 1s 21us/sample - loss: 0.1914 - accuracy: 0.9270 - val_loss: 0.3358 - val_accuracy: 0.8839\n",
            "Epoch 19/20\n",
            "48000/48000 [==============================] - 1s 21us/sample - loss: 0.1851 - accuracy: 0.9304 - val_loss: 0.3062 - val_accuracy: 0.8908\n",
            "Epoch 20/20\n",
            "48000/48000 [==============================] - 1s 21us/sample - loss: 0.1778 - accuracy: 0.9329 - val_loss: 0.3377 - val_accuracy: 0.8836\n"
          ],
          "name": "stdout"
        },
        {
          "output_type": "display_data",
          "data": {
            "text/html": [
              "<span style=\"color:#4527A0\"><h1 style=\"font-size:18px\">Trial complete</h1></span>"
            ],
            "text/plain": [
              "<IPython.core.display.HTML object>"
            ]
          },
          "metadata": {
            "tags": []
          }
        },
        {
          "output_type": "display_data",
          "data": {
            "text/html": [
              "<span style=\"color:#4527A0\"><h1 style=\"font-size:18px\">Trial summary</h1></span>"
            ],
            "text/plain": [
              "<IPython.core.display.HTML object>"
            ]
          },
          "metadata": {
            "tags": []
          }
        },
        {
          "output_type": "display_data",
          "data": {
            "text/html": [
              "<span style=\"color:cyan\"> |-Trial ID: cb31a41931257e33f67a42dee7546ca8</span>"
            ],
            "text/plain": [
              "<IPython.core.display.HTML object>"
            ]
          },
          "metadata": {
            "tags": []
          }
        },
        {
          "output_type": "display_data",
          "data": {
            "text/html": [
              "<span style=\"color:cyan\"> |-Score: 0.89083331823349</span>"
            ],
            "text/plain": [
              "<IPython.core.display.HTML object>"
            ]
          },
          "metadata": {
            "tags": []
          }
        },
        {
          "output_type": "display_data",
          "data": {
            "text/html": [
              "<span style=\"color:cyan\"> |-Best step: 0</span>"
            ],
            "text/plain": [
              "<IPython.core.display.HTML object>"
            ]
          },
          "metadata": {
            "tags": []
          }
        },
        {
          "output_type": "display_data",
          "data": {
            "text/html": [
              "<span style=\"color:#7E57C2\"><h2 style=\"font-size:16px\">Hyperparameters:</h2></span>"
            ],
            "text/plain": [
              "<IPython.core.display.HTML object>"
            ]
          },
          "metadata": {
            "tags": []
          }
        },
        {
          "output_type": "display_data",
          "data": {
            "text/html": [
              "<span style=\"color:cyan\"> |-activation: tanh</span>"
            ],
            "text/plain": [
              "<IPython.core.display.HTML object>"
            ]
          },
          "metadata": {
            "tags": []
          }
        },
        {
          "output_type": "display_data",
          "data": {
            "text/html": [
              "<span style=\"color:blue\"> |-optimizer: rmsprop</span>"
            ],
            "text/plain": [
              "<IPython.core.display.HTML object>"
            ]
          },
          "metadata": {
            "tags": []
          }
        },
        {
          "output_type": "display_data",
          "data": {
            "text/html": [
              "<span style=\"color:cyan\"> |-units_hidden: 192</span>"
            ],
            "text/plain": [
              "<IPython.core.display.HTML object>"
            ]
          },
          "metadata": {
            "tags": []
          }
        },
        {
          "output_type": "display_data",
          "data": {
            "text/html": [
              "<span style=\"color:blue\"> |-units_input: 640</span>"
            ],
            "text/plain": [
              "<IPython.core.display.HTML object>"
            ]
          },
          "metadata": {
            "tags": []
          }
        },
        {
          "output_type": "stream",
          "text": [
            "Train on 48000 samples, validate on 12000 samples\n",
            "Epoch 1/20\n",
            "48000/48000 [==============================] - 1s 30us/sample - loss: 0.8016 - accuracy: 0.7309 - val_loss: 0.5566 - val_accuracy: 0.7939\n",
            "Epoch 2/20\n",
            "48000/48000 [==============================] - 1s 22us/sample - loss: 0.4823 - accuracy: 0.8235 - val_loss: 0.4627 - val_accuracy: 0.8297\n",
            "Epoch 3/20\n",
            "48000/48000 [==============================] - 1s 22us/sample - loss: 0.4311 - accuracy: 0.8423 - val_loss: 0.4604 - val_accuracy: 0.8329\n",
            "Epoch 4/20\n",
            "48000/48000 [==============================] - 1s 21us/sample - loss: 0.4016 - accuracy: 0.8546 - val_loss: 0.4328 - val_accuracy: 0.8360\n",
            "Epoch 5/20\n",
            "48000/48000 [==============================] - 1s 20us/sample - loss: 0.3810 - accuracy: 0.8610 - val_loss: 0.3922 - val_accuracy: 0.8518\n",
            "Epoch 6/20\n",
            "48000/48000 [==============================] - 1s 22us/sample - loss: 0.3636 - accuracy: 0.8676 - val_loss: 0.4127 - val_accuracy: 0.8436\n",
            "Epoch 7/20\n",
            "48000/48000 [==============================] - 1s 21us/sample - loss: 0.3505 - accuracy: 0.8702 - val_loss: 0.3993 - val_accuracy: 0.8461\n",
            "Epoch 8/20\n",
            "48000/48000 [==============================] - 1s 25us/sample - loss: 0.3356 - accuracy: 0.8753 - val_loss: 0.3768 - val_accuracy: 0.8624\n",
            "Epoch 9/20\n",
            "48000/48000 [==============================] - 1s 25us/sample - loss: 0.3250 - accuracy: 0.8811 - val_loss: 0.3434 - val_accuracy: 0.8752\n",
            "Epoch 10/20\n",
            "48000/48000 [==============================] - 1s 23us/sample - loss: 0.3149 - accuracy: 0.8841 - val_loss: 0.3317 - val_accuracy: 0.8782\n",
            "Epoch 11/20\n",
            "48000/48000 [==============================] - 1s 21us/sample - loss: 0.3054 - accuracy: 0.8878 - val_loss: 0.3708 - val_accuracy: 0.8658\n",
            "Epoch 12/20\n",
            "48000/48000 [==============================] - 1s 23us/sample - loss: 0.2955 - accuracy: 0.8907 - val_loss: 0.3268 - val_accuracy: 0.8799\n",
            "Epoch 13/20\n",
            "48000/48000 [==============================] - 1s 24us/sample - loss: 0.2881 - accuracy: 0.8930 - val_loss: 0.3773 - val_accuracy: 0.8632\n",
            "Epoch 14/20\n",
            "48000/48000 [==============================] - 1s 21us/sample - loss: 0.2823 - accuracy: 0.8947 - val_loss: 0.3325 - val_accuracy: 0.8799\n",
            "Epoch 15/20\n",
            "48000/48000 [==============================] - 1s 21us/sample - loss: 0.2731 - accuracy: 0.8980 - val_loss: 0.3255 - val_accuracy: 0.8792\n",
            "Epoch 16/20\n",
            "48000/48000 [==============================] - 1s 21us/sample - loss: 0.2666 - accuracy: 0.9007 - val_loss: 0.3977 - val_accuracy: 0.8489\n",
            "Epoch 17/20\n",
            "48000/48000 [==============================] - 1s 21us/sample - loss: 0.2612 - accuracy: 0.9022 - val_loss: 0.3285 - val_accuracy: 0.8812\n",
            "Epoch 18/20\n",
            "48000/48000 [==============================] - 1s 22us/sample - loss: 0.2556 - accuracy: 0.9044 - val_loss: 0.3185 - val_accuracy: 0.8852\n",
            "Epoch 19/20\n",
            "48000/48000 [==============================] - 1s 20us/sample - loss: 0.2479 - accuracy: 0.9074 - val_loss: 0.3345 - val_accuracy: 0.8804\n",
            "Epoch 20/20\n",
            "48000/48000 [==============================] - 1s 21us/sample - loss: 0.2430 - accuracy: 0.9087 - val_loss: 0.3459 - val_accuracy: 0.8701\n"
          ],
          "name": "stdout"
        },
        {
          "output_type": "display_data",
          "data": {
            "text/html": [
              "<span style=\"color:#4527A0\"><h1 style=\"font-size:18px\">Trial complete</h1></span>"
            ],
            "text/plain": [
              "<IPython.core.display.HTML object>"
            ]
          },
          "metadata": {
            "tags": []
          }
        },
        {
          "output_type": "display_data",
          "data": {
            "text/html": [
              "<span style=\"color:#4527A0\"><h1 style=\"font-size:18px\">Trial summary</h1></span>"
            ],
            "text/plain": [
              "<IPython.core.display.HTML object>"
            ]
          },
          "metadata": {
            "tags": []
          }
        },
        {
          "output_type": "display_data",
          "data": {
            "text/html": [
              "<span style=\"color:cyan\"> |-Trial ID: 86a406e8776af6478deb07eac295fda3</span>"
            ],
            "text/plain": [
              "<IPython.core.display.HTML object>"
            ]
          },
          "metadata": {
            "tags": []
          }
        },
        {
          "output_type": "display_data",
          "data": {
            "text/html": [
              "<span style=\"color:cyan\"> |-Score: 0.8851666450500488</span>"
            ],
            "text/plain": [
              "<IPython.core.display.HTML object>"
            ]
          },
          "metadata": {
            "tags": []
          }
        },
        {
          "output_type": "display_data",
          "data": {
            "text/html": [
              "<span style=\"color:cyan\"> |-Best step: 0</span>"
            ],
            "text/plain": [
              "<IPython.core.display.HTML object>"
            ]
          },
          "metadata": {
            "tags": []
          }
        },
        {
          "output_type": "display_data",
          "data": {
            "text/html": [
              "<span style=\"color:#7E57C2\"><h2 style=\"font-size:16px\">Hyperparameters:</h2></span>"
            ],
            "text/plain": [
              "<IPython.core.display.HTML object>"
            ]
          },
          "metadata": {
            "tags": []
          }
        },
        {
          "output_type": "display_data",
          "data": {
            "text/html": [
              "<span style=\"color:cyan\"> |-activation: sigmoid</span>"
            ],
            "text/plain": [
              "<IPython.core.display.HTML object>"
            ]
          },
          "metadata": {
            "tags": []
          }
        },
        {
          "output_type": "display_data",
          "data": {
            "text/html": [
              "<span style=\"color:blue\"> |-optimizer: rmsprop</span>"
            ],
            "text/plain": [
              "<IPython.core.display.HTML object>"
            ]
          },
          "metadata": {
            "tags": []
          }
        },
        {
          "output_type": "display_data",
          "data": {
            "text/html": [
              "<span style=\"color:cyan\"> |-units_hidden: 160</span>"
            ],
            "text/plain": [
              "<IPython.core.display.HTML object>"
            ]
          },
          "metadata": {
            "tags": []
          }
        },
        {
          "output_type": "display_data",
          "data": {
            "text/html": [
              "<span style=\"color:blue\"> |-units_input: 608</span>"
            ],
            "text/plain": [
              "<IPython.core.display.HTML object>"
            ]
          },
          "metadata": {
            "tags": []
          }
        },
        {
          "output_type": "stream",
          "text": [
            "Train on 48000 samples, validate on 12000 samples\n",
            "Epoch 1/20\n",
            "48000/48000 [==============================] - 1s 27us/sample - loss: 0.7773 - accuracy: 0.7336 - val_loss: 0.4869 - val_accuracy: 0.8255\n",
            "Epoch 2/20\n",
            "48000/48000 [==============================] - 1s 21us/sample - loss: 0.4555 - accuracy: 0.8367 - val_loss: 0.4342 - val_accuracy: 0.8431\n",
            "Epoch 3/20\n",
            "48000/48000 [==============================] - 1s 21us/sample - loss: 0.4115 - accuracy: 0.8505 - val_loss: 0.4097 - val_accuracy: 0.8508\n",
            "Epoch 4/20\n",
            "48000/48000 [==============================] - 1s 21us/sample - loss: 0.3814 - accuracy: 0.8627 - val_loss: 0.3882 - val_accuracy: 0.8586\n",
            "Epoch 5/20\n",
            "48000/48000 [==============================] - 1s 22us/sample - loss: 0.3620 - accuracy: 0.8691 - val_loss: 0.3697 - val_accuracy: 0.8633\n",
            "Epoch 6/20\n",
            "48000/48000 [==============================] - 1s 21us/sample - loss: 0.3488 - accuracy: 0.8733 - val_loss: 0.3935 - val_accuracy: 0.8546\n",
            "Epoch 7/20\n",
            "48000/48000 [==============================] - 1s 22us/sample - loss: 0.3330 - accuracy: 0.8789 - val_loss: 0.3540 - val_accuracy: 0.8735\n",
            "Epoch 8/20\n",
            "48000/48000 [==============================] - 1s 23us/sample - loss: 0.3225 - accuracy: 0.8812 - val_loss: 0.3429 - val_accuracy: 0.8782\n",
            "Epoch 9/20\n",
            "48000/48000 [==============================] - 1s 22us/sample - loss: 0.3113 - accuracy: 0.8867 - val_loss: 0.3451 - val_accuracy: 0.8712\n",
            "Epoch 10/20\n",
            "48000/48000 [==============================] - 1s 21us/sample - loss: 0.3001 - accuracy: 0.8883 - val_loss: 0.3597 - val_accuracy: 0.8640\n",
            "Epoch 11/20\n",
            "48000/48000 [==============================] - 1s 21us/sample - loss: 0.2921 - accuracy: 0.8930 - val_loss: 0.3294 - val_accuracy: 0.8779\n",
            "Epoch 12/20\n",
            "48000/48000 [==============================] - 1s 22us/sample - loss: 0.2806 - accuracy: 0.8962 - val_loss: 0.3255 - val_accuracy: 0.8842\n",
            "Epoch 13/20\n",
            "48000/48000 [==============================] - 1s 21us/sample - loss: 0.2726 - accuracy: 0.8994 - val_loss: 0.3169 - val_accuracy: 0.8854\n",
            "Epoch 14/20\n",
            "48000/48000 [==============================] - 1s 22us/sample - loss: 0.2646 - accuracy: 0.9013 - val_loss: 0.3125 - val_accuracy: 0.8857\n",
            "Epoch 15/20\n",
            "48000/48000 [==============================] - 1s 22us/sample - loss: 0.2545 - accuracy: 0.9063 - val_loss: 0.3141 - val_accuracy: 0.8877\n",
            "Epoch 16/20\n",
            "48000/48000 [==============================] - 1s 21us/sample - loss: 0.2478 - accuracy: 0.9075 - val_loss: 0.3150 - val_accuracy: 0.8870\n",
            "Epoch 17/20\n",
            "48000/48000 [==============================] - 1s 22us/sample - loss: 0.2429 - accuracy: 0.9091 - val_loss: 0.3394 - val_accuracy: 0.8790\n",
            "Epoch 18/20\n",
            "48000/48000 [==============================] - 1s 23us/sample - loss: 0.2342 - accuracy: 0.9129 - val_loss: 0.3062 - val_accuracy: 0.8895\n",
            "Epoch 19/20\n",
            "48000/48000 [==============================] - 1s 20us/sample - loss: 0.2333 - accuracy: 0.9124 - val_loss: 0.3290 - val_accuracy: 0.8796\n",
            "Epoch 20/20\n",
            "48000/48000 [==============================] - 1s 22us/sample - loss: 0.2232 - accuracy: 0.9171 - val_loss: 0.3070 - val_accuracy: 0.8929\n"
          ],
          "name": "stdout"
        },
        {
          "output_type": "display_data",
          "data": {
            "text/html": [
              "<span style=\"color:#4527A0\"><h1 style=\"font-size:18px\">Trial complete</h1></span>"
            ],
            "text/plain": [
              "<IPython.core.display.HTML object>"
            ]
          },
          "metadata": {
            "tags": []
          }
        },
        {
          "output_type": "display_data",
          "data": {
            "text/html": [
              "<span style=\"color:#4527A0\"><h1 style=\"font-size:18px\">Trial summary</h1></span>"
            ],
            "text/plain": [
              "<IPython.core.display.HTML object>"
            ]
          },
          "metadata": {
            "tags": []
          }
        },
        {
          "output_type": "display_data",
          "data": {
            "text/html": [
              "<span style=\"color:cyan\"> |-Trial ID: 6505b4d53f0858dbc679efca1fd56829</span>"
            ],
            "text/plain": [
              "<IPython.core.display.HTML object>"
            ]
          },
          "metadata": {
            "tags": []
          }
        },
        {
          "output_type": "display_data",
          "data": {
            "text/html": [
              "<span style=\"color:cyan\"> |-Score: 0.8929166793823242</span>"
            ],
            "text/plain": [
              "<IPython.core.display.HTML object>"
            ]
          },
          "metadata": {
            "tags": []
          }
        },
        {
          "output_type": "display_data",
          "data": {
            "text/html": [
              "<span style=\"color:cyan\"> |-Best step: 0</span>"
            ],
            "text/plain": [
              "<IPython.core.display.HTML object>"
            ]
          },
          "metadata": {
            "tags": []
          }
        },
        {
          "output_type": "display_data",
          "data": {
            "text/html": [
              "<span style=\"color:#7E57C2\"><h2 style=\"font-size:16px\">Hyperparameters:</h2></span>"
            ],
            "text/plain": [
              "<IPython.core.display.HTML object>"
            ]
          },
          "metadata": {
            "tags": []
          }
        },
        {
          "output_type": "display_data",
          "data": {
            "text/html": [
              "<span style=\"color:cyan\"> |-activation: sigmoid</span>"
            ],
            "text/plain": [
              "<IPython.core.display.HTML object>"
            ]
          },
          "metadata": {
            "tags": []
          }
        },
        {
          "output_type": "display_data",
          "data": {
            "text/html": [
              "<span style=\"color:blue\"> |-optimizer: adam</span>"
            ],
            "text/plain": [
              "<IPython.core.display.HTML object>"
            ]
          },
          "metadata": {
            "tags": []
          }
        },
        {
          "output_type": "display_data",
          "data": {
            "text/html": [
              "<span style=\"color:cyan\"> |-units_hidden: 416</span>"
            ],
            "text/plain": [
              "<IPython.core.display.HTML object>"
            ]
          },
          "metadata": {
            "tags": []
          }
        },
        {
          "output_type": "display_data",
          "data": {
            "text/html": [
              "<span style=\"color:blue\"> |-units_input: 608</span>"
            ],
            "text/plain": [
              "<IPython.core.display.HTML object>"
            ]
          },
          "metadata": {
            "tags": []
          }
        },
        {
          "output_type": "stream",
          "text": [
            "Train on 48000 samples, validate on 12000 samples\n",
            "Epoch 1/20\n",
            "48000/48000 [==============================] - 2s 32us/sample - loss: 0.6539 - accuracy: 0.7660 - val_loss: 0.6083 - val_accuracy: 0.7753\n",
            "Epoch 2/20\n",
            "48000/48000 [==============================] - 1s 25us/sample - loss: 0.4204 - accuracy: 0.8434 - val_loss: 0.3987 - val_accuracy: 0.8537\n",
            "Epoch 3/20\n",
            "48000/48000 [==============================] - 1s 24us/sample - loss: 0.3643 - accuracy: 0.8633 - val_loss: 0.4461 - val_accuracy: 0.8393\n",
            "Epoch 4/20\n",
            "48000/48000 [==============================] - 1s 25us/sample - loss: 0.3316 - accuracy: 0.8766 - val_loss: 0.3475 - val_accuracy: 0.8758\n",
            "Epoch 5/20\n",
            "48000/48000 [==============================] - 1s 24us/sample - loss: 0.3066 - accuracy: 0.8846 - val_loss: 0.3379 - val_accuracy: 0.8810\n",
            "Epoch 6/20\n",
            "48000/48000 [==============================] - 1s 24us/sample - loss: 0.2848 - accuracy: 0.8918 - val_loss: 0.3602 - val_accuracy: 0.8677\n",
            "Epoch 7/20\n",
            "48000/48000 [==============================] - 1s 23us/sample - loss: 0.2696 - accuracy: 0.8978 - val_loss: 0.4838 - val_accuracy: 0.8382\n",
            "Epoch 8/20\n",
            "48000/48000 [==============================] - 1s 24us/sample - loss: 0.2575 - accuracy: 0.9017 - val_loss: 0.3624 - val_accuracy: 0.8743\n",
            "Epoch 9/20\n",
            "48000/48000 [==============================] - 1s 25us/sample - loss: 0.2465 - accuracy: 0.9075 - val_loss: 0.3486 - val_accuracy: 0.8823\n",
            "Epoch 10/20\n",
            "48000/48000 [==============================] - 1s 24us/sample - loss: 0.2353 - accuracy: 0.9106 - val_loss: 0.3676 - val_accuracy: 0.8882\n",
            "Epoch 11/20\n",
            "48000/48000 [==============================] - 1s 24us/sample - loss: 0.2249 - accuracy: 0.9147 - val_loss: 0.3646 - val_accuracy: 0.8890\n",
            "Epoch 12/20\n",
            "48000/48000 [==============================] - 1s 24us/sample - loss: 0.2154 - accuracy: 0.9188 - val_loss: 0.3480 - val_accuracy: 0.8941\n",
            "Epoch 13/20\n",
            "48000/48000 [==============================] - 1s 22us/sample - loss: 0.2079 - accuracy: 0.9213 - val_loss: 0.5243 - val_accuracy: 0.8517\n",
            "Epoch 14/20\n",
            "48000/48000 [==============================] - 1s 23us/sample - loss: 0.2028 - accuracy: 0.9223 - val_loss: 0.3566 - val_accuracy: 0.8974\n",
            "Epoch 15/20\n",
            "48000/48000 [==============================] - 1s 23us/sample - loss: 0.1948 - accuracy: 0.9244 - val_loss: 0.4787 - val_accuracy: 0.8809\n",
            "Epoch 16/20\n",
            "48000/48000 [==============================] - 1s 23us/sample - loss: 0.1903 - accuracy: 0.9276 - val_loss: 0.3663 - val_accuracy: 0.8988\n",
            "Epoch 17/20\n",
            "48000/48000 [==============================] - 1s 23us/sample - loss: 0.1831 - accuracy: 0.9308 - val_loss: 0.4323 - val_accuracy: 0.8896\n",
            "Epoch 18/20\n",
            "48000/48000 [==============================] - 1s 24us/sample - loss: 0.1745 - accuracy: 0.9340 - val_loss: 0.4144 - val_accuracy: 0.8967\n",
            "Epoch 19/20\n",
            "48000/48000 [==============================] - 1s 24us/sample - loss: 0.1735 - accuracy: 0.9331 - val_loss: 0.3949 - val_accuracy: 0.8955\n",
            "Epoch 20/20\n",
            "48000/48000 [==============================] - 1s 24us/sample - loss: 0.1689 - accuracy: 0.9366 - val_loss: 0.4354 - val_accuracy: 0.8924\n"
          ],
          "name": "stdout"
        },
        {
          "output_type": "display_data",
          "data": {
            "text/html": [
              "<span style=\"color:#4527A0\"><h1 style=\"font-size:18px\">Trial complete</h1></span>"
            ],
            "text/plain": [
              "<IPython.core.display.HTML object>"
            ]
          },
          "metadata": {
            "tags": []
          }
        },
        {
          "output_type": "display_data",
          "data": {
            "text/html": [
              "<span style=\"color:#4527A0\"><h1 style=\"font-size:18px\">Trial summary</h1></span>"
            ],
            "text/plain": [
              "<IPython.core.display.HTML object>"
            ]
          },
          "metadata": {
            "tags": []
          }
        },
        {
          "output_type": "display_data",
          "data": {
            "text/html": [
              "<span style=\"color:cyan\"> |-Trial ID: 01e8da260a0d3c577a74d95b51f32455</span>"
            ],
            "text/plain": [
              "<IPython.core.display.HTML object>"
            ]
          },
          "metadata": {
            "tags": []
          }
        },
        {
          "output_type": "display_data",
          "data": {
            "text/html": [
              "<span style=\"color:cyan\"> |-Score: 0.8988333344459534</span>"
            ],
            "text/plain": [
              "<IPython.core.display.HTML object>"
            ]
          },
          "metadata": {
            "tags": []
          }
        },
        {
          "output_type": "display_data",
          "data": {
            "text/html": [
              "<span style=\"color:cyan\"> |-Best step: 0</span>"
            ],
            "text/plain": [
              "<IPython.core.display.HTML object>"
            ]
          },
          "metadata": {
            "tags": []
          }
        },
        {
          "output_type": "display_data",
          "data": {
            "text/html": [
              "<span style=\"color:#7E57C2\"><h2 style=\"font-size:16px\">Hyperparameters:</h2></span>"
            ],
            "text/plain": [
              "<IPython.core.display.HTML object>"
            ]
          },
          "metadata": {
            "tags": []
          }
        },
        {
          "output_type": "display_data",
          "data": {
            "text/html": [
              "<span style=\"color:cyan\"> |-activation: relu</span>"
            ],
            "text/plain": [
              "<IPython.core.display.HTML object>"
            ]
          },
          "metadata": {
            "tags": []
          }
        },
        {
          "output_type": "display_data",
          "data": {
            "text/html": [
              "<span style=\"color:blue\"> |-optimizer: rmsprop</span>"
            ],
            "text/plain": [
              "<IPython.core.display.HTML object>"
            ]
          },
          "metadata": {
            "tags": []
          }
        },
        {
          "output_type": "display_data",
          "data": {
            "text/html": [
              "<span style=\"color:cyan\"> |-units_hidden: 576</span>"
            ],
            "text/plain": [
              "<IPython.core.display.HTML object>"
            ]
          },
          "metadata": {
            "tags": []
          }
        },
        {
          "output_type": "display_data",
          "data": {
            "text/html": [
              "<span style=\"color:blue\"> |-units_input: 864</span>"
            ],
            "text/plain": [
              "<IPython.core.display.HTML object>"
            ]
          },
          "metadata": {
            "tags": []
          }
        },
        {
          "output_type": "stream",
          "text": [
            "Train on 48000 samples, validate on 12000 samples\n",
            "Epoch 1/20\n",
            "48000/48000 [==============================] - 1s 28us/sample - loss: 2.2702 - accuracy: 0.2629 - val_loss: 2.2227 - val_accuracy: 0.3951\n",
            "Epoch 2/20\n",
            "48000/48000 [==============================] - 1s 23us/sample - loss: 2.1815 - accuracy: 0.4551 - val_loss: 2.1361 - val_accuracy: 0.5236\n",
            "Epoch 3/20\n",
            "48000/48000 [==============================] - 1s 24us/sample - loss: 2.0888 - accuracy: 0.5253 - val_loss: 2.0348 - val_accuracy: 0.5567\n",
            "Epoch 4/20\n",
            "48000/48000 [==============================] - 1s 20us/sample - loss: 1.9785 - accuracy: 0.5757 - val_loss: 1.9155 - val_accuracy: 0.5393\n",
            "Epoch 5/20\n",
            "48000/48000 [==============================] - 1s 20us/sample - loss: 1.8519 - accuracy: 0.5974 - val_loss: 1.7823 - val_accuracy: 0.6208\n",
            "Epoch 6/20\n",
            "48000/48000 [==============================] - 1s 21us/sample - loss: 1.7187 - accuracy: 0.6149 - val_loss: 1.6494 - val_accuracy: 0.6431\n",
            "Epoch 7/20\n",
            "48000/48000 [==============================] - 1s 22us/sample - loss: 1.5919 - accuracy: 0.6305 - val_loss: 1.5279 - val_accuracy: 0.6267\n",
            "Epoch 8/20\n",
            "48000/48000 [==============================] - 1s 20us/sample - loss: 1.4788 - accuracy: 0.6447 - val_loss: 1.4233 - val_accuracy: 0.6386\n",
            "Epoch 9/20\n",
            "48000/48000 [==============================] - 1s 20us/sample - loss: 1.3817 - accuracy: 0.6533 - val_loss: 1.3326 - val_accuracy: 0.6766\n",
            "Epoch 10/20\n",
            "48000/48000 [==============================] - 1s 21us/sample - loss: 1.2994 - accuracy: 0.6629 - val_loss: 1.2571 - val_accuracy: 0.6927\n",
            "Epoch 11/20\n",
            "48000/48000 [==============================] - 1s 20us/sample - loss: 1.2302 - accuracy: 0.6752 - val_loss: 1.1920 - val_accuracy: 0.6754\n",
            "Epoch 12/20\n",
            "48000/48000 [==============================] - 1s 20us/sample - loss: 1.1715 - accuracy: 0.6821 - val_loss: 1.1386 - val_accuracy: 0.6949\n",
            "Epoch 13/20\n",
            "48000/48000 [==============================] - 1s 21us/sample - loss: 1.1211 - accuracy: 0.6901 - val_loss: 1.0909 - val_accuracy: 0.6885\n",
            "Epoch 14/20\n",
            "48000/48000 [==============================] - 1s 20us/sample - loss: 1.0777 - accuracy: 0.6963 - val_loss: 1.0497 - val_accuracy: 0.6927\n",
            "Epoch 15/20\n",
            "48000/48000 [==============================] - 1s 20us/sample - loss: 1.0394 - accuracy: 0.6995 - val_loss: 1.0130 - val_accuracy: 0.7097\n",
            "Epoch 16/20\n",
            "48000/48000 [==============================] - 1s 21us/sample - loss: 1.0058 - accuracy: 0.7057 - val_loss: 0.9815 - val_accuracy: 0.7052\n",
            "Epoch 17/20\n",
            "48000/48000 [==============================] - 1s 20us/sample - loss: 0.9756 - accuracy: 0.7104 - val_loss: 0.9524 - val_accuracy: 0.7153\n",
            "Epoch 18/20\n",
            "48000/48000 [==============================] - 1s 21us/sample - loss: 0.9482 - accuracy: 0.7145 - val_loss: 0.9255 - val_accuracy: 0.7204\n",
            "Epoch 19/20\n",
            "48000/48000 [==============================] - 1s 21us/sample - loss: 0.9232 - accuracy: 0.7190 - val_loss: 0.9021 - val_accuracy: 0.7239\n",
            "Epoch 20/20\n",
            "48000/48000 [==============================] - 1s 21us/sample - loss: 0.9004 - accuracy: 0.7218 - val_loss: 0.8801 - val_accuracy: 0.7243\n"
          ],
          "name": "stdout"
        },
        {
          "output_type": "display_data",
          "data": {
            "text/html": [
              "<span style=\"color:#4527A0\"><h1 style=\"font-size:18px\">Trial complete</h1></span>"
            ],
            "text/plain": [
              "<IPython.core.display.HTML object>"
            ]
          },
          "metadata": {
            "tags": []
          }
        },
        {
          "output_type": "display_data",
          "data": {
            "text/html": [
              "<span style=\"color:#4527A0\"><h1 style=\"font-size:18px\">Trial summary</h1></span>"
            ],
            "text/plain": [
              "<IPython.core.display.HTML object>"
            ]
          },
          "metadata": {
            "tags": []
          }
        },
        {
          "output_type": "display_data",
          "data": {
            "text/html": [
              "<span style=\"color:cyan\"> |-Trial ID: af29979f3d0e8e8b231ccc8e8cf07f99</span>"
            ],
            "text/plain": [
              "<IPython.core.display.HTML object>"
            ]
          },
          "metadata": {
            "tags": []
          }
        },
        {
          "output_type": "display_data",
          "data": {
            "text/html": [
              "<span style=\"color:cyan\"> |-Score: 0.7242500185966492</span>"
            ],
            "text/plain": [
              "<IPython.core.display.HTML object>"
            ]
          },
          "metadata": {
            "tags": []
          }
        },
        {
          "output_type": "display_data",
          "data": {
            "text/html": [
              "<span style=\"color:cyan\"> |-Best step: 0</span>"
            ],
            "text/plain": [
              "<IPython.core.display.HTML object>"
            ]
          },
          "metadata": {
            "tags": []
          }
        },
        {
          "output_type": "display_data",
          "data": {
            "text/html": [
              "<span style=\"color:#7E57C2\"><h2 style=\"font-size:16px\">Hyperparameters:</h2></span>"
            ],
            "text/plain": [
              "<IPython.core.display.HTML object>"
            ]
          },
          "metadata": {
            "tags": []
          }
        },
        {
          "output_type": "display_data",
          "data": {
            "text/html": [
              "<span style=\"color:cyan\"> |-activation: sigmoid</span>"
            ],
            "text/plain": [
              "<IPython.core.display.HTML object>"
            ]
          },
          "metadata": {
            "tags": []
          }
        },
        {
          "output_type": "display_data",
          "data": {
            "text/html": [
              "<span style=\"color:blue\"> |-optimizer: SGD</span>"
            ],
            "text/plain": [
              "<IPython.core.display.HTML object>"
            ]
          },
          "metadata": {
            "tags": []
          }
        },
        {
          "output_type": "display_data",
          "data": {
            "text/html": [
              "<span style=\"color:cyan\"> |-units_hidden: 320</span>"
            ],
            "text/plain": [
              "<IPython.core.display.HTML object>"
            ]
          },
          "metadata": {
            "tags": []
          }
        },
        {
          "output_type": "display_data",
          "data": {
            "text/html": [
              "<span style=\"color:blue\"> |-units_input: 800</span>"
            ],
            "text/plain": [
              "<IPython.core.display.HTML object>"
            ]
          },
          "metadata": {
            "tags": []
          }
        },
        {
          "output_type": "stream",
          "text": [
            "Train on 48000 samples, validate on 12000 samples\n",
            "Epoch 1/20\n",
            "48000/48000 [==============================] - 1s 31us/sample - loss: 0.7640 - accuracy: 0.7371 - val_loss: 0.5524 - val_accuracy: 0.7850\n",
            "Epoch 2/20\n",
            "48000/48000 [==============================] - 1s 25us/sample - loss: 0.4689 - accuracy: 0.8240 - val_loss: 0.5298 - val_accuracy: 0.8122\n",
            "Epoch 3/20\n",
            "48000/48000 [==============================] - 1s 25us/sample - loss: 0.4069 - accuracy: 0.8469 - val_loss: 0.4324 - val_accuracy: 0.8404\n",
            "Epoch 4/20\n",
            "48000/48000 [==============================] - 1s 23us/sample - loss: 0.3672 - accuracy: 0.8627 - val_loss: 0.4381 - val_accuracy: 0.8328\n",
            "Epoch 5/20\n",
            "48000/48000 [==============================] - 1s 23us/sample - loss: 0.3367 - accuracy: 0.8730 - val_loss: 0.3935 - val_accuracy: 0.8573\n",
            "Epoch 6/20\n",
            "48000/48000 [==============================] - 1s 25us/sample - loss: 0.3166 - accuracy: 0.8801 - val_loss: 0.3505 - val_accuracy: 0.8712\n",
            "Epoch 7/20\n",
            "48000/48000 [==============================] - 1s 23us/sample - loss: 0.2997 - accuracy: 0.8866 - val_loss: 0.3750 - val_accuracy: 0.8570\n",
            "Epoch 8/20\n",
            "48000/48000 [==============================] - 1s 22us/sample - loss: 0.2842 - accuracy: 0.8923 - val_loss: 0.3648 - val_accuracy: 0.8677\n",
            "Epoch 9/20\n",
            "48000/48000 [==============================] - 1s 22us/sample - loss: 0.2725 - accuracy: 0.8969 - val_loss: 0.3624 - val_accuracy: 0.8728\n",
            "Epoch 10/20\n",
            "48000/48000 [==============================] - 1s 21us/sample - loss: 0.2617 - accuracy: 0.8987 - val_loss: 0.3859 - val_accuracy: 0.8676\n",
            "Epoch 11/20\n",
            "48000/48000 [==============================] - 1s 21us/sample - loss: 0.2484 - accuracy: 0.9055 - val_loss: 0.3789 - val_accuracy: 0.8656\n",
            "Epoch 12/20\n",
            "48000/48000 [==============================] - 1s 22us/sample - loss: 0.2398 - accuracy: 0.9084 - val_loss: 0.3657 - val_accuracy: 0.8720\n",
            "Epoch 13/20\n",
            "48000/48000 [==============================] - 1s 21us/sample - loss: 0.2305 - accuracy: 0.9111 - val_loss: 0.3357 - val_accuracy: 0.8854\n",
            "Epoch 14/20\n",
            "48000/48000 [==============================] - 1s 21us/sample - loss: 0.2227 - accuracy: 0.9138 - val_loss: 0.4386 - val_accuracy: 0.8550\n",
            "Epoch 15/20\n",
            "48000/48000 [==============================] - 1s 21us/sample - loss: 0.2155 - accuracy: 0.9174 - val_loss: 0.3526 - val_accuracy: 0.8813\n",
            "Epoch 16/20\n",
            "48000/48000 [==============================] - 1s 21us/sample - loss: 0.2102 - accuracy: 0.9189 - val_loss: 0.3843 - val_accuracy: 0.8761\n",
            "Epoch 17/20\n",
            "48000/48000 [==============================] - 1s 21us/sample - loss: 0.2010 - accuracy: 0.9236 - val_loss: 0.3715 - val_accuracy: 0.8812\n",
            "Epoch 18/20\n",
            "48000/48000 [==============================] - 1s 22us/sample - loss: 0.1953 - accuracy: 0.9251 - val_loss: 0.3521 - val_accuracy: 0.8863\n",
            "Epoch 19/20\n",
            "48000/48000 [==============================] - 1s 21us/sample - loss: 0.1866 - accuracy: 0.9283 - val_loss: 0.3889 - val_accuracy: 0.8763\n",
            "Epoch 20/20\n",
            "48000/48000 [==============================] - 1s 21us/sample - loss: 0.1825 - accuracy: 0.9303 - val_loss: 0.3969 - val_accuracy: 0.8770\n"
          ],
          "name": "stdout"
        },
        {
          "output_type": "display_data",
          "data": {
            "text/html": [
              "<span style=\"color:#4527A0\"><h1 style=\"font-size:18px\">Trial complete</h1></span>"
            ],
            "text/plain": [
              "<IPython.core.display.HTML object>"
            ]
          },
          "metadata": {
            "tags": []
          }
        },
        {
          "output_type": "display_data",
          "data": {
            "text/html": [
              "<span style=\"color:#4527A0\"><h1 style=\"font-size:18px\">Trial summary</h1></span>"
            ],
            "text/plain": [
              "<IPython.core.display.HTML object>"
            ]
          },
          "metadata": {
            "tags": []
          }
        },
        {
          "output_type": "display_data",
          "data": {
            "text/html": [
              "<span style=\"color:cyan\"> |-Trial ID: ceb480a08541e9a0ef6a85eff68344e7</span>"
            ],
            "text/plain": [
              "<IPython.core.display.HTML object>"
            ]
          },
          "metadata": {
            "tags": []
          }
        },
        {
          "output_type": "display_data",
          "data": {
            "text/html": [
              "<span style=\"color:cyan\"> |-Score: 0.8862500190734863</span>"
            ],
            "text/plain": [
              "<IPython.core.display.HTML object>"
            ]
          },
          "metadata": {
            "tags": []
          }
        },
        {
          "output_type": "display_data",
          "data": {
            "text/html": [
              "<span style=\"color:cyan\"> |-Best step: 0</span>"
            ],
            "text/plain": [
              "<IPython.core.display.HTML object>"
            ]
          },
          "metadata": {
            "tags": []
          }
        },
        {
          "output_type": "display_data",
          "data": {
            "text/html": [
              "<span style=\"color:#7E57C2\"><h2 style=\"font-size:16px\">Hyperparameters:</h2></span>"
            ],
            "text/plain": [
              "<IPython.core.display.HTML object>"
            ]
          },
          "metadata": {
            "tags": []
          }
        },
        {
          "output_type": "display_data",
          "data": {
            "text/html": [
              "<span style=\"color:cyan\"> |-activation: elu</span>"
            ],
            "text/plain": [
              "<IPython.core.display.HTML object>"
            ]
          },
          "metadata": {
            "tags": []
          }
        },
        {
          "output_type": "display_data",
          "data": {
            "text/html": [
              "<span style=\"color:blue\"> |-optimizer: rmsprop</span>"
            ],
            "text/plain": [
              "<IPython.core.display.HTML object>"
            ]
          },
          "metadata": {
            "tags": []
          }
        },
        {
          "output_type": "display_data",
          "data": {
            "text/html": [
              "<span style=\"color:cyan\"> |-units_hidden: 160</span>"
            ],
            "text/plain": [
              "<IPython.core.display.HTML object>"
            ]
          },
          "metadata": {
            "tags": []
          }
        },
        {
          "output_type": "display_data",
          "data": {
            "text/html": [
              "<span style=\"color:blue\"> |-units_input: 768</span>"
            ],
            "text/plain": [
              "<IPython.core.display.HTML object>"
            ]
          },
          "metadata": {
            "tags": []
          }
        },
        {
          "output_type": "stream",
          "text": [
            "Train on 48000 samples, validate on 12000 samples\n",
            "Epoch 1/20\n",
            "48000/48000 [==============================] - 1s 25us/sample - loss: 1.0584 - accuracy: 0.6704 - val_loss: 0.7514 - val_accuracy: 0.7524\n",
            "Epoch 2/20\n",
            "48000/48000 [==============================] - 1s 21us/sample - loss: 0.6891 - accuracy: 0.7759 - val_loss: 0.6326 - val_accuracy: 0.7867\n",
            "Epoch 3/20\n",
            "48000/48000 [==============================] - 1s 21us/sample - loss: 0.6058 - accuracy: 0.8012 - val_loss: 0.5784 - val_accuracy: 0.8055\n",
            "Epoch 4/20\n",
            "48000/48000 [==============================] - 1s 20us/sample - loss: 0.5615 - accuracy: 0.8117 - val_loss: 0.5490 - val_accuracy: 0.8095\n",
            "Epoch 5/20\n",
            "48000/48000 [==============================] - 1s 20us/sample - loss: 0.5326 - accuracy: 0.8197 - val_loss: 0.5246 - val_accuracy: 0.8173\n",
            "Epoch 6/20\n",
            "48000/48000 [==============================] - 1s 21us/sample - loss: 0.5118 - accuracy: 0.8249 - val_loss: 0.5085 - val_accuracy: 0.8238\n",
            "Epoch 7/20\n",
            "48000/48000 [==============================] - 1s 21us/sample - loss: 0.4962 - accuracy: 0.8293 - val_loss: 0.4963 - val_accuracy: 0.8245\n",
            "Epoch 8/20\n",
            "48000/48000 [==============================] - 1s 21us/sample - loss: 0.4841 - accuracy: 0.8330 - val_loss: 0.4846 - val_accuracy: 0.8289\n",
            "Epoch 9/20\n",
            "48000/48000 [==============================] - 1s 20us/sample - loss: 0.4737 - accuracy: 0.8357 - val_loss: 0.4750 - val_accuracy: 0.8332\n",
            "Epoch 10/20\n",
            "48000/48000 [==============================] - 1s 21us/sample - loss: 0.4655 - accuracy: 0.8372 - val_loss: 0.4692 - val_accuracy: 0.8333\n",
            "Epoch 11/20\n",
            "48000/48000 [==============================] - 1s 20us/sample - loss: 0.4577 - accuracy: 0.8406 - val_loss: 0.4621 - val_accuracy: 0.8367\n",
            "Epoch 12/20\n",
            "48000/48000 [==============================] - 1s 20us/sample - loss: 0.4514 - accuracy: 0.8420 - val_loss: 0.4565 - val_accuracy: 0.8382\n",
            "Epoch 13/20\n",
            "48000/48000 [==============================] - 1s 20us/sample - loss: 0.4460 - accuracy: 0.8439 - val_loss: 0.4507 - val_accuracy: 0.8399\n",
            "Epoch 14/20\n",
            "48000/48000 [==============================] - 1s 20us/sample - loss: 0.4403 - accuracy: 0.8457 - val_loss: 0.4469 - val_accuracy: 0.8409\n",
            "Epoch 15/20\n",
            "48000/48000 [==============================] - 1s 21us/sample - loss: 0.4360 - accuracy: 0.8471 - val_loss: 0.4503 - val_accuracy: 0.8373\n",
            "Epoch 16/20\n",
            "48000/48000 [==============================] - 1s 21us/sample - loss: 0.4314 - accuracy: 0.8488 - val_loss: 0.4421 - val_accuracy: 0.8426\n",
            "Epoch 17/20\n",
            "48000/48000 [==============================] - 1s 21us/sample - loss: 0.4276 - accuracy: 0.8503 - val_loss: 0.4413 - val_accuracy: 0.8413\n",
            "Epoch 18/20\n",
            "48000/48000 [==============================] - 1s 21us/sample - loss: 0.4234 - accuracy: 0.8525 - val_loss: 0.4389 - val_accuracy: 0.8428\n",
            "Epoch 19/20\n",
            "48000/48000 [==============================] - 1s 24us/sample - loss: 0.4202 - accuracy: 0.8524 - val_loss: 0.4360 - val_accuracy: 0.8462\n",
            "Epoch 20/20\n",
            "48000/48000 [==============================] - 1s 23us/sample - loss: 0.4173 - accuracy: 0.8541 - val_loss: 0.4278 - val_accuracy: 0.8478\n"
          ],
          "name": "stdout"
        },
        {
          "output_type": "display_data",
          "data": {
            "text/html": [
              "<span style=\"color:#4527A0\"><h1 style=\"font-size:18px\">Trial complete</h1></span>"
            ],
            "text/plain": [
              "<IPython.core.display.HTML object>"
            ]
          },
          "metadata": {
            "tags": []
          }
        },
        {
          "output_type": "display_data",
          "data": {
            "text/html": [
              "<span style=\"color:#4527A0\"><h1 style=\"font-size:18px\">Trial summary</h1></span>"
            ],
            "text/plain": [
              "<IPython.core.display.HTML object>"
            ]
          },
          "metadata": {
            "tags": []
          }
        },
        {
          "output_type": "display_data",
          "data": {
            "text/html": [
              "<span style=\"color:cyan\"> |-Trial ID: 56562ba80cd57a944cb72d41007d8685</span>"
            ],
            "text/plain": [
              "<IPython.core.display.HTML object>"
            ]
          },
          "metadata": {
            "tags": []
          }
        },
        {
          "output_type": "display_data",
          "data": {
            "text/html": [
              "<span style=\"color:cyan\"> |-Score: 0.8477500081062317</span>"
            ],
            "text/plain": [
              "<IPython.core.display.HTML object>"
            ]
          },
          "metadata": {
            "tags": []
          }
        },
        {
          "output_type": "display_data",
          "data": {
            "text/html": [
              "<span style=\"color:cyan\"> |-Best step: 0</span>"
            ],
            "text/plain": [
              "<IPython.core.display.HTML object>"
            ]
          },
          "metadata": {
            "tags": []
          }
        },
        {
          "output_type": "display_data",
          "data": {
            "text/html": [
              "<span style=\"color:#7E57C2\"><h2 style=\"font-size:16px\">Hyperparameters:</h2></span>"
            ],
            "text/plain": [
              "<IPython.core.display.HTML object>"
            ]
          },
          "metadata": {
            "tags": []
          }
        },
        {
          "output_type": "display_data",
          "data": {
            "text/html": [
              "<span style=\"color:cyan\"> |-activation: tanh</span>"
            ],
            "text/plain": [
              "<IPython.core.display.HTML object>"
            ]
          },
          "metadata": {
            "tags": []
          }
        },
        {
          "output_type": "display_data",
          "data": {
            "text/html": [
              "<span style=\"color:blue\"> |-optimizer: SGD</span>"
            ],
            "text/plain": [
              "<IPython.core.display.HTML object>"
            ]
          },
          "metadata": {
            "tags": []
          }
        },
        {
          "output_type": "display_data",
          "data": {
            "text/html": [
              "<span style=\"color:cyan\"> |-units_hidden: 384</span>"
            ],
            "text/plain": [
              "<IPython.core.display.HTML object>"
            ]
          },
          "metadata": {
            "tags": []
          }
        },
        {
          "output_type": "display_data",
          "data": {
            "text/html": [
              "<span style=\"color:blue\"> |-units_input: 864</span>"
            ],
            "text/plain": [
              "<IPython.core.display.HTML object>"
            ]
          },
          "metadata": {
            "tags": []
          }
        },
        {
          "output_type": "stream",
          "text": [
            "Train on 48000 samples, validate on 12000 samples\n",
            "Epoch 1/20\n",
            "48000/48000 [==============================] - 2s 33us/sample - loss: 1.3217 - accuracy: 0.6858 - val_loss: 1.0407 - val_accuracy: 0.7030\n",
            "Epoch 2/20\n",
            "48000/48000 [==============================] - 1s 25us/sample - loss: 0.6259 - accuracy: 0.7846 - val_loss: 0.5383 - val_accuracy: 0.7981\n",
            "Epoch 3/20\n",
            "48000/48000 [==============================] - 1s 28us/sample - loss: 0.4987 - accuracy: 0.8166 - val_loss: 0.4665 - val_accuracy: 0.8331\n",
            "Epoch 4/20\n",
            "48000/48000 [==============================] - 1s 23us/sample - loss: 0.4350 - accuracy: 0.8401 - val_loss: 0.5083 - val_accuracy: 0.8193\n",
            "Epoch 5/20\n",
            "48000/48000 [==============================] - 1s 24us/sample - loss: 0.3917 - accuracy: 0.8528 - val_loss: 0.5513 - val_accuracy: 0.8048\n",
            "Epoch 6/20\n",
            "48000/48000 [==============================] - 1s 24us/sample - loss: 0.3684 - accuracy: 0.8621 - val_loss: 0.4378 - val_accuracy: 0.8407\n",
            "Epoch 7/20\n",
            "48000/48000 [==============================] - 1s 25us/sample - loss: 0.3458 - accuracy: 0.8698 - val_loss: 0.3928 - val_accuracy: 0.8620\n",
            "Epoch 8/20\n",
            "48000/48000 [==============================] - 1s 25us/sample - loss: 0.3249 - accuracy: 0.8775 - val_loss: 0.3515 - val_accuracy: 0.8782\n",
            "Epoch 9/20\n",
            "48000/48000 [==============================] - 1s 26us/sample - loss: 0.3114 - accuracy: 0.8819 - val_loss: 0.4008 - val_accuracy: 0.8625\n",
            "Epoch 10/20\n",
            "48000/48000 [==============================] - 1s 24us/sample - loss: 0.2960 - accuracy: 0.8882 - val_loss: 0.5267 - val_accuracy: 0.8215\n",
            "Epoch 11/20\n",
            "48000/48000 [==============================] - 1s 23us/sample - loss: 0.2855 - accuracy: 0.8918 - val_loss: 0.4093 - val_accuracy: 0.8517\n",
            "Epoch 12/20\n",
            "48000/48000 [==============================] - 1s 24us/sample - loss: 0.2738 - accuracy: 0.8968 - val_loss: 0.4552 - val_accuracy: 0.8494\n",
            "Epoch 13/20\n",
            "48000/48000 [==============================] - 1s 24us/sample - loss: 0.2636 - accuracy: 0.9004 - val_loss: 0.4946 - val_accuracy: 0.8353\n",
            "Epoch 14/20\n",
            "48000/48000 [==============================] - 1s 24us/sample - loss: 0.2522 - accuracy: 0.9055 - val_loss: 0.5405 - val_accuracy: 0.8362\n",
            "Epoch 15/20\n",
            "48000/48000 [==============================] - 1s 23us/sample - loss: 0.2469 - accuracy: 0.9067 - val_loss: 0.4057 - val_accuracy: 0.8677\n",
            "Epoch 16/20\n",
            "48000/48000 [==============================] - 1s 24us/sample - loss: 0.2359 - accuracy: 0.9113 - val_loss: 0.3726 - val_accuracy: 0.8823\n",
            "Epoch 17/20\n",
            "48000/48000 [==============================] - 1s 27us/sample - loss: 0.2309 - accuracy: 0.9110 - val_loss: 0.3621 - val_accuracy: 0.8879\n",
            "Epoch 18/20\n",
            "48000/48000 [==============================] - 1s 24us/sample - loss: 0.2236 - accuracy: 0.9147 - val_loss: 0.4684 - val_accuracy: 0.8640\n",
            "Epoch 19/20\n",
            "48000/48000 [==============================] - 1s 25us/sample - loss: 0.2162 - accuracy: 0.9177 - val_loss: 0.4835 - val_accuracy: 0.8690\n",
            "Epoch 20/20\n",
            "48000/48000 [==============================] - 1s 24us/sample - loss: 0.2101 - accuracy: 0.9209 - val_loss: 0.4113 - val_accuracy: 0.8739\n"
          ],
          "name": "stdout"
        },
        {
          "output_type": "display_data",
          "data": {
            "text/html": [
              "<span style=\"color:#4527A0\"><h1 style=\"font-size:18px\">Trial complete</h1></span>"
            ],
            "text/plain": [
              "<IPython.core.display.HTML object>"
            ]
          },
          "metadata": {
            "tags": []
          }
        },
        {
          "output_type": "display_data",
          "data": {
            "text/html": [
              "<span style=\"color:#4527A0\"><h1 style=\"font-size:18px\">Trial summary</h1></span>"
            ],
            "text/plain": [
              "<IPython.core.display.HTML object>"
            ]
          },
          "metadata": {
            "tags": []
          }
        },
        {
          "output_type": "display_data",
          "data": {
            "text/html": [
              "<span style=\"color:cyan\"> |-Trial ID: b451b2e296c93a8645ac37c18232daa9</span>"
            ],
            "text/plain": [
              "<IPython.core.display.HTML object>"
            ]
          },
          "metadata": {
            "tags": []
          }
        },
        {
          "output_type": "display_data",
          "data": {
            "text/html": [
              "<span style=\"color:cyan\"> |-Score: 0.8879166841506958</span>"
            ],
            "text/plain": [
              "<IPython.core.display.HTML object>"
            ]
          },
          "metadata": {
            "tags": []
          }
        },
        {
          "output_type": "display_data",
          "data": {
            "text/html": [
              "<span style=\"color:cyan\"> |-Best step: 0</span>"
            ],
            "text/plain": [
              "<IPython.core.display.HTML object>"
            ]
          },
          "metadata": {
            "tags": []
          }
        },
        {
          "output_type": "display_data",
          "data": {
            "text/html": [
              "<span style=\"color:#7E57C2\"><h2 style=\"font-size:16px\">Hyperparameters:</h2></span>"
            ],
            "text/plain": [
              "<IPython.core.display.HTML object>"
            ]
          },
          "metadata": {
            "tags": []
          }
        },
        {
          "output_type": "display_data",
          "data": {
            "text/html": [
              "<span style=\"color:cyan\"> |-activation: selu</span>"
            ],
            "text/plain": [
              "<IPython.core.display.HTML object>"
            ]
          },
          "metadata": {
            "tags": []
          }
        },
        {
          "output_type": "display_data",
          "data": {
            "text/html": [
              "<span style=\"color:blue\"> |-optimizer: rmsprop</span>"
            ],
            "text/plain": [
              "<IPython.core.display.HTML object>"
            ]
          },
          "metadata": {
            "tags": []
          }
        },
        {
          "output_type": "display_data",
          "data": {
            "text/html": [
              "<span style=\"color:cyan\"> |-units_hidden: 576</span>"
            ],
            "text/plain": [
              "<IPython.core.display.HTML object>"
            ]
          },
          "metadata": {
            "tags": []
          }
        },
        {
          "output_type": "display_data",
          "data": {
            "text/html": [
              "<span style=\"color:blue\"> |-units_input: 960</span>"
            ],
            "text/plain": [
              "<IPython.core.display.HTML object>"
            ]
          },
          "metadata": {
            "tags": []
          }
        },
        {
          "output_type": "stream",
          "text": [
            "Train on 48000 samples, validate on 12000 samples\n",
            "Epoch 1/20\n",
            "48000/48000 [==============================] - 1s 27us/sample - loss: 1.0517 - accuracy: 0.6769 - val_loss: 0.7419 - val_accuracy: 0.7607\n",
            "Epoch 2/20\n",
            "48000/48000 [==============================] - 1s 21us/sample - loss: 0.6833 - accuracy: 0.7751 - val_loss: 0.6311 - val_accuracy: 0.7872\n",
            "Epoch 3/20\n",
            "48000/48000 [==============================] - 1s 20us/sample - loss: 0.6036 - accuracy: 0.8013 - val_loss: 0.5773 - val_accuracy: 0.8056\n",
            "Epoch 4/20\n",
            "48000/48000 [==============================] - 1s 20us/sample - loss: 0.5608 - accuracy: 0.8142 - val_loss: 0.5503 - val_accuracy: 0.8114\n",
            "Epoch 5/20\n",
            "48000/48000 [==============================] - 1s 20us/sample - loss: 0.5329 - accuracy: 0.8207 - val_loss: 0.5310 - val_accuracy: 0.8184\n",
            "Epoch 6/20\n",
            "48000/48000 [==============================] - 1s 21us/sample - loss: 0.5123 - accuracy: 0.8263 - val_loss: 0.5090 - val_accuracy: 0.8244\n",
            "Epoch 7/20\n",
            "48000/48000 [==============================] - 1s 20us/sample - loss: 0.4974 - accuracy: 0.8310 - val_loss: 0.4998 - val_accuracy: 0.8251\n",
            "Epoch 8/20\n",
            "48000/48000 [==============================] - 1s 21us/sample - loss: 0.4856 - accuracy: 0.8343 - val_loss: 0.4896 - val_accuracy: 0.8282\n",
            "Epoch 9/20\n",
            "48000/48000 [==============================] - 1s 20us/sample - loss: 0.4756 - accuracy: 0.8370 - val_loss: 0.4785 - val_accuracy: 0.8303\n",
            "Epoch 10/20\n",
            "48000/48000 [==============================] - 1s 20us/sample - loss: 0.4669 - accuracy: 0.8395 - val_loss: 0.4761 - val_accuracy: 0.8351\n",
            "Epoch 11/20\n",
            "48000/48000 [==============================] - 1s 19us/sample - loss: 0.4601 - accuracy: 0.8426 - val_loss: 0.4707 - val_accuracy: 0.8309\n",
            "Epoch 12/20\n",
            "48000/48000 [==============================] - 1s 22us/sample - loss: 0.4540 - accuracy: 0.8436 - val_loss: 0.4588 - val_accuracy: 0.8392\n",
            "Epoch 13/20\n",
            "48000/48000 [==============================] - 1s 20us/sample - loss: 0.4488 - accuracy: 0.8453 - val_loss: 0.4745 - val_accuracy: 0.8286\n",
            "Epoch 14/20\n",
            "48000/48000 [==============================] - 1s 21us/sample - loss: 0.4438 - accuracy: 0.8470 - val_loss: 0.4507 - val_accuracy: 0.8395\n",
            "Epoch 15/20\n",
            "48000/48000 [==============================] - 1s 21us/sample - loss: 0.4391 - accuracy: 0.8486 - val_loss: 0.4486 - val_accuracy: 0.8401\n",
            "Epoch 16/20\n",
            "48000/48000 [==============================] - 1s 20us/sample - loss: 0.4351 - accuracy: 0.8496 - val_loss: 0.4527 - val_accuracy: 0.8422\n",
            "Epoch 17/20\n",
            "48000/48000 [==============================] - 1s 21us/sample - loss: 0.4324 - accuracy: 0.8507 - val_loss: 0.4391 - val_accuracy: 0.8458\n",
            "Epoch 18/20\n",
            "48000/48000 [==============================] - 1s 20us/sample - loss: 0.4280 - accuracy: 0.8523 - val_loss: 0.4365 - val_accuracy: 0.8462\n",
            "Epoch 19/20\n",
            "48000/48000 [==============================] - 1s 20us/sample - loss: 0.4251 - accuracy: 0.8525 - val_loss: 0.4392 - val_accuracy: 0.8447\n",
            "Epoch 20/20\n",
            "48000/48000 [==============================] - 1s 20us/sample - loss: 0.4221 - accuracy: 0.8542 - val_loss: 0.4396 - val_accuracy: 0.8450\n"
          ],
          "name": "stdout"
        },
        {
          "output_type": "display_data",
          "data": {
            "text/html": [
              "<span style=\"color:#4527A0\"><h1 style=\"font-size:18px\">Trial complete</h1></span>"
            ],
            "text/plain": [
              "<IPython.core.display.HTML object>"
            ]
          },
          "metadata": {
            "tags": []
          }
        },
        {
          "output_type": "display_data",
          "data": {
            "text/html": [
              "<span style=\"color:#4527A0\"><h1 style=\"font-size:18px\">Trial summary</h1></span>"
            ],
            "text/plain": [
              "<IPython.core.display.HTML object>"
            ]
          },
          "metadata": {
            "tags": []
          }
        },
        {
          "output_type": "display_data",
          "data": {
            "text/html": [
              "<span style=\"color:cyan\"> |-Trial ID: 2c16e5d3526e5b01861996dfdacf55e7</span>"
            ],
            "text/plain": [
              "<IPython.core.display.HTML object>"
            ]
          },
          "metadata": {
            "tags": []
          }
        },
        {
          "output_type": "display_data",
          "data": {
            "text/html": [
              "<span style=\"color:cyan\"> |-Score: 0.8462499976158142</span>"
            ],
            "text/plain": [
              "<IPython.core.display.HTML object>"
            ]
          },
          "metadata": {
            "tags": []
          }
        },
        {
          "output_type": "display_data",
          "data": {
            "text/html": [
              "<span style=\"color:cyan\"> |-Best step: 0</span>"
            ],
            "text/plain": [
              "<IPython.core.display.HTML object>"
            ]
          },
          "metadata": {
            "tags": []
          }
        },
        {
          "output_type": "display_data",
          "data": {
            "text/html": [
              "<span style=\"color:#7E57C2\"><h2 style=\"font-size:16px\">Hyperparameters:</h2></span>"
            ],
            "text/plain": [
              "<IPython.core.display.HTML object>"
            ]
          },
          "metadata": {
            "tags": []
          }
        },
        {
          "output_type": "display_data",
          "data": {
            "text/html": [
              "<span style=\"color:cyan\"> |-activation: elu</span>"
            ],
            "text/plain": [
              "<IPython.core.display.HTML object>"
            ]
          },
          "metadata": {
            "tags": []
          }
        },
        {
          "output_type": "display_data",
          "data": {
            "text/html": [
              "<span style=\"color:blue\"> |-optimizer: SGD</span>"
            ],
            "text/plain": [
              "<IPython.core.display.HTML object>"
            ]
          },
          "metadata": {
            "tags": []
          }
        },
        {
          "output_type": "display_data",
          "data": {
            "text/html": [
              "<span style=\"color:cyan\"> |-units_hidden: 384</span>"
            ],
            "text/plain": [
              "<IPython.core.display.HTML object>"
            ]
          },
          "metadata": {
            "tags": []
          }
        },
        {
          "output_type": "display_data",
          "data": {
            "text/html": [
              "<span style=\"color:blue\"> |-units_input: 736</span>"
            ],
            "text/plain": [
              "<IPython.core.display.HTML object>"
            ]
          },
          "metadata": {
            "tags": []
          }
        },
        {
          "output_type": "stream",
          "text": [
            "Train on 48000 samples, validate on 12000 samples\n",
            "Epoch 1/20\n",
            "48000/48000 [==============================] - 1s 27us/sample - loss: 0.6189 - accuracy: 0.7958 - val_loss: 0.4978 - val_accuracy: 0.8122\n",
            "Epoch 2/20\n",
            "48000/48000 [==============================] - 1s 21us/sample - loss: 0.4125 - accuracy: 0.8515 - val_loss: 0.4081 - val_accuracy: 0.8533\n",
            "Epoch 3/20\n",
            "48000/48000 [==============================] - 1s 21us/sample - loss: 0.3669 - accuracy: 0.8686 - val_loss: 0.3640 - val_accuracy: 0.8698\n",
            "Epoch 4/20\n",
            "48000/48000 [==============================] - 1s 20us/sample - loss: 0.3422 - accuracy: 0.8756 - val_loss: 0.3845 - val_accuracy: 0.8592\n",
            "Epoch 5/20\n",
            "48000/48000 [==============================] - 1s 20us/sample - loss: 0.3212 - accuracy: 0.8814 - val_loss: 0.3647 - val_accuracy: 0.8649\n",
            "Epoch 6/20\n",
            "48000/48000 [==============================] - 1s 21us/sample - loss: 0.3068 - accuracy: 0.8865 - val_loss: 0.3629 - val_accuracy: 0.8735\n",
            "Epoch 7/20\n",
            "48000/48000 [==============================] - 1s 21us/sample - loss: 0.2929 - accuracy: 0.8918 - val_loss: 0.3372 - val_accuracy: 0.8777\n",
            "Epoch 8/20\n",
            "48000/48000 [==============================] - 1s 21us/sample - loss: 0.2791 - accuracy: 0.8965 - val_loss: 0.3398 - val_accuracy: 0.8785\n",
            "Epoch 9/20\n",
            "48000/48000 [==============================] - 1s 21us/sample - loss: 0.2732 - accuracy: 0.8985 - val_loss: 0.3533 - val_accuracy: 0.8717\n",
            "Epoch 10/20\n",
            "48000/48000 [==============================] - 1s 21us/sample - loss: 0.2610 - accuracy: 0.9029 - val_loss: 0.3190 - val_accuracy: 0.8873\n",
            "Epoch 11/20\n",
            "48000/48000 [==============================] - 1s 20us/sample - loss: 0.2488 - accuracy: 0.9083 - val_loss: 0.3280 - val_accuracy: 0.8850\n",
            "Epoch 12/20\n",
            "48000/48000 [==============================] - 1s 20us/sample - loss: 0.2395 - accuracy: 0.9115 - val_loss: 0.3300 - val_accuracy: 0.8790\n",
            "Epoch 13/20\n",
            "48000/48000 [==============================] - 1s 23us/sample - loss: 0.2314 - accuracy: 0.9144 - val_loss: 0.3132 - val_accuracy: 0.8903\n",
            "Epoch 14/20\n",
            "48000/48000 [==============================] - 1s 23us/sample - loss: 0.2225 - accuracy: 0.9180 - val_loss: 0.3624 - val_accuracy: 0.8755\n",
            "Epoch 15/20\n",
            "48000/48000 [==============================] - 1s 24us/sample - loss: 0.2165 - accuracy: 0.9190 - val_loss: 0.3512 - val_accuracy: 0.8777\n",
            "Epoch 16/20\n",
            "48000/48000 [==============================] - 1s 20us/sample - loss: 0.2139 - accuracy: 0.9204 - val_loss: 0.3356 - val_accuracy: 0.8876\n",
            "Epoch 17/20\n",
            "48000/48000 [==============================] - 1s 21us/sample - loss: 0.2094 - accuracy: 0.9227 - val_loss: 0.3178 - val_accuracy: 0.8926\n",
            "Epoch 18/20\n",
            "48000/48000 [==============================] - 1s 22us/sample - loss: 0.2008 - accuracy: 0.9249 - val_loss: 0.3342 - val_accuracy: 0.8868\n",
            "Epoch 19/20\n",
            "48000/48000 [==============================] - 1s 21us/sample - loss: 0.1945 - accuracy: 0.9277 - val_loss: 0.3358 - val_accuracy: 0.8870\n",
            "Epoch 20/20\n",
            "48000/48000 [==============================] - 1s 21us/sample - loss: 0.1894 - accuracy: 0.9297 - val_loss: 0.3200 - val_accuracy: 0.8933\n"
          ],
          "name": "stdout"
        },
        {
          "output_type": "display_data",
          "data": {
            "text/html": [
              "<span style=\"color:#4527A0\"><h1 style=\"font-size:18px\">Trial complete</h1></span>"
            ],
            "text/plain": [
              "<IPython.core.display.HTML object>"
            ]
          },
          "metadata": {
            "tags": []
          }
        },
        {
          "output_type": "display_data",
          "data": {
            "text/html": [
              "<span style=\"color:#4527A0\"><h1 style=\"font-size:18px\">Trial summary</h1></span>"
            ],
            "text/plain": [
              "<IPython.core.display.HTML object>"
            ]
          },
          "metadata": {
            "tags": []
          }
        },
        {
          "output_type": "display_data",
          "data": {
            "text/html": [
              "<span style=\"color:cyan\"> |-Trial ID: f7b9b05016979c124110de898d1c7086</span>"
            ],
            "text/plain": [
              "<IPython.core.display.HTML object>"
            ]
          },
          "metadata": {
            "tags": []
          }
        },
        {
          "output_type": "display_data",
          "data": {
            "text/html": [
              "<span style=\"color:cyan\"> |-Score: 0.8933333158493042</span>"
            ],
            "text/plain": [
              "<IPython.core.display.HTML object>"
            ]
          },
          "metadata": {
            "tags": []
          }
        },
        {
          "output_type": "display_data",
          "data": {
            "text/html": [
              "<span style=\"color:cyan\"> |-Best step: 0</span>"
            ],
            "text/plain": [
              "<IPython.core.display.HTML object>"
            ]
          },
          "metadata": {
            "tags": []
          }
        },
        {
          "output_type": "display_data",
          "data": {
            "text/html": [
              "<span style=\"color:#7E57C2\"><h2 style=\"font-size:16px\">Hyperparameters:</h2></span>"
            ],
            "text/plain": [
              "<IPython.core.display.HTML object>"
            ]
          },
          "metadata": {
            "tags": []
          }
        },
        {
          "output_type": "display_data",
          "data": {
            "text/html": [
              "<span style=\"color:cyan\"> |-activation: selu</span>"
            ],
            "text/plain": [
              "<IPython.core.display.HTML object>"
            ]
          },
          "metadata": {
            "tags": []
          }
        },
        {
          "output_type": "display_data",
          "data": {
            "text/html": [
              "<span style=\"color:blue\"> |-optimizer: adam</span>"
            ],
            "text/plain": [
              "<IPython.core.display.HTML object>"
            ]
          },
          "metadata": {
            "tags": []
          }
        },
        {
          "output_type": "display_data",
          "data": {
            "text/html": [
              "<span style=\"color:cyan\"> |-units_hidden: 224</span>"
            ],
            "text/plain": [
              "<IPython.core.display.HTML object>"
            ]
          },
          "metadata": {
            "tags": []
          }
        },
        {
          "output_type": "display_data",
          "data": {
            "text/html": [
              "<span style=\"color:blue\"> |-units_input: 736</span>"
            ],
            "text/plain": [
              "<IPython.core.display.HTML object>"
            ]
          },
          "metadata": {
            "tags": []
          }
        },
        {
          "output_type": "stream",
          "text": [
            "Train on 48000 samples, validate on 12000 samples\n",
            "Epoch 1/20\n",
            "48000/48000 [==============================] - 1s 29us/sample - loss: 0.5444 - accuracy: 0.8074 - val_loss: 0.4426 - val_accuracy: 0.8445\n",
            "Epoch 2/20\n",
            "48000/48000 [==============================] - 1s 23us/sample - loss: 0.3935 - accuracy: 0.8574 - val_loss: 0.3901 - val_accuracy: 0.8553\n",
            "Epoch 3/20\n",
            "48000/48000 [==============================] - 1s 22us/sample - loss: 0.3622 - accuracy: 0.8678 - val_loss: 0.4015 - val_accuracy: 0.8486\n",
            "Epoch 4/20\n",
            "48000/48000 [==============================] - 1s 23us/sample - loss: 0.3303 - accuracy: 0.8780 - val_loss: 0.3596 - val_accuracy: 0.8684\n",
            "Epoch 5/20\n",
            "48000/48000 [==============================] - 1s 22us/sample - loss: 0.3069 - accuracy: 0.8870 - val_loss: 0.3271 - val_accuracy: 0.8798\n",
            "Epoch 6/20\n",
            "48000/48000 [==============================] - 1s 23us/sample - loss: 0.2898 - accuracy: 0.8938 - val_loss: 0.3365 - val_accuracy: 0.8766\n",
            "Epoch 7/20\n",
            "48000/48000 [==============================] - 1s 23us/sample - loss: 0.2765 - accuracy: 0.8980 - val_loss: 0.3287 - val_accuracy: 0.8792\n",
            "Epoch 8/20\n",
            "48000/48000 [==============================] - 1s 21us/sample - loss: 0.2648 - accuracy: 0.9006 - val_loss: 0.3338 - val_accuracy: 0.8783\n",
            "Epoch 9/20\n",
            "48000/48000 [==============================] - 1s 21us/sample - loss: 0.2502 - accuracy: 0.9064 - val_loss: 0.3672 - val_accuracy: 0.8648\n",
            "Epoch 10/20\n",
            "48000/48000 [==============================] - 1s 22us/sample - loss: 0.2337 - accuracy: 0.9129 - val_loss: 0.3126 - val_accuracy: 0.8880\n",
            "Epoch 11/20\n",
            "48000/48000 [==============================] - 1s 22us/sample - loss: 0.2214 - accuracy: 0.9168 - val_loss: 0.3134 - val_accuracy: 0.8888\n",
            "Epoch 12/20\n",
            "48000/48000 [==============================] - 1s 21us/sample - loss: 0.2119 - accuracy: 0.9219 - val_loss: 0.3373 - val_accuracy: 0.8809\n",
            "Epoch 13/20\n",
            "48000/48000 [==============================] - 1s 24us/sample - loss: 0.2058 - accuracy: 0.9231 - val_loss: 0.3174 - val_accuracy: 0.8891\n",
            "Epoch 14/20\n",
            "48000/48000 [==============================] - 1s 21us/sample - loss: 0.1945 - accuracy: 0.9276 - val_loss: 0.3278 - val_accuracy: 0.8833\n",
            "Epoch 15/20\n",
            "48000/48000 [==============================] - 1s 21us/sample - loss: 0.1849 - accuracy: 0.9311 - val_loss: 0.3035 - val_accuracy: 0.8957\n",
            "Epoch 16/20\n",
            "48000/48000 [==============================] - 1s 22us/sample - loss: 0.1790 - accuracy: 0.9328 - val_loss: 0.2957 - val_accuracy: 0.8954\n",
            "Epoch 17/20\n",
            "48000/48000 [==============================] - 1s 21us/sample - loss: 0.1684 - accuracy: 0.9379 - val_loss: 0.3142 - val_accuracy: 0.8941\n",
            "Epoch 18/20\n",
            "48000/48000 [==============================] - 1s 23us/sample - loss: 0.1585 - accuracy: 0.9409 - val_loss: 0.2986 - val_accuracy: 0.8991\n",
            "Epoch 19/20\n",
            "48000/48000 [==============================] - 1s 22us/sample - loss: 0.1553 - accuracy: 0.9433 - val_loss: 0.3053 - val_accuracy: 0.8965\n",
            "Epoch 20/20\n",
            "48000/48000 [==============================] - 1s 21us/sample - loss: 0.1435 - accuracy: 0.9473 - val_loss: 0.3086 - val_accuracy: 0.8974\n"
          ],
          "name": "stdout"
        },
        {
          "output_type": "display_data",
          "data": {
            "text/html": [
              "<span style=\"color:#4527A0\"><h1 style=\"font-size:18px\">Trial complete</h1></span>"
            ],
            "text/plain": [
              "<IPython.core.display.HTML object>"
            ]
          },
          "metadata": {
            "tags": []
          }
        },
        {
          "output_type": "display_data",
          "data": {
            "text/html": [
              "<span style=\"color:#4527A0\"><h1 style=\"font-size:18px\">Trial summary</h1></span>"
            ],
            "text/plain": [
              "<IPython.core.display.HTML object>"
            ]
          },
          "metadata": {
            "tags": []
          }
        },
        {
          "output_type": "display_data",
          "data": {
            "text/html": [
              "<span style=\"color:cyan\"> |-Trial ID: bde66181cd6da3ed4dc75d8059e2e6f9</span>"
            ],
            "text/plain": [
              "<IPython.core.display.HTML object>"
            ]
          },
          "metadata": {
            "tags": []
          }
        },
        {
          "output_type": "display_data",
          "data": {
            "text/html": [
              "<span style=\"color:cyan\"> |-Score: 0.8990833163261414</span>"
            ],
            "text/plain": [
              "<IPython.core.display.HTML object>"
            ]
          },
          "metadata": {
            "tags": []
          }
        },
        {
          "output_type": "display_data",
          "data": {
            "text/html": [
              "<span style=\"color:cyan\"> |-Best step: 0</span>"
            ],
            "text/plain": [
              "<IPython.core.display.HTML object>"
            ]
          },
          "metadata": {
            "tags": []
          }
        },
        {
          "output_type": "display_data",
          "data": {
            "text/html": [
              "<span style=\"color:#7E57C2\"><h2 style=\"font-size:16px\">Hyperparameters:</h2></span>"
            ],
            "text/plain": [
              "<IPython.core.display.HTML object>"
            ]
          },
          "metadata": {
            "tags": []
          }
        },
        {
          "output_type": "display_data",
          "data": {
            "text/html": [
              "<span style=\"color:cyan\"> |-activation: tanh</span>"
            ],
            "text/plain": [
              "<IPython.core.display.HTML object>"
            ]
          },
          "metadata": {
            "tags": []
          }
        },
        {
          "output_type": "display_data",
          "data": {
            "text/html": [
              "<span style=\"color:blue\"> |-optimizer: adam</span>"
            ],
            "text/plain": [
              "<IPython.core.display.HTML object>"
            ]
          },
          "metadata": {
            "tags": []
          }
        },
        {
          "output_type": "display_data",
          "data": {
            "text/html": [
              "<span style=\"color:cyan\"> |-units_hidden: 544</span>"
            ],
            "text/plain": [
              "<IPython.core.display.HTML object>"
            ]
          },
          "metadata": {
            "tags": []
          }
        },
        {
          "output_type": "display_data",
          "data": {
            "text/html": [
              "<span style=\"color:blue\"> |-units_input: 608</span>"
            ],
            "text/plain": [
              "<IPython.core.display.HTML object>"
            ]
          },
          "metadata": {
            "tags": []
          }
        },
        {
          "output_type": "stream",
          "text": [
            "Train on 48000 samples, validate on 12000 samples\n",
            "Epoch 1/20\n",
            "48000/48000 [==============================] - 1s 31us/sample - loss: 0.8831 - accuracy: 0.7235 - val_loss: 0.6380 - val_accuracy: 0.7688\n",
            "Epoch 2/20\n",
            "48000/48000 [==============================] - 1s 22us/sample - loss: 0.4918 - accuracy: 0.8160 - val_loss: 0.4116 - val_accuracy: 0.8498\n",
            "Epoch 3/20\n",
            "48000/48000 [==============================] - 1s 22us/sample - loss: 0.4233 - accuracy: 0.8433 - val_loss: 0.5123 - val_accuracy: 0.7980\n",
            "Epoch 4/20\n",
            "48000/48000 [==============================] - 1s 22us/sample - loss: 0.3829 - accuracy: 0.8562 - val_loss: 0.4997 - val_accuracy: 0.8307\n",
            "Epoch 5/20\n",
            "48000/48000 [==============================] - 1s 23us/sample - loss: 0.3540 - accuracy: 0.8672 - val_loss: 0.3907 - val_accuracy: 0.8617\n",
            "Epoch 6/20\n",
            "48000/48000 [==============================] - 1s 21us/sample - loss: 0.3383 - accuracy: 0.8716 - val_loss: 0.4429 - val_accuracy: 0.8398\n",
            "Epoch 7/20\n",
            "48000/48000 [==============================] - 1s 21us/sample - loss: 0.3164 - accuracy: 0.8808 - val_loss: 0.3935 - val_accuracy: 0.8597\n",
            "Epoch 8/20\n",
            "48000/48000 [==============================] - 1s 23us/sample - loss: 0.3067 - accuracy: 0.8829 - val_loss: 0.3675 - val_accuracy: 0.8692\n",
            "Epoch 9/20\n",
            "48000/48000 [==============================] - 1s 22us/sample - loss: 0.2907 - accuracy: 0.8900 - val_loss: 0.4260 - val_accuracy: 0.8313\n",
            "Epoch 10/20\n",
            "48000/48000 [==============================] - 1s 21us/sample - loss: 0.2809 - accuracy: 0.8940 - val_loss: 0.4778 - val_accuracy: 0.8429\n",
            "Epoch 11/20\n",
            "48000/48000 [==============================] - 1s 22us/sample - loss: 0.2702 - accuracy: 0.8979 - val_loss: 0.4257 - val_accuracy: 0.8435\n",
            "Epoch 12/20\n",
            "48000/48000 [==============================] - 1s 22us/sample - loss: 0.2632 - accuracy: 0.8998 - val_loss: 0.3744 - val_accuracy: 0.8714\n",
            "Epoch 13/20\n",
            "48000/48000 [==============================] - 1s 22us/sample - loss: 0.2545 - accuracy: 0.9039 - val_loss: 0.3989 - val_accuracy: 0.8643\n",
            "Epoch 14/20\n",
            "48000/48000 [==============================] - 1s 22us/sample - loss: 0.2483 - accuracy: 0.9057 - val_loss: 0.4114 - val_accuracy: 0.8606\n",
            "Epoch 15/20\n",
            "48000/48000 [==============================] - 1s 22us/sample - loss: 0.2398 - accuracy: 0.9087 - val_loss: 0.3707 - val_accuracy: 0.8743\n",
            "Epoch 16/20\n",
            "48000/48000 [==============================] - 1s 23us/sample - loss: 0.2337 - accuracy: 0.9109 - val_loss: 0.3886 - val_accuracy: 0.8744\n",
            "Epoch 17/20\n",
            "48000/48000 [==============================] - 1s 21us/sample - loss: 0.2259 - accuracy: 0.9144 - val_loss: 0.4403 - val_accuracy: 0.8597\n",
            "Epoch 18/20\n",
            "48000/48000 [==============================] - 1s 23us/sample - loss: 0.2205 - accuracy: 0.9157 - val_loss: 0.3670 - val_accuracy: 0.8760\n",
            "Epoch 19/20\n",
            "48000/48000 [==============================] - 1s 22us/sample - loss: 0.2124 - accuracy: 0.9182 - val_loss: 0.3930 - val_accuracy: 0.8767\n",
            "Epoch 20/20\n",
            "48000/48000 [==============================] - 1s 23us/sample - loss: 0.2101 - accuracy: 0.9199 - val_loss: 0.3539 - val_accuracy: 0.8815\n"
          ],
          "name": "stdout"
        },
        {
          "output_type": "display_data",
          "data": {
            "text/html": [
              "<span style=\"color:#4527A0\"><h1 style=\"font-size:18px\">Trial complete</h1></span>"
            ],
            "text/plain": [
              "<IPython.core.display.HTML object>"
            ]
          },
          "metadata": {
            "tags": []
          }
        },
        {
          "output_type": "display_data",
          "data": {
            "text/html": [
              "<span style=\"color:#4527A0\"><h1 style=\"font-size:18px\">Trial summary</h1></span>"
            ],
            "text/plain": [
              "<IPython.core.display.HTML object>"
            ]
          },
          "metadata": {
            "tags": []
          }
        },
        {
          "output_type": "display_data",
          "data": {
            "text/html": [
              "<span style=\"color:cyan\"> |-Trial ID: 8b737b06230789ef2603c948889246f0</span>"
            ],
            "text/plain": [
              "<IPython.core.display.HTML object>"
            ]
          },
          "metadata": {
            "tags": []
          }
        },
        {
          "output_type": "display_data",
          "data": {
            "text/html": [
              "<span style=\"color:cyan\"> |-Score: 0.8815000057220459</span>"
            ],
            "text/plain": [
              "<IPython.core.display.HTML object>"
            ]
          },
          "metadata": {
            "tags": []
          }
        },
        {
          "output_type": "display_data",
          "data": {
            "text/html": [
              "<span style=\"color:cyan\"> |-Best step: 0</span>"
            ],
            "text/plain": [
              "<IPython.core.display.HTML object>"
            ]
          },
          "metadata": {
            "tags": []
          }
        },
        {
          "output_type": "display_data",
          "data": {
            "text/html": [
              "<span style=\"color:#7E57C2\"><h2 style=\"font-size:16px\">Hyperparameters:</h2></span>"
            ],
            "text/plain": [
              "<IPython.core.display.HTML object>"
            ]
          },
          "metadata": {
            "tags": []
          }
        },
        {
          "output_type": "display_data",
          "data": {
            "text/html": [
              "<span style=\"color:cyan\"> |-activation: selu</span>"
            ],
            "text/plain": [
              "<IPython.core.display.HTML object>"
            ]
          },
          "metadata": {
            "tags": []
          }
        },
        {
          "output_type": "display_data",
          "data": {
            "text/html": [
              "<span style=\"color:blue\"> |-optimizer: rmsprop</span>"
            ],
            "text/plain": [
              "<IPython.core.display.HTML object>"
            ]
          },
          "metadata": {
            "tags": []
          }
        },
        {
          "output_type": "display_data",
          "data": {
            "text/html": [
              "<span style=\"color:cyan\"> |-units_hidden: 128</span>"
            ],
            "text/plain": [
              "<IPython.core.display.HTML object>"
            ]
          },
          "metadata": {
            "tags": []
          }
        },
        {
          "output_type": "display_data",
          "data": {
            "text/html": [
              "<span style=\"color:blue\"> |-units_input: 928</span>"
            ],
            "text/plain": [
              "<IPython.core.display.HTML object>"
            ]
          },
          "metadata": {
            "tags": []
          }
        },
        {
          "output_type": "stream",
          "text": [
            "Train on 48000 samples, validate on 12000 samples\n",
            "Epoch 1/20\n",
            "48000/48000 [==============================] - 1s 27us/sample - loss: 0.5548 - accuracy: 0.8048 - val_loss: 0.4138 - val_accuracy: 0.8518\n",
            "Epoch 2/20\n",
            "48000/48000 [==============================] - 1s 20us/sample - loss: 0.3847 - accuracy: 0.8617 - val_loss: 0.3885 - val_accuracy: 0.8625\n",
            "Epoch 3/20\n",
            "48000/48000 [==============================] - 1s 20us/sample - loss: 0.3411 - accuracy: 0.8774 - val_loss: 0.3686 - val_accuracy: 0.8658\n",
            "Epoch 4/20\n",
            "48000/48000 [==============================] - 1s 20us/sample - loss: 0.3104 - accuracy: 0.8863 - val_loss: 0.3469 - val_accuracy: 0.8748\n",
            "Epoch 5/20\n",
            "48000/48000 [==============================] - 1s 21us/sample - loss: 0.2897 - accuracy: 0.8930 - val_loss: 0.3332 - val_accuracy: 0.8779\n",
            "Epoch 6/20\n",
            "48000/48000 [==============================] - 1s 21us/sample - loss: 0.2756 - accuracy: 0.8979 - val_loss: 0.3238 - val_accuracy: 0.8838\n",
            "Epoch 7/20\n",
            "48000/48000 [==============================] - 1s 20us/sample - loss: 0.2590 - accuracy: 0.9049 - val_loss: 0.3230 - val_accuracy: 0.8813\n",
            "Epoch 8/20\n",
            "48000/48000 [==============================] - 1s 21us/sample - loss: 0.2479 - accuracy: 0.9082 - val_loss: 0.3119 - val_accuracy: 0.8909\n",
            "Epoch 9/20\n",
            "48000/48000 [==============================] - 1s 24us/sample - loss: 0.2373 - accuracy: 0.9119 - val_loss: 0.3107 - val_accuracy: 0.8878\n",
            "Epoch 10/20\n",
            "48000/48000 [==============================] - 1s 23us/sample - loss: 0.2306 - accuracy: 0.9135 - val_loss: 0.3035 - val_accuracy: 0.8910\n",
            "Epoch 11/20\n",
            "48000/48000 [==============================] - 1s 21us/sample - loss: 0.2160 - accuracy: 0.9195 - val_loss: 0.3055 - val_accuracy: 0.8927\n",
            "Epoch 12/20\n",
            "48000/48000 [==============================] - 1s 20us/sample - loss: 0.2092 - accuracy: 0.9215 - val_loss: 0.3237 - val_accuracy: 0.8896\n",
            "Epoch 13/20\n",
            "48000/48000 [==============================] - 1s 20us/sample - loss: 0.2019 - accuracy: 0.9247 - val_loss: 0.3022 - val_accuracy: 0.8935\n",
            "Epoch 14/20\n",
            "48000/48000 [==============================] - 1s 22us/sample - loss: 0.1923 - accuracy: 0.9276 - val_loss: 0.3304 - val_accuracy: 0.8873\n",
            "Epoch 15/20\n",
            "48000/48000 [==============================] - 1s 19us/sample - loss: 0.1840 - accuracy: 0.9314 - val_loss: 0.3363 - val_accuracy: 0.8867\n",
            "Epoch 16/20\n",
            "48000/48000 [==============================] - 1s 20us/sample - loss: 0.1744 - accuracy: 0.9344 - val_loss: 0.3328 - val_accuracy: 0.8869\n",
            "Epoch 17/20\n",
            "48000/48000 [==============================] - 1s 20us/sample - loss: 0.1764 - accuracy: 0.9342 - val_loss: 0.3240 - val_accuracy: 0.8938\n",
            "Epoch 18/20\n",
            "48000/48000 [==============================] - 1s 19us/sample - loss: 0.1640 - accuracy: 0.9384 - val_loss: 0.3313 - val_accuracy: 0.8938\n",
            "Epoch 19/20\n",
            "48000/48000 [==============================] - 1s 19us/sample - loss: 0.1637 - accuracy: 0.9372 - val_loss: 0.3313 - val_accuracy: 0.8927\n",
            "Epoch 20/20\n",
            "48000/48000 [==============================] - 1s 19us/sample - loss: 0.1546 - accuracy: 0.9416 - val_loss: 0.3404 - val_accuracy: 0.8920\n"
          ],
          "name": "stdout"
        },
        {
          "output_type": "display_data",
          "data": {
            "text/html": [
              "<span style=\"color:#4527A0\"><h1 style=\"font-size:18px\">Trial complete</h1></span>"
            ],
            "text/plain": [
              "<IPython.core.display.HTML object>"
            ]
          },
          "metadata": {
            "tags": []
          }
        },
        {
          "output_type": "display_data",
          "data": {
            "text/html": [
              "<span style=\"color:#4527A0\"><h1 style=\"font-size:18px\">Trial summary</h1></span>"
            ],
            "text/plain": [
              "<IPython.core.display.HTML object>"
            ]
          },
          "metadata": {
            "tags": []
          }
        },
        {
          "output_type": "display_data",
          "data": {
            "text/html": [
              "<span style=\"color:cyan\"> |-Trial ID: 9d0442f83c9eabae1977abc791596619</span>"
            ],
            "text/plain": [
              "<IPython.core.display.HTML object>"
            ]
          },
          "metadata": {
            "tags": []
          }
        },
        {
          "output_type": "display_data",
          "data": {
            "text/html": [
              "<span style=\"color:cyan\"> |-Score: 0.893833339214325</span>"
            ],
            "text/plain": [
              "<IPython.core.display.HTML object>"
            ]
          },
          "metadata": {
            "tags": []
          }
        },
        {
          "output_type": "display_data",
          "data": {
            "text/html": [
              "<span style=\"color:cyan\"> |-Best step: 0</span>"
            ],
            "text/plain": [
              "<IPython.core.display.HTML object>"
            ]
          },
          "metadata": {
            "tags": []
          }
        },
        {
          "output_type": "display_data",
          "data": {
            "text/html": [
              "<span style=\"color:#7E57C2\"><h2 style=\"font-size:16px\">Hyperparameters:</h2></span>"
            ],
            "text/plain": [
              "<IPython.core.display.HTML object>"
            ]
          },
          "metadata": {
            "tags": []
          }
        },
        {
          "output_type": "display_data",
          "data": {
            "text/html": [
              "<span style=\"color:cyan\"> |-activation: relu</span>"
            ],
            "text/plain": [
              "<IPython.core.display.HTML object>"
            ]
          },
          "metadata": {
            "tags": []
          }
        },
        {
          "output_type": "display_data",
          "data": {
            "text/html": [
              "<span style=\"color:blue\"> |-optimizer: adam</span>"
            ],
            "text/plain": [
              "<IPython.core.display.HTML object>"
            ]
          },
          "metadata": {
            "tags": []
          }
        },
        {
          "output_type": "display_data",
          "data": {
            "text/html": [
              "<span style=\"color:cyan\"> |-units_hidden: 192</span>"
            ],
            "text/plain": [
              "<IPython.core.display.HTML object>"
            ]
          },
          "metadata": {
            "tags": []
          }
        },
        {
          "output_type": "display_data",
          "data": {
            "text/html": [
              "<span style=\"color:blue\"> |-units_input: 512</span>"
            ],
            "text/plain": [
              "<IPython.core.display.HTML object>"
            ]
          },
          "metadata": {
            "tags": []
          }
        },
        {
          "output_type": "stream",
          "text": [
            "Train on 48000 samples, validate on 12000 samples\n",
            "Epoch 1/20\n",
            "48000/48000 [==============================] - 1s 28us/sample - loss: 0.5315 - accuracy: 0.8080 - val_loss: 0.4272 - val_accuracy: 0.8430\n",
            "Epoch 2/20\n",
            "48000/48000 [==============================] - 1s 21us/sample - loss: 0.3888 - accuracy: 0.8590 - val_loss: 0.3754 - val_accuracy: 0.8636\n",
            "Epoch 3/20\n",
            "48000/48000 [==============================] - 1s 21us/sample - loss: 0.3463 - accuracy: 0.8740 - val_loss: 0.3681 - val_accuracy: 0.8648\n",
            "Epoch 4/20\n",
            "48000/48000 [==============================] - 1s 21us/sample - loss: 0.3192 - accuracy: 0.8829 - val_loss: 0.3344 - val_accuracy: 0.8775\n",
            "Epoch 5/20\n",
            "48000/48000 [==============================] - 1s 20us/sample - loss: 0.3011 - accuracy: 0.8890 - val_loss: 0.3457 - val_accuracy: 0.8734\n",
            "Epoch 6/20\n",
            "48000/48000 [==============================] - 1s 21us/sample - loss: 0.2866 - accuracy: 0.8951 - val_loss: 0.3170 - val_accuracy: 0.8858\n",
            "Epoch 7/20\n",
            "48000/48000 [==============================] - 1s 20us/sample - loss: 0.2712 - accuracy: 0.9006 - val_loss: 0.3312 - val_accuracy: 0.8789\n",
            "Epoch 8/20\n",
            "48000/48000 [==============================] - 1s 20us/sample - loss: 0.2609 - accuracy: 0.9028 - val_loss: 0.3118 - val_accuracy: 0.8842\n",
            "Epoch 9/20\n",
            "48000/48000 [==============================] - 1s 21us/sample - loss: 0.2471 - accuracy: 0.9082 - val_loss: 0.3016 - val_accuracy: 0.8907\n",
            "Epoch 10/20\n",
            "48000/48000 [==============================] - 1s 24us/sample - loss: 0.2366 - accuracy: 0.9125 - val_loss: 0.3016 - val_accuracy: 0.8915\n",
            "Epoch 11/20\n",
            "48000/48000 [==============================] - 1s 20us/sample - loss: 0.2240 - accuracy: 0.9171 - val_loss: 0.3072 - val_accuracy: 0.8869\n",
            "Epoch 12/20\n",
            "48000/48000 [==============================] - 1s 21us/sample - loss: 0.2143 - accuracy: 0.9206 - val_loss: 0.3023 - val_accuracy: 0.8914\n",
            "Epoch 13/20\n",
            "48000/48000 [==============================] - 1s 20us/sample - loss: 0.2128 - accuracy: 0.9203 - val_loss: 0.3099 - val_accuracy: 0.8860\n",
            "Epoch 14/20\n",
            "48000/48000 [==============================] - 1s 21us/sample - loss: 0.1977 - accuracy: 0.9273 - val_loss: 0.2861 - val_accuracy: 0.8972\n",
            "Epoch 15/20\n",
            "48000/48000 [==============================] - 1s 21us/sample - loss: 0.1957 - accuracy: 0.9278 - val_loss: 0.3107 - val_accuracy: 0.8871\n",
            "Epoch 16/20\n",
            "48000/48000 [==============================] - 1s 21us/sample - loss: 0.1843 - accuracy: 0.9313 - val_loss: 0.3089 - val_accuracy: 0.8887\n",
            "Epoch 17/20\n",
            "48000/48000 [==============================] - 1s 20us/sample - loss: 0.1742 - accuracy: 0.9365 - val_loss: 0.2974 - val_accuracy: 0.8944\n",
            "Epoch 18/20\n",
            "48000/48000 [==============================] - 1s 21us/sample - loss: 0.1689 - accuracy: 0.9378 - val_loss: 0.3009 - val_accuracy: 0.8941\n",
            "Epoch 19/20\n",
            "48000/48000 [==============================] - 1s 22us/sample - loss: 0.1641 - accuracy: 0.9387 - val_loss: 0.2981 - val_accuracy: 0.8973\n",
            "Epoch 20/20\n",
            "48000/48000 [==============================] - 1s 20us/sample - loss: 0.1545 - accuracy: 0.9434 - val_loss: 0.3086 - val_accuracy: 0.8949\n"
          ],
          "name": "stdout"
        },
        {
          "output_type": "display_data",
          "data": {
            "text/html": [
              "<span style=\"color:#4527A0\"><h1 style=\"font-size:18px\">Trial complete</h1></span>"
            ],
            "text/plain": [
              "<IPython.core.display.HTML object>"
            ]
          },
          "metadata": {
            "tags": []
          }
        },
        {
          "output_type": "display_data",
          "data": {
            "text/html": [
              "<span style=\"color:#4527A0\"><h1 style=\"font-size:18px\">Trial summary</h1></span>"
            ],
            "text/plain": [
              "<IPython.core.display.HTML object>"
            ]
          },
          "metadata": {
            "tags": []
          }
        },
        {
          "output_type": "display_data",
          "data": {
            "text/html": [
              "<span style=\"color:cyan\"> |-Trial ID: b5fa524bf7a9ef6186394415cd08ce38</span>"
            ],
            "text/plain": [
              "<IPython.core.display.HTML object>"
            ]
          },
          "metadata": {
            "tags": []
          }
        },
        {
          "output_type": "display_data",
          "data": {
            "text/html": [
              "<span style=\"color:cyan\"> |-Score: 0.8973333239555359</span>"
            ],
            "text/plain": [
              "<IPython.core.display.HTML object>"
            ]
          },
          "metadata": {
            "tags": []
          }
        },
        {
          "output_type": "display_data",
          "data": {
            "text/html": [
              "<span style=\"color:cyan\"> |-Best step: 0</span>"
            ],
            "text/plain": [
              "<IPython.core.display.HTML object>"
            ]
          },
          "metadata": {
            "tags": []
          }
        },
        {
          "output_type": "display_data",
          "data": {
            "text/html": [
              "<span style=\"color:#7E57C2\"><h2 style=\"font-size:16px\">Hyperparameters:</h2></span>"
            ],
            "text/plain": [
              "<IPython.core.display.HTML object>"
            ]
          },
          "metadata": {
            "tags": []
          }
        },
        {
          "output_type": "display_data",
          "data": {
            "text/html": [
              "<span style=\"color:cyan\"> |-activation: tanh</span>"
            ],
            "text/plain": [
              "<IPython.core.display.HTML object>"
            ]
          },
          "metadata": {
            "tags": []
          }
        },
        {
          "output_type": "display_data",
          "data": {
            "text/html": [
              "<span style=\"color:blue\"> |-optimizer: adam</span>"
            ],
            "text/plain": [
              "<IPython.core.display.HTML object>"
            ]
          },
          "metadata": {
            "tags": []
          }
        },
        {
          "output_type": "display_data",
          "data": {
            "text/html": [
              "<span style=\"color:cyan\"> |-units_hidden: 256</span>"
            ],
            "text/plain": [
              "<IPython.core.display.HTML object>"
            ]
          },
          "metadata": {
            "tags": []
          }
        },
        {
          "output_type": "display_data",
          "data": {
            "text/html": [
              "<span style=\"color:blue\"> |-units_input: 672</span>"
            ],
            "text/plain": [
              "<IPython.core.display.HTML object>"
            ]
          },
          "metadata": {
            "tags": []
          }
        },
        {
          "output_type": "stream",
          "text": [
            "Train on 48000 samples, validate on 12000 samples\n",
            "Epoch 1/20\n",
            "48000/48000 [==============================] - 2s 31us/sample - loss: 0.8547 - accuracy: 0.7210 - val_loss: 0.6132 - val_accuracy: 0.7705\n",
            "Epoch 2/20\n",
            "48000/48000 [==============================] - 1s 24us/sample - loss: 0.5321 - accuracy: 0.8046 - val_loss: 0.4723 - val_accuracy: 0.8187\n",
            "Epoch 3/20\n",
            "48000/48000 [==============================] - 1s 23us/sample - loss: 0.4430 - accuracy: 0.8337 - val_loss: 0.4532 - val_accuracy: 0.8207\n",
            "Epoch 4/20\n",
            "48000/48000 [==============================] - 1s 23us/sample - loss: 0.3924 - accuracy: 0.8529 - val_loss: 0.4022 - val_accuracy: 0.8539\n",
            "Epoch 5/20\n",
            "48000/48000 [==============================] - 1s 23us/sample - loss: 0.3609 - accuracy: 0.8635 - val_loss: 0.3770 - val_accuracy: 0.8611\n",
            "Epoch 6/20\n",
            "48000/48000 [==============================] - 1s 23us/sample - loss: 0.3359 - accuracy: 0.8732 - val_loss: 0.4252 - val_accuracy: 0.8456\n",
            "Epoch 7/20\n",
            "48000/48000 [==============================] - 1s 23us/sample - loss: 0.3207 - accuracy: 0.8784 - val_loss: 0.4061 - val_accuracy: 0.8602\n",
            "Epoch 8/20\n",
            "48000/48000 [==============================] - 1s 22us/sample - loss: 0.2979 - accuracy: 0.8869 - val_loss: 0.4004 - val_accuracy: 0.8578\n",
            "Epoch 9/20\n",
            "48000/48000 [==============================] - 1s 23us/sample - loss: 0.2851 - accuracy: 0.8916 - val_loss: 0.3849 - val_accuracy: 0.8664\n",
            "Epoch 10/20\n",
            "48000/48000 [==============================] - 1s 23us/sample - loss: 0.2741 - accuracy: 0.8959 - val_loss: 0.3548 - val_accuracy: 0.8708\n",
            "Epoch 11/20\n",
            "48000/48000 [==============================] - 1s 23us/sample - loss: 0.2609 - accuracy: 0.8994 - val_loss: 0.3732 - val_accuracy: 0.8662\n",
            "Epoch 12/20\n",
            "48000/48000 [==============================] - 1s 23us/sample - loss: 0.2506 - accuracy: 0.9056 - val_loss: 0.3718 - val_accuracy: 0.8766\n",
            "Epoch 13/20\n",
            "48000/48000 [==============================] - 1s 22us/sample - loss: 0.2403 - accuracy: 0.9081 - val_loss: 0.4369 - val_accuracy: 0.8436\n",
            "Epoch 14/20\n",
            "48000/48000 [==============================] - 1s 23us/sample - loss: 0.2278 - accuracy: 0.9122 - val_loss: 0.3519 - val_accuracy: 0.8823\n",
            "Epoch 15/20\n",
            "48000/48000 [==============================] - 1s 22us/sample - loss: 0.2200 - accuracy: 0.9158 - val_loss: 0.3510 - val_accuracy: 0.8820\n",
            "Epoch 16/20\n",
            "48000/48000 [==============================] - 1s 22us/sample - loss: 0.2133 - accuracy: 0.9177 - val_loss: 0.3746 - val_accuracy: 0.8748\n",
            "Epoch 17/20\n",
            "48000/48000 [==============================] - 1s 22us/sample - loss: 0.2035 - accuracy: 0.9219 - val_loss: 0.4500 - val_accuracy: 0.8543\n",
            "Epoch 18/20\n",
            "48000/48000 [==============================] - 1s 22us/sample - loss: 0.1983 - accuracy: 0.9235 - val_loss: 0.3733 - val_accuracy: 0.8790\n",
            "Epoch 19/20\n",
            "48000/48000 [==============================] - 1s 22us/sample - loss: 0.1866 - accuracy: 0.9277 - val_loss: 0.3962 - val_accuracy: 0.8712\n",
            "Epoch 20/20\n",
            "48000/48000 [==============================] - 1s 23us/sample - loss: 0.1819 - accuracy: 0.9300 - val_loss: 0.4008 - val_accuracy: 0.8829\n"
          ],
          "name": "stdout"
        },
        {
          "output_type": "display_data",
          "data": {
            "text/html": [
              "<span style=\"color:#4527A0\"><h1 style=\"font-size:18px\">Trial complete</h1></span>"
            ],
            "text/plain": [
              "<IPython.core.display.HTML object>"
            ]
          },
          "metadata": {
            "tags": []
          }
        },
        {
          "output_type": "display_data",
          "data": {
            "text/html": [
              "<span style=\"color:#4527A0\"><h1 style=\"font-size:18px\">Trial summary</h1></span>"
            ],
            "text/plain": [
              "<IPython.core.display.HTML object>"
            ]
          },
          "metadata": {
            "tags": []
          }
        },
        {
          "output_type": "display_data",
          "data": {
            "text/html": [
              "<span style=\"color:cyan\"> |-Trial ID: 4e60cb988e42c911868c067dcdaf80a7</span>"
            ],
            "text/plain": [
              "<IPython.core.display.HTML object>"
            ]
          },
          "metadata": {
            "tags": []
          }
        },
        {
          "output_type": "display_data",
          "data": {
            "text/html": [
              "<span style=\"color:cyan\"> |-Score: 0.8829166889190674</span>"
            ],
            "text/plain": [
              "<IPython.core.display.HTML object>"
            ]
          },
          "metadata": {
            "tags": []
          }
        },
        {
          "output_type": "display_data",
          "data": {
            "text/html": [
              "<span style=\"color:cyan\"> |-Best step: 0</span>"
            ],
            "text/plain": [
              "<IPython.core.display.HTML object>"
            ]
          },
          "metadata": {
            "tags": []
          }
        },
        {
          "output_type": "display_data",
          "data": {
            "text/html": [
              "<span style=\"color:#7E57C2\"><h2 style=\"font-size:16px\">Hyperparameters:</h2></span>"
            ],
            "text/plain": [
              "<IPython.core.display.HTML object>"
            ]
          },
          "metadata": {
            "tags": []
          }
        },
        {
          "output_type": "display_data",
          "data": {
            "text/html": [
              "<span style=\"color:cyan\"> |-activation: elu</span>"
            ],
            "text/plain": [
              "<IPython.core.display.HTML object>"
            ]
          },
          "metadata": {
            "tags": []
          }
        },
        {
          "output_type": "display_data",
          "data": {
            "text/html": [
              "<span style=\"color:blue\"> |-optimizer: rmsprop</span>"
            ],
            "text/plain": [
              "<IPython.core.display.HTML object>"
            ]
          },
          "metadata": {
            "tags": []
          }
        },
        {
          "output_type": "display_data",
          "data": {
            "text/html": [
              "<span style=\"color:cyan\"> |-units_hidden: 576</span>"
            ],
            "text/plain": [
              "<IPython.core.display.HTML object>"
            ]
          },
          "metadata": {
            "tags": []
          }
        },
        {
          "output_type": "display_data",
          "data": {
            "text/html": [
              "<span style=\"color:blue\"> |-units_input: 608</span>"
            ],
            "text/plain": [
              "<IPython.core.display.HTML object>"
            ]
          },
          "metadata": {
            "tags": []
          }
        },
        {
          "output_type": "stream",
          "text": [
            "Train on 48000 samples, validate on 12000 samples\n",
            "Epoch 1/20\n",
            "48000/48000 [==============================] - 1s 28us/sample - loss: 0.5333 - accuracy: 0.8065 - val_loss: 0.4336 - val_accuracy: 0.8399\n",
            "Epoch 2/20\n",
            "48000/48000 [==============================] - 1s 21us/sample - loss: 0.3968 - accuracy: 0.8561 - val_loss: 0.3806 - val_accuracy: 0.8630\n",
            "Epoch 3/20\n",
            "48000/48000 [==============================] - 1s 20us/sample - loss: 0.3517 - accuracy: 0.8719 - val_loss: 0.3831 - val_accuracy: 0.8594\n",
            "Epoch 4/20\n",
            "48000/48000 [==============================] - 1s 20us/sample - loss: 0.3305 - accuracy: 0.8789 - val_loss: 0.3559 - val_accuracy: 0.8695\n",
            "Epoch 5/20\n",
            "48000/48000 [==============================] - 1s 24us/sample - loss: 0.3065 - accuracy: 0.8879 - val_loss: 0.3454 - val_accuracy: 0.8771\n",
            "Epoch 6/20\n",
            "48000/48000 [==============================] - 1s 24us/sample - loss: 0.2874 - accuracy: 0.8941 - val_loss: 0.3255 - val_accuracy: 0.8825\n",
            "Epoch 7/20\n",
            "48000/48000 [==============================] - 1s 21us/sample - loss: 0.2720 - accuracy: 0.8983 - val_loss: 0.3195 - val_accuracy: 0.8824\n",
            "Epoch 8/20\n",
            "48000/48000 [==============================] - 1s 20us/sample - loss: 0.2613 - accuracy: 0.9031 - val_loss: 0.3095 - val_accuracy: 0.8863\n",
            "Epoch 9/20\n",
            "48000/48000 [==============================] - 1s 22us/sample - loss: 0.2470 - accuracy: 0.9077 - val_loss: 0.3075 - val_accuracy: 0.8882\n",
            "Epoch 10/20\n",
            "48000/48000 [==============================] - 1s 23us/sample - loss: 0.2396 - accuracy: 0.9096 - val_loss: 0.3078 - val_accuracy: 0.8868\n",
            "Epoch 11/20\n",
            "48000/48000 [==============================] - 1s 20us/sample - loss: 0.2231 - accuracy: 0.9180 - val_loss: 0.3191 - val_accuracy: 0.8856\n",
            "Epoch 12/20\n",
            "48000/48000 [==============================] - 1s 21us/sample - loss: 0.2195 - accuracy: 0.9183 - val_loss: 0.2952 - val_accuracy: 0.8930\n",
            "Epoch 13/20\n",
            "48000/48000 [==============================] - 1s 20us/sample - loss: 0.2095 - accuracy: 0.9222 - val_loss: 0.3052 - val_accuracy: 0.8913\n",
            "Epoch 14/20\n",
            "48000/48000 [==============================] - 1s 20us/sample - loss: 0.1938 - accuracy: 0.9285 - val_loss: 0.3137 - val_accuracy: 0.8885\n",
            "Epoch 15/20\n",
            "48000/48000 [==============================] - 1s 20us/sample - loss: 0.1860 - accuracy: 0.9310 - val_loss: 0.3025 - val_accuracy: 0.8940\n",
            "Epoch 16/20\n",
            "48000/48000 [==============================] - 1s 20us/sample - loss: 0.1875 - accuracy: 0.9303 - val_loss: 0.3122 - val_accuracy: 0.8914\n",
            "Epoch 17/20\n",
            "48000/48000 [==============================] - 1s 21us/sample - loss: 0.1757 - accuracy: 0.9338 - val_loss: 0.3069 - val_accuracy: 0.8953\n",
            "Epoch 18/20\n",
            "48000/48000 [==============================] - 1s 20us/sample - loss: 0.1650 - accuracy: 0.9395 - val_loss: 0.3052 - val_accuracy: 0.8919\n",
            "Epoch 19/20\n",
            "48000/48000 [==============================] - 1s 20us/sample - loss: 0.1589 - accuracy: 0.9412 - val_loss: 0.3047 - val_accuracy: 0.8960\n",
            "Epoch 20/20\n",
            "48000/48000 [==============================] - 1s 20us/sample - loss: 0.1502 - accuracy: 0.9448 - val_loss: 0.3238 - val_accuracy: 0.8917\n"
          ],
          "name": "stdout"
        },
        {
          "output_type": "display_data",
          "data": {
            "text/html": [
              "<span style=\"color:#4527A0\"><h1 style=\"font-size:18px\">Trial complete</h1></span>"
            ],
            "text/plain": [
              "<IPython.core.display.HTML object>"
            ]
          },
          "metadata": {
            "tags": []
          }
        },
        {
          "output_type": "display_data",
          "data": {
            "text/html": [
              "<span style=\"color:#4527A0\"><h1 style=\"font-size:18px\">Trial summary</h1></span>"
            ],
            "text/plain": [
              "<IPython.core.display.HTML object>"
            ]
          },
          "metadata": {
            "tags": []
          }
        },
        {
          "output_type": "display_data",
          "data": {
            "text/html": [
              "<span style=\"color:cyan\"> |-Trial ID: c706f52256985b19cc1d0115be87fa40</span>"
            ],
            "text/plain": [
              "<IPython.core.display.HTML object>"
            ]
          },
          "metadata": {
            "tags": []
          }
        },
        {
          "output_type": "display_data",
          "data": {
            "text/html": [
              "<span style=\"color:cyan\"> |-Score: 0.8960000276565552</span>"
            ],
            "text/plain": [
              "<IPython.core.display.HTML object>"
            ]
          },
          "metadata": {
            "tags": []
          }
        },
        {
          "output_type": "display_data",
          "data": {
            "text/html": [
              "<span style=\"color:cyan\"> |-Best step: 0</span>"
            ],
            "text/plain": [
              "<IPython.core.display.HTML object>"
            ]
          },
          "metadata": {
            "tags": []
          }
        },
        {
          "output_type": "display_data",
          "data": {
            "text/html": [
              "<span style=\"color:#7E57C2\"><h2 style=\"font-size:16px\">Hyperparameters:</h2></span>"
            ],
            "text/plain": [
              "<IPython.core.display.HTML object>"
            ]
          },
          "metadata": {
            "tags": []
          }
        },
        {
          "output_type": "display_data",
          "data": {
            "text/html": [
              "<span style=\"color:cyan\"> |-activation: tanh</span>"
            ],
            "text/plain": [
              "<IPython.core.display.HTML object>"
            ]
          },
          "metadata": {
            "tags": []
          }
        },
        {
          "output_type": "display_data",
          "data": {
            "text/html": [
              "<span style=\"color:blue\"> |-optimizer: adam</span>"
            ],
            "text/plain": [
              "<IPython.core.display.HTML object>"
            ]
          },
          "metadata": {
            "tags": []
          }
        },
        {
          "output_type": "display_data",
          "data": {
            "text/html": [
              "<span style=\"color:cyan\"> |-units_hidden: 384</span>"
            ],
            "text/plain": [
              "<IPython.core.display.HTML object>"
            ]
          },
          "metadata": {
            "tags": []
          }
        },
        {
          "output_type": "display_data",
          "data": {
            "text/html": [
              "<span style=\"color:blue\"> |-units_input: 512</span>"
            ],
            "text/plain": [
              "<IPython.core.display.HTML object>"
            ]
          },
          "metadata": {
            "tags": []
          }
        },
        {
          "output_type": "stream",
          "text": [
            "Train on 48000 samples, validate on 12000 samples\n",
            "Epoch 1/20\n",
            "48000/48000 [==============================] - 1s 30us/sample - loss: 0.7672 - accuracy: 0.7339 - val_loss: 0.4865 - val_accuracy: 0.8234\n",
            "Epoch 2/20\n",
            "48000/48000 [==============================] - 1s 24us/sample - loss: 0.4506 - accuracy: 0.8379 - val_loss: 0.4513 - val_accuracy: 0.8363\n",
            "Epoch 3/20\n",
            "48000/48000 [==============================] - 1s 24us/sample - loss: 0.4136 - accuracy: 0.8502 - val_loss: 0.3929 - val_accuracy: 0.8601\n",
            "Epoch 4/20\n",
            "48000/48000 [==============================] - 1s 23us/sample - loss: 0.3805 - accuracy: 0.8615 - val_loss: 0.4152 - val_accuracy: 0.8480\n",
            "Epoch 5/20\n",
            "48000/48000 [==============================] - 1s 24us/sample - loss: 0.3628 - accuracy: 0.8682 - val_loss: 0.3837 - val_accuracy: 0.8577\n",
            "Epoch 6/20\n",
            "48000/48000 [==============================] - 1s 24us/sample - loss: 0.3469 - accuracy: 0.8731 - val_loss: 0.3548 - val_accuracy: 0.8698\n",
            "Epoch 7/20\n",
            "48000/48000 [==============================] - 1s 24us/sample - loss: 0.3300 - accuracy: 0.8804 - val_loss: 0.3602 - val_accuracy: 0.8698\n",
            "Epoch 8/20\n",
            "48000/48000 [==============================] - 1s 24us/sample - loss: 0.3190 - accuracy: 0.8835 - val_loss: 0.3407 - val_accuracy: 0.8752\n",
            "Epoch 9/20\n",
            "48000/48000 [==============================] - 1s 25us/sample - loss: 0.3075 - accuracy: 0.8874 - val_loss: 0.3433 - val_accuracy: 0.8715\n",
            "Epoch 10/20\n",
            "48000/48000 [==============================] - 1s 24us/sample - loss: 0.2975 - accuracy: 0.8909 - val_loss: 0.3282 - val_accuracy: 0.8797\n",
            "Epoch 11/20\n",
            "48000/48000 [==============================] - 1s 24us/sample - loss: 0.2838 - accuracy: 0.8954 - val_loss: 0.3260 - val_accuracy: 0.8807\n",
            "Epoch 12/20\n",
            "48000/48000 [==============================] - 1s 24us/sample - loss: 0.2776 - accuracy: 0.8969 - val_loss: 0.3195 - val_accuracy: 0.8840\n",
            "Epoch 13/20\n",
            "48000/48000 [==============================] - 1s 24us/sample - loss: 0.2670 - accuracy: 0.9017 - val_loss: 0.3168 - val_accuracy: 0.8846\n",
            "Epoch 14/20\n",
            "48000/48000 [==============================] - 1s 24us/sample - loss: 0.2614 - accuracy: 0.9031 - val_loss: 0.3140 - val_accuracy: 0.8859\n",
            "Epoch 15/20\n",
            "48000/48000 [==============================] - 1s 22us/sample - loss: 0.2517 - accuracy: 0.9068 - val_loss: 0.3280 - val_accuracy: 0.8799\n",
            "Epoch 16/20\n",
            "48000/48000 [==============================] - 1s 22us/sample - loss: 0.2456 - accuracy: 0.9081 - val_loss: 0.3149 - val_accuracy: 0.8859\n",
            "Epoch 17/20\n",
            "48000/48000 [==============================] - 1s 24us/sample - loss: 0.2357 - accuracy: 0.9128 - val_loss: 0.3167 - val_accuracy: 0.8862\n",
            "Epoch 18/20\n",
            "48000/48000 [==============================] - 1s 22us/sample - loss: 0.2301 - accuracy: 0.9140 - val_loss: 0.3192 - val_accuracy: 0.8848\n",
            "Epoch 19/20\n",
            "48000/48000 [==============================] - 1s 23us/sample - loss: 0.2182 - accuracy: 0.9179 - val_loss: 0.3023 - val_accuracy: 0.8904\n",
            "Epoch 20/20\n",
            "48000/48000 [==============================] - 1s 23us/sample - loss: 0.2148 - accuracy: 0.9204 - val_loss: 0.3130 - val_accuracy: 0.8892\n"
          ],
          "name": "stdout"
        },
        {
          "output_type": "display_data",
          "data": {
            "text/html": [
              "<span style=\"color:#4527A0\"><h1 style=\"font-size:18px\">Trial complete</h1></span>"
            ],
            "text/plain": [
              "<IPython.core.display.HTML object>"
            ]
          },
          "metadata": {
            "tags": []
          }
        },
        {
          "output_type": "display_data",
          "data": {
            "text/html": [
              "<span style=\"color:#4527A0\"><h1 style=\"font-size:18px\">Trial summary</h1></span>"
            ],
            "text/plain": [
              "<IPython.core.display.HTML object>"
            ]
          },
          "metadata": {
            "tags": []
          }
        },
        {
          "output_type": "display_data",
          "data": {
            "text/html": [
              "<span style=\"color:cyan\"> |-Trial ID: 4ada5413f72d13f10eb6468d8af42725</span>"
            ],
            "text/plain": [
              "<IPython.core.display.HTML object>"
            ]
          },
          "metadata": {
            "tags": []
          }
        },
        {
          "output_type": "display_data",
          "data": {
            "text/html": [
              "<span style=\"color:cyan\"> |-Score: 0.89041668176651</span>"
            ],
            "text/plain": [
              "<IPython.core.display.HTML object>"
            ]
          },
          "metadata": {
            "tags": []
          }
        },
        {
          "output_type": "display_data",
          "data": {
            "text/html": [
              "<span style=\"color:cyan\"> |-Best step: 0</span>"
            ],
            "text/plain": [
              "<IPython.core.display.HTML object>"
            ]
          },
          "metadata": {
            "tags": []
          }
        },
        {
          "output_type": "display_data",
          "data": {
            "text/html": [
              "<span style=\"color:#7E57C2\"><h2 style=\"font-size:16px\">Hyperparameters:</h2></span>"
            ],
            "text/plain": [
              "<IPython.core.display.HTML object>"
            ]
          },
          "metadata": {
            "tags": []
          }
        },
        {
          "output_type": "display_data",
          "data": {
            "text/html": [
              "<span style=\"color:cyan\"> |-activation: sigmoid</span>"
            ],
            "text/plain": [
              "<IPython.core.display.HTML object>"
            ]
          },
          "metadata": {
            "tags": []
          }
        },
        {
          "output_type": "display_data",
          "data": {
            "text/html": [
              "<span style=\"color:blue\"> |-optimizer: adam</span>"
            ],
            "text/plain": [
              "<IPython.core.display.HTML object>"
            ]
          },
          "metadata": {
            "tags": []
          }
        },
        {
          "output_type": "display_data",
          "data": {
            "text/html": [
              "<span style=\"color:cyan\"> |-units_hidden: 576</span>"
            ],
            "text/plain": [
              "<IPython.core.display.HTML object>"
            ]
          },
          "metadata": {
            "tags": []
          }
        },
        {
          "output_type": "display_data",
          "data": {
            "text/html": [
              "<span style=\"color:blue\"> |-units_input: 960</span>"
            ],
            "text/plain": [
              "<IPython.core.display.HTML object>"
            ]
          },
          "metadata": {
            "tags": []
          }
        },
        {
          "output_type": "stream",
          "text": [
            "Train on 48000 samples, validate on 12000 samples\n",
            "Epoch 1/20\n",
            "48000/48000 [==============================] - 1s 26us/sample - loss: 2.2798 - accuracy: 0.2429 - val_loss: 2.2331 - val_accuracy: 0.3492\n",
            "Epoch 2/20\n",
            "48000/48000 [==============================] - 1s 21us/sample - loss: 2.1945 - accuracy: 0.4617 - val_loss: 2.1524 - val_accuracy: 0.5077\n",
            "Epoch 3/20\n",
            "48000/48000 [==============================] - 1s 19us/sample - loss: 2.1068 - accuracy: 0.5606 - val_loss: 2.0553 - val_accuracy: 0.5714\n",
            "Epoch 4/20\n",
            "48000/48000 [==============================] - 1s 19us/sample - loss: 2.0008 - accuracy: 0.5890 - val_loss: 1.9389 - val_accuracy: 0.6414\n",
            "Epoch 5/20\n",
            "48000/48000 [==============================] - 1s 20us/sample - loss: 1.8769 - accuracy: 0.6060 - val_loss: 1.8085 - val_accuracy: 0.6208\n",
            "Epoch 6/20\n",
            "48000/48000 [==============================] - 1s 20us/sample - loss: 1.7451 - accuracy: 0.6165 - val_loss: 1.6769 - val_accuracy: 0.5869\n",
            "Epoch 7/20\n",
            "48000/48000 [==============================] - 1s 19us/sample - loss: 1.6193 - accuracy: 0.6201 - val_loss: 1.5567 - val_accuracy: 0.6272\n",
            "Epoch 8/20\n",
            "48000/48000 [==============================] - 1s 19us/sample - loss: 1.5080 - accuracy: 0.6289 - val_loss: 1.4531 - val_accuracy: 0.6492\n",
            "Epoch 9/20\n",
            "48000/48000 [==============================] - 1s 20us/sample - loss: 1.4133 - accuracy: 0.6429 - val_loss: 1.3661 - val_accuracy: 0.6594\n",
            "Epoch 10/20\n",
            "48000/48000 [==============================] - 1s 20us/sample - loss: 1.3338 - accuracy: 0.6503 - val_loss: 1.2922 - val_accuracy: 0.6562\n",
            "Epoch 11/20\n",
            "48000/48000 [==============================] - 1s 19us/sample - loss: 1.2668 - accuracy: 0.6608 - val_loss: 1.2305 - val_accuracy: 0.6655\n",
            "Epoch 12/20\n",
            "48000/48000 [==============================] - 1s 20us/sample - loss: 1.2096 - accuracy: 0.6688 - val_loss: 1.1771 - val_accuracy: 0.6735\n",
            "Epoch 13/20\n",
            "48000/48000 [==============================] - 1s 20us/sample - loss: 1.1603 - accuracy: 0.6749 - val_loss: 1.1305 - val_accuracy: 0.6823\n",
            "Epoch 14/20\n",
            "48000/48000 [==============================] - 1s 20us/sample - loss: 1.1169 - accuracy: 0.6829 - val_loss: 1.0902 - val_accuracy: 0.6941\n",
            "Epoch 15/20\n",
            "48000/48000 [==============================] - 1s 20us/sample - loss: 1.0786 - accuracy: 0.6901 - val_loss: 1.0529 - val_accuracy: 0.7000\n",
            "Epoch 16/20\n",
            "48000/48000 [==============================] - 1s 19us/sample - loss: 1.0441 - accuracy: 0.6966 - val_loss: 1.0197 - val_accuracy: 0.6972\n",
            "Epoch 17/20\n",
            "48000/48000 [==============================] - 1s 20us/sample - loss: 1.0130 - accuracy: 0.7017 - val_loss: 0.9901 - val_accuracy: 0.7084\n",
            "Epoch 18/20\n",
            "48000/48000 [==============================] - 1s 21us/sample - loss: 0.9847 - accuracy: 0.7066 - val_loss: 0.9633 - val_accuracy: 0.7073\n",
            "Epoch 19/20\n",
            "48000/48000 [==============================] - 1s 22us/sample - loss: 0.9587 - accuracy: 0.7117 - val_loss: 0.9388 - val_accuracy: 0.7142\n",
            "Epoch 20/20\n",
            "48000/48000 [==============================] - 1s 20us/sample - loss: 0.9348 - accuracy: 0.7149 - val_loss: 0.9147 - val_accuracy: 0.7178\n"
          ],
          "name": "stdout"
        },
        {
          "output_type": "display_data",
          "data": {
            "text/html": [
              "<span style=\"color:#4527A0\"><h1 style=\"font-size:18px\">Trial complete</h1></span>"
            ],
            "text/plain": [
              "<IPython.core.display.HTML object>"
            ]
          },
          "metadata": {
            "tags": []
          }
        },
        {
          "output_type": "display_data",
          "data": {
            "text/html": [
              "<span style=\"color:#4527A0\"><h1 style=\"font-size:18px\">Trial summary</h1></span>"
            ],
            "text/plain": [
              "<IPython.core.display.HTML object>"
            ]
          },
          "metadata": {
            "tags": []
          }
        },
        {
          "output_type": "display_data",
          "data": {
            "text/html": [
              "<span style=\"color:cyan\"> |-Trial ID: d95ff476454eb016106f0669dbce3ea4</span>"
            ],
            "text/plain": [
              "<IPython.core.display.HTML object>"
            ]
          },
          "metadata": {
            "tags": []
          }
        },
        {
          "output_type": "display_data",
          "data": {
            "text/html": [
              "<span style=\"color:cyan\"> |-Score: 0.7177500128746033</span>"
            ],
            "text/plain": [
              "<IPython.core.display.HTML object>"
            ]
          },
          "metadata": {
            "tags": []
          }
        },
        {
          "output_type": "display_data",
          "data": {
            "text/html": [
              "<span style=\"color:cyan\"> |-Best step: 0</span>"
            ],
            "text/plain": [
              "<IPython.core.display.HTML object>"
            ]
          },
          "metadata": {
            "tags": []
          }
        },
        {
          "output_type": "display_data",
          "data": {
            "text/html": [
              "<span style=\"color:#7E57C2\"><h2 style=\"font-size:16px\">Hyperparameters:</h2></span>"
            ],
            "text/plain": [
              "<IPython.core.display.HTML object>"
            ]
          },
          "metadata": {
            "tags": []
          }
        },
        {
          "output_type": "display_data",
          "data": {
            "text/html": [
              "<span style=\"color:cyan\"> |-activation: sigmoid</span>"
            ],
            "text/plain": [
              "<IPython.core.display.HTML object>"
            ]
          },
          "metadata": {
            "tags": []
          }
        },
        {
          "output_type": "display_data",
          "data": {
            "text/html": [
              "<span style=\"color:blue\"> |-optimizer: SGD</span>"
            ],
            "text/plain": [
              "<IPython.core.display.HTML object>"
            ]
          },
          "metadata": {
            "tags": []
          }
        },
        {
          "output_type": "display_data",
          "data": {
            "text/html": [
              "<span style=\"color:cyan\"> |-units_hidden: 128</span>"
            ],
            "text/plain": [
              "<IPython.core.display.HTML object>"
            ]
          },
          "metadata": {
            "tags": []
          }
        },
        {
          "output_type": "display_data",
          "data": {
            "text/html": [
              "<span style=\"color:blue\"> |-units_input: 864</span>"
            ],
            "text/plain": [
              "<IPython.core.display.HTML object>"
            ]
          },
          "metadata": {
            "tags": []
          }
        },
        {
          "output_type": "stream",
          "text": [
            "Train on 48000 samples, validate on 12000 samples\n",
            "Epoch 1/20\n",
            "48000/48000 [==============================] - 1s 29us/sample - loss: 2.2648 - accuracy: 0.2441 - val_loss: 2.2257 - val_accuracy: 0.2361\n",
            "Epoch 2/20\n",
            "48000/48000 [==============================] - 1s 23us/sample - loss: 2.1882 - accuracy: 0.4399 - val_loss: 2.1457 - val_accuracy: 0.5614\n",
            "Epoch 3/20\n",
            "48000/48000 [==============================] - 1s 23us/sample - loss: 2.1017 - accuracy: 0.5426 - val_loss: 2.0510 - val_accuracy: 0.6061\n",
            "Epoch 4/20\n",
            "48000/48000 [==============================] - 1s 21us/sample - loss: 1.9966 - accuracy: 0.5735 - val_loss: 1.9334 - val_accuracy: 0.6494\n",
            "Epoch 5/20\n",
            "48000/48000 [==============================] - 1s 21us/sample - loss: 1.8704 - accuracy: 0.5919 - val_loss: 1.7992 - val_accuracy: 0.5678\n",
            "Epoch 6/20\n",
            "48000/48000 [==============================] - 1s 24us/sample - loss: 1.7320 - accuracy: 0.6015 - val_loss: 1.6579 - val_accuracy: 0.6766\n",
            "Epoch 7/20\n",
            "48000/48000 [==============================] - 1s 21us/sample - loss: 1.5971 - accuracy: 0.6174 - val_loss: 1.5290 - val_accuracy: 0.6809\n",
            "Epoch 8/20\n",
            "48000/48000 [==============================] - 1s 20us/sample - loss: 1.4778 - accuracy: 0.6364 - val_loss: 1.4188 - val_accuracy: 0.6525\n",
            "Epoch 9/20\n",
            "48000/48000 [==============================] - 1s 21us/sample - loss: 1.3776 - accuracy: 0.6506 - val_loss: 1.3268 - val_accuracy: 0.6789\n",
            "Epoch 10/20\n",
            "48000/48000 [==============================] - 1s 21us/sample - loss: 1.2948 - accuracy: 0.6640 - val_loss: 1.2510 - val_accuracy: 0.6743\n",
            "Epoch 11/20\n",
            "48000/48000 [==============================] - 1s 21us/sample - loss: 1.2254 - accuracy: 0.6730 - val_loss: 1.1872 - val_accuracy: 0.6974\n",
            "Epoch 12/20\n",
            "48000/48000 [==============================] - 1s 21us/sample - loss: 1.1669 - accuracy: 0.6837 - val_loss: 1.1325 - val_accuracy: 0.6903\n",
            "Epoch 13/20\n",
            "48000/48000 [==============================] - 1s 21us/sample - loss: 1.1171 - accuracy: 0.6886 - val_loss: 1.0855 - val_accuracy: 0.6875\n",
            "Epoch 14/20\n",
            "48000/48000 [==============================] - 1s 21us/sample - loss: 1.0736 - accuracy: 0.6925 - val_loss: 1.0459 - val_accuracy: 0.6967\n",
            "Epoch 15/20\n",
            "48000/48000 [==============================] - 1s 21us/sample - loss: 1.0355 - accuracy: 0.6989 - val_loss: 1.0092 - val_accuracy: 0.7089\n",
            "Epoch 16/20\n",
            "48000/48000 [==============================] - 1s 21us/sample - loss: 1.0016 - accuracy: 0.7067 - val_loss: 0.9762 - val_accuracy: 0.7121\n",
            "Epoch 17/20\n",
            "48000/48000 [==============================] - 1s 21us/sample - loss: 0.9710 - accuracy: 0.7090 - val_loss: 0.9473 - val_accuracy: 0.7117\n",
            "Epoch 18/20\n",
            "48000/48000 [==============================] - 1s 21us/sample - loss: 0.9437 - accuracy: 0.7136 - val_loss: 0.9232 - val_accuracy: 0.7128\n",
            "Epoch 19/20\n",
            "48000/48000 [==============================] - 1s 21us/sample - loss: 0.9189 - accuracy: 0.7162 - val_loss: 0.8970 - val_accuracy: 0.7223\n",
            "Epoch 20/20\n",
            "48000/48000 [==============================] - 1s 20us/sample - loss: 0.8961 - accuracy: 0.7206 - val_loss: 0.8755 - val_accuracy: 0.7209\n"
          ],
          "name": "stdout"
        },
        {
          "output_type": "display_data",
          "data": {
            "text/html": [
              "<span style=\"color:#4527A0\"><h1 style=\"font-size:18px\">Trial complete</h1></span>"
            ],
            "text/plain": [
              "<IPython.core.display.HTML object>"
            ]
          },
          "metadata": {
            "tags": []
          }
        },
        {
          "output_type": "display_data",
          "data": {
            "text/html": [
              "<span style=\"color:#4527A0\"><h1 style=\"font-size:18px\">Trial summary</h1></span>"
            ],
            "text/plain": [
              "<IPython.core.display.HTML object>"
            ]
          },
          "metadata": {
            "tags": []
          }
        },
        {
          "output_type": "display_data",
          "data": {
            "text/html": [
              "<span style=\"color:cyan\"> |-Trial ID: 74c4a550898ea75d470256ce1df1576f</span>"
            ],
            "text/plain": [
              "<IPython.core.display.HTML object>"
            ]
          },
          "metadata": {
            "tags": []
          }
        },
        {
          "output_type": "display_data",
          "data": {
            "text/html": [
              "<span style=\"color:cyan\"> |-Score: 0.7223333120346069</span>"
            ],
            "text/plain": [
              "<IPython.core.display.HTML object>"
            ]
          },
          "metadata": {
            "tags": []
          }
        },
        {
          "output_type": "display_data",
          "data": {
            "text/html": [
              "<span style=\"color:cyan\"> |-Best step: 0</span>"
            ],
            "text/plain": [
              "<IPython.core.display.HTML object>"
            ]
          },
          "metadata": {
            "tags": []
          }
        },
        {
          "output_type": "display_data",
          "data": {
            "text/html": [
              "<span style=\"color:#7E57C2\"><h2 style=\"font-size:16px\">Hyperparameters:</h2></span>"
            ],
            "text/plain": [
              "<IPython.core.display.HTML object>"
            ]
          },
          "metadata": {
            "tags": []
          }
        },
        {
          "output_type": "display_data",
          "data": {
            "text/html": [
              "<span style=\"color:cyan\"> |-activation: sigmoid</span>"
            ],
            "text/plain": [
              "<IPython.core.display.HTML object>"
            ]
          },
          "metadata": {
            "tags": []
          }
        },
        {
          "output_type": "display_data",
          "data": {
            "text/html": [
              "<span style=\"color:blue\"> |-optimizer: SGD</span>"
            ],
            "text/plain": [
              "<IPython.core.display.HTML object>"
            ]
          },
          "metadata": {
            "tags": []
          }
        },
        {
          "output_type": "display_data",
          "data": {
            "text/html": [
              "<span style=\"color:cyan\"> |-units_hidden: 576</span>"
            ],
            "text/plain": [
              "<IPython.core.display.HTML object>"
            ]
          },
          "metadata": {
            "tags": []
          }
        },
        {
          "output_type": "display_data",
          "data": {
            "text/html": [
              "<span style=\"color:blue\"> |-units_input: 640</span>"
            ],
            "text/plain": [
              "<IPython.core.display.HTML object>"
            ]
          },
          "metadata": {
            "tags": []
          }
        },
        {
          "output_type": "stream",
          "text": [
            "Train on 48000 samples, validate on 12000 samples\n",
            "Epoch 1/20\n",
            "48000/48000 [==============================] - 2s 32us/sample - loss: 0.6445 - accuracy: 0.7688 - val_loss: 0.4815 - val_accuracy: 0.8287\n",
            "Epoch 2/20\n",
            "48000/48000 [==============================] - 1s 24us/sample - loss: 0.4141 - accuracy: 0.8457 - val_loss: 0.3963 - val_accuracy: 0.8517\n",
            "Epoch 3/20\n",
            "48000/48000 [==============================] - 1s 22us/sample - loss: 0.3620 - accuracy: 0.8664 - val_loss: 0.3640 - val_accuracy: 0.8709\n",
            "Epoch 4/20\n",
            "48000/48000 [==============================] - 1s 24us/sample - loss: 0.3295 - accuracy: 0.8763 - val_loss: 0.3456 - val_accuracy: 0.8727\n",
            "Epoch 5/20\n",
            "48000/48000 [==============================] - 1s 23us/sample - loss: 0.3027 - accuracy: 0.8861 - val_loss: 0.3754 - val_accuracy: 0.8683\n",
            "Epoch 6/20\n",
            "48000/48000 [==============================] - 1s 23us/sample - loss: 0.2861 - accuracy: 0.8918 - val_loss: 0.3352 - val_accuracy: 0.8785\n",
            "Epoch 7/20\n",
            "48000/48000 [==============================] - 1s 24us/sample - loss: 0.2663 - accuracy: 0.8981 - val_loss: 0.5120 - val_accuracy: 0.8332\n",
            "Epoch 8/20\n",
            "48000/48000 [==============================] - 1s 25us/sample - loss: 0.2534 - accuracy: 0.9038 - val_loss: 0.3750 - val_accuracy: 0.8667\n",
            "Epoch 9/20\n",
            "48000/48000 [==============================] - 1s 24us/sample - loss: 0.2413 - accuracy: 0.9082 - val_loss: 0.3966 - val_accuracy: 0.8776\n",
            "Epoch 10/20\n",
            "48000/48000 [==============================] - 1s 25us/sample - loss: 0.2315 - accuracy: 0.9112 - val_loss: 0.3547 - val_accuracy: 0.8848\n",
            "Epoch 11/20\n",
            "48000/48000 [==============================] - 1s 24us/sample - loss: 0.2198 - accuracy: 0.9158 - val_loss: 0.3935 - val_accuracy: 0.8733\n",
            "Epoch 12/20\n",
            "48000/48000 [==============================] - 1s 24us/sample - loss: 0.2151 - accuracy: 0.9170 - val_loss: 0.3645 - val_accuracy: 0.8867\n",
            "Epoch 13/20\n",
            "48000/48000 [==============================] - 1s 23us/sample - loss: 0.2046 - accuracy: 0.9216 - val_loss: 0.3717 - val_accuracy: 0.8851\n",
            "Epoch 14/20\n",
            "48000/48000 [==============================] - 1s 24us/sample - loss: 0.1987 - accuracy: 0.9240 - val_loss: 0.3681 - val_accuracy: 0.8907\n",
            "Epoch 15/20\n",
            "48000/48000 [==============================] - 1s 24us/sample - loss: 0.1905 - accuracy: 0.9275 - val_loss: 0.4109 - val_accuracy: 0.8883\n",
            "Epoch 16/20\n",
            "48000/48000 [==============================] - 1s 24us/sample - loss: 0.1882 - accuracy: 0.9280 - val_loss: 0.3639 - val_accuracy: 0.8921\n",
            "Epoch 17/20\n",
            "48000/48000 [==============================] - 1s 23us/sample - loss: 0.1790 - accuracy: 0.9309 - val_loss: 0.3732 - val_accuracy: 0.8960\n",
            "Epoch 18/20\n",
            "48000/48000 [==============================] - 1s 24us/sample - loss: 0.1729 - accuracy: 0.9342 - val_loss: 0.3732 - val_accuracy: 0.8982\n",
            "Epoch 19/20\n",
            "48000/48000 [==============================] - 1s 24us/sample - loss: 0.1662 - accuracy: 0.9364 - val_loss: 0.4425 - val_accuracy: 0.8858\n",
            "Epoch 20/20\n",
            "48000/48000 [==============================] - 1s 23us/sample - loss: 0.1612 - accuracy: 0.9385 - val_loss: 0.4259 - val_accuracy: 0.8885\n"
          ],
          "name": "stdout"
        },
        {
          "output_type": "display_data",
          "data": {
            "text/html": [
              "<span style=\"color:#4527A0\"><h1 style=\"font-size:18px\">Trial complete</h1></span>"
            ],
            "text/plain": [
              "<IPython.core.display.HTML object>"
            ]
          },
          "metadata": {
            "tags": []
          }
        },
        {
          "output_type": "display_data",
          "data": {
            "text/html": [
              "<span style=\"color:#4527A0\"><h1 style=\"font-size:18px\">Trial summary</h1></span>"
            ],
            "text/plain": [
              "<IPython.core.display.HTML object>"
            ]
          },
          "metadata": {
            "tags": []
          }
        },
        {
          "output_type": "display_data",
          "data": {
            "text/html": [
              "<span style=\"color:cyan\"> |-Trial ID: 3469db594de8bd63c7eb3f2dae4a7257</span>"
            ],
            "text/plain": [
              "<IPython.core.display.HTML object>"
            ]
          },
          "metadata": {
            "tags": []
          }
        },
        {
          "output_type": "display_data",
          "data": {
            "text/html": [
              "<span style=\"color:cyan\"> |-Score: 0.8981666564941406</span>"
            ],
            "text/plain": [
              "<IPython.core.display.HTML object>"
            ]
          },
          "metadata": {
            "tags": []
          }
        },
        {
          "output_type": "display_data",
          "data": {
            "text/html": [
              "<span style=\"color:cyan\"> |-Best step: 0</span>"
            ],
            "text/plain": [
              "<IPython.core.display.HTML object>"
            ]
          },
          "metadata": {
            "tags": []
          }
        },
        {
          "output_type": "display_data",
          "data": {
            "text/html": [
              "<span style=\"color:#7E57C2\"><h2 style=\"font-size:16px\">Hyperparameters:</h2></span>"
            ],
            "text/plain": [
              "<IPython.core.display.HTML object>"
            ]
          },
          "metadata": {
            "tags": []
          }
        },
        {
          "output_type": "display_data",
          "data": {
            "text/html": [
              "<span style=\"color:cyan\"> |-activation: relu</span>"
            ],
            "text/plain": [
              "<IPython.core.display.HTML object>"
            ]
          },
          "metadata": {
            "tags": []
          }
        },
        {
          "output_type": "display_data",
          "data": {
            "text/html": [
              "<span style=\"color:blue\"> |-optimizer: rmsprop</span>"
            ],
            "text/plain": [
              "<IPython.core.display.HTML object>"
            ]
          },
          "metadata": {
            "tags": []
          }
        },
        {
          "output_type": "display_data",
          "data": {
            "text/html": [
              "<span style=\"color:cyan\"> |-units_hidden: 416</span>"
            ],
            "text/plain": [
              "<IPython.core.display.HTML object>"
            ]
          },
          "metadata": {
            "tags": []
          }
        },
        {
          "output_type": "display_data",
          "data": {
            "text/html": [
              "<span style=\"color:blue\"> |-units_input: 704</span>"
            ],
            "text/plain": [
              "<IPython.core.display.HTML object>"
            ]
          },
          "metadata": {
            "tags": []
          }
        },
        {
          "output_type": "stream",
          "text": [
            "Train on 48000 samples, validate on 12000 samples\n",
            "Epoch 1/20\n",
            "48000/48000 [==============================] - 1s 26us/sample - loss: 1.0777 - accuracy: 0.6712 - val_loss: 0.7572 - val_accuracy: 0.7580\n",
            "Epoch 2/20\n",
            "48000/48000 [==============================] - 1s 21us/sample - loss: 0.6934 - accuracy: 0.7795 - val_loss: 0.6399 - val_accuracy: 0.7939\n",
            "Epoch 3/20\n",
            "48000/48000 [==============================] - 1s 20us/sample - loss: 0.6090 - accuracy: 0.8020 - val_loss: 0.5855 - val_accuracy: 0.8037\n",
            "Epoch 4/20\n",
            "48000/48000 [==============================] - 1s 20us/sample - loss: 0.5633 - accuracy: 0.8144 - val_loss: 0.5483 - val_accuracy: 0.8138\n",
            "Epoch 5/20\n",
            "48000/48000 [==============================] - 1s 21us/sample - loss: 0.5339 - accuracy: 0.8217 - val_loss: 0.5253 - val_accuracy: 0.8177\n",
            "Epoch 6/20\n",
            "48000/48000 [==============================] - 1s 20us/sample - loss: 0.5123 - accuracy: 0.8273 - val_loss: 0.5093 - val_accuracy: 0.8252\n",
            "Epoch 7/20\n",
            "48000/48000 [==============================] - 1s 20us/sample - loss: 0.4967 - accuracy: 0.8320 - val_loss: 0.4958 - val_accuracy: 0.8272\n",
            "Epoch 8/20\n",
            "48000/48000 [==============================] - 1s 20us/sample - loss: 0.4839 - accuracy: 0.8343 - val_loss: 0.4862 - val_accuracy: 0.8318\n",
            "Epoch 9/20\n",
            "48000/48000 [==============================] - 1s 20us/sample - loss: 0.4736 - accuracy: 0.8375 - val_loss: 0.4760 - val_accuracy: 0.8318\n",
            "Epoch 10/20\n",
            "48000/48000 [==============================] - 1s 20us/sample - loss: 0.4647 - accuracy: 0.8403 - val_loss: 0.4687 - val_accuracy: 0.8338\n",
            "Epoch 11/20\n",
            "48000/48000 [==============================] - 1s 20us/sample - loss: 0.4577 - accuracy: 0.8422 - val_loss: 0.4640 - val_accuracy: 0.8362\n",
            "Epoch 12/20\n",
            "48000/48000 [==============================] - 1s 20us/sample - loss: 0.4506 - accuracy: 0.8446 - val_loss: 0.4560 - val_accuracy: 0.8373\n",
            "Epoch 13/20\n",
            "48000/48000 [==============================] - 1s 20us/sample - loss: 0.4446 - accuracy: 0.8461 - val_loss: 0.4514 - val_accuracy: 0.8393\n",
            "Epoch 14/20\n",
            "48000/48000 [==============================] - 1s 21us/sample - loss: 0.4394 - accuracy: 0.8477 - val_loss: 0.4500 - val_accuracy: 0.8398\n",
            "Epoch 15/20\n",
            "48000/48000 [==============================] - 1s 20us/sample - loss: 0.4345 - accuracy: 0.8490 - val_loss: 0.4428 - val_accuracy: 0.8438\n",
            "Epoch 16/20\n",
            "48000/48000 [==============================] - 1s 20us/sample - loss: 0.4300 - accuracy: 0.8504 - val_loss: 0.4454 - val_accuracy: 0.8423\n",
            "Epoch 17/20\n",
            "48000/48000 [==============================] - 1s 23us/sample - loss: 0.4256 - accuracy: 0.8517 - val_loss: 0.4357 - val_accuracy: 0.8468\n",
            "Epoch 18/20\n",
            "48000/48000 [==============================] - 1s 24us/sample - loss: 0.4217 - accuracy: 0.8526 - val_loss: 0.4345 - val_accuracy: 0.8454\n",
            "Epoch 19/20\n",
            "48000/48000 [==============================] - 1s 21us/sample - loss: 0.4186 - accuracy: 0.8535 - val_loss: 0.4281 - val_accuracy: 0.8493\n",
            "Epoch 20/20\n",
            "48000/48000 [==============================] - 1s 20us/sample - loss: 0.4151 - accuracy: 0.8553 - val_loss: 0.4261 - val_accuracy: 0.8489\n"
          ],
          "name": "stdout"
        },
        {
          "output_type": "display_data",
          "data": {
            "text/html": [
              "<span style=\"color:#4527A0\"><h1 style=\"font-size:18px\">Trial complete</h1></span>"
            ],
            "text/plain": [
              "<IPython.core.display.HTML object>"
            ]
          },
          "metadata": {
            "tags": []
          }
        },
        {
          "output_type": "display_data",
          "data": {
            "text/html": [
              "<span style=\"color:#4527A0\"><h1 style=\"font-size:18px\">Trial summary</h1></span>"
            ],
            "text/plain": [
              "<IPython.core.display.HTML object>"
            ]
          },
          "metadata": {
            "tags": []
          }
        },
        {
          "output_type": "display_data",
          "data": {
            "text/html": [
              "<span style=\"color:cyan\"> |-Trial ID: 706ea8b0682b1f37677631f2b73df2a3</span>"
            ],
            "text/plain": [
              "<IPython.core.display.HTML object>"
            ]
          },
          "metadata": {
            "tags": []
          }
        },
        {
          "output_type": "display_data",
          "data": {
            "text/html": [
              "<span style=\"color:cyan\"> |-Score: 0.8492500185966492</span>"
            ],
            "text/plain": [
              "<IPython.core.display.HTML object>"
            ]
          },
          "metadata": {
            "tags": []
          }
        },
        {
          "output_type": "display_data",
          "data": {
            "text/html": [
              "<span style=\"color:cyan\"> |-Best step: 0</span>"
            ],
            "text/plain": [
              "<IPython.core.display.HTML object>"
            ]
          },
          "metadata": {
            "tags": []
          }
        },
        {
          "output_type": "display_data",
          "data": {
            "text/html": [
              "<span style=\"color:#7E57C2\"><h2 style=\"font-size:16px\">Hyperparameters:</h2></span>"
            ],
            "text/plain": [
              "<IPython.core.display.HTML object>"
            ]
          },
          "metadata": {
            "tags": []
          }
        },
        {
          "output_type": "display_data",
          "data": {
            "text/html": [
              "<span style=\"color:cyan\"> |-activation: tanh</span>"
            ],
            "text/plain": [
              "<IPython.core.display.HTML object>"
            ]
          },
          "metadata": {
            "tags": []
          }
        },
        {
          "output_type": "display_data",
          "data": {
            "text/html": [
              "<span style=\"color:blue\"> |-optimizer: SGD</span>"
            ],
            "text/plain": [
              "<IPython.core.display.HTML object>"
            ]
          },
          "metadata": {
            "tags": []
          }
        },
        {
          "output_type": "display_data",
          "data": {
            "text/html": [
              "<span style=\"color:cyan\"> |-units_hidden: 192</span>"
            ],
            "text/plain": [
              "<IPython.core.display.HTML object>"
            ]
          },
          "metadata": {
            "tags": []
          }
        },
        {
          "output_type": "display_data",
          "data": {
            "text/html": [
              "<span style=\"color:blue\"> |-units_input: 928</span>"
            ],
            "text/plain": [
              "<IPython.core.display.HTML object>"
            ]
          },
          "metadata": {
            "tags": []
          }
        },
        {
          "output_type": "stream",
          "text": [
            "Train on 48000 samples, validate on 12000 samples\n",
            "Epoch 1/20\n",
            "48000/48000 [==============================] - 2s 34us/sample - loss: 0.7272 - accuracy: 0.7405 - val_loss: 0.5798 - val_accuracy: 0.7806\n",
            "Epoch 2/20\n",
            "48000/48000 [==============================] - 1s 22us/sample - loss: 0.4616 - accuracy: 0.8270 - val_loss: 0.5171 - val_accuracy: 0.8011\n",
            "Epoch 3/20\n",
            "48000/48000 [==============================] - 1s 22us/sample - loss: 0.3973 - accuracy: 0.8517 - val_loss: 0.4948 - val_accuracy: 0.8130\n",
            "Epoch 4/20\n",
            "48000/48000 [==============================] - 1s 22us/sample - loss: 0.3588 - accuracy: 0.8658 - val_loss: 0.3417 - val_accuracy: 0.8737\n",
            "Epoch 5/20\n",
            "48000/48000 [==============================] - 1s 22us/sample - loss: 0.3323 - accuracy: 0.8748 - val_loss: 0.4186 - val_accuracy: 0.8447\n",
            "Epoch 6/20\n",
            "48000/48000 [==============================] - 1s 22us/sample - loss: 0.3107 - accuracy: 0.8832 - val_loss: 0.3437 - val_accuracy: 0.8727\n",
            "Epoch 7/20\n",
            "48000/48000 [==============================] - 1s 22us/sample - loss: 0.2925 - accuracy: 0.8892 - val_loss: 0.3951 - val_accuracy: 0.8543\n",
            "Epoch 8/20\n",
            "48000/48000 [==============================] - 1s 22us/sample - loss: 0.2767 - accuracy: 0.8952 - val_loss: 0.3855 - val_accuracy: 0.8607\n",
            "Epoch 9/20\n",
            "48000/48000 [==============================] - 1s 22us/sample - loss: 0.2637 - accuracy: 0.9000 - val_loss: 0.3476 - val_accuracy: 0.8742\n",
            "Epoch 10/20\n",
            "48000/48000 [==============================] - 1s 21us/sample - loss: 0.2512 - accuracy: 0.9050 - val_loss: 0.3579 - val_accuracy: 0.8671\n",
            "Epoch 11/20\n",
            "48000/48000 [==============================] - 1s 22us/sample - loss: 0.2416 - accuracy: 0.9088 - val_loss: 0.3123 - val_accuracy: 0.8879\n",
            "Epoch 12/20\n",
            "48000/48000 [==============================] - 1s 21us/sample - loss: 0.2316 - accuracy: 0.9128 - val_loss: 0.3223 - val_accuracy: 0.8855\n",
            "Epoch 13/20\n",
            "48000/48000 [==============================] - 1s 22us/sample - loss: 0.2209 - accuracy: 0.9164 - val_loss: 0.3310 - val_accuracy: 0.8781\n",
            "Epoch 14/20\n",
            "48000/48000 [==============================] - 1s 21us/sample - loss: 0.2130 - accuracy: 0.9194 - val_loss: 0.3315 - val_accuracy: 0.8823\n",
            "Epoch 15/20\n",
            "48000/48000 [==============================] - 1s 21us/sample - loss: 0.2056 - accuracy: 0.9210 - val_loss: 0.3340 - val_accuracy: 0.8851\n",
            "Epoch 16/20\n",
            "48000/48000 [==============================] - 1s 23us/sample - loss: 0.1974 - accuracy: 0.9253 - val_loss: 0.3577 - val_accuracy: 0.8764\n",
            "Epoch 17/20\n",
            "48000/48000 [==============================] - 1s 24us/sample - loss: 0.1887 - accuracy: 0.9290 - val_loss: 0.3388 - val_accuracy: 0.8786\n",
            "Epoch 18/20\n",
            "48000/48000 [==============================] - 1s 21us/sample - loss: 0.1813 - accuracy: 0.9317 - val_loss: 0.3288 - val_accuracy: 0.8832\n",
            "Epoch 19/20\n",
            "48000/48000 [==============================] - 1s 22us/sample - loss: 0.1748 - accuracy: 0.9353 - val_loss: 0.3099 - val_accuracy: 0.8924\n",
            "Epoch 20/20\n",
            "48000/48000 [==============================] - 1s 22us/sample - loss: 0.1688 - accuracy: 0.9361 - val_loss: 0.3537 - val_accuracy: 0.8813\n"
          ],
          "name": "stdout"
        },
        {
          "output_type": "display_data",
          "data": {
            "text/html": [
              "<span style=\"color:#4527A0\"><h1 style=\"font-size:18px\">Trial complete</h1></span>"
            ],
            "text/plain": [
              "<IPython.core.display.HTML object>"
            ]
          },
          "metadata": {
            "tags": []
          }
        },
        {
          "output_type": "display_data",
          "data": {
            "text/html": [
              "<span style=\"color:#4527A0\"><h1 style=\"font-size:18px\">Trial summary</h1></span>"
            ],
            "text/plain": [
              "<IPython.core.display.HTML object>"
            ]
          },
          "metadata": {
            "tags": []
          }
        },
        {
          "output_type": "display_data",
          "data": {
            "text/html": [
              "<span style=\"color:cyan\"> |-Trial ID: 3b8964aa15cad5a0c8a05ec7f9b99e8a</span>"
            ],
            "text/plain": [
              "<IPython.core.display.HTML object>"
            ]
          },
          "metadata": {
            "tags": []
          }
        },
        {
          "output_type": "display_data",
          "data": {
            "text/html": [
              "<span style=\"color:cyan\"> |-Score: 0.8924166560173035</span>"
            ],
            "text/plain": [
              "<IPython.core.display.HTML object>"
            ]
          },
          "metadata": {
            "tags": []
          }
        },
        {
          "output_type": "display_data",
          "data": {
            "text/html": [
              "<span style=\"color:cyan\"> |-Best step: 0</span>"
            ],
            "text/plain": [
              "<IPython.core.display.HTML object>"
            ]
          },
          "metadata": {
            "tags": []
          }
        },
        {
          "output_type": "display_data",
          "data": {
            "text/html": [
              "<span style=\"color:#7E57C2\"><h2 style=\"font-size:16px\">Hyperparameters:</h2></span>"
            ],
            "text/plain": [
              "<IPython.core.display.HTML object>"
            ]
          },
          "metadata": {
            "tags": []
          }
        },
        {
          "output_type": "display_data",
          "data": {
            "text/html": [
              "<span style=\"color:cyan\"> |-activation: tanh</span>"
            ],
            "text/plain": [
              "<IPython.core.display.HTML object>"
            ]
          },
          "metadata": {
            "tags": []
          }
        },
        {
          "output_type": "display_data",
          "data": {
            "text/html": [
              "<span style=\"color:blue\"> |-optimizer: rmsprop</span>"
            ],
            "text/plain": [
              "<IPython.core.display.HTML object>"
            ]
          },
          "metadata": {
            "tags": []
          }
        },
        {
          "output_type": "display_data",
          "data": {
            "text/html": [
              "<span style=\"color:cyan\"> |-units_hidden: 320</span>"
            ],
            "text/plain": [
              "<IPython.core.display.HTML object>"
            ]
          },
          "metadata": {
            "tags": []
          }
        },
        {
          "output_type": "display_data",
          "data": {
            "text/html": [
              "<span style=\"color:blue\"> |-units_input: 640</span>"
            ],
            "text/plain": [
              "<IPython.core.display.HTML object>"
            ]
          },
          "metadata": {
            "tags": []
          }
        },
        {
          "output_type": "stream",
          "text": [
            "Train on 48000 samples, validate on 12000 samples\n",
            "Epoch 1/20\n",
            "48000/48000 [==============================] - 2s 34us/sample - loss: 0.6674 - accuracy: 0.7641 - val_loss: 0.5063 - val_accuracy: 0.8196\n",
            "Epoch 2/20\n",
            "48000/48000 [==============================] - 1s 24us/sample - loss: 0.4161 - accuracy: 0.8451 - val_loss: 0.4852 - val_accuracy: 0.8321\n",
            "Epoch 3/20\n",
            "48000/48000 [==============================] - 1s 24us/sample - loss: 0.3588 - accuracy: 0.8665 - val_loss: 0.4240 - val_accuracy: 0.8508\n",
            "Epoch 4/20\n",
            "48000/48000 [==============================] - 1s 24us/sample - loss: 0.3292 - accuracy: 0.8756 - val_loss: 0.6812 - val_accuracy: 0.7677\n",
            "Epoch 5/20\n",
            "48000/48000 [==============================] - 1s 24us/sample - loss: 0.3051 - accuracy: 0.8850 - val_loss: 0.3401 - val_accuracy: 0.8791\n",
            "Epoch 6/20\n",
            "48000/48000 [==============================] - 1s 24us/sample - loss: 0.2858 - accuracy: 0.8922 - val_loss: 0.3674 - val_accuracy: 0.8720\n",
            "Epoch 7/20\n",
            "48000/48000 [==============================] - 1s 24us/sample - loss: 0.2700 - accuracy: 0.8979 - val_loss: 0.3433 - val_accuracy: 0.8799\n",
            "Epoch 8/20\n",
            "48000/48000 [==============================] - 1s 23us/sample - loss: 0.2574 - accuracy: 0.9019 - val_loss: 0.3833 - val_accuracy: 0.8776\n",
            "Epoch 9/20\n",
            "48000/48000 [==============================] - 1s 24us/sample - loss: 0.2451 - accuracy: 0.9072 - val_loss: 0.3811 - val_accuracy: 0.8815\n",
            "Epoch 10/20\n",
            "48000/48000 [==============================] - 1s 23us/sample - loss: 0.2336 - accuracy: 0.9118 - val_loss: 0.3520 - val_accuracy: 0.8812\n",
            "Epoch 11/20\n",
            "48000/48000 [==============================] - 1s 24us/sample - loss: 0.2243 - accuracy: 0.9157 - val_loss: 0.3701 - val_accuracy: 0.8954\n",
            "Epoch 12/20\n",
            "48000/48000 [==============================] - 1s 23us/sample - loss: 0.2142 - accuracy: 0.9179 - val_loss: 0.4666 - val_accuracy: 0.8779\n",
            "Epoch 13/20\n",
            "48000/48000 [==============================] - 1s 24us/sample - loss: 0.2061 - accuracy: 0.9214 - val_loss: 0.3874 - val_accuracy: 0.8733\n",
            "Epoch 14/20\n",
            "48000/48000 [==============================] - 1s 23us/sample - loss: 0.2025 - accuracy: 0.9230 - val_loss: 0.4075 - val_accuracy: 0.8825\n",
            "Epoch 15/20\n",
            "48000/48000 [==============================] - 1s 24us/sample - loss: 0.1970 - accuracy: 0.9267 - val_loss: 0.4465 - val_accuracy: 0.8646\n",
            "Epoch 16/20\n",
            "48000/48000 [==============================] - 1s 25us/sample - loss: 0.1890 - accuracy: 0.9290 - val_loss: 0.3569 - val_accuracy: 0.8981\n",
            "Epoch 17/20\n",
            "48000/48000 [==============================] - 1s 24us/sample - loss: 0.1858 - accuracy: 0.9298 - val_loss: 0.4491 - val_accuracy: 0.8781\n",
            "Epoch 18/20\n",
            "48000/48000 [==============================] - 1s 24us/sample - loss: 0.1789 - accuracy: 0.9338 - val_loss: 0.4392 - val_accuracy: 0.8892\n",
            "Epoch 19/20\n",
            "48000/48000 [==============================] - 1s 24us/sample - loss: 0.1744 - accuracy: 0.9342 - val_loss: 0.4234 - val_accuracy: 0.8888\n",
            "Epoch 20/20\n",
            "48000/48000 [==============================] - 1s 23us/sample - loss: 0.1670 - accuracy: 0.9363 - val_loss: 0.4607 - val_accuracy: 0.8751\n"
          ],
          "name": "stdout"
        },
        {
          "output_type": "display_data",
          "data": {
            "text/html": [
              "<span style=\"color:#4527A0\"><h1 style=\"font-size:18px\">Trial complete</h1></span>"
            ],
            "text/plain": [
              "<IPython.core.display.HTML object>"
            ]
          },
          "metadata": {
            "tags": []
          }
        },
        {
          "output_type": "display_data",
          "data": {
            "text/html": [
              "<span style=\"color:#4527A0\"><h1 style=\"font-size:18px\">Trial summary</h1></span>"
            ],
            "text/plain": [
              "<IPython.core.display.HTML object>"
            ]
          },
          "metadata": {
            "tags": []
          }
        },
        {
          "output_type": "display_data",
          "data": {
            "text/html": [
              "<span style=\"color:cyan\"> |-Trial ID: d48bfd937a3eab12a0a43895c68f32ef</span>"
            ],
            "text/plain": [
              "<IPython.core.display.HTML object>"
            ]
          },
          "metadata": {
            "tags": []
          }
        },
        {
          "output_type": "display_data",
          "data": {
            "text/html": [
              "<span style=\"color:cyan\"> |-Score: 0.8980833292007446</span>"
            ],
            "text/plain": [
              "<IPython.core.display.HTML object>"
            ]
          },
          "metadata": {
            "tags": []
          }
        },
        {
          "output_type": "display_data",
          "data": {
            "text/html": [
              "<span style=\"color:cyan\"> |-Best step: 0</span>"
            ],
            "text/plain": [
              "<IPython.core.display.HTML object>"
            ]
          },
          "metadata": {
            "tags": []
          }
        },
        {
          "output_type": "display_data",
          "data": {
            "text/html": [
              "<span style=\"color:#7E57C2\"><h2 style=\"font-size:16px\">Hyperparameters:</h2></span>"
            ],
            "text/plain": [
              "<IPython.core.display.HTML object>"
            ]
          },
          "metadata": {
            "tags": []
          }
        },
        {
          "output_type": "display_data",
          "data": {
            "text/html": [
              "<span style=\"color:cyan\"> |-activation: relu</span>"
            ],
            "text/plain": [
              "<IPython.core.display.HTML object>"
            ]
          },
          "metadata": {
            "tags": []
          }
        },
        {
          "output_type": "display_data",
          "data": {
            "text/html": [
              "<span style=\"color:blue\"> |-optimizer: rmsprop</span>"
            ],
            "text/plain": [
              "<IPython.core.display.HTML object>"
            ]
          },
          "metadata": {
            "tags": []
          }
        },
        {
          "output_type": "display_data",
          "data": {
            "text/html": [
              "<span style=\"color:cyan\"> |-units_hidden: 480</span>"
            ],
            "text/plain": [
              "<IPython.core.display.HTML object>"
            ]
          },
          "metadata": {
            "tags": []
          }
        },
        {
          "output_type": "display_data",
          "data": {
            "text/html": [
              "<span style=\"color:blue\"> |-units_input: 896</span>"
            ],
            "text/plain": [
              "<IPython.core.display.HTML object>"
            ]
          },
          "metadata": {
            "tags": []
          }
        },
        {
          "output_type": "stream",
          "text": [
            "Train on 48000 samples, validate on 12000 samples\n",
            "Epoch 1/20\n",
            "48000/48000 [==============================] - 1s 30us/sample - loss: 0.5198 - accuracy: 0.8157 - val_loss: 0.4123 - val_accuracy: 0.8497\n",
            "Epoch 2/20\n",
            "48000/48000 [==============================] - 1s 22us/sample - loss: 0.3656 - accuracy: 0.8678 - val_loss: 0.3900 - val_accuracy: 0.8533\n",
            "Epoch 3/20\n",
            "48000/48000 [==============================] - 1s 23us/sample - loss: 0.3229 - accuracy: 0.8818 - val_loss: 0.3586 - val_accuracy: 0.8658\n",
            "Epoch 4/20\n",
            "48000/48000 [==============================] - 1s 23us/sample - loss: 0.2906 - accuracy: 0.8917 - val_loss: 0.3528 - val_accuracy: 0.8768\n",
            "Epoch 5/20\n",
            "48000/48000 [==============================] - 1s 23us/sample - loss: 0.2759 - accuracy: 0.8976 - val_loss: 0.3209 - val_accuracy: 0.8843\n",
            "Epoch 6/20\n",
            "48000/48000 [==============================] - 1s 23us/sample - loss: 0.2605 - accuracy: 0.9020 - val_loss: 0.3149 - val_accuracy: 0.8879\n",
            "Epoch 7/20\n",
            "48000/48000 [==============================] - 1s 23us/sample - loss: 0.2456 - accuracy: 0.9085 - val_loss: 0.3093 - val_accuracy: 0.8898\n",
            "Epoch 8/20\n",
            "48000/48000 [==============================] - 1s 22us/sample - loss: 0.2329 - accuracy: 0.9123 - val_loss: 0.3120 - val_accuracy: 0.8880\n",
            "Epoch 9/20\n",
            "48000/48000 [==============================] - 1s 24us/sample - loss: 0.2264 - accuracy: 0.9154 - val_loss: 0.3160 - val_accuracy: 0.8869\n",
            "Epoch 10/20\n",
            "48000/48000 [==============================] - 1s 25us/sample - loss: 0.2079 - accuracy: 0.9219 - val_loss: 0.3156 - val_accuracy: 0.8925\n",
            "Epoch 11/20\n",
            "48000/48000 [==============================] - 1s 24us/sample - loss: 0.2041 - accuracy: 0.9218 - val_loss: 0.3181 - val_accuracy: 0.8902\n",
            "Epoch 12/20\n",
            "48000/48000 [==============================] - 1s 23us/sample - loss: 0.1964 - accuracy: 0.9256 - val_loss: 0.3077 - val_accuracy: 0.8942\n",
            "Epoch 13/20\n",
            "48000/48000 [==============================] - 1s 24us/sample - loss: 0.1860 - accuracy: 0.9301 - val_loss: 0.3152 - val_accuracy: 0.8954\n",
            "Epoch 14/20\n",
            "48000/48000 [==============================] - 1s 25us/sample - loss: 0.1749 - accuracy: 0.9340 - val_loss: 0.3348 - val_accuracy: 0.8952\n",
            "Epoch 15/20\n",
            "48000/48000 [==============================] - 1s 22us/sample - loss: 0.1714 - accuracy: 0.9339 - val_loss: 0.3276 - val_accuracy: 0.8942\n",
            "Epoch 16/20\n",
            "48000/48000 [==============================] - 1s 23us/sample - loss: 0.1710 - accuracy: 0.9351 - val_loss: 0.3343 - val_accuracy: 0.8899\n",
            "Epoch 17/20\n",
            "48000/48000 [==============================] - 1s 23us/sample - loss: 0.1595 - accuracy: 0.9395 - val_loss: 0.3270 - val_accuracy: 0.8955\n",
            "Epoch 18/20\n",
            "48000/48000 [==============================] - 1s 22us/sample - loss: 0.1529 - accuracy: 0.9420 - val_loss: 0.3316 - val_accuracy: 0.8946\n",
            "Epoch 19/20\n",
            "48000/48000 [==============================] - 1s 22us/sample - loss: 0.1448 - accuracy: 0.9451 - val_loss: 0.3459 - val_accuracy: 0.8974\n",
            "Epoch 20/20\n",
            "48000/48000 [==============================] - 1s 23us/sample - loss: 0.1400 - accuracy: 0.9461 - val_loss: 0.3411 - val_accuracy: 0.8998\n"
          ],
          "name": "stdout"
        },
        {
          "output_type": "display_data",
          "data": {
            "text/html": [
              "<span style=\"color:#4527A0\"><h1 style=\"font-size:18px\">Trial complete</h1></span>"
            ],
            "text/plain": [
              "<IPython.core.display.HTML object>"
            ]
          },
          "metadata": {
            "tags": []
          }
        },
        {
          "output_type": "display_data",
          "data": {
            "text/html": [
              "<span style=\"color:#4527A0\"><h1 style=\"font-size:18px\">Trial summary</h1></span>"
            ],
            "text/plain": [
              "<IPython.core.display.HTML object>"
            ]
          },
          "metadata": {
            "tags": []
          }
        },
        {
          "output_type": "display_data",
          "data": {
            "text/html": [
              "<span style=\"color:cyan\"> |-Trial ID: 1b5c7cf7d980db3e10d33db9b9774864</span>"
            ],
            "text/plain": [
              "<IPython.core.display.HTML object>"
            ]
          },
          "metadata": {
            "tags": []
          }
        },
        {
          "output_type": "display_data",
          "data": {
            "text/html": [
              "<span style=\"color:cyan\"> |-Score: 0.8998333215713501</span>"
            ],
            "text/plain": [
              "<IPython.core.display.HTML object>"
            ]
          },
          "metadata": {
            "tags": []
          }
        },
        {
          "output_type": "display_data",
          "data": {
            "text/html": [
              "<span style=\"color:cyan\"> |-Best step: 0</span>"
            ],
            "text/plain": [
              "<IPython.core.display.HTML object>"
            ]
          },
          "metadata": {
            "tags": []
          }
        },
        {
          "output_type": "display_data",
          "data": {
            "text/html": [
              "<span style=\"color:#7E57C2\"><h2 style=\"font-size:16px\">Hyperparameters:</h2></span>"
            ],
            "text/plain": [
              "<IPython.core.display.HTML object>"
            ]
          },
          "metadata": {
            "tags": []
          }
        },
        {
          "output_type": "display_data",
          "data": {
            "text/html": [
              "<span style=\"color:cyan\"> |-activation: relu</span>"
            ],
            "text/plain": [
              "<IPython.core.display.HTML object>"
            ]
          },
          "metadata": {
            "tags": []
          }
        },
        {
          "output_type": "display_data",
          "data": {
            "text/html": [
              "<span style=\"color:blue\"> |-optimizer: adam</span>"
            ],
            "text/plain": [
              "<IPython.core.display.HTML object>"
            ]
          },
          "metadata": {
            "tags": []
          }
        },
        {
          "output_type": "display_data",
          "data": {
            "text/html": [
              "<span style=\"color:cyan\"> |-units_hidden: 448</span>"
            ],
            "text/plain": [
              "<IPython.core.display.HTML object>"
            ]
          },
          "metadata": {
            "tags": []
          }
        },
        {
          "output_type": "display_data",
          "data": {
            "text/html": [
              "<span style=\"color:blue\"> |-units_input: 896</span>"
            ],
            "text/plain": [
              "<IPython.core.display.HTML object>"
            ]
          },
          "metadata": {
            "tags": []
          }
        },
        {
          "output_type": "stream",
          "text": [
            "Train on 48000 samples, validate on 12000 samples\n",
            "Epoch 1/20\n",
            "48000/48000 [==============================] - 1s 28us/sample - loss: 1.3294 - accuracy: 0.6324 - val_loss: 0.8962 - val_accuracy: 0.7277\n",
            "Epoch 2/20\n",
            "48000/48000 [==============================] - 1s 22us/sample - loss: 0.7993 - accuracy: 0.7451 - val_loss: 0.7200 - val_accuracy: 0.7636\n",
            "Epoch 3/20\n",
            "48000/48000 [==============================] - 1s 22us/sample - loss: 0.6812 - accuracy: 0.7802 - val_loss: 0.6398 - val_accuracy: 0.7914\n",
            "Epoch 4/20\n",
            "48000/48000 [==============================] - 1s 22us/sample - loss: 0.6183 - accuracy: 0.7994 - val_loss: 0.5919 - val_accuracy: 0.8073\n",
            "Epoch 5/20\n",
            "48000/48000 [==============================] - 1s 21us/sample - loss: 0.5768 - accuracy: 0.8114 - val_loss: 0.5692 - val_accuracy: 0.8034\n",
            "Epoch 6/20\n",
            "48000/48000 [==============================] - 1s 20us/sample - loss: 0.5477 - accuracy: 0.8195 - val_loss: 0.5477 - val_accuracy: 0.8112\n",
            "Epoch 7/20\n",
            "48000/48000 [==============================] - 1s 20us/sample - loss: 0.5254 - accuracy: 0.8254 - val_loss: 0.5219 - val_accuracy: 0.8211\n",
            "Epoch 8/20\n",
            "48000/48000 [==============================] - 1s 21us/sample - loss: 0.5082 - accuracy: 0.8311 - val_loss: 0.5116 - val_accuracy: 0.8217\n",
            "Epoch 9/20\n",
            "48000/48000 [==============================] - 1s 23us/sample - loss: 0.4941 - accuracy: 0.8329 - val_loss: 0.4969 - val_accuracy: 0.8238\n",
            "Epoch 10/20\n",
            "48000/48000 [==============================] - 1s 20us/sample - loss: 0.4827 - accuracy: 0.8357 - val_loss: 0.4872 - val_accuracy: 0.8307\n",
            "Epoch 11/20\n",
            "48000/48000 [==============================] - 1s 20us/sample - loss: 0.4722 - accuracy: 0.8401 - val_loss: 0.4844 - val_accuracy: 0.8288\n",
            "Epoch 12/20\n",
            "48000/48000 [==============================] - 1s 21us/sample - loss: 0.4640 - accuracy: 0.8423 - val_loss: 0.4669 - val_accuracy: 0.8369\n",
            "Epoch 13/20\n",
            "48000/48000 [==============================] - 1s 21us/sample - loss: 0.4559 - accuracy: 0.8450 - val_loss: 0.4644 - val_accuracy: 0.8354\n",
            "Epoch 14/20\n",
            "48000/48000 [==============================] - 1s 21us/sample - loss: 0.4505 - accuracy: 0.8457 - val_loss: 0.4554 - val_accuracy: 0.8413\n",
            "Epoch 15/20\n",
            "48000/48000 [==============================] - 1s 20us/sample - loss: 0.4431 - accuracy: 0.8471 - val_loss: 0.4553 - val_accuracy: 0.8386\n",
            "Epoch 16/20\n",
            "48000/48000 [==============================] - 1s 21us/sample - loss: 0.4377 - accuracy: 0.8489 - val_loss: 0.4454 - val_accuracy: 0.8412\n",
            "Epoch 17/20\n",
            "48000/48000 [==============================] - 1s 21us/sample - loss: 0.4324 - accuracy: 0.8517 - val_loss: 0.4433 - val_accuracy: 0.8440\n",
            "Epoch 18/20\n",
            "48000/48000 [==============================] - 1s 21us/sample - loss: 0.4276 - accuracy: 0.8531 - val_loss: 0.4443 - val_accuracy: 0.8464\n",
            "Epoch 19/20\n",
            "48000/48000 [==============================] - 1s 21us/sample - loss: 0.4240 - accuracy: 0.8549 - val_loss: 0.4357 - val_accuracy: 0.8482\n",
            "Epoch 20/20\n",
            "48000/48000 [==============================] - 1s 20us/sample - loss: 0.4200 - accuracy: 0.8553 - val_loss: 0.4306 - val_accuracy: 0.8474\n"
          ],
          "name": "stdout"
        },
        {
          "output_type": "display_data",
          "data": {
            "text/html": [
              "<span style=\"color:#4527A0\"><h1 style=\"font-size:18px\">Trial complete</h1></span>"
            ],
            "text/plain": [
              "<IPython.core.display.HTML object>"
            ]
          },
          "metadata": {
            "tags": []
          }
        },
        {
          "output_type": "display_data",
          "data": {
            "text/html": [
              "<span style=\"color:#4527A0\"><h1 style=\"font-size:18px\">Trial summary</h1></span>"
            ],
            "text/plain": [
              "<IPython.core.display.HTML object>"
            ]
          },
          "metadata": {
            "tags": []
          }
        },
        {
          "output_type": "display_data",
          "data": {
            "text/html": [
              "<span style=\"color:cyan\"> |-Trial ID: 02284a5914bd326d4e233165a23b5c84</span>"
            ],
            "text/plain": [
              "<IPython.core.display.HTML object>"
            ]
          },
          "metadata": {
            "tags": []
          }
        },
        {
          "output_type": "display_data",
          "data": {
            "text/html": [
              "<span style=\"color:cyan\"> |-Score: 0.8481666445732117</span>"
            ],
            "text/plain": [
              "<IPython.core.display.HTML object>"
            ]
          },
          "metadata": {
            "tags": []
          }
        },
        {
          "output_type": "display_data",
          "data": {
            "text/html": [
              "<span style=\"color:cyan\"> |-Best step: 0</span>"
            ],
            "text/plain": [
              "<IPython.core.display.HTML object>"
            ]
          },
          "metadata": {
            "tags": []
          }
        },
        {
          "output_type": "display_data",
          "data": {
            "text/html": [
              "<span style=\"color:#7E57C2\"><h2 style=\"font-size:16px\">Hyperparameters:</h2></span>"
            ],
            "text/plain": [
              "<IPython.core.display.HTML object>"
            ]
          },
          "metadata": {
            "tags": []
          }
        },
        {
          "output_type": "display_data",
          "data": {
            "text/html": [
              "<span style=\"color:cyan\"> |-activation: relu</span>"
            ],
            "text/plain": [
              "<IPython.core.display.HTML object>"
            ]
          },
          "metadata": {
            "tags": []
          }
        },
        {
          "output_type": "display_data",
          "data": {
            "text/html": [
              "<span style=\"color:blue\"> |-optimizer: SGD</span>"
            ],
            "text/plain": [
              "<IPython.core.display.HTML object>"
            ]
          },
          "metadata": {
            "tags": []
          }
        },
        {
          "output_type": "display_data",
          "data": {
            "text/html": [
              "<span style=\"color:cyan\"> |-units_hidden: 480</span>"
            ],
            "text/plain": [
              "<IPython.core.display.HTML object>"
            ]
          },
          "metadata": {
            "tags": []
          }
        },
        {
          "output_type": "display_data",
          "data": {
            "text/html": [
              "<span style=\"color:blue\"> |-units_input: 576</span>"
            ],
            "text/plain": [
              "<IPython.core.display.HTML object>"
            ]
          },
          "metadata": {
            "tags": []
          }
        },
        {
          "output_type": "stream",
          "text": [
            "Train on 48000 samples, validate on 12000 samples\n",
            "Epoch 1/20\n",
            "48000/48000 [==============================] - 1s 27us/sample - loss: 0.5880 - accuracy: 0.7949 - val_loss: 0.4443 - val_accuracy: 0.8422\n",
            "Epoch 2/20\n",
            "48000/48000 [==============================] - 1s 21us/sample - loss: 0.4048 - accuracy: 0.8539 - val_loss: 0.4246 - val_accuracy: 0.8505\n",
            "Epoch 3/20\n",
            "48000/48000 [==============================] - 1s 21us/sample - loss: 0.3661 - accuracy: 0.8662 - val_loss: 0.3785 - val_accuracy: 0.8624\n",
            "Epoch 4/20\n",
            "48000/48000 [==============================] - 1s 21us/sample - loss: 0.3454 - accuracy: 0.8736 - val_loss: 0.3461 - val_accuracy: 0.8735\n",
            "Epoch 5/20\n",
            "48000/48000 [==============================] - 1s 21us/sample - loss: 0.3276 - accuracy: 0.8795 - val_loss: 0.3785 - val_accuracy: 0.8618\n",
            "Epoch 6/20\n",
            "48000/48000 [==============================] - 1s 22us/sample - loss: 0.3126 - accuracy: 0.8852 - val_loss: 0.3685 - val_accuracy: 0.8633\n",
            "Epoch 7/20\n",
            "48000/48000 [==============================] - 1s 22us/sample - loss: 0.2961 - accuracy: 0.8919 - val_loss: 0.3459 - val_accuracy: 0.8783\n",
            "Epoch 8/20\n",
            "48000/48000 [==============================] - 1s 21us/sample - loss: 0.2803 - accuracy: 0.8962 - val_loss: 0.3322 - val_accuracy: 0.8810\n",
            "Epoch 9/20\n",
            "48000/48000 [==============================] - 1s 20us/sample - loss: 0.2732 - accuracy: 0.8987 - val_loss: 0.3460 - val_accuracy: 0.8758\n",
            "Epoch 10/20\n",
            "48000/48000 [==============================] - 1s 21us/sample - loss: 0.2640 - accuracy: 0.9019 - val_loss: 0.3319 - val_accuracy: 0.8837\n",
            "Epoch 11/20\n",
            "48000/48000 [==============================] - 1s 21us/sample - loss: 0.2502 - accuracy: 0.9069 - val_loss: 0.3371 - val_accuracy: 0.8828\n",
            "Epoch 12/20\n",
            "48000/48000 [==============================] - 1s 22us/sample - loss: 0.2419 - accuracy: 0.9090 - val_loss: 0.3228 - val_accuracy: 0.8863\n",
            "Epoch 13/20\n",
            "48000/48000 [==============================] - 1s 20us/sample - loss: 0.2315 - accuracy: 0.9136 - val_loss: 0.3311 - val_accuracy: 0.8832\n",
            "Epoch 14/20\n",
            "48000/48000 [==============================] - 1s 21us/sample - loss: 0.2256 - accuracy: 0.9153 - val_loss: 0.3202 - val_accuracy: 0.8905\n",
            "Epoch 15/20\n",
            "48000/48000 [==============================] - 1s 22us/sample - loss: 0.2164 - accuracy: 0.9194 - val_loss: 0.3180 - val_accuracy: 0.8917\n",
            "Epoch 16/20\n",
            "48000/48000 [==============================] - 1s 20us/sample - loss: 0.2096 - accuracy: 0.9214 - val_loss: 0.3114 - val_accuracy: 0.8908\n",
            "Epoch 17/20\n",
            "48000/48000 [==============================] - 1s 21us/sample - loss: 0.2085 - accuracy: 0.9220 - val_loss: 0.3239 - val_accuracy: 0.8888\n",
            "Epoch 18/20\n",
            "48000/48000 [==============================] - 1s 20us/sample - loss: 0.1997 - accuracy: 0.9252 - val_loss: 0.3360 - val_accuracy: 0.8858\n",
            "Epoch 19/20\n",
            "48000/48000 [==============================] - 1s 20us/sample - loss: 0.1926 - accuracy: 0.9288 - val_loss: 0.3221 - val_accuracy: 0.8910\n",
            "Epoch 20/20\n",
            "48000/48000 [==============================] - 1s 20us/sample - loss: 0.1912 - accuracy: 0.9278 - val_loss: 0.3631 - val_accuracy: 0.8799\n"
          ],
          "name": "stdout"
        },
        {
          "output_type": "display_data",
          "data": {
            "text/html": [
              "<span style=\"color:#4527A0\"><h1 style=\"font-size:18px\">Trial complete</h1></span>"
            ],
            "text/plain": [
              "<IPython.core.display.HTML object>"
            ]
          },
          "metadata": {
            "tags": []
          }
        },
        {
          "output_type": "display_data",
          "data": {
            "text/html": [
              "<span style=\"color:#4527A0\"><h1 style=\"font-size:18px\">Trial summary</h1></span>"
            ],
            "text/plain": [
              "<IPython.core.display.HTML object>"
            ]
          },
          "metadata": {
            "tags": []
          }
        },
        {
          "output_type": "display_data",
          "data": {
            "text/html": [
              "<span style=\"color:cyan\"> |-Trial ID: d03d60318c1870c627512566db602c29</span>"
            ],
            "text/plain": [
              "<IPython.core.display.HTML object>"
            ]
          },
          "metadata": {
            "tags": []
          }
        },
        {
          "output_type": "display_data",
          "data": {
            "text/html": [
              "<span style=\"color:cyan\"> |-Score: 0.8916666507720947</span>"
            ],
            "text/plain": [
              "<IPython.core.display.HTML object>"
            ]
          },
          "metadata": {
            "tags": []
          }
        },
        {
          "output_type": "display_data",
          "data": {
            "text/html": [
              "<span style=\"color:cyan\"> |-Best step: 0</span>"
            ],
            "text/plain": [
              "<IPython.core.display.HTML object>"
            ]
          },
          "metadata": {
            "tags": []
          }
        },
        {
          "output_type": "display_data",
          "data": {
            "text/html": [
              "<span style=\"color:#7E57C2\"><h2 style=\"font-size:16px\">Hyperparameters:</h2></span>"
            ],
            "text/plain": [
              "<IPython.core.display.HTML object>"
            ]
          },
          "metadata": {
            "tags": []
          }
        },
        {
          "output_type": "display_data",
          "data": {
            "text/html": [
              "<span style=\"color:cyan\"> |-activation: selu</span>"
            ],
            "text/plain": [
              "<IPython.core.display.HTML object>"
            ]
          },
          "metadata": {
            "tags": []
          }
        },
        {
          "output_type": "display_data",
          "data": {
            "text/html": [
              "<span style=\"color:blue\"> |-optimizer: adam</span>"
            ],
            "text/plain": [
              "<IPython.core.display.HTML object>"
            ]
          },
          "metadata": {
            "tags": []
          }
        },
        {
          "output_type": "display_data",
          "data": {
            "text/html": [
              "<span style=\"color:cyan\"> |-units_hidden: 288</span>"
            ],
            "text/plain": [
              "<IPython.core.display.HTML object>"
            ]
          },
          "metadata": {
            "tags": []
          }
        },
        {
          "output_type": "display_data",
          "data": {
            "text/html": [
              "<span style=\"color:blue\"> |-units_input: 576</span>"
            ],
            "text/plain": [
              "<IPython.core.display.HTML object>"
            ]
          },
          "metadata": {
            "tags": []
          }
        },
        {
          "output_type": "stream",
          "text": [
            "Train on 48000 samples, validate on 12000 samples\n",
            "Epoch 1/20\n",
            "48000/48000 [==============================] - 2s 33us/sample - loss: 0.6566 - accuracy: 0.7644 - val_loss: 0.4743 - val_accuracy: 0.8226\n",
            "Epoch 2/20\n",
            "48000/48000 [==============================] - 1s 24us/sample - loss: 0.4209 - accuracy: 0.8453 - val_loss: 0.4277 - val_accuracy: 0.8407\n",
            "Epoch 3/20\n",
            "48000/48000 [==============================] - 1s 24us/sample - loss: 0.3667 - accuracy: 0.8644 - val_loss: 0.3612 - val_accuracy: 0.8726\n",
            "Epoch 4/20\n",
            "48000/48000 [==============================] - 1s 24us/sample - loss: 0.3308 - accuracy: 0.8753 - val_loss: 0.3966 - val_accuracy: 0.8520\n",
            "Epoch 5/20\n",
            "48000/48000 [==============================] - 1s 27us/sample - loss: 0.3043 - accuracy: 0.8849 - val_loss: 0.3809 - val_accuracy: 0.8673\n",
            "Epoch 6/20\n",
            "48000/48000 [==============================] - 1s 26us/sample - loss: 0.2852 - accuracy: 0.8928 - val_loss: 0.3460 - val_accuracy: 0.8763\n",
            "Epoch 7/20\n",
            "48000/48000 [==============================] - 1s 24us/sample - loss: 0.2718 - accuracy: 0.8972 - val_loss: 0.3999 - val_accuracy: 0.8613\n",
            "Epoch 8/20\n",
            "48000/48000 [==============================] - 1s 24us/sample - loss: 0.2592 - accuracy: 0.9002 - val_loss: 0.3349 - val_accuracy: 0.8816\n",
            "Epoch 9/20\n",
            "48000/48000 [==============================] - 1s 26us/sample - loss: 0.2445 - accuracy: 0.9068 - val_loss: 0.3959 - val_accuracy: 0.8695\n",
            "Epoch 10/20\n",
            "48000/48000 [==============================] - 1s 23us/sample - loss: 0.2346 - accuracy: 0.9100 - val_loss: 0.3702 - val_accuracy: 0.8752\n",
            "Epoch 11/20\n",
            "48000/48000 [==============================] - 1s 24us/sample - loss: 0.2272 - accuracy: 0.9122 - val_loss: 0.3894 - val_accuracy: 0.8698\n",
            "Epoch 12/20\n",
            "48000/48000 [==============================] - 1s 24us/sample - loss: 0.2155 - accuracy: 0.9176 - val_loss: 0.4056 - val_accuracy: 0.8785\n",
            "Epoch 13/20\n",
            "48000/48000 [==============================] - 1s 24us/sample - loss: 0.2057 - accuracy: 0.9219 - val_loss: 0.3825 - val_accuracy: 0.8802\n",
            "Epoch 14/20\n",
            "48000/48000 [==============================] - 1s 23us/sample - loss: 0.2000 - accuracy: 0.9244 - val_loss: 0.4790 - val_accuracy: 0.8668\n",
            "Epoch 15/20\n",
            "48000/48000 [==============================] - 1s 24us/sample - loss: 0.1930 - accuracy: 0.9270 - val_loss: 0.4358 - val_accuracy: 0.8796\n",
            "Epoch 16/20\n",
            "48000/48000 [==============================] - 1s 24us/sample - loss: 0.1878 - accuracy: 0.9291 - val_loss: 0.3895 - val_accuracy: 0.8902\n",
            "Epoch 17/20\n",
            "48000/48000 [==============================] - 1s 23us/sample - loss: 0.1808 - accuracy: 0.9326 - val_loss: 0.4083 - val_accuracy: 0.8872\n",
            "Epoch 18/20\n",
            "48000/48000 [==============================] - 1s 24us/sample - loss: 0.1736 - accuracy: 0.9348 - val_loss: 0.4355 - val_accuracy: 0.8924\n",
            "Epoch 19/20\n",
            "48000/48000 [==============================] - 1s 24us/sample - loss: 0.1707 - accuracy: 0.9343 - val_loss: 0.4329 - val_accuracy: 0.8947\n",
            "Epoch 20/20\n",
            "48000/48000 [==============================] - 1s 23us/sample - loss: 0.1646 - accuracy: 0.9368 - val_loss: 0.5552 - val_accuracy: 0.8814\n"
          ],
          "name": "stdout"
        },
        {
          "output_type": "display_data",
          "data": {
            "text/html": [
              "<span style=\"color:#4527A0\"><h1 style=\"font-size:18px\">Trial complete</h1></span>"
            ],
            "text/plain": [
              "<IPython.core.display.HTML object>"
            ]
          },
          "metadata": {
            "tags": []
          }
        },
        {
          "output_type": "display_data",
          "data": {
            "text/html": [
              "<span style=\"color:#4527A0\"><h1 style=\"font-size:18px\">Trial summary</h1></span>"
            ],
            "text/plain": [
              "<IPython.core.display.HTML object>"
            ]
          },
          "metadata": {
            "tags": []
          }
        },
        {
          "output_type": "display_data",
          "data": {
            "text/html": [
              "<span style=\"color:cyan\"> |-Trial ID: aef9b871c6cbf7dda5ebb5e153da0b9e</span>"
            ],
            "text/plain": [
              "<IPython.core.display.HTML object>"
            ]
          },
          "metadata": {
            "tags": []
          }
        },
        {
          "output_type": "display_data",
          "data": {
            "text/html": [
              "<span style=\"color:cyan\"> |-Score: 0.8946666717529297</span>"
            ],
            "text/plain": [
              "<IPython.core.display.HTML object>"
            ]
          },
          "metadata": {
            "tags": []
          }
        },
        {
          "output_type": "display_data",
          "data": {
            "text/html": [
              "<span style=\"color:cyan\"> |-Best step: 0</span>"
            ],
            "text/plain": [
              "<IPython.core.display.HTML object>"
            ]
          },
          "metadata": {
            "tags": []
          }
        },
        {
          "output_type": "display_data",
          "data": {
            "text/html": [
              "<span style=\"color:#7E57C2\"><h2 style=\"font-size:16px\">Hyperparameters:</h2></span>"
            ],
            "text/plain": [
              "<IPython.core.display.HTML object>"
            ]
          },
          "metadata": {
            "tags": []
          }
        },
        {
          "output_type": "display_data",
          "data": {
            "text/html": [
              "<span style=\"color:cyan\"> |-activation: relu</span>"
            ],
            "text/plain": [
              "<IPython.core.display.HTML object>"
            ]
          },
          "metadata": {
            "tags": []
          }
        },
        {
          "output_type": "display_data",
          "data": {
            "text/html": [
              "<span style=\"color:blue\"> |-optimizer: rmsprop</span>"
            ],
            "text/plain": [
              "<IPython.core.display.HTML object>"
            ]
          },
          "metadata": {
            "tags": []
          }
        },
        {
          "output_type": "display_data",
          "data": {
            "text/html": [
              "<span style=\"color:cyan\"> |-units_hidden: 352</span>"
            ],
            "text/plain": [
              "<IPython.core.display.HTML object>"
            ]
          },
          "metadata": {
            "tags": []
          }
        },
        {
          "output_type": "display_data",
          "data": {
            "text/html": [
              "<span style=\"color:blue\"> |-units_input: 960</span>"
            ],
            "text/plain": [
              "<IPython.core.display.HTML object>"
            ]
          },
          "metadata": {
            "tags": []
          }
        },
        {
          "output_type": "stream",
          "text": [
            "Train on 48000 samples, validate on 12000 samples\n",
            "Epoch 1/20\n",
            "48000/48000 [==============================] - 1s 30us/sample - loss: 0.5201 - accuracy: 0.8158 - val_loss: 0.3970 - val_accuracy: 0.8596\n",
            "Epoch 2/20\n",
            "48000/48000 [==============================] - 1s 23us/sample - loss: 0.3635 - accuracy: 0.8673 - val_loss: 0.3715 - val_accuracy: 0.8637\n",
            "Epoch 3/20\n",
            "48000/48000 [==============================] - 1s 24us/sample - loss: 0.3245 - accuracy: 0.8812 - val_loss: 0.3838 - val_accuracy: 0.8602\n",
            "Epoch 4/20\n",
            "48000/48000 [==============================] - 1s 22us/sample - loss: 0.2982 - accuracy: 0.8895 - val_loss: 0.3267 - val_accuracy: 0.8798\n",
            "Epoch 5/20\n",
            "48000/48000 [==============================] - 1s 22us/sample - loss: 0.2749 - accuracy: 0.8994 - val_loss: 0.3168 - val_accuracy: 0.8846\n",
            "Epoch 6/20\n",
            "48000/48000 [==============================] - 1s 22us/sample - loss: 0.2617 - accuracy: 0.9026 - val_loss: 0.3136 - val_accuracy: 0.8886\n",
            "Epoch 7/20\n",
            "48000/48000 [==============================] - 1s 23us/sample - loss: 0.2519 - accuracy: 0.9058 - val_loss: 0.3258 - val_accuracy: 0.8855\n",
            "Epoch 8/20\n",
            "48000/48000 [==============================] - 1s 24us/sample - loss: 0.2369 - accuracy: 0.9111 - val_loss: 0.3134 - val_accuracy: 0.8917\n",
            "Epoch 9/20\n",
            "48000/48000 [==============================] - 1s 23us/sample - loss: 0.2251 - accuracy: 0.9156 - val_loss: 0.3067 - val_accuracy: 0.8934\n",
            "Epoch 10/20\n",
            "48000/48000 [==============================] - 1s 22us/sample - loss: 0.2185 - accuracy: 0.9169 - val_loss: 0.3211 - val_accuracy: 0.8861\n",
            "Epoch 11/20\n",
            "48000/48000 [==============================] - 1s 23us/sample - loss: 0.2043 - accuracy: 0.9224 - val_loss: 0.3062 - val_accuracy: 0.8953\n",
            "Epoch 12/20\n",
            "48000/48000 [==============================] - 1s 22us/sample - loss: 0.1977 - accuracy: 0.9254 - val_loss: 0.3141 - val_accuracy: 0.8922\n",
            "Epoch 13/20\n",
            "48000/48000 [==============================] - 1s 21us/sample - loss: 0.1920 - accuracy: 0.9277 - val_loss: 0.3144 - val_accuracy: 0.8925\n",
            "Epoch 14/20\n",
            "48000/48000 [==============================] - 1s 22us/sample - loss: 0.1791 - accuracy: 0.9320 - val_loss: 0.3431 - val_accuracy: 0.8877\n",
            "Epoch 15/20\n",
            "48000/48000 [==============================] - 1s 22us/sample - loss: 0.1723 - accuracy: 0.9350 - val_loss: 0.3137 - val_accuracy: 0.8942\n",
            "Epoch 16/20\n",
            "48000/48000 [==============================] - 1s 21us/sample - loss: 0.1713 - accuracy: 0.9358 - val_loss: 0.3460 - val_accuracy: 0.8878\n",
            "Epoch 17/20\n",
            "48000/48000 [==============================] - 1s 22us/sample - loss: 0.1621 - accuracy: 0.9387 - val_loss: 0.3257 - val_accuracy: 0.8978\n",
            "Epoch 18/20\n",
            "48000/48000 [==============================] - 1s 22us/sample - loss: 0.1524 - accuracy: 0.9423 - val_loss: 0.3426 - val_accuracy: 0.8940\n",
            "Epoch 19/20\n",
            "48000/48000 [==============================] - 1s 22us/sample - loss: 0.1534 - accuracy: 0.9418 - val_loss: 0.3210 - val_accuracy: 0.8974\n",
            "Epoch 20/20\n",
            "48000/48000 [==============================] - 1s 21us/sample - loss: 0.1448 - accuracy: 0.9452 - val_loss: 0.3616 - val_accuracy: 0.8935\n"
          ],
          "name": "stdout"
        },
        {
          "output_type": "display_data",
          "data": {
            "text/html": [
              "<span style=\"color:#4527A0\"><h1 style=\"font-size:18px\">Trial complete</h1></span>"
            ],
            "text/plain": [
              "<IPython.core.display.HTML object>"
            ]
          },
          "metadata": {
            "tags": []
          }
        },
        {
          "output_type": "display_data",
          "data": {
            "text/html": [
              "<span style=\"color:#4527A0\"><h1 style=\"font-size:18px\">Trial summary</h1></span>"
            ],
            "text/plain": [
              "<IPython.core.display.HTML object>"
            ]
          },
          "metadata": {
            "tags": []
          }
        },
        {
          "output_type": "display_data",
          "data": {
            "text/html": [
              "<span style=\"color:cyan\"> |-Trial ID: d11727780f25b34f455359c2487fd9f8</span>"
            ],
            "text/plain": [
              "<IPython.core.display.HTML object>"
            ]
          },
          "metadata": {
            "tags": []
          }
        },
        {
          "output_type": "display_data",
          "data": {
            "text/html": [
              "<span style=\"color:cyan\"> |-Score: 0.8977500200271606</span>"
            ],
            "text/plain": [
              "<IPython.core.display.HTML object>"
            ]
          },
          "metadata": {
            "tags": []
          }
        },
        {
          "output_type": "display_data",
          "data": {
            "text/html": [
              "<span style=\"color:cyan\"> |-Best step: 0</span>"
            ],
            "text/plain": [
              "<IPython.core.display.HTML object>"
            ]
          },
          "metadata": {
            "tags": []
          }
        },
        {
          "output_type": "display_data",
          "data": {
            "text/html": [
              "<span style=\"color:#7E57C2\"><h2 style=\"font-size:16px\">Hyperparameters:</h2></span>"
            ],
            "text/plain": [
              "<IPython.core.display.HTML object>"
            ]
          },
          "metadata": {
            "tags": []
          }
        },
        {
          "output_type": "display_data",
          "data": {
            "text/html": [
              "<span style=\"color:cyan\"> |-activation: relu</span>"
            ],
            "text/plain": [
              "<IPython.core.display.HTML object>"
            ]
          },
          "metadata": {
            "tags": []
          }
        },
        {
          "output_type": "display_data",
          "data": {
            "text/html": [
              "<span style=\"color:blue\"> |-optimizer: adam</span>"
            ],
            "text/plain": [
              "<IPython.core.display.HTML object>"
            ]
          },
          "metadata": {
            "tags": []
          }
        },
        {
          "output_type": "display_data",
          "data": {
            "text/html": [
              "<span style=\"color:cyan\"> |-units_hidden: 448</span>"
            ],
            "text/plain": [
              "<IPython.core.display.HTML object>"
            ]
          },
          "metadata": {
            "tags": []
          }
        },
        {
          "output_type": "display_data",
          "data": {
            "text/html": [
              "<span style=\"color:blue\"> |-units_input: 800</span>"
            ],
            "text/plain": [
              "<IPython.core.display.HTML object>"
            ]
          },
          "metadata": {
            "tags": []
          }
        },
        {
          "output_type": "stream",
          "text": [
            "Train on 48000 samples, validate on 12000 samples\n",
            "Epoch 1/20\n",
            "48000/48000 [==============================] - 1s 31us/sample - loss: 0.8704 - accuracy: 0.7194 - val_loss: 0.6258 - val_accuracy: 0.7387\n",
            "Epoch 2/20\n",
            "48000/48000 [==============================] - 1s 23us/sample - loss: 0.5043 - accuracy: 0.8119 - val_loss: 0.4302 - val_accuracy: 0.8395\n",
            "Epoch 3/20\n",
            "48000/48000 [==============================] - 1s 24us/sample - loss: 0.4241 - accuracy: 0.8430 - val_loss: 0.4440 - val_accuracy: 0.8406\n",
            "Epoch 4/20\n",
            "48000/48000 [==============================] - 1s 23us/sample - loss: 0.3807 - accuracy: 0.8576 - val_loss: 0.5445 - val_accuracy: 0.8098\n",
            "Epoch 5/20\n",
            "48000/48000 [==============================] - 1s 24us/sample - loss: 0.3502 - accuracy: 0.8677 - val_loss: 0.3853 - val_accuracy: 0.8602\n",
            "Epoch 6/20\n",
            "48000/48000 [==============================] - 1s 23us/sample - loss: 0.3267 - accuracy: 0.8763 - val_loss: 0.4039 - val_accuracy: 0.8484\n",
            "Epoch 7/20\n",
            "48000/48000 [==============================] - 1s 23us/sample - loss: 0.3099 - accuracy: 0.8819 - val_loss: 0.3709 - val_accuracy: 0.8672\n",
            "Epoch 8/20\n",
            "48000/48000 [==============================] - 1s 23us/sample - loss: 0.2904 - accuracy: 0.8892 - val_loss: 0.4052 - val_accuracy: 0.8583\n",
            "Epoch 9/20\n",
            "48000/48000 [==============================] - 1s 23us/sample - loss: 0.2775 - accuracy: 0.8932 - val_loss: 0.3512 - val_accuracy: 0.8816\n",
            "Epoch 10/20\n",
            "48000/48000 [==============================] - 1s 24us/sample - loss: 0.2674 - accuracy: 0.8975 - val_loss: 0.4406 - val_accuracy: 0.8503\n",
            "Epoch 11/20\n",
            "48000/48000 [==============================] - 1s 23us/sample - loss: 0.2541 - accuracy: 0.9029 - val_loss: 0.3714 - val_accuracy: 0.8690\n",
            "Epoch 12/20\n",
            "48000/48000 [==============================] - 1s 23us/sample - loss: 0.2426 - accuracy: 0.9078 - val_loss: 0.3707 - val_accuracy: 0.8773\n",
            "Epoch 13/20\n",
            "48000/48000 [==============================] - 1s 22us/sample - loss: 0.2341 - accuracy: 0.9097 - val_loss: 0.3678 - val_accuracy: 0.8767\n",
            "Epoch 14/20\n",
            "48000/48000 [==============================] - 1s 23us/sample - loss: 0.2243 - accuracy: 0.9135 - val_loss: 0.3960 - val_accuracy: 0.8703\n",
            "Epoch 15/20\n",
            "48000/48000 [==============================] - 1s 23us/sample - loss: 0.2134 - accuracy: 0.9186 - val_loss: 0.3982 - val_accuracy: 0.8613\n",
            "Epoch 16/20\n",
            "48000/48000 [==============================] - 1s 23us/sample - loss: 0.2084 - accuracy: 0.9204 - val_loss: 0.3585 - val_accuracy: 0.8828\n",
            "Epoch 17/20\n",
            "48000/48000 [==============================] - 1s 24us/sample - loss: 0.2028 - accuracy: 0.9215 - val_loss: 0.3688 - val_accuracy: 0.8742\n",
            "Epoch 18/20\n",
            "48000/48000 [==============================] - 1s 25us/sample - loss: 0.1923 - accuracy: 0.9260 - val_loss: 0.3836 - val_accuracy: 0.8828\n",
            "Epoch 19/20\n",
            "48000/48000 [==============================] - 1s 25us/sample - loss: 0.1894 - accuracy: 0.9270 - val_loss: 0.3743 - val_accuracy: 0.8849\n",
            "Epoch 20/20\n",
            "48000/48000 [==============================] - 1s 23us/sample - loss: 0.1791 - accuracy: 0.9313 - val_loss: 0.3588 - val_accuracy: 0.8854\n"
          ],
          "name": "stdout"
        },
        {
          "output_type": "display_data",
          "data": {
            "text/html": [
              "<span style=\"color:#4527A0\"><h1 style=\"font-size:18px\">Trial complete</h1></span>"
            ],
            "text/plain": [
              "<IPython.core.display.HTML object>"
            ]
          },
          "metadata": {
            "tags": []
          }
        },
        {
          "output_type": "display_data",
          "data": {
            "text/html": [
              "<span style=\"color:#4527A0\"><h1 style=\"font-size:18px\">Trial summary</h1></span>"
            ],
            "text/plain": [
              "<IPython.core.display.HTML object>"
            ]
          },
          "metadata": {
            "tags": []
          }
        },
        {
          "output_type": "display_data",
          "data": {
            "text/html": [
              "<span style=\"color:cyan\"> |-Trial ID: c160256079b500186001bd3b3cd1d182</span>"
            ],
            "text/plain": [
              "<IPython.core.display.HTML object>"
            ]
          },
          "metadata": {
            "tags": []
          }
        },
        {
          "output_type": "display_data",
          "data": {
            "text/html": [
              "<span style=\"color:cyan\"> |-Score: 0.8854166865348816</span>"
            ],
            "text/plain": [
              "<IPython.core.display.HTML object>"
            ]
          },
          "metadata": {
            "tags": []
          }
        },
        {
          "output_type": "display_data",
          "data": {
            "text/html": [
              "<span style=\"color:cyan\"> |-Best step: 0</span>"
            ],
            "text/plain": [
              "<IPython.core.display.HTML object>"
            ]
          },
          "metadata": {
            "tags": []
          }
        },
        {
          "output_type": "display_data",
          "data": {
            "text/html": [
              "<span style=\"color:#7E57C2\"><h2 style=\"font-size:16px\">Hyperparameters:</h2></span>"
            ],
            "text/plain": [
              "<IPython.core.display.HTML object>"
            ]
          },
          "metadata": {
            "tags": []
          }
        },
        {
          "output_type": "display_data",
          "data": {
            "text/html": [
              "<span style=\"color:cyan\"> |-activation: elu</span>"
            ],
            "text/plain": [
              "<IPython.core.display.HTML object>"
            ]
          },
          "metadata": {
            "tags": []
          }
        },
        {
          "output_type": "display_data",
          "data": {
            "text/html": [
              "<span style=\"color:blue\"> |-optimizer: rmsprop</span>"
            ],
            "text/plain": [
              "<IPython.core.display.HTML object>"
            ]
          },
          "metadata": {
            "tags": []
          }
        },
        {
          "output_type": "display_data",
          "data": {
            "text/html": [
              "<span style=\"color:cyan\"> |-units_hidden: 416</span>"
            ],
            "text/plain": [
              "<IPython.core.display.HTML object>"
            ]
          },
          "metadata": {
            "tags": []
          }
        },
        {
          "output_type": "display_data",
          "data": {
            "text/html": [
              "<span style=\"color:blue\"> |-units_input: 704</span>"
            ],
            "text/plain": [
              "<IPython.core.display.HTML object>"
            ]
          },
          "metadata": {
            "tags": []
          }
        },
        {
          "output_type": "stream",
          "text": [
            "Train on 48000 samples, validate on 12000 samples\n",
            "Epoch 1/20\n",
            "48000/48000 [==============================] - 2s 37us/sample - loss: 0.8562 - accuracy: 0.7150 - val_loss: 0.5983 - val_accuracy: 0.7717\n",
            "Epoch 2/20\n",
            "48000/48000 [==============================] - 1s 25us/sample - loss: 0.4955 - accuracy: 0.8135 - val_loss: 0.4552 - val_accuracy: 0.8303\n",
            "Epoch 3/20\n",
            "48000/48000 [==============================] - 1s 26us/sample - loss: 0.4176 - accuracy: 0.8434 - val_loss: 0.3975 - val_accuracy: 0.8545\n",
            "Epoch 4/20\n",
            "48000/48000 [==============================] - 1s 25us/sample - loss: 0.3781 - accuracy: 0.8580 - val_loss: 0.3990 - val_accuracy: 0.8528\n",
            "Epoch 5/20\n",
            "48000/48000 [==============================] - 1s 25us/sample - loss: 0.3449 - accuracy: 0.8691 - val_loss: 0.4553 - val_accuracy: 0.8326\n",
            "Epoch 6/20\n",
            "48000/48000 [==============================] - 1s 25us/sample - loss: 0.3218 - accuracy: 0.8791 - val_loss: 0.3840 - val_accuracy: 0.8488\n",
            "Epoch 7/20\n",
            "48000/48000 [==============================] - 1s 25us/sample - loss: 0.3046 - accuracy: 0.8830 - val_loss: 0.3763 - val_accuracy: 0.8586\n",
            "Epoch 8/20\n",
            "48000/48000 [==============================] - 1s 25us/sample - loss: 0.2876 - accuracy: 0.8902 - val_loss: 0.3324 - val_accuracy: 0.8764\n",
            "Epoch 9/20\n",
            "48000/48000 [==============================] - 1s 25us/sample - loss: 0.2733 - accuracy: 0.8955 - val_loss: 0.3988 - val_accuracy: 0.8569\n",
            "Epoch 10/20\n",
            "48000/48000 [==============================] - 1s 25us/sample - loss: 0.2634 - accuracy: 0.8998 - val_loss: 0.3258 - val_accuracy: 0.8808\n",
            "Epoch 11/20\n",
            "48000/48000 [==============================] - 1s 25us/sample - loss: 0.2512 - accuracy: 0.9036 - val_loss: 0.3656 - val_accuracy: 0.8747\n",
            "Epoch 12/20\n",
            "48000/48000 [==============================] - 1s 25us/sample - loss: 0.2397 - accuracy: 0.9077 - val_loss: 0.3714 - val_accuracy: 0.8647\n",
            "Epoch 13/20\n",
            "48000/48000 [==============================] - 1s 25us/sample - loss: 0.2290 - accuracy: 0.9128 - val_loss: 0.3519 - val_accuracy: 0.8752\n",
            "Epoch 14/20\n",
            "48000/48000 [==============================] - 1s 25us/sample - loss: 0.2211 - accuracy: 0.9160 - val_loss: 0.3955 - val_accuracy: 0.8624\n",
            "Epoch 15/20\n",
            "48000/48000 [==============================] - 1s 27us/sample - loss: 0.2120 - accuracy: 0.9195 - val_loss: 0.3324 - val_accuracy: 0.8829\n",
            "Epoch 16/20\n",
            "48000/48000 [==============================] - 1s 25us/sample - loss: 0.2044 - accuracy: 0.9219 - val_loss: 0.3354 - val_accuracy: 0.8794\n",
            "Epoch 17/20\n",
            "48000/48000 [==============================] - 1s 24us/sample - loss: 0.1956 - accuracy: 0.9247 - val_loss: 0.4055 - val_accuracy: 0.8545\n",
            "Epoch 18/20\n",
            "48000/48000 [==============================] - 1s 25us/sample - loss: 0.1866 - accuracy: 0.9283 - val_loss: 0.3884 - val_accuracy: 0.8662\n",
            "Epoch 19/20\n",
            "48000/48000 [==============================] - 1s 25us/sample - loss: 0.1820 - accuracy: 0.9311 - val_loss: 0.3336 - val_accuracy: 0.8851\n",
            "Epoch 20/20\n",
            "48000/48000 [==============================] - 1s 26us/sample - loss: 0.1746 - accuracy: 0.9342 - val_loss: 0.3222 - val_accuracy: 0.8928\n"
          ],
          "name": "stdout"
        },
        {
          "output_type": "display_data",
          "data": {
            "text/html": [
              "<span style=\"color:#4527A0\"><h1 style=\"font-size:18px\">Trial complete</h1></span>"
            ],
            "text/plain": [
              "<IPython.core.display.HTML object>"
            ]
          },
          "metadata": {
            "tags": []
          }
        },
        {
          "output_type": "display_data",
          "data": {
            "text/html": [
              "<span style=\"color:#4527A0\"><h1 style=\"font-size:18px\">Trial summary</h1></span>"
            ],
            "text/plain": [
              "<IPython.core.display.HTML object>"
            ]
          },
          "metadata": {
            "tags": []
          }
        },
        {
          "output_type": "display_data",
          "data": {
            "text/html": [
              "<span style=\"color:cyan\"> |-Trial ID: 03a35315b377991e95f29f2cc5c4bd5b</span>"
            ],
            "text/plain": [
              "<IPython.core.display.HTML object>"
            ]
          },
          "metadata": {
            "tags": []
          }
        },
        {
          "output_type": "display_data",
          "data": {
            "text/html": [
              "<span style=\"color:cyan\"> |-Score: 0.8927500247955322</span>"
            ],
            "text/plain": [
              "<IPython.core.display.HTML object>"
            ]
          },
          "metadata": {
            "tags": []
          }
        },
        {
          "output_type": "display_data",
          "data": {
            "text/html": [
              "<span style=\"color:cyan\"> |-Best step: 0</span>"
            ],
            "text/plain": [
              "<IPython.core.display.HTML object>"
            ]
          },
          "metadata": {
            "tags": []
          }
        },
        {
          "output_type": "display_data",
          "data": {
            "text/html": [
              "<span style=\"color:#7E57C2\"><h2 style=\"font-size:16px\">Hyperparameters:</h2></span>"
            ],
            "text/plain": [
              "<IPython.core.display.HTML object>"
            ]
          },
          "metadata": {
            "tags": []
          }
        },
        {
          "output_type": "display_data",
          "data": {
            "text/html": [
              "<span style=\"color:cyan\"> |-activation: tanh</span>"
            ],
            "text/plain": [
              "<IPython.core.display.HTML object>"
            ]
          },
          "metadata": {
            "tags": []
          }
        },
        {
          "output_type": "display_data",
          "data": {
            "text/html": [
              "<span style=\"color:blue\"> |-optimizer: rmsprop</span>"
            ],
            "text/plain": [
              "<IPython.core.display.HTML object>"
            ]
          },
          "metadata": {
            "tags": []
          }
        },
        {
          "output_type": "display_data",
          "data": {
            "text/html": [
              "<span style=\"color:cyan\"> |-units_hidden: 576</span>"
            ],
            "text/plain": [
              "<IPython.core.display.HTML object>"
            ]
          },
          "metadata": {
            "tags": []
          }
        },
        {
          "output_type": "display_data",
          "data": {
            "text/html": [
              "<span style=\"color:blue\"> |-units_input: 992</span>"
            ],
            "text/plain": [
              "<IPython.core.display.HTML object>"
            ]
          },
          "metadata": {
            "tags": []
          }
        },
        {
          "output_type": "stream",
          "text": [
            "Train on 48000 samples, validate on 12000 samples\n",
            "Epoch 1/20\n",
            "48000/48000 [==============================] - 1s 28us/sample - loss: 0.5408 - accuracy: 0.8097 - val_loss: 0.4139 - val_accuracy: 0.8533\n",
            "Epoch 2/20\n",
            "48000/48000 [==============================] - 1s 21us/sample - loss: 0.3747 - accuracy: 0.8648 - val_loss: 0.3627 - val_accuracy: 0.8681\n",
            "Epoch 3/20\n",
            "48000/48000 [==============================] - 1s 21us/sample - loss: 0.3354 - accuracy: 0.8768 - val_loss: 0.3486 - val_accuracy: 0.8722\n",
            "Epoch 4/20\n",
            "48000/48000 [==============================] - 1s 21us/sample - loss: 0.3042 - accuracy: 0.8870 - val_loss: 0.3381 - val_accuracy: 0.8785\n",
            "Epoch 5/20\n",
            "48000/48000 [==============================] - 1s 21us/sample - loss: 0.2816 - accuracy: 0.8971 - val_loss: 0.3200 - val_accuracy: 0.8858\n",
            "Epoch 6/20\n",
            "48000/48000 [==============================] - 1s 20us/sample - loss: 0.2671 - accuracy: 0.9011 - val_loss: 0.3209 - val_accuracy: 0.8827\n",
            "Epoch 7/20\n",
            "48000/48000 [==============================] - 1s 20us/sample - loss: 0.2524 - accuracy: 0.9057 - val_loss: 0.3055 - val_accuracy: 0.8911\n",
            "Epoch 8/20\n",
            "48000/48000 [==============================] - 1s 20us/sample - loss: 0.2424 - accuracy: 0.9097 - val_loss: 0.3169 - val_accuracy: 0.8877\n",
            "Epoch 9/20\n",
            "48000/48000 [==============================] - 1s 21us/sample - loss: 0.2306 - accuracy: 0.9133 - val_loss: 0.3292 - val_accuracy: 0.8837\n",
            "Epoch 10/20\n",
            "48000/48000 [==============================] - 1s 20us/sample - loss: 0.2221 - accuracy: 0.9169 - val_loss: 0.3546 - val_accuracy: 0.8761\n",
            "Epoch 11/20\n",
            "48000/48000 [==============================] - 1s 20us/sample - loss: 0.2142 - accuracy: 0.9197 - val_loss: 0.3136 - val_accuracy: 0.8887\n",
            "Epoch 12/20\n",
            "48000/48000 [==============================] - 1s 21us/sample - loss: 0.2084 - accuracy: 0.9220 - val_loss: 0.3202 - val_accuracy: 0.8917\n",
            "Epoch 13/20\n",
            "48000/48000 [==============================] - 1s 20us/sample - loss: 0.1944 - accuracy: 0.9265 - val_loss: 0.3748 - val_accuracy: 0.8749\n",
            "Epoch 14/20\n",
            "48000/48000 [==============================] - 1s 21us/sample - loss: 0.1889 - accuracy: 0.9299 - val_loss: 0.3067 - val_accuracy: 0.8978\n",
            "Epoch 15/20\n",
            "48000/48000 [==============================] - 1s 21us/sample - loss: 0.1780 - accuracy: 0.9344 - val_loss: 0.3212 - val_accuracy: 0.8938\n",
            "Epoch 16/20\n",
            "48000/48000 [==============================] - 1s 20us/sample - loss: 0.1722 - accuracy: 0.9356 - val_loss: 0.3451 - val_accuracy: 0.8839\n",
            "Epoch 17/20\n",
            "48000/48000 [==============================] - 1s 21us/sample - loss: 0.1691 - accuracy: 0.9365 - val_loss: 0.3220 - val_accuracy: 0.8963\n",
            "Epoch 18/20\n",
            "48000/48000 [==============================] - 1s 20us/sample - loss: 0.1600 - accuracy: 0.9393 - val_loss: 0.3395 - val_accuracy: 0.8888\n",
            "Epoch 19/20\n",
            "48000/48000 [==============================] - 1s 21us/sample - loss: 0.1526 - accuracy: 0.9418 - val_loss: 0.3395 - val_accuracy: 0.8982\n",
            "Epoch 20/20\n",
            "48000/48000 [==============================] - 1s 21us/sample - loss: 0.1495 - accuracy: 0.9433 - val_loss: 0.3397 - val_accuracy: 0.8942\n"
          ],
          "name": "stdout"
        },
        {
          "output_type": "display_data",
          "data": {
            "text/html": [
              "<span style=\"color:#4527A0\"><h1 style=\"font-size:18px\">Trial complete</h1></span>"
            ],
            "text/plain": [
              "<IPython.core.display.HTML object>"
            ]
          },
          "metadata": {
            "tags": []
          }
        },
        {
          "output_type": "display_data",
          "data": {
            "text/html": [
              "<span style=\"color:#4527A0\"><h1 style=\"font-size:18px\">Trial summary</h1></span>"
            ],
            "text/plain": [
              "<IPython.core.display.HTML object>"
            ]
          },
          "metadata": {
            "tags": []
          }
        },
        {
          "output_type": "display_data",
          "data": {
            "text/html": [
              "<span style=\"color:cyan\"> |-Trial ID: 1249025444d5e09fe58746ebc0fec77b</span>"
            ],
            "text/plain": [
              "<IPython.core.display.HTML object>"
            ]
          },
          "metadata": {
            "tags": []
          }
        },
        {
          "output_type": "display_data",
          "data": {
            "text/html": [
              "<span style=\"color:cyan\"> |-Score: 0.8981666564941406</span>"
            ],
            "text/plain": [
              "<IPython.core.display.HTML object>"
            ]
          },
          "metadata": {
            "tags": []
          }
        },
        {
          "output_type": "display_data",
          "data": {
            "text/html": [
              "<span style=\"color:cyan\"> |-Best step: 0</span>"
            ],
            "text/plain": [
              "<IPython.core.display.HTML object>"
            ]
          },
          "metadata": {
            "tags": []
          }
        },
        {
          "output_type": "display_data",
          "data": {
            "text/html": [
              "<span style=\"color:#7E57C2\"><h2 style=\"font-size:16px\">Hyperparameters:</h2></span>"
            ],
            "text/plain": [
              "<IPython.core.display.HTML object>"
            ]
          },
          "metadata": {
            "tags": []
          }
        },
        {
          "output_type": "display_data",
          "data": {
            "text/html": [
              "<span style=\"color:cyan\"> |-activation: relu</span>"
            ],
            "text/plain": [
              "<IPython.core.display.HTML object>"
            ]
          },
          "metadata": {
            "tags": []
          }
        },
        {
          "output_type": "display_data",
          "data": {
            "text/html": [
              "<span style=\"color:blue\"> |-optimizer: adam</span>"
            ],
            "text/plain": [
              "<IPython.core.display.HTML object>"
            ]
          },
          "metadata": {
            "tags": []
          }
        },
        {
          "output_type": "display_data",
          "data": {
            "text/html": [
              "<span style=\"color:cyan\"> |-units_hidden: 256</span>"
            ],
            "text/plain": [
              "<IPython.core.display.HTML object>"
            ]
          },
          "metadata": {
            "tags": []
          }
        },
        {
          "output_type": "display_data",
          "data": {
            "text/html": [
              "<span style=\"color:blue\"> |-units_input: 544</span>"
            ],
            "text/plain": [
              "<IPython.core.display.HTML object>"
            ]
          },
          "metadata": {
            "tags": []
          }
        },
        {
          "output_type": "stream",
          "text": [
            "Train on 48000 samples, validate on 12000 samples\n",
            "Epoch 1/20\n",
            "48000/48000 [==============================] - 1s 29us/sample - loss: 0.5732 - accuracy: 0.7991 - val_loss: 0.4495 - val_accuracy: 0.8375\n",
            "Epoch 2/20\n",
            "48000/48000 [==============================] - 1s 22us/sample - loss: 0.4121 - accuracy: 0.8521 - val_loss: 0.3919 - val_accuracy: 0.8575\n",
            "Epoch 3/20\n",
            "48000/48000 [==============================] - 1s 22us/sample - loss: 0.3695 - accuracy: 0.8643 - val_loss: 0.3805 - val_accuracy: 0.8642\n",
            "Epoch 4/20\n",
            "48000/48000 [==============================] - 1s 23us/sample - loss: 0.3423 - accuracy: 0.8739 - val_loss: 0.3569 - val_accuracy: 0.8703\n",
            "Epoch 5/20\n",
            "48000/48000 [==============================] - 1s 22us/sample - loss: 0.3193 - accuracy: 0.8809 - val_loss: 0.3850 - val_accuracy: 0.8629\n",
            "Epoch 6/20\n",
            "48000/48000 [==============================] - 1s 23us/sample - loss: 0.3012 - accuracy: 0.8890 - val_loss: 0.3467 - val_accuracy: 0.8737\n",
            "Epoch 7/20\n",
            "48000/48000 [==============================] - 1s 23us/sample - loss: 0.2911 - accuracy: 0.8933 - val_loss: 0.3253 - val_accuracy: 0.8799\n",
            "Epoch 8/20\n",
            "48000/48000 [==============================] - 1s 22us/sample - loss: 0.2761 - accuracy: 0.8979 - val_loss: 0.3294 - val_accuracy: 0.8791\n",
            "Epoch 9/20\n",
            "48000/48000 [==============================] - 1s 22us/sample - loss: 0.2661 - accuracy: 0.9003 - val_loss: 0.3310 - val_accuracy: 0.8782\n",
            "Epoch 10/20\n",
            "48000/48000 [==============================] - 1s 24us/sample - loss: 0.2538 - accuracy: 0.9056 - val_loss: 0.3351 - val_accuracy: 0.8792\n",
            "Epoch 11/20\n",
            "48000/48000 [==============================] - 1s 25us/sample - loss: 0.2447 - accuracy: 0.9072 - val_loss: 0.3285 - val_accuracy: 0.8878\n",
            "Epoch 12/20\n",
            "48000/48000 [==============================] - 1s 22us/sample - loss: 0.2355 - accuracy: 0.9113 - val_loss: 0.3327 - val_accuracy: 0.8808\n",
            "Epoch 13/20\n",
            "48000/48000 [==============================] - 1s 22us/sample - loss: 0.2305 - accuracy: 0.9118 - val_loss: 0.3276 - val_accuracy: 0.8878\n",
            "Epoch 14/20\n",
            "48000/48000 [==============================] - 1s 24us/sample - loss: 0.2164 - accuracy: 0.9188 - val_loss: 0.3340 - val_accuracy: 0.8892\n",
            "Epoch 15/20\n",
            "48000/48000 [==============================] - 1s 22us/sample - loss: 0.2087 - accuracy: 0.9217 - val_loss: 0.3351 - val_accuracy: 0.8837\n",
            "Epoch 16/20\n",
            "48000/48000 [==============================] - 1s 22us/sample - loss: 0.2029 - accuracy: 0.9231 - val_loss: 0.3311 - val_accuracy: 0.8904\n",
            "Epoch 17/20\n",
            "48000/48000 [==============================] - 1s 22us/sample - loss: 0.1976 - accuracy: 0.9244 - val_loss: 0.3335 - val_accuracy: 0.8864\n",
            "Epoch 18/20\n",
            "48000/48000 [==============================] - 1s 21us/sample - loss: 0.1883 - accuracy: 0.9283 - val_loss: 0.3479 - val_accuracy: 0.8851\n",
            "Epoch 19/20\n",
            "48000/48000 [==============================] - 1s 22us/sample - loss: 0.1842 - accuracy: 0.9301 - val_loss: 0.3192 - val_accuracy: 0.8929\n",
            "Epoch 20/20\n",
            "48000/48000 [==============================] - 1s 22us/sample - loss: 0.1722 - accuracy: 0.9343 - val_loss: 0.3257 - val_accuracy: 0.8927\n"
          ],
          "name": "stdout"
        },
        {
          "output_type": "display_data",
          "data": {
            "text/html": [
              "<span style=\"color:#4527A0\"><h1 style=\"font-size:18px\">Trial complete</h1></span>"
            ],
            "text/plain": [
              "<IPython.core.display.HTML object>"
            ]
          },
          "metadata": {
            "tags": []
          }
        },
        {
          "output_type": "display_data",
          "data": {
            "text/html": [
              "<span style=\"color:#4527A0\"><h1 style=\"font-size:18px\">Trial summary</h1></span>"
            ],
            "text/plain": [
              "<IPython.core.display.HTML object>"
            ]
          },
          "metadata": {
            "tags": []
          }
        },
        {
          "output_type": "display_data",
          "data": {
            "text/html": [
              "<span style=\"color:cyan\"> |-Trial ID: 1ed294ddb2080f625cb06022a42a94c3</span>"
            ],
            "text/plain": [
              "<IPython.core.display.HTML object>"
            ]
          },
          "metadata": {
            "tags": []
          }
        },
        {
          "output_type": "display_data",
          "data": {
            "text/html": [
              "<span style=\"color:cyan\"> |-Score: 0.8929166793823242</span>"
            ],
            "text/plain": [
              "<IPython.core.display.HTML object>"
            ]
          },
          "metadata": {
            "tags": []
          }
        },
        {
          "output_type": "display_data",
          "data": {
            "text/html": [
              "<span style=\"color:cyan\"> |-Best step: 0</span>"
            ],
            "text/plain": [
              "<IPython.core.display.HTML object>"
            ]
          },
          "metadata": {
            "tags": []
          }
        },
        {
          "output_type": "display_data",
          "data": {
            "text/html": [
              "<span style=\"color:#7E57C2\"><h2 style=\"font-size:16px\">Hyperparameters:</h2></span>"
            ],
            "text/plain": [
              "<IPython.core.display.HTML object>"
            ]
          },
          "metadata": {
            "tags": []
          }
        },
        {
          "output_type": "display_data",
          "data": {
            "text/html": [
              "<span style=\"color:cyan\"> |-activation: elu</span>"
            ],
            "text/plain": [
              "<IPython.core.display.HTML object>"
            ]
          },
          "metadata": {
            "tags": []
          }
        },
        {
          "output_type": "display_data",
          "data": {
            "text/html": [
              "<span style=\"color:blue\"> |-optimizer: adam</span>"
            ],
            "text/plain": [
              "<IPython.core.display.HTML object>"
            ]
          },
          "metadata": {
            "tags": []
          }
        },
        {
          "output_type": "display_data",
          "data": {
            "text/html": [
              "<span style=\"color:cyan\"> |-units_hidden: 544</span>"
            ],
            "text/plain": [
              "<IPython.core.display.HTML object>"
            ]
          },
          "metadata": {
            "tags": []
          }
        },
        {
          "output_type": "display_data",
          "data": {
            "text/html": [
              "<span style=\"color:blue\"> |-units_input: 672</span>"
            ],
            "text/plain": [
              "<IPython.core.display.HTML object>"
            ]
          },
          "metadata": {
            "tags": []
          }
        },
        {
          "output_type": "stream",
          "text": [
            "Train on 48000 samples, validate on 12000 samples\n",
            "Epoch 1/20\n",
            "48000/48000 [==============================] - 1s 28us/sample - loss: 1.0537 - accuracy: 0.6715 - val_loss: 0.7450 - val_accuracy: 0.7619\n",
            "Epoch 2/20\n",
            "48000/48000 [==============================] - 1s 22us/sample - loss: 0.6825 - accuracy: 0.7807 - val_loss: 0.6254 - val_accuracy: 0.7959\n",
            "Epoch 3/20\n",
            "48000/48000 [==============================] - 1s 22us/sample - loss: 0.5997 - accuracy: 0.8046 - val_loss: 0.5704 - val_accuracy: 0.8090\n",
            "Epoch 4/20\n",
            "48000/48000 [==============================] - 1s 21us/sample - loss: 0.5557 - accuracy: 0.8169 - val_loss: 0.5431 - val_accuracy: 0.8168\n",
            "Epoch 5/20\n",
            "48000/48000 [==============================] - 1s 22us/sample - loss: 0.5277 - accuracy: 0.8244 - val_loss: 0.5204 - val_accuracy: 0.8223\n",
            "Epoch 6/20\n",
            "48000/48000 [==============================] - 1s 22us/sample - loss: 0.5078 - accuracy: 0.8290 - val_loss: 0.5065 - val_accuracy: 0.8246\n",
            "Epoch 7/20\n",
            "48000/48000 [==============================] - 1s 22us/sample - loss: 0.4928 - accuracy: 0.8333 - val_loss: 0.4946 - val_accuracy: 0.8297\n",
            "Epoch 8/20\n",
            "48000/48000 [==============================] - 1s 21us/sample - loss: 0.4819 - accuracy: 0.8359 - val_loss: 0.4839 - val_accuracy: 0.8315\n",
            "Epoch 9/20\n",
            "48000/48000 [==============================] - 1s 22us/sample - loss: 0.4712 - accuracy: 0.8400 - val_loss: 0.4766 - val_accuracy: 0.8324\n",
            "Epoch 10/20\n",
            "48000/48000 [==============================] - 1s 24us/sample - loss: 0.4636 - accuracy: 0.8409 - val_loss: 0.4699 - val_accuracy: 0.8361\n",
            "Epoch 11/20\n",
            "48000/48000 [==============================] - 1s 22us/sample - loss: 0.4567 - accuracy: 0.8435 - val_loss: 0.4636 - val_accuracy: 0.8351\n",
            "Epoch 12/20\n",
            "48000/48000 [==============================] - 1s 22us/sample - loss: 0.4503 - accuracy: 0.8451 - val_loss: 0.4643 - val_accuracy: 0.8332\n",
            "Epoch 13/20\n",
            "48000/48000 [==============================] - 1s 22us/sample - loss: 0.4451 - accuracy: 0.8465 - val_loss: 0.4500 - val_accuracy: 0.8438\n",
            "Epoch 14/20\n",
            "48000/48000 [==============================] - 1s 23us/sample - loss: 0.4405 - accuracy: 0.8485 - val_loss: 0.4510 - val_accuracy: 0.8414\n",
            "Epoch 15/20\n",
            "48000/48000 [==============================] - 1s 22us/sample - loss: 0.4366 - accuracy: 0.8512 - val_loss: 0.4488 - val_accuracy: 0.8443\n",
            "Epoch 16/20\n",
            "48000/48000 [==============================] - 1s 22us/sample - loss: 0.4323 - accuracy: 0.8510 - val_loss: 0.4438 - val_accuracy: 0.8445\n",
            "Epoch 17/20\n",
            "48000/48000 [==============================] - 1s 22us/sample - loss: 0.4293 - accuracy: 0.8515 - val_loss: 0.4430 - val_accuracy: 0.8462\n",
            "Epoch 18/20\n",
            "48000/48000 [==============================] - 1s 22us/sample - loss: 0.4257 - accuracy: 0.8529 - val_loss: 0.4352 - val_accuracy: 0.8490\n",
            "Epoch 19/20\n",
            "48000/48000 [==============================] - 1s 22us/sample - loss: 0.4218 - accuracy: 0.8540 - val_loss: 0.4338 - val_accuracy: 0.8482\n",
            "Epoch 20/20\n",
            "48000/48000 [==============================] - 1s 21us/sample - loss: 0.4194 - accuracy: 0.8548 - val_loss: 0.4362 - val_accuracy: 0.8458\n"
          ],
          "name": "stdout"
        },
        {
          "output_type": "display_data",
          "data": {
            "text/html": [
              "<span style=\"color:#4527A0\"><h1 style=\"font-size:18px\">Trial complete</h1></span>"
            ],
            "text/plain": [
              "<IPython.core.display.HTML object>"
            ]
          },
          "metadata": {
            "tags": []
          }
        },
        {
          "output_type": "display_data",
          "data": {
            "text/html": [
              "<span style=\"color:#4527A0\"><h1 style=\"font-size:18px\">Trial summary</h1></span>"
            ],
            "text/plain": [
              "<IPython.core.display.HTML object>"
            ]
          },
          "metadata": {
            "tags": []
          }
        },
        {
          "output_type": "display_data",
          "data": {
            "text/html": [
              "<span style=\"color:cyan\"> |-Trial ID: 2d841ee9c82c11fa611077d73282e430</span>"
            ],
            "text/plain": [
              "<IPython.core.display.HTML object>"
            ]
          },
          "metadata": {
            "tags": []
          }
        },
        {
          "output_type": "display_data",
          "data": {
            "text/html": [
              "<span style=\"color:cyan\"> |-Score: 0.8489999771118164</span>"
            ],
            "text/plain": [
              "<IPython.core.display.HTML object>"
            ]
          },
          "metadata": {
            "tags": []
          }
        },
        {
          "output_type": "display_data",
          "data": {
            "text/html": [
              "<span style=\"color:cyan\"> |-Best step: 0</span>"
            ],
            "text/plain": [
              "<IPython.core.display.HTML object>"
            ]
          },
          "metadata": {
            "tags": []
          }
        },
        {
          "output_type": "display_data",
          "data": {
            "text/html": [
              "<span style=\"color:#7E57C2\"><h2 style=\"font-size:16px\">Hyperparameters:</h2></span>"
            ],
            "text/plain": [
              "<IPython.core.display.HTML object>"
            ]
          },
          "metadata": {
            "tags": []
          }
        },
        {
          "output_type": "display_data",
          "data": {
            "text/html": [
              "<span style=\"color:cyan\"> |-activation: elu</span>"
            ],
            "text/plain": [
              "<IPython.core.display.HTML object>"
            ]
          },
          "metadata": {
            "tags": []
          }
        },
        {
          "output_type": "display_data",
          "data": {
            "text/html": [
              "<span style=\"color:blue\"> |-optimizer: SGD</span>"
            ],
            "text/plain": [
              "<IPython.core.display.HTML object>"
            ]
          },
          "metadata": {
            "tags": []
          }
        },
        {
          "output_type": "display_data",
          "data": {
            "text/html": [
              "<span style=\"color:cyan\"> |-units_hidden: 256</span>"
            ],
            "text/plain": [
              "<IPython.core.display.HTML object>"
            ]
          },
          "metadata": {
            "tags": []
          }
        },
        {
          "output_type": "display_data",
          "data": {
            "text/html": [
              "<span style=\"color:blue\"> |-units_input: 1024</span>"
            ],
            "text/plain": [
              "<IPython.core.display.HTML object>"
            ]
          },
          "metadata": {
            "tags": []
          }
        },
        {
          "output_type": "stream",
          "text": [
            "Train on 48000 samples, validate on 12000 samples\n",
            "Epoch 1/20\n",
            "48000/48000 [==============================] - 1s 27us/sample - loss: 0.8235 - accuracy: 0.7287 - val_loss: 0.6066 - val_accuracy: 0.7950\n",
            "Epoch 2/20\n",
            "48000/48000 [==============================] - 1s 21us/sample - loss: 0.5679 - accuracy: 0.8091 - val_loss: 0.5390 - val_accuracy: 0.8145\n",
            "Epoch 3/20\n",
            "48000/48000 [==============================] - 1s 22us/sample - loss: 0.5133 - accuracy: 0.8246 - val_loss: 0.5031 - val_accuracy: 0.8224\n",
            "Epoch 4/20\n",
            "48000/48000 [==============================] - 1s 21us/sample - loss: 0.4849 - accuracy: 0.8329 - val_loss: 0.4877 - val_accuracy: 0.8265\n",
            "Epoch 5/20\n",
            "48000/48000 [==============================] - 1s 23us/sample - loss: 0.4652 - accuracy: 0.8391 - val_loss: 0.4692 - val_accuracy: 0.8320\n",
            "Epoch 6/20\n",
            "48000/48000 [==============================] - 1s 22us/sample - loss: 0.4514 - accuracy: 0.8431 - val_loss: 0.4647 - val_accuracy: 0.8338\n",
            "Epoch 7/20\n",
            "48000/48000 [==============================] - 1s 23us/sample - loss: 0.4418 - accuracy: 0.8465 - val_loss: 0.4662 - val_accuracy: 0.8320\n",
            "Epoch 8/20\n",
            "48000/48000 [==============================] - 1s 22us/sample - loss: 0.4330 - accuracy: 0.8497 - val_loss: 0.4499 - val_accuracy: 0.8423\n",
            "Epoch 9/20\n",
            "48000/48000 [==============================] - 1s 22us/sample - loss: 0.4256 - accuracy: 0.8524 - val_loss: 0.4495 - val_accuracy: 0.8380\n",
            "Epoch 10/20\n",
            "48000/48000 [==============================] - 1s 22us/sample - loss: 0.4195 - accuracy: 0.8533 - val_loss: 0.4393 - val_accuracy: 0.8432\n",
            "Epoch 11/20\n",
            "48000/48000 [==============================] - 1s 23us/sample - loss: 0.4141 - accuracy: 0.8556 - val_loss: 0.4262 - val_accuracy: 0.8520\n",
            "Epoch 12/20\n",
            "48000/48000 [==============================] - 1s 23us/sample - loss: 0.4102 - accuracy: 0.8566 - val_loss: 0.4195 - val_accuracy: 0.8530\n",
            "Epoch 13/20\n",
            "48000/48000 [==============================] - 1s 22us/sample - loss: 0.4065 - accuracy: 0.8577 - val_loss: 0.4249 - val_accuracy: 0.8503\n",
            "Epoch 14/20\n",
            "48000/48000 [==============================] - 1s 22us/sample - loss: 0.4012 - accuracy: 0.8595 - val_loss: 0.4246 - val_accuracy: 0.8473\n",
            "Epoch 15/20\n",
            "48000/48000 [==============================] - 1s 21us/sample - loss: 0.3979 - accuracy: 0.8610 - val_loss: 0.4175 - val_accuracy: 0.8519\n",
            "Epoch 16/20\n",
            "48000/48000 [==============================] - 1s 21us/sample - loss: 0.3940 - accuracy: 0.8616 - val_loss: 0.4128 - val_accuracy: 0.8545\n",
            "Epoch 17/20\n",
            "48000/48000 [==============================] - 1s 21us/sample - loss: 0.3902 - accuracy: 0.8639 - val_loss: 0.4092 - val_accuracy: 0.8548\n",
            "Epoch 18/20\n",
            "48000/48000 [==============================] - 1s 21us/sample - loss: 0.3879 - accuracy: 0.8649 - val_loss: 0.4247 - val_accuracy: 0.8482\n",
            "Epoch 19/20\n",
            "48000/48000 [==============================] - 1s 20us/sample - loss: 0.3840 - accuracy: 0.8664 - val_loss: 0.4253 - val_accuracy: 0.8468\n",
            "Epoch 20/20\n",
            "48000/48000 [==============================] - 1s 21us/sample - loss: 0.3832 - accuracy: 0.8658 - val_loss: 0.4248 - val_accuracy: 0.8462\n"
          ],
          "name": "stdout"
        },
        {
          "output_type": "display_data",
          "data": {
            "text/html": [
              "<span style=\"color:#4527A0\"><h1 style=\"font-size:18px\">Trial complete</h1></span>"
            ],
            "text/plain": [
              "<IPython.core.display.HTML object>"
            ]
          },
          "metadata": {
            "tags": []
          }
        },
        {
          "output_type": "display_data",
          "data": {
            "text/html": [
              "<span style=\"color:#4527A0\"><h1 style=\"font-size:18px\">Trial summary</h1></span>"
            ],
            "text/plain": [
              "<IPython.core.display.HTML object>"
            ]
          },
          "metadata": {
            "tags": []
          }
        },
        {
          "output_type": "display_data",
          "data": {
            "text/html": [
              "<span style=\"color:cyan\"> |-Trial ID: 113e8b5f3be145241602a61e2c8e3469</span>"
            ],
            "text/plain": [
              "<IPython.core.display.HTML object>"
            ]
          },
          "metadata": {
            "tags": []
          }
        },
        {
          "output_type": "display_data",
          "data": {
            "text/html": [
              "<span style=\"color:cyan\"> |-Score: 0.8548333048820496</span>"
            ],
            "text/plain": [
              "<IPython.core.display.HTML object>"
            ]
          },
          "metadata": {
            "tags": []
          }
        },
        {
          "output_type": "display_data",
          "data": {
            "text/html": [
              "<span style=\"color:cyan\"> |-Best step: 0</span>"
            ],
            "text/plain": [
              "<IPython.core.display.HTML object>"
            ]
          },
          "metadata": {
            "tags": []
          }
        },
        {
          "output_type": "display_data",
          "data": {
            "text/html": [
              "<span style=\"color:#7E57C2\"><h2 style=\"font-size:16px\">Hyperparameters:</h2></span>"
            ],
            "text/plain": [
              "<IPython.core.display.HTML object>"
            ]
          },
          "metadata": {
            "tags": []
          }
        },
        {
          "output_type": "display_data",
          "data": {
            "text/html": [
              "<span style=\"color:cyan\"> |-activation: selu</span>"
            ],
            "text/plain": [
              "<IPython.core.display.HTML object>"
            ]
          },
          "metadata": {
            "tags": []
          }
        },
        {
          "output_type": "display_data",
          "data": {
            "text/html": [
              "<span style=\"color:blue\"> |-optimizer: SGD</span>"
            ],
            "text/plain": [
              "<IPython.core.display.HTML object>"
            ]
          },
          "metadata": {
            "tags": []
          }
        },
        {
          "output_type": "display_data",
          "data": {
            "text/html": [
              "<span style=\"color:cyan\"> |-units_hidden: 320</span>"
            ],
            "text/plain": [
              "<IPython.core.display.HTML object>"
            ]
          },
          "metadata": {
            "tags": []
          }
        },
        {
          "output_type": "display_data",
          "data": {
            "text/html": [
              "<span style=\"color:blue\"> |-units_input: 864</span>"
            ],
            "text/plain": [
              "<IPython.core.display.HTML object>"
            ]
          },
          "metadata": {
            "tags": []
          }
        },
        {
          "output_type": "stream",
          "text": [
            "Train on 48000 samples, validate on 12000 samples\n",
            "Epoch 1/20\n",
            "48000/48000 [==============================] - 1s 31us/sample - loss: 0.7107 - accuracy: 0.7437 - val_loss: 0.6047 - val_accuracy: 0.7742\n",
            "Epoch 2/20\n",
            "48000/48000 [==============================] - 1s 22us/sample - loss: 0.4537 - accuracy: 0.8280 - val_loss: 0.4758 - val_accuracy: 0.8216\n",
            "Epoch 3/20\n",
            "48000/48000 [==============================] - 1s 23us/sample - loss: 0.3961 - accuracy: 0.8517 - val_loss: 0.4363 - val_accuracy: 0.8377\n",
            "Epoch 4/20\n",
            "48000/48000 [==============================] - 1s 22us/sample - loss: 0.3573 - accuracy: 0.8665 - val_loss: 0.4420 - val_accuracy: 0.8358\n",
            "Epoch 5/20\n",
            "48000/48000 [==============================] - 1s 25us/sample - loss: 0.3302 - accuracy: 0.8758 - val_loss: 0.4090 - val_accuracy: 0.8448\n",
            "Epoch 6/20\n",
            "48000/48000 [==============================] - 1s 25us/sample - loss: 0.3101 - accuracy: 0.8832 - val_loss: 0.4227 - val_accuracy: 0.8428\n",
            "Epoch 7/20\n",
            "48000/48000 [==============================] - 1s 22us/sample - loss: 0.2941 - accuracy: 0.8889 - val_loss: 0.3837 - val_accuracy: 0.8601\n",
            "Epoch 8/20\n",
            "48000/48000 [==============================] - 1s 23us/sample - loss: 0.2811 - accuracy: 0.8930 - val_loss: 0.3333 - val_accuracy: 0.8793\n",
            "Epoch 9/20\n",
            "48000/48000 [==============================] - 1s 25us/sample - loss: 0.2665 - accuracy: 0.8989 - val_loss: 0.3146 - val_accuracy: 0.8833\n",
            "Epoch 10/20\n",
            "48000/48000 [==============================] - 1s 23us/sample - loss: 0.2535 - accuracy: 0.9048 - val_loss: 0.3446 - val_accuracy: 0.8718\n",
            "Epoch 11/20\n",
            "48000/48000 [==============================] - 1s 22us/sample - loss: 0.2407 - accuracy: 0.9087 - val_loss: 0.3336 - val_accuracy: 0.8767\n",
            "Epoch 12/20\n",
            "48000/48000 [==============================] - 1s 23us/sample - loss: 0.2320 - accuracy: 0.9125 - val_loss: 0.3098 - val_accuracy: 0.8870\n",
            "Epoch 13/20\n",
            "48000/48000 [==============================] - 1s 22us/sample - loss: 0.2220 - accuracy: 0.9161 - val_loss: 0.3425 - val_accuracy: 0.8785\n",
            "Epoch 14/20\n",
            "48000/48000 [==============================] - 1s 23us/sample - loss: 0.2147 - accuracy: 0.9201 - val_loss: 0.3109 - val_accuracy: 0.8899\n",
            "Epoch 15/20\n",
            "48000/48000 [==============================] - 1s 22us/sample - loss: 0.2047 - accuracy: 0.9218 - val_loss: 0.3093 - val_accuracy: 0.8926\n",
            "Epoch 16/20\n",
            "48000/48000 [==============================] - 1s 23us/sample - loss: 0.1969 - accuracy: 0.9256 - val_loss: 0.2902 - val_accuracy: 0.8962\n",
            "Epoch 17/20\n",
            "48000/48000 [==============================] - 1s 22us/sample - loss: 0.1886 - accuracy: 0.9281 - val_loss: 0.3184 - val_accuracy: 0.8851\n",
            "Epoch 18/20\n",
            "48000/48000 [==============================] - 1s 21us/sample - loss: 0.1819 - accuracy: 0.9316 - val_loss: 0.3215 - val_accuracy: 0.8873\n",
            "Epoch 19/20\n",
            "48000/48000 [==============================] - 1s 21us/sample - loss: 0.1763 - accuracy: 0.9337 - val_loss: 0.3287 - val_accuracy: 0.8893\n",
            "Epoch 20/20\n",
            "48000/48000 [==============================] - 1s 22us/sample - loss: 0.1682 - accuracy: 0.9366 - val_loss: 0.3298 - val_accuracy: 0.8874\n"
          ],
          "name": "stdout"
        },
        {
          "output_type": "display_data",
          "data": {
            "text/html": [
              "<span style=\"color:#4527A0\"><h1 style=\"font-size:18px\">Trial complete</h1></span>"
            ],
            "text/plain": [
              "<IPython.core.display.HTML object>"
            ]
          },
          "metadata": {
            "tags": []
          }
        },
        {
          "output_type": "display_data",
          "data": {
            "text/html": [
              "<span style=\"color:#4527A0\"><h1 style=\"font-size:18px\">Trial summary</h1></span>"
            ],
            "text/plain": [
              "<IPython.core.display.HTML object>"
            ]
          },
          "metadata": {
            "tags": []
          }
        },
        {
          "output_type": "display_data",
          "data": {
            "text/html": [
              "<span style=\"color:cyan\"> |-Trial ID: 3fd21a87b6667477ed402828a6187b38</span>"
            ],
            "text/plain": [
              "<IPython.core.display.HTML object>"
            ]
          },
          "metadata": {
            "tags": []
          }
        },
        {
          "output_type": "display_data",
          "data": {
            "text/html": [
              "<span style=\"color:cyan\"> |-Score: 0.8961666822433472</span>"
            ],
            "text/plain": [
              "<IPython.core.display.HTML object>"
            ]
          },
          "metadata": {
            "tags": []
          }
        },
        {
          "output_type": "display_data",
          "data": {
            "text/html": [
              "<span style=\"color:cyan\"> |-Best step: 0</span>"
            ],
            "text/plain": [
              "<IPython.core.display.HTML object>"
            ]
          },
          "metadata": {
            "tags": []
          }
        },
        {
          "output_type": "display_data",
          "data": {
            "text/html": [
              "<span style=\"color:#7E57C2\"><h2 style=\"font-size:16px\">Hyperparameters:</h2></span>"
            ],
            "text/plain": [
              "<IPython.core.display.HTML object>"
            ]
          },
          "metadata": {
            "tags": []
          }
        },
        {
          "output_type": "display_data",
          "data": {
            "text/html": [
              "<span style=\"color:cyan\"> |-activation: tanh</span>"
            ],
            "text/plain": [
              "<IPython.core.display.HTML object>"
            ]
          },
          "metadata": {
            "tags": []
          }
        },
        {
          "output_type": "display_data",
          "data": {
            "text/html": [
              "<span style=\"color:blue\"> |-optimizer: rmsprop</span>"
            ],
            "text/plain": [
              "<IPython.core.display.HTML object>"
            ]
          },
          "metadata": {
            "tags": []
          }
        },
        {
          "output_type": "display_data",
          "data": {
            "text/html": [
              "<span style=\"color:cyan\"> |-units_hidden: 288</span>"
            ],
            "text/plain": [
              "<IPython.core.display.HTML object>"
            ]
          },
          "metadata": {
            "tags": []
          }
        },
        {
          "output_type": "display_data",
          "data": {
            "text/html": [
              "<span style=\"color:blue\"> |-units_input: 640</span>"
            ],
            "text/plain": [
              "<IPython.core.display.HTML object>"
            ]
          },
          "metadata": {
            "tags": []
          }
        },
        {
          "output_type": "stream",
          "text": [
            "INFO:tensorflow:Oracle triggered exit\n"
          ],
          "name": "stdout"
        }
      ]
    },
    {
      "cell_type": "markdown",
      "metadata": {
        "id": "KlPTC0r3pLyB",
        "colab_type": "text"
      },
      "source": [
        "## Выбираем лучшую модель"
      ]
    },
    {
      "cell_type": "code",
      "metadata": {
        "id": "i1TDBMF6ORNW",
        "colab_type": "code",
        "colab": {
          "base_uri": "https://localhost:8080/",
          "height": 1000
        },
        "outputId": "6602d647-0881-4948-bb4b-14f68ac7b02c"
      },
      "source": [
        "tuner.results_summary()"
      ],
      "execution_count": null,
      "outputs": [
        {
          "output_type": "display_data",
          "data": {
            "text/html": [
              "<span style=\"color:#4527A0\"><h1 style=\"font-size:18px\">Results summary</h1></span>"
            ],
            "text/plain": [
              "<IPython.core.display.HTML object>"
            ]
          },
          "metadata": {
            "tags": []
          }
        },
        {
          "output_type": "display_data",
          "data": {
            "text/html": [
              "<span style=\"color:cyan\"> |-Results in test_directory/untitled_project</span>"
            ],
            "text/plain": [
              "<IPython.core.display.HTML object>"
            ]
          },
          "metadata": {
            "tags": []
          }
        },
        {
          "output_type": "display_data",
          "data": {
            "text/html": [
              "<span style=\"color:cyan\"> |-Showing 10 best trials</span>"
            ],
            "text/plain": [
              "<IPython.core.display.HTML object>"
            ]
          },
          "metadata": {
            "tags": []
          }
        },
        {
          "output_type": "display_data",
          "data": {
            "text/html": [
              "<span style=\"color:cyan\"> |-Objective(name='val_accuracy', direction='max')</span>"
            ],
            "text/plain": [
              "<IPython.core.display.HTML object>"
            ]
          },
          "metadata": {
            "tags": []
          }
        },
        {
          "output_type": "display_data",
          "data": {
            "text/html": [
              "<span style=\"color:#4527A0\"><h1 style=\"font-size:18px\">Trial summary</h1></span>"
            ],
            "text/plain": [
              "<IPython.core.display.HTML object>"
            ]
          },
          "metadata": {
            "tags": []
          }
        },
        {
          "output_type": "display_data",
          "data": {
            "text/html": [
              "<span style=\"color:cyan\"> |-Trial ID: 1b5c7cf7d980db3e10d33db9b9774864</span>"
            ],
            "text/plain": [
              "<IPython.core.display.HTML object>"
            ]
          },
          "metadata": {
            "tags": []
          }
        },
        {
          "output_type": "display_data",
          "data": {
            "text/html": [
              "<span style=\"color:cyan\"> |-Score: 0.8998333215713501</span>"
            ],
            "text/plain": [
              "<IPython.core.display.HTML object>"
            ]
          },
          "metadata": {
            "tags": []
          }
        },
        {
          "output_type": "display_data",
          "data": {
            "text/html": [
              "<span style=\"color:cyan\"> |-Best step: 0</span>"
            ],
            "text/plain": [
              "<IPython.core.display.HTML object>"
            ]
          },
          "metadata": {
            "tags": []
          }
        },
        {
          "output_type": "display_data",
          "data": {
            "text/html": [
              "<span style=\"color:#7E57C2\"><h2 style=\"font-size:16px\">Hyperparameters:</h2></span>"
            ],
            "text/plain": [
              "<IPython.core.display.HTML object>"
            ]
          },
          "metadata": {
            "tags": []
          }
        },
        {
          "output_type": "display_data",
          "data": {
            "text/html": [
              "<span style=\"color:cyan\"> |-activation: relu</span>"
            ],
            "text/plain": [
              "<IPython.core.display.HTML object>"
            ]
          },
          "metadata": {
            "tags": []
          }
        },
        {
          "output_type": "display_data",
          "data": {
            "text/html": [
              "<span style=\"color:blue\"> |-optimizer: adam</span>"
            ],
            "text/plain": [
              "<IPython.core.display.HTML object>"
            ]
          },
          "metadata": {
            "tags": []
          }
        },
        {
          "output_type": "display_data",
          "data": {
            "text/html": [
              "<span style=\"color:cyan\"> |-units_hidden: 448</span>"
            ],
            "text/plain": [
              "<IPython.core.display.HTML object>"
            ]
          },
          "metadata": {
            "tags": []
          }
        },
        {
          "output_type": "display_data",
          "data": {
            "text/html": [
              "<span style=\"color:blue\"> |-units_input: 896</span>"
            ],
            "text/plain": [
              "<IPython.core.display.HTML object>"
            ]
          },
          "metadata": {
            "tags": []
          }
        },
        {
          "output_type": "display_data",
          "data": {
            "text/html": [
              "<span style=\"color:#4527A0\"><h1 style=\"font-size:18px\">Trial summary</h1></span>"
            ],
            "text/plain": [
              "<IPython.core.display.HTML object>"
            ]
          },
          "metadata": {
            "tags": []
          }
        },
        {
          "output_type": "display_data",
          "data": {
            "text/html": [
              "<span style=\"color:cyan\"> |-Trial ID: bde66181cd6da3ed4dc75d8059e2e6f9</span>"
            ],
            "text/plain": [
              "<IPython.core.display.HTML object>"
            ]
          },
          "metadata": {
            "tags": []
          }
        },
        {
          "output_type": "display_data",
          "data": {
            "text/html": [
              "<span style=\"color:cyan\"> |-Score: 0.8990833163261414</span>"
            ],
            "text/plain": [
              "<IPython.core.display.HTML object>"
            ]
          },
          "metadata": {
            "tags": []
          }
        },
        {
          "output_type": "display_data",
          "data": {
            "text/html": [
              "<span style=\"color:cyan\"> |-Best step: 0</span>"
            ],
            "text/plain": [
              "<IPython.core.display.HTML object>"
            ]
          },
          "metadata": {
            "tags": []
          }
        },
        {
          "output_type": "display_data",
          "data": {
            "text/html": [
              "<span style=\"color:#7E57C2\"><h2 style=\"font-size:16px\">Hyperparameters:</h2></span>"
            ],
            "text/plain": [
              "<IPython.core.display.HTML object>"
            ]
          },
          "metadata": {
            "tags": []
          }
        },
        {
          "output_type": "display_data",
          "data": {
            "text/html": [
              "<span style=\"color:cyan\"> |-activation: tanh</span>"
            ],
            "text/plain": [
              "<IPython.core.display.HTML object>"
            ]
          },
          "metadata": {
            "tags": []
          }
        },
        {
          "output_type": "display_data",
          "data": {
            "text/html": [
              "<span style=\"color:blue\"> |-optimizer: adam</span>"
            ],
            "text/plain": [
              "<IPython.core.display.HTML object>"
            ]
          },
          "metadata": {
            "tags": []
          }
        },
        {
          "output_type": "display_data",
          "data": {
            "text/html": [
              "<span style=\"color:cyan\"> |-units_hidden: 544</span>"
            ],
            "text/plain": [
              "<IPython.core.display.HTML object>"
            ]
          },
          "metadata": {
            "tags": []
          }
        },
        {
          "output_type": "display_data",
          "data": {
            "text/html": [
              "<span style=\"color:blue\"> |-units_input: 608</span>"
            ],
            "text/plain": [
              "<IPython.core.display.HTML object>"
            ]
          },
          "metadata": {
            "tags": []
          }
        },
        {
          "output_type": "display_data",
          "data": {
            "text/html": [
              "<span style=\"color:#4527A0\"><h1 style=\"font-size:18px\">Trial summary</h1></span>"
            ],
            "text/plain": [
              "<IPython.core.display.HTML object>"
            ]
          },
          "metadata": {
            "tags": []
          }
        },
        {
          "output_type": "display_data",
          "data": {
            "text/html": [
              "<span style=\"color:cyan\"> |-Trial ID: 01e8da260a0d3c577a74d95b51f32455</span>"
            ],
            "text/plain": [
              "<IPython.core.display.HTML object>"
            ]
          },
          "metadata": {
            "tags": []
          }
        },
        {
          "output_type": "display_data",
          "data": {
            "text/html": [
              "<span style=\"color:cyan\"> |-Score: 0.8988333344459534</span>"
            ],
            "text/plain": [
              "<IPython.core.display.HTML object>"
            ]
          },
          "metadata": {
            "tags": []
          }
        },
        {
          "output_type": "display_data",
          "data": {
            "text/html": [
              "<span style=\"color:cyan\"> |-Best step: 0</span>"
            ],
            "text/plain": [
              "<IPython.core.display.HTML object>"
            ]
          },
          "metadata": {
            "tags": []
          }
        },
        {
          "output_type": "display_data",
          "data": {
            "text/html": [
              "<span style=\"color:#7E57C2\"><h2 style=\"font-size:16px\">Hyperparameters:</h2></span>"
            ],
            "text/plain": [
              "<IPython.core.display.HTML object>"
            ]
          },
          "metadata": {
            "tags": []
          }
        },
        {
          "output_type": "display_data",
          "data": {
            "text/html": [
              "<span style=\"color:cyan\"> |-activation: relu</span>"
            ],
            "text/plain": [
              "<IPython.core.display.HTML object>"
            ]
          },
          "metadata": {
            "tags": []
          }
        },
        {
          "output_type": "display_data",
          "data": {
            "text/html": [
              "<span style=\"color:blue\"> |-optimizer: rmsprop</span>"
            ],
            "text/plain": [
              "<IPython.core.display.HTML object>"
            ]
          },
          "metadata": {
            "tags": []
          }
        },
        {
          "output_type": "display_data",
          "data": {
            "text/html": [
              "<span style=\"color:cyan\"> |-units_hidden: 576</span>"
            ],
            "text/plain": [
              "<IPython.core.display.HTML object>"
            ]
          },
          "metadata": {
            "tags": []
          }
        },
        {
          "output_type": "display_data",
          "data": {
            "text/html": [
              "<span style=\"color:blue\"> |-units_input: 864</span>"
            ],
            "text/plain": [
              "<IPython.core.display.HTML object>"
            ]
          },
          "metadata": {
            "tags": []
          }
        },
        {
          "output_type": "display_data",
          "data": {
            "text/html": [
              "<span style=\"color:#4527A0\"><h1 style=\"font-size:18px\">Trial summary</h1></span>"
            ],
            "text/plain": [
              "<IPython.core.display.HTML object>"
            ]
          },
          "metadata": {
            "tags": []
          }
        },
        {
          "output_type": "display_data",
          "data": {
            "text/html": [
              "<span style=\"color:cyan\"> |-Trial ID: 3469db594de8bd63c7eb3f2dae4a7257</span>"
            ],
            "text/plain": [
              "<IPython.core.display.HTML object>"
            ]
          },
          "metadata": {
            "tags": []
          }
        },
        {
          "output_type": "display_data",
          "data": {
            "text/html": [
              "<span style=\"color:cyan\"> |-Score: 0.8981666564941406</span>"
            ],
            "text/plain": [
              "<IPython.core.display.HTML object>"
            ]
          },
          "metadata": {
            "tags": []
          }
        },
        {
          "output_type": "display_data",
          "data": {
            "text/html": [
              "<span style=\"color:cyan\"> |-Best step: 0</span>"
            ],
            "text/plain": [
              "<IPython.core.display.HTML object>"
            ]
          },
          "metadata": {
            "tags": []
          }
        },
        {
          "output_type": "display_data",
          "data": {
            "text/html": [
              "<span style=\"color:#7E57C2\"><h2 style=\"font-size:16px\">Hyperparameters:</h2></span>"
            ],
            "text/plain": [
              "<IPython.core.display.HTML object>"
            ]
          },
          "metadata": {
            "tags": []
          }
        },
        {
          "output_type": "display_data",
          "data": {
            "text/html": [
              "<span style=\"color:cyan\"> |-activation: relu</span>"
            ],
            "text/plain": [
              "<IPython.core.display.HTML object>"
            ]
          },
          "metadata": {
            "tags": []
          }
        },
        {
          "output_type": "display_data",
          "data": {
            "text/html": [
              "<span style=\"color:blue\"> |-optimizer: rmsprop</span>"
            ],
            "text/plain": [
              "<IPython.core.display.HTML object>"
            ]
          },
          "metadata": {
            "tags": []
          }
        },
        {
          "output_type": "display_data",
          "data": {
            "text/html": [
              "<span style=\"color:cyan\"> |-units_hidden: 416</span>"
            ],
            "text/plain": [
              "<IPython.core.display.HTML object>"
            ]
          },
          "metadata": {
            "tags": []
          }
        },
        {
          "output_type": "display_data",
          "data": {
            "text/html": [
              "<span style=\"color:blue\"> |-units_input: 704</span>"
            ],
            "text/plain": [
              "<IPython.core.display.HTML object>"
            ]
          },
          "metadata": {
            "tags": []
          }
        },
        {
          "output_type": "display_data",
          "data": {
            "text/html": [
              "<span style=\"color:#4527A0\"><h1 style=\"font-size:18px\">Trial summary</h1></span>"
            ],
            "text/plain": [
              "<IPython.core.display.HTML object>"
            ]
          },
          "metadata": {
            "tags": []
          }
        },
        {
          "output_type": "display_data",
          "data": {
            "text/html": [
              "<span style=\"color:cyan\"> |-Trial ID: 1249025444d5e09fe58746ebc0fec77b</span>"
            ],
            "text/plain": [
              "<IPython.core.display.HTML object>"
            ]
          },
          "metadata": {
            "tags": []
          }
        },
        {
          "output_type": "display_data",
          "data": {
            "text/html": [
              "<span style=\"color:cyan\"> |-Score: 0.8981666564941406</span>"
            ],
            "text/plain": [
              "<IPython.core.display.HTML object>"
            ]
          },
          "metadata": {
            "tags": []
          }
        },
        {
          "output_type": "display_data",
          "data": {
            "text/html": [
              "<span style=\"color:cyan\"> |-Best step: 0</span>"
            ],
            "text/plain": [
              "<IPython.core.display.HTML object>"
            ]
          },
          "metadata": {
            "tags": []
          }
        },
        {
          "output_type": "display_data",
          "data": {
            "text/html": [
              "<span style=\"color:#7E57C2\"><h2 style=\"font-size:16px\">Hyperparameters:</h2></span>"
            ],
            "text/plain": [
              "<IPython.core.display.HTML object>"
            ]
          },
          "metadata": {
            "tags": []
          }
        },
        {
          "output_type": "display_data",
          "data": {
            "text/html": [
              "<span style=\"color:cyan\"> |-activation: relu</span>"
            ],
            "text/plain": [
              "<IPython.core.display.HTML object>"
            ]
          },
          "metadata": {
            "tags": []
          }
        },
        {
          "output_type": "display_data",
          "data": {
            "text/html": [
              "<span style=\"color:blue\"> |-optimizer: adam</span>"
            ],
            "text/plain": [
              "<IPython.core.display.HTML object>"
            ]
          },
          "metadata": {
            "tags": []
          }
        },
        {
          "output_type": "display_data",
          "data": {
            "text/html": [
              "<span style=\"color:cyan\"> |-units_hidden: 256</span>"
            ],
            "text/plain": [
              "<IPython.core.display.HTML object>"
            ]
          },
          "metadata": {
            "tags": []
          }
        },
        {
          "output_type": "display_data",
          "data": {
            "text/html": [
              "<span style=\"color:blue\"> |-units_input: 544</span>"
            ],
            "text/plain": [
              "<IPython.core.display.HTML object>"
            ]
          },
          "metadata": {
            "tags": []
          }
        },
        {
          "output_type": "display_data",
          "data": {
            "text/html": [
              "<span style=\"color:#4527A0\"><h1 style=\"font-size:18px\">Trial summary</h1></span>"
            ],
            "text/plain": [
              "<IPython.core.display.HTML object>"
            ]
          },
          "metadata": {
            "tags": []
          }
        },
        {
          "output_type": "display_data",
          "data": {
            "text/html": [
              "<span style=\"color:cyan\"> |-Trial ID: 8fc6e6dd3efafc3ce25b41acad85e8f2</span>"
            ],
            "text/plain": [
              "<IPython.core.display.HTML object>"
            ]
          },
          "metadata": {
            "tags": []
          }
        },
        {
          "output_type": "display_data",
          "data": {
            "text/html": [
              "<span style=\"color:cyan\"> |-Score: 0.8980833292007446</span>"
            ],
            "text/plain": [
              "<IPython.core.display.HTML object>"
            ]
          },
          "metadata": {
            "tags": []
          }
        },
        {
          "output_type": "display_data",
          "data": {
            "text/html": [
              "<span style=\"color:cyan\"> |-Best step: 0</span>"
            ],
            "text/plain": [
              "<IPython.core.display.HTML object>"
            ]
          },
          "metadata": {
            "tags": []
          }
        },
        {
          "output_type": "display_data",
          "data": {
            "text/html": [
              "<span style=\"color:#7E57C2\"><h2 style=\"font-size:16px\">Hyperparameters:</h2></span>"
            ],
            "text/plain": [
              "<IPython.core.display.HTML object>"
            ]
          },
          "metadata": {
            "tags": []
          }
        },
        {
          "output_type": "display_data",
          "data": {
            "text/html": [
              "<span style=\"color:cyan\"> |-activation: relu</span>"
            ],
            "text/plain": [
              "<IPython.core.display.HTML object>"
            ]
          },
          "metadata": {
            "tags": []
          }
        },
        {
          "output_type": "display_data",
          "data": {
            "text/html": [
              "<span style=\"color:blue\"> |-optimizer: adam</span>"
            ],
            "text/plain": [
              "<IPython.core.display.HTML object>"
            ]
          },
          "metadata": {
            "tags": []
          }
        },
        {
          "output_type": "display_data",
          "data": {
            "text/html": [
              "<span style=\"color:cyan\"> |-units_hidden: 384</span>"
            ],
            "text/plain": [
              "<IPython.core.display.HTML object>"
            ]
          },
          "metadata": {
            "tags": []
          }
        },
        {
          "output_type": "display_data",
          "data": {
            "text/html": [
              "<span style=\"color:blue\"> |-units_input: 992</span>"
            ],
            "text/plain": [
              "<IPython.core.display.HTML object>"
            ]
          },
          "metadata": {
            "tags": []
          }
        },
        {
          "output_type": "display_data",
          "data": {
            "text/html": [
              "<span style=\"color:#4527A0\"><h1 style=\"font-size:18px\">Trial summary</h1></span>"
            ],
            "text/plain": [
              "<IPython.core.display.HTML object>"
            ]
          },
          "metadata": {
            "tags": []
          }
        },
        {
          "output_type": "display_data",
          "data": {
            "text/html": [
              "<span style=\"color:cyan\"> |-Trial ID: d48bfd937a3eab12a0a43895c68f32ef</span>"
            ],
            "text/plain": [
              "<IPython.core.display.HTML object>"
            ]
          },
          "metadata": {
            "tags": []
          }
        },
        {
          "output_type": "display_data",
          "data": {
            "text/html": [
              "<span style=\"color:cyan\"> |-Score: 0.8980833292007446</span>"
            ],
            "text/plain": [
              "<IPython.core.display.HTML object>"
            ]
          },
          "metadata": {
            "tags": []
          }
        },
        {
          "output_type": "display_data",
          "data": {
            "text/html": [
              "<span style=\"color:cyan\"> |-Best step: 0</span>"
            ],
            "text/plain": [
              "<IPython.core.display.HTML object>"
            ]
          },
          "metadata": {
            "tags": []
          }
        },
        {
          "output_type": "display_data",
          "data": {
            "text/html": [
              "<span style=\"color:#7E57C2\"><h2 style=\"font-size:16px\">Hyperparameters:</h2></span>"
            ],
            "text/plain": [
              "<IPython.core.display.HTML object>"
            ]
          },
          "metadata": {
            "tags": []
          }
        },
        {
          "output_type": "display_data",
          "data": {
            "text/html": [
              "<span style=\"color:cyan\"> |-activation: relu</span>"
            ],
            "text/plain": [
              "<IPython.core.display.HTML object>"
            ]
          },
          "metadata": {
            "tags": []
          }
        },
        {
          "output_type": "display_data",
          "data": {
            "text/html": [
              "<span style=\"color:blue\"> |-optimizer: rmsprop</span>"
            ],
            "text/plain": [
              "<IPython.core.display.HTML object>"
            ]
          },
          "metadata": {
            "tags": []
          }
        },
        {
          "output_type": "display_data",
          "data": {
            "text/html": [
              "<span style=\"color:cyan\"> |-units_hidden: 480</span>"
            ],
            "text/plain": [
              "<IPython.core.display.HTML object>"
            ]
          },
          "metadata": {
            "tags": []
          }
        },
        {
          "output_type": "display_data",
          "data": {
            "text/html": [
              "<span style=\"color:blue\"> |-units_input: 896</span>"
            ],
            "text/plain": [
              "<IPython.core.display.HTML object>"
            ]
          },
          "metadata": {
            "tags": []
          }
        },
        {
          "output_type": "display_data",
          "data": {
            "text/html": [
              "<span style=\"color:#4527A0\"><h1 style=\"font-size:18px\">Trial summary</h1></span>"
            ],
            "text/plain": [
              "<IPython.core.display.HTML object>"
            ]
          },
          "metadata": {
            "tags": []
          }
        },
        {
          "output_type": "display_data",
          "data": {
            "text/html": [
              "<span style=\"color:cyan\"> |-Trial ID: d11727780f25b34f455359c2487fd9f8</span>"
            ],
            "text/plain": [
              "<IPython.core.display.HTML object>"
            ]
          },
          "metadata": {
            "tags": []
          }
        },
        {
          "output_type": "display_data",
          "data": {
            "text/html": [
              "<span style=\"color:cyan\"> |-Score: 0.8977500200271606</span>"
            ],
            "text/plain": [
              "<IPython.core.display.HTML object>"
            ]
          },
          "metadata": {
            "tags": []
          }
        },
        {
          "output_type": "display_data",
          "data": {
            "text/html": [
              "<span style=\"color:cyan\"> |-Best step: 0</span>"
            ],
            "text/plain": [
              "<IPython.core.display.HTML object>"
            ]
          },
          "metadata": {
            "tags": []
          }
        },
        {
          "output_type": "display_data",
          "data": {
            "text/html": [
              "<span style=\"color:#7E57C2\"><h2 style=\"font-size:16px\">Hyperparameters:</h2></span>"
            ],
            "text/plain": [
              "<IPython.core.display.HTML object>"
            ]
          },
          "metadata": {
            "tags": []
          }
        },
        {
          "output_type": "display_data",
          "data": {
            "text/html": [
              "<span style=\"color:cyan\"> |-activation: relu</span>"
            ],
            "text/plain": [
              "<IPython.core.display.HTML object>"
            ]
          },
          "metadata": {
            "tags": []
          }
        },
        {
          "output_type": "display_data",
          "data": {
            "text/html": [
              "<span style=\"color:blue\"> |-optimizer: adam</span>"
            ],
            "text/plain": [
              "<IPython.core.display.HTML object>"
            ]
          },
          "metadata": {
            "tags": []
          }
        },
        {
          "output_type": "display_data",
          "data": {
            "text/html": [
              "<span style=\"color:cyan\"> |-units_hidden: 448</span>"
            ],
            "text/plain": [
              "<IPython.core.display.HTML object>"
            ]
          },
          "metadata": {
            "tags": []
          }
        },
        {
          "output_type": "display_data",
          "data": {
            "text/html": [
              "<span style=\"color:blue\"> |-units_input: 800</span>"
            ],
            "text/plain": [
              "<IPython.core.display.HTML object>"
            ]
          },
          "metadata": {
            "tags": []
          }
        },
        {
          "output_type": "display_data",
          "data": {
            "text/html": [
              "<span style=\"color:#4527A0\"><h1 style=\"font-size:18px\">Trial summary</h1></span>"
            ],
            "text/plain": [
              "<IPython.core.display.HTML object>"
            ]
          },
          "metadata": {
            "tags": []
          }
        },
        {
          "output_type": "display_data",
          "data": {
            "text/html": [
              "<span style=\"color:cyan\"> |-Trial ID: 498f6ab33c99a00910b1d4684b68c5e3</span>"
            ],
            "text/plain": [
              "<IPython.core.display.HTML object>"
            ]
          },
          "metadata": {
            "tags": []
          }
        },
        {
          "output_type": "display_data",
          "data": {
            "text/html": [
              "<span style=\"color:cyan\"> |-Score: 0.8976666927337646</span>"
            ],
            "text/plain": [
              "<IPython.core.display.HTML object>"
            ]
          },
          "metadata": {
            "tags": []
          }
        },
        {
          "output_type": "display_data",
          "data": {
            "text/html": [
              "<span style=\"color:cyan\"> |-Best step: 0</span>"
            ],
            "text/plain": [
              "<IPython.core.display.HTML object>"
            ]
          },
          "metadata": {
            "tags": []
          }
        },
        {
          "output_type": "display_data",
          "data": {
            "text/html": [
              "<span style=\"color:#7E57C2\"><h2 style=\"font-size:16px\">Hyperparameters:</h2></span>"
            ],
            "text/plain": [
              "<IPython.core.display.HTML object>"
            ]
          },
          "metadata": {
            "tags": []
          }
        },
        {
          "output_type": "display_data",
          "data": {
            "text/html": [
              "<span style=\"color:cyan\"> |-activation: tanh</span>"
            ],
            "text/plain": [
              "<IPython.core.display.HTML object>"
            ]
          },
          "metadata": {
            "tags": []
          }
        },
        {
          "output_type": "display_data",
          "data": {
            "text/html": [
              "<span style=\"color:blue\"> |-optimizer: rmsprop</span>"
            ],
            "text/plain": [
              "<IPython.core.display.HTML object>"
            ]
          },
          "metadata": {
            "tags": []
          }
        },
        {
          "output_type": "display_data",
          "data": {
            "text/html": [
              "<span style=\"color:cyan\"> |-units_hidden: 256</span>"
            ],
            "text/plain": [
              "<IPython.core.display.HTML object>"
            ]
          },
          "metadata": {
            "tags": []
          }
        },
        {
          "output_type": "display_data",
          "data": {
            "text/html": [
              "<span style=\"color:blue\"> |-units_input: 608</span>"
            ],
            "text/plain": [
              "<IPython.core.display.HTML object>"
            ]
          },
          "metadata": {
            "tags": []
          }
        },
        {
          "output_type": "display_data",
          "data": {
            "text/html": [
              "<span style=\"color:#4527A0\"><h1 style=\"font-size:18px\">Trial summary</h1></span>"
            ],
            "text/plain": [
              "<IPython.core.display.HTML object>"
            ]
          },
          "metadata": {
            "tags": []
          }
        },
        {
          "output_type": "display_data",
          "data": {
            "text/html": [
              "<span style=\"color:cyan\"> |-Trial ID: e72389ba72530ce2494c2f3cce590cfe</span>"
            ],
            "text/plain": [
              "<IPython.core.display.HTML object>"
            ]
          },
          "metadata": {
            "tags": []
          }
        },
        {
          "output_type": "display_data",
          "data": {
            "text/html": [
              "<span style=\"color:cyan\"> |-Score: 0.8974999785423279</span>"
            ],
            "text/plain": [
              "<IPython.core.display.HTML object>"
            ]
          },
          "metadata": {
            "tags": []
          }
        },
        {
          "output_type": "display_data",
          "data": {
            "text/html": [
              "<span style=\"color:cyan\"> |-Best step: 0</span>"
            ],
            "text/plain": [
              "<IPython.core.display.HTML object>"
            ]
          },
          "metadata": {
            "tags": []
          }
        },
        {
          "output_type": "display_data",
          "data": {
            "text/html": [
              "<span style=\"color:#7E57C2\"><h2 style=\"font-size:16px\">Hyperparameters:</h2></span>"
            ],
            "text/plain": [
              "<IPython.core.display.HTML object>"
            ]
          },
          "metadata": {
            "tags": []
          }
        },
        {
          "output_type": "display_data",
          "data": {
            "text/html": [
              "<span style=\"color:cyan\"> |-activation: relu</span>"
            ],
            "text/plain": [
              "<IPython.core.display.HTML object>"
            ]
          },
          "metadata": {
            "tags": []
          }
        },
        {
          "output_type": "display_data",
          "data": {
            "text/html": [
              "<span style=\"color:blue\"> |-optimizer: adam</span>"
            ],
            "text/plain": [
              "<IPython.core.display.HTML object>"
            ]
          },
          "metadata": {
            "tags": []
          }
        },
        {
          "output_type": "display_data",
          "data": {
            "text/html": [
              "<span style=\"color:cyan\"> |-units_hidden: 128</span>"
            ],
            "text/plain": [
              "<IPython.core.display.HTML object>"
            ]
          },
          "metadata": {
            "tags": []
          }
        },
        {
          "output_type": "display_data",
          "data": {
            "text/html": [
              "<span style=\"color:blue\"> |-units_input: 768</span>"
            ],
            "text/plain": [
              "<IPython.core.display.HTML object>"
            ]
          },
          "metadata": {
            "tags": []
          }
        }
      ]
    },
    {
      "cell_type": "markdown",
      "metadata": {
        "id": "_it8FZ8epSue",
        "colab_type": "text"
      },
      "source": [
        "Получаем три лучших модели"
      ]
    },
    {
      "cell_type": "code",
      "metadata": {
        "id": "31_zCfjqQVL6",
        "colab_type": "code",
        "colab": {}
      },
      "source": [
        "models = tuner.get_best_models(num_models=3)"
      ],
      "execution_count": null,
      "outputs": []
    },
    {
      "cell_type": "markdown",
      "metadata": {
        "id": "Oje7bSQppVkF",
        "colab_type": "text"
      },
      "source": [
        "Оцениваем качество модели на тестовых данных"
      ]
    },
    {
      "cell_type": "code",
      "metadata": {
        "id": "CUoo7iM-bBht",
        "colab_type": "code",
        "colab": {
          "base_uri": "https://localhost:8080/",
          "height": 840
        },
        "outputId": "fbaa6cae-c45a-475d-fe4f-3e5142f11271"
      },
      "source": [
        "for model in models:\n",
        "  model.summary()\n",
        "  model.evaluate(x_test, y_test)\n",
        "  print() "
      ],
      "execution_count": null,
      "outputs": [
        {
          "output_type": "stream",
          "text": [
            "Model: \"sequential\"\n",
            "_________________________________________________________________\n",
            "Layer (type)                 Output Shape              Param #   \n",
            "=================================================================\n",
            "dense (Dense)                (None, 896)               703360    \n",
            "_________________________________________________________________\n",
            "dense_1 (Dense)              (None, 448)               401856    \n",
            "_________________________________________________________________\n",
            "dense_2 (Dense)              (None, 10)                4490      \n",
            "=================================================================\n",
            "Total params: 1,109,706\n",
            "Trainable params: 1,109,706\n",
            "Non-trainable params: 0\n",
            "_________________________________________________________________\n",
            "10000/10000 [==============================] - 1s 92us/sample - loss: 0.3721 - accuracy: 0.8941\n",
            "\n",
            "Model: \"sequential\"\n",
            "_________________________________________________________________\n",
            "Layer (type)                 Output Shape              Param #   \n",
            "=================================================================\n",
            "dense (Dense)                (None, 608)               477280    \n",
            "_________________________________________________________________\n",
            "dense_1 (Dense)              (None, 544)               331296    \n",
            "_________________________________________________________________\n",
            "dense_2 (Dense)              (None, 10)                5450      \n",
            "=================================================================\n",
            "Total params: 814,026\n",
            "Trainable params: 814,026\n",
            "Non-trainable params: 0\n",
            "_________________________________________________________________\n",
            "10000/10000 [==============================] - 1s 86us/sample - loss: 0.3178 - accuracy: 0.8932\n",
            "\n",
            "Model: \"sequential\"\n",
            "_________________________________________________________________\n",
            "Layer (type)                 Output Shape              Param #   \n",
            "=================================================================\n",
            "dense (Dense)                (None, 864)               678240    \n",
            "_________________________________________________________________\n",
            "dense_1 (Dense)              (None, 576)               498240    \n",
            "_________________________________________________________________\n",
            "dense_2 (Dense)              (None, 10)                5770      \n",
            "=================================================================\n",
            "Total params: 1,182,250\n",
            "Trainable params: 1,182,250\n",
            "Non-trainable params: 0\n",
            "_________________________________________________________________\n",
            "10000/10000 [==============================] - 1s 87us/sample - loss: 0.4195 - accuracy: 0.8946\n",
            "\n"
          ],
          "name": "stdout"
        }
      ]
    }
  ]
}