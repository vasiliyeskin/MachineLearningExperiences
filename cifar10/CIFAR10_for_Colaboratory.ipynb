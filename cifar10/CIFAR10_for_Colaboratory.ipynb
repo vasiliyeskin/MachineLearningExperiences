{
  "nbformat": 4,
  "nbformat_minor": 0,
  "metadata": {
    "colab": {
      "name": "Untitled2.ipynb",
      "provenance": [],
      "collapsed_sections": [],
      "authorship_tag": "ABX9TyPVe/QE1O1FTtt6qcbGi/MI",
      "include_colab_link": true
    },
    "kernelspec": {
      "name": "python3",
      "display_name": "Python 3"
    },
    "accelerator": "GPU"
  },
  "cells": [
    {
      "cell_type": "markdown",
      "metadata": {
        "id": "view-in-github",
        "colab_type": "text"
      },
      "source": [
        "<a href=\"https://colab.research.google.com/github/vasiliyeskin/MachineLearningExperiences/blob/master/cifar10/CIFAR10_for_Colaboratory.ipynb\" target=\"_parent\"><img src=\"https://colab.research.google.com/assets/colab-badge.svg\" alt=\"Open In Colab\"/></a>"
      ]
    },
    {
      "cell_type": "markdown",
      "metadata": {
        "id": "SeugWpo9y02e",
        "colab_type": "text"
      },
      "source": [
        "# **Свёрточная нейронная сеть CIFAR-10**"
      ]
    },
    {
      "cell_type": "code",
      "metadata": {
        "id": "hj7UmOlEzGMT",
        "colab_type": "code",
        "colab": {
          "base_uri": "https://localhost:8080/",
          "height": 356
        },
        "outputId": "b0f2c9ef-e528-4c54-fa61-d13a1f7c3f74"
      },
      "source": [
        "import numpy\n",
        "from tensorflow.keras.datasets import cifar10\n",
        "from tensorflow.keras.models import Sequential\n",
        "from tensorflow.keras.layers import Dense, Flatten, Activation\n",
        "from tensorflow.keras.layers import Dropout\n",
        "from tensorflow.keras.layers import Conv2D, MaxPooling2D\n",
        "from tensorflow.keras import utils\n",
        "from tensorflow.keras.optimizers import SGD"
      ],
      "execution_count": 15,
      "outputs": [
        {
          "output_type": "error",
          "ename": "ImportError",
          "evalue": "ignored",
          "traceback": [
            "\u001b[0;31m---------------------------------------------------------------------------\u001b[0m",
            "\u001b[0;31mImportError\u001b[0m                               Traceback (most recent call last)",
            "\u001b[0;32m<ipython-input-15-91c9c173c4fd>\u001b[0m in \u001b[0;36m<module>\u001b[0;34m()\u001b[0m\n\u001b[1;32m      5\u001b[0m \u001b[0;32mfrom\u001b[0m \u001b[0mtensorflow\u001b[0m\u001b[0;34m.\u001b[0m\u001b[0mkeras\u001b[0m\u001b[0;34m.\u001b[0m\u001b[0mlayers\u001b[0m \u001b[0;32mimport\u001b[0m \u001b[0mDropout\u001b[0m\u001b[0;34m\u001b[0m\u001b[0;34m\u001b[0m\u001b[0m\n\u001b[1;32m      6\u001b[0m \u001b[0;32mfrom\u001b[0m \u001b[0mtensorflow\u001b[0m\u001b[0;34m.\u001b[0m\u001b[0mkeras\u001b[0m\u001b[0;34m.\u001b[0m\u001b[0mlayers\u001b[0m \u001b[0;32mimport\u001b[0m \u001b[0mConv2D\u001b[0m\u001b[0;34m,\u001b[0m \u001b[0mMaxPooling2D\u001b[0m\u001b[0;34m\u001b[0m\u001b[0;34m\u001b[0m\u001b[0m\n\u001b[0;32m----> 7\u001b[0;31m \u001b[0;32mfrom\u001b[0m \u001b[0mtensorflow\u001b[0m\u001b[0;34m.\u001b[0m\u001b[0mkeras\u001b[0m\u001b[0;34m.\u001b[0m\u001b[0mutils\u001b[0m \u001b[0;32mimport\u001b[0m \u001b[0mnp_utils\u001b[0m\u001b[0;34m\u001b[0m\u001b[0;34m\u001b[0m\u001b[0m\n\u001b[0m\u001b[1;32m      8\u001b[0m \u001b[0;32mfrom\u001b[0m \u001b[0mtensorflow\u001b[0m\u001b[0;34m.\u001b[0m\u001b[0mkeras\u001b[0m\u001b[0;34m.\u001b[0m\u001b[0moptimizers\u001b[0m \u001b[0;32mimport\u001b[0m \u001b[0mSGD\u001b[0m\u001b[0;34m\u001b[0m\u001b[0;34m\u001b[0m\u001b[0m\n",
            "\u001b[0;31mImportError\u001b[0m: cannot import name 'np_utils'",
            "",
            "\u001b[0;31m---------------------------------------------------------------------------\u001b[0;32m\nNOTE: If your import is failing due to a missing package, you can\nmanually install dependencies using either !pip or !apt.\n\nTo view examples of installing some common dependencies, click the\n\"Open Examples\" button below.\n\u001b[0;31m---------------------------------------------------------------------------\u001b[0m\n"
          ]
        }
      ]
    },
    {
      "cell_type": "code",
      "metadata": {
        "id": "-kqjwMDhzTlq",
        "colab_type": "code",
        "colab": {}
      },
      "source": [
        "# Задаем seed для повторяемости результатов\n",
        "numpy.random.seed(42)"
      ],
      "execution_count": 2,
      "outputs": []
    },
    {
      "cell_type": "code",
      "metadata": {
        "id": "vB20c2ntzWbE",
        "colab_type": "code",
        "colab": {
          "base_uri": "https://localhost:8080/",
          "height": 52
        },
        "outputId": "34853a6f-1a23-45d1-c0c7-bc0c71f88f48"
      },
      "source": [
        "# Загружаем данные\n",
        "(X_train, y_train), (X_test, y_test) = cifar10.load_data()\n",
        "# Размер мини-выборки\n",
        "batch_size = 32\n",
        "# Количество классов изображений\n",
        "nb_classes = 10\n",
        "# Количество эпох для обучения\n",
        "nb_epoch = 25\n",
        "# Размер изображений\n",
        "img_rows, img_cols = 32, 32\n",
        "# Количество каналов в изображении: RGB\n",
        "img_channels = 3"
      ],
      "execution_count": 3,
      "outputs": [
        {
          "output_type": "stream",
          "text": [
            "Downloading data from https://www.cs.toronto.edu/~kriz/cifar-10-python.tar.gz\n",
            "170500096/170498071 [==============================] - 3s 0us/step\n"
          ],
          "name": "stdout"
        }
      ]
    },
    {
      "cell_type": "code",
      "metadata": {
        "id": "H3txi8Zzzcjt",
        "colab_type": "code",
        "colab": {}
      },
      "source": [
        "# Нормализуем данные\n",
        "X_train = X_train.astype('float32')\n",
        "X_test = X_test.astype('float32')\n",
        "X_train = X_train / 255\n",
        "X_test = X_test / 255 "
      ],
      "execution_count": 7,
      "outputs": []
    },
    {
      "cell_type": "code",
      "metadata": {
        "id": "H1u17kEj9vnR",
        "colab_type": "code",
        "colab": {}
      },
      "source": [
        ""
      ],
      "execution_count": null,
      "outputs": []
    },
    {
      "cell_type": "code",
      "metadata": {
        "id": "Uuvr0XjCzh8A",
        "colab_type": "code",
        "colab": {}
      },
      "source": [
        "# Преобразуем метки в категории\n",
        "Y_train = utils.to_categorical(y_train, nb_classes)\n",
        "Y_test  = utils.to_categorical(y_test, nb_classes)"
      ],
      "execution_count": 8,
      "outputs": []
    },
    {
      "cell_type": "markdown",
      "metadata": {
        "id": "acqdmdtBzxLN",
        "colab_type": "text"
      },
      "source": [
        "## Создание модели"
      ]
    },
    {
      "cell_type": "code",
      "metadata": {
        "id": "g3ie50gkzpAz",
        "colab_type": "code",
        "colab": {}
      },
      "source": [
        "# Создаем последовательную модель\n",
        "model = Sequential()\n",
        "# Первый сверточный слой: 32 карты признаков, ядро свёртки 3x3, размер входных данных 32x32 в 3 канала\n",
        "model.add(Conv2D(filters=32, kernel_size=(3, 3), padding='valid',\n",
        "                        input_shape=(32, 32, 3), activation='relu',data_format=\"channels_last\"))\n",
        "# Второй сверточный слой\n",
        "model.add(Conv2D(filters=32, kernel_size=(3, 3), activation='relu', padding='valid',data_format=\"channels_last\"))\n",
        "# Первый слой подвыборки: размер уменьшения слоя 2x2 с выбором максимального значения из этого квадрата\n",
        "model.add(MaxPooling2D(pool_size=(2, 2),data_format=\"channels_last\"))\n",
        "# Слой регуляризации Dropout: при обучении случайным образом выключается 25% неронов - необходимо для предотвращения переобучения\n",
        "model.add(Dropout(0.25))\n",
        "\n",
        "# Третий сверточный слой\n",
        "model.add(Conv2D(filters=64, kernel_size=(3, 3), padding='valid', activation='relu',data_format=\"channels_last\"))\n",
        "# Четвертый сверточный слой\n",
        "model.add(Conv2D(filters=64, kernel_size=(3, 3), activation='relu',data_format=\"channels_last\"))\n",
        "# Второй слой подвыборки\n",
        "model.add(MaxPooling2D(pool_size=(2, 2),data_format=\"channels_last\"))\n",
        "# Слой регуляризации Dropout\n",
        "model.add(Dropout(0.25))\n",
        "# Слой преобразования данных из 2D представления в плоское\n",
        "model.add(Flatten())\n",
        "# Полносвязный слой для классификации\n",
        "model.add(Dense(512, activation='relu'))\n",
        "# Слой регуляризации Dropout\n",
        "model.add(Dropout(0.5))\n",
        "# Выходной полносвязный слой\n",
        "model.add(Dense(nb_classes, activation='softmax'))"
      ],
      "execution_count": 10,
      "outputs": []
    },
    {
      "cell_type": "code",
      "metadata": {
        "id": "ngyj1uTu2xAh",
        "colab_type": "code",
        "colab": {}
      },
      "source": [
        "\n",
        "# Задаем параметры оптимизации\n",
        "sgd = SGD(lr=0.01, decay=1e-6, momentum=0.9, nesterov=True)\n",
        "model.compile(loss='categorical_crossentropy',\n",
        "              optimizer=sgd,\n",
        "              metrics=['accuracy'])"
      ],
      "execution_count": 11,
      "outputs": []
    },
    {
      "cell_type": "code",
      "metadata": {
        "id": "fzhqXtuN24Za",
        "colab_type": "code",
        "colab": {
          "base_uri": "https://localhost:8080/",
          "height": 916
        },
        "outputId": "fc2bac14-65e5-4761-de1e-0d59401019df"
      },
      "source": [
        "# Обучаем модель\n",
        "model.fit(X_train, Y_train,\n",
        "              batch_size=batch_size,\n",
        "              epochs=nb_epoch,\n",
        "              validation_split=0.1,\n",
        "              shuffle=True,        # перемешивание данных перед каждой эпохой обучения\n",
        "              verbose=2)"
      ],
      "execution_count": 12,
      "outputs": [
        {
          "output_type": "stream",
          "text": [
            "Train on 45000 samples, validate on 5000 samples\n",
            "Epoch 1/25\n",
            " - 14s - loss: 2.3037 - accuracy: 0.0984 - val_loss: 2.3044 - val_accuracy: 0.0970\n",
            "Epoch 2/25\n",
            " - 7s - loss: 2.3034 - accuracy: 0.1006 - val_loss: 2.3032 - val_accuracy: 0.1024\n",
            "Epoch 3/25\n",
            " - 7s - loss: 2.3036 - accuracy: 0.0979 - val_loss: 2.3029 - val_accuracy: 0.0958\n",
            "Epoch 4/25\n",
            " - 7s - loss: 2.3033 - accuracy: 0.1008 - val_loss: 2.3042 - val_accuracy: 0.0986\n",
            "Epoch 5/25\n",
            " - 7s - loss: 2.3033 - accuracy: 0.1007 - val_loss: 2.3032 - val_accuracy: 0.0970\n",
            "Epoch 6/25\n",
            " - 7s - loss: 2.3033 - accuracy: 0.0996 - val_loss: 2.3037 - val_accuracy: 0.0970\n",
            "Epoch 7/25\n",
            " - 7s - loss: 2.3034 - accuracy: 0.0983 - val_loss: 2.3041 - val_accuracy: 0.0950\n",
            "Epoch 8/25\n",
            " - 7s - loss: 2.3033 - accuracy: 0.0987 - val_loss: 2.3034 - val_accuracy: 0.0986\n",
            "Epoch 9/25\n",
            " - 7s - loss: 2.3033 - accuracy: 0.0998 - val_loss: 2.3041 - val_accuracy: 0.0958\n",
            "Epoch 10/25\n",
            " - 7s - loss: 2.3033 - accuracy: 0.0982 - val_loss: 2.3032 - val_accuracy: 0.0950\n",
            "Epoch 11/25\n",
            " - 7s - loss: 2.3033 - accuracy: 0.0983 - val_loss: 2.3027 - val_accuracy: 0.1064\n",
            "Epoch 12/25\n",
            " - 7s - loss: 2.3034 - accuracy: 0.0981 - val_loss: 2.3026 - val_accuracy: 0.0976\n",
            "Epoch 13/25\n",
            " - 7s - loss: 2.3033 - accuracy: 0.1011 - val_loss: 2.3045 - val_accuracy: 0.0958\n",
            "Epoch 14/25\n",
            " - 7s - loss: 2.3034 - accuracy: 0.0975 - val_loss: 2.3049 - val_accuracy: 0.0976\n",
            "Epoch 15/25\n",
            " - 7s - loss: 2.3033 - accuracy: 0.0992 - val_loss: 2.3043 - val_accuracy: 0.0970\n",
            "Epoch 16/25\n",
            " - 7s - loss: 2.3033 - accuracy: 0.0990 - val_loss: 2.3041 - val_accuracy: 0.0950\n",
            "Epoch 17/25\n",
            " - 7s - loss: 2.3034 - accuracy: 0.0985 - val_loss: 2.3035 - val_accuracy: 0.0976\n",
            "Epoch 18/25\n",
            " - 7s - loss: 2.3033 - accuracy: 0.0997 - val_loss: 2.3035 - val_accuracy: 0.1024\n",
            "Epoch 19/25\n",
            " - 7s - loss: 2.3035 - accuracy: 0.0986 - val_loss: 2.3030 - val_accuracy: 0.1038\n",
            "Epoch 20/25\n",
            " - 7s - loss: 2.3033 - accuracy: 0.1001 - val_loss: 2.3041 - val_accuracy: 0.0950\n",
            "Epoch 21/25\n",
            " - 7s - loss: 2.3035 - accuracy: 0.0973 - val_loss: 2.3029 - val_accuracy: 0.1024\n",
            "Epoch 22/25\n",
            " - 7s - loss: 2.3034 - accuracy: 0.0982 - val_loss: 2.3036 - val_accuracy: 0.0950\n",
            "Epoch 23/25\n",
            " - 7s - loss: 2.3034 - accuracy: 0.1001 - val_loss: 2.3048 - val_accuracy: 0.0976\n",
            "Epoch 24/25\n",
            " - 7s - loss: 2.3034 - accuracy: 0.0998 - val_loss: 2.3037 - val_accuracy: 0.0976\n",
            "Epoch 25/25\n",
            " - 7s - loss: 2.3033 - accuracy: 0.0989 - val_loss: 2.3040 - val_accuracy: 0.0976\n"
          ],
          "name": "stdout"
        },
        {
          "output_type": "execute_result",
          "data": {
            "text/plain": [
              "<keras.callbacks.callbacks.History at 0x7f6ee035fef0>"
            ]
          },
          "metadata": {
            "tags": []
          },
          "execution_count": 12
        }
      ]
    },
    {
      "cell_type": "code",
      "metadata": {
        "id": "RCdc087b4PVh",
        "colab_type": "code",
        "colab": {
          "base_uri": "https://localhost:8080/",
          "height": 34
        },
        "outputId": "c1fd84f8-5f91-4085-eefa-1be57b47fb44"
      },
      "source": [
        "# Оцениваем качество обучения модели на тестовых данных\n",
        "scores = model.evaluate(X_test, Y_test, verbose=0)\n",
        "print(\"Точность работы на тестовых данных: %.2f%%\" % (scores[1]*100))"
      ],
      "execution_count": 13,
      "outputs": [
        {
          "output_type": "stream",
          "text": [
            "Точность работы на тестовых данных: 10.00%\n"
          ],
          "name": "stdout"
        }
      ]
    },
    {
      "cell_type": "code",
      "metadata": {
        "id": "iCD0-uZU4QYZ",
        "colab_type": "code",
        "colab": {}
      },
      "source": [
        "print(\"Сохраняем сеть\")\n",
        "# Сохраняем сеть для последующего использования\n",
        "# Генерируем описание модели в формате json\n",
        "model_json = model.to_json()\n",
        "json_file = open(\"cifar10_model.json\", \"w\")\n",
        "# Записываем архитектуру сети в файл\n",
        "json_file.write(model_json)\n",
        "json_file.close()\n",
        "# Записываем данные о весах в файл\n",
        "model.save_weights(\"cifar10_model.h5\")\n",
        "print(\"Сохранение сети завершено\")"
      ],
      "execution_count": null,
      "outputs": []
    }
  ]
}