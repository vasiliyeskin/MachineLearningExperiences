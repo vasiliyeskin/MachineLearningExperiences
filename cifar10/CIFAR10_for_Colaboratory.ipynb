{
  "nbformat": 4,
  "nbformat_minor": 0,
  "metadata": {
    "colab": {
      "name": "Untitled2.ipynb",
      "provenance": [],
      "collapsed_sections": [],
      "authorship_tag": "ABX9TyME0asJEBWEcJYR9X3+00/q",
      "include_colab_link": true
    },
    "kernelspec": {
      "name": "python3",
      "display_name": "Python 3"
    },
    "accelerator": "GPU"
  },
  "cells": [
    {
      "cell_type": "markdown",
      "metadata": {
        "id": "view-in-github",
        "colab_type": "text"
      },
      "source": [
        "<a href=\"https://colab.research.google.com/github/vasiliyeskin/MachineLearningExperiences/blob/master/cifar10/CIFAR10_for_Colaboratory.ipynb\" target=\"_parent\"><img src=\"https://colab.research.google.com/assets/colab-badge.svg\" alt=\"Open In Colab\"/></a>"
      ]
    },
    {
      "cell_type": "markdown",
      "metadata": {
        "id": "SeugWpo9y02e",
        "colab_type": "text"
      },
      "source": [
        "# **Свёрточная нейронная сеть CIFAR-10**"
      ]
    },
    {
      "cell_type": "code",
      "metadata": {
        "id": "hj7UmOlEzGMT",
        "colab_type": "code",
        "colab": {}
      },
      "source": [
        "import numpy\n",
        "from tensorflow.keras.datasets import cifar10\n",
        "from tensorflow.keras.models import Sequential\n",
        "from tensorflow.keras.layers import Dense, Flatten, Activation\n",
        "from tensorflow.keras.layers import Dropout\n",
        "from tensorflow.keras.layers import Conv2D, MaxPooling2D\n",
        "from tensorflow.keras import utils\n",
        "from tensorflow.keras.optimizers import SGD"
      ],
      "execution_count": 17,
      "outputs": []
    },
    {
      "cell_type": "code",
      "metadata": {
        "id": "-kqjwMDhzTlq",
        "colab_type": "code",
        "colab": {}
      },
      "source": [
        "# Задаем seed для повторяемости результатов\n",
        "numpy.random.seed(42)"
      ],
      "execution_count": 18,
      "outputs": []
    },
    {
      "cell_type": "code",
      "metadata": {
        "id": "vB20c2ntzWbE",
        "colab_type": "code",
        "colab": {}
      },
      "source": [
        "# Загружаем данные\n",
        "(X_train, y_train), (X_test, y_test) = cifar10.load_data()\n",
        "# Размер мини-выборки\n",
        "batch_size = 32\n",
        "# Количество классов изображений\n",
        "nb_classes = 10\n",
        "# Количество эпох для обучения\n",
        "nb_epoch = 25\n",
        "# Размер изображений\n",
        "img_rows, img_cols = 32, 32\n",
        "# Количество каналов в изображении: RGB\n",
        "img_channels = 3"
      ],
      "execution_count": 19,
      "outputs": []
    },
    {
      "cell_type": "code",
      "metadata": {
        "id": "H3txi8Zzzcjt",
        "colab_type": "code",
        "colab": {}
      },
      "source": [
        "# Нормализуем данные\n",
        "X_train = X_train.astype('float32')\n",
        "X_test = X_test.astype('float32')\n",
        "X_train = X_train / 255\n",
        "X_test = X_test / 255 "
      ],
      "execution_count": 20,
      "outputs": []
    },
    {
      "cell_type": "code",
      "metadata": {
        "id": "Uuvr0XjCzh8A",
        "colab_type": "code",
        "colab": {}
      },
      "source": [
        "# Преобразуем метки в категории\n",
        "Y_train = utils.to_categorical(y_train, nb_classes)\n",
        "Y_test  = utils.to_categorical(y_test, nb_classes)"
      ],
      "execution_count": 21,
      "outputs": []
    },
    {
      "cell_type": "markdown",
      "metadata": {
        "id": "acqdmdtBzxLN",
        "colab_type": "text"
      },
      "source": [
        "## Создание модели"
      ]
    },
    {
      "cell_type": "code",
      "metadata": {
        "id": "g3ie50gkzpAz",
        "colab_type": "code",
        "colab": {}
      },
      "source": [
        "# Создаем последовательную модель\n",
        "model = Sequential()\n",
        "# Первый сверточный слой: 32 карты признаков, ядро свёртки 3x3, размер входных данных 32x32 в 3 канала\n",
        "model.add(Conv2D(filters=32, kernel_size=(3, 3), padding='valid',\n",
        "                        input_shape=(32, 32, 3), activation='relu',data_format=\"channels_last\"))\n",
        "# Второй сверточный слой\n",
        "model.add(Conv2D(filters=32, kernel_size=(3, 3), activation='relu', padding='valid',data_format=\"channels_last\"))\n",
        "# Первый слой подвыборки: размер уменьшения слоя 2x2 с выбором максимального значения из этого квадрата\n",
        "model.add(MaxPooling2D(pool_size=(2, 2),data_format=\"channels_last\"))\n",
        "# Слой регуляризации Dropout: при обучении случайным образом выключается 25% неронов - необходимо для предотвращения переобучения\n",
        "model.add(Dropout(0.25))\n",
        "\n",
        "# Третий сверточный слой\n",
        "model.add(Conv2D(filters=64, kernel_size=(3, 3), padding='valid', activation='relu',data_format=\"channels_last\"))\n",
        "# Четвертый сверточный слой\n",
        "model.add(Conv2D(filters=64, kernel_size=(3, 3), activation='relu',data_format=\"channels_last\"))\n",
        "# Второй слой подвыборки\n",
        "model.add(MaxPooling2D(pool_size=(2, 2),data_format=\"channels_last\"))\n",
        "# Слой регуляризации Dropout\n",
        "model.add(Dropout(0.25))\n",
        "# Слой преобразования данных из 2D представления в плоское\n",
        "model.add(Flatten())\n",
        "# Полносвязный слой для классификации\n",
        "model.add(Dense(512, activation='relu'))\n",
        "# Слой регуляризации Dropout\n",
        "model.add(Dropout(0.5))\n",
        "# Выходной полносвязный слой\n",
        "model.add(Dense(nb_classes, activation='softmax'))"
      ],
      "execution_count": 22,
      "outputs": []
    },
    {
      "cell_type": "code",
      "metadata": {
        "id": "ngyj1uTu2xAh",
        "colab_type": "code",
        "colab": {}
      },
      "source": [
        "\n",
        "# Задаем параметры оптимизации\n",
        "sgd = SGD(lr=0.01, decay=1e-6, momentum=0.9, nesterov=True)\n",
        "model.compile(loss='categorical_crossentropy',\n",
        "              optimizer=sgd,\n",
        "              metrics=['accuracy'])"
      ],
      "execution_count": 23,
      "outputs": []
    },
    {
      "cell_type": "code",
      "metadata": {
        "id": "fzhqXtuN24Za",
        "colab_type": "code",
        "colab": {
          "base_uri": "https://localhost:8080/",
          "height": 898
        },
        "outputId": "8da826d3-7b13-43e2-b341-1bbfbb37efbf"
      },
      "source": [
        "# Обучаем модель\n",
        "model.fit(X_train, Y_train,\n",
        "              batch_size=batch_size,\n",
        "              epochs=nb_epoch,\n",
        "              validation_split=0.1,\n",
        "              shuffle=True,        # перемешивание данных перед каждой эпохой обучения\n",
        "              verbose=2)"
      ],
      "execution_count": 24,
      "outputs": [
        {
          "output_type": "stream",
          "text": [
            "Epoch 1/25\n",
            "1407/1407 - 6s - loss: 1.7998 - accuracy: 0.3387 - val_loss: 1.3995 - val_accuracy: 0.4900\n",
            "Epoch 2/25\n",
            "1407/1407 - 6s - loss: 1.3713 - accuracy: 0.5039 - val_loss: 1.2020 - val_accuracy: 0.5598\n",
            "Epoch 3/25\n",
            "1407/1407 - 6s - loss: 1.2105 - accuracy: 0.5653 - val_loss: 1.0587 - val_accuracy: 0.6256\n",
            "Epoch 4/25\n",
            "1407/1407 - 6s - loss: 1.0931 - accuracy: 0.6138 - val_loss: 0.9794 - val_accuracy: 0.6624\n",
            "Epoch 5/25\n",
            "1407/1407 - 6s - loss: 1.0096 - accuracy: 0.6444 - val_loss: 0.9611 - val_accuracy: 0.6590\n",
            "Epoch 6/25\n",
            "1407/1407 - 6s - loss: 0.9552 - accuracy: 0.6627 - val_loss: 0.7893 - val_accuracy: 0.7262\n",
            "Epoch 7/25\n",
            "1407/1407 - 6s - loss: 0.9020 - accuracy: 0.6796 - val_loss: 0.8250 - val_accuracy: 0.7142\n",
            "Epoch 8/25\n",
            "1407/1407 - 6s - loss: 0.8700 - accuracy: 0.6951 - val_loss: 0.7456 - val_accuracy: 0.7422\n",
            "Epoch 9/25\n",
            "1407/1407 - 6s - loss: 0.8463 - accuracy: 0.7029 - val_loss: 0.8419 - val_accuracy: 0.7098\n",
            "Epoch 10/25\n",
            "1407/1407 - 6s - loss: 0.8253 - accuracy: 0.7109 - val_loss: 0.7639 - val_accuracy: 0.7376\n",
            "Epoch 11/25\n",
            "1407/1407 - 6s - loss: 0.8062 - accuracy: 0.7190 - val_loss: 0.7594 - val_accuracy: 0.7354\n",
            "Epoch 12/25\n",
            "1407/1407 - 6s - loss: 0.7855 - accuracy: 0.7262 - val_loss: 0.7358 - val_accuracy: 0.7486\n",
            "Epoch 13/25\n",
            "1407/1407 - 6s - loss: 0.7651 - accuracy: 0.7336 - val_loss: 0.6945 - val_accuracy: 0.7606\n",
            "Epoch 14/25\n",
            "1407/1407 - 6s - loss: 0.7578 - accuracy: 0.7364 - val_loss: 0.7276 - val_accuracy: 0.7472\n",
            "Epoch 15/25\n",
            "1407/1407 - 6s - loss: 0.7380 - accuracy: 0.7413 - val_loss: 0.7415 - val_accuracy: 0.7480\n",
            "Epoch 16/25\n",
            "1407/1407 - 6s - loss: 0.7342 - accuracy: 0.7441 - val_loss: 0.7061 - val_accuracy: 0.7544\n",
            "Epoch 17/25\n",
            "1407/1407 - 6s - loss: 0.7370 - accuracy: 0.7440 - val_loss: 0.7333 - val_accuracy: 0.7500\n",
            "Epoch 18/25\n",
            "1407/1407 - 6s - loss: 0.7164 - accuracy: 0.7476 - val_loss: 0.7583 - val_accuracy: 0.7368\n",
            "Epoch 19/25\n",
            "1407/1407 - 6s - loss: 0.7048 - accuracy: 0.7545 - val_loss: 0.7304 - val_accuracy: 0.7570\n",
            "Epoch 20/25\n",
            "1407/1407 - 6s - loss: 0.6967 - accuracy: 0.7585 - val_loss: 0.6832 - val_accuracy: 0.7692\n",
            "Epoch 21/25\n",
            "1407/1407 - 6s - loss: 0.6978 - accuracy: 0.7576 - val_loss: 0.7420 - val_accuracy: 0.7496\n",
            "Epoch 22/25\n",
            "1407/1407 - 6s - loss: 0.6952 - accuracy: 0.7566 - val_loss: 0.7186 - val_accuracy: 0.7518\n",
            "Epoch 23/25\n",
            "1407/1407 - 6s - loss: 0.6852 - accuracy: 0.7633 - val_loss: 0.7209 - val_accuracy: 0.7576\n",
            "Epoch 24/25\n",
            "1407/1407 - 6s - loss: 0.6873 - accuracy: 0.7626 - val_loss: 0.7220 - val_accuracy: 0.7582\n",
            "Epoch 25/25\n",
            "1407/1407 - 6s - loss: 0.6792 - accuracy: 0.7643 - val_loss: 0.6866 - val_accuracy: 0.7666\n"
          ],
          "name": "stdout"
        },
        {
          "output_type": "execute_result",
          "data": {
            "text/plain": [
              "<tensorflow.python.keras.callbacks.History at 0x7f6e96038278>"
            ]
          },
          "metadata": {
            "tags": []
          },
          "execution_count": 24
        }
      ]
    },
    {
      "cell_type": "code",
      "metadata": {
        "id": "RCdc087b4PVh",
        "colab_type": "code",
        "colab": {
          "base_uri": "https://localhost:8080/",
          "height": 34
        },
        "outputId": "e8da1045-8813-4ae8-9eff-e529890200d3"
      },
      "source": [
        "# Оцениваем качество обучения модели на тестовых данных\n",
        "scores = model.evaluate(X_test, Y_test, verbose=0)\n",
        "print(\"Точность работы на тестовых данных: %.2f%%\" % (scores[1]*100))"
      ],
      "execution_count": 25,
      "outputs": [
        {
          "output_type": "stream",
          "text": [
            "Точность работы на тестовых данных: 75.85%\n"
          ],
          "name": "stdout"
        }
      ]
    },
    {
      "cell_type": "code",
      "metadata": {
        "id": "iCD0-uZU4QYZ",
        "colab_type": "code",
        "colab": {
          "base_uri": "https://localhost:8080/",
          "height": 52
        },
        "outputId": "0667baae-1b52-484c-d3dd-404bd1610115"
      },
      "source": [
        "print(\"Сохраняем сеть\")\n",
        "# Сохраняем сеть для последующего использования\n",
        "# Генерируем описание модели в формате json\n",
        "model_json = model.to_json()\n",
        "json_file = open(\"cifar10_model.json\", \"w\")\n",
        "# Записываем архитектуру сети в файл\n",
        "json_file.write(model_json)\n",
        "json_file.close()\n",
        "# Записываем данные о весах в файл\n",
        "model.save_weights(\"cifar10_model.h5\")\n",
        "print(\"Сохранение сети завершено\")"
      ],
      "execution_count": 26,
      "outputs": [
        {
          "output_type": "stream",
          "text": [
            "Сохраняем сеть\n",
            "Сохранение сети завершено\n"
          ],
          "name": "stdout"
        }
      ]
    }
  ]
}